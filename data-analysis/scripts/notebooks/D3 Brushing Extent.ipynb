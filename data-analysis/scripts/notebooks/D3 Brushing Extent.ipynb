{
 "cells": [
  {
   "cell_type": "markdown",
   "metadata": {},
   "source": [
    "### Getting extent of brushing for graph.json"
   ]
  },
  {
   "cell_type": "code",
   "execution_count": 1,
   "metadata": {},
   "outputs": [],
   "source": [
    "import json"
   ]
  },
  {
   "cell_type": "code",
   "execution_count": 2,
   "metadata": {},
   "outputs": [],
   "source": [
    "with open('graph.json') as f:\n",
    "  data = json.load(f)"
   ]
  },
  {
   "cell_type": "code",
   "execution_count": 5,
   "metadata": {},
   "outputs": [],
   "source": [
    "lowestX = 0\n",
    "highestX = 0\n",
    "lowestY = 0\n",
    "highestY = 0\n",
    "for node in data[\"nodes\"]:\n",
    "    if node['x'] < lowestX:\n",
    "        lowestX = node['x']\n",
    "    if node['y'] < lowestY:\n",
    "        lowestY = node['y']\n",
    "    if node['x'] > highestX:\n",
    "        highestX = node['x']\n",
    "    if node['y'] > highestY:\n",
    "        highestY = node['y']"
   ]
  },
  {
   "cell_type": "code",
   "execution_count": 16,
   "metadata": {},
   "outputs": [
    {
     "name": "stdout",
     "output_type": "stream",
     "text": [
      "-736.0 -729.0\n",
      "2731.0 2732.0\n"
     ]
    }
   ],
   "source": [
    "print(lowestX//1 - 100, lowestY//1 - 100)\n",
    "print(highestX//1 + 100, highestY//1 + 100)"
   ]
  },
  {
   "cell_type": "code",
   "execution_count": null,
   "metadata": {},
   "outputs": [],
   "source": []
  }
 ],
 "metadata": {
  "kernelspec": {
   "display_name": "Python 3",
   "language": "python",
   "name": "python3"
  },
  "language_info": {
   "codemirror_mode": {
    "name": "ipython",
    "version": 3
   },
   "file_extension": ".py",
   "mimetype": "text/x-python",
   "name": "python",
   "nbconvert_exporter": "python",
   "pygments_lexer": "ipython3",
   "version": "3.7.3"
  }
 },
 "nbformat": 4,
 "nbformat_minor": 2
}
