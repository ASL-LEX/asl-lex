{
 "cells": [
  {
   "cell_type": "markdown",
   "metadata": {},
   "source": [
    "## This notebook assumes you have the following packages installed in your conda environment."
   ]
  },
  {
   "cell_type": "code",
   "execution_count": 1,
   "metadata": {},
   "outputs": [],
   "source": [
    "import pandas as pd\n",
    "import json\n",
    "import community\n",
    "import networkx as nx\n",
    "import matplotlib.pyplot as plt\n",
    "import pandas as pd\n",
    "import random\n",
    "import numpy as np\n",
    "import randomcolor"
   ]
  },
  {
   "cell_type": "code",
   "execution_count": 2,
   "metadata": {},
   "outputs": [
    {
     "data": {
      "text/plain": [
       "(2723, 187)"
      ]
     },
     "execution_count": 2,
     "metadata": {},
     "output_type": "execute_result"
    }
   ],
   "source": [
    "df_default = pd.read_csv('../data/signdata-2020-09-08.csv')\n",
    "df_default.shape\n"
   ]
  },
  {
   "cell_type": "code",
   "execution_count": 3,
   "metadata": {},
   "outputs": [
    {
     "data": {
      "text/html": [
       "<div>\n",
       "<style scoped>\n",
       "    .dataframe tbody tr th:only-of-type {\n",
       "        vertical-align: middle;\n",
       "    }\n",
       "\n",
       "    .dataframe tbody tr th {\n",
       "        vertical-align: top;\n",
       "    }\n",
       "\n",
       "    .dataframe thead th {\n",
       "        text-align: right;\n",
       "    }\n",
       "</style>\n",
       "<table border=\"1\" class=\"dataframe\">\n",
       "  <thead>\n",
       "    <tr style=\"text-align: right;\">\n",
       "      <th></th>\n",
       "      <th>EntryID</th>\n",
       "      <th>LemmaID</th>\n",
       "      <th>Code</th>\n",
       "      <th>YouTube Video</th>\n",
       "      <th>VimeoVideo</th>\n",
       "    </tr>\n",
       "  </thead>\n",
       "  <tbody>\n",
       "    <tr>\n",
       "      <th>0</th>\n",
       "      <td>1_dollar</td>\n",
       "      <td>1_dollar</td>\n",
       "      <td>C_02_025</td>\n",
       "      <td>&lt;iframe width=\"280\" height=\"158\" src=\"https://...</td>\n",
       "      <td>https://player.vimeo.com/video/345587917</td>\n",
       "    </tr>\n",
       "    <tr>\n",
       "      <th>1</th>\n",
       "      <td>5_dollars</td>\n",
       "      <td>5_dollars</td>\n",
       "      <td>B_01_062</td>\n",
       "      <td>&lt;iframe width=\"280\" height=\"158\" src=\"https://...</td>\n",
       "      <td>https://player.vimeo.com/video/344399314</td>\n",
       "    </tr>\n",
       "    <tr>\n",
       "      <th>2</th>\n",
       "      <td>8_hour</td>\n",
       "      <td>8_hour</td>\n",
       "      <td>C_02_055</td>\n",
       "      <td>&lt;iframe width=\"280\" height=\"158\" src=\"https://...</td>\n",
       "      <td>https://player.vimeo.com/video/345588916</td>\n",
       "    </tr>\n",
       "    <tr>\n",
       "      <th>3</th>\n",
       "      <td>9_oclock</td>\n",
       "      <td>9_oclock</td>\n",
       "      <td>C_02_080</td>\n",
       "      <td>&lt;iframe width=\"280\" height=\"158\" src=\"https://...</td>\n",
       "      <td>https://player.vimeo.com/video/345589804</td>\n",
       "    </tr>\n",
       "    <tr>\n",
       "      <th>4</th>\n",
       "      <td>a-line_bob</td>\n",
       "      <td>a-line_bob</td>\n",
       "      <td>K_03_127</td>\n",
       "      <td>NaN</td>\n",
       "      <td>https://player.vimeo.com/video/342308099</td>\n",
       "    </tr>\n",
       "    <tr>\n",
       "      <th>...</th>\n",
       "      <td>...</td>\n",
       "      <td>...</td>\n",
       "      <td>...</td>\n",
       "      <td>...</td>\n",
       "      <td>...</td>\n",
       "    </tr>\n",
       "    <tr>\n",
       "      <th>2718</th>\n",
       "      <td>zero</td>\n",
       "      <td>zero</td>\n",
       "      <td>D_03_036</td>\n",
       "      <td>&lt;iframe width=\"280\" height=\"158\" src=\"https://...</td>\n",
       "      <td>https://player.vimeo.com/video/345983725</td>\n",
       "    </tr>\n",
       "    <tr>\n",
       "      <th>2719</th>\n",
       "      <td>zipper</td>\n",
       "      <td>zipper</td>\n",
       "      <td>D_01_034</td>\n",
       "      <td>&lt;iframe width=\"280\" height=\"158\" src=\"https://...</td>\n",
       "      <td>https://player.vimeo.com/video/345804301</td>\n",
       "    </tr>\n",
       "    <tr>\n",
       "      <th>2720</th>\n",
       "      <td>zoo</td>\n",
       "      <td>zoo</td>\n",
       "      <td>E_03_042</td>\n",
       "      <td>&lt;iframe width=\"280\" height=\"158\" src=\"https://...</td>\n",
       "      <td>https://player.vimeo.com/video/346067693</td>\n",
       "    </tr>\n",
       "    <tr>\n",
       "      <th>2721</th>\n",
       "      <td>zoom_in</td>\n",
       "      <td>zoom_in</td>\n",
       "      <td>B_02_056</td>\n",
       "      <td>&lt;iframe width=\"280\" height=\"158\" src=\"https://...</td>\n",
       "      <td>https://player.vimeo.com/video/345555455</td>\n",
       "    </tr>\n",
       "    <tr>\n",
       "      <th>2722</th>\n",
       "      <td>zoom_off</td>\n",
       "      <td>zoom_off</td>\n",
       "      <td>D_01_057</td>\n",
       "      <td>&lt;iframe width=\"280\" height=\"158\" src=\"https://...</td>\n",
       "      <td>https://player.vimeo.com/video/345805379</td>\n",
       "    </tr>\n",
       "  </tbody>\n",
       "</table>\n",
       "<p>2723 rows × 5 columns</p>\n",
       "</div>"
      ],
      "text/plain": [
       "         EntryID     LemmaID      Code  \\\n",
       "0       1_dollar    1_dollar  C_02_025   \n",
       "1      5_dollars   5_dollars  B_01_062   \n",
       "2         8_hour      8_hour  C_02_055   \n",
       "3       9_oclock    9_oclock  C_02_080   \n",
       "4     a-line_bob  a-line_bob  K_03_127   \n",
       "...          ...         ...       ...   \n",
       "2718        zero        zero  D_03_036   \n",
       "2719      zipper      zipper  D_01_034   \n",
       "2720         zoo         zoo  E_03_042   \n",
       "2721     zoom_in     zoom_in  B_02_056   \n",
       "2722    zoom_off    zoom_off  D_01_057   \n",
       "\n",
       "                                          YouTube Video  \\\n",
       "0     <iframe width=\"280\" height=\"158\" src=\"https://...   \n",
       "1     <iframe width=\"280\" height=\"158\" src=\"https://...   \n",
       "2     <iframe width=\"280\" height=\"158\" src=\"https://...   \n",
       "3     <iframe width=\"280\" height=\"158\" src=\"https://...   \n",
       "4                                                   NaN   \n",
       "...                                                 ...   \n",
       "2718  <iframe width=\"280\" height=\"158\" src=\"https://...   \n",
       "2719  <iframe width=\"280\" height=\"158\" src=\"https://...   \n",
       "2720  <iframe width=\"280\" height=\"158\" src=\"https://...   \n",
       "2721  <iframe width=\"280\" height=\"158\" src=\"https://...   \n",
       "2722  <iframe width=\"280\" height=\"158\" src=\"https://...   \n",
       "\n",
       "                                    VimeoVideo  \n",
       "0     https://player.vimeo.com/video/345587917  \n",
       "1     https://player.vimeo.com/video/344399314  \n",
       "2     https://player.vimeo.com/video/345588916  \n",
       "3     https://player.vimeo.com/video/345589804  \n",
       "4     https://player.vimeo.com/video/342308099  \n",
       "...                                        ...  \n",
       "2718  https://player.vimeo.com/video/345983725  \n",
       "2719  https://player.vimeo.com/video/345804301  \n",
       "2720  https://player.vimeo.com/video/346067693  \n",
       "2721  https://player.vimeo.com/video/345555455  \n",
       "2722  https://player.vimeo.com/video/345805379  \n",
       "\n",
       "[2723 rows x 5 columns]"
      ]
     },
     "execution_count": 3,
     "metadata": {},
     "output_type": "execute_result"
    }
   ],
   "source": [
    "df_subset = df_default[['EntryID', 'LemmaID','Code','YouTube Video', 'VimeoVideo']]\n",
    "df_subset"
   ]
  },
  {
   "cell_type": "code",
   "execution_count": 4,
   "metadata": {},
   "outputs": [],
   "source": [
    "df_subset.to_csv('signdata_with_urls.csv')"
   ]
  },
  {
   "cell_type": "code",
   "execution_count": 5,
   "metadata": {},
   "outputs": [
    {
     "data": {
      "text/plain": [
       "array(['C_02_025', 'B_01_062', 'C_02_055', ..., 'E_03_042', 'B_02_056',\n",
       "       'D_01_057'], dtype=object)"
      ]
     },
     "execution_count": 5,
     "metadata": {},
     "output_type": "execute_result"
    }
   ],
   "source": [
    "df_default[\"Code\"].values"
   ]
  },
  {
   "cell_type": "markdown",
   "metadata": {},
   "source": [
    "## Community Analysis"
   ]
  },
  {
   "cell_type": "code",
   "execution_count": 6,
   "metadata": {
    "scrolled": true
   },
   "outputs": [
    {
     "data": {
      "text/html": [
       "<div>\n",
       "<style scoped>\n",
       "    .dataframe tbody tr th:only-of-type {\n",
       "        vertical-align: middle;\n",
       "    }\n",
       "\n",
       "    .dataframe tbody tr th {\n",
       "        vertical-align: top;\n",
       "    }\n",
       "\n",
       "    .dataframe thead th {\n",
       "        text-align: right;\n",
       "    }\n",
       "</style>\n",
       "<table border=\"1\" class=\"dataframe\">\n",
       "  <thead>\n",
       "    <tr style=\"text-align: right;\">\n",
       "      <th></th>\n",
       "      <th>target</th>\n",
       "      <th>source</th>\n",
       "      <th>num_matched_features</th>\n",
       "      <th>matched_features</th>\n",
       "      <th>num_missed_features</th>\n",
       "      <th>missed_features</th>\n",
       "    </tr>\n",
       "  </thead>\n",
       "  <tbody>\n",
       "    <tr>\n",
       "      <th>0</th>\n",
       "      <td>A_01_002</td>\n",
       "      <td>B_01_062</td>\n",
       "      <td>13</td>\n",
       "      <td>SelectedFingers.2.0, Flexion.2.0, FlexionChang...</td>\n",
       "      <td>0</td>\n",
       "      <td>NaN</td>\n",
       "    </tr>\n",
       "    <tr>\n",
       "      <th>1</th>\n",
       "      <td>A_01_002</td>\n",
       "      <td>C_03_023</td>\n",
       "      <td>12</td>\n",
       "      <td>SelectedFingers.2.0, FlexionChange.2.0, Spread...</td>\n",
       "      <td>1</td>\n",
       "      <td>Flexion.2.0</td>\n",
       "    </tr>\n",
       "    <tr>\n",
       "      <th>2</th>\n",
       "      <td>A_01_002</td>\n",
       "      <td>F_02_088</td>\n",
       "      <td>12</td>\n",
       "      <td>Flexion.2.0, FlexionChange.2.0, Spread.2.0, Sp...</td>\n",
       "      <td>1</td>\n",
       "      <td>SelectedFingers.2.0</td>\n",
       "    </tr>\n",
       "    <tr>\n",
       "      <th>3</th>\n",
       "      <td>A_01_002</td>\n",
       "      <td>H_03_004</td>\n",
       "      <td>12</td>\n",
       "      <td>SelectedFingers.2.0, Flexion.2.0, FlexionChang...</td>\n",
       "      <td>1</td>\n",
       "      <td>ThumbPosition.2.0</td>\n",
       "    </tr>\n",
       "    <tr>\n",
       "      <th>4</th>\n",
       "      <td>A_01_002</td>\n",
       "      <td>J_03_046</td>\n",
       "      <td>13</td>\n",
       "      <td>SelectedFingers.2.0, Flexion.2.0, FlexionChang...</td>\n",
       "      <td>0</td>\n",
       "      <td>NaN</td>\n",
       "    </tr>\n",
       "  </tbody>\n",
       "</table>\n",
       "</div>"
      ],
      "text/plain": [
       "     target    source  num_matched_features  \\\n",
       "0  A_01_002  B_01_062                    13   \n",
       "1  A_01_002  C_03_023                    12   \n",
       "2  A_01_002  F_02_088                    12   \n",
       "3  A_01_002  H_03_004                    12   \n",
       "4  A_01_002  J_03_046                    13   \n",
       "\n",
       "                                    matched_features  num_missed_features  \\\n",
       "0  SelectedFingers.2.0, Flexion.2.0, FlexionChang...                    0   \n",
       "1  SelectedFingers.2.0, FlexionChange.2.0, Spread...                    1   \n",
       "2  Flexion.2.0, FlexionChange.2.0, Spread.2.0, Sp...                    1   \n",
       "3  SelectedFingers.2.0, Flexion.2.0, FlexionChang...                    1   \n",
       "4  SelectedFingers.2.0, Flexion.2.0, FlexionChang...                    0   \n",
       "\n",
       "       missed_features  \n",
       "0                  NaN  \n",
       "1          Flexion.2.0  \n",
       "2  SelectedFingers.2.0  \n",
       "3    ThumbPosition.2.0  \n",
       "4                  NaN  "
      ]
     },
     "execution_count": 6,
     "metadata": {},
     "output_type": "execute_result"
    }
   ],
   "source": [
    "edges_df = pd.read_csv('../data/generated-data/default-neighbors.csv') \n",
    "edges_df = edges_df.rename(columns={\"neighbor\": \"source\"})\n",
    "edges_df.head()\n"
   ]
  },
  {
   "cell_type": "code",
   "execution_count": 7,
   "metadata": {},
   "outputs": [
    {
     "data": {
      "text/plain": [
       "(13210, 6)"
      ]
     },
     "execution_count": 7,
     "metadata": {},
     "output_type": "execute_result"
    }
   ],
   "source": [
    "edges_df.shape"
   ]
  },
  {
   "cell_type": "code",
   "execution_count": 8,
   "metadata": {},
   "outputs": [
    {
     "data": {
      "image/png": "[encoded data removed]",
      "text/plain": [
       "<Figure size 432x288 with 1 Axes>"
      ]
     },
     "metadata": {},
     "output_type": "display_data"
    }
   ],
   "source": [
    "g = nx.from_pandas_edgelist(edges_df, source='source', target='target') \n",
    "nx.draw(g)"
   ]
  },
  {
   "cell_type": "code",
   "execution_count": 9,
   "metadata": {},
   "outputs": [],
   "source": [
    "#first compute the best partition\n",
    "# from community import greedy_modularity_communities\n",
    "import community\n",
    "G = g\n",
    "\n",
    "#Two methods for community analysis\n",
    "# c = greedy_modularity_communities(G)\n",
    "partition = community.best_partition(G)"
   ]
  },
  {
   "cell_type": "code",
   "execution_count": 10,
   "metadata": {},
   "outputs": [
    {
     "data": {
      "image/png": "[encoded data removed]",
      "text/plain": [
       "<Figure size 432x288 with 1 Axes>"
      ]
     },
     "metadata": {},
     "output_type": "display_data"
    }
   ],
   "source": [
    "values = [partition.get(node) for node in G.nodes()]\n",
    "\n",
    "nx.draw_spring(G, cmap = plt.get_cmap('jet'), node_color = values, node_size=60, with_labels=False)"
   ]
  },
  {
   "cell_type": "code",
   "execution_count": null,
   "metadata": {},
   "outputs": [],
   "source": []
  },
  {
   "cell_type": "code",
   "execution_count": 11,
   "metadata": {},
   "outputs": [],
   "source": [
    "# num_nodes = 0\n",
    "# for community in c:\n",
    "#     num_nodes += len(community)\n",
    "# print(num_nodes)"
   ]
  },
  {
   "cell_type": "code",
   "execution_count": 12,
   "metadata": {},
   "outputs": [
    {
     "data": {
      "text/plain": [
       "1919"
      ]
     },
     "execution_count": 12,
     "metadata": {},
     "output_type": "execute_result"
    }
   ],
   "source": [
    "len(partition)"
   ]
  },
  {
   "cell_type": "code",
   "execution_count": 13,
   "metadata": {},
   "outputs": [
    {
     "name": "stdout",
     "output_type": "stream",
     "text": [
      "1919\n"
     ]
    },
    {
     "data": {
      "text/html": [
       "<div>\n",
       "<style scoped>\n",
       "    .dataframe tbody tr th:only-of-type {\n",
       "        vertical-align: middle;\n",
       "    }\n",
       "\n",
       "    .dataframe tbody tr th {\n",
       "        vertical-align: top;\n",
       "    }\n",
       "\n",
       "    .dataframe thead th {\n",
       "        text-align: right;\n",
       "    }\n",
       "</style>\n",
       "<table border=\"1\" class=\"dataframe\">\n",
       "  <thead>\n",
       "    <tr style=\"text-align: right;\">\n",
       "      <th></th>\n",
       "      <th>Code</th>\n",
       "      <th>group_id</th>\n",
       "    </tr>\n",
       "  </thead>\n",
       "  <tbody>\n",
       "    <tr>\n",
       "      <th>0</th>\n",
       "      <td>B_01_062</td>\n",
       "      <td>0</td>\n",
       "    </tr>\n",
       "    <tr>\n",
       "      <th>1</th>\n",
       "      <td>A_01_002</td>\n",
       "      <td>0</td>\n",
       "    </tr>\n",
       "    <tr>\n",
       "      <th>2</th>\n",
       "      <td>C_03_023</td>\n",
       "      <td>0</td>\n",
       "    </tr>\n",
       "    <tr>\n",
       "      <th>3</th>\n",
       "      <td>F_02_088</td>\n",
       "      <td>0</td>\n",
       "    </tr>\n",
       "    <tr>\n",
       "      <th>4</th>\n",
       "      <td>H_03_004</td>\n",
       "      <td>0</td>\n",
       "    </tr>\n",
       "  </tbody>\n",
       "</table>\n",
       "</div>"
      ],
      "text/plain": [
       "       Code  group_id\n",
       "0  B_01_062         0\n",
       "1  A_01_002         0\n",
       "2  C_03_023         0\n",
       "3  F_02_088         0\n",
       "4  H_03_004         0"
      ]
     },
     "execution_count": 13,
     "metadata": {},
     "output_type": "execute_result"
    }
   ],
   "source": [
    "#Noes only connected by edges. Does not include standalone nodes.\n",
    "\n",
    "list = partition.items()\n",
    "print(len(list))\n",
    "df_with_groupids = pd.DataFrame(list, columns=['Code', 'group_id'])\n",
    "df_with_groupids.head()"
   ]
  },
  {
   "cell_type": "code",
   "execution_count": 14,
   "metadata": {},
   "outputs": [
    {
     "name": "stdout",
     "output_type": "stream",
     "text": [
      "1919\n",
      "(13210, 6)\n",
      "(13210, 6)\n"
     ]
    },
    {
     "data": {
      "text/html": [
       "<div>\n",
       "<style scoped>\n",
       "    .dataframe tbody tr th:only-of-type {\n",
       "        vertical-align: middle;\n",
       "    }\n",
       "\n",
       "    .dataframe tbody tr th {\n",
       "        vertical-align: top;\n",
       "    }\n",
       "\n",
       "    .dataframe thead th {\n",
       "        text-align: right;\n",
       "    }\n",
       "</style>\n",
       "<table border=\"1\" class=\"dataframe\">\n",
       "  <thead>\n",
       "    <tr style=\"text-align: right;\">\n",
       "      <th></th>\n",
       "      <th>target</th>\n",
       "      <th>source</th>\n",
       "      <th>num_matched_features</th>\n",
       "      <th>matched_features</th>\n",
       "      <th>num_missed_features</th>\n",
       "      <th>missed_features</th>\n",
       "    </tr>\n",
       "  </thead>\n",
       "  <tbody>\n",
       "    <tr>\n",
       "      <th>0</th>\n",
       "      <td>A_01_002</td>\n",
       "      <td>B_01_062</td>\n",
       "      <td>13</td>\n",
       "      <td>SelectedFingers.2.0, Flexion.2.0, FlexionChang...</td>\n",
       "      <td>0</td>\n",
       "      <td>NaN</td>\n",
       "    </tr>\n",
       "    <tr>\n",
       "      <th>1</th>\n",
       "      <td>A_01_002</td>\n",
       "      <td>C_03_023</td>\n",
       "      <td>12</td>\n",
       "      <td>SelectedFingers.2.0, FlexionChange.2.0, Spread...</td>\n",
       "      <td>1</td>\n",
       "      <td>Flexion.2.0</td>\n",
       "    </tr>\n",
       "    <tr>\n",
       "      <th>2</th>\n",
       "      <td>A_01_002</td>\n",
       "      <td>F_02_088</td>\n",
       "      <td>12</td>\n",
       "      <td>Flexion.2.0, FlexionChange.2.0, Spread.2.0, Sp...</td>\n",
       "      <td>1</td>\n",
       "      <td>SelectedFingers.2.0</td>\n",
       "    </tr>\n",
       "    <tr>\n",
       "      <th>3</th>\n",
       "      <td>A_01_002</td>\n",
       "      <td>H_03_004</td>\n",
       "      <td>12</td>\n",
       "      <td>SelectedFingers.2.0, Flexion.2.0, FlexionChang...</td>\n",
       "      <td>1</td>\n",
       "      <td>ThumbPosition.2.0</td>\n",
       "    </tr>\n",
       "    <tr>\n",
       "      <th>4</th>\n",
       "      <td>A_01_002</td>\n",
       "      <td>J_03_046</td>\n",
       "      <td>13</td>\n",
       "      <td>SelectedFingers.2.0, Flexion.2.0, FlexionChang...</td>\n",
       "      <td>0</td>\n",
       "      <td>NaN</td>\n",
       "    </tr>\n",
       "  </tbody>\n",
       "</table>\n",
       "</div>"
      ],
      "text/plain": [
       "     target    source  num_matched_features  \\\n",
       "0  A_01_002  B_01_062                    13   \n",
       "1  A_01_002  C_03_023                    12   \n",
       "2  A_01_002  F_02_088                    12   \n",
       "3  A_01_002  H_03_004                    12   \n",
       "4  A_01_002  J_03_046                    13   \n",
       "\n",
       "                                    matched_features  num_missed_features  \\\n",
       "0  SelectedFingers.2.0, Flexion.2.0, FlexionChang...                    0   \n",
       "1  SelectedFingers.2.0, FlexionChange.2.0, Spread...                    1   \n",
       "2  Flexion.2.0, FlexionChange.2.0, Spread.2.0, Sp...                    1   \n",
       "3  SelectedFingers.2.0, Flexion.2.0, FlexionChang...                    1   \n",
       "4  SelectedFingers.2.0, Flexion.2.0, FlexionChang...                    0   \n",
       "\n",
       "       missed_features  \n",
       "0                  NaN  \n",
       "1          Flexion.2.0  \n",
       "2  SelectedFingers.2.0  \n",
       "3    ThumbPosition.2.0  \n",
       "4                  NaN  "
      ]
     },
     "execution_count": 14,
     "metadata": {},
     "output_type": "execute_result"
    }
   ],
   "source": [
    "# get edges only where source and target nodes belong to a valid community for now. This is to assign them group ids.\n",
    "nodes_in_communities = df_with_groupids['Code'].unique()\n",
    "edges_for_community_nodes_df = edges_df.loc[edges_df['source'].isin(nodes_in_communities) & edges_df['target'].isin(nodes_in_communities)]\n",
    "print(len(edges_for_community_nodes_df['source'].unique()))\n",
    "print(edges_df.shape)\n",
    "print(edges_for_community_nodes_df.shape)\n",
    "edges_for_community_nodes_df.head()"
   ]
  },
  {
   "cell_type": "code",
   "execution_count": 15,
   "metadata": {},
   "outputs": [
    {
     "name": "stdout",
     "output_type": "stream",
     "text": [
      "(2723, 188)\n"
     ]
    },
    {
     "data": {
      "text/html": [
       "<div>\n",
       "<style scoped>\n",
       "    .dataframe tbody tr th:only-of-type {\n",
       "        vertical-align: middle;\n",
       "    }\n",
       "\n",
       "    .dataframe tbody tr th {\n",
       "        vertical-align: top;\n",
       "    }\n",
       "\n",
       "    .dataframe thead th {\n",
       "        text-align: right;\n",
       "    }\n",
       "</style>\n",
       "<table border=\"1\" class=\"dataframe\">\n",
       "  <thead>\n",
       "    <tr style=\"text-align: right;\">\n",
       "      <th></th>\n",
       "      <th>EntryID</th>\n",
       "      <th>LemmaID</th>\n",
       "      <th>Code</th>\n",
       "      <th>Batch</th>\n",
       "      <th>List</th>\n",
       "      <th>Item</th>\n",
       "      <th>YouTube Video</th>\n",
       "      <th>VimeoVideoHTML</th>\n",
       "      <th>VimeoVideo</th>\n",
       "      <th>SubtLexUSLog10WF</th>\n",
       "      <th>...</th>\n",
       "      <th>PhonotacticProbability</th>\n",
       "      <th>Parameter.Neighborhood.Density.2.0</th>\n",
       "      <th>Neighborhood Density 2.0</th>\n",
       "      <th>SignBankAnnotationID</th>\n",
       "      <th>SignBankEnglishTranslations</th>\n",
       "      <th>SignBankLemmaID</th>\n",
       "      <th>SignBankReferenceID</th>\n",
       "      <th>bglm_aoa</th>\n",
       "      <th>empirical_aoa</th>\n",
       "      <th>group_id</th>\n",
       "    </tr>\n",
       "  </thead>\n",
       "  <tbody>\n",
       "    <tr>\n",
       "      <th>0</th>\n",
       "      <td>1_dollar</td>\n",
       "      <td>1_dollar</td>\n",
       "      <td>C_02_025</td>\n",
       "      <td>C</td>\n",
       "      <td>2.0</td>\n",
       "      <td>25.0</td>\n",
       "      <td>&lt;iframe width=\"280\" height=\"158\" src=\"https://...</td>\n",
       "      <td>&lt;iframe src=https://player.vimeo.com/video/345...</td>\n",
       "      <td>https://player.vimeo.com/video/345587917</td>\n",
       "      <td>NaN</td>\n",
       "      <td>...</td>\n",
       "      <td>-0.020</td>\n",
       "      <td>383</td>\n",
       "      <td>0</td>\n",
       "      <td>DOLLAR</td>\n",
       "      <td>bill, cash, dollar, money</td>\n",
       "      <td>1_DOLLAR</td>\n",
       "      <td>1268.0</td>\n",
       "      <td>NaN</td>\n",
       "      <td>NaN</td>\n",
       "      <td>NaN</td>\n",
       "    </tr>\n",
       "    <tr>\n",
       "      <th>1</th>\n",
       "      <td>5_dollars</td>\n",
       "      <td>5_dollars</td>\n",
       "      <td>B_01_062</td>\n",
       "      <td>B</td>\n",
       "      <td>1.0</td>\n",
       "      <td>62.0</td>\n",
       "      <td>&lt;iframe width=\"280\" height=\"158\" src=\"https://...</td>\n",
       "      <td>&lt;iframe src=https://player.vimeo.com/video/344...</td>\n",
       "      <td>https://player.vimeo.com/video/344399314</td>\n",
       "      <td>NaN</td>\n",
       "      <td>...</td>\n",
       "      <td>0.281</td>\n",
       "      <td>190</td>\n",
       "      <td>4</td>\n",
       "      <td>FIVE-DOLLARS</td>\n",
       "      <td>dollar, five dollars, money</td>\n",
       "      <td>5_DOLLAR</td>\n",
       "      <td>2436.0</td>\n",
       "      <td>NaN</td>\n",
       "      <td>NaN</td>\n",
       "      <td>0.0</td>\n",
       "    </tr>\n",
       "    <tr>\n",
       "      <th>2</th>\n",
       "      <td>8_hour</td>\n",
       "      <td>8_hour</td>\n",
       "      <td>C_02_055</td>\n",
       "      <td>C</td>\n",
       "      <td>2.0</td>\n",
       "      <td>55.0</td>\n",
       "      <td>&lt;iframe width=\"280\" height=\"158\" src=\"https://...</td>\n",
       "      <td>&lt;iframe src=\"https://player.vimeo.com/video/34...</td>\n",
       "      <td>https://player.vimeo.com/video/345588916</td>\n",
       "      <td>NaN</td>\n",
       "      <td>...</td>\n",
       "      <td>-0.396</td>\n",
       "      <td>129</td>\n",
       "      <td>0</td>\n",
       "      <td>EIGHT-HOURSneut</td>\n",
       "      <td>eight hours, 8 hours, hour, time</td>\n",
       "      <td>NUMBER-HOURS</td>\n",
       "      <td>2437.0</td>\n",
       "      <td>NaN</td>\n",
       "      <td>NaN</td>\n",
       "      <td>NaN</td>\n",
       "    </tr>\n",
       "    <tr>\n",
       "      <th>3</th>\n",
       "      <td>9_oclock</td>\n",
       "      <td>9_oclock</td>\n",
       "      <td>C_02_080</td>\n",
       "      <td>C</td>\n",
       "      <td>2.0</td>\n",
       "      <td>80.0</td>\n",
       "      <td>&lt;iframe width=\"280\" height=\"158\" src=\"https://...</td>\n",
       "      <td>&lt;iframe src=https://player.vimeo.com/video/345...</td>\n",
       "      <td>https://player.vimeo.com/video/345589804</td>\n",
       "      <td>NaN</td>\n",
       "      <td>...</td>\n",
       "      <td>-0.252</td>\n",
       "      <td>48</td>\n",
       "      <td>4</td>\n",
       "      <td>OCLOCK-NINE</td>\n",
       "      <td>9:00, 9 o'clock, nine o'clock, o'clock, time</td>\n",
       "      <td>OCLOCK-NUMBER</td>\n",
       "      <td>2857.0</td>\n",
       "      <td>NaN</td>\n",
       "      <td>NaN</td>\n",
       "      <td>130.0</td>\n",
       "    </tr>\n",
       "    <tr>\n",
       "      <th>4</th>\n",
       "      <td>a-line_bob</td>\n",
       "      <td>a-line_bob</td>\n",
       "      <td>K_03_127</td>\n",
       "      <td>K</td>\n",
       "      <td>NaN</td>\n",
       "      <td>NaN</td>\n",
       "      <td>NaN</td>\n",
       "      <td>&lt;iframe src=https://player.vimeo.com/video/342...</td>\n",
       "      <td>https://player.vimeo.com/video/342308099</td>\n",
       "      <td>NaN</td>\n",
       "      <td>...</td>\n",
       "      <td>0.089</td>\n",
       "      <td>158</td>\n",
       "      <td>4</td>\n",
       "      <td>NaN</td>\n",
       "      <td>NaN</td>\n",
       "      <td>NaN</td>\n",
       "      <td>NaN</td>\n",
       "      <td>NaN</td>\n",
       "      <td>NaN</td>\n",
       "      <td>169.0</td>\n",
       "    </tr>\n",
       "    <tr>\n",
       "      <th>5</th>\n",
       "      <td>a_little_bit</td>\n",
       "      <td>a_little_bit</td>\n",
       "      <td>H_03_025</td>\n",
       "      <td>H</td>\n",
       "      <td>3.0</td>\n",
       "      <td>25.0</td>\n",
       "      <td>&lt;iframe width=\"280\" height=\"158\" src=\"https://...</td>\n",
       "      <td>&lt;iframe src=https://player.vimeo.com/video/346...</td>\n",
       "      <td>https://player.vimeo.com/video/346887448</td>\n",
       "      <td>NaN</td>\n",
       "      <td>...</td>\n",
       "      <td>-0.758</td>\n",
       "      <td>144</td>\n",
       "      <td>3</td>\n",
       "      <td>A-LITTLE-BIT</td>\n",
       "      <td>a little bit, little, few, minimal, scarce</td>\n",
       "      <td>A-LITTLE-BIT</td>\n",
       "      <td>0.0</td>\n",
       "      <td>NaN</td>\n",
       "      <td>NaN</td>\n",
       "      <td>117.0</td>\n",
       "    </tr>\n",
       "    <tr>\n",
       "      <th>6</th>\n",
       "      <td>abbreviate</td>\n",
       "      <td>abbreviate</td>\n",
       "      <td>G_01_040</td>\n",
       "      <td>G</td>\n",
       "      <td>1.0</td>\n",
       "      <td>40.0</td>\n",
       "      <td>&lt;iframe width=\"280\" height=\"158\" src=\"https://...</td>\n",
       "      <td>&lt;iframe src=https://player.vimeo.com/video/346...</td>\n",
       "      <td>https://player.vimeo.com/video/346610443</td>\n",
       "      <td>0.301</td>\n",
       "      <td>...</td>\n",
       "      <td>-0.065</td>\n",
       "      <td>368</td>\n",
       "      <td>1</td>\n",
       "      <td>SHORT</td>\n",
       "      <td>brief, for a short time, quick, short, shortly</td>\n",
       "      <td>SHORT</td>\n",
       "      <td>252.0</td>\n",
       "      <td>NaN</td>\n",
       "      <td>NaN</td>\n",
       "      <td>242.0</td>\n",
       "    </tr>\n",
       "    <tr>\n",
       "      <th>7</th>\n",
       "      <td>about_1</td>\n",
       "      <td>about</td>\n",
       "      <td>B_02_072</td>\n",
       "      <td>B</td>\n",
       "      <td>2.0</td>\n",
       "      <td>72.0</td>\n",
       "      <td>&lt;iframe width=\"280\" height=\"158\" src=\"https://...</td>\n",
       "      <td>&lt;iframe src=https://player.vimeo.com/video/345...</td>\n",
       "      <td>https://player.vimeo.com/video/345555837</td>\n",
       "      <td>5.268</td>\n",
       "      <td>...</td>\n",
       "      <td>-0.490</td>\n",
       "      <td>129</td>\n",
       "      <td>2</td>\n",
       "      <td>ABOUTix</td>\n",
       "      <td>about, regarding, with reference to</td>\n",
       "      <td>ABOUT</td>\n",
       "      <td>2043.0</td>\n",
       "      <td>NaN</td>\n",
       "      <td>NaN</td>\n",
       "      <td>128.0</td>\n",
       "    </tr>\n",
       "    <tr>\n",
       "      <th>8</th>\n",
       "      <td>about_2</td>\n",
       "      <td>about</td>\n",
       "      <td>B_02_003</td>\n",
       "      <td>B</td>\n",
       "      <td>2.0</td>\n",
       "      <td>3.0</td>\n",
       "      <td>&lt;iframe width=\"280\" height=\"158\" src=\"https://...</td>\n",
       "      <td>&lt;iframe src=https://player.vimeo.com/video/345...</td>\n",
       "      <td>https://player.vimeo.com/video/345536316</td>\n",
       "      <td>5.268</td>\n",
       "      <td>...</td>\n",
       "      <td>-0.421</td>\n",
       "      <td>129</td>\n",
       "      <td>0</td>\n",
       "      <td>ABOUTb</td>\n",
       "      <td>about, regarding, with reference to</td>\n",
       "      <td>ABOUT</td>\n",
       "      <td>2042.0</td>\n",
       "      <td>61.0</td>\n",
       "      <td>35.0</td>\n",
       "      <td>NaN</td>\n",
       "    </tr>\n",
       "    <tr>\n",
       "      <th>9</th>\n",
       "      <td>absolutely_nothing</td>\n",
       "      <td>absolutely_nothing</td>\n",
       "      <td>J_01_027</td>\n",
       "      <td>J</td>\n",
       "      <td>1.0</td>\n",
       "      <td>27.0</td>\n",
       "      <td>&lt;iframe width=\"280\" height=\"158\" src=\"https://...</td>\n",
       "      <td>&lt;iframe src=https://player.vimeo.com/video/346...</td>\n",
       "      <td>https://player.vimeo.com/video/346914407</td>\n",
       "      <td>NaN</td>\n",
       "      <td>...</td>\n",
       "      <td>0.211</td>\n",
       "      <td>232</td>\n",
       "      <td>3</td>\n",
       "      <td>ABSOLUTELY-NOTHING</td>\n",
       "      <td>absolutely nothing, all out, depleted, empty, ...</td>\n",
       "      <td>ABSOLUTELY-NOTHING</td>\n",
       "      <td>2044.0</td>\n",
       "      <td>NaN</td>\n",
       "      <td>NaN</td>\n",
       "      <td>52.0</td>\n",
       "    </tr>\n",
       "    <tr>\n",
       "      <th>10</th>\n",
       "      <td>accent</td>\n",
       "      <td>accent</td>\n",
       "      <td>E_01_073</td>\n",
       "      <td>E</td>\n",
       "      <td>1.0</td>\n",
       "      <td>73.0</td>\n",
       "      <td>&lt;iframe width=\"280\" height=\"158\" src=\"https://...</td>\n",
       "      <td>&lt;iframe src=https://player.vimeo.com/video/346...</td>\n",
       "      <td>https://player.vimeo.com/video/346053390</td>\n",
       "      <td>2.794</td>\n",
       "      <td>...</td>\n",
       "      <td>-0.526</td>\n",
       "      <td>106</td>\n",
       "      <td>1</td>\n",
       "      <td>ACCENT</td>\n",
       "      <td>accent, dialect, language, regional language</td>\n",
       "      <td>ACCENT</td>\n",
       "      <td>584.0</td>\n",
       "      <td>NaN</td>\n",
       "      <td>NaN</td>\n",
       "      <td>NaN</td>\n",
       "    </tr>\n",
       "    <tr>\n",
       "      <th>11</th>\n",
       "      <td>accept</td>\n",
       "      <td>accept</td>\n",
       "      <td>H_02_042</td>\n",
       "      <td>H</td>\n",
       "      <td>2.0</td>\n",
       "      <td>42.0</td>\n",
       "      <td>&lt;iframe width=\"280\" height=\"158\" src=\"https://...</td>\n",
       "      <td>&lt;iframe src=https://player.vimeo.com/video/346...</td>\n",
       "      <td>https://player.vimeo.com/video/346802940</td>\n",
       "      <td>3.430</td>\n",
       "      <td>...</td>\n",
       "      <td>-0.131</td>\n",
       "      <td>140</td>\n",
       "      <td>1</td>\n",
       "      <td>ACCEPT</td>\n",
       "      <td>accept, adopt, agree to, embrace, own, passive...</td>\n",
       "      <td>ACCEPT</td>\n",
       "      <td>2045.0</td>\n",
       "      <td>NaN</td>\n",
       "      <td>NaN</td>\n",
       "      <td>NaN</td>\n",
       "    </tr>\n",
       "    <tr>\n",
       "      <th>12</th>\n",
       "      <td>access</td>\n",
       "      <td>access</td>\n",
       "      <td>H_02_086</td>\n",
       "      <td>H</td>\n",
       "      <td>2.0</td>\n",
       "      <td>86.0</td>\n",
       "      <td>&lt;iframe width=\"280\" height=\"158\" src=\"https://...</td>\n",
       "      <td>&lt;iframe src=https://player.vimeo.com/video/346...</td>\n",
       "      <td>https://player.vimeo.com/video/346883874</td>\n",
       "      <td>3.208</td>\n",
       "      <td>...</td>\n",
       "      <td>0.363</td>\n",
       "      <td>459</td>\n",
       "      <td>6</td>\n",
       "      <td>ACCESS</td>\n",
       "      <td>access, accessible, accessibility, admission, ...</td>\n",
       "      <td>ACCESS</td>\n",
       "      <td>2046.0</td>\n",
       "      <td>NaN</td>\n",
       "      <td>NaN</td>\n",
       "      <td>199.0</td>\n",
       "    </tr>\n",
       "    <tr>\n",
       "      <th>13</th>\n",
       "      <td>accident</td>\n",
       "      <td>accident</td>\n",
       "      <td>B_02_059</td>\n",
       "      <td>B</td>\n",
       "      <td>2.0</td>\n",
       "      <td>59.0</td>\n",
       "      <td>&lt;iframe width=\"280\" height=\"158\" src=\"https://...</td>\n",
       "      <td>&lt;iframe src=https://player.vimeo.com/video/345...</td>\n",
       "      <td>https://player.vimeo.com/video/345555544</td>\n",
       "      <td>3.618</td>\n",
       "      <td>...</td>\n",
       "      <td>0.486</td>\n",
       "      <td>512</td>\n",
       "      <td>1</td>\n",
       "      <td>ACCIDENT</td>\n",
       "      <td>accident, collide, crash, hit, oops, vehicle, ...</td>\n",
       "      <td>ACCIDENT</td>\n",
       "      <td>2047.0</td>\n",
       "      <td>NaN</td>\n",
       "      <td>NaN</td>\n",
       "      <td>125.0</td>\n",
       "    </tr>\n",
       "    <tr>\n",
       "      <th>14</th>\n",
       "      <td>accomplish</td>\n",
       "      <td>accomplish</td>\n",
       "      <td>C_02_085</td>\n",
       "      <td>C</td>\n",
       "      <td>2.0</td>\n",
       "      <td>85.0</td>\n",
       "      <td>&lt;iframe width=\"280\" height=\"158\" src=\"https://...</td>\n",
       "      <td>&lt;iframe src=https://player.vimeo.com/video/345...</td>\n",
       "      <td>https://player.vimeo.com/video/345590018</td>\n",
       "      <td>2.476</td>\n",
       "      <td>...</td>\n",
       "      <td>-0.343</td>\n",
       "      <td>469</td>\n",
       "      <td>0</td>\n",
       "      <td>SUCCEED</td>\n",
       "      <td>accomplish, at last, effective, finally, pah, ...</td>\n",
       "      <td>ACCOMPLISH</td>\n",
       "      <td>453.0</td>\n",
       "      <td>NaN</td>\n",
       "      <td>NaN</td>\n",
       "      <td>167.0</td>\n",
       "    </tr>\n",
       "    <tr>\n",
       "      <th>15</th>\n",
       "      <td>accordion</td>\n",
       "      <td>accordion</td>\n",
       "      <td>F_02_048</td>\n",
       "      <td>F</td>\n",
       "      <td>2.0</td>\n",
       "      <td>48.0</td>\n",
       "      <td>&lt;iframe width=\"280\" height=\"158\" src=\"https://...</td>\n",
       "      <td>&lt;iframe src=https://player.vimeo.com/video/346...</td>\n",
       "      <td>https://player.vimeo.com/video/346495091</td>\n",
       "      <td>1.833</td>\n",
       "      <td>...</td>\n",
       "      <td>-0.065</td>\n",
       "      <td>524</td>\n",
       "      <td>7</td>\n",
       "      <td>ACCORDION</td>\n",
       "      <td>accordion, musical instrument</td>\n",
       "      <td>ACCORDION</td>\n",
       "      <td>3331.0</td>\n",
       "      <td>NaN</td>\n",
       "      <td>NaN</td>\n",
       "      <td>41.0</td>\n",
       "    </tr>\n",
       "    <tr>\n",
       "      <th>16</th>\n",
       "      <td>accountant</td>\n",
       "      <td>accountant</td>\n",
       "      <td>A_03_044</td>\n",
       "      <td>A</td>\n",
       "      <td>3.0</td>\n",
       "      <td>44.0</td>\n",
       "      <td>&lt;iframe width=\"280\" height=\"158\" src=\"https://...</td>\n",
       "      <td>&lt;iframe src=https://player.vimeo.com/video/344...</td>\n",
       "      <td>https://player.vimeo.com/video/344228699</td>\n",
       "      <td>2.500</td>\n",
       "      <td>...</td>\n",
       "      <td>-0.261</td>\n",
       "      <td>397</td>\n",
       "      <td>6</td>\n",
       "      <td>ACCOUNTANT</td>\n",
       "      <td>accountant, count, money, person</td>\n",
       "      <td>ACCOUNTANT</td>\n",
       "      <td>2439.0</td>\n",
       "      <td>NaN</td>\n",
       "      <td>NaN</td>\n",
       "      <td>87.0</td>\n",
       "    </tr>\n",
       "    <tr>\n",
       "      <th>17</th>\n",
       "      <td>acquire</td>\n",
       "      <td>acquire</td>\n",
       "      <td>H_01_034</td>\n",
       "      <td>H</td>\n",
       "      <td>1.0</td>\n",
       "      <td>34.0</td>\n",
       "      <td>&lt;iframe width=\"280\" height=\"158\" src=\"https://...</td>\n",
       "      <td>&lt;iframe src=https://player.vimeo.com/video/346...</td>\n",
       "      <td>https://player.vimeo.com/video/346791147</td>\n",
       "      <td>2.134</td>\n",
       "      <td>...</td>\n",
       "      <td>-0.191</td>\n",
       "      <td>449</td>\n",
       "      <td>3</td>\n",
       "      <td>ACQUIRE</td>\n",
       "      <td>acquire, acquisition, pick up</td>\n",
       "      <td>ACQUIRE</td>\n",
       "      <td>2048.0</td>\n",
       "      <td>NaN</td>\n",
       "      <td>NaN</td>\n",
       "      <td>168.0</td>\n",
       "    </tr>\n",
       "    <tr>\n",
       "      <th>18</th>\n",
       "      <td>act</td>\n",
       "      <td>act</td>\n",
       "      <td>B_02_038</td>\n",
       "      <td>B</td>\n",
       "      <td>2.0</td>\n",
       "      <td>38.0</td>\n",
       "      <td>&lt;iframe width=\"280\" height=\"158\" src=\"https://...</td>\n",
       "      <td>&lt;iframe src=https://player.vimeo.com/video/345...</td>\n",
       "      <td>https://player.vimeo.com/video/345537677</td>\n",
       "      <td>3.746</td>\n",
       "      <td>...</td>\n",
       "      <td>-0.929</td>\n",
       "      <td>58</td>\n",
       "      <td>8</td>\n",
       "      <td>ACT</td>\n",
       "      <td>act, drama, perform, performance, put on a pla...</td>\n",
       "      <td>ACT</td>\n",
       "      <td>5.0</td>\n",
       "      <td>NaN</td>\n",
       "      <td>NaN</td>\n",
       "      <td>60.0</td>\n",
       "    </tr>\n",
       "    <tr>\n",
       "      <th>19</th>\n",
       "      <td>action</td>\n",
       "      <td>action</td>\n",
       "      <td>C_01_026</td>\n",
       "      <td>C</td>\n",
       "      <td>1.0</td>\n",
       "      <td>26.0</td>\n",
       "      <td>&lt;iframe width=\"280\" height=\"158\" src=\"https://...</td>\n",
       "      <td>&lt;iframe src=https://player.vimeo.com/video/345...</td>\n",
       "      <td>https://player.vimeo.com/video/345577398</td>\n",
       "      <td>3.494</td>\n",
       "      <td>...</td>\n",
       "      <td>0.390</td>\n",
       "      <td>126</td>\n",
       "      <td>2</td>\n",
       "      <td>ACTION</td>\n",
       "      <td>act, action, activity, behavior, do, event</td>\n",
       "      <td>ACTION</td>\n",
       "      <td>2440.0</td>\n",
       "      <td>NaN</td>\n",
       "      <td>NaN</td>\n",
       "      <td>2.0</td>\n",
       "    </tr>\n",
       "  </tbody>\n",
       "</table>\n",
       "<p>20 rows × 188 columns</p>\n",
       "</div>"
      ],
      "text/plain": [
       "               EntryID             LemmaID      Code Batch  List  Item  \\\n",
       "0             1_dollar            1_dollar  C_02_025     C   2.0  25.0   \n",
       "1            5_dollars           5_dollars  B_01_062     B   1.0  62.0   \n",
       "2               8_hour              8_hour  C_02_055     C   2.0  55.0   \n",
       "3             9_oclock            9_oclock  C_02_080     C   2.0  80.0   \n",
       "4           a-line_bob          a-line_bob  K_03_127     K   NaN   NaN   \n",
       "5         a_little_bit        a_little_bit  H_03_025     H   3.0  25.0   \n",
       "6           abbreviate          abbreviate  G_01_040     G   1.0  40.0   \n",
       "7              about_1               about  B_02_072     B   2.0  72.0   \n",
       "8              about_2               about  B_02_003     B   2.0   3.0   \n",
       "9   absolutely_nothing  absolutely_nothing  J_01_027     J   1.0  27.0   \n",
       "10              accent              accent  E_01_073     E   1.0  73.0   \n",
       "11              accept              accept  H_02_042     H   2.0  42.0   \n",
       "12              access              access  H_02_086     H   2.0  86.0   \n",
       "13            accident            accident  B_02_059     B   2.0  59.0   \n",
       "14          accomplish          accomplish  C_02_085     C   2.0  85.0   \n",
       "15           accordion           accordion  F_02_048     F   2.0  48.0   \n",
       "16          accountant          accountant  A_03_044     A   3.0  44.0   \n",
       "17             acquire             acquire  H_01_034     H   1.0  34.0   \n",
       "18                 act                 act  B_02_038     B   2.0  38.0   \n",
       "19              action              action  C_01_026     C   1.0  26.0   \n",
       "\n",
       "                                        YouTube Video  \\\n",
       "0   <iframe width=\"280\" height=\"158\" src=\"https://...   \n",
       "1   <iframe width=\"280\" height=\"158\" src=\"https://...   \n",
       "2   <iframe width=\"280\" height=\"158\" src=\"https://...   \n",
       "3   <iframe width=\"280\" height=\"158\" src=\"https://...   \n",
       "4                                                 NaN   \n",
       "5   <iframe width=\"280\" height=\"158\" src=\"https://...   \n",
       "6   <iframe width=\"280\" height=\"158\" src=\"https://...   \n",
       "7   <iframe width=\"280\" height=\"158\" src=\"https://...   \n",
       "8   <iframe width=\"280\" height=\"158\" src=\"https://...   \n",
       "9   <iframe width=\"280\" height=\"158\" src=\"https://...   \n",
       "10  <iframe width=\"280\" height=\"158\" src=\"https://...   \n",
       "11  <iframe width=\"280\" height=\"158\" src=\"https://...   \n",
       "12  <iframe width=\"280\" height=\"158\" src=\"https://...   \n",
       "13  <iframe width=\"280\" height=\"158\" src=\"https://...   \n",
       "14  <iframe width=\"280\" height=\"158\" src=\"https://...   \n",
       "15  <iframe width=\"280\" height=\"158\" src=\"https://...   \n",
       "16  <iframe width=\"280\" height=\"158\" src=\"https://...   \n",
       "17  <iframe width=\"280\" height=\"158\" src=\"https://...   \n",
       "18  <iframe width=\"280\" height=\"158\" src=\"https://...   \n",
       "19  <iframe width=\"280\" height=\"158\" src=\"https://...   \n",
       "\n",
       "                                       VimeoVideoHTML  \\\n",
       "0   <iframe src=https://player.vimeo.com/video/345...   \n",
       "1   <iframe src=https://player.vimeo.com/video/344...   \n",
       "2   <iframe src=\"https://player.vimeo.com/video/34...   \n",
       "3   <iframe src=https://player.vimeo.com/video/345...   \n",
       "4   <iframe src=https://player.vimeo.com/video/342...   \n",
       "5   <iframe src=https://player.vimeo.com/video/346...   \n",
       "6   <iframe src=https://player.vimeo.com/video/346...   \n",
       "7   <iframe src=https://player.vimeo.com/video/345...   \n",
       "8   <iframe src=https://player.vimeo.com/video/345...   \n",
       "9   <iframe src=https://player.vimeo.com/video/346...   \n",
       "10  <iframe src=https://player.vimeo.com/video/346...   \n",
       "11  <iframe src=https://player.vimeo.com/video/346...   \n",
       "12  <iframe src=https://player.vimeo.com/video/346...   \n",
       "13  <iframe src=https://player.vimeo.com/video/345...   \n",
       "14  <iframe src=https://player.vimeo.com/video/345...   \n",
       "15  <iframe src=https://player.vimeo.com/video/346...   \n",
       "16  <iframe src=https://player.vimeo.com/video/344...   \n",
       "17  <iframe src=https://player.vimeo.com/video/346...   \n",
       "18  <iframe src=https://player.vimeo.com/video/345...   \n",
       "19  <iframe src=https://player.vimeo.com/video/345...   \n",
       "\n",
       "                                  VimeoVideo  SubtLexUSLog10WF  ...  \\\n",
       "0   https://player.vimeo.com/video/345587917               NaN  ...   \n",
       "1   https://player.vimeo.com/video/344399314               NaN  ...   \n",
       "2   https://player.vimeo.com/video/345588916               NaN  ...   \n",
       "3   https://player.vimeo.com/video/345589804               NaN  ...   \n",
       "4   https://player.vimeo.com/video/342308099               NaN  ...   \n",
       "5   https://player.vimeo.com/video/346887448               NaN  ...   \n",
       "6   https://player.vimeo.com/video/346610443             0.301  ...   \n",
       "7   https://player.vimeo.com/video/345555837             5.268  ...   \n",
       "8   https://player.vimeo.com/video/345536316             5.268  ...   \n",
       "9   https://player.vimeo.com/video/346914407               NaN  ...   \n",
       "10  https://player.vimeo.com/video/346053390             2.794  ...   \n",
       "11  https://player.vimeo.com/video/346802940             3.430  ...   \n",
       "12  https://player.vimeo.com/video/346883874             3.208  ...   \n",
       "13  https://player.vimeo.com/video/345555544             3.618  ...   \n",
       "14  https://player.vimeo.com/video/345590018             2.476  ...   \n",
       "15  https://player.vimeo.com/video/346495091             1.833  ...   \n",
       "16  https://player.vimeo.com/video/344228699             2.500  ...   \n",
       "17  https://player.vimeo.com/video/346791147             2.134  ...   \n",
       "18  https://player.vimeo.com/video/345537677             3.746  ...   \n",
       "19  https://player.vimeo.com/video/345577398             3.494  ...   \n",
       "\n",
       "    PhonotacticProbability  Parameter.Neighborhood.Density.2.0  \\\n",
       "0                   -0.020                                 383   \n",
       "1                    0.281                                 190   \n",
       "2                   -0.396                                 129   \n",
       "3                   -0.252                                  48   \n",
       "4                    0.089                                 158   \n",
       "5                   -0.758                                 144   \n",
       "6                   -0.065                                 368   \n",
       "7                   -0.490                                 129   \n",
       "8                   -0.421                                 129   \n",
       "9                    0.211                                 232   \n",
       "10                  -0.526                                 106   \n",
       "11                  -0.131                                 140   \n",
       "12                   0.363                                 459   \n",
       "13                   0.486                                 512   \n",
       "14                  -0.343                                 469   \n",
       "15                  -0.065                                 524   \n",
       "16                  -0.261                                 397   \n",
       "17                  -0.191                                 449   \n",
       "18                  -0.929                                  58   \n",
       "19                   0.390                                 126   \n",
       "\n",
       "    Neighborhood Density 2.0  SignBankAnnotationID  \\\n",
       "0                          0                DOLLAR   \n",
       "1                          4          FIVE-DOLLARS   \n",
       "2                          0       EIGHT-HOURSneut   \n",
       "3                          4           OCLOCK-NINE   \n",
       "4                          4                   NaN   \n",
       "5                          3          A-LITTLE-BIT   \n",
       "6                          1                 SHORT   \n",
       "7                          2               ABOUTix   \n",
       "8                          0                ABOUTb   \n",
       "9                          3    ABSOLUTELY-NOTHING   \n",
       "10                         1                ACCENT   \n",
       "11                         1                ACCEPT   \n",
       "12                         6                ACCESS   \n",
       "13                         1              ACCIDENT   \n",
       "14                         0               SUCCEED   \n",
       "15                         7             ACCORDION   \n",
       "16                         6            ACCOUNTANT   \n",
       "17                         3               ACQUIRE   \n",
       "18                         8                   ACT   \n",
       "19                         2                ACTION   \n",
       "\n",
       "                          SignBankEnglishTranslations     SignBankLemmaID  \\\n",
       "0                           bill, cash, dollar, money            1_DOLLAR   \n",
       "1                         dollar, five dollars, money            5_DOLLAR   \n",
       "2                    eight hours, 8 hours, hour, time        NUMBER-HOURS   \n",
       "3        9:00, 9 o'clock, nine o'clock, o'clock, time       OCLOCK-NUMBER   \n",
       "4                                                 NaN                 NaN   \n",
       "5          a little bit, little, few, minimal, scarce        A-LITTLE-BIT   \n",
       "6      brief, for a short time, quick, short, shortly               SHORT   \n",
       "7                 about, regarding, with reference to               ABOUT   \n",
       "8                 about, regarding, with reference to               ABOUT   \n",
       "9   absolutely nothing, all out, depleted, empty, ...  ABSOLUTELY-NOTHING   \n",
       "10       accent, dialect, language, regional language              ACCENT   \n",
       "11  accept, adopt, agree to, embrace, own, passive...              ACCEPT   \n",
       "12  access, accessible, accessibility, admission, ...              ACCESS   \n",
       "13  accident, collide, crash, hit, oops, vehicle, ...            ACCIDENT   \n",
       "14  accomplish, at last, effective, finally, pah, ...          ACCOMPLISH   \n",
       "15                      accordion, musical instrument           ACCORDION   \n",
       "16                   accountant, count, money, person          ACCOUNTANT   \n",
       "17                      acquire, acquisition, pick up             ACQUIRE   \n",
       "18  act, drama, perform, performance, put on a pla...                 ACT   \n",
       "19         act, action, activity, behavior, do, event              ACTION   \n",
       "\n",
       "    SignBankReferenceID  bglm_aoa  empirical_aoa  group_id  \n",
       "0                1268.0       NaN            NaN       NaN  \n",
       "1                2436.0       NaN            NaN       0.0  \n",
       "2                2437.0       NaN            NaN       NaN  \n",
       "3                2857.0       NaN            NaN     130.0  \n",
       "4                   NaN       NaN            NaN     169.0  \n",
       "5                   0.0       NaN            NaN     117.0  \n",
       "6                 252.0       NaN            NaN     242.0  \n",
       "7                2043.0       NaN            NaN     128.0  \n",
       "8                2042.0      61.0           35.0       NaN  \n",
       "9                2044.0       NaN            NaN      52.0  \n",
       "10                584.0       NaN            NaN       NaN  \n",
       "11               2045.0       NaN            NaN       NaN  \n",
       "12               2046.0       NaN            NaN     199.0  \n",
       "13               2047.0       NaN            NaN     125.0  \n",
       "14                453.0       NaN            NaN     167.0  \n",
       "15               3331.0       NaN            NaN      41.0  \n",
       "16               2439.0       NaN            NaN      87.0  \n",
       "17               2048.0       NaN            NaN     168.0  \n",
       "18                  5.0       NaN            NaN      60.0  \n",
       "19               2440.0       NaN            NaN       2.0  \n",
       "\n",
       "[20 rows x 188 columns]"
      ]
     },
     "execution_count": 15,
     "metadata": {},
     "output_type": "execute_result"
    }
   ],
   "source": [
    "\n",
    "df_merged = pd.merge(df_default, df_with_groupids,how='left', on=['Code'])\n",
    "print(df_merged.shape)\n",
    "# print(df_merged.columns.values)\n",
    "df_merged.head(20)"
   ]
  },
  {
   "cell_type": "code",
   "execution_count": 22,
   "metadata": {},
   "outputs": [
    {
     "name": "stdout",
     "output_type": "stream",
     "text": [
      "0       1000.0\n",
      "1          0.0\n",
      "2       1000.0\n",
      "3        131.0\n",
      "4        170.0\n",
      "         ...  \n",
      "2718      17.0\n",
      "2719    1000.0\n",
      "2720       9.0\n",
      "2721    1000.0\n",
      "2722    1000.0\n",
      "Name: group_id, Length: 2723, dtype: float64\n"
     ]
    },
    {
     "data": {
      "text/plain": [
       "array([1000.,    0.,  131.,  170.,  118.,  243.,  129.,   52.,  200.,\n",
       "        126.,  168.,   41.,   87.,  169.,   60.,    2.,   12.,  178.,\n",
       "        257.,  103.,   86.,  128.,   10.,    4.,    9.,   64.,  179.,\n",
       "         17.,   77.,  198.,   55.,  147.,  140.,   97.,   89.,  101.,\n",
       "         92.,   13.,   24.,  181.,  142.,   81.,  155.,   59.,   38.,\n",
       "        172.,   29.,   21.,    1.,   45.,   51.,  194.,  100.,  153.,\n",
       "         82.,  122.,  197.,  233.,   94.,   33.,  252.,  109.,  121.,\n",
       "         69.,  116.,  216.,  217.,  189.,  260.,   36.,  148.,   88.,\n",
       "         27.,  275.,   44.,   99.,  251.,  199.,   95.,   16.,  241.,\n",
       "         49.,  157.,  145.,   65.,  229.,   22.,  166.,  215.,   28.,\n",
       "         85.,   66.,  110.,  132.,  115.,   32.,   56.,   18.,    5.,\n",
       "        273.,   11.,   90.,   19.,   15.,  127.,   72.,  164.,    8.,\n",
       "        135.,   23.,   68.,    3.,  224.,   40.,  180.,  218.,  211.,\n",
       "         47.,  208.,  151.,  192.,   20.,  124.,  268.,  209.,   37.,\n",
       "        190.,  176.,   70.,  158.,  119.,  184.,  239.,  214.,  213.,\n",
       "        113.,  261.,  125.,   42.,  269.,  236.,   71.,  156.,    7.,\n",
       "        152.,  133.,   43.,  249.,   46.,  256.,   79.,   30.,  232.,\n",
       "         50.,  242.,   34.,  230.,  120.,  177.,  150.,   76.,  203.,\n",
       "        112.,  206.,  144.,  123.,  238.,  186.,  264.,   78.,  244.,\n",
       "        262.,  258.,  227.,   62.,  149.,  165.,  159.,  105.,  270.,\n",
       "        226.,  210.,  202.,   98.,  174.,  182.,  212.,  223.,  117.,\n",
       "        207.,   54.,  143.,  173.,  266.,  253.,   53.,  235.,   26.,\n",
       "        167.,  225.,  274.,  220.,   39.,  163.,  137.,   73.,  245.,\n",
       "        221.,  102.,  237.,  228.,  134.,  247.,   63.,  193.,  141.,\n",
       "        248.,  154.,  185.,  201.,   74.,   48.,   35.,  183.,  161.,\n",
       "        160.,  162.,  195.,   93.,  107.,  246.,  271.,   83.,  111.,\n",
       "        191.,   84.,  250.,   96.,   25.,  272.,  104.,  259.,  175.,\n",
       "         80.,  205.,  263.,   31.,  171.,   14.,   57.,   91.,  108.,\n",
       "        254.,   58.,  136.,   75.,  265.,  231.,  240.,  222.,  188.,\n",
       "        234.,  255.,  130.,  187.,  138.,  219.,  146.,  114.,  196.,\n",
       "         61.,  204.,    6.,  139.,   67.,  106.,  267.])"
      ]
     },
     "execution_count": 22,
     "metadata": {},
     "output_type": "execute_result"
    }
   ],
   "source": [
    "values = {'group_id': 1000}\n",
    "df_merged = df_merged.fillna(value=values)\n",
    "\n",
    "print(df_merged['group_id'])\n",
    "unique_community_ids = df_merged['group_id'].unique()\n",
    "unique_community_ids"
   ]
  },
  {
   "cell_type": "code",
   "execution_count": 23,
   "metadata": {},
   "outputs": [
    {
     "data": {
      "text/plain": [
       "[{'group_id': 1000, 'color_code': '#bd4a66'},\n",
       " {'group_id': 0.0, 'color_code': '#e97646'},\n",
       " {'group_id': 131.0, 'color_code': '#ed8899'},\n",
       " {'group_id': 170.0, 'color_code': '#b1945e'},\n",
       " {'group_id': 118.0, 'color_code': '#898e9b'},\n",
       " {'group_id': 243.0, 'color_code': '#ed1507'},\n",
       " {'group_id': 129.0, 'color_code': '#c1445a'},\n",
       " {'group_id': 52.0, 'color_code': '#e20536'},\n",
       " {'group_id': 200.0, 'color_code': '#e604c8'},\n",
       " {'group_id': 126.0, 'color_code': '#7da5d8'},\n",
       " {'group_id': 168.0, 'color_code': '#9d0ba6'},\n",
       " {'group_id': 41.0, 'color_code': '#db760b'},\n",
       " {'group_id': 87.0, 'color_code': '#a5f5d5'},\n",
       " {'group_id': 169.0, 'color_code': '#d2c184'},\n",
       " {'group_id': 60.0, 'color_code': '#acdb59'},\n",
       " {'group_id': 2.0, 'color_code': '#f539be'},\n",
       " {'group_id': 12.0, 'color_code': '#30c3ed'},\n",
       " {'group_id': 178.0, 'color_code': '#971ede'},\n",
       " {'group_id': 257.0, 'color_code': '#49f1b8'},\n",
       " {'group_id': 103.0, 'color_code': '#8929fb'},\n",
       " {'group_id': 86.0, 'color_code': '#0c01a7'},\n",
       " {'group_id': 128.0, 'color_code': '#6d29cd'},\n",
       " {'group_id': 10.0, 'color_code': '#0e92e2'},\n",
       " {'group_id': 4.0, 'color_code': '#6de3be'},\n",
       " {'group_id': 9.0, 'color_code': '#ad4970'},\n",
       " {'group_id': 64.0, 'color_code': '#254304'},\n",
       " {'group_id': 179.0, 'color_code': '#7a8a8f'},\n",
       " {'group_id': 17.0, 'color_code': '#0882d5'},\n",
       " {'group_id': 77.0, 'color_code': '#1124af'},\n",
       " {'group_id': 198.0, 'color_code': '#022ddd'},\n",
       " {'group_id': 55.0, 'color_code': '#a6b7b9'},\n",
       " {'group_id': 147.0, 'color_code': '#2f5502'},\n",
       " {'group_id': 140.0, 'color_code': '#fea1c2'},\n",
       " {'group_id': 97.0, 'color_code': '#dec97f'},\n",
       " {'group_id': 89.0, 'color_code': '#1e228b'},\n",
       " {'group_id': 101.0, 'color_code': '#fbc741'},\n",
       " {'group_id': 92.0, 'color_code': '#b429ca'},\n",
       " {'group_id': 13.0, 'color_code': '#c8e35d'},\n",
       " {'group_id': 24.0, 'color_code': '#0bbc2a'},\n",
       " {'group_id': 181.0, 'color_code': '#d7caa3'},\n",
       " {'group_id': 142.0, 'color_code': '#3e30e9'},\n",
       " {'group_id': 81.0, 'color_code': '#81a095'},\n",
       " {'group_id': 155.0, 'color_code': '#e1552f'},\n",
       " {'group_id': 59.0, 'color_code': '#916557'},\n",
       " {'group_id': 38.0, 'color_code': '#2fd10e'},\n",
       " {'group_id': 172.0, 'color_code': '#8e9f8c'},\n",
       " {'group_id': 29.0, 'color_code': '#cad44b'},\n",
       " {'group_id': 21.0, 'color_code': '#b556dc'},\n",
       " {'group_id': 1.0, 'color_code': '#86839b'},\n",
       " {'group_id': 45.0, 'color_code': '#cfb78d'},\n",
       " {'group_id': 51.0, 'color_code': '#8c1920'},\n",
       " {'group_id': 194.0, 'color_code': '#4a94af'},\n",
       " {'group_id': 100.0, 'color_code': '#1f7e10'},\n",
       " {'group_id': 153.0, 'color_code': '#0fd359'},\n",
       " {'group_id': 82.0, 'color_code': '#1e93a7'},\n",
       " {'group_id': 122.0, 'color_code': '#a3d3eb'},\n",
       " {'group_id': 197.0, 'color_code': '#c62348'},\n",
       " {'group_id': 233.0, 'color_code': '#32f800'},\n",
       " {'group_id': 94.0, 'color_code': '#28dbb9'},\n",
       " {'group_id': 33.0, 'color_code': '#fc04dd'},\n",
       " {'group_id': 252.0, 'color_code': '#4a3041'},\n",
       " {'group_id': 109.0, 'color_code': '#deb95c'},\n",
       " {'group_id': 121.0, 'color_code': '#673efa'},\n",
       " {'group_id': 69.0, 'color_code': '#989939'},\n",
       " {'group_id': 116.0, 'color_code': '#dc86a9'},\n",
       " {'group_id': 216.0, 'color_code': '#b2f86a'},\n",
       " {'group_id': 217.0, 'color_code': '#9d30c8'},\n",
       " {'group_id': 189.0, 'color_code': '#6fd804'},\n",
       " {'group_id': 260.0, 'color_code': '#9fd3a8'},\n",
       " {'group_id': 36.0, 'color_code': '#11edfd'},\n",
       " {'group_id': 148.0, 'color_code': '#add2e7'},\n",
       " {'group_id': 88.0, 'color_code': '#3405ee'},\n",
       " {'group_id': 27.0, 'color_code': '#4ef7ce'},\n",
       " {'group_id': 275.0, 'color_code': '#81617f'},\n",
       " {'group_id': 44.0, 'color_code': '#f27884'},\n",
       " {'group_id': 99.0, 'color_code': '#ede928'},\n",
       " {'group_id': 251.0, 'color_code': '#0d442a'},\n",
       " {'group_id': 199.0, 'color_code': '#852c25'},\n",
       " {'group_id': 95.0, 'color_code': '#1d5c9e'},\n",
       " {'group_id': 16.0, 'color_code': '#5036a1'},\n",
       " {'group_id': 241.0, 'color_code': '#d5a772'},\n",
       " {'group_id': 49.0, 'color_code': '#6dd8a3'},\n",
       " {'group_id': 157.0, 'color_code': '#91daf1'},\n",
       " {'group_id': 145.0, 'color_code': '#233154'},\n",
       " {'group_id': 65.0, 'color_code': '#4c5f61'},\n",
       " {'group_id': 229.0, 'color_code': '#827c53'},\n",
       " {'group_id': 22.0, 'color_code': '#5bcbc4'},\n",
       " {'group_id': 166.0, 'color_code': '#140216'},\n",
       " {'group_id': 215.0, 'color_code': '#a564f5'},\n",
       " {'group_id': 28.0, 'color_code': '#dfbc6b'},\n",
       " {'group_id': 85.0, 'color_code': '#1641d3'},\n",
       " {'group_id': 66.0, 'color_code': '#5a6d53'},\n",
       " {'group_id': 110.0, 'color_code': '#70e54e'},\n",
       " {'group_id': 132.0, 'color_code': '#0ec47a'},\n",
       " {'group_id': 115.0, 'color_code': '#bfc692'},\n",
       " {'group_id': 32.0, 'color_code': '#06cb5e'},\n",
       " {'group_id': 56.0, 'color_code': '#d288d0'},\n",
       " {'group_id': 18.0, 'color_code': '#dd922d'},\n",
       " {'group_id': 5.0, 'color_code': '#42a057'},\n",
       " {'group_id': 273.0, 'color_code': '#7c1a44'},\n",
       " {'group_id': 11.0, 'color_code': '#73d5dd'},\n",
       " {'group_id': 90.0, 'color_code': '#8e41ee'},\n",
       " {'group_id': 19.0, 'color_code': '#94c05e'},\n",
       " {'group_id': 15.0, 'color_code': '#0919a1'},\n",
       " {'group_id': 127.0, 'color_code': '#d542a3'},\n",
       " {'group_id': 72.0, 'color_code': '#4065ed'},\n",
       " {'group_id': 164.0, 'color_code': '#6ebcdf'},\n",
       " {'group_id': 8.0, 'color_code': '#f0ac24'},\n",
       " {'group_id': 135.0, 'color_code': '#a3ed9b'},\n",
       " {'group_id': 23.0, 'color_code': '#3b2219'},\n",
       " {'group_id': 68.0, 'color_code': '#6e5f4f'},\n",
       " {'group_id': 3.0, 'color_code': '#e229da'},\n",
       " {'group_id': 224.0, 'color_code': '#b1002d'},\n",
       " {'group_id': 40.0, 'color_code': '#b8aa59'},\n",
       " {'group_id': 180.0, 'color_code': '#15ba6f'},\n",
       " {'group_id': 218.0, 'color_code': '#9eeba1'},\n",
       " {'group_id': 211.0, 'color_code': '#f37065'},\n",
       " {'group_id': 47.0, 'color_code': '#2c9d29'},\n",
       " {'group_id': 208.0, 'color_code': '#f5fe97'},\n",
       " {'group_id': 151.0, 'color_code': '#e9f5a6'},\n",
       " {'group_id': 192.0, 'color_code': '#361b72'},\n",
       " {'group_id': 20.0, 'color_code': '#aa9f4d'},\n",
       " {'group_id': 124.0, 'color_code': '#b032a6'},\n",
       " {'group_id': 268.0, 'color_code': '#db12a0'},\n",
       " {'group_id': 209.0, 'color_code': '#4df58d'},\n",
       " {'group_id': 37.0, 'color_code': '#9ee346'},\n",
       " {'group_id': 190.0, 'color_code': '#ab9925'},\n",
       " {'group_id': 176.0, 'color_code': '#fccb6d'},\n",
       " {'group_id': 70.0, 'color_code': '#015865'},\n",
       " {'group_id': 158.0, 'color_code': '#0bf223'},\n",
       " {'group_id': 119.0, 'color_code': '#1493c5'},\n",
       " {'group_id': 184.0, 'color_code': '#57c0dc'},\n",
       " {'group_id': 239.0, 'color_code': '#3e7510'},\n",
       " {'group_id': 214.0, 'color_code': '#32700e'},\n",
       " {'group_id': 213.0, 'color_code': '#5a7e18'},\n",
       " {'group_id': 113.0, 'color_code': '#e2fe2c'},\n",
       " {'group_id': 261.0, 'color_code': '#f31aae'},\n",
       " {'group_id': 125.0, 'color_code': '#817d3f'},\n",
       " {'group_id': 42.0, 'color_code': '#5e5aaa'},\n",
       " {'group_id': 269.0, 'color_code': '#c467a8'},\n",
       " {'group_id': 236.0, 'color_code': '#d4f620'},\n",
       " {'group_id': 71.0, 'color_code': '#4adacb'},\n",
       " {'group_id': 156.0, 'color_code': '#f595b0'},\n",
       " {'group_id': 7.0, 'color_code': '#09c09b'},\n",
       " {'group_id': 152.0, 'color_code': '#f4f185'},\n",
       " {'group_id': 133.0, 'color_code': '#4f0c68'},\n",
       " {'group_id': 43.0, 'color_code': '#2f52f6'},\n",
       " {'group_id': 249.0, 'color_code': '#670a8d'},\n",
       " {'group_id': 46.0, 'color_code': '#084c41'},\n",
       " {'group_id': 256.0, 'color_code': '#fa89a7'},\n",
       " {'group_id': 79.0, 'color_code': '#b339ce'},\n",
       " {'group_id': 30.0, 'color_code': '#49e433'},\n",
       " {'group_id': 232.0, 'color_code': '#8647d4'},\n",
       " {'group_id': 50.0, 'color_code': '#b8e799'},\n",
       " {'group_id': 242.0, 'color_code': '#d5e1f0'},\n",
       " {'group_id': 34.0, 'color_code': '#916b15'},\n",
       " {'group_id': 230.0, 'color_code': '#3ff355'},\n",
       " {'group_id': 120.0, 'color_code': '#82df7c'},\n",
       " {'group_id': 177.0, 'color_code': '#db8265'},\n",
       " {'group_id': 150.0, 'color_code': '#2cedb9'},\n",
       " {'group_id': 76.0, 'color_code': '#705614'},\n",
       " {'group_id': 203.0, 'color_code': '#009335'},\n",
       " {'group_id': 112.0, 'color_code': '#462b5a'},\n",
       " {'group_id': 206.0, 'color_code': '#35f73e'},\n",
       " {'group_id': 144.0, 'color_code': '#d8e9b1'},\n",
       " {'group_id': 123.0, 'color_code': '#38bab2'},\n",
       " {'group_id': 238.0, 'color_code': '#cce0e2'},\n",
       " {'group_id': 186.0, 'color_code': '#dbd596'},\n",
       " {'group_id': 264.0, 'color_code': '#f45b11'},\n",
       " {'group_id': 78.0, 'color_code': '#1f09c2'},\n",
       " {'group_id': 244.0, 'color_code': '#4d3f84'},\n",
       " {'group_id': 262.0, 'color_code': '#5f1e58'},\n",
       " {'group_id': 258.0, 'color_code': '#9986a1'},\n",
       " {'group_id': 227.0, 'color_code': '#765ae9'},\n",
       " {'group_id': 62.0, 'color_code': '#5045a8'},\n",
       " {'group_id': 149.0, 'color_code': '#0dbc23'},\n",
       " {'group_id': 165.0, 'color_code': '#c1e001'},\n",
       " {'group_id': 159.0, 'color_code': '#84a446'},\n",
       " {'group_id': 105.0, 'color_code': '#62dd3d'},\n",
       " {'group_id': 270.0, 'color_code': '#4255f1'},\n",
       " {'group_id': 226.0, 'color_code': '#083f3d'},\n",
       " {'group_id': 210.0, 'color_code': '#15ed57'},\n",
       " {'group_id': 202.0, 'color_code': '#12362a'},\n",
       " {'group_id': 98.0, 'color_code': '#ba01ca'},\n",
       " {'group_id': 174.0, 'color_code': '#f7f505'},\n",
       " {'group_id': 182.0, 'color_code': '#a60797'},\n",
       " {'group_id': 212.0, 'color_code': '#9e8a67'},\n",
       " {'group_id': 223.0, 'color_code': '#d4c865'},\n",
       " {'group_id': 117.0, 'color_code': '#73e64d'},\n",
       " {'group_id': 207.0, 'color_code': '#06d558'},\n",
       " {'group_id': 54.0, 'color_code': '#b704fd'},\n",
       " {'group_id': 143.0, 'color_code': '#842760'},\n",
       " {'group_id': 173.0, 'color_code': '#0f4258'},\n",
       " {'group_id': 266.0, 'color_code': '#083b5d'},\n",
       " {'group_id': 253.0, 'color_code': '#5ea741'},\n",
       " {'group_id': 53.0, 'color_code': '#cdc553'},\n",
       " {'group_id': 235.0, 'color_code': '#a10c4b'},\n",
       " {'group_id': 26.0, 'color_code': '#6e57d0'},\n",
       " {'group_id': 167.0, 'color_code': '#5b4dd9'},\n",
       " {'group_id': 225.0, 'color_code': '#6c7113'},\n",
       " {'group_id': 274.0, 'color_code': '#a6a302'},\n",
       " {'group_id': 220.0, 'color_code': '#fa8403'},\n",
       " {'group_id': 39.0, 'color_code': '#661acd'},\n",
       " {'group_id': 163.0, 'color_code': '#99e58d'},\n",
       " {'group_id': 137.0, 'color_code': '#12fe74'},\n",
       " {'group_id': 73.0, 'color_code': '#fb353e'},\n",
       " {'group_id': 245.0, 'color_code': '#0b5221'},\n",
       " {'group_id': 221.0, 'color_code': '#8bca96'},\n",
       " {'group_id': 102.0, 'color_code': '#ed3078'},\n",
       " {'group_id': 237.0, 'color_code': '#679d8d'},\n",
       " {'group_id': 228.0, 'color_code': '#9a81df'},\n",
       " {'group_id': 134.0, 'color_code': '#d94c1f'},\n",
       " {'group_id': 247.0, 'color_code': '#30c4d4'},\n",
       " {'group_id': 63.0, 'color_code': '#9680c9'},\n",
       " {'group_id': 193.0, 'color_code': '#12d957'},\n",
       " {'group_id': 141.0, 'color_code': '#3dc133'},\n",
       " {'group_id': 248.0, 'color_code': '#07dfd5'},\n",
       " {'group_id': 154.0, 'color_code': '#6814ab'},\n",
       " {'group_id': 185.0, 'color_code': '#d9430f'},\n",
       " {'group_id': 201.0, 'color_code': '#43cf80'},\n",
       " {'group_id': 74.0, 'color_code': '#d63b5e'},\n",
       " {'group_id': 48.0, 'color_code': '#97dfb8'},\n",
       " {'group_id': 35.0, 'color_code': '#bd50ea'},\n",
       " {'group_id': 183.0, 'color_code': '#8fa79f'},\n",
       " {'group_id': 161.0, 'color_code': '#d43433'},\n",
       " {'group_id': 160.0, 'color_code': '#f0fe30'},\n",
       " {'group_id': 162.0, 'color_code': '#f4868f'},\n",
       " {'group_id': 195.0, 'color_code': '#be3bd9'},\n",
       " {'group_id': 93.0, 'color_code': '#f0b018'},\n",
       " {'group_id': 107.0, 'color_code': '#7782c6'},\n",
       " {'group_id': 246.0, 'color_code': '#63308d'},\n",
       " {'group_id': 271.0, 'color_code': '#b05b03'},\n",
       " {'group_id': 83.0, 'color_code': '#e518f4'},\n",
       " {'group_id': 111.0, 'color_code': '#cce370'},\n",
       " {'group_id': 191.0, 'color_code': '#04c45b'},\n",
       " {'group_id': 84.0, 'color_code': '#a0a4c9'},\n",
       " {'group_id': 250.0, 'color_code': '#f7b08a'},\n",
       " {'group_id': 96.0, 'color_code': '#91a35e'},\n",
       " {'group_id': 25.0, 'color_code': '#f8cf60'},\n",
       " {'group_id': 272.0, 'color_code': '#f29887'},\n",
       " {'group_id': 104.0, 'color_code': '#de1ead'},\n",
       " {'group_id': 259.0, 'color_code': '#1ef295'},\n",
       " {'group_id': 175.0, 'color_code': '#11c0bb'},\n",
       " {'group_id': 80.0, 'color_code': '#072a52'},\n",
       " {'group_id': 205.0, 'color_code': '#fb6d2a'},\n",
       " {'group_id': 263.0, 'color_code': '#e97bef'},\n",
       " {'group_id': 31.0, 'color_code': '#a1e622'},\n",
       " {'group_id': 171.0, 'color_code': '#368786'},\n",
       " {'group_id': 14.0, 'color_code': '#a630b5'},\n",
       " {'group_id': 57.0, 'color_code': '#30d07d'},\n",
       " {'group_id': 91.0, 'color_code': '#bbf35a'},\n",
       " {'group_id': 108.0, 'color_code': '#75fd07'},\n",
       " {'group_id': 254.0, 'color_code': '#93c206'},\n",
       " {'group_id': 58.0, 'color_code': '#f1aff7'},\n",
       " {'group_id': 136.0, 'color_code': '#fdde55'},\n",
       " {'group_id': 75.0, 'color_code': '#229eaa'},\n",
       " {'group_id': 265.0, 'color_code': '#e2c1cb'},\n",
       " {'group_id': 231.0, 'color_code': '#5e2974'},\n",
       " {'group_id': 240.0, 'color_code': '#216af0'},\n",
       " {'group_id': 222.0, 'color_code': '#03b0c3'},\n",
       " {'group_id': 188.0, 'color_code': '#0b9d18'},\n",
       " {'group_id': 234.0, 'color_code': '#5a26b3'},\n",
       " {'group_id': 255.0, 'color_code': '#7f3d01'},\n",
       " {'group_id': 130.0, 'color_code': '#dd6242'},\n",
       " {'group_id': 187.0, 'color_code': '#b1e1a7'},\n",
       " {'group_id': 138.0, 'color_code': '#530e26'},\n",
       " {'group_id': 219.0, 'color_code': '#2ee279'},\n",
       " {'group_id': 146.0, 'color_code': '#e02f1f'},\n",
       " {'group_id': 114.0, 'color_code': '#cc6cf2'},\n",
       " {'group_id': 196.0, 'color_code': '#aff527'},\n",
       " {'group_id': 61.0, 'color_code': '#3d76a1'},\n",
       " {'group_id': 204.0, 'color_code': '#a40df5'},\n",
       " {'group_id': 6.0, 'color_code': '#95c833'},\n",
       " {'group_id': 139.0, 'color_code': '#e97607'},\n",
       " {'group_id': 67.0, 'color_code': '#72b257'},\n",
       " {'group_id': 106.0, 'color_code': '#c795bd'},\n",
       " {'group_id': 267.0, 'color_code': '#5f8352'}]"
      ]
     },
     "execution_count": 23,
     "metadata": {},
     "output_type": "execute_result"
    }
   ],
   "source": [
    "\n",
    "#Will assign all NaN's same color for now. That's okay.\n",
    "\n",
    "\n",
    "import random\n",
    " \n",
    "def colors(n):\n",
    "    if(n == 0):\n",
    "        n = 600\n",
    "    r = int(random.random() * 256)\n",
    "    g = int(random.random() * 256)\n",
    "    b = int(random.random() * 256)\n",
    "    \n",
    "    step = 256 / n\n",
    "#     print(n,r,g,b,step)\n",
    "\n",
    "    r += step\n",
    "    g += step\n",
    "    b += step\n",
    "    r = int(r) % 256\n",
    "    g = int(g) % 256\n",
    "    b = int(b) % 256\n",
    "    \n",
    "    colorstr = str(r)+\",\"+str(b)+\",\" + str(g)\n",
    "    return '#%02x%02x%02x' % (r, g, b)\n",
    "\n",
    "color_dict = []\n",
    "color_dictionary = {}\n",
    "for groupid in unique_community_ids:\n",
    "    #generate a random color\n",
    "    color = colors(groupid)\n",
    "    if(groupid == 1000):        \n",
    "        color_dict.append({'group_id': 1000, 'color_code': color})\n",
    "        color_dictionary['island'] = color\n",
    "    else:        \n",
    "        color_dict.append({'group_id':groupid , 'color_code': color})\n",
    "        color_dictionary[str(int(groupid))] = color\n",
    "    \n",
    "color_dict"
   ]
  },
  {
   "cell_type": "code",
   "execution_count": 24,
   "metadata": {},
   "outputs": [
    {
     "data": {
      "text/markdown": [
       "<br><span style=\"color:#bd4a66\">Sample</span>."
      ],
      "text/plain": [
       "<IPython.core.display.Markdown object>"
      ]
     },
     "metadata": {},
     "output_type": "display_data"
    },
    {
     "data": {
      "text/markdown": [
       "<br><span style=\"color:#e97646\">Sample</span>."
      ],
      "text/plain": [
       "<IPython.core.display.Markdown object>"
      ]
     },
     "metadata": {},
     "output_type": "display_data"
    },
    {
     "data": {
      "text/markdown": [
       "<br><span style=\"color:#ed8899\">Sample</span>."
      ],
      "text/plain": [
       "<IPython.core.display.Markdown object>"
      ]
     },
     "metadata": {},
     "output_type": "display_data"
    },
    {
     "data": {
      "text/markdown": [
       "<br><span style=\"color:#b1945e\">Sample</span>."
      ],
      "text/plain": [
       "<IPython.core.display.Markdown object>"
      ]
     },
     "metadata": {},
     "output_type": "display_data"
    },
    {
     "data": {
      "text/markdown": [
       "<br><span style=\"color:#898e9b\">Sample</span>."
      ],
      "text/plain": [
       "<IPython.core.display.Markdown object>"
      ]
     },
     "metadata": {},
     "output_type": "display_data"
    },
    {
     "data": {
      "text/markdown": [
       "<br><span style=\"color:#ed1507\">Sample</span>."
      ],
      "text/plain": [
       "<IPython.core.display.Markdown object>"
      ]
     },
     "metadata": {},
     "output_type": "display_data"
    },
    {
     "data": {
      "text/markdown": [
       "<br><span style=\"color:#c1445a\">Sample</span>."
      ],
      "text/plain": [
       "<IPython.core.display.Markdown object>"
      ]
     },
     "metadata": {},
     "output_type": "display_data"
    },
    {
     "data": {
      "text/markdown": [
       "<br><span style=\"color:#e20536\">Sample</span>."
      ],
      "text/plain": [
       "<IPython.core.display.Markdown object>"
      ]
     },
     "metadata": {},
     "output_type": "display_data"
    },
    {
     "data": {
      "text/markdown": [
       "<br><span style=\"color:#e604c8\">Sample</span>."
      ],
      "text/plain": [
       "<IPython.core.display.Markdown object>"
      ]
     },
     "metadata": {},
     "output_type": "display_data"
    },
    {
     "data": {
      "text/markdown": [
       "<br><span style=\"color:#7da5d8\">Sample</span>."
      ],
      "text/plain": [
       "<IPython.core.display.Markdown object>"
      ]
     },
     "metadata": {},
     "output_type": "display_data"
    },
    {
     "data": {
      "text/markdown": [
       "<br><span style=\"color:#9d0ba6\">Sample</span>."
      ],
      "text/plain": [
       "<IPython.core.display.Markdown object>"
      ]
     },
     "metadata": {},
     "output_type": "display_data"
    },
    {
     "data": {
      "text/markdown": [
       "<br><span style=\"color:#db760b\">Sample</span>."
      ],
      "text/plain": [
       "<IPython.core.display.Markdown object>"
      ]
     },
     "metadata": {},
     "output_type": "display_data"
    },
    {
     "data": {
      "text/markdown": [
       "<br><span style=\"color:#a5f5d5\">Sample</span>."
      ],
      "text/plain": [
       "<IPython.core.display.Markdown object>"
      ]
     },
     "metadata": {},
     "output_type": "display_data"
    },
    {
     "data": {
      "text/markdown": [
       "<br><span style=\"color:#d2c184\">Sample</span>."
      ],
      "text/plain": [
       "<IPython.core.display.Markdown object>"
      ]
     },
     "metadata": {},
     "output_type": "display_data"
    },
    {
     "data": {
      "text/markdown": [
       "<br><span style=\"color:#acdb59\">Sample</span>."
      ],
      "text/plain": [
       "<IPython.core.display.Markdown object>"
      ]
     },
     "metadata": {},
     "output_type": "display_data"
    },
    {
     "data": {
      "text/markdown": [
       "<br><span style=\"color:#f539be\">Sample</span>."
      ],
      "text/plain": [
       "<IPython.core.display.Markdown object>"
      ]
     },
     "metadata": {},
     "output_type": "display_data"
    },
    {
     "data": {
      "text/markdown": [
       "<br><span style=\"color:#30c3ed\">Sample</span>."
      ],
      "text/plain": [
       "<IPython.core.display.Markdown object>"
      ]
     },
     "metadata": {},
     "output_type": "display_data"
    },
    {
     "data": {
      "text/markdown": [
       "<br><span style=\"color:#971ede\">Sample</span>."
      ],
      "text/plain": [
       "<IPython.core.display.Markdown object>"
      ]
     },
     "metadata": {},
     "output_type": "display_data"
    },
    {
     "data": {
      "text/markdown": [
       "<br><span style=\"color:#49f1b8\">Sample</span>."
      ],
      "text/plain": [
       "<IPython.core.display.Markdown object>"
      ]
     },
     "metadata": {},
     "output_type": "display_data"
    },
    {
     "data": {
      "text/markdown": [
       "<br><span style=\"color:#8929fb\">Sample</span>."
      ],
      "text/plain": [
       "<IPython.core.display.Markdown object>"
      ]
     },
     "metadata": {},
     "output_type": "display_data"
    },
    {
     "data": {
      "text/markdown": [
       "<br><span style=\"color:#0c01a7\">Sample</span>."
      ],
      "text/plain": [
       "<IPython.core.display.Markdown object>"
      ]
     },
     "metadata": {},
     "output_type": "display_data"
    },
    {
     "data": {
      "text/markdown": [
       "<br><span style=\"color:#6d29cd\">Sample</span>."
      ],
      "text/plain": [
       "<IPython.core.display.Markdown object>"
      ]
     },
     "metadata": {},
     "output_type": "display_data"
    },
    {
     "data": {
      "text/markdown": [
       "<br><span style=\"color:#0e92e2\">Sample</span>."
      ],
      "text/plain": [
       "<IPython.core.display.Markdown object>"
      ]
     },
     "metadata": {},
     "output_type": "display_data"
    },
    {
     "data": {
      "text/markdown": [
       "<br><span style=\"color:#6de3be\">Sample</span>."
      ],
      "text/plain": [
       "<IPython.core.display.Markdown object>"
      ]
     },
     "metadata": {},
     "output_type": "display_data"
    },
    {
     "data": {
      "text/markdown": [
       "<br><span style=\"color:#ad4970\">Sample</span>."
      ],
      "text/plain": [
       "<IPython.core.display.Markdown object>"
      ]
     },
     "metadata": {},
     "output_type": "display_data"
    },
    {
     "data": {
      "text/markdown": [
       "<br><span style=\"color:#254304\">Sample</span>."
      ],
      "text/plain": [
       "<IPython.core.display.Markdown object>"
      ]
     },
     "metadata": {},
     "output_type": "display_data"
    },
    {
     "data": {
      "text/markdown": [
       "<br><span style=\"color:#7a8a8f\">Sample</span>."
      ],
      "text/plain": [
       "<IPython.core.display.Markdown object>"
      ]
     },
     "metadata": {},
     "output_type": "display_data"
    },
    {
     "data": {
      "text/markdown": [
       "<br><span style=\"color:#0882d5\">Sample</span>."
      ],
      "text/plain": [
       "<IPython.core.display.Markdown object>"
      ]
     },
     "metadata": {},
     "output_type": "display_data"
    },
    {
     "data": {
      "text/markdown": [
       "<br><span style=\"color:#1124af\">Sample</span>."
      ],
      "text/plain": [
       "<IPython.core.display.Markdown object>"
      ]
     },
     "metadata": {},
     "output_type": "display_data"
    },
    {
     "data": {
      "text/markdown": [
       "<br><span style=\"color:#022ddd\">Sample</span>."
      ],
      "text/plain": [
       "<IPython.core.display.Markdown object>"
      ]
     },
     "metadata": {},
     "output_type": "display_data"
    },
    {
     "data": {
      "text/markdown": [
       "<br><span style=\"color:#a6b7b9\">Sample</span>."
      ],
      "text/plain": [
       "<IPython.core.display.Markdown object>"
      ]
     },
     "metadata": {},
     "output_type": "display_data"
    },
    {
     "data": {
      "text/markdown": [
       "<br><span style=\"color:#2f5502\">Sample</span>."
      ],
      "text/plain": [
       "<IPython.core.display.Markdown object>"
      ]
     },
     "metadata": {},
     "output_type": "display_data"
    },
    {
     "data": {
      "text/markdown": [
       "<br><span style=\"color:#fea1c2\">Sample</span>."
      ],
      "text/plain": [
       "<IPython.core.display.Markdown object>"
      ]
     },
     "metadata": {},
     "output_type": "display_data"
    },
    {
     "data": {
      "text/markdown": [
       "<br><span style=\"color:#dec97f\">Sample</span>."
      ],
      "text/plain": [
       "<IPython.core.display.Markdown object>"
      ]
     },
     "metadata": {},
     "output_type": "display_data"
    },
    {
     "data": {
      "text/markdown": [
       "<br><span style=\"color:#1e228b\">Sample</span>."
      ],
      "text/plain": [
       "<IPython.core.display.Markdown object>"
      ]
     },
     "metadata": {},
     "output_type": "display_data"
    },
    {
     "data": {
      "text/markdown": [
       "<br><span style=\"color:#fbc741\">Sample</span>."
      ],
      "text/plain": [
       "<IPython.core.display.Markdown object>"
      ]
     },
     "metadata": {},
     "output_type": "display_data"
    },
    {
     "data": {
      "text/markdown": [
       "<br><span style=\"color:#b429ca\">Sample</span>."
      ],
      "text/plain": [
       "<IPython.core.display.Markdown object>"
      ]
     },
     "metadata": {},
     "output_type": "display_data"
    },
    {
     "data": {
      "text/markdown": [
       "<br><span style=\"color:#c8e35d\">Sample</span>."
      ],
      "text/plain": [
       "<IPython.core.display.Markdown object>"
      ]
     },
     "metadata": {},
     "output_type": "display_data"
    },
    {
     "data": {
      "text/markdown": [
       "<br><span style=\"color:#0bbc2a\">Sample</span>."
      ],
      "text/plain": [
       "<IPython.core.display.Markdown object>"
      ]
     },
     "metadata": {},
     "output_type": "display_data"
    },
    {
     "data": {
      "text/markdown": [
       "<br><span style=\"color:#d7caa3\">Sample</span>."
      ],
      "text/plain": [
       "<IPython.core.display.Markdown object>"
      ]
     },
     "metadata": {},
     "output_type": "display_data"
    },
    {
     "data": {
      "text/markdown": [
       "<br><span style=\"color:#3e30e9\">Sample</span>."
      ],
      "text/plain": [
       "<IPython.core.display.Markdown object>"
      ]
     },
     "metadata": {},
     "output_type": "display_data"
    },
    {
     "data": {
      "text/markdown": [
       "<br><span style=\"color:#81a095\">Sample</span>."
      ],
      "text/plain": [
       "<IPython.core.display.Markdown object>"
      ]
     },
     "metadata": {},
     "output_type": "display_data"
    },
    {
     "data": {
      "text/markdown": [
       "<br><span style=\"color:#e1552f\">Sample</span>."
      ],
      "text/plain": [
       "<IPython.core.display.Markdown object>"
      ]
     },
     "metadata": {},
     "output_type": "display_data"
    },
    {
     "data": {
      "text/markdown": [
       "<br><span style=\"color:#916557\">Sample</span>."
      ],
      "text/plain": [
       "<IPython.core.display.Markdown object>"
      ]
     },
     "metadata": {},
     "output_type": "display_data"
    },
    {
     "data": {
      "text/markdown": [
       "<br><span style=\"color:#2fd10e\">Sample</span>."
      ],
      "text/plain": [
       "<IPython.core.display.Markdown object>"
      ]
     },
     "metadata": {},
     "output_type": "display_data"
    },
    {
     "data": {
      "text/markdown": [
       "<br><span style=\"color:#8e9f8c\">Sample</span>."
      ],
      "text/plain": [
       "<IPython.core.display.Markdown object>"
      ]
     },
     "metadata": {},
     "output_type": "display_data"
    },
    {
     "data": {
      "text/markdown": [
       "<br><span style=\"color:#cad44b\">Sample</span>."
      ],
      "text/plain": [
       "<IPython.core.display.Markdown object>"
      ]
     },
     "metadata": {},
     "output_type": "display_data"
    },
    {
     "data": {
      "text/markdown": [
       "<br><span style=\"color:#b556dc\">Sample</span>."
      ],
      "text/plain": [
       "<IPython.core.display.Markdown object>"
      ]
     },
     "metadata": {},
     "output_type": "display_data"
    },
    {
     "data": {
      "text/markdown": [
       "<br><span style=\"color:#86839b\">Sample</span>."
      ],
      "text/plain": [
       "<IPython.core.display.Markdown object>"
      ]
     },
     "metadata": {},
     "output_type": "display_data"
    },
    {
     "data": {
      "text/markdown": [
       "<br><span style=\"color:#cfb78d\">Sample</span>."
      ],
      "text/plain": [
       "<IPython.core.display.Markdown object>"
      ]
     },
     "metadata": {},
     "output_type": "display_data"
    },
    {
     "data": {
      "text/markdown": [
       "<br><span style=\"color:#8c1920\">Sample</span>."
      ],
      "text/plain": [
       "<IPython.core.display.Markdown object>"
      ]
     },
     "metadata": {},
     "output_type": "display_data"
    },
    {
     "data": {
      "text/markdown": [
       "<br><span style=\"color:#4a94af\">Sample</span>."
      ],
      "text/plain": [
       "<IPython.core.display.Markdown object>"
      ]
     },
     "metadata": {},
     "output_type": "display_data"
    },
    {
     "data": {
      "text/markdown": [
       "<br><span style=\"color:#1f7e10\">Sample</span>."
      ],
      "text/plain": [
       "<IPython.core.display.Markdown object>"
      ]
     },
     "metadata": {},
     "output_type": "display_data"
    },
    {
     "data": {
      "text/markdown": [
       "<br><span style=\"color:#0fd359\">Sample</span>."
      ],
      "text/plain": [
       "<IPython.core.display.Markdown object>"
      ]
     },
     "metadata": {},
     "output_type": "display_data"
    },
    {
     "data": {
      "text/markdown": [
       "<br><span style=\"color:#1e93a7\">Sample</span>."
      ],
      "text/plain": [
       "<IPython.core.display.Markdown object>"
      ]
     },
     "metadata": {},
     "output_type": "display_data"
    },
    {
     "data": {
      "text/markdown": [
       "<br><span style=\"color:#a3d3eb\">Sample</span>."
      ],
      "text/plain": [
       "<IPython.core.display.Markdown object>"
      ]
     },
     "metadata": {},
     "output_type": "display_data"
    },
    {
     "data": {
      "text/markdown": [
       "<br><span style=\"color:#c62348\">Sample</span>."
      ],
      "text/plain": [
       "<IPython.core.display.Markdown object>"
      ]
     },
     "metadata": {},
     "output_type": "display_data"
    },
    {
     "data": {
      "text/markdown": [
       "<br><span style=\"color:#32f800\">Sample</span>."
      ],
      "text/plain": [
       "<IPython.core.display.Markdown object>"
      ]
     },
     "metadata": {},
     "output_type": "display_data"
    },
    {
     "data": {
      "text/markdown": [
       "<br><span style=\"color:#28dbb9\">Sample</span>."
      ],
      "text/plain": [
       "<IPython.core.display.Markdown object>"
      ]
     },
     "metadata": {},
     "output_type": "display_data"
    },
    {
     "data": {
      "text/markdown": [
       "<br><span style=\"color:#fc04dd\">Sample</span>."
      ],
      "text/plain": [
       "<IPython.core.display.Markdown object>"
      ]
     },
     "metadata": {},
     "output_type": "display_data"
    },
    {
     "data": {
      "text/markdown": [
       "<br><span style=\"color:#4a3041\">Sample</span>."
      ],
      "text/plain": [
       "<IPython.core.display.Markdown object>"
      ]
     },
     "metadata": {},
     "output_type": "display_data"
    },
    {
     "data": {
      "text/markdown": [
       "<br><span style=\"color:#deb95c\">Sample</span>."
      ],
      "text/plain": [
       "<IPython.core.display.Markdown object>"
      ]
     },
     "metadata": {},
     "output_type": "display_data"
    },
    {
     "data": {
      "text/markdown": [
       "<br><span style=\"color:#673efa\">Sample</span>."
      ],
      "text/plain": [
       "<IPython.core.display.Markdown object>"
      ]
     },
     "metadata": {},
     "output_type": "display_data"
    },
    {
     "data": {
      "text/markdown": [
       "<br><span style=\"color:#989939\">Sample</span>."
      ],
      "text/plain": [
       "<IPython.core.display.Markdown object>"
      ]
     },
     "metadata": {},
     "output_type": "display_data"
    },
    {
     "data": {
      "text/markdown": [
       "<br><span style=\"color:#dc86a9\">Sample</span>."
      ],
      "text/plain": [
       "<IPython.core.display.Markdown object>"
      ]
     },
     "metadata": {},
     "output_type": "display_data"
    },
    {
     "data": {
      "text/markdown": [
       "<br><span style=\"color:#b2f86a\">Sample</span>."
      ],
      "text/plain": [
       "<IPython.core.display.Markdown object>"
      ]
     },
     "metadata": {},
     "output_type": "display_data"
    },
    {
     "data": {
      "text/markdown": [
       "<br><span style=\"color:#9d30c8\">Sample</span>."
      ],
      "text/plain": [
       "<IPython.core.display.Markdown object>"
      ]
     },
     "metadata": {},
     "output_type": "display_data"
    },
    {
     "data": {
      "text/markdown": [
       "<br><span style=\"color:#6fd804\">Sample</span>."
      ],
      "text/plain": [
       "<IPython.core.display.Markdown object>"
      ]
     },
     "metadata": {},
     "output_type": "display_data"
    },
    {
     "data": {
      "text/markdown": [
       "<br><span style=\"color:#9fd3a8\">Sample</span>."
      ],
      "text/plain": [
       "<IPython.core.display.Markdown object>"
      ]
     },
     "metadata": {},
     "output_type": "display_data"
    },
    {
     "data": {
      "text/markdown": [
       "<br><span style=\"color:#11edfd\">Sample</span>."
      ],
      "text/plain": [
       "<IPython.core.display.Markdown object>"
      ]
     },
     "metadata": {},
     "output_type": "display_data"
    },
    {
     "data": {
      "text/markdown": [
       "<br><span style=\"color:#add2e7\">Sample</span>."
      ],
      "text/plain": [
       "<IPython.core.display.Markdown object>"
      ]
     },
     "metadata": {},
     "output_type": "display_data"
    },
    {
     "data": {
      "text/markdown": [
       "<br><span style=\"color:#3405ee\">Sample</span>."
      ],
      "text/plain": [
       "<IPython.core.display.Markdown object>"
      ]
     },
     "metadata": {},
     "output_type": "display_data"
    },
    {
     "data": {
      "text/markdown": [
       "<br><span style=\"color:#4ef7ce\">Sample</span>."
      ],
      "text/plain": [
       "<IPython.core.display.Markdown object>"
      ]
     },
     "metadata": {},
     "output_type": "display_data"
    },
    {
     "data": {
      "text/markdown": [
       "<br><span style=\"color:#81617f\">Sample</span>."
      ],
      "text/plain": [
       "<IPython.core.display.Markdown object>"
      ]
     },
     "metadata": {},
     "output_type": "display_data"
    },
    {
     "data": {
      "text/markdown": [
       "<br><span style=\"color:#f27884\">Sample</span>."
      ],
      "text/plain": [
       "<IPython.core.display.Markdown object>"
      ]
     },
     "metadata": {},
     "output_type": "display_data"
    },
    {
     "data": {
      "text/markdown": [
       "<br><span style=\"color:#ede928\">Sample</span>."
      ],
      "text/plain": [
       "<IPython.core.display.Markdown object>"
      ]
     },
     "metadata": {},
     "output_type": "display_data"
    },
    {
     "data": {
      "text/markdown": [
       "<br><span style=\"color:#0d442a\">Sample</span>."
      ],
      "text/plain": [
       "<IPython.core.display.Markdown object>"
      ]
     },
     "metadata": {},
     "output_type": "display_data"
    },
    {
     "data": {
      "text/markdown": [
       "<br><span style=\"color:#852c25\">Sample</span>."
      ],
      "text/plain": [
       "<IPython.core.display.Markdown object>"
      ]
     },
     "metadata": {},
     "output_type": "display_data"
    },
    {
     "data": {
      "text/markdown": [
       "<br><span style=\"color:#1d5c9e\">Sample</span>."
      ],
      "text/plain": [
       "<IPython.core.display.Markdown object>"
      ]
     },
     "metadata": {},
     "output_type": "display_data"
    },
    {
     "data": {
      "text/markdown": [
       "<br><span style=\"color:#5036a1\">Sample</span>."
      ],
      "text/plain": [
       "<IPython.core.display.Markdown object>"
      ]
     },
     "metadata": {},
     "output_type": "display_data"
    },
    {
     "data": {
      "text/markdown": [
       "<br><span style=\"color:#d5a772\">Sample</span>."
      ],
      "text/plain": [
       "<IPython.core.display.Markdown object>"
      ]
     },
     "metadata": {},
     "output_type": "display_data"
    },
    {
     "data": {
      "text/markdown": [
       "<br><span style=\"color:#6dd8a3\">Sample</span>."
      ],
      "text/plain": [
       "<IPython.core.display.Markdown object>"
      ]
     },
     "metadata": {},
     "output_type": "display_data"
    },
    {
     "data": {
      "text/markdown": [
       "<br><span style=\"color:#91daf1\">Sample</span>."
      ],
      "text/plain": [
       "<IPython.core.display.Markdown object>"
      ]
     },
     "metadata": {},
     "output_type": "display_data"
    },
    {
     "data": {
      "text/markdown": [
       "<br><span style=\"color:#233154\">Sample</span>."
      ],
      "text/plain": [
       "<IPython.core.display.Markdown object>"
      ]
     },
     "metadata": {},
     "output_type": "display_data"
    },
    {
     "data": {
      "text/markdown": [
       "<br><span style=\"color:#4c5f61\">Sample</span>."
      ],
      "text/plain": [
       "<IPython.core.display.Markdown object>"
      ]
     },
     "metadata": {},
     "output_type": "display_data"
    },
    {
     "data": {
      "text/markdown": [
       "<br><span style=\"color:#827c53\">Sample</span>."
      ],
      "text/plain": [
       "<IPython.core.display.Markdown object>"
      ]
     },
     "metadata": {},
     "output_type": "display_data"
    },
    {
     "data": {
      "text/markdown": [
       "<br><span style=\"color:#5bcbc4\">Sample</span>."
      ],
      "text/plain": [
       "<IPython.core.display.Markdown object>"
      ]
     },
     "metadata": {},
     "output_type": "display_data"
    },
    {
     "data": {
      "text/markdown": [
       "<br><span style=\"color:#140216\">Sample</span>."
      ],
      "text/plain": [
       "<IPython.core.display.Markdown object>"
      ]
     },
     "metadata": {},
     "output_type": "display_data"
    },
    {
     "data": {
      "text/markdown": [
       "<br><span style=\"color:#a564f5\">Sample</span>."
      ],
      "text/plain": [
       "<IPython.core.display.Markdown object>"
      ]
     },
     "metadata": {},
     "output_type": "display_data"
    },
    {
     "data": {
      "text/markdown": [
       "<br><span style=\"color:#dfbc6b\">Sample</span>."
      ],
      "text/plain": [
       "<IPython.core.display.Markdown object>"
      ]
     },
     "metadata": {},
     "output_type": "display_data"
    },
    {
     "data": {
      "text/markdown": [
       "<br><span style=\"color:#1641d3\">Sample</span>."
      ],
      "text/plain": [
       "<IPython.core.display.Markdown object>"
      ]
     },
     "metadata": {},
     "output_type": "display_data"
    },
    {
     "data": {
      "text/markdown": [
       "<br><span style=\"color:#5a6d53\">Sample</span>."
      ],
      "text/plain": [
       "<IPython.core.display.Markdown object>"
      ]
     },
     "metadata": {},
     "output_type": "display_data"
    },
    {
     "data": {
      "text/markdown": [
       "<br><span style=\"color:#70e54e\">Sample</span>."
      ],
      "text/plain": [
       "<IPython.core.display.Markdown object>"
      ]
     },
     "metadata": {},
     "output_type": "display_data"
    },
    {
     "data": {
      "text/markdown": [
       "<br><span style=\"color:#0ec47a\">Sample</span>."
      ],
      "text/plain": [
       "<IPython.core.display.Markdown object>"
      ]
     },
     "metadata": {},
     "output_type": "display_data"
    },
    {
     "data": {
      "text/markdown": [
       "<br><span style=\"color:#bfc692\">Sample</span>."
      ],
      "text/plain": [
       "<IPython.core.display.Markdown object>"
      ]
     },
     "metadata": {},
     "output_type": "display_data"
    },
    {
     "data": {
      "text/markdown": [
       "<br><span style=\"color:#06cb5e\">Sample</span>."
      ],
      "text/plain": [
       "<IPython.core.display.Markdown object>"
      ]
     },
     "metadata": {},
     "output_type": "display_data"
    },
    {
     "data": {
      "text/markdown": [
       "<br><span style=\"color:#d288d0\">Sample</span>."
      ],
      "text/plain": [
       "<IPython.core.display.Markdown object>"
      ]
     },
     "metadata": {},
     "output_type": "display_data"
    },
    {
     "data": {
      "text/markdown": [
       "<br><span style=\"color:#dd922d\">Sample</span>."
      ],
      "text/plain": [
       "<IPython.core.display.Markdown object>"
      ]
     },
     "metadata": {},
     "output_type": "display_data"
    },
    {
     "data": {
      "text/markdown": [
       "<br><span style=\"color:#42a057\">Sample</span>."
      ],
      "text/plain": [
       "<IPython.core.display.Markdown object>"
      ]
     },
     "metadata": {},
     "output_type": "display_data"
    },
    {
     "data": {
      "text/markdown": [
       "<br><span style=\"color:#7c1a44\">Sample</span>."
      ],
      "text/plain": [
       "<IPython.core.display.Markdown object>"
      ]
     },
     "metadata": {},
     "output_type": "display_data"
    },
    {
     "data": {
      "text/markdown": [
       "<br><span style=\"color:#73d5dd\">Sample</span>."
      ],
      "text/plain": [
       "<IPython.core.display.Markdown object>"
      ]
     },
     "metadata": {},
     "output_type": "display_data"
    },
    {
     "data": {
      "text/markdown": [
       "<br><span style=\"color:#8e41ee\">Sample</span>."
      ],
      "text/plain": [
       "<IPython.core.display.Markdown object>"
      ]
     },
     "metadata": {},
     "output_type": "display_data"
    },
    {
     "data": {
      "text/markdown": [
       "<br><span style=\"color:#94c05e\">Sample</span>."
      ],
      "text/plain": [
       "<IPython.core.display.Markdown object>"
      ]
     },
     "metadata": {},
     "output_type": "display_data"
    },
    {
     "data": {
      "text/markdown": [
       "<br><span style=\"color:#0919a1\">Sample</span>."
      ],
      "text/plain": [
       "<IPython.core.display.Markdown object>"
      ]
     },
     "metadata": {},
     "output_type": "display_data"
    },
    {
     "data": {
      "text/markdown": [
       "<br><span style=\"color:#d542a3\">Sample</span>."
      ],
      "text/plain": [
       "<IPython.core.display.Markdown object>"
      ]
     },
     "metadata": {},
     "output_type": "display_data"
    },
    {
     "data": {
      "text/markdown": [
       "<br><span style=\"color:#4065ed\">Sample</span>."
      ],
      "text/plain": [
       "<IPython.core.display.Markdown object>"
      ]
     },
     "metadata": {},
     "output_type": "display_data"
    },
    {
     "data": {
      "text/markdown": [
       "<br><span style=\"color:#6ebcdf\">Sample</span>."
      ],
      "text/plain": [
       "<IPython.core.display.Markdown object>"
      ]
     },
     "metadata": {},
     "output_type": "display_data"
    },
    {
     "data": {
      "text/markdown": [
       "<br><span style=\"color:#f0ac24\">Sample</span>."
      ],
      "text/plain": [
       "<IPython.core.display.Markdown object>"
      ]
     },
     "metadata": {},
     "output_type": "display_data"
    },
    {
     "data": {
      "text/markdown": [
       "<br><span style=\"color:#a3ed9b\">Sample</span>."
      ],
      "text/plain": [
       "<IPython.core.display.Markdown object>"
      ]
     },
     "metadata": {},
     "output_type": "display_data"
    },
    {
     "data": {
      "text/markdown": [
       "<br><span style=\"color:#3b2219\">Sample</span>."
      ],
      "text/plain": [
       "<IPython.core.display.Markdown object>"
      ]
     },
     "metadata": {},
     "output_type": "display_data"
    },
    {
     "data": {
      "text/markdown": [
       "<br><span style=\"color:#6e5f4f\">Sample</span>."
      ],
      "text/plain": [
       "<IPython.core.display.Markdown object>"
      ]
     },
     "metadata": {},
     "output_type": "display_data"
    },
    {
     "data": {
      "text/markdown": [
       "<br><span style=\"color:#e229da\">Sample</span>."
      ],
      "text/plain": [
       "<IPython.core.display.Markdown object>"
      ]
     },
     "metadata": {},
     "output_type": "display_data"
    },
    {
     "data": {
      "text/markdown": [
       "<br><span style=\"color:#b1002d\">Sample</span>."
      ],
      "text/plain": [
       "<IPython.core.display.Markdown object>"
      ]
     },
     "metadata": {},
     "output_type": "display_data"
    },
    {
     "data": {
      "text/markdown": [
       "<br><span style=\"color:#b8aa59\">Sample</span>."
      ],
      "text/plain": [
       "<IPython.core.display.Markdown object>"
      ]
     },
     "metadata": {},
     "output_type": "display_data"
    },
    {
     "data": {
      "text/markdown": [
       "<br><span style=\"color:#15ba6f\">Sample</span>."
      ],
      "text/plain": [
       "<IPython.core.display.Markdown object>"
      ]
     },
     "metadata": {},
     "output_type": "display_data"
    },
    {
     "data": {
      "text/markdown": [
       "<br><span style=\"color:#9eeba1\">Sample</span>."
      ],
      "text/plain": [
       "<IPython.core.display.Markdown object>"
      ]
     },
     "metadata": {},
     "output_type": "display_data"
    },
    {
     "data": {
      "text/markdown": [
       "<br><span style=\"color:#f37065\">Sample</span>."
      ],
      "text/plain": [
       "<IPython.core.display.Markdown object>"
      ]
     },
     "metadata": {},
     "output_type": "display_data"
    },
    {
     "data": {
      "text/markdown": [
       "<br><span style=\"color:#2c9d29\">Sample</span>."
      ],
      "text/plain": [
       "<IPython.core.display.Markdown object>"
      ]
     },
     "metadata": {},
     "output_type": "display_data"
    },
    {
     "data": {
      "text/markdown": [
       "<br><span style=\"color:#f5fe97\">Sample</span>."
      ],
      "text/plain": [
       "<IPython.core.display.Markdown object>"
      ]
     },
     "metadata": {},
     "output_type": "display_data"
    },
    {
     "data": {
      "text/markdown": [
       "<br><span style=\"color:#e9f5a6\">Sample</span>."
      ],
      "text/plain": [
       "<IPython.core.display.Markdown object>"
      ]
     },
     "metadata": {},
     "output_type": "display_data"
    },
    {
     "data": {
      "text/markdown": [
       "<br><span style=\"color:#361b72\">Sample</span>."
      ],
      "text/plain": [
       "<IPython.core.display.Markdown object>"
      ]
     },
     "metadata": {},
     "output_type": "display_data"
    },
    {
     "data": {
      "text/markdown": [
       "<br><span style=\"color:#aa9f4d\">Sample</span>."
      ],
      "text/plain": [
       "<IPython.core.display.Markdown object>"
      ]
     },
     "metadata": {},
     "output_type": "display_data"
    },
    {
     "data": {
      "text/markdown": [
       "<br><span style=\"color:#b032a6\">Sample</span>."
      ],
      "text/plain": [
       "<IPython.core.display.Markdown object>"
      ]
     },
     "metadata": {},
     "output_type": "display_data"
    },
    {
     "data": {
      "text/markdown": [
       "<br><span style=\"color:#db12a0\">Sample</span>."
      ],
      "text/plain": [
       "<IPython.core.display.Markdown object>"
      ]
     },
     "metadata": {},
     "output_type": "display_data"
    },
    {
     "data": {
      "text/markdown": [
       "<br><span style=\"color:#4df58d\">Sample</span>."
      ],
      "text/plain": [
       "<IPython.core.display.Markdown object>"
      ]
     },
     "metadata": {},
     "output_type": "display_data"
    },
    {
     "data": {
      "text/markdown": [
       "<br><span style=\"color:#9ee346\">Sample</span>."
      ],
      "text/plain": [
       "<IPython.core.display.Markdown object>"
      ]
     },
     "metadata": {},
     "output_type": "display_data"
    },
    {
     "data": {
      "text/markdown": [
       "<br><span style=\"color:#ab9925\">Sample</span>."
      ],
      "text/plain": [
       "<IPython.core.display.Markdown object>"
      ]
     },
     "metadata": {},
     "output_type": "display_data"
    },
    {
     "data": {
      "text/markdown": [
       "<br><span style=\"color:#fccb6d\">Sample</span>."
      ],
      "text/plain": [
       "<IPython.core.display.Markdown object>"
      ]
     },
     "metadata": {},
     "output_type": "display_data"
    },
    {
     "data": {
      "text/markdown": [
       "<br><span style=\"color:#015865\">Sample</span>."
      ],
      "text/plain": [
       "<IPython.core.display.Markdown object>"
      ]
     },
     "metadata": {},
     "output_type": "display_data"
    },
    {
     "data": {
      "text/markdown": [
       "<br><span style=\"color:#0bf223\">Sample</span>."
      ],
      "text/plain": [
       "<IPython.core.display.Markdown object>"
      ]
     },
     "metadata": {},
     "output_type": "display_data"
    },
    {
     "data": {
      "text/markdown": [
       "<br><span style=\"color:#1493c5\">Sample</span>."
      ],
      "text/plain": [
       "<IPython.core.display.Markdown object>"
      ]
     },
     "metadata": {},
     "output_type": "display_data"
    },
    {
     "data": {
      "text/markdown": [
       "<br><span style=\"color:#57c0dc\">Sample</span>."
      ],
      "text/plain": [
       "<IPython.core.display.Markdown object>"
      ]
     },
     "metadata": {},
     "output_type": "display_data"
    },
    {
     "data": {
      "text/markdown": [
       "<br><span style=\"color:#3e7510\">Sample</span>."
      ],
      "text/plain": [
       "<IPython.core.display.Markdown object>"
      ]
     },
     "metadata": {},
     "output_type": "display_data"
    },
    {
     "data": {
      "text/markdown": [
       "<br><span style=\"color:#32700e\">Sample</span>."
      ],
      "text/plain": [
       "<IPython.core.display.Markdown object>"
      ]
     },
     "metadata": {},
     "output_type": "display_data"
    },
    {
     "data": {
      "text/markdown": [
       "<br><span style=\"color:#5a7e18\">Sample</span>."
      ],
      "text/plain": [
       "<IPython.core.display.Markdown object>"
      ]
     },
     "metadata": {},
     "output_type": "display_data"
    },
    {
     "data": {
      "text/markdown": [
       "<br><span style=\"color:#e2fe2c\">Sample</span>."
      ],
      "text/plain": [
       "<IPython.core.display.Markdown object>"
      ]
     },
     "metadata": {},
     "output_type": "display_data"
    },
    {
     "data": {
      "text/markdown": [
       "<br><span style=\"color:#f31aae\">Sample</span>."
      ],
      "text/plain": [
       "<IPython.core.display.Markdown object>"
      ]
     },
     "metadata": {},
     "output_type": "display_data"
    },
    {
     "data": {
      "text/markdown": [
       "<br><span style=\"color:#817d3f\">Sample</span>."
      ],
      "text/plain": [
       "<IPython.core.display.Markdown object>"
      ]
     },
     "metadata": {},
     "output_type": "display_data"
    },
    {
     "data": {
      "text/markdown": [
       "<br><span style=\"color:#5e5aaa\">Sample</span>."
      ],
      "text/plain": [
       "<IPython.core.display.Markdown object>"
      ]
     },
     "metadata": {},
     "output_type": "display_data"
    },
    {
     "data": {
      "text/markdown": [
       "<br><span style=\"color:#c467a8\">Sample</span>."
      ],
      "text/plain": [
       "<IPython.core.display.Markdown object>"
      ]
     },
     "metadata": {},
     "output_type": "display_data"
    },
    {
     "data": {
      "text/markdown": [
       "<br><span style=\"color:#d4f620\">Sample</span>."
      ],
      "text/plain": [
       "<IPython.core.display.Markdown object>"
      ]
     },
     "metadata": {},
     "output_type": "display_data"
    },
    {
     "data": {
      "text/markdown": [
       "<br><span style=\"color:#4adacb\">Sample</span>."
      ],
      "text/plain": [
       "<IPython.core.display.Markdown object>"
      ]
     },
     "metadata": {},
     "output_type": "display_data"
    },
    {
     "data": {
      "text/markdown": [
       "<br><span style=\"color:#f595b0\">Sample</span>."
      ],
      "text/plain": [
       "<IPython.core.display.Markdown object>"
      ]
     },
     "metadata": {},
     "output_type": "display_data"
    },
    {
     "data": {
      "text/markdown": [
       "<br><span style=\"color:#09c09b\">Sample</span>."
      ],
      "text/plain": [
       "<IPython.core.display.Markdown object>"
      ]
     },
     "metadata": {},
     "output_type": "display_data"
    },
    {
     "data": {
      "text/markdown": [
       "<br><span style=\"color:#f4f185\">Sample</span>."
      ],
      "text/plain": [
       "<IPython.core.display.Markdown object>"
      ]
     },
     "metadata": {},
     "output_type": "display_data"
    },
    {
     "data": {
      "text/markdown": [
       "<br><span style=\"color:#4f0c68\">Sample</span>."
      ],
      "text/plain": [
       "<IPython.core.display.Markdown object>"
      ]
     },
     "metadata": {},
     "output_type": "display_data"
    },
    {
     "data": {
      "text/markdown": [
       "<br><span style=\"color:#2f52f6\">Sample</span>."
      ],
      "text/plain": [
       "<IPython.core.display.Markdown object>"
      ]
     },
     "metadata": {},
     "output_type": "display_data"
    },
    {
     "data": {
      "text/markdown": [
       "<br><span style=\"color:#670a8d\">Sample</span>."
      ],
      "text/plain": [
       "<IPython.core.display.Markdown object>"
      ]
     },
     "metadata": {},
     "output_type": "display_data"
    },
    {
     "data": {
      "text/markdown": [
       "<br><span style=\"color:#084c41\">Sample</span>."
      ],
      "text/plain": [
       "<IPython.core.display.Markdown object>"
      ]
     },
     "metadata": {},
     "output_type": "display_data"
    },
    {
     "data": {
      "text/markdown": [
       "<br><span style=\"color:#fa89a7\">Sample</span>."
      ],
      "text/plain": [
       "<IPython.core.display.Markdown object>"
      ]
     },
     "metadata": {},
     "output_type": "display_data"
    },
    {
     "data": {
      "text/markdown": [
       "<br><span style=\"color:#b339ce\">Sample</span>."
      ],
      "text/plain": [
       "<IPython.core.display.Markdown object>"
      ]
     },
     "metadata": {},
     "output_type": "display_data"
    },
    {
     "data": {
      "text/markdown": [
       "<br><span style=\"color:#49e433\">Sample</span>."
      ],
      "text/plain": [
       "<IPython.core.display.Markdown object>"
      ]
     },
     "metadata": {},
     "output_type": "display_data"
    },
    {
     "data": {
      "text/markdown": [
       "<br><span style=\"color:#8647d4\">Sample</span>."
      ],
      "text/plain": [
       "<IPython.core.display.Markdown object>"
      ]
     },
     "metadata": {},
     "output_type": "display_data"
    },
    {
     "data": {
      "text/markdown": [
       "<br><span style=\"color:#b8e799\">Sample</span>."
      ],
      "text/plain": [
       "<IPython.core.display.Markdown object>"
      ]
     },
     "metadata": {},
     "output_type": "display_data"
    },
    {
     "data": {
      "text/markdown": [
       "<br><span style=\"color:#d5e1f0\">Sample</span>."
      ],
      "text/plain": [
       "<IPython.core.display.Markdown object>"
      ]
     },
     "metadata": {},
     "output_type": "display_data"
    },
    {
     "data": {
      "text/markdown": [
       "<br><span style=\"color:#916b15\">Sample</span>."
      ],
      "text/plain": [
       "<IPython.core.display.Markdown object>"
      ]
     },
     "metadata": {},
     "output_type": "display_data"
    },
    {
     "data": {
      "text/markdown": [
       "<br><span style=\"color:#3ff355\">Sample</span>."
      ],
      "text/plain": [
       "<IPython.core.display.Markdown object>"
      ]
     },
     "metadata": {},
     "output_type": "display_data"
    },
    {
     "data": {
      "text/markdown": [
       "<br><span style=\"color:#82df7c\">Sample</span>."
      ],
      "text/plain": [
       "<IPython.core.display.Markdown object>"
      ]
     },
     "metadata": {},
     "output_type": "display_data"
    },
    {
     "data": {
      "text/markdown": [
       "<br><span style=\"color:#db8265\">Sample</span>."
      ],
      "text/plain": [
       "<IPython.core.display.Markdown object>"
      ]
     },
     "metadata": {},
     "output_type": "display_data"
    },
    {
     "data": {
      "text/markdown": [
       "<br><span style=\"color:#2cedb9\">Sample</span>."
      ],
      "text/plain": [
       "<IPython.core.display.Markdown object>"
      ]
     },
     "metadata": {},
     "output_type": "display_data"
    },
    {
     "data": {
      "text/markdown": [
       "<br><span style=\"color:#705614\">Sample</span>."
      ],
      "text/plain": [
       "<IPython.core.display.Markdown object>"
      ]
     },
     "metadata": {},
     "output_type": "display_data"
    },
    {
     "data": {
      "text/markdown": [
       "<br><span style=\"color:#009335\">Sample</span>."
      ],
      "text/plain": [
       "<IPython.core.display.Markdown object>"
      ]
     },
     "metadata": {},
     "output_type": "display_data"
    },
    {
     "data": {
      "text/markdown": [
       "<br><span style=\"color:#462b5a\">Sample</span>."
      ],
      "text/plain": [
       "<IPython.core.display.Markdown object>"
      ]
     },
     "metadata": {},
     "output_type": "display_data"
    },
    {
     "data": {
      "text/markdown": [
       "<br><span style=\"color:#35f73e\">Sample</span>."
      ],
      "text/plain": [
       "<IPython.core.display.Markdown object>"
      ]
     },
     "metadata": {},
     "output_type": "display_data"
    },
    {
     "data": {
      "text/markdown": [
       "<br><span style=\"color:#d8e9b1\">Sample</span>."
      ],
      "text/plain": [
       "<IPython.core.display.Markdown object>"
      ]
     },
     "metadata": {},
     "output_type": "display_data"
    },
    {
     "data": {
      "text/markdown": [
       "<br><span style=\"color:#38bab2\">Sample</span>."
      ],
      "text/plain": [
       "<IPython.core.display.Markdown object>"
      ]
     },
     "metadata": {},
     "output_type": "display_data"
    },
    {
     "data": {
      "text/markdown": [
       "<br><span style=\"color:#cce0e2\">Sample</span>."
      ],
      "text/plain": [
       "<IPython.core.display.Markdown object>"
      ]
     },
     "metadata": {},
     "output_type": "display_data"
    },
    {
     "data": {
      "text/markdown": [
       "<br><span style=\"color:#dbd596\">Sample</span>."
      ],
      "text/plain": [
       "<IPython.core.display.Markdown object>"
      ]
     },
     "metadata": {},
     "output_type": "display_data"
    },
    {
     "data": {
      "text/markdown": [
       "<br><span style=\"color:#f45b11\">Sample</span>."
      ],
      "text/plain": [
       "<IPython.core.display.Markdown object>"
      ]
     },
     "metadata": {},
     "output_type": "display_data"
    },
    {
     "data": {
      "text/markdown": [
       "<br><span style=\"color:#1f09c2\">Sample</span>."
      ],
      "text/plain": [
       "<IPython.core.display.Markdown object>"
      ]
     },
     "metadata": {},
     "output_type": "display_data"
    },
    {
     "data": {
      "text/markdown": [
       "<br><span style=\"color:#4d3f84\">Sample</span>."
      ],
      "text/plain": [
       "<IPython.core.display.Markdown object>"
      ]
     },
     "metadata": {},
     "output_type": "display_data"
    },
    {
     "data": {
      "text/markdown": [
       "<br><span style=\"color:#5f1e58\">Sample</span>."
      ],
      "text/plain": [
       "<IPython.core.display.Markdown object>"
      ]
     },
     "metadata": {},
     "output_type": "display_data"
    },
    {
     "data": {
      "text/markdown": [
       "<br><span style=\"color:#9986a1\">Sample</span>."
      ],
      "text/plain": [
       "<IPython.core.display.Markdown object>"
      ]
     },
     "metadata": {},
     "output_type": "display_data"
    },
    {
     "data": {
      "text/markdown": [
       "<br><span style=\"color:#765ae9\">Sample</span>."
      ],
      "text/plain": [
       "<IPython.core.display.Markdown object>"
      ]
     },
     "metadata": {},
     "output_type": "display_data"
    },
    {
     "data": {
      "text/markdown": [
       "<br><span style=\"color:#5045a8\">Sample</span>."
      ],
      "text/plain": [
       "<IPython.core.display.Markdown object>"
      ]
     },
     "metadata": {},
     "output_type": "display_data"
    },
    {
     "data": {
      "text/markdown": [
       "<br><span style=\"color:#0dbc23\">Sample</span>."
      ],
      "text/plain": [
       "<IPython.core.display.Markdown object>"
      ]
     },
     "metadata": {},
     "output_type": "display_data"
    },
    {
     "data": {
      "text/markdown": [
       "<br><span style=\"color:#c1e001\">Sample</span>."
      ],
      "text/plain": [
       "<IPython.core.display.Markdown object>"
      ]
     },
     "metadata": {},
     "output_type": "display_data"
    },
    {
     "data": {
      "text/markdown": [
       "<br><span style=\"color:#84a446\">Sample</span>."
      ],
      "text/plain": [
       "<IPython.core.display.Markdown object>"
      ]
     },
     "metadata": {},
     "output_type": "display_data"
    },
    {
     "data": {
      "text/markdown": [
       "<br><span style=\"color:#62dd3d\">Sample</span>."
      ],
      "text/plain": [
       "<IPython.core.display.Markdown object>"
      ]
     },
     "metadata": {},
     "output_type": "display_data"
    },
    {
     "data": {
      "text/markdown": [
       "<br><span style=\"color:#4255f1\">Sample</span>."
      ],
      "text/plain": [
       "<IPython.core.display.Markdown object>"
      ]
     },
     "metadata": {},
     "output_type": "display_data"
    },
    {
     "data": {
      "text/markdown": [
       "<br><span style=\"color:#083f3d\">Sample</span>."
      ],
      "text/plain": [
       "<IPython.core.display.Markdown object>"
      ]
     },
     "metadata": {},
     "output_type": "display_data"
    },
    {
     "data": {
      "text/markdown": [
       "<br><span style=\"color:#15ed57\">Sample</span>."
      ],
      "text/plain": [
       "<IPython.core.display.Markdown object>"
      ]
     },
     "metadata": {},
     "output_type": "display_data"
    },
    {
     "data": {
      "text/markdown": [
       "<br><span style=\"color:#12362a\">Sample</span>."
      ],
      "text/plain": [
       "<IPython.core.display.Markdown object>"
      ]
     },
     "metadata": {},
     "output_type": "display_data"
    },
    {
     "data": {
      "text/markdown": [
       "<br><span style=\"color:#ba01ca\">Sample</span>."
      ],
      "text/plain": [
       "<IPython.core.display.Markdown object>"
      ]
     },
     "metadata": {},
     "output_type": "display_data"
    },
    {
     "data": {
      "text/markdown": [
       "<br><span style=\"color:#f7f505\">Sample</span>."
      ],
      "text/plain": [
       "<IPython.core.display.Markdown object>"
      ]
     },
     "metadata": {},
     "output_type": "display_data"
    },
    {
     "data": {
      "text/markdown": [
       "<br><span style=\"color:#a60797\">Sample</span>."
      ],
      "text/plain": [
       "<IPython.core.display.Markdown object>"
      ]
     },
     "metadata": {},
     "output_type": "display_data"
    },
    {
     "data": {
      "text/markdown": [
       "<br><span style=\"color:#9e8a67\">Sample</span>."
      ],
      "text/plain": [
       "<IPython.core.display.Markdown object>"
      ]
     },
     "metadata": {},
     "output_type": "display_data"
    },
    {
     "data": {
      "text/markdown": [
       "<br><span style=\"color:#d4c865\">Sample</span>."
      ],
      "text/plain": [
       "<IPython.core.display.Markdown object>"
      ]
     },
     "metadata": {},
     "output_type": "display_data"
    },
    {
     "data": {
      "text/markdown": [
       "<br><span style=\"color:#73e64d\">Sample</span>."
      ],
      "text/plain": [
       "<IPython.core.display.Markdown object>"
      ]
     },
     "metadata": {},
     "output_type": "display_data"
    },
    {
     "data": {
      "text/markdown": [
       "<br><span style=\"color:#06d558\">Sample</span>."
      ],
      "text/plain": [
       "<IPython.core.display.Markdown object>"
      ]
     },
     "metadata": {},
     "output_type": "display_data"
    },
    {
     "data": {
      "text/markdown": [
       "<br><span style=\"color:#b704fd\">Sample</span>."
      ],
      "text/plain": [
       "<IPython.core.display.Markdown object>"
      ]
     },
     "metadata": {},
     "output_type": "display_data"
    },
    {
     "data": {
      "text/markdown": [
       "<br><span style=\"color:#842760\">Sample</span>."
      ],
      "text/plain": [
       "<IPython.core.display.Markdown object>"
      ]
     },
     "metadata": {},
     "output_type": "display_data"
    },
    {
     "data": {
      "text/markdown": [
       "<br><span style=\"color:#0f4258\">Sample</span>."
      ],
      "text/plain": [
       "<IPython.core.display.Markdown object>"
      ]
     },
     "metadata": {},
     "output_type": "display_data"
    },
    {
     "data": {
      "text/markdown": [
       "<br><span style=\"color:#083b5d\">Sample</span>."
      ],
      "text/plain": [
       "<IPython.core.display.Markdown object>"
      ]
     },
     "metadata": {},
     "output_type": "display_data"
    },
    {
     "data": {
      "text/markdown": [
       "<br><span style=\"color:#5ea741\">Sample</span>."
      ],
      "text/plain": [
       "<IPython.core.display.Markdown object>"
      ]
     },
     "metadata": {},
     "output_type": "display_data"
    },
    {
     "data": {
      "text/markdown": [
       "<br><span style=\"color:#cdc553\">Sample</span>."
      ],
      "text/plain": [
       "<IPython.core.display.Markdown object>"
      ]
     },
     "metadata": {},
     "output_type": "display_data"
    },
    {
     "data": {
      "text/markdown": [
       "<br><span style=\"color:#a10c4b\">Sample</span>."
      ],
      "text/plain": [
       "<IPython.core.display.Markdown object>"
      ]
     },
     "metadata": {},
     "output_type": "display_data"
    },
    {
     "data": {
      "text/markdown": [
       "<br><span style=\"color:#6e57d0\">Sample</span>."
      ],
      "text/plain": [
       "<IPython.core.display.Markdown object>"
      ]
     },
     "metadata": {},
     "output_type": "display_data"
    },
    {
     "data": {
      "text/markdown": [
       "<br><span style=\"color:#5b4dd9\">Sample</span>."
      ],
      "text/plain": [
       "<IPython.core.display.Markdown object>"
      ]
     },
     "metadata": {},
     "output_type": "display_data"
    },
    {
     "data": {
      "text/markdown": [
       "<br><span style=\"color:#6c7113\">Sample</span>."
      ],
      "text/plain": [
       "<IPython.core.display.Markdown object>"
      ]
     },
     "metadata": {},
     "output_type": "display_data"
    },
    {
     "data": {
      "text/markdown": [
       "<br><span style=\"color:#a6a302\">Sample</span>."
      ],
      "text/plain": [
       "<IPython.core.display.Markdown object>"
      ]
     },
     "metadata": {},
     "output_type": "display_data"
    },
    {
     "data": {
      "text/markdown": [
       "<br><span style=\"color:#fa8403\">Sample</span>."
      ],
      "text/plain": [
       "<IPython.core.display.Markdown object>"
      ]
     },
     "metadata": {},
     "output_type": "display_data"
    },
    {
     "data": {
      "text/markdown": [
       "<br><span style=\"color:#661acd\">Sample</span>."
      ],
      "text/plain": [
       "<IPython.core.display.Markdown object>"
      ]
     },
     "metadata": {},
     "output_type": "display_data"
    },
    {
     "data": {
      "text/markdown": [
       "<br><span style=\"color:#99e58d\">Sample</span>."
      ],
      "text/plain": [
       "<IPython.core.display.Markdown object>"
      ]
     },
     "metadata": {},
     "output_type": "display_data"
    },
    {
     "data": {
      "text/markdown": [
       "<br><span style=\"color:#12fe74\">Sample</span>."
      ],
      "text/plain": [
       "<IPython.core.display.Markdown object>"
      ]
     },
     "metadata": {},
     "output_type": "display_data"
    },
    {
     "data": {
      "text/markdown": [
       "<br><span style=\"color:#fb353e\">Sample</span>."
      ],
      "text/plain": [
       "<IPython.core.display.Markdown object>"
      ]
     },
     "metadata": {},
     "output_type": "display_data"
    },
    {
     "data": {
      "text/markdown": [
       "<br><span style=\"color:#0b5221\">Sample</span>."
      ],
      "text/plain": [
       "<IPython.core.display.Markdown object>"
      ]
     },
     "metadata": {},
     "output_type": "display_data"
    },
    {
     "data": {
      "text/markdown": [
       "<br><span style=\"color:#8bca96\">Sample</span>."
      ],
      "text/plain": [
       "<IPython.core.display.Markdown object>"
      ]
     },
     "metadata": {},
     "output_type": "display_data"
    },
    {
     "data": {
      "text/markdown": [
       "<br><span style=\"color:#ed3078\">Sample</span>."
      ],
      "text/plain": [
       "<IPython.core.display.Markdown object>"
      ]
     },
     "metadata": {},
     "output_type": "display_data"
    },
    {
     "data": {
      "text/markdown": [
       "<br><span style=\"color:#679d8d\">Sample</span>."
      ],
      "text/plain": [
       "<IPython.core.display.Markdown object>"
      ]
     },
     "metadata": {},
     "output_type": "display_data"
    },
    {
     "data": {
      "text/markdown": [
       "<br><span style=\"color:#9a81df\">Sample</span>."
      ],
      "text/plain": [
       "<IPython.core.display.Markdown object>"
      ]
     },
     "metadata": {},
     "output_type": "display_data"
    },
    {
     "data": {
      "text/markdown": [
       "<br><span style=\"color:#d94c1f\">Sample</span>."
      ],
      "text/plain": [
       "<IPython.core.display.Markdown object>"
      ]
     },
     "metadata": {},
     "output_type": "display_data"
    },
    {
     "data": {
      "text/markdown": [
       "<br><span style=\"color:#30c4d4\">Sample</span>."
      ],
      "text/plain": [
       "<IPython.core.display.Markdown object>"
      ]
     },
     "metadata": {},
     "output_type": "display_data"
    },
    {
     "data": {
      "text/markdown": [
       "<br><span style=\"color:#9680c9\">Sample</span>."
      ],
      "text/plain": [
       "<IPython.core.display.Markdown object>"
      ]
     },
     "metadata": {},
     "output_type": "display_data"
    },
    {
     "data": {
      "text/markdown": [
       "<br><span style=\"color:#12d957\">Sample</span>."
      ],
      "text/plain": [
       "<IPython.core.display.Markdown object>"
      ]
     },
     "metadata": {},
     "output_type": "display_data"
    },
    {
     "data": {
      "text/markdown": [
       "<br><span style=\"color:#3dc133\">Sample</span>."
      ],
      "text/plain": [
       "<IPython.core.display.Markdown object>"
      ]
     },
     "metadata": {},
     "output_type": "display_data"
    },
    {
     "data": {
      "text/markdown": [
       "<br><span style=\"color:#07dfd5\">Sample</span>."
      ],
      "text/plain": [
       "<IPython.core.display.Markdown object>"
      ]
     },
     "metadata": {},
     "output_type": "display_data"
    },
    {
     "data": {
      "text/markdown": [
       "<br><span style=\"color:#6814ab\">Sample</span>."
      ],
      "text/plain": [
       "<IPython.core.display.Markdown object>"
      ]
     },
     "metadata": {},
     "output_type": "display_data"
    },
    {
     "data": {
      "text/markdown": [
       "<br><span style=\"color:#d9430f\">Sample</span>."
      ],
      "text/plain": [
       "<IPython.core.display.Markdown object>"
      ]
     },
     "metadata": {},
     "output_type": "display_data"
    },
    {
     "data": {
      "text/markdown": [
       "<br><span style=\"color:#43cf80\">Sample</span>."
      ],
      "text/plain": [
       "<IPython.core.display.Markdown object>"
      ]
     },
     "metadata": {},
     "output_type": "display_data"
    },
    {
     "data": {
      "text/markdown": [
       "<br><span style=\"color:#d63b5e\">Sample</span>."
      ],
      "text/plain": [
       "<IPython.core.display.Markdown object>"
      ]
     },
     "metadata": {},
     "output_type": "display_data"
    },
    {
     "data": {
      "text/markdown": [
       "<br><span style=\"color:#97dfb8\">Sample</span>."
      ],
      "text/plain": [
       "<IPython.core.display.Markdown object>"
      ]
     },
     "metadata": {},
     "output_type": "display_data"
    },
    {
     "data": {
      "text/markdown": [
       "<br><span style=\"color:#bd50ea\">Sample</span>."
      ],
      "text/plain": [
       "<IPython.core.display.Markdown object>"
      ]
     },
     "metadata": {},
     "output_type": "display_data"
    },
    {
     "data": {
      "text/markdown": [
       "<br><span style=\"color:#8fa79f\">Sample</span>."
      ],
      "text/plain": [
       "<IPython.core.display.Markdown object>"
      ]
     },
     "metadata": {},
     "output_type": "display_data"
    },
    {
     "data": {
      "text/markdown": [
       "<br><span style=\"color:#d43433\">Sample</span>."
      ],
      "text/plain": [
       "<IPython.core.display.Markdown object>"
      ]
     },
     "metadata": {},
     "output_type": "display_data"
    },
    {
     "data": {
      "text/markdown": [
       "<br><span style=\"color:#f0fe30\">Sample</span>."
      ],
      "text/plain": [
       "<IPython.core.display.Markdown object>"
      ]
     },
     "metadata": {},
     "output_type": "display_data"
    },
    {
     "data": {
      "text/markdown": [
       "<br><span style=\"color:#f4868f\">Sample</span>."
      ],
      "text/plain": [
       "<IPython.core.display.Markdown object>"
      ]
     },
     "metadata": {},
     "output_type": "display_data"
    },
    {
     "data": {
      "text/markdown": [
       "<br><span style=\"color:#be3bd9\">Sample</span>."
      ],
      "text/plain": [
       "<IPython.core.display.Markdown object>"
      ]
     },
     "metadata": {},
     "output_type": "display_data"
    },
    {
     "data": {
      "text/markdown": [
       "<br><span style=\"color:#f0b018\">Sample</span>."
      ],
      "text/plain": [
       "<IPython.core.display.Markdown object>"
      ]
     },
     "metadata": {},
     "output_type": "display_data"
    },
    {
     "data": {
      "text/markdown": [
       "<br><span style=\"color:#7782c6\">Sample</span>."
      ],
      "text/plain": [
       "<IPython.core.display.Markdown object>"
      ]
     },
     "metadata": {},
     "output_type": "display_data"
    },
    {
     "data": {
      "text/markdown": [
       "<br><span style=\"color:#63308d\">Sample</span>."
      ],
      "text/plain": [
       "<IPython.core.display.Markdown object>"
      ]
     },
     "metadata": {},
     "output_type": "display_data"
    },
    {
     "data": {
      "text/markdown": [
       "<br><span style=\"color:#b05b03\">Sample</span>."
      ],
      "text/plain": [
       "<IPython.core.display.Markdown object>"
      ]
     },
     "metadata": {},
     "output_type": "display_data"
    },
    {
     "data": {
      "text/markdown": [
       "<br><span style=\"color:#e518f4\">Sample</span>."
      ],
      "text/plain": [
       "<IPython.core.display.Markdown object>"
      ]
     },
     "metadata": {},
     "output_type": "display_data"
    },
    {
     "data": {
      "text/markdown": [
       "<br><span style=\"color:#cce370\">Sample</span>."
      ],
      "text/plain": [
       "<IPython.core.display.Markdown object>"
      ]
     },
     "metadata": {},
     "output_type": "display_data"
    },
    {
     "data": {
      "text/markdown": [
       "<br><span style=\"color:#04c45b\">Sample</span>."
      ],
      "text/plain": [
       "<IPython.core.display.Markdown object>"
      ]
     },
     "metadata": {},
     "output_type": "display_data"
    },
    {
     "data": {
      "text/markdown": [
       "<br><span style=\"color:#a0a4c9\">Sample</span>."
      ],
      "text/plain": [
       "<IPython.core.display.Markdown object>"
      ]
     },
     "metadata": {},
     "output_type": "display_data"
    },
    {
     "data": {
      "text/markdown": [
       "<br><span style=\"color:#f7b08a\">Sample</span>."
      ],
      "text/plain": [
       "<IPython.core.display.Markdown object>"
      ]
     },
     "metadata": {},
     "output_type": "display_data"
    },
    {
     "data": {
      "text/markdown": [
       "<br><span style=\"color:#91a35e\">Sample</span>."
      ],
      "text/plain": [
       "<IPython.core.display.Markdown object>"
      ]
     },
     "metadata": {},
     "output_type": "display_data"
    },
    {
     "data": {
      "text/markdown": [
       "<br><span style=\"color:#f8cf60\">Sample</span>."
      ],
      "text/plain": [
       "<IPython.core.display.Markdown object>"
      ]
     },
     "metadata": {},
     "output_type": "display_data"
    },
    {
     "data": {
      "text/markdown": [
       "<br><span style=\"color:#f29887\">Sample</span>."
      ],
      "text/plain": [
       "<IPython.core.display.Markdown object>"
      ]
     },
     "metadata": {},
     "output_type": "display_data"
    },
    {
     "data": {
      "text/markdown": [
       "<br><span style=\"color:#de1ead\">Sample</span>."
      ],
      "text/plain": [
       "<IPython.core.display.Markdown object>"
      ]
     },
     "metadata": {},
     "output_type": "display_data"
    },
    {
     "data": {
      "text/markdown": [
       "<br><span style=\"color:#1ef295\">Sample</span>."
      ],
      "text/plain": [
       "<IPython.core.display.Markdown object>"
      ]
     },
     "metadata": {},
     "output_type": "display_data"
    },
    {
     "data": {
      "text/markdown": [
       "<br><span style=\"color:#11c0bb\">Sample</span>."
      ],
      "text/plain": [
       "<IPython.core.display.Markdown object>"
      ]
     },
     "metadata": {},
     "output_type": "display_data"
    },
    {
     "data": {
      "text/markdown": [
       "<br><span style=\"color:#072a52\">Sample</span>."
      ],
      "text/plain": [
       "<IPython.core.display.Markdown object>"
      ]
     },
     "metadata": {},
     "output_type": "display_data"
    },
    {
     "data": {
      "text/markdown": [
       "<br><span style=\"color:#fb6d2a\">Sample</span>."
      ],
      "text/plain": [
       "<IPython.core.display.Markdown object>"
      ]
     },
     "metadata": {},
     "output_type": "display_data"
    },
    {
     "data": {
      "text/markdown": [
       "<br><span style=\"color:#e97bef\">Sample</span>."
      ],
      "text/plain": [
       "<IPython.core.display.Markdown object>"
      ]
     },
     "metadata": {},
     "output_type": "display_data"
    },
    {
     "data": {
      "text/markdown": [
       "<br><span style=\"color:#a1e622\">Sample</span>."
      ],
      "text/plain": [
       "<IPython.core.display.Markdown object>"
      ]
     },
     "metadata": {},
     "output_type": "display_data"
    },
    {
     "data": {
      "text/markdown": [
       "<br><span style=\"color:#368786\">Sample</span>."
      ],
      "text/plain": [
       "<IPython.core.display.Markdown object>"
      ]
     },
     "metadata": {},
     "output_type": "display_data"
    },
    {
     "data": {
      "text/markdown": [
       "<br><span style=\"color:#a630b5\">Sample</span>."
      ],
      "text/plain": [
       "<IPython.core.display.Markdown object>"
      ]
     },
     "metadata": {},
     "output_type": "display_data"
    },
    {
     "data": {
      "text/markdown": [
       "<br><span style=\"color:#30d07d\">Sample</span>."
      ],
      "text/plain": [
       "<IPython.core.display.Markdown object>"
      ]
     },
     "metadata": {},
     "output_type": "display_data"
    },
    {
     "data": {
      "text/markdown": [
       "<br><span style=\"color:#bbf35a\">Sample</span>."
      ],
      "text/plain": [
       "<IPython.core.display.Markdown object>"
      ]
     },
     "metadata": {},
     "output_type": "display_data"
    },
    {
     "data": {
      "text/markdown": [
       "<br><span style=\"color:#75fd07\">Sample</span>."
      ],
      "text/plain": [
       "<IPython.core.display.Markdown object>"
      ]
     },
     "metadata": {},
     "output_type": "display_data"
    },
    {
     "data": {
      "text/markdown": [
       "<br><span style=\"color:#93c206\">Sample</span>."
      ],
      "text/plain": [
       "<IPython.core.display.Markdown object>"
      ]
     },
     "metadata": {},
     "output_type": "display_data"
    },
    {
     "data": {
      "text/markdown": [
       "<br><span style=\"color:#f1aff7\">Sample</span>."
      ],
      "text/plain": [
       "<IPython.core.display.Markdown object>"
      ]
     },
     "metadata": {},
     "output_type": "display_data"
    },
    {
     "data": {
      "text/markdown": [
       "<br><span style=\"color:#fdde55\">Sample</span>."
      ],
      "text/plain": [
       "<IPython.core.display.Markdown object>"
      ]
     },
     "metadata": {},
     "output_type": "display_data"
    },
    {
     "data": {
      "text/markdown": [
       "<br><span style=\"color:#229eaa\">Sample</span>."
      ],
      "text/plain": [
       "<IPython.core.display.Markdown object>"
      ]
     },
     "metadata": {},
     "output_type": "display_data"
    },
    {
     "data": {
      "text/markdown": [
       "<br><span style=\"color:#e2c1cb\">Sample</span>."
      ],
      "text/plain": [
       "<IPython.core.display.Markdown object>"
      ]
     },
     "metadata": {},
     "output_type": "display_data"
    },
    {
     "data": {
      "text/markdown": [
       "<br><span style=\"color:#5e2974\">Sample</span>."
      ],
      "text/plain": [
       "<IPython.core.display.Markdown object>"
      ]
     },
     "metadata": {},
     "output_type": "display_data"
    },
    {
     "data": {
      "text/markdown": [
       "<br><span style=\"color:#216af0\">Sample</span>."
      ],
      "text/plain": [
       "<IPython.core.display.Markdown object>"
      ]
     },
     "metadata": {},
     "output_type": "display_data"
    },
    {
     "data": {
      "text/markdown": [
       "<br><span style=\"color:#03b0c3\">Sample</span>."
      ],
      "text/plain": [
       "<IPython.core.display.Markdown object>"
      ]
     },
     "metadata": {},
     "output_type": "display_data"
    },
    {
     "data": {
      "text/markdown": [
       "<br><span style=\"color:#0b9d18\">Sample</span>."
      ],
      "text/plain": [
       "<IPython.core.display.Markdown object>"
      ]
     },
     "metadata": {},
     "output_type": "display_data"
    },
    {
     "data": {
      "text/markdown": [
       "<br><span style=\"color:#5a26b3\">Sample</span>."
      ],
      "text/plain": [
       "<IPython.core.display.Markdown object>"
      ]
     },
     "metadata": {},
     "output_type": "display_data"
    },
    {
     "data": {
      "text/markdown": [
       "<br><span style=\"color:#7f3d01\">Sample</span>."
      ],
      "text/plain": [
       "<IPython.core.display.Markdown object>"
      ]
     },
     "metadata": {},
     "output_type": "display_data"
    },
    {
     "data": {
      "text/markdown": [
       "<br><span style=\"color:#dd6242\">Sample</span>."
      ],
      "text/plain": [
       "<IPython.core.display.Markdown object>"
      ]
     },
     "metadata": {},
     "output_type": "display_data"
    },
    {
     "data": {
      "text/markdown": [
       "<br><span style=\"color:#b1e1a7\">Sample</span>."
      ],
      "text/plain": [
       "<IPython.core.display.Markdown object>"
      ]
     },
     "metadata": {},
     "output_type": "display_data"
    },
    {
     "data": {
      "text/markdown": [
       "<br><span style=\"color:#530e26\">Sample</span>."
      ],
      "text/plain": [
       "<IPython.core.display.Markdown object>"
      ]
     },
     "metadata": {},
     "output_type": "display_data"
    },
    {
     "data": {
      "text/markdown": [
       "<br><span style=\"color:#2ee279\">Sample</span>."
      ],
      "text/plain": [
       "<IPython.core.display.Markdown object>"
      ]
     },
     "metadata": {},
     "output_type": "display_data"
    },
    {
     "data": {
      "text/markdown": [
       "<br><span style=\"color:#e02f1f\">Sample</span>."
      ],
      "text/plain": [
       "<IPython.core.display.Markdown object>"
      ]
     },
     "metadata": {},
     "output_type": "display_data"
    },
    {
     "data": {
      "text/markdown": [
       "<br><span style=\"color:#cc6cf2\">Sample</span>."
      ],
      "text/plain": [
       "<IPython.core.display.Markdown object>"
      ]
     },
     "metadata": {},
     "output_type": "display_data"
    },
    {
     "data": {
      "text/markdown": [
       "<br><span style=\"color:#aff527\">Sample</span>."
      ],
      "text/plain": [
       "<IPython.core.display.Markdown object>"
      ]
     },
     "metadata": {},
     "output_type": "display_data"
    },
    {
     "data": {
      "text/markdown": [
       "<br><span style=\"color:#3d76a1\">Sample</span>."
      ],
      "text/plain": [
       "<IPython.core.display.Markdown object>"
      ]
     },
     "metadata": {},
     "output_type": "display_data"
    },
    {
     "data": {
      "text/markdown": [
       "<br><span style=\"color:#a40df5\">Sample</span>."
      ],
      "text/plain": [
       "<IPython.core.display.Markdown object>"
      ]
     },
     "metadata": {},
     "output_type": "display_data"
    },
    {
     "data": {
      "text/markdown": [
       "<br><span style=\"color:#95c833\">Sample</span>."
      ],
      "text/plain": [
       "<IPython.core.display.Markdown object>"
      ]
     },
     "metadata": {},
     "output_type": "display_data"
    },
    {
     "data": {
      "text/markdown": [
       "<br><span style=\"color:#e97607\">Sample</span>."
      ],
      "text/plain": [
       "<IPython.core.display.Markdown object>"
      ]
     },
     "metadata": {},
     "output_type": "display_data"
    },
    {
     "data": {
      "text/markdown": [
       "<br><span style=\"color:#72b257\">Sample</span>."
      ],
      "text/plain": [
       "<IPython.core.display.Markdown object>"
      ]
     },
     "metadata": {},
     "output_type": "display_data"
    },
    {
     "data": {
      "text/markdown": [
       "<br><span style=\"color:#c795bd\">Sample</span>."
      ],
      "text/plain": [
       "<IPython.core.display.Markdown object>"
      ]
     },
     "metadata": {},
     "output_type": "display_data"
    },
    {
     "data": {
      "text/markdown": [
       "<br><span style=\"color:#5f8352\">Sample</span>."
      ],
      "text/plain": [
       "<IPython.core.display.Markdown object>"
      ]
     },
     "metadata": {},
     "output_type": "display_data"
    }
   ],
   "source": [
    "from IPython.display import Markdown\n",
    "for color in color_dict:\n",
    "    display (Markdown('<br><span style=\"color:' +color['color_code']+ '\">Sample</span>.'))\n",
    "    \n"
   ]
  },
  {
   "cell_type": "code",
   "execution_count": 25,
   "metadata": {},
   "outputs": [
    {
     "name": "stdout",
     "output_type": "stream",
     "text": [
      "(2723, 189)\n"
     ]
    },
    {
     "data": {
      "text/html": [
       "<div>\n",
       "<style scoped>\n",
       "    .dataframe tbody tr th:only-of-type {\n",
       "        vertical-align: middle;\n",
       "    }\n",
       "\n",
       "    .dataframe tbody tr th {\n",
       "        vertical-align: top;\n",
       "    }\n",
       "\n",
       "    .dataframe thead th {\n",
       "        text-align: right;\n",
       "    }\n",
       "</style>\n",
       "<table border=\"1\" class=\"dataframe\">\n",
       "  <thead>\n",
       "    <tr style=\"text-align: right;\">\n",
       "      <th></th>\n",
       "      <th>EntryID</th>\n",
       "      <th>LemmaID</th>\n",
       "      <th>Code</th>\n",
       "      <th>Batch</th>\n",
       "      <th>List</th>\n",
       "      <th>Item</th>\n",
       "      <th>YouTube Video</th>\n",
       "      <th>VimeoVideoHTML</th>\n",
       "      <th>VimeoVideo</th>\n",
       "      <th>SubtLexUSLog10WF</th>\n",
       "      <th>...</th>\n",
       "      <th>Parameter.Neighborhood.Density.2.0</th>\n",
       "      <th>Neighborhood Density 2.0</th>\n",
       "      <th>SignBankAnnotationID</th>\n",
       "      <th>SignBankEnglishTranslations</th>\n",
       "      <th>SignBankLemmaID</th>\n",
       "      <th>SignBankReferenceID</th>\n",
       "      <th>bglm_aoa</th>\n",
       "      <th>empirical_aoa</th>\n",
       "      <th>group_id</th>\n",
       "      <th>color_code</th>\n",
       "    </tr>\n",
       "  </thead>\n",
       "  <tbody>\n",
       "    <tr>\n",
       "      <th>0</th>\n",
       "      <td>1_dollar</td>\n",
       "      <td>1_dollar</td>\n",
       "      <td>C_02_025</td>\n",
       "      <td>C</td>\n",
       "      <td>2.0</td>\n",
       "      <td>25.0</td>\n",
       "      <td>&lt;iframe width=\"280\" height=\"158\" src=\"https://...</td>\n",
       "      <td>&lt;iframe src=https://player.vimeo.com/video/345...</td>\n",
       "      <td>https://player.vimeo.com/video/345587917</td>\n",
       "      <td>NaN</td>\n",
       "      <td>...</td>\n",
       "      <td>383</td>\n",
       "      <td>0</td>\n",
       "      <td>DOLLAR</td>\n",
       "      <td>bill, cash, dollar, money</td>\n",
       "      <td>1_DOLLAR</td>\n",
       "      <td>1268.0</td>\n",
       "      <td>NaN</td>\n",
       "      <td>NaN</td>\n",
       "      <td>1000.0</td>\n",
       "      <td>#bd4a66</td>\n",
       "    </tr>\n",
       "    <tr>\n",
       "      <th>1</th>\n",
       "      <td>5_dollars</td>\n",
       "      <td>5_dollars</td>\n",
       "      <td>B_01_062</td>\n",
       "      <td>B</td>\n",
       "      <td>1.0</td>\n",
       "      <td>62.0</td>\n",
       "      <td>&lt;iframe width=\"280\" height=\"158\" src=\"https://...</td>\n",
       "      <td>&lt;iframe src=https://player.vimeo.com/video/344...</td>\n",
       "      <td>https://player.vimeo.com/video/344399314</td>\n",
       "      <td>NaN</td>\n",
       "      <td>...</td>\n",
       "      <td>190</td>\n",
       "      <td>4</td>\n",
       "      <td>FIVE-DOLLARS</td>\n",
       "      <td>dollar, five dollars, money</td>\n",
       "      <td>5_DOLLAR</td>\n",
       "      <td>2436.0</td>\n",
       "      <td>NaN</td>\n",
       "      <td>NaN</td>\n",
       "      <td>0.0</td>\n",
       "      <td>#e97646</td>\n",
       "    </tr>\n",
       "    <tr>\n",
       "      <th>2</th>\n",
       "      <td>8_hour</td>\n",
       "      <td>8_hour</td>\n",
       "      <td>C_02_055</td>\n",
       "      <td>C</td>\n",
       "      <td>2.0</td>\n",
       "      <td>55.0</td>\n",
       "      <td>&lt;iframe width=\"280\" height=\"158\" src=\"https://...</td>\n",
       "      <td>&lt;iframe src=\"https://player.vimeo.com/video/34...</td>\n",
       "      <td>https://player.vimeo.com/video/345588916</td>\n",
       "      <td>NaN</td>\n",
       "      <td>...</td>\n",
       "      <td>129</td>\n",
       "      <td>0</td>\n",
       "      <td>EIGHT-HOURSneut</td>\n",
       "      <td>eight hours, 8 hours, hour, time</td>\n",
       "      <td>NUMBER-HOURS</td>\n",
       "      <td>2437.0</td>\n",
       "      <td>NaN</td>\n",
       "      <td>NaN</td>\n",
       "      <td>1000.0</td>\n",
       "      <td>#bd4a66</td>\n",
       "    </tr>\n",
       "    <tr>\n",
       "      <th>3</th>\n",
       "      <td>9_oclock</td>\n",
       "      <td>9_oclock</td>\n",
       "      <td>C_02_080</td>\n",
       "      <td>C</td>\n",
       "      <td>2.0</td>\n",
       "      <td>80.0</td>\n",
       "      <td>&lt;iframe width=\"280\" height=\"158\" src=\"https://...</td>\n",
       "      <td>&lt;iframe src=https://player.vimeo.com/video/345...</td>\n",
       "      <td>https://player.vimeo.com/video/345589804</td>\n",
       "      <td>NaN</td>\n",
       "      <td>...</td>\n",
       "      <td>48</td>\n",
       "      <td>4</td>\n",
       "      <td>OCLOCK-NINE</td>\n",
       "      <td>9:00, 9 o'clock, nine o'clock, o'clock, time</td>\n",
       "      <td>OCLOCK-NUMBER</td>\n",
       "      <td>2857.0</td>\n",
       "      <td>NaN</td>\n",
       "      <td>NaN</td>\n",
       "      <td>131.0</td>\n",
       "      <td>#ed8899</td>\n",
       "    </tr>\n",
       "    <tr>\n",
       "      <th>4</th>\n",
       "      <td>a-line_bob</td>\n",
       "      <td>a-line_bob</td>\n",
       "      <td>K_03_127</td>\n",
       "      <td>K</td>\n",
       "      <td>NaN</td>\n",
       "      <td>NaN</td>\n",
       "      <td>NaN</td>\n",
       "      <td>&lt;iframe src=https://player.vimeo.com/video/342...</td>\n",
       "      <td>https://player.vimeo.com/video/342308099</td>\n",
       "      <td>NaN</td>\n",
       "      <td>...</td>\n",
       "      <td>158</td>\n",
       "      <td>4</td>\n",
       "      <td>NaN</td>\n",
       "      <td>NaN</td>\n",
       "      <td>NaN</td>\n",
       "      <td>NaN</td>\n",
       "      <td>NaN</td>\n",
       "      <td>NaN</td>\n",
       "      <td>170.0</td>\n",
       "      <td>#b1945e</td>\n",
       "    </tr>\n",
       "  </tbody>\n",
       "</table>\n",
       "<p>5 rows × 189 columns</p>\n",
       "</div>"
      ],
      "text/plain": [
       "      EntryID     LemmaID      Code Batch  List  Item  \\\n",
       "0    1_dollar    1_dollar  C_02_025     C   2.0  25.0   \n",
       "1   5_dollars   5_dollars  B_01_062     B   1.0  62.0   \n",
       "2      8_hour      8_hour  C_02_055     C   2.0  55.0   \n",
       "3    9_oclock    9_oclock  C_02_080     C   2.0  80.0   \n",
       "4  a-line_bob  a-line_bob  K_03_127     K   NaN   NaN   \n",
       "\n",
       "                                       YouTube Video  \\\n",
       "0  <iframe width=\"280\" height=\"158\" src=\"https://...   \n",
       "1  <iframe width=\"280\" height=\"158\" src=\"https://...   \n",
       "2  <iframe width=\"280\" height=\"158\" src=\"https://...   \n",
       "3  <iframe width=\"280\" height=\"158\" src=\"https://...   \n",
       "4                                                NaN   \n",
       "\n",
       "                                      VimeoVideoHTML  \\\n",
       "0  <iframe src=https://player.vimeo.com/video/345...   \n",
       "1  <iframe src=https://player.vimeo.com/video/344...   \n",
       "2  <iframe src=\"https://player.vimeo.com/video/34...   \n",
       "3  <iframe src=https://player.vimeo.com/video/345...   \n",
       "4  <iframe src=https://player.vimeo.com/video/342...   \n",
       "\n",
       "                                 VimeoVideo  SubtLexUSLog10WF  ...  \\\n",
       "0  https://player.vimeo.com/video/345587917               NaN  ...   \n",
       "1  https://player.vimeo.com/video/344399314               NaN  ...   \n",
       "2  https://player.vimeo.com/video/345588916               NaN  ...   \n",
       "3  https://player.vimeo.com/video/345589804               NaN  ...   \n",
       "4  https://player.vimeo.com/video/342308099               NaN  ...   \n",
       "\n",
       "   Parameter.Neighborhood.Density.2.0  Neighborhood Density 2.0  \\\n",
       "0                                 383                         0   \n",
       "1                                 190                         4   \n",
       "2                                 129                         0   \n",
       "3                                  48                         4   \n",
       "4                                 158                         4   \n",
       "\n",
       "   SignBankAnnotationID                   SignBankEnglishTranslations  \\\n",
       "0                DOLLAR                     bill, cash, dollar, money   \n",
       "1          FIVE-DOLLARS                   dollar, five dollars, money   \n",
       "2       EIGHT-HOURSneut              eight hours, 8 hours, hour, time   \n",
       "3           OCLOCK-NINE  9:00, 9 o'clock, nine o'clock, o'clock, time   \n",
       "4                   NaN                                           NaN   \n",
       "\n",
       "   SignBankLemmaID  SignBankReferenceID  bglm_aoa  empirical_aoa  group_id  \\\n",
       "0         1_DOLLAR               1268.0       NaN            NaN    1000.0   \n",
       "1         5_DOLLAR               2436.0       NaN            NaN       0.0   \n",
       "2     NUMBER-HOURS               2437.0       NaN            NaN    1000.0   \n",
       "3    OCLOCK-NUMBER               2857.0       NaN            NaN     131.0   \n",
       "4              NaN                  NaN       NaN            NaN     170.0   \n",
       "\n",
       "   color_code  \n",
       "0     #bd4a66  \n",
       "1     #e97646  \n",
       "2     #bd4a66  \n",
       "3     #ed8899  \n",
       "4     #b1945e  \n",
       "\n",
       "[5 rows x 189 columns]"
      ]
     },
     "execution_count": 25,
     "metadata": {},
     "output_type": "execute_result"
    }
   ],
   "source": [
    "color_df = pd.DataFrame(color_dict)\n",
    "df_merged_with_color = pd.merge(df_merged, color_df,how='left', on=['group_id'])\n",
    "print(df_merged_with_color.shape)\n",
    "df_merged_with_color.head()\n"
   ]
  },
  {
   "cell_type": "code",
   "execution_count": 26,
   "metadata": {},
   "outputs": [
    {
     "data": {
      "text/plain": [
       "(2723, 189)"
      ]
     },
     "execution_count": 26,
     "metadata": {},
     "output_type": "execute_result"
    }
   ],
   "source": [
    "df_merged_with_color.shape"
   ]
  },
  {
   "cell_type": "code",
   "execution_count": 27,
   "metadata": {},
   "outputs": [
    {
     "name": "stdout",
     "output_type": "stream",
     "text": [
      "(2723, 5)\n"
     ]
    },
    {
     "data": {
      "text/html": [
       "<div>\n",
       "<style scoped>\n",
       "    .dataframe tbody tr th:only-of-type {\n",
       "        vertical-align: middle;\n",
       "    }\n",
       "\n",
       "    .dataframe tbody tr th {\n",
       "        vertical-align: top;\n",
       "    }\n",
       "\n",
       "    .dataframe thead th {\n",
       "        text-align: right;\n",
       "    }\n",
       "</style>\n",
       "<table border=\"1\" class=\"dataframe\">\n",
       "  <thead>\n",
       "    <tr style=\"text-align: right;\">\n",
       "      <th></th>\n",
       "      <th>EntryID</th>\n",
       "      <th>Code</th>\n",
       "      <th>group_id</th>\n",
       "      <th>color_code</th>\n",
       "      <th>SignFrequency(Z)</th>\n",
       "    </tr>\n",
       "  </thead>\n",
       "  <tbody>\n",
       "    <tr>\n",
       "      <th>0</th>\n",
       "      <td>1_dollar</td>\n",
       "      <td>C_02_025</td>\n",
       "      <td>1000.0</td>\n",
       "      <td>#bd4a66</td>\n",
       "      <td>-0.728</td>\n",
       "    </tr>\n",
       "    <tr>\n",
       "      <th>1</th>\n",
       "      <td>5_dollars</td>\n",
       "      <td>B_01_062</td>\n",
       "      <td>0.0</td>\n",
       "      <td>#e97646</td>\n",
       "      <td>0.302</td>\n",
       "    </tr>\n",
       "    <tr>\n",
       "      <th>2</th>\n",
       "      <td>8_hour</td>\n",
       "      <td>C_02_055</td>\n",
       "      <td>1000.0</td>\n",
       "      <td>#bd4a66</td>\n",
       "      <td>-0.025</td>\n",
       "    </tr>\n",
       "    <tr>\n",
       "      <th>3</th>\n",
       "      <td>9_oclock</td>\n",
       "      <td>C_02_080</td>\n",
       "      <td>131.0</td>\n",
       "      <td>#ed8899</td>\n",
       "      <td>-0.122</td>\n",
       "    </tr>\n",
       "    <tr>\n",
       "      <th>4</th>\n",
       "      <td>a-line_bob</td>\n",
       "      <td>K_03_127</td>\n",
       "      <td>170.0</td>\n",
       "      <td>#b1945e</td>\n",
       "      <td>0.030</td>\n",
       "    </tr>\n",
       "    <tr>\n",
       "      <th>5</th>\n",
       "      <td>a_little_bit</td>\n",
       "      <td>H_03_025</td>\n",
       "      <td>118.0</td>\n",
       "      <td>#898e9b</td>\n",
       "      <td>-0.762</td>\n",
       "    </tr>\n",
       "    <tr>\n",
       "      <th>6</th>\n",
       "      <td>abbreviate</td>\n",
       "      <td>G_01_040</td>\n",
       "      <td>243.0</td>\n",
       "      <td>#ed1507</td>\n",
       "      <td>0.669</td>\n",
       "    </tr>\n",
       "    <tr>\n",
       "      <th>7</th>\n",
       "      <td>about_1</td>\n",
       "      <td>B_02_072</td>\n",
       "      <td>129.0</td>\n",
       "      <td>#c1445a</td>\n",
       "      <td>0.523</td>\n",
       "    </tr>\n",
       "    <tr>\n",
       "      <th>8</th>\n",
       "      <td>about_2</td>\n",
       "      <td>B_02_003</td>\n",
       "      <td>1000.0</td>\n",
       "      <td>#bd4a66</td>\n",
       "      <td>-0.762</td>\n",
       "    </tr>\n",
       "    <tr>\n",
       "      <th>9</th>\n",
       "      <td>absolutely_nothing</td>\n",
       "      <td>J_01_027</td>\n",
       "      <td>52.0</td>\n",
       "      <td>#e20536</td>\n",
       "      <td>-0.686</td>\n",
       "    </tr>\n",
       "    <tr>\n",
       "      <th>10</th>\n",
       "      <td>accent</td>\n",
       "      <td>E_01_073</td>\n",
       "      <td>1000.0</td>\n",
       "      <td>#bd4a66</td>\n",
       "      <td>-0.681</td>\n",
       "    </tr>\n",
       "    <tr>\n",
       "      <th>11</th>\n",
       "      <td>accept</td>\n",
       "      <td>H_02_042</td>\n",
       "      <td>1000.0</td>\n",
       "      <td>#bd4a66</td>\n",
       "      <td>0.812</td>\n",
       "    </tr>\n",
       "    <tr>\n",
       "      <th>12</th>\n",
       "      <td>access</td>\n",
       "      <td>H_02_086</td>\n",
       "      <td>200.0</td>\n",
       "      <td>#e604c8</td>\n",
       "      <td>0.527</td>\n",
       "    </tr>\n",
       "    <tr>\n",
       "      <th>13</th>\n",
       "      <td>accident</td>\n",
       "      <td>B_02_059</td>\n",
       "      <td>126.0</td>\n",
       "      <td>#7da5d8</td>\n",
       "      <td>-0.326</td>\n",
       "    </tr>\n",
       "    <tr>\n",
       "      <th>14</th>\n",
       "      <td>accomplish</td>\n",
       "      <td>C_02_085</td>\n",
       "      <td>168.0</td>\n",
       "      <td>#9d0ba6</td>\n",
       "      <td>0.078</td>\n",
       "    </tr>\n",
       "    <tr>\n",
       "      <th>15</th>\n",
       "      <td>accordion</td>\n",
       "      <td>F_02_048</td>\n",
       "      <td>41.0</td>\n",
       "      <td>#db760b</td>\n",
       "      <td>-1.423</td>\n",
       "    </tr>\n",
       "    <tr>\n",
       "      <th>16</th>\n",
       "      <td>accountant</td>\n",
       "      <td>A_03_044</td>\n",
       "      <td>87.0</td>\n",
       "      <td>#a5f5d5</td>\n",
       "      <td>-0.381</td>\n",
       "    </tr>\n",
       "    <tr>\n",
       "      <th>17</th>\n",
       "      <td>acquire</td>\n",
       "      <td>H_01_034</td>\n",
       "      <td>169.0</td>\n",
       "      <td>#d2c184</td>\n",
       "      <td>0.676</td>\n",
       "    </tr>\n",
       "    <tr>\n",
       "      <th>18</th>\n",
       "      <td>act</td>\n",
       "      <td>B_02_038</td>\n",
       "      <td>60.0</td>\n",
       "      <td>#acdb59</td>\n",
       "      <td>-0.214</td>\n",
       "    </tr>\n",
       "    <tr>\n",
       "      <th>19</th>\n",
       "      <td>action</td>\n",
       "      <td>C_01_026</td>\n",
       "      <td>2.0</td>\n",
       "      <td>#f539be</td>\n",
       "      <td>-0.017</td>\n",
       "    </tr>\n",
       "  </tbody>\n",
       "</table>\n",
       "</div>"
      ],
      "text/plain": [
       "               EntryID      Code  group_id color_code  SignFrequency(Z)\n",
       "0             1_dollar  C_02_025    1000.0    #bd4a66            -0.728\n",
       "1            5_dollars  B_01_062       0.0    #e97646             0.302\n",
       "2               8_hour  C_02_055    1000.0    #bd4a66            -0.025\n",
       "3             9_oclock  C_02_080     131.0    #ed8899            -0.122\n",
       "4           a-line_bob  K_03_127     170.0    #b1945e             0.030\n",
       "5         a_little_bit  H_03_025     118.0    #898e9b            -0.762\n",
       "6           abbreviate  G_01_040     243.0    #ed1507             0.669\n",
       "7              about_1  B_02_072     129.0    #c1445a             0.523\n",
       "8              about_2  B_02_003    1000.0    #bd4a66            -0.762\n",
       "9   absolutely_nothing  J_01_027      52.0    #e20536            -0.686\n",
       "10              accent  E_01_073    1000.0    #bd4a66            -0.681\n",
       "11              accept  H_02_042    1000.0    #bd4a66             0.812\n",
       "12              access  H_02_086     200.0    #e604c8             0.527\n",
       "13            accident  B_02_059     126.0    #7da5d8            -0.326\n",
       "14          accomplish  C_02_085     168.0    #9d0ba6             0.078\n",
       "15           accordion  F_02_048      41.0    #db760b            -1.423\n",
       "16          accountant  A_03_044      87.0    #a5f5d5            -0.381\n",
       "17             acquire  H_01_034     169.0    #d2c184             0.676\n",
       "18                 act  B_02_038      60.0    #acdb59            -0.214\n",
       "19              action  C_01_026       2.0    #f539be            -0.017"
      ]
     },
     "execution_count": 27,
     "metadata": {},
     "output_type": "execute_result"
    }
   ],
   "source": [
    "#Need only 5 columns for now for the graph file\n",
    "df_node_graph_json_data = df_merged_with_color[[\"EntryID\", \"Code\", \"group_id\", \"color_code\", \"SignFrequency(Z)\"]]\n",
    "print(df_node_graph_json_data.shape)\n",
    "df_node_graph_json_data.head(20)\n"
   ]
  },
  {
   "cell_type": "code",
   "execution_count": 28,
   "metadata": {},
   "outputs": [
    {
     "data": {
      "text/html": [
       "<div>\n",
       "<style scoped>\n",
       "    .dataframe tbody tr th:only-of-type {\n",
       "        vertical-align: middle;\n",
       "    }\n",
       "\n",
       "    .dataframe tbody tr th {\n",
       "        vertical-align: top;\n",
       "    }\n",
       "\n",
       "    .dataframe thead th {\n",
       "        text-align: right;\n",
       "    }\n",
       "</style>\n",
       "<table border=\"1\" class=\"dataframe\">\n",
       "  <thead>\n",
       "    <tr style=\"text-align: right;\">\n",
       "      <th></th>\n",
       "      <th>target</th>\n",
       "      <th>source</th>\n",
       "      <th>num_matched_features</th>\n",
       "      <th>matched_features</th>\n",
       "      <th>num_missed_features</th>\n",
       "      <th>missed_features</th>\n",
       "    </tr>\n",
       "  </thead>\n",
       "  <tbody>\n",
       "    <tr>\n",
       "      <th>0</th>\n",
       "      <td>A_01_002</td>\n",
       "      <td>B_01_062</td>\n",
       "      <td>13</td>\n",
       "      <td>SelectedFingers.2.0, Flexion.2.0, FlexionChang...</td>\n",
       "      <td>0</td>\n",
       "      <td>NaN</td>\n",
       "    </tr>\n",
       "    <tr>\n",
       "      <th>1</th>\n",
       "      <td>A_01_002</td>\n",
       "      <td>C_03_023</td>\n",
       "      <td>12</td>\n",
       "      <td>SelectedFingers.2.0, FlexionChange.2.0, Spread...</td>\n",
       "      <td>1</td>\n",
       "      <td>Flexion.2.0</td>\n",
       "    </tr>\n",
       "    <tr>\n",
       "      <th>2</th>\n",
       "      <td>A_01_002</td>\n",
       "      <td>F_02_088</td>\n",
       "      <td>12</td>\n",
       "      <td>Flexion.2.0, FlexionChange.2.0, Spread.2.0, Sp...</td>\n",
       "      <td>1</td>\n",
       "      <td>SelectedFingers.2.0</td>\n",
       "    </tr>\n",
       "    <tr>\n",
       "      <th>3</th>\n",
       "      <td>A_01_002</td>\n",
       "      <td>H_03_004</td>\n",
       "      <td>12</td>\n",
       "      <td>SelectedFingers.2.0, Flexion.2.0, FlexionChang...</td>\n",
       "      <td>1</td>\n",
       "      <td>ThumbPosition.2.0</td>\n",
       "    </tr>\n",
       "    <tr>\n",
       "      <th>4</th>\n",
       "      <td>A_01_002</td>\n",
       "      <td>J_03_046</td>\n",
       "      <td>13</td>\n",
       "      <td>SelectedFingers.2.0, Flexion.2.0, FlexionChang...</td>\n",
       "      <td>0</td>\n",
       "      <td>NaN</td>\n",
       "    </tr>\n",
       "  </tbody>\n",
       "</table>\n",
       "</div>"
      ],
      "text/plain": [
       "     target    source  num_matched_features  \\\n",
       "0  A_01_002  B_01_062                    13   \n",
       "1  A_01_002  C_03_023                    12   \n",
       "2  A_01_002  F_02_088                    12   \n",
       "3  A_01_002  H_03_004                    12   \n",
       "4  A_01_002  J_03_046                    13   \n",
       "\n",
       "                                    matched_features  num_missed_features  \\\n",
       "0  SelectedFingers.2.0, Flexion.2.0, FlexionChang...                    0   \n",
       "1  SelectedFingers.2.0, FlexionChange.2.0, Spread...                    1   \n",
       "2  Flexion.2.0, FlexionChange.2.0, Spread.2.0, Sp...                    1   \n",
       "3  SelectedFingers.2.0, Flexion.2.0, FlexionChang...                    1   \n",
       "4  SelectedFingers.2.0, Flexion.2.0, FlexionChang...                    0   \n",
       "\n",
       "       missed_features  \n",
       "0                  NaN  \n",
       "1          Flexion.2.0  \n",
       "2  SelectedFingers.2.0  \n",
       "3    ThumbPosition.2.0  \n",
       "4                  NaN  "
      ]
     },
     "execution_count": 28,
     "metadata": {},
     "output_type": "execute_result"
    }
   ],
   "source": [
    "edges_df.head()"
   ]
  },
  {
   "cell_type": "code",
   "execution_count": 29,
   "metadata": {},
   "outputs": [
    {
     "data": {
      "text/html": [
       "<div>\n",
       "<style scoped>\n",
       "    .dataframe tbody tr th:only-of-type {\n",
       "        vertical-align: middle;\n",
       "    }\n",
       "\n",
       "    .dataframe tbody tr th {\n",
       "        vertical-align: top;\n",
       "    }\n",
       "\n",
       "    .dataframe thead th {\n",
       "        text-align: right;\n",
       "    }\n",
       "</style>\n",
       "<table border=\"1\" class=\"dataframe\">\n",
       "  <thead>\n",
       "    <tr style=\"text-align: right;\">\n",
       "      <th></th>\n",
       "      <th>target</th>\n",
       "      <th>source</th>\n",
       "    </tr>\n",
       "  </thead>\n",
       "  <tbody>\n",
       "    <tr>\n",
       "      <th>0</th>\n",
       "      <td>A_01_002</td>\n",
       "      <td>B_01_062</td>\n",
       "    </tr>\n",
       "    <tr>\n",
       "      <th>1</th>\n",
       "      <td>A_01_002</td>\n",
       "      <td>C_03_023</td>\n",
       "    </tr>\n",
       "    <tr>\n",
       "      <th>2</th>\n",
       "      <td>A_01_002</td>\n",
       "      <td>F_02_088</td>\n",
       "    </tr>\n",
       "    <tr>\n",
       "      <th>3</th>\n",
       "      <td>A_01_002</td>\n",
       "      <td>H_03_004</td>\n",
       "    </tr>\n",
       "    <tr>\n",
       "      <th>4</th>\n",
       "      <td>A_01_002</td>\n",
       "      <td>J_03_046</td>\n",
       "    </tr>\n",
       "  </tbody>\n",
       "</table>\n",
       "</div>"
      ],
      "text/plain": [
       "     target    source\n",
       "0  A_01_002  B_01_062\n",
       "1  A_01_002  C_03_023\n",
       "2  A_01_002  F_02_088\n",
       "3  A_01_002  H_03_004\n",
       "4  A_01_002  J_03_046"
      ]
     },
     "execution_count": 29,
     "metadata": {},
     "output_type": "execute_result"
    }
   ],
   "source": [
    "not_need_edge_cols = ['num_matched_features', 'matched_features', 'num_missed_features', 'missed_features']\n",
    "links_df = edges_df.drop(columns=not_need_edge_cols)\n",
    "links_df.head()"
   ]
  },
  {
   "cell_type": "code",
   "execution_count": 30,
   "metadata": {},
   "outputs": [
    {
     "data": {
      "text/plain": [
       "{'target': 'A_01_002', 'source': 'B_01_062'}"
      ]
     },
     "execution_count": 30,
     "metadata": {},
     "output_type": "execute_result"
    }
   ],
   "source": [
    "edges_json_str = links_df.to_json(orient=\"records\")\n",
    "edges_json = json.loads(edges_json_str)\n",
    "edges_json[0]"
   ]
  },
  {
   "cell_type": "code",
   "execution_count": 35,
   "metadata": {},
   "outputs": [],
   "source": [
    "# cols_not_in_sign_pane = [\"LemmaID\", \"SignFrequency(SD)\",\"SignFrequency(Z)\",\"SignFrequency(N)\",\"SignFrequency(M-Native)\",\"SignFrequency(SD-Native)\",\"SignFreq(Z-native)\",\"SignFrequency(N-Native)\",\"PercentUnknown(Native)\",\"PercentGlossAgreement(Native)\",\"SignFrequency(M-Nonnative)\",\"SignFrequency(SD-Nonnative)\",\"SignFreq(Z-Nonnative)\",\"SignFrequency(N-Nonnative)\",\"PercentUnknown(Nonnative)\",\"PercentGlossAgreement(Nonnative)\",\"Iconicity(SD)\",\"Iconicity(Z)\",\"Iconicity(N)\",\"Iconicity_ID\",\"D.Iconicity(SD) all\",\"D.Iconicity(Z) all\",\"D.Iconicity(N) all\",\"D.Iconicity(M) native\",\"D.Iconicity(SD) native\",\"D.Iconicity(Z) native\",\"D.Iconicity(N) native\",\"Transparency SD\",\"Transparency Z\",\"SignOnset(ms)\",\"SignOffset(ms)\",\"SignType 1.0\",\"MajorLocation 1.0\",\"MinorLocation 1.0\",\"SelectedFingers 1.0\",\"Compound 1.0\",\"Flexion 1.0\",\"Initialized 1.0\",\"Movement 1.0\",\"MinimalNeighborhoodDensity\",\"MaximalNeighborhoodDensity\",\"Parameter-BasedNeighborhoodDensity\",\"SignTypeFrequency\",\"MajorLocationFrequency\",\"MinorLocationFrequency\",\"SelectedFingersFrequency\",\"FlexionFrequency\",\"MovementFrequency\",\"HandshapeFrequency\",\"Batch\",\"Item\",\"List\",\"Source\",\"InCDI\",\"CDI_A\",\"CDI_B\",\"CDI_C\",\"CDIGloss\",\"CDI Semantic Category\",\"CDIDuplicate\",\"GlossConfirmation\",\"CDIComment\",\"In Frequency Rating Survey (FRS)?\",\"FRS_A\",\"FRS_B\",\"FRS_C\",\"FRS-Low Frequency item?\",\"InPPVT\",\"InEOWPVT\",\"PPVTTargetFoil\",\"PPVTPictureSource\",\"FingerspelledLoanSign 1.0\",\"Repeat.1\",\"BatesPicture\",\"BatesPicture: URL\",\"ASLVocabPicture\",\"ASLVocabPicture: URL\",\"Possible Picture?\",\"Possible Picture Comments\",\"ASLVocab Picture Google Drive\",\"ArtistInstructions\",\"IssuesWithItemsAndGlosses\",\"Brittany-Freq Comments\",\"PPVT with Pictures\",\"PPVT-Age Group\",\"PPVT-Expressive\",\"PPVT-Receptive\",\"Entry ID\",\"Bizarre Sign or Problematic Video\",\"InUconnPPVT\",\"CheckCompleteCoding\",\"Video File\",\"Video File: URL\",\"IconicityTypeShannon\",\"IconicityTypeClaire\",\"IconicityTypeLindsay\",\"IconicityTypeRotceh\",\"In ASL-LEX 2.0\",\"DraftIconicityID\",\"DraftIconicityM\",\"RightWristX\",\"RightWristcentroidY\",\"DistanceRightWristCentroid2Nose\",\"IconicityType\",\"ChelseaCoded\",\"HandshapeManualCorrections\",\"FormerKnackGloss\",\"CodingSignBank\",\"InZed\",\"Checked Vimeo\"]"
   ]
  },
  {
   "cell_type": "code",
   "execution_count": 56,
   "metadata": {},
   "outputs": [],
   "source": [
    "#Remove cols in sign pane\n",
    "#Keep column for filters and vimeo video\n",
    "cols_in_sign_data_pane = [\"EntryID\",\"LemmaID\",\"Code\",\"Batch\",\"List\",\"Item\",\"YouTube Video\",\"VimeoVideoHTML\",\"VimeoVideo\",\"SubtLexUSLog10WF\",\"SignFrequency(M)\",\"SignFrequency(SD)\",\"SignFrequency(Z)\",\"SignFrequency(N)\",\"SignFrequency(M-Native)\",\"SignFrequency(SD-Native)\",\"SignFreq(Z-native)\",\"SignFrequency(N-Native)\",\"SignFrequency(M-Nonnative)\",\"SignFrequency(SD-Nonnative)\",\"SignFrequency(N-Nonnative)\",\"SignFreq(Z-Nonnative)\",\"GuessAccuracy\",\"DominantTranslation\",\"PercentUnknown\",\"PercentGlossAgreement\",\"PercentUnknown(Native)\",\"PercentGlossAgreement(Native)\",\"PercentUnknown(Nonnative)\",\"PercentGlossAgreement(Nonnative)\",\"Iconicity(M)\",\"Iconicity(SD)\",\"Iconicity(Z)\",\"Iconicity(N)\",\"Iconicity_ID\",\"IconicityType\",\"D.Iconicity(M) all\",\"D.Iconicity(SD) all\",\"D.Iconicity(N) all\",\"D.Iconicity(Z) all\",\"D.Iconicity(M) native\",\"D.Iconicity(SD) native\",\"D.Iconicity(Z) native\",\"D.Iconicity(N) native\",\"H statistic\",\"Transparency(M)\",\"Transparency SD\",\"Transparency Z\",\"LexicalClass\",\"SignOnset(ms)\",\"SignOffset(ms)\",\"SignDuration(ms)\",\"ClipDuration(ms)\",\"InCDI\",\"CDI Semantic Category\",\"Initialized.2.0\",\"FingerspelledLoanSign.2.0\",\"Compound.2.0\",\"NumberOfMorphemes.2.0\",\"Handshape.2.0\",\"MarkedHandshape.2.0\",\"SelectedFingers.2.0\",\"Flexion.2.0\",\"FlexionChange.2.0\",\"Spread.2.0\",\"SpreadChange.2.0\",\"ThumbPosition.2.0\",\"ThumbContact.2.0\",\"SignType.2.0\",\"Movement.2.0\",\"RepeatedMovement.2.0\",\"MajorLocation.2.0\",\"MinorLocation.2.0\",\"SecondMinorLocation.2.0\",\"Contact.2.0\",\"NonDominantHandshape.2.0\",\"UlnarRotation.2.0\",\"HandshapeM2.2.0\",\"MarkedHandshapeM2.2.0\",\"SelectedFingersM2.2.0\",\"FlexionM2.2.0\",\"FlexionChangeM2.2.0\",\"SpreadM2.2.0\",\"SpreadChangeM2.2.0\",\"ThumbPositionM2.2.0\",\"ThumbContactM2.2.0\",\"SignTypeM2.2.0\",\"MovementM2.2.0\",\"RepeatedMovementM2.2.0\",\"MajorLocationM2.2.0\",\"MinorLocationM2.2.0\",\"SecondMinorLocationM2.2.0\",\"ContactM2.2.0\",\"NonDominantHandshapeM2.2.0\",\"UlnarRotationM2.2.0\",\"HandshapeM3.2.0\",\"MarkedHandshapeM3.2.0\",\"SelectedFingersM3.2.0\",\"FlexionM3.2.0\",\"FlexionChangeM3.2.0\",\"SpreadM3.2.0\",\"SpreadChangeM3.2.0\",\"ThumbPositionM3.2.0\",\"ThumbContactM3.2.0\",\"SignTypeM3.2.0\",\"MovementM3.2.0\",\"RepeatedMovementM3.2.0\",\"MajorLocationM3.2.0\",\"MinorLocationM3.2.0\",\"SecondMinorLocationM3.2.0\",\"ContactM3.2.0\",\"NonDominantHandshapeM3.2.0\",\"UlnarRotationM3.2.0\",\"HandshapeM4.2.0\",\"MarkedHandshapeM4.2.0\",\"SelectedFingersM4.2.0\",\"FlexionM4.2.0\",\"FlexionChangeM4.2.0\",\"SpreadM4.2.0\",\"SpreadChangeM4.2.0\",\"ThumbPositionM4.2.0\",\"ThumbContactM4.2.0\",\"SignTypeM4.2.0\",\"MovementM4.2.0\",\"RepeatedMovementM4.2.0\",\"MajorLocationM4.2.0\",\"MinorLocationM4.2.0\",\"SecondMinorLocationM4.2.0\",\"ContactM4.2.0\",\"NonDominantHandshapeM4.2.0\",\"UlnarRotationM4.2.0\",\"HandshapeM5.2.0\",\"MarkedHandshapeM5.2.0\",\"SelectedFingersM5.2.0\",\"FlexionM5.2.0\",\"FlexionChangeM5.2.0\",\"SpreadM5.2.0\",\"SpreadChangeM5.2.0\",\"ThumbPositionM5.2.0\",\"ThumbContactM5.2.0\",\"SignTypeM5.2.0\",\"MovementM5.2.0\",\"RepeatedMovementM5.2.0\",\"MajorLocationM5.2.0\",\"MinorLocationM5.2.0\",\"SecondMinorLocationM5.2.0\",\"ContactM5.2.0\",\"NonDominantHandshapeM5.2.0\",\"UlnarRotationM5.2.0\",\"HandshapeM6.2.0\",\"MarkedHandshapeM6.2.0\",\"SelectedFingersM6.2.0\",\"FlexionM6.2.0\",\"FlexionChangeM6.2.0\",\"SpreadM6.2.0\",\"SpreadChangeM6.2.0\",\"ThumbPositionM6.2.0\",\"ThumbContactM6.2.0\",\"SignTypeM6.2.0\",\"MovementM6.2.0\",\"RepeatedMovementM6.2.0\",\"MajorLocationM6.2.0\",\"MinorLocationM6.2.0\",\"SecondMinorLocationM6.2.0\",\"ContactM6.2.0\",\"NonDominantHandshapeM6.2.0\",\"UlnarRotationM6.2.0\",\"SignType.2.0Frequency\",\"MajorLocation.2.0Frequency\",\"MinorLocation.2.0Frequency\",\"SecondMinorLocation.2.0Frequency\",\"Movement.2.0Frequency\",\"SelectedFingers.2.0Frequency\",\"Flexion.2.0Frequency\",\"FlexionChange.2.0Frequency\",\"RepeatedMovement.2.0Frequency\",\"Contact.2.0Frequency\",\"Spread.2.0Frequency\",\"SpreadChange.2.0Frequency\",\"ThumbContact.2.0Frequency\",\"ThumbPosition.2.0Frequency\",\"UlnarRotation.2.0Frequency\",\"Phonological Complexity\",\"PhonotacticProbability\",\"Parameter.Neighborhood.Density.2.0\",\"Neighborhood Density 2.0\",\"SignBankAnnotationID\",\"SignBankEnglishTranslations\",\"SignBankLemmaID\",\"SignBankSemanticField\",\"SignBankReferenceID\",\"bglm_aoa\",\"empirical_aoa\"]\n",
    "# [\"EntryID\",\"SignFrequency(M)\",\"PercentUnknown\",\"PercentGlossAgreement\",\"DominantTranslation\",\"SubtLexUSLog10WF\",\"Iconicity(M)\",\"Transparency M\",\"H index\",\"LexicalClass\",\"SignLength(ms)\",\"ClipLength(ms)\",\"Complexity\",\"Initialized.2.0\",\"FingerspelledLoanSign.2.0\",\"Compound.2.0\",\"NumberOfMorphemes.2.0\",\"Handshape.2.0\",\"MarkedHandshape.2.0\",\"SelectedFingers.2.0\",\"Flexion.2.0\",\"FlexionChange.2.0\",\"Spread.2.0\",\"SpreadChange.2.0\",\"ThumbPosition.2.0\",\"ThumbContact.2.0\",\"SignType.2.0\",\"Movement.2.0\",\"RepeatedMovement.2.0\",\"MajorLocation.2.0\",\"MinorLocation.2.0\",\"SecondMinorLocation.2.0\",\"Contact.2.0\",\"NonDominantHandshape.2.0\",\"UlnarRotation.2.0\",\"HandshapeM2.2.0\",\"MarkedHandshapeM2.2.0\",\"SelectedFingersM2.2.0\",\"FlexionM2.2.0\",\"FlexionChangeM2.2.0\",\"SpreadM2.2.0\",\"SpreadChangeM2.2.0\",\"ThumbPositionM2.2.0\",\"ThumbContactM2.2.0\",\"SignTypeM2.2.0\",\"MovementM2.2.0\",\"RepeatedMovementM2.2.0\",\"MajorLocationM2.2.0\",\"MinorLocationM2.2.0\",\"SecondMinorLocationM2.2.0\",\"ContactM2.2.0\",\"NonDominantHandshapeM2.2.0\",\"UlnarRotationM2.2.0\",\"HandshapeM3.2.0\",\"MarkedHandshapeM3.2.0\",\"SelectedFingersM3.2.0\",\"FlexionM3.2.0\",\"FlexionChangeM3.2.0\",\"SpreadM3.2.0\",\"SpreadChangeM3.2.0\",\"ThumbPositionM3.2.0\",\"ThumbContactM3.2.0\",\"SignTypeM3.2.0\",\"MovementM3.2.0\",\"RepeatedMovementM3.2.0\",\"MajorLocationM3.2.0\",\"MinorLocationM3.2.0\",\"SecondMinorLocationM3.2.0\",\"ContactM3.2.0\",\"NonDominantHandshapeM3.2.0\",\"UlnarRotationM3.2.0\",\"HandshapeM4.2.0\",\"MarkedHandshapeM4.2.0\",\"SelectedFingersM4.2.0\",\"FlexionM4.2.0\",\"FlexionChangeM4.2.0\",\"SpreadM4.2.0\",\"SpreadChangeM4.2.0\",\"ThumbPositionM4.2.0\",\"ThumbContactM4.2.0\",\"SignTypeM4.2.0\",\"MovementM4.2.0\",\"RepeatedMovementM4.2.0\",\"MajorLocationM4.2.0\",\"MinorLocationM4.2.0\",\"SecondMinorLocationM4.2.0\",\"ContactM4.2.0\",\"NonDominantHandshapeM4.2.0\",\"UlnarRotationM4.2.0\",\"HandshapeM5.2.0\",\"MarkedHandshapeM5.2.0\",\"SelectedFingersM5.2.0\",\"FlexionM5.2.0\",\"FlexionChangeM5.2.0\",\"SpreadM5.2.0\",\"SpreadChangeM5.2.0\",\"ThumbPositionM5.2.0\",\"ThumbContactM5.2.0\",\"SignTypeM5.2.0\",\"MovementM5.2.0\",\"RepeatedMovementM5.2.0\",\"MajorLocationM5.2.0\",\"MinorLocationM5.2.0\",\"SecondMinorLocationM5.2.0\",\"ContactM5.2.0\",\"NonDominantHandshapeM5.2.0\",\"UlnarRotationM5.2.0\",\"HandshapeM6.2.0\",\"MarkedHandshapeM6.2.0\",\"SelectedFingersM6.2.0\",\"FlexionM6.2.0\",\"FlexionChangeM6.2.0\",\"SpreadM6.2.0\",\"SpreadChangeM6.2.0\",\"ThumbPositionM6.2.0\",\"ThumbContactM6.2.0\",\"SignTypeM6.2.0\",\"MovementM6.2.0\",\"RepeatedMovementM6.2.0\",\"MajorLocationM6.2.0\",\"MinorLocationM6.2.0\",\"SecondMinorLocationM6.2.0\",\"ContactM6.2.0\",\"NonDominantHandshapeM6.2.0\",\"UlnarRotationM6.2.0\",\"bglm_aoa\",\"Neighborhood Density 2.0\",\"Parameter.Neighborhood.Density.2.0\",\"SignType.2.0Frequency\",\"MajorLocation.2.0Frequency\",\"MinorLocation.2.0Frequency\",\"SecondMinorLocation.2.0Frequency\",\"Movement.2.0Frequency\",\"SelectedFingers.2.0Frequency\",\"Flexion.2.0Frequency\",\"FlexionChange.2.0Frequency\",\"RepeatedMovement.2.0Frequency\",\"Contact.2.0Frequency\",\"Spread.2.0Frequency\",\"SpreadChange.2.0Frequency\",\"ThumbContact.2.0Frequency\",\"ThumbPosition.2.0Frequency\",\"UlnarRotation.2.0Frequency\",\"PhonotacticProbability\",\"SignBankID\",\"SignBankLemmaID\",\"SignBankAnnotationID\",\"SignBankSemanticField\",\"SignBankEnglishTranslations\",\"D.Iconicity(M) all\", \"empirical_aoa\"]"
   ]
  },
  {
   "cell_type": "code",
   "execution_count": 36,
   "metadata": {},
   "outputs": [],
   "source": [
    "# df_merged_with_color.columns.values"
   ]
  },
  {
   "cell_type": "code",
   "execution_count": 37,
   "metadata": {},
   "outputs": [],
   "source": [
    "# df_merged_with_color[[\"EntryID\",\"SignFrequency(M)\",\"PercentUnknown\"]]"
   ]
  },
  {
   "cell_type": "code",
   "execution_count": 52,
   "metadata": {},
   "outputs": [
    {
     "data": {
      "text/plain": [
       "['EntryID',\n",
       " 'LemmaID',\n",
       " 'Code',\n",
       " 'Batch',\n",
       " 'List',\n",
       " 'Item',\n",
       " 'YouTube Video',\n",
       " 'VimeoVideoHTML',\n",
       " 'VimeoVideo',\n",
       " 'SubtLexUSLog10WF',\n",
       " 'SignFrequency(M)',\n",
       " 'SignFrequency(SD)',\n",
       " 'SignFrequency(Z)',\n",
       " 'SignFrequency(N)',\n",
       " 'SignFrequency(M-Native)',\n",
       " 'SignFrequency(SD-Native)',\n",
       " 'SignFreq(Z-native)',\n",
       " 'SignFrequency(N-Native)',\n",
       " 'SignFrequency(M-Nonnative)',\n",
       " 'SignFrequency(SD-Nonnative)',\n",
       " 'SignFrequency(N-Nonnative)',\n",
       " 'SignFreq(Z-Nonnative)',\n",
       " 'DominantTranslation',\n",
       " 'NondominantTranslation',\n",
       " 'PercentUnknown',\n",
       " 'PercentGlossAgreement',\n",
       " 'PercentUnknown(Native)',\n",
       " 'PercentGlossAgreement(Native)',\n",
       " 'PercentUnknown(Nonnative)',\n",
       " 'PercentGlossAgreement(Nonnative)',\n",
       " 'Iconicity(M)',\n",
       " 'Iconicity(SD)',\n",
       " 'Iconicity(Z)',\n",
       " 'Iconicity(N)',\n",
       " 'Iconicity_ID',\n",
       " 'IconicityType',\n",
       " 'D.Iconicity(M) all',\n",
       " 'D.Iconicity(SD) all',\n",
       " 'D.Iconicity(N) all',\n",
       " 'D.Iconicity(Z) all',\n",
       " 'D.Iconicity(M) native',\n",
       " 'D.Iconicity(SD) native',\n",
       " 'D.Iconicity(Z) native',\n",
       " 'D.Iconicity(N) native',\n",
       " 'H statistic',\n",
       " 'GuessAccuracy',\n",
       " 'Transparency(M)',\n",
       " 'Transparency SD',\n",
       " 'Transparency Z',\n",
       " 'LexicalClass',\n",
       " 'SignOnset(ms)',\n",
       " 'SignOffset(ms)',\n",
       " 'SignDuration(ms)',\n",
       " 'ClipDuration(ms)',\n",
       " 'InCDI',\n",
       " 'CDI Semantic Category',\n",
       " 'Initialized.2.0',\n",
       " 'FingerspelledLoanSign.2.0',\n",
       " 'Compound.2.0',\n",
       " 'NumberOfMorphemes.2.0',\n",
       " 'Handshape.2.0',\n",
       " 'SelectedFingers.2.0',\n",
       " 'Flexion.2.0',\n",
       " 'FlexionChange.2.0',\n",
       " 'Spread.2.0',\n",
       " 'SpreadChange.2.0',\n",
       " 'ThumbPosition.2.0',\n",
       " 'ThumbContact.2.0',\n",
       " 'SignType.2.0',\n",
       " 'Movement.2.0',\n",
       " 'RepeatedMovement.2.0',\n",
       " 'MajorLocation.2.0',\n",
       " 'MinorLocation.2.0',\n",
       " 'SecondMinorLocation.2.0',\n",
       " 'Contact.2.0',\n",
       " 'NonDominantHandshape.2.0',\n",
       " 'UlnarRotation.2.0',\n",
       " 'HandshapeM2.2.0',\n",
       " 'SelectedFingersM2.2.0',\n",
       " 'FlexionM2.2.0',\n",
       " 'FlexionChangeM2.2.0',\n",
       " 'SpreadM2.2.0',\n",
       " 'SpreadChangeM2.2.0',\n",
       " 'ThumbPositionM2.2.0',\n",
       " 'ThumbContactM2.2.0',\n",
       " 'SignTypeM2.2.0',\n",
       " 'MovementM2.2.0',\n",
       " 'RepeatedMovementM2.2.0',\n",
       " 'MajorLocationM2.2.0',\n",
       " 'MinorLocationM2.2.0',\n",
       " 'SecondMinorLocationM2.2.0',\n",
       " 'ContactM2.2.0',\n",
       " 'NonDominantHandshapeM2.2.0',\n",
       " 'UlnarRotationM2.2.0',\n",
       " 'HandshapeM3.2.0',\n",
       " 'SelectedFingersM3.2.0',\n",
       " 'FlexionM3.2.0',\n",
       " 'FlexionChangeM3.2.0',\n",
       " 'SpreadM3.2.0',\n",
       " 'SpreadChangeM3.2.0',\n",
       " 'ThumbPositionM3.2.0',\n",
       " 'ThumbContactM3.2.0',\n",
       " 'SignTypeM3.2.0',\n",
       " 'MovementM3.2.0',\n",
       " 'RepeatedMovementM3.2.0',\n",
       " 'MajorLocationM3.2.0',\n",
       " 'MinorLocationM3.2.0',\n",
       " 'SecondMinorLocationM3.2.0',\n",
       " 'ContactM3.2.0',\n",
       " 'NonDominantHandshapeM3.2.0',\n",
       " 'UlnarRotationM3.2.0',\n",
       " 'HandshapeM4.2.0',\n",
       " 'SelectedFingersM4.2.0',\n",
       " 'FlexionM4.2.0',\n",
       " 'FlexionChangeM4.2.0',\n",
       " 'SpreadM4.2.0',\n",
       " 'SpreadChangeM4.2.0',\n",
       " 'ThumbPositionM4.2.0',\n",
       " 'ThumbContactM4.2.0',\n",
       " 'SignTypeM4.2.0',\n",
       " 'MovementM4.2.0',\n",
       " 'RepeatedMovementM4.2.0',\n",
       " 'MajorLocationM4.2.0',\n",
       " 'MinorLocationM4.2.0',\n",
       " 'SecondMinorLocationM4.2.0',\n",
       " 'ContactM4.2.0',\n",
       " 'NonDominantHandshapeM4.2.0',\n",
       " 'UlnarRotationM4.2.0',\n",
       " 'HandshapeM5.2.0',\n",
       " 'SelectedFingersM5.2.0',\n",
       " 'FlexionM5.2.0',\n",
       " 'FlexionChangeM5.2.0',\n",
       " 'SpreadM5.2.0',\n",
       " 'SpreadChangeM5.2.0',\n",
       " 'ThumbPositionM5.2.0',\n",
       " 'ThumbContactM5.2.0',\n",
       " 'SignTypeM5.2.0',\n",
       " 'MovementM5.2.0',\n",
       " 'RepeatedMovementM5.2.0',\n",
       " 'MajorLocationM5.2.0',\n",
       " 'MinorLocationM5.2.0',\n",
       " 'SecondMinorLocationM5.2.0',\n",
       " 'ContactM5.2.0',\n",
       " 'NonDominantHandshapeM5.2.0',\n",
       " 'UlnarRotationM5.2.0',\n",
       " 'HandshapeM6.2.0',\n",
       " 'SelectedFingersM6.2.0',\n",
       " 'FlexionM6.2.0',\n",
       " 'FlexionChangeM6.2.0',\n",
       " 'SpreadM6.2.0',\n",
       " 'SpreadChangeM6.2.0',\n",
       " 'ThumbPositionM6.2.0',\n",
       " 'ThumbContactM6.2.0',\n",
       " 'SignTypeM6.2.0',\n",
       " 'MovementM6.2.0',\n",
       " 'RepeatedMovementM6.2.0',\n",
       " 'MajorLocationM6.2.0',\n",
       " 'MinorLocationM6.2.0',\n",
       " 'SecondMinorLocationM6.2.0',\n",
       " 'ContactM6.2.0',\n",
       " 'NonDominantHandshapeM6.2.0',\n",
       " 'UlnarRotationM6.2.0',\n",
       " 'SignType.2.0Frequency',\n",
       " 'MajorLocation.2.0Frequency',\n",
       " 'MinorLocation.2.0Frequency',\n",
       " 'SecondMinorLocation.2.0Frequency',\n",
       " 'Movement.2.0Frequency',\n",
       " 'SelectedFingers.2.0Frequency',\n",
       " 'Flexion.2.0Frequency',\n",
       " 'FlexionChange.2.0Frequency',\n",
       " 'RepeatedMovement.2.0Frequency',\n",
       " 'Contact.2.0Frequency',\n",
       " 'Spread.2.0Frequency',\n",
       " 'SpreadChange.2.0Frequency',\n",
       " 'ThumbContact.2.0Frequency',\n",
       " 'ThumbPosition.2.0Frequency',\n",
       " 'UlnarRotation.2.0Frequency',\n",
       " 'Phonological Complexity',\n",
       " 'PhonotacticProbability',\n",
       " 'Parameter.Neighborhood.Density.2.0',\n",
       " 'Neighborhood Density 2.0',\n",
       " 'SignBankAnnotationID',\n",
       " 'SignBankEnglishTranslations',\n",
       " 'SignBankLemmaID',\n",
       " 'SignBankReferenceID',\n",
       " 'bglm_aoa',\n",
       " 'empirical_aoa',\n",
       " 'group_id',\n",
       " 'color_code']"
      ]
     },
     "execution_count": 52,
     "metadata": {},
     "output_type": "execute_result"
    }
   ],
   "source": [
    "df_merged_with_color.columns.tolist()"
   ]
  },
  {
   "cell_type": "code",
   "execution_count": 57,
   "metadata": {},
   "outputs": [
    {
     "name": "stdout",
     "output_type": "stream",
     "text": [
      "189\n",
      "dropping NondominantTranslation\n",
      "dropping group_id\n",
      "dropping color_code\n"
     ]
    },
    {
     "data": {
      "text/plain": [
       "186"
      ]
     },
     "execution_count": 57,
     "metadata": {},
     "output_type": "execute_result"
    }
   ],
   "source": [
    "#### Get rid of morpheme columbs\n",
    "print(len(df_merged_with_color.columns.values))\n",
    "# df_sign = df_sign[['YouTube Video','Code','SignBankEnglishTranslations', \"VimeoVideo\"]]\n",
    "# df_sign = df_sign.rename(columns={\"VimeoVideo\": \"video\"}, errors=\"raise\")\n",
    "# df_sign.head()\n",
    "# df_default = pd.merge(df_default, df_sign,how='left', on=['Code'])\n",
    "\n",
    "test_df = df_merged_with_color\n",
    "# filtered = test_df.filter(regex='M..2.0|Video')\n",
    "for col in test_df.columns:\n",
    "    if col not in cols_in_sign_data_pane:\n",
    "#         if col in test_df.columns:\n",
    "        print(\"dropping \" + col)\n",
    "        test_df = test_df[test_df.columns.drop(col)]\n",
    "\n",
    "no_morphemes_df = test_df\n",
    "len(no_morphemes_df.columns.values)\n",
    "# no_morphemes_df.columns.values"
   ]
  },
  {
   "cell_type": "code",
   "execution_count": 58,
   "metadata": {},
   "outputs": [
    {
     "name": "stdout",
     "output_type": "stream",
     "text": [
      "This column is not present: MarkedHandshape.2.0\n",
      "This column is not present: MarkedHandshapeM2.2.0\n",
      "This column is not present: MarkedHandshapeM3.2.0\n",
      "This column is not present: MarkedHandshapeM4.2.0\n",
      "This column is not present: MarkedHandshapeM5.2.0\n",
      "This column is not present: MarkedHandshapeM6.2.0\n",
      "This column is not present: SignBankSemanticField\n"
     ]
    }
   ],
   "source": [
    "for col in cols_in_sign_data_pane:\n",
    "    if col not in test_df.columns:\n",
    "        print(\"This column is not present: \" + col)"
   ]
  },
  {
   "cell_type": "code",
   "execution_count": 59,
   "metadata": {},
   "outputs": [
    {
     "name": "stdout",
     "output_type": "stream",
     "text": [
      "['List' 'Item' 'SubtLexUSLog10WF' 'SignFrequency(M)' 'SignFrequency(SD)'\n",
      " 'SignFrequency(Z)' 'SignFrequency(N)' 'SignFrequency(M-Native)'\n",
      " 'SignFrequency(SD-Native)' 'SignFreq(Z-native)' 'SignFrequency(N-Native)'\n",
      " 'SignFrequency(M-Nonnative)' 'SignFrequency(SD-Nonnative)'\n",
      " 'SignFrequency(N-Nonnative)' 'SignFreq(Z-Nonnative)' 'PercentUnknown'\n",
      " 'PercentGlossAgreement' 'PercentUnknown(Native)'\n",
      " 'PercentGlossAgreement(Native)' 'PercentUnknown(Nonnative)'\n",
      " 'PercentGlossAgreement(Nonnative)' 'Iconicity(M)' 'Iconicity(SD)'\n",
      " 'Iconicity(Z)' 'Iconicity(N)' 'D.Iconicity(M) all' 'D.Iconicity(SD) all'\n",
      " 'D.Iconicity(N) all' 'D.Iconicity(Z) all' 'D.Iconicity(M) native'\n",
      " 'D.Iconicity(SD) native' 'D.Iconicity(Z) native' 'D.Iconicity(N) native'\n",
      " 'H statistic' 'GuessAccuracy' 'Transparency(M)' 'Transparency SD'\n",
      " 'Transparency Z' 'SignOnset(ms)' 'SignOffset(ms)' 'SignDuration(ms)'\n",
      " 'ClipDuration(ms)' 'Initialized.2.0' 'FingerspelledLoanSign.2.0'\n",
      " 'Compound.2.0' 'NumberOfMorphemes.2.0' 'FlexionChange.2.0' 'Spread.2.0'\n",
      " 'SpreadChange.2.0' 'ThumbContact.2.0' 'RepeatedMovement.2.0'\n",
      " 'Contact.2.0' 'UlnarRotation.2.0' 'FlexionChangeM2.2.0' 'SpreadM2.2.0'\n",
      " 'SpreadChangeM2.2.0' 'ThumbContactM2.2.0' 'RepeatedMovementM2.2.0'\n",
      " 'ContactM2.2.0' 'UlnarRotationM2.2.0' 'FlexionChangeM3.2.0'\n",
      " 'SpreadM3.2.0' 'SpreadChangeM3.2.0' 'ThumbContactM3.2.0'\n",
      " 'RepeatedMovementM3.2.0' 'ContactM3.2.0' 'UlnarRotationM3.2.0'\n",
      " 'FlexionChangeM4.2.0' 'SpreadM4.2.0' 'SpreadChangeM4.2.0'\n",
      " 'ThumbContactM4.2.0' 'RepeatedMovementM4.2.0' 'ContactM4.2.0'\n",
      " 'NonDominantHandshapeM4.2.0' 'UlnarRotationM4.2.0' 'FlexionChangeM5.2.0'\n",
      " 'SpreadM5.2.0' 'SpreadChangeM5.2.0' 'ThumbContactM5.2.0' 'SignTypeM5.2.0'\n",
      " 'MovementM5.2.0' 'RepeatedMovementM5.2.0' 'MajorLocationM5.2.0'\n",
      " 'MinorLocationM5.2.0' 'SecondMinorLocationM5.2.0' 'ContactM5.2.0'\n",
      " 'NonDominantHandshapeM5.2.0' 'UlnarRotationM5.2.0' 'FlexionChangeM6.2.0'\n",
      " 'SpreadM6.2.0' 'SpreadChangeM6.2.0' 'ThumbContactM6.2.0' 'SignTypeM6.2.0'\n",
      " 'MovementM6.2.0' 'RepeatedMovementM6.2.0' 'MajorLocationM6.2.0'\n",
      " 'MinorLocationM6.2.0' 'SecondMinorLocationM6.2.0' 'ContactM6.2.0'\n",
      " 'NonDominantHandshapeM6.2.0' 'UlnarRotationM6.2.0'\n",
      " 'SignType.2.0Frequency' 'MajorLocation.2.0Frequency'\n",
      " 'MinorLocation.2.0Frequency' 'SecondMinorLocation.2.0Frequency'\n",
      " 'Movement.2.0Frequency' 'SelectedFingers.2.0Frequency'\n",
      " 'Flexion.2.0Frequency' 'FlexionChange.2.0Frequency'\n",
      " 'RepeatedMovement.2.0Frequency' 'Contact.2.0Frequency'\n",
      " 'Spread.2.0Frequency' 'SpreadChange.2.0Frequency'\n",
      " 'ThumbContact.2.0Frequency' 'ThumbPosition.2.0Frequency'\n",
      " 'UlnarRotation.2.0Frequency' 'Phonological Complexity'\n",
      " 'PhonotacticProbability' 'Parameter.Neighborhood.Density.2.0'\n",
      " 'Neighborhood Density 2.0' 'SignBankReferenceID' 'bglm_aoa'\n",
      " 'empirical_aoa']\n",
      "['EntryID', 'LemmaID', 'Code', 'Batch', 'Iconicity_ID', 'IconicityType', 'LexicalClass', 'InCDI', 'CDI Semantic Category', 'Handshape.2.0', 'SelectedFingers.2.0', 'Flexion.2.0', 'ThumbPosition.2.0', 'SignType.2.0', 'Movement.2.0', 'MajorLocation.2.0', 'MinorLocation.2.0', 'SecondMinorLocation.2.0', 'NonDominantHandshape.2.0', 'HandshapeM2.2.0', 'SelectedFingersM2.2.0', 'FlexionM2.2.0', 'ThumbPositionM2.2.0', 'SignTypeM2.2.0', 'MovementM2.2.0', 'MajorLocationM2.2.0', 'MinorLocationM2.2.0', 'SecondMinorLocationM2.2.0', 'NonDominantHandshapeM2.2.0', 'HandshapeM3.2.0', 'SelectedFingersM3.2.0', 'FlexionM3.2.0', 'ThumbPositionM3.2.0', 'SignTypeM3.2.0', 'MovementM3.2.0', 'MajorLocationM3.2.0', 'MinorLocationM3.2.0', 'SecondMinorLocationM3.2.0', 'NonDominantHandshapeM3.2.0', 'HandshapeM4.2.0', 'SelectedFingersM4.2.0', 'FlexionM4.2.0', 'ThumbPositionM4.2.0', 'SignTypeM4.2.0', 'MovementM4.2.0', 'MajorLocationM4.2.0', 'MinorLocationM4.2.0', 'SecondMinorLocationM4.2.0', 'HandshapeM5.2.0', 'SelectedFingersM5.2.0', 'FlexionM5.2.0', 'ThumbPositionM5.2.0', 'HandshapeM6.2.0', 'SelectedFingersM6.2.0', 'FlexionM6.2.0', 'ThumbPositionM6.2.0']\n"
     ]
    }
   ],
   "source": [
    "### Add sign constraint range values\n",
    "numerical_attr = no_morphemes_df.select_dtypes(include=['float', 'int']).columns.values\n",
    "categorical_attr = []\n",
    "for column in no_morphemes_df.columns.values:\n",
    "    if column not in numerical_attr and column not in ['YouTube Video', 'VimeoVideoHTML', 'VimeoVideo', 'DominantTranslation', 'SignBankAnnotationID', 'SignBankEnglishTranslations', 'SignBankLemmaID', 'SignBankSemanticField']:\n",
    "        categorical_attr.append(column)   \n",
    "print(numerical_attr)\n",
    "print(categorical_attr)"
   ]
  },
  {
   "cell_type": "code",
   "execution_count": 60,
   "metadata": {
    "scrolled": true
   },
   "outputs": [
    {
     "name": "stdout",
     "output_type": "stream",
     "text": [
      "[2. 1. 2. ... 3. 2. 1.]\n",
      "[25. 62. 55. ... 42. 56. 57.]\n",
      "[0.301 5.268 5.268 ... 3.039 2.161 2.843]\n",
      "[3.034 5.12  4.267 ... 3.533 3.958 4.333]\n",
      "[1.5   1.716 1.574 ... 1.776 1.781 1.271]\n",
      "[-0.728  0.302 -0.025 ... -0.346 -0.443  0.098]\n",
      "[29 25 30 ... 30 24 27]\n",
      "[2.944 5.214 4.444 ... 3.857 3.929 4.063]\n",
      "[1.474 1.847 1.723 ... 1.916 1.492 1.289]\n",
      "[-0.843  0.36  -0.031 ... -0.237 -0.439 -0.062]\n",
      "[18 14 18 ... 14 14 16]\n",
      "[3.182 5.    4.    ... 3.25  4.    4.727]\n",
      "[1.601 1.612 1.348 ... 1.653 2.211 1.191]\n",
      "[12 11 12 ... 16 11 11]\n",
      "[-0.541  0.228 -0.017 ... -0.441 -0.45   0.33 ]\n",
      "[0.   0.   0.   ... 0.   0.04 0.  ]\n",
      "[0.63  0.409 0.75  0.75  0.259 0.519 0.6   0.625 1.    0.963 0.467 1.\n",
      " 0.63  0.852 0.852 0.88  1.    1.    0.92  0.579 0.8   0.692 1.    0.417\n",
      " 0.824 0.786 0.913 0.5   0.6   0.893 0.926 0.233 0.486 0.906 0.963 0.903\n",
      " 0.786 0.792 0.652 0.692 0.636 0.643 0.6   0.8   1.    0.8   0.52  1.\n",
      " 1.    0.565 1.    0.964 0.714 0.792 0.654 1.    0.92  0.423 0.679 0.852\n",
      " 0.55  0.933 0.44  1.    0.462 0.968 0.407 0.84  1.    0.818 0.667 0.3\n",
      " 0.48  0.655 0.889 1.    1.    0.5   0.969 1.    0.852 0.333 1.    0.435\n",
      " 1.    0.926 1.    0.419 0.667 1.    0.444 0.5   0.783 0.76  0.606 0.444\n",
      " 0.667 0.844 0.556 0.967 1.    1.    0.423 0.964 0.556 1.    0.967 1.\n",
      " 0.85  0.964 0.227 0.96  0.75  0.708 0.615 0.815 0.464 0.96  1.    0.926\n",
      " 0.667 0.708 1.    0.767 1.    0.679 0.519 1.    0.933 0.615 0.889 1.\n",
      " 0.64  0.514 0.696 0.519 0.474 0.667 0.813 1.    1.    1.    0.621 0.931\n",
      " 1.    0.607 0.852 0.862 0.69  0.923 1.    0.9   0.63  0.966 0.462 0.519\n",
      " 0.481 0.667 1.    1.    0.63  1.    0.68  0.621 0.448 0.933 1.    0.962\n",
      " 0.8   0.72  0.308 0.667 0.5   1.    0.526 0.889 0.92  0.92  0.652 0.741\n",
      " 0.935 0.767 0.8   0.96  1.    0.474 0.8   0.5   0.679 0.462 0.56  0.35\n",
      " 0.44  0.96  0.542 0.714 1.    0.6   0.714 0.885 0.68  1.    1.    0.483\n",
      " 0.4   1.    0.963 0.769 0.591 0.667 0.733 0.938 1.    0.943 0.731 0.714\n",
      " 1.    1.    0.731 0.667 0.867 0.923 0.3   0.741 0.406 0.696 1.    0.966\n",
      " 1.    0.621 0.818 0.923 0.348 0.52  0.852 0.625 0.667 0.962 0.929 0.846\n",
      " 0.393 0.92  0.692 0.593 0.821 0.586 0.4   0.889 0.679 0.645 0.636 0.905\n",
      " 1.    0.63  0.633 0.567 0.923 0.444 0.667 0.818 0.609 0.778 0.625 0.63\n",
      " 0.655 0.833 0.962 0.522 0.885 1.    0.607 0.421 0.667 1.    0.875 0.917\n",
      " 0.542 0.667 0.423 0.429 0.68  1.    0.933 0.8   0.609 1.    0.962 0.44\n",
      " 0.52  0.222 0.63  0.857 0.563 0.63  0.667 1.    0.96  0.7   0.8   0.92\n",
      " 0.933 0.556 0.905 1.    0.76  0.688 0.462 0.826 1.    0.815 1.    0.55\n",
      " 0.615 0.88  0.926 0.321 0.724 0.963 0.926 0.852 0.913 0.885 0.522 1.\n",
      " 0.72  0.37  0.967 0.56  0.6   0.538 0.833 0.963 0.815 0.7   0.429 0.92\n",
      " 0.81  0.833 0.862 0.938 1.    0.967 0.5   0.844 0.667 1.    0.8   1.\n",
      " 0.963 0.655 0.629 0.957 0.632 0.931 0.917 0.5   0.963 0.5   1.    1.\n",
      " 0.4   1.    0.333 1.    0.966 0.778 0.943 1.    1.    0.444 0.967 0.957\n",
      " 0.5   0.654 0.833 0.842 0.806 0.267 0.7   0.769 0.968 1.    1.    0.84\n",
      " 0.815 0.407 0.952 0.484 0.654 0.4   0.808 0.833 0.686 1.    0.963 0.632\n",
      " 0.5   0.577 0.375 0.963 0.864 1.    1.    0.583 0.964 0.44  0.848 0.5\n",
      " 0.542 0.846 0.87  0.555 0.714 0.92  0.931 0.44  0.852 1.    0.448 0.964\n",
      " 0.5   0.88  0.964 1.    0.7   0.474 0.815 0.92  0.607 1.    0.964 0.778\n",
      " 0.742 0.929 0.6   0.9   0.8   0.5   1.    1.    1.    0.682 0.769 0.971\n",
      " 0.938 0.84  0.643 0.926 0.958 1.    0.92  0.852 0.889 0.867 0.857 0.68\n",
      " 0.905 0.333 0.433 0.593 0.536 0.846 0.538 0.633 0.724 0.5   0.52  0.714\n",
      " 0.6   0.893 0.821 0.966 0.806 0.6   0.25  0.409 0.52  0.333 1.    0.815\n",
      " 0.735 0.519 0.667 0.519 1.    0.607 0.643 0.421 0.885 0.833 0.444 1.\n",
      " 0.48  0.778 0.615 1.    0.75  0.758 0.88  1.    0.583 0.619 0.885 0.304\n",
      " 1.    0.448 0.4   0.556 0.741 0.645 0.967 0.462 0.25  0.71  0.417 0.625\n",
      " 0.833 0.968 0.75  1.    0.625 0.367 1.    0.857 0.963 0.593 0.63  1.\n",
      " 0.84  0.967 0.304 0.833 0.65  0.5   0.821 0.65  0.667 0.357 0.735 0.72\n",
      " 0.526 0.538 1.    0.741 0.519 0.767 0.267 0.5   0.84  0.667 0.567 1.\n",
      " 0.962 0.767 0.839 0.808 0.536 0.543 0.5   0.857 0.917 0.704 0.267 0.96\n",
      " 0.407 0.615 0.615 0.844 0.63  0.741 0.889 0.871 0.435 1.    0.481 0.897\n",
      " 0.76  0.37  0.84  0.778 0.333 0.962 0.731 0.481 0.963 1.    0.767 0.783\n",
      " 1.    0.815 1.    0.348 0.964 0.867 0.774 1.    1.    0.345 0.967 0.657\n",
      " 0.96  0.913 0.963 1.    1.    0.962 0.25  0.765 1.    0.36  0.345 0.84\n",
      " 0.429 0.71  0.793 0.742 1.    0.654 0.677 0.96  1.    0.929 0.958 0.96\n",
      " 1.    0.967 0.471 0.481 1.    0.5   1.    0.783 0.417 0.867 1.    0.95\n",
      " 1.    0.962 0.514 0.375 0.556]\n",
      "[0. 0. 0. ... 0. 0. 0.]\n",
      "[0.75  0.455 0.786 0.786 0.429 0.529 0.611 0.727 1.    0.929 0.4   1.\n",
      " 0.643 0.909 0.917 0.9   1.    1.    0.917 0.667 0.824 0.636 1.    0.4\n",
      " 0.857 0.714 0.917 0.462 0.625 0.929 0.941 0.222 0.4   0.867 0.923 0.833\n",
      " 0.929 0.733 0.786 0.714 0.556 0.5   0.778 0.944 1.    0.8   0.333 1.\n",
      " 1.    0.583 1.    1.    0.714 0.8   0.583 1.    1.    0.417 0.923 0.75\n",
      " 0.7   1.    0.364 1.    0.412 0.944 0.375 0.909 1.    1.    1.    0.5\n",
      " 0.636 0.786 1.    1.    1.    0.5   0.933 1.    0.846 0.182 1.    0.4\n",
      " 1.    1.    1.    0.25  0.615 1.    0.429 0.375 1.    0.833 0.857 0.563\n",
      " 0.643 0.8   0.462 1.    1.    1.    0.438 0.929 0.571 1.    0.933 1.\n",
      " 0.875 1.    0.273 1.    0.688 0.6   0.625 0.714 0.4   0.929 1.    0.923\n",
      " 0.7   0.636 1.    0.667 1.    0.778 0.5   1.    0.929 0.625 0.786 1.\n",
      " 0.7   0.6   0.769 0.786 0.222 0.647 0.867 1.    1.    1.    0.867 1.\n",
      " 1.    0.643 0.917 0.733 0.667 1.    1.    0.867 0.714 0.944 0.333 0.471\n",
      " 0.5   0.875 1.    1.    0.769 1.    0.5   0.706 0.5   0.944 1.    0.909\n",
      " 0.857 0.714 0.455 0.714 0.727 1.    0.455 0.846 0.909 1.    0.643 0.8\n",
      " 0.929 0.8   0.8   0.933 1.    0.571 1.    0.5   0.571 0.5   0.7   0.5\n",
      " 0.467 0.929 0.692 0.643 1.    0.455 0.786 0.867 0.571 1.    1.    0.353\n",
      " 0.357 1.    0.941 0.818 0.778 0.75  0.722 0.933 1.    1.    0.769 0.857\n",
      " 1.    1.    0.917 0.706 0.944 0.938 0.308 0.765 0.333 0.692 1.    1.\n",
      " 1.    0.6   0.857 1.    0.429 0.364 1.    0.429 0.833 1.    1.    0.818\n",
      " 0.357 0.929 1.    0.75  0.833 0.588 0.375 0.857 0.571 0.733 0.778 1.\n",
      " 1.    0.5   0.667 0.714 0.929 0.714 0.786 0.857 0.5   0.917 0.636 0.571\n",
      " 0.643 0.867 1.    0.417 1.    1.    0.571 0.571 0.75  1.    1.    0.909\n",
      " 0.727 0.643 0.438 0.467 0.786 1.    0.889 0.857 0.75  1.    0.938 0.571\n",
      " 0.636 0.118 0.769 0.929 0.833 0.833 0.867 1.    1.    0.6   0.833 0.857\n",
      " 0.929 0.571 1.    1.    0.786 0.733 0.313 0.923 1.    0.929 1.    0.6\n",
      " 0.625 0.818 0.938 0.429 0.857 1.    0.917 0.882 0.833 0.875 0.333 1.\n",
      " 0.733 0.313 1.    0.8   0.5   0.364 0.714 1.    0.765 0.667 0.333 0.833\n",
      " 0.923 0.733 0.867 0.933 1.    1.    0.5   0.933 0.75  1.    0.833 1.\n",
      " 1.    0.529 0.4   0.929 0.444 0.875 0.933 0.692 0.941 0.5   1.    1.\n",
      " 0.455 1.    0.286 1.    0.933 0.688 0.933 1.    1.    0.583 1.    0.917\n",
      " 0.462 0.615 0.833 0.778 0.857 0.333 0.722 0.786 0.944 1.    1.    0.909\n",
      " 0.833 0.412 1.    0.571 0.688 0.333 0.75  0.867 0.667 1.    1.    0.727\n",
      " 0.5   0.667 0.5   1.    0.857 1.    1.    0.636 1.    0.455 1.    0.455\n",
      " 0.364 0.75  0.857 0.571 0.643 1.    0.944 0.571 1.    1.    0.538 1.\n",
      " 0.5   0.933 0.929 1.    0.6   0.714 0.75  0.857 0.571 1.    1.    0.786\n",
      " 0.714 0.929 0.467 0.867 0.643 0.25  1.    1.    1.    0.818 0.769 1.\n",
      " 0.933 0.636 0.643 0.941 1.    1.    1.    1.    0.882 0.933 0.929 0.615\n",
      " 1.    0.417 0.389 0.643 0.571 0.882 0.563 0.466 0.867 0.615 0.5   0.857\n",
      " 0.583 0.867 0.929 1.    0.786 0.417 0.375 0.444 0.556 0.3   1.    0.846\n",
      " 0.786 0.563 0.667 0.688 1.    0.571 0.643 0.444 0.875 0.867 0.364 1.\n",
      " 0.417 0.706 0.615 1.    0.833 0.933 1.    1.    0.833 0.625 1.    0.3\n",
      " 1.    0.5   0.5   0.571 0.833 0.556 1.    0.286 0.333 0.833 0.231 0.667\n",
      " 0.733 1.    0.733 1.    0.875 0.533 1.    0.929 1.    0.667 0.667 1.\n",
      " 0.857 1.    0.333 0.75  0.666 0.5   0.786 0.778 0.714 0.286 0.714 0.727\n",
      " 0.857 0.8   1.    0.692 0.666 0.778 0.333 0.5   0.818 0.75  0.6   1.\n",
      " 1.    0.722 0.889 0.875 0.5   0.533 0.563 1.    1.    0.625 0.286 1.\n",
      " 0.438 0.5   0.615 0.929 0.647 0.714 0.917 0.833 0.538 1.    0.5   0.867\n",
      " 0.818 0.357 0.786 0.857 0.333 1.    0.824 0.5   1.    1.    0.933 0.909\n",
      " 1.    0.923 1.    0.25  0.929 0.867 0.833 1.    1.    0.286 1.    0.6\n",
      " 1.    0.9   1.    1.    1.    0.938 0.286 0.833 1.    0.5   0.357 0.786\n",
      " 0.571 0.833 0.8   0.833 1.    0.846 0.667 1.    1.    0.875 0.909 0.929\n",
      " 1.    1.    0.571 0.538 1.    0.714 1.    0.714 0.167 0.889 1.    0.875\n",
      " 1.    0.923 0.666 0.5   0.625]\n",
      "[0.083 0.    0.    ... 0.    0.091 0.   ]\n",
      "[0.533 0.364 0.714 0.714 0.077 0.5   0.583 0.538 1.    1.    0.533 1.\n",
      " 0.615 0.813 0.8   0.867 1.    1.    0.923 0.5   0.769 0.733 1.    0.429\n",
      " 0.8   0.857 0.909 0.538 0.556 0.857 0.9   0.25  0.55  0.941 1.    1.\n",
      " 0.643 0.889 0.444 0.667 0.692 0.786 0.333 0.583 1.    0.8   0.8   1.\n",
      " 1.    0.545 1.    0.929 0.714 0.778 0.714 1.    0.818 0.429 0.467 0.933\n",
      " 0.4   0.875 0.5   1.    0.5   1.    0.455 0.786 1.    0.714 0.444 0.167\n",
      " 0.357 0.533 0.8   1.    1.    0.5   1.    1.    0.857 0.438 1.    0.462\n",
      " 1.    0.867 1.    0.526 0.714 1.    0.462 0.7   0.667 0.692 0.421 0.273\n",
      " 0.692 0.882 0.643 0.917 1.    1.    0.4   1.    0.538 1.    1.    1.\n",
      " 0.8   0.917 0.182 0.909 0.833 0.786 0.6   0.923 0.538 1.    1.    0.929\n",
      " 0.636 0.769 1.    0.917 1.    0.5   0.533 1.    0.938 0.6   1.    1.\n",
      " 0.6   0.45  0.6   0.231 0.7   0.7   0.765 1.    1.    1.    0.357 0.867\n",
      " 1.    0.571 0.8   1.    0.714 0.846 1.    0.933 0.538 1.    0.636 0.6\n",
      " 0.467 0.5   1.    1.    0.5   1.    0.846 0.5   0.4   0.917 1.    1.\n",
      " 0.727 0.727 0.2   0.615 0.333 1.    0.625 0.929 0.929 0.818 0.667 0.667\n",
      " 0.941 0.733 0.8   1.    1.    0.417 0.692 0.5   0.786 0.385 0.467 0.2\n",
      " 0.4   1.    0.364 0.786 1.    0.714 0.643 0.909 0.818 1.    1.    0.667\n",
      " 0.455 1.    1.    0.733 0.462 0.6   0.75  0.941 1.    0.9   0.692 0.571\n",
      " 1.    1.    0.571 0.6   0.75  0.9   0.286 0.7   0.471 0.7   1.    0.933\n",
      " 1.    0.643 0.789 0.875 0.222 0.643 0.692 0.778 0.533 0.9   0.857 0.867\n",
      " 0.429 0.909 0.556 0.467 0.813 0.583 0.385 0.923 0.786 0.563 0.538 0.857\n",
      " 1.    0.733 0.583 0.438 0.917 0.273 0.563 0.75  0.692 0.667 0.615 0.692\n",
      " 0.667 0.8   0.929 0.636 0.8   1.    0.643 0.333 0.6   1.    0.6   0.923\n",
      " 0.385 0.688 0.4   0.4   0.545 1.    1.    0.727 0.455 1.    1.    0.273\n",
      " 0.429 0.4   0.5   0.786 0.4   0.467 0.467 1.    0.889 0.8   0.75  1.\n",
      " 0.938 0.545 0.818 1.    0.727 0.647 0.7   0.7   1.    0.692 1.    0.5\n",
      " 0.6   0.929 0.909 0.214 0.6   0.933 0.933 0.8   1.    0.9   0.615 1.\n",
      " 0.7   0.455 0.917 0.4   0.667 0.667 0.938 0.923 0.9   0.733 0.6   1.\n",
      " 0.625 0.933 0.857 0.941 1.    0.933 0.5   0.765 0.6   1.    0.778 1.\n",
      " 0.933 0.833 0.8   1.    0.8   1.    0.889 0.273 1.    0.5   1.    1.\n",
      " 0.357 1.    0.385 1.    1.    0.909 0.95  1.    1.    0.333 0.933 1.\n",
      " 0.533 0.692 0.833 0.9   0.765 0.2   0.667 0.75  1.    1.    1.    0.786\n",
      " 0.8   0.4   0.909 0.412 0.6   0.467 0.9   0.8   0.7   1.    0.929 0.5\n",
      " 0.5   0.5   0.2   0.933 0.875 1.    1.    0.538 0.933 0.429 0.737 0.533\n",
      " 0.692 1.    0.889 0.546 0.786 0.8   0.909 0.273 0.789 1.    0.375 0.929\n",
      " 0.5   0.8   1.    1.    0.8   0.333 0.867 1.    0.643 1.    0.933 0.769\n",
      " 0.765 0.929 0.7   0.933 1.    0.833 1.    1.    1.    0.545 0.769 0.95\n",
      " 0.941 1.    0.643 0.9   0.909 1.    0.857 0.733 0.9   0.8   0.786 0.75\n",
      " 0.8   0.267 0.5   0.538 0.5   0.778 0.5   0.8   0.571 0.412 0.545 0.571\n",
      " 0.615 0.923 0.714 0.933 0.824 0.769 0.167 0.385 0.5   0.4   1.    0.786\n",
      " 0.7   0.455 0.667 0.273 1.    0.643 0.643 0.4   0.9   0.8   0.5   1.\n",
      " 0.538 0.9   0.615 1.    0.7   0.611 0.786 1.    0.333 0.615 0.769 0.308\n",
      " 1.    0.4   0.3   0.538 0.667 0.769 0.917 0.615 0.2   0.538 0.636 0.583\n",
      " 0.933 0.941 0.765 1.    0.5   0.2   1.    0.714 0.933 0.533 0.6   1.\n",
      " 0.818 0.933 0.273 1.    0.643 0.5   0.857 0.545 0.6   0.429 0.75  0.714\n",
      " 0.333 0.375 1.    0.786 0.4   0.75  0.167 0.5   0.857 0.6   0.533 1.\n",
      " 0.923 0.833 0.769 0.7   0.571 0.55  0.4   0.75  0.857 0.818 0.25  0.917\n",
      " 0.364 0.714 0.615 0.778 0.6   0.769 0.867 0.923 0.3   1.    0.455 0.929\n",
      " 0.714 0.385 0.909 0.692 0.333 0.933 0.556 0.467 0.938 1.    0.6   0.667\n",
      " 1.    0.714 1.    0.455 1.    0.867 0.692 1.    1.    0.4   0.938 0.7\n",
      " 0.933 0.923 0.917 1.    1.    1.    0.214 0.727 1.    0.231 0.333 0.909\n",
      " 0.286 0.632 0.786 0.615 1.    0.462 0.692 0.909 1.    1.    1.    1.\n",
      " 1.    0.917 0.4   0.429 1.    0.286 1.    0.889 0.667 0.833 1.    1.\n",
      " 1.    1.    0.4   0.2   0.455]\n",
      "[1.074 5.481 2.654 ... 2.1   4.667 3.742]\n",
      "[0.267 1.503 1.623 ... 1.729 2.187 1.914]\n",
      "[-0.82   1.308 -0.101 ... -0.668  0.7    0.233]\n",
      "[27. 27. 26. ... 30. 30. 31.]\n",
      "[2.1  3.1  2.53 3.23 1.36 1.9  4.07 1.77 1.55 1.48 2.17 1.55 1.39 3.2\n",
      " 2.26 3.03 2.52 2.03 5.04 2.9  2.2  3.52 2.16 1.81 1.9  1.2  4.1  2.45\n",
      " 1.45 2.7  2.77 1.23 1.73 5.93 3.45 1.96 5.1  1.42 2.26 3.36 1.94 6.33\n",
      " 2.62 3.42 1.39 4.03 4.26 4.32 3.83 6.33 4.9  4.52 1.23 3.18 5.94 3.07\n",
      " 3.61 3.81 1.29 1.89 2.27 5.73 2.31 2.19 5.42 4.04 1.23 1.71 3.36 1.85\n",
      " 5.13 1.4  5.39 5.87 1.42 5.19 3.93 1.28 1.19 3.32 3.45 4.97 4.4  2.47\n",
      " 1.35 5.39 3.71 2.27 5.63 2.72 1.68 1.97 1.9  5.08 6.1  3.87 5.42 5.7\n",
      " 2.   4.81 5.58 1.58 2.03 1.94 4.46 3.13 5.81 2.79 4.13 1.55 1.04 5.71\n",
      " 1.94 2.65 1.42 1.46 1.94 5.97 3.19 1.26 3.75 1.16 3.63 4.54 4.73 2.13\n",
      " 2.2  6.36 3.81 1.81 1.27 3.83 4.93 1.65 1.58 5.89 2.33 6.35 1.42 2.9\n",
      " 3.57 3.42 3.29 2.08 2.57 1.1  1.68 3.45 2.32 1.19 4.38 1.37 2.6  1.36\n",
      " 1.24 3.23 1.55 3.87 1.15 3.17 1.77 1.19 1.3  4.58 2.17 4.13 2.36 3.\n",
      " 4.92 4.23 4.54 4.26 4.69 4.55 2.23 2.72 4.9  1.45 1.5  5.47 5.13 2.07\n",
      " 2.03 1.84 4.   3.07 1.65 4.39 2.15 1.92 3.62 3.68 2.85 4.69 3.39 3.89\n",
      " 4.63 1.77 1.23 1.27 2.46 3.52 1.57 4.27 5.08 1.77 3.77 5.85 5.63 6.42\n",
      " 6.13 4.74 1.81 1.4  4.58 3.1  5.48 2.9  1.94 1.81 1.62 3.23 5.71 2.55\n",
      " 1.54 3.55 1.42 6.1  1.73 2.03 2.26 2.29 3.84 4.   1.96 3.55 1.97 2.39\n",
      " 3.73 1.2  5.04 2.23 2.23 1.71 1.67 4.32 1.48 5.16 1.1  1.87 1.66 3.93\n",
      " 3.54 4.92 2.56 3.16 4.71 4.48 6.94 3.9  3.79 5.48 2.4  2.63 5.04 2.32\n",
      " 3.5  5.85 2.79 6.47 1.97 2.74 1.69 1.42 6.13 6.29 2.65 1.33 3.1  1.87\n",
      " 1.77 5.68 1.97 2.73 1.61 2.   3.3  1.81 1.13 1.96 1.89 3.56 3.83 3.6\n",
      " 1.21 1.19 1.85 1.65 4.03 2.1  1.45 1.73 6.77 6.7  1.48 3.9  2.13 3.\n",
      " 1.53 1.9  6.07 1.52 4.83 1.93 1.68 1.19 2.1  2.17 2.77 1.47 3.61 1.89\n",
      " 2.48 1.57 1.77 2.47 2.07 2.43 3.61 2.64 3.   4.03 5.68 5.77 2.97 4.44\n",
      " 2.19 6.15 1.94 1.55 1.35 1.66 1.4  1.65 1.73 2.73 6.07 1.36 1.35 1.72\n",
      " 4.32 2.73 1.33 1.48 1.32 1.77 2.31 2.31 1.69 3.5  1.37 1.9  2.58 1.39\n",
      " 2.63 2.63 1.9  3.61 2.63 1.15 1.28 3.07 4.07 1.43 4.97 5.61 5.43 3.08\n",
      " 3.6  3.16 1.46 1.65 5.94 2.16 6.   2.77 1.36 1.26 1.71 1.87 3.13 1.32\n",
      " 1.5  1.13 4.   1.6  1.77 1.23 6.48 4.9  5.39 6.23 5.07 5.36 3.9  4.69\n",
      " 1.71 2.4  1.7  4.9  1.9  4.1  5.48 1.84 2.13 5.45 5.77 2.29 5.   4.42\n",
      " 5.08 1.81 2.77 2.2  1.13 3.71 1.13 4.03 1.46 1.58 1.48 1.36 1.6  1.54\n",
      " 1.58 2.84 3.19 3.53 1.52 3.73 5.46 1.39 2.   2.8  4.64 1.65 5.68 2.15\n",
      " 1.92 2.26 2.27 1.52 1.33 2.69 5.42 1.45 1.04 1.74 2.   1.5  1.81 2.4\n",
      " 5.04 1.74 1.13 2.5  5.4  2.05 1.33 1.89 2.13 3.73 2.48 6.   5.17 4.92\n",
      " 3.39 4.8  1.4  2.04 2.47 1.73 1.65 4.42 4.57 2.74 3.62 2.63 5.19 1.45\n",
      " 4.93 1.74 1.33 1.58 4.33 4.36 1.42 1.26 2.25 3.48 2.16 2.3  1.23 3.32\n",
      " 2.31 2.7  1.52 1.23 1.45 1.93 5.32 5.04 4.63 3.13 6.13 4.81 1.29 1.55\n",
      " 5.42 2.   1.94 4.62 3.9  4.81 2.97 1.46 1.63 2.81 1.39 1.31 2.61 1.58\n",
      " 3.5  3.55 3.92 1.93 1.6  2.73 6.5  2.77 1.19 3.26 3.36 6.1  1.45 1.47\n",
      " 2.43 2.05 3.07 3.81 1.67 4.46 2.13 1.23 2.14 5.04 2.61 3.16 1.67 4.61\n",
      " 4.16 4.29 1.73 1.57 1.24 2.23 5.94 2.1  4.07 4.84 1.77 2.83 1.65 5.92\n",
      " 3.55 1.58 5.6  3.46 2.62 2.16 3.16 2.1  2.16 5.   4.8  2.92 1.5  4.32\n",
      " 5.03 1.33 1.14 1.21 1.77 1.32 1.48 1.81 2.19 1.5  3.07 2.65 1.73 2.94\n",
      " 1.67 1.43 2.47 1.92 2.42 2.12 1.55 3.   1.71 5.62 2.67 2.   2.63 2.2\n",
      " 1.71 2.1  4.39 2.08 1.66 5.73 3.23 4.42 1.94 3.55 5.26 4.17 1.48 2.83\n",
      " 1.68 1.77 1.77 1.94 1.65 4.73 4.29 1.54 1.27 1.57 1.48 3.31 1.62 2.61\n",
      " 1.5  6.   2.48 4.26 1.45 4.54 4.36 4.84 3.14 1.33 4.08 5.71 1.83 1.9\n",
      " 1.77 2.   4.52 3.7  2.77 3.58 5.35 2.23 4.8  3.65 2.47 1.26 2.93 6.47\n",
      " 2.08 1.39 1.69 1.62 2.7  1.77 1.71 4.58 1.87 4.9  1.7  1.42 1.39 3.46\n",
      " 4.47 4.65 1.73 1.1  6.   2.58 1.97 2.1  4.77 2.23 5.13 4.62 1.23 5.55\n",
      " 4.45 1.65 1.6  3.26 1.5  2.16 3.58 1.16 2.1  5.58 1.67 1.45 1.74 3.16\n",
      " 1.23 1.73 4.64 1.6  3.13 5.84 2.71 2.55 3.85 3.42 4.97 3.61 3.19 1.32\n",
      " 2.16 1.28 3.74 4.17 3.68 1.65 2.07 2.   4.1  5.   1.23 4.41 3.63 1.81\n",
      " 2.87 4.74 3.9  1.67 3.   2.74 6.03 4.35 3.24 1.87 1.71 4.37 2.5  2.26\n",
      " 2.42 5.19 1.85 5.5  4.52 2.87 3.08 4.23 2.81 2.   2.97 1.5  4.81 4.97\n",
      " 5.32 2.7  5.48 2.8  2.26 2.71 1.46 1.52 1.27 1.89 2.46 1.5  3.73 4.93\n",
      " 4.69 4.19 5.26 4.61 1.97 5.08 2.19 6.77 6.67 3.13 4.77 3.23 4.26 1.83\n",
      " 2.55 1.52 2.27 2.48 1.55 1.93 5.45 2.97 2.65 4.36 5.39 3.72 2.3  3.5\n",
      " 1.4  4.93 2.5  2.13 1.17 2.32 1.52 2.29 2.13 5.18 6.35 5.   2.62 1.63\n",
      " 1.46 3.77 2.42 1.53 2.   2.42 1.73 2.27 3.03 3.   1.52 4.43 5.36 1.33\n",
      " 4.61 3.03 3.61 3.12 2.57 4.9  3.89 4.44 3.73 2.31 3.61 4.93 2.87 3.52\n",
      " 5.03 4.23 2.   2.   6.7  1.23 6.31 6.07 3.13 1.6  3.48 1.15 5.84 1.62\n",
      " 1.7  1.85 5.5  3.27 1.57 2.   4.23 2.3  3.97 3.   4.5  6.13 2.97 1.19\n",
      " 6.1  3.16 6.   2.85 1.89 3.37 1.26 2.12 6.35 3.93 2.07 2.97 2.61 2.04\n",
      " 1.42 2.68 6.32 3.08 1.87 1.35 1.5  3.2  5.03 1.27 6.43 1.16 1.8  4.07\n",
      " 1.5  1.93 4.53 1.33 2.37 1.31 1.45 4.58 1.28 1.13 3.87 3.8  6.71 2.97\n",
      " 2.23 5.92 2.74 2.07 2.9  5.23 4.57 2.37 2.97 2.07 2.03 3.6  1.93 1.32\n",
      " 5.03 4.77 2.47 3.81 1.43 2.27 1.19 2.55 2.46 4.46 1.89 1.87 4.19 1.23\n",
      " 1.37 1.55 1.53 1.84 2.65 4.79 4.26 1.47 1.54 1.65 2.19 3.12 4.16 1.46\n",
      " 6.19 2.37 3.44 3.07 3.61 1.73 3.19 3.33 2.32 1.55 4.23 1.83 5.94 6.19\n",
      " 1.32 1.37 1.89 2.48 1.27 1.89 6.27 1.54 5.62 6.31 4.   2.5 ]\n",
      "[1.45 1.4  1.85 2.03 0.8  1.27 1.71 1.33 0.96 1.06 1.18 0.93 0.57 1.85\n",
      " 1.61 1.99 1.44 1.52 1.54 1.71 1.61 1.61 1.83 1.02 1.21 0.48 1.72 1.59\n",
      " 0.85 1.73 1.61 0.67 1.26 1.55 1.46 1.18 1.83 0.92 1.59 1.74 1.06 1.27\n",
      " 1.7  1.39 0.8  1.58 1.41 1.6  1.68 1.06 1.47 1.75 0.99 1.91 1.06 1.39\n",
      " 1.71 1.54 0.74 1.03 1.59 1.72 1.38 1.56 1.59 1.15 0.67 1.12 1.91 1.08\n",
      " 1.41 0.77 1.39 1.54 0.85 1.56 1.78 0.74 0.65 1.82 1.65 1.59 1.85 1.83\n",
      " 0.86 1.47 1.87 1.31 1.67 2.   1.11 1.4  1.14 1.72 1.27 1.65 1.82 1.42\n",
      " 1.07 1.91 1.54 0.99 1.35 1.18 1.53 1.88 1.1  1.47 1.96 0.85 0.2  1.74\n",
      " 1.15 1.54 0.76 0.81 0.96 1.38 1.27 0.57 1.8  0.45 1.38 1.68 1.72 1.38\n",
      " 1.45 1.36 1.47 1.13 0.58 1.97 1.84 1.14 0.99 1.11 1.69 0.98 0.96 1.47\n",
      " 1.67 1.63 1.6  1.12 1.41 0.31 0.98 1.48 1.56 0.65 1.86 0.77 1.69 0.95\n",
      " 0.52 1.71 0.77 1.81 0.46 1.84 0.99 0.4  0.65 2.05 1.44 1.54 1.7  1.44\n",
      " 1.67 1.63 1.58 1.63 2.13 1.86 1.33 1.23 1.75 0.81 1.01 1.41 1.93 1.34\n",
      " 1.45 1.16 1.84 2.13 1.13 2.28 1.16 1.2  1.3  1.66 1.43 1.46 2.08 1.8\n",
      " 2.01 1.26 0.63 0.69 1.73 1.67 1.17 1.61 1.68 1.11 2.05 1.01 1.43 1.26\n",
      " 1.18 1.61 1.2  0.89 1.65 1.51 1.71 1.67 1.18 1.2  1.1  1.7  1.68 1.59\n",
      " 0.76 1.29 0.86 1.6  1.36 1.14 1.71 1.55 1.44 1.63 1.18 1.93 1.5  1.59\n",
      " 1.34 0.65 1.54 1.28 1.48 1.19 1.09 1.97 0.93 1.9  0.4  1.26 0.97 1.86\n",
      " 1.61 1.47 1.42 1.44 1.74 1.42 0.25 1.97 1.69 1.57 1.52 1.38 1.28 1.4\n",
      " 1.36 1.62 1.74 1.11 1.35 1.39 1.23 0.76 1.2  1.07 1.6  0.64 1.69 1.18\n",
      " 1.42 1.45 1.43 1.46 0.84 1.33 1.78 1.08 0.43 1.18 1.37 1.58 1.6  1.79\n",
      " 0.56 0.4  1.05 0.98 1.61 1.35 1.03 1.14 0.43 0.99 0.81 1.63 1.17 1.3\n",
      " 1.01 1.09 1.44 1.   1.71 1.2  1.4  0.98 1.35 1.39 1.61 0.9  1.63 1.07\n",
      " 1.46 1.1  1.03 1.48 1.65 1.57 2.06 1.38 1.44 1.72 1.47 1.33 1.17 1.5\n",
      " 1.54 1.54 1.15 1.15 0.75 1.08 0.72 1.02 1.45 1.34 1.68 0.71 0.89 1.18\n",
      " 2.2  1.68 0.8  1.03 1.01 1.07 1.65 1.62 1.01 1.96 0.67 1.32 1.36 0.75\n",
      " 1.54 1.63 1.19 1.8  1.5  0.37 0.61 1.91 1.84 0.9  1.66 1.5  1.43 1.58\n",
      " 1.98 1.77 0.91 1.06 1.03 1.77 1.16 1.37 0.8  0.82 1.16 1.41 1.63 0.6\n",
      " 0.98 0.43 1.75 0.97 1.18 0.51 1.   1.4  1.75 1.5  1.76 1.5  1.47 1.51\n",
      " 1.35 1.48 1.09 2.07 1.14 2.04 1.75 1.19 1.31 1.57 1.2  1.35 1.39 2.19\n",
      " 1.66 1.06 1.48 1.56 0.43 1.76 0.34 1.66 0.65 1.09 0.89 0.95 0.93 0.99\n",
      " 0.99 1.79 1.7  1.94 1.09 2.12 1.1  0.75 1.29 1.42 1.43 1.23 1.08 1.29\n",
      " 1.09 1.34 1.28 1.09 0.84 1.76 1.39 0.81 0.2  1.13 1.44 0.86 1.17 1.5\n",
      " 1.72 1.18 0.51 1.79 1.43 1.47 0.76 1.18 1.36 1.87 1.24 1.41 1.66 1.44\n",
      " 1.65 1.66 1.1  1.43 1.57 0.96 0.92 1.84 1.59 1.63 1.94 1.47 1.42 1.21\n",
      " 1.8  1.03 0.71 0.86 1.69 1.68 0.67 0.63 1.29 1.73 1.32 1.73 0.5  1.6\n",
      " 1.29 1.71 0.96 0.72 0.85 1.14 1.55 1.48 1.87 1.54 1.12 1.17 0.69 0.89\n",
      " 1.55 1.12 1.34 1.5  1.8  1.72 1.62 0.99 1.03 1.33 1.06 0.74 1.36 0.85\n",
      " 1.79 1.7  1.38 1.41 0.97 1.43 0.71 1.42 0.4  1.57 1.59 1.78 1.06 1.07\n",
      " 1.46 1.55 1.65 1.52 1.12 1.61 1.33 0.43 1.39 1.4  1.65 1.68 1.37 2.01\n",
      " 1.85 1.87 1.01 0.97 0.83 1.38 1.12 1.47 1.75 1.68 1.23 1.8  0.95 1.35\n",
      " 1.73 0.92 1.71 1.53 1.44 1.42 1.46 1.42 1.59 1.56 2.12 1.38 0.71 1.85\n",
      " 1.72 0.88 0.44 0.62 1.46 0.87 0.81 1.13 1.3  0.97 1.68 1.83 1.12 1.67\n",
      " 0.96 0.82 1.48 1.29 1.53 1.34 1.   1.44 0.97 1.77 1.42 1.61 1.56 1.56\n",
      " 1.1  1.65 1.7  1.26 1.11 1.12 1.78 1.82 1.24 1.5  1.48 1.82 0.72 1.42\n",
      " 0.95 1.2  0.95 1.29 1.2  1.22 2.   0.95 0.58 0.9  0.95 1.73 0.94 1.54\n",
      " 0.73 1.21 1.57 1.53 1.   1.58 1.76 1.75 1.98 0.76 1.94 1.53 1.21 1.19\n",
      " 0.96 1.07 1.73 1.87 1.48 1.73 1.26 1.33 1.53 1.4  1.87 0.68 1.71 1.04\n",
      " 1.26 0.92 1.23 0.94 1.78 1.28 1.16 1.1  1.12 1.76 1.06 0.77 0.88 1.36\n",
      " 1.81 1.33 1.05 0.4  1.39 1.52 1.2  1.42 1.61 1.33 1.65 1.13 0.51 1.31\n",
      " 1.67 1.23 0.93 1.9  1.17 1.37 1.58 0.58 1.52 1.41 1.06 0.62 1.06 1.49\n",
      " 0.65 1.04 1.68 0.97 1.74 1.32 1.04 1.34 1.83 1.79 1.54 1.84 1.39 0.83\n",
      " 1.39 0.54 1.88 1.49 1.7  1.02 1.21 1.21 1.71 1.39 0.43 1.33 1.81 1.14\n",
      " 1.61 1.39 1.66 1.3  1.61 1.46 1.33 1.38 2.24 1.01 1.04 2.06 1.3  1.63\n",
      " 1.46 1.62 1.05 1.27 1.48 1.67 1.5  1.79 1.3  1.1  1.75 0.71 1.35 1.91\n",
      " 1.51 1.37 1.26 1.73 1.32 1.51 1.07 0.96 0.45 0.99 1.45 0.81 1.22 1.55\n",
      " 1.74 1.65 1.67 1.8  1.33 1.29 1.2  0.59 0.66 1.63 1.89 1.63 1.55 1.05\n",
      " 1.55 0.93 1.6  1.31 0.96 1.2  1.41 1.77 1.72 1.59 1.33 1.7  1.49 1.53\n",
      " 0.72 1.81 1.54 1.23 0.59 1.35 0.77 1.37 1.28 1.56 1.02 1.71 1.44 1.03\n",
      " 0.81 1.84 1.57 0.94 1.26 1.41 1.17 1.62 1.74 1.44 1.06 1.81 1.68 0.8\n",
      " 1.69 1.43 1.69 1.79 1.89 1.58 1.34 1.12 1.44 1.52 1.98 0.88 1.53 1.86\n",
      " 1.64 1.56 1.04 1.18 0.79 0.59 0.88 1.24 1.53 1.35 1.48 0.37 1.29 1.02\n",
      " 1.32 1.12 1.97 1.54 0.9  1.29 1.65 1.47 2.03 1.66 1.76 1.41 1.8  0.6\n",
      " 0.98 1.37 1.44 1.38 1.03 1.63 0.68 1.27 0.8  1.78 1.21 1.77 1.54 1.25\n",
      " 0.62 1.62 1.14 1.74 1.23 0.63 0.97 1.69 1.49 0.83 1.07 0.37 1.16 1.63\n",
      " 1.03 1.46 1.91 1.06 1.45 0.74 0.68 1.53 0.59 0.51 1.71 2.06 0.64 1.77\n",
      " 1.2  1.15 1.73 1.15 1.33 1.51 1.74 1.67 1.92 1.26 1.28 1.52 1.26 0.7\n",
      " 1.66 1.7  1.43 1.64 0.86 1.22 0.6  1.59 1.33 1.99 1.48 1.12 2.38 0.59\n",
      " 0.85 1.   1.01 1.37 1.56 1.63 1.98 0.94 0.86 0.89 1.4  1.94 1.55 0.95\n",
      " 1.02 1.61 1.78 1.8  1.56 1.29 1.91 2.01 1.33 0.77 1.83 1.29 1.18 0.94\n",
      " 0.83 0.85 1.48 1.63 0.67 1.07 1.66 0.91 1.72 1.16 1.76 1.42]\n",
      "[30. 31. 30. 30. 31. 31. 31. 30. 31. 31. 30. 31. 26. 30. 31. 31. 31. 30.\n",
      " 26. 30. 30. 26. 31. 26. 30. 31. 31. 31. 31. 30. 30. 31. 30. 30. 31. 26.\n",
      " 30. 31. 31. 31. 31. 30. 26. 31. 31. 31. 31. 31. 30. 30. 31. 31. 26. 31.\n",
      " 31. 30. 31. 31. 31. 26. 26. 30. 26. 31. 31. 26. 31. 30. 31. 26. 31. 30.\n",
      " 26. 31. 31. 31. 30. 26. 31. 31. 31. 31. 30. 30. 30. 26. 31. 30. 31. 30.\n",
      " 31. 31. 31. 26. 30. 31. 31. 30. 31. 31. 31. 31. 31. 31. 26. 31. 26. 31.\n",
      " 31. 31. 26. 31. 31. 31. 26. 26. 31. 31. 26. 31. 31. 31. 26. 26. 30. 30.\n",
      " 31. 31. 31. 26. 30. 30. 30. 31. 26. 26. 30. 26. 31. 31. 31. 31. 31. 26.\n",
      " 30. 31. 31. 31. 31. 31. 30. 31. 30. 31. 26. 31. 31. 30. 26. 30. 26. 31.\n",
      " 30. 31. 30. 31. 31. 26. 26. 31. 26. 31. 26. 31. 31. 26. 30. 31. 30. 30.\n",
      " 30. 31. 30. 31. 30. 31. 26. 31. 26. 26. 26. 31. 26. 26. 31. 30. 30. 31.\n",
      " 30. 30. 30. 31. 30. 26. 26. 26. 31. 26. 30. 31. 31. 31. 31. 30. 31. 31.\n",
      " 30. 30. 31. 31. 26. 30. 31. 31. 26. 31. 26. 31. 30. 31. 31. 31. 31. 26.\n",
      " 26. 31. 30. 31. 26. 26. 26. 30. 31. 31. 30. 31. 31. 31. 31. 31. 30. 30.\n",
      " 26. 26. 31. 31. 31. 26. 31. 30. 26. 31. 30. 30. 26. 31. 26. 26. 30. 30.\n",
      " 30. 31. 26. 26. 31. 31. 31. 26. 30. 31. 26. 31. 31. 30. 31. 30. 31. 31.\n",
      " 31. 26. 26. 26. 30. 30. 30. 31. 26. 26. 30. 30. 31. 30. 31. 30. 31. 30.\n",
      " 30. 26. 31. 30. 30. 31. 26. 30. 31. 26. 30. 30. 31. 30. 31. 26. 31. 30.\n",
      " 26. 31. 31. 31. 31. 31. 30. 31. 31. 31. 31. 26. 31. 26. 31. 31. 26. 30.\n",
      " 30. 26. 26. 26. 30. 31. 26. 26. 31. 31. 30. 31. 31. 26. 30. 26. 26. 30.\n",
      " 30. 30. 26. 30. 30. 31. 30. 31. 31. 26. 26. 31. 31. 30. 31. 31. 31. 26.\n",
      " 30. 31. 26. 26. 31. 31. 31. 26. 31. 31. 31. 30. 31. 31. 30. 31. 31. 30.\n",
      " 26. 26. 31. 30. 26. 31. 30. 31. 31. 30. 31. 30. 30. 31. 31. 31. 30. 31.\n",
      " 30. 31. 31. 31. 26. 26. 26. 26. 26. 30. 30. 30. 31. 31. 26. 31. 31. 31.\n",
      " 30. 26. 26. 31. 31. 31. 31. 30. 26. 26. 31. 30. 31. 26. 31. 26. 26. 31.\n",
      " 26. 31. 31. 30. 26. 31. 26. 31. 30. 26. 26. 30. 26. 31. 31. 26. 30. 26.\n",
      " 30. 30. 30. 30. 31. 26. 30. 26. 31. 31. 30. 26. 30. 26. 31. 31. 30. 31.\n",
      " 26. 30. 26. 31. 30. 31. 30. 26. 30. 31. 31. 31. 26. 31. 31. 30. 31. 26.\n",
      " 26. 30. 31. 31. 31. 30. 26. 26. 30. 31. 31. 26. 31. 31. 26. 26. 31. 26.\n",
      " 31. 31. 31. 26. 30. 26. 26. 26. 31. 31. 26. 30. 26. 30. 30. 26. 26. 26.\n",
      " 31. 31. 30. 31. 31. 30. 30. 26. 31. 26. 30. 26. 30. 26. 26. 31. 31. 31.\n",
      " 26. 31. 31. 31. 30. 30. 30. 30. 31. 31. 31. 31. 31. 30. 31. 26. 31. 31.\n",
      " 30. 26. 26. 31. 31. 30. 31. 31. 30. 26. 26. 31. 31. 30. 31. 31. 30. 31.\n",
      " 31. 26. 31. 30. 30. 26. 26. 31. 30. 30. 30. 26. 26. 26. 31. 26. 31. 26.\n",
      " 30. 31. 30. 30. 31. 30. 26. 26. 30. 26. 31. 31. 31. 31. 31. 31. 31. 30.\n",
      " 31. 31. 26. 31. 31. 26. 31. 26. 30. 31. 30. 30. 26. 31. 31. 31. 31. 31.\n",
      " 31. 31. 31. 31. 30. 30. 31. 31. 30. 30. 31. 31. 26. 31. 26. 31. 26. 30.\n",
      " 26. 31. 31. 31. 30. 30. 26. 31. 26. 26. 30. 30. 31. 26. 31. 31. 30. 31.\n",
      " 31. 26. 30. 26. 30. 31. 26. 31. 31. 30. 30. 31. 31. 26. 26. 31. 31. 31.\n",
      " 30. 31. 30. 31. 26. 31. 30. 31. 30. 31. 31. 31. 26. 26. 26. 30. 30. 31.\n",
      " 31. 31. 26. 31. 31. 31. 26. 31. 31. 26. 31. 26. 31. 31. 31. 31. 31. 31.\n",
      " 26. 26. 30. 31. 31. 31. 31. 30. 31. 31. 31. 26. 30. 30. 31. 30. 26. 31.\n",
      " 31. 31. 26. 26. 31. 31. 26. 31. 26. 31. 30. 26. 31. 31. 31. 30. 31. 31.\n",
      " 31. 31. 26. 31. 26. 26. 26. 26. 26. 30. 30. 26. 31. 31. 31. 26. 26. 26.\n",
      " 30. 31. 30. 31. 31. 31. 31. 31. 30. 31. 31. 30. 31. 30. 31. 31. 26. 31.\n",
      " 30. 30. 30. 31. 30. 31. 31. 31. 31. 26. 30. 26. 26. 30. 26. 30. 31. 31.\n",
      " 31. 30. 31. 31. 30. 30. 31. 26. 31. 30. 31. 30. 31. 31. 31. 26. 30. 31.\n",
      " 26. 26. 31. 26. 31. 26. 30. 31. 31. 31. 26. 31. 30. 26. 26. 31. 30. 30.\n",
      " 31. 26. 31. 26. 30. 26. 26. 26. 31. 31. 30. 31. 30. 26. 30. 31. 30. 31.\n",
      " 31. 31. 31. 26. 26. 31. 31. 26. 26. 31. 31. 31. 31. 26. 31. 31. 31. 26.\n",
      " 31. 26. 31. 31. 31. 30. 30. 31. 30. 31. 26. 30. 31. 30. 30. 26. 31. 26.\n",
      " 30. 31. 31. 31. 31. 30. 31. 26. 31. 31. 31. 26. 31. 30. 31. 31. 31. 30.\n",
      " 30. 31. 31. 30. 30. 31. 30. 26. 31. 31. 26. 26. 26. 31. 26. 26. 30. 31.\n",
      " 30. 31. 31. 31. 31. 30. 26. 26. 31. 31. 31. 26. 26. 30. 31. 30. 31. 30.\n",
      " 31. 30. 31. 31. 31. 30. 31. 26. 31. 30. 26. 31. 26. 26. 26. 26. 26. 26.\n",
      " 31. 26.]\n",
      "[-0.42  0.09 -0.19  0.14 -0.81 -0.55  0.62 -0.59 -0.9  -0.73 -0.38 -0.9\n",
      " -0.87  0.19 -0.51  0.06 -0.19 -0.43  0.99  0.03 -0.37  0.22 -0.37 -0.66\n",
      " -0.54 -0.86  0.38 -0.24 -0.76 -0.07 -0.05 -1.06 -0.61  1.66  0.3  -0.57\n",
      "  1.19 -0.98 -0.36  0.02 -0.5   1.9  -0.24  0.02 -0.79  0.38  0.47  0.76\n",
      "  0.53  1.87  0.81  0.59 -0.97 -0.05  1.34  0.09  0.14  0.46 -1.03 -0.61\n",
      " -0.41  1.53 -0.4  -0.42  1.05  0.46 -0.88 -0.6   0.22 -0.62  0.87 -0.79\n",
      "  1.15  1.3  -0.99  0.95  0.53 -0.92 -0.91 -0.03  0.28  1.06  0.77 -0.21\n",
      " -0.83  1.18  0.43 -0.32  1.22 -0.15 -0.63 -0.48 -0.51  0.99  1.72  0.25\n",
      "  1.06  1.52 -0.48  0.71  1.13 -0.7  -0.44 -0.7   0.7   0.11  1.39 -0.3\n",
      "  0.4  -0.71 -1.07  1.21 -0.5  -0.35 -0.85 -0.84 -0.7   1.36  0.04 -0.87\n",
      "  0.47 -1.11  0.26  0.73  0.96 -0.37 -0.36  1.85  0.24 -0.65 -0.88  0.54\n",
      "  1.08 -0.84 -0.77  1.42 -0.34  1.67 -0.78 -0.2   0.11  0.05  0.21 -0.52\n",
      " -0.18 -1.13 -0.66  0.06 -0.31 -1.08  0.81 -0.82 -0.13 -1.01 -0.95  0.16\n",
      " -0.9   0.5  -1.    0.11 -0.67 -0.92 -0.87  0.89 -0.39  0.65 -0.29 -0.04\n",
      "  0.91  0.45  0.73  0.45  0.79  0.64 -0.54 -0.17  1.08 -0.78 -0.72  1.4\n",
      "  1.23 -0.44 -0.42 -0.74  0.57 -0.2  -0.72  0.79 -0.46 -0.59  0.26  0.38\n",
      " -0.11  0.8   0.01  0.51  0.89 -0.61 -0.89 -0.87 -0.25  0.13 -0.68  0.6\n",
      "  1.   -0.67  0.44  1.42  1.48  1.89  1.44  0.7  -0.57 -0.78  0.88 -0.13\n",
      "  1.46  0.05 -0.69 -0.58 -0.73  0.18  1.23 -0.18 -0.8   0.15 -0.85  1.44\n",
      " -0.66 -0.64 -0.55 -0.56  0.25  0.49 -0.57  0.09 -0.51 -0.28  0.32 -0.99\n",
      "  0.99 -0.36 -0.55 -0.81 -0.66  0.47 -0.75  0.9  -1.16 -0.52 -0.67  0.48\n",
      "  0.22  0.92 -0.45  0.14  0.67  0.68  2.2   0.52  0.37  1.11 -0.25 -0.16\n",
      "  0.99 -0.52  0.2   1.4  -0.05  1.96 -0.47 -0.31 -0.72 -0.85  1.75  1.83\n",
      " -0.32 -0.94  0.12 -0.75 -0.65  1.2  -0.49 -0.08 -0.68 -0.49  0.11 -0.76\n",
      " -1.13 -0.58 -0.62  0.22  0.49  0.34 -0.9  -1.1  -0.62 -0.75  0.65 -0.41\n",
      " -0.75 -0.59  1.81  2.12 -0.74  0.52 -0.4  -0.04 -0.73 -0.53  1.75 -0.71\n",
      "  0.83 -0.49 -0.61 -0.99 -0.4  -0.38 -0.07 -0.75  0.35 -0.63 -0.23 -0.68\n",
      " -0.69 -0.2  -0.43 -0.22  0.35 -0.37  0.04  0.35  1.21  1.51 -0.19  0.67\n",
      " -0.57  1.6  -0.71 -0.71 -0.9  -0.63 -0.82 -0.72 -0.69 -0.15  1.77 -1.\n",
      " -0.89 -0.7   0.71 -0.12 -0.82 -0.95 -0.82 -0.67 -0.26 -0.39 -0.72  0.32\n",
      " -0.81 -0.51 -0.25 -0.81 -0.12 -0.15 -0.53  0.12 -0.36 -1.01 -0.94  0.07\n",
      "  0.36 -0.78  1.09  1.16  1.04  0.    0.42 -0.08 -0.84 -0.72  1.35 -0.35\n",
      "  1.39 -0.14 -0.81 -0.87 -0.61 -0.52 -0.11 -1.02 -0.67 -0.94  0.57 -0.68\n",
      " -0.65 -0.96  1.65  1.07  1.19  1.5   1.17  1.31  0.3   0.94 -0.62 -0.24\n",
      " -0.62  0.79 -0.53  0.64  1.41 -0.55 -0.42  1.33  1.55 -0.53  0.96  0.69\n",
      "  0.97 -0.66 -0.16 -0.41 -0.96  0.44 -1.12  0.6  -0.83 -0.69 -0.94 -0.8\n",
      " -0.7  -0.79 -0.77 -0.24  0.14  0.3  -0.74  0.43  1.19 -0.88 -0.67 -0.03\n",
      "  0.95 -0.73  1.21 -0.48 -0.6  -0.35 -0.43 -0.73 -0.79 -0.1   1.17 -0.95\n",
      " -1.07 -0.63 -0.44 -0.81 -0.64 -0.24  0.97 -0.83 -0.96 -0.22  1.34 -0.57\n",
      " -0.83 -0.56 -0.41  0.44 -0.21  1.48  1.22  0.91  0.25  1.03 -0.78 -0.52\n",
      " -0.22 -0.69 -0.87  0.52  0.89 -0.1   0.26 -0.15  1.07 -0.98  1.06 -0.61\n",
      " -0.83 -0.77  0.77  0.75 -0.98 -1.06 -0.39  0.28 -0.4  -0.29 -1.07  0.1\n",
      " -0.38 -0.07 -0.93 -1.09 -0.77 -0.5   1.1   0.98  0.92 -0.11  1.72  0.88\n",
      " -0.86 -0.69  1.18 -0.54 -0.51  0.78  0.54  0.99  0.04 -0.83 -0.67 -0.12\n",
      " -0.86 -0.91 -0.35 -0.88  0.23  0.33  0.42 -0.48 -0.69 -0.16  1.74 -0.15\n",
      " -1.1   0.19  0.26  1.75 -0.74 -0.74 -0.23 -0.54 -0.14  0.37 -0.64  0.72\n",
      " -0.4  -0.96 -0.51  0.84 -0.36 -0.07 -0.73  0.91  0.65  0.46 -0.62 -0.7\n",
      " -0.88 -0.35  1.39 -0.63  0.38  0.73 -0.59  0.01 -0.66  1.45  0.11 -0.87\n",
      "  1.51  0.18 -0.2  -0.38  0.13 -0.4  -0.59  1.08  1.07 -0.08 -0.81  0.49\n",
      "  0.85 -0.83 -1.13 -1.09 -0.6  -0.82 -0.74 -0.63 -0.58 -0.76  0.05 -0.2\n",
      " -0.68  0.03 -0.67 -0.79 -0.22 -0.58 -0.3  -0.48 -0.91 -0.02 -0.8   1.34\n",
      " -0.13 -0.67 -0.14 -0.36 -0.63 -0.41  0.7  -0.52 -0.65  1.35 -0.02  0.56\n",
      " -0.71  0.1   1.02  0.63 -0.75 -0.03 -0.66 -0.57 -0.68 -0.51 -0.85  0.82\n",
      "  0.47 -0.79 -0.88 -0.94 -0.71  0.21 -0.76 -0.41 -0.73  1.36 -0.43  0.46\n",
      " -0.95  0.85  0.75  0.72  0.07 -0.85  0.56  1.2  -0.54 -0.51 -0.78 -0.47\n",
      "  0.73  0.2  -0.15  0.13  1.13 -0.33  0.85  0.18 -0.24 -1.05  0.02  1.98\n",
      " -0.49 -0.81 -0.7  -0.74 -0.09 -0.59 -0.8   0.73 -0.54  0.8  -0.64 -0.78\n",
      " -0.98  0.21  0.86 -1.71  0.81 -0.62 -0.96  1.47 -0.19 -0.69 -0.38  1.\n",
      " -0.57  0.92  0.76 -0.96  1.17  0.6  -0.65 -0.7   0.2  -0.74 -0.41  0.26\n",
      " -0.92 -0.37  1.4  -0.63 -0.78 -0.6   0.16 -0.97 -0.7   0.75 -0.68  0.09\n",
      "  1.31 -0.31 -0.42  0.38  0.03  0.87  0.13  0.06 -0.82 -0.37 -0.94  0.45\n",
      "  0.54  0.18 -0.65 -0.43 -0.47  0.37  0.85 -0.96  0.65  0.36 -0.57  0.\n",
      "  0.71  0.31 -0.64 -0.18 -0.29  1.38  0.62  0.2  -0.56 -0.81  0.77 -0.3\n",
      " -0.34 -0.27  1.19 -0.64  1.21  0.81 -0.21  0.03  0.45 -0.12 -0.66  0.05\n",
      " -0.81  0.76  0.82  1.   -0.06  1.1  -0.26 -0.31 -0.1  -0.84 -0.72 -0.95\n",
      " -0.62 -0.29 -0.82  0.33  1.11  0.98  0.56  0.96  0.89 -0.49  1.01 -0.45\n",
      "  1.9   2.1  -0.11  1.    0.17  0.46 -0.78 -0.38 -0.91 -0.35 -0.21 -0.71\n",
      " -0.5   1.09  0.   -0.35  0.72  1.17  0.22 -0.3   0.34 -0.8   0.79 -0.16\n",
      " -0.6  -0.93 -0.5  -0.73 -0.42 -0.4   1.07  1.67  1.15 -0.24 -0.66 -0.99\n",
      "  0.21 -0.25 -0.72 -0.47 -0.44 -0.61 -0.31  0.04 -0.04 -0.71  0.83  1.31\n",
      " -0.83  0.64 -0.14  0.37 -0.01 -0.17  1.04  0.4   0.68  0.15 -0.4   0.14\n",
      "  0.98 -0.02  0.31  1.15  0.47 -0.57 -0.67  2.11 -0.96  1.66  1.4   0.16\n",
      " -0.67  0.05 -1.    1.57 -0.75 -0.63 -0.62  1.25  0.1  -0.7  -0.48  0.72\n",
      " -0.33  0.58 -0.05  0.86  1.74  0.   -0.91  1.43 -0.08  1.64 -0.1  -0.61\n",
      "  0.01 -1.05 -0.48  1.67  0.28 -0.46  0.02 -0.15 -0.52 -0.98 -0.12  1.58\n",
      " -0.01 -0.55 -0.9  -0.75 -0.06  0.86 -0.86  1.98 -0.93 -0.6   0.36 -0.8\n",
      " -0.53  0.57 -0.84 -0.26 -0.91 -0.76  0.74 -0.87 -1.1   0.49  0.46  1.76\n",
      "  0.01 -0.56  1.45 -0.11 -0.44 -0.2   1.08  0.64 -0.26  0.03 -0.42 -0.45\n",
      "  0.36 -0.49 -1.03  0.9   1.   -0.19  0.46 -0.78 -0.4  -0.9  -0.18 -0.3\n",
      "  0.71 -0.63 -0.52  0.54 -0.96 -0.8  -0.7  -0.72 -0.55 -0.15  0.74  0.44\n",
      " -0.75 -0.81 -0.73 -0.4  -0.13  0.43 -0.83  1.6  -0.26  0.07  0.11  0.14\n",
      " -0.6   0.16  0.2  -0.3  -0.74  0.66 -0.52  1.62  1.57 -0.84 -0.8  -0.62\n",
      " -0.2  -0.95 -0.59  1.65 -0.8   1.3   1.62  0.56 -0.29]\n",
      "[2.29 2.91 2.52 3.24 1.36 1.86 3.77 1.67 1.47 1.5  2.14 1.58 1.44 3.43\n",
      " 2.32 3.18 2.41 2.05 5.17 2.86 2.48 3.53 1.86 1.72 2.   1.14 4.05 2.32\n",
      " 1.5  2.95 3.14 1.26 2.   6.24 3.36 1.94 5.05 1.21 2.   2.79 2.05 6.19\n",
      " 2.28 3.47 1.41 4.16 3.95 4.32 3.67 6.33 4.79 4.53 1.   3.47 6.   3.14\n",
      " 3.47 3.55 1.37 1.61 1.94 5.86 2.22 1.96 5.68 4.   1.32 1.9  3.36 1.61\n",
      " 5.17 1.43 4.89 5.79 1.26 5.11 4.   1.29 1.23 3.47 3.36 4.81 5.06 2.91\n",
      " 1.35 5.06 3.59 2.29 5.33 3.15 1.68 1.91 2.   5.   6.1  3.84 5.53 5.86\n",
      " 1.86 4.84 5.42 1.64 1.86 1.74 4.17 2.73 5.61 2.44 3.95 1.41 1.   5.16\n",
      " 1.77 2.32 1.33 1.22 1.68 5.79 3.22 1.23 3.83 1.26 3.56 4.5  4.71 2.24\n",
      " 2.14 6.41 3.79 1.78 1.38 4.14 5.24 1.37 1.56 5.56 2.43 6.33 1.5  2.63\n",
      " 3.65 3.05 3.14 2.12 2.67 1.11 1.59 3.21 2.09 1.16 4.33 1.33 2.71 1.42\n",
      " 1.24 3.27 1.53 4.24 1.11 3.14 1.67 1.09 1.38 4.46 2.24 4.05 2.36 2.61\n",
      " 5.   4.26 4.44 4.42 4.61 4.68 1.95 2.85 5.   1.41 1.57 5.62 5.24 1.91\n",
      " 2.05 1.79 4.38 3.06 1.56 4.32 2.   1.78 3.56 3.59 2.94 4.56 3.21 3.88\n",
      " 4.29 1.64 1.33 1.33 2.75 3.68 1.76 4.06 5.   1.72 4.05 5.61 5.62 6.36\n",
      " 6.11 4.79 1.96 1.43 4.27 2.9  5.72 2.91 1.79 1.68 1.56 3.62 5.84 2.36\n",
      " 1.56 3.32 1.28 5.74 2.   2.05 2.26 2.11 3.79 3.72 1.89 3.63 2.24 2.\n",
      " 3.72 1.06 5.06 2.24 1.89 1.58 1.67 4.21 1.59 5.05 1.11 1.77 1.85 4.32\n",
      " 3.61 4.72 2.36 3.09 4.74 4.53 6.96 3.95 3.56 5.9  2.62 2.76 4.94 2.05\n",
      " 3.44 6.   2.81 6.33 2.1  2.37 1.56 1.39 5.96 6.18 2.   1.25 3.38 1.84\n",
      " 1.61 5.47 1.91 2.57 1.55 1.89 3.4  1.58 1.05 1.67 1.94 3.59 3.86 3.67\n",
      " 1.2  1.16 1.89 1.61 4.2  2.24 1.46 1.81 6.68 6.62 1.46 4.29 2.1  3.11\n",
      " 1.29 2.   5.81 1.41 5.   2.14 1.73 1.   2.14 2.19 2.73 1.62 3.5  1.83\n",
      " 2.27 1.67 1.67 2.29 1.82 2.43 3.32 2.43 3.14 4.05 5.68 5.86 2.68 4.35\n",
      " 2.26 6.56 1.63 1.5  1.28 1.86 1.52 1.56 1.88 2.67 5.81 1.26 1.39 1.54\n",
      " 4.09 2.48 1.48 1.21 1.46 1.5  2.4  1.83 1.78 3.62 1.43 1.86 2.67 1.5\n",
      " 2.76 2.86 2.   3.58 2.44 1.11 1.22 2.82 3.82 1.57 5.14 5.74 5.5  2.94\n",
      " 3.67 2.74 1.39 1.72 6.05 2.41 6.05 2.5  1.23 1.27 1.68 1.91 3.21 1.37\n",
      " 1.63 1.18 3.91 1.67 1.94 1.17 6.58 5.   5.56 6.21 5.1  5.23 3.32 4.8\n",
      " 1.77 2.38 1.86 5.16 1.91 4.   5.4  1.64 2.1  5.27 5.82 2.37 4.89 4.72\n",
      " 5.18 1.61 2.61 2.33 1.14 4.   1.21 3.73 1.28 1.64 1.63 1.46 1.57 1.44\n",
      " 1.39 2.9  3.14 3.24 1.5  3.95 5.11 1.33 1.79 2.71 4.55 1.39 5.95 2.\n",
      " 1.89 2.18 2.11 1.36 1.43 2.95 5.44 1.37 1.06 1.68 2.14 1.5  1.67 2.38\n",
      " 4.88 1.53 1.18 2.59 5.38 1.85 1.38 2.11 2.1  4.   2.5  6.06 5.29 4.72\n",
      " 3.41 4.78 1.52 1.83 2.33 1.83 1.53 4.53 5.05 2.32 3.67 2.76 4.89 1.37\n",
      " 5.33 1.68 1.43 1.67 4.71 4.23 1.42 1.37 2.33 3.46 2.   2.62 1.11 3.18\n",
      " 2.28 2.62 1.68 1.26 1.41 1.95 5.29 4.72 4.81 2.95 5.82 4.78 1.27 1.59\n",
      " 5.28 1.94 2.   4.56 3.82 4.73 3.   1.33 1.81 2.83 1.39 1.39 2.37 1.63\n",
      " 3.28 3.81 3.56 1.95 1.71 2.61 6.39 2.5  1.21 3.23 3.26 6.   1.5  1.62\n",
      " 2.43 2.54 2.74 3.83 1.81 4.33 2.38 1.22 1.81 5.19 2.37 3.05 1.83 4.91\n",
      " 3.86 4.16 1.81 1.71 1.35 2.29 6.   2.05 3.9  5.37 1.64 2.71 1.5  5.61\n",
      " 3.47 1.68 5.71 3.28 2.5  2.14 3.09 1.95 1.74 5.15 4.57 2.88 1.44 4.\n",
      " 5.21 1.33 1.11 1.11 1.76 1.41 1.41 1.78 1.74 1.52 3.24 2.78 1.67 3.\n",
      " 1.76 1.48 2.38 2.   2.44 2.11 1.32 2.67 1.68 5.83 2.81 2.32 2.48 2.29\n",
      " 1.86 2.52 4.17 2.   1.85 5.61 3.42 4.26 1.9  3.21 4.89 4.05 1.36 2.7\n",
      " 1.59 1.77 1.89 1.73 1.37 4.72 4.26 1.61 1.29 1.79 1.56 3.1  1.33 2.79\n",
      " 1.38 5.95 2.26 4.11 1.32 4.35 4.23 4.74 3.3  1.48 4.16 5.58 1.95 2.\n",
      " 1.74 2.09 4.27 3.42 2.89 3.42 5.06 2.19 4.88 3.42 2.24 1.21 3.   6.62\n",
      " 1.94 1.46 1.61 1.67 2.62 1.81 1.9  4.44 1.77 4.95 1.86 1.41 1.16 3.44\n",
      " 4.57 4.72 1.86 1.14 6.11 2.23 1.68 2.38 5.05 2.   5.42 4.44 1.17 5.47\n",
      " 4.16 1.55 1.67 3.18 1.62 2.23 3.5  1.18 2.19 5.86 1.76 1.41 1.77 3.23\n",
      " 1.11 1.72 4.76 1.71 3.14 5.53 2.53 2.37 3.89 3.16 4.63 3.37 2.89 1.32\n",
      " 2.05 1.24 3.86 4.25 3.68 1.41 2.09 1.96 4.33 4.79 1.11 4.5  3.91 1.77\n",
      " 2.96 4.32 3.58 1.91 2.9  2.26 5.74 4.28 3.89 1.91 1.58 4.57 2.22 1.96\n",
      " 2.32 5.09 1.83 5.33 4.31 2.9  3.11 4.11 2.72 1.95 2.95 1.56 4.79 5.\n",
      " 5.26 2.71 5.21 2.72 2.23 2.64 1.17 1.5  1.17 1.89 2.39 1.33 3.5  5.19\n",
      " 4.82 4.06 5.16 4.68 1.82 5.11 2.17 6.67 6.67 2.9  4.81 3.32 4.32 1.72\n",
      " 2.53 1.47 2.52 2.55 1.5  1.95 5.21 3.29 2.42 4.05 5.11 3.57 2.52 3.71\n",
      " 1.52 4.84 2.63 2.11 1.1  2.05 1.55 2.38 2.14 5.   6.33 4.88 2.33 1.76\n",
      " 1.25 3.58 2.14 1.62 1.96 2.05 1.76 2.38 2.96 3.   1.64 4.43 5.18 1.43\n",
      " 4.79 2.63 3.46 3.18 2.81 4.86 3.94 4.44 3.56 2.28 3.58 4.8  2.86 3.46\n",
      " 5.05 3.95 2.   1.84 6.76 1.28 6.11 6.16 3.33 1.76 3.53 1.11 5.86 1.56\n",
      " 1.76 1.67 5.94 3.11 1.59 1.86 4.48 2.29 3.95 3.06 4.57 6.41 3.2  1.23\n",
      " 6.16 2.95 6.05 2.89 1.72 3.42 1.37 1.94 6.28 3.78 1.82 3.05 2.55 2.11\n",
      " 1.42 2.46 6.58 3.   1.73 1.28 1.46 3.17 4.84 1.38 6.48 1.14 1.81 4.\n",
      " 1.39 1.76 4.78 1.48 2.57 1.22 1.5  4.78 1.35 1.11 3.64 3.48 6.68 3.\n",
      " 1.9  5.77 2.59 2.09 2.63 4.72 4.5  2.48 2.82 2.14 1.96 3.62 2.1  1.37\n",
      " 4.68 4.91 2.38 3.77 1.48 2.11 1.27 2.27 2.39 4.83 1.94 1.77 4.11 1.28\n",
      " 1.43 1.59 1.71 1.96 2.46 4.82 4.42 1.52 1.5  1.56 2.14 3.29 4.26 1.28\n",
      " 6.28 2.38 3.59 3.05 3.68 1.76 3.14 3.43 2.41 1.46 4.29 1.91 5.59 5.94\n",
      " 1.27 1.38 1.78 2.27 1.11 1.83 6.56 1.39 5.72 6.17 4.05 2.33]\n",
      "[1.49 1.31 1.78 2.17 0.85 1.15 1.8  1.11 0.84 1.1  1.11 0.96 0.62 1.91\n",
      " 1.7  1.94 1.47 1.43 1.34 1.88 1.81 1.59 1.49 1.02 1.34 0.48 1.58 1.56\n",
      " 0.91 1.88 1.68 0.81 1.41 1.51 1.33 1.16 1.99 0.42 1.38 1.78 1.13 1.37\n",
      " 1.49 1.43 0.85 1.61 1.43 1.7  1.8  1.11 1.55 1.65 0.   2.18 1.05 1.49\n",
      " 1.78 1.3  0.9  0.78 1.31 1.82 1.48 1.33 1.6  1.28 0.78 1.29 1.97 0.85\n",
      " 1.69 0.81 1.32 1.58 0.73 1.6  1.9  0.77 0.75 1.95 1.76 1.72 1.57 1.97\n",
      " 0.93 1.51 1.56 1.31 1.94 2.18 1.13 1.38 1.23 1.78 1.38 1.54 1.93 1.28\n",
      " 0.99 2.14 1.71 1.14 1.25 1.05 1.65 1.72 1.09 1.34 2.04 0.73 0.   1.98\n",
      " 1.11 1.64 0.69 0.55 0.82 1.51 1.44 0.53 1.82 0.56 1.46 1.62 1.9  1.45\n",
      " 1.46 1.4  1.62 1.22 0.67 2.06 1.79 0.76 1.04 1.15 1.78 0.97 1.1  1.5\n",
      " 1.69 1.43 1.55 1.11 1.43 0.32 1.01 1.62 1.51 0.69 2.06 0.8  1.82 1.12\n",
      " 0.56 1.83 0.91 1.81 0.32 1.88 0.91 0.29 0.74 2.13 1.51 1.7  1.89 1.2\n",
      " 1.72 1.88 1.72 1.81 2.25 1.77 1.03 1.28 1.95 0.8  1.12 1.2  2.   1.19\n",
      " 1.56 1.18 1.99 2.41 1.2  2.36 1.14 1.22 1.42 1.82 1.51 1.62 1.99 1.83\n",
      " 2.03 1.05 0.73 0.8  1.86 1.64 1.34 1.77 1.8  1.02 2.08 1.09 1.47 1.43\n",
      " 1.29 1.87 1.29 0.98 1.61 1.37 1.45 1.84 1.23 1.13 1.25 1.75 1.74 1.53\n",
      " 0.78 1.25 0.83 1.91 1.55 1.18 1.7  1.2  1.51 1.71 1.23 1.98 1.7  1.23\n",
      " 1.41 0.24 1.77 1.38 1.28 1.35 1.11 2.15 1.05 2.22 0.47 1.07 1.04 1.83\n",
      " 1.69 1.49 1.34 1.48 1.82 1.55 0.21 2.11 1.83 1.41 1.66 1.38 1.31 1.39\n",
      " 1.46 1.37 1.86 1.24 1.41 1.3  0.92 0.78 1.13 1.1  1.25 0.58 1.77 1.17\n",
      " 1.24 1.54 1.51 1.4  0.86 1.45 1.96 0.84 0.23 1.03 1.55 1.77 1.68 1.93\n",
      " 0.52 0.38 1.18 1.04 1.61 1.51 1.1  1.17 0.48 1.16 0.86 1.59 1.18 1.32\n",
      " 0.56 1.18 1.54 1.05 1.63 1.32 1.52 0.   1.32 1.29 1.7  1.02 1.66 1.15\n",
      " 1.42 1.28 0.91 1.45 1.47 1.63 2.06 1.34 1.46 1.9  1.6  1.39 1.16 1.58\n",
      " 1.73 0.78 0.9  1.1  0.57 1.2  0.81 1.1  1.62 1.37 1.86 0.73 1.04 1.13\n",
      " 2.18 1.72 0.93 0.71 1.18 0.92 1.73 1.25 1.17 2.16 0.75 1.28 1.46 0.86\n",
      " 1.67 1.74 1.26 1.77 1.46 0.32 0.55 1.76 1.74 1.03 1.7  1.2  1.54 1.71\n",
      " 1.98 1.73 0.85 1.07 0.85 1.99 1.03 1.3  0.61 0.88 1.29 1.48 1.81 0.68\n",
      " 1.15 0.5  1.72 0.97 1.21 0.38 0.96 1.41 1.29 1.62 1.73 1.6  1.29 1.47\n",
      " 1.38 1.56 1.24 1.92 1.23 2.09 1.9  1.   1.41 1.72 1.22 1.46 1.49 1.97\n",
      " 1.47 0.98 1.54 1.71 0.48 1.76 0.42 1.7  0.46 1.14 1.07 1.1  0.87 0.92\n",
      " 0.98 2.08 1.7  1.9  1.1  2.2  1.13 0.77 1.08 1.38 1.34 0.7  0.97 1.14\n",
      " 1.23 1.1  1.23 0.85 0.98 1.88 1.42 0.83 0.24 1.04 1.46 0.86 1.09 1.6\n",
      " 1.65 1.02 0.59 1.94 1.56 1.07 0.81 1.28 1.38 1.9  1.1  1.43 1.77 1.41\n",
      " 1.82 1.73 1.29 1.1  1.65 1.04 1.02 2.07 1.36 1.39 1.72 1.51 1.37 1.38\n",
      " 1.59 1.09 0.81 0.97 1.52 1.8  0.69 0.76 1.41 1.57 1.27 1.91 0.32 1.63\n",
      " 1.36 1.83 1.11 0.81 0.8  1.12 1.69 1.53 2.11 1.62 1.18 1.22 0.77 0.96\n",
      " 1.67 1.14 1.35 1.5  1.71 1.8  1.8  0.97 1.12 1.38 1.2  0.85 1.46 0.83\n",
      " 1.81 1.69 1.42 1.4  1.06 1.5  0.78 1.43 0.42 1.48 1.59 1.95 1.1  1.24\n",
      " 1.5  1.66 1.52 1.54 1.29 1.41 1.4  0.43 1.33 1.64 1.67 1.93 1.64 1.82\n",
      " 1.86 2.04 1.08 1.06 0.99 1.42 1.11 1.65 1.79 1.71 1.22 1.74 0.91 1.5\n",
      " 1.78 1.11 1.71 1.6  1.3  1.46 1.48 1.24 0.99 1.31 2.06 1.36 0.71 1.9\n",
      " 1.75 0.97 0.47 0.32 1.45 1.01 0.85 1.17 1.05 0.98 1.84 2.05 1.14 1.69\n",
      " 1.04 0.87 1.56 1.41 1.65 1.41 0.67 1.24 1.   1.82 1.54 1.86 1.57 1.59\n",
      " 1.25 1.81 1.65 1.14 1.27 1.09 1.9  1.88 1.37 1.32 1.49 1.88 0.66 1.34\n",
      " 0.73 1.19 1.08 0.99 0.6  1.27 2.   1.04 0.56 1.05 1.09 1.74 0.59 1.69\n",
      " 0.59 1.18 1.52 1.76 0.82 1.66 1.72 1.82 1.9  0.87 1.95 1.74 1.28 1.3\n",
      " 0.93 1.11 1.94 1.98 1.61 1.84 1.31 1.4  1.65 1.58 1.7  0.71 1.69 0.92\n",
      " 1.16 1.01 1.15 1.03 1.86 1.37 1.37 1.15 1.15 1.84 1.2  0.8  0.69 1.29\n",
      " 1.89 1.32 1.15 0.47 1.13 1.31 1.16 1.56 1.66 1.05 1.58 1.2  0.38 1.47\n",
      " 1.89 1.26 0.91 1.97 1.32 1.34 1.65 0.66 1.6  1.46 1.14 0.67 1.07 1.6\n",
      " 0.32 1.07 1.39 1.06 1.88 1.5  0.91 1.46 1.94 1.83 1.64 1.74 1.37 0.89\n",
      " 1.33 0.44 2.03 1.44 1.83 0.85 1.19 1.21 1.85 1.48 0.32 1.35 1.61 1.15\n",
      " 1.84 1.46 1.68 1.48 1.76 1.41 1.52 1.57 2.3  1.09 1.07 1.94 1.26 1.36\n",
      " 1.32 1.66 1.04 1.33 1.58 1.7  1.61 1.81 1.23 1.18 1.88 0.71 1.36 1.89\n",
      " 1.63 1.52 1.32 1.64 1.41 1.36 0.38 0.96 0.38 1.08 1.38 0.59 1.15 1.69\n",
      " 1.7  1.66 1.77 1.86 1.05 1.18 1.2  0.69 0.73 1.7  1.86 1.64 1.57 0.96\n",
      " 1.65 1.02 1.72 1.41 1.01 1.24 1.44 1.85 1.39 1.57 1.37 1.6  1.6  1.62\n",
      " 0.81 1.86 1.67 1.37 0.3  1.13 0.86 1.41 1.28 1.67 1.03 1.8  1.28 1.14\n",
      " 0.45 2.01 1.46 1.02 1.29 1.35 1.14 1.75 1.62 1.5  1.18 1.96 1.79 0.93\n",
      " 1.84 1.3  1.82 1.94 2.16 1.61 1.21 1.25 1.67 1.78 2.24 0.92 1.46 1.79\n",
      " 1.76 1.47 1.13 1.17 0.7  0.67 0.96 1.17 1.56 1.58 1.65 0.32 1.25 1.1\n",
      " 1.45 0.97 1.43 1.41 0.94 1.25 1.63 1.62 2.13 1.75 1.94 0.91 1.91 0.69\n",
      " 0.83 1.35 1.46 1.45 1.02 1.64 0.83 1.31 0.83 1.96 1.01 1.94 1.65 1.37\n",
      " 0.69 1.5  0.96 1.85 1.16 0.46 1.01 1.65 1.57 0.97 0.98 0.35 1.12 1.89\n",
      " 0.98 1.34 2.1  1.25 1.4  0.55 0.74 1.63 0.67 0.47 1.76 1.91 0.75 1.76\n",
      " 1.15 1.15 1.59 1.23 1.3  1.36 1.72 1.83 1.87 1.28 1.21 1.75 1.34 0.83\n",
      " 1.7  1.79 1.5  1.77 0.98 1.18 0.7  1.49 1.34 1.98 1.66 1.07 2.56 0.67\n",
      " 0.98 1.14 1.15 1.46 1.44 1.91 1.87 1.03 0.92 0.78 1.52 2.05 1.7  0.67\n",
      " 0.9  1.69 1.81 1.96 1.73 1.38 1.96 2.11 1.33 0.74 1.74 1.38 1.22 1.\n",
      " 0.77 0.97 1.17 1.24 0.32 1.1  1.04 0.92 1.6  1.34 1.96 1.37]\n",
      "[-0.37  0.04 -0.27  0.06 -0.77 -0.56  0.5  -0.7  -0.89 -0.7  -0.45 -0.83\n",
      " -0.8   0.28 -0.42  0.16 -0.21 -0.47  1.08 -0.03 -0.28  0.26 -0.5  -0.66\n",
      " -0.55 -0.85  0.4  -0.27 -0.71  0.03  0.11 -0.98 -0.51  1.78  0.28 -0.54\n",
      "  1.1  -1.03 -0.46 -0.23 -0.42  1.76 -0.37  0.08 -0.75  0.49  0.34  0.8\n",
      "  0.39  1.81  0.78  0.64 -1.06  0.14  1.41  0.06  0.1   0.37 -0.94 -0.73\n",
      " -0.56  1.54 -0.4  -0.5   1.22  0.47 -0.8  -0.55  0.26 -0.71  0.88 -0.83\n",
      "  0.94  1.28 -1.02  0.94  0.5  -0.88 -0.86  0.09  0.26  1.02  1.04 -0.02\n",
      " -0.88  1.06  0.39 -0.36  1.13  0.01 -0.6  -0.48 -0.42  1.    1.65  0.27\n",
      "  1.14  1.56 -0.53  0.73  1.07 -0.64 -0.48 -0.73  0.6  -0.06  1.32 -0.42\n",
      "  0.35 -0.75 -1.06  0.94 -0.55 -0.47 -0.86 -0.93 -0.77  1.3   0.1  -0.86\n",
      "  0.5  -1.01  0.25  0.75  0.88 -0.36 -0.38  1.91  0.26 -0.62 -0.87  0.66\n",
      "  1.19 -0.92 -0.74  1.29 -0.35  1.7  -0.7  -0.28  0.15 -0.08  0.15 -0.48\n",
      " -0.17 -1.08 -0.68 -0.03 -0.4  -1.03  0.73 -0.82 -0.13 -0.92 -0.91  0.23\n",
      " -0.85  0.64 -0.99  0.04 -0.69 -0.95 -0.88  0.84 -0.41  0.65 -0.26 -0.2\n",
      "  1.    0.49  0.71  0.57  0.78  0.76 -0.62 -0.09  1.08 -0.77 -0.73  1.42\n",
      "  1.23 -0.51 -0.46 -0.71  0.72 -0.18 -0.73  0.81 -0.51 -0.63  0.27  0.36\n",
      " -0.03  0.76 -0.04  0.45  0.64 -0.64 -0.88 -0.88 -0.16  0.27 -0.61  0.53\n",
      "  1.01 -0.66  0.6   1.34  1.42  1.9   1.45  0.76 -0.47 -0.81  0.75 -0.18\n",
      "  1.55  0.01 -0.68 -0.61 -0.72  0.32  1.35 -0.24 -0.75  0.08 -0.89  1.28\n",
      " -0.59 -0.57 -0.49 -0.61  0.25  0.4  -0.57  0.16 -0.41 -0.45  0.35 -1.04\n",
      "  1.05 -0.41 -0.66 -0.82 -0.72  0.43 -0.67  0.87 -1.12 -0.54 -0.63  0.63\n",
      "  0.29  0.85 -0.51  0.14  0.72  0.74  2.25  0.5   0.3   1.34 -0.17 -0.16\n",
      "  0.99 -0.61  0.2   1.52 -0.09  1.83 -0.45 -0.45 -0.75 -0.83  1.69  1.8\n",
      " -0.58 -0.96  0.22 -0.71 -0.7   1.12 -0.49 -0.22 -0.69 -0.57  0.18 -0.82\n",
      " -1.11 -0.71 -0.55  0.27  0.45  0.31 -0.95 -1.06 -0.56 -0.73  0.69 -0.39\n",
      " -0.72 -0.59  1.8   2.04 -0.73  0.66 -0.47  0.05 -0.84 -0.52  1.54 -0.73\n",
      "  0.93 -0.42 -0.54 -1.06 -0.43 -0.43 -0.07 -0.71  0.34 -0.61 -0.31 -0.67\n",
      " -0.7  -0.26 -0.52 -0.18  0.23 -0.4   0.06  0.41  1.25  1.6  -0.29  0.66\n",
      " -0.46  1.86 -0.81 -0.69 -0.9  -0.59 -0.81 -0.73 -0.59 -0.14  1.58 -0.98\n",
      " -0.82 -0.76  0.62 -0.23 -0.79 -1.03 -0.71 -0.77 -0.25 -0.61 -0.63  0.31\n",
      " -0.83 -0.58 -0.16 -0.8  -0.09 -0.01 -0.53  0.16 -0.42 -0.99 -0.92 -0.04\n",
      "  0.25 -0.76  1.21  1.26  1.08 -0.02  0.4  -0.27 -0.84 -0.65  1.43 -0.19\n",
      "  1.45 -0.23 -0.85 -0.84 -0.59 -0.54 -0.02 -0.93 -0.62 -0.89  0.56 -0.69\n",
      " -0.53 -0.96  1.74  1.06  1.33  1.53  1.15  1.28  0.05  0.94 -0.55 -0.29\n",
      " -0.58  0.97 -0.52  0.62  1.31 -0.62 -0.49  1.26  1.62 -0.45  0.93  0.89\n",
      "  1.07 -0.73 -0.19 -0.39 -1.01  0.53 -1.02  0.46 -0.89 -0.62 -0.81 -0.72\n",
      " -0.76 -0.8  -0.83 -0.15  0.15  0.16 -0.71  0.47  1.05 -0.87 -0.71 -0.12\n",
      "  0.95 -0.84  1.37 -0.52 -0.58 -0.35 -0.49 -0.77 -0.69  0.    1.21 -0.93\n",
      " -1.03 -0.64 -0.4  -0.77 -0.67 -0.29  0.9  -0.89 -0.89 -0.09  1.28 -0.66\n",
      " -0.86 -0.5  -0.48  0.52 -0.18  1.56  1.22  0.85  0.29  1.05 -0.75 -0.59\n",
      " -0.36 -0.6  -0.89  0.6   1.1  -0.29  0.3  -0.13  0.96 -0.98  1.21 -0.62\n",
      " -0.83 -0.69  0.92  0.71 -0.92 -0.95 -0.24  0.29 -0.46 -0.15 -1.08  0.07\n",
      " -0.35 -0.15 -0.79 -1.02 -0.76 -0.54  1.1   0.87  0.94 -0.17  1.59  0.9\n",
      " -0.83 -0.63  1.13 -0.53 -0.45  0.77  0.53  0.99  0.1  -0.86 -0.63 -0.07\n",
      " -0.81 -0.83 -0.43 -0.81  0.16  0.42  0.27 -0.52 -0.68 -0.18  1.72 -0.25\n",
      " -1.03  0.22  0.14  1.73 -0.69 -0.7  -0.28 -0.23 -0.26  0.4  -0.6   0.7\n",
      " -0.32 -0.93 -0.61  0.93 -0.44 -0.07 -0.65  1.1   0.51  0.43 -0.62 -0.66\n",
      " -0.87 -0.37  1.48 -0.6   0.32  1.01 -0.64 -0.1  -0.7   1.33  0.13 -0.75\n",
      "  1.52  0.13 -0.23 -0.36  0.13 -0.52 -0.75  1.18  0.88 -0.06 -0.8   0.32\n",
      "  0.96 -0.87 -1.1  -1.07 -0.64 -0.74 -0.75 -0.61 -0.76 -0.79  0.09 -0.08\n",
      " -0.69  0.1  -0.68 -0.83 -0.32 -0.51 -0.24 -0.44 -0.97 -0.15 -0.76  1.5\n",
      " -0.1  -0.46 -0.27 -0.36 -0.52 -0.23  0.64 -0.53 -0.59  1.32  0.13  0.49\n",
      " -0.68 -0.03  0.88  0.6  -0.78 -0.13 -0.68 -0.54 -0.58 -0.59 -0.94  0.86\n",
      "  0.49 -0.71 -0.92 -0.74 -0.74  0.04 -0.87 -0.29 -0.77  1.36 -0.49  0.4\n",
      " -0.95  0.76  0.71  0.68  0.09 -0.83  0.64  1.15 -0.52 -0.49 -0.75 -0.39\n",
      "  0.64  0.09 -0.04  0.09  1.   -0.39  0.92  0.12 -0.31 -1.    0.02  2.02\n",
      " -0.52 -0.76 -0.72 -0.67 -0.18 -0.63 -0.63  0.69 -0.56  0.86 -0.6  -0.76\n",
      " -1.03  0.24  0.87 -1.66  0.88 -0.6  -0.91  1.59 -0.33 -0.78 -0.27  1.08\n",
      " -0.64  1.11  0.7  -0.96  1.18  0.5  -0.67 -0.72  0.16 -0.73 -0.34  0.26\n",
      " -0.89 -0.36  1.59 -0.63 -0.78 -0.56  0.22 -1.   -0.67  0.85 -0.66  0.04\n",
      "  1.17 -0.36 -0.47  0.44 -0.06  0.75  0.05 -0.06 -0.79 -0.4  -0.93  0.55\n",
      "  0.63  0.23 -0.75 -0.39 -0.46  0.51  0.77 -0.99  0.75  0.45 -0.57  0.07\n",
      "  0.51  0.2  -0.56 -0.19 -0.47  1.25  0.62  0.51 -0.58 -0.81  0.84 -0.4\n",
      " -0.47 -0.3   1.18 -0.61  1.17  0.73 -0.14  0.09  0.45 -0.12 -0.63  0.\n",
      " -0.75  0.77  0.85  1.   -0.1   0.98 -0.25 -0.28 -0.11 -0.96 -0.71 -0.97\n",
      " -0.58 -0.29 -0.87  0.24  1.18  0.99  0.51  0.94  0.97 -0.55  1.07 -0.42\n",
      "  1.9   2.05 -0.19  0.99  0.26  0.52 -0.8  -0.33 -0.87 -0.27 -0.13 -0.7\n",
      " -0.54  1.    0.11 -0.41  0.57  1.08  0.17 -0.23  0.42 -0.78  0.76 -0.16\n",
      " -0.56 -0.96 -0.58 -0.68 -0.34 -0.44  1.01  1.7   1.04 -0.36 -0.64 -1.04\n",
      "  0.15 -0.36 -0.73 -0.46 -0.57 -0.64 -0.29  0.03 -0.01 -0.62  0.76  1.26\n",
      " -0.82  0.75 -0.29  0.32  0.05 -0.08  1.06  0.46  0.72  0.09 -0.37  0.16\n",
      "  1.   -0.08  0.3   1.21  0.37 -0.53 -0.69  2.11 -0.9   1.61  1.48  0.24\n",
      " -0.63  0.1  -0.99  1.62 -0.74 -0.63 -0.69  1.51  0.07 -0.66 -0.52  0.78\n",
      " -0.32  0.52  0.02  0.85  1.92  0.07 -0.86  1.51 -0.13  1.7  -0.04 -0.66\n",
      "  0.08 -0.94 -0.52  1.68  0.23 -0.55  0.09 -0.14 -0.44 -0.93 -0.2   1.77\n",
      " -0.02 -0.59 -0.9  -0.73 -0.02  0.79 -0.85  1.95 -0.92 -0.65  0.36 -0.82\n",
      " -0.69  0.71 -0.81 -0.2  -0.92 -0.71  0.89 -0.88 -1.04  0.39  0.31  1.79\n",
      " -0.02 -0.67  1.43 -0.15 -0.39 -0.3   0.86  0.64 -0.23 -0.02 -0.35 -0.46\n",
      "  0.3  -0.44 -0.97  0.77  1.03 -0.28  0.48 -0.8  -0.45 -0.83 -0.28 -0.3\n",
      "  0.97 -0.56 -0.55  0.55 -0.9  -0.81 -0.64 -0.67 -0.46 -0.2   0.78  0.53\n",
      " -0.76 -0.8  -0.74 -0.4  -0.05  0.52 -0.9   1.68 -0.29  0.16  0.05  0.22\n",
      " -0.62  0.18  0.2  -0.25 -0.76  0.69 -0.52  1.46  1.49 -0.84 -0.84 -0.65\n",
      " -0.28 -1.   -0.58  1.83 -0.84  1.39  1.58  0.61 -0.34]\n",
      "[21. 22. 21. 21. 22. 22. 22. 21. 19. 22. 21. 19. 18. 21. 19. 22. 22. 21.\n",
      " 18. 21. 21. 18. 22. 18. 21. 22. 19. 22. 22. 21. 21. 19. 21. 21. 22. 18.\n",
      " 21. 19. 22. 19. 22. 21. 18. 19. 22. 19. 19. 22. 21. 21. 19. 19. 18. 19.\n",
      " 19. 21. 19. 22. 19. 18. 18. 21. 18. 22. 19. 18. 22. 21. 22. 18. 19. 21.\n",
      " 18. 19. 19. 19. 21. 18. 22. 19. 22. 22. 21. 21. 21. 18. 22. 21. 19. 21.\n",
      " 22. 22. 22. 18. 21. 19. 19. 21. 22. 19. 19. 22. 22. 19. 18. 22. 18. 19.\n",
      " 19. 22. 18. 19. 22. 19. 18. 18. 19. 19. 18. 22. 22. 19. 18. 18. 21. 21.\n",
      " 22. 22. 19. 18. 21. 21. 21. 19. 18. 18. 21. 18. 22. 19. 19. 19. 22. 18.\n",
      " 21. 19. 22. 19. 22. 19. 21. 22. 21. 19. 18. 22. 19. 21. 18. 21. 18. 22.\n",
      " 21. 22. 21. 22. 22. 18. 18. 19. 18. 19. 18. 19. 19. 18. 21. 22. 21. 21.\n",
      " 21. 22. 21. 19. 21. 19. 18. 22. 18. 18. 18. 22. 18. 18. 19. 21. 21. 22.\n",
      " 21. 21. 21. 19. 21. 18. 18. 18. 22. 18. 21. 22. 19. 19. 22. 21. 22. 19.\n",
      " 21. 21. 19. 22. 18. 21. 19. 22. 18. 19. 18. 19. 21. 19. 19. 19. 19. 18.\n",
      " 18. 19. 21. 22. 18. 18. 18. 21. 19. 19. 21. 19. 22. 19. 19. 22. 21. 21.\n",
      " 18. 18. 19. 22. 19. 18. 22. 21. 18. 19. 21. 21. 18. 19. 18. 18. 21. 21.\n",
      " 21. 19. 18. 18. 22. 22. 19. 18. 21. 19. 18. 19. 22. 21. 22. 21. 22. 19.\n",
      " 19. 18. 18. 18. 21. 21. 21. 19. 18. 18. 21. 21. 22. 21. 19. 21. 22. 21.\n",
      " 21. 18. 22. 21. 21. 22. 18. 21. 22. 18. 21. 21. 22. 21. 22. 18. 22. 21.\n",
      " 18. 22. 22. 22. 22. 19. 21. 19. 19. 22. 19. 18. 19. 18. 19. 22. 18. 21.\n",
      " 21. 18. 18. 18. 21. 19. 18. 18. 22. 22. 21. 19. 22. 18. 21. 18. 18. 21.\n",
      " 21. 21. 18. 21. 21. 22. 21. 19. 19. 18. 18. 22. 19. 21. 22. 19. 19. 18.\n",
      " 21. 19. 18. 18. 19. 22. 19. 18. 22. 22. 22. 21. 19. 19. 21. 22. 22. 21.\n",
      " 18. 18. 19. 21. 18. 19. 21. 22. 19. 21. 22. 21. 21. 19. 22. 22. 21. 22.\n",
      " 21. 22. 22. 19. 18. 18. 18. 18. 18. 21. 21. 21. 19. 22. 18. 22. 19. 22.\n",
      " 21. 18. 18. 19. 22. 22. 22. 21. 18. 18. 19. 21. 22. 18. 19. 18. 18. 22.\n",
      " 18. 22. 22. 21. 18. 19. 18. 22. 21. 18. 18. 21. 18. 19. 22. 18. 21. 18.\n",
      " 21. 21. 21. 21. 22. 18. 21. 18. 22. 22. 21. 18. 21. 18. 19. 19. 21. 22.\n",
      " 18. 21. 18. 19. 21. 22. 21. 18. 21. 22. 19. 19. 18. 22. 22. 21. 19. 18.\n",
      " 18. 21. 19. 19. 22. 21. 18. 18. 21. 19. 22. 18. 22. 22. 18. 18. 22. 18.\n",
      " 22. 22. 22. 18. 21. 18. 18. 18. 19. 19. 18. 21. 18. 21. 21. 18. 18. 18.\n",
      " 19. 22. 21. 22. 22. 21. 21. 18. 19. 18. 21. 18. 21. 18. 18. 19. 19. 19.\n",
      " 18. 22. 22. 19. 21. 21. 21. 21. 19. 19. 19. 19. 22. 21. 22. 18. 19. 19.\n",
      " 21. 18. 18. 22. 22. 21. 19. 22. 21. 18. 18. 19. 19. 21. 19. 19. 21. 22.\n",
      " 22. 18. 19. 21. 21. 18. 18. 22. 21. 21. 21. 18. 18. 18. 19. 18. 19. 18.\n",
      " 21. 19. 21. 21. 22. 21. 18. 18. 21. 18. 19. 19. 19. 19. 19. 22. 22. 21.\n",
      " 22. 22. 18. 22. 19. 18. 19. 18. 21. 19. 21. 21. 18. 19. 22. 19. 19. 19.\n",
      " 19. 22. 22. 19. 21. 21. 22. 19. 21. 21. 19. 22. 18. 19. 18. 19. 18. 21.\n",
      " 18. 19. 22. 19. 21. 21. 18. 22. 18. 18. 21. 21. 19. 18. 22. 19. 21. 22.\n",
      " 19. 18. 21. 18. 21. 22. 18. 22. 19. 21. 21. 19. 19. 18. 18. 19. 19. 22.\n",
      " 21. 22. 21. 22. 18. 22. 21. 22. 21. 22. 22. 22. 18. 18. 18. 21. 21. 19.\n",
      " 19. 19. 18. 19. 19. 19. 18. 22. 22. 18. 22. 18. 19. 22. 22. 22. 19. 19.\n",
      " 18. 18. 21. 22. 22. 19. 19. 21. 19. 19. 19. 18. 21. 21. 19. 21. 18. 22.\n",
      " 22. 22. 18. 18. 22. 19. 18. 19. 18. 19. 21. 18. 19. 19. 19. 21. 19. 19.\n",
      " 22. 22. 18. 22. 18. 18. 18. 18. 18. 21. 21. 18. 19. 22. 22. 18. 18. 18.\n",
      " 21. 19. 21. 22. 19. 19. 19. 19. 21. 22. 22. 21. 19. 21. 19. 22. 18. 19.\n",
      " 21. 21. 21. 19. 21. 19. 22. 19. 22. 18. 21. 18. 18. 21. 18. 21. 19. 19.\n",
      " 22. 21. 22. 19. 21. 21. 22. 18. 22. 21. 22. 21. 19. 19. 22. 18. 21. 22.\n",
      " 18. 18. 19. 18. 19. 18. 21. 22. 22. 19. 18. 19. 21. 18. 18. 19. 21. 21.\n",
      " 19. 18. 22. 18. 21. 18. 18. 18. 22. 22. 21. 22. 21. 18. 21. 22. 21. 22.\n",
      " 19. 19. 22. 18. 18. 19. 19. 18. 18. 19. 22. 22. 22. 18. 19. 22. 19. 18.\n",
      " 22. 18. 22. 19. 19. 21. 21. 22. 21. 19. 18. 21. 19. 21. 21. 18. 22. 18.\n",
      " 21. 19. 22. 22. 19. 21. 19. 18. 22. 22. 19. 18. 19. 21. 22. 22. 22. 21.\n",
      " 21. 19. 19. 21. 21. 22. 21. 18. 22. 22. 18. 18. 18. 22. 18. 18. 21. 22.\n",
      " 21. 22. 22. 19. 19. 21. 18. 18. 22. 19. 19. 18. 18. 21. 19. 21. 19. 21.\n",
      " 22. 21. 22. 22. 22. 21. 22. 18. 22. 21. 18. 22. 18. 18. 18. 18. 18. 18.\n",
      " 22. 18.]\n",
      "[2.16 2.8  1.69 2.77 2.87 2.23 2.55 2.16 2.56 1.28 2.08 1.75 2.25 2.46\n",
      " 2.69 2.46 2.03 2.27 2.04 1.66 2.53 2.51 0.63 2.43 2.8  2.45 2.25 2.63\n",
      " 2.73 1.56 2.35 2.52 2.22 2.7  2.51 0.78 2.25 1.73 2.22 2.88 2.7  2.51\n",
      " 2.6  2.93 2.33 2.6  1.68 1.87 1.48 2.38 2.7  2.13 0.44 2.51 2.65 2.55\n",
      " 2.01 2.18 1.59 2.28 2.72 0.68 1.61 2.37 2.63 2.65 2.76 2.65 2.25 2.08\n",
      " 1.7  2.09 2.63 1.   2.38 2.53 2.51 2.16 2.77 2.65 2.65 1.96 2.3  1.98\n",
      " 2.23 1.79 1.82 2.01 2.06 2.32 2.02 2.65 2.16 2.39 2.25 2.62 1.51 0.1\n",
      " 2.06 2.43 2.25 2.52 1.76 2.87 1.84 2.79 2.28 1.76 1.61 2.72 2.42 1.56\n",
      " 0.   1.69 2.25 2.27 1.81 1.06 2.31 1.19 1.31 2.06 2.6  2.41 2.8  1.19\n",
      " 2.51 2.15 2.69 2.33 1.16 1.78 2.69 2.86 2.65 2.44 2.6  1.82 2.41 1.92\n",
      " 2.42 2.43 1.59 2.7  2.45 2.23 2.86 2.63 2.63 2.53 2.8  2.87 2.45 2.65\n",
      " 2.63 1.68 2.63 2.93 0.   1.81 2.46 2.7  2.29 2.43 1.98 2.23 1.73 1.81\n",
      " 2.16 1.37 2.87 1.31 2.52 1.86 2.16 2.63 2.13 2.65 2.29 1.62 1.59 1.99\n",
      " 1.79 1.79 2.51 2.63 2.63 0.4  2.35 1.28 2.49 2.2  0.81 1.26 2.36 2.63\n",
      " 1.51 2.8  2.62 2.31 2.33 2.43 2.65 2.77 2.79 2.41 1.77 1.26 2.16 2.73\n",
      " 2.87 2.3  2.55 2.55 2.25 2.63 2.77 1.88 2.31 1.7  2.13 1.92 1.87 1.64\n",
      " 2.31 2.38 1.78 2.63 2.63 2.63 0.78 2.41 2.53 2.77 2.56 2.93 2.69 2.69\n",
      " 1.08 2.73 2.62 0.21 1.56 1.93 2.86 2.8  2.41 2.22 2.72 2.09 1.85 2.73\n",
      " 2.73 2.03 2.58 1.37 2.32 2.51 3.   2.87 2.33 2.26 2.65 2.8  1.26 1.51\n",
      " 1.81 1.   1.9  2.48 1.78 1.91 2.23 2.36 1.85 2.42 2.7  1.89 2.46 2.69\n",
      " 2.27 3.   1.3  2.53 2.03 2.94 1.77 2.8  2.08 2.79 2.65 2.22 2.51 1.68\n",
      " 2.45 2.53 1.21 2.63 2.3  1.51 1.88 2.31 2.8  1.47 2.55 1.7  2.65 2.48\n",
      " 2.32 1.75 2.08 2.69 1.54 2.77 2.93 2.16 2.77 2.79 2.04 2.01 2.7  0.71\n",
      " 2.53 2.77 1.85 0.94 2.62 2.16 2.06 2.48 2.77 1.83 2.46 1.82 1.73 2.77\n",
      " 2.06 2.65 2.27 2.25 2.08 1.66 1.93 2.58 0.83 1.41 2.46 2.1  2.79 2.18\n",
      " 2.76 2.76 1.98 2.58 1.68 0.85 2.63 2.29 1.89 2.48 2.63 2.48 2.36 2.72\n",
      " 2.44 1.54 2.11 1.5  1.82 2.48 2.13 1.78 0.85 1.76 1.77 2.39 1.76 2.27\n",
      " 2.53 2.23 0.59 2.06 2.73 0.39 2.15 2.41 2.73 2.7  2.73 2.48 2.58 1.73\n",
      " 0.34 2.87 0.41 1.77 2.76 2.76 2.8  2.35 2.18 1.95 2.28 2.05 2.7  2.43\n",
      " 2.55 2.01 2.65 2.7  2.58 2.63 2.94 2.69 2.94 2.04 1.26 2.5  2.7  2.53\n",
      " 2.79 2.52 2.43 2.29 2.77 2.08 1.36 2.8  2.13 2.23]\n",
      "[0.263 0.    0.4   0.    0.    0.    0.    0.    0.    0.    0.    0.\n",
      " 0.    0.    0.05  0.    0.    0.    0.    0.65  0.    0.    0.789 0.\n",
      " 0.    0.526 0.1   0.    0.    0.632 0.    0.    0.    0.105 0.    0.\n",
      " 0.    0.053 0.2   0.105 0.    0.    0.1   0.    0.    0.    0.    0.1\n",
      " 0.5   0.    0.    0.    0.842 0.    0.    0.    0.    0.    0.737 0.\n",
      " 0.    0.421 0.    0.    0.    0.    0.05  0.    0.    0.    0.    0.\n",
      " 0.    0.737 0.    0.    0.    0.05  0.    0.05  0.    0.316 0.    0.474\n",
      " 0.211 0.    0.105 0.421 0.    0.05  0.15  0.    0.    0.1   0.    0.\n",
      " 0.6   1.    0.    0.    0.    0.    0.    0.105 0.    0.1   0.25  0.\n",
      " 0.    0.    0.4   0.    1.    0.579 0.    0.    0.    0.6   0.    0.368\n",
      " 0.737 0.    0.    0.053 0.158 0.    0.    0.    0.1   0.    0.    0.\n",
      " 0.    0.    0.    0.    0.    0.    0.    0.85  0.    0.    0.    0.1\n",
      " 0.    0.    0.    0.    0.    0.    0.053 0.    0.053 0.    0.158 0.\n",
      " 0.    0.    1.    0.    0.    0.    0.    0.    0.    0.    0.    0.\n",
      " 0.    0.5   0.    0.526 0.    0.    0.    0.105 0.    0.    0.    0.4\n",
      " 0.    0.    0.    0.263 0.    0.053 0.    0.    0.    0.421 0.    0.\n",
      " 0.    0.65  0.2   0.    0.    0.    0.    0.    0.    0.    0.    0.\n",
      " 0.    0.    0.55  0.    0.    0.158 0.    0.    0.    0.    0.05  0.\n",
      " 0.    0.    0.    0.421 0.    0.35  0.    0.    0.316 0.053 0.    0.\n",
      " 0.    0.    0.    0.053 0.35  0.05  0.    0.    0.    0.    0.05  0.\n",
      " 0.    0.    0.    0.6   0.    0.    0.    0.    0.    0.35  0.    0.\n",
      " 0.    0.    0.    0.7   0.    0.    0.    0.    0.368 0.    0.    0.053\n",
      " 0.65  0.    0.421 0.737 0.35  0.    0.    0.053 0.    0.    0.    0.25\n",
      " 0.    0.    0.    0.    0.    0.1   0.263 0.    0.    0.    0.    0.\n",
      " 0.    0.05  0.    0.    0.05  0.    0.    0.    0.55  0.    0.    0.\n",
      " 0.    0.    0.    0.    0.    0.    0.    0.    0.05  0.    0.    0.05\n",
      " 0.    0.    0.    0.45  0.    0.    0.    0.    0.    1.    0.    0.053\n",
      " 0.    0.    0.    0.5   0.    0.158 0.    0.    0.    0.421 0.158 0.\n",
      " 0.    0.    0.211 0.15  0.    0.053 0.45  0.    0.75  0.    0.    0.\n",
      " 0.    0.    0.    0.    0.    0.    0.    0.737 0.    0.    0.    0.\n",
      " 0.158 0.053 0.    0.    0.    0.05  0.211 0.    0.421 0.105 0.    0.5\n",
      " 0.6   0.    0.1   0.    0.    0.    0.    0.    0.85  0.35  0.    0.95\n",
      " 0.421 0.    0.    0.    0.    0.    0.    0.    0.895 0.    0.    0.\n",
      " 0.    0.    0.    0.    0.    0.2   0.    0.    0.    0.    0.    0.\n",
      " 0.    0.    0.    0.158 0.    0.    0.    0.25  0.    0.05  0.    0.05\n",
      " 0.05  0.    0.    0.    0.05  0.    0.316 0.    0.    0.684]\n",
      "[4.32 2.84 3.8  3.68 3.68 4.42 3.   3.79 3.05 4.05 3.4  4.26 3.3  2.9\n",
      " 2.35 3.95 3.74 3.35 2.8  4.3  3.9  3.53 6.16 4.   3.95 4.21 3.35 3.32\n",
      " 3.95 4.74 3.5  3.58 3.25 3.11 2.9  3.85 3.05 5.16 3.6  3.47 3.4  2.9\n",
      " 3.9  2.2  3.68 2.85 3.9  3.5  4.   3.4  3.15 3.79 5.16 4.11 2.4  3.84\n",
      " 4.39 3.35 4.42 3.1  3.8  6.53 4.   3.8  3.53 3.3  2.45 2.8  3.3  4.37\n",
      " 3.5  3.84 3.58 4.11 4.05 4.21 2.55 3.3  2.85 3.2  3.2  5.   4.26 4.58\n",
      " 4.05 4.16 3.47 4.74 2.9  3.2  4.55 2.05 3.9  3.5  3.   3.05 3.95 5.75\n",
      " 4.53 3.05 3.45 3.79 4.63 3.47 2.95 2.85 3.15 3.9  4.45 2.45 3.05 4.11\n",
      " 5.84 4.74 3.25 3.55 4.   5.1  2.95 4.53 5.42 3.84 3.84 4.26 2.95 5.47\n",
      " 3.58 3.7  3.2  4.37 4.4  4.25 3.4  2.25 3.26 2.75 3.2  4.1  3.74 4.55\n",
      " 3.6  3.68 4.84 2.85 3.32 3.25 2.6  3.74 3.4  3.68 3.79 3.74 4.05 3.35\n",
      " 3.79 4.15 2.8  1.9  6.58 5.   3.25 2.63 3.2  3.5  3.32 3.84 3.25 3.79\n",
      " 4.21 4.5  2.79 4.84 3.68 3.35 3.1  3.58 3.79 2.45 3.2  4.7  4.53 3.25\n",
      " 4.3  4.42 3.42 4.   3.   5.2  3.26 5.21 2.9  4.11 4.68 4.5  2.2  3.05\n",
      " 3.1  3.47 3.   4.26 3.   3.11 2.45 2.3  2.5  3.53 3.6  4.1  4.   3.84\n",
      " 3.26 3.2  3.47 3.95 3.75 3.16 3.   4.   4.   4.05 4.16 4.4  4.1  3.85\n",
      " 3.42 3.26 4.32 3.58 2.74 3.75 4.85 4.37 3.4  2.95 3.55 2.6  2.4  3.35\n",
      " 5.   3.63 4.   4.7  5.16 3.9  3.1  2.74 3.68 3.85 2.65 4.55 3.74 3.26\n",
      " 3.05 3.3  3.84 5.35 3.1  4.05 2.35 3.84 3.21 4.05 3.9  3.05 5.05 3.4\n",
      " 4.53 5.42 4.7  3.95 3.45 4.05 3.84 3.68 4.1  3.5  3.63 4.15 3.35 2.5\n",
      " 3.5  2.3  4.95 3.58 4.15 2.74 4.2  3.84 3.68 2.9  2.95 4.   4.25 3.8\n",
      " 3.58 3.63 5.6  3.11 3.79 3.85 3.63 3.68 3.32 5.58 3.68 3.74 3.74 4.15\n",
      " 2.95 4.26 3.42 2.6  3.7  3.26 2.55 4.65 3.9  2.45 4.   4.37 2.65 5.35\n",
      " 3.53 2.74 3.6  3.84 3.1  4.   4.11 3.9  3.26 3.74 3.4  4.53 4.53 3.45\n",
      " 3.95 3.15 3.53 4.15 3.1  3.79 4.6  4.05 5.3  4.58 2.2  4.05 3.4  4.45\n",
      " 2.7  3.05 3.58 2.2  3.25 5.21 3.55 4.05 3.5  2.75 3.16 2.95 3.9  2.95\n",
      " 3.6  3.95 4.37 4.35 4.37 3.79 3.9  4.   6.3  3.6  3.85 2.95 4.42 4.37\n",
      " 3.95 4.47 4.86 3.65 3.16 6.   4.16 3.37 3.16 3.   3.63 3.95 3.05 3.85\n",
      " 5.53 3.68 5.11 4.42 2.91 2.5  4.   3.35 4.2  3.55 3.45 4.4  3.5  4.53\n",
      " 3.74 4.63 3.32 3.   4.   3.21 2.84 2.95 3.16 4.   5.4  4.47 3.9  3.25\n",
      " 2.75 3.45 3.42 3.35 3.3  3.5  4.32 4.   3.65 5.  ]\n",
      "[1.49 1.57 1.99 1.46 1.8  1.02 1.75 1.48 1.7  1.88 1.54 1.63 1.66 1.55\n",
      " 1.18 1.4  1.59 1.73 1.74 1.98 1.66 1.5  1.39 1.53 1.31 1.27 1.66 1.49\n",
      " 1.58 1.82 1.82 1.39 2.02 1.41 1.8  1.95 1.67 1.39 1.96 1.93 1.64 2.05\n",
      " 1.86 1.54 1.64 1.57 1.89 1.61 1.21 1.39 1.5  1.51 1.61 1.79 1.27 1.43\n",
      " 1.61 1.53 1.74 1.86 1.99 0.91 1.56 1.64 1.84 1.81 1.57 1.51 1.59 1.21\n",
      " 1.88 1.54 1.47 1.73 1.81 1.51 1.47 1.59 1.46 1.47 1.58 1.33 1.28 1.64\n",
      " 1.35 1.5  1.65 1.52 1.29 1.74 1.79 1.28 1.52 1.54 1.83 1.73 1.7  1.33\n",
      " 1.35 1.4  1.64 1.55 1.71 2.09 1.5  1.76 1.31 1.45 1.91 1.43 1.73 1.24\n",
      " 1.54 1.37 1.74 1.36 1.41 1.74 1.54 1.43 1.31 1.46 1.77 1.33 1.31 1.35\n",
      " 1.47 1.46 1.77 1.3  1.79 1.68 1.88 1.16 1.88 1.59 1.54 1.86 1.63 1.79\n",
      " 1.79 1.92 1.86 1.46 1.53 1.59 1.23 1.33 1.6  1.83 1.51 1.66 1.58 1.6\n",
      " 1.48 1.79 1.36 1.17 0.84 1.67 1.68 1.34 1.7  1.79 1.42 1.71 1.77 1.87\n",
      " 1.4  1.54 1.75 1.57 2.08 1.5  1.48 1.5  1.27 1.4  1.24 1.66 1.22 1.62\n",
      " 2.03 1.77 1.39 1.7  1.73 1.64 1.7  1.44 1.71 1.24 1.8  2.24 1.58 1.62\n",
      " 1.25 1.78 1.86 1.63 1.53 1.6  1.5  1.13 1.4  1.31 1.88 1.55 1.78 1.68\n",
      " 1.79 1.7  1.5  1.18 2.   1.57 1.33 1.2  1.63 1.75 1.07 1.93 1.94 2.25\n",
      " 1.81 1.7  1.73 1.35 1.45 1.71 1.73 1.38 1.54 1.5  1.76 1.54 1.5  1.6\n",
      " 1.12 1.46 1.92 1.9  1.34 1.55 1.83 1.05 1.57 1.69 1.63 1.79 1.45 1.37\n",
      " 1.31 1.84 1.39 1.42 1.52 1.85 1.6  1.61 1.48 1.47 1.85 1.58 1.91 1.88\n",
      " 1.22 1.61 1.63 1.35 1.57 1.27 1.43 1.46 1.89 1.7  1.42 1.81 1.42 1.5\n",
      " 1.82 1.38 1.39 1.5  1.84 1.49 1.44 2.01 1.42 1.52 1.22 1.63 1.97 2.26\n",
      " 1.64 1.54 1.19 1.52 1.65 1.79 1.38 1.25 1.64 1.31 1.57 1.85 1.7  1.79\n",
      " 1.64 1.52 1.54 1.5  1.75 1.79 1.43 1.69 1.56 1.36 1.75 1.38 1.46 1.35\n",
      " 1.84 1.45 2.04 1.8  1.89 1.49 1.33 1.79 1.88 1.66 1.88 1.71 1.71 2.01\n",
      " 1.79 1.73 1.61 1.66 1.55 1.93 1.35 1.43 1.9  1.43 0.95 1.65 1.82 1.76\n",
      " 1.87 1.67 1.71 1.2  1.48 1.03 1.64 1.35 1.91 1.55 1.39 1.31 1.6  1.67\n",
      " 1.57 1.61 1.34 1.87 0.9  1.48 1.56 1.59 1.42 2.01 1.84 1.54 1.81 1.12\n",
      " 0.97 2.01 1.88 1.73 1.5  1.21 1.61 1.86 1.34 1.84 1.57 1.51 1.47 1.78\n",
      " 1.71 1.38 1.49 1.39 1.64 1.19 1.76 1.76 1.88 1.99 1.4  1.79 1.79 1.43\n",
      " 0.99 1.26 1.73 1.41 1.67 1.65 1.64 1.36 1.46 1.56 1.54 1.65 1.6  1.65\n",
      " 1.59 1.73 1.58 1.46 1.72 1.61 1.89 1.53 1.6  1.11]\n",
      "[ 0.17 -0.69  0.3  -0.15 -0.09  0.42 -0.32 -0.05 -0.25  0.37 -0.03  0.29\n",
      " -0.12 -0.36 -0.76  0.43 -0.19 -0.1  -0.43  0.52  0.06 -0.31  1.68 -0.06\n",
      " -0.07  0.18 -0.1  -0.39  0.1   0.65 -0.03 -0.38 -0.18 -0.56 -0.38  0.25\n",
      " -0.34  0.73  0.03 -0.29 -0.08 -0.53  0.23 -0.85  0.   -0.47  0.18 -0.09\n",
      "  0.41 -0.05 -0.27 -0.02  0.85  0.24 -0.62 -0.12  0.19 -0.05  0.48 -0.22\n",
      "  0.17  1.98  0.37  0.27 -0.27 -0.21 -0.75 -0.49 -0.11  0.15 -0.03 -0.19\n",
      " -0.38  0.08  0.13  0.21 -0.66 -0.2  -0.47 -0.28 -0.18  0.53  0.23  0.51\n",
      "  0.04  0.07 -0.39  0.64 -0.32 -0.16  0.67 -1.02 -0.17  0.   -0.45 -0.29\n",
      "  0.4   1.52  0.54 -0.33 -0.08 -0.11  0.51 -0.36 -0.39 -0.51 -0.16 -0.15\n",
      "  0.58 -0.69 -0.25  0.11  1.22  0.54 -0.24  0.05  0.06  0.96 -0.38  0.54\n",
      "  0.95 -0.08 -0.21  0.17 -0.71  1.04 -0.31  0.11 -0.22  0.39  0.58  0.45\n",
      " -0.13 -0.82 -0.38 -0.58 -0.25  0.4  -0.1   0.71  0.08 -0.16  0.51 -0.41\n",
      " -0.42 -0.09 -0.63 -0.11 -0.05 -0.32 -0.23 -0.04  0.19 -0.09 -0.15  0.44\n",
      " -0.45 -1.05  1.87  0.65 -0.17 -0.85 -0.24  0.03 -0.47 -0.06 -0.15 -0.06\n",
      "  0.19  0.66 -0.78  0.47 -0.1   0.01 -0.26 -0.25 -0.19 -0.72 -0.2   0.84\n",
      "  0.34 -0.19  0.54  0.29 -0.33  0.13 -0.58  1.14 -0.4   0.81 -0.39  0.05\n",
      "  0.49  0.59 -0.84 -0.49 -0.19 -0.32 -0.4   0.35 -0.6  -0.52 -0.68 -0.92\n",
      " -0.68 -0.31  0.1   0.41  0.27 -0.07 -0.41 -0.2  -0.3   0.04  0.08 -0.61\n",
      " -0.78 -0.1  -0.04 -0.04  0.2   0.5   0.35  0.17 -0.36 -0.42  0.16 -0.33\n",
      " -0.86  0.23  0.91  0.41 -0.08 -0.41  0.1  -0.56 -0.72  0.01  1.05 -0.13\n",
      "  0.26  0.86  0.93  0.21 -0.32 -0.9  -0.14  0.19 -0.64  0.62 -0.04 -0.51\n",
      " -0.66 -0.13 -0.08  1.25 -0.28  0.33 -0.83 -0.04 -0.64 -0.07  0.06 -0.53\n",
      "  0.92 -0.11  0.35  0.98  0.86 -0.07 -0.08 -0.03 -0.06 -0.18  0.35 -0.04\n",
      " -0.15  0.44 -0.17 -0.66  0.04 -0.77  0.62 -0.25  0.33 -0.82  0.47  0.11\n",
      " -0.27 -0.41 -0.68  0.    0.55  0.09 -0.17 -0.13  1.48 -0.44 -0.05  0.19\n",
      " -0.28 -0.18 -0.39  1.1  -0.11 -0.08 -0.15  0.4  -0.28  0.32 -0.4  -0.6\n",
      "  0.11 -0.46 -0.62  0.66 -0.06 -0.68  0.38  0.08 -0.63  1.18 -0.15 -0.81\n",
      "  0.09 -0.06 -0.15  0.32  0.13 -0.16 -0.46 -0.18 -0.08  0.2   0.55 -0.05\n",
      "  0.34 -0.25 -0.32  0.49 -0.26 -0.18  0.88  0.09  1.32  0.52 -1.    0.14\n",
      " -0.11  0.67 -0.51 -0.28 -0.17 -0.85 -0.07  0.77 -0.08  0.1  -0.08 -0.47\n",
      " -0.64 -0.73  0.13 -0.35  0.03  0.46  0.29  0.66  0.36 -0.08 -0.09  0.3\n",
      "  2.03 -0.01  0.16 -0.41  0.46  0.34 -0.01  0.58  0.93  0.08 -0.59  1.73\n",
      "  0.26 -0.38 -0.58 -0.37 -0.13 -0.03 -0.64  0.06  1.31 -0.13  0.71  0.42\n",
      " -0.35 -0.69  0.08 -0.14  0.48  0.02 -0.05  0.2  -0.05  0.32 -0.25  0.52\n",
      " -0.42 -0.65  0.07 -0.41 -0.79 -0.35 -0.52  0.29  1.31  0.26 -0.06 -0.1\n",
      " -0.54 -0.05 -0.35 -0.14 -0.15  0.08  0.28  0.16  0.09  0.77]\n",
      "[467. 434. 501. ... 400. 701. 501.]\n",
      "[1101.  767. 1235. ... 1301. 1235. 1301.]\n",
      "[634. 334. 734. ... 901. 534. 801.]\n",
      "[1668. 1468. 2035. ... 2002. 1835. 2002.]\n",
      "[0 1 1 ... 1 0 0]\n",
      "[0 0 0 ... 1 0 0]\n",
      "[0 0 0 ... 0 0 0]\n",
      "[1 1 1 ... 3 1 1]\n",
      "[1. 0. 0. ... 0. 1. 1.]\n",
      "[0. 1. 0. ... 1. 1. 0.]\n",
      "[0. 0. 0. ... 1. 0. 0.]\n",
      "[0. 0. 1. ... 0. 1. 1.]\n",
      "[1 0 0 ... 0 0 0]\n",
      "[1 0 1 ... 0 1 0]\n",
      "[0 1 0 ... 0 0 0]\n",
      "[0. 0. 0. 0. 0. 0. 0. 0. 0. 0. 0. 0. 0. 0. 0. 0. 1. 1. 0. 0. 0. 0. 1. 0.\n",
      " 0. 0. 1. 0. 0. 0. 0. 0. 0. 0. 0. 0. 0. 0. 0. 0. 0. 0. 0. 0. 0. 0. 0. 0.\n",
      " 0. 0. 0. 0. 0. 0. 0. 0. 0. 1. 0. 0. 1. 0. 0. 0. 0. 1. 0. 1. 1. 0. 0. 0.\n",
      " 1. 0. 0. 0. 0. 0. 1. 0. 0. 0. 0. 0. 0. 0. 0. 0. 1. 0. 0. 0. 0. 0. 0. 1.\n",
      " 0. 1. 0. 1. 0. 0. 0. 0. 1. 0. 0. 0. 0. 1. 1. 0. 0. 0. 0. 0. 0. 0. 0. 0.\n",
      " 0. 0. 0. 1. 0. 0. 0. 0. 0. 0. 0. 0. 0. 0. 0. 1. 0. 0. 0. 0. 1. 0. 0. 0.\n",
      " 0. 0. 0. 0. 0. 0. 0. 0. 0. 0. 0. 0. 0. 0. 1. 0. 0. 0. 0. 0. 1. 0. 0. 0.\n",
      " 0. 0. 1. 0. 0. 0. 0. 0. 0. 0. 0. 0. 0. 0. 0. 0. 0. 0. 0. 1. 1. 1. 0. 0.\n",
      " 0. 1. 0. 0. 0. 0. 0. 0. 0. 0. 0. 0. 1. 0. 0. 0. 0. 0. 0.]\n",
      "[0. 0. 0. 0. 0. 1. 0. 0. 0. 0. 0. 0. 1. 1. 1. 1. 0. 0. 0. 0. 0. 1. 1. 1.\n",
      " 0. 0. 0. 0. 1. 0. 0. 1. 0. 0. 0. 0. 0. 1. 0. 1. 0. 0. 1. 0. 0. 0. 0. 0.\n",
      " 0. 0. 1. 1. 0. 0. 1. 0. 1. 1. 1. 1. 1. 0. 0. 0. 0. 0. 0. 0. 0. 0. 0. 0.\n",
      " 1. 1. 0. 0. 0. 0. 0. 0. 1. 0. 0. 0. 0. 1. 0. 0. 1. 0. 0. 0. 1. 0. 1. 0.\n",
      " 0. 0. 0. 0. 0. 0. 0. 0. 0. 1. 1. 0. 1. 0. 1. 0. 0. 0. 0. 1. 1. 0. 1. 1.\n",
      " 1. 0. 0. 0. 0. 0. 0. 0. 1. 0. 0. 1. 0. 0. 1. 0. 0. 0. 0. 1. 1. 1. 0. 0.\n",
      " 0. 0. 0. 0. 1. 1. 1. 0.]\n",
      "[0. 0. 0. 0. 0. 0. 0. 0. 0. 0. 0. 0. 0. 0. 0. 0. 1. 0. 0. 1. 0. 0. 0. 0.\n",
      " 0. 0. 0. 0. 0. 0. 0. 0. 0. 0. 0. 0. 0. 0. 0. 0. 0. 0. 0. 0. 0. 0. 0. 0.\n",
      " 1. 0. 0. 0. 0. 0. 0. 0. 0. 0. 0. 0. 0. 1. 0. 0. 0. 0. 0. 0. 0. 0. 0. 0.\n",
      " 0. 0. 0. 0. 1. 0. 0. 0. 0. 0. 0. 0. 0. 0. 0. 0. 0. 0. 0. 0. 0. 0. 0. 0.\n",
      " 0. 0. 0. 0. 0. 0. 0. 0. 0. 0. 0. 0. 0. 0. 0. 0. 0. 0. 0. 0. 1. 0. 0. 0.\n",
      " 0. 0. 0. 0. 0. 0. 0. 0. 0. 0. 0. 0. 0. 0. 0. 0. 0. 0. 0. 1. 0. 0. 0. 0.\n",
      " 0. 0. 0. 1. 0. 0. 0. 0. 0.]\n",
      "[1. 0. 0. 0. 0. 0. 1. 0. 0. 1. 0. 0. 0. 0. 0. 0. 0. 0. 1. 0. 0. 0. 0. 0.\n",
      " 1. 0. 0. 0. 1. 0. 0. 1. 0. 1. 0. 0. 1. 0. 0. 0. 0. 0. 0. 0. 0. 0. 1. 0.\n",
      " 0. 0. 0. 0. 0. 0. 0. 1. 1. 0. 1. 0. 0. 1. 0. 0. 0. 0. 0. 1. 0. 0. 1. 0.\n",
      " 0. 1. 1. 1. 0. 0. 1. 0. 0. 0. 0. 0. 0. 1. 0. 0. 0. 0. 0. 0. 0. 0. 0. 1.\n",
      " 0. 1. 0. 0. 0. 1. 0. 1. 0. 1. 1. 0. 0. 0. 0. 0. 0. 0. 0. 1. 1. 1. 0. 1.\n",
      " 0. 0. 0. 0. 1. 0. 0. 0. 1. 0. 0. 0. 0. 0. 0. 0. 0. 0. 1. 0. 0. 0. 0. 1.\n",
      " 1. 1. 0. 1. 1. 0. 1. 0. 0. 0. 1. 1. 0. 1. 1. 0. 1. 0. 0. 0. 1. 0. 0. 0.\n",
      " 0. 0. 0. 0. 1. 0. 0. 0. 0. 0. 1. 0. 1. 0. 0. 0. 1. 0. 1. 0. 0. 0. 1. 0.\n",
      " 0. 1. 1. 0. 0. 0. 1. 1. 0. 0. 1. 0. 0. 0. 1. 0. 0. 0. 0. 0. 1. 1. 1. 0.\n",
      " 0. 0. 0. 0. 0. 0. 0. 1. 1. 0. 0. 0. 0. 0. 0. 0. 0. 1. 0. 1. 1. 0. 0. 0.\n",
      " 1. 1.]\n",
      "[1. 0. 0. 1. 0. 1. 1. 0. 0. 0. 0. 0. 0. 0. 1. 0. 0. 0. 1. 0. 0. 0. 1. 1.\n",
      " 0. 0. 0. 0. 0. 0. 0. 1. 0. 0. 0.]\n",
      "[0. 0. 0. 0. 0. 0. 1. 1. 0. 1. 0. 1. 1. 1. 1. 1. 1. 1. 0. 0. 1. 0. 1. 1.\n",
      " 0. 1. 0. 1. 0. 1. 0. 0. 1. 1. 1. 0. 0. 0. 0. 0. 0. 0. 0. 1. 1. 1. 0. 1.\n",
      " 1. 0. 0. 0. 1. 0. 0. 1. 1. 0. 0. 0. 0. 0. 0. 0. 0. 0. 0. 0. 0. 1. 1. 0.\n",
      " 0. 0. 0. 0. 0. 0. 0. 0. 0. 0. 0. 1. 1. 0. 1. 1. 0. 0. 0. 0. 1. 0. 1. 1.\n",
      " 1. 1. 1. 1. 1. 1. 0. 0. 0. 1. 1. 1. 0. 1. 1. 0. 0. 1. 1. 0. 1. 1. 1. 0.\n",
      " 0. 0. 0. 0. 1. 1. 1. 0. 1. 0. 0. 1. 0. 0. 0. 1. 0. 1. 0. 0. 0. 0. 1. 1.\n",
      " 0. 1. 1. 0. 0. 1. 0. 0. 1. 0. 0. 0. 0. 1. 0. 1. 0. 0. 1. 1. 1. 0. 0. 0.\n",
      " 1. 0. 1. 0. 1. 0. 0. 0. 1. 0. 0. 0. 0. 1. 1. 0. 1. 0. 0. 1. 1. 1. 1. 0.\n",
      " 0. 0. 0. 1. 1. 0. 1. 0. 1. 1. 0. 1. 0. 1. 1. 1. 0. 1. 1. 0. 0. 1. 0. 0.\n",
      " 0. 0. 1. 1. 0. 1. 0. 1. 1.]\n",
      "[0. 0. 0. 1. 0. 0. 0. 0. 0. 1. 0. 0. 0. 0. 0. 0. 0. 0. 0. 1. 0. 0. 0. 0.\n",
      " 0. 1. 0. 0. 0. 0. 0. 1. 0. 0. 0. 0. 0. 0. 0. 0. 0. 1. 0. 0. 0. 0. 0. 0.\n",
      " 0. 0. 0. 0. 0. 0. 0. 0. 0. 0. 0. 0. 0. 0. 0. 1. 0. 0. 0. 0. 0. 0. 0. 0.\n",
      " 0. 0. 0. 0. 0. 0. 0. 0. 0. 0. 0. 0. 0. 0. 0. 0. 0. 0. 0. 0. 0. 0. 0. 0.\n",
      " 0. 0. 0. 0. 0. 0. 0. 0. 0. 0. 0. 0. 0. 0. 0. 0. 0. 0. 0. 0. 0. 0. 0. 0.\n",
      " 0. 0. 0. 0. 0. 0. 0. 0. 0. 0. 0. 0. 0. 0. 0. 0. 0. 0. 0. 0. 0. 0. 0. 0.\n",
      " 0. 0. 0. 0. 0. 0. 0. 0. 0. 0. 0. 0. 0. 0. 0. 0. 1. 0. 0. 0. 0. 0. 0. 0.\n",
      " 0. 0. 0. 0. 0. 0. 0. 0. 1. 0. 0. 0. 0. 0. 0. 0. 0. 0. 0. 0. 0. 0. 0. 0.\n",
      " 0. 0. 0. 0. 0. 0. 0. 0. 0. 0. 0. 0. 0. 0. 0. 0. 0. 0. 0. 0. 0. 0. 1. 0.\n",
      " 0. 0. 0. 0. 0. 0. 0. 0. 0. 0.]\n",
      "[0. 0. 0. 0. 1. 0. 0. 0. 0. 0. 1. 0. 0. 0. 0. 0. 0. 0. 0. 0. 0.]\n",
      "[0. 0. 0. 1. 0. 0. 0. 0. 1. 1. 1. 1. 1. 1. 0. 0. 0. 0. 0. 1. 1. 1. 1. 0.\n",
      " 0. 0.]\n",
      "[0. 0. 0. 0. 0. 0. 0. 0. 0. 0. 0. 0. 0. 0. 0. 0. 0. 0. 0.]\n",
      "[0. 0. 0. 1. 0. 1. 1. 0. 1. 0. 0. 0. 0. 0. 0. 0. 0. 0. 1. 1. 0. 1. 0. 0.\n",
      " 0. 0. 0. 0. 1. 1. 0. 0. 1.]\n",
      "[0. 0. 0. 0. 0. 0. 1. 0.]\n",
      "[0. 1. 1. 0. 1. 1. 1. 1. 0. 0. 0. 1. 0. 1. 0. 0. 0. 1. 1. 1. 0. 0.]\n",
      "[0. 0. 0. 0. 0. 0. 0. 0. 0. 0. 0. 0. 0. 0. 0. 0. 0. 0. 0. 0. 0. 0.]\n",
      "[0. 0. 0. 0. 0. 0. 0.]\n",
      "[0. 1. 1. 1.]\n",
      "[0. 0. 0.]\n",
      "[0. 1. 0. 1. 0. 0. 0. 1. 1.]\n",
      "[0.]\n",
      "[1. 0. 1. 1.]\n",
      "[5.]\n",
      "[]\n",
      "[]\n",
      "[0. 0.]\n",
      "[]\n",
      "[0. 1. 0.]\n",
      "[]\n",
      "[]\n",
      "[]\n",
      "[]\n",
      "[]\n",
      "[]\n",
      "[]\n",
      "[]\n",
      "[]\n",
      "[]\n",
      "[0.]\n",
      "[]\n",
      "[0.]\n",
      "[]\n",
      "[]\n",
      "[]\n",
      "[]\n",
      "[]\n",
      "[]\n",
      "[]\n",
      "[]\n",
      "[]\n",
      "[0.175 0.392 0.175 ... 0.392 0.345 0.175]\n",
      "[0.25  0.363 0.25  ... 0.363 0.363 0.25 ]\n",
      "[0.019 0.363 0.015 ... 0.363 0.363 0.019]\n",
      "[0.155 0.    0.025 ... 0.426 0.426 0.155]\n",
      "[0.457 0.153 0.076 ... 0.034 0.457 0.457]\n",
      "[0.449 0.449 0.045 ... 0.261 0.261 0.261]\n",
      "[0.225 0.409 0.225 ... 0.409 0.067 0.409]\n",
      "[0.209 0.791 0.791 ... 0.    0.209 0.209]\n",
      "[0.446 0.554 0.554 ... 0.554 0.554 0.554]\n",
      "[0.622 0.378 0.622 ... 0.378 0.622 0.378]\n",
      "[0.602 0.398 0.    ... 0.    0.    0.   ]\n",
      "[0.    0.878 0.    ... 0.    0.    0.   ]\n",
      "[0.684 0.684 0.316 ... 0.684 0.316 0.316]\n",
      "[0.657 0.657 0.657 ... 0.343 0.657 0.657]\n",
      "[0.836 0.164 0.836 ... 0.836 0.836 0.836]\n"
     ]
    },
    {
     "name": "stdout",
     "output_type": "stream",
     "text": [
      "[2. 1. 4. ... 3. 1. 2.]\n",
      "[-0.02   0.281 -0.396 ... -0.072  0.129 -0.283]\n",
      "[383 190 129 ... 137 524 368]\n",
      "[0 4 0 ... 3 0 0]\n",
      "[1268. 2436. 2437. ...   94. 3114.  329.]\n",
      "[61. 48. 26. 44. 41. 41. 29. 56. 25. 40. 33. 39. 22. 42. 35. 19. 27. 25.\n",
      " 40. 34. 47. 54. 30. 36. 22. 41. 50. 26. 44. 23. 39. 30. 47. 48. 41. 31.\n",
      " 42. 28. 36. 23. 32. 29. 29. 41. 28. 25. 21. 31. 40. 32. 46. 32. 32. 31.\n",
      " 27. 34. 33. 40. 28. 29. 32. 28. 36. 56. 33. 30. 27. 40. 40. 22. 29. 31.\n",
      " 36. 35. 28. 37. 24. 32. 34. 24. 46. 28. 26. 44. 41. 50. 27. 40. 29. 46.\n",
      " 48. 26. 32. 29. 26. 37. 39. 29. 23. 32. 56. 27. 23. 38. 49. 59. 38. 26.\n",
      " 40. 24. 52. 26. 26. 37. 39. 37. 36. 47. 42. 28. 31. 26. 39. 48. 34. 26.\n",
      " 55. 36. 36. 25. 31. 48. 35. 32. 26. 30. 27. 34. 37. 32. 21. 28. 41. 33.\n",
      " 25. 60. 27. 37. 19. 28. 26. 46. 46. 55. 26. 52. 29. 28. 36. 34. 20. 35.\n",
      " 38. 29. 31. 41. 23. 32. 41. 25. 31. 33. 26. 32. 40. 28. 29. 32. 31. 30.\n",
      " 27. 45. 41. 31. 33. 43. 34. 33. 29. 30. 28. 29. 31. 30. 31. 46. 41. 28.\n",
      " 26. 26. 28. 30. 27. 41. 24. 32. 31. 37. 28. 35. 22. 58. 35. 31. 37. 45.\n",
      " 44. 31. 27. 27. 27. 30. 39. 52. 27. 29. 42. 25. 25. 46. 25. 30. 29. 53.\n",
      " 27. 29. 40. 28. 25. 33. 24. 49. 33. 41. 29. 41. 34. 28. 29. 29. 37. 34.\n",
      " 43. 35. 33. 25. 41. 34. 34. 38. 45. 43. 34. 49. 40. 48. 35. 30. 24. 54.\n",
      " 27. 41. 28. 28. 34. 29. 51. 36. 31. 35. 40. 27. 36. 34. 26. 42. 14. 35.\n",
      " 55. 39. 27. 27. 52. 27. 42. 21. 33. 20. 30. 27. 27. 34. 38. 23. 40. 32.\n",
      " 36. 39. 36. 55. 45. 32. 31. 27. 38. 37. 28. 32. 44. 43. 35. 33. 37. 35.\n",
      " 35. 40. 28. 24. 28. 33. 54. 31. 25. 49. 29. 29. 39. 31. 39. 31. 34. 55.\n",
      " 50. 42. 38. 28. 28. 33. 29. 24. 34. 26. 37. 58. 31. 37. 49. 33. 43. 30.\n",
      " 28. 41. 39. 30. 67. 22. 29. 27. 40. 41. 46. 40. 31. 45. 35. 31. 29. 27.\n",
      " 45. 39. 35. 33. 39. 45. 26. 27. 30. 32. 29. 28. 29. 30. 23. 42. 33. 46.\n",
      " 44. 42. 29. 30. 51. 31. 42. 25. 50. 44. 22. 32. 37. 31. 28. 29. 28. 61.\n",
      " 33. 25. 46. 33. 39. 31. 25. 33. 31. 28. 32. 30. 31. 29. 34. 28. 35. 38.\n",
      " 30. 27. 38. 29. 40. 30. 27. 46. 41. 27. 28. 29. 33. 56. 40. 38. 40. 35.\n",
      " 43. 37. 29. 33. 26. 26. 38. 42. 47. 50. 49. 41. 31. 29. 53. 28. 42. 30.\n",
      " 32. 51. 41. 27. 42. 34. 39. 22. 35. 33. 27. 30. 22. 35. 41. 29. 30. 32.\n",
      " 44. 40. 39. 26. 47. 30. 26. 27. 27. 31. 32. 28. 31. 45. 24. 51. 57. 29.\n",
      " 31. 46. 46. 54. 25. 38. 31. 29. 39. 35. 31. 30. 31. 33. 33. 37. 28. 39.\n",
      " 31. 57. 27. 24. 49. 26. 26. 56. 45. 29. 39.]\n",
      "[35. 35. 23. 28. 35. 35. 19. 36. 14. 23. 14. 23. 14. 35. 28. 14. 19. 15.\n",
      " 35. 23. 35. 43. 28. 33. 15. 39. 23. 15. 31. 16. 28. 31. 35. 35. 23. 28.\n",
      " 28. 23. 28. 14. 21. 28. 19. 19. 28. 15. 15. 28. 31. 28. 36. 23. 23. 23.\n",
      " 21. 18. 26. 19. 28. 16. 19. 19. 34. 21. 20. 26. 23. 28. 28. 15. 28. 24.\n",
      " 34. 28. 22. 28. 14. 28. 28. 14. 34. 22. 23. 35. 28. 35. 14. 23. 22. 28.\n",
      " 35. 18. 28. 19. 28. 24. 34. 23. 14. 19. 35. 14. 18. 28. 35. 31. 22. 26.\n",
      " 18. 15. 49. 23. 18. 21. 28. 19. 32. 35. 35. 23. 23. 15. 33. 35. 29. 15.\n",
      " 36. 28. 28. 14. 23. 35. 28. 28. 23. 28. 18. 23. 27. 28. 14. 18. 19. 28.\n",
      " 16. 35. 16. 28. 14. 23. 18. 28. 28. 35. 16. 43. 26. 18. 34. 28. 14. 28.\n",
      " 21. 19. 28. 23. 16. 14. 28. 15. 19. 28. 14. 23. 24. 21. 26. 28. 22. 28.\n",
      " 28. 35. 23. 28. 23. 28. 19. 28. 28. 22. 19. 22. 30. 28. 19. 23. 28. 26.\n",
      " 14. 14. 23. 15. 19. 35. 16. 28. 16. 32. 23. 21. 14. 33. 28. 19. 23. 21.\n",
      " 35. 28. 23. 14. 14. 28. 19. 35. 28. 28. 35. 18. 14. 34. 14. 30. 28. 35.\n",
      " 19. 19. 28. 18. 14. 31. 14. 35. 28. 35. 19. 27. 32. 22. 28. 28. 23. 19.\n",
      " 28. 26. 19. 14. 34. 28. 28. 28. 35. 21. 28. 33. 35. 35. 28. 28. 14. 35.\n",
      " 26. 31. 18. 24. 23. 28. 35. 28. 23. 28. 35. 15. 23. 28. 20. 30.  9. 32.\n",
      " 43. 34. 16. 18. 43. 28. 19. 14. 30. 14. 16. 16. 16. 30. 33. 16. 28. 22.\n",
      " 28. 35. 28. 35. 35. 19. 18. 19. 28. 28. 23. 28. 35. 28. 26. 28. 28. 28.\n",
      " 28. 33. 19. 15. 18. 28. 35. 26. 15. 35. 18. 28. 28. 19. 35. 27. 28. 34.\n",
      " 23. 35. 28. 28. 23. 32. 19. 19. 28. 16. 23. 35. 23. 28. 21. 28. 28. 23.\n",
      " 19. 30. 35. 28. 35. 14. 28. 28. 28. 28. 21. 34. 28. 33. 14. 28. 28. 28.\n",
      " 35. 31. 28. 28. 28. 23. 26. 28. 23. 28. 19. 28. 23. 28. 14. 19. 23. 23.\n",
      " 34. 35. 23. 28. 19. 23. 34. 18. 34. 35. 15. 28. 28. 28. 19. 23. 15. 31.\n",
      " 28. 18. 39. 19. 34. 16. 23. 26. 23. 28. 21. 22. 28. 23. 28. 23. 28. 28.\n",
      " 16. 19. 35. 23. 35. 16. 28. 31. 26. 23. 28. 21. 28. 16. 19. 35. 23. 28.\n",
      " 39. 28. 18. 28. 27. 18. 19. 28. 34. 36. 21. 35. 28. 19. 34. 28. 43. 19.\n",
      " 19. 35. 23. 28. 23. 28. 23. 15. 28. 28. 21. 19. 14. 16. 23. 28. 28. 29.\n",
      " 35. 35. 34. 15. 33. 19. 21. 23. 19. 19. 26. 19. 14. 35. 14. 28. 60. 22.\n",
      " 28. 43. 28. 58. 26. 29. 28. 16. 28. 28. 28. 14. 29. 28. 28. 23. 19. 34.\n",
      " 28. 45. 28. 19. 36. 16. 28. 47. 21. 28. 28.]\n",
      "{'Batch': ['G', 'J', 'F', 'C', 'A', 'H', 'K', 'E', 'B', 'D'],\n",
      " 'CDI Semantic Category': ['Question Signs',\n",
      "                           'Outside Things and Places to Go',\n",
      "                           'Helping Verb',\n",
      "                           'People',\n",
      "                           'Body Parts',\n",
      "                           'Pronouns',\n",
      "                           'Descriptive Signs',\n",
      "                           'Games and Routines',\n",
      "                           'Furniture and Rooms',\n",
      "                           'Quantifiers',\n",
      "                           'Food and Drink',\n",
      "                           'Signs About Time',\n",
      "                           'Mental State Terms',\n",
      "                           'Action Signs',\n",
      "                           'Vehicles',\n",
      "                           'Prepositions and Locations',\n",
      "                           'Small Household Items',\n",
      "                           'Toys',\n",
      "                           'Animals',\n",
      "                           'Connecting Signs',\n",
      "                           'Clothing'],\n",
      " 'ClipDuration(ms)': {'max': 3737, 'min': 701},\n",
      " 'Compound.2.0': {'max': 1, 'min': 0},\n",
      " 'Contact.2.0': {'max': 1, 'min': 0},\n",
      " 'Contact.2.0Frequency': {'max': 1, 'min': 0},\n",
      " 'ContactM2.2.0': {'max': 1, 'min': 0},\n",
      " 'ContactM3.2.0': {'max': 1, 'min': 0},\n",
      " 'ContactM4.2.0': {'max': 1, 'min': 0},\n",
      " 'ContactM5.2.0': {},\n",
      " 'ContactM6.2.0': {},\n",
      " 'D.Iconicity(M) all': {'max': 7, 'min': 1},\n",
      " 'D.Iconicity(M) native': {'max': 7, 'min': 1},\n",
      " 'D.Iconicity(N) all': {'max': 31, 'min': 26},\n",
      " 'D.Iconicity(N) native': {'max': 22, 'min': 18},\n",
      " 'D.Iconicity(SD) all': {'max': 3, 'min': 0},\n",
      " 'D.Iconicity(SD) native': {'max': 3, 'min': 0},\n",
      " 'D.Iconicity(Z) all': {'max': 3, 'min': -2},\n",
      " 'D.Iconicity(Z) native': {'max': 3, 'min': -2},\n",
      " 'FingerspelledLoanSign.2.0': {'max': 1, 'min': 0},\n",
      " 'Flexion.2.0': ['Bent',\n",
      "                 'Flat',\n",
      "                 'Stacked',\n",
      "                 'FullyClosed',\n",
      "                 'Curved',\n",
      "                 'Crossed',\n",
      "                 'FullyOpen'],\n",
      " 'Flexion.2.0Frequency': {'max': 1, 'min': 0},\n",
      " 'FlexionChange.2.0': {'max': 1, 'min': 0},\n",
      " 'FlexionChange.2.0Frequency': {'max': 1, 'min': 0},\n",
      " 'FlexionChangeM2.2.0': {'max': 1, 'min': 0},\n",
      " 'FlexionChangeM3.2.0': {'max': 1, 'min': 0},\n",
      " 'FlexionChangeM4.2.0': {'max': 0, 'min': 0},\n",
      " 'FlexionChangeM5.2.0': {},\n",
      " 'FlexionChangeM6.2.0': {},\n",
      " 'FlexionM2.2.0': ['Bent',\n",
      "                   'Flat',\n",
      "                   'Stacked',\n",
      "                   'FullyClosed',\n",
      "                   'Curved',\n",
      "                   'FullyOpen'],\n",
      " 'FlexionM3.2.0': ['Bent',\n",
      "                   'Flat',\n",
      "                   'FullyClosed',\n",
      "                   'Curved',\n",
      "                   'Crossed',\n",
      "                   'FullyOpen'],\n",
      " 'FlexionM4.2.0': ['Curved', 'Bent', 'FullyOpen', 'Stacked'],\n",
      " 'FlexionM5.2.0': ['Curved', 'Bent', 'FullyOpen'],\n",
      " 'FlexionM6.2.0': ['Crossed'],\n",
      " 'GuessAccuracy': {'max': 1, 'min': 0},\n",
      " 'H statistic': {'max': 3, 'min': 0},\n",
      " 'Handshape.2.0': ['ily',\n",
      "                   'v',\n",
      "                   'flat_v',\n",
      "                   'd',\n",
      "                   'open_8',\n",
      "                   'flat_b',\n",
      "                   'bent_l',\n",
      "                   'p',\n",
      "                   '3',\n",
      "                   'o',\n",
      "                   '5',\n",
      "                   'flatspread_5',\n",
      "                   'goody_goody',\n",
      "                   'e',\n",
      "                   'l',\n",
      "                   'open_f',\n",
      "                   'stacked_5',\n",
      "                   'curved_4',\n",
      "                   'closed_e',\n",
      "                   'flat_ily',\n",
      "                   'i',\n",
      "                   '8',\n",
      "                   'curved_v',\n",
      "                   'k',\n",
      "                   'spread_e',\n",
      "                   '1',\n",
      "                   'curved_l',\n",
      "                   'flat_4',\n",
      "                   'curved_1',\n",
      "                   'horns',\n",
      "                   'open_b',\n",
      "                   'closed_b',\n",
      "                   'h',\n",
      "                   's',\n",
      "                   'flat_h',\n",
      "                   't',\n",
      "                   'flat_m',\n",
      "                   'spread_open_e',\n",
      "                   'open_e',\n",
      "                   '7',\n",
      "                   'flat_1',\n",
      "                   'w',\n",
      "                   'flat_o',\n",
      "                   'open_h',\n",
      "                   'curved_h',\n",
      "                   'curved_5',\n",
      "                   '4',\n",
      "                   'bent_1',\n",
      "                   'a',\n",
      "                   'f',\n",
      "                   'bent_v',\n",
      "                   'g',\n",
      "                   'baby_o',\n",
      "                   'flat_n',\n",
      "                   'y',\n",
      "                   'r',\n",
      "                   'flat_horns',\n",
      "                   'c'],\n",
      " 'HandshapeM2.2.0': ['v',\n",
      "                     'flat_v',\n",
      "                     'open_8',\n",
      "                     'p',\n",
      "                     'flat_b',\n",
      "                     '3',\n",
      "                     'o',\n",
      "                     '5',\n",
      "                     'flatspread_5',\n",
      "                     'e',\n",
      "                     'l',\n",
      "                     'stacked_5',\n",
      "                     'i',\n",
      "                     '8',\n",
      "                     'curved_v',\n",
      "                     '1',\n",
      "                     'curved_l',\n",
      "                     'flat_4',\n",
      "                     'horns',\n",
      "                     'curved_1',\n",
      "                     'open_b',\n",
      "                     'closed_b',\n",
      "                     'h',\n",
      "                     's',\n",
      "                     'flat_h',\n",
      "                     'w',\n",
      "                     'flat_o',\n",
      "                     'open_h',\n",
      "                     'curved_5',\n",
      "                     'bent_1',\n",
      "                     'a',\n",
      "                     'f',\n",
      "                     'bent_v',\n",
      "                     'g',\n",
      "                     'baby_o',\n",
      "                     'y',\n",
      "                     'bent_l',\n",
      "                     'c'],\n",
      " 'HandshapeM3.2.0': ['v',\n",
      "                     'flat_b',\n",
      "                     'o',\n",
      "                     '5',\n",
      "                     'e',\n",
      "                     'l',\n",
      "                     'curved_v',\n",
      "                     '1',\n",
      "                     'flat_4',\n",
      "                     'open_b',\n",
      "                     'closed_b',\n",
      "                     's',\n",
      "                     'n',\n",
      "                     'a',\n",
      "                     'f',\n",
      "                     'baby_o',\n",
      "                     'y',\n",
      "                     'r',\n",
      "                     'c'],\n",
      " 'HandshapeM4.2.0': ['i', 'p', 'bent_1', 'a', 'baby_o', '5', 'c'],\n",
      " 'HandshapeM5.2.0': ['curved_v', 'e', 'l'],\n",
      " 'HandshapeM6.2.0': ['r'],\n",
      " 'Iconicity(M)': {'max': 7, 'min': 1},\n",
      " 'Iconicity(N)': {'max': 140, 'min': 4},\n",
      " 'Iconicity(SD)': {'max': 3, 'min': 0},\n",
      " 'Iconicity(Z)': {'max': 3, 'min': -2},\n",
      " 'IconicityType': ['Both', 'Arbitrary', 'Perceptual', 'Pantomimic'],\n",
      " 'InCDI': ['No', 'Yes'],\n",
      " 'Initialized.2.0': {'max': 1, 'min': 0},\n",
      " 'Item': {'max': 110, 'min': 1},\n",
      " 'LexicalClass': ['Number',\n",
      "                  'Minor',\n",
      "                  'Adjective',\n",
      "                  'Name',\n",
      "                  'Adverb',\n",
      "                  'Noun',\n",
      "                  'Verb'],\n",
      " 'List': {'max': 3, 'min': 1},\n",
      " 'MajorLocation.2.0': ['Other', 'Body', 'Neutral', 'Head', 'Hand', 'Arm'],\n",
      " 'MajorLocation.2.0Frequency': {'max': 1, 'min': 0},\n",
      " 'MajorLocationM2.2.0': ['Body', 'Neutral', 'Head', 'Hand', 'Arm'],\n",
      " 'MajorLocationM3.2.0': ['Hand', 'Head', 'Neutral', 'Body'],\n",
      " 'MajorLocationM4.2.0': ['Hand', 'Body', 'Head'],\n",
      " 'MajorLocationM5.2.0': {},\n",
      " 'MajorLocationM6.2.0': {},\n",
      " 'MinorLocation.2.0': ['Palm',\n",
      "                       'Chin',\n",
      "                       'ArmAway',\n",
      "                       'PalmBack',\n",
      "                       'TorsoBottom',\n",
      "                       'ForearmUlnar',\n",
      "                       'Clavicle',\n",
      "                       'FingerUlnar',\n",
      "                       'WristBack',\n",
      "                       'Neck',\n",
      "                       'FingerTip',\n",
      "                       'Other',\n",
      "                       'Neutral',\n",
      "                       'HeadAway',\n",
      "                       'BodyAway',\n",
      "                       'Eye',\n",
      "                       'ForearmFront',\n",
      "                       'CheekNose',\n",
      "                       'Shoulder',\n",
      "                       'FingerBack',\n",
      "                       'ElbowBack',\n",
      "                       'Forehead',\n",
      "                       'FingerFront',\n",
      "                       'UnderChin',\n",
      "                       'Mouth',\n",
      "                       'TorsoMid',\n",
      "                       'HandAway',\n",
      "                       'Waist',\n",
      "                       'UpperLip',\n",
      "                       'UpperArm',\n",
      "                       'WristFront',\n",
      "                       'FingerRadial',\n",
      "                       'TorsoTop',\n",
      "                       'Heel',\n",
      "                       'ForearmBack',\n",
      "                       'Hips',\n",
      "                       'HeadTop'],\n",
      " 'MinorLocation.2.0Frequency': {'max': 1, 'min': 0},\n",
      " 'MinorLocationM2.2.0': ['Palm',\n",
      "                         'PalmBack',\n",
      "                         'Clavicle',\n",
      "                         'FingerUlnar',\n",
      "                         'FingerTip',\n",
      "                         'Other',\n",
      "                         'ElbowFront',\n",
      "                         'Neutral',\n",
      "                         'HeadAway',\n",
      "                         'BodyAway',\n",
      "                         'CheekNose',\n",
      "                         'FingerBack',\n",
      "                         'Forehead',\n",
      "                         'FingerFront',\n",
      "                         'UnderChin',\n",
      "                         'Mouth',\n",
      "                         'TorsoMid',\n",
      "                         'HandAway',\n",
      "                         'FingerRadial',\n",
      "                         'TorsoTop',\n",
      "                         'ForearmBack',\n",
      "                         'Hips'],\n",
      " 'MinorLocationM3.2.0': ['Palm',\n",
      "                         'Forehead',\n",
      "                         'FingerRadial',\n",
      "                         'Neutral',\n",
      "                         'TorsoTop',\n",
      "                         'HeadAway',\n",
      "                         'Clavicle',\n",
      "                         'Hips'],\n",
      " 'MinorLocationM4.2.0': ['HeadAway', 'FingerRadial', 'TorsoTop'],\n",
      " 'MinorLocationM5.2.0': {},\n",
      " 'MinorLocationM6.2.0': {},\n",
      " 'Movement.2.0': ['None',\n",
      "                  'Other',\n",
      "                  'Z-shaped',\n",
      "                  'BackAndForth',\n",
      "                  'Circular',\n",
      "                  'Curved',\n",
      "                  'Straight',\n",
      "                  'X-shaped'],\n",
      " 'Movement.2.0Frequency': {'max': 1, 'min': 0},\n",
      " 'MovementM2.2.0': ['None',\n",
      "                    'Other',\n",
      "                    'BackAndForth',\n",
      "                    'Circular',\n",
      "                    'Curved',\n",
      "                    'Straight'],\n",
      " 'MovementM3.2.0': ['None', 'Other', 'Straight', 'Circular'],\n",
      " 'MovementM4.2.0': ['None', 'Straight'],\n",
      " 'MovementM5.2.0': {},\n",
      " 'MovementM6.2.0': {},\n",
      " 'Neighborhood Density 2.0': {'max': 50, 'min': 0},\n",
      " 'NonDominantHandshape.2.0': ['ily',\n",
      "                              'v',\n",
      "                              'flat_v',\n",
      "                              'd',\n",
      "                              'open_8',\n",
      "                              'flat_b',\n",
      "                              'p',\n",
      "                              '3',\n",
      "                              'o',\n",
      "                              '5',\n",
      "                              'flatspread_5',\n",
      "                              'e',\n",
      "                              'l',\n",
      "                              'open_f',\n",
      "                              'stacked_5',\n",
      "                              'curved_4',\n",
      "                              'curved_v',\n",
      "                              '8',\n",
      "                              'i',\n",
      "                              '1',\n",
      "                              'curved_l',\n",
      "                              'S',\n",
      "                              'flat_4',\n",
      "                              'horns',\n",
      "                              'curved_1',\n",
      "                              'B',\n",
      "                              'open_b',\n",
      "                              'closed_b',\n",
      "                              'h',\n",
      "                              's',\n",
      "                              'flat_h',\n",
      "                              'C',\n",
      "                              'A',\n",
      "                              'r',\n",
      "                              'DominanceViolation',\n",
      "                              'flat_m',\n",
      "                              'spread_open_e',\n",
      "                              'open_e',\n",
      "                              'Lax',\n",
      "                              'flat_1',\n",
      "                              'w',\n",
      "                              'flat_o',\n",
      "                              'open_h',\n",
      "                              'curved_5',\n",
      "                              '4',\n",
      "                              'bent_1',\n",
      "                              'a',\n",
      "                              'f',\n",
      "                              'bent_v',\n",
      "                              'g',\n",
      "                              'baby_o',\n",
      "                              'flat_horns',\n",
      "                              'y',\n",
      "                              'SymmetryViolation',\n",
      "                              'bent_l',\n",
      "                              'O',\n",
      "                              'c'],\n",
      " 'NonDominantHandshapeM2.2.0': ['open_8',\n",
      "                                'p',\n",
      "                                'flat_b',\n",
      "                                'o',\n",
      "                                '5',\n",
      "                                'flatspread_5',\n",
      "                                'l',\n",
      "                                'i',\n",
      "                                '1',\n",
      "                                'curved_l',\n",
      "                                'S',\n",
      "                                'flat_4',\n",
      "                                'horns',\n",
      "                                'curved_1',\n",
      "                                'B',\n",
      "                                'open_b',\n",
      "                                'closed_b',\n",
      "                                'h',\n",
      "                                's',\n",
      "                                'C',\n",
      "                                'A',\n",
      "                                'flat_o',\n",
      "                                'curved_5',\n",
      "                                'bent_1',\n",
      "                                'a',\n",
      "                                'f',\n",
      "                                'baby_o',\n",
      "                                'bent_l',\n",
      "                                'O',\n",
      "                                'c'],\n",
      " 'NonDominantHandshapeM3.2.0': ['flat_b', 'B', 'baby_o', '5', 'l', 'open_b'],\n",
      " 'NonDominantHandshapeM4.2.0': {'max': 5, 'min': 5},\n",
      " 'NonDominantHandshapeM5.2.0': {},\n",
      " 'NonDominantHandshapeM6.2.0': {},\n",
      " 'NumberOfMorphemes.2.0': {'max': 6, 'min': 1},\n",
      " 'Parameter.Neighborhood.Density.2.0': {'max': 563, 'min': 1},\n",
      " 'PercentGlossAgreement': {'max': 1, 'min': 0},\n",
      " 'PercentGlossAgreement(Native)': {'max': 1, 'min': 0},\n",
      " 'PercentGlossAgreement(Nonnative)': {'max': 1, 'min': 0},\n",
      " 'PercentUnknown': {'max': 1, 'min': 0},\n",
      " 'PercentUnknown(Native)': {'max': 1, 'min': 0},\n",
      " 'PercentUnknown(Nonnative)': {'max': 1, 'min': 0},\n",
      " 'Phonological Complexity': {'max': 6, 'min': 0},\n",
      " 'PhonotacticProbability': {'max': 1, 'min': -2},\n",
      " 'RepeatedMovement.2.0': {'max': 1, 'min': 0},\n",
      " 'RepeatedMovement.2.0Frequency': {'max': 1, 'min': 0},\n",
      " 'RepeatedMovementM2.2.0': {'max': 1, 'min': 0},\n",
      " 'RepeatedMovementM3.2.0': {'max': 1, 'min': 0},\n",
      " 'RepeatedMovementM4.2.0': {'max': 0, 'min': 0},\n",
      " 'RepeatedMovementM5.2.0': {},\n",
      " 'RepeatedMovementM6.2.0': {},\n",
      " 'SecondMinorLocation.2.0': ['Palm',\n",
      "                             'Chin',\n",
      "                             'ArmAway',\n",
      "                             'PalmBack',\n",
      "                             'TorsoBottom',\n",
      "                             'ForearmUlnar',\n",
      "                             'Clavicle',\n",
      "                             'FingerUlnar',\n",
      "                             'FingerTip',\n",
      "                             'Neck',\n",
      "                             'OtherAway',\n",
      "                             'Other',\n",
      "                             'Neutral',\n",
      "                             'HeadAway',\n",
      "                             'BodyAway',\n",
      "                             'ForearmFront',\n",
      "                             'Eye',\n",
      "                             'CheekNose',\n",
      "                             'ForearmRadial',\n",
      "                             'FingerBack',\n",
      "                             'Shoulder',\n",
      "                             'ElbowBack',\n",
      "                             'Forehead',\n",
      "                             'FingerFront',\n",
      "                             'UnderChin',\n",
      "                             'Mouth',\n",
      "                             'TorsoMid',\n",
      "                             'HandAway',\n",
      "                             'Waist',\n",
      "                             'UpperLip',\n",
      "                             'UpperArm',\n",
      "                             'FingerRadial',\n",
      "                             'TorsoTop',\n",
      "                             'Heel',\n",
      "                             'ForearmBack',\n",
      "                             'Hips',\n",
      "                             'HeadTop'],\n",
      " 'SecondMinorLocation.2.0Frequency': {'max': 1, 'min': 0},\n",
      " 'SecondMinorLocationM2.2.0': ['Palm',\n",
      "                               'Other',\n",
      "                               'FingerFront',\n",
      "                               'FingerRadial',\n",
      "                               'Neutral',\n",
      "                               'TorsoTop',\n",
      "                               'HeadAway',\n",
      "                               'BodyAway',\n",
      "                               'HandAway',\n",
      "                               'TorsoBottom',\n",
      "                               'Waist',\n",
      "                               'Away',\n",
      "                               'FingerBack'],\n",
      " 'SecondMinorLocationM3.2.0': ['HandAway', 'Forehead', 'Neutral', 'TorsoTop'],\n",
      " 'SecondMinorLocationM4.2.0': ['HandAway'],\n",
      " 'SecondMinorLocationM5.2.0': {},\n",
      " 'SecondMinorLocationM6.2.0': {},\n",
      " 'SelectedFingers.2.0': ['i',\n",
      "                         'm',\n",
      "                         'p',\n",
      "                         'imp',\n",
      "                         'mrp',\n",
      "                         't',\n",
      "                         'imr',\n",
      "                         'imrp',\n",
      "                         'mr',\n",
      "                         'im',\n",
      "                         'r',\n",
      "                         'ip'],\n",
      " 'SelectedFingers.2.0Frequency': {'max': 1, 'min': 0},\n",
      " 'SelectedFingersM2.2.0': ['i', 'm', 'p', 't', 'imrp', 'im', 'ip'],\n",
      " 'SelectedFingersM3.2.0': ['i', 'p', 't', 'imrp', 'im'],\n",
      " 'SelectedFingersM4.2.0': ['i', 'p', 't', 'imrp', 'im'],\n",
      " 'SelectedFingersM5.2.0': ['i', 'im', 'imrp'],\n",
      " 'SelectedFingersM6.2.0': ['im'],\n",
      " 'SignBankReferenceID': {'max': 3370, 'min': 0},\n",
      " 'SignDuration(ms)': {'max': 2603, 'min': 200},\n",
      " 'SignFreq(Z-Nonnative)': {'max': 2, 'min': -3},\n",
      " 'SignFreq(Z-native)': {'max': 2, 'min': -3},\n",
      " 'SignFrequency(M)': {'max': 7, 'min': 1},\n",
      " 'SignFrequency(M-Native)': {'max': 7, 'min': 1},\n",
      " 'SignFrequency(M-Nonnative)': {'max': 7, 'min': 1},\n",
      " 'SignFrequency(N)': {'max': 35, 'min': 15},\n",
      " 'SignFrequency(N-Native)': {'max': 18, 'min': 7},\n",
      " 'SignFrequency(N-Nonnative)': {'max': 20, 'min': 10},\n",
      " 'SignFrequency(SD)': {'max': 3, 'min': 0},\n",
      " 'SignFrequency(SD-Native)': {'max': 3, 'min': 0},\n",
      " 'SignFrequency(SD-Nonnative)': {'max': 3, 'min': 0},\n",
      " 'SignFrequency(Z)': {'max': 2, 'min': -3},\n",
      " 'SignOffset(ms)': {'max': 3103, 'min': 534},\n",
      " 'SignOnset(ms)': {'max': 1668, 'min': 67},\n",
      " 'SignType.2.0': ['OneHanded',\n",
      "                  'AsymmetricalDifferentHandshape',\n",
      "                  'SymmetricalOrAlternating',\n",
      "                  'DominanceViolation',\n",
      "                  'SymmetryViolation',\n",
      "                  'AsymmetricalSameHandshape'],\n",
      " 'SignType.2.0Frequency': {'max': 1, 'min': 0},\n",
      " 'SignTypeM2.2.0': ['SymmetricalOrAlternating',\n",
      "                    'OneHanded',\n",
      "                    'AsymmetricalSameHandshape',\n",
      "                    'AsymmetricalDifferentHandshape'],\n",
      " 'SignTypeM3.2.0': ['SymmetricalOrAlternating',\n",
      "                    'OneHanded',\n",
      "                    'AsymmetricalSameHandshape',\n",
      "                    'AsymmetricalDifferentHandshape'],\n",
      " 'SignTypeM4.2.0': ['SymmetricalOrAlternating',\n",
      "                    'OneHanded',\n",
      "                    'AsymmetricalSameHandshape'],\n",
      " 'SignTypeM5.2.0': {},\n",
      " 'SignTypeM6.2.0': {},\n",
      " 'Spread.2.0': {'max': 1, 'min': 0},\n",
      " 'Spread.2.0Frequency': {'max': 1, 'min': 0},\n",
      " 'SpreadChange.2.0': {'max': 1, 'min': 0},\n",
      " 'SpreadChange.2.0Frequency': {'max': 1, 'min': 0},\n",
      " 'SpreadChangeM2.2.0': {'max': 1, 'min': 0},\n",
      " 'SpreadChangeM3.2.0': {'max': 0, 'min': 0},\n",
      " 'SpreadChangeM4.2.0': {'max': 0, 'min': 0},\n",
      " 'SpreadChangeM5.2.0': {},\n",
      " 'SpreadChangeM6.2.0': {},\n",
      " 'SpreadM2.2.0': {'max': 1, 'min': 0},\n",
      " 'SpreadM3.2.0': {'max': 1, 'min': 0},\n",
      " 'SpreadM4.2.0': {'max': 1, 'min': 0},\n",
      " 'SpreadM5.2.0': {'max': 0, 'min': 0},\n",
      " 'SpreadM6.2.0': {'max': 0, 'min': 0},\n",
      " 'SubtLexUSLog10WF': {'max': 7, 'min': 0},\n",
      " 'ThumbContact.2.0': {'max': 1, 'min': 0},\n",
      " 'ThumbContact.2.0Frequency': {'max': 1, 'min': 0},\n",
      " 'ThumbContactM2.2.0': {'max': 1, 'min': 0},\n",
      " 'ThumbContactM3.2.0': {'max': 1, 'min': 0},\n",
      " 'ThumbContactM4.2.0': {'max': 1, 'min': 0},\n",
      " 'ThumbContactM5.2.0': {'max': 1, 'min': 0},\n",
      " 'ThumbContactM6.2.0': {'max': 0, 'min': 0},\n",
      " 'ThumbPosition.2.0': ['Open', 'Closed'],\n",
      " 'ThumbPosition.2.0Frequency': {'max': 1, 'min': 0},\n",
      " 'ThumbPositionM2.2.0': ['Open', 'Closed'],\n",
      " 'ThumbPositionM3.2.0': ['Open', 'Closed'],\n",
      " 'ThumbPositionM4.2.0': ['Open', 'Closed'],\n",
      " 'ThumbPositionM5.2.0': ['Open', 'Closed'],\n",
      " 'ThumbPositionM6.2.0': ['Open', 'Closed'],\n",
      " 'Transparency SD': {'max': 3, 'min': 0},\n",
      " 'Transparency Z': {'max': 3, 'min': -2},\n",
      " 'Transparency(M)': {'max': 7, 'min': 1},\n",
      " 'UlnarRotation.2.0': {'max': 1, 'min': 0},\n",
      " 'UlnarRotation.2.0Frequency': {'max': 1, 'min': 0},\n",
      " 'UlnarRotationM2.2.0': {'max': 1, 'min': 0},\n",
      " 'UlnarRotationM3.2.0': {'max': 0, 'min': 0},\n",
      " 'UlnarRotationM4.2.0': {},\n",
      " 'UlnarRotationM5.2.0': {},\n",
      " 'UlnarRotationM6.2.0': {},\n",
      " 'bglm_aoa': {'max': 67, 'min': 14},\n",
      " 'empirical_aoa': {'max': 60, 'min': 9}}\n"
     ]
    }
   ],
   "source": [
    "import math \n",
    "import pprint\n",
    "\n",
    "constraints = {}\n",
    "for attr in categorical_attr:\n",
    "    if attr not in ['EntryID', 'LemmaID', 'Code', 'Iconicity_ID']:\n",
    "        columnsData = no_morphemes_df.loc[ : , attr ].dropna()\n",
    "        values_set = set(columnsData.values)\n",
    "        constraints[attr] = [*values_set, ]\n",
    "        \n",
    "for attr in numerical_attr:    \n",
    "    #drop nan values \n",
    "    columnsData = no_morphemes_df.loc[ : , attr ].dropna()\n",
    "    print(columnsData.values)\n",
    "    constraints[attr] = {}  \n",
    "    #print(math.floor(min(list(columnsData))), math.ceil(max(list(columnsData))), attr)\n",
    "    if len(columnsData.values) > 0:\n",
    "        constraints[attr]['min'] = math.floor(min(columnsData.values))\n",
    "        constraints[attr]['max'] = math.ceil(max(columnsData.values))\n",
    "\n",
    "pprint.pprint(constraints)"
   ]
  },
  {
   "cell_type": "code",
   "execution_count": 61,
   "metadata": {},
   "outputs": [
    {
     "data": {
      "text/plain": [
       "Index(['EntryID', 'LemmaID', 'Code', 'Batch', 'List', 'Item', 'YouTube Video',\n",
       "       'VimeoVideoHTML', 'VimeoVideo', 'SubtLexUSLog10WF',\n",
       "       ...\n",
       "       'Phonological Complexity', 'PhonotacticProbability',\n",
       "       'Parameter.Neighborhood.Density.2.0', 'Neighborhood Density 2.0',\n",
       "       'SignBankAnnotationID', 'SignBankEnglishTranslations',\n",
       "       'SignBankLemmaID', 'SignBankReferenceID', 'bglm_aoa', 'empirical_aoa'],\n",
       "      dtype='object', length=186)"
      ]
     },
     "execution_count": 61,
     "metadata": {},
     "output_type": "execute_result"
    }
   ],
   "source": [
    "no_morphemes_df.columns"
   ]
  },
  {
   "cell_type": "code",
   "execution_count": 62,
   "metadata": {},
   "outputs": [
    {
     "data": {
      "text/plain": [
       "{'EntryID': '1_dollar',\n",
       " 'Code': 'C_02_025',\n",
       " 'group_id': 1000.0,\n",
       " 'color_code': '#bd4a66',\n",
       " 'SignFrequency(Z)': -0.728}"
      ]
     },
     "execution_count": 62,
     "metadata": {},
     "output_type": "execute_result"
    }
   ],
   "source": [
    "nodes_json_str = df_node_graph_json_data.to_json(orient=\"records\")\n",
    "nodes_json = json.loads(nodes_json_str)\n",
    "nodes_json[0]\n"
   ]
  },
  {
   "cell_type": "code",
   "execution_count": 63,
   "metadata": {},
   "outputs": [],
   "source": [
    "# write all the data frames to respective json files\n",
    "\n",
    "graph = {\n",
    "    \"nodes\" : nodes_json,\n",
    "    \"links\": edges_json\n",
    "}\n",
    "\n",
    "with open(\"../data/generated-data/graph.json\", 'w') as file:\n",
    "    json.dump(graph, file)\n",
    "    \n",
    "    \n",
    "with open('../data/generated-data/constraints.json', 'w') as fp:\n",
    "    json.dump(constraints, fp)\n",
    "    \n",
    "no_morphemes_df.reset_index().to_json('../data/generated-data/sign_props.json', orient='records')\n"
   ]
  },
  {
   "cell_type": "code",
   "execution_count": 64,
   "metadata": {},
   "outputs": [
    {
     "data": {
      "image/png": "[encoded data removed]",
      "text/plain": [
       "<Figure size 2160x2160 with 1 Axes>"
      ]
     },
     "metadata": {},
     "output_type": "display_data"
    }
   ],
   "source": [
    "#drawing only nodes with edges\n",
    "fig = plt.figure()\n",
    "fig.set_figheight(30)\n",
    "fig.set_figwidth(30)\n",
    "size = float(len(set(partition.values())))\n",
    "pos = nx.spring_layout(G)\n",
    "count = 0.\n",
    "for com in set(partition.values()) :\n",
    "    count = count + 1.\n",
    "    list_nodes = [nodes for nodes in partition.keys()\n",
    "                                if partition[nodes] == com]\n",
    "    nx.draw_networkx_nodes(G, pos, list_nodes, node_size = 20,\n",
    "                                node_color = randomcolor.RandomColor().generate()[0])\n",
    "\n",
    "\n",
    "nx.draw_networkx_edges(G, pos, alpha=0.5)\n",
    "plt.show()"
   ]
  },
  {
   "cell_type": "code",
   "execution_count": 42,
   "metadata": {},
   "outputs": [
    {
     "data": {
      "text/plain": [
       "{'island': '#816139',\n",
       " '0': '#273900',\n",
       " '130': '#f644de',\n",
       " '169': '#4a6838',\n",
       " '117': '#6deeff',\n",
       " '242': '#fd77a8',\n",
       " '128': '#8064fa',\n",
       " '52': '#dcc06b',\n",
       " '199': '#82f9ac',\n",
       " '125': '#d90903',\n",
       " '167': '#dbeba1',\n",
       " '41': '#477dd9',\n",
       " '87': '#a4dbc4',\n",
       " '168': '#b761d7',\n",
       " '60': '#43adc0',\n",
       " '2': '#227623',\n",
       " '12': '#9febf9',\n",
       " '177': '#f2e13c',\n",
       " '256': '#55d03d',\n",
       " '103': '#94289c',\n",
       " '86': '#d568dd',\n",
       " '127': '#8ffbb7',\n",
       " '10': '#eb50dd',\n",
       " '4': '#bf010d',\n",
       " '9': '#8e6ccd',\n",
       " '64': '#e8a718',\n",
       " '178': '#5bd30e',\n",
       " '17': '#4c8b06',\n",
       " '77': '#cc5c11',\n",
       " '197': '#bc4876',\n",
       " '55': '#45c594',\n",
       " '146': '#a3711f',\n",
       " '139': '#b099e8',\n",
       " '97': '#dc78d5',\n",
       " '89': '#60697e',\n",
       " '101': '#8b849c',\n",
       " '92': '#733884',\n",
       " '13': '#158b55',\n",
       " '24': '#fdaebe',\n",
       " '180': '#2a22e5',\n",
       " '141': '#17ab6c',\n",
       " '81': '#ceb7e1',\n",
       " '154': '#305af2',\n",
       " '59': '#991650',\n",
       " '38': '#ad0a36',\n",
       " '171': '#d34fe7',\n",
       " '29': '#dbe0b6',\n",
       " '21': '#494f77',\n",
       " '1': '#9c8543',\n",
       " '45': '#32d439',\n",
       " '51': '#02b3b5',\n",
       " '193': '#a25999',\n",
       " '100': '#8eea3e',\n",
       " '152': '#bf343c',\n",
       " '82': '#4be180',\n",
       " '121': '#034a4c',\n",
       " '196': '#b7b231',\n",
       " '232': '#afc186',\n",
       " '94': '#690bc7',\n",
       " '33': '#a3214a',\n",
       " '251': '#51bd8f',\n",
       " '109': '#b1d60b',\n",
       " '120': '#34b91f',\n",
       " '69': '#422222',\n",
       " '115': '#5318f1',\n",
       " '215': '#302b44',\n",
       " '216': '#6e80ad',\n",
       " '188': '#7a3cbd',\n",
       " '259': '#139751',\n",
       " '36': '#1d957a',\n",
       " '147': '#2890b1',\n",
       " '88': '#79227f',\n",
       " '27': '#bb6d13',\n",
       " '274': '#2bcb82',\n",
       " '44': '#8232be',\n",
       " '99': '#50f181',\n",
       " '250': '#f58dc6',\n",
       " '198': '#245bed',\n",
       " '95': '#1b4fb8',\n",
       " '16': '#9b92af',\n",
       " '240': '#8ead11',\n",
       " '49': '#bae796',\n",
       " '156': '#ee7671',\n",
       " '144': '#8f81c3',\n",
       " '65': '#de8ef7',\n",
       " '228': '#51e14f',\n",
       " '22': '#a59155',\n",
       " '165': '#4b6faa',\n",
       " '214': '#ec689d',\n",
       " '28': '#50b0da',\n",
       " '85': '#7c2f0e',\n",
       " '66': '#8191e7',\n",
       " '110': '#77f186',\n",
       " '131': '#c31679',\n",
       " '32': '#56f388',\n",
       " '56': '#a66f4f',\n",
       " '18': '#d7c25a',\n",
       " '5': '#abf507',\n",
       " '272': '#3234e1',\n",
       " '11': '#9c7198',\n",
       " '90': '#c3e16b',\n",
       " '19': '#986b64',\n",
       " '15': '#77cf8f',\n",
       " '126': '#97462c',\n",
       " '72': '#1ced00',\n",
       " '163': '#ecebc4',\n",
       " '8': '#568fd5',\n",
       " '134': '#ee8e6c',\n",
       " '23': '#699392',\n",
       " '68': '#e5da9b',\n",
       " '3': '#a7b825',\n",
       " '223': '#f7a78c',\n",
       " '40': '#4bec8a',\n",
       " '179': '#2629ae',\n",
       " '217': '#3568b0',\n",
       " '210': '#7b7d34',\n",
       " '47': '#fc2e9b',\n",
       " '207': '#1f81f0',\n",
       " '150': '#f364e2',\n",
       " '191': '#0318ab',\n",
       " '20': '#e74a28',\n",
       " '123': '#ffd7fe',\n",
       " '267': '#27f7a2',\n",
       " '208': '#e70f1c',\n",
       " '37': '#39bb93',\n",
       " '189': '#8a424c',\n",
       " '175': '#9d6bba',\n",
       " '70': '#748e8b',\n",
       " '157': '#090a37',\n",
       " '118': '#ac8c3a',\n",
       " '183': '#4d2849',\n",
       " '238': '#333574',\n",
       " '213': '#d15746',\n",
       " '212': '#4d2b21',\n",
       " '113': '#74d6ff',\n",
       " '260': '#d0a997',\n",
       " '124': '#9e60e1',\n",
       " '42': '#7a3b1b',\n",
       " '268': '#56d81a',\n",
       " '235': '#4282f0',\n",
       " '71': '#9cb83c',\n",
       " '155': '#bb95e5',\n",
       " '7': '#e87287',\n",
       " '151': '#e24651',\n",
       " '132': '#554c58',\n",
       " '43': '#9decae',\n",
       " '248': '#19c419',\n",
       " '46': '#59817b',\n",
       " '255': '#dc3447',\n",
       " '79': '#b51edd',\n",
       " '30': '#096a21',\n",
       " '231': '#e53c4b',\n",
       " '50': '#ac2fc1',\n",
       " '241': '#6d08fd',\n",
       " '34': '#efcd89',\n",
       " '229': '#f70089',\n",
       " '119': '#670558',\n",
       " '176': '#122471',\n",
       " '149': '#4928ff',\n",
       " '76': '#16c06d',\n",
       " '202': '#105482',\n",
       " '112': '#09af6b',\n",
       " '205': '#c5b494',\n",
       " '143': '#583b20',\n",
       " '122': '#b15f7d',\n",
       " '237': '#fa66f1',\n",
       " '185': '#34975c',\n",
       " '263': '#d75fa9',\n",
       " '78': '#3e00ad',\n",
       " '243': '#068a2d',\n",
       " '261': '#433e41',\n",
       " '257': '#0d7a91',\n",
       " '226': '#f7126a',\n",
       " '62': '#07e43a',\n",
       " '148': '#9cf054',\n",
       " '164': '#40c55e',\n",
       " '158': '#25da6f',\n",
       " '105': '#f402a9',\n",
       " '269': '#06050a',\n",
       " '225': '#a39659',\n",
       " '209': '#c2f0fe',\n",
       " '201': '#5891e8',\n",
       " '98': '#e28e42',\n",
       " '173': '#f05fe2',\n",
       " '181': '#5d5432',\n",
       " '211': '#0bae9e',\n",
       " '222': '#11850d',\n",
       " '116': '#4a155d',\n",
       " '206': '#651acb',\n",
       " '54': '#b6b0a8',\n",
       " '142': '#475c5a',\n",
       " '172': '#fa243e',\n",
       " '265': '#64924b',\n",
       " '252': '#6f3e37',\n",
       " '53': '#339538',\n",
       " '234': '#cb7c88',\n",
       " '26': '#b55390',\n",
       " '166': '#4e14b1',\n",
       " '224': '#1561c4',\n",
       " '273': '#0f020e',\n",
       " '219': '#6c6f1d',\n",
       " '39': '#0cb604',\n",
       " '162': '#6c176c',\n",
       " '136': '#24459a',\n",
       " '73': '#b3bdf5',\n",
       " '244': '#a07575',\n",
       " '220': '#55cfc9',\n",
       " '102': '#7d547a',\n",
       " '236': '#d1505f',\n",
       " '227': '#f4811c',\n",
       " '133': '#e06e7b',\n",
       " '246': '#8a35ce',\n",
       " '63': '#7d61ee',\n",
       " '192': '#0f3d72',\n",
       " '140': '#cbde1a',\n",
       " '247': '#9ecde9',\n",
       " '153': '#054f18',\n",
       " '184': '#d7f133',\n",
       " '200': '#a22478',\n",
       " '74': '#fddcc1',\n",
       " '48': '#a0b9f9',\n",
       " '35': '#1d6f04',\n",
       " '182': '#8afac5',\n",
       " '160': '#041268',\n",
       " '159': '#6f5538',\n",
       " '161': '#443aa0',\n",
       " '194': '#25760a',\n",
       " '93': '#d20ebd',\n",
       " '107': '#bbf3f9',\n",
       " '245': '#c172cd',\n",
       " '270': '#d9b9c6',\n",
       " '83': '#e5c175',\n",
       " '111': '#bdc36b',\n",
       " '190': '#2b3b5d',\n",
       " '84': '#36e361',\n",
       " '249': '#aaa624',\n",
       " '96': '#638370',\n",
       " '25': '#36d192',\n",
       " '271': '#e22083',\n",
       " '104': '#d5f275',\n",
       " '258': '#bcc46b',\n",
       " '174': '#5f3b64',\n",
       " '80': '#6ca810',\n",
       " '204': '#41c160',\n",
       " '262': '#77b0a0',\n",
       " '31': '#f60dce',\n",
       " '170': '#cb8ef2',\n",
       " '14': '#15c0b0',\n",
       " '57': '#1df186',\n",
       " '91': '#ccfbbc',\n",
       " '108': '#419225',\n",
       " '253': '#1d0cc5',\n",
       " '58': '#d39d9a',\n",
       " '135': '#16dea4',\n",
       " '75': '#76d8ec',\n",
       " '264': '#807324',\n",
       " '230': '#8e3e51',\n",
       " '239': '#ce68d4',\n",
       " '221': '#f5d82f',\n",
       " '187': '#c65536',\n",
       " '233': '#21aa64',\n",
       " '254': '#9a0ecc',\n",
       " '129': '#29fe2b',\n",
       " '186': '#9b85fa',\n",
       " '137': '#a93650',\n",
       " '218': '#a95d9a',\n",
       " '145': '#0aabd4',\n",
       " '114': '#f3c40a',\n",
       " '195': '#9ec1d4',\n",
       " '61': '#c3f1db',\n",
       " '203': '#fd820a',\n",
       " '6': '#51c8f5',\n",
       " '138': '#410330',\n",
       " '67': '#e2a3a4',\n",
       " '106': '#deda03',\n",
       " '266': '#96bf8a'}"
      ]
     },
     "execution_count": 42,
     "metadata": {},
     "output_type": "execute_result"
    }
   ],
   "source": [
    "## Code to change color in json\n",
    "color_dictionary\n"
   ]
  },
  {
   "cell_type": "code",
   "execution_count": 68,
   "metadata": {
    "scrolled": true
   },
   "outputs": [],
   "source": [
    "###Only if you need to edit the graph json files\n",
    "\n",
    "# def filter_dict(d, filter_string):\n",
    "# #     print(filter_string)\n",
    "#     for key, val in d.items():\n",
    "#         if filter_string != key:\n",
    "#             continue\n",
    "#         return key, val\n",
    "\n",
    "# with open('../../visualization/data/graph.json') as graph_json_file:\n",
    "#     data = json.load(graph_json_file)\n",
    "#     for node in data['nodes']:\n",
    "#         if(node['group_id'] == \"\"):\n",
    "#             node['group_id']= \"island\"    \n",
    "# #             print(node)\n",
    "    \n",
    "#     for node in data['nodes']:\n",
    "#         key,val = filter_dict(color_dictionary, str(node['group_id']))\n",
    "#         node['color_code'] = val\n",
    "#         print(node)\n"
   ]
  },
  {
   "cell_type": "code",
   "execution_count": 69,
   "metadata": {},
   "outputs": [],
   "source": [
    "#Resave as JSON\n",
    "\n",
    "# graph = {\n",
    "#     \"nodes\" : data['nodes'],\n",
    "#     \"links\": data['links']\n",
    "# }\n",
    "\n",
    "# with open(\"../generated-data/graph.json\", 'w') as file:\n",
    "#     json.dump(graph, file)"
   ]
  },
  {
   "cell_type": "code",
   "execution_count": 1,
   "metadata": {},
   "outputs": [],
   "source": [
    "import pandas as pd"
   ]
  },
  {
   "cell_type": "code",
   "execution_count": 3,
   "metadata": {},
   "outputs": [],
   "source": [
    "signs_latest_csv = pd.read_csv('../signdata-07-08-2020.csv')"
   ]
  },
  {
   "cell_type": "code",
   "execution_count": 9,
   "metadata": {},
   "outputs": [
    {
     "data": {
      "text/plain": [
       "2.166"
      ]
     },
     "execution_count": 9,
     "metadata": {},
     "output_type": "execute_result"
    }
   ],
   "source": [
    "signs_latest_csv['Iconicity(Z)'].max()"
   ]
  },
  {
   "cell_type": "code",
   "execution_count": null,
   "metadata": {},
   "outputs": [],
   "source": []
  }
 ],
 "metadata": {
  "kernelspec": {
   "display_name": "Python 3",
   "language": "python",
   "name": "python3"
  },
  "language_info": {
   "codemirror_mode": {
    "name": "ipython",
    "version": 3
   },
   "file_extension": ".py",
   "mimetype": "text/x-python",
   "name": "python",
   "nbconvert_exporter": "python",
   "pygments_lexer": "ipython3",
   "version": "3.7.3"
  }
 },
 "nbformat": 4,
 "nbformat_minor": 2
}
