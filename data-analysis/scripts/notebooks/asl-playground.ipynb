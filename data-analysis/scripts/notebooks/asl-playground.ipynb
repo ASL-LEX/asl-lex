{
 "cells": [
  {
   "cell_type": "markdown",
   "metadata": {},
   "source": [
    "## This notebook assumes you have the following packages installed in your conda environment."
   ]
  },
  {
   "cell_type": "code",
   "execution_count": 1,
   "metadata": {},
   "outputs": [],
   "source": [
    "import pandas as pd\n",
    "import json\n",
    "import community\n",
    "import networkx as nx\n",
    "import matplotlib.pyplot as plt\n",
    "import pandas as pd\n",
    "import random\n",
    "import numpy as np\n",
    "import randomcolor"
   ]
  },
  {
   "cell_type": "code",
   "execution_count": 2,
   "metadata": {},
   "outputs": [
    {
     "data": {
      "text/html": [
       "<div>\n",
       "<style scoped>\n",
       "    .dataframe tbody tr th:only-of-type {\n",
       "        vertical-align: middle;\n",
       "    }\n",
       "\n",
       "    .dataframe tbody tr th {\n",
       "        vertical-align: top;\n",
       "    }\n",
       "\n",
       "    .dataframe thead th {\n",
       "        text-align: right;\n",
       "    }\n",
       "</style>\n",
       "<table border=\"1\" class=\"dataframe\">\n",
       "  <thead>\n",
       "    <tr style=\"text-align: right;\">\n",
       "      <th></th>\n",
       "      <th>EntryID</th>\n",
       "      <th>LemmaID</th>\n",
       "      <th>Code</th>\n",
       "      <th>Batch</th>\n",
       "      <th>List</th>\n",
       "      <th>Item</th>\n",
       "      <th>EnglishWF(lg10)</th>\n",
       "      <th>SignFrequency(M)</th>\n",
       "      <th>SignFrequency(SD)</th>\n",
       "      <th>SignFrequency(Z)</th>\n",
       "      <th>...</th>\n",
       "      <th>SignBankLemmaID</th>\n",
       "      <th>SignBankSemanticField</th>\n",
       "      <th>SignBankReferenceID</th>\n",
       "      <th>InCDI</th>\n",
       "      <th>CDISemanticCategory</th>\n",
       "      <th>bglm_aoa</th>\n",
       "      <th>empirical_aoa</th>\n",
       "      <th>YouTube Video</th>\n",
       "      <th>VimeoVideo</th>\n",
       "      <th>VimeoVideoHTML</th>\n",
       "    </tr>\n",
       "  </thead>\n",
       "  <tbody>\n",
       "    <tr>\n",
       "      <th>0</th>\n",
       "      <td>tree</td>\n",
       "      <td>tree</td>\n",
       "      <td>A_01_002</td>\n",
       "      <td>A</td>\n",
       "      <td>1</td>\n",
       "      <td>2</td>\n",
       "      <td>3.521</td>\n",
       "      <td>5.143</td>\n",
       "      <td>2.081</td>\n",
       "      <td>0.621</td>\n",
       "      <td>...</td>\n",
       "      <td>TREE</td>\n",
       "      <td>None</td>\n",
       "      <td>342.0</td>\n",
       "      <td>Yes</td>\n",
       "      <td>Outside Things and Places to Go</td>\n",
       "      <td>22.0</td>\n",
       "      <td>14.0</td>\n",
       "      <td>&lt;iframe width=\"280\" height=\"158\" src=\"https://...</td>\n",
       "      <td>https://player.vimeo.com/video/344216264</td>\n",
       "      <td>&lt;iframe src=https://player.vimeo.com/video/344...</td>\n",
       "    </tr>\n",
       "    <tr>\n",
       "      <th>1</th>\n",
       "      <td>night</td>\n",
       "      <td>night</td>\n",
       "      <td>A_01_003</td>\n",
       "      <td>A</td>\n",
       "      <td>1</td>\n",
       "      <td>3</td>\n",
       "      <td>4.645</td>\n",
       "      <td>6.032</td>\n",
       "      <td>1.516</td>\n",
       "      <td>1.068</td>\n",
       "      <td>...</td>\n",
       "      <td>NIGHT</td>\n",
       "      <td>None</td>\n",
       "      <td>199.0</td>\n",
       "      <td>Yes</td>\n",
       "      <td>Signs About Time</td>\n",
       "      <td>31.0</td>\n",
       "      <td>18.0</td>\n",
       "      <td>&lt;iframe width=\"280\" height=\"158\" src=\"https://...</td>\n",
       "      <td>https://player.vimeo.com/video/344216312</td>\n",
       "      <td>&lt;iframe src=https://player.vimeo.com/video/344...</td>\n",
       "    </tr>\n",
       "    <tr>\n",
       "      <th>2</th>\n",
       "      <td>hamburger</td>\n",
       "      <td>hamburger</td>\n",
       "      <td>A_01_004</td>\n",
       "      <td>A</td>\n",
       "      <td>1</td>\n",
       "      <td>4</td>\n",
       "      <td>2.600</td>\n",
       "      <td>4.429</td>\n",
       "      <td>1.720</td>\n",
       "      <td>0.232</td>\n",
       "      <td>...</td>\n",
       "      <td>HAMBURGER</td>\n",
       "      <td>None</td>\n",
       "      <td>1844.0</td>\n",
       "      <td>Yes</td>\n",
       "      <td>Food and Drink</td>\n",
       "      <td>32.0</td>\n",
       "      <td>28.0</td>\n",
       "      <td>&lt;iframe width=\"280\" height=\"158\" src=\"https://...</td>\n",
       "      <td>https://player.vimeo.com/video/344216345</td>\n",
       "      <td>&lt;iframe src=https://player.vimeo.com/video/344...</td>\n",
       "    </tr>\n",
       "    <tr>\n",
       "      <th>3</th>\n",
       "      <td>nephew</td>\n",
       "      <td>nephew</td>\n",
       "      <td>A_01_005</td>\n",
       "      <td>A</td>\n",
       "      <td>1</td>\n",
       "      <td>5</td>\n",
       "      <td>2.928</td>\n",
       "      <td>2.621</td>\n",
       "      <td>1.720</td>\n",
       "      <td>-0.753</td>\n",
       "      <td>...</td>\n",
       "      <td>NEPHEW</td>\n",
       "      <td>People</td>\n",
       "      <td>3011.0</td>\n",
       "      <td>No</td>\n",
       "      <td>NaN</td>\n",
       "      <td>NaN</td>\n",
       "      <td>NaN</td>\n",
       "      <td>&lt;iframe width=\"280\" height=\"158\" src=\"https://...</td>\n",
       "      <td>https://player.vimeo.com/video/344216367</td>\n",
       "      <td>&lt;iframe src=https://player.vimeo.com/video/344...</td>\n",
       "    </tr>\n",
       "    <tr>\n",
       "      <th>4</th>\n",
       "      <td>castle</td>\n",
       "      <td>castle</td>\n",
       "      <td>A_01_008</td>\n",
       "      <td>A</td>\n",
       "      <td>1</td>\n",
       "      <td>8</td>\n",
       "      <td>3.041</td>\n",
       "      <td>1.579</td>\n",
       "      <td>0.838</td>\n",
       "      <td>-1.198</td>\n",
       "      <td>...</td>\n",
       "      <td>CASTLE</td>\n",
       "      <td>None</td>\n",
       "      <td>2471.0</td>\n",
       "      <td>No</td>\n",
       "      <td>Action Signs</td>\n",
       "      <td>NaN</td>\n",
       "      <td>NaN</td>\n",
       "      <td>&lt;iframe width=\"280\" height=\"158\" src=\"https://...</td>\n",
       "      <td>https://player.vimeo.com/video/344216403</td>\n",
       "      <td>&lt;iframe src=https://player.vimeo.com/video/344...</td>\n",
       "    </tr>\n",
       "  </tbody>\n",
       "</table>\n",
       "<p>5 rows × 188 columns</p>\n",
       "</div>"
      ],
      "text/plain": [
       "     EntryID    LemmaID      Code Batch  List  Item  EnglishWF(lg10)  \\\n",
       "0       tree       tree  A_01_002     A     1     2            3.521   \n",
       "1      night      night  A_01_003     A     1     3            4.645   \n",
       "2  hamburger  hamburger  A_01_004     A     1     4            2.600   \n",
       "3     nephew     nephew  A_01_005     A     1     5            2.928   \n",
       "4     castle     castle  A_01_008     A     1     8            3.041   \n",
       "\n",
       "   SignFrequency(M)  SignFrequency(SD)  SignFrequency(Z)  ...  \\\n",
       "0             5.143              2.081             0.621  ...   \n",
       "1             6.032              1.516             1.068  ...   \n",
       "2             4.429              1.720             0.232  ...   \n",
       "3             2.621              1.720            -0.753  ...   \n",
       "4             1.579              0.838            -1.198  ...   \n",
       "\n",
       "   SignBankLemmaID  SignBankSemanticField  SignBankReferenceID  InCDI  \\\n",
       "0             TREE                   None                342.0    Yes   \n",
       "1            NIGHT                   None                199.0    Yes   \n",
       "2        HAMBURGER                   None               1844.0    Yes   \n",
       "3           NEPHEW                 People               3011.0     No   \n",
       "4           CASTLE                   None               2471.0     No   \n",
       "\n",
       "               CDISemanticCategory  bglm_aoa  empirical_aoa  \\\n",
       "0  Outside Things and Places to Go      22.0           14.0   \n",
       "1                 Signs About Time      31.0           18.0   \n",
       "2                   Food and Drink      32.0           28.0   \n",
       "3                              NaN       NaN            NaN   \n",
       "4                     Action Signs       NaN            NaN   \n",
       "\n",
       "                                       YouTube Video  \\\n",
       "0  <iframe width=\"280\" height=\"158\" src=\"https://...   \n",
       "1  <iframe width=\"280\" height=\"158\" src=\"https://...   \n",
       "2  <iframe width=\"280\" height=\"158\" src=\"https://...   \n",
       "3  <iframe width=\"280\" height=\"158\" src=\"https://...   \n",
       "4  <iframe width=\"280\" height=\"158\" src=\"https://...   \n",
       "\n",
       "                                 VimeoVideo  \\\n",
       "0  https://player.vimeo.com/video/344216264   \n",
       "1  https://player.vimeo.com/video/344216312   \n",
       "2  https://player.vimeo.com/video/344216345   \n",
       "3  https://player.vimeo.com/video/344216367   \n",
       "4  https://player.vimeo.com/video/344216403   \n",
       "\n",
       "                                      VimeoVideoHTML  \n",
       "0  <iframe src=https://player.vimeo.com/video/344...  \n",
       "1  <iframe src=https://player.vimeo.com/video/344...  \n",
       "2  <iframe src=https://player.vimeo.com/video/344...  \n",
       "3  <iframe src=https://player.vimeo.com/video/344...  \n",
       "4  <iframe src=https://player.vimeo.com/video/344...  \n",
       "\n",
       "[5 rows x 188 columns]"
      ]
     },
     "execution_count": 2,
     "metadata": {},
     "output_type": "execute_result"
    }
   ],
   "source": [
    "df_default = pd.read_csv('../data/signdata_updated11-18.csv', encoding='latin-1')\n",
    "df_default.shape\n",
    "df_old = pd.read_csv('../data/signdata-11-5-20.csv')\n",
    "df_old_subset = df_old[['Code','YouTube Video', 'VimeoVideo', 'VimeoVideoHTML']].copy()\n",
    "df_default = df_default.merge(df_old_subset, on='Code', how='left')\n",
    "df_default.head()"
   ]
  },
  {
   "cell_type": "code",
   "execution_count": 3,
   "metadata": {},
   "outputs": [],
   "source": [
    "handshapeImages = pd.read_csv('../data/HandshapeImages.csv')\n",
    "for index,imageURL in enumerate(handshapeImages['HandshapeImage']):\n",
    "    newURL = imageURL[:5] + \"width=\\\"100\\\" height=\\\"100\\\" \" + imageURL[5:]\n",
    "    handshapeImages.loc[index,'HandshapeImage'] = newURL\n",
    "handshapeImages = handshapeImages[['Code','HandshapeImage']]"
   ]
  },
  {
   "cell_type": "code",
   "execution_count": 4,
   "metadata": {},
   "outputs": [],
   "source": [
    "df_default = df_default.merge(handshapeImages, on='Code', how='left')"
   ]
  },
  {
   "cell_type": "code",
   "execution_count": 5,
   "metadata": {},
   "outputs": [],
   "source": [
    "urlDict = {}\n",
    "for index,imageURL in enumerate(df_default['HandshapeImage']):\n",
    "    if df_default.loc[index,'Handshape.2.0'] in urlDict:\n",
    "        continue\n",
    "    else:\n",
    "        urlDict[df_default.loc[index,'Handshape.2.0']] = imageURL"
   ]
  },
  {
   "cell_type": "code",
   "execution_count": 6,
   "metadata": {},
   "outputs": [],
   "source": [
    "with open('../data/generated-data/groupedURLs.json', 'w') as fp:\n",
    "    json.dump(urlDict, fp)"
   ]
  },
  {
   "cell_type": "code",
   "execution_count": 7,
   "metadata": {},
   "outputs": [],
   "source": [
    "df_subset = df_default[['EntryID', 'LemmaID','Code','YouTube Video', 'VimeoVideo', 'Phonological Complexity']]"
   ]
  },
  {
   "cell_type": "code",
   "execution_count": 8,
   "metadata": {},
   "outputs": [],
   "source": [
    "df_subset.to_csv('signdata_with_urls.csv')"
   ]
  },
  {
   "cell_type": "code",
   "execution_count": 9,
   "metadata": {},
   "outputs": [
    {
     "data": {
      "text/plain": [
       "2723"
      ]
     },
     "execution_count": 9,
     "metadata": {},
     "output_type": "execute_result"
    }
   ],
   "source": [
    "len(df_default[\"Code\"].values)"
   ]
  },
  {
   "cell_type": "markdown",
   "metadata": {},
   "source": [
    "## Community Analysis"
   ]
  },
  {
   "cell_type": "code",
   "execution_count": 10,
   "metadata": {
    "scrolled": true
   },
   "outputs": [
    {
     "data": {
      "text/html": [
       "<div>\n",
       "<style scoped>\n",
       "    .dataframe tbody tr th:only-of-type {\n",
       "        vertical-align: middle;\n",
       "    }\n",
       "\n",
       "    .dataframe tbody tr th {\n",
       "        vertical-align: top;\n",
       "    }\n",
       "\n",
       "    .dataframe thead th {\n",
       "        text-align: right;\n",
       "    }\n",
       "</style>\n",
       "<table border=\"1\" class=\"dataframe\">\n",
       "  <thead>\n",
       "    <tr style=\"text-align: right;\">\n",
       "      <th></th>\n",
       "      <th>target</th>\n",
       "      <th>source</th>\n",
       "      <th>num_matched_features</th>\n",
       "      <th>matched_features</th>\n",
       "      <th>num_missed_features</th>\n",
       "      <th>missed_features</th>\n",
       "    </tr>\n",
       "  </thead>\n",
       "  <tbody>\n",
       "    <tr>\n",
       "      <th>0</th>\n",
       "      <td>A_01_002</td>\n",
       "      <td>B_01_062</td>\n",
       "      <td>12</td>\n",
       "      <td>SignType.2.0, MinorLocation.2.0, Movement.2.0,...</td>\n",
       "      <td>1</td>\n",
       "      <td>RepeatedMovement.2.0</td>\n",
       "    </tr>\n",
       "    <tr>\n",
       "      <th>1</th>\n",
       "      <td>A_01_002</td>\n",
       "      <td>C_03_023</td>\n",
       "      <td>12</td>\n",
       "      <td>SignType.2.0, MinorLocation.2.0, Movement.2.0,...</td>\n",
       "      <td>1</td>\n",
       "      <td>Flexion.2.0</td>\n",
       "    </tr>\n",
       "    <tr>\n",
       "      <th>2</th>\n",
       "      <td>A_01_002</td>\n",
       "      <td>G_01_038</td>\n",
       "      <td>12</td>\n",
       "      <td>SignType.2.0, MinorLocation.2.0, Contact.2.0, ...</td>\n",
       "      <td>1</td>\n",
       "      <td>Movement.2.0</td>\n",
       "    </tr>\n",
       "    <tr>\n",
       "      <th>3</th>\n",
       "      <td>A_01_002</td>\n",
       "      <td>J_03_046</td>\n",
       "      <td>12</td>\n",
       "      <td>SignType.2.0, MinorLocation.2.0, Movement.2.0,...</td>\n",
       "      <td>1</td>\n",
       "      <td>RepeatedMovement.2.0</td>\n",
       "    </tr>\n",
       "    <tr>\n",
       "      <th>4</th>\n",
       "      <td>A_01_003</td>\n",
       "      <td>D_02_047</td>\n",
       "      <td>14</td>\n",
       "      <td>SignType.2.0, MinorLocation.2.0, Movement.2.0,...</td>\n",
       "      <td>0</td>\n",
       "      <td>NaN</td>\n",
       "    </tr>\n",
       "  </tbody>\n",
       "</table>\n",
       "</div>"
      ],
      "text/plain": [
       "     target    source  num_matched_features  \\\n",
       "0  A_01_002  B_01_062                    12   \n",
       "1  A_01_002  C_03_023                    12   \n",
       "2  A_01_002  G_01_038                    12   \n",
       "3  A_01_002  J_03_046                    12   \n",
       "4  A_01_003  D_02_047                    14   \n",
       "\n",
       "                                    matched_features  num_missed_features  \\\n",
       "0  SignType.2.0, MinorLocation.2.0, Movement.2.0,...                    1   \n",
       "1  SignType.2.0, MinorLocation.2.0, Movement.2.0,...                    1   \n",
       "2  SignType.2.0, MinorLocation.2.0, Contact.2.0, ...                    1   \n",
       "3  SignType.2.0, MinorLocation.2.0, Movement.2.0,...                    1   \n",
       "4  SignType.2.0, MinorLocation.2.0, Movement.2.0,...                    0   \n",
       "\n",
       "        missed_features  \n",
       "0  RepeatedMovement.2.0  \n",
       "1           Flexion.2.0  \n",
       "2          Movement.2.0  \n",
       "3  RepeatedMovement.2.0  \n",
       "4                   NaN  "
      ]
     },
     "execution_count": 10,
     "metadata": {},
     "output_type": "execute_result"
    }
   ],
   "source": [
    "edges_df = pd.read_csv('../data/generated-data/default-neighbors.csv') \n",
    "edges_df = edges_df.rename(columns={\"neighbor\": \"source\"})\n",
    "edges_df.head()\n"
   ]
  },
  {
   "cell_type": "code",
   "execution_count": 11,
   "metadata": {},
   "outputs": [
    {
     "data": {
      "text/plain": [
       "(13556, 6)"
      ]
     },
     "execution_count": 11,
     "metadata": {},
     "output_type": "execute_result"
    }
   ],
   "source": [
    "edges_df.shape"
   ]
  },
  {
   "cell_type": "code",
   "execution_count": 12,
   "metadata": {},
   "outputs": [
    {
     "data": {
      "image/png": "[encoded data removed]",
      "text/plain": [
       "<Figure size 432x288 with 1 Axes>"
      ]
     },
     "metadata": {},
     "output_type": "display_data"
    }
   ],
   "source": [
    "g = nx.from_pandas_edgelist(edges_df, source='source', target='target') \n",
    "nx.draw(g)"
   ]
  },
  {
   "cell_type": "code",
   "execution_count": 13,
   "metadata": {},
   "outputs": [],
   "source": [
    "#first compute the best partition\n",
    "# from community import greedy_modularity_communities\n",
    "import community\n",
    "\n",
    "G = g\n",
    "\n",
    "#Two methods for community analysis\n",
    "# c = greedy_modularity_communities(G)\n",
    "partition = community.best_partition(G)"
   ]
  },
  {
   "cell_type": "code",
   "execution_count": 14,
   "metadata": {},
   "outputs": [
    {
     "data": {
      "image/png": "[encoded data removed]",
      "text/plain": [
       "<Figure size 432x288 with 1 Axes>"
      ]
     },
     "metadata": {},
     "output_type": "display_data"
    }
   ],
   "source": [
    "values = [partition.get(node) for node in G.nodes()]\n",
    "\n",
    "nx.draw_spring(G, cmap = plt.get_cmap('jet'), node_color = values, node_size=60, with_labels=False)"
   ]
  },
  {
   "cell_type": "code",
   "execution_count": 15,
   "metadata": {},
   "outputs": [],
   "source": [
    "# num_nodes = 0\n",
    "# for community in c:\n",
    "#     num_nodes += len(community)\n",
    "# print(num_nodes)"
   ]
  },
  {
   "cell_type": "code",
   "execution_count": 16,
   "metadata": {},
   "outputs": [
    {
     "data": {
      "text/plain": [
       "2068"
      ]
     },
     "execution_count": 16,
     "metadata": {},
     "output_type": "execute_result"
    }
   ],
   "source": [
    "len(partition)"
   ]
  },
  {
   "cell_type": "code",
   "execution_count": 17,
   "metadata": {},
   "outputs": [
    {
     "name": "stdout",
     "output_type": "stream",
     "text": [
      "2068\n"
     ]
    },
    {
     "data": {
      "text/html": [
       "<div>\n",
       "<style scoped>\n",
       "    .dataframe tbody tr th:only-of-type {\n",
       "        vertical-align: middle;\n",
       "    }\n",
       "\n",
       "    .dataframe tbody tr th {\n",
       "        vertical-align: top;\n",
       "    }\n",
       "\n",
       "    .dataframe thead th {\n",
       "        text-align: right;\n",
       "    }\n",
       "</style>\n",
       "<table border=\"1\" class=\"dataframe\">\n",
       "  <thead>\n",
       "    <tr style=\"text-align: right;\">\n",
       "      <th></th>\n",
       "      <th>Code</th>\n",
       "      <th>group_id</th>\n",
       "    </tr>\n",
       "  </thead>\n",
       "  <tbody>\n",
       "    <tr>\n",
       "      <th>0</th>\n",
       "      <td>B_01_062</td>\n",
       "      <td>0</td>\n",
       "    </tr>\n",
       "    <tr>\n",
       "      <th>1</th>\n",
       "      <td>A_01_002</td>\n",
       "      <td>0</td>\n",
       "    </tr>\n",
       "    <tr>\n",
       "      <th>2</th>\n",
       "      <td>C_03_023</td>\n",
       "      <td>0</td>\n",
       "    </tr>\n",
       "    <tr>\n",
       "      <th>3</th>\n",
       "      <td>G_01_038</td>\n",
       "      <td>0</td>\n",
       "    </tr>\n",
       "    <tr>\n",
       "      <th>4</th>\n",
       "      <td>J_03_046</td>\n",
       "      <td>0</td>\n",
       "    </tr>\n",
       "  </tbody>\n",
       "</table>\n",
       "</div>"
      ],
      "text/plain": [
       "       Code  group_id\n",
       "0  B_01_062         0\n",
       "1  A_01_002         0\n",
       "2  C_03_023         0\n",
       "3  G_01_038         0\n",
       "4  J_03_046         0"
      ]
     },
     "execution_count": 17,
     "metadata": {},
     "output_type": "execute_result"
    }
   ],
   "source": [
    "#Noes only connected by edges. Does not include standalone nodes.\n",
    "\n",
    "list = partition.items()\n",
    "print(len(list))\n",
    "df_with_groupids = pd.DataFrame(list, columns=['Code', 'group_id'])\n",
    "df_with_groupids.head()"
   ]
  },
  {
   "cell_type": "code",
   "execution_count": 18,
   "metadata": {},
   "outputs": [
    {
     "name": "stdout",
     "output_type": "stream",
     "text": [
      "2068\n",
      "(13556, 6)\n",
      "(13556, 6)\n"
     ]
    },
    {
     "data": {
      "text/html": [
       "<div>\n",
       "<style scoped>\n",
       "    .dataframe tbody tr th:only-of-type {\n",
       "        vertical-align: middle;\n",
       "    }\n",
       "\n",
       "    .dataframe tbody tr th {\n",
       "        vertical-align: top;\n",
       "    }\n",
       "\n",
       "    .dataframe thead th {\n",
       "        text-align: right;\n",
       "    }\n",
       "</style>\n",
       "<table border=\"1\" class=\"dataframe\">\n",
       "  <thead>\n",
       "    <tr style=\"text-align: right;\">\n",
       "      <th></th>\n",
       "      <th>target</th>\n",
       "      <th>source</th>\n",
       "      <th>num_matched_features</th>\n",
       "      <th>matched_features</th>\n",
       "      <th>num_missed_features</th>\n",
       "      <th>missed_features</th>\n",
       "    </tr>\n",
       "  </thead>\n",
       "  <tbody>\n",
       "    <tr>\n",
       "      <th>0</th>\n",
       "      <td>A_01_002</td>\n",
       "      <td>B_01_062</td>\n",
       "      <td>12</td>\n",
       "      <td>SignType.2.0, MinorLocation.2.0, Movement.2.0,...</td>\n",
       "      <td>1</td>\n",
       "      <td>RepeatedMovement.2.0</td>\n",
       "    </tr>\n",
       "    <tr>\n",
       "      <th>1</th>\n",
       "      <td>A_01_002</td>\n",
       "      <td>C_03_023</td>\n",
       "      <td>12</td>\n",
       "      <td>SignType.2.0, MinorLocation.2.0, Movement.2.0,...</td>\n",
       "      <td>1</td>\n",
       "      <td>Flexion.2.0</td>\n",
       "    </tr>\n",
       "    <tr>\n",
       "      <th>2</th>\n",
       "      <td>A_01_002</td>\n",
       "      <td>G_01_038</td>\n",
       "      <td>12</td>\n",
       "      <td>SignType.2.0, MinorLocation.2.0, Contact.2.0, ...</td>\n",
       "      <td>1</td>\n",
       "      <td>Movement.2.0</td>\n",
       "    </tr>\n",
       "    <tr>\n",
       "      <th>3</th>\n",
       "      <td>A_01_002</td>\n",
       "      <td>J_03_046</td>\n",
       "      <td>12</td>\n",
       "      <td>SignType.2.0, MinorLocation.2.0, Movement.2.0,...</td>\n",
       "      <td>1</td>\n",
       "      <td>RepeatedMovement.2.0</td>\n",
       "    </tr>\n",
       "    <tr>\n",
       "      <th>4</th>\n",
       "      <td>A_01_003</td>\n",
       "      <td>D_02_047</td>\n",
       "      <td>14</td>\n",
       "      <td>SignType.2.0, MinorLocation.2.0, Movement.2.0,...</td>\n",
       "      <td>0</td>\n",
       "      <td>NaN</td>\n",
       "    </tr>\n",
       "  </tbody>\n",
       "</table>\n",
       "</div>"
      ],
      "text/plain": [
       "     target    source  num_matched_features  \\\n",
       "0  A_01_002  B_01_062                    12   \n",
       "1  A_01_002  C_03_023                    12   \n",
       "2  A_01_002  G_01_038                    12   \n",
       "3  A_01_002  J_03_046                    12   \n",
       "4  A_01_003  D_02_047                    14   \n",
       "\n",
       "                                    matched_features  num_missed_features  \\\n",
       "0  SignType.2.0, MinorLocation.2.0, Movement.2.0,...                    1   \n",
       "1  SignType.2.0, MinorLocation.2.0, Movement.2.0,...                    1   \n",
       "2  SignType.2.0, MinorLocation.2.0, Contact.2.0, ...                    1   \n",
       "3  SignType.2.0, MinorLocation.2.0, Movement.2.0,...                    1   \n",
       "4  SignType.2.0, MinorLocation.2.0, Movement.2.0,...                    0   \n",
       "\n",
       "        missed_features  \n",
       "0  RepeatedMovement.2.0  \n",
       "1           Flexion.2.0  \n",
       "2          Movement.2.0  \n",
       "3  RepeatedMovement.2.0  \n",
       "4                   NaN  "
      ]
     },
     "execution_count": 18,
     "metadata": {},
     "output_type": "execute_result"
    }
   ],
   "source": [
    "# get edges only where source and target nodes belong to a valid community for now. This is to assign them group ids.\n",
    "nodes_in_communities = df_with_groupids['Code'].unique()\n",
    "edges_for_community_nodes_df = edges_df.loc[edges_df['source'].isin(nodes_in_communities) & edges_df['target'].isin(nodes_in_communities)]\n",
    "print(len(edges_for_community_nodes_df['source'].unique()))\n",
    "print(edges_df.shape)\n",
    "print(edges_for_community_nodes_df.shape)\n",
    "edges_for_community_nodes_df.head()"
   ]
  },
  {
   "cell_type": "code",
   "execution_count": 19,
   "metadata": {
    "scrolled": true
   },
   "outputs": [
    {
     "name": "stdout",
     "output_type": "stream",
     "text": [
      "(2723, 190)\n"
     ]
    },
    {
     "data": {
      "text/html": [
       "<div>\n",
       "<style scoped>\n",
       "    .dataframe tbody tr th:only-of-type {\n",
       "        vertical-align: middle;\n",
       "    }\n",
       "\n",
       "    .dataframe tbody tr th {\n",
       "        vertical-align: top;\n",
       "    }\n",
       "\n",
       "    .dataframe thead th {\n",
       "        text-align: right;\n",
       "    }\n",
       "</style>\n",
       "<table border=\"1\" class=\"dataframe\">\n",
       "  <thead>\n",
       "    <tr style=\"text-align: right;\">\n",
       "      <th></th>\n",
       "      <th>EntryID</th>\n",
       "      <th>LemmaID</th>\n",
       "      <th>Code</th>\n",
       "      <th>Batch</th>\n",
       "      <th>List</th>\n",
       "      <th>Item</th>\n",
       "      <th>EnglishWF(lg10)</th>\n",
       "      <th>SignFrequency(M)</th>\n",
       "      <th>SignFrequency(SD)</th>\n",
       "      <th>SignFrequency(Z)</th>\n",
       "      <th>...</th>\n",
       "      <th>SignBankReferenceID</th>\n",
       "      <th>InCDI</th>\n",
       "      <th>CDISemanticCategory</th>\n",
       "      <th>bglm_aoa</th>\n",
       "      <th>empirical_aoa</th>\n",
       "      <th>YouTube Video</th>\n",
       "      <th>VimeoVideo</th>\n",
       "      <th>VimeoVideoHTML</th>\n",
       "      <th>HandshapeImage</th>\n",
       "      <th>group_id</th>\n",
       "    </tr>\n",
       "  </thead>\n",
       "  <tbody>\n",
       "    <tr>\n",
       "      <th>0</th>\n",
       "      <td>tree</td>\n",
       "      <td>tree</td>\n",
       "      <td>A_01_002</td>\n",
       "      <td>A</td>\n",
       "      <td>1</td>\n",
       "      <td>2</td>\n",
       "      <td>3.521</td>\n",
       "      <td>5.143</td>\n",
       "      <td>2.081</td>\n",
       "      <td>0.621</td>\n",
       "      <td>...</td>\n",
       "      <td>342.0</td>\n",
       "      <td>Yes</td>\n",
       "      <td>Outside Things and Places to Go</td>\n",
       "      <td>22.0</td>\n",
       "      <td>14.0</td>\n",
       "      <td>&lt;iframe width=\"280\" height=\"158\" src=\"https://...</td>\n",
       "      <td>https://player.vimeo.com/video/344216264</td>\n",
       "      <td>&lt;iframe src=https://player.vimeo.com/video/344...</td>\n",
       "      <td>&lt;img width=\"100\" height=\"100\" src=\"https://asl...</td>\n",
       "      <td>0.0</td>\n",
       "    </tr>\n",
       "    <tr>\n",
       "      <th>1</th>\n",
       "      <td>night</td>\n",
       "      <td>night</td>\n",
       "      <td>A_01_003</td>\n",
       "      <td>A</td>\n",
       "      <td>1</td>\n",
       "      <td>3</td>\n",
       "      <td>4.645</td>\n",
       "      <td>6.032</td>\n",
       "      <td>1.516</td>\n",
       "      <td>1.068</td>\n",
       "      <td>...</td>\n",
       "      <td>199.0</td>\n",
       "      <td>Yes</td>\n",
       "      <td>Signs About Time</td>\n",
       "      <td>31.0</td>\n",
       "      <td>18.0</td>\n",
       "      <td>&lt;iframe width=\"280\" height=\"158\" src=\"https://...</td>\n",
       "      <td>https://player.vimeo.com/video/344216312</td>\n",
       "      <td>&lt;iframe src=https://player.vimeo.com/video/344...</td>\n",
       "      <td>&lt;img width=\"100\" height=\"100\" src=\"https://asl...</td>\n",
       "      <td>1.0</td>\n",
       "    </tr>\n",
       "    <tr>\n",
       "      <th>2</th>\n",
       "      <td>hamburger</td>\n",
       "      <td>hamburger</td>\n",
       "      <td>A_01_004</td>\n",
       "      <td>A</td>\n",
       "      <td>1</td>\n",
       "      <td>4</td>\n",
       "      <td>2.600</td>\n",
       "      <td>4.429</td>\n",
       "      <td>1.720</td>\n",
       "      <td>0.232</td>\n",
       "      <td>...</td>\n",
       "      <td>1844.0</td>\n",
       "      <td>Yes</td>\n",
       "      <td>Food and Drink</td>\n",
       "      <td>32.0</td>\n",
       "      <td>28.0</td>\n",
       "      <td>&lt;iframe width=\"280\" height=\"158\" src=\"https://...</td>\n",
       "      <td>https://player.vimeo.com/video/344216345</td>\n",
       "      <td>&lt;iframe src=https://player.vimeo.com/video/344...</td>\n",
       "      <td>&lt;img width=\"100\" height=\"100\" src=\"https://asl...</td>\n",
       "      <td>2.0</td>\n",
       "    </tr>\n",
       "    <tr>\n",
       "      <th>3</th>\n",
       "      <td>nephew</td>\n",
       "      <td>nephew</td>\n",
       "      <td>A_01_005</td>\n",
       "      <td>A</td>\n",
       "      <td>1</td>\n",
       "      <td>5</td>\n",
       "      <td>2.928</td>\n",
       "      <td>2.621</td>\n",
       "      <td>1.720</td>\n",
       "      <td>-0.753</td>\n",
       "      <td>...</td>\n",
       "      <td>3011.0</td>\n",
       "      <td>No</td>\n",
       "      <td>NaN</td>\n",
       "      <td>NaN</td>\n",
       "      <td>NaN</td>\n",
       "      <td>&lt;iframe width=\"280\" height=\"158\" src=\"https://...</td>\n",
       "      <td>https://player.vimeo.com/video/344216367</td>\n",
       "      <td>&lt;iframe src=https://player.vimeo.com/video/344...</td>\n",
       "      <td>&lt;img width=\"100\" height=\"100\" src=\"https://asl...</td>\n",
       "      <td>NaN</td>\n",
       "    </tr>\n",
       "    <tr>\n",
       "      <th>4</th>\n",
       "      <td>castle</td>\n",
       "      <td>castle</td>\n",
       "      <td>A_01_008</td>\n",
       "      <td>A</td>\n",
       "      <td>1</td>\n",
       "      <td>8</td>\n",
       "      <td>3.041</td>\n",
       "      <td>1.579</td>\n",
       "      <td>0.838</td>\n",
       "      <td>-1.198</td>\n",
       "      <td>...</td>\n",
       "      <td>2471.0</td>\n",
       "      <td>No</td>\n",
       "      <td>Action Signs</td>\n",
       "      <td>NaN</td>\n",
       "      <td>NaN</td>\n",
       "      <td>&lt;iframe width=\"280\" height=\"158\" src=\"https://...</td>\n",
       "      <td>https://player.vimeo.com/video/344216403</td>\n",
       "      <td>&lt;iframe src=https://player.vimeo.com/video/344...</td>\n",
       "      <td>&lt;img width=\"100\" height=\"100\" src=\"https://asl...</td>\n",
       "      <td>3.0</td>\n",
       "    </tr>\n",
       "    <tr>\n",
       "      <th>5</th>\n",
       "      <td>humble</td>\n",
       "      <td>humble</td>\n",
       "      <td>A_01_009</td>\n",
       "      <td>A</td>\n",
       "      <td>1</td>\n",
       "      <td>9</td>\n",
       "      <td>2.700</td>\n",
       "      <td>3.200</td>\n",
       "      <td>1.031</td>\n",
       "      <td>-0.418</td>\n",
       "      <td>...</td>\n",
       "      <td>2940.0</td>\n",
       "      <td>No</td>\n",
       "      <td>NaN</td>\n",
       "      <td>NaN</td>\n",
       "      <td>NaN</td>\n",
       "      <td>&lt;iframe width=\"280\" height=\"158\" src=\"https://...</td>\n",
       "      <td>https://player.vimeo.com/video/344216431</td>\n",
       "      <td>&lt;iframe src=https://player.vimeo.com/video/344...</td>\n",
       "      <td>&lt;img width=\"100\" height=\"100\" src=\"https://asl...</td>\n",
       "      <td>4.0</td>\n",
       "    </tr>\n",
       "    <tr>\n",
       "      <th>6</th>\n",
       "      <td>cup</td>\n",
       "      <td>cup</td>\n",
       "      <td>A_01_010</td>\n",
       "      <td>A</td>\n",
       "      <td>1</td>\n",
       "      <td>10</td>\n",
       "      <td>3.421</td>\n",
       "      <td>5.742</td>\n",
       "      <td>1.413</td>\n",
       "      <td>0.909</td>\n",
       "      <td>...</td>\n",
       "      <td>388.0</td>\n",
       "      <td>No</td>\n",
       "      <td>NaN</td>\n",
       "      <td>NaN</td>\n",
       "      <td>NaN</td>\n",
       "      <td>&lt;iframe width=\"280\" height=\"158\" src=\"https://...</td>\n",
       "      <td>https://player.vimeo.com/video/344216455</td>\n",
       "      <td>&lt;iframe src=https://player.vimeo.com/video/344...</td>\n",
       "      <td>&lt;img width=\"100\" height=\"100\" src=\"https://asl...</td>\n",
       "      <td>5.0</td>\n",
       "    </tr>\n",
       "    <tr>\n",
       "      <th>7</th>\n",
       "      <td>english</td>\n",
       "      <td>english</td>\n",
       "      <td>A_01_011</td>\n",
       "      <td>A</td>\n",
       "      <td>1</td>\n",
       "      <td>11</td>\n",
       "      <td>3.577</td>\n",
       "      <td>4.645</td>\n",
       "      <td>1.496</td>\n",
       "      <td>0.326</td>\n",
       "      <td>...</td>\n",
       "      <td>1311.0</td>\n",
       "      <td>No</td>\n",
       "      <td>NaN</td>\n",
       "      <td>NaN</td>\n",
       "      <td>NaN</td>\n",
       "      <td>&lt;iframe width=\"280\" height=\"158\" src=\"https://...</td>\n",
       "      <td>https://player.vimeo.com/video/344216483</td>\n",
       "      <td>&lt;iframe src=https://player.vimeo.com/video/344...</td>\n",
       "      <td>&lt;img width=\"100\" height=\"100\" src=\"https://asl...</td>\n",
       "      <td>NaN</td>\n",
       "    </tr>\n",
       "    <tr>\n",
       "      <th>8</th>\n",
       "      <td>eyeglasses</td>\n",
       "      <td>eyeglasses</td>\n",
       "      <td>A_01_012</td>\n",
       "      <td>A</td>\n",
       "      <td>1</td>\n",
       "      <td>12</td>\n",
       "      <td>1.544</td>\n",
       "      <td>3.905</td>\n",
       "      <td>1.221</td>\n",
       "      <td>0.329</td>\n",
       "      <td>...</td>\n",
       "      <td>468.0</td>\n",
       "      <td>No</td>\n",
       "      <td>NaN</td>\n",
       "      <td>NaN</td>\n",
       "      <td>NaN</td>\n",
       "      <td>&lt;iframe width=\"280\" height=\"158\" src=\"https://...</td>\n",
       "      <td>https://player.vimeo.com/video/344216509</td>\n",
       "      <td>&lt;iframe src=https://player.vimeo.com/video/344...</td>\n",
       "      <td>&lt;img width=\"100\" height=\"100\" src=\"https://asl...</td>\n",
       "      <td>NaN</td>\n",
       "    </tr>\n",
       "    <tr>\n",
       "      <th>9</th>\n",
       "      <td>tie</td>\n",
       "      <td>tie</td>\n",
       "      <td>A_01_013</td>\n",
       "      <td>A</td>\n",
       "      <td>1</td>\n",
       "      <td>13</td>\n",
       "      <td>3.355</td>\n",
       "      <td>2.143</td>\n",
       "      <td>1.195</td>\n",
       "      <td>-0.751</td>\n",
       "      <td>...</td>\n",
       "      <td>3143.0</td>\n",
       "      <td>No</td>\n",
       "      <td>NaN</td>\n",
       "      <td>NaN</td>\n",
       "      <td>NaN</td>\n",
       "      <td>&lt;iframe width=\"280\" height=\"158\" src=\"https://...</td>\n",
       "      <td>https://player.vimeo.com/video/344216543</td>\n",
       "      <td>&lt;iframe src=https://player.vimeo.com/video/344...</td>\n",
       "      <td>&lt;img width=\"100\" height=\"100\" src=\"https://asl...</td>\n",
       "      <td>6.0</td>\n",
       "    </tr>\n",
       "    <tr>\n",
       "      <th>10</th>\n",
       "      <td>dentist</td>\n",
       "      <td>dentist</td>\n",
       "      <td>A_01_014</td>\n",
       "      <td>A</td>\n",
       "      <td>1</td>\n",
       "      <td>14</td>\n",
       "      <td>2.757</td>\n",
       "      <td>2.677</td>\n",
       "      <td>1.400</td>\n",
       "      <td>-0.699</td>\n",
       "      <td>...</td>\n",
       "      <td>2572.0</td>\n",
       "      <td>No</td>\n",
       "      <td>NaN</td>\n",
       "      <td>NaN</td>\n",
       "      <td>NaN</td>\n",
       "      <td>&lt;iframe width=\"280\" height=\"158\" src=\"https://...</td>\n",
       "      <td>https://player.vimeo.com/video/344216569</td>\n",
       "      <td>&lt;iframe src=https://player.vimeo.com/video/344...</td>\n",
       "      <td>&lt;img width=\"100\" height=\"100\" src=\"https://asl...</td>\n",
       "      <td>7.0</td>\n",
       "    </tr>\n",
       "    <tr>\n",
       "      <th>11</th>\n",
       "      <td>sandwich</td>\n",
       "      <td>sandwich</td>\n",
       "      <td>A_01_015</td>\n",
       "      <td>A</td>\n",
       "      <td>1</td>\n",
       "      <td>15</td>\n",
       "      <td>3.049</td>\n",
       "      <td>3.677</td>\n",
       "      <td>1.661</td>\n",
       "      <td>-0.177</td>\n",
       "      <td>...</td>\n",
       "      <td>NaN</td>\n",
       "      <td>Yes</td>\n",
       "      <td>Food and Drink</td>\n",
       "      <td>33.0</td>\n",
       "      <td>28.0</td>\n",
       "      <td>&lt;iframe width=\"280\" height=\"158\" src=\"https://...</td>\n",
       "      <td>https://player.vimeo.com/video/344216588</td>\n",
       "      <td>&lt;iframe src=https://player.vimeo.com/video/344...</td>\n",
       "      <td>&lt;img width=\"100\" height=\"100\" src=\"https://asl...</td>\n",
       "      <td>NaN</td>\n",
       "    </tr>\n",
       "    <tr>\n",
       "      <th>12</th>\n",
       "      <td>monkey</td>\n",
       "      <td>monkey</td>\n",
       "      <td>A_01_016</td>\n",
       "      <td>A</td>\n",
       "      <td>1</td>\n",
       "      <td>16</td>\n",
       "      <td>3.233</td>\n",
       "      <td>2.619</td>\n",
       "      <td>1.936</td>\n",
       "      <td>-0.363</td>\n",
       "      <td>...</td>\n",
       "      <td>369.0</td>\n",
       "      <td>Yes</td>\n",
       "      <td>Animals</td>\n",
       "      <td>27.0</td>\n",
       "      <td>16.0</td>\n",
       "      <td>&lt;iframe width=\"280\" height=\"158\" src=\"https://...</td>\n",
       "      <td>https://player.vimeo.com/video/344216611</td>\n",
       "      <td>&lt;iframe src=https://player.vimeo.com/video/344...</td>\n",
       "      <td>&lt;img width=\"100\" height=\"100\" src=\"https://asl...</td>\n",
       "      <td>NaN</td>\n",
       "    </tr>\n",
       "    <tr>\n",
       "      <th>13</th>\n",
       "      <td>chair</td>\n",
       "      <td>chair</td>\n",
       "      <td>A_01_017</td>\n",
       "      <td>A</td>\n",
       "      <td>1</td>\n",
       "      <td>17</td>\n",
       "      <td>3.400</td>\n",
       "      <td>5.714</td>\n",
       "      <td>1.231</td>\n",
       "      <td>0.858</td>\n",
       "      <td>...</td>\n",
       "      <td>378.0</td>\n",
       "      <td>Yes</td>\n",
       "      <td>Furniture and Rooms</td>\n",
       "      <td>26.0</td>\n",
       "      <td>23.0</td>\n",
       "      <td>&lt;iframe width=\"280\" height=\"158\" src=\"https://...</td>\n",
       "      <td>https://player.vimeo.com/video/344216624</td>\n",
       "      <td>&lt;iframe src=https://player.vimeo.com/video/344...</td>\n",
       "      <td>&lt;img width=\"100\" height=\"100\" src=\"https://asl...</td>\n",
       "      <td>8.0</td>\n",
       "    </tr>\n",
       "    <tr>\n",
       "      <th>14</th>\n",
       "      <td>candy_1</td>\n",
       "      <td>candy_1</td>\n",
       "      <td>A_01_018</td>\n",
       "      <td>A</td>\n",
       "      <td>1</td>\n",
       "      <td>18</td>\n",
       "      <td>3.262</td>\n",
       "      <td>4.419</td>\n",
       "      <td>1.587</td>\n",
       "      <td>0.261</td>\n",
       "      <td>...</td>\n",
       "      <td>67.0</td>\n",
       "      <td>Yes</td>\n",
       "      <td>Food and Drink</td>\n",
       "      <td>28.0</td>\n",
       "      <td>22.0</td>\n",
       "      <td>&lt;iframe width=\"280\" height=\"158\" src=\"https://...</td>\n",
       "      <td>https://player.vimeo.com/video/344216639</td>\n",
       "      <td>&lt;iframe src=https://player.vimeo.com/video/344...</td>\n",
       "      <td>&lt;img width=\"100\" height=\"100\" src=\"https://asl...</td>\n",
       "      <td>9.0</td>\n",
       "    </tr>\n",
       "    <tr>\n",
       "      <th>15</th>\n",
       "      <td>wander</td>\n",
       "      <td>wander</td>\n",
       "      <td>A_01_019</td>\n",
       "      <td>A</td>\n",
       "      <td>1</td>\n",
       "      <td>19</td>\n",
       "      <td>2.477</td>\n",
       "      <td>3.548</td>\n",
       "      <td>1.261</td>\n",
       "      <td>-0.248</td>\n",
       "      <td>...</td>\n",
       "      <td>3121.0</td>\n",
       "      <td>No</td>\n",
       "      <td>NaN</td>\n",
       "      <td>NaN</td>\n",
       "      <td>NaN</td>\n",
       "      <td>&lt;iframe width=\"280\" height=\"158\" src=\"https://...</td>\n",
       "      <td>https://player.vimeo.com/video/344216661</td>\n",
       "      <td>&lt;iframe src=https://player.vimeo.com/video/344...</td>\n",
       "      <td>&lt;img width=\"100\" height=\"100\" src=\"https://asl...</td>\n",
       "      <td>10.0</td>\n",
       "    </tr>\n",
       "    <tr>\n",
       "      <th>16</th>\n",
       "      <td>scientist</td>\n",
       "      <td>scientist</td>\n",
       "      <td>A_01_020</td>\n",
       "      <td>A</td>\n",
       "      <td>1</td>\n",
       "      <td>20</td>\n",
       "      <td>2.794</td>\n",
       "      <td>3.516</td>\n",
       "      <td>1.730</td>\n",
       "      <td>-0.230</td>\n",
       "      <td>...</td>\n",
       "      <td>3103.0</td>\n",
       "      <td>No</td>\n",
       "      <td>NaN</td>\n",
       "      <td>NaN</td>\n",
       "      <td>NaN</td>\n",
       "      <td>&lt;iframe width=\"280\" height=\"158\" src=\"https://...</td>\n",
       "      <td>https://player.vimeo.com/video/344216677</td>\n",
       "      <td>&lt;iframe src=https://player.vimeo.com/video/344...</td>\n",
       "      <td>&lt;img width=\"100\" height=\"100\" src=\"https://asl...</td>\n",
       "      <td>11.0</td>\n",
       "    </tr>\n",
       "    <tr>\n",
       "      <th>17</th>\n",
       "      <td>parachute</td>\n",
       "      <td>parachute</td>\n",
       "      <td>A_01_021</td>\n",
       "      <td>A</td>\n",
       "      <td>1</td>\n",
       "      <td>21</td>\n",
       "      <td>2.212</td>\n",
       "      <td>1.548</td>\n",
       "      <td>1.121</td>\n",
       "      <td>-1.279</td>\n",
       "      <td>...</td>\n",
       "      <td>3020.0</td>\n",
       "      <td>No</td>\n",
       "      <td>NaN</td>\n",
       "      <td>NaN</td>\n",
       "      <td>NaN</td>\n",
       "      <td>&lt;iframe width=\"280\" height=\"158\" src=\"https://...</td>\n",
       "      <td>https://player.vimeo.com/video/344216709</td>\n",
       "      <td>&lt;iframe src=https://player.vimeo.com/video/344...</td>\n",
       "      <td>&lt;img width=\"100\" height=\"100\" src=\"https://asl...</td>\n",
       "      <td>NaN</td>\n",
       "    </tr>\n",
       "    <tr>\n",
       "      <th>18</th>\n",
       "      <td>read</td>\n",
       "      <td>read</td>\n",
       "      <td>A_01_022</td>\n",
       "      <td>A</td>\n",
       "      <td>1</td>\n",
       "      <td>22</td>\n",
       "      <td>4.090</td>\n",
       "      <td>6.387</td>\n",
       "      <td>1.202</td>\n",
       "      <td>1.254</td>\n",
       "      <td>...</td>\n",
       "      <td>341.0</td>\n",
       "      <td>Yes</td>\n",
       "      <td>Action Signs</td>\n",
       "      <td>29.0</td>\n",
       "      <td>28.0</td>\n",
       "      <td>&lt;iframe width=\"280\" height=\"158\" src=\"https://...</td>\n",
       "      <td>https://player.vimeo.com/video/344216734</td>\n",
       "      <td>&lt;iframe src=https://player.vimeo.com/video/344...</td>\n",
       "      <td>&lt;img width=\"100\" height=\"100\" src=\"https://asl...</td>\n",
       "      <td>12.0</td>\n",
       "    </tr>\n",
       "    <tr>\n",
       "      <th>19</th>\n",
       "      <td>cat</td>\n",
       "      <td>cat</td>\n",
       "      <td>A_01_023</td>\n",
       "      <td>A</td>\n",
       "      <td>1</td>\n",
       "      <td>23</td>\n",
       "      <td>3.529</td>\n",
       "      <td>5.097</td>\n",
       "      <td>1.868</td>\n",
       "      <td>0.597</td>\n",
       "      <td>...</td>\n",
       "      <td>1037.0</td>\n",
       "      <td>Yes</td>\n",
       "      <td>Animals</td>\n",
       "      <td>24.0</td>\n",
       "      <td>14.0</td>\n",
       "      <td>&lt;iframe width=\"280\" height=\"158\" src=\"https://...</td>\n",
       "      <td>https://player.vimeo.com/video/344216753</td>\n",
       "      <td>&lt;iframe src=https://player.vimeo.com/video/344...</td>\n",
       "      <td>&lt;img width=\"100\" height=\"100\" src=\"https://asl...</td>\n",
       "      <td>9.0</td>\n",
       "    </tr>\n",
       "  </tbody>\n",
       "</table>\n",
       "<p>20 rows × 190 columns</p>\n",
       "</div>"
      ],
      "text/plain": [
       "       EntryID     LemmaID      Code Batch  List  Item  EnglishWF(lg10)  \\\n",
       "0         tree        tree  A_01_002     A     1     2            3.521   \n",
       "1        night       night  A_01_003     A     1     3            4.645   \n",
       "2    hamburger   hamburger  A_01_004     A     1     4            2.600   \n",
       "3       nephew      nephew  A_01_005     A     1     5            2.928   \n",
       "4       castle      castle  A_01_008     A     1     8            3.041   \n",
       "5       humble      humble  A_01_009     A     1     9            2.700   \n",
       "6          cup         cup  A_01_010     A     1    10            3.421   \n",
       "7      english     english  A_01_011     A     1    11            3.577   \n",
       "8   eyeglasses  eyeglasses  A_01_012     A     1    12            1.544   \n",
       "9          tie         tie  A_01_013     A     1    13            3.355   \n",
       "10     dentist     dentist  A_01_014     A     1    14            2.757   \n",
       "11    sandwich    sandwich  A_01_015     A     1    15            3.049   \n",
       "12      monkey      monkey  A_01_016     A     1    16            3.233   \n",
       "13       chair       chair  A_01_017     A     1    17            3.400   \n",
       "14     candy_1     candy_1  A_01_018     A     1    18            3.262   \n",
       "15      wander      wander  A_01_019     A     1    19            2.477   \n",
       "16   scientist   scientist  A_01_020     A     1    20            2.794   \n",
       "17   parachute   parachute  A_01_021     A     1    21            2.212   \n",
       "18        read        read  A_01_022     A     1    22            4.090   \n",
       "19         cat         cat  A_01_023     A     1    23            3.529   \n",
       "\n",
       "    SignFrequency(M)  SignFrequency(SD)  SignFrequency(Z)  ...  \\\n",
       "0              5.143              2.081             0.621  ...   \n",
       "1              6.032              1.516             1.068  ...   \n",
       "2              4.429              1.720             0.232  ...   \n",
       "3              2.621              1.720            -0.753  ...   \n",
       "4              1.579              0.838            -1.198  ...   \n",
       "5              3.200              1.031            -0.418  ...   \n",
       "6              5.742              1.413             0.909  ...   \n",
       "7              4.645              1.496             0.326  ...   \n",
       "8              3.905              1.221             0.329  ...   \n",
       "9              2.143              1.195            -0.751  ...   \n",
       "10             2.677              1.400            -0.699  ...   \n",
       "11             3.677              1.661            -0.177  ...   \n",
       "12             2.619              1.936            -0.363  ...   \n",
       "13             5.714              1.231             0.858  ...   \n",
       "14             4.419              1.587             0.261  ...   \n",
       "15             3.548              1.261            -0.248  ...   \n",
       "16             3.516              1.730            -0.230  ...   \n",
       "17             1.548              1.121            -1.279  ...   \n",
       "18             6.387              1.202             1.254  ...   \n",
       "19             5.097              1.868             0.597  ...   \n",
       "\n",
       "    SignBankReferenceID  InCDI              CDISemanticCategory  bglm_aoa  \\\n",
       "0                 342.0    Yes  Outside Things and Places to Go      22.0   \n",
       "1                 199.0    Yes                 Signs About Time      31.0   \n",
       "2                1844.0    Yes                   Food and Drink      32.0   \n",
       "3                3011.0     No                              NaN       NaN   \n",
       "4                2471.0     No                     Action Signs       NaN   \n",
       "5                2940.0     No                              NaN       NaN   \n",
       "6                 388.0     No                              NaN       NaN   \n",
       "7                1311.0     No                              NaN       NaN   \n",
       "8                 468.0     No                              NaN       NaN   \n",
       "9                3143.0     No                              NaN       NaN   \n",
       "10               2572.0     No                              NaN       NaN   \n",
       "11                  NaN    Yes                   Food and Drink      33.0   \n",
       "12                369.0    Yes                          Animals      27.0   \n",
       "13                378.0    Yes              Furniture and Rooms      26.0   \n",
       "14                 67.0    Yes                   Food and Drink      28.0   \n",
       "15               3121.0     No                              NaN       NaN   \n",
       "16               3103.0     No                              NaN       NaN   \n",
       "17               3020.0     No                              NaN       NaN   \n",
       "18                341.0    Yes                     Action Signs      29.0   \n",
       "19               1037.0    Yes                          Animals      24.0   \n",
       "\n",
       "    empirical_aoa                                      YouTube Video  \\\n",
       "0            14.0  <iframe width=\"280\" height=\"158\" src=\"https://...   \n",
       "1            18.0  <iframe width=\"280\" height=\"158\" src=\"https://...   \n",
       "2            28.0  <iframe width=\"280\" height=\"158\" src=\"https://...   \n",
       "3             NaN  <iframe width=\"280\" height=\"158\" src=\"https://...   \n",
       "4             NaN  <iframe width=\"280\" height=\"158\" src=\"https://...   \n",
       "5             NaN  <iframe width=\"280\" height=\"158\" src=\"https://...   \n",
       "6             NaN  <iframe width=\"280\" height=\"158\" src=\"https://...   \n",
       "7             NaN  <iframe width=\"280\" height=\"158\" src=\"https://...   \n",
       "8             NaN  <iframe width=\"280\" height=\"158\" src=\"https://...   \n",
       "9             NaN  <iframe width=\"280\" height=\"158\" src=\"https://...   \n",
       "10            NaN  <iframe width=\"280\" height=\"158\" src=\"https://...   \n",
       "11           28.0  <iframe width=\"280\" height=\"158\" src=\"https://...   \n",
       "12           16.0  <iframe width=\"280\" height=\"158\" src=\"https://...   \n",
       "13           23.0  <iframe width=\"280\" height=\"158\" src=\"https://...   \n",
       "14           22.0  <iframe width=\"280\" height=\"158\" src=\"https://...   \n",
       "15            NaN  <iframe width=\"280\" height=\"158\" src=\"https://...   \n",
       "16            NaN  <iframe width=\"280\" height=\"158\" src=\"https://...   \n",
       "17            NaN  <iframe width=\"280\" height=\"158\" src=\"https://...   \n",
       "18           28.0  <iframe width=\"280\" height=\"158\" src=\"https://...   \n",
       "19           14.0  <iframe width=\"280\" height=\"158\" src=\"https://...   \n",
       "\n",
       "                                  VimeoVideo  \\\n",
       "0   https://player.vimeo.com/video/344216264   \n",
       "1   https://player.vimeo.com/video/344216312   \n",
       "2   https://player.vimeo.com/video/344216345   \n",
       "3   https://player.vimeo.com/video/344216367   \n",
       "4   https://player.vimeo.com/video/344216403   \n",
       "5   https://player.vimeo.com/video/344216431   \n",
       "6   https://player.vimeo.com/video/344216455   \n",
       "7   https://player.vimeo.com/video/344216483   \n",
       "8   https://player.vimeo.com/video/344216509   \n",
       "9   https://player.vimeo.com/video/344216543   \n",
       "10  https://player.vimeo.com/video/344216569   \n",
       "11  https://player.vimeo.com/video/344216588   \n",
       "12  https://player.vimeo.com/video/344216611   \n",
       "13  https://player.vimeo.com/video/344216624   \n",
       "14  https://player.vimeo.com/video/344216639   \n",
       "15  https://player.vimeo.com/video/344216661   \n",
       "16  https://player.vimeo.com/video/344216677   \n",
       "17  https://player.vimeo.com/video/344216709   \n",
       "18  https://player.vimeo.com/video/344216734   \n",
       "19  https://player.vimeo.com/video/344216753   \n",
       "\n",
       "                                       VimeoVideoHTML  \\\n",
       "0   <iframe src=https://player.vimeo.com/video/344...   \n",
       "1   <iframe src=https://player.vimeo.com/video/344...   \n",
       "2   <iframe src=https://player.vimeo.com/video/344...   \n",
       "3   <iframe src=https://player.vimeo.com/video/344...   \n",
       "4   <iframe src=https://player.vimeo.com/video/344...   \n",
       "5   <iframe src=https://player.vimeo.com/video/344...   \n",
       "6   <iframe src=https://player.vimeo.com/video/344...   \n",
       "7   <iframe src=https://player.vimeo.com/video/344...   \n",
       "8   <iframe src=https://player.vimeo.com/video/344...   \n",
       "9   <iframe src=https://player.vimeo.com/video/344...   \n",
       "10  <iframe src=https://player.vimeo.com/video/344...   \n",
       "11  <iframe src=https://player.vimeo.com/video/344...   \n",
       "12  <iframe src=https://player.vimeo.com/video/344...   \n",
       "13  <iframe src=https://player.vimeo.com/video/344...   \n",
       "14  <iframe src=https://player.vimeo.com/video/344...   \n",
       "15  <iframe src=https://player.vimeo.com/video/344...   \n",
       "16  <iframe src=https://player.vimeo.com/video/344...   \n",
       "17  <iframe src=https://player.vimeo.com/video/344...   \n",
       "18  <iframe src=https://player.vimeo.com/video/344...   \n",
       "19  <iframe src=https://player.vimeo.com/video/344...   \n",
       "\n",
       "                                       HandshapeImage  group_id  \n",
       "0   <img width=\"100\" height=\"100\" src=\"https://asl...       0.0  \n",
       "1   <img width=\"100\" height=\"100\" src=\"https://asl...       1.0  \n",
       "2   <img width=\"100\" height=\"100\" src=\"https://asl...       2.0  \n",
       "3   <img width=\"100\" height=\"100\" src=\"https://asl...       NaN  \n",
       "4   <img width=\"100\" height=\"100\" src=\"https://asl...       3.0  \n",
       "5   <img width=\"100\" height=\"100\" src=\"https://asl...       4.0  \n",
       "6   <img width=\"100\" height=\"100\" src=\"https://asl...       5.0  \n",
       "7   <img width=\"100\" height=\"100\" src=\"https://asl...       NaN  \n",
       "8   <img width=\"100\" height=\"100\" src=\"https://asl...       NaN  \n",
       "9   <img width=\"100\" height=\"100\" src=\"https://asl...       6.0  \n",
       "10  <img width=\"100\" height=\"100\" src=\"https://asl...       7.0  \n",
       "11  <img width=\"100\" height=\"100\" src=\"https://asl...       NaN  \n",
       "12  <img width=\"100\" height=\"100\" src=\"https://asl...       NaN  \n",
       "13  <img width=\"100\" height=\"100\" src=\"https://asl...       8.0  \n",
       "14  <img width=\"100\" height=\"100\" src=\"https://asl...       9.0  \n",
       "15  <img width=\"100\" height=\"100\" src=\"https://asl...      10.0  \n",
       "16  <img width=\"100\" height=\"100\" src=\"https://asl...      11.0  \n",
       "17  <img width=\"100\" height=\"100\" src=\"https://asl...       NaN  \n",
       "18  <img width=\"100\" height=\"100\" src=\"https://asl...      12.0  \n",
       "19  <img width=\"100\" height=\"100\" src=\"https://asl...       9.0  \n",
       "\n",
       "[20 rows x 190 columns]"
      ]
     },
     "execution_count": 19,
     "metadata": {},
     "output_type": "execute_result"
    }
   ],
   "source": [
    "\n",
    "df_merged = pd.merge(df_default, df_with_groupids,how='left', on=['Code'])\n",
    "print(df_merged.shape)\n",
    "df_merged.head(20)"
   ]
  },
  {
   "cell_type": "code",
   "execution_count": 20,
   "metadata": {
    "scrolled": true
   },
   "outputs": [
    {
     "name": "stdout",
     "output_type": "stream",
     "text": [
      "0          0.0\n",
      "1          1.0\n",
      "2          2.0\n",
      "3       1000.0\n",
      "4          3.0\n",
      "         ...  \n",
      "2718    1000.0\n",
      "2719     141.0\n",
      "2720    1000.0\n",
      "2721       2.0\n",
      "2722      92.0\n",
      "Name: group_id, Length: 2723, dtype: float64\n"
     ]
    },
    {
     "data": {
      "text/plain": [
       "array([   0.,    1.,    2., 1000.,    3.,    4.,    5.,    6.,    7.,\n",
       "          8.,    9.,   10.,   11.,   12.,   13.,   14.,   15.,   16.,\n",
       "         17.,   18.,   19.,   20.,   21.,   22.,   23.,   24.,   25.,\n",
       "         26.,   27.,   28.,   29.,   30.,   31.,   32.,   33.,   34.,\n",
       "         35.,   36.,   37.,   38.,   39.,   40.,   41.,   42.,   43.,\n",
       "         44.,   45.,   46.,   47.,   48.,   49.,   50.,   51.,   52.,\n",
       "         53.,   54.,   55.,   56.,   57.,   58.,   59.,   60.,   61.,\n",
       "         62.,   63.,   64.,   65.,   66.,   67.,   68.,   69.,   70.,\n",
       "         71.,   72.,   73.,   74.,   75.,   76.,   77.,   78.,   79.,\n",
       "         80.,   81.,   82.,   83.,   84.,   85.,   86.,   87.,   88.,\n",
       "         89.,   90.,   91.,   92.,   93.,   94.,   95.,   96.,   97.,\n",
       "         98.,   99.,  100.,  101.,  102.,  103.,  104.,  105.,  106.,\n",
       "        107.,  108.,  109.,  110.,  111.,  112.,  113.,  114.,  115.,\n",
       "        116.,  117.,  118.,  119.,  120.,  121.,  122.,  123.,  124.,\n",
       "        125.,  126.,  127.,  128.,  129.,  130.,  131.,  132.,  133.,\n",
       "        134.,  135.,  136.,  137.,  138.,  139.,  140.,  141.,  142.,\n",
       "        143.,  144.,  145.,  146.,  147.,  148.,  149.,  150.,  151.,\n",
       "        152.,  153.,  154.,  155.,  156.,  157.,  158.,  159.,  160.,\n",
       "        161.,  162.,  163.,  164.,  165.,  166.,  167.,  168.,  169.,\n",
       "        170.,  171.,  172.,  173.,  174.,  175.,  176.,  177.,  178.,\n",
       "        179.,  180.,  181.,  182.,  183.,  184.,  185.,  186.,  187.,\n",
       "        188.,  189.,  190.,  191.,  192.,  193.,  194.,  195.,  196.,\n",
       "        197.,  198.,  199.,  200.,  201.,  202.,  203.,  204.,  205.,\n",
       "        206.,  207.,  208.,  209.,  210.,  211.,  212.,  213.,  214.,\n",
       "        215.,  216.,  217.,  218.,  219.,  220.])"
      ]
     },
     "execution_count": 20,
     "metadata": {},
     "output_type": "execute_result"
    }
   ],
   "source": [
    "values = {'group_id': 1000}\n",
    "df_merged = df_merged.fillna(value=values)\n",
    "\n",
    "print(df_merged['group_id'])\n",
    "unique_community_ids = df_merged['group_id'].unique()\n",
    "unique_community_ids"
   ]
  },
  {
   "cell_type": "code",
   "execution_count": 21,
   "metadata": {},
   "outputs": [
    {
     "data": {
      "text/plain": [
       "[{'group_id': 0.0, 'color_code': '#2adce2'},\n",
       " {'group_id': 1.0, 'color_code': '#8b63fc'},\n",
       " {'group_id': 2.0, 'color_code': '#e44db9'},\n",
       " {'group_id': 1000, 'color_code': '#194cee'},\n",
       " {'group_id': 3.0, 'color_code': '#4d0b58'},\n",
       " {'group_id': 4.0, 'color_code': '#734819'},\n",
       " {'group_id': 5.0, 'color_code': '#d4f98c'},\n",
       " {'group_id': 6.0, 'color_code': '#86b94c'},\n",
       " {'group_id': 7.0, 'color_code': '#73e8db'},\n",
       " {'group_id': 8.0, 'color_code': '#2e5be8'},\n",
       " {'group_id': 9.0, 'color_code': '#bdab34'},\n",
       " {'group_id': 10.0, 'color_code': '#257969'},\n",
       " {'group_id': 11.0, 'color_code': '#4f6107'},\n",
       " {'group_id': 12.0, 'color_code': '#c624a4'},\n",
       " {'group_id': 13.0, 'color_code': '#2f7742'},\n",
       " {'group_id': 14.0, 'color_code': '#d3b3b5'},\n",
       " {'group_id': 15.0, 'color_code': '#36c847'},\n",
       " {'group_id': 16.0, 'color_code': '#74f5c3'},\n",
       " {'group_id': 17.0, 'color_code': '#76c10c'},\n",
       " {'group_id': 18.0, 'color_code': '#aea37b'},\n",
       " {'group_id': 19.0, 'color_code': '#f7ab97'},\n",
       " {'group_id': 20.0, 'color_code': '#d6a4b4'},\n",
       " {'group_id': 21.0, 'color_code': '#621322'},\n",
       " {'group_id': 22.0, 'color_code': '#287259'},\n",
       " {'group_id': 23.0, 'color_code': '#de744e'},\n",
       " {'group_id': 24.0, 'color_code': '#91a3c4'},\n",
       " {'group_id': 25.0, 'color_code': '#c2649f'},\n",
       " {'group_id': 26.0, 'color_code': '#ec661f'},\n",
       " {'group_id': 27.0, 'color_code': '#c02c8c'},\n",
       " {'group_id': 28.0, 'color_code': '#eecd8f'},\n",
       " {'group_id': 29.0, 'color_code': '#5af89c'},\n",
       " {'group_id': 30.0, 'color_code': '#1e395c'},\n",
       " {'group_id': 31.0, 'color_code': '#9e4a78'},\n",
       " {'group_id': 32.0, 'color_code': '#dc8e22'},\n",
       " {'group_id': 33.0, 'color_code': '#925782'},\n",
       " {'group_id': 34.0, 'color_code': '#38a2ef'},\n",
       " {'group_id': 35.0, 'color_code': '#96f58d'},\n",
       " {'group_id': 36.0, 'color_code': '#c6fefa'},\n",
       " {'group_id': 37.0, 'color_code': '#c0cf9f'},\n",
       " {'group_id': 38.0, 'color_code': '#63d478'},\n",
       " {'group_id': 39.0, 'color_code': '#a9abc4'},\n",
       " {'group_id': 40.0, 'color_code': '#f4007d'},\n",
       " {'group_id': 41.0, 'color_code': '#1cefd9'},\n",
       " {'group_id': 42.0, 'color_code': '#44353b'},\n",
       " {'group_id': 43.0, 'color_code': '#1ccf4b'},\n",
       " {'group_id': 44.0, 'color_code': '#15580a'},\n",
       " {'group_id': 45.0, 'color_code': '#0b86b1'},\n",
       " {'group_id': 46.0, 'color_code': '#f679f5'},\n",
       " {'group_id': 47.0, 'color_code': '#8af145'},\n",
       " {'group_id': 48.0, 'color_code': '#cbaef9'},\n",
       " {'group_id': 49.0, 'color_code': '#733fdd'},\n",
       " {'group_id': 50.0, 'color_code': '#fcadcd'},\n",
       " {'group_id': 51.0, 'color_code': '#8e91c5'},\n",
       " {'group_id': 52.0, 'color_code': '#c433d0'},\n",
       " {'group_id': 53.0, 'color_code': '#1ce472'},\n",
       " {'group_id': 54.0, 'color_code': '#b8d866'},\n",
       " {'group_id': 55.0, 'color_code': '#1a255a'},\n",
       " {'group_id': 56.0, 'color_code': '#6a1df4'},\n",
       " {'group_id': 57.0, 'color_code': '#3a9838'},\n",
       " {'group_id': 58.0, 'color_code': '#ca3b6e'},\n",
       " {'group_id': 59.0, 'color_code': '#481bb9'},\n",
       " {'group_id': 60.0, 'color_code': '#e3a0a7'},\n",
       " {'group_id': 61.0, 'color_code': '#a45fe3'},\n",
       " {'group_id': 62.0, 'color_code': '#a86564'},\n",
       " {'group_id': 63.0, 'color_code': '#c85ba9'},\n",
       " {'group_id': 64.0, 'color_code': '#ec4b52'},\n",
       " {'group_id': 65.0, 'color_code': '#189b7f'},\n",
       " {'group_id': 66.0, 'color_code': '#be5b55'},\n",
       " {'group_id': 67.0, 'color_code': '#378f2a'},\n",
       " {'group_id': 68.0, 'color_code': '#3a7963'},\n",
       " {'group_id': 69.0, 'color_code': '#ac6c36'},\n",
       " {'group_id': 70.0, 'color_code': '#5daf12'},\n",
       " {'group_id': 71.0, 'color_code': '#6508b6'},\n",
       " {'group_id': 72.0, 'color_code': '#dff969'},\n",
       " {'group_id': 73.0, 'color_code': '#962c30'},\n",
       " {'group_id': 74.0, 'color_code': '#27447b'},\n",
       " {'group_id': 75.0, 'color_code': '#b77f6c'},\n",
       " {'group_id': 76.0, 'color_code': '#d8243d'},\n",
       " {'group_id': 77.0, 'color_code': '#a08752'},\n",
       " {'group_id': 78.0, 'color_code': '#18f6d2'},\n",
       " {'group_id': 79.0, 'color_code': '#e8dc0a'},\n",
       " {'group_id': 80.0, 'color_code': '#abb1ff'},\n",
       " {'group_id': 81.0, 'color_code': '#9292fe'},\n",
       " {'group_id': 82.0, 'color_code': '#2fa5a6'},\n",
       " {'group_id': 83.0, 'color_code': '#ee53cf'},\n",
       " {'group_id': 84.0, 'color_code': '#3b6210'},\n",
       " {'group_id': 85.0, 'color_code': '#606f19'},\n",
       " {'group_id': 86.0, 'color_code': '#5f33de'},\n",
       " {'group_id': 87.0, 'color_code': '#dfd36b'},\n",
       " {'group_id': 88.0, 'color_code': '#cf9850'},\n",
       " {'group_id': 89.0, 'color_code': '#f40f63'},\n",
       " {'group_id': 90.0, 'color_code': '#a1884a'},\n",
       " {'group_id': 91.0, 'color_code': '#41498b'},\n",
       " {'group_id': 92.0, 'color_code': '#b9e4ad'},\n",
       " {'group_id': 93.0, 'color_code': '#ac1ac1'},\n",
       " {'group_id': 94.0, 'color_code': '#b4e478'},\n",
       " {'group_id': 95.0, 'color_code': '#5ad011'},\n",
       " {'group_id': 96.0, 'color_code': '#72b837'},\n",
       " {'group_id': 97.0, 'color_code': '#6d9075'},\n",
       " {'group_id': 98.0, 'color_code': '#1e20c2'},\n",
       " {'group_id': 99.0, 'color_code': '#49f8c0'},\n",
       " {'group_id': 100.0, 'color_code': '#5ed088'},\n",
       " {'group_id': 101.0, 'color_code': '#ce867b'},\n",
       " {'group_id': 102.0, 'color_code': '#771c1f'},\n",
       " {'group_id': 103.0, 'color_code': '#3d3512'},\n",
       " {'group_id': 104.0, 'color_code': '#cb630b'},\n",
       " {'group_id': 105.0, 'color_code': '#26fa84'},\n",
       " {'group_id': 106.0, 'color_code': '#556775'},\n",
       " {'group_id': 107.0, 'color_code': '#af5486'},\n",
       " {'group_id': 108.0, 'color_code': '#d9bf41'},\n",
       " {'group_id': 109.0, 'color_code': '#6c280a'},\n",
       " {'group_id': 110.0, 'color_code': '#7d1f91'},\n",
       " {'group_id': 111.0, 'color_code': '#508d64'},\n",
       " {'group_id': 112.0, 'color_code': '#4317d8'},\n",
       " {'group_id': 113.0, 'color_code': '#194e09'},\n",
       " {'group_id': 114.0, 'color_code': '#6e6d7a'},\n",
       " {'group_id': 115.0, 'color_code': '#f6a9c7'},\n",
       " {'group_id': 116.0, 'color_code': '#a90af9'},\n",
       " {'group_id': 117.0, 'color_code': '#080840'},\n",
       " {'group_id': 118.0, 'color_code': '#803998'},\n",
       " {'group_id': 119.0, 'color_code': '#4eab1b'},\n",
       " {'group_id': 120.0, 'color_code': '#2b7ea8'},\n",
       " {'group_id': 121.0, 'color_code': '#772491'},\n",
       " {'group_id': 122.0, 'color_code': '#7eebc0'},\n",
       " {'group_id': 123.0, 'color_code': '#6f29e2'},\n",
       " {'group_id': 124.0, 'color_code': '#a8d66b'},\n",
       " {'group_id': 125.0, 'color_code': '#3b7c3c'},\n",
       " {'group_id': 126.0, 'color_code': '#4d3f8f'},\n",
       " {'group_id': 127.0, 'color_code': '#9f6750'},\n",
       " {'group_id': 128.0, 'color_code': '#b20a03'},\n",
       " {'group_id': 129.0, 'color_code': '#ccd209'},\n",
       " {'group_id': 130.0, 'color_code': '#5ddd8f'},\n",
       " {'group_id': 131.0, 'color_code': '#f905ab'},\n",
       " {'group_id': 132.0, 'color_code': '#def46b'},\n",
       " {'group_id': 133.0, 'color_code': '#97602e'},\n",
       " {'group_id': 134.0, 'color_code': '#68e565'},\n",
       " {'group_id': 135.0, 'color_code': '#279078'},\n",
       " {'group_id': 136.0, 'color_code': '#08c2c3'},\n",
       " {'group_id': 137.0, 'color_code': '#f85293'},\n",
       " {'group_id': 138.0, 'color_code': '#590cbc'},\n",
       " {'group_id': 139.0, 'color_code': '#dc1bb1'},\n",
       " {'group_id': 140.0, 'color_code': '#a89c81'},\n",
       " {'group_id': 141.0, 'color_code': '#546f53'},\n",
       " {'group_id': 142.0, 'color_code': '#9ea547'},\n",
       " {'group_id': 143.0, 'color_code': '#3cefb9'},\n",
       " {'group_id': 144.0, 'color_code': '#9aaac3'},\n",
       " {'group_id': 145.0, 'color_code': '#c774db'},\n",
       " {'group_id': 146.0, 'color_code': '#c2eff2'},\n",
       " {'group_id': 147.0, 'color_code': '#c6162e'},\n",
       " {'group_id': 148.0, 'color_code': '#82f660'},\n",
       " {'group_id': 149.0, 'color_code': '#71b09d'},\n",
       " {'group_id': 150.0, 'color_code': '#354951'},\n",
       " {'group_id': 151.0, 'color_code': '#351656'},\n",
       " {'group_id': 152.0, 'color_code': '#dc49cb'},\n",
       " {'group_id': 153.0, 'color_code': '#32576e'},\n",
       " {'group_id': 154.0, 'color_code': '#a432b5'},\n",
       " {'group_id': 155.0, 'color_code': '#91f1e0'},\n",
       " {'group_id': 156.0, 'color_code': '#8014c8'},\n",
       " {'group_id': 157.0, 'color_code': '#8597df'},\n",
       " {'group_id': 158.0, 'color_code': '#6baf87'},\n",
       " {'group_id': 159.0, 'color_code': '#9ed5da'},\n",
       " {'group_id': 160.0, 'color_code': '#7b9168'},\n",
       " {'group_id': 161.0, 'color_code': '#548d20'},\n",
       " {'group_id': 162.0, 'color_code': '#36cfcd'},\n",
       " {'group_id': 163.0, 'color_code': '#355a9a'},\n",
       " {'group_id': 164.0, 'color_code': '#ad7896'},\n",
       " {'group_id': 165.0, 'color_code': '#145ec9'},\n",
       " {'group_id': 166.0, 'color_code': '#bf5f94'},\n",
       " {'group_id': 167.0, 'color_code': '#98eab8'},\n",
       " {'group_id': 168.0, 'color_code': '#7c5c56'},\n",
       " {'group_id': 169.0, 'color_code': '#e5c92c'},\n",
       " {'group_id': 170.0, 'color_code': '#26f524'},\n",
       " {'group_id': 171.0, 'color_code': '#17a690'},\n",
       " {'group_id': 172.0, 'color_code': '#dde7bd'},\n",
       " {'group_id': 173.0, 'color_code': '#2b0e2d'},\n",
       " {'group_id': 174.0, 'color_code': '#85269e'},\n",
       " {'group_id': 175.0, 'color_code': '#d838ea'},\n",
       " {'group_id': 176.0, 'color_code': '#60f06f'},\n",
       " {'group_id': 177.0, 'color_code': '#f34d00'},\n",
       " {'group_id': 178.0, 'color_code': '#f5d64c'},\n",
       " {'group_id': 179.0, 'color_code': '#e82e21'},\n",
       " {'group_id': 180.0, 'color_code': '#fe7a47'},\n",
       " {'group_id': 181.0, 'color_code': '#48204c'},\n",
       " {'group_id': 182.0, 'color_code': '#d0c09d'},\n",
       " {'group_id': 183.0, 'color_code': '#82ccef'},\n",
       " {'group_id': 184.0, 'color_code': '#67a38b'},\n",
       " {'group_id': 185.0, 'color_code': '#40ff04'},\n",
       " {'group_id': 186.0, 'color_code': '#b94cb1'},\n",
       " {'group_id': 187.0, 'color_code': '#1aa7d2'},\n",
       " {'group_id': 188.0, 'color_code': '#bd5211'},\n",
       " {'group_id': 189.0, 'color_code': '#892f34'},\n",
       " {'group_id': 190.0, 'color_code': '#ac7d9b'},\n",
       " {'group_id': 191.0, 'color_code': '#7e63dd'},\n",
       " {'group_id': 192.0, 'color_code': '#ffe02e'},\n",
       " {'group_id': 193.0, 'color_code': '#5aec78'},\n",
       " {'group_id': 194.0, 'color_code': '#278a75'},\n",
       " {'group_id': 195.0, 'color_code': '#295f4a'},\n",
       " {'group_id': 196.0, 'color_code': '#768e8f'},\n",
       " {'group_id': 197.0, 'color_code': '#ab7f1e'},\n",
       " {'group_id': 198.0, 'color_code': '#5ccd84'},\n",
       " {'group_id': 199.0, 'color_code': '#313d38'},\n",
       " {'group_id': 200.0, 'color_code': '#5197b9'},\n",
       " {'group_id': 201.0, 'color_code': '#d61629'},\n",
       " {'group_id': 202.0, 'color_code': '#262313'},\n",
       " {'group_id': 203.0, 'color_code': '#936f45'},\n",
       " {'group_id': 204.0, 'color_code': '#35a6c7'},\n",
       " {'group_id': 205.0, 'color_code': '#f26a84'},\n",
       " {'group_id': 206.0, 'color_code': '#08e54c'},\n",
       " {'group_id': 207.0, 'color_code': '#1270b7'},\n",
       " {'group_id': 208.0, 'color_code': '#76653f'},\n",
       " {'group_id': 209.0, 'color_code': '#a600b3'},\n",
       " {'group_id': 210.0, 'color_code': '#9add9b'},\n",
       " {'group_id': 211.0, 'color_code': '#ccb923'},\n",
       " {'group_id': 212.0, 'color_code': '#493e8b'},\n",
       " {'group_id': 213.0, 'color_code': '#8f2d37'},\n",
       " {'group_id': 214.0, 'color_code': '#f91868'},\n",
       " {'group_id': 215.0, 'color_code': '#57e924'},\n",
       " {'group_id': 216.0, 'color_code': '#f88515'},\n",
       " {'group_id': 217.0, 'color_code': '#47c359'},\n",
       " {'group_id': 218.0, 'color_code': '#8b4fbe'},\n",
       " {'group_id': 219.0, 'color_code': '#ce278d'},\n",
       " {'group_id': 220.0, 'color_code': '#e80dd7'}]"
      ]
     },
     "execution_count": 21,
     "metadata": {},
     "output_type": "execute_result"
    }
   ],
   "source": [
    "\n",
    "#Will assign all NaN's same color for now. That's okay.\n",
    "\n",
    "\n",
    "import random\n",
    " \n",
    "def colors(n):\n",
    "    if(n == 0):\n",
    "        n = 600\n",
    "    r = int(random.random() * 256)\n",
    "    g = int(random.random() * 256)\n",
    "    b = int(random.random() * 256)\n",
    "    \n",
    "    step = 256 / n\n",
    "#     print(n,r,g,b,step)\n",
    "\n",
    "    r += step\n",
    "    g += step\n",
    "    b += step\n",
    "    r = int(r) % 256\n",
    "    g = int(g) % 256\n",
    "    b = int(b) % 256\n",
    "    \n",
    "    colorstr = str(r)+\",\"+str(b)+\",\" + str(g)\n",
    "    return '#%02x%02x%02x' % (r, g, b)\n",
    "\n",
    "color_dict = []\n",
    "color_dictionary = {}\n",
    "for groupid in unique_community_ids:\n",
    "    #generate a random color\n",
    "    color = colors(groupid)\n",
    "    if(groupid == 1000):        \n",
    "        color_dict.append({'group_id': 1000, 'color_code': color})\n",
    "        color_dictionary['island'] = color\n",
    "    else:        \n",
    "        color_dict.append({'group_id':groupid , 'color_code': color})\n",
    "        color_dictionary[str(int(groupid))] = color\n",
    "    \n",
    "color_dict"
   ]
  },
  {
   "cell_type": "code",
   "execution_count": 22,
   "metadata": {},
   "outputs": [
    {
     "data": {
      "text/markdown": [
       "<br><span style=\"color:#2adce2\">Sample</span>."
      ],
      "text/plain": [
       "<IPython.core.display.Markdown object>"
      ]
     },
     "metadata": {},
     "output_type": "display_data"
    },
    {
     "data": {
      "text/markdown": [
       "<br><span style=\"color:#8b63fc\">Sample</span>."
      ],
      "text/plain": [
       "<IPython.core.display.Markdown object>"
      ]
     },
     "metadata": {},
     "output_type": "display_data"
    },
    {
     "data": {
      "text/markdown": [
       "<br><span style=\"color:#e44db9\">Sample</span>."
      ],
      "text/plain": [
       "<IPython.core.display.Markdown object>"
      ]
     },
     "metadata": {},
     "output_type": "display_data"
    },
    {
     "data": {
      "text/markdown": [
       "<br><span style=\"color:#194cee\">Sample</span>."
      ],
      "text/plain": [
       "<IPython.core.display.Markdown object>"
      ]
     },
     "metadata": {},
     "output_type": "display_data"
    },
    {
     "data": {
      "text/markdown": [
       "<br><span style=\"color:#4d0b58\">Sample</span>."
      ],
      "text/plain": [
       "<IPython.core.display.Markdown object>"
      ]
     },
     "metadata": {},
     "output_type": "display_data"
    },
    {
     "data": {
      "text/markdown": [
       "<br><span style=\"color:#734819\">Sample</span>."
      ],
      "text/plain": [
       "<IPython.core.display.Markdown object>"
      ]
     },
     "metadata": {},
     "output_type": "display_data"
    },
    {
     "data": {
      "text/markdown": [
       "<br><span style=\"color:#d4f98c\">Sample</span>."
      ],
      "text/plain": [
       "<IPython.core.display.Markdown object>"
      ]
     },
     "metadata": {},
     "output_type": "display_data"
    },
    {
     "data": {
      "text/markdown": [
       "<br><span style=\"color:#86b94c\">Sample</span>."
      ],
      "text/plain": [
       "<IPython.core.display.Markdown object>"
      ]
     },
     "metadata": {},
     "output_type": "display_data"
    },
    {
     "data": {
      "text/markdown": [
       "<br><span style=\"color:#73e8db\">Sample</span>."
      ],
      "text/plain": [
       "<IPython.core.display.Markdown object>"
      ]
     },
     "metadata": {},
     "output_type": "display_data"
    },
    {
     "data": {
      "text/markdown": [
       "<br><span style=\"color:#2e5be8\">Sample</span>."
      ],
      "text/plain": [
       "<IPython.core.display.Markdown object>"
      ]
     },
     "metadata": {},
     "output_type": "display_data"
    },
    {
     "data": {
      "text/markdown": [
       "<br><span style=\"color:#bdab34\">Sample</span>."
      ],
      "text/plain": [
       "<IPython.core.display.Markdown object>"
      ]
     },
     "metadata": {},
     "output_type": "display_data"
    },
    {
     "data": {
      "text/markdown": [
       "<br><span style=\"color:#257969\">Sample</span>."
      ],
      "text/plain": [
       "<IPython.core.display.Markdown object>"
      ]
     },
     "metadata": {},
     "output_type": "display_data"
    },
    {
     "data": {
      "text/markdown": [
       "<br><span style=\"color:#4f6107\">Sample</span>."
      ],
      "text/plain": [
       "<IPython.core.display.Markdown object>"
      ]
     },
     "metadata": {},
     "output_type": "display_data"
    },
    {
     "data": {
      "text/markdown": [
       "<br><span style=\"color:#c624a4\">Sample</span>."
      ],
      "text/plain": [
       "<IPython.core.display.Markdown object>"
      ]
     },
     "metadata": {},
     "output_type": "display_data"
    },
    {
     "data": {
      "text/markdown": [
       "<br><span style=\"color:#2f7742\">Sample</span>."
      ],
      "text/plain": [
       "<IPython.core.display.Markdown object>"
      ]
     },
     "metadata": {},
     "output_type": "display_data"
    },
    {
     "data": {
      "text/markdown": [
       "<br><span style=\"color:#d3b3b5\">Sample</span>."
      ],
      "text/plain": [
       "<IPython.core.display.Markdown object>"
      ]
     },
     "metadata": {},
     "output_type": "display_data"
    },
    {
     "data": {
      "text/markdown": [
       "<br><span style=\"color:#36c847\">Sample</span>."
      ],
      "text/plain": [
       "<IPython.core.display.Markdown object>"
      ]
     },
     "metadata": {},
     "output_type": "display_data"
    },
    {
     "data": {
      "text/markdown": [
       "<br><span style=\"color:#74f5c3\">Sample</span>."
      ],
      "text/plain": [
       "<IPython.core.display.Markdown object>"
      ]
     },
     "metadata": {},
     "output_type": "display_data"
    },
    {
     "data": {
      "text/markdown": [
       "<br><span style=\"color:#76c10c\">Sample</span>."
      ],
      "text/plain": [
       "<IPython.core.display.Markdown object>"
      ]
     },
     "metadata": {},
     "output_type": "display_data"
    },
    {
     "data": {
      "text/markdown": [
       "<br><span style=\"color:#aea37b\">Sample</span>."
      ],
      "text/plain": [
       "<IPython.core.display.Markdown object>"
      ]
     },
     "metadata": {},
     "output_type": "display_data"
    },
    {
     "data": {
      "text/markdown": [
       "<br><span style=\"color:#f7ab97\">Sample</span>."
      ],
      "text/plain": [
       "<IPython.core.display.Markdown object>"
      ]
     },
     "metadata": {},
     "output_type": "display_data"
    },
    {
     "data": {
      "text/markdown": [
       "<br><span style=\"color:#d6a4b4\">Sample</span>."
      ],
      "text/plain": [
       "<IPython.core.display.Markdown object>"
      ]
     },
     "metadata": {},
     "output_type": "display_data"
    },
    {
     "data": {
      "text/markdown": [
       "<br><span style=\"color:#621322\">Sample</span>."
      ],
      "text/plain": [
       "<IPython.core.display.Markdown object>"
      ]
     },
     "metadata": {},
     "output_type": "display_data"
    },
    {
     "data": {
      "text/markdown": [
       "<br><span style=\"color:#287259\">Sample</span>."
      ],
      "text/plain": [
       "<IPython.core.display.Markdown object>"
      ]
     },
     "metadata": {},
     "output_type": "display_data"
    },
    {
     "data": {
      "text/markdown": [
       "<br><span style=\"color:#de744e\">Sample</span>."
      ],
      "text/plain": [
       "<IPython.core.display.Markdown object>"
      ]
     },
     "metadata": {},
     "output_type": "display_data"
    },
    {
     "data": {
      "text/markdown": [
       "<br><span style=\"color:#91a3c4\">Sample</span>."
      ],
      "text/plain": [
       "<IPython.core.display.Markdown object>"
      ]
     },
     "metadata": {},
     "output_type": "display_data"
    },
    {
     "data": {
      "text/markdown": [
       "<br><span style=\"color:#c2649f\">Sample</span>."
      ],
      "text/plain": [
       "<IPython.core.display.Markdown object>"
      ]
     },
     "metadata": {},
     "output_type": "display_data"
    },
    {
     "data": {
      "text/markdown": [
       "<br><span style=\"color:#ec661f\">Sample</span>."
      ],
      "text/plain": [
       "<IPython.core.display.Markdown object>"
      ]
     },
     "metadata": {},
     "output_type": "display_data"
    },
    {
     "data": {
      "text/markdown": [
       "<br><span style=\"color:#c02c8c\">Sample</span>."
      ],
      "text/plain": [
       "<IPython.core.display.Markdown object>"
      ]
     },
     "metadata": {},
     "output_type": "display_data"
    },
    {
     "data": {
      "text/markdown": [
       "<br><span style=\"color:#eecd8f\">Sample</span>."
      ],
      "text/plain": [
       "<IPython.core.display.Markdown object>"
      ]
     },
     "metadata": {},
     "output_type": "display_data"
    },
    {
     "data": {
      "text/markdown": [
       "<br><span style=\"color:#5af89c\">Sample</span>."
      ],
      "text/plain": [
       "<IPython.core.display.Markdown object>"
      ]
     },
     "metadata": {},
     "output_type": "display_data"
    },
    {
     "data": {
      "text/markdown": [
       "<br><span style=\"color:#1e395c\">Sample</span>."
      ],
      "text/plain": [
       "<IPython.core.display.Markdown object>"
      ]
     },
     "metadata": {},
     "output_type": "display_data"
    },
    {
     "data": {
      "text/markdown": [
       "<br><span style=\"color:#9e4a78\">Sample</span>."
      ],
      "text/plain": [
       "<IPython.core.display.Markdown object>"
      ]
     },
     "metadata": {},
     "output_type": "display_data"
    },
    {
     "data": {
      "text/markdown": [
       "<br><span style=\"color:#dc8e22\">Sample</span>."
      ],
      "text/plain": [
       "<IPython.core.display.Markdown object>"
      ]
     },
     "metadata": {},
     "output_type": "display_data"
    },
    {
     "data": {
      "text/markdown": [
       "<br><span style=\"color:#925782\">Sample</span>."
      ],
      "text/plain": [
       "<IPython.core.display.Markdown object>"
      ]
     },
     "metadata": {},
     "output_type": "display_data"
    },
    {
     "data": {
      "text/markdown": [
       "<br><span style=\"color:#38a2ef\">Sample</span>."
      ],
      "text/plain": [
       "<IPython.core.display.Markdown object>"
      ]
     },
     "metadata": {},
     "output_type": "display_data"
    },
    {
     "data": {
      "text/markdown": [
       "<br><span style=\"color:#96f58d\">Sample</span>."
      ],
      "text/plain": [
       "<IPython.core.display.Markdown object>"
      ]
     },
     "metadata": {},
     "output_type": "display_data"
    },
    {
     "data": {
      "text/markdown": [
       "<br><span style=\"color:#c6fefa\">Sample</span>."
      ],
      "text/plain": [
       "<IPython.core.display.Markdown object>"
      ]
     },
     "metadata": {},
     "output_type": "display_data"
    },
    {
     "data": {
      "text/markdown": [
       "<br><span style=\"color:#c0cf9f\">Sample</span>."
      ],
      "text/plain": [
       "<IPython.core.display.Markdown object>"
      ]
     },
     "metadata": {},
     "output_type": "display_data"
    },
    {
     "data": {
      "text/markdown": [
       "<br><span style=\"color:#63d478\">Sample</span>."
      ],
      "text/plain": [
       "<IPython.core.display.Markdown object>"
      ]
     },
     "metadata": {},
     "output_type": "display_data"
    },
    {
     "data": {
      "text/markdown": [
       "<br><span style=\"color:#a9abc4\">Sample</span>."
      ],
      "text/plain": [
       "<IPython.core.display.Markdown object>"
      ]
     },
     "metadata": {},
     "output_type": "display_data"
    },
    {
     "data": {
      "text/markdown": [
       "<br><span style=\"color:#f4007d\">Sample</span>."
      ],
      "text/plain": [
       "<IPython.core.display.Markdown object>"
      ]
     },
     "metadata": {},
     "output_type": "display_data"
    },
    {
     "data": {
      "text/markdown": [
       "<br><span style=\"color:#1cefd9\">Sample</span>."
      ],
      "text/plain": [
       "<IPython.core.display.Markdown object>"
      ]
     },
     "metadata": {},
     "output_type": "display_data"
    },
    {
     "data": {
      "text/markdown": [
       "<br><span style=\"color:#44353b\">Sample</span>."
      ],
      "text/plain": [
       "<IPython.core.display.Markdown object>"
      ]
     },
     "metadata": {},
     "output_type": "display_data"
    },
    {
     "data": {
      "text/markdown": [
       "<br><span style=\"color:#1ccf4b\">Sample</span>."
      ],
      "text/plain": [
       "<IPython.core.display.Markdown object>"
      ]
     },
     "metadata": {},
     "output_type": "display_data"
    },
    {
     "data": {
      "text/markdown": [
       "<br><span style=\"color:#15580a\">Sample</span>."
      ],
      "text/plain": [
       "<IPython.core.display.Markdown object>"
      ]
     },
     "metadata": {},
     "output_type": "display_data"
    },
    {
     "data": {
      "text/markdown": [
       "<br><span style=\"color:#0b86b1\">Sample</span>."
      ],
      "text/plain": [
       "<IPython.core.display.Markdown object>"
      ]
     },
     "metadata": {},
     "output_type": "display_data"
    },
    {
     "data": {
      "text/markdown": [
       "<br><span style=\"color:#f679f5\">Sample</span>."
      ],
      "text/plain": [
       "<IPython.core.display.Markdown object>"
      ]
     },
     "metadata": {},
     "output_type": "display_data"
    },
    {
     "data": {
      "text/markdown": [
       "<br><span style=\"color:#8af145\">Sample</span>."
      ],
      "text/plain": [
       "<IPython.core.display.Markdown object>"
      ]
     },
     "metadata": {},
     "output_type": "display_data"
    },
    {
     "data": {
      "text/markdown": [
       "<br><span style=\"color:#cbaef9\">Sample</span>."
      ],
      "text/plain": [
       "<IPython.core.display.Markdown object>"
      ]
     },
     "metadata": {},
     "output_type": "display_data"
    },
    {
     "data": {
      "text/markdown": [
       "<br><span style=\"color:#733fdd\">Sample</span>."
      ],
      "text/plain": [
       "<IPython.core.display.Markdown object>"
      ]
     },
     "metadata": {},
     "output_type": "display_data"
    },
    {
     "data": {
      "text/markdown": [
       "<br><span style=\"color:#fcadcd\">Sample</span>."
      ],
      "text/plain": [
       "<IPython.core.display.Markdown object>"
      ]
     },
     "metadata": {},
     "output_type": "display_data"
    },
    {
     "data": {
      "text/markdown": [
       "<br><span style=\"color:#8e91c5\">Sample</span>."
      ],
      "text/plain": [
       "<IPython.core.display.Markdown object>"
      ]
     },
     "metadata": {},
     "output_type": "display_data"
    },
    {
     "data": {
      "text/markdown": [
       "<br><span style=\"color:#c433d0\">Sample</span>."
      ],
      "text/plain": [
       "<IPython.core.display.Markdown object>"
      ]
     },
     "metadata": {},
     "output_type": "display_data"
    },
    {
     "data": {
      "text/markdown": [
       "<br><span style=\"color:#1ce472\">Sample</span>."
      ],
      "text/plain": [
       "<IPython.core.display.Markdown object>"
      ]
     },
     "metadata": {},
     "output_type": "display_data"
    },
    {
     "data": {
      "text/markdown": [
       "<br><span style=\"color:#b8d866\">Sample</span>."
      ],
      "text/plain": [
       "<IPython.core.display.Markdown object>"
      ]
     },
     "metadata": {},
     "output_type": "display_data"
    },
    {
     "data": {
      "text/markdown": [
       "<br><span style=\"color:#1a255a\">Sample</span>."
      ],
      "text/plain": [
       "<IPython.core.display.Markdown object>"
      ]
     },
     "metadata": {},
     "output_type": "display_data"
    },
    {
     "data": {
      "text/markdown": [
       "<br><span style=\"color:#6a1df4\">Sample</span>."
      ],
      "text/plain": [
       "<IPython.core.display.Markdown object>"
      ]
     },
     "metadata": {},
     "output_type": "display_data"
    },
    {
     "data": {
      "text/markdown": [
       "<br><span style=\"color:#3a9838\">Sample</span>."
      ],
      "text/plain": [
       "<IPython.core.display.Markdown object>"
      ]
     },
     "metadata": {},
     "output_type": "display_data"
    },
    {
     "data": {
      "text/markdown": [
       "<br><span style=\"color:#ca3b6e\">Sample</span>."
      ],
      "text/plain": [
       "<IPython.core.display.Markdown object>"
      ]
     },
     "metadata": {},
     "output_type": "display_data"
    },
    {
     "data": {
      "text/markdown": [
       "<br><span style=\"color:#481bb9\">Sample</span>."
      ],
      "text/plain": [
       "<IPython.core.display.Markdown object>"
      ]
     },
     "metadata": {},
     "output_type": "display_data"
    },
    {
     "data": {
      "text/markdown": [
       "<br><span style=\"color:#e3a0a7\">Sample</span>."
      ],
      "text/plain": [
       "<IPython.core.display.Markdown object>"
      ]
     },
     "metadata": {},
     "output_type": "display_data"
    },
    {
     "data": {
      "text/markdown": [
       "<br><span style=\"color:#a45fe3\">Sample</span>."
      ],
      "text/plain": [
       "<IPython.core.display.Markdown object>"
      ]
     },
     "metadata": {},
     "output_type": "display_data"
    },
    {
     "data": {
      "text/markdown": [
       "<br><span style=\"color:#a86564\">Sample</span>."
      ],
      "text/plain": [
       "<IPython.core.display.Markdown object>"
      ]
     },
     "metadata": {},
     "output_type": "display_data"
    },
    {
     "data": {
      "text/markdown": [
       "<br><span style=\"color:#c85ba9\">Sample</span>."
      ],
      "text/plain": [
       "<IPython.core.display.Markdown object>"
      ]
     },
     "metadata": {},
     "output_type": "display_data"
    },
    {
     "data": {
      "text/markdown": [
       "<br><span style=\"color:#ec4b52\">Sample</span>."
      ],
      "text/plain": [
       "<IPython.core.display.Markdown object>"
      ]
     },
     "metadata": {},
     "output_type": "display_data"
    },
    {
     "data": {
      "text/markdown": [
       "<br><span style=\"color:#189b7f\">Sample</span>."
      ],
      "text/plain": [
       "<IPython.core.display.Markdown object>"
      ]
     },
     "metadata": {},
     "output_type": "display_data"
    },
    {
     "data": {
      "text/markdown": [
       "<br><span style=\"color:#be5b55\">Sample</span>."
      ],
      "text/plain": [
       "<IPython.core.display.Markdown object>"
      ]
     },
     "metadata": {},
     "output_type": "display_data"
    },
    {
     "data": {
      "text/markdown": [
       "<br><span style=\"color:#378f2a\">Sample</span>."
      ],
      "text/plain": [
       "<IPython.core.display.Markdown object>"
      ]
     },
     "metadata": {},
     "output_type": "display_data"
    },
    {
     "data": {
      "text/markdown": [
       "<br><span style=\"color:#3a7963\">Sample</span>."
      ],
      "text/plain": [
       "<IPython.core.display.Markdown object>"
      ]
     },
     "metadata": {},
     "output_type": "display_data"
    },
    {
     "data": {
      "text/markdown": [
       "<br><span style=\"color:#ac6c36\">Sample</span>."
      ],
      "text/plain": [
       "<IPython.core.display.Markdown object>"
      ]
     },
     "metadata": {},
     "output_type": "display_data"
    },
    {
     "data": {
      "text/markdown": [
       "<br><span style=\"color:#5daf12\">Sample</span>."
      ],
      "text/plain": [
       "<IPython.core.display.Markdown object>"
      ]
     },
     "metadata": {},
     "output_type": "display_data"
    },
    {
     "data": {
      "text/markdown": [
       "<br><span style=\"color:#6508b6\">Sample</span>."
      ],
      "text/plain": [
       "<IPython.core.display.Markdown object>"
      ]
     },
     "metadata": {},
     "output_type": "display_data"
    },
    {
     "data": {
      "text/markdown": [
       "<br><span style=\"color:#dff969\">Sample</span>."
      ],
      "text/plain": [
       "<IPython.core.display.Markdown object>"
      ]
     },
     "metadata": {},
     "output_type": "display_data"
    },
    {
     "data": {
      "text/markdown": [
       "<br><span style=\"color:#962c30\">Sample</span>."
      ],
      "text/plain": [
       "<IPython.core.display.Markdown object>"
      ]
     },
     "metadata": {},
     "output_type": "display_data"
    },
    {
     "data": {
      "text/markdown": [
       "<br><span style=\"color:#27447b\">Sample</span>."
      ],
      "text/plain": [
       "<IPython.core.display.Markdown object>"
      ]
     },
     "metadata": {},
     "output_type": "display_data"
    },
    {
     "data": {
      "text/markdown": [
       "<br><span style=\"color:#b77f6c\">Sample</span>."
      ],
      "text/plain": [
       "<IPython.core.display.Markdown object>"
      ]
     },
     "metadata": {},
     "output_type": "display_data"
    },
    {
     "data": {
      "text/markdown": [
       "<br><span style=\"color:#d8243d\">Sample</span>."
      ],
      "text/plain": [
       "<IPython.core.display.Markdown object>"
      ]
     },
     "metadata": {},
     "output_type": "display_data"
    },
    {
     "data": {
      "text/markdown": [
       "<br><span style=\"color:#a08752\">Sample</span>."
      ],
      "text/plain": [
       "<IPython.core.display.Markdown object>"
      ]
     },
     "metadata": {},
     "output_type": "display_data"
    },
    {
     "data": {
      "text/markdown": [
       "<br><span style=\"color:#18f6d2\">Sample</span>."
      ],
      "text/plain": [
       "<IPython.core.display.Markdown object>"
      ]
     },
     "metadata": {},
     "output_type": "display_data"
    },
    {
     "data": {
      "text/markdown": [
       "<br><span style=\"color:#e8dc0a\">Sample</span>."
      ],
      "text/plain": [
       "<IPython.core.display.Markdown object>"
      ]
     },
     "metadata": {},
     "output_type": "display_data"
    },
    {
     "data": {
      "text/markdown": [
       "<br><span style=\"color:#abb1ff\">Sample</span>."
      ],
      "text/plain": [
       "<IPython.core.display.Markdown object>"
      ]
     },
     "metadata": {},
     "output_type": "display_data"
    },
    {
     "data": {
      "text/markdown": [
       "<br><span style=\"color:#9292fe\">Sample</span>."
      ],
      "text/plain": [
       "<IPython.core.display.Markdown object>"
      ]
     },
     "metadata": {},
     "output_type": "display_data"
    },
    {
     "data": {
      "text/markdown": [
       "<br><span style=\"color:#2fa5a6\">Sample</span>."
      ],
      "text/plain": [
       "<IPython.core.display.Markdown object>"
      ]
     },
     "metadata": {},
     "output_type": "display_data"
    },
    {
     "data": {
      "text/markdown": [
       "<br><span style=\"color:#ee53cf\">Sample</span>."
      ],
      "text/plain": [
       "<IPython.core.display.Markdown object>"
      ]
     },
     "metadata": {},
     "output_type": "display_data"
    },
    {
     "data": {
      "text/markdown": [
       "<br><span style=\"color:#3b6210\">Sample</span>."
      ],
      "text/plain": [
       "<IPython.core.display.Markdown object>"
      ]
     },
     "metadata": {},
     "output_type": "display_data"
    },
    {
     "data": {
      "text/markdown": [
       "<br><span style=\"color:#606f19\">Sample</span>."
      ],
      "text/plain": [
       "<IPython.core.display.Markdown object>"
      ]
     },
     "metadata": {},
     "output_type": "display_data"
    },
    {
     "data": {
      "text/markdown": [
       "<br><span style=\"color:#5f33de\">Sample</span>."
      ],
      "text/plain": [
       "<IPython.core.display.Markdown object>"
      ]
     },
     "metadata": {},
     "output_type": "display_data"
    },
    {
     "data": {
      "text/markdown": [
       "<br><span style=\"color:#dfd36b\">Sample</span>."
      ],
      "text/plain": [
       "<IPython.core.display.Markdown object>"
      ]
     },
     "metadata": {},
     "output_type": "display_data"
    },
    {
     "data": {
      "text/markdown": [
       "<br><span style=\"color:#cf9850\">Sample</span>."
      ],
      "text/plain": [
       "<IPython.core.display.Markdown object>"
      ]
     },
     "metadata": {},
     "output_type": "display_data"
    },
    {
     "data": {
      "text/markdown": [
       "<br><span style=\"color:#f40f63\">Sample</span>."
      ],
      "text/plain": [
       "<IPython.core.display.Markdown object>"
      ]
     },
     "metadata": {},
     "output_type": "display_data"
    },
    {
     "data": {
      "text/markdown": [
       "<br><span style=\"color:#a1884a\">Sample</span>."
      ],
      "text/plain": [
       "<IPython.core.display.Markdown object>"
      ]
     },
     "metadata": {},
     "output_type": "display_data"
    },
    {
     "data": {
      "text/markdown": [
       "<br><span style=\"color:#41498b\">Sample</span>."
      ],
      "text/plain": [
       "<IPython.core.display.Markdown object>"
      ]
     },
     "metadata": {},
     "output_type": "display_data"
    },
    {
     "data": {
      "text/markdown": [
       "<br><span style=\"color:#b9e4ad\">Sample</span>."
      ],
      "text/plain": [
       "<IPython.core.display.Markdown object>"
      ]
     },
     "metadata": {},
     "output_type": "display_data"
    },
    {
     "data": {
      "text/markdown": [
       "<br><span style=\"color:#ac1ac1\">Sample</span>."
      ],
      "text/plain": [
       "<IPython.core.display.Markdown object>"
      ]
     },
     "metadata": {},
     "output_type": "display_data"
    },
    {
     "data": {
      "text/markdown": [
       "<br><span style=\"color:#b4e478\">Sample</span>."
      ],
      "text/plain": [
       "<IPython.core.display.Markdown object>"
      ]
     },
     "metadata": {},
     "output_type": "display_data"
    },
    {
     "data": {
      "text/markdown": [
       "<br><span style=\"color:#5ad011\">Sample</span>."
      ],
      "text/plain": [
       "<IPython.core.display.Markdown object>"
      ]
     },
     "metadata": {},
     "output_type": "display_data"
    },
    {
     "data": {
      "text/markdown": [
       "<br><span style=\"color:#72b837\">Sample</span>."
      ],
      "text/plain": [
       "<IPython.core.display.Markdown object>"
      ]
     },
     "metadata": {},
     "output_type": "display_data"
    },
    {
     "data": {
      "text/markdown": [
       "<br><span style=\"color:#6d9075\">Sample</span>."
      ],
      "text/plain": [
       "<IPython.core.display.Markdown object>"
      ]
     },
     "metadata": {},
     "output_type": "display_data"
    },
    {
     "data": {
      "text/markdown": [
       "<br><span style=\"color:#1e20c2\">Sample</span>."
      ],
      "text/plain": [
       "<IPython.core.display.Markdown object>"
      ]
     },
     "metadata": {},
     "output_type": "display_data"
    },
    {
     "data": {
      "text/markdown": [
       "<br><span style=\"color:#49f8c0\">Sample</span>."
      ],
      "text/plain": [
       "<IPython.core.display.Markdown object>"
      ]
     },
     "metadata": {},
     "output_type": "display_data"
    },
    {
     "data": {
      "text/markdown": [
       "<br><span style=\"color:#5ed088\">Sample</span>."
      ],
      "text/plain": [
       "<IPython.core.display.Markdown object>"
      ]
     },
     "metadata": {},
     "output_type": "display_data"
    },
    {
     "data": {
      "text/markdown": [
       "<br><span style=\"color:#ce867b\">Sample</span>."
      ],
      "text/plain": [
       "<IPython.core.display.Markdown object>"
      ]
     },
     "metadata": {},
     "output_type": "display_data"
    },
    {
     "data": {
      "text/markdown": [
       "<br><span style=\"color:#771c1f\">Sample</span>."
      ],
      "text/plain": [
       "<IPython.core.display.Markdown object>"
      ]
     },
     "metadata": {},
     "output_type": "display_data"
    },
    {
     "data": {
      "text/markdown": [
       "<br><span style=\"color:#3d3512\">Sample</span>."
      ],
      "text/plain": [
       "<IPython.core.display.Markdown object>"
      ]
     },
     "metadata": {},
     "output_type": "display_data"
    },
    {
     "data": {
      "text/markdown": [
       "<br><span style=\"color:#cb630b\">Sample</span>."
      ],
      "text/plain": [
       "<IPython.core.display.Markdown object>"
      ]
     },
     "metadata": {},
     "output_type": "display_data"
    },
    {
     "data": {
      "text/markdown": [
       "<br><span style=\"color:#26fa84\">Sample</span>."
      ],
      "text/plain": [
       "<IPython.core.display.Markdown object>"
      ]
     },
     "metadata": {},
     "output_type": "display_data"
    },
    {
     "data": {
      "text/markdown": [
       "<br><span style=\"color:#556775\">Sample</span>."
      ],
      "text/plain": [
       "<IPython.core.display.Markdown object>"
      ]
     },
     "metadata": {},
     "output_type": "display_data"
    },
    {
     "data": {
      "text/markdown": [
       "<br><span style=\"color:#af5486\">Sample</span>."
      ],
      "text/plain": [
       "<IPython.core.display.Markdown object>"
      ]
     },
     "metadata": {},
     "output_type": "display_data"
    },
    {
     "data": {
      "text/markdown": [
       "<br><span style=\"color:#d9bf41\">Sample</span>."
      ],
      "text/plain": [
       "<IPython.core.display.Markdown object>"
      ]
     },
     "metadata": {},
     "output_type": "display_data"
    },
    {
     "data": {
      "text/markdown": [
       "<br><span style=\"color:#6c280a\">Sample</span>."
      ],
      "text/plain": [
       "<IPython.core.display.Markdown object>"
      ]
     },
     "metadata": {},
     "output_type": "display_data"
    },
    {
     "data": {
      "text/markdown": [
       "<br><span style=\"color:#7d1f91\">Sample</span>."
      ],
      "text/plain": [
       "<IPython.core.display.Markdown object>"
      ]
     },
     "metadata": {},
     "output_type": "display_data"
    },
    {
     "data": {
      "text/markdown": [
       "<br><span style=\"color:#508d64\">Sample</span>."
      ],
      "text/plain": [
       "<IPython.core.display.Markdown object>"
      ]
     },
     "metadata": {},
     "output_type": "display_data"
    },
    {
     "data": {
      "text/markdown": [
       "<br><span style=\"color:#4317d8\">Sample</span>."
      ],
      "text/plain": [
       "<IPython.core.display.Markdown object>"
      ]
     },
     "metadata": {},
     "output_type": "display_data"
    },
    {
     "data": {
      "text/markdown": [
       "<br><span style=\"color:#194e09\">Sample</span>."
      ],
      "text/plain": [
       "<IPython.core.display.Markdown object>"
      ]
     },
     "metadata": {},
     "output_type": "display_data"
    },
    {
     "data": {
      "text/markdown": [
       "<br><span style=\"color:#6e6d7a\">Sample</span>."
      ],
      "text/plain": [
       "<IPython.core.display.Markdown object>"
      ]
     },
     "metadata": {},
     "output_type": "display_data"
    },
    {
     "data": {
      "text/markdown": [
       "<br><span style=\"color:#f6a9c7\">Sample</span>."
      ],
      "text/plain": [
       "<IPython.core.display.Markdown object>"
      ]
     },
     "metadata": {},
     "output_type": "display_data"
    },
    {
     "data": {
      "text/markdown": [
       "<br><span style=\"color:#a90af9\">Sample</span>."
      ],
      "text/plain": [
       "<IPython.core.display.Markdown object>"
      ]
     },
     "metadata": {},
     "output_type": "display_data"
    },
    {
     "data": {
      "text/markdown": [
       "<br><span style=\"color:#080840\">Sample</span>."
      ],
      "text/plain": [
       "<IPython.core.display.Markdown object>"
      ]
     },
     "metadata": {},
     "output_type": "display_data"
    },
    {
     "data": {
      "text/markdown": [
       "<br><span style=\"color:#803998\">Sample</span>."
      ],
      "text/plain": [
       "<IPython.core.display.Markdown object>"
      ]
     },
     "metadata": {},
     "output_type": "display_data"
    },
    {
     "data": {
      "text/markdown": [
       "<br><span style=\"color:#4eab1b\">Sample</span>."
      ],
      "text/plain": [
       "<IPython.core.display.Markdown object>"
      ]
     },
     "metadata": {},
     "output_type": "display_data"
    },
    {
     "data": {
      "text/markdown": [
       "<br><span style=\"color:#2b7ea8\">Sample</span>."
      ],
      "text/plain": [
       "<IPython.core.display.Markdown object>"
      ]
     },
     "metadata": {},
     "output_type": "display_data"
    },
    {
     "data": {
      "text/markdown": [
       "<br><span style=\"color:#772491\">Sample</span>."
      ],
      "text/plain": [
       "<IPython.core.display.Markdown object>"
      ]
     },
     "metadata": {},
     "output_type": "display_data"
    },
    {
     "data": {
      "text/markdown": [
       "<br><span style=\"color:#7eebc0\">Sample</span>."
      ],
      "text/plain": [
       "<IPython.core.display.Markdown object>"
      ]
     },
     "metadata": {},
     "output_type": "display_data"
    },
    {
     "data": {
      "text/markdown": [
       "<br><span style=\"color:#6f29e2\">Sample</span>."
      ],
      "text/plain": [
       "<IPython.core.display.Markdown object>"
      ]
     },
     "metadata": {},
     "output_type": "display_data"
    },
    {
     "data": {
      "text/markdown": [
       "<br><span style=\"color:#a8d66b\">Sample</span>."
      ],
      "text/plain": [
       "<IPython.core.display.Markdown object>"
      ]
     },
     "metadata": {},
     "output_type": "display_data"
    },
    {
     "data": {
      "text/markdown": [
       "<br><span style=\"color:#3b7c3c\">Sample</span>."
      ],
      "text/plain": [
       "<IPython.core.display.Markdown object>"
      ]
     },
     "metadata": {},
     "output_type": "display_data"
    },
    {
     "data": {
      "text/markdown": [
       "<br><span style=\"color:#4d3f8f\">Sample</span>."
      ],
      "text/plain": [
       "<IPython.core.display.Markdown object>"
      ]
     },
     "metadata": {},
     "output_type": "display_data"
    },
    {
     "data": {
      "text/markdown": [
       "<br><span style=\"color:#9f6750\">Sample</span>."
      ],
      "text/plain": [
       "<IPython.core.display.Markdown object>"
      ]
     },
     "metadata": {},
     "output_type": "display_data"
    },
    {
     "data": {
      "text/markdown": [
       "<br><span style=\"color:#b20a03\">Sample</span>."
      ],
      "text/plain": [
       "<IPython.core.display.Markdown object>"
      ]
     },
     "metadata": {},
     "output_type": "display_data"
    },
    {
     "data": {
      "text/markdown": [
       "<br><span style=\"color:#ccd209\">Sample</span>."
      ],
      "text/plain": [
       "<IPython.core.display.Markdown object>"
      ]
     },
     "metadata": {},
     "output_type": "display_data"
    },
    {
     "data": {
      "text/markdown": [
       "<br><span style=\"color:#5ddd8f\">Sample</span>."
      ],
      "text/plain": [
       "<IPython.core.display.Markdown object>"
      ]
     },
     "metadata": {},
     "output_type": "display_data"
    },
    {
     "data": {
      "text/markdown": [
       "<br><span style=\"color:#f905ab\">Sample</span>."
      ],
      "text/plain": [
       "<IPython.core.display.Markdown object>"
      ]
     },
     "metadata": {},
     "output_type": "display_data"
    },
    {
     "data": {
      "text/markdown": [
       "<br><span style=\"color:#def46b\">Sample</span>."
      ],
      "text/plain": [
       "<IPython.core.display.Markdown object>"
      ]
     },
     "metadata": {},
     "output_type": "display_data"
    },
    {
     "data": {
      "text/markdown": [
       "<br><span style=\"color:#97602e\">Sample</span>."
      ],
      "text/plain": [
       "<IPython.core.display.Markdown object>"
      ]
     },
     "metadata": {},
     "output_type": "display_data"
    },
    {
     "data": {
      "text/markdown": [
       "<br><span style=\"color:#68e565\">Sample</span>."
      ],
      "text/plain": [
       "<IPython.core.display.Markdown object>"
      ]
     },
     "metadata": {},
     "output_type": "display_data"
    },
    {
     "data": {
      "text/markdown": [
       "<br><span style=\"color:#279078\">Sample</span>."
      ],
      "text/plain": [
       "<IPython.core.display.Markdown object>"
      ]
     },
     "metadata": {},
     "output_type": "display_data"
    },
    {
     "data": {
      "text/markdown": [
       "<br><span style=\"color:#08c2c3\">Sample</span>."
      ],
      "text/plain": [
       "<IPython.core.display.Markdown object>"
      ]
     },
     "metadata": {},
     "output_type": "display_data"
    },
    {
     "data": {
      "text/markdown": [
       "<br><span style=\"color:#f85293\">Sample</span>."
      ],
      "text/plain": [
       "<IPython.core.display.Markdown object>"
      ]
     },
     "metadata": {},
     "output_type": "display_data"
    },
    {
     "data": {
      "text/markdown": [
       "<br><span style=\"color:#590cbc\">Sample</span>."
      ],
      "text/plain": [
       "<IPython.core.display.Markdown object>"
      ]
     },
     "metadata": {},
     "output_type": "display_data"
    },
    {
     "data": {
      "text/markdown": [
       "<br><span style=\"color:#dc1bb1\">Sample</span>."
      ],
      "text/plain": [
       "<IPython.core.display.Markdown object>"
      ]
     },
     "metadata": {},
     "output_type": "display_data"
    },
    {
     "data": {
      "text/markdown": [
       "<br><span style=\"color:#a89c81\">Sample</span>."
      ],
      "text/plain": [
       "<IPython.core.display.Markdown object>"
      ]
     },
     "metadata": {},
     "output_type": "display_data"
    },
    {
     "data": {
      "text/markdown": [
       "<br><span style=\"color:#546f53\">Sample</span>."
      ],
      "text/plain": [
       "<IPython.core.display.Markdown object>"
      ]
     },
     "metadata": {},
     "output_type": "display_data"
    },
    {
     "data": {
      "text/markdown": [
       "<br><span style=\"color:#9ea547\">Sample</span>."
      ],
      "text/plain": [
       "<IPython.core.display.Markdown object>"
      ]
     },
     "metadata": {},
     "output_type": "display_data"
    },
    {
     "data": {
      "text/markdown": [
       "<br><span style=\"color:#3cefb9\">Sample</span>."
      ],
      "text/plain": [
       "<IPython.core.display.Markdown object>"
      ]
     },
     "metadata": {},
     "output_type": "display_data"
    },
    {
     "data": {
      "text/markdown": [
       "<br><span style=\"color:#9aaac3\">Sample</span>."
      ],
      "text/plain": [
       "<IPython.core.display.Markdown object>"
      ]
     },
     "metadata": {},
     "output_type": "display_data"
    },
    {
     "data": {
      "text/markdown": [
       "<br><span style=\"color:#c774db\">Sample</span>."
      ],
      "text/plain": [
       "<IPython.core.display.Markdown object>"
      ]
     },
     "metadata": {},
     "output_type": "display_data"
    },
    {
     "data": {
      "text/markdown": [
       "<br><span style=\"color:#c2eff2\">Sample</span>."
      ],
      "text/plain": [
       "<IPython.core.display.Markdown object>"
      ]
     },
     "metadata": {},
     "output_type": "display_data"
    },
    {
     "data": {
      "text/markdown": [
       "<br><span style=\"color:#c6162e\">Sample</span>."
      ],
      "text/plain": [
       "<IPython.core.display.Markdown object>"
      ]
     },
     "metadata": {},
     "output_type": "display_data"
    },
    {
     "data": {
      "text/markdown": [
       "<br><span style=\"color:#82f660\">Sample</span>."
      ],
      "text/plain": [
       "<IPython.core.display.Markdown object>"
      ]
     },
     "metadata": {},
     "output_type": "display_data"
    },
    {
     "data": {
      "text/markdown": [
       "<br><span style=\"color:#71b09d\">Sample</span>."
      ],
      "text/plain": [
       "<IPython.core.display.Markdown object>"
      ]
     },
     "metadata": {},
     "output_type": "display_data"
    },
    {
     "data": {
      "text/markdown": [
       "<br><span style=\"color:#354951\">Sample</span>."
      ],
      "text/plain": [
       "<IPython.core.display.Markdown object>"
      ]
     },
     "metadata": {},
     "output_type": "display_data"
    },
    {
     "data": {
      "text/markdown": [
       "<br><span style=\"color:#351656\">Sample</span>."
      ],
      "text/plain": [
       "<IPython.core.display.Markdown object>"
      ]
     },
     "metadata": {},
     "output_type": "display_data"
    },
    {
     "data": {
      "text/markdown": [
       "<br><span style=\"color:#dc49cb\">Sample</span>."
      ],
      "text/plain": [
       "<IPython.core.display.Markdown object>"
      ]
     },
     "metadata": {},
     "output_type": "display_data"
    },
    {
     "data": {
      "text/markdown": [
       "<br><span style=\"color:#32576e\">Sample</span>."
      ],
      "text/plain": [
       "<IPython.core.display.Markdown object>"
      ]
     },
     "metadata": {},
     "output_type": "display_data"
    },
    {
     "data": {
      "text/markdown": [
       "<br><span style=\"color:#a432b5\">Sample</span>."
      ],
      "text/plain": [
       "<IPython.core.display.Markdown object>"
      ]
     },
     "metadata": {},
     "output_type": "display_data"
    },
    {
     "data": {
      "text/markdown": [
       "<br><span style=\"color:#91f1e0\">Sample</span>."
      ],
      "text/plain": [
       "<IPython.core.display.Markdown object>"
      ]
     },
     "metadata": {},
     "output_type": "display_data"
    },
    {
     "data": {
      "text/markdown": [
       "<br><span style=\"color:#8014c8\">Sample</span>."
      ],
      "text/plain": [
       "<IPython.core.display.Markdown object>"
      ]
     },
     "metadata": {},
     "output_type": "display_data"
    },
    {
     "data": {
      "text/markdown": [
       "<br><span style=\"color:#8597df\">Sample</span>."
      ],
      "text/plain": [
       "<IPython.core.display.Markdown object>"
      ]
     },
     "metadata": {},
     "output_type": "display_data"
    },
    {
     "data": {
      "text/markdown": [
       "<br><span style=\"color:#6baf87\">Sample</span>."
      ],
      "text/plain": [
       "<IPython.core.display.Markdown object>"
      ]
     },
     "metadata": {},
     "output_type": "display_data"
    },
    {
     "data": {
      "text/markdown": [
       "<br><span style=\"color:#9ed5da\">Sample</span>."
      ],
      "text/plain": [
       "<IPython.core.display.Markdown object>"
      ]
     },
     "metadata": {},
     "output_type": "display_data"
    },
    {
     "data": {
      "text/markdown": [
       "<br><span style=\"color:#7b9168\">Sample</span>."
      ],
      "text/plain": [
       "<IPython.core.display.Markdown object>"
      ]
     },
     "metadata": {},
     "output_type": "display_data"
    },
    {
     "data": {
      "text/markdown": [
       "<br><span style=\"color:#548d20\">Sample</span>."
      ],
      "text/plain": [
       "<IPython.core.display.Markdown object>"
      ]
     },
     "metadata": {},
     "output_type": "display_data"
    },
    {
     "data": {
      "text/markdown": [
       "<br><span style=\"color:#36cfcd\">Sample</span>."
      ],
      "text/plain": [
       "<IPython.core.display.Markdown object>"
      ]
     },
     "metadata": {},
     "output_type": "display_data"
    },
    {
     "data": {
      "text/markdown": [
       "<br><span style=\"color:#355a9a\">Sample</span>."
      ],
      "text/plain": [
       "<IPython.core.display.Markdown object>"
      ]
     },
     "metadata": {},
     "output_type": "display_data"
    },
    {
     "data": {
      "text/markdown": [
       "<br><span style=\"color:#ad7896\">Sample</span>."
      ],
      "text/plain": [
       "<IPython.core.display.Markdown object>"
      ]
     },
     "metadata": {},
     "output_type": "display_data"
    },
    {
     "data": {
      "text/markdown": [
       "<br><span style=\"color:#145ec9\">Sample</span>."
      ],
      "text/plain": [
       "<IPython.core.display.Markdown object>"
      ]
     },
     "metadata": {},
     "output_type": "display_data"
    },
    {
     "data": {
      "text/markdown": [
       "<br><span style=\"color:#bf5f94\">Sample</span>."
      ],
      "text/plain": [
       "<IPython.core.display.Markdown object>"
      ]
     },
     "metadata": {},
     "output_type": "display_data"
    },
    {
     "data": {
      "text/markdown": [
       "<br><span style=\"color:#98eab8\">Sample</span>."
      ],
      "text/plain": [
       "<IPython.core.display.Markdown object>"
      ]
     },
     "metadata": {},
     "output_type": "display_data"
    },
    {
     "data": {
      "text/markdown": [
       "<br><span style=\"color:#7c5c56\">Sample</span>."
      ],
      "text/plain": [
       "<IPython.core.display.Markdown object>"
      ]
     },
     "metadata": {},
     "output_type": "display_data"
    },
    {
     "data": {
      "text/markdown": [
       "<br><span style=\"color:#e5c92c\">Sample</span>."
      ],
      "text/plain": [
       "<IPython.core.display.Markdown object>"
      ]
     },
     "metadata": {},
     "output_type": "display_data"
    },
    {
     "data": {
      "text/markdown": [
       "<br><span style=\"color:#26f524\">Sample</span>."
      ],
      "text/plain": [
       "<IPython.core.display.Markdown object>"
      ]
     },
     "metadata": {},
     "output_type": "display_data"
    },
    {
     "data": {
      "text/markdown": [
       "<br><span style=\"color:#17a690\">Sample</span>."
      ],
      "text/plain": [
       "<IPython.core.display.Markdown object>"
      ]
     },
     "metadata": {},
     "output_type": "display_data"
    },
    {
     "data": {
      "text/markdown": [
       "<br><span style=\"color:#dde7bd\">Sample</span>."
      ],
      "text/plain": [
       "<IPython.core.display.Markdown object>"
      ]
     },
     "metadata": {},
     "output_type": "display_data"
    },
    {
     "data": {
      "text/markdown": [
       "<br><span style=\"color:#2b0e2d\">Sample</span>."
      ],
      "text/plain": [
       "<IPython.core.display.Markdown object>"
      ]
     },
     "metadata": {},
     "output_type": "display_data"
    },
    {
     "data": {
      "text/markdown": [
       "<br><span style=\"color:#85269e\">Sample</span>."
      ],
      "text/plain": [
       "<IPython.core.display.Markdown object>"
      ]
     },
     "metadata": {},
     "output_type": "display_data"
    },
    {
     "data": {
      "text/markdown": [
       "<br><span style=\"color:#d838ea\">Sample</span>."
      ],
      "text/plain": [
       "<IPython.core.display.Markdown object>"
      ]
     },
     "metadata": {},
     "output_type": "display_data"
    },
    {
     "data": {
      "text/markdown": [
       "<br><span style=\"color:#60f06f\">Sample</span>."
      ],
      "text/plain": [
       "<IPython.core.display.Markdown object>"
      ]
     },
     "metadata": {},
     "output_type": "display_data"
    },
    {
     "data": {
      "text/markdown": [
       "<br><span style=\"color:#f34d00\">Sample</span>."
      ],
      "text/plain": [
       "<IPython.core.display.Markdown object>"
      ]
     },
     "metadata": {},
     "output_type": "display_data"
    },
    {
     "data": {
      "text/markdown": [
       "<br><span style=\"color:#f5d64c\">Sample</span>."
      ],
      "text/plain": [
       "<IPython.core.display.Markdown object>"
      ]
     },
     "metadata": {},
     "output_type": "display_data"
    },
    {
     "data": {
      "text/markdown": [
       "<br><span style=\"color:#e82e21\">Sample</span>."
      ],
      "text/plain": [
       "<IPython.core.display.Markdown object>"
      ]
     },
     "metadata": {},
     "output_type": "display_data"
    },
    {
     "data": {
      "text/markdown": [
       "<br><span style=\"color:#fe7a47\">Sample</span>."
      ],
      "text/plain": [
       "<IPython.core.display.Markdown object>"
      ]
     },
     "metadata": {},
     "output_type": "display_data"
    },
    {
     "data": {
      "text/markdown": [
       "<br><span style=\"color:#48204c\">Sample</span>."
      ],
      "text/plain": [
       "<IPython.core.display.Markdown object>"
      ]
     },
     "metadata": {},
     "output_type": "display_data"
    },
    {
     "data": {
      "text/markdown": [
       "<br><span style=\"color:#d0c09d\">Sample</span>."
      ],
      "text/plain": [
       "<IPython.core.display.Markdown object>"
      ]
     },
     "metadata": {},
     "output_type": "display_data"
    },
    {
     "data": {
      "text/markdown": [
       "<br><span style=\"color:#82ccef\">Sample</span>."
      ],
      "text/plain": [
       "<IPython.core.display.Markdown object>"
      ]
     },
     "metadata": {},
     "output_type": "display_data"
    },
    {
     "data": {
      "text/markdown": [
       "<br><span style=\"color:#67a38b\">Sample</span>."
      ],
      "text/plain": [
       "<IPython.core.display.Markdown object>"
      ]
     },
     "metadata": {},
     "output_type": "display_data"
    },
    {
     "data": {
      "text/markdown": [
       "<br><span style=\"color:#40ff04\">Sample</span>."
      ],
      "text/plain": [
       "<IPython.core.display.Markdown object>"
      ]
     },
     "metadata": {},
     "output_type": "display_data"
    },
    {
     "data": {
      "text/markdown": [
       "<br><span style=\"color:#b94cb1\">Sample</span>."
      ],
      "text/plain": [
       "<IPython.core.display.Markdown object>"
      ]
     },
     "metadata": {},
     "output_type": "display_data"
    },
    {
     "data": {
      "text/markdown": [
       "<br><span style=\"color:#1aa7d2\">Sample</span>."
      ],
      "text/plain": [
       "<IPython.core.display.Markdown object>"
      ]
     },
     "metadata": {},
     "output_type": "display_data"
    },
    {
     "data": {
      "text/markdown": [
       "<br><span style=\"color:#bd5211\">Sample</span>."
      ],
      "text/plain": [
       "<IPython.core.display.Markdown object>"
      ]
     },
     "metadata": {},
     "output_type": "display_data"
    },
    {
     "data": {
      "text/markdown": [
       "<br><span style=\"color:#892f34\">Sample</span>."
      ],
      "text/plain": [
       "<IPython.core.display.Markdown object>"
      ]
     },
     "metadata": {},
     "output_type": "display_data"
    },
    {
     "data": {
      "text/markdown": [
       "<br><span style=\"color:#ac7d9b\">Sample</span>."
      ],
      "text/plain": [
       "<IPython.core.display.Markdown object>"
      ]
     },
     "metadata": {},
     "output_type": "display_data"
    },
    {
     "data": {
      "text/markdown": [
       "<br><span style=\"color:#7e63dd\">Sample</span>."
      ],
      "text/plain": [
       "<IPython.core.display.Markdown object>"
      ]
     },
     "metadata": {},
     "output_type": "display_data"
    },
    {
     "data": {
      "text/markdown": [
       "<br><span style=\"color:#ffe02e\">Sample</span>."
      ],
      "text/plain": [
       "<IPython.core.display.Markdown object>"
      ]
     },
     "metadata": {},
     "output_type": "display_data"
    },
    {
     "data": {
      "text/markdown": [
       "<br><span style=\"color:#5aec78\">Sample</span>."
      ],
      "text/plain": [
       "<IPython.core.display.Markdown object>"
      ]
     },
     "metadata": {},
     "output_type": "display_data"
    },
    {
     "data": {
      "text/markdown": [
       "<br><span style=\"color:#278a75\">Sample</span>."
      ],
      "text/plain": [
       "<IPython.core.display.Markdown object>"
      ]
     },
     "metadata": {},
     "output_type": "display_data"
    },
    {
     "data": {
      "text/markdown": [
       "<br><span style=\"color:#295f4a\">Sample</span>."
      ],
      "text/plain": [
       "<IPython.core.display.Markdown object>"
      ]
     },
     "metadata": {},
     "output_type": "display_data"
    },
    {
     "data": {
      "text/markdown": [
       "<br><span style=\"color:#768e8f\">Sample</span>."
      ],
      "text/plain": [
       "<IPython.core.display.Markdown object>"
      ]
     },
     "metadata": {},
     "output_type": "display_data"
    },
    {
     "data": {
      "text/markdown": [
       "<br><span style=\"color:#ab7f1e\">Sample</span>."
      ],
      "text/plain": [
       "<IPython.core.display.Markdown object>"
      ]
     },
     "metadata": {},
     "output_type": "display_data"
    },
    {
     "data": {
      "text/markdown": [
       "<br><span style=\"color:#5ccd84\">Sample</span>."
      ],
      "text/plain": [
       "<IPython.core.display.Markdown object>"
      ]
     },
     "metadata": {},
     "output_type": "display_data"
    },
    {
     "data": {
      "text/markdown": [
       "<br><span style=\"color:#313d38\">Sample</span>."
      ],
      "text/plain": [
       "<IPython.core.display.Markdown object>"
      ]
     },
     "metadata": {},
     "output_type": "display_data"
    },
    {
     "data": {
      "text/markdown": [
       "<br><span style=\"color:#5197b9\">Sample</span>."
      ],
      "text/plain": [
       "<IPython.core.display.Markdown object>"
      ]
     },
     "metadata": {},
     "output_type": "display_data"
    },
    {
     "data": {
      "text/markdown": [
       "<br><span style=\"color:#d61629\">Sample</span>."
      ],
      "text/plain": [
       "<IPython.core.display.Markdown object>"
      ]
     },
     "metadata": {},
     "output_type": "display_data"
    },
    {
     "data": {
      "text/markdown": [
       "<br><span style=\"color:#262313\">Sample</span>."
      ],
      "text/plain": [
       "<IPython.core.display.Markdown object>"
      ]
     },
     "metadata": {},
     "output_type": "display_data"
    },
    {
     "data": {
      "text/markdown": [
       "<br><span style=\"color:#936f45\">Sample</span>."
      ],
      "text/plain": [
       "<IPython.core.display.Markdown object>"
      ]
     },
     "metadata": {},
     "output_type": "display_data"
    },
    {
     "data": {
      "text/markdown": [
       "<br><span style=\"color:#35a6c7\">Sample</span>."
      ],
      "text/plain": [
       "<IPython.core.display.Markdown object>"
      ]
     },
     "metadata": {},
     "output_type": "display_data"
    },
    {
     "data": {
      "text/markdown": [
       "<br><span style=\"color:#f26a84\">Sample</span>."
      ],
      "text/plain": [
       "<IPython.core.display.Markdown object>"
      ]
     },
     "metadata": {},
     "output_type": "display_data"
    },
    {
     "data": {
      "text/markdown": [
       "<br><span style=\"color:#08e54c\">Sample</span>."
      ],
      "text/plain": [
       "<IPython.core.display.Markdown object>"
      ]
     },
     "metadata": {},
     "output_type": "display_data"
    },
    {
     "data": {
      "text/markdown": [
       "<br><span style=\"color:#1270b7\">Sample</span>."
      ],
      "text/plain": [
       "<IPython.core.display.Markdown object>"
      ]
     },
     "metadata": {},
     "output_type": "display_data"
    },
    {
     "data": {
      "text/markdown": [
       "<br><span style=\"color:#76653f\">Sample</span>."
      ],
      "text/plain": [
       "<IPython.core.display.Markdown object>"
      ]
     },
     "metadata": {},
     "output_type": "display_data"
    },
    {
     "data": {
      "text/markdown": [
       "<br><span style=\"color:#a600b3\">Sample</span>."
      ],
      "text/plain": [
       "<IPython.core.display.Markdown object>"
      ]
     },
     "metadata": {},
     "output_type": "display_data"
    },
    {
     "data": {
      "text/markdown": [
       "<br><span style=\"color:#9add9b\">Sample</span>."
      ],
      "text/plain": [
       "<IPython.core.display.Markdown object>"
      ]
     },
     "metadata": {},
     "output_type": "display_data"
    },
    {
     "data": {
      "text/markdown": [
       "<br><span style=\"color:#ccb923\">Sample</span>."
      ],
      "text/plain": [
       "<IPython.core.display.Markdown object>"
      ]
     },
     "metadata": {},
     "output_type": "display_data"
    },
    {
     "data": {
      "text/markdown": [
       "<br><span style=\"color:#493e8b\">Sample</span>."
      ],
      "text/plain": [
       "<IPython.core.display.Markdown object>"
      ]
     },
     "metadata": {},
     "output_type": "display_data"
    },
    {
     "data": {
      "text/markdown": [
       "<br><span style=\"color:#8f2d37\">Sample</span>."
      ],
      "text/plain": [
       "<IPython.core.display.Markdown object>"
      ]
     },
     "metadata": {},
     "output_type": "display_data"
    },
    {
     "data": {
      "text/markdown": [
       "<br><span style=\"color:#f91868\">Sample</span>."
      ],
      "text/plain": [
       "<IPython.core.display.Markdown object>"
      ]
     },
     "metadata": {},
     "output_type": "display_data"
    },
    {
     "data": {
      "text/markdown": [
       "<br><span style=\"color:#57e924\">Sample</span>."
      ],
      "text/plain": [
       "<IPython.core.display.Markdown object>"
      ]
     },
     "metadata": {},
     "output_type": "display_data"
    },
    {
     "data": {
      "text/markdown": [
       "<br><span style=\"color:#f88515\">Sample</span>."
      ],
      "text/plain": [
       "<IPython.core.display.Markdown object>"
      ]
     },
     "metadata": {},
     "output_type": "display_data"
    },
    {
     "data": {
      "text/markdown": [
       "<br><span style=\"color:#47c359\">Sample</span>."
      ],
      "text/plain": [
       "<IPython.core.display.Markdown object>"
      ]
     },
     "metadata": {},
     "output_type": "display_data"
    },
    {
     "data": {
      "text/markdown": [
       "<br><span style=\"color:#8b4fbe\">Sample</span>."
      ],
      "text/plain": [
       "<IPython.core.display.Markdown object>"
      ]
     },
     "metadata": {},
     "output_type": "display_data"
    },
    {
     "data": {
      "text/markdown": [
       "<br><span style=\"color:#ce278d\">Sample</span>."
      ],
      "text/plain": [
       "<IPython.core.display.Markdown object>"
      ]
     },
     "metadata": {},
     "output_type": "display_data"
    },
    {
     "data": {
      "text/markdown": [
       "<br><span style=\"color:#e80dd7\">Sample</span>."
      ],
      "text/plain": [
       "<IPython.core.display.Markdown object>"
      ]
     },
     "metadata": {},
     "output_type": "display_data"
    }
   ],
   "source": [
    "from IPython.display import Markdown\n",
    "for color in color_dict:\n",
    "    display (Markdown('<br><span style=\"color:' +color['color_code']+ '\">Sample</span>.'))\n",
    "    \n"
   ]
  },
  {
   "cell_type": "code",
   "execution_count": 23,
   "metadata": {},
   "outputs": [
    {
     "name": "stdout",
     "output_type": "stream",
     "text": [
      "(2723, 191)\n"
     ]
    },
    {
     "data": {
      "text/html": [
       "<div>\n",
       "<style scoped>\n",
       "    .dataframe tbody tr th:only-of-type {\n",
       "        vertical-align: middle;\n",
       "    }\n",
       "\n",
       "    .dataframe tbody tr th {\n",
       "        vertical-align: top;\n",
       "    }\n",
       "\n",
       "    .dataframe thead th {\n",
       "        text-align: right;\n",
       "    }\n",
       "</style>\n",
       "<table border=\"1\" class=\"dataframe\">\n",
       "  <thead>\n",
       "    <tr style=\"text-align: right;\">\n",
       "      <th></th>\n",
       "      <th>EntryID</th>\n",
       "      <th>LemmaID</th>\n",
       "      <th>Code</th>\n",
       "      <th>Batch</th>\n",
       "      <th>List</th>\n",
       "      <th>Item</th>\n",
       "      <th>EnglishWF(lg10)</th>\n",
       "      <th>SignFrequency(M)</th>\n",
       "      <th>SignFrequency(SD)</th>\n",
       "      <th>SignFrequency(Z)</th>\n",
       "      <th>...</th>\n",
       "      <th>InCDI</th>\n",
       "      <th>CDISemanticCategory</th>\n",
       "      <th>bglm_aoa</th>\n",
       "      <th>empirical_aoa</th>\n",
       "      <th>YouTube Video</th>\n",
       "      <th>VimeoVideo</th>\n",
       "      <th>VimeoVideoHTML</th>\n",
       "      <th>HandshapeImage</th>\n",
       "      <th>group_id</th>\n",
       "      <th>color_code</th>\n",
       "    </tr>\n",
       "  </thead>\n",
       "  <tbody>\n",
       "    <tr>\n",
       "      <th>0</th>\n",
       "      <td>tree</td>\n",
       "      <td>tree</td>\n",
       "      <td>A_01_002</td>\n",
       "      <td>A</td>\n",
       "      <td>1</td>\n",
       "      <td>2</td>\n",
       "      <td>3.521</td>\n",
       "      <td>5.143</td>\n",
       "      <td>2.081</td>\n",
       "      <td>0.621</td>\n",
       "      <td>...</td>\n",
       "      <td>Yes</td>\n",
       "      <td>Outside Things and Places to Go</td>\n",
       "      <td>22.0</td>\n",
       "      <td>14.0</td>\n",
       "      <td>&lt;iframe width=\"280\" height=\"158\" src=\"https://...</td>\n",
       "      <td>https://player.vimeo.com/video/344216264</td>\n",
       "      <td>&lt;iframe src=https://player.vimeo.com/video/344...</td>\n",
       "      <td>&lt;img width=\"100\" height=\"100\" src=\"https://asl...</td>\n",
       "      <td>0.0</td>\n",
       "      <td>#2adce2</td>\n",
       "    </tr>\n",
       "    <tr>\n",
       "      <th>1</th>\n",
       "      <td>night</td>\n",
       "      <td>night</td>\n",
       "      <td>A_01_003</td>\n",
       "      <td>A</td>\n",
       "      <td>1</td>\n",
       "      <td>3</td>\n",
       "      <td>4.645</td>\n",
       "      <td>6.032</td>\n",
       "      <td>1.516</td>\n",
       "      <td>1.068</td>\n",
       "      <td>...</td>\n",
       "      <td>Yes</td>\n",
       "      <td>Signs About Time</td>\n",
       "      <td>31.0</td>\n",
       "      <td>18.0</td>\n",
       "      <td>&lt;iframe width=\"280\" height=\"158\" src=\"https://...</td>\n",
       "      <td>https://player.vimeo.com/video/344216312</td>\n",
       "      <td>&lt;iframe src=https://player.vimeo.com/video/344...</td>\n",
       "      <td>&lt;img width=\"100\" height=\"100\" src=\"https://asl...</td>\n",
       "      <td>1.0</td>\n",
       "      <td>#8b63fc</td>\n",
       "    </tr>\n",
       "    <tr>\n",
       "      <th>2</th>\n",
       "      <td>hamburger</td>\n",
       "      <td>hamburger</td>\n",
       "      <td>A_01_004</td>\n",
       "      <td>A</td>\n",
       "      <td>1</td>\n",
       "      <td>4</td>\n",
       "      <td>2.600</td>\n",
       "      <td>4.429</td>\n",
       "      <td>1.720</td>\n",
       "      <td>0.232</td>\n",
       "      <td>...</td>\n",
       "      <td>Yes</td>\n",
       "      <td>Food and Drink</td>\n",
       "      <td>32.0</td>\n",
       "      <td>28.0</td>\n",
       "      <td>&lt;iframe width=\"280\" height=\"158\" src=\"https://...</td>\n",
       "      <td>https://player.vimeo.com/video/344216345</td>\n",
       "      <td>&lt;iframe src=https://player.vimeo.com/video/344...</td>\n",
       "      <td>&lt;img width=\"100\" height=\"100\" src=\"https://asl...</td>\n",
       "      <td>2.0</td>\n",
       "      <td>#e44db9</td>\n",
       "    </tr>\n",
       "    <tr>\n",
       "      <th>3</th>\n",
       "      <td>nephew</td>\n",
       "      <td>nephew</td>\n",
       "      <td>A_01_005</td>\n",
       "      <td>A</td>\n",
       "      <td>1</td>\n",
       "      <td>5</td>\n",
       "      <td>2.928</td>\n",
       "      <td>2.621</td>\n",
       "      <td>1.720</td>\n",
       "      <td>-0.753</td>\n",
       "      <td>...</td>\n",
       "      <td>No</td>\n",
       "      <td>NaN</td>\n",
       "      <td>NaN</td>\n",
       "      <td>NaN</td>\n",
       "      <td>&lt;iframe width=\"280\" height=\"158\" src=\"https://...</td>\n",
       "      <td>https://player.vimeo.com/video/344216367</td>\n",
       "      <td>&lt;iframe src=https://player.vimeo.com/video/344...</td>\n",
       "      <td>&lt;img width=\"100\" height=\"100\" src=\"https://asl...</td>\n",
       "      <td>1000.0</td>\n",
       "      <td>#194cee</td>\n",
       "    </tr>\n",
       "    <tr>\n",
       "      <th>4</th>\n",
       "      <td>castle</td>\n",
       "      <td>castle</td>\n",
       "      <td>A_01_008</td>\n",
       "      <td>A</td>\n",
       "      <td>1</td>\n",
       "      <td>8</td>\n",
       "      <td>3.041</td>\n",
       "      <td>1.579</td>\n",
       "      <td>0.838</td>\n",
       "      <td>-1.198</td>\n",
       "      <td>...</td>\n",
       "      <td>No</td>\n",
       "      <td>Action Signs</td>\n",
       "      <td>NaN</td>\n",
       "      <td>NaN</td>\n",
       "      <td>&lt;iframe width=\"280\" height=\"158\" src=\"https://...</td>\n",
       "      <td>https://player.vimeo.com/video/344216403</td>\n",
       "      <td>&lt;iframe src=https://player.vimeo.com/video/344...</td>\n",
       "      <td>&lt;img width=\"100\" height=\"100\" src=\"https://asl...</td>\n",
       "      <td>3.0</td>\n",
       "      <td>#4d0b58</td>\n",
       "    </tr>\n",
       "  </tbody>\n",
       "</table>\n",
       "<p>5 rows × 191 columns</p>\n",
       "</div>"
      ],
      "text/plain": [
       "     EntryID    LemmaID      Code Batch  List  Item  EnglishWF(lg10)  \\\n",
       "0       tree       tree  A_01_002     A     1     2            3.521   \n",
       "1      night      night  A_01_003     A     1     3            4.645   \n",
       "2  hamburger  hamburger  A_01_004     A     1     4            2.600   \n",
       "3     nephew     nephew  A_01_005     A     1     5            2.928   \n",
       "4     castle     castle  A_01_008     A     1     8            3.041   \n",
       "\n",
       "   SignFrequency(M)  SignFrequency(SD)  SignFrequency(Z)  ...  InCDI  \\\n",
       "0             5.143              2.081             0.621  ...    Yes   \n",
       "1             6.032              1.516             1.068  ...    Yes   \n",
       "2             4.429              1.720             0.232  ...    Yes   \n",
       "3             2.621              1.720            -0.753  ...     No   \n",
       "4             1.579              0.838            -1.198  ...     No   \n",
       "\n",
       "               CDISemanticCategory  bglm_aoa  empirical_aoa  \\\n",
       "0  Outside Things and Places to Go      22.0           14.0   \n",
       "1                 Signs About Time      31.0           18.0   \n",
       "2                   Food and Drink      32.0           28.0   \n",
       "3                              NaN       NaN            NaN   \n",
       "4                     Action Signs       NaN            NaN   \n",
       "\n",
       "                                       YouTube Video  \\\n",
       "0  <iframe width=\"280\" height=\"158\" src=\"https://...   \n",
       "1  <iframe width=\"280\" height=\"158\" src=\"https://...   \n",
       "2  <iframe width=\"280\" height=\"158\" src=\"https://...   \n",
       "3  <iframe width=\"280\" height=\"158\" src=\"https://...   \n",
       "4  <iframe width=\"280\" height=\"158\" src=\"https://...   \n",
       "\n",
       "                                 VimeoVideo  \\\n",
       "0  https://player.vimeo.com/video/344216264   \n",
       "1  https://player.vimeo.com/video/344216312   \n",
       "2  https://player.vimeo.com/video/344216345   \n",
       "3  https://player.vimeo.com/video/344216367   \n",
       "4  https://player.vimeo.com/video/344216403   \n",
       "\n",
       "                                      VimeoVideoHTML  \\\n",
       "0  <iframe src=https://player.vimeo.com/video/344...   \n",
       "1  <iframe src=https://player.vimeo.com/video/344...   \n",
       "2  <iframe src=https://player.vimeo.com/video/344...   \n",
       "3  <iframe src=https://player.vimeo.com/video/344...   \n",
       "4  <iframe src=https://player.vimeo.com/video/344...   \n",
       "\n",
       "                                      HandshapeImage  group_id  color_code  \n",
       "0  <img width=\"100\" height=\"100\" src=\"https://asl...       0.0     #2adce2  \n",
       "1  <img width=\"100\" height=\"100\" src=\"https://asl...       1.0     #8b63fc  \n",
       "2  <img width=\"100\" height=\"100\" src=\"https://asl...       2.0     #e44db9  \n",
       "3  <img width=\"100\" height=\"100\" src=\"https://asl...    1000.0     #194cee  \n",
       "4  <img width=\"100\" height=\"100\" src=\"https://asl...       3.0     #4d0b58  \n",
       "\n",
       "[5 rows x 191 columns]"
      ]
     },
     "execution_count": 23,
     "metadata": {},
     "output_type": "execute_result"
    }
   ],
   "source": [
    "color_df = pd.DataFrame(color_dict)\n",
    "df_merged_with_color = pd.merge(df_merged, color_df,how='left', on=['group_id'])\n",
    "print(df_merged_with_color.shape)\n",
    "df_merged_with_color.head()\n"
   ]
  },
  {
   "cell_type": "code",
   "execution_count": 24,
   "metadata": {},
   "outputs": [
    {
     "data": {
      "text/plain": [
       "(2723, 191)"
      ]
     },
     "execution_count": 24,
     "metadata": {},
     "output_type": "execute_result"
    }
   ],
   "source": [
    "df_merged_with_color.shape"
   ]
  },
  {
   "cell_type": "code",
   "execution_count": 25,
   "metadata": {},
   "outputs": [
    {
     "name": "stdout",
     "output_type": "stream",
     "text": [
      "(2723, 5)\n"
     ]
    },
    {
     "data": {
      "text/html": [
       "<div>\n",
       "<style scoped>\n",
       "    .dataframe tbody tr th:only-of-type {\n",
       "        vertical-align: middle;\n",
       "    }\n",
       "\n",
       "    .dataframe tbody tr th {\n",
       "        vertical-align: top;\n",
       "    }\n",
       "\n",
       "    .dataframe thead th {\n",
       "        text-align: right;\n",
       "    }\n",
       "</style>\n",
       "<table border=\"1\" class=\"dataframe\">\n",
       "  <thead>\n",
       "    <tr style=\"text-align: right;\">\n",
       "      <th></th>\n",
       "      <th>EntryID</th>\n",
       "      <th>Code</th>\n",
       "      <th>group_id</th>\n",
       "      <th>color_code</th>\n",
       "      <th>SignFrequency(Z)</th>\n",
       "    </tr>\n",
       "  </thead>\n",
       "  <tbody>\n",
       "    <tr>\n",
       "      <th>0</th>\n",
       "      <td>tree</td>\n",
       "      <td>A_01_002</td>\n",
       "      <td>0.0</td>\n",
       "      <td>#2adce2</td>\n",
       "      <td>0.621</td>\n",
       "    </tr>\n",
       "    <tr>\n",
       "      <th>1</th>\n",
       "      <td>night</td>\n",
       "      <td>A_01_003</td>\n",
       "      <td>1.0</td>\n",
       "      <td>#8b63fc</td>\n",
       "      <td>1.068</td>\n",
       "    </tr>\n",
       "    <tr>\n",
       "      <th>2</th>\n",
       "      <td>hamburger</td>\n",
       "      <td>A_01_004</td>\n",
       "      <td>2.0</td>\n",
       "      <td>#e44db9</td>\n",
       "      <td>0.232</td>\n",
       "    </tr>\n",
       "    <tr>\n",
       "      <th>3</th>\n",
       "      <td>nephew</td>\n",
       "      <td>A_01_005</td>\n",
       "      <td>1000.0</td>\n",
       "      <td>#194cee</td>\n",
       "      <td>-0.753</td>\n",
       "    </tr>\n",
       "    <tr>\n",
       "      <th>4</th>\n",
       "      <td>castle</td>\n",
       "      <td>A_01_008</td>\n",
       "      <td>3.0</td>\n",
       "      <td>#4d0b58</td>\n",
       "      <td>-1.198</td>\n",
       "    </tr>\n",
       "    <tr>\n",
       "      <th>5</th>\n",
       "      <td>humble</td>\n",
       "      <td>A_01_009</td>\n",
       "      <td>4.0</td>\n",
       "      <td>#734819</td>\n",
       "      <td>-0.418</td>\n",
       "    </tr>\n",
       "    <tr>\n",
       "      <th>6</th>\n",
       "      <td>cup</td>\n",
       "      <td>A_01_010</td>\n",
       "      <td>5.0</td>\n",
       "      <td>#d4f98c</td>\n",
       "      <td>0.909</td>\n",
       "    </tr>\n",
       "    <tr>\n",
       "      <th>7</th>\n",
       "      <td>english</td>\n",
       "      <td>A_01_011</td>\n",
       "      <td>1000.0</td>\n",
       "      <td>#194cee</td>\n",
       "      <td>0.326</td>\n",
       "    </tr>\n",
       "    <tr>\n",
       "      <th>8</th>\n",
       "      <td>eyeglasses</td>\n",
       "      <td>A_01_012</td>\n",
       "      <td>1000.0</td>\n",
       "      <td>#194cee</td>\n",
       "      <td>0.329</td>\n",
       "    </tr>\n",
       "    <tr>\n",
       "      <th>9</th>\n",
       "      <td>tie</td>\n",
       "      <td>A_01_013</td>\n",
       "      <td>6.0</td>\n",
       "      <td>#86b94c</td>\n",
       "      <td>-0.751</td>\n",
       "    </tr>\n",
       "    <tr>\n",
       "      <th>10</th>\n",
       "      <td>dentist</td>\n",
       "      <td>A_01_014</td>\n",
       "      <td>7.0</td>\n",
       "      <td>#73e8db</td>\n",
       "      <td>-0.699</td>\n",
       "    </tr>\n",
       "    <tr>\n",
       "      <th>11</th>\n",
       "      <td>sandwich</td>\n",
       "      <td>A_01_015</td>\n",
       "      <td>1000.0</td>\n",
       "      <td>#194cee</td>\n",
       "      <td>-0.177</td>\n",
       "    </tr>\n",
       "    <tr>\n",
       "      <th>12</th>\n",
       "      <td>monkey</td>\n",
       "      <td>A_01_016</td>\n",
       "      <td>1000.0</td>\n",
       "      <td>#194cee</td>\n",
       "      <td>-0.363</td>\n",
       "    </tr>\n",
       "    <tr>\n",
       "      <th>13</th>\n",
       "      <td>chair</td>\n",
       "      <td>A_01_017</td>\n",
       "      <td>8.0</td>\n",
       "      <td>#2e5be8</td>\n",
       "      <td>0.858</td>\n",
       "    </tr>\n",
       "    <tr>\n",
       "      <th>14</th>\n",
       "      <td>candy_1</td>\n",
       "      <td>A_01_018</td>\n",
       "      <td>9.0</td>\n",
       "      <td>#bdab34</td>\n",
       "      <td>0.261</td>\n",
       "    </tr>\n",
       "    <tr>\n",
       "      <th>15</th>\n",
       "      <td>wander</td>\n",
       "      <td>A_01_019</td>\n",
       "      <td>10.0</td>\n",
       "      <td>#257969</td>\n",
       "      <td>-0.248</td>\n",
       "    </tr>\n",
       "    <tr>\n",
       "      <th>16</th>\n",
       "      <td>scientist</td>\n",
       "      <td>A_01_020</td>\n",
       "      <td>11.0</td>\n",
       "      <td>#4f6107</td>\n",
       "      <td>-0.230</td>\n",
       "    </tr>\n",
       "    <tr>\n",
       "      <th>17</th>\n",
       "      <td>parachute</td>\n",
       "      <td>A_01_021</td>\n",
       "      <td>1000.0</td>\n",
       "      <td>#194cee</td>\n",
       "      <td>-1.279</td>\n",
       "    </tr>\n",
       "    <tr>\n",
       "      <th>18</th>\n",
       "      <td>read</td>\n",
       "      <td>A_01_022</td>\n",
       "      <td>12.0</td>\n",
       "      <td>#c624a4</td>\n",
       "      <td>1.254</td>\n",
       "    </tr>\n",
       "    <tr>\n",
       "      <th>19</th>\n",
       "      <td>cat</td>\n",
       "      <td>A_01_023</td>\n",
       "      <td>9.0</td>\n",
       "      <td>#bdab34</td>\n",
       "      <td>0.597</td>\n",
       "    </tr>\n",
       "  </tbody>\n",
       "</table>\n",
       "</div>"
      ],
      "text/plain": [
       "       EntryID      Code  group_id color_code  SignFrequency(Z)\n",
       "0         tree  A_01_002       0.0    #2adce2             0.621\n",
       "1        night  A_01_003       1.0    #8b63fc             1.068\n",
       "2    hamburger  A_01_004       2.0    #e44db9             0.232\n",
       "3       nephew  A_01_005    1000.0    #194cee            -0.753\n",
       "4       castle  A_01_008       3.0    #4d0b58            -1.198\n",
       "5       humble  A_01_009       4.0    #734819            -0.418\n",
       "6          cup  A_01_010       5.0    #d4f98c             0.909\n",
       "7      english  A_01_011    1000.0    #194cee             0.326\n",
       "8   eyeglasses  A_01_012    1000.0    #194cee             0.329\n",
       "9          tie  A_01_013       6.0    #86b94c            -0.751\n",
       "10     dentist  A_01_014       7.0    #73e8db            -0.699\n",
       "11    sandwich  A_01_015    1000.0    #194cee            -0.177\n",
       "12      monkey  A_01_016    1000.0    #194cee            -0.363\n",
       "13       chair  A_01_017       8.0    #2e5be8             0.858\n",
       "14     candy_1  A_01_018       9.0    #bdab34             0.261\n",
       "15      wander  A_01_019      10.0    #257969            -0.248\n",
       "16   scientist  A_01_020      11.0    #4f6107            -0.230\n",
       "17   parachute  A_01_021    1000.0    #194cee            -1.279\n",
       "18        read  A_01_022      12.0    #c624a4             1.254\n",
       "19         cat  A_01_023       9.0    #bdab34             0.597"
      ]
     },
     "execution_count": 25,
     "metadata": {},
     "output_type": "execute_result"
    }
   ],
   "source": [
    "#Need only 5 columns for now for the graph file\n",
    "df_node_graph_json_data = df_merged_with_color[[\"EntryID\", \"Code\", \"group_id\", \"color_code\", \"SignFrequency(Z)\"]]\n",
    "print(df_node_graph_json_data.shape)\n",
    "df_node_graph_json_data.head(20)\n"
   ]
  },
  {
   "cell_type": "code",
   "execution_count": 26,
   "metadata": {},
   "outputs": [
    {
     "data": {
      "text/html": [
       "<div>\n",
       "<style scoped>\n",
       "    .dataframe tbody tr th:only-of-type {\n",
       "        vertical-align: middle;\n",
       "    }\n",
       "\n",
       "    .dataframe tbody tr th {\n",
       "        vertical-align: top;\n",
       "    }\n",
       "\n",
       "    .dataframe thead th {\n",
       "        text-align: right;\n",
       "    }\n",
       "</style>\n",
       "<table border=\"1\" class=\"dataframe\">\n",
       "  <thead>\n",
       "    <tr style=\"text-align: right;\">\n",
       "      <th></th>\n",
       "      <th>target</th>\n",
       "      <th>source</th>\n",
       "      <th>num_matched_features</th>\n",
       "      <th>matched_features</th>\n",
       "      <th>num_missed_features</th>\n",
       "      <th>missed_features</th>\n",
       "    </tr>\n",
       "  </thead>\n",
       "  <tbody>\n",
       "    <tr>\n",
       "      <th>0</th>\n",
       "      <td>A_01_002</td>\n",
       "      <td>B_01_062</td>\n",
       "      <td>12</td>\n",
       "      <td>SignType.2.0, MinorLocation.2.0, Movement.2.0,...</td>\n",
       "      <td>1</td>\n",
       "      <td>RepeatedMovement.2.0</td>\n",
       "    </tr>\n",
       "    <tr>\n",
       "      <th>1</th>\n",
       "      <td>A_01_002</td>\n",
       "      <td>C_03_023</td>\n",
       "      <td>12</td>\n",
       "      <td>SignType.2.0, MinorLocation.2.0, Movement.2.0,...</td>\n",
       "      <td>1</td>\n",
       "      <td>Flexion.2.0</td>\n",
       "    </tr>\n",
       "    <tr>\n",
       "      <th>2</th>\n",
       "      <td>A_01_002</td>\n",
       "      <td>G_01_038</td>\n",
       "      <td>12</td>\n",
       "      <td>SignType.2.0, MinorLocation.2.0, Contact.2.0, ...</td>\n",
       "      <td>1</td>\n",
       "      <td>Movement.2.0</td>\n",
       "    </tr>\n",
       "    <tr>\n",
       "      <th>3</th>\n",
       "      <td>A_01_002</td>\n",
       "      <td>J_03_046</td>\n",
       "      <td>12</td>\n",
       "      <td>SignType.2.0, MinorLocation.2.0, Movement.2.0,...</td>\n",
       "      <td>1</td>\n",
       "      <td>RepeatedMovement.2.0</td>\n",
       "    </tr>\n",
       "    <tr>\n",
       "      <th>4</th>\n",
       "      <td>A_01_003</td>\n",
       "      <td>D_02_047</td>\n",
       "      <td>14</td>\n",
       "      <td>SignType.2.0, MinorLocation.2.0, Movement.2.0,...</td>\n",
       "      <td>0</td>\n",
       "      <td>NaN</td>\n",
       "    </tr>\n",
       "  </tbody>\n",
       "</table>\n",
       "</div>"
      ],
      "text/plain": [
       "     target    source  num_matched_features  \\\n",
       "0  A_01_002  B_01_062                    12   \n",
       "1  A_01_002  C_03_023                    12   \n",
       "2  A_01_002  G_01_038                    12   \n",
       "3  A_01_002  J_03_046                    12   \n",
       "4  A_01_003  D_02_047                    14   \n",
       "\n",
       "                                    matched_features  num_missed_features  \\\n",
       "0  SignType.2.0, MinorLocation.2.0, Movement.2.0,...                    1   \n",
       "1  SignType.2.0, MinorLocation.2.0, Movement.2.0,...                    1   \n",
       "2  SignType.2.0, MinorLocation.2.0, Contact.2.0, ...                    1   \n",
       "3  SignType.2.0, MinorLocation.2.0, Movement.2.0,...                    1   \n",
       "4  SignType.2.0, MinorLocation.2.0, Movement.2.0,...                    0   \n",
       "\n",
       "        missed_features  \n",
       "0  RepeatedMovement.2.0  \n",
       "1           Flexion.2.0  \n",
       "2          Movement.2.0  \n",
       "3  RepeatedMovement.2.0  \n",
       "4                   NaN  "
      ]
     },
     "execution_count": 26,
     "metadata": {},
     "output_type": "execute_result"
    }
   ],
   "source": [
    "edges_df.head()"
   ]
  },
  {
   "cell_type": "code",
   "execution_count": 27,
   "metadata": {},
   "outputs": [
    {
     "data": {
      "text/html": [
       "<div>\n",
       "<style scoped>\n",
       "    .dataframe tbody tr th:only-of-type {\n",
       "        vertical-align: middle;\n",
       "    }\n",
       "\n",
       "    .dataframe tbody tr th {\n",
       "        vertical-align: top;\n",
       "    }\n",
       "\n",
       "    .dataframe thead th {\n",
       "        text-align: right;\n",
       "    }\n",
       "</style>\n",
       "<table border=\"1\" class=\"dataframe\">\n",
       "  <thead>\n",
       "    <tr style=\"text-align: right;\">\n",
       "      <th></th>\n",
       "      <th>target</th>\n",
       "      <th>source</th>\n",
       "    </tr>\n",
       "  </thead>\n",
       "  <tbody>\n",
       "    <tr>\n",
       "      <th>0</th>\n",
       "      <td>A_01_002</td>\n",
       "      <td>B_01_062</td>\n",
       "    </tr>\n",
       "    <tr>\n",
       "      <th>1</th>\n",
       "      <td>A_01_002</td>\n",
       "      <td>C_03_023</td>\n",
       "    </tr>\n",
       "    <tr>\n",
       "      <th>2</th>\n",
       "      <td>A_01_002</td>\n",
       "      <td>G_01_038</td>\n",
       "    </tr>\n",
       "    <tr>\n",
       "      <th>3</th>\n",
       "      <td>A_01_002</td>\n",
       "      <td>J_03_046</td>\n",
       "    </tr>\n",
       "    <tr>\n",
       "      <th>4</th>\n",
       "      <td>A_01_003</td>\n",
       "      <td>D_02_047</td>\n",
       "    </tr>\n",
       "  </tbody>\n",
       "</table>\n",
       "</div>"
      ],
      "text/plain": [
       "     target    source\n",
       "0  A_01_002  B_01_062\n",
       "1  A_01_002  C_03_023\n",
       "2  A_01_002  G_01_038\n",
       "3  A_01_002  J_03_046\n",
       "4  A_01_003  D_02_047"
      ]
     },
     "execution_count": 27,
     "metadata": {},
     "output_type": "execute_result"
    }
   ],
   "source": [
    "not_need_edge_cols = ['num_matched_features', 'matched_features', 'num_missed_features', 'missed_features']\n",
    "links_df = edges_df.drop(columns=not_need_edge_cols)\n",
    "links_df.head()"
   ]
  },
  {
   "cell_type": "code",
   "execution_count": 28,
   "metadata": {},
   "outputs": [
    {
     "data": {
      "text/plain": [
       "{'target': 'A_01_002', 'source': 'B_01_062'}"
      ]
     },
     "execution_count": 28,
     "metadata": {},
     "output_type": "execute_result"
    }
   ],
   "source": [
    "edges_json_str = links_df.to_json(orient=\"records\")\n",
    "edges_json = json.loads(edges_json_str)\n",
    "edges_json[0]"
   ]
  },
  {
   "cell_type": "code",
   "execution_count": 29,
   "metadata": {},
   "outputs": [],
   "source": [
    "# cols_not_in_sign_pane = [\"LemmaID\", \"SignFrequency(SD)\",\"SignFrequency(Z)\",\"SignFrequency(N)\",\"SignFrequency(M-Native)\",\"SignFrequency(SD-Native)\",\"SignFreq(Z-native)\",\"SignFrequency(N-Native)\",\"PercentUnknown(Native)\",\"PercentGlossAgreement(Native)\",\"SignFrequency(M-Nonnative)\",\"SignFrequency(SD-Nonnative)\",\"SignFreq(Z-Nonnative)\",\"SignFrequency(N-Nonnative)\",\"PercentUnknown(Nonnative)\",\"PercentGlossAgreement(Nonnative)\",\"Iconicity(SD)\",\"Iconicity(Z)\",\"Iconicity(N)\",\"Iconicity_ID\",\"D.Iconicity(SD) all\",\"D.Iconicity(Z) all\",\"D.Iconicity(N) all\",\"D.Iconicity(M) native\",\"D.Iconicity(SD) native\",\"D.Iconicity(Z) native\",\"D.Iconicity(N) native\",\"Transparency SD\",\"Transparency Z\",\"SignOnset(ms)\",\"SignOffset(ms)\",\"SignType 1.0\",\"MajorLocation 1.0\",\"MinorLocation 1.0\",\"SelectedFingers 1.0\",\"Compound 1.0\",\"Flexion 1.0\",\"Initialized 1.0\",\"Movement 1.0\",\"MinimalNeighborhoodDensity\",\"MaximalNeighborhoodDensity\",\"Parameter-BasedNeighborhoodDensity\",\"SignTypeFrequency\",\"MajorLocationFrequency\",\"MinorLocationFrequency\",\"SelectedFingersFrequency\",\"FlexionFrequency\",\"MovementFrequency\",\"HandshapeFrequency\",\"Batch\",\"Item\",\"List\",\"Source\",\"InCDI\",\"CDI_A\",\"CDI_B\",\"CDI_C\",\"CDIGloss\",\"CDI Semantic Category\",\"CDIDuplicate\",\"GlossConfirmation\",\"CDIComment\",\"In Frequency Rating Survey (FRS)?\",\"FRS_A\",\"FRS_B\",\"FRS_C\",\"FRS-Low Frequency item?\",\"InPPVT\",\"InEOWPVT\",\"PPVTTargetFoil\",\"PPVTPictureSource\",\"FingerspelledLoanSign 1.0\",\"Repeat.1\",\"BatesPicture\",\"BatesPicture: URL\",\"ASLVocabPicture\",\"ASLVocabPicture: URL\",\"Possible Picture?\",\"Possible Picture Comments\",\"ASLVocab Picture Google Drive\",\"ArtistInstructions\",\"IssuesWithItemsAndGlosses\",\"Brittany-Freq Comments\",\"PPVT with Pictures\",\"PPVT-Age Group\",\"PPVT-Expressive\",\"PPVT-Receptive\",\"Entry ID\",\"Bizarre Sign or Problematic Video\",\"InUconnPPVT\",\"CheckCompleteCoding\",\"Video File\",\"Video File: URL\",\"IconicityTypeShannon\",\"IconicityTypeClaire\",\"IconicityTypeLindsay\",\"IconicityTypeRotceh\",\"In ASL-LEX 2.0\",\"DraftIconicityID\",\"DraftIconicityM\",\"RightWristX\",\"RightWristcentroidY\",\"DistanceRightWristCentroid2Nose\",\"IconicityType\",\"ChelseaCoded\",\"HandshapeManualCorrections\",\"FormerKnackGloss\",\"CodingSignBank\",\"InZed\",\"Checked Vimeo\"]"
   ]
  },
  {
   "cell_type": "code",
   "execution_count": 30,
   "metadata": {
    "scrolled": true
   },
   "outputs": [],
   "source": [
    "# all columns in signdata.csv\n",
    "cols_in_sign_data = df_default.columns.values"
   ]
  },
  {
   "cell_type": "code",
   "execution_count": 31,
   "metadata": {},
   "outputs": [],
   "source": [
    "# df_merged_with_color[[\"EntryID\",\"SignFrequency(M)\",\"PercentUnknown\"]]"
   ]
  },
  {
   "cell_type": "code",
   "execution_count": 32,
   "metadata": {},
   "outputs": [
    {
     "data": {
      "text/plain": [
       "['EntryID',\n",
       " 'LemmaID',\n",
       " 'Code',\n",
       " 'Batch',\n",
       " 'List',\n",
       " 'Item',\n",
       " 'EnglishWF(lg10)',\n",
       " 'SignFrequency(M)',\n",
       " 'SignFrequency(SD)',\n",
       " 'SignFrequency(Z)',\n",
       " 'SignFrequency(N)',\n",
       " 'Unknown',\n",
       " 'SignFrequency(M-Native)',\n",
       " 'SignFrequency(SD-Native)',\n",
       " 'SignFreq(Z-native)',\n",
       " 'SignFrequency(N-Native)',\n",
       " 'Unknown(Native)',\n",
       " 'SignFrequency(M-Nonnative)',\n",
       " 'SignFrequency(SD-Nonnative)',\n",
       " 'SignFrequency(N-Nonnative)',\n",
       " 'SignFreq(Z-Nonnative)',\n",
       " 'Unknown(Nonnative)',\n",
       " 'DominantTranslation',\n",
       " 'DominantTranslationAgreement',\n",
       " 'DominantTranslationAgreement(Native)',\n",
       " 'DominantTranslationAgreement(Nonnative)',\n",
       " 'NondominantTranslations',\n",
       " 'Iconicity(M)',\n",
       " 'Iconicity(SD)',\n",
       " 'Iconicity(Z)',\n",
       " 'Iconicity(N)',\n",
       " 'Iconicity_ID',\n",
       " 'IconicityType',\n",
       " 'D.Iconicity(M)',\n",
       " 'D.Iconicity(SD)',\n",
       " 'D.Iconicity(N)',\n",
       " 'D.Iconicity(Z)',\n",
       " 'D.Iconicity(M-native)',\n",
       " 'D.Iconicity(SD-native)',\n",
       " 'D.Iconicity(Z-native)',\n",
       " 'D.Iconicity(N-native)',\n",
       " 'GuessConsistency',\n",
       " 'GuessAccuracy',\n",
       " 'Transparency(M)',\n",
       " 'Transparency SD',\n",
       " 'Transparency Z',\n",
       " 'LexicalClass',\n",
       " 'Initialized.2.0',\n",
       " 'FingerspelledLoanSign.2.0',\n",
       " 'Compound.2.0',\n",
       " 'NumberOfMorphemes.2.0',\n",
       " 'SignOnset(ms)',\n",
       " 'SignOffset(ms)',\n",
       " 'SignDuration(ms)',\n",
       " 'ClipDuration(ms)',\n",
       " 'Handshape.2.0',\n",
       " 'SelectedFingers.2.0',\n",
       " 'Flexion.2.0',\n",
       " 'FlexionChange.2.0',\n",
       " 'Spread.2.0',\n",
       " 'SpreadChange.2.0',\n",
       " 'ThumbPosition.2.0',\n",
       " 'ThumbContact.2.0',\n",
       " 'SignType.2.0',\n",
       " 'Movement.2.0',\n",
       " 'RepeatedMovement.2.0',\n",
       " 'MajorLocation.2.0',\n",
       " 'MinorLocation.2.0',\n",
       " 'SecondMinorLocation.2.0',\n",
       " 'Contact.2.0',\n",
       " 'NonDominantHandshape.2.0',\n",
       " 'UlnarRotation.2.0',\n",
       " 'HandshapeM2.2.0',\n",
       " 'SelectedFingersM2.2.0',\n",
       " 'FlexionM2.2.0',\n",
       " 'FlexionChangeM2.2.0',\n",
       " 'SpreadM2.2.0',\n",
       " 'SpreadChangeM2.2.0',\n",
       " 'ThumbPositionM2.2.0',\n",
       " 'ThumbContactM2.2.0',\n",
       " 'SignTypeM2.2.0',\n",
       " 'MovementM2.2.0',\n",
       " 'RepeatedMovementM2.2.0',\n",
       " 'MajorLocationM2.2.0',\n",
       " 'MinorLocationM2.2.0',\n",
       " 'SecondMinorLocationM2.2.0',\n",
       " 'ContactM2.2.0',\n",
       " 'NonDominantHandshapeM2.2.0',\n",
       " 'UlnarRotationM2.2.0',\n",
       " 'HandshapeM3.2.0',\n",
       " 'SelectedFingersM3.2.0',\n",
       " 'FlexionM3.2.0',\n",
       " 'FlexionChangeM3.2.0',\n",
       " 'SpreadM3.2.0',\n",
       " 'SpreadChangeM3.2.0',\n",
       " 'ThumbPositionM3.2.0',\n",
       " 'ThumbContactM3.2.0',\n",
       " 'SignTypeM3.2.0',\n",
       " 'MovementM3.2.0',\n",
       " 'RepeatedMovementM3.2.0',\n",
       " 'MajorLocationM3.2.0',\n",
       " 'MinorLocationM3.2.0',\n",
       " 'SecondMinorLocationM3.2.0',\n",
       " 'ContactM3.2.0',\n",
       " 'NonDominantHandshapeM3.2.0',\n",
       " 'UlnarRotationM3.2.0',\n",
       " 'HandshapeM4.2.0',\n",
       " 'SelectedFingersM4.2.0',\n",
       " 'FlexionM4.2.0',\n",
       " 'FlexionChangeM4.2.0',\n",
       " 'SpreadM4.2.0',\n",
       " 'SpreadChangeM4.2.0',\n",
       " 'ThumbPositionM4.2.0',\n",
       " 'ThumbContactM4.2.0',\n",
       " 'SignTypeM4.2.0',\n",
       " 'MovementM4.2.0',\n",
       " 'RepeatedMovementM4.2.0',\n",
       " 'MajorLocationM4.2.0',\n",
       " 'MinorLocationM4.2.0',\n",
       " 'SecondMinorLocationM4.2.0',\n",
       " 'ContactM4.2.0',\n",
       " 'NonDominantHandshapeM4.2.0',\n",
       " 'UlnarRotationM4.2.0',\n",
       " 'HandshapeM5.2.0',\n",
       " 'SelectedFingersM5.2.0',\n",
       " 'FlexionM5.2.0',\n",
       " 'FlexionChangeM5.2.0',\n",
       " 'SpreadM5.2.0',\n",
       " 'SpreadChangeM5.2.0',\n",
       " 'ThumbPositionM5.2.0',\n",
       " 'ThumbContactM5.2.0',\n",
       " 'SignTypeM5.2.0',\n",
       " 'MovementM5.2.0',\n",
       " 'RepeatedMovementM5.2.0',\n",
       " 'MajorLocationM5.2.0',\n",
       " 'MinorLocationM5.2.0',\n",
       " 'SecondMinorLocationM5.2.0',\n",
       " 'ContactM5.2.0',\n",
       " 'NonDominantHandshapeM5.2.0',\n",
       " 'UlnarRotationM5.2.0',\n",
       " 'HandshapeM6.2.0',\n",
       " 'SelectedFingersM6.2.0',\n",
       " 'FlexionM6.2.0',\n",
       " 'FlexionChangeM6.2.0',\n",
       " 'SpreadM6.2.0',\n",
       " 'SpreadChangeM6.2.0',\n",
       " 'ThumbPositionM6.2.0',\n",
       " 'ThumbContactM6.2.0',\n",
       " 'SignTypeM6.2.0',\n",
       " 'MovementM6.2.0',\n",
       " 'RepeatedMovementM6.2.0',\n",
       " 'MajorLocationM6.2.0',\n",
       " 'MinorLocationM6.2.0',\n",
       " 'SecondMinorLocationM6.2.0',\n",
       " 'ContactM6.2.0',\n",
       " 'NonDominantHandshapeM6.2.0',\n",
       " 'UlnarRotationM6.2.0',\n",
       " 'SignType.2.0Frequency',\n",
       " 'MajorLocation.2.0Frequency',\n",
       " 'MinorLocation.2.0Frequency',\n",
       " 'SecondMinorLocation.2.0Frequency',\n",
       " 'Movement.2.0Frequency',\n",
       " 'SelectedFingers.2.0Frequency',\n",
       " 'Flexion.2.0Frequency',\n",
       " 'FlexionChange.2.0Frequency',\n",
       " 'RepeatedMovement.2.0Frequency',\n",
       " 'Contact.2.0Frequency',\n",
       " 'Spread.2.0Frequency',\n",
       " 'SpreadChange.2.0Frequency',\n",
       " 'ThumbContact.2.0Frequency',\n",
       " 'ThumbPosition.2.0Frequency',\n",
       " 'UlnarRotation.2.0Frequency',\n",
       " 'Neighborhood Density 2.0',\n",
       " 'Parameter.Neighborhood.Density.2.0',\n",
       " 'PhonotacticProbability',\n",
       " 'Phonological Complexity',\n",
       " 'SignBankAnnotationID',\n",
       " 'SignBankEnglishTranslations',\n",
       " 'SignBankLemmaID',\n",
       " 'SignBankSemanticField',\n",
       " 'SignBankReferenceID',\n",
       " 'InCDI',\n",
       " 'CDISemanticCategory',\n",
       " 'bglm_aoa',\n",
       " 'empirical_aoa',\n",
       " 'YouTube Video',\n",
       " 'VimeoVideo',\n",
       " 'VimeoVideoHTML',\n",
       " 'HandshapeImage',\n",
       " 'group_id',\n",
       " 'color_code']"
      ]
     },
     "execution_count": 32,
     "metadata": {},
     "output_type": "execute_result"
    }
   ],
   "source": [
    "df_merged_with_color.columns.tolist()"
   ]
  },
  {
   "cell_type": "code",
   "execution_count": 33,
   "metadata": {},
   "outputs": [
    {
     "name": "stdout",
     "output_type": "stream",
     "text": [
      "191\n",
      "dropping group_id\n",
      "dropping color_code\n"
     ]
    },
    {
     "data": {
      "text/plain": [
       "189"
      ]
     },
     "execution_count": 33,
     "metadata": {},
     "output_type": "execute_result"
    }
   ],
   "source": [
    "#### Get rid of morpheme columns\n",
    "print(len(df_merged_with_color.columns.values))\n",
    "# df_sign = df_sign[['YouTube Video','Code','SignBankEnglishTranslations', \"VimeoVideo\"]]\n",
    "# df_sign = df_sign.rename(columns={\"VimeoVideo\": \"video\"}, errors=\"raise\")\n",
    "# df_sign.head()\n",
    "# df_default = pd.merge(df_default, df_sign,how='left', on=['Code'])\n",
    "\n",
    "test_df = df_merged_with_color\n",
    "# filtered = test_df.filter(regex='M..2.0|Video')\n",
    "for col in test_df.columns:\n",
    "    if col not in cols_in_sign_data:\n",
    "#         if col in test_df.columns:\n",
    "        print(\"dropping \" + col)\n",
    "        test_df = test_df[test_df.columns.drop(col)]\n",
    "\n",
    "no_morphemes_df = test_df\n",
    "len(no_morphemes_df.columns.values)\n",
    "# no_morphemes_df.columns.values"
   ]
  },
  {
   "cell_type": "code",
   "execution_count": 34,
   "metadata": {},
   "outputs": [],
   "source": [
    "for col in cols_in_sign_data:\n",
    "    if col not in test_df.columns:\n",
    "        print(\"This column is not present: \" + col)"
   ]
  },
  {
   "cell_type": "code",
   "execution_count": 35,
   "metadata": {
    "scrolled": true
   },
   "outputs": [
    {
     "name": "stdout",
     "output_type": "stream",
     "text": [
      "['List' 'Item' 'EnglishWF(lg10)' 'SignFrequency(M)' 'SignFrequency(SD)'\n",
      " 'SignFrequency(Z)' 'SignFrequency(N)' 'Unknown' 'SignFrequency(M-Native)'\n",
      " 'SignFrequency(SD-Native)' 'SignFreq(Z-native)' 'SignFrequency(N-Native)'\n",
      " 'Unknown(Native)' 'SignFrequency(M-Nonnative)'\n",
      " 'SignFrequency(SD-Nonnative)' 'SignFrequency(N-Nonnative)'\n",
      " 'SignFreq(Z-Nonnative)' 'Unknown(Nonnative)'\n",
      " 'DominantTranslationAgreement' 'DominantTranslationAgreement(Native)'\n",
      " 'DominantTranslationAgreement(Nonnative)' 'Iconicity(M)' 'Iconicity(SD)'\n",
      " 'Iconicity(Z)' 'Iconicity(N)' 'D.Iconicity(M)' 'D.Iconicity(SD)'\n",
      " 'D.Iconicity(N)' 'D.Iconicity(Z)' 'D.Iconicity(M-native)'\n",
      " 'D.Iconicity(SD-native)' 'D.Iconicity(Z-native)' 'D.Iconicity(N-native)'\n",
      " 'GuessConsistency' 'GuessAccuracy' 'Transparency(M)' 'Transparency SD'\n",
      " 'Transparency Z' 'Initialized.2.0' 'FingerspelledLoanSign.2.0'\n",
      " 'Compound.2.0' 'NumberOfMorphemes.2.0' 'SignOnset(ms)' 'SignOffset(ms)'\n",
      " 'SignDuration(ms)' 'ClipDuration(ms)' 'FlexionChange.2.0' 'Spread.2.0'\n",
      " 'SpreadChange.2.0' 'ThumbContact.2.0' 'RepeatedMovement.2.0'\n",
      " 'Contact.2.0' 'UlnarRotation.2.0' 'FlexionChangeM2.2.0' 'SpreadM2.2.0'\n",
      " 'SpreadChangeM2.2.0' 'ThumbContactM2.2.0' 'RepeatedMovementM2.2.0'\n",
      " 'ContactM2.2.0' 'UlnarRotationM2.2.0' 'FlexionChangeM3.2.0'\n",
      " 'SpreadM3.2.0' 'SpreadChangeM3.2.0' 'ThumbContactM3.2.0'\n",
      " 'RepeatedMovementM3.2.0' 'ContactM3.2.0' 'UlnarRotationM3.2.0'\n",
      " 'FlexionChangeM4.2.0' 'SpreadM4.2.0' 'SpreadChangeM4.2.0'\n",
      " 'ThumbContactM4.2.0' 'RepeatedMovementM4.2.0' 'ContactM4.2.0'\n",
      " 'NonDominantHandshapeM4.2.0' 'UlnarRotationM4.2.0' 'FlexionChangeM5.2.0'\n",
      " 'SpreadM5.2.0' 'SpreadChangeM5.2.0' 'ThumbContactM5.2.0' 'SignTypeM5.2.0'\n",
      " 'MovementM5.2.0' 'RepeatedMovementM5.2.0' 'MajorLocationM5.2.0'\n",
      " 'MinorLocationM5.2.0' 'SecondMinorLocationM5.2.0' 'ContactM5.2.0'\n",
      " 'NonDominantHandshapeM5.2.0' 'UlnarRotationM5.2.0' 'FlexionChangeM6.2.0'\n",
      " 'SpreadM6.2.0' 'SpreadChangeM6.2.0' 'ThumbContactM6.2.0' 'SignTypeM6.2.0'\n",
      " 'MovementM6.2.0' 'RepeatedMovementM6.2.0' 'MajorLocationM6.2.0'\n",
      " 'MinorLocationM6.2.0' 'SecondMinorLocationM6.2.0' 'ContactM6.2.0'\n",
      " 'NonDominantHandshapeM6.2.0' 'UlnarRotationM6.2.0'\n",
      " 'SignType.2.0Frequency' 'MajorLocation.2.0Frequency'\n",
      " 'MinorLocation.2.0Frequency' 'SecondMinorLocation.2.0Frequency'\n",
      " 'Movement.2.0Frequency' 'SelectedFingers.2.0Frequency'\n",
      " 'Flexion.2.0Frequency' 'FlexionChange.2.0Frequency'\n",
      " 'RepeatedMovement.2.0Frequency' 'Contact.2.0Frequency'\n",
      " 'Spread.2.0Frequency' 'SpreadChange.2.0Frequency'\n",
      " 'ThumbContact.2.0Frequency' 'ThumbPosition.2.0Frequency'\n",
      " 'UlnarRotation.2.0Frequency' 'Neighborhood Density 2.0'\n",
      " 'Parameter.Neighborhood.Density.2.0' 'PhonotacticProbability'\n",
      " 'Phonological Complexity' 'SignBankReferenceID' 'bglm_aoa'\n",
      " 'empirical_aoa']\n",
      "['EntryID', 'LemmaID', 'Code', 'Batch', 'NondominantTranslations', 'Iconicity_ID', 'IconicityType', 'LexicalClass', 'Handshape.2.0', 'SelectedFingers.2.0', 'Flexion.2.0', 'ThumbPosition.2.0', 'SignType.2.0', 'Movement.2.0', 'MajorLocation.2.0', 'MinorLocation.2.0', 'SecondMinorLocation.2.0', 'NonDominantHandshape.2.0', 'HandshapeM2.2.0', 'SelectedFingersM2.2.0', 'FlexionM2.2.0', 'ThumbPositionM2.2.0', 'SignTypeM2.2.0', 'MovementM2.2.0', 'MajorLocationM2.2.0', 'MinorLocationM2.2.0', 'SecondMinorLocationM2.2.0', 'NonDominantHandshapeM2.2.0', 'HandshapeM3.2.0', 'SelectedFingersM3.2.0', 'FlexionM3.2.0', 'ThumbPositionM3.2.0', 'SignTypeM3.2.0', 'MovementM3.2.0', 'MajorLocationM3.2.0', 'MinorLocationM3.2.0', 'SecondMinorLocationM3.2.0', 'NonDominantHandshapeM3.2.0', 'HandshapeM4.2.0', 'SelectedFingersM4.2.0', 'FlexionM4.2.0', 'ThumbPositionM4.2.0', 'SignTypeM4.2.0', 'MovementM4.2.0', 'MajorLocationM4.2.0', 'MinorLocationM4.2.0', 'SecondMinorLocationM4.2.0', 'HandshapeM5.2.0', 'SelectedFingersM5.2.0', 'FlexionM5.2.0', 'ThumbPositionM5.2.0', 'HandshapeM6.2.0', 'SelectedFingersM6.2.0', 'FlexionM6.2.0', 'ThumbPositionM6.2.0', 'InCDI', 'CDISemanticCategory', 'HandshapeImage']\n"
     ]
    }
   ],
   "source": [
    "### Add sign constraint range values\n",
    "numerical_attr = no_morphemes_df.select_dtypes(include=['float', 'int']).columns.values\n",
    "categorical_attr = []\n",
    "for column in no_morphemes_df.columns.values:\n",
    "    if column not in numerical_attr and column not in ['YouTube Video', 'VimeoVideoHTML', 'VimeoVideo', 'DominantTranslation', 'SignBankAnnotationID', 'SignBankEnglishTranslations', 'SignBankLemmaID', 'SignBankSemanticField']:\n",
    "        categorical_attr.append(column)   \n",
    "print(numerical_attr)\n",
    "print(categorical_attr)"
   ]
  },
  {
   "cell_type": "code",
   "execution_count": 36,
   "metadata": {
    "scrolled": true
   },
   "outputs": [],
   "source": [
    "import math \n",
    "import pprint\n",
    "\n",
    "constraints = {}\n",
    "for attr in categorical_attr:\n",
    "    if attr not in ['EntryID', 'LemmaID', 'Code', 'Iconicity_ID']:\n",
    "        columnsData = no_morphemes_df.loc[ : , attr ].dropna()\n",
    "        values_set = set(columnsData.values)\n",
    "        constraints[attr] = [*values_set, ]\n",
    "        \n",
    "for attr in numerical_attr:    \n",
    "    #drop nan values \n",
    "    columnsData = no_morphemes_df.loc[ : , attr ].dropna()\n",
    "#     print(columnsData.values)\n",
    "    constraints[attr] = {}  \n",
    "    #print(math.floor(min(list(columnsData))), math.ceil(max(list(columnsData))), attr)\n",
    "    if len(columnsData.values) > 0:\n",
    "        constraints[attr]['min'] = math.floor(min(columnsData.values))\n",
    "        constraints[attr]['max'] = math.ceil(max(columnsData.values))"
   ]
  },
  {
   "cell_type": "code",
   "execution_count": 37,
   "metadata": {},
   "outputs": [
    {
     "data": {
      "text/plain": [
       "{'EntryID': 'tree',\n",
       " 'Code': 'A_01_002',\n",
       " 'group_id': 0.0,\n",
       " 'color_code': '#2adce2',\n",
       " 'SignFrequency(Z)': 0.621}"
      ]
     },
     "execution_count": 37,
     "metadata": {},
     "output_type": "execute_result"
    }
   ],
   "source": [
    "nodes_json_str = df_node_graph_json_data.to_json(orient=\"records\")\n",
    "nodes_json = json.loads(nodes_json_str)\n",
    "nodes_json[0]\n"
   ]
  },
  {
   "cell_type": "code",
   "execution_count": 38,
   "metadata": {},
   "outputs": [],
   "source": [
    "# write all the data frames to respective json files\n",
    "\n",
    "graph = {\n",
    "    \"nodes\" : nodes_json,\n",
    "    \"links\": edges_json\n",
    "}\n",
    "\n",
    "with open(\"../data/generated-data/graph.json\", 'w') as file:\n",
    "    json.dump(graph, file)\n",
    "    \n",
    "    \n",
    "with open('../data/generated-data/constraints.json', 'w') as fp:\n",
    "    json.dump(constraints, fp)\n",
    "    \n",
    "no_morphemes_df.reset_index().to_json('../data/generated-data/sign_props.json', orient='records')\n"
   ]
  },
  {
   "cell_type": "code",
   "execution_count": 39,
   "metadata": {},
   "outputs": [
    {
     "data": {
      "image/png": "[encoded data removed]",
      "text/plain": [
       "<Figure size 2160x2160 with 1 Axes>"
      ]
     },
     "metadata": {},
     "output_type": "display_data"
    }
   ],
   "source": [
    "#drawing only nodes with edges\n",
    "fig = plt.figure()\n",
    "fig.set_figheight(30)\n",
    "fig.set_figwidth(30)\n",
    "size = float(len(set(partition.values())))\n",
    "pos = nx.spring_layout(G)\n",
    "count = 0.\n",
    "for com in set(partition.values()) :\n",
    "    count = count + 1.\n",
    "    list_nodes = [nodes for nodes in partition.keys()\n",
    "                                if partition[nodes] == com]\n",
    "    nx.draw_networkx_nodes(G, pos, list_nodes, node_size = 20,\n",
    "                                node_color = randomcolor.RandomColor().generate()[0])\n",
    "\n",
    "\n",
    "nx.draw_networkx_edges(G, pos, alpha=0.5)\n",
    "plt.show()"
   ]
  },
  {
   "cell_type": "code",
   "execution_count": 40,
   "metadata": {},
   "outputs": [
    {
     "data": {
      "text/plain": [
       "{'0': '#2adce2',\n",
       " '1': '#8b63fc',\n",
       " '2': '#e44db9',\n",
       " 'island': '#194cee',\n",
       " '3': '#4d0b58',\n",
       " '4': '#734819',\n",
       " '5': '#d4f98c',\n",
       " '6': '#86b94c',\n",
       " '7': '#73e8db',\n",
       " '8': '#2e5be8',\n",
       " '9': '#bdab34',\n",
       " '10': '#257969',\n",
       " '11': '#4f6107',\n",
       " '12': '#c624a4',\n",
       " '13': '#2f7742',\n",
       " '14': '#d3b3b5',\n",
       " '15': '#36c847',\n",
       " '16': '#74f5c3',\n",
       " '17': '#76c10c',\n",
       " '18': '#aea37b',\n",
       " '19': '#f7ab97',\n",
       " '20': '#d6a4b4',\n",
       " '21': '#621322',\n",
       " '22': '#287259',\n",
       " '23': '#de744e',\n",
       " '24': '#91a3c4',\n",
       " '25': '#c2649f',\n",
       " '26': '#ec661f',\n",
       " '27': '#c02c8c',\n",
       " '28': '#eecd8f',\n",
       " '29': '#5af89c',\n",
       " '30': '#1e395c',\n",
       " '31': '#9e4a78',\n",
       " '32': '#dc8e22',\n",
       " '33': '#925782',\n",
       " '34': '#38a2ef',\n",
       " '35': '#96f58d',\n",
       " '36': '#c6fefa',\n",
       " '37': '#c0cf9f',\n",
       " '38': '#63d478',\n",
       " '39': '#a9abc4',\n",
       " '40': '#f4007d',\n",
       " '41': '#1cefd9',\n",
       " '42': '#44353b',\n",
       " '43': '#1ccf4b',\n",
       " '44': '#15580a',\n",
       " '45': '#0b86b1',\n",
       " '46': '#f679f5',\n",
       " '47': '#8af145',\n",
       " '48': '#cbaef9',\n",
       " '49': '#733fdd',\n",
       " '50': '#fcadcd',\n",
       " '51': '#8e91c5',\n",
       " '52': '#c433d0',\n",
       " '53': '#1ce472',\n",
       " '54': '#b8d866',\n",
       " '55': '#1a255a',\n",
       " '56': '#6a1df4',\n",
       " '57': '#3a9838',\n",
       " '58': '#ca3b6e',\n",
       " '59': '#481bb9',\n",
       " '60': '#e3a0a7',\n",
       " '61': '#a45fe3',\n",
       " '62': '#a86564',\n",
       " '63': '#c85ba9',\n",
       " '64': '#ec4b52',\n",
       " '65': '#189b7f',\n",
       " '66': '#be5b55',\n",
       " '67': '#378f2a',\n",
       " '68': '#3a7963',\n",
       " '69': '#ac6c36',\n",
       " '70': '#5daf12',\n",
       " '71': '#6508b6',\n",
       " '72': '#dff969',\n",
       " '73': '#962c30',\n",
       " '74': '#27447b',\n",
       " '75': '#b77f6c',\n",
       " '76': '#d8243d',\n",
       " '77': '#a08752',\n",
       " '78': '#18f6d2',\n",
       " '79': '#e8dc0a',\n",
       " '80': '#abb1ff',\n",
       " '81': '#9292fe',\n",
       " '82': '#2fa5a6',\n",
       " '83': '#ee53cf',\n",
       " '84': '#3b6210',\n",
       " '85': '#606f19',\n",
       " '86': '#5f33de',\n",
       " '87': '#dfd36b',\n",
       " '88': '#cf9850',\n",
       " '89': '#f40f63',\n",
       " '90': '#a1884a',\n",
       " '91': '#41498b',\n",
       " '92': '#b9e4ad',\n",
       " '93': '#ac1ac1',\n",
       " '94': '#b4e478',\n",
       " '95': '#5ad011',\n",
       " '96': '#72b837',\n",
       " '97': '#6d9075',\n",
       " '98': '#1e20c2',\n",
       " '99': '#49f8c0',\n",
       " '100': '#5ed088',\n",
       " '101': '#ce867b',\n",
       " '102': '#771c1f',\n",
       " '103': '#3d3512',\n",
       " '104': '#cb630b',\n",
       " '105': '#26fa84',\n",
       " '106': '#556775',\n",
       " '107': '#af5486',\n",
       " '108': '#d9bf41',\n",
       " '109': '#6c280a',\n",
       " '110': '#7d1f91',\n",
       " '111': '#508d64',\n",
       " '112': '#4317d8',\n",
       " '113': '#194e09',\n",
       " '114': '#6e6d7a',\n",
       " '115': '#f6a9c7',\n",
       " '116': '#a90af9',\n",
       " '117': '#080840',\n",
       " '118': '#803998',\n",
       " '119': '#4eab1b',\n",
       " '120': '#2b7ea8',\n",
       " '121': '#772491',\n",
       " '122': '#7eebc0',\n",
       " '123': '#6f29e2',\n",
       " '124': '#a8d66b',\n",
       " '125': '#3b7c3c',\n",
       " '126': '#4d3f8f',\n",
       " '127': '#9f6750',\n",
       " '128': '#b20a03',\n",
       " '129': '#ccd209',\n",
       " '130': '#5ddd8f',\n",
       " '131': '#f905ab',\n",
       " '132': '#def46b',\n",
       " '133': '#97602e',\n",
       " '134': '#68e565',\n",
       " '135': '#279078',\n",
       " '136': '#08c2c3',\n",
       " '137': '#f85293',\n",
       " '138': '#590cbc',\n",
       " '139': '#dc1bb1',\n",
       " '140': '#a89c81',\n",
       " '141': '#546f53',\n",
       " '142': '#9ea547',\n",
       " '143': '#3cefb9',\n",
       " '144': '#9aaac3',\n",
       " '145': '#c774db',\n",
       " '146': '#c2eff2',\n",
       " '147': '#c6162e',\n",
       " '148': '#82f660',\n",
       " '149': '#71b09d',\n",
       " '150': '#354951',\n",
       " '151': '#351656',\n",
       " '152': '#dc49cb',\n",
       " '153': '#32576e',\n",
       " '154': '#a432b5',\n",
       " '155': '#91f1e0',\n",
       " '156': '#8014c8',\n",
       " '157': '#8597df',\n",
       " '158': '#6baf87',\n",
       " '159': '#9ed5da',\n",
       " '160': '#7b9168',\n",
       " '161': '#548d20',\n",
       " '162': '#36cfcd',\n",
       " '163': '#355a9a',\n",
       " '164': '#ad7896',\n",
       " '165': '#145ec9',\n",
       " '166': '#bf5f94',\n",
       " '167': '#98eab8',\n",
       " '168': '#7c5c56',\n",
       " '169': '#e5c92c',\n",
       " '170': '#26f524',\n",
       " '171': '#17a690',\n",
       " '172': '#dde7bd',\n",
       " '173': '#2b0e2d',\n",
       " '174': '#85269e',\n",
       " '175': '#d838ea',\n",
       " '176': '#60f06f',\n",
       " '177': '#f34d00',\n",
       " '178': '#f5d64c',\n",
       " '179': '#e82e21',\n",
       " '180': '#fe7a47',\n",
       " '181': '#48204c',\n",
       " '182': '#d0c09d',\n",
       " '183': '#82ccef',\n",
       " '184': '#67a38b',\n",
       " '185': '#40ff04',\n",
       " '186': '#b94cb1',\n",
       " '187': '#1aa7d2',\n",
       " '188': '#bd5211',\n",
       " '189': '#892f34',\n",
       " '190': '#ac7d9b',\n",
       " '191': '#7e63dd',\n",
       " '192': '#ffe02e',\n",
       " '193': '#5aec78',\n",
       " '194': '#278a75',\n",
       " '195': '#295f4a',\n",
       " '196': '#768e8f',\n",
       " '197': '#ab7f1e',\n",
       " '198': '#5ccd84',\n",
       " '199': '#313d38',\n",
       " '200': '#5197b9',\n",
       " '201': '#d61629',\n",
       " '202': '#262313',\n",
       " '203': '#936f45',\n",
       " '204': '#35a6c7',\n",
       " '205': '#f26a84',\n",
       " '206': '#08e54c',\n",
       " '207': '#1270b7',\n",
       " '208': '#76653f',\n",
       " '209': '#a600b3',\n",
       " '210': '#9add9b',\n",
       " '211': '#ccb923',\n",
       " '212': '#493e8b',\n",
       " '213': '#8f2d37',\n",
       " '214': '#f91868',\n",
       " '215': '#57e924',\n",
       " '216': '#f88515',\n",
       " '217': '#47c359',\n",
       " '218': '#8b4fbe',\n",
       " '219': '#ce278d',\n",
       " '220': '#e80dd7'}"
      ]
     },
     "execution_count": 40,
     "metadata": {},
     "output_type": "execute_result"
    }
   ],
   "source": [
    "## Code to change color in json\n",
    "color_dictionary\n"
   ]
  },
  {
   "cell_type": "code",
   "execution_count": 41,
   "metadata": {
    "scrolled": true
   },
   "outputs": [],
   "source": [
    "###Only if you need to edit the graph json files\n",
    "\n",
    "# def filter_dict(d, filter_string):\n",
    "# #     print(filter_string)\n",
    "#     for key, val in d.items():\n",
    "#         if filter_string != key:\n",
    "#             continue\n",
    "#         return key, val\n",
    "\n",
    "# with open('../../visualization/data/graph.json') as graph_json_file:\n",
    "#     data = json.load(graph_json_file)\n",
    "#     for node in data['nodes']:\n",
    "#         if(node['group_id'] == \"\"):\n",
    "#             node['group_id']= \"island\"    \n",
    "# #             print(node)\n",
    "    \n",
    "#     for node in data['nodes']:\n",
    "#         key,val = filter_dict(color_dictionary, str(node['group_id']))\n",
    "#         node['color_code'] = val\n",
    "#         print(node)\n"
   ]
  },
  {
   "cell_type": "code",
   "execution_count": 42,
   "metadata": {},
   "outputs": [],
   "source": [
    "#Resave as JSON\n",
    "\n",
    "# graph = {\n",
    "#     \"nodes\" : data['nodes'],\n",
    "#     \"links\": data['links']\n",
    "# }\n",
    "\n",
    "# with open(\"../generated-data/graph.json\", 'w') as file:\n",
    "#     json.dump(graph, file)"
   ]
  },
  {
   "cell_type": "code",
   "execution_count": 43,
   "metadata": {},
   "outputs": [],
   "source": [
    "#signs_latest_csv = pd.read_csv('../signdata-07-08-2020.csv')"
   ]
  },
  {
   "cell_type": "code",
   "execution_count": 44,
   "metadata": {},
   "outputs": [],
   "source": [
    "#signs_latest_csv['Iconicity(Z)'].max()"
   ]
  },
  {
   "cell_type": "code",
   "execution_count": null,
   "metadata": {},
   "outputs": [],
   "source": []
  }
 ],
 "metadata": {
  "kernelspec": {
   "display_name": "Python 3",
   "language": "python",
   "name": "python3"
  },
  "language_info": {
   "codemirror_mode": {
    "name": "ipython",
    "version": 3
   },
   "file_extension": ".py",
   "mimetype": "text/x-python",
   "name": "python",
   "nbconvert_exporter": "python",
   "pygments_lexer": "ipython3",
   "version": "3.7.5"
  }
 },
 "nbformat": 4,
 "nbformat_minor": 2
}
