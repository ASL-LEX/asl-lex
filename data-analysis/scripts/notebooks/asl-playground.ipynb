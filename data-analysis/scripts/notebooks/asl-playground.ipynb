{
 "cells": [
  {
   "cell_type": "markdown",
   "metadata": {},
   "source": [
    "## This notebook assumes you have the following packages installed in your conda environment."
   ]
  },
  {
   "cell_type": "code",
   "execution_count": 7,
   "metadata": {},
   "outputs": [],
   "source": [
    "import pandas as pd\n",
    "import json\n",
    "import community\n",
    "import networkx as nx\n",
    "import matplotlib.pyplot as plt\n",
    "import pandas as pd\n",
    "import random\n",
    "import numpy as np\n",
    "import randomcolor"
   ]
  },
  {
   "cell_type": "code",
   "execution_count": 8,
   "metadata": {},
   "outputs": [
    {
     "data": {
      "text/html": [
       "<div>\n",
       "<style scoped>\n",
       "    .dataframe tbody tr th:only-of-type {\n",
       "        vertical-align: middle;\n",
       "    }\n",
       "\n",
       "    .dataframe tbody tr th {\n",
       "        vertical-align: top;\n",
       "    }\n",
       "\n",
       "    .dataframe thead th {\n",
       "        text-align: right;\n",
       "    }\n",
       "</style>\n",
       "<table border=\"1\" class=\"dataframe\">\n",
       "  <thead>\n",
       "    <tr style=\"text-align: right;\">\n",
       "      <th></th>\n",
       "      <th>EntryID</th>\n",
       "      <th>LemmaID</th>\n",
       "      <th>Code</th>\n",
       "      <th>Batch</th>\n",
       "      <th>List</th>\n",
       "      <th>Item</th>\n",
       "      <th>EnglishWF(lg10)</th>\n",
       "      <th>SignFrequency(M)</th>\n",
       "      <th>SignFrequency(SD)</th>\n",
       "      <th>SignFrequency(Z)</th>\n",
       "      <th>...</th>\n",
       "      <th>SignBankLemmaID</th>\n",
       "      <th>SignBankSemanticField</th>\n",
       "      <th>SignBankReferenceID</th>\n",
       "      <th>InCDI</th>\n",
       "      <th>CDISemanticCategory</th>\n",
       "      <th>bglm_aoa</th>\n",
       "      <th>empirical_aoa</th>\n",
       "      <th>YouTube Video</th>\n",
       "      <th>VimeoVideo</th>\n",
       "      <th>VimeoVideoHTML</th>\n",
       "    </tr>\n",
       "  </thead>\n",
       "  <tbody>\n",
       "    <tr>\n",
       "      <th>0</th>\n",
       "      <td>tree</td>\n",
       "      <td>tree</td>\n",
       "      <td>A_01_002</td>\n",
       "      <td>A</td>\n",
       "      <td>1</td>\n",
       "      <td>2</td>\n",
       "      <td>3.521</td>\n",
       "      <td>5.143</td>\n",
       "      <td>2.081</td>\n",
       "      <td>0.621</td>\n",
       "      <td>...</td>\n",
       "      <td>TREE</td>\n",
       "      <td>None</td>\n",
       "      <td>342.0</td>\n",
       "      <td>Yes</td>\n",
       "      <td>Outside Things and Places to Go</td>\n",
       "      <td>22.0</td>\n",
       "      <td>14.0</td>\n",
       "      <td>&lt;iframe width=\"280\" height=\"158\" src=\"https://...</td>\n",
       "      <td>https://player.vimeo.com/video/344216264</td>\n",
       "      <td>&lt;iframe src=https://player.vimeo.com/video/344...</td>\n",
       "    </tr>\n",
       "    <tr>\n",
       "      <th>1</th>\n",
       "      <td>night</td>\n",
       "      <td>night</td>\n",
       "      <td>A_01_003</td>\n",
       "      <td>A</td>\n",
       "      <td>1</td>\n",
       "      <td>3</td>\n",
       "      <td>4.645</td>\n",
       "      <td>6.032</td>\n",
       "      <td>1.516</td>\n",
       "      <td>1.068</td>\n",
       "      <td>...</td>\n",
       "      <td>NIGHT</td>\n",
       "      <td>None</td>\n",
       "      <td>199.0</td>\n",
       "      <td>Yes</td>\n",
       "      <td>Signs About Time</td>\n",
       "      <td>31.0</td>\n",
       "      <td>18.0</td>\n",
       "      <td>&lt;iframe width=\"280\" height=\"158\" src=\"https://...</td>\n",
       "      <td>https://player.vimeo.com/video/344216312</td>\n",
       "      <td>&lt;iframe src=https://player.vimeo.com/video/344...</td>\n",
       "    </tr>\n",
       "    <tr>\n",
       "      <th>2</th>\n",
       "      <td>hamburger</td>\n",
       "      <td>hamburger</td>\n",
       "      <td>A_01_004</td>\n",
       "      <td>A</td>\n",
       "      <td>1</td>\n",
       "      <td>4</td>\n",
       "      <td>2.600</td>\n",
       "      <td>4.429</td>\n",
       "      <td>1.720</td>\n",
       "      <td>0.232</td>\n",
       "      <td>...</td>\n",
       "      <td>HAMBURGER</td>\n",
       "      <td>None</td>\n",
       "      <td>1844.0</td>\n",
       "      <td>Yes</td>\n",
       "      <td>Food and Drink</td>\n",
       "      <td>32.0</td>\n",
       "      <td>28.0</td>\n",
       "      <td>&lt;iframe width=\"280\" height=\"158\" src=\"https://...</td>\n",
       "      <td>https://player.vimeo.com/video/344216345</td>\n",
       "      <td>&lt;iframe src=https://player.vimeo.com/video/344...</td>\n",
       "    </tr>\n",
       "    <tr>\n",
       "      <th>3</th>\n",
       "      <td>nephew</td>\n",
       "      <td>nephew</td>\n",
       "      <td>A_01_005</td>\n",
       "      <td>A</td>\n",
       "      <td>1</td>\n",
       "      <td>5</td>\n",
       "      <td>2.928</td>\n",
       "      <td>2.621</td>\n",
       "      <td>1.720</td>\n",
       "      <td>-0.753</td>\n",
       "      <td>...</td>\n",
       "      <td>NEPHEW</td>\n",
       "      <td>People</td>\n",
       "      <td>3011.0</td>\n",
       "      <td>No</td>\n",
       "      <td>NaN</td>\n",
       "      <td>NaN</td>\n",
       "      <td>NaN</td>\n",
       "      <td>&lt;iframe width=\"280\" height=\"158\" src=\"https://...</td>\n",
       "      <td>https://player.vimeo.com/video/344216367</td>\n",
       "      <td>&lt;iframe src=https://player.vimeo.com/video/344...</td>\n",
       "    </tr>\n",
       "    <tr>\n",
       "      <th>4</th>\n",
       "      <td>castle</td>\n",
       "      <td>castle</td>\n",
       "      <td>A_01_008</td>\n",
       "      <td>A</td>\n",
       "      <td>1</td>\n",
       "      <td>8</td>\n",
       "      <td>3.041</td>\n",
       "      <td>1.579</td>\n",
       "      <td>0.838</td>\n",
       "      <td>-1.198</td>\n",
       "      <td>...</td>\n",
       "      <td>CASTLE</td>\n",
       "      <td>None</td>\n",
       "      <td>2471.0</td>\n",
       "      <td>No</td>\n",
       "      <td>Action Signs</td>\n",
       "      <td>NaN</td>\n",
       "      <td>NaN</td>\n",
       "      <td>&lt;iframe width=\"280\" height=\"158\" src=\"https://...</td>\n",
       "      <td>https://player.vimeo.com/video/344216403</td>\n",
       "      <td>&lt;iframe src=https://player.vimeo.com/video/344...</td>\n",
       "    </tr>\n",
       "  </tbody>\n",
       "</table>\n",
       "<p>5 rows × 188 columns</p>\n",
       "</div>"
      ],
      "text/plain": [
       "     EntryID    LemmaID      Code Batch  List  Item  EnglishWF(lg10)  \\\n",
       "0       tree       tree  A_01_002     A     1     2            3.521   \n",
       "1      night      night  A_01_003     A     1     3            4.645   \n",
       "2  hamburger  hamburger  A_01_004     A     1     4            2.600   \n",
       "3     nephew     nephew  A_01_005     A     1     5            2.928   \n",
       "4     castle     castle  A_01_008     A     1     8            3.041   \n",
       "\n",
       "   SignFrequency(M)  SignFrequency(SD)  SignFrequency(Z)  ...  \\\n",
       "0             5.143              2.081             0.621  ...   \n",
       "1             6.032              1.516             1.068  ...   \n",
       "2             4.429              1.720             0.232  ...   \n",
       "3             2.621              1.720            -0.753  ...   \n",
       "4             1.579              0.838            -1.198  ...   \n",
       "\n",
       "   SignBankLemmaID  SignBankSemanticField  SignBankReferenceID  InCDI  \\\n",
       "0             TREE                   None                342.0    Yes   \n",
       "1            NIGHT                   None                199.0    Yes   \n",
       "2        HAMBURGER                   None               1844.0    Yes   \n",
       "3           NEPHEW                 People               3011.0     No   \n",
       "4           CASTLE                   None               2471.0     No   \n",
       "\n",
       "               CDISemanticCategory  bglm_aoa  empirical_aoa  \\\n",
       "0  Outside Things and Places to Go      22.0           14.0   \n",
       "1                 Signs About Time      31.0           18.0   \n",
       "2                   Food and Drink      32.0           28.0   \n",
       "3                              NaN       NaN            NaN   \n",
       "4                     Action Signs       NaN            NaN   \n",
       "\n",
       "                                       YouTube Video  \\\n",
       "0  <iframe width=\"280\" height=\"158\" src=\"https://...   \n",
       "1  <iframe width=\"280\" height=\"158\" src=\"https://...   \n",
       "2  <iframe width=\"280\" height=\"158\" src=\"https://...   \n",
       "3  <iframe width=\"280\" height=\"158\" src=\"https://...   \n",
       "4  <iframe width=\"280\" height=\"158\" src=\"https://...   \n",
       "\n",
       "                                 VimeoVideo  \\\n",
       "0  https://player.vimeo.com/video/344216264   \n",
       "1  https://player.vimeo.com/video/344216312   \n",
       "2  https://player.vimeo.com/video/344216345   \n",
       "3  https://player.vimeo.com/video/344216367   \n",
       "4  https://player.vimeo.com/video/344216403   \n",
       "\n",
       "                                      VimeoVideoHTML  \n",
       "0  <iframe src=https://player.vimeo.com/video/344...  \n",
       "1  <iframe src=https://player.vimeo.com/video/344...  \n",
       "2  <iframe src=https://player.vimeo.com/video/344...  \n",
       "3  <iframe src=https://player.vimeo.com/video/344...  \n",
       "4  <iframe src=https://player.vimeo.com/video/344...  \n",
       "\n",
       "[5 rows x 188 columns]"
      ]
     },
     "execution_count": 8,
     "metadata": {},
     "output_type": "execute_result"
    }
   ],
   "source": [
    "df_default = pd.read_csv('../data/signdata_updated11-18.csv', encoding='latin-1')\n",
    "df_default.shape\n",
    "df_old = pd.read_csv('../data/signdata-11-5-20.csv')\n",
    "df_old_subset = df_old[['Code','YouTube Video', 'VimeoVideo', 'VimeoVideoHTML']].copy()\n",
    "df_default = df_default.merge(df_old_subset, on='Code', how='left')\n",
    "df_default.head()"
   ]
  },
  {
   "cell_type": "code",
   "execution_count": 9,
   "metadata": {},
   "outputs": [],
   "source": [
    "df_subset = df_default[['EntryID', 'LemmaID','Code','YouTube Video', 'VimeoVideo', 'Phonological Complexity']]"
   ]
  },
  {
   "cell_type": "code",
   "execution_count": 10,
   "metadata": {},
   "outputs": [],
   "source": [
    "df_subset.to_csv('signdata_with_urls.csv')"
   ]
  },
  {
   "cell_type": "code",
   "execution_count": 11,
   "metadata": {},
   "outputs": [
    {
     "data": {
      "text/plain": [
       "2723"
      ]
     },
     "execution_count": 11,
     "metadata": {},
     "output_type": "execute_result"
    }
   ],
   "source": [
    "len(df_default[\"Code\"].values)"
   ]
  },
  {
   "cell_type": "markdown",
   "metadata": {},
   "source": [
    "## Community Analysis"
   ]
  },
  {
   "cell_type": "code",
   "execution_count": 12,
   "metadata": {
    "scrolled": true
   },
   "outputs": [
    {
     "data": {
      "text/html": [
       "<div>\n",
       "<style scoped>\n",
       "    .dataframe tbody tr th:only-of-type {\n",
       "        vertical-align: middle;\n",
       "    }\n",
       "\n",
       "    .dataframe tbody tr th {\n",
       "        vertical-align: top;\n",
       "    }\n",
       "\n",
       "    .dataframe thead th {\n",
       "        text-align: right;\n",
       "    }\n",
       "</style>\n",
       "<table border=\"1\" class=\"dataframe\">\n",
       "  <thead>\n",
       "    <tr style=\"text-align: right;\">\n",
       "      <th></th>\n",
       "      <th>target</th>\n",
       "      <th>source</th>\n",
       "      <th>num_matched_features</th>\n",
       "      <th>matched_features</th>\n",
       "      <th>num_missed_features</th>\n",
       "      <th>missed_features</th>\n",
       "    </tr>\n",
       "  </thead>\n",
       "  <tbody>\n",
       "    <tr>\n",
       "      <th>0</th>\n",
       "      <td>A_01_002</td>\n",
       "      <td>B_01_062</td>\n",
       "      <td>12</td>\n",
       "      <td>SignType.2.0, MinorLocation.2.0, Movement.2.0,...</td>\n",
       "      <td>1</td>\n",
       "      <td>RepeatedMovement.2.0</td>\n",
       "    </tr>\n",
       "    <tr>\n",
       "      <th>1</th>\n",
       "      <td>A_01_002</td>\n",
       "      <td>C_03_023</td>\n",
       "      <td>12</td>\n",
       "      <td>SignType.2.0, MinorLocation.2.0, Movement.2.0,...</td>\n",
       "      <td>1</td>\n",
       "      <td>Flexion.2.0</td>\n",
       "    </tr>\n",
       "    <tr>\n",
       "      <th>2</th>\n",
       "      <td>A_01_002</td>\n",
       "      <td>G_01_038</td>\n",
       "      <td>12</td>\n",
       "      <td>SignType.2.0, MinorLocation.2.0, Contact.2.0, ...</td>\n",
       "      <td>1</td>\n",
       "      <td>Movement.2.0</td>\n",
       "    </tr>\n",
       "    <tr>\n",
       "      <th>3</th>\n",
       "      <td>A_01_002</td>\n",
       "      <td>J_03_046</td>\n",
       "      <td>12</td>\n",
       "      <td>SignType.2.0, MinorLocation.2.0, Movement.2.0,...</td>\n",
       "      <td>1</td>\n",
       "      <td>RepeatedMovement.2.0</td>\n",
       "    </tr>\n",
       "    <tr>\n",
       "      <th>4</th>\n",
       "      <td>A_01_003</td>\n",
       "      <td>D_02_047</td>\n",
       "      <td>14</td>\n",
       "      <td>SignType.2.0, MinorLocation.2.0, Movement.2.0,...</td>\n",
       "      <td>0</td>\n",
       "      <td>NaN</td>\n",
       "    </tr>\n",
       "  </tbody>\n",
       "</table>\n",
       "</div>"
      ],
      "text/plain": [
       "     target    source  num_matched_features  \\\n",
       "0  A_01_002  B_01_062                    12   \n",
       "1  A_01_002  C_03_023                    12   \n",
       "2  A_01_002  G_01_038                    12   \n",
       "3  A_01_002  J_03_046                    12   \n",
       "4  A_01_003  D_02_047                    14   \n",
       "\n",
       "                                    matched_features  num_missed_features  \\\n",
       "0  SignType.2.0, MinorLocation.2.0, Movement.2.0,...                    1   \n",
       "1  SignType.2.0, MinorLocation.2.0, Movement.2.0,...                    1   \n",
       "2  SignType.2.0, MinorLocation.2.0, Contact.2.0, ...                    1   \n",
       "3  SignType.2.0, MinorLocation.2.0, Movement.2.0,...                    1   \n",
       "4  SignType.2.0, MinorLocation.2.0, Movement.2.0,...                    0   \n",
       "\n",
       "        missed_features  \n",
       "0  RepeatedMovement.2.0  \n",
       "1           Flexion.2.0  \n",
       "2          Movement.2.0  \n",
       "3  RepeatedMovement.2.0  \n",
       "4                   NaN  "
      ]
     },
     "execution_count": 12,
     "metadata": {},
     "output_type": "execute_result"
    }
   ],
   "source": [
    "edges_df = pd.read_csv('../data/generated-data/default-neighbors.csv') \n",
    "edges_df = edges_df.rename(columns={\"neighbor\": \"source\"})\n",
    "edges_df.head()\n"
   ]
  },
  {
   "cell_type": "code",
   "execution_count": 13,
   "metadata": {},
   "outputs": [
    {
     "data": {
      "text/plain": [
       "(13556, 6)"
      ]
     },
     "execution_count": 13,
     "metadata": {},
     "output_type": "execute_result"
    }
   ],
   "source": [
    "edges_df.shape"
   ]
  },
  {
   "cell_type": "code",
   "execution_count": 14,
   "metadata": {},
   "outputs": [
    {
     "data": {
      "image/png": "[encoded data removed]",
      "text/plain": [
       "<Figure size 432x288 with 1 Axes>"
      ]
     },
     "metadata": {},
     "output_type": "display_data"
    }
   ],
   "source": [
    "g = nx.from_pandas_edgelist(edges_df, source='source', target='target') \n",
    "nx.draw(g)"
   ]
  },
  {
   "cell_type": "code",
   "execution_count": 15,
   "metadata": {},
   "outputs": [],
   "source": [
    "#first compute the best partition\n",
    "# from community import greedy_modularity_communities\n",
    "import community\n",
    "\n",
    "G = g\n",
    "\n",
    "#Two methods for community analysis\n",
    "# c = greedy_modularity_communities(G)\n",
    "partition = community.best_partition(G)"
   ]
  },
  {
   "cell_type": "code",
   "execution_count": 16,
   "metadata": {},
   "outputs": [
    {
     "data": {
      "image/png": "[encoded data removed]",
      "text/plain": [
       "<Figure size 432x288 with 1 Axes>"
      ]
     },
     "metadata": {},
     "output_type": "display_data"
    }
   ],
   "source": [
    "values = [partition.get(node) for node in G.nodes()]\n",
    "\n",
    "nx.draw_spring(G, cmap = plt.get_cmap('jet'), node_color = values, node_size=60, with_labels=False)"
   ]
  },
  {
   "cell_type": "code",
   "execution_count": null,
   "metadata": {},
   "outputs": [],
   "source": []
  },
  {
   "cell_type": "code",
   "execution_count": 17,
   "metadata": {},
   "outputs": [],
   "source": [
    "# num_nodes = 0\n",
    "# for community in c:\n",
    "#     num_nodes += len(community)\n",
    "# print(num_nodes)"
   ]
  },
  {
   "cell_type": "code",
   "execution_count": 18,
   "metadata": {},
   "outputs": [
    {
     "data": {
      "text/plain": [
       "2068"
      ]
     },
     "execution_count": 18,
     "metadata": {},
     "output_type": "execute_result"
    }
   ],
   "source": [
    "len(partition)"
   ]
  },
  {
   "cell_type": "code",
   "execution_count": 19,
   "metadata": {},
   "outputs": [
    {
     "name": "stdout",
     "output_type": "stream",
     "text": [
      "2068\n"
     ]
    },
    {
     "data": {
      "text/html": [
       "<div>\n",
       "<style scoped>\n",
       "    .dataframe tbody tr th:only-of-type {\n",
       "        vertical-align: middle;\n",
       "    }\n",
       "\n",
       "    .dataframe tbody tr th {\n",
       "        vertical-align: top;\n",
       "    }\n",
       "\n",
       "    .dataframe thead th {\n",
       "        text-align: right;\n",
       "    }\n",
       "</style>\n",
       "<table border=\"1\" class=\"dataframe\">\n",
       "  <thead>\n",
       "    <tr style=\"text-align: right;\">\n",
       "      <th></th>\n",
       "      <th>Code</th>\n",
       "      <th>group_id</th>\n",
       "    </tr>\n",
       "  </thead>\n",
       "  <tbody>\n",
       "    <tr>\n",
       "      <th>0</th>\n",
       "      <td>B_01_062</td>\n",
       "      <td>0</td>\n",
       "    </tr>\n",
       "    <tr>\n",
       "      <th>1</th>\n",
       "      <td>A_01_002</td>\n",
       "      <td>0</td>\n",
       "    </tr>\n",
       "    <tr>\n",
       "      <th>2</th>\n",
       "      <td>C_03_023</td>\n",
       "      <td>0</td>\n",
       "    </tr>\n",
       "    <tr>\n",
       "      <th>3</th>\n",
       "      <td>G_01_038</td>\n",
       "      <td>0</td>\n",
       "    </tr>\n",
       "    <tr>\n",
       "      <th>4</th>\n",
       "      <td>J_03_046</td>\n",
       "      <td>0</td>\n",
       "    </tr>\n",
       "  </tbody>\n",
       "</table>\n",
       "</div>"
      ],
      "text/plain": [
       "       Code  group_id\n",
       "0  B_01_062         0\n",
       "1  A_01_002         0\n",
       "2  C_03_023         0\n",
       "3  G_01_038         0\n",
       "4  J_03_046         0"
      ]
     },
     "execution_count": 19,
     "metadata": {},
     "output_type": "execute_result"
    }
   ],
   "source": [
    "#Noes only connected by edges. Does not include standalone nodes.\n",
    "\n",
    "list = partition.items()\n",
    "print(len(list))\n",
    "df_with_groupids = pd.DataFrame(list, columns=['Code', 'group_id'])\n",
    "df_with_groupids.head()"
   ]
  },
  {
   "cell_type": "code",
   "execution_count": 20,
   "metadata": {},
   "outputs": [
    {
     "name": "stdout",
     "output_type": "stream",
     "text": [
      "2068\n",
      "(13556, 6)\n",
      "(13556, 6)\n"
     ]
    },
    {
     "data": {
      "text/html": [
       "<div>\n",
       "<style scoped>\n",
       "    .dataframe tbody tr th:only-of-type {\n",
       "        vertical-align: middle;\n",
       "    }\n",
       "\n",
       "    .dataframe tbody tr th {\n",
       "        vertical-align: top;\n",
       "    }\n",
       "\n",
       "    .dataframe thead th {\n",
       "        text-align: right;\n",
       "    }\n",
       "</style>\n",
       "<table border=\"1\" class=\"dataframe\">\n",
       "  <thead>\n",
       "    <tr style=\"text-align: right;\">\n",
       "      <th></th>\n",
       "      <th>target</th>\n",
       "      <th>source</th>\n",
       "      <th>num_matched_features</th>\n",
       "      <th>matched_features</th>\n",
       "      <th>num_missed_features</th>\n",
       "      <th>missed_features</th>\n",
       "    </tr>\n",
       "  </thead>\n",
       "  <tbody>\n",
       "    <tr>\n",
       "      <th>0</th>\n",
       "      <td>A_01_002</td>\n",
       "      <td>B_01_062</td>\n",
       "      <td>12</td>\n",
       "      <td>SignType.2.0, MinorLocation.2.0, Movement.2.0,...</td>\n",
       "      <td>1</td>\n",
       "      <td>RepeatedMovement.2.0</td>\n",
       "    </tr>\n",
       "    <tr>\n",
       "      <th>1</th>\n",
       "      <td>A_01_002</td>\n",
       "      <td>C_03_023</td>\n",
       "      <td>12</td>\n",
       "      <td>SignType.2.0, MinorLocation.2.0, Movement.2.0,...</td>\n",
       "      <td>1</td>\n",
       "      <td>Flexion.2.0</td>\n",
       "    </tr>\n",
       "    <tr>\n",
       "      <th>2</th>\n",
       "      <td>A_01_002</td>\n",
       "      <td>G_01_038</td>\n",
       "      <td>12</td>\n",
       "      <td>SignType.2.0, MinorLocation.2.0, Contact.2.0, ...</td>\n",
       "      <td>1</td>\n",
       "      <td>Movement.2.0</td>\n",
       "    </tr>\n",
       "    <tr>\n",
       "      <th>3</th>\n",
       "      <td>A_01_002</td>\n",
       "      <td>J_03_046</td>\n",
       "      <td>12</td>\n",
       "      <td>SignType.2.0, MinorLocation.2.0, Movement.2.0,...</td>\n",
       "      <td>1</td>\n",
       "      <td>RepeatedMovement.2.0</td>\n",
       "    </tr>\n",
       "    <tr>\n",
       "      <th>4</th>\n",
       "      <td>A_01_003</td>\n",
       "      <td>D_02_047</td>\n",
       "      <td>14</td>\n",
       "      <td>SignType.2.0, MinorLocation.2.0, Movement.2.0,...</td>\n",
       "      <td>0</td>\n",
       "      <td>NaN</td>\n",
       "    </tr>\n",
       "  </tbody>\n",
       "</table>\n",
       "</div>"
      ],
      "text/plain": [
       "     target    source  num_matched_features  \\\n",
       "0  A_01_002  B_01_062                    12   \n",
       "1  A_01_002  C_03_023                    12   \n",
       "2  A_01_002  G_01_038                    12   \n",
       "3  A_01_002  J_03_046                    12   \n",
       "4  A_01_003  D_02_047                    14   \n",
       "\n",
       "                                    matched_features  num_missed_features  \\\n",
       "0  SignType.2.0, MinorLocation.2.0, Movement.2.0,...                    1   \n",
       "1  SignType.2.0, MinorLocation.2.0, Movement.2.0,...                    1   \n",
       "2  SignType.2.0, MinorLocation.2.0, Contact.2.0, ...                    1   \n",
       "3  SignType.2.0, MinorLocation.2.0, Movement.2.0,...                    1   \n",
       "4  SignType.2.0, MinorLocation.2.0, Movement.2.0,...                    0   \n",
       "\n",
       "        missed_features  \n",
       "0  RepeatedMovement.2.0  \n",
       "1           Flexion.2.0  \n",
       "2          Movement.2.0  \n",
       "3  RepeatedMovement.2.0  \n",
       "4                   NaN  "
      ]
     },
     "execution_count": 20,
     "metadata": {},
     "output_type": "execute_result"
    }
   ],
   "source": [
    "# get edges only where source and target nodes belong to a valid community for now. This is to assign them group ids.\n",
    "nodes_in_communities = df_with_groupids['Code'].unique()\n",
    "edges_for_community_nodes_df = edges_df.loc[edges_df['source'].isin(nodes_in_communities) & edges_df['target'].isin(nodes_in_communities)]\n",
    "print(len(edges_for_community_nodes_df['source'].unique()))\n",
    "print(edges_df.shape)\n",
    "print(edges_for_community_nodes_df.shape)\n",
    "edges_for_community_nodes_df.head()"
   ]
  },
  {
   "cell_type": "code",
   "execution_count": 21,
   "metadata": {
    "scrolled": true
   },
   "outputs": [
    {
     "name": "stdout",
     "output_type": "stream",
     "text": [
      "(2723, 189)\n"
     ]
    },
    {
     "data": {
      "text/html": [
       "<div>\n",
       "<style scoped>\n",
       "    .dataframe tbody tr th:only-of-type {\n",
       "        vertical-align: middle;\n",
       "    }\n",
       "\n",
       "    .dataframe tbody tr th {\n",
       "        vertical-align: top;\n",
       "    }\n",
       "\n",
       "    .dataframe thead th {\n",
       "        text-align: right;\n",
       "    }\n",
       "</style>\n",
       "<table border=\"1\" class=\"dataframe\">\n",
       "  <thead>\n",
       "    <tr style=\"text-align: right;\">\n",
       "      <th></th>\n",
       "      <th>EntryID</th>\n",
       "      <th>LemmaID</th>\n",
       "      <th>Code</th>\n",
       "      <th>Batch</th>\n",
       "      <th>List</th>\n",
       "      <th>Item</th>\n",
       "      <th>EnglishWF(lg10)</th>\n",
       "      <th>SignFrequency(M)</th>\n",
       "      <th>SignFrequency(SD)</th>\n",
       "      <th>SignFrequency(Z)</th>\n",
       "      <th>...</th>\n",
       "      <th>SignBankSemanticField</th>\n",
       "      <th>SignBankReferenceID</th>\n",
       "      <th>InCDI</th>\n",
       "      <th>CDISemanticCategory</th>\n",
       "      <th>bglm_aoa</th>\n",
       "      <th>empirical_aoa</th>\n",
       "      <th>YouTube Video</th>\n",
       "      <th>VimeoVideo</th>\n",
       "      <th>VimeoVideoHTML</th>\n",
       "      <th>group_id</th>\n",
       "    </tr>\n",
       "  </thead>\n",
       "  <tbody>\n",
       "    <tr>\n",
       "      <th>0</th>\n",
       "      <td>tree</td>\n",
       "      <td>tree</td>\n",
       "      <td>A_01_002</td>\n",
       "      <td>A</td>\n",
       "      <td>1</td>\n",
       "      <td>2</td>\n",
       "      <td>3.521</td>\n",
       "      <td>5.143</td>\n",
       "      <td>2.081</td>\n",
       "      <td>0.621</td>\n",
       "      <td>...</td>\n",
       "      <td>None</td>\n",
       "      <td>342.0</td>\n",
       "      <td>Yes</td>\n",
       "      <td>Outside Things and Places to Go</td>\n",
       "      <td>22.0</td>\n",
       "      <td>14.0</td>\n",
       "      <td>&lt;iframe width=\"280\" height=\"158\" src=\"https://...</td>\n",
       "      <td>https://player.vimeo.com/video/344216264</td>\n",
       "      <td>&lt;iframe src=https://player.vimeo.com/video/344...</td>\n",
       "      <td>0.0</td>\n",
       "    </tr>\n",
       "    <tr>\n",
       "      <th>1</th>\n",
       "      <td>night</td>\n",
       "      <td>night</td>\n",
       "      <td>A_01_003</td>\n",
       "      <td>A</td>\n",
       "      <td>1</td>\n",
       "      <td>3</td>\n",
       "      <td>4.645</td>\n",
       "      <td>6.032</td>\n",
       "      <td>1.516</td>\n",
       "      <td>1.068</td>\n",
       "      <td>...</td>\n",
       "      <td>None</td>\n",
       "      <td>199.0</td>\n",
       "      <td>Yes</td>\n",
       "      <td>Signs About Time</td>\n",
       "      <td>31.0</td>\n",
       "      <td>18.0</td>\n",
       "      <td>&lt;iframe width=\"280\" height=\"158\" src=\"https://...</td>\n",
       "      <td>https://player.vimeo.com/video/344216312</td>\n",
       "      <td>&lt;iframe src=https://player.vimeo.com/video/344...</td>\n",
       "      <td>1.0</td>\n",
       "    </tr>\n",
       "    <tr>\n",
       "      <th>2</th>\n",
       "      <td>hamburger</td>\n",
       "      <td>hamburger</td>\n",
       "      <td>A_01_004</td>\n",
       "      <td>A</td>\n",
       "      <td>1</td>\n",
       "      <td>4</td>\n",
       "      <td>2.600</td>\n",
       "      <td>4.429</td>\n",
       "      <td>1.720</td>\n",
       "      <td>0.232</td>\n",
       "      <td>...</td>\n",
       "      <td>None</td>\n",
       "      <td>1844.0</td>\n",
       "      <td>Yes</td>\n",
       "      <td>Food and Drink</td>\n",
       "      <td>32.0</td>\n",
       "      <td>28.0</td>\n",
       "      <td>&lt;iframe width=\"280\" height=\"158\" src=\"https://...</td>\n",
       "      <td>https://player.vimeo.com/video/344216345</td>\n",
       "      <td>&lt;iframe src=https://player.vimeo.com/video/344...</td>\n",
       "      <td>2.0</td>\n",
       "    </tr>\n",
       "    <tr>\n",
       "      <th>3</th>\n",
       "      <td>nephew</td>\n",
       "      <td>nephew</td>\n",
       "      <td>A_01_005</td>\n",
       "      <td>A</td>\n",
       "      <td>1</td>\n",
       "      <td>5</td>\n",
       "      <td>2.928</td>\n",
       "      <td>2.621</td>\n",
       "      <td>1.720</td>\n",
       "      <td>-0.753</td>\n",
       "      <td>...</td>\n",
       "      <td>People</td>\n",
       "      <td>3011.0</td>\n",
       "      <td>No</td>\n",
       "      <td>NaN</td>\n",
       "      <td>NaN</td>\n",
       "      <td>NaN</td>\n",
       "      <td>&lt;iframe width=\"280\" height=\"158\" src=\"https://...</td>\n",
       "      <td>https://player.vimeo.com/video/344216367</td>\n",
       "      <td>&lt;iframe src=https://player.vimeo.com/video/344...</td>\n",
       "      <td>NaN</td>\n",
       "    </tr>\n",
       "    <tr>\n",
       "      <th>4</th>\n",
       "      <td>castle</td>\n",
       "      <td>castle</td>\n",
       "      <td>A_01_008</td>\n",
       "      <td>A</td>\n",
       "      <td>1</td>\n",
       "      <td>8</td>\n",
       "      <td>3.041</td>\n",
       "      <td>1.579</td>\n",
       "      <td>0.838</td>\n",
       "      <td>-1.198</td>\n",
       "      <td>...</td>\n",
       "      <td>None</td>\n",
       "      <td>2471.0</td>\n",
       "      <td>No</td>\n",
       "      <td>Action Signs</td>\n",
       "      <td>NaN</td>\n",
       "      <td>NaN</td>\n",
       "      <td>&lt;iframe width=\"280\" height=\"158\" src=\"https://...</td>\n",
       "      <td>https://player.vimeo.com/video/344216403</td>\n",
       "      <td>&lt;iframe src=https://player.vimeo.com/video/344...</td>\n",
       "      <td>3.0</td>\n",
       "    </tr>\n",
       "    <tr>\n",
       "      <th>5</th>\n",
       "      <td>humble</td>\n",
       "      <td>humble</td>\n",
       "      <td>A_01_009</td>\n",
       "      <td>A</td>\n",
       "      <td>1</td>\n",
       "      <td>9</td>\n",
       "      <td>2.700</td>\n",
       "      <td>3.200</td>\n",
       "      <td>1.031</td>\n",
       "      <td>-0.418</td>\n",
       "      <td>...</td>\n",
       "      <td>Attribute</td>\n",
       "      <td>2940.0</td>\n",
       "      <td>No</td>\n",
       "      <td>NaN</td>\n",
       "      <td>NaN</td>\n",
       "      <td>NaN</td>\n",
       "      <td>&lt;iframe width=\"280\" height=\"158\" src=\"https://...</td>\n",
       "      <td>https://player.vimeo.com/video/344216431</td>\n",
       "      <td>&lt;iframe src=https://player.vimeo.com/video/344...</td>\n",
       "      <td>4.0</td>\n",
       "    </tr>\n",
       "    <tr>\n",
       "      <th>6</th>\n",
       "      <td>cup</td>\n",
       "      <td>cup</td>\n",
       "      <td>A_01_010</td>\n",
       "      <td>A</td>\n",
       "      <td>1</td>\n",
       "      <td>10</td>\n",
       "      <td>3.421</td>\n",
       "      <td>5.742</td>\n",
       "      <td>1.413</td>\n",
       "      <td>0.909</td>\n",
       "      <td>...</td>\n",
       "      <td>None</td>\n",
       "      <td>388.0</td>\n",
       "      <td>No</td>\n",
       "      <td>NaN</td>\n",
       "      <td>NaN</td>\n",
       "      <td>NaN</td>\n",
       "      <td>&lt;iframe width=\"280\" height=\"158\" src=\"https://...</td>\n",
       "      <td>https://player.vimeo.com/video/344216455</td>\n",
       "      <td>&lt;iframe src=https://player.vimeo.com/video/344...</td>\n",
       "      <td>5.0</td>\n",
       "    </tr>\n",
       "    <tr>\n",
       "      <th>7</th>\n",
       "      <td>english</td>\n",
       "      <td>english</td>\n",
       "      <td>A_01_011</td>\n",
       "      <td>A</td>\n",
       "      <td>1</td>\n",
       "      <td>11</td>\n",
       "      <td>3.577</td>\n",
       "      <td>4.645</td>\n",
       "      <td>1.496</td>\n",
       "      <td>0.326</td>\n",
       "      <td>...</td>\n",
       "      <td>None</td>\n",
       "      <td>1311.0</td>\n",
       "      <td>No</td>\n",
       "      <td>NaN</td>\n",
       "      <td>NaN</td>\n",
       "      <td>NaN</td>\n",
       "      <td>&lt;iframe width=\"280\" height=\"158\" src=\"https://...</td>\n",
       "      <td>https://player.vimeo.com/video/344216483</td>\n",
       "      <td>&lt;iframe src=https://player.vimeo.com/video/344...</td>\n",
       "      <td>NaN</td>\n",
       "    </tr>\n",
       "    <tr>\n",
       "      <th>8</th>\n",
       "      <td>eyeglasses</td>\n",
       "      <td>eyeglasses</td>\n",
       "      <td>A_01_012</td>\n",
       "      <td>A</td>\n",
       "      <td>1</td>\n",
       "      <td>12</td>\n",
       "      <td>1.544</td>\n",
       "      <td>3.905</td>\n",
       "      <td>1.221</td>\n",
       "      <td>0.329</td>\n",
       "      <td>...</td>\n",
       "      <td>None</td>\n",
       "      <td>468.0</td>\n",
       "      <td>No</td>\n",
       "      <td>NaN</td>\n",
       "      <td>NaN</td>\n",
       "      <td>NaN</td>\n",
       "      <td>&lt;iframe width=\"280\" height=\"158\" src=\"https://...</td>\n",
       "      <td>https://player.vimeo.com/video/344216509</td>\n",
       "      <td>&lt;iframe src=https://player.vimeo.com/video/344...</td>\n",
       "      <td>NaN</td>\n",
       "    </tr>\n",
       "    <tr>\n",
       "      <th>9</th>\n",
       "      <td>tie</td>\n",
       "      <td>tie</td>\n",
       "      <td>A_01_013</td>\n",
       "      <td>A</td>\n",
       "      <td>1</td>\n",
       "      <td>13</td>\n",
       "      <td>3.355</td>\n",
       "      <td>2.143</td>\n",
       "      <td>1.195</td>\n",
       "      <td>-0.751</td>\n",
       "      <td>...</td>\n",
       "      <td>None</td>\n",
       "      <td>3143.0</td>\n",
       "      <td>No</td>\n",
       "      <td>NaN</td>\n",
       "      <td>NaN</td>\n",
       "      <td>NaN</td>\n",
       "      <td>&lt;iframe width=\"280\" height=\"158\" src=\"https://...</td>\n",
       "      <td>https://player.vimeo.com/video/344216543</td>\n",
       "      <td>&lt;iframe src=https://player.vimeo.com/video/344...</td>\n",
       "      <td>6.0</td>\n",
       "    </tr>\n",
       "    <tr>\n",
       "      <th>10</th>\n",
       "      <td>dentist</td>\n",
       "      <td>dentist</td>\n",
       "      <td>A_01_014</td>\n",
       "      <td>A</td>\n",
       "      <td>1</td>\n",
       "      <td>14</td>\n",
       "      <td>2.757</td>\n",
       "      <td>2.677</td>\n",
       "      <td>1.400</td>\n",
       "      <td>-0.699</td>\n",
       "      <td>...</td>\n",
       "      <td>None</td>\n",
       "      <td>2572.0</td>\n",
       "      <td>No</td>\n",
       "      <td>NaN</td>\n",
       "      <td>NaN</td>\n",
       "      <td>NaN</td>\n",
       "      <td>&lt;iframe width=\"280\" height=\"158\" src=\"https://...</td>\n",
       "      <td>https://player.vimeo.com/video/344216569</td>\n",
       "      <td>&lt;iframe src=https://player.vimeo.com/video/344...</td>\n",
       "      <td>7.0</td>\n",
       "    </tr>\n",
       "    <tr>\n",
       "      <th>11</th>\n",
       "      <td>sandwich</td>\n",
       "      <td>sandwich</td>\n",
       "      <td>A_01_015</td>\n",
       "      <td>A</td>\n",
       "      <td>1</td>\n",
       "      <td>15</td>\n",
       "      <td>3.049</td>\n",
       "      <td>3.677</td>\n",
       "      <td>1.661</td>\n",
       "      <td>-0.177</td>\n",
       "      <td>...</td>\n",
       "      <td>NaN</td>\n",
       "      <td>NaN</td>\n",
       "      <td>Yes</td>\n",
       "      <td>Food and Drink</td>\n",
       "      <td>33.0</td>\n",
       "      <td>28.0</td>\n",
       "      <td>&lt;iframe width=\"280\" height=\"158\" src=\"https://...</td>\n",
       "      <td>https://player.vimeo.com/video/344216588</td>\n",
       "      <td>&lt;iframe src=https://player.vimeo.com/video/344...</td>\n",
       "      <td>NaN</td>\n",
       "    </tr>\n",
       "    <tr>\n",
       "      <th>12</th>\n",
       "      <td>monkey</td>\n",
       "      <td>monkey</td>\n",
       "      <td>A_01_016</td>\n",
       "      <td>A</td>\n",
       "      <td>1</td>\n",
       "      <td>16</td>\n",
       "      <td>3.233</td>\n",
       "      <td>2.619</td>\n",
       "      <td>1.936</td>\n",
       "      <td>-0.363</td>\n",
       "      <td>...</td>\n",
       "      <td>Animal</td>\n",
       "      <td>369.0</td>\n",
       "      <td>Yes</td>\n",
       "      <td>Animals</td>\n",
       "      <td>27.0</td>\n",
       "      <td>16.0</td>\n",
       "      <td>&lt;iframe width=\"280\" height=\"158\" src=\"https://...</td>\n",
       "      <td>https://player.vimeo.com/video/344216611</td>\n",
       "      <td>&lt;iframe src=https://player.vimeo.com/video/344...</td>\n",
       "      <td>NaN</td>\n",
       "    </tr>\n",
       "    <tr>\n",
       "      <th>13</th>\n",
       "      <td>chair</td>\n",
       "      <td>chair</td>\n",
       "      <td>A_01_017</td>\n",
       "      <td>A</td>\n",
       "      <td>1</td>\n",
       "      <td>17</td>\n",
       "      <td>3.400</td>\n",
       "      <td>5.714</td>\n",
       "      <td>1.231</td>\n",
       "      <td>0.858</td>\n",
       "      <td>...</td>\n",
       "      <td>None</td>\n",
       "      <td>378.0</td>\n",
       "      <td>Yes</td>\n",
       "      <td>Furniture and Rooms</td>\n",
       "      <td>26.0</td>\n",
       "      <td>23.0</td>\n",
       "      <td>&lt;iframe width=\"280\" height=\"158\" src=\"https://...</td>\n",
       "      <td>https://player.vimeo.com/video/344216624</td>\n",
       "      <td>&lt;iframe src=https://player.vimeo.com/video/344...</td>\n",
       "      <td>8.0</td>\n",
       "    </tr>\n",
       "    <tr>\n",
       "      <th>14</th>\n",
       "      <td>candy_1</td>\n",
       "      <td>candy_1</td>\n",
       "      <td>A_01_018</td>\n",
       "      <td>A</td>\n",
       "      <td>1</td>\n",
       "      <td>18</td>\n",
       "      <td>3.262</td>\n",
       "      <td>4.419</td>\n",
       "      <td>1.587</td>\n",
       "      <td>0.261</td>\n",
       "      <td>...</td>\n",
       "      <td>None</td>\n",
       "      <td>67.0</td>\n",
       "      <td>Yes</td>\n",
       "      <td>Food and Drink</td>\n",
       "      <td>28.0</td>\n",
       "      <td>22.0</td>\n",
       "      <td>&lt;iframe width=\"280\" height=\"158\" src=\"https://...</td>\n",
       "      <td>https://player.vimeo.com/video/344216639</td>\n",
       "      <td>&lt;iframe src=https://player.vimeo.com/video/344...</td>\n",
       "      <td>9.0</td>\n",
       "    </tr>\n",
       "    <tr>\n",
       "      <th>15</th>\n",
       "      <td>wander</td>\n",
       "      <td>wander</td>\n",
       "      <td>A_01_019</td>\n",
       "      <td>A</td>\n",
       "      <td>1</td>\n",
       "      <td>19</td>\n",
       "      <td>2.477</td>\n",
       "      <td>3.548</td>\n",
       "      <td>1.261</td>\n",
       "      <td>-0.248</td>\n",
       "      <td>...</td>\n",
       "      <td>Event</td>\n",
       "      <td>3121.0</td>\n",
       "      <td>No</td>\n",
       "      <td>NaN</td>\n",
       "      <td>NaN</td>\n",
       "      <td>NaN</td>\n",
       "      <td>&lt;iframe width=\"280\" height=\"158\" src=\"https://...</td>\n",
       "      <td>https://player.vimeo.com/video/344216661</td>\n",
       "      <td>&lt;iframe src=https://player.vimeo.com/video/344...</td>\n",
       "      <td>10.0</td>\n",
       "    </tr>\n",
       "    <tr>\n",
       "      <th>16</th>\n",
       "      <td>scientist</td>\n",
       "      <td>scientist</td>\n",
       "      <td>A_01_020</td>\n",
       "      <td>A</td>\n",
       "      <td>1</td>\n",
       "      <td>20</td>\n",
       "      <td>2.794</td>\n",
       "      <td>3.516</td>\n",
       "      <td>1.730</td>\n",
       "      <td>-0.230</td>\n",
       "      <td>...</td>\n",
       "      <td>None</td>\n",
       "      <td>3103.0</td>\n",
       "      <td>No</td>\n",
       "      <td>NaN</td>\n",
       "      <td>NaN</td>\n",
       "      <td>NaN</td>\n",
       "      <td>&lt;iframe width=\"280\" height=\"158\" src=\"https://...</td>\n",
       "      <td>https://player.vimeo.com/video/344216677</td>\n",
       "      <td>&lt;iframe src=https://player.vimeo.com/video/344...</td>\n",
       "      <td>11.0</td>\n",
       "    </tr>\n",
       "    <tr>\n",
       "      <th>17</th>\n",
       "      <td>parachute</td>\n",
       "      <td>parachute</td>\n",
       "      <td>A_01_021</td>\n",
       "      <td>A</td>\n",
       "      <td>1</td>\n",
       "      <td>21</td>\n",
       "      <td>2.212</td>\n",
       "      <td>1.548</td>\n",
       "      <td>1.121</td>\n",
       "      <td>-1.279</td>\n",
       "      <td>...</td>\n",
       "      <td>None</td>\n",
       "      <td>3020.0</td>\n",
       "      <td>No</td>\n",
       "      <td>NaN</td>\n",
       "      <td>NaN</td>\n",
       "      <td>NaN</td>\n",
       "      <td>&lt;iframe width=\"280\" height=\"158\" src=\"https://...</td>\n",
       "      <td>https://player.vimeo.com/video/344216709</td>\n",
       "      <td>&lt;iframe src=https://player.vimeo.com/video/344...</td>\n",
       "      <td>NaN</td>\n",
       "    </tr>\n",
       "    <tr>\n",
       "      <th>18</th>\n",
       "      <td>read</td>\n",
       "      <td>read</td>\n",
       "      <td>A_01_022</td>\n",
       "      <td>A</td>\n",
       "      <td>1</td>\n",
       "      <td>22</td>\n",
       "      <td>4.090</td>\n",
       "      <td>6.387</td>\n",
       "      <td>1.202</td>\n",
       "      <td>1.254</td>\n",
       "      <td>...</td>\n",
       "      <td>None</td>\n",
       "      <td>341.0</td>\n",
       "      <td>Yes</td>\n",
       "      <td>Action Signs</td>\n",
       "      <td>29.0</td>\n",
       "      <td>28.0</td>\n",
       "      <td>&lt;iframe width=\"280\" height=\"158\" src=\"https://...</td>\n",
       "      <td>https://player.vimeo.com/video/344216734</td>\n",
       "      <td>&lt;iframe src=https://player.vimeo.com/video/344...</td>\n",
       "      <td>12.0</td>\n",
       "    </tr>\n",
       "    <tr>\n",
       "      <th>19</th>\n",
       "      <td>cat</td>\n",
       "      <td>cat</td>\n",
       "      <td>A_01_023</td>\n",
       "      <td>A</td>\n",
       "      <td>1</td>\n",
       "      <td>23</td>\n",
       "      <td>3.529</td>\n",
       "      <td>5.097</td>\n",
       "      <td>1.868</td>\n",
       "      <td>0.597</td>\n",
       "      <td>...</td>\n",
       "      <td>Animal</td>\n",
       "      <td>1037.0</td>\n",
       "      <td>Yes</td>\n",
       "      <td>Animals</td>\n",
       "      <td>24.0</td>\n",
       "      <td>14.0</td>\n",
       "      <td>&lt;iframe width=\"280\" height=\"158\" src=\"https://...</td>\n",
       "      <td>https://player.vimeo.com/video/344216753</td>\n",
       "      <td>&lt;iframe src=https://player.vimeo.com/video/344...</td>\n",
       "      <td>9.0</td>\n",
       "    </tr>\n",
       "  </tbody>\n",
       "</table>\n",
       "<p>20 rows × 189 columns</p>\n",
       "</div>"
      ],
      "text/plain": [
       "       EntryID     LemmaID      Code Batch  List  Item  EnglishWF(lg10)  \\\n",
       "0         tree        tree  A_01_002     A     1     2            3.521   \n",
       "1        night       night  A_01_003     A     1     3            4.645   \n",
       "2    hamburger   hamburger  A_01_004     A     1     4            2.600   \n",
       "3       nephew      nephew  A_01_005     A     1     5            2.928   \n",
       "4       castle      castle  A_01_008     A     1     8            3.041   \n",
       "5       humble      humble  A_01_009     A     1     9            2.700   \n",
       "6          cup         cup  A_01_010     A     1    10            3.421   \n",
       "7      english     english  A_01_011     A     1    11            3.577   \n",
       "8   eyeglasses  eyeglasses  A_01_012     A     1    12            1.544   \n",
       "9          tie         tie  A_01_013     A     1    13            3.355   \n",
       "10     dentist     dentist  A_01_014     A     1    14            2.757   \n",
       "11    sandwich    sandwich  A_01_015     A     1    15            3.049   \n",
       "12      monkey      monkey  A_01_016     A     1    16            3.233   \n",
       "13       chair       chair  A_01_017     A     1    17            3.400   \n",
       "14     candy_1     candy_1  A_01_018     A     1    18            3.262   \n",
       "15      wander      wander  A_01_019     A     1    19            2.477   \n",
       "16   scientist   scientist  A_01_020     A     1    20            2.794   \n",
       "17   parachute   parachute  A_01_021     A     1    21            2.212   \n",
       "18        read        read  A_01_022     A     1    22            4.090   \n",
       "19         cat         cat  A_01_023     A     1    23            3.529   \n",
       "\n",
       "    SignFrequency(M)  SignFrequency(SD)  SignFrequency(Z)  ...  \\\n",
       "0              5.143              2.081             0.621  ...   \n",
       "1              6.032              1.516             1.068  ...   \n",
       "2              4.429              1.720             0.232  ...   \n",
       "3              2.621              1.720            -0.753  ...   \n",
       "4              1.579              0.838            -1.198  ...   \n",
       "5              3.200              1.031            -0.418  ...   \n",
       "6              5.742              1.413             0.909  ...   \n",
       "7              4.645              1.496             0.326  ...   \n",
       "8              3.905              1.221             0.329  ...   \n",
       "9              2.143              1.195            -0.751  ...   \n",
       "10             2.677              1.400            -0.699  ...   \n",
       "11             3.677              1.661            -0.177  ...   \n",
       "12             2.619              1.936            -0.363  ...   \n",
       "13             5.714              1.231             0.858  ...   \n",
       "14             4.419              1.587             0.261  ...   \n",
       "15             3.548              1.261            -0.248  ...   \n",
       "16             3.516              1.730            -0.230  ...   \n",
       "17             1.548              1.121            -1.279  ...   \n",
       "18             6.387              1.202             1.254  ...   \n",
       "19             5.097              1.868             0.597  ...   \n",
       "\n",
       "    SignBankSemanticField  SignBankReferenceID  InCDI  \\\n",
       "0                    None                342.0    Yes   \n",
       "1                    None                199.0    Yes   \n",
       "2                    None               1844.0    Yes   \n",
       "3                  People               3011.0     No   \n",
       "4                    None               2471.0     No   \n",
       "5               Attribute               2940.0     No   \n",
       "6                    None                388.0     No   \n",
       "7                    None               1311.0     No   \n",
       "8                    None                468.0     No   \n",
       "9                    None               3143.0     No   \n",
       "10                   None               2572.0     No   \n",
       "11                    NaN                  NaN    Yes   \n",
       "12                 Animal                369.0    Yes   \n",
       "13                   None                378.0    Yes   \n",
       "14                   None                 67.0    Yes   \n",
       "15                  Event               3121.0     No   \n",
       "16                   None               3103.0     No   \n",
       "17                   None               3020.0     No   \n",
       "18                   None                341.0    Yes   \n",
       "19                 Animal               1037.0    Yes   \n",
       "\n",
       "                CDISemanticCategory  bglm_aoa  empirical_aoa  \\\n",
       "0   Outside Things and Places to Go      22.0           14.0   \n",
       "1                  Signs About Time      31.0           18.0   \n",
       "2                    Food and Drink      32.0           28.0   \n",
       "3                               NaN       NaN            NaN   \n",
       "4                      Action Signs       NaN            NaN   \n",
       "5                               NaN       NaN            NaN   \n",
       "6                               NaN       NaN            NaN   \n",
       "7                               NaN       NaN            NaN   \n",
       "8                               NaN       NaN            NaN   \n",
       "9                               NaN       NaN            NaN   \n",
       "10                              NaN       NaN            NaN   \n",
       "11                   Food and Drink      33.0           28.0   \n",
       "12                          Animals      27.0           16.0   \n",
       "13              Furniture and Rooms      26.0           23.0   \n",
       "14                   Food and Drink      28.0           22.0   \n",
       "15                              NaN       NaN            NaN   \n",
       "16                              NaN       NaN            NaN   \n",
       "17                              NaN       NaN            NaN   \n",
       "18                     Action Signs      29.0           28.0   \n",
       "19                          Animals      24.0           14.0   \n",
       "\n",
       "                                        YouTube Video  \\\n",
       "0   <iframe width=\"280\" height=\"158\" src=\"https://...   \n",
       "1   <iframe width=\"280\" height=\"158\" src=\"https://...   \n",
       "2   <iframe width=\"280\" height=\"158\" src=\"https://...   \n",
       "3   <iframe width=\"280\" height=\"158\" src=\"https://...   \n",
       "4   <iframe width=\"280\" height=\"158\" src=\"https://...   \n",
       "5   <iframe width=\"280\" height=\"158\" src=\"https://...   \n",
       "6   <iframe width=\"280\" height=\"158\" src=\"https://...   \n",
       "7   <iframe width=\"280\" height=\"158\" src=\"https://...   \n",
       "8   <iframe width=\"280\" height=\"158\" src=\"https://...   \n",
       "9   <iframe width=\"280\" height=\"158\" src=\"https://...   \n",
       "10  <iframe width=\"280\" height=\"158\" src=\"https://...   \n",
       "11  <iframe width=\"280\" height=\"158\" src=\"https://...   \n",
       "12  <iframe width=\"280\" height=\"158\" src=\"https://...   \n",
       "13  <iframe width=\"280\" height=\"158\" src=\"https://...   \n",
       "14  <iframe width=\"280\" height=\"158\" src=\"https://...   \n",
       "15  <iframe width=\"280\" height=\"158\" src=\"https://...   \n",
       "16  <iframe width=\"280\" height=\"158\" src=\"https://...   \n",
       "17  <iframe width=\"280\" height=\"158\" src=\"https://...   \n",
       "18  <iframe width=\"280\" height=\"158\" src=\"https://...   \n",
       "19  <iframe width=\"280\" height=\"158\" src=\"https://...   \n",
       "\n",
       "                                  VimeoVideo  \\\n",
       "0   https://player.vimeo.com/video/344216264   \n",
       "1   https://player.vimeo.com/video/344216312   \n",
       "2   https://player.vimeo.com/video/344216345   \n",
       "3   https://player.vimeo.com/video/344216367   \n",
       "4   https://player.vimeo.com/video/344216403   \n",
       "5   https://player.vimeo.com/video/344216431   \n",
       "6   https://player.vimeo.com/video/344216455   \n",
       "7   https://player.vimeo.com/video/344216483   \n",
       "8   https://player.vimeo.com/video/344216509   \n",
       "9   https://player.vimeo.com/video/344216543   \n",
       "10  https://player.vimeo.com/video/344216569   \n",
       "11  https://player.vimeo.com/video/344216588   \n",
       "12  https://player.vimeo.com/video/344216611   \n",
       "13  https://player.vimeo.com/video/344216624   \n",
       "14  https://player.vimeo.com/video/344216639   \n",
       "15  https://player.vimeo.com/video/344216661   \n",
       "16  https://player.vimeo.com/video/344216677   \n",
       "17  https://player.vimeo.com/video/344216709   \n",
       "18  https://player.vimeo.com/video/344216734   \n",
       "19  https://player.vimeo.com/video/344216753   \n",
       "\n",
       "                                       VimeoVideoHTML  group_id  \n",
       "0   <iframe src=https://player.vimeo.com/video/344...       0.0  \n",
       "1   <iframe src=https://player.vimeo.com/video/344...       1.0  \n",
       "2   <iframe src=https://player.vimeo.com/video/344...       2.0  \n",
       "3   <iframe src=https://player.vimeo.com/video/344...       NaN  \n",
       "4   <iframe src=https://player.vimeo.com/video/344...       3.0  \n",
       "5   <iframe src=https://player.vimeo.com/video/344...       4.0  \n",
       "6   <iframe src=https://player.vimeo.com/video/344...       5.0  \n",
       "7   <iframe src=https://player.vimeo.com/video/344...       NaN  \n",
       "8   <iframe src=https://player.vimeo.com/video/344...       NaN  \n",
       "9   <iframe src=https://player.vimeo.com/video/344...       6.0  \n",
       "10  <iframe src=https://player.vimeo.com/video/344...       7.0  \n",
       "11  <iframe src=https://player.vimeo.com/video/344...       NaN  \n",
       "12  <iframe src=https://player.vimeo.com/video/344...       NaN  \n",
       "13  <iframe src=https://player.vimeo.com/video/344...       8.0  \n",
       "14  <iframe src=https://player.vimeo.com/video/344...       9.0  \n",
       "15  <iframe src=https://player.vimeo.com/video/344...      10.0  \n",
       "16  <iframe src=https://player.vimeo.com/video/344...      11.0  \n",
       "17  <iframe src=https://player.vimeo.com/video/344...       NaN  \n",
       "18  <iframe src=https://player.vimeo.com/video/344...      12.0  \n",
       "19  <iframe src=https://player.vimeo.com/video/344...       9.0  \n",
       "\n",
       "[20 rows x 189 columns]"
      ]
     },
     "execution_count": 21,
     "metadata": {},
     "output_type": "execute_result"
    }
   ],
   "source": [
    "\n",
    "df_merged = pd.merge(df_default, df_with_groupids,how='left', on=['Code'])\n",
    "print(df_merged.shape)\n",
    "df_merged.head(20)"
   ]
  },
  {
   "cell_type": "code",
   "execution_count": 22,
   "metadata": {
    "scrolled": true
   },
   "outputs": [
    {
     "name": "stdout",
     "output_type": "stream",
     "text": [
      "0          0.0\n",
      "1          1.0\n",
      "2          2.0\n",
      "3       1000.0\n",
      "4          3.0\n",
      "         ...  \n",
      "2718    1000.0\n",
      "2719       4.0\n",
      "2720    1000.0\n",
      "2721       2.0\n",
      "2722      92.0\n",
      "Name: group_id, Length: 2723, dtype: float64\n"
     ]
    },
    {
     "data": {
      "text/plain": [
       "array([   0.,    1.,    2., 1000.,    3.,    4.,    5.,    6.,    7.,\n",
       "          8.,    9.,   10.,   11.,   12.,   13.,   14.,   15.,   16.,\n",
       "         17.,   18.,   19.,   20.,   21.,   22.,   23.,   24.,   25.,\n",
       "         26.,   27.,   28.,   29.,   30.,   31.,   32.,   33.,   34.,\n",
       "         35.,   36.,   37.,   38.,   39.,   40.,   41.,   42.,   43.,\n",
       "         44.,   45.,   46.,   47.,   48.,   49.,   50.,   51.,   52.,\n",
       "         53.,   54.,   55.,   56.,   57.,   58.,   59.,   60.,   61.,\n",
       "         62.,   63.,   64.,   65.,   66.,   67.,   68.,   69.,   70.,\n",
       "         71.,   72.,   73.,   74.,   75.,   76.,   77.,   78.,   79.,\n",
       "         80.,   81.,   82.,   83.,   84.,   85.,   86.,   87.,   88.,\n",
       "         89.,   90.,   91.,   92.,   93.,   94.,   95.,   96.,   97.,\n",
       "         98.,   99.,  100.,  101.,  102.,  103.,  104.,  105.,  106.,\n",
       "        107.,  108.,  109.,  110.,  111.,  112.,  113.,  114.,  115.,\n",
       "        116.,  117.,  118.,  119.,  120.,  121.,  122.,  123.,  124.,\n",
       "        125.,  126.,  127.,  128.,  129.,  130.,  131.,  132.,  133.,\n",
       "        134.,  135.,  136.,  137.,  138.,  139.,  140.,  141.,  142.,\n",
       "        143.,  144.,  145.,  146.,  147.,  148.,  149.,  150.,  151.,\n",
       "        152.,  153.,  154.,  155.,  156.,  157.,  158.,  159.,  160.,\n",
       "        161.,  162.,  163.,  164.,  165.,  166.,  167.,  168.,  169.,\n",
       "        170.,  171.,  172.,  173.,  174.,  175.,  176.,  177.,  178.,\n",
       "        179.,  180.,  181.,  182.,  183.,  184.,  185.,  186.,  187.,\n",
       "        188.,  189.,  190.,  191.,  192.,  193.,  194.,  195.,  196.,\n",
       "        197.,  198.,  199.,  200.,  201.,  202.,  203.,  204.,  205.,\n",
       "        206.,  207.,  208.,  209.,  210.,  211.,  212.,  213.,  214.,\n",
       "        215.,  216.,  217.,  218.,  219.])"
      ]
     },
     "execution_count": 22,
     "metadata": {},
     "output_type": "execute_result"
    }
   ],
   "source": [
    "values = {'group_id': 1000}\n",
    "df_merged = df_merged.fillna(value=values)\n",
    "\n",
    "print(df_merged['group_id'])\n",
    "unique_community_ids = df_merged['group_id'].unique()\n",
    "unique_community_ids"
   ]
  },
  {
   "cell_type": "code",
   "execution_count": 23,
   "metadata": {},
   "outputs": [
    {
     "data": {
      "text/plain": [
       "[{'group_id': 0.0, 'color_code': '#b382c8'},\n",
       " {'group_id': 1.0, 'color_code': '#f6aa40'},\n",
       " {'group_id': 2.0, 'color_code': '#6978dd'},\n",
       " {'group_id': 1000, 'color_code': '#0e815c'},\n",
       " {'group_id': 3.0, 'color_code': '#7b2895'},\n",
       " {'group_id': 4.0, 'color_code': '#b30d5c'},\n",
       " {'group_id': 5.0, 'color_code': '#b23906'},\n",
       " {'group_id': 6.0, 'color_code': '#e48c3f'},\n",
       " {'group_id': 7.0, 'color_code': '#115435'},\n",
       " {'group_id': 8.0, 'color_code': '#511c63'},\n",
       " {'group_id': 9.0, 'color_code': '#821bf2'},\n",
       " {'group_id': 10.0, 'color_code': '#525674'},\n",
       " {'group_id': 11.0, 'color_code': '#e49f85'},\n",
       " {'group_id': 12.0, 'color_code': '#631b07'},\n",
       " {'group_id': 13.0, 'color_code': '#8f3251'},\n",
       " {'group_id': 14.0, 'color_code': '#79779b'},\n",
       " {'group_id': 15.0, 'color_code': '#4b5231'},\n",
       " {'group_id': 16.0, 'color_code': '#dc2ab0'},\n",
       " {'group_id': 17.0, 'color_code': '#13fe96'},\n",
       " {'group_id': 18.0, 'color_code': '#5f87eb'},\n",
       " {'group_id': 19.0, 'color_code': '#b2a953'},\n",
       " {'group_id': 20.0, 'color_code': '#07edb4'},\n",
       " {'group_id': 21.0, 'color_code': '#cd0266'},\n",
       " {'group_id': 22.0, 'color_code': '#effd54'},\n",
       " {'group_id': 23.0, 'color_code': '#5e4c78'},\n",
       " {'group_id': 24.0, 'color_code': '#d772ba'},\n",
       " {'group_id': 25.0, 'color_code': '#cf3f54'},\n",
       " {'group_id': 26.0, 'color_code': '#75a180'},\n",
       " {'group_id': 27.0, 'color_code': '#518455'},\n",
       " {'group_id': 28.0, 'color_code': '#96e73f'},\n",
       " {'group_id': 29.0, 'color_code': '#271955'},\n",
       " {'group_id': 30.0, 'color_code': '#ffb3f9'},\n",
       " {'group_id': 31.0, 'color_code': '#e22185'},\n",
       " {'group_id': 32.0, 'color_code': '#c5b2a8'},\n",
       " {'group_id': 33.0, 'color_code': '#cc4e29'},\n",
       " {'group_id': 34.0, 'color_code': '#a5ec2a'},\n",
       " {'group_id': 35.0, 'color_code': '#3a79f0'},\n",
       " {'group_id': 36.0, 'color_code': '#f76df7'},\n",
       " {'group_id': 37.0, 'color_code': '#6f5c93'},\n",
       " {'group_id': 38.0, 'color_code': '#d351fb'},\n",
       " {'group_id': 39.0, 'color_code': '#8da6e7'},\n",
       " {'group_id': 40.0, 'color_code': '#5817e7'},\n",
       " {'group_id': 41.0, 'color_code': '#f4e638'},\n",
       " {'group_id': 42.0, 'color_code': '#0beff3'},\n",
       " {'group_id': 43.0, 'color_code': '#50b582'},\n",
       " {'group_id': 44.0, 'color_code': '#6742e4'},\n",
       " {'group_id': 45.0, 'color_code': '#142970'},\n",
       " {'group_id': 46.0, 'color_code': '#49c983'},\n",
       " {'group_id': 47.0, 'color_code': '#d561a9'},\n",
       " {'group_id': 48.0, 'color_code': '#765888'},\n",
       " {'group_id': 49.0, 'color_code': '#4f9c97'},\n",
       " {'group_id': 50.0, 'color_code': '#28c64a'},\n",
       " {'group_id': 51.0, 'color_code': '#d0e4d1'},\n",
       " {'group_id': 52.0, 'color_code': '#5816d3'},\n",
       " {'group_id': 53.0, 'color_code': '#71fb89'},\n",
       " {'group_id': 54.0, 'color_code': '#816062'},\n",
       " {'group_id': 55.0, 'color_code': '#a937ff'},\n",
       " {'group_id': 56.0, 'color_code': '#5c68d5'},\n",
       " {'group_id': 57.0, 'color_code': '#42a8f6'},\n",
       " {'group_id': 58.0, 'color_code': '#3858fc'},\n",
       " {'group_id': 59.0, 'color_code': '#86afb6'},\n",
       " {'group_id': 60.0, 'color_code': '#6d36a9'},\n",
       " {'group_id': 61.0, 'color_code': '#7566ef'},\n",
       " {'group_id': 62.0, 'color_code': '#17157d'},\n",
       " {'group_id': 63.0, 'color_code': '#f24308'},\n",
       " {'group_id': 64.0, 'color_code': '#dce9d9'},\n",
       " {'group_id': 65.0, 'color_code': '#4a5728'},\n",
       " {'group_id': 66.0, 'color_code': '#b98e33'},\n",
       " {'group_id': 67.0, 'color_code': '#faa201'},\n",
       " {'group_id': 68.0, 'color_code': '#b7cd77'},\n",
       " {'group_id': 69.0, 'color_code': '#ac6c2d'},\n",
       " {'group_id': 70.0, 'color_code': '#6086ae'},\n",
       " {'group_id': 71.0, 'color_code': '#c6253d'},\n",
       " {'group_id': 72.0, 'color_code': '#072957'},\n",
       " {'group_id': 73.0, 'color_code': '#e0db91'},\n",
       " {'group_id': 74.0, 'color_code': '#2c8c61'},\n",
       " {'group_id': 75.0, 'color_code': '#d1f734'},\n",
       " {'group_id': 76.0, 'color_code': '#7f427d'},\n",
       " {'group_id': 77.0, 'color_code': '#169964'},\n",
       " {'group_id': 78.0, 'color_code': '#d0eccb'},\n",
       " {'group_id': 79.0, 'color_code': '#18ad7a'},\n",
       " {'group_id': 80.0, 'color_code': '#9f6c01'},\n",
       " {'group_id': 81.0, 'color_code': '#a3b01a'},\n",
       " {'group_id': 82.0, 'color_code': '#ecb136'},\n",
       " {'group_id': 83.0, 'color_code': '#da3868'},\n",
       " {'group_id': 84.0, 'color_code': '#b6d5f1'},\n",
       " {'group_id': 85.0, 'color_code': '#394277'},\n",
       " {'group_id': 86.0, 'color_code': '#0595e4'},\n",
       " {'group_id': 87.0, 'color_code': '#976f01'},\n",
       " {'group_id': 88.0, 'color_code': '#689d2c'},\n",
       " {'group_id': 89.0, 'color_code': '#ebe87e'},\n",
       " {'group_id': 90.0, 'color_code': '#06d3ed'},\n",
       " {'group_id': 91.0, 'color_code': '#8aeeb1'},\n",
       " {'group_id': 92.0, 'color_code': '#0934bc'},\n",
       " {'group_id': 93.0, 'color_code': '#a33525'},\n",
       " {'group_id': 94.0, 'color_code': '#c8e227'},\n",
       " {'group_id': 95.0, 'color_code': '#a1afa2'},\n",
       " {'group_id': 96.0, 'color_code': '#24ab51'},\n",
       " {'group_id': 97.0, 'color_code': '#184a4f'},\n",
       " {'group_id': 98.0, 'color_code': '#2caafe'},\n",
       " {'group_id': 99.0, 'color_code': '#403926'},\n",
       " {'group_id': 100.0, 'color_code': '#b5c6d7'},\n",
       " {'group_id': 101.0, 'color_code': '#5ac8f2'},\n",
       " {'group_id': 102.0, 'color_code': '#98974b'},\n",
       " {'group_id': 103.0, 'color_code': '#54b357'},\n",
       " {'group_id': 104.0, 'color_code': '#0a607f'},\n",
       " {'group_id': 105.0, 'color_code': '#4b8160'},\n",
       " {'group_id': 106.0, 'color_code': '#6c9e59'},\n",
       " {'group_id': 107.0, 'color_code': '#eac05e'},\n",
       " {'group_id': 108.0, 'color_code': '#12a920'},\n",
       " {'group_id': 109.0, 'color_code': '#913845'},\n",
       " {'group_id': 110.0, 'color_code': '#82be51'},\n",
       " {'group_id': 111.0, 'color_code': '#f183b4'},\n",
       " {'group_id': 112.0, 'color_code': '#b4dc5e'},\n",
       " {'group_id': 113.0, 'color_code': '#185bb0'},\n",
       " {'group_id': 114.0, 'color_code': '#637e5a'},\n",
       " {'group_id': 115.0, 'color_code': '#d89e76'},\n",
       " {'group_id': 116.0, 'color_code': '#31367d'},\n",
       " {'group_id': 117.0, 'color_code': '#40582b'},\n",
       " {'group_id': 118.0, 'color_code': '#067bd0'},\n",
       " {'group_id': 119.0, 'color_code': '#af94ba'},\n",
       " {'group_id': 120.0, 'color_code': '#3f7eaf'},\n",
       " {'group_id': 121.0, 'color_code': '#cd2bd7'},\n",
       " {'group_id': 122.0, 'color_code': '#a0e99d'},\n",
       " {'group_id': 123.0, 'color_code': '#c329eb'},\n",
       " {'group_id': 124.0, 'color_code': '#5a53d1'},\n",
       " {'group_id': 125.0, 'color_code': '#a4b58f'},\n",
       " {'group_id': 126.0, 'color_code': '#9e89ec'},\n",
       " {'group_id': 127.0, 'color_code': '#2b66e0'},\n",
       " {'group_id': 128.0, 'color_code': '#e3ea6f'},\n",
       " {'group_id': 129.0, 'color_code': '#ac146b'},\n",
       " {'group_id': 130.0, 'color_code': '#ac6f80'},\n",
       " {'group_id': 131.0, 'color_code': '#27de8c'},\n",
       " {'group_id': 132.0, 'color_code': '#93cc2f'},\n",
       " {'group_id': 133.0, 'color_code': '#dee968'},\n",
       " {'group_id': 134.0, 'color_code': '#d3c19f'},\n",
       " {'group_id': 135.0, 'color_code': '#87b265'},\n",
       " {'group_id': 136.0, 'color_code': '#f7683e'},\n",
       " {'group_id': 137.0, 'color_code': '#22f92e'},\n",
       " {'group_id': 138.0, 'color_code': '#93f7cf'},\n",
       " {'group_id': 139.0, 'color_code': '#441ee2'},\n",
       " {'group_id': 140.0, 'color_code': '#1c1283'},\n",
       " {'group_id': 141.0, 'color_code': '#bc5dbb'},\n",
       " {'group_id': 142.0, 'color_code': '#5f4b4e'},\n",
       " {'group_id': 143.0, 'color_code': '#878024'},\n",
       " {'group_id': 144.0, 'color_code': '#964930'},\n",
       " {'group_id': 145.0, 'color_code': '#2fa41b'},\n",
       " {'group_id': 146.0, 'color_code': '#8ee81c'},\n",
       " {'group_id': 147.0, 'color_code': '#813213'},\n",
       " {'group_id': 148.0, 'color_code': '#87e20f'},\n",
       " {'group_id': 149.0, 'color_code': '#024ea6'},\n",
       " {'group_id': 150.0, 'color_code': '#950a62'},\n",
       " {'group_id': 151.0, 'color_code': '#c2ef34'},\n",
       " {'group_id': 152.0, 'color_code': '#897114'},\n",
       " {'group_id': 153.0, 'color_code': '#977c2f'},\n",
       " {'group_id': 154.0, 'color_code': '#78e5c8'},\n",
       " {'group_id': 155.0, 'color_code': '#e1ad42'},\n",
       " {'group_id': 156.0, 'color_code': '#56f6c7'},\n",
       " {'group_id': 157.0, 'color_code': '#6609c5'},\n",
       " {'group_id': 158.0, 'color_code': '#aaa84a'},\n",
       " {'group_id': 159.0, 'color_code': '#bbc8bb'},\n",
       " {'group_id': 160.0, 'color_code': '#b7d1e3'},\n",
       " {'group_id': 161.0, 'color_code': '#84bb31'},\n",
       " {'group_id': 162.0, 'color_code': '#a138da'},\n",
       " {'group_id': 163.0, 'color_code': '#a77f31'},\n",
       " {'group_id': 164.0, 'color_code': '#2abcf5'},\n",
       " {'group_id': 165.0, 'color_code': '#debab0'},\n",
       " {'group_id': 166.0, 'color_code': '#3b50cc'},\n",
       " {'group_id': 167.0, 'color_code': '#5e20ba'},\n",
       " {'group_id': 168.0, 'color_code': '#076089'},\n",
       " {'group_id': 169.0, 'color_code': '#7816d3'},\n",
       " {'group_id': 170.0, 'color_code': '#26ddd1'},\n",
       " {'group_id': 171.0, 'color_code': '#14feb2'},\n",
       " {'group_id': 172.0, 'color_code': '#12329e'},\n",
       " {'group_id': 173.0, 'color_code': '#a3210b'},\n",
       " {'group_id': 174.0, 'color_code': '#b97ab3'},\n",
       " {'group_id': 175.0, 'color_code': '#18a4f6'},\n",
       " {'group_id': 176.0, 'color_code': '#e07865'},\n",
       " {'group_id': 177.0, 'color_code': '#d30e35'},\n",
       " {'group_id': 178.0, 'color_code': '#29c685'},\n",
       " {'group_id': 179.0, 'color_code': '#aaa984'},\n",
       " {'group_id': 180.0, 'color_code': '#17e39d'},\n",
       " {'group_id': 181.0, 'color_code': '#a9a1b4'},\n",
       " {'group_id': 182.0, 'color_code': '#8bc4d9'},\n",
       " {'group_id': 183.0, 'color_code': '#d6fd3f'},\n",
       " {'group_id': 184.0, 'color_code': '#c7eab5'},\n",
       " {'group_id': 185.0, 'color_code': '#5b1227'},\n",
       " {'group_id': 186.0, 'color_code': '#dd64aa'},\n",
       " {'group_id': 187.0, 'color_code': '#b7f92a'},\n",
       " {'group_id': 188.0, 'color_code': '#116e20'},\n",
       " {'group_id': 189.0, 'color_code': '#25ffa1'},\n",
       " {'group_id': 190.0, 'color_code': '#ae430c'},\n",
       " {'group_id': 191.0, 'color_code': '#07a32b'},\n",
       " {'group_id': 192.0, 'color_code': '#476ccc'},\n",
       " {'group_id': 193.0, 'color_code': '#acaf89'},\n",
       " {'group_id': 194.0, 'color_code': '#90b2ca'},\n",
       " {'group_id': 195.0, 'color_code': '#45b5c2'},\n",
       " {'group_id': 196.0, 'color_code': '#c1120c'},\n",
       " {'group_id': 197.0, 'color_code': '#a822a0'},\n",
       " {'group_id': 198.0, 'color_code': '#4c9cda'},\n",
       " {'group_id': 199.0, 'color_code': '#2511bd'},\n",
       " {'group_id': 200.0, 'color_code': '#8797ae'},\n",
       " {'group_id': 201.0, 'color_code': '#a8b176'},\n",
       " {'group_id': 202.0, 'color_code': '#c5e9ea'},\n",
       " {'group_id': 203.0, 'color_code': '#0deeda'},\n",
       " {'group_id': 204.0, 'color_code': '#036213'},\n",
       " {'group_id': 205.0, 'color_code': '#41269b'},\n",
       " {'group_id': 206.0, 'color_code': '#ba83cd'},\n",
       " {'group_id': 207.0, 'color_code': '#5665bc'},\n",
       " {'group_id': 208.0, 'color_code': '#89d4df'},\n",
       " {'group_id': 209.0, 'color_code': '#b0bec5'},\n",
       " {'group_id': 210.0, 'color_code': '#683442'},\n",
       " {'group_id': 211.0, 'color_code': '#49ce98'},\n",
       " {'group_id': 212.0, 'color_code': '#0ca0f6'},\n",
       " {'group_id': 213.0, 'color_code': '#27daa0'},\n",
       " {'group_id': 214.0, 'color_code': '#0ac52b'},\n",
       " {'group_id': 215.0, 'color_code': '#176c19'},\n",
       " {'group_id': 216.0, 'color_code': '#e42f02'},\n",
       " {'group_id': 217.0, 'color_code': '#907560'},\n",
       " {'group_id': 218.0, 'color_code': '#4a059a'},\n",
       " {'group_id': 219.0, 'color_code': '#fc9189'}]"
      ]
     },
     "execution_count": 23,
     "metadata": {},
     "output_type": "execute_result"
    }
   ],
   "source": [
    "\n",
    "#Will assign all NaN's same color for now. That's okay.\n",
    "\n",
    "\n",
    "import random\n",
    " \n",
    "def colors(n):\n",
    "    if(n == 0):\n",
    "        n = 600\n",
    "    r = int(random.random() * 256)\n",
    "    g = int(random.random() * 256)\n",
    "    b = int(random.random() * 256)\n",
    "    \n",
    "    step = 256 / n\n",
    "#     print(n,r,g,b,step)\n",
    "\n",
    "    r += step\n",
    "    g += step\n",
    "    b += step\n",
    "    r = int(r) % 256\n",
    "    g = int(g) % 256\n",
    "    b = int(b) % 256\n",
    "    \n",
    "    colorstr = str(r)+\",\"+str(b)+\",\" + str(g)\n",
    "    return '#%02x%02x%02x' % (r, g, b)\n",
    "\n",
    "color_dict = []\n",
    "color_dictionary = {}\n",
    "for groupid in unique_community_ids:\n",
    "    #generate a random color\n",
    "    color = colors(groupid)\n",
    "    if(groupid == 1000):        \n",
    "        color_dict.append({'group_id': 1000, 'color_code': color})\n",
    "        color_dictionary['island'] = color\n",
    "    else:        \n",
    "        color_dict.append({'group_id':groupid , 'color_code': color})\n",
    "        color_dictionary[str(int(groupid))] = color\n",
    "    \n",
    "color_dict"
   ]
  },
  {
   "cell_type": "code",
   "execution_count": 24,
   "metadata": {},
   "outputs": [
    {
     "data": {
      "text/markdown": [
       "<br><span style=\"color:#b382c8\">Sample</span>."
      ],
      "text/plain": [
       "<IPython.core.display.Markdown object>"
      ]
     },
     "metadata": {},
     "output_type": "display_data"
    },
    {
     "data": {
      "text/markdown": [
       "<br><span style=\"color:#f6aa40\">Sample</span>."
      ],
      "text/plain": [
       "<IPython.core.display.Markdown object>"
      ]
     },
     "metadata": {},
     "output_type": "display_data"
    },
    {
     "data": {
      "text/markdown": [
       "<br><span style=\"color:#6978dd\">Sample</span>."
      ],
      "text/plain": [
       "<IPython.core.display.Markdown object>"
      ]
     },
     "metadata": {},
     "output_type": "display_data"
    },
    {
     "data": {
      "text/markdown": [
       "<br><span style=\"color:#0e815c\">Sample</span>."
      ],
      "text/plain": [
       "<IPython.core.display.Markdown object>"
      ]
     },
     "metadata": {},
     "output_type": "display_data"
    },
    {
     "data": {
      "text/markdown": [
       "<br><span style=\"color:#7b2895\">Sample</span>."
      ],
      "text/plain": [
       "<IPython.core.display.Markdown object>"
      ]
     },
     "metadata": {},
     "output_type": "display_data"
    },
    {
     "data": {
      "text/markdown": [
       "<br><span style=\"color:#b30d5c\">Sample</span>."
      ],
      "text/plain": [
       "<IPython.core.display.Markdown object>"
      ]
     },
     "metadata": {},
     "output_type": "display_data"
    },
    {
     "data": {
      "text/markdown": [
       "<br><span style=\"color:#b23906\">Sample</span>."
      ],
      "text/plain": [
       "<IPython.core.display.Markdown object>"
      ]
     },
     "metadata": {},
     "output_type": "display_data"
    },
    {
     "data": {
      "text/markdown": [
       "<br><span style=\"color:#e48c3f\">Sample</span>."
      ],
      "text/plain": [
       "<IPython.core.display.Markdown object>"
      ]
     },
     "metadata": {},
     "output_type": "display_data"
    },
    {
     "data": {
      "text/markdown": [
       "<br><span style=\"color:#115435\">Sample</span>."
      ],
      "text/plain": [
       "<IPython.core.display.Markdown object>"
      ]
     },
     "metadata": {},
     "output_type": "display_data"
    },
    {
     "data": {
      "text/markdown": [
       "<br><span style=\"color:#511c63\">Sample</span>."
      ],
      "text/plain": [
       "<IPython.core.display.Markdown object>"
      ]
     },
     "metadata": {},
     "output_type": "display_data"
    },
    {
     "data": {
      "text/markdown": [
       "<br><span style=\"color:#821bf2\">Sample</span>."
      ],
      "text/plain": [
       "<IPython.core.display.Markdown object>"
      ]
     },
     "metadata": {},
     "output_type": "display_data"
    },
    {
     "data": {
      "text/markdown": [
       "<br><span style=\"color:#525674\">Sample</span>."
      ],
      "text/plain": [
       "<IPython.core.display.Markdown object>"
      ]
     },
     "metadata": {},
     "output_type": "display_data"
    },
    {
     "data": {
      "text/markdown": [
       "<br><span style=\"color:#e49f85\">Sample</span>."
      ],
      "text/plain": [
       "<IPython.core.display.Markdown object>"
      ]
     },
     "metadata": {},
     "output_type": "display_data"
    },
    {
     "data": {
      "text/markdown": [
       "<br><span style=\"color:#631b07\">Sample</span>."
      ],
      "text/plain": [
       "<IPython.core.display.Markdown object>"
      ]
     },
     "metadata": {},
     "output_type": "display_data"
    },
    {
     "data": {
      "text/markdown": [
       "<br><span style=\"color:#8f3251\">Sample</span>."
      ],
      "text/plain": [
       "<IPython.core.display.Markdown object>"
      ]
     },
     "metadata": {},
     "output_type": "display_data"
    },
    {
     "data": {
      "text/markdown": [
       "<br><span style=\"color:#79779b\">Sample</span>."
      ],
      "text/plain": [
       "<IPython.core.display.Markdown object>"
      ]
     },
     "metadata": {},
     "output_type": "display_data"
    },
    {
     "data": {
      "text/markdown": [
       "<br><span style=\"color:#4b5231\">Sample</span>."
      ],
      "text/plain": [
       "<IPython.core.display.Markdown object>"
      ]
     },
     "metadata": {},
     "output_type": "display_data"
    },
    {
     "data": {
      "text/markdown": [
       "<br><span style=\"color:#dc2ab0\">Sample</span>."
      ],
      "text/plain": [
       "<IPython.core.display.Markdown object>"
      ]
     },
     "metadata": {},
     "output_type": "display_data"
    },
    {
     "data": {
      "text/markdown": [
       "<br><span style=\"color:#13fe96\">Sample</span>."
      ],
      "text/plain": [
       "<IPython.core.display.Markdown object>"
      ]
     },
     "metadata": {},
     "output_type": "display_data"
    },
    {
     "data": {
      "text/markdown": [
       "<br><span style=\"color:#5f87eb\">Sample</span>."
      ],
      "text/plain": [
       "<IPython.core.display.Markdown object>"
      ]
     },
     "metadata": {},
     "output_type": "display_data"
    },
    {
     "data": {
      "text/markdown": [
       "<br><span style=\"color:#b2a953\">Sample</span>."
      ],
      "text/plain": [
       "<IPython.core.display.Markdown object>"
      ]
     },
     "metadata": {},
     "output_type": "display_data"
    },
    {
     "data": {
      "text/markdown": [
       "<br><span style=\"color:#07edb4\">Sample</span>."
      ],
      "text/plain": [
       "<IPython.core.display.Markdown object>"
      ]
     },
     "metadata": {},
     "output_type": "display_data"
    },
    {
     "data": {
      "text/markdown": [
       "<br><span style=\"color:#cd0266\">Sample</span>."
      ],
      "text/plain": [
       "<IPython.core.display.Markdown object>"
      ]
     },
     "metadata": {},
     "output_type": "display_data"
    },
    {
     "data": {
      "text/markdown": [
       "<br><span style=\"color:#effd54\">Sample</span>."
      ],
      "text/plain": [
       "<IPython.core.display.Markdown object>"
      ]
     },
     "metadata": {},
     "output_type": "display_data"
    },
    {
     "data": {
      "text/markdown": [
       "<br><span style=\"color:#5e4c78\">Sample</span>."
      ],
      "text/plain": [
       "<IPython.core.display.Markdown object>"
      ]
     },
     "metadata": {},
     "output_type": "display_data"
    },
    {
     "data": {
      "text/markdown": [
       "<br><span style=\"color:#d772ba\">Sample</span>."
      ],
      "text/plain": [
       "<IPython.core.display.Markdown object>"
      ]
     },
     "metadata": {},
     "output_type": "display_data"
    },
    {
     "data": {
      "text/markdown": [
       "<br><span style=\"color:#cf3f54\">Sample</span>."
      ],
      "text/plain": [
       "<IPython.core.display.Markdown object>"
      ]
     },
     "metadata": {},
     "output_type": "display_data"
    },
    {
     "data": {
      "text/markdown": [
       "<br><span style=\"color:#75a180\">Sample</span>."
      ],
      "text/plain": [
       "<IPython.core.display.Markdown object>"
      ]
     },
     "metadata": {},
     "output_type": "display_data"
    },
    {
     "data": {
      "text/markdown": [
       "<br><span style=\"color:#518455\">Sample</span>."
      ],
      "text/plain": [
       "<IPython.core.display.Markdown object>"
      ]
     },
     "metadata": {},
     "output_type": "display_data"
    },
    {
     "data": {
      "text/markdown": [
       "<br><span style=\"color:#96e73f\">Sample</span>."
      ],
      "text/plain": [
       "<IPython.core.display.Markdown object>"
      ]
     },
     "metadata": {},
     "output_type": "display_data"
    },
    {
     "data": {
      "text/markdown": [
       "<br><span style=\"color:#271955\">Sample</span>."
      ],
      "text/plain": [
       "<IPython.core.display.Markdown object>"
      ]
     },
     "metadata": {},
     "output_type": "display_data"
    },
    {
     "data": {
      "text/markdown": [
       "<br><span style=\"color:#ffb3f9\">Sample</span>."
      ],
      "text/plain": [
       "<IPython.core.display.Markdown object>"
      ]
     },
     "metadata": {},
     "output_type": "display_data"
    },
    {
     "data": {
      "text/markdown": [
       "<br><span style=\"color:#e22185\">Sample</span>."
      ],
      "text/plain": [
       "<IPython.core.display.Markdown object>"
      ]
     },
     "metadata": {},
     "output_type": "display_data"
    },
    {
     "data": {
      "text/markdown": [
       "<br><span style=\"color:#c5b2a8\">Sample</span>."
      ],
      "text/plain": [
       "<IPython.core.display.Markdown object>"
      ]
     },
     "metadata": {},
     "output_type": "display_data"
    },
    {
     "data": {
      "text/markdown": [
       "<br><span style=\"color:#cc4e29\">Sample</span>."
      ],
      "text/plain": [
       "<IPython.core.display.Markdown object>"
      ]
     },
     "metadata": {},
     "output_type": "display_data"
    },
    {
     "data": {
      "text/markdown": [
       "<br><span style=\"color:#a5ec2a\">Sample</span>."
      ],
      "text/plain": [
       "<IPython.core.display.Markdown object>"
      ]
     },
     "metadata": {},
     "output_type": "display_data"
    },
    {
     "data": {
      "text/markdown": [
       "<br><span style=\"color:#3a79f0\">Sample</span>."
      ],
      "text/plain": [
       "<IPython.core.display.Markdown object>"
      ]
     },
     "metadata": {},
     "output_type": "display_data"
    },
    {
     "data": {
      "text/markdown": [
       "<br><span style=\"color:#f76df7\">Sample</span>."
      ],
      "text/plain": [
       "<IPython.core.display.Markdown object>"
      ]
     },
     "metadata": {},
     "output_type": "display_data"
    },
    {
     "data": {
      "text/markdown": [
       "<br><span style=\"color:#6f5c93\">Sample</span>."
      ],
      "text/plain": [
       "<IPython.core.display.Markdown object>"
      ]
     },
     "metadata": {},
     "output_type": "display_data"
    },
    {
     "data": {
      "text/markdown": [
       "<br><span style=\"color:#d351fb\">Sample</span>."
      ],
      "text/plain": [
       "<IPython.core.display.Markdown object>"
      ]
     },
     "metadata": {},
     "output_type": "display_data"
    },
    {
     "data": {
      "text/markdown": [
       "<br><span style=\"color:#8da6e7\">Sample</span>."
      ],
      "text/plain": [
       "<IPython.core.display.Markdown object>"
      ]
     },
     "metadata": {},
     "output_type": "display_data"
    },
    {
     "data": {
      "text/markdown": [
       "<br><span style=\"color:#5817e7\">Sample</span>."
      ],
      "text/plain": [
       "<IPython.core.display.Markdown object>"
      ]
     },
     "metadata": {},
     "output_type": "display_data"
    },
    {
     "data": {
      "text/markdown": [
       "<br><span style=\"color:#f4e638\">Sample</span>."
      ],
      "text/plain": [
       "<IPython.core.display.Markdown object>"
      ]
     },
     "metadata": {},
     "output_type": "display_data"
    },
    {
     "data": {
      "text/markdown": [
       "<br><span style=\"color:#0beff3\">Sample</span>."
      ],
      "text/plain": [
       "<IPython.core.display.Markdown object>"
      ]
     },
     "metadata": {},
     "output_type": "display_data"
    },
    {
     "data": {
      "text/markdown": [
       "<br><span style=\"color:#50b582\">Sample</span>."
      ],
      "text/plain": [
       "<IPython.core.display.Markdown object>"
      ]
     },
     "metadata": {},
     "output_type": "display_data"
    },
    {
     "data": {
      "text/markdown": [
       "<br><span style=\"color:#6742e4\">Sample</span>."
      ],
      "text/plain": [
       "<IPython.core.display.Markdown object>"
      ]
     },
     "metadata": {},
     "output_type": "display_data"
    },
    {
     "data": {
      "text/markdown": [
       "<br><span style=\"color:#142970\">Sample</span>."
      ],
      "text/plain": [
       "<IPython.core.display.Markdown object>"
      ]
     },
     "metadata": {},
     "output_type": "display_data"
    },
    {
     "data": {
      "text/markdown": [
       "<br><span style=\"color:#49c983\">Sample</span>."
      ],
      "text/plain": [
       "<IPython.core.display.Markdown object>"
      ]
     },
     "metadata": {},
     "output_type": "display_data"
    },
    {
     "data": {
      "text/markdown": [
       "<br><span style=\"color:#d561a9\">Sample</span>."
      ],
      "text/plain": [
       "<IPython.core.display.Markdown object>"
      ]
     },
     "metadata": {},
     "output_type": "display_data"
    },
    {
     "data": {
      "text/markdown": [
       "<br><span style=\"color:#765888\">Sample</span>."
      ],
      "text/plain": [
       "<IPython.core.display.Markdown object>"
      ]
     },
     "metadata": {},
     "output_type": "display_data"
    },
    {
     "data": {
      "text/markdown": [
       "<br><span style=\"color:#4f9c97\">Sample</span>."
      ],
      "text/plain": [
       "<IPython.core.display.Markdown object>"
      ]
     },
     "metadata": {},
     "output_type": "display_data"
    },
    {
     "data": {
      "text/markdown": [
       "<br><span style=\"color:#28c64a\">Sample</span>."
      ],
      "text/plain": [
       "<IPython.core.display.Markdown object>"
      ]
     },
     "metadata": {},
     "output_type": "display_data"
    },
    {
     "data": {
      "text/markdown": [
       "<br><span style=\"color:#d0e4d1\">Sample</span>."
      ],
      "text/plain": [
       "<IPython.core.display.Markdown object>"
      ]
     },
     "metadata": {},
     "output_type": "display_data"
    },
    {
     "data": {
      "text/markdown": [
       "<br><span style=\"color:#5816d3\">Sample</span>."
      ],
      "text/plain": [
       "<IPython.core.display.Markdown object>"
      ]
     },
     "metadata": {},
     "output_type": "display_data"
    },
    {
     "data": {
      "text/markdown": [
       "<br><span style=\"color:#71fb89\">Sample</span>."
      ],
      "text/plain": [
       "<IPython.core.display.Markdown object>"
      ]
     },
     "metadata": {},
     "output_type": "display_data"
    },
    {
     "data": {
      "text/markdown": [
       "<br><span style=\"color:#816062\">Sample</span>."
      ],
      "text/plain": [
       "<IPython.core.display.Markdown object>"
      ]
     },
     "metadata": {},
     "output_type": "display_data"
    },
    {
     "data": {
      "text/markdown": [
       "<br><span style=\"color:#a937ff\">Sample</span>."
      ],
      "text/plain": [
       "<IPython.core.display.Markdown object>"
      ]
     },
     "metadata": {},
     "output_type": "display_data"
    },
    {
     "data": {
      "text/markdown": [
       "<br><span style=\"color:#5c68d5\">Sample</span>."
      ],
      "text/plain": [
       "<IPython.core.display.Markdown object>"
      ]
     },
     "metadata": {},
     "output_type": "display_data"
    },
    {
     "data": {
      "text/markdown": [
       "<br><span style=\"color:#42a8f6\">Sample</span>."
      ],
      "text/plain": [
       "<IPython.core.display.Markdown object>"
      ]
     },
     "metadata": {},
     "output_type": "display_data"
    },
    {
     "data": {
      "text/markdown": [
       "<br><span style=\"color:#3858fc\">Sample</span>."
      ],
      "text/plain": [
       "<IPython.core.display.Markdown object>"
      ]
     },
     "metadata": {},
     "output_type": "display_data"
    },
    {
     "data": {
      "text/markdown": [
       "<br><span style=\"color:#86afb6\">Sample</span>."
      ],
      "text/plain": [
       "<IPython.core.display.Markdown object>"
      ]
     },
     "metadata": {},
     "output_type": "display_data"
    },
    {
     "data": {
      "text/markdown": [
       "<br><span style=\"color:#6d36a9\">Sample</span>."
      ],
      "text/plain": [
       "<IPython.core.display.Markdown object>"
      ]
     },
     "metadata": {},
     "output_type": "display_data"
    },
    {
     "data": {
      "text/markdown": [
       "<br><span style=\"color:#7566ef\">Sample</span>."
      ],
      "text/plain": [
       "<IPython.core.display.Markdown object>"
      ]
     },
     "metadata": {},
     "output_type": "display_data"
    },
    {
     "data": {
      "text/markdown": [
       "<br><span style=\"color:#17157d\">Sample</span>."
      ],
      "text/plain": [
       "<IPython.core.display.Markdown object>"
      ]
     },
     "metadata": {},
     "output_type": "display_data"
    },
    {
     "data": {
      "text/markdown": [
       "<br><span style=\"color:#f24308\">Sample</span>."
      ],
      "text/plain": [
       "<IPython.core.display.Markdown object>"
      ]
     },
     "metadata": {},
     "output_type": "display_data"
    },
    {
     "data": {
      "text/markdown": [
       "<br><span style=\"color:#dce9d9\">Sample</span>."
      ],
      "text/plain": [
       "<IPython.core.display.Markdown object>"
      ]
     },
     "metadata": {},
     "output_type": "display_data"
    },
    {
     "data": {
      "text/markdown": [
       "<br><span style=\"color:#4a5728\">Sample</span>."
      ],
      "text/plain": [
       "<IPython.core.display.Markdown object>"
      ]
     },
     "metadata": {},
     "output_type": "display_data"
    },
    {
     "data": {
      "text/markdown": [
       "<br><span style=\"color:#b98e33\">Sample</span>."
      ],
      "text/plain": [
       "<IPython.core.display.Markdown object>"
      ]
     },
     "metadata": {},
     "output_type": "display_data"
    },
    {
     "data": {
      "text/markdown": [
       "<br><span style=\"color:#faa201\">Sample</span>."
      ],
      "text/plain": [
       "<IPython.core.display.Markdown object>"
      ]
     },
     "metadata": {},
     "output_type": "display_data"
    },
    {
     "data": {
      "text/markdown": [
       "<br><span style=\"color:#b7cd77\">Sample</span>."
      ],
      "text/plain": [
       "<IPython.core.display.Markdown object>"
      ]
     },
     "metadata": {},
     "output_type": "display_data"
    },
    {
     "data": {
      "text/markdown": [
       "<br><span style=\"color:#ac6c2d\">Sample</span>."
      ],
      "text/plain": [
       "<IPython.core.display.Markdown object>"
      ]
     },
     "metadata": {},
     "output_type": "display_data"
    },
    {
     "data": {
      "text/markdown": [
       "<br><span style=\"color:#6086ae\">Sample</span>."
      ],
      "text/plain": [
       "<IPython.core.display.Markdown object>"
      ]
     },
     "metadata": {},
     "output_type": "display_data"
    },
    {
     "data": {
      "text/markdown": [
       "<br><span style=\"color:#c6253d\">Sample</span>."
      ],
      "text/plain": [
       "<IPython.core.display.Markdown object>"
      ]
     },
     "metadata": {},
     "output_type": "display_data"
    },
    {
     "data": {
      "text/markdown": [
       "<br><span style=\"color:#072957\">Sample</span>."
      ],
      "text/plain": [
       "<IPython.core.display.Markdown object>"
      ]
     },
     "metadata": {},
     "output_type": "display_data"
    },
    {
     "data": {
      "text/markdown": [
       "<br><span style=\"color:#e0db91\">Sample</span>."
      ],
      "text/plain": [
       "<IPython.core.display.Markdown object>"
      ]
     },
     "metadata": {},
     "output_type": "display_data"
    },
    {
     "data": {
      "text/markdown": [
       "<br><span style=\"color:#2c8c61\">Sample</span>."
      ],
      "text/plain": [
       "<IPython.core.display.Markdown object>"
      ]
     },
     "metadata": {},
     "output_type": "display_data"
    },
    {
     "data": {
      "text/markdown": [
       "<br><span style=\"color:#d1f734\">Sample</span>."
      ],
      "text/plain": [
       "<IPython.core.display.Markdown object>"
      ]
     },
     "metadata": {},
     "output_type": "display_data"
    },
    {
     "data": {
      "text/markdown": [
       "<br><span style=\"color:#7f427d\">Sample</span>."
      ],
      "text/plain": [
       "<IPython.core.display.Markdown object>"
      ]
     },
     "metadata": {},
     "output_type": "display_data"
    },
    {
     "data": {
      "text/markdown": [
       "<br><span style=\"color:#169964\">Sample</span>."
      ],
      "text/plain": [
       "<IPython.core.display.Markdown object>"
      ]
     },
     "metadata": {},
     "output_type": "display_data"
    },
    {
     "data": {
      "text/markdown": [
       "<br><span style=\"color:#d0eccb\">Sample</span>."
      ],
      "text/plain": [
       "<IPython.core.display.Markdown object>"
      ]
     },
     "metadata": {},
     "output_type": "display_data"
    },
    {
     "data": {
      "text/markdown": [
       "<br><span style=\"color:#18ad7a\">Sample</span>."
      ],
      "text/plain": [
       "<IPython.core.display.Markdown object>"
      ]
     },
     "metadata": {},
     "output_type": "display_data"
    },
    {
     "data": {
      "text/markdown": [
       "<br><span style=\"color:#9f6c01\">Sample</span>."
      ],
      "text/plain": [
       "<IPython.core.display.Markdown object>"
      ]
     },
     "metadata": {},
     "output_type": "display_data"
    },
    {
     "data": {
      "text/markdown": [
       "<br><span style=\"color:#a3b01a\">Sample</span>."
      ],
      "text/plain": [
       "<IPython.core.display.Markdown object>"
      ]
     },
     "metadata": {},
     "output_type": "display_data"
    },
    {
     "data": {
      "text/markdown": [
       "<br><span style=\"color:#ecb136\">Sample</span>."
      ],
      "text/plain": [
       "<IPython.core.display.Markdown object>"
      ]
     },
     "metadata": {},
     "output_type": "display_data"
    },
    {
     "data": {
      "text/markdown": [
       "<br><span style=\"color:#da3868\">Sample</span>."
      ],
      "text/plain": [
       "<IPython.core.display.Markdown object>"
      ]
     },
     "metadata": {},
     "output_type": "display_data"
    },
    {
     "data": {
      "text/markdown": [
       "<br><span style=\"color:#b6d5f1\">Sample</span>."
      ],
      "text/plain": [
       "<IPython.core.display.Markdown object>"
      ]
     },
     "metadata": {},
     "output_type": "display_data"
    },
    {
     "data": {
      "text/markdown": [
       "<br><span style=\"color:#394277\">Sample</span>."
      ],
      "text/plain": [
       "<IPython.core.display.Markdown object>"
      ]
     },
     "metadata": {},
     "output_type": "display_data"
    },
    {
     "data": {
      "text/markdown": [
       "<br><span style=\"color:#0595e4\">Sample</span>."
      ],
      "text/plain": [
       "<IPython.core.display.Markdown object>"
      ]
     },
     "metadata": {},
     "output_type": "display_data"
    },
    {
     "data": {
      "text/markdown": [
       "<br><span style=\"color:#976f01\">Sample</span>."
      ],
      "text/plain": [
       "<IPython.core.display.Markdown object>"
      ]
     },
     "metadata": {},
     "output_type": "display_data"
    },
    {
     "data": {
      "text/markdown": [
       "<br><span style=\"color:#689d2c\">Sample</span>."
      ],
      "text/plain": [
       "<IPython.core.display.Markdown object>"
      ]
     },
     "metadata": {},
     "output_type": "display_data"
    },
    {
     "data": {
      "text/markdown": [
       "<br><span style=\"color:#ebe87e\">Sample</span>."
      ],
      "text/plain": [
       "<IPython.core.display.Markdown object>"
      ]
     },
     "metadata": {},
     "output_type": "display_data"
    },
    {
     "data": {
      "text/markdown": [
       "<br><span style=\"color:#06d3ed\">Sample</span>."
      ],
      "text/plain": [
       "<IPython.core.display.Markdown object>"
      ]
     },
     "metadata": {},
     "output_type": "display_data"
    },
    {
     "data": {
      "text/markdown": [
       "<br><span style=\"color:#8aeeb1\">Sample</span>."
      ],
      "text/plain": [
       "<IPython.core.display.Markdown object>"
      ]
     },
     "metadata": {},
     "output_type": "display_data"
    },
    {
     "data": {
      "text/markdown": [
       "<br><span style=\"color:#0934bc\">Sample</span>."
      ],
      "text/plain": [
       "<IPython.core.display.Markdown object>"
      ]
     },
     "metadata": {},
     "output_type": "display_data"
    },
    {
     "data": {
      "text/markdown": [
       "<br><span style=\"color:#a33525\">Sample</span>."
      ],
      "text/plain": [
       "<IPython.core.display.Markdown object>"
      ]
     },
     "metadata": {},
     "output_type": "display_data"
    },
    {
     "data": {
      "text/markdown": [
       "<br><span style=\"color:#c8e227\">Sample</span>."
      ],
      "text/plain": [
       "<IPython.core.display.Markdown object>"
      ]
     },
     "metadata": {},
     "output_type": "display_data"
    },
    {
     "data": {
      "text/markdown": [
       "<br><span style=\"color:#a1afa2\">Sample</span>."
      ],
      "text/plain": [
       "<IPython.core.display.Markdown object>"
      ]
     },
     "metadata": {},
     "output_type": "display_data"
    },
    {
     "data": {
      "text/markdown": [
       "<br><span style=\"color:#24ab51\">Sample</span>."
      ],
      "text/plain": [
       "<IPython.core.display.Markdown object>"
      ]
     },
     "metadata": {},
     "output_type": "display_data"
    },
    {
     "data": {
      "text/markdown": [
       "<br><span style=\"color:#184a4f\">Sample</span>."
      ],
      "text/plain": [
       "<IPython.core.display.Markdown object>"
      ]
     },
     "metadata": {},
     "output_type": "display_data"
    },
    {
     "data": {
      "text/markdown": [
       "<br><span style=\"color:#2caafe\">Sample</span>."
      ],
      "text/plain": [
       "<IPython.core.display.Markdown object>"
      ]
     },
     "metadata": {},
     "output_type": "display_data"
    },
    {
     "data": {
      "text/markdown": [
       "<br><span style=\"color:#403926\">Sample</span>."
      ],
      "text/plain": [
       "<IPython.core.display.Markdown object>"
      ]
     },
     "metadata": {},
     "output_type": "display_data"
    },
    {
     "data": {
      "text/markdown": [
       "<br><span style=\"color:#b5c6d7\">Sample</span>."
      ],
      "text/plain": [
       "<IPython.core.display.Markdown object>"
      ]
     },
     "metadata": {},
     "output_type": "display_data"
    },
    {
     "data": {
      "text/markdown": [
       "<br><span style=\"color:#5ac8f2\">Sample</span>."
      ],
      "text/plain": [
       "<IPython.core.display.Markdown object>"
      ]
     },
     "metadata": {},
     "output_type": "display_data"
    },
    {
     "data": {
      "text/markdown": [
       "<br><span style=\"color:#98974b\">Sample</span>."
      ],
      "text/plain": [
       "<IPython.core.display.Markdown object>"
      ]
     },
     "metadata": {},
     "output_type": "display_data"
    },
    {
     "data": {
      "text/markdown": [
       "<br><span style=\"color:#54b357\">Sample</span>."
      ],
      "text/plain": [
       "<IPython.core.display.Markdown object>"
      ]
     },
     "metadata": {},
     "output_type": "display_data"
    },
    {
     "data": {
      "text/markdown": [
       "<br><span style=\"color:#0a607f\">Sample</span>."
      ],
      "text/plain": [
       "<IPython.core.display.Markdown object>"
      ]
     },
     "metadata": {},
     "output_type": "display_data"
    },
    {
     "data": {
      "text/markdown": [
       "<br><span style=\"color:#4b8160\">Sample</span>."
      ],
      "text/plain": [
       "<IPython.core.display.Markdown object>"
      ]
     },
     "metadata": {},
     "output_type": "display_data"
    },
    {
     "data": {
      "text/markdown": [
       "<br><span style=\"color:#6c9e59\">Sample</span>."
      ],
      "text/plain": [
       "<IPython.core.display.Markdown object>"
      ]
     },
     "metadata": {},
     "output_type": "display_data"
    },
    {
     "data": {
      "text/markdown": [
       "<br><span style=\"color:#eac05e\">Sample</span>."
      ],
      "text/plain": [
       "<IPython.core.display.Markdown object>"
      ]
     },
     "metadata": {},
     "output_type": "display_data"
    },
    {
     "data": {
      "text/markdown": [
       "<br><span style=\"color:#12a920\">Sample</span>."
      ],
      "text/plain": [
       "<IPython.core.display.Markdown object>"
      ]
     },
     "metadata": {},
     "output_type": "display_data"
    },
    {
     "data": {
      "text/markdown": [
       "<br><span style=\"color:#913845\">Sample</span>."
      ],
      "text/plain": [
       "<IPython.core.display.Markdown object>"
      ]
     },
     "metadata": {},
     "output_type": "display_data"
    },
    {
     "data": {
      "text/markdown": [
       "<br><span style=\"color:#82be51\">Sample</span>."
      ],
      "text/plain": [
       "<IPython.core.display.Markdown object>"
      ]
     },
     "metadata": {},
     "output_type": "display_data"
    },
    {
     "data": {
      "text/markdown": [
       "<br><span style=\"color:#f183b4\">Sample</span>."
      ],
      "text/plain": [
       "<IPython.core.display.Markdown object>"
      ]
     },
     "metadata": {},
     "output_type": "display_data"
    },
    {
     "data": {
      "text/markdown": [
       "<br><span style=\"color:#b4dc5e\">Sample</span>."
      ],
      "text/plain": [
       "<IPython.core.display.Markdown object>"
      ]
     },
     "metadata": {},
     "output_type": "display_data"
    },
    {
     "data": {
      "text/markdown": [
       "<br><span style=\"color:#185bb0\">Sample</span>."
      ],
      "text/plain": [
       "<IPython.core.display.Markdown object>"
      ]
     },
     "metadata": {},
     "output_type": "display_data"
    },
    {
     "data": {
      "text/markdown": [
       "<br><span style=\"color:#637e5a\">Sample</span>."
      ],
      "text/plain": [
       "<IPython.core.display.Markdown object>"
      ]
     },
     "metadata": {},
     "output_type": "display_data"
    },
    {
     "data": {
      "text/markdown": [
       "<br><span style=\"color:#d89e76\">Sample</span>."
      ],
      "text/plain": [
       "<IPython.core.display.Markdown object>"
      ]
     },
     "metadata": {},
     "output_type": "display_data"
    },
    {
     "data": {
      "text/markdown": [
       "<br><span style=\"color:#31367d\">Sample</span>."
      ],
      "text/plain": [
       "<IPython.core.display.Markdown object>"
      ]
     },
     "metadata": {},
     "output_type": "display_data"
    },
    {
     "data": {
      "text/markdown": [
       "<br><span style=\"color:#40582b\">Sample</span>."
      ],
      "text/plain": [
       "<IPython.core.display.Markdown object>"
      ]
     },
     "metadata": {},
     "output_type": "display_data"
    },
    {
     "data": {
      "text/markdown": [
       "<br><span style=\"color:#067bd0\">Sample</span>."
      ],
      "text/plain": [
       "<IPython.core.display.Markdown object>"
      ]
     },
     "metadata": {},
     "output_type": "display_data"
    },
    {
     "data": {
      "text/markdown": [
       "<br><span style=\"color:#af94ba\">Sample</span>."
      ],
      "text/plain": [
       "<IPython.core.display.Markdown object>"
      ]
     },
     "metadata": {},
     "output_type": "display_data"
    },
    {
     "data": {
      "text/markdown": [
       "<br><span style=\"color:#3f7eaf\">Sample</span>."
      ],
      "text/plain": [
       "<IPython.core.display.Markdown object>"
      ]
     },
     "metadata": {},
     "output_type": "display_data"
    },
    {
     "data": {
      "text/markdown": [
       "<br><span style=\"color:#cd2bd7\">Sample</span>."
      ],
      "text/plain": [
       "<IPython.core.display.Markdown object>"
      ]
     },
     "metadata": {},
     "output_type": "display_data"
    },
    {
     "data": {
      "text/markdown": [
       "<br><span style=\"color:#a0e99d\">Sample</span>."
      ],
      "text/plain": [
       "<IPython.core.display.Markdown object>"
      ]
     },
     "metadata": {},
     "output_type": "display_data"
    },
    {
     "data": {
      "text/markdown": [
       "<br><span style=\"color:#c329eb\">Sample</span>."
      ],
      "text/plain": [
       "<IPython.core.display.Markdown object>"
      ]
     },
     "metadata": {},
     "output_type": "display_data"
    },
    {
     "data": {
      "text/markdown": [
       "<br><span style=\"color:#5a53d1\">Sample</span>."
      ],
      "text/plain": [
       "<IPython.core.display.Markdown object>"
      ]
     },
     "metadata": {},
     "output_type": "display_data"
    },
    {
     "data": {
      "text/markdown": [
       "<br><span style=\"color:#a4b58f\">Sample</span>."
      ],
      "text/plain": [
       "<IPython.core.display.Markdown object>"
      ]
     },
     "metadata": {},
     "output_type": "display_data"
    },
    {
     "data": {
      "text/markdown": [
       "<br><span style=\"color:#9e89ec\">Sample</span>."
      ],
      "text/plain": [
       "<IPython.core.display.Markdown object>"
      ]
     },
     "metadata": {},
     "output_type": "display_data"
    },
    {
     "data": {
      "text/markdown": [
       "<br><span style=\"color:#2b66e0\">Sample</span>."
      ],
      "text/plain": [
       "<IPython.core.display.Markdown object>"
      ]
     },
     "metadata": {},
     "output_type": "display_data"
    },
    {
     "data": {
      "text/markdown": [
       "<br><span style=\"color:#e3ea6f\">Sample</span>."
      ],
      "text/plain": [
       "<IPython.core.display.Markdown object>"
      ]
     },
     "metadata": {},
     "output_type": "display_data"
    },
    {
     "data": {
      "text/markdown": [
       "<br><span style=\"color:#ac146b\">Sample</span>."
      ],
      "text/plain": [
       "<IPython.core.display.Markdown object>"
      ]
     },
     "metadata": {},
     "output_type": "display_data"
    },
    {
     "data": {
      "text/markdown": [
       "<br><span style=\"color:#ac6f80\">Sample</span>."
      ],
      "text/plain": [
       "<IPython.core.display.Markdown object>"
      ]
     },
     "metadata": {},
     "output_type": "display_data"
    },
    {
     "data": {
      "text/markdown": [
       "<br><span style=\"color:#27de8c\">Sample</span>."
      ],
      "text/plain": [
       "<IPython.core.display.Markdown object>"
      ]
     },
     "metadata": {},
     "output_type": "display_data"
    },
    {
     "data": {
      "text/markdown": [
       "<br><span style=\"color:#93cc2f\">Sample</span>."
      ],
      "text/plain": [
       "<IPython.core.display.Markdown object>"
      ]
     },
     "metadata": {},
     "output_type": "display_data"
    },
    {
     "data": {
      "text/markdown": [
       "<br><span style=\"color:#dee968\">Sample</span>."
      ],
      "text/plain": [
       "<IPython.core.display.Markdown object>"
      ]
     },
     "metadata": {},
     "output_type": "display_data"
    },
    {
     "data": {
      "text/markdown": [
       "<br><span style=\"color:#d3c19f\">Sample</span>."
      ],
      "text/plain": [
       "<IPython.core.display.Markdown object>"
      ]
     },
     "metadata": {},
     "output_type": "display_data"
    },
    {
     "data": {
      "text/markdown": [
       "<br><span style=\"color:#87b265\">Sample</span>."
      ],
      "text/plain": [
       "<IPython.core.display.Markdown object>"
      ]
     },
     "metadata": {},
     "output_type": "display_data"
    },
    {
     "data": {
      "text/markdown": [
       "<br><span style=\"color:#f7683e\">Sample</span>."
      ],
      "text/plain": [
       "<IPython.core.display.Markdown object>"
      ]
     },
     "metadata": {},
     "output_type": "display_data"
    },
    {
     "data": {
      "text/markdown": [
       "<br><span style=\"color:#22f92e\">Sample</span>."
      ],
      "text/plain": [
       "<IPython.core.display.Markdown object>"
      ]
     },
     "metadata": {},
     "output_type": "display_data"
    },
    {
     "data": {
      "text/markdown": [
       "<br><span style=\"color:#93f7cf\">Sample</span>."
      ],
      "text/plain": [
       "<IPython.core.display.Markdown object>"
      ]
     },
     "metadata": {},
     "output_type": "display_data"
    },
    {
     "data": {
      "text/markdown": [
       "<br><span style=\"color:#441ee2\">Sample</span>."
      ],
      "text/plain": [
       "<IPython.core.display.Markdown object>"
      ]
     },
     "metadata": {},
     "output_type": "display_data"
    },
    {
     "data": {
      "text/markdown": [
       "<br><span style=\"color:#1c1283\">Sample</span>."
      ],
      "text/plain": [
       "<IPython.core.display.Markdown object>"
      ]
     },
     "metadata": {},
     "output_type": "display_data"
    },
    {
     "data": {
      "text/markdown": [
       "<br><span style=\"color:#bc5dbb\">Sample</span>."
      ],
      "text/plain": [
       "<IPython.core.display.Markdown object>"
      ]
     },
     "metadata": {},
     "output_type": "display_data"
    },
    {
     "data": {
      "text/markdown": [
       "<br><span style=\"color:#5f4b4e\">Sample</span>."
      ],
      "text/plain": [
       "<IPython.core.display.Markdown object>"
      ]
     },
     "metadata": {},
     "output_type": "display_data"
    },
    {
     "data": {
      "text/markdown": [
       "<br><span style=\"color:#878024\">Sample</span>."
      ],
      "text/plain": [
       "<IPython.core.display.Markdown object>"
      ]
     },
     "metadata": {},
     "output_type": "display_data"
    },
    {
     "data": {
      "text/markdown": [
       "<br><span style=\"color:#964930\">Sample</span>."
      ],
      "text/plain": [
       "<IPython.core.display.Markdown object>"
      ]
     },
     "metadata": {},
     "output_type": "display_data"
    },
    {
     "data": {
      "text/markdown": [
       "<br><span style=\"color:#2fa41b\">Sample</span>."
      ],
      "text/plain": [
       "<IPython.core.display.Markdown object>"
      ]
     },
     "metadata": {},
     "output_type": "display_data"
    },
    {
     "data": {
      "text/markdown": [
       "<br><span style=\"color:#8ee81c\">Sample</span>."
      ],
      "text/plain": [
       "<IPython.core.display.Markdown object>"
      ]
     },
     "metadata": {},
     "output_type": "display_data"
    },
    {
     "data": {
      "text/markdown": [
       "<br><span style=\"color:#813213\">Sample</span>."
      ],
      "text/plain": [
       "<IPython.core.display.Markdown object>"
      ]
     },
     "metadata": {},
     "output_type": "display_data"
    },
    {
     "data": {
      "text/markdown": [
       "<br><span style=\"color:#87e20f\">Sample</span>."
      ],
      "text/plain": [
       "<IPython.core.display.Markdown object>"
      ]
     },
     "metadata": {},
     "output_type": "display_data"
    },
    {
     "data": {
      "text/markdown": [
       "<br><span style=\"color:#024ea6\">Sample</span>."
      ],
      "text/plain": [
       "<IPython.core.display.Markdown object>"
      ]
     },
     "metadata": {},
     "output_type": "display_data"
    },
    {
     "data": {
      "text/markdown": [
       "<br><span style=\"color:#950a62\">Sample</span>."
      ],
      "text/plain": [
       "<IPython.core.display.Markdown object>"
      ]
     },
     "metadata": {},
     "output_type": "display_data"
    },
    {
     "data": {
      "text/markdown": [
       "<br><span style=\"color:#c2ef34\">Sample</span>."
      ],
      "text/plain": [
       "<IPython.core.display.Markdown object>"
      ]
     },
     "metadata": {},
     "output_type": "display_data"
    },
    {
     "data": {
      "text/markdown": [
       "<br><span style=\"color:#897114\">Sample</span>."
      ],
      "text/plain": [
       "<IPython.core.display.Markdown object>"
      ]
     },
     "metadata": {},
     "output_type": "display_data"
    },
    {
     "data": {
      "text/markdown": [
       "<br><span style=\"color:#977c2f\">Sample</span>."
      ],
      "text/plain": [
       "<IPython.core.display.Markdown object>"
      ]
     },
     "metadata": {},
     "output_type": "display_data"
    },
    {
     "data": {
      "text/markdown": [
       "<br><span style=\"color:#78e5c8\">Sample</span>."
      ],
      "text/plain": [
       "<IPython.core.display.Markdown object>"
      ]
     },
     "metadata": {},
     "output_type": "display_data"
    },
    {
     "data": {
      "text/markdown": [
       "<br><span style=\"color:#e1ad42\">Sample</span>."
      ],
      "text/plain": [
       "<IPython.core.display.Markdown object>"
      ]
     },
     "metadata": {},
     "output_type": "display_data"
    },
    {
     "data": {
      "text/markdown": [
       "<br><span style=\"color:#56f6c7\">Sample</span>."
      ],
      "text/plain": [
       "<IPython.core.display.Markdown object>"
      ]
     },
     "metadata": {},
     "output_type": "display_data"
    },
    {
     "data": {
      "text/markdown": [
       "<br><span style=\"color:#6609c5\">Sample</span>."
      ],
      "text/plain": [
       "<IPython.core.display.Markdown object>"
      ]
     },
     "metadata": {},
     "output_type": "display_data"
    },
    {
     "data": {
      "text/markdown": [
       "<br><span style=\"color:#aaa84a\">Sample</span>."
      ],
      "text/plain": [
       "<IPython.core.display.Markdown object>"
      ]
     },
     "metadata": {},
     "output_type": "display_data"
    },
    {
     "data": {
      "text/markdown": [
       "<br><span style=\"color:#bbc8bb\">Sample</span>."
      ],
      "text/plain": [
       "<IPython.core.display.Markdown object>"
      ]
     },
     "metadata": {},
     "output_type": "display_data"
    },
    {
     "data": {
      "text/markdown": [
       "<br><span style=\"color:#b7d1e3\">Sample</span>."
      ],
      "text/plain": [
       "<IPython.core.display.Markdown object>"
      ]
     },
     "metadata": {},
     "output_type": "display_data"
    },
    {
     "data": {
      "text/markdown": [
       "<br><span style=\"color:#84bb31\">Sample</span>."
      ],
      "text/plain": [
       "<IPython.core.display.Markdown object>"
      ]
     },
     "metadata": {},
     "output_type": "display_data"
    },
    {
     "data": {
      "text/markdown": [
       "<br><span style=\"color:#a138da\">Sample</span>."
      ],
      "text/plain": [
       "<IPython.core.display.Markdown object>"
      ]
     },
     "metadata": {},
     "output_type": "display_data"
    },
    {
     "data": {
      "text/markdown": [
       "<br><span style=\"color:#a77f31\">Sample</span>."
      ],
      "text/plain": [
       "<IPython.core.display.Markdown object>"
      ]
     },
     "metadata": {},
     "output_type": "display_data"
    },
    {
     "data": {
      "text/markdown": [
       "<br><span style=\"color:#2abcf5\">Sample</span>."
      ],
      "text/plain": [
       "<IPython.core.display.Markdown object>"
      ]
     },
     "metadata": {},
     "output_type": "display_data"
    },
    {
     "data": {
      "text/markdown": [
       "<br><span style=\"color:#debab0\">Sample</span>."
      ],
      "text/plain": [
       "<IPython.core.display.Markdown object>"
      ]
     },
     "metadata": {},
     "output_type": "display_data"
    },
    {
     "data": {
      "text/markdown": [
       "<br><span style=\"color:#3b50cc\">Sample</span>."
      ],
      "text/plain": [
       "<IPython.core.display.Markdown object>"
      ]
     },
     "metadata": {},
     "output_type": "display_data"
    },
    {
     "data": {
      "text/markdown": [
       "<br><span style=\"color:#5e20ba\">Sample</span>."
      ],
      "text/plain": [
       "<IPython.core.display.Markdown object>"
      ]
     },
     "metadata": {},
     "output_type": "display_data"
    },
    {
     "data": {
      "text/markdown": [
       "<br><span style=\"color:#076089\">Sample</span>."
      ],
      "text/plain": [
       "<IPython.core.display.Markdown object>"
      ]
     },
     "metadata": {},
     "output_type": "display_data"
    },
    {
     "data": {
      "text/markdown": [
       "<br><span style=\"color:#7816d3\">Sample</span>."
      ],
      "text/plain": [
       "<IPython.core.display.Markdown object>"
      ]
     },
     "metadata": {},
     "output_type": "display_data"
    },
    {
     "data": {
      "text/markdown": [
       "<br><span style=\"color:#26ddd1\">Sample</span>."
      ],
      "text/plain": [
       "<IPython.core.display.Markdown object>"
      ]
     },
     "metadata": {},
     "output_type": "display_data"
    },
    {
     "data": {
      "text/markdown": [
       "<br><span style=\"color:#14feb2\">Sample</span>."
      ],
      "text/plain": [
       "<IPython.core.display.Markdown object>"
      ]
     },
     "metadata": {},
     "output_type": "display_data"
    },
    {
     "data": {
      "text/markdown": [
       "<br><span style=\"color:#12329e\">Sample</span>."
      ],
      "text/plain": [
       "<IPython.core.display.Markdown object>"
      ]
     },
     "metadata": {},
     "output_type": "display_data"
    },
    {
     "data": {
      "text/markdown": [
       "<br><span style=\"color:#a3210b\">Sample</span>."
      ],
      "text/plain": [
       "<IPython.core.display.Markdown object>"
      ]
     },
     "metadata": {},
     "output_type": "display_data"
    },
    {
     "data": {
      "text/markdown": [
       "<br><span style=\"color:#b97ab3\">Sample</span>."
      ],
      "text/plain": [
       "<IPython.core.display.Markdown object>"
      ]
     },
     "metadata": {},
     "output_type": "display_data"
    },
    {
     "data": {
      "text/markdown": [
       "<br><span style=\"color:#18a4f6\">Sample</span>."
      ],
      "text/plain": [
       "<IPython.core.display.Markdown object>"
      ]
     },
     "metadata": {},
     "output_type": "display_data"
    },
    {
     "data": {
      "text/markdown": [
       "<br><span style=\"color:#e07865\">Sample</span>."
      ],
      "text/plain": [
       "<IPython.core.display.Markdown object>"
      ]
     },
     "metadata": {},
     "output_type": "display_data"
    },
    {
     "data": {
      "text/markdown": [
       "<br><span style=\"color:#d30e35\">Sample</span>."
      ],
      "text/plain": [
       "<IPython.core.display.Markdown object>"
      ]
     },
     "metadata": {},
     "output_type": "display_data"
    },
    {
     "data": {
      "text/markdown": [
       "<br><span style=\"color:#29c685\">Sample</span>."
      ],
      "text/plain": [
       "<IPython.core.display.Markdown object>"
      ]
     },
     "metadata": {},
     "output_type": "display_data"
    },
    {
     "data": {
      "text/markdown": [
       "<br><span style=\"color:#aaa984\">Sample</span>."
      ],
      "text/plain": [
       "<IPython.core.display.Markdown object>"
      ]
     },
     "metadata": {},
     "output_type": "display_data"
    },
    {
     "data": {
      "text/markdown": [
       "<br><span style=\"color:#17e39d\">Sample</span>."
      ],
      "text/plain": [
       "<IPython.core.display.Markdown object>"
      ]
     },
     "metadata": {},
     "output_type": "display_data"
    },
    {
     "data": {
      "text/markdown": [
       "<br><span style=\"color:#a9a1b4\">Sample</span>."
      ],
      "text/plain": [
       "<IPython.core.display.Markdown object>"
      ]
     },
     "metadata": {},
     "output_type": "display_data"
    },
    {
     "data": {
      "text/markdown": [
       "<br><span style=\"color:#8bc4d9\">Sample</span>."
      ],
      "text/plain": [
       "<IPython.core.display.Markdown object>"
      ]
     },
     "metadata": {},
     "output_type": "display_data"
    },
    {
     "data": {
      "text/markdown": [
       "<br><span style=\"color:#d6fd3f\">Sample</span>."
      ],
      "text/plain": [
       "<IPython.core.display.Markdown object>"
      ]
     },
     "metadata": {},
     "output_type": "display_data"
    },
    {
     "data": {
      "text/markdown": [
       "<br><span style=\"color:#c7eab5\">Sample</span>."
      ],
      "text/plain": [
       "<IPython.core.display.Markdown object>"
      ]
     },
     "metadata": {},
     "output_type": "display_data"
    },
    {
     "data": {
      "text/markdown": [
       "<br><span style=\"color:#5b1227\">Sample</span>."
      ],
      "text/plain": [
       "<IPython.core.display.Markdown object>"
      ]
     },
     "metadata": {},
     "output_type": "display_data"
    },
    {
     "data": {
      "text/markdown": [
       "<br><span style=\"color:#dd64aa\">Sample</span>."
      ],
      "text/plain": [
       "<IPython.core.display.Markdown object>"
      ]
     },
     "metadata": {},
     "output_type": "display_data"
    },
    {
     "data": {
      "text/markdown": [
       "<br><span style=\"color:#b7f92a\">Sample</span>."
      ],
      "text/plain": [
       "<IPython.core.display.Markdown object>"
      ]
     },
     "metadata": {},
     "output_type": "display_data"
    },
    {
     "data": {
      "text/markdown": [
       "<br><span style=\"color:#116e20\">Sample</span>."
      ],
      "text/plain": [
       "<IPython.core.display.Markdown object>"
      ]
     },
     "metadata": {},
     "output_type": "display_data"
    },
    {
     "data": {
      "text/markdown": [
       "<br><span style=\"color:#25ffa1\">Sample</span>."
      ],
      "text/plain": [
       "<IPython.core.display.Markdown object>"
      ]
     },
     "metadata": {},
     "output_type": "display_data"
    },
    {
     "data": {
      "text/markdown": [
       "<br><span style=\"color:#ae430c\">Sample</span>."
      ],
      "text/plain": [
       "<IPython.core.display.Markdown object>"
      ]
     },
     "metadata": {},
     "output_type": "display_data"
    },
    {
     "data": {
      "text/markdown": [
       "<br><span style=\"color:#07a32b\">Sample</span>."
      ],
      "text/plain": [
       "<IPython.core.display.Markdown object>"
      ]
     },
     "metadata": {},
     "output_type": "display_data"
    },
    {
     "data": {
      "text/markdown": [
       "<br><span style=\"color:#476ccc\">Sample</span>."
      ],
      "text/plain": [
       "<IPython.core.display.Markdown object>"
      ]
     },
     "metadata": {},
     "output_type": "display_data"
    },
    {
     "data": {
      "text/markdown": [
       "<br><span style=\"color:#acaf89\">Sample</span>."
      ],
      "text/plain": [
       "<IPython.core.display.Markdown object>"
      ]
     },
     "metadata": {},
     "output_type": "display_data"
    },
    {
     "data": {
      "text/markdown": [
       "<br><span style=\"color:#90b2ca\">Sample</span>."
      ],
      "text/plain": [
       "<IPython.core.display.Markdown object>"
      ]
     },
     "metadata": {},
     "output_type": "display_data"
    },
    {
     "data": {
      "text/markdown": [
       "<br><span style=\"color:#45b5c2\">Sample</span>."
      ],
      "text/plain": [
       "<IPython.core.display.Markdown object>"
      ]
     },
     "metadata": {},
     "output_type": "display_data"
    },
    {
     "data": {
      "text/markdown": [
       "<br><span style=\"color:#c1120c\">Sample</span>."
      ],
      "text/plain": [
       "<IPython.core.display.Markdown object>"
      ]
     },
     "metadata": {},
     "output_type": "display_data"
    },
    {
     "data": {
      "text/markdown": [
       "<br><span style=\"color:#a822a0\">Sample</span>."
      ],
      "text/plain": [
       "<IPython.core.display.Markdown object>"
      ]
     },
     "metadata": {},
     "output_type": "display_data"
    },
    {
     "data": {
      "text/markdown": [
       "<br><span style=\"color:#4c9cda\">Sample</span>."
      ],
      "text/plain": [
       "<IPython.core.display.Markdown object>"
      ]
     },
     "metadata": {},
     "output_type": "display_data"
    },
    {
     "data": {
      "text/markdown": [
       "<br><span style=\"color:#2511bd\">Sample</span>."
      ],
      "text/plain": [
       "<IPython.core.display.Markdown object>"
      ]
     },
     "metadata": {},
     "output_type": "display_data"
    },
    {
     "data": {
      "text/markdown": [
       "<br><span style=\"color:#8797ae\">Sample</span>."
      ],
      "text/plain": [
       "<IPython.core.display.Markdown object>"
      ]
     },
     "metadata": {},
     "output_type": "display_data"
    },
    {
     "data": {
      "text/markdown": [
       "<br><span style=\"color:#a8b176\">Sample</span>."
      ],
      "text/plain": [
       "<IPython.core.display.Markdown object>"
      ]
     },
     "metadata": {},
     "output_type": "display_data"
    },
    {
     "data": {
      "text/markdown": [
       "<br><span style=\"color:#c5e9ea\">Sample</span>."
      ],
      "text/plain": [
       "<IPython.core.display.Markdown object>"
      ]
     },
     "metadata": {},
     "output_type": "display_data"
    },
    {
     "data": {
      "text/markdown": [
       "<br><span style=\"color:#0deeda\">Sample</span>."
      ],
      "text/plain": [
       "<IPython.core.display.Markdown object>"
      ]
     },
     "metadata": {},
     "output_type": "display_data"
    },
    {
     "data": {
      "text/markdown": [
       "<br><span style=\"color:#036213\">Sample</span>."
      ],
      "text/plain": [
       "<IPython.core.display.Markdown object>"
      ]
     },
     "metadata": {},
     "output_type": "display_data"
    },
    {
     "data": {
      "text/markdown": [
       "<br><span style=\"color:#41269b\">Sample</span>."
      ],
      "text/plain": [
       "<IPython.core.display.Markdown object>"
      ]
     },
     "metadata": {},
     "output_type": "display_data"
    },
    {
     "data": {
      "text/markdown": [
       "<br><span style=\"color:#ba83cd\">Sample</span>."
      ],
      "text/plain": [
       "<IPython.core.display.Markdown object>"
      ]
     },
     "metadata": {},
     "output_type": "display_data"
    },
    {
     "data": {
      "text/markdown": [
       "<br><span style=\"color:#5665bc\">Sample</span>."
      ],
      "text/plain": [
       "<IPython.core.display.Markdown object>"
      ]
     },
     "metadata": {},
     "output_type": "display_data"
    },
    {
     "data": {
      "text/markdown": [
       "<br><span style=\"color:#89d4df\">Sample</span>."
      ],
      "text/plain": [
       "<IPython.core.display.Markdown object>"
      ]
     },
     "metadata": {},
     "output_type": "display_data"
    },
    {
     "data": {
      "text/markdown": [
       "<br><span style=\"color:#b0bec5\">Sample</span>."
      ],
      "text/plain": [
       "<IPython.core.display.Markdown object>"
      ]
     },
     "metadata": {},
     "output_type": "display_data"
    },
    {
     "data": {
      "text/markdown": [
       "<br><span style=\"color:#683442\">Sample</span>."
      ],
      "text/plain": [
       "<IPython.core.display.Markdown object>"
      ]
     },
     "metadata": {},
     "output_type": "display_data"
    },
    {
     "data": {
      "text/markdown": [
       "<br><span style=\"color:#49ce98\">Sample</span>."
      ],
      "text/plain": [
       "<IPython.core.display.Markdown object>"
      ]
     },
     "metadata": {},
     "output_type": "display_data"
    },
    {
     "data": {
      "text/markdown": [
       "<br><span style=\"color:#0ca0f6\">Sample</span>."
      ],
      "text/plain": [
       "<IPython.core.display.Markdown object>"
      ]
     },
     "metadata": {},
     "output_type": "display_data"
    },
    {
     "data": {
      "text/markdown": [
       "<br><span style=\"color:#27daa0\">Sample</span>."
      ],
      "text/plain": [
       "<IPython.core.display.Markdown object>"
      ]
     },
     "metadata": {},
     "output_type": "display_data"
    },
    {
     "data": {
      "text/markdown": [
       "<br><span style=\"color:#0ac52b\">Sample</span>."
      ],
      "text/plain": [
       "<IPython.core.display.Markdown object>"
      ]
     },
     "metadata": {},
     "output_type": "display_data"
    },
    {
     "data": {
      "text/markdown": [
       "<br><span style=\"color:#176c19\">Sample</span>."
      ],
      "text/plain": [
       "<IPython.core.display.Markdown object>"
      ]
     },
     "metadata": {},
     "output_type": "display_data"
    },
    {
     "data": {
      "text/markdown": [
       "<br><span style=\"color:#e42f02\">Sample</span>."
      ],
      "text/plain": [
       "<IPython.core.display.Markdown object>"
      ]
     },
     "metadata": {},
     "output_type": "display_data"
    },
    {
     "data": {
      "text/markdown": [
       "<br><span style=\"color:#907560\">Sample</span>."
      ],
      "text/plain": [
       "<IPython.core.display.Markdown object>"
      ]
     },
     "metadata": {},
     "output_type": "display_data"
    },
    {
     "data": {
      "text/markdown": [
       "<br><span style=\"color:#4a059a\">Sample</span>."
      ],
      "text/plain": [
       "<IPython.core.display.Markdown object>"
      ]
     },
     "metadata": {},
     "output_type": "display_data"
    },
    {
     "data": {
      "text/markdown": [
       "<br><span style=\"color:#fc9189\">Sample</span>."
      ],
      "text/plain": [
       "<IPython.core.display.Markdown object>"
      ]
     },
     "metadata": {},
     "output_type": "display_data"
    }
   ],
   "source": [
    "from IPython.display import Markdown\n",
    "for color in color_dict:\n",
    "    display (Markdown('<br><span style=\"color:' +color['color_code']+ '\">Sample</span>.'))\n",
    "    \n"
   ]
  },
  {
   "cell_type": "code",
   "execution_count": 25,
   "metadata": {},
   "outputs": [
    {
     "name": "stdout",
     "output_type": "stream",
     "text": [
      "(2723, 190)\n"
     ]
    },
    {
     "data": {
      "text/html": [
       "<div>\n",
       "<style scoped>\n",
       "    .dataframe tbody tr th:only-of-type {\n",
       "        vertical-align: middle;\n",
       "    }\n",
       "\n",
       "    .dataframe tbody tr th {\n",
       "        vertical-align: top;\n",
       "    }\n",
       "\n",
       "    .dataframe thead th {\n",
       "        text-align: right;\n",
       "    }\n",
       "</style>\n",
       "<table border=\"1\" class=\"dataframe\">\n",
       "  <thead>\n",
       "    <tr style=\"text-align: right;\">\n",
       "      <th></th>\n",
       "      <th>EntryID</th>\n",
       "      <th>LemmaID</th>\n",
       "      <th>Code</th>\n",
       "      <th>Batch</th>\n",
       "      <th>List</th>\n",
       "      <th>Item</th>\n",
       "      <th>EnglishWF(lg10)</th>\n",
       "      <th>SignFrequency(M)</th>\n",
       "      <th>SignFrequency(SD)</th>\n",
       "      <th>SignFrequency(Z)</th>\n",
       "      <th>...</th>\n",
       "      <th>SignBankReferenceID</th>\n",
       "      <th>InCDI</th>\n",
       "      <th>CDISemanticCategory</th>\n",
       "      <th>bglm_aoa</th>\n",
       "      <th>empirical_aoa</th>\n",
       "      <th>YouTube Video</th>\n",
       "      <th>VimeoVideo</th>\n",
       "      <th>VimeoVideoHTML</th>\n",
       "      <th>group_id</th>\n",
       "      <th>color_code</th>\n",
       "    </tr>\n",
       "  </thead>\n",
       "  <tbody>\n",
       "    <tr>\n",
       "      <th>0</th>\n",
       "      <td>tree</td>\n",
       "      <td>tree</td>\n",
       "      <td>A_01_002</td>\n",
       "      <td>A</td>\n",
       "      <td>1</td>\n",
       "      <td>2</td>\n",
       "      <td>3.521</td>\n",
       "      <td>5.143</td>\n",
       "      <td>2.081</td>\n",
       "      <td>0.621</td>\n",
       "      <td>...</td>\n",
       "      <td>342.0</td>\n",
       "      <td>Yes</td>\n",
       "      <td>Outside Things and Places to Go</td>\n",
       "      <td>22.0</td>\n",
       "      <td>14.0</td>\n",
       "      <td>&lt;iframe width=\"280\" height=\"158\" src=\"https://...</td>\n",
       "      <td>https://player.vimeo.com/video/344216264</td>\n",
       "      <td>&lt;iframe src=https://player.vimeo.com/video/344...</td>\n",
       "      <td>0.0</td>\n",
       "      <td>#b382c8</td>\n",
       "    </tr>\n",
       "    <tr>\n",
       "      <th>1</th>\n",
       "      <td>night</td>\n",
       "      <td>night</td>\n",
       "      <td>A_01_003</td>\n",
       "      <td>A</td>\n",
       "      <td>1</td>\n",
       "      <td>3</td>\n",
       "      <td>4.645</td>\n",
       "      <td>6.032</td>\n",
       "      <td>1.516</td>\n",
       "      <td>1.068</td>\n",
       "      <td>...</td>\n",
       "      <td>199.0</td>\n",
       "      <td>Yes</td>\n",
       "      <td>Signs About Time</td>\n",
       "      <td>31.0</td>\n",
       "      <td>18.0</td>\n",
       "      <td>&lt;iframe width=\"280\" height=\"158\" src=\"https://...</td>\n",
       "      <td>https://player.vimeo.com/video/344216312</td>\n",
       "      <td>&lt;iframe src=https://player.vimeo.com/video/344...</td>\n",
       "      <td>1.0</td>\n",
       "      <td>#f6aa40</td>\n",
       "    </tr>\n",
       "    <tr>\n",
       "      <th>2</th>\n",
       "      <td>hamburger</td>\n",
       "      <td>hamburger</td>\n",
       "      <td>A_01_004</td>\n",
       "      <td>A</td>\n",
       "      <td>1</td>\n",
       "      <td>4</td>\n",
       "      <td>2.600</td>\n",
       "      <td>4.429</td>\n",
       "      <td>1.720</td>\n",
       "      <td>0.232</td>\n",
       "      <td>...</td>\n",
       "      <td>1844.0</td>\n",
       "      <td>Yes</td>\n",
       "      <td>Food and Drink</td>\n",
       "      <td>32.0</td>\n",
       "      <td>28.0</td>\n",
       "      <td>&lt;iframe width=\"280\" height=\"158\" src=\"https://...</td>\n",
       "      <td>https://player.vimeo.com/video/344216345</td>\n",
       "      <td>&lt;iframe src=https://player.vimeo.com/video/344...</td>\n",
       "      <td>2.0</td>\n",
       "      <td>#6978dd</td>\n",
       "    </tr>\n",
       "    <tr>\n",
       "      <th>3</th>\n",
       "      <td>nephew</td>\n",
       "      <td>nephew</td>\n",
       "      <td>A_01_005</td>\n",
       "      <td>A</td>\n",
       "      <td>1</td>\n",
       "      <td>5</td>\n",
       "      <td>2.928</td>\n",
       "      <td>2.621</td>\n",
       "      <td>1.720</td>\n",
       "      <td>-0.753</td>\n",
       "      <td>...</td>\n",
       "      <td>3011.0</td>\n",
       "      <td>No</td>\n",
       "      <td>NaN</td>\n",
       "      <td>NaN</td>\n",
       "      <td>NaN</td>\n",
       "      <td>&lt;iframe width=\"280\" height=\"158\" src=\"https://...</td>\n",
       "      <td>https://player.vimeo.com/video/344216367</td>\n",
       "      <td>&lt;iframe src=https://player.vimeo.com/video/344...</td>\n",
       "      <td>1000.0</td>\n",
       "      <td>#0e815c</td>\n",
       "    </tr>\n",
       "    <tr>\n",
       "      <th>4</th>\n",
       "      <td>castle</td>\n",
       "      <td>castle</td>\n",
       "      <td>A_01_008</td>\n",
       "      <td>A</td>\n",
       "      <td>1</td>\n",
       "      <td>8</td>\n",
       "      <td>3.041</td>\n",
       "      <td>1.579</td>\n",
       "      <td>0.838</td>\n",
       "      <td>-1.198</td>\n",
       "      <td>...</td>\n",
       "      <td>2471.0</td>\n",
       "      <td>No</td>\n",
       "      <td>Action Signs</td>\n",
       "      <td>NaN</td>\n",
       "      <td>NaN</td>\n",
       "      <td>&lt;iframe width=\"280\" height=\"158\" src=\"https://...</td>\n",
       "      <td>https://player.vimeo.com/video/344216403</td>\n",
       "      <td>&lt;iframe src=https://player.vimeo.com/video/344...</td>\n",
       "      <td>3.0</td>\n",
       "      <td>#7b2895</td>\n",
       "    </tr>\n",
       "  </tbody>\n",
       "</table>\n",
       "<p>5 rows × 190 columns</p>\n",
       "</div>"
      ],
      "text/plain": [
       "     EntryID    LemmaID      Code Batch  List  Item  EnglishWF(lg10)  \\\n",
       "0       tree       tree  A_01_002     A     1     2            3.521   \n",
       "1      night      night  A_01_003     A     1     3            4.645   \n",
       "2  hamburger  hamburger  A_01_004     A     1     4            2.600   \n",
       "3     nephew     nephew  A_01_005     A     1     5            2.928   \n",
       "4     castle     castle  A_01_008     A     1     8            3.041   \n",
       "\n",
       "   SignFrequency(M)  SignFrequency(SD)  SignFrequency(Z)  ...  \\\n",
       "0             5.143              2.081             0.621  ...   \n",
       "1             6.032              1.516             1.068  ...   \n",
       "2             4.429              1.720             0.232  ...   \n",
       "3             2.621              1.720            -0.753  ...   \n",
       "4             1.579              0.838            -1.198  ...   \n",
       "\n",
       "   SignBankReferenceID  InCDI              CDISemanticCategory  bglm_aoa  \\\n",
       "0                342.0    Yes  Outside Things and Places to Go      22.0   \n",
       "1                199.0    Yes                 Signs About Time      31.0   \n",
       "2               1844.0    Yes                   Food and Drink      32.0   \n",
       "3               3011.0     No                              NaN       NaN   \n",
       "4               2471.0     No                     Action Signs       NaN   \n",
       "\n",
       "   empirical_aoa                                      YouTube Video  \\\n",
       "0           14.0  <iframe width=\"280\" height=\"158\" src=\"https://...   \n",
       "1           18.0  <iframe width=\"280\" height=\"158\" src=\"https://...   \n",
       "2           28.0  <iframe width=\"280\" height=\"158\" src=\"https://...   \n",
       "3            NaN  <iframe width=\"280\" height=\"158\" src=\"https://...   \n",
       "4            NaN  <iframe width=\"280\" height=\"158\" src=\"https://...   \n",
       "\n",
       "                                 VimeoVideo  \\\n",
       "0  https://player.vimeo.com/video/344216264   \n",
       "1  https://player.vimeo.com/video/344216312   \n",
       "2  https://player.vimeo.com/video/344216345   \n",
       "3  https://player.vimeo.com/video/344216367   \n",
       "4  https://player.vimeo.com/video/344216403   \n",
       "\n",
       "                                      VimeoVideoHTML  group_id  color_code  \n",
       "0  <iframe src=https://player.vimeo.com/video/344...       0.0     #b382c8  \n",
       "1  <iframe src=https://player.vimeo.com/video/344...       1.0     #f6aa40  \n",
       "2  <iframe src=https://player.vimeo.com/video/344...       2.0     #6978dd  \n",
       "3  <iframe src=https://player.vimeo.com/video/344...    1000.0     #0e815c  \n",
       "4  <iframe src=https://player.vimeo.com/video/344...       3.0     #7b2895  \n",
       "\n",
       "[5 rows x 190 columns]"
      ]
     },
     "execution_count": 25,
     "metadata": {},
     "output_type": "execute_result"
    }
   ],
   "source": [
    "color_df = pd.DataFrame(color_dict)\n",
    "df_merged_with_color = pd.merge(df_merged, color_df,how='left', on=['group_id'])\n",
    "print(df_merged_with_color.shape)\n",
    "df_merged_with_color.head()\n"
   ]
  },
  {
   "cell_type": "code",
   "execution_count": 26,
   "metadata": {},
   "outputs": [
    {
     "data": {
      "text/plain": [
       "(2723, 190)"
      ]
     },
     "execution_count": 26,
     "metadata": {},
     "output_type": "execute_result"
    }
   ],
   "source": [
    "df_merged_with_color.shape"
   ]
  },
  {
   "cell_type": "code",
   "execution_count": 27,
   "metadata": {},
   "outputs": [
    {
     "name": "stdout",
     "output_type": "stream",
     "text": [
      "(2723, 5)\n"
     ]
    },
    {
     "data": {
      "text/html": [
       "<div>\n",
       "<style scoped>\n",
       "    .dataframe tbody tr th:only-of-type {\n",
       "        vertical-align: middle;\n",
       "    }\n",
       "\n",
       "    .dataframe tbody tr th {\n",
       "        vertical-align: top;\n",
       "    }\n",
       "\n",
       "    .dataframe thead th {\n",
       "        text-align: right;\n",
       "    }\n",
       "</style>\n",
       "<table border=\"1\" class=\"dataframe\">\n",
       "  <thead>\n",
       "    <tr style=\"text-align: right;\">\n",
       "      <th></th>\n",
       "      <th>EntryID</th>\n",
       "      <th>Code</th>\n",
       "      <th>group_id</th>\n",
       "      <th>color_code</th>\n",
       "      <th>SignFrequency(Z)</th>\n",
       "    </tr>\n",
       "  </thead>\n",
       "  <tbody>\n",
       "    <tr>\n",
       "      <th>0</th>\n",
       "      <td>tree</td>\n",
       "      <td>A_01_002</td>\n",
       "      <td>0.0</td>\n",
       "      <td>#b382c8</td>\n",
       "      <td>0.621</td>\n",
       "    </tr>\n",
       "    <tr>\n",
       "      <th>1</th>\n",
       "      <td>night</td>\n",
       "      <td>A_01_003</td>\n",
       "      <td>1.0</td>\n",
       "      <td>#f6aa40</td>\n",
       "      <td>1.068</td>\n",
       "    </tr>\n",
       "    <tr>\n",
       "      <th>2</th>\n",
       "      <td>hamburger</td>\n",
       "      <td>A_01_004</td>\n",
       "      <td>2.0</td>\n",
       "      <td>#6978dd</td>\n",
       "      <td>0.232</td>\n",
       "    </tr>\n",
       "    <tr>\n",
       "      <th>3</th>\n",
       "      <td>nephew</td>\n",
       "      <td>A_01_005</td>\n",
       "      <td>1000.0</td>\n",
       "      <td>#0e815c</td>\n",
       "      <td>-0.753</td>\n",
       "    </tr>\n",
       "    <tr>\n",
       "      <th>4</th>\n",
       "      <td>castle</td>\n",
       "      <td>A_01_008</td>\n",
       "      <td>3.0</td>\n",
       "      <td>#7b2895</td>\n",
       "      <td>-1.198</td>\n",
       "    </tr>\n",
       "    <tr>\n",
       "      <th>5</th>\n",
       "      <td>humble</td>\n",
       "      <td>A_01_009</td>\n",
       "      <td>4.0</td>\n",
       "      <td>#b30d5c</td>\n",
       "      <td>-0.418</td>\n",
       "    </tr>\n",
       "    <tr>\n",
       "      <th>6</th>\n",
       "      <td>cup</td>\n",
       "      <td>A_01_010</td>\n",
       "      <td>5.0</td>\n",
       "      <td>#b23906</td>\n",
       "      <td>0.909</td>\n",
       "    </tr>\n",
       "    <tr>\n",
       "      <th>7</th>\n",
       "      <td>english</td>\n",
       "      <td>A_01_011</td>\n",
       "      <td>1000.0</td>\n",
       "      <td>#0e815c</td>\n",
       "      <td>0.326</td>\n",
       "    </tr>\n",
       "    <tr>\n",
       "      <th>8</th>\n",
       "      <td>eyeglasses</td>\n",
       "      <td>A_01_012</td>\n",
       "      <td>1000.0</td>\n",
       "      <td>#0e815c</td>\n",
       "      <td>0.329</td>\n",
       "    </tr>\n",
       "    <tr>\n",
       "      <th>9</th>\n",
       "      <td>tie</td>\n",
       "      <td>A_01_013</td>\n",
       "      <td>6.0</td>\n",
       "      <td>#e48c3f</td>\n",
       "      <td>-0.751</td>\n",
       "    </tr>\n",
       "    <tr>\n",
       "      <th>10</th>\n",
       "      <td>dentist</td>\n",
       "      <td>A_01_014</td>\n",
       "      <td>7.0</td>\n",
       "      <td>#115435</td>\n",
       "      <td>-0.699</td>\n",
       "    </tr>\n",
       "    <tr>\n",
       "      <th>11</th>\n",
       "      <td>sandwich</td>\n",
       "      <td>A_01_015</td>\n",
       "      <td>1000.0</td>\n",
       "      <td>#0e815c</td>\n",
       "      <td>-0.177</td>\n",
       "    </tr>\n",
       "    <tr>\n",
       "      <th>12</th>\n",
       "      <td>monkey</td>\n",
       "      <td>A_01_016</td>\n",
       "      <td>1000.0</td>\n",
       "      <td>#0e815c</td>\n",
       "      <td>-0.363</td>\n",
       "    </tr>\n",
       "    <tr>\n",
       "      <th>13</th>\n",
       "      <td>chair</td>\n",
       "      <td>A_01_017</td>\n",
       "      <td>8.0</td>\n",
       "      <td>#511c63</td>\n",
       "      <td>0.858</td>\n",
       "    </tr>\n",
       "    <tr>\n",
       "      <th>14</th>\n",
       "      <td>candy_1</td>\n",
       "      <td>A_01_018</td>\n",
       "      <td>9.0</td>\n",
       "      <td>#821bf2</td>\n",
       "      <td>0.261</td>\n",
       "    </tr>\n",
       "    <tr>\n",
       "      <th>15</th>\n",
       "      <td>wander</td>\n",
       "      <td>A_01_019</td>\n",
       "      <td>10.0</td>\n",
       "      <td>#525674</td>\n",
       "      <td>-0.248</td>\n",
       "    </tr>\n",
       "    <tr>\n",
       "      <th>16</th>\n",
       "      <td>scientist</td>\n",
       "      <td>A_01_020</td>\n",
       "      <td>11.0</td>\n",
       "      <td>#e49f85</td>\n",
       "      <td>-0.230</td>\n",
       "    </tr>\n",
       "    <tr>\n",
       "      <th>17</th>\n",
       "      <td>parachute</td>\n",
       "      <td>A_01_021</td>\n",
       "      <td>1000.0</td>\n",
       "      <td>#0e815c</td>\n",
       "      <td>-1.279</td>\n",
       "    </tr>\n",
       "    <tr>\n",
       "      <th>18</th>\n",
       "      <td>read</td>\n",
       "      <td>A_01_022</td>\n",
       "      <td>12.0</td>\n",
       "      <td>#631b07</td>\n",
       "      <td>1.254</td>\n",
       "    </tr>\n",
       "    <tr>\n",
       "      <th>19</th>\n",
       "      <td>cat</td>\n",
       "      <td>A_01_023</td>\n",
       "      <td>9.0</td>\n",
       "      <td>#821bf2</td>\n",
       "      <td>0.597</td>\n",
       "    </tr>\n",
       "  </tbody>\n",
       "</table>\n",
       "</div>"
      ],
      "text/plain": [
       "       EntryID      Code  group_id color_code  SignFrequency(Z)\n",
       "0         tree  A_01_002       0.0    #b382c8             0.621\n",
       "1        night  A_01_003       1.0    #f6aa40             1.068\n",
       "2    hamburger  A_01_004       2.0    #6978dd             0.232\n",
       "3       nephew  A_01_005    1000.0    #0e815c            -0.753\n",
       "4       castle  A_01_008       3.0    #7b2895            -1.198\n",
       "5       humble  A_01_009       4.0    #b30d5c            -0.418\n",
       "6          cup  A_01_010       5.0    #b23906             0.909\n",
       "7      english  A_01_011    1000.0    #0e815c             0.326\n",
       "8   eyeglasses  A_01_012    1000.0    #0e815c             0.329\n",
       "9          tie  A_01_013       6.0    #e48c3f            -0.751\n",
       "10     dentist  A_01_014       7.0    #115435            -0.699\n",
       "11    sandwich  A_01_015    1000.0    #0e815c            -0.177\n",
       "12      monkey  A_01_016    1000.0    #0e815c            -0.363\n",
       "13       chair  A_01_017       8.0    #511c63             0.858\n",
       "14     candy_1  A_01_018       9.0    #821bf2             0.261\n",
       "15      wander  A_01_019      10.0    #525674            -0.248\n",
       "16   scientist  A_01_020      11.0    #e49f85            -0.230\n",
       "17   parachute  A_01_021    1000.0    #0e815c            -1.279\n",
       "18        read  A_01_022      12.0    #631b07             1.254\n",
       "19         cat  A_01_023       9.0    #821bf2             0.597"
      ]
     },
     "execution_count": 27,
     "metadata": {},
     "output_type": "execute_result"
    }
   ],
   "source": [
    "#Need only 5 columns for now for the graph file\n",
    "df_node_graph_json_data = df_merged_with_color[[\"EntryID\", \"Code\", \"group_id\", \"color_code\", \"SignFrequency(Z)\"]]\n",
    "print(df_node_graph_json_data.shape)\n",
    "df_node_graph_json_data.head(20)\n"
   ]
  },
  {
   "cell_type": "code",
   "execution_count": 28,
   "metadata": {},
   "outputs": [
    {
     "data": {
      "text/html": [
       "<div>\n",
       "<style scoped>\n",
       "    .dataframe tbody tr th:only-of-type {\n",
       "        vertical-align: middle;\n",
       "    }\n",
       "\n",
       "    .dataframe tbody tr th {\n",
       "        vertical-align: top;\n",
       "    }\n",
       "\n",
       "    .dataframe thead th {\n",
       "        text-align: right;\n",
       "    }\n",
       "</style>\n",
       "<table border=\"1\" class=\"dataframe\">\n",
       "  <thead>\n",
       "    <tr style=\"text-align: right;\">\n",
       "      <th></th>\n",
       "      <th>target</th>\n",
       "      <th>source</th>\n",
       "      <th>num_matched_features</th>\n",
       "      <th>matched_features</th>\n",
       "      <th>num_missed_features</th>\n",
       "      <th>missed_features</th>\n",
       "    </tr>\n",
       "  </thead>\n",
       "  <tbody>\n",
       "    <tr>\n",
       "      <th>0</th>\n",
       "      <td>A_01_002</td>\n",
       "      <td>B_01_062</td>\n",
       "      <td>12</td>\n",
       "      <td>SignType.2.0, MinorLocation.2.0, Movement.2.0,...</td>\n",
       "      <td>1</td>\n",
       "      <td>RepeatedMovement.2.0</td>\n",
       "    </tr>\n",
       "    <tr>\n",
       "      <th>1</th>\n",
       "      <td>A_01_002</td>\n",
       "      <td>C_03_023</td>\n",
       "      <td>12</td>\n",
       "      <td>SignType.2.0, MinorLocation.2.0, Movement.2.0,...</td>\n",
       "      <td>1</td>\n",
       "      <td>Flexion.2.0</td>\n",
       "    </tr>\n",
       "    <tr>\n",
       "      <th>2</th>\n",
       "      <td>A_01_002</td>\n",
       "      <td>G_01_038</td>\n",
       "      <td>12</td>\n",
       "      <td>SignType.2.0, MinorLocation.2.0, Contact.2.0, ...</td>\n",
       "      <td>1</td>\n",
       "      <td>Movement.2.0</td>\n",
       "    </tr>\n",
       "    <tr>\n",
       "      <th>3</th>\n",
       "      <td>A_01_002</td>\n",
       "      <td>J_03_046</td>\n",
       "      <td>12</td>\n",
       "      <td>SignType.2.0, MinorLocation.2.0, Movement.2.0,...</td>\n",
       "      <td>1</td>\n",
       "      <td>RepeatedMovement.2.0</td>\n",
       "    </tr>\n",
       "    <tr>\n",
       "      <th>4</th>\n",
       "      <td>A_01_003</td>\n",
       "      <td>D_02_047</td>\n",
       "      <td>14</td>\n",
       "      <td>SignType.2.0, MinorLocation.2.0, Movement.2.0,...</td>\n",
       "      <td>0</td>\n",
       "      <td>NaN</td>\n",
       "    </tr>\n",
       "  </tbody>\n",
       "</table>\n",
       "</div>"
      ],
      "text/plain": [
       "     target    source  num_matched_features  \\\n",
       "0  A_01_002  B_01_062                    12   \n",
       "1  A_01_002  C_03_023                    12   \n",
       "2  A_01_002  G_01_038                    12   \n",
       "3  A_01_002  J_03_046                    12   \n",
       "4  A_01_003  D_02_047                    14   \n",
       "\n",
       "                                    matched_features  num_missed_features  \\\n",
       "0  SignType.2.0, MinorLocation.2.0, Movement.2.0,...                    1   \n",
       "1  SignType.2.0, MinorLocation.2.0, Movement.2.0,...                    1   \n",
       "2  SignType.2.0, MinorLocation.2.0, Contact.2.0, ...                    1   \n",
       "3  SignType.2.0, MinorLocation.2.0, Movement.2.0,...                    1   \n",
       "4  SignType.2.0, MinorLocation.2.0, Movement.2.0,...                    0   \n",
       "\n",
       "        missed_features  \n",
       "0  RepeatedMovement.2.0  \n",
       "1           Flexion.2.0  \n",
       "2          Movement.2.0  \n",
       "3  RepeatedMovement.2.0  \n",
       "4                   NaN  "
      ]
     },
     "execution_count": 28,
     "metadata": {},
     "output_type": "execute_result"
    }
   ],
   "source": [
    "edges_df.head()"
   ]
  },
  {
   "cell_type": "code",
   "execution_count": 29,
   "metadata": {},
   "outputs": [
    {
     "data": {
      "text/html": [
       "<div>\n",
       "<style scoped>\n",
       "    .dataframe tbody tr th:only-of-type {\n",
       "        vertical-align: middle;\n",
       "    }\n",
       "\n",
       "    .dataframe tbody tr th {\n",
       "        vertical-align: top;\n",
       "    }\n",
       "\n",
       "    .dataframe thead th {\n",
       "        text-align: right;\n",
       "    }\n",
       "</style>\n",
       "<table border=\"1\" class=\"dataframe\">\n",
       "  <thead>\n",
       "    <tr style=\"text-align: right;\">\n",
       "      <th></th>\n",
       "      <th>target</th>\n",
       "      <th>source</th>\n",
       "    </tr>\n",
       "  </thead>\n",
       "  <tbody>\n",
       "    <tr>\n",
       "      <th>0</th>\n",
       "      <td>A_01_002</td>\n",
       "      <td>B_01_062</td>\n",
       "    </tr>\n",
       "    <tr>\n",
       "      <th>1</th>\n",
       "      <td>A_01_002</td>\n",
       "      <td>C_03_023</td>\n",
       "    </tr>\n",
       "    <tr>\n",
       "      <th>2</th>\n",
       "      <td>A_01_002</td>\n",
       "      <td>G_01_038</td>\n",
       "    </tr>\n",
       "    <tr>\n",
       "      <th>3</th>\n",
       "      <td>A_01_002</td>\n",
       "      <td>J_03_046</td>\n",
       "    </tr>\n",
       "    <tr>\n",
       "      <th>4</th>\n",
       "      <td>A_01_003</td>\n",
       "      <td>D_02_047</td>\n",
       "    </tr>\n",
       "  </tbody>\n",
       "</table>\n",
       "</div>"
      ],
      "text/plain": [
       "     target    source\n",
       "0  A_01_002  B_01_062\n",
       "1  A_01_002  C_03_023\n",
       "2  A_01_002  G_01_038\n",
       "3  A_01_002  J_03_046\n",
       "4  A_01_003  D_02_047"
      ]
     },
     "execution_count": 29,
     "metadata": {},
     "output_type": "execute_result"
    }
   ],
   "source": [
    "not_need_edge_cols = ['num_matched_features', 'matched_features', 'num_missed_features', 'missed_features']\n",
    "links_df = edges_df.drop(columns=not_need_edge_cols)\n",
    "links_df.head()"
   ]
  },
  {
   "cell_type": "code",
   "execution_count": 30,
   "metadata": {},
   "outputs": [
    {
     "data": {
      "text/plain": [
       "{'target': 'A_01_002', 'source': 'B_01_062'}"
      ]
     },
     "execution_count": 30,
     "metadata": {},
     "output_type": "execute_result"
    }
   ],
   "source": [
    "edges_json_str = links_df.to_json(orient=\"records\")\n",
    "edges_json = json.loads(edges_json_str)\n",
    "edges_json[0]"
   ]
  },
  {
   "cell_type": "code",
   "execution_count": 31,
   "metadata": {},
   "outputs": [],
   "source": [
    "# cols_not_in_sign_pane = [\"LemmaID\", \"SignFrequency(SD)\",\"SignFrequency(Z)\",\"SignFrequency(N)\",\"SignFrequency(M-Native)\",\"SignFrequency(SD-Native)\",\"SignFreq(Z-native)\",\"SignFrequency(N-Native)\",\"PercentUnknown(Native)\",\"PercentGlossAgreement(Native)\",\"SignFrequency(M-Nonnative)\",\"SignFrequency(SD-Nonnative)\",\"SignFreq(Z-Nonnative)\",\"SignFrequency(N-Nonnative)\",\"PercentUnknown(Nonnative)\",\"PercentGlossAgreement(Nonnative)\",\"Iconicity(SD)\",\"Iconicity(Z)\",\"Iconicity(N)\",\"Iconicity_ID\",\"D.Iconicity(SD) all\",\"D.Iconicity(Z) all\",\"D.Iconicity(N) all\",\"D.Iconicity(M) native\",\"D.Iconicity(SD) native\",\"D.Iconicity(Z) native\",\"D.Iconicity(N) native\",\"Transparency SD\",\"Transparency Z\",\"SignOnset(ms)\",\"SignOffset(ms)\",\"SignType 1.0\",\"MajorLocation 1.0\",\"MinorLocation 1.0\",\"SelectedFingers 1.0\",\"Compound 1.0\",\"Flexion 1.0\",\"Initialized 1.0\",\"Movement 1.0\",\"MinimalNeighborhoodDensity\",\"MaximalNeighborhoodDensity\",\"Parameter-BasedNeighborhoodDensity\",\"SignTypeFrequency\",\"MajorLocationFrequency\",\"MinorLocationFrequency\",\"SelectedFingersFrequency\",\"FlexionFrequency\",\"MovementFrequency\",\"HandshapeFrequency\",\"Batch\",\"Item\",\"List\",\"Source\",\"InCDI\",\"CDI_A\",\"CDI_B\",\"CDI_C\",\"CDIGloss\",\"CDI Semantic Category\",\"CDIDuplicate\",\"GlossConfirmation\",\"CDIComment\",\"In Frequency Rating Survey (FRS)?\",\"FRS_A\",\"FRS_B\",\"FRS_C\",\"FRS-Low Frequency item?\",\"InPPVT\",\"InEOWPVT\",\"PPVTTargetFoil\",\"PPVTPictureSource\",\"FingerspelledLoanSign 1.0\",\"Repeat.1\",\"BatesPicture\",\"BatesPicture: URL\",\"ASLVocabPicture\",\"ASLVocabPicture: URL\",\"Possible Picture?\",\"Possible Picture Comments\",\"ASLVocab Picture Google Drive\",\"ArtistInstructions\",\"IssuesWithItemsAndGlosses\",\"Brittany-Freq Comments\",\"PPVT with Pictures\",\"PPVT-Age Group\",\"PPVT-Expressive\",\"PPVT-Receptive\",\"Entry ID\",\"Bizarre Sign or Problematic Video\",\"InUconnPPVT\",\"CheckCompleteCoding\",\"Video File\",\"Video File: URL\",\"IconicityTypeShannon\",\"IconicityTypeClaire\",\"IconicityTypeLindsay\",\"IconicityTypeRotceh\",\"In ASL-LEX 2.0\",\"DraftIconicityID\",\"DraftIconicityM\",\"RightWristX\",\"RightWristcentroidY\",\"DistanceRightWristCentroid2Nose\",\"IconicityType\",\"ChelseaCoded\",\"HandshapeManualCorrections\",\"FormerKnackGloss\",\"CodingSignBank\",\"InZed\",\"Checked Vimeo\"]"
   ]
  },
  {
   "cell_type": "code",
   "execution_count": 32,
   "metadata": {
    "scrolled": true
   },
   "outputs": [],
   "source": [
    "# all columns in signdata.csv\n",
    "cols_in_sign_data = df_default.columns.values"
   ]
  },
  {
   "cell_type": "code",
   "execution_count": 33,
   "metadata": {},
   "outputs": [],
   "source": [
    "# df_merged_with_color[[\"EntryID\",\"SignFrequency(M)\",\"PercentUnknown\"]]"
   ]
  },
  {
   "cell_type": "code",
   "execution_count": 34,
   "metadata": {},
   "outputs": [
    {
     "data": {
      "text/plain": [
       "['EntryID',\n",
       " 'LemmaID',\n",
       " 'Code',\n",
       " 'Batch',\n",
       " 'List',\n",
       " 'Item',\n",
       " 'EnglishWF(lg10)',\n",
       " 'SignFrequency(M)',\n",
       " 'SignFrequency(SD)',\n",
       " 'SignFrequency(Z)',\n",
       " 'SignFrequency(N)',\n",
       " 'Unknown',\n",
       " 'SignFrequency(M-Native)',\n",
       " 'SignFrequency(SD-Native)',\n",
       " 'SignFreq(Z-native)',\n",
       " 'SignFrequency(N-Native)',\n",
       " 'Unknown(Native)',\n",
       " 'SignFrequency(M-Nonnative)',\n",
       " 'SignFrequency(SD-Nonnative)',\n",
       " 'SignFrequency(N-Nonnative)',\n",
       " 'SignFreq(Z-Nonnative)',\n",
       " 'Unknown(Nonnative)',\n",
       " 'DominantTranslation',\n",
       " 'DominantTranslationAgreement',\n",
       " 'DominantTranslationAgreement(Native)',\n",
       " 'DominantTranslationAgreement(Nonnative)',\n",
       " 'NondominantTranslations',\n",
       " 'Iconicity(M)',\n",
       " 'Iconicity(SD)',\n",
       " 'Iconicity(Z)',\n",
       " 'Iconicity(N)',\n",
       " 'Iconicity_ID',\n",
       " 'IconicityType',\n",
       " 'D.Iconicity(M)',\n",
       " 'D.Iconicity(SD)',\n",
       " 'D.Iconicity(N)',\n",
       " 'D.Iconicity(Z)',\n",
       " 'D.Iconicity(M-native)',\n",
       " 'D.Iconicity(SD-native)',\n",
       " 'D.Iconicity(Z-native)',\n",
       " 'D.Iconicity(N-native)',\n",
       " 'GuessConsistency',\n",
       " 'GuessAccuracy',\n",
       " 'Transparency(M)',\n",
       " 'Transparency SD',\n",
       " 'Transparency Z',\n",
       " 'LexicalClass',\n",
       " 'Initialized.2.0',\n",
       " 'FingerspelledLoanSign.2.0',\n",
       " 'Compound.2.0',\n",
       " 'NumberOfMorphemes.2.0',\n",
       " 'SignOnset(ms)',\n",
       " 'SignOffset(ms)',\n",
       " 'SignDuration(ms)',\n",
       " 'ClipDuration(ms)',\n",
       " 'Handshape.2.0',\n",
       " 'SelectedFingers.2.0',\n",
       " 'Flexion.2.0',\n",
       " 'FlexionChange.2.0',\n",
       " 'Spread.2.0',\n",
       " 'SpreadChange.2.0',\n",
       " 'ThumbPosition.2.0',\n",
       " 'ThumbContact.2.0',\n",
       " 'SignType.2.0',\n",
       " 'Movement.2.0',\n",
       " 'RepeatedMovement.2.0',\n",
       " 'MajorLocation.2.0',\n",
       " 'MinorLocation.2.0',\n",
       " 'SecondMinorLocation.2.0',\n",
       " 'Contact.2.0',\n",
       " 'NonDominantHandshape.2.0',\n",
       " 'UlnarRotation.2.0',\n",
       " 'HandshapeM2.2.0',\n",
       " 'SelectedFingersM2.2.0',\n",
       " 'FlexionM2.2.0',\n",
       " 'FlexionChangeM2.2.0',\n",
       " 'SpreadM2.2.0',\n",
       " 'SpreadChangeM2.2.0',\n",
       " 'ThumbPositionM2.2.0',\n",
       " 'ThumbContactM2.2.0',\n",
       " 'SignTypeM2.2.0',\n",
       " 'MovementM2.2.0',\n",
       " 'RepeatedMovementM2.2.0',\n",
       " 'MajorLocationM2.2.0',\n",
       " 'MinorLocationM2.2.0',\n",
       " 'SecondMinorLocationM2.2.0',\n",
       " 'ContactM2.2.0',\n",
       " 'NonDominantHandshapeM2.2.0',\n",
       " 'UlnarRotationM2.2.0',\n",
       " 'HandshapeM3.2.0',\n",
       " 'SelectedFingersM3.2.0',\n",
       " 'FlexionM3.2.0',\n",
       " 'FlexionChangeM3.2.0',\n",
       " 'SpreadM3.2.0',\n",
       " 'SpreadChangeM3.2.0',\n",
       " 'ThumbPositionM3.2.0',\n",
       " 'ThumbContactM3.2.0',\n",
       " 'SignTypeM3.2.0',\n",
       " 'MovementM3.2.0',\n",
       " 'RepeatedMovementM3.2.0',\n",
       " 'MajorLocationM3.2.0',\n",
       " 'MinorLocationM3.2.0',\n",
       " 'SecondMinorLocationM3.2.0',\n",
       " 'ContactM3.2.0',\n",
       " 'NonDominantHandshapeM3.2.0',\n",
       " 'UlnarRotationM3.2.0',\n",
       " 'HandshapeM4.2.0',\n",
       " 'SelectedFingersM4.2.0',\n",
       " 'FlexionM4.2.0',\n",
       " 'FlexionChangeM4.2.0',\n",
       " 'SpreadM4.2.0',\n",
       " 'SpreadChangeM4.2.0',\n",
       " 'ThumbPositionM4.2.0',\n",
       " 'ThumbContactM4.2.0',\n",
       " 'SignTypeM4.2.0',\n",
       " 'MovementM4.2.0',\n",
       " 'RepeatedMovementM4.2.0',\n",
       " 'MajorLocationM4.2.0',\n",
       " 'MinorLocationM4.2.0',\n",
       " 'SecondMinorLocationM4.2.0',\n",
       " 'ContactM4.2.0',\n",
       " 'NonDominantHandshapeM4.2.0',\n",
       " 'UlnarRotationM4.2.0',\n",
       " 'HandshapeM5.2.0',\n",
       " 'SelectedFingersM5.2.0',\n",
       " 'FlexionM5.2.0',\n",
       " 'FlexionChangeM5.2.0',\n",
       " 'SpreadM5.2.0',\n",
       " 'SpreadChangeM5.2.0',\n",
       " 'ThumbPositionM5.2.0',\n",
       " 'ThumbContactM5.2.0',\n",
       " 'SignTypeM5.2.0',\n",
       " 'MovementM5.2.0',\n",
       " 'RepeatedMovementM5.2.0',\n",
       " 'MajorLocationM5.2.0',\n",
       " 'MinorLocationM5.2.0',\n",
       " 'SecondMinorLocationM5.2.0',\n",
       " 'ContactM5.2.0',\n",
       " 'NonDominantHandshapeM5.2.0',\n",
       " 'UlnarRotationM5.2.0',\n",
       " 'HandshapeM6.2.0',\n",
       " 'SelectedFingersM6.2.0',\n",
       " 'FlexionM6.2.0',\n",
       " 'FlexionChangeM6.2.0',\n",
       " 'SpreadM6.2.0',\n",
       " 'SpreadChangeM6.2.0',\n",
       " 'ThumbPositionM6.2.0',\n",
       " 'ThumbContactM6.2.0',\n",
       " 'SignTypeM6.2.0',\n",
       " 'MovementM6.2.0',\n",
       " 'RepeatedMovementM6.2.0',\n",
       " 'MajorLocationM6.2.0',\n",
       " 'MinorLocationM6.2.0',\n",
       " 'SecondMinorLocationM6.2.0',\n",
       " 'ContactM6.2.0',\n",
       " 'NonDominantHandshapeM6.2.0',\n",
       " 'UlnarRotationM6.2.0',\n",
       " 'SignType.2.0Frequency',\n",
       " 'MajorLocation.2.0Frequency',\n",
       " 'MinorLocation.2.0Frequency',\n",
       " 'SecondMinorLocation.2.0Frequency',\n",
       " 'Movement.2.0Frequency',\n",
       " 'SelectedFingers.2.0Frequency',\n",
       " 'Flexion.2.0Frequency',\n",
       " 'FlexionChange.2.0Frequency',\n",
       " 'RepeatedMovement.2.0Frequency',\n",
       " 'Contact.2.0Frequency',\n",
       " 'Spread.2.0Frequency',\n",
       " 'SpreadChange.2.0Frequency',\n",
       " 'ThumbContact.2.0Frequency',\n",
       " 'ThumbPosition.2.0Frequency',\n",
       " 'UlnarRotation.2.0Frequency',\n",
       " 'Neighborhood Density 2.0',\n",
       " 'Parameter.Neighborhood.Density.2.0',\n",
       " 'PhonotacticProbability',\n",
       " 'Phonological Complexity',\n",
       " 'SignBankAnnotationID',\n",
       " 'SignBankEnglishTranslations',\n",
       " 'SignBankLemmaID',\n",
       " 'SignBankSemanticField',\n",
       " 'SignBankReferenceID',\n",
       " 'InCDI',\n",
       " 'CDISemanticCategory',\n",
       " 'bglm_aoa',\n",
       " 'empirical_aoa',\n",
       " 'YouTube Video',\n",
       " 'VimeoVideo',\n",
       " 'VimeoVideoHTML',\n",
       " 'group_id',\n",
       " 'color_code']"
      ]
     },
     "execution_count": 34,
     "metadata": {},
     "output_type": "execute_result"
    }
   ],
   "source": [
    "df_merged_with_color.columns.tolist()"
   ]
  },
  {
   "cell_type": "code",
   "execution_count": 35,
   "metadata": {},
   "outputs": [
    {
     "name": "stdout",
     "output_type": "stream",
     "text": [
      "190\n",
      "dropping group_id\n",
      "dropping color_code\n"
     ]
    },
    {
     "data": {
      "text/plain": [
       "188"
      ]
     },
     "execution_count": 35,
     "metadata": {},
     "output_type": "execute_result"
    }
   ],
   "source": [
    "#### Get rid of morpheme columns\n",
    "print(len(df_merged_with_color.columns.values))\n",
    "# df_sign = df_sign[['YouTube Video','Code','SignBankEnglishTranslations', \"VimeoVideo\"]]\n",
    "# df_sign = df_sign.rename(columns={\"VimeoVideo\": \"video\"}, errors=\"raise\")\n",
    "# df_sign.head()\n",
    "# df_default = pd.merge(df_default, df_sign,how='left', on=['Code'])\n",
    "\n",
    "test_df = df_merged_with_color\n",
    "# filtered = test_df.filter(regex='M..2.0|Video')\n",
    "for col in test_df.columns:\n",
    "    if col not in cols_in_sign_data:\n",
    "#         if col in test_df.columns:\n",
    "        print(\"dropping \" + col)\n",
    "        test_df = test_df[test_df.columns.drop(col)]\n",
    "\n",
    "no_morphemes_df = test_df\n",
    "len(no_morphemes_df.columns.values)\n",
    "# no_morphemes_df.columns.values"
   ]
  },
  {
   "cell_type": "code",
   "execution_count": 36,
   "metadata": {},
   "outputs": [],
   "source": [
    "for col in cols_in_sign_data:\n",
    "    if col not in test_df.columns:\n",
    "        print(\"This column is not present: \" + col)"
   ]
  },
  {
   "cell_type": "code",
   "execution_count": 37,
   "metadata": {
    "scrolled": true
   },
   "outputs": [
    {
     "name": "stdout",
     "output_type": "stream",
     "text": [
      "['List' 'Item' 'EnglishWF(lg10)' 'SignFrequency(M)' 'SignFrequency(SD)'\n",
      " 'SignFrequency(Z)' 'SignFrequency(N)' 'Unknown' 'SignFrequency(M-Native)'\n",
      " 'SignFrequency(SD-Native)' 'SignFreq(Z-native)' 'SignFrequency(N-Native)'\n",
      " 'Unknown(Native)' 'SignFrequency(M-Nonnative)'\n",
      " 'SignFrequency(SD-Nonnative)' 'SignFrequency(N-Nonnative)'\n",
      " 'SignFreq(Z-Nonnative)' 'Unknown(Nonnative)'\n",
      " 'DominantTranslationAgreement' 'DominantTranslationAgreement(Native)'\n",
      " 'DominantTranslationAgreement(Nonnative)' 'Iconicity(M)' 'Iconicity(SD)'\n",
      " 'Iconicity(Z)' 'Iconicity(N)' 'D.Iconicity(M)' 'D.Iconicity(SD)'\n",
      " 'D.Iconicity(N)' 'D.Iconicity(Z)' 'D.Iconicity(M-native)'\n",
      " 'D.Iconicity(SD-native)' 'D.Iconicity(Z-native)' 'D.Iconicity(N-native)'\n",
      " 'GuessConsistency' 'GuessAccuracy' 'Transparency(M)' 'Transparency SD'\n",
      " 'Transparency Z' 'Initialized.2.0' 'FingerspelledLoanSign.2.0'\n",
      " 'Compound.2.0' 'NumberOfMorphemes.2.0' 'SignOnset(ms)' 'SignOffset(ms)'\n",
      " 'SignDuration(ms)' 'ClipDuration(ms)' 'FlexionChange.2.0' 'Spread.2.0'\n",
      " 'SpreadChange.2.0' 'ThumbContact.2.0' 'RepeatedMovement.2.0'\n",
      " 'Contact.2.0' 'UlnarRotation.2.0' 'FlexionChangeM2.2.0' 'SpreadM2.2.0'\n",
      " 'SpreadChangeM2.2.0' 'ThumbContactM2.2.0' 'RepeatedMovementM2.2.0'\n",
      " 'ContactM2.2.0' 'UlnarRotationM2.2.0' 'FlexionChangeM3.2.0'\n",
      " 'SpreadM3.2.0' 'SpreadChangeM3.2.0' 'ThumbContactM3.2.0'\n",
      " 'RepeatedMovementM3.2.0' 'ContactM3.2.0' 'UlnarRotationM3.2.0'\n",
      " 'FlexionChangeM4.2.0' 'SpreadM4.2.0' 'SpreadChangeM4.2.0'\n",
      " 'ThumbContactM4.2.0' 'RepeatedMovementM4.2.0' 'ContactM4.2.0'\n",
      " 'NonDominantHandshapeM4.2.0' 'UlnarRotationM4.2.0' 'FlexionChangeM5.2.0'\n",
      " 'SpreadM5.2.0' 'SpreadChangeM5.2.0' 'ThumbContactM5.2.0' 'SignTypeM5.2.0'\n",
      " 'MovementM5.2.0' 'RepeatedMovementM5.2.0' 'MajorLocationM5.2.0'\n",
      " 'MinorLocationM5.2.0' 'SecondMinorLocationM5.2.0' 'ContactM5.2.0'\n",
      " 'NonDominantHandshapeM5.2.0' 'UlnarRotationM5.2.0' 'FlexionChangeM6.2.0'\n",
      " 'SpreadM6.2.0' 'SpreadChangeM6.2.0' 'ThumbContactM6.2.0' 'SignTypeM6.2.0'\n",
      " 'MovementM6.2.0' 'RepeatedMovementM6.2.0' 'MajorLocationM6.2.0'\n",
      " 'MinorLocationM6.2.0' 'SecondMinorLocationM6.2.0' 'ContactM6.2.0'\n",
      " 'NonDominantHandshapeM6.2.0' 'UlnarRotationM6.2.0'\n",
      " 'SignType.2.0Frequency' 'MajorLocation.2.0Frequency'\n",
      " 'MinorLocation.2.0Frequency' 'SecondMinorLocation.2.0Frequency'\n",
      " 'Movement.2.0Frequency' 'SelectedFingers.2.0Frequency'\n",
      " 'Flexion.2.0Frequency' 'FlexionChange.2.0Frequency'\n",
      " 'RepeatedMovement.2.0Frequency' 'Contact.2.0Frequency'\n",
      " 'Spread.2.0Frequency' 'SpreadChange.2.0Frequency'\n",
      " 'ThumbContact.2.0Frequency' 'ThumbPosition.2.0Frequency'\n",
      " 'UlnarRotation.2.0Frequency' 'Neighborhood Density 2.0'\n",
      " 'Parameter.Neighborhood.Density.2.0' 'PhonotacticProbability'\n",
      " 'Phonological Complexity' 'SignBankReferenceID' 'bglm_aoa'\n",
      " 'empirical_aoa']\n",
      "['EntryID', 'LemmaID', 'Code', 'Batch', 'NondominantTranslations', 'Iconicity_ID', 'IconicityType', 'LexicalClass', 'Handshape.2.0', 'SelectedFingers.2.0', 'Flexion.2.0', 'ThumbPosition.2.0', 'SignType.2.0', 'Movement.2.0', 'MajorLocation.2.0', 'MinorLocation.2.0', 'SecondMinorLocation.2.0', 'NonDominantHandshape.2.0', 'HandshapeM2.2.0', 'SelectedFingersM2.2.0', 'FlexionM2.2.0', 'ThumbPositionM2.2.0', 'SignTypeM2.2.0', 'MovementM2.2.0', 'MajorLocationM2.2.0', 'MinorLocationM2.2.0', 'SecondMinorLocationM2.2.0', 'NonDominantHandshapeM2.2.0', 'HandshapeM3.2.0', 'SelectedFingersM3.2.0', 'FlexionM3.2.0', 'ThumbPositionM3.2.0', 'SignTypeM3.2.0', 'MovementM3.2.0', 'MajorLocationM3.2.0', 'MinorLocationM3.2.0', 'SecondMinorLocationM3.2.0', 'NonDominantHandshapeM3.2.0', 'HandshapeM4.2.0', 'SelectedFingersM4.2.0', 'FlexionM4.2.0', 'ThumbPositionM4.2.0', 'SignTypeM4.2.0', 'MovementM4.2.0', 'MajorLocationM4.2.0', 'MinorLocationM4.2.0', 'SecondMinorLocationM4.2.0', 'HandshapeM5.2.0', 'SelectedFingersM5.2.0', 'FlexionM5.2.0', 'ThumbPositionM5.2.0', 'HandshapeM6.2.0', 'SelectedFingersM6.2.0', 'FlexionM6.2.0', 'ThumbPositionM6.2.0', 'InCDI', 'CDISemanticCategory']\n"
     ]
    }
   ],
   "source": [
    "### Add sign constraint range values\n",
    "numerical_attr = no_morphemes_df.select_dtypes(include=['float', 'int']).columns.values\n",
    "categorical_attr = []\n",
    "for column in no_morphemes_df.columns.values:\n",
    "    if column not in numerical_attr and column not in ['YouTube Video', 'VimeoVideoHTML', 'VimeoVideo', 'DominantTranslation', 'SignBankAnnotationID', 'SignBankEnglishTranslations', 'SignBankLemmaID', 'SignBankSemanticField']:\n",
    "        categorical_attr.append(column)   \n",
    "print(numerical_attr)\n",
    "print(categorical_attr)"
   ]
  },
  {
   "cell_type": "code",
   "execution_count": 38,
   "metadata": {
    "scrolled": true
   },
   "outputs": [],
   "source": [
    "import math \n",
    "import pprint\n",
    "\n",
    "constraints = {}\n",
    "for attr in categorical_attr:\n",
    "    if attr not in ['EntryID', 'LemmaID', 'Code', 'Iconicity_ID']:\n",
    "        columnsData = no_morphemes_df.loc[ : , attr ].dropna()\n",
    "        values_set = set(columnsData.values)\n",
    "        constraints[attr] = [*values_set, ]\n",
    "        \n",
    "for attr in numerical_attr:    \n",
    "    #drop nan values \n",
    "    columnsData = no_morphemes_df.loc[ : , attr ].dropna()\n",
    "#     print(columnsData.values)\n",
    "    constraints[attr] = {}  \n",
    "    #print(math.floor(min(list(columnsData))), math.ceil(max(list(columnsData))), attr)\n",
    "    if len(columnsData.values) > 0:\n",
    "        constraints[attr]['min'] = math.floor(min(columnsData.values))\n",
    "        constraints[attr]['max'] = math.ceil(max(columnsData.values))"
   ]
  },
  {
   "cell_type": "code",
   "execution_count": 39,
   "metadata": {},
   "outputs": [
    {
     "data": {
      "text/plain": [
       "{'EntryID': 'tree',\n",
       " 'Code': 'A_01_002',\n",
       " 'group_id': 0.0,\n",
       " 'color_code': '#b382c8',\n",
       " 'SignFrequency(Z)': 0.621}"
      ]
     },
     "execution_count": 39,
     "metadata": {},
     "output_type": "execute_result"
    }
   ],
   "source": [
    "nodes_json_str = df_node_graph_json_data.to_json(orient=\"records\")\n",
    "nodes_json = json.loads(nodes_json_str)\n",
    "nodes_json[0]\n"
   ]
  },
  {
   "cell_type": "code",
   "execution_count": 40,
   "metadata": {},
   "outputs": [],
   "source": [
    "# write all the data frames to respective json files\n",
    "\n",
    "graph = {\n",
    "    \"nodes\" : nodes_json,\n",
    "    \"links\": edges_json\n",
    "}\n",
    "\n",
    "with open(\"../data/generated-data/graph.json\", 'w') as file:\n",
    "    json.dump(graph, file)\n",
    "    \n",
    "    \n",
    "with open('../data/generated-data/constraints.json', 'w') as fp:\n",
    "    json.dump(constraints, fp)\n",
    "    \n",
    "no_morphemes_df.reset_index().to_json('../data/generated-data/sign_props.json', orient='records')\n"
   ]
  },
  {
   "cell_type": "code",
   "execution_count": 113,
   "metadata": {},
   "outputs": [
    {
     "data": {
      "image/png": "[encoded data removed]",
      "text/plain": [
       "<Figure size 2160x2160 with 1 Axes>"
      ]
     },
     "metadata": {},
     "output_type": "display_data"
    }
   ],
   "source": [
    "#drawing only nodes with edges\n",
    "fig = plt.figure()\n",
    "fig.set_figheight(30)\n",
    "fig.set_figwidth(30)\n",
    "size = float(len(set(partition.values())))\n",
    "pos = nx.spring_layout(G)\n",
    "count = 0.\n",
    "for com in set(partition.values()) :\n",
    "    count = count + 1.\n",
    "    list_nodes = [nodes for nodes in partition.keys()\n",
    "                                if partition[nodes] == com]\n",
    "    nx.draw_networkx_nodes(G, pos, list_nodes, node_size = 20,\n",
    "                                node_color = randomcolor.RandomColor().generate()[0])\n",
    "\n",
    "\n",
    "nx.draw_networkx_edges(G, pos, alpha=0.5)\n",
    "plt.show()"
   ]
  },
  {
   "cell_type": "code",
   "execution_count": 114,
   "metadata": {},
   "outputs": [
    {
     "data": {
      "text/plain": [
       "{'island': '#2425c7',\n",
       " '0': '#3ba648',\n",
       " '141': '#98899c',\n",
       " '92': '#33c31f',\n",
       " '39': '#398b4b',\n",
       " '8': '#eb54e0',\n",
       " '110': '#b95ede',\n",
       " '186': '#30d85b',\n",
       " '9': '#62a143',\n",
       " '217': '#a6c968',\n",
       " '5': '#7ebf65',\n",
       " '108': '#2815c2',\n",
       " '43': '#747a6f',\n",
       " '79': '#2b58f2',\n",
       " '117': '#6df2db',\n",
       " '11': '#544625',\n",
       " '2': '#3658cc',\n",
       " '4': '#badb5a',\n",
       " '41': '#4f453a',\n",
       " '95': '#efa643',\n",
       " '78': '#329cb8',\n",
       " '16': '#4b9413',\n",
       " '109': '#6b2c44',\n",
       " '10': '#6f6d0c',\n",
       " '63': '#cfda21',\n",
       " '119': '#9e579f',\n",
       " '26': '#aad4f2',\n",
       " '173': '#ad5d5a',\n",
       " '87': '#4a086a',\n",
       " '27': '#7efe1f',\n",
       " '13': '#dc0f97',\n",
       " '45': '#82d7d2',\n",
       " '135': '#d39ec7',\n",
       " '57': '#aa425b',\n",
       " '69': '#2fecb2',\n",
       " '204': '#639887',\n",
       " '22': '#7013a6',\n",
       " '1': '#629b55',\n",
       " '162': '#954413',\n",
       " '31': '#2cc1cc',\n",
       " '90': '#5667a2',\n",
       " '131': '#f98df0',\n",
       " '83': '#253462',\n",
       " '164': '#47a20f',\n",
       " '35': '#a2fd77',\n",
       " '214': '#00f2c0',\n",
       " '66': '#fc3074',\n",
       " '38': '#7b2226',\n",
       " '174': '#75f305',\n",
       " '156': '#3bbbe4',\n",
       " '98': '#76a32b',\n",
       " '52': '#e55476',\n",
       " '29': '#8a9021',\n",
       " '124': '#8a48e0',\n",
       " '46': '#eb2738',\n",
       " '89': '#882a4c',\n",
       " '213': '#65bb35',\n",
       " '201': '#9f065c',\n",
       " '50': '#276e59',\n",
       " '137': '#d70b08',\n",
       " '76': '#6c315f',\n",
       " '23': '#a48c41',\n",
       " '152': '#b3bf89',\n",
       " '30': '#0dfc4e',\n",
       " '91': '#ac622e',\n",
       " '168': '#e069de',\n",
       " '114': '#c8c658',\n",
       " '126': '#ffd9d4',\n",
       " '207': '#bf5cf6',\n",
       " '65': '#98cbf1',\n",
       " '20': '#3627a6',\n",
       " '100': '#126eb1',\n",
       " '196': '#014755',\n",
       " '36': '#32698a',\n",
       " '219': '#c8208f',\n",
       " '40': '#b8b6ad',\n",
       " '85': '#80ef3f',\n",
       " '18': '#da1925',\n",
       " '15': '#dcd125',\n",
       " '34': '#ab690e',\n",
       " '149': '#8408f9',\n",
       " '19': '#f9bb46',\n",
       " '80': '#672604',\n",
       " '68': '#905689',\n",
       " '64': '#de81e7',\n",
       " '115': '#5789e1',\n",
       " '25': '#ebbc51',\n",
       " '96': '#210854',\n",
       " '94': '#2f9a55',\n",
       " '3': '#86a21f',\n",
       " '7': '#62d54f',\n",
       " '93': '#7e3cec',\n",
       " '148': '#5922fa',\n",
       " '177': '#f6c15b',\n",
       " '113': '#40aeb0',\n",
       " '172': '#c68278',\n",
       " '128': '#28ba43',\n",
       " '21': '#43182a',\n",
       " '106': '#ccfc19',\n",
       " '146': '#4a7148',\n",
       " '17': '#9d5d57',\n",
       " '105': '#4dffd9',\n",
       " '48': '#c3d076',\n",
       " '129': '#405826',\n",
       " '133': '#289755',\n",
       " '107': '#03dae2',\n",
       " '158': '#99f66b',\n",
       " '145': '#44f04e',\n",
       " '157': '#fb997a',\n",
       " '44': '#f23699',\n",
       " '12': '#b3de80',\n",
       " '194': '#3c9c4b',\n",
       " '67': '#a3b5c3',\n",
       " '62': '#1bc678',\n",
       " '136': '#2fa369',\n",
       " '42': '#dd6c33',\n",
       " '130': '#2f7fa5',\n",
       " '112': '#a86894',\n",
       " '144': '#594d81',\n",
       " '206': '#d4fa5a',\n",
       " '211': '#d301bf',\n",
       " '216': '#69a3d9',\n",
       " '73': '#4a18b2',\n",
       " '32': '#a4e756',\n",
       " '190': '#b091c9',\n",
       " '191': '#d7da2b',\n",
       " '51': '#c55352',\n",
       " '101': '#177bf7',\n",
       " '127': '#5e33d9',\n",
       " '187': '#4996ce',\n",
       " '147': '#50b6cb',\n",
       " '151': '#d48da6',\n",
       " '77': '#74026a',\n",
       " '170': '#3bbfe3',\n",
       " '102': '#c1f906',\n",
       " '121': '#765f03',\n",
       " '197': '#676b59',\n",
       " '154': '#0d0014',\n",
       " '72': '#7b1aac',\n",
       " '47': '#a50cdf',\n",
       " '218': '#814596',\n",
       " '59': '#447427',\n",
       " '97': '#cf4e63',\n",
       " '202': '#8df5d8',\n",
       " '86': '#10261c',\n",
       " '184': '#4314ba',\n",
       " '171': '#34436e',\n",
       " '200': '#1419bd',\n",
       " '88': '#0bf729',\n",
       " '150': '#2235ac',\n",
       " '182': '#3eeb54',\n",
       " '104': '#e082d9',\n",
       " '70': '#e5e1f8',\n",
       " '167': '#6da238',\n",
       " '203': '#bf1d68',\n",
       " '53': '#19c798',\n",
       " '120': '#f8a82e',\n",
       " '58': '#ac9be3',\n",
       " '193': '#562b74',\n",
       " '142': '#fd562f',\n",
       " '169': '#3d0ec4',\n",
       " '183': '#5cc2e8',\n",
       " '180': '#337cd4',\n",
       " '140': '#a62ffa',\n",
       " '179': '#7a323c',\n",
       " '181': '#6e9290',\n",
       " '195': '#9fdac3',\n",
       " '185': '#cef0c0',\n",
       " '24': '#1f5c86',\n",
       " '160': '#33a2ed',\n",
       " '210': '#dd276a',\n",
       " '61': '#f9cec3',\n",
       " '159': '#02d3e1',\n",
       " '14': '#af7d72',\n",
       " '84': '#dd1051',\n",
       " '134': '#bd22ca',\n",
       " '153': '#33ad7a',\n",
       " '209': '#b74aac',\n",
       " '71': '#2b7d4f',\n",
       " '49': '#cce646',\n",
       " '37': '#fddcea',\n",
       " '139': '#8a8f24',\n",
       " '138': '#76eb49',\n",
       " '208': '#def390',\n",
       " '161': '#606ea9',\n",
       " '82': '#218f46',\n",
       " '75': '#a3db04',\n",
       " '212': '#5ee365',\n",
       " '28': '#a6a6b3',\n",
       " '220': '#9f28e4',\n",
       " '188': '#4f89c9',\n",
       " '74': '#c79dd2',\n",
       " '123': '#411ba6',\n",
       " '99': '#05878a',\n",
       " '198': '#0cb857',\n",
       " '166': '#6d4475',\n",
       " '163': '#aa0175',\n",
       " '143': '#ca7d1f',\n",
       " '54': '#0484cf',\n",
       " '176': '#5de678',\n",
       " '125': '#a7d73f',\n",
       " '81': '#247f53',\n",
       " '199': '#75dffb',\n",
       " '215': '#f65411',\n",
       " '55': '#195d94',\n",
       " '116': '#ae2169',\n",
       " '6': '#8c4f86',\n",
       " '189': '#d08951',\n",
       " '192': '#7ded61',\n",
       " '132': '#67ca4e',\n",
       " '111': '#fce591',\n",
       " '155': '#2b2569',\n",
       " '122': '#414c86',\n",
       " '118': '#fc26be',\n",
       " '33': '#6c6192',\n",
       " '178': '#16bb43',\n",
       " '56': '#c16e0b',\n",
       " '103': '#bc833a',\n",
       " '165': '#812a94',\n",
       " '60': '#7b85c2',\n",
       " '175': '#a1172e',\n",
       " '205': '#d8eac2'}"
      ]
     },
     "execution_count": 114,
     "metadata": {},
     "output_type": "execute_result"
    }
   ],
   "source": [
    "## Code to change color in json\n",
    "color_dictionary\n"
   ]
  },
  {
   "cell_type": "code",
   "execution_count": 115,
   "metadata": {
    "scrolled": true
   },
   "outputs": [],
   "source": [
    "###Only if you need to edit the graph json files\n",
    "\n",
    "# def filter_dict(d, filter_string):\n",
    "# #     print(filter_string)\n",
    "#     for key, val in d.items():\n",
    "#         if filter_string != key:\n",
    "#             continue\n",
    "#         return key, val\n",
    "\n",
    "# with open('../../visualization/data/graph.json') as graph_json_file:\n",
    "#     data = json.load(graph_json_file)\n",
    "#     for node in data['nodes']:\n",
    "#         if(node['group_id'] == \"\"):\n",
    "#             node['group_id']= \"island\"    \n",
    "# #             print(node)\n",
    "    \n",
    "#     for node in data['nodes']:\n",
    "#         key,val = filter_dict(color_dictionary, str(node['group_id']))\n",
    "#         node['color_code'] = val\n",
    "#         print(node)\n"
   ]
  },
  {
   "cell_type": "code",
   "execution_count": 116,
   "metadata": {},
   "outputs": [],
   "source": [
    "#Resave as JSON\n",
    "\n",
    "# graph = {\n",
    "#     \"nodes\" : data['nodes'],\n",
    "#     \"links\": data['links']\n",
    "# }\n",
    "\n",
    "# with open(\"../generated-data/graph.json\", 'w') as file:\n",
    "#     json.dump(graph, file)"
   ]
  },
  {
   "cell_type": "code",
   "execution_count": 117,
   "metadata": {},
   "outputs": [],
   "source": [
    "import pandas as pd"
   ]
  },
  {
   "cell_type": "code",
   "execution_count": 118,
   "metadata": {},
   "outputs": [
    {
     "ename": "FileNotFoundError",
     "evalue": "[Errno 2] No such file or directory: '../signdata-07-08-2020.csv'",
     "output_type": "error",
     "traceback": [
      "\u001b[0;31m---------------------------------------------------------------------------\u001b[0m",
      "\u001b[0;31mFileNotFoundError\u001b[0m                         Traceback (most recent call last)",
      "\u001b[0;32m<ipython-input-118-8cf0d4baf317>\u001b[0m in \u001b[0;36m<module>\u001b[0;34m\u001b[0m\n\u001b[0;32m----> 1\u001b[0;31m \u001b[0msigns_latest_csv\u001b[0m \u001b[0;34m=\u001b[0m \u001b[0mpd\u001b[0m\u001b[0;34m.\u001b[0m\u001b[0mread_csv\u001b[0m\u001b[0;34m(\u001b[0m\u001b[0;34m'../signdata-07-08-2020.csv'\u001b[0m\u001b[0;34m)\u001b[0m\u001b[0;34m\u001b[0m\u001b[0;34m\u001b[0m\u001b[0m\n\u001b[0m",
      "\u001b[0;32m~/Library/Python/3.7/lib/python/site-packages/pandas/io/parsers.py\u001b[0m in \u001b[0;36mread_csv\u001b[0;34m(filepath_or_buffer, sep, delimiter, header, names, index_col, usecols, squeeze, prefix, mangle_dupe_cols, dtype, engine, converters, true_values, false_values, skipinitialspace, skiprows, skipfooter, nrows, na_values, keep_default_na, na_filter, verbose, skip_blank_lines, parse_dates, infer_datetime_format, keep_date_col, date_parser, dayfirst, cache_dates, iterator, chunksize, compression, thousands, decimal, lineterminator, quotechar, quoting, doublequote, escapechar, comment, encoding, dialect, error_bad_lines, warn_bad_lines, delim_whitespace, low_memory, memory_map, float_precision)\u001b[0m\n\u001b[1;32m    684\u001b[0m     )\n\u001b[1;32m    685\u001b[0m \u001b[0;34m\u001b[0m\u001b[0m\n\u001b[0;32m--> 686\u001b[0;31m     \u001b[0;32mreturn\u001b[0m \u001b[0m_read\u001b[0m\u001b[0;34m(\u001b[0m\u001b[0mfilepath_or_buffer\u001b[0m\u001b[0;34m,\u001b[0m \u001b[0mkwds\u001b[0m\u001b[0;34m)\u001b[0m\u001b[0;34m\u001b[0m\u001b[0;34m\u001b[0m\u001b[0m\n\u001b[0m\u001b[1;32m    687\u001b[0m \u001b[0;34m\u001b[0m\u001b[0m\n\u001b[1;32m    688\u001b[0m \u001b[0;34m\u001b[0m\u001b[0m\n",
      "\u001b[0;32m~/Library/Python/3.7/lib/python/site-packages/pandas/io/parsers.py\u001b[0m in \u001b[0;36m_read\u001b[0;34m(filepath_or_buffer, kwds)\u001b[0m\n\u001b[1;32m    450\u001b[0m \u001b[0;34m\u001b[0m\u001b[0m\n\u001b[1;32m    451\u001b[0m     \u001b[0;31m# Create the parser.\u001b[0m\u001b[0;34m\u001b[0m\u001b[0;34m\u001b[0m\u001b[0;34m\u001b[0m\u001b[0m\n\u001b[0;32m--> 452\u001b[0;31m     \u001b[0mparser\u001b[0m \u001b[0;34m=\u001b[0m \u001b[0mTextFileReader\u001b[0m\u001b[0;34m(\u001b[0m\u001b[0mfp_or_buf\u001b[0m\u001b[0;34m,\u001b[0m \u001b[0;34m**\u001b[0m\u001b[0mkwds\u001b[0m\u001b[0;34m)\u001b[0m\u001b[0;34m\u001b[0m\u001b[0;34m\u001b[0m\u001b[0m\n\u001b[0m\u001b[1;32m    453\u001b[0m \u001b[0;34m\u001b[0m\u001b[0m\n\u001b[1;32m    454\u001b[0m     \u001b[0;32mif\u001b[0m \u001b[0mchunksize\u001b[0m \u001b[0;32mor\u001b[0m \u001b[0miterator\u001b[0m\u001b[0;34m:\u001b[0m\u001b[0;34m\u001b[0m\u001b[0;34m\u001b[0m\u001b[0m\n",
      "\u001b[0;32m~/Library/Python/3.7/lib/python/site-packages/pandas/io/parsers.py\u001b[0m in \u001b[0;36m__init__\u001b[0;34m(self, f, engine, **kwds)\u001b[0m\n\u001b[1;32m    944\u001b[0m             \u001b[0mself\u001b[0m\u001b[0;34m.\u001b[0m\u001b[0moptions\u001b[0m\u001b[0;34m[\u001b[0m\u001b[0;34m\"has_index_names\"\u001b[0m\u001b[0;34m]\u001b[0m \u001b[0;34m=\u001b[0m \u001b[0mkwds\u001b[0m\u001b[0;34m[\u001b[0m\u001b[0;34m\"has_index_names\"\u001b[0m\u001b[0;34m]\u001b[0m\u001b[0;34m\u001b[0m\u001b[0;34m\u001b[0m\u001b[0m\n\u001b[1;32m    945\u001b[0m \u001b[0;34m\u001b[0m\u001b[0m\n\u001b[0;32m--> 946\u001b[0;31m         \u001b[0mself\u001b[0m\u001b[0;34m.\u001b[0m\u001b[0m_make_engine\u001b[0m\u001b[0;34m(\u001b[0m\u001b[0mself\u001b[0m\u001b[0;34m.\u001b[0m\u001b[0mengine\u001b[0m\u001b[0;34m)\u001b[0m\u001b[0;34m\u001b[0m\u001b[0;34m\u001b[0m\u001b[0m\n\u001b[0m\u001b[1;32m    947\u001b[0m \u001b[0;34m\u001b[0m\u001b[0m\n\u001b[1;32m    948\u001b[0m     \u001b[0;32mdef\u001b[0m \u001b[0mclose\u001b[0m\u001b[0;34m(\u001b[0m\u001b[0mself\u001b[0m\u001b[0;34m)\u001b[0m\u001b[0;34m:\u001b[0m\u001b[0;34m\u001b[0m\u001b[0;34m\u001b[0m\u001b[0m\n",
      "\u001b[0;32m~/Library/Python/3.7/lib/python/site-packages/pandas/io/parsers.py\u001b[0m in \u001b[0;36m_make_engine\u001b[0;34m(self, engine)\u001b[0m\n\u001b[1;32m   1176\u001b[0m     \u001b[0;32mdef\u001b[0m \u001b[0m_make_engine\u001b[0m\u001b[0;34m(\u001b[0m\u001b[0mself\u001b[0m\u001b[0;34m,\u001b[0m \u001b[0mengine\u001b[0m\u001b[0;34m=\u001b[0m\u001b[0;34m\"c\"\u001b[0m\u001b[0;34m)\u001b[0m\u001b[0;34m:\u001b[0m\u001b[0;34m\u001b[0m\u001b[0;34m\u001b[0m\u001b[0m\n\u001b[1;32m   1177\u001b[0m         \u001b[0;32mif\u001b[0m \u001b[0mengine\u001b[0m \u001b[0;34m==\u001b[0m \u001b[0;34m\"c\"\u001b[0m\u001b[0;34m:\u001b[0m\u001b[0;34m\u001b[0m\u001b[0;34m\u001b[0m\u001b[0m\n\u001b[0;32m-> 1178\u001b[0;31m             \u001b[0mself\u001b[0m\u001b[0;34m.\u001b[0m\u001b[0m_engine\u001b[0m \u001b[0;34m=\u001b[0m \u001b[0mCParserWrapper\u001b[0m\u001b[0;34m(\u001b[0m\u001b[0mself\u001b[0m\u001b[0;34m.\u001b[0m\u001b[0mf\u001b[0m\u001b[0;34m,\u001b[0m \u001b[0;34m**\u001b[0m\u001b[0mself\u001b[0m\u001b[0;34m.\u001b[0m\u001b[0moptions\u001b[0m\u001b[0;34m)\u001b[0m\u001b[0;34m\u001b[0m\u001b[0;34m\u001b[0m\u001b[0m\n\u001b[0m\u001b[1;32m   1179\u001b[0m         \u001b[0;32melse\u001b[0m\u001b[0;34m:\u001b[0m\u001b[0;34m\u001b[0m\u001b[0;34m\u001b[0m\u001b[0m\n\u001b[1;32m   1180\u001b[0m             \u001b[0;32mif\u001b[0m \u001b[0mengine\u001b[0m \u001b[0;34m==\u001b[0m \u001b[0;34m\"python\"\u001b[0m\u001b[0;34m:\u001b[0m\u001b[0;34m\u001b[0m\u001b[0;34m\u001b[0m\u001b[0m\n",
      "\u001b[0;32m~/Library/Python/3.7/lib/python/site-packages/pandas/io/parsers.py\u001b[0m in \u001b[0;36m__init__\u001b[0;34m(self, src, **kwds)\u001b[0m\n\u001b[1;32m   2006\u001b[0m         \u001b[0mkwds\u001b[0m\u001b[0;34m[\u001b[0m\u001b[0;34m\"usecols\"\u001b[0m\u001b[0;34m]\u001b[0m \u001b[0;34m=\u001b[0m \u001b[0mself\u001b[0m\u001b[0;34m.\u001b[0m\u001b[0musecols\u001b[0m\u001b[0;34m\u001b[0m\u001b[0;34m\u001b[0m\u001b[0m\n\u001b[1;32m   2007\u001b[0m \u001b[0;34m\u001b[0m\u001b[0m\n\u001b[0;32m-> 2008\u001b[0;31m         \u001b[0mself\u001b[0m\u001b[0;34m.\u001b[0m\u001b[0m_reader\u001b[0m \u001b[0;34m=\u001b[0m \u001b[0mparsers\u001b[0m\u001b[0;34m.\u001b[0m\u001b[0mTextReader\u001b[0m\u001b[0;34m(\u001b[0m\u001b[0msrc\u001b[0m\u001b[0;34m,\u001b[0m \u001b[0;34m**\u001b[0m\u001b[0mkwds\u001b[0m\u001b[0;34m)\u001b[0m\u001b[0;34m\u001b[0m\u001b[0;34m\u001b[0m\u001b[0m\n\u001b[0m\u001b[1;32m   2009\u001b[0m         \u001b[0mself\u001b[0m\u001b[0;34m.\u001b[0m\u001b[0munnamed_cols\u001b[0m \u001b[0;34m=\u001b[0m \u001b[0mself\u001b[0m\u001b[0;34m.\u001b[0m\u001b[0m_reader\u001b[0m\u001b[0;34m.\u001b[0m\u001b[0munnamed_cols\u001b[0m\u001b[0;34m\u001b[0m\u001b[0;34m\u001b[0m\u001b[0m\n\u001b[1;32m   2010\u001b[0m \u001b[0;34m\u001b[0m\u001b[0m\n",
      "\u001b[0;32mpandas/_libs/parsers.pyx\u001b[0m in \u001b[0;36mpandas._libs.parsers.TextReader.__cinit__\u001b[0;34m()\u001b[0m\n",
      "\u001b[0;32mpandas/_libs/parsers.pyx\u001b[0m in \u001b[0;36mpandas._libs.parsers.TextReader._setup_parser_source\u001b[0;34m()\u001b[0m\n",
      "\u001b[0;31mFileNotFoundError\u001b[0m: [Errno 2] No such file or directory: '../signdata-07-08-2020.csv'"
     ]
    }
   ],
   "source": [
    "signs_latest_csv = pd.read_csv('../signdata-07-08-2020.csv')"
   ]
  },
  {
   "cell_type": "code",
   "execution_count": null,
   "metadata": {},
   "outputs": [],
   "source": [
    "signs_latest_csv['Iconicity(Z)'].max()"
   ]
  },
  {
   "cell_type": "code",
   "execution_count": null,
   "metadata": {},
   "outputs": [],
   "source": []
  }
 ],
 "metadata": {
  "kernelspec": {
   "display_name": "Python 3",
   "language": "python",
   "name": "python3"
  },
  "language_info": {
   "codemirror_mode": {
    "name": "ipython",
    "version": 3
   },
   "file_extension": ".py",
   "mimetype": "text/x-python",
   "name": "python",
   "nbconvert_exporter": "python",
   "pygments_lexer": "ipython3",
   "version": "3.7.3"
  }
 },
 "nbformat": 4,
 "nbformat_minor": 2
}
