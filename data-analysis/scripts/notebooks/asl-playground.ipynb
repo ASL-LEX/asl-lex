{
 "cells": [
  {
   "cell_type": "markdown",
   "metadata": {},
   "source": [
    "## This notebook assumes you have the following packages installed in your conda environment."
   ]
  },
  {
   "cell_type": "code",
   "execution_count": 9,
   "metadata": {},
   "outputs": [],
   "source": [
    "import pandas as pd\n",
    "import json\n",
    "import community\n",
    "import networkx as nx\n",
    "import matplotlib.pyplot as plt\n",
    "import pandas as pd\n",
    "import random\n",
    "import numpy as np\n",
    "import randomcolor"
   ]
  },
  {
   "cell_type": "code",
   "execution_count": 11,
   "metadata": {},
   "outputs": [
    {
     "data": {
      "text/plain": [
       "(2723, 187)"
      ]
     },
     "execution_count": 11,
     "metadata": {},
     "output_type": "execute_result"
    }
   ],
   "source": [
    "df_default = pd.read_csv('../data/signdata-2020-09-08.csv')\n",
    "df_default.shape\n"
   ]
  },
  {
   "cell_type": "code",
   "execution_count": 15,
   "metadata": {},
   "outputs": [
    {
     "data": {
      "text/html": [
       "<div>\n",
       "<style scoped>\n",
       "    .dataframe tbody tr th:only-of-type {\n",
       "        vertical-align: middle;\n",
       "    }\n",
       "\n",
       "    .dataframe tbody tr th {\n",
       "        vertical-align: top;\n",
       "    }\n",
       "\n",
       "    .dataframe thead th {\n",
       "        text-align: right;\n",
       "    }\n",
       "</style>\n",
       "<table border=\"1\" class=\"dataframe\">\n",
       "  <thead>\n",
       "    <tr style=\"text-align: right;\">\n",
       "      <th></th>\n",
       "      <th>EntryID</th>\n",
       "      <th>LemmaID</th>\n",
       "      <th>Code</th>\n",
       "      <th>YouTube Video</th>\n",
       "      <th>VimeoVideo</th>\n",
       "    </tr>\n",
       "  </thead>\n",
       "  <tbody>\n",
       "    <tr>\n",
       "      <th>0</th>\n",
       "      <td>1_dollar</td>\n",
       "      <td>1_dollar</td>\n",
       "      <td>C_02_025</td>\n",
       "      <td>&lt;iframe width=\"280\" height=\"158\" src=\"https://...</td>\n",
       "      <td>https://player.vimeo.com/video/345587917</td>\n",
       "    </tr>\n",
       "    <tr>\n",
       "      <th>1</th>\n",
       "      <td>5_dollars</td>\n",
       "      <td>5_dollars</td>\n",
       "      <td>B_01_062</td>\n",
       "      <td>&lt;iframe width=\"280\" height=\"158\" src=\"https://...</td>\n",
       "      <td>https://player.vimeo.com/video/344399314</td>\n",
       "    </tr>\n",
       "    <tr>\n",
       "      <th>2</th>\n",
       "      <td>8_hour</td>\n",
       "      <td>8_hour</td>\n",
       "      <td>C_02_055</td>\n",
       "      <td>&lt;iframe width=\"280\" height=\"158\" src=\"https://...</td>\n",
       "      <td>https://player.vimeo.com/video/345588916</td>\n",
       "    </tr>\n",
       "    <tr>\n",
       "      <th>3</th>\n",
       "      <td>9_oclock</td>\n",
       "      <td>9_oclock</td>\n",
       "      <td>C_02_080</td>\n",
       "      <td>&lt;iframe width=\"280\" height=\"158\" src=\"https://...</td>\n",
       "      <td>https://player.vimeo.com/video/345589804</td>\n",
       "    </tr>\n",
       "    <tr>\n",
       "      <th>4</th>\n",
       "      <td>a-line_bob</td>\n",
       "      <td>a-line_bob</td>\n",
       "      <td>K_03_127</td>\n",
       "      <td>NaN</td>\n",
       "      <td>https://player.vimeo.com/video/342308099</td>\n",
       "    </tr>\n",
       "    <tr>\n",
       "      <th>...</th>\n",
       "      <td>...</td>\n",
       "      <td>...</td>\n",
       "      <td>...</td>\n",
       "      <td>...</td>\n",
       "      <td>...</td>\n",
       "    </tr>\n",
       "    <tr>\n",
       "      <th>2718</th>\n",
       "      <td>zero</td>\n",
       "      <td>zero</td>\n",
       "      <td>D_03_036</td>\n",
       "      <td>&lt;iframe width=\"280\" height=\"158\" src=\"https://...</td>\n",
       "      <td>https://player.vimeo.com/video/345983725</td>\n",
       "    </tr>\n",
       "    <tr>\n",
       "      <th>2719</th>\n",
       "      <td>zipper</td>\n",
       "      <td>zipper</td>\n",
       "      <td>D_01_034</td>\n",
       "      <td>&lt;iframe width=\"280\" height=\"158\" src=\"https://...</td>\n",
       "      <td>https://player.vimeo.com/video/345804301</td>\n",
       "    </tr>\n",
       "    <tr>\n",
       "      <th>2720</th>\n",
       "      <td>zoo</td>\n",
       "      <td>zoo</td>\n",
       "      <td>E_03_042</td>\n",
       "      <td>&lt;iframe width=\"280\" height=\"158\" src=\"https://...</td>\n",
       "      <td>https://player.vimeo.com/video/346067693</td>\n",
       "    </tr>\n",
       "    <tr>\n",
       "      <th>2721</th>\n",
       "      <td>zoom_in</td>\n",
       "      <td>zoom_in</td>\n",
       "      <td>B_02_056</td>\n",
       "      <td>&lt;iframe width=\"280\" height=\"158\" src=\"https://...</td>\n",
       "      <td>https://player.vimeo.com/video/345555455</td>\n",
       "    </tr>\n",
       "    <tr>\n",
       "      <th>2722</th>\n",
       "      <td>zoom_off</td>\n",
       "      <td>zoom_off</td>\n",
       "      <td>D_01_057</td>\n",
       "      <td>&lt;iframe width=\"280\" height=\"158\" src=\"https://...</td>\n",
       "      <td>https://player.vimeo.com/video/345805379</td>\n",
       "    </tr>\n",
       "  </tbody>\n",
       "</table>\n",
       "<p>2723 rows × 5 columns</p>\n",
       "</div>"
      ],
      "text/plain": [
       "         EntryID     LemmaID      Code  \\\n",
       "0       1_dollar    1_dollar  C_02_025   \n",
       "1      5_dollars   5_dollars  B_01_062   \n",
       "2         8_hour      8_hour  C_02_055   \n",
       "3       9_oclock    9_oclock  C_02_080   \n",
       "4     a-line_bob  a-line_bob  K_03_127   \n",
       "...          ...         ...       ...   \n",
       "2718        zero        zero  D_03_036   \n",
       "2719      zipper      zipper  D_01_034   \n",
       "2720         zoo         zoo  E_03_042   \n",
       "2721     zoom_in     zoom_in  B_02_056   \n",
       "2722    zoom_off    zoom_off  D_01_057   \n",
       "\n",
       "                                          YouTube Video  \\\n",
       "0     <iframe width=\"280\" height=\"158\" src=\"https://...   \n",
       "1     <iframe width=\"280\" height=\"158\" src=\"https://...   \n",
       "2     <iframe width=\"280\" height=\"158\" src=\"https://...   \n",
       "3     <iframe width=\"280\" height=\"158\" src=\"https://...   \n",
       "4                                                   NaN   \n",
       "...                                                 ...   \n",
       "2718  <iframe width=\"280\" height=\"158\" src=\"https://...   \n",
       "2719  <iframe width=\"280\" height=\"158\" src=\"https://...   \n",
       "2720  <iframe width=\"280\" height=\"158\" src=\"https://...   \n",
       "2721  <iframe width=\"280\" height=\"158\" src=\"https://...   \n",
       "2722  <iframe width=\"280\" height=\"158\" src=\"https://...   \n",
       "\n",
       "                                    VimeoVideo  \n",
       "0     https://player.vimeo.com/video/345587917  \n",
       "1     https://player.vimeo.com/video/344399314  \n",
       "2     https://player.vimeo.com/video/345588916  \n",
       "3     https://player.vimeo.com/video/345589804  \n",
       "4     https://player.vimeo.com/video/342308099  \n",
       "...                                        ...  \n",
       "2718  https://player.vimeo.com/video/345983725  \n",
       "2719  https://player.vimeo.com/video/345804301  \n",
       "2720  https://player.vimeo.com/video/346067693  \n",
       "2721  https://player.vimeo.com/video/345555455  \n",
       "2722  https://player.vimeo.com/video/345805379  \n",
       "\n",
       "[2723 rows x 5 columns]"
      ]
     },
     "execution_count": 15,
     "metadata": {},
     "output_type": "execute_result"
    }
   ],
   "source": [
    "df_subset = df_default[['EntryID', 'LemmaID','Code','YouTube Video', 'VimeoVideo']]\n",
    "df_subset"
   ]
  },
  {
   "cell_type": "code",
   "execution_count": 16,
   "metadata": {},
   "outputs": [],
   "source": [
    "df_subset.to_csv('signdata_with_urls.csv')"
   ]
  },
  {
   "cell_type": "code",
   "execution_count": 17,
   "metadata": {},
   "outputs": [
    {
     "data": {
      "text/plain": [
       "(2723, 192)"
      ]
     },
     "execution_count": 17,
     "metadata": {},
     "output_type": "execute_result"
    }
   ],
   "source": [
    "df_sign = pd.read_csv('../data/signdata.csv')\n",
    "df_sign.shape"
   ]
  },
  {
   "cell_type": "code",
   "execution_count": 18,
   "metadata": {},
   "outputs": [
    {
     "data": {
      "text/html": [
       "<div>\n",
       "<style scoped>\n",
       "    .dataframe tbody tr th:only-of-type {\n",
       "        vertical-align: middle;\n",
       "    }\n",
       "\n",
       "    .dataframe tbody tr th {\n",
       "        vertical-align: top;\n",
       "    }\n",
       "\n",
       "    .dataframe thead th {\n",
       "        text-align: right;\n",
       "    }\n",
       "</style>\n",
       "<table border=\"1\" class=\"dataframe\">\n",
       "  <thead>\n",
       "    <tr style=\"text-align: right;\">\n",
       "      <th></th>\n",
       "      <th>EntryID</th>\n",
       "      <th>LemmaID</th>\n",
       "      <th>Code</th>\n",
       "      <th>Batch</th>\n",
       "      <th>List</th>\n",
       "      <th>Item</th>\n",
       "      <th>YouTube Video</th>\n",
       "      <th>VimeoVideoHTML</th>\n",
       "      <th>VimeoVideo</th>\n",
       "      <th>SignFrequency(M)</th>\n",
       "      <th>...</th>\n",
       "      <th>Iconicity(M)</th>\n",
       "      <th>Iconicity(SD)</th>\n",
       "      <th>Iconicity(N)</th>\n",
       "      <th>Parameter.Neighborhood.Density.2.0</th>\n",
       "      <th>Neighborhood Density 2.0</th>\n",
       "      <th>SignBankAnnotationID</th>\n",
       "      <th>SignBankEnglishTranslations</th>\n",
       "      <th>SignBankLemmaID</th>\n",
       "      <th>SignBankSemanticField</th>\n",
       "      <th>SignBankID</th>\n",
       "    </tr>\n",
       "  </thead>\n",
       "  <tbody>\n",
       "    <tr>\n",
       "      <th>0</th>\n",
       "      <td>1_dollar</td>\n",
       "      <td>1_dollar</td>\n",
       "      <td>C_02_025</td>\n",
       "      <td>C</td>\n",
       "      <td>2.0</td>\n",
       "      <td>25.0</td>\n",
       "      <td>&lt;iframe width=\"280\" height=\"158\" src=\"https://...</td>\n",
       "      <td>&lt;iframe src=https://player.vimeo.com/video/345...</td>\n",
       "      <td>https://player.vimeo.com/video/345587917</td>\n",
       "      <td>3.034</td>\n",
       "      <td>...</td>\n",
       "      <td>1.074</td>\n",
       "      <td>0.267</td>\n",
       "      <td>27.0</td>\n",
       "      <td>383</td>\n",
       "      <td>0</td>\n",
       "      <td>DOLLAR</td>\n",
       "      <td>bill, cash, dollar, money</td>\n",
       "      <td>1_DOLLAR</td>\n",
       "      <td>None</td>\n",
       "      <td>1268.0</td>\n",
       "    </tr>\n",
       "    <tr>\n",
       "      <th>1</th>\n",
       "      <td>5_dollars</td>\n",
       "      <td>5_dollars</td>\n",
       "      <td>B_01_062</td>\n",
       "      <td>B</td>\n",
       "      <td>1.0</td>\n",
       "      <td>62.0</td>\n",
       "      <td>&lt;iframe width=\"280\" height=\"158\" src=\"https://...</td>\n",
       "      <td>&lt;iframe src=https://player.vimeo.com/video/344...</td>\n",
       "      <td>https://player.vimeo.com/video/344399314</td>\n",
       "      <td>5.120</td>\n",
       "      <td>...</td>\n",
       "      <td>5.481</td>\n",
       "      <td>1.503</td>\n",
       "      <td>27.0</td>\n",
       "      <td>190</td>\n",
       "      <td>4</td>\n",
       "      <td>FIVE-DOLLARS</td>\n",
       "      <td>dollar, five dollars, money</td>\n",
       "      <td>5_DOLLAR</td>\n",
       "      <td>Number</td>\n",
       "      <td>2436.0</td>\n",
       "    </tr>\n",
       "    <tr>\n",
       "      <th>2</th>\n",
       "      <td>8_hour</td>\n",
       "      <td>8_hour</td>\n",
       "      <td>C_02_055</td>\n",
       "      <td>C</td>\n",
       "      <td>2.0</td>\n",
       "      <td>55.0</td>\n",
       "      <td>&lt;iframe width=\"280\" height=\"158\" src=\"https://...</td>\n",
       "      <td>&lt;iframe src=https://player.vimeo.com/video/345...</td>\n",
       "      <td>https://player.vimeo.com/video/345588916</td>\n",
       "      <td>4.267</td>\n",
       "      <td>...</td>\n",
       "      <td>2.654</td>\n",
       "      <td>1.623</td>\n",
       "      <td>26.0</td>\n",
       "      <td>129</td>\n",
       "      <td>0</td>\n",
       "      <td>EIGHT-HOURSneut</td>\n",
       "      <td>eight hours, 8 hours, hour, time</td>\n",
       "      <td>NUMBER-HOURS</td>\n",
       "      <td>Number</td>\n",
       "      <td>2437.0</td>\n",
       "    </tr>\n",
       "    <tr>\n",
       "      <th>3</th>\n",
       "      <td>9_oclock</td>\n",
       "      <td>9_oclock</td>\n",
       "      <td>C_02_080</td>\n",
       "      <td>C</td>\n",
       "      <td>2.0</td>\n",
       "      <td>80.0</td>\n",
       "      <td>&lt;iframe width=\"280\" height=\"158\" src=\"https://...</td>\n",
       "      <td>&lt;iframe src=https://player.vimeo.com/video/345...</td>\n",
       "      <td>https://player.vimeo.com/video/345589804</td>\n",
       "      <td>4.133</td>\n",
       "      <td>...</td>\n",
       "      <td>2.741</td>\n",
       "      <td>1.430</td>\n",
       "      <td>27.0</td>\n",
       "      <td>48</td>\n",
       "      <td>4</td>\n",
       "      <td>OCLOCK-NINE</td>\n",
       "      <td>9:00, 9 o'clock, nine o'clock, o'clock, time</td>\n",
       "      <td>OCLOCK-NUMBER</td>\n",
       "      <td>None</td>\n",
       "      <td>2857.0</td>\n",
       "    </tr>\n",
       "    <tr>\n",
       "      <th>4</th>\n",
       "      <td>a-line_bob</td>\n",
       "      <td>a-line_bob</td>\n",
       "      <td>K_03_127</td>\n",
       "      <td>NaN</td>\n",
       "      <td>NaN</td>\n",
       "      <td>NaN</td>\n",
       "      <td>NaN</td>\n",
       "      <td>&lt;iframe src=https://player.vimeo.com/video/342...</td>\n",
       "      <td>https://player.vimeo.com/video/342308099</td>\n",
       "      <td>4.273</td>\n",
       "      <td>...</td>\n",
       "      <td>3.769</td>\n",
       "      <td>1.925</td>\n",
       "      <td>26.0</td>\n",
       "      <td>158</td>\n",
       "      <td>4</td>\n",
       "      <td>NaN</td>\n",
       "      <td>NaN</td>\n",
       "      <td>NaN</td>\n",
       "      <td>NaN</td>\n",
       "      <td>NaN</td>\n",
       "    </tr>\n",
       "    <tr>\n",
       "      <th>...</th>\n",
       "      <td>...</td>\n",
       "      <td>...</td>\n",
       "      <td>...</td>\n",
       "      <td>...</td>\n",
       "      <td>...</td>\n",
       "      <td>...</td>\n",
       "      <td>...</td>\n",
       "      <td>...</td>\n",
       "      <td>...</td>\n",
       "      <td>...</td>\n",
       "      <td>...</td>\n",
       "      <td>...</td>\n",
       "      <td>...</td>\n",
       "      <td>...</td>\n",
       "      <td>...</td>\n",
       "      <td>...</td>\n",
       "      <td>...</td>\n",
       "      <td>...</td>\n",
       "      <td>...</td>\n",
       "      <td>...</td>\n",
       "      <td>...</td>\n",
       "    </tr>\n",
       "    <tr>\n",
       "      <th>2718</th>\n",
       "      <td>zero</td>\n",
       "      <td>zero</td>\n",
       "      <td>D_03_036</td>\n",
       "      <td>D</td>\n",
       "      <td>3.0</td>\n",
       "      <td>36.0</td>\n",
       "      <td>&lt;iframe width=\"280\" height=\"158\" src=\"https://...</td>\n",
       "      <td>&lt;iframe src=https://player.vimeo.com/video/345...</td>\n",
       "      <td>https://player.vimeo.com/video/345983725</td>\n",
       "      <td>4.192</td>\n",
       "      <td>...</td>\n",
       "      <td>6.565</td>\n",
       "      <td>1.161</td>\n",
       "      <td>23.0</td>\n",
       "      <td>482</td>\n",
       "      <td>5</td>\n",
       "      <td>ZERO</td>\n",
       "      <td>0, none, number, zero, zilch</td>\n",
       "      <td>ZERO</td>\n",
       "      <td>Number</td>\n",
       "      <td>1478.0</td>\n",
       "    </tr>\n",
       "    <tr>\n",
       "      <th>2719</th>\n",
       "      <td>zipper</td>\n",
       "      <td>zipper</td>\n",
       "      <td>D_01_034</td>\n",
       "      <td>D</td>\n",
       "      <td>1.0</td>\n",
       "      <td>34.0</td>\n",
       "      <td>&lt;iframe width=\"280\" height=\"158\" src=\"https://...</td>\n",
       "      <td>&lt;iframe src=https://player.vimeo.com/video/345...</td>\n",
       "      <td>https://player.vimeo.com/video/345804301</td>\n",
       "      <td>3.148</td>\n",
       "      <td>...</td>\n",
       "      <td>6.394</td>\n",
       "      <td>1.029</td>\n",
       "      <td>33.0</td>\n",
       "      <td>165</td>\n",
       "      <td>0</td>\n",
       "      <td>ZIPPER</td>\n",
       "      <td>coat, jacket, zipper</td>\n",
       "      <td>ZIPPER</td>\n",
       "      <td>None</td>\n",
       "      <td>94.0</td>\n",
       "    </tr>\n",
       "    <tr>\n",
       "      <th>2720</th>\n",
       "      <td>zoo</td>\n",
       "      <td>zoo</td>\n",
       "      <td>E_03_042</td>\n",
       "      <td>E3</td>\n",
       "      <td>3.0</td>\n",
       "      <td>42.0</td>\n",
       "      <td>&lt;iframe width=\"280\" height=\"158\" src=\"https://...</td>\n",
       "      <td>&lt;iframe src=https://player.vimeo.com/video/346...</td>\n",
       "      <td>https://player.vimeo.com/video/346067693</td>\n",
       "      <td>3.533</td>\n",
       "      <td>...</td>\n",
       "      <td>2.100</td>\n",
       "      <td>1.729</td>\n",
       "      <td>30.0</td>\n",
       "      <td>137</td>\n",
       "      <td>3</td>\n",
       "      <td>NaN</td>\n",
       "      <td>NaN</td>\n",
       "      <td>NaN</td>\n",
       "      <td>NaN</td>\n",
       "      <td>NaN</td>\n",
       "    </tr>\n",
       "    <tr>\n",
       "      <th>2721</th>\n",
       "      <td>zoom_in</td>\n",
       "      <td>zoom_in</td>\n",
       "      <td>B_02_056</td>\n",
       "      <td>B</td>\n",
       "      <td>2.0</td>\n",
       "      <td>56.0</td>\n",
       "      <td>&lt;iframe width=\"280\" height=\"158\" src=\"https://...</td>\n",
       "      <td>&lt;iframe src=https://player.vimeo.com/video/345...</td>\n",
       "      <td>https://player.vimeo.com/video/345555455</td>\n",
       "      <td>3.958</td>\n",
       "      <td>...</td>\n",
       "      <td>4.667</td>\n",
       "      <td>2.187</td>\n",
       "      <td>30.0</td>\n",
       "      <td>524</td>\n",
       "      <td>0</td>\n",
       "      <td>ZOOM-IN</td>\n",
       "      <td>computer screen, enlarge, expand, make bigger,...</td>\n",
       "      <td>ZOOM-IN</td>\n",
       "      <td>Event</td>\n",
       "      <td>3114.0</td>\n",
       "    </tr>\n",
       "    <tr>\n",
       "      <th>2722</th>\n",
       "      <td>zoom_off</td>\n",
       "      <td>zoom_off</td>\n",
       "      <td>D_01_057</td>\n",
       "      <td>D</td>\n",
       "      <td>1.0</td>\n",
       "      <td>57.0</td>\n",
       "      <td>&lt;iframe width=\"280\" height=\"158\" src=\"https://...</td>\n",
       "      <td>&lt;iframe src=https://player.vimeo.com/video/345...</td>\n",
       "      <td>https://player.vimeo.com/video/345805379</td>\n",
       "      <td>4.333</td>\n",
       "      <td>...</td>\n",
       "      <td>3.742</td>\n",
       "      <td>1.914</td>\n",
       "      <td>31.0</td>\n",
       "      <td>368</td>\n",
       "      <td>0</td>\n",
       "      <td>ZOOM-OFF</td>\n",
       "      <td>leave, sprint, take off, zoom off, ZOOM-OFF, l...</td>\n",
       "      <td>ZOOM-OFF</td>\n",
       "      <td>None</td>\n",
       "      <td>329.0</td>\n",
       "    </tr>\n",
       "  </tbody>\n",
       "</table>\n",
       "<p>2723 rows × 192 columns</p>\n",
       "</div>"
      ],
      "text/plain": [
       "         EntryID     LemmaID      Code Batch  List  Item  \\\n",
       "0       1_dollar    1_dollar  C_02_025     C   2.0  25.0   \n",
       "1      5_dollars   5_dollars  B_01_062     B   1.0  62.0   \n",
       "2         8_hour      8_hour  C_02_055     C   2.0  55.0   \n",
       "3       9_oclock    9_oclock  C_02_080     C   2.0  80.0   \n",
       "4     a-line_bob  a-line_bob  K_03_127   NaN   NaN   NaN   \n",
       "...          ...         ...       ...   ...   ...   ...   \n",
       "2718        zero        zero  D_03_036     D   3.0  36.0   \n",
       "2719      zipper      zipper  D_01_034     D   1.0  34.0   \n",
       "2720         zoo         zoo  E_03_042    E3   3.0  42.0   \n",
       "2721     zoom_in     zoom_in  B_02_056     B   2.0  56.0   \n",
       "2722    zoom_off    zoom_off  D_01_057     D   1.0  57.0   \n",
       "\n",
       "                                          YouTube Video  \\\n",
       "0     <iframe width=\"280\" height=\"158\" src=\"https://...   \n",
       "1     <iframe width=\"280\" height=\"158\" src=\"https://...   \n",
       "2     <iframe width=\"280\" height=\"158\" src=\"https://...   \n",
       "3     <iframe width=\"280\" height=\"158\" src=\"https://...   \n",
       "4                                                   NaN   \n",
       "...                                                 ...   \n",
       "2718  <iframe width=\"280\" height=\"158\" src=\"https://...   \n",
       "2719  <iframe width=\"280\" height=\"158\" src=\"https://...   \n",
       "2720  <iframe width=\"280\" height=\"158\" src=\"https://...   \n",
       "2721  <iframe width=\"280\" height=\"158\" src=\"https://...   \n",
       "2722  <iframe width=\"280\" height=\"158\" src=\"https://...   \n",
       "\n",
       "                                         VimeoVideoHTML  \\\n",
       "0     <iframe src=https://player.vimeo.com/video/345...   \n",
       "1     <iframe src=https://player.vimeo.com/video/344...   \n",
       "2     <iframe src=https://player.vimeo.com/video/345...   \n",
       "3     <iframe src=https://player.vimeo.com/video/345...   \n",
       "4     <iframe src=https://player.vimeo.com/video/342...   \n",
       "...                                                 ...   \n",
       "2718  <iframe src=https://player.vimeo.com/video/345...   \n",
       "2719  <iframe src=https://player.vimeo.com/video/345...   \n",
       "2720  <iframe src=https://player.vimeo.com/video/346...   \n",
       "2721  <iframe src=https://player.vimeo.com/video/345...   \n",
       "2722  <iframe src=https://player.vimeo.com/video/345...   \n",
       "\n",
       "                                    VimeoVideo  SignFrequency(M)  ...  \\\n",
       "0     https://player.vimeo.com/video/345587917             3.034  ...   \n",
       "1     https://player.vimeo.com/video/344399314             5.120  ...   \n",
       "2     https://player.vimeo.com/video/345588916             4.267  ...   \n",
       "3     https://player.vimeo.com/video/345589804             4.133  ...   \n",
       "4     https://player.vimeo.com/video/342308099             4.273  ...   \n",
       "...                                        ...               ...  ...   \n",
       "2718  https://player.vimeo.com/video/345983725             4.192  ...   \n",
       "2719  https://player.vimeo.com/video/345804301             3.148  ...   \n",
       "2720  https://player.vimeo.com/video/346067693             3.533  ...   \n",
       "2721  https://player.vimeo.com/video/345555455             3.958  ...   \n",
       "2722  https://player.vimeo.com/video/345805379             4.333  ...   \n",
       "\n",
       "      Iconicity(M)  Iconicity(SD)  Iconicity(N)  \\\n",
       "0            1.074          0.267          27.0   \n",
       "1            5.481          1.503          27.0   \n",
       "2            2.654          1.623          26.0   \n",
       "3            2.741          1.430          27.0   \n",
       "4            3.769          1.925          26.0   \n",
       "...            ...            ...           ...   \n",
       "2718         6.565          1.161          23.0   \n",
       "2719         6.394          1.029          33.0   \n",
       "2720         2.100          1.729          30.0   \n",
       "2721         4.667          2.187          30.0   \n",
       "2722         3.742          1.914          31.0   \n",
       "\n",
       "      Parameter.Neighborhood.Density.2.0  Neighborhood Density 2.0  \\\n",
       "0                                    383                         0   \n",
       "1                                    190                         4   \n",
       "2                                    129                         0   \n",
       "3                                     48                         4   \n",
       "4                                    158                         4   \n",
       "...                                  ...                       ...   \n",
       "2718                                 482                         5   \n",
       "2719                                 165                         0   \n",
       "2720                                 137                         3   \n",
       "2721                                 524                         0   \n",
       "2722                                 368                         0   \n",
       "\n",
       "      SignBankAnnotationID                        SignBankEnglishTranslations  \\\n",
       "0                   DOLLAR                          bill, cash, dollar, money   \n",
       "1             FIVE-DOLLARS                        dollar, five dollars, money   \n",
       "2          EIGHT-HOURSneut                   eight hours, 8 hours, hour, time   \n",
       "3              OCLOCK-NINE       9:00, 9 o'clock, nine o'clock, o'clock, time   \n",
       "4                      NaN                                                NaN   \n",
       "...                    ...                                                ...   \n",
       "2718                  ZERO                       0, none, number, zero, zilch   \n",
       "2719                ZIPPER                               coat, jacket, zipper   \n",
       "2720                   NaN                                                NaN   \n",
       "2721               ZOOM-IN  computer screen, enlarge, expand, make bigger,...   \n",
       "2722              ZOOM-OFF  leave, sprint, take off, zoom off, ZOOM-OFF, l...   \n",
       "\n",
       "      SignBankLemmaID  SignBankSemanticField  SignBankID  \n",
       "0            1_DOLLAR                   None      1268.0  \n",
       "1            5_DOLLAR                 Number      2436.0  \n",
       "2        NUMBER-HOURS                 Number      2437.0  \n",
       "3       OCLOCK-NUMBER                   None      2857.0  \n",
       "4                 NaN                    NaN         NaN  \n",
       "...               ...                    ...         ...  \n",
       "2718             ZERO                 Number      1478.0  \n",
       "2719           ZIPPER                   None        94.0  \n",
       "2720              NaN                    NaN         NaN  \n",
       "2721          ZOOM-IN                  Event      3114.0  \n",
       "2722         ZOOM-OFF                   None       329.0  \n",
       "\n",
       "[2723 rows x 192 columns]"
      ]
     },
     "execution_count": 18,
     "metadata": {},
     "output_type": "execute_result"
    }
   ],
   "source": [
    "df_sign"
   ]
  },
  {
   "cell_type": "code",
   "execution_count": 19,
   "metadata": {},
   "outputs": [
    {
     "data": {
      "text/plain": [
       "cry out, shout, scream, yell                                                    4\n",
       "canine, dog, puppy                                                              4\n",
       "fork, utensil                                                                   3\n",
       "animal, cat, feline, kitten, kitty, whiskers                                    3\n",
       "chaos, chaotic, disrupt, hectic, mess, messed up, mess up, messy, thrown off    3\n",
       "                                                                               ..\n",
       "cling to, cuddle, embrace, hold tight, hug, squeeze                             1\n",
       "lettuce, vegetable, garbage, trash                                              1\n",
       "baby, daughter, girl, offspring                                                 1\n",
       "difficulty, predicament, problem, trouble, worry                                1\n",
       "in-line skates, rollerblade, rollerblading, roller skates, skates, skating      1\n",
       "Name: SignBankEnglishTranslations, Length: 1803, dtype: int64"
      ]
     },
     "execution_count": 19,
     "metadata": {},
     "output_type": "execute_result"
    }
   ],
   "source": [
    "df_sign['SignBankEnglishTranslations'].value_counts()"
   ]
  },
  {
   "cell_type": "code",
   "execution_count": 12,
   "metadata": {},
   "outputs": [
    {
     "data": {
      "text/plain": [
       "array(['C_02_025', 'B_01_062', 'C_02_055', ..., 'E_03_042', 'B_02_056',\n",
       "       'D_01_057'], dtype=object)"
      ]
     },
     "execution_count": 12,
     "metadata": {},
     "output_type": "execute_result"
    }
   ],
   "source": [
    "df_default[\"Code\"].values"
   ]
  },
  {
   "cell_type": "markdown",
   "metadata": {},
   "source": [
    "## Community Analysis"
   ]
  },
  {
   "cell_type": "code",
   "execution_count": 13,
   "metadata": {
    "scrolled": true
   },
   "outputs": [
    {
     "data": {
      "text/html": [
       "<div>\n",
       "<style scoped>\n",
       "    .dataframe tbody tr th:only-of-type {\n",
       "        vertical-align: middle;\n",
       "    }\n",
       "\n",
       "    .dataframe tbody tr th {\n",
       "        vertical-align: top;\n",
       "    }\n",
       "\n",
       "    .dataframe thead th {\n",
       "        text-align: right;\n",
       "    }\n",
       "</style>\n",
       "<table border=\"1\" class=\"dataframe\">\n",
       "  <thead>\n",
       "    <tr style=\"text-align: right;\">\n",
       "      <th></th>\n",
       "      <th>target</th>\n",
       "      <th>source</th>\n",
       "      <th>num_matched_features</th>\n",
       "      <th>matched_features</th>\n",
       "      <th>num_missed_features</th>\n",
       "      <th>missed_features</th>\n",
       "    </tr>\n",
       "  </thead>\n",
       "  <tbody>\n",
       "    <tr>\n",
       "      <th>0</th>\n",
       "      <td>A_01_002</td>\n",
       "      <td>B_01_062</td>\n",
       "      <td>13</td>\n",
       "      <td>SelectedFingers.2.0, Flexion.2.0, FlexionChang...</td>\n",
       "      <td>0</td>\n",
       "      <td>NaN</td>\n",
       "    </tr>\n",
       "    <tr>\n",
       "      <th>1</th>\n",
       "      <td>A_01_002</td>\n",
       "      <td>C_03_023</td>\n",
       "      <td>12</td>\n",
       "      <td>SelectedFingers.2.0, FlexionChange.2.0, Spread...</td>\n",
       "      <td>1</td>\n",
       "      <td>Flexion.2.0</td>\n",
       "    </tr>\n",
       "    <tr>\n",
       "      <th>2</th>\n",
       "      <td>A_01_002</td>\n",
       "      <td>F_02_088</td>\n",
       "      <td>12</td>\n",
       "      <td>Flexion.2.0, FlexionChange.2.0, Spread.2.0, Sp...</td>\n",
       "      <td>1</td>\n",
       "      <td>SelectedFingers.2.0</td>\n",
       "    </tr>\n",
       "    <tr>\n",
       "      <th>3</th>\n",
       "      <td>A_01_002</td>\n",
       "      <td>H_03_004</td>\n",
       "      <td>12</td>\n",
       "      <td>SelectedFingers.2.0, Flexion.2.0, FlexionChang...</td>\n",
       "      <td>1</td>\n",
       "      <td>ThumbPosition.2.0</td>\n",
       "    </tr>\n",
       "    <tr>\n",
       "      <th>4</th>\n",
       "      <td>A_01_002</td>\n",
       "      <td>J_03_046</td>\n",
       "      <td>13</td>\n",
       "      <td>SelectedFingers.2.0, Flexion.2.0, FlexionChang...</td>\n",
       "      <td>0</td>\n",
       "      <td>NaN</td>\n",
       "    </tr>\n",
       "  </tbody>\n",
       "</table>\n",
       "</div>"
      ],
      "text/plain": [
       "     target    source  num_matched_features  \\\n",
       "0  A_01_002  B_01_062                    13   \n",
       "1  A_01_002  C_03_023                    12   \n",
       "2  A_01_002  F_02_088                    12   \n",
       "3  A_01_002  H_03_004                    12   \n",
       "4  A_01_002  J_03_046                    13   \n",
       "\n",
       "                                    matched_features  num_missed_features  \\\n",
       "0  SelectedFingers.2.0, Flexion.2.0, FlexionChang...                    0   \n",
       "1  SelectedFingers.2.0, FlexionChange.2.0, Spread...                    1   \n",
       "2  Flexion.2.0, FlexionChange.2.0, Spread.2.0, Sp...                    1   \n",
       "3  SelectedFingers.2.0, Flexion.2.0, FlexionChang...                    1   \n",
       "4  SelectedFingers.2.0, Flexion.2.0, FlexionChang...                    0   \n",
       "\n",
       "       missed_features  \n",
       "0                  NaN  \n",
       "1          Flexion.2.0  \n",
       "2  SelectedFingers.2.0  \n",
       "3    ThumbPosition.2.0  \n",
       "4                  NaN  "
      ]
     },
     "execution_count": 13,
     "metadata": {},
     "output_type": "execute_result"
    }
   ],
   "source": [
    "edges_df = pd.read_csv('../data/generated-data/default-neighbors.csv') \n",
    "edges_df = edges_df.rename(columns={\"neighbor\": \"source\"})\n",
    "edges_df.head()\n"
   ]
  },
  {
   "cell_type": "code",
   "execution_count": 14,
   "metadata": {},
   "outputs": [
    {
     "data": {
      "text/plain": [
       "(13210, 6)"
      ]
     },
     "execution_count": 14,
     "metadata": {},
     "output_type": "execute_result"
    }
   ],
   "source": [
    "edges_df.shape"
   ]
  },
  {
   "cell_type": "code",
   "execution_count": 15,
   "metadata": {},
   "outputs": [
    {
     "data": {
      "image/png": "[encoded data removed]",
      "text/plain": [
       "<Figure size 432x288 with 1 Axes>"
      ]
     },
     "metadata": {},
     "output_type": "display_data"
    }
   ],
   "source": [
    "g = nx.from_pandas_edgelist(edges_df, source='source', target='target') \n",
    "nx.draw(g)"
   ]
  },
  {
   "cell_type": "code",
   "execution_count": 16,
   "metadata": {},
   "outputs": [],
   "source": [
    "#first compute the best partition\n",
    "# from community import greedy_modularity_communities\n",
    "import community\n",
    "G = g\n",
    "\n",
    "#Two methods for community analysis\n",
    "# c = greedy_modularity_communities(G)\n",
    "partition = community.best_partition(G)"
   ]
  },
  {
   "cell_type": "code",
   "execution_count": 17,
   "metadata": {},
   "outputs": [
    {
     "data": {
      "image/png": "[encoded data removed]",
      "text/plain": [
       "<Figure size 432x288 with 1 Axes>"
      ]
     },
     "metadata": {},
     "output_type": "display_data"
    }
   ],
   "source": [
    "values = [partition.get(node) for node in G.nodes()]\n",
    "\n",
    "nx.draw_spring(G, cmap = plt.get_cmap('jet'), node_color = values, node_size=60, with_labels=False)"
   ]
  },
  {
   "cell_type": "code",
   "execution_count": null,
   "metadata": {},
   "outputs": [],
   "source": []
  },
  {
   "cell_type": "code",
   "execution_count": 7,
   "metadata": {},
   "outputs": [],
   "source": [
    "# num_nodes = 0\n",
    "# for community in c:\n",
    "#     num_nodes += len(community)\n",
    "# print(num_nodes)"
   ]
  },
  {
   "cell_type": "code",
   "execution_count": 18,
   "metadata": {},
   "outputs": [
    {
     "data": {
      "text/plain": [
       "1919"
      ]
     },
     "execution_count": 18,
     "metadata": {},
     "output_type": "execute_result"
    }
   ],
   "source": [
    "len(partition)"
   ]
  },
  {
   "cell_type": "code",
   "execution_count": 19,
   "metadata": {},
   "outputs": [
    {
     "name": "stdout",
     "output_type": "stream",
     "text": [
      "1919\n"
     ]
    },
    {
     "data": {
      "text/html": [
       "<div>\n",
       "<style scoped>\n",
       "    .dataframe tbody tr th:only-of-type {\n",
       "        vertical-align: middle;\n",
       "    }\n",
       "\n",
       "    .dataframe tbody tr th {\n",
       "        vertical-align: top;\n",
       "    }\n",
       "\n",
       "    .dataframe thead th {\n",
       "        text-align: right;\n",
       "    }\n",
       "</style>\n",
       "<table border=\"1\" class=\"dataframe\">\n",
       "  <thead>\n",
       "    <tr style=\"text-align: right;\">\n",
       "      <th></th>\n",
       "      <th>Code</th>\n",
       "      <th>group_id</th>\n",
       "    </tr>\n",
       "  </thead>\n",
       "  <tbody>\n",
       "    <tr>\n",
       "      <th>0</th>\n",
       "      <td>B_01_062</td>\n",
       "      <td>0</td>\n",
       "    </tr>\n",
       "    <tr>\n",
       "      <th>1</th>\n",
       "      <td>A_01_002</td>\n",
       "      <td>0</td>\n",
       "    </tr>\n",
       "    <tr>\n",
       "      <th>2</th>\n",
       "      <td>C_03_023</td>\n",
       "      <td>0</td>\n",
       "    </tr>\n",
       "    <tr>\n",
       "      <th>3</th>\n",
       "      <td>F_02_088</td>\n",
       "      <td>0</td>\n",
       "    </tr>\n",
       "    <tr>\n",
       "      <th>4</th>\n",
       "      <td>H_03_004</td>\n",
       "      <td>0</td>\n",
       "    </tr>\n",
       "  </tbody>\n",
       "</table>\n",
       "</div>"
      ],
      "text/plain": [
       "       Code  group_id\n",
       "0  B_01_062         0\n",
       "1  A_01_002         0\n",
       "2  C_03_023         0\n",
       "3  F_02_088         0\n",
       "4  H_03_004         0"
      ]
     },
     "execution_count": 19,
     "metadata": {},
     "output_type": "execute_result"
    }
   ],
   "source": [
    "#Noes only connected by edges. Does not include standalone nodes.\n",
    "\n",
    "list = partition.items()\n",
    "print(len(list))\n",
    "df_with_groupids = pd.DataFrame(list, columns=['Code', 'group_id'])\n",
    "df_with_groupids.head()"
   ]
  },
  {
   "cell_type": "code",
   "execution_count": 20,
   "metadata": {},
   "outputs": [
    {
     "name": "stdout",
     "output_type": "stream",
     "text": [
      "1919\n",
      "(13210, 6)\n",
      "(13210, 6)\n"
     ]
    },
    {
     "data": {
      "text/html": [
       "<div>\n",
       "<style scoped>\n",
       "    .dataframe tbody tr th:only-of-type {\n",
       "        vertical-align: middle;\n",
       "    }\n",
       "\n",
       "    .dataframe tbody tr th {\n",
       "        vertical-align: top;\n",
       "    }\n",
       "\n",
       "    .dataframe thead th {\n",
       "        text-align: right;\n",
       "    }\n",
       "</style>\n",
       "<table border=\"1\" class=\"dataframe\">\n",
       "  <thead>\n",
       "    <tr style=\"text-align: right;\">\n",
       "      <th></th>\n",
       "      <th>target</th>\n",
       "      <th>source</th>\n",
       "      <th>num_matched_features</th>\n",
       "      <th>matched_features</th>\n",
       "      <th>num_missed_features</th>\n",
       "      <th>missed_features</th>\n",
       "    </tr>\n",
       "  </thead>\n",
       "  <tbody>\n",
       "    <tr>\n",
       "      <th>0</th>\n",
       "      <td>A_01_002</td>\n",
       "      <td>B_01_062</td>\n",
       "      <td>13</td>\n",
       "      <td>SelectedFingers.2.0, Flexion.2.0, FlexionChang...</td>\n",
       "      <td>0</td>\n",
       "      <td>NaN</td>\n",
       "    </tr>\n",
       "    <tr>\n",
       "      <th>1</th>\n",
       "      <td>A_01_002</td>\n",
       "      <td>C_03_023</td>\n",
       "      <td>12</td>\n",
       "      <td>SelectedFingers.2.0, FlexionChange.2.0, Spread...</td>\n",
       "      <td>1</td>\n",
       "      <td>Flexion.2.0</td>\n",
       "    </tr>\n",
       "    <tr>\n",
       "      <th>2</th>\n",
       "      <td>A_01_002</td>\n",
       "      <td>F_02_088</td>\n",
       "      <td>12</td>\n",
       "      <td>Flexion.2.0, FlexionChange.2.0, Spread.2.0, Sp...</td>\n",
       "      <td>1</td>\n",
       "      <td>SelectedFingers.2.0</td>\n",
       "    </tr>\n",
       "    <tr>\n",
       "      <th>3</th>\n",
       "      <td>A_01_002</td>\n",
       "      <td>H_03_004</td>\n",
       "      <td>12</td>\n",
       "      <td>SelectedFingers.2.0, Flexion.2.0, FlexionChang...</td>\n",
       "      <td>1</td>\n",
       "      <td>ThumbPosition.2.0</td>\n",
       "    </tr>\n",
       "    <tr>\n",
       "      <th>4</th>\n",
       "      <td>A_01_002</td>\n",
       "      <td>J_03_046</td>\n",
       "      <td>13</td>\n",
       "      <td>SelectedFingers.2.0, Flexion.2.0, FlexionChang...</td>\n",
       "      <td>0</td>\n",
       "      <td>NaN</td>\n",
       "    </tr>\n",
       "  </tbody>\n",
       "</table>\n",
       "</div>"
      ],
      "text/plain": [
       "     target    source  num_matched_features  \\\n",
       "0  A_01_002  B_01_062                    13   \n",
       "1  A_01_002  C_03_023                    12   \n",
       "2  A_01_002  F_02_088                    12   \n",
       "3  A_01_002  H_03_004                    12   \n",
       "4  A_01_002  J_03_046                    13   \n",
       "\n",
       "                                    matched_features  num_missed_features  \\\n",
       "0  SelectedFingers.2.0, Flexion.2.0, FlexionChang...                    0   \n",
       "1  SelectedFingers.2.0, FlexionChange.2.0, Spread...                    1   \n",
       "2  Flexion.2.0, FlexionChange.2.0, Spread.2.0, Sp...                    1   \n",
       "3  SelectedFingers.2.0, Flexion.2.0, FlexionChang...                    1   \n",
       "4  SelectedFingers.2.0, Flexion.2.0, FlexionChang...                    0   \n",
       "\n",
       "       missed_features  \n",
       "0                  NaN  \n",
       "1          Flexion.2.0  \n",
       "2  SelectedFingers.2.0  \n",
       "3    ThumbPosition.2.0  \n",
       "4                  NaN  "
      ]
     },
     "execution_count": 20,
     "metadata": {},
     "output_type": "execute_result"
    }
   ],
   "source": [
    "# get edges only where source and target nodes belong to a valid community for now. This is to assign them group ids.\n",
    "nodes_in_communities = df_with_groupids['Code'].unique()\n",
    "edges_for_community_nodes_df = edges_df.loc[edges_df['source'].isin(nodes_in_communities) & edges_df['target'].isin(nodes_in_communities)]\n",
    "print(len(edges_for_community_nodes_df['source'].unique()))\n",
    "print(edges_df.shape)\n",
    "print(edges_for_community_nodes_df.shape)\n",
    "edges_for_community_nodes_df.head()"
   ]
  },
  {
   "cell_type": "code",
   "execution_count": 21,
   "metadata": {},
   "outputs": [
    {
     "name": "stdout",
     "output_type": "stream",
     "text": [
      "(2723, 188)\n"
     ]
    },
    {
     "data": {
      "text/html": [
       "<div>\n",
       "<style scoped>\n",
       "    .dataframe tbody tr th:only-of-type {\n",
       "        vertical-align: middle;\n",
       "    }\n",
       "\n",
       "    .dataframe tbody tr th {\n",
       "        vertical-align: top;\n",
       "    }\n",
       "\n",
       "    .dataframe thead th {\n",
       "        text-align: right;\n",
       "    }\n",
       "</style>\n",
       "<table border=\"1\" class=\"dataframe\">\n",
       "  <thead>\n",
       "    <tr style=\"text-align: right;\">\n",
       "      <th></th>\n",
       "      <th>EntryID</th>\n",
       "      <th>LemmaID</th>\n",
       "      <th>Code</th>\n",
       "      <th>Batch</th>\n",
       "      <th>List</th>\n",
       "      <th>Item</th>\n",
       "      <th>YouTube Video</th>\n",
       "      <th>VimeoVideoHTML</th>\n",
       "      <th>VimeoVideo</th>\n",
       "      <th>SubtLexUSLog10WF</th>\n",
       "      <th>...</th>\n",
       "      <th>PhonotacticProbability</th>\n",
       "      <th>Parameter.Neighborhood.Density.2.0</th>\n",
       "      <th>Neighborhood Density 2.0</th>\n",
       "      <th>SignBankAnnotationID</th>\n",
       "      <th>SignBankEnglishTranslations</th>\n",
       "      <th>SignBankLemmaID</th>\n",
       "      <th>SignBankReferenceID</th>\n",
       "      <th>bglm_aoa</th>\n",
       "      <th>empirical_aoa</th>\n",
       "      <th>group_id</th>\n",
       "    </tr>\n",
       "  </thead>\n",
       "  <tbody>\n",
       "    <tr>\n",
       "      <th>0</th>\n",
       "      <td>1_dollar</td>\n",
       "      <td>1_dollar</td>\n",
       "      <td>C_02_025</td>\n",
       "      <td>C</td>\n",
       "      <td>2.0</td>\n",
       "      <td>25.0</td>\n",
       "      <td>&lt;iframe width=\"280\" height=\"158\" src=\"https://...</td>\n",
       "      <td>&lt;iframe src=https://player.vimeo.com/video/345...</td>\n",
       "      <td>https://player.vimeo.com/video/345587917</td>\n",
       "      <td>NaN</td>\n",
       "      <td>...</td>\n",
       "      <td>-0.020</td>\n",
       "      <td>383</td>\n",
       "      <td>0</td>\n",
       "      <td>DOLLAR</td>\n",
       "      <td>bill, cash, dollar, money</td>\n",
       "      <td>1_DOLLAR</td>\n",
       "      <td>1268.0</td>\n",
       "      <td>NaN</td>\n",
       "      <td>NaN</td>\n",
       "      <td>NaN</td>\n",
       "    </tr>\n",
       "    <tr>\n",
       "      <th>1</th>\n",
       "      <td>5_dollars</td>\n",
       "      <td>5_dollars</td>\n",
       "      <td>B_01_062</td>\n",
       "      <td>B</td>\n",
       "      <td>1.0</td>\n",
       "      <td>62.0</td>\n",
       "      <td>&lt;iframe width=\"280\" height=\"158\" src=\"https://...</td>\n",
       "      <td>&lt;iframe src=https://player.vimeo.com/video/344...</td>\n",
       "      <td>https://player.vimeo.com/video/344399314</td>\n",
       "      <td>NaN</td>\n",
       "      <td>...</td>\n",
       "      <td>0.281</td>\n",
       "      <td>190</td>\n",
       "      <td>4</td>\n",
       "      <td>FIVE-DOLLARS</td>\n",
       "      <td>dollar, five dollars, money</td>\n",
       "      <td>5_DOLLAR</td>\n",
       "      <td>2436.0</td>\n",
       "      <td>NaN</td>\n",
       "      <td>NaN</td>\n",
       "      <td>0.0</td>\n",
       "    </tr>\n",
       "    <tr>\n",
       "      <th>2</th>\n",
       "      <td>8_hour</td>\n",
       "      <td>8_hour</td>\n",
       "      <td>C_02_055</td>\n",
       "      <td>C</td>\n",
       "      <td>2.0</td>\n",
       "      <td>55.0</td>\n",
       "      <td>&lt;iframe width=\"280\" height=\"158\" src=\"https://...</td>\n",
       "      <td>&lt;iframe src=\"https://player.vimeo.com/video/34...</td>\n",
       "      <td>https://player.vimeo.com/video/345588916</td>\n",
       "      <td>NaN</td>\n",
       "      <td>...</td>\n",
       "      <td>-0.396</td>\n",
       "      <td>129</td>\n",
       "      <td>0</td>\n",
       "      <td>EIGHT-HOURSneut</td>\n",
       "      <td>eight hours, 8 hours, hour, time</td>\n",
       "      <td>NUMBER-HOURS</td>\n",
       "      <td>2437.0</td>\n",
       "      <td>NaN</td>\n",
       "      <td>NaN</td>\n",
       "      <td>NaN</td>\n",
       "    </tr>\n",
       "    <tr>\n",
       "      <th>3</th>\n",
       "      <td>9_oclock</td>\n",
       "      <td>9_oclock</td>\n",
       "      <td>C_02_080</td>\n",
       "      <td>C</td>\n",
       "      <td>2.0</td>\n",
       "      <td>80.0</td>\n",
       "      <td>&lt;iframe width=\"280\" height=\"158\" src=\"https://...</td>\n",
       "      <td>&lt;iframe src=https://player.vimeo.com/video/345...</td>\n",
       "      <td>https://player.vimeo.com/video/345589804</td>\n",
       "      <td>NaN</td>\n",
       "      <td>...</td>\n",
       "      <td>-0.252</td>\n",
       "      <td>48</td>\n",
       "      <td>4</td>\n",
       "      <td>OCLOCK-NINE</td>\n",
       "      <td>9:00, 9 o'clock, nine o'clock, o'clock, time</td>\n",
       "      <td>OCLOCK-NUMBER</td>\n",
       "      <td>2857.0</td>\n",
       "      <td>NaN</td>\n",
       "      <td>NaN</td>\n",
       "      <td>130.0</td>\n",
       "    </tr>\n",
       "    <tr>\n",
       "      <th>4</th>\n",
       "      <td>a-line_bob</td>\n",
       "      <td>a-line_bob</td>\n",
       "      <td>K_03_127</td>\n",
       "      <td>K</td>\n",
       "      <td>NaN</td>\n",
       "      <td>NaN</td>\n",
       "      <td>NaN</td>\n",
       "      <td>&lt;iframe src=https://player.vimeo.com/video/342...</td>\n",
       "      <td>https://player.vimeo.com/video/342308099</td>\n",
       "      <td>NaN</td>\n",
       "      <td>...</td>\n",
       "      <td>0.089</td>\n",
       "      <td>158</td>\n",
       "      <td>4</td>\n",
       "      <td>NaN</td>\n",
       "      <td>NaN</td>\n",
       "      <td>NaN</td>\n",
       "      <td>NaN</td>\n",
       "      <td>NaN</td>\n",
       "      <td>NaN</td>\n",
       "      <td>169.0</td>\n",
       "    </tr>\n",
       "    <tr>\n",
       "      <th>5</th>\n",
       "      <td>a_little_bit</td>\n",
       "      <td>a_little_bit</td>\n",
       "      <td>H_03_025</td>\n",
       "      <td>H</td>\n",
       "      <td>3.0</td>\n",
       "      <td>25.0</td>\n",
       "      <td>&lt;iframe width=\"280\" height=\"158\" src=\"https://...</td>\n",
       "      <td>&lt;iframe src=https://player.vimeo.com/video/346...</td>\n",
       "      <td>https://player.vimeo.com/video/346887448</td>\n",
       "      <td>NaN</td>\n",
       "      <td>...</td>\n",
       "      <td>-0.758</td>\n",
       "      <td>144</td>\n",
       "      <td>3</td>\n",
       "      <td>A-LITTLE-BIT</td>\n",
       "      <td>a little bit, little, few, minimal, scarce</td>\n",
       "      <td>A-LITTLE-BIT</td>\n",
       "      <td>0.0</td>\n",
       "      <td>NaN</td>\n",
       "      <td>NaN</td>\n",
       "      <td>117.0</td>\n",
       "    </tr>\n",
       "    <tr>\n",
       "      <th>6</th>\n",
       "      <td>abbreviate</td>\n",
       "      <td>abbreviate</td>\n",
       "      <td>G_01_040</td>\n",
       "      <td>G</td>\n",
       "      <td>1.0</td>\n",
       "      <td>40.0</td>\n",
       "      <td>&lt;iframe width=\"280\" height=\"158\" src=\"https://...</td>\n",
       "      <td>&lt;iframe src=https://player.vimeo.com/video/346...</td>\n",
       "      <td>https://player.vimeo.com/video/346610443</td>\n",
       "      <td>0.301</td>\n",
       "      <td>...</td>\n",
       "      <td>-0.065</td>\n",
       "      <td>368</td>\n",
       "      <td>1</td>\n",
       "      <td>SHORT</td>\n",
       "      <td>brief, for a short time, quick, short, shortly</td>\n",
       "      <td>SHORT</td>\n",
       "      <td>252.0</td>\n",
       "      <td>NaN</td>\n",
       "      <td>NaN</td>\n",
       "      <td>242.0</td>\n",
       "    </tr>\n",
       "    <tr>\n",
       "      <th>7</th>\n",
       "      <td>about_1</td>\n",
       "      <td>about</td>\n",
       "      <td>B_02_072</td>\n",
       "      <td>B</td>\n",
       "      <td>2.0</td>\n",
       "      <td>72.0</td>\n",
       "      <td>&lt;iframe width=\"280\" height=\"158\" src=\"https://...</td>\n",
       "      <td>&lt;iframe src=https://player.vimeo.com/video/345...</td>\n",
       "      <td>https://player.vimeo.com/video/345555837</td>\n",
       "      <td>5.268</td>\n",
       "      <td>...</td>\n",
       "      <td>-0.490</td>\n",
       "      <td>129</td>\n",
       "      <td>2</td>\n",
       "      <td>ABOUTix</td>\n",
       "      <td>about, regarding, with reference to</td>\n",
       "      <td>ABOUT</td>\n",
       "      <td>2043.0</td>\n",
       "      <td>NaN</td>\n",
       "      <td>NaN</td>\n",
       "      <td>128.0</td>\n",
       "    </tr>\n",
       "    <tr>\n",
       "      <th>8</th>\n",
       "      <td>about_2</td>\n",
       "      <td>about</td>\n",
       "      <td>B_02_003</td>\n",
       "      <td>B</td>\n",
       "      <td>2.0</td>\n",
       "      <td>3.0</td>\n",
       "      <td>&lt;iframe width=\"280\" height=\"158\" src=\"https://...</td>\n",
       "      <td>&lt;iframe src=https://player.vimeo.com/video/345...</td>\n",
       "      <td>https://player.vimeo.com/video/345536316</td>\n",
       "      <td>5.268</td>\n",
       "      <td>...</td>\n",
       "      <td>-0.421</td>\n",
       "      <td>129</td>\n",
       "      <td>0</td>\n",
       "      <td>ABOUTb</td>\n",
       "      <td>about, regarding, with reference to</td>\n",
       "      <td>ABOUT</td>\n",
       "      <td>2042.0</td>\n",
       "      <td>61.0</td>\n",
       "      <td>35.0</td>\n",
       "      <td>NaN</td>\n",
       "    </tr>\n",
       "    <tr>\n",
       "      <th>9</th>\n",
       "      <td>absolutely_nothing</td>\n",
       "      <td>absolutely_nothing</td>\n",
       "      <td>J_01_027</td>\n",
       "      <td>J</td>\n",
       "      <td>1.0</td>\n",
       "      <td>27.0</td>\n",
       "      <td>&lt;iframe width=\"280\" height=\"158\" src=\"https://...</td>\n",
       "      <td>&lt;iframe src=https://player.vimeo.com/video/346...</td>\n",
       "      <td>https://player.vimeo.com/video/346914407</td>\n",
       "      <td>NaN</td>\n",
       "      <td>...</td>\n",
       "      <td>0.211</td>\n",
       "      <td>232</td>\n",
       "      <td>3</td>\n",
       "      <td>ABSOLUTELY-NOTHING</td>\n",
       "      <td>absolutely nothing, all out, depleted, empty, ...</td>\n",
       "      <td>ABSOLUTELY-NOTHING</td>\n",
       "      <td>2044.0</td>\n",
       "      <td>NaN</td>\n",
       "      <td>NaN</td>\n",
       "      <td>52.0</td>\n",
       "    </tr>\n",
       "    <tr>\n",
       "      <th>10</th>\n",
       "      <td>accent</td>\n",
       "      <td>accent</td>\n",
       "      <td>E_01_073</td>\n",
       "      <td>E</td>\n",
       "      <td>1.0</td>\n",
       "      <td>73.0</td>\n",
       "      <td>&lt;iframe width=\"280\" height=\"158\" src=\"https://...</td>\n",
       "      <td>&lt;iframe src=https://player.vimeo.com/video/346...</td>\n",
       "      <td>https://player.vimeo.com/video/346053390</td>\n",
       "      <td>2.794</td>\n",
       "      <td>...</td>\n",
       "      <td>-0.526</td>\n",
       "      <td>106</td>\n",
       "      <td>1</td>\n",
       "      <td>ACCENT</td>\n",
       "      <td>accent, dialect, language, regional language</td>\n",
       "      <td>ACCENT</td>\n",
       "      <td>584.0</td>\n",
       "      <td>NaN</td>\n",
       "      <td>NaN</td>\n",
       "      <td>NaN</td>\n",
       "    </tr>\n",
       "    <tr>\n",
       "      <th>11</th>\n",
       "      <td>accept</td>\n",
       "      <td>accept</td>\n",
       "      <td>H_02_042</td>\n",
       "      <td>H</td>\n",
       "      <td>2.0</td>\n",
       "      <td>42.0</td>\n",
       "      <td>&lt;iframe width=\"280\" height=\"158\" src=\"https://...</td>\n",
       "      <td>&lt;iframe src=https://player.vimeo.com/video/346...</td>\n",
       "      <td>https://player.vimeo.com/video/346802940</td>\n",
       "      <td>3.430</td>\n",
       "      <td>...</td>\n",
       "      <td>-0.131</td>\n",
       "      <td>140</td>\n",
       "      <td>1</td>\n",
       "      <td>ACCEPT</td>\n",
       "      <td>accept, adopt, agree to, embrace, own, passive...</td>\n",
       "      <td>ACCEPT</td>\n",
       "      <td>2045.0</td>\n",
       "      <td>NaN</td>\n",
       "      <td>NaN</td>\n",
       "      <td>NaN</td>\n",
       "    </tr>\n",
       "    <tr>\n",
       "      <th>12</th>\n",
       "      <td>access</td>\n",
       "      <td>access</td>\n",
       "      <td>H_02_086</td>\n",
       "      <td>H</td>\n",
       "      <td>2.0</td>\n",
       "      <td>86.0</td>\n",
       "      <td>&lt;iframe width=\"280\" height=\"158\" src=\"https://...</td>\n",
       "      <td>&lt;iframe src=https://player.vimeo.com/video/346...</td>\n",
       "      <td>https://player.vimeo.com/video/346883874</td>\n",
       "      <td>3.208</td>\n",
       "      <td>...</td>\n",
       "      <td>0.363</td>\n",
       "      <td>459</td>\n",
       "      <td>6</td>\n",
       "      <td>ACCESS</td>\n",
       "      <td>access, accessible, accessibility, admission, ...</td>\n",
       "      <td>ACCESS</td>\n",
       "      <td>2046.0</td>\n",
       "      <td>NaN</td>\n",
       "      <td>NaN</td>\n",
       "      <td>199.0</td>\n",
       "    </tr>\n",
       "    <tr>\n",
       "      <th>13</th>\n",
       "      <td>accident</td>\n",
       "      <td>accident</td>\n",
       "      <td>B_02_059</td>\n",
       "      <td>B</td>\n",
       "      <td>2.0</td>\n",
       "      <td>59.0</td>\n",
       "      <td>&lt;iframe width=\"280\" height=\"158\" src=\"https://...</td>\n",
       "      <td>&lt;iframe src=https://player.vimeo.com/video/345...</td>\n",
       "      <td>https://player.vimeo.com/video/345555544</td>\n",
       "      <td>3.618</td>\n",
       "      <td>...</td>\n",
       "      <td>0.486</td>\n",
       "      <td>512</td>\n",
       "      <td>1</td>\n",
       "      <td>ACCIDENT</td>\n",
       "      <td>accident, collide, crash, hit, oops, vehicle, ...</td>\n",
       "      <td>ACCIDENT</td>\n",
       "      <td>2047.0</td>\n",
       "      <td>NaN</td>\n",
       "      <td>NaN</td>\n",
       "      <td>125.0</td>\n",
       "    </tr>\n",
       "    <tr>\n",
       "      <th>14</th>\n",
       "      <td>accomplish</td>\n",
       "      <td>accomplish</td>\n",
       "      <td>C_02_085</td>\n",
       "      <td>C</td>\n",
       "      <td>2.0</td>\n",
       "      <td>85.0</td>\n",
       "      <td>&lt;iframe width=\"280\" height=\"158\" src=\"https://...</td>\n",
       "      <td>&lt;iframe src=https://player.vimeo.com/video/345...</td>\n",
       "      <td>https://player.vimeo.com/video/345590018</td>\n",
       "      <td>2.476</td>\n",
       "      <td>...</td>\n",
       "      <td>-0.343</td>\n",
       "      <td>469</td>\n",
       "      <td>0</td>\n",
       "      <td>SUCCEED</td>\n",
       "      <td>accomplish, at last, effective, finally, pah, ...</td>\n",
       "      <td>ACCOMPLISH</td>\n",
       "      <td>453.0</td>\n",
       "      <td>NaN</td>\n",
       "      <td>NaN</td>\n",
       "      <td>167.0</td>\n",
       "    </tr>\n",
       "    <tr>\n",
       "      <th>15</th>\n",
       "      <td>accordion</td>\n",
       "      <td>accordion</td>\n",
       "      <td>F_02_048</td>\n",
       "      <td>F</td>\n",
       "      <td>2.0</td>\n",
       "      <td>48.0</td>\n",
       "      <td>&lt;iframe width=\"280\" height=\"158\" src=\"https://...</td>\n",
       "      <td>&lt;iframe src=https://player.vimeo.com/video/346...</td>\n",
       "      <td>https://player.vimeo.com/video/346495091</td>\n",
       "      <td>1.833</td>\n",
       "      <td>...</td>\n",
       "      <td>-0.065</td>\n",
       "      <td>524</td>\n",
       "      <td>7</td>\n",
       "      <td>ACCORDION</td>\n",
       "      <td>accordion, musical instrument</td>\n",
       "      <td>ACCORDION</td>\n",
       "      <td>3331.0</td>\n",
       "      <td>NaN</td>\n",
       "      <td>NaN</td>\n",
       "      <td>41.0</td>\n",
       "    </tr>\n",
       "    <tr>\n",
       "      <th>16</th>\n",
       "      <td>accountant</td>\n",
       "      <td>accountant</td>\n",
       "      <td>A_03_044</td>\n",
       "      <td>A</td>\n",
       "      <td>3.0</td>\n",
       "      <td>44.0</td>\n",
       "      <td>&lt;iframe width=\"280\" height=\"158\" src=\"https://...</td>\n",
       "      <td>&lt;iframe src=https://player.vimeo.com/video/344...</td>\n",
       "      <td>https://player.vimeo.com/video/344228699</td>\n",
       "      <td>2.500</td>\n",
       "      <td>...</td>\n",
       "      <td>-0.261</td>\n",
       "      <td>397</td>\n",
       "      <td>6</td>\n",
       "      <td>ACCOUNTANT</td>\n",
       "      <td>accountant, count, money, person</td>\n",
       "      <td>ACCOUNTANT</td>\n",
       "      <td>2439.0</td>\n",
       "      <td>NaN</td>\n",
       "      <td>NaN</td>\n",
       "      <td>87.0</td>\n",
       "    </tr>\n",
       "    <tr>\n",
       "      <th>17</th>\n",
       "      <td>acquire</td>\n",
       "      <td>acquire</td>\n",
       "      <td>H_01_034</td>\n",
       "      <td>H</td>\n",
       "      <td>1.0</td>\n",
       "      <td>34.0</td>\n",
       "      <td>&lt;iframe width=\"280\" height=\"158\" src=\"https://...</td>\n",
       "      <td>&lt;iframe src=https://player.vimeo.com/video/346...</td>\n",
       "      <td>https://player.vimeo.com/video/346791147</td>\n",
       "      <td>2.134</td>\n",
       "      <td>...</td>\n",
       "      <td>-0.191</td>\n",
       "      <td>449</td>\n",
       "      <td>3</td>\n",
       "      <td>ACQUIRE</td>\n",
       "      <td>acquire, acquisition, pick up</td>\n",
       "      <td>ACQUIRE</td>\n",
       "      <td>2048.0</td>\n",
       "      <td>NaN</td>\n",
       "      <td>NaN</td>\n",
       "      <td>168.0</td>\n",
       "    </tr>\n",
       "    <tr>\n",
       "      <th>18</th>\n",
       "      <td>act</td>\n",
       "      <td>act</td>\n",
       "      <td>B_02_038</td>\n",
       "      <td>B</td>\n",
       "      <td>2.0</td>\n",
       "      <td>38.0</td>\n",
       "      <td>&lt;iframe width=\"280\" height=\"158\" src=\"https://...</td>\n",
       "      <td>&lt;iframe src=https://player.vimeo.com/video/345...</td>\n",
       "      <td>https://player.vimeo.com/video/345537677</td>\n",
       "      <td>3.746</td>\n",
       "      <td>...</td>\n",
       "      <td>-0.929</td>\n",
       "      <td>58</td>\n",
       "      <td>8</td>\n",
       "      <td>ACT</td>\n",
       "      <td>act, drama, perform, performance, put on a pla...</td>\n",
       "      <td>ACT</td>\n",
       "      <td>5.0</td>\n",
       "      <td>NaN</td>\n",
       "      <td>NaN</td>\n",
       "      <td>60.0</td>\n",
       "    </tr>\n",
       "    <tr>\n",
       "      <th>19</th>\n",
       "      <td>action</td>\n",
       "      <td>action</td>\n",
       "      <td>C_01_026</td>\n",
       "      <td>C</td>\n",
       "      <td>1.0</td>\n",
       "      <td>26.0</td>\n",
       "      <td>&lt;iframe width=\"280\" height=\"158\" src=\"https://...</td>\n",
       "      <td>&lt;iframe src=https://player.vimeo.com/video/345...</td>\n",
       "      <td>https://player.vimeo.com/video/345577398</td>\n",
       "      <td>3.494</td>\n",
       "      <td>...</td>\n",
       "      <td>0.390</td>\n",
       "      <td>126</td>\n",
       "      <td>2</td>\n",
       "      <td>ACTION</td>\n",
       "      <td>act, action, activity, behavior, do, event</td>\n",
       "      <td>ACTION</td>\n",
       "      <td>2440.0</td>\n",
       "      <td>NaN</td>\n",
       "      <td>NaN</td>\n",
       "      <td>2.0</td>\n",
       "    </tr>\n",
       "  </tbody>\n",
       "</table>\n",
       "<p>20 rows × 188 columns</p>\n",
       "</div>"
      ],
      "text/plain": [
       "               EntryID             LemmaID      Code Batch  List  Item  \\\n",
       "0             1_dollar            1_dollar  C_02_025     C   2.0  25.0   \n",
       "1            5_dollars           5_dollars  B_01_062     B   1.0  62.0   \n",
       "2               8_hour              8_hour  C_02_055     C   2.0  55.0   \n",
       "3             9_oclock            9_oclock  C_02_080     C   2.0  80.0   \n",
       "4           a-line_bob          a-line_bob  K_03_127     K   NaN   NaN   \n",
       "5         a_little_bit        a_little_bit  H_03_025     H   3.0  25.0   \n",
       "6           abbreviate          abbreviate  G_01_040     G   1.0  40.0   \n",
       "7              about_1               about  B_02_072     B   2.0  72.0   \n",
       "8              about_2               about  B_02_003     B   2.0   3.0   \n",
       "9   absolutely_nothing  absolutely_nothing  J_01_027     J   1.0  27.0   \n",
       "10              accent              accent  E_01_073     E   1.0  73.0   \n",
       "11              accept              accept  H_02_042     H   2.0  42.0   \n",
       "12              access              access  H_02_086     H   2.0  86.0   \n",
       "13            accident            accident  B_02_059     B   2.0  59.0   \n",
       "14          accomplish          accomplish  C_02_085     C   2.0  85.0   \n",
       "15           accordion           accordion  F_02_048     F   2.0  48.0   \n",
       "16          accountant          accountant  A_03_044     A   3.0  44.0   \n",
       "17             acquire             acquire  H_01_034     H   1.0  34.0   \n",
       "18                 act                 act  B_02_038     B   2.0  38.0   \n",
       "19              action              action  C_01_026     C   1.0  26.0   \n",
       "\n",
       "                                        YouTube Video  \\\n",
       "0   <iframe width=\"280\" height=\"158\" src=\"https://...   \n",
       "1   <iframe width=\"280\" height=\"158\" src=\"https://...   \n",
       "2   <iframe width=\"280\" height=\"158\" src=\"https://...   \n",
       "3   <iframe width=\"280\" height=\"158\" src=\"https://...   \n",
       "4                                                 NaN   \n",
       "5   <iframe width=\"280\" height=\"158\" src=\"https://...   \n",
       "6   <iframe width=\"280\" height=\"158\" src=\"https://...   \n",
       "7   <iframe width=\"280\" height=\"158\" src=\"https://...   \n",
       "8   <iframe width=\"280\" height=\"158\" src=\"https://...   \n",
       "9   <iframe width=\"280\" height=\"158\" src=\"https://...   \n",
       "10  <iframe width=\"280\" height=\"158\" src=\"https://...   \n",
       "11  <iframe width=\"280\" height=\"158\" src=\"https://...   \n",
       "12  <iframe width=\"280\" height=\"158\" src=\"https://...   \n",
       "13  <iframe width=\"280\" height=\"158\" src=\"https://...   \n",
       "14  <iframe width=\"280\" height=\"158\" src=\"https://...   \n",
       "15  <iframe width=\"280\" height=\"158\" src=\"https://...   \n",
       "16  <iframe width=\"280\" height=\"158\" src=\"https://...   \n",
       "17  <iframe width=\"280\" height=\"158\" src=\"https://...   \n",
       "18  <iframe width=\"280\" height=\"158\" src=\"https://...   \n",
       "19  <iframe width=\"280\" height=\"158\" src=\"https://...   \n",
       "\n",
       "                                       VimeoVideoHTML  \\\n",
       "0   <iframe src=https://player.vimeo.com/video/345...   \n",
       "1   <iframe src=https://player.vimeo.com/video/344...   \n",
       "2   <iframe src=\"https://player.vimeo.com/video/34...   \n",
       "3   <iframe src=https://player.vimeo.com/video/345...   \n",
       "4   <iframe src=https://player.vimeo.com/video/342...   \n",
       "5   <iframe src=https://player.vimeo.com/video/346...   \n",
       "6   <iframe src=https://player.vimeo.com/video/346...   \n",
       "7   <iframe src=https://player.vimeo.com/video/345...   \n",
       "8   <iframe src=https://player.vimeo.com/video/345...   \n",
       "9   <iframe src=https://player.vimeo.com/video/346...   \n",
       "10  <iframe src=https://player.vimeo.com/video/346...   \n",
       "11  <iframe src=https://player.vimeo.com/video/346...   \n",
       "12  <iframe src=https://player.vimeo.com/video/346...   \n",
       "13  <iframe src=https://player.vimeo.com/video/345...   \n",
       "14  <iframe src=https://player.vimeo.com/video/345...   \n",
       "15  <iframe src=https://player.vimeo.com/video/346...   \n",
       "16  <iframe src=https://player.vimeo.com/video/344...   \n",
       "17  <iframe src=https://player.vimeo.com/video/346...   \n",
       "18  <iframe src=https://player.vimeo.com/video/345...   \n",
       "19  <iframe src=https://player.vimeo.com/video/345...   \n",
       "\n",
       "                                  VimeoVideo  SubtLexUSLog10WF  ...  \\\n",
       "0   https://player.vimeo.com/video/345587917               NaN  ...   \n",
       "1   https://player.vimeo.com/video/344399314               NaN  ...   \n",
       "2   https://player.vimeo.com/video/345588916               NaN  ...   \n",
       "3   https://player.vimeo.com/video/345589804               NaN  ...   \n",
       "4   https://player.vimeo.com/video/342308099               NaN  ...   \n",
       "5   https://player.vimeo.com/video/346887448               NaN  ...   \n",
       "6   https://player.vimeo.com/video/346610443             0.301  ...   \n",
       "7   https://player.vimeo.com/video/345555837             5.268  ...   \n",
       "8   https://player.vimeo.com/video/345536316             5.268  ...   \n",
       "9   https://player.vimeo.com/video/346914407               NaN  ...   \n",
       "10  https://player.vimeo.com/video/346053390             2.794  ...   \n",
       "11  https://player.vimeo.com/video/346802940             3.430  ...   \n",
       "12  https://player.vimeo.com/video/346883874             3.208  ...   \n",
       "13  https://player.vimeo.com/video/345555544             3.618  ...   \n",
       "14  https://player.vimeo.com/video/345590018             2.476  ...   \n",
       "15  https://player.vimeo.com/video/346495091             1.833  ...   \n",
       "16  https://player.vimeo.com/video/344228699             2.500  ...   \n",
       "17  https://player.vimeo.com/video/346791147             2.134  ...   \n",
       "18  https://player.vimeo.com/video/345537677             3.746  ...   \n",
       "19  https://player.vimeo.com/video/345577398             3.494  ...   \n",
       "\n",
       "    PhonotacticProbability  Parameter.Neighborhood.Density.2.0  \\\n",
       "0                   -0.020                                 383   \n",
       "1                    0.281                                 190   \n",
       "2                   -0.396                                 129   \n",
       "3                   -0.252                                  48   \n",
       "4                    0.089                                 158   \n",
       "5                   -0.758                                 144   \n",
       "6                   -0.065                                 368   \n",
       "7                   -0.490                                 129   \n",
       "8                   -0.421                                 129   \n",
       "9                    0.211                                 232   \n",
       "10                  -0.526                                 106   \n",
       "11                  -0.131                                 140   \n",
       "12                   0.363                                 459   \n",
       "13                   0.486                                 512   \n",
       "14                  -0.343                                 469   \n",
       "15                  -0.065                                 524   \n",
       "16                  -0.261                                 397   \n",
       "17                  -0.191                                 449   \n",
       "18                  -0.929                                  58   \n",
       "19                   0.390                                 126   \n",
       "\n",
       "    Neighborhood Density 2.0  SignBankAnnotationID  \\\n",
       "0                          0                DOLLAR   \n",
       "1                          4          FIVE-DOLLARS   \n",
       "2                          0       EIGHT-HOURSneut   \n",
       "3                          4           OCLOCK-NINE   \n",
       "4                          4                   NaN   \n",
       "5                          3          A-LITTLE-BIT   \n",
       "6                          1                 SHORT   \n",
       "7                          2               ABOUTix   \n",
       "8                          0                ABOUTb   \n",
       "9                          3    ABSOLUTELY-NOTHING   \n",
       "10                         1                ACCENT   \n",
       "11                         1                ACCEPT   \n",
       "12                         6                ACCESS   \n",
       "13                         1              ACCIDENT   \n",
       "14                         0               SUCCEED   \n",
       "15                         7             ACCORDION   \n",
       "16                         6            ACCOUNTANT   \n",
       "17                         3               ACQUIRE   \n",
       "18                         8                   ACT   \n",
       "19                         2                ACTION   \n",
       "\n",
       "                          SignBankEnglishTranslations     SignBankLemmaID  \\\n",
       "0                           bill, cash, dollar, money            1_DOLLAR   \n",
       "1                         dollar, five dollars, money            5_DOLLAR   \n",
       "2                    eight hours, 8 hours, hour, time        NUMBER-HOURS   \n",
       "3        9:00, 9 o'clock, nine o'clock, o'clock, time       OCLOCK-NUMBER   \n",
       "4                                                 NaN                 NaN   \n",
       "5          a little bit, little, few, minimal, scarce        A-LITTLE-BIT   \n",
       "6      brief, for a short time, quick, short, shortly               SHORT   \n",
       "7                 about, regarding, with reference to               ABOUT   \n",
       "8                 about, regarding, with reference to               ABOUT   \n",
       "9   absolutely nothing, all out, depleted, empty, ...  ABSOLUTELY-NOTHING   \n",
       "10       accent, dialect, language, regional language              ACCENT   \n",
       "11  accept, adopt, agree to, embrace, own, passive...              ACCEPT   \n",
       "12  access, accessible, accessibility, admission, ...              ACCESS   \n",
       "13  accident, collide, crash, hit, oops, vehicle, ...            ACCIDENT   \n",
       "14  accomplish, at last, effective, finally, pah, ...          ACCOMPLISH   \n",
       "15                      accordion, musical instrument           ACCORDION   \n",
       "16                   accountant, count, money, person          ACCOUNTANT   \n",
       "17                      acquire, acquisition, pick up             ACQUIRE   \n",
       "18  act, drama, perform, performance, put on a pla...                 ACT   \n",
       "19         act, action, activity, behavior, do, event              ACTION   \n",
       "\n",
       "    SignBankReferenceID  bglm_aoa  empirical_aoa  group_id  \n",
       "0                1268.0       NaN            NaN       NaN  \n",
       "1                2436.0       NaN            NaN       0.0  \n",
       "2                2437.0       NaN            NaN       NaN  \n",
       "3                2857.0       NaN            NaN     130.0  \n",
       "4                   NaN       NaN            NaN     169.0  \n",
       "5                   0.0       NaN            NaN     117.0  \n",
       "6                 252.0       NaN            NaN     242.0  \n",
       "7                2043.0       NaN            NaN     128.0  \n",
       "8                2042.0      61.0           35.0       NaN  \n",
       "9                2044.0       NaN            NaN      52.0  \n",
       "10                584.0       NaN            NaN       NaN  \n",
       "11               2045.0       NaN            NaN       NaN  \n",
       "12               2046.0       NaN            NaN     199.0  \n",
       "13               2047.0       NaN            NaN     125.0  \n",
       "14                453.0       NaN            NaN     167.0  \n",
       "15               3331.0       NaN            NaN      41.0  \n",
       "16               2439.0       NaN            NaN      87.0  \n",
       "17               2048.0       NaN            NaN     168.0  \n",
       "18                  5.0       NaN            NaN      60.0  \n",
       "19               2440.0       NaN            NaN       2.0  \n",
       "\n",
       "[20 rows x 188 columns]"
      ]
     },
     "execution_count": 21,
     "metadata": {},
     "output_type": "execute_result"
    }
   ],
   "source": [
    "\n",
    "df_merged = pd.merge(df_default, df_with_groupids,how='left', on=['Code'])\n",
    "print(df_merged.shape)\n",
    "# print(df_merged.columns.values)\n",
    "df_merged.head(20)"
   ]
  },
  {
   "cell_type": "code",
   "execution_count": 22,
   "metadata": {},
   "outputs": [
    {
     "name": "stdout",
     "output_type": "stream",
     "text": [
      "0       1000.0\n",
      "1          0.0\n",
      "2       1000.0\n",
      "3        130.0\n",
      "4        169.0\n",
      "         ...  \n",
      "2718      17.0\n",
      "2719    1000.0\n",
      "2720       9.0\n",
      "2721    1000.0\n",
      "2722    1000.0\n",
      "Name: group_id, Length: 2723, dtype: float64\n"
     ]
    },
    {
     "data": {
      "text/plain": [
       "array([1000.,    0.,  130.,  169.,  117.,  242.,  128.,   52.,  199.,\n",
       "        125.,  167.,   41.,   87.,  168.,   60.,    2.,   12.,  177.,\n",
       "        256.,  103.,   86.,  127.,   10.,    4.,    9.,   64.,  178.,\n",
       "         17.,   77.,  197.,   55.,  146.,  139.,   97.,   89.,  101.,\n",
       "         92.,   13.,   24.,  180.,  141.,   81.,  154.,   59.,   38.,\n",
       "        171.,   29.,   21.,    1.,   45.,   51.,  193.,  100.,  152.,\n",
       "         82.,  121.,  196.,  232.,   94.,   33.,  251.,  109.,  120.,\n",
       "         69.,  115.,  215.,  216.,  188.,  259.,   36.,  147.,   88.,\n",
       "         27.,  274.,   44.,   99.,  250.,  198.,   95.,   16.,  240.,\n",
       "         49.,  156.,  144.,   65.,  228.,   22.,  165.,  214.,   28.,\n",
       "         85.,   66.,  110.,  131.,   32.,   56.,   18.,    5.,  272.,\n",
       "         11.,   90.,   19.,   15.,  126.,   72.,  163.,    8.,  134.,\n",
       "         23.,   68.,    3.,  223.,   40.,  179.,  217.,  210.,   47.,\n",
       "        207.,  150.,  191.,   20.,  123.,  267.,  208.,   37.,  189.,\n",
       "        175.,   70.,  157.,  118.,  183.,  238.,  213.,  212.,  113.,\n",
       "        260.,  124.,   42.,  268.,  235.,   71.,  155.,    7.,  151.,\n",
       "        132.,   43.,  248.,   46.,  255.,   79.,   30.,  231.,   50.,\n",
       "        241.,   34.,  229.,  119.,  176.,  149.,   76.,  202.,  112.,\n",
       "        205.,  143.,  122.,  237.,  185.,  263.,   78.,  243.,  261.,\n",
       "        257.,  226.,   62.,  148.,  164.,  158.,  105.,  269.,  225.,\n",
       "        209.,  201.,   98.,  173.,  181.,  211.,  222.,  116.,  206.,\n",
       "         54.,  142.,  172.,  265.,  252.,   53.,  234.,   26.,  166.,\n",
       "        224.,  273.,  219.,   39.,  162.,  136.,   73.,  244.,  220.,\n",
       "        102.,  236.,  227.,  133.,  246.,   63.,  192.,  140.,  247.,\n",
       "        153.,  184.,  200.,   74.,   48.,   35.,  182.,  160.,  159.,\n",
       "        161.,  194.,   93.,  107.,  245.,  270.,   83.,  111.,  190.,\n",
       "         84.,  249.,   96.,   25.,  271.,  104.,  258.,  174.,   80.,\n",
       "        204.,  262.,   31.,  170.,   14.,   57.,   91.,  108.,  253.,\n",
       "         58.,  135.,   75.,  264.,  230.,  239.,  221.,  187.,  233.,\n",
       "        254.,  129.,  186.,  137.,  218.,  145.,  114.,  195.,   61.,\n",
       "        203.,    6.,  138.,   67.,  106.,  266.])"
      ]
     },
     "execution_count": 22,
     "metadata": {},
     "output_type": "execute_result"
    }
   ],
   "source": [
    "values = {'group_id': 1000}\n",
    "df_merged = df_merged.fillna(value=values)\n",
    "\n",
    "print(df_merged['group_id'])\n",
    "unique_community_ids = df_merged['group_id'].unique()\n",
    "unique_community_ids"
   ]
  },
  {
   "cell_type": "code",
   "execution_count": 23,
   "metadata": {},
   "outputs": [
    {
     "data": {
      "text/plain": [
       "[{'group_id': 1000, 'color_code': '#816139'},\n",
       " {'group_id': 0.0, 'color_code': '#273900'},\n",
       " {'group_id': 130.0, 'color_code': '#f644de'},\n",
       " {'group_id': 169.0, 'color_code': '#4a6838'},\n",
       " {'group_id': 117.0, 'color_code': '#6deeff'},\n",
       " {'group_id': 242.0, 'color_code': '#fd77a8'},\n",
       " {'group_id': 128.0, 'color_code': '#8064fa'},\n",
       " {'group_id': 52.0, 'color_code': '#dcc06b'},\n",
       " {'group_id': 199.0, 'color_code': '#82f9ac'},\n",
       " {'group_id': 125.0, 'color_code': '#d90903'},\n",
       " {'group_id': 167.0, 'color_code': '#dbeba1'},\n",
       " {'group_id': 41.0, 'color_code': '#477dd9'},\n",
       " {'group_id': 87.0, 'color_code': '#a4dbc4'},\n",
       " {'group_id': 168.0, 'color_code': '#b761d7'},\n",
       " {'group_id': 60.0, 'color_code': '#43adc0'},\n",
       " {'group_id': 2.0, 'color_code': '#227623'},\n",
       " {'group_id': 12.0, 'color_code': '#9febf9'},\n",
       " {'group_id': 177.0, 'color_code': '#f2e13c'},\n",
       " {'group_id': 256.0, 'color_code': '#55d03d'},\n",
       " {'group_id': 103.0, 'color_code': '#94289c'},\n",
       " {'group_id': 86.0, 'color_code': '#d568dd'},\n",
       " {'group_id': 127.0, 'color_code': '#8ffbb7'},\n",
       " {'group_id': 10.0, 'color_code': '#eb50dd'},\n",
       " {'group_id': 4.0, 'color_code': '#bf010d'},\n",
       " {'group_id': 9.0, 'color_code': '#8e6ccd'},\n",
       " {'group_id': 64.0, 'color_code': '#e8a718'},\n",
       " {'group_id': 178.0, 'color_code': '#5bd30e'},\n",
       " {'group_id': 17.0, 'color_code': '#4c8b06'},\n",
       " {'group_id': 77.0, 'color_code': '#cc5c11'},\n",
       " {'group_id': 197.0, 'color_code': '#bc4876'},\n",
       " {'group_id': 55.0, 'color_code': '#45c594'},\n",
       " {'group_id': 146.0, 'color_code': '#a3711f'},\n",
       " {'group_id': 139.0, 'color_code': '#b099e8'},\n",
       " {'group_id': 97.0, 'color_code': '#dc78d5'},\n",
       " {'group_id': 89.0, 'color_code': '#60697e'},\n",
       " {'group_id': 101.0, 'color_code': '#8b849c'},\n",
       " {'group_id': 92.0, 'color_code': '#733884'},\n",
       " {'group_id': 13.0, 'color_code': '#158b55'},\n",
       " {'group_id': 24.0, 'color_code': '#fdaebe'},\n",
       " {'group_id': 180.0, 'color_code': '#2a22e5'},\n",
       " {'group_id': 141.0, 'color_code': '#17ab6c'},\n",
       " {'group_id': 81.0, 'color_code': '#ceb7e1'},\n",
       " {'group_id': 154.0, 'color_code': '#305af2'},\n",
       " {'group_id': 59.0, 'color_code': '#991650'},\n",
       " {'group_id': 38.0, 'color_code': '#ad0a36'},\n",
       " {'group_id': 171.0, 'color_code': '#d34fe7'},\n",
       " {'group_id': 29.0, 'color_code': '#dbe0b6'},\n",
       " {'group_id': 21.0, 'color_code': '#494f77'},\n",
       " {'group_id': 1.0, 'color_code': '#9c8543'},\n",
       " {'group_id': 45.0, 'color_code': '#32d439'},\n",
       " {'group_id': 51.0, 'color_code': '#02b3b5'},\n",
       " {'group_id': 193.0, 'color_code': '#a25999'},\n",
       " {'group_id': 100.0, 'color_code': '#8eea3e'},\n",
       " {'group_id': 152.0, 'color_code': '#bf343c'},\n",
       " {'group_id': 82.0, 'color_code': '#4be180'},\n",
       " {'group_id': 121.0, 'color_code': '#034a4c'},\n",
       " {'group_id': 196.0, 'color_code': '#b7b231'},\n",
       " {'group_id': 232.0, 'color_code': '#afc186'},\n",
       " {'group_id': 94.0, 'color_code': '#690bc7'},\n",
       " {'group_id': 33.0, 'color_code': '#a3214a'},\n",
       " {'group_id': 251.0, 'color_code': '#51bd8f'},\n",
       " {'group_id': 109.0, 'color_code': '#b1d60b'},\n",
       " {'group_id': 120.0, 'color_code': '#34b91f'},\n",
       " {'group_id': 69.0, 'color_code': '#422222'},\n",
       " {'group_id': 115.0, 'color_code': '#5318f1'},\n",
       " {'group_id': 215.0, 'color_code': '#302b44'},\n",
       " {'group_id': 216.0, 'color_code': '#6e80ad'},\n",
       " {'group_id': 188.0, 'color_code': '#7a3cbd'},\n",
       " {'group_id': 259.0, 'color_code': '#139751'},\n",
       " {'group_id': 36.0, 'color_code': '#1d957a'},\n",
       " {'group_id': 147.0, 'color_code': '#2890b1'},\n",
       " {'group_id': 88.0, 'color_code': '#79227f'},\n",
       " {'group_id': 27.0, 'color_code': '#bb6d13'},\n",
       " {'group_id': 274.0, 'color_code': '#2bcb82'},\n",
       " {'group_id': 44.0, 'color_code': '#8232be'},\n",
       " {'group_id': 99.0, 'color_code': '#50f181'},\n",
       " {'group_id': 250.0, 'color_code': '#f58dc6'},\n",
       " {'group_id': 198.0, 'color_code': '#245bed'},\n",
       " {'group_id': 95.0, 'color_code': '#1b4fb8'},\n",
       " {'group_id': 16.0, 'color_code': '#9b92af'},\n",
       " {'group_id': 240.0, 'color_code': '#8ead11'},\n",
       " {'group_id': 49.0, 'color_code': '#bae796'},\n",
       " {'group_id': 156.0, 'color_code': '#ee7671'},\n",
       " {'group_id': 144.0, 'color_code': '#8f81c3'},\n",
       " {'group_id': 65.0, 'color_code': '#de8ef7'},\n",
       " {'group_id': 228.0, 'color_code': '#51e14f'},\n",
       " {'group_id': 22.0, 'color_code': '#a59155'},\n",
       " {'group_id': 165.0, 'color_code': '#4b6faa'},\n",
       " {'group_id': 214.0, 'color_code': '#ec689d'},\n",
       " {'group_id': 28.0, 'color_code': '#50b0da'},\n",
       " {'group_id': 85.0, 'color_code': '#7c2f0e'},\n",
       " {'group_id': 66.0, 'color_code': '#8191e7'},\n",
       " {'group_id': 110.0, 'color_code': '#77f186'},\n",
       " {'group_id': 131.0, 'color_code': '#c31679'},\n",
       " {'group_id': 32.0, 'color_code': '#56f388'},\n",
       " {'group_id': 56.0, 'color_code': '#a66f4f'},\n",
       " {'group_id': 18.0, 'color_code': '#d7c25a'},\n",
       " {'group_id': 5.0, 'color_code': '#abf507'},\n",
       " {'group_id': 272.0, 'color_code': '#3234e1'},\n",
       " {'group_id': 11.0, 'color_code': '#9c7198'},\n",
       " {'group_id': 90.0, 'color_code': '#c3e16b'},\n",
       " {'group_id': 19.0, 'color_code': '#986b64'},\n",
       " {'group_id': 15.0, 'color_code': '#77cf8f'},\n",
       " {'group_id': 126.0, 'color_code': '#97462c'},\n",
       " {'group_id': 72.0, 'color_code': '#1ced00'},\n",
       " {'group_id': 163.0, 'color_code': '#ecebc4'},\n",
       " {'group_id': 8.0, 'color_code': '#568fd5'},\n",
       " {'group_id': 134.0, 'color_code': '#ee8e6c'},\n",
       " {'group_id': 23.0, 'color_code': '#699392'},\n",
       " {'group_id': 68.0, 'color_code': '#e5da9b'},\n",
       " {'group_id': 3.0, 'color_code': '#a7b825'},\n",
       " {'group_id': 223.0, 'color_code': '#f7a78c'},\n",
       " {'group_id': 40.0, 'color_code': '#4bec8a'},\n",
       " {'group_id': 179.0, 'color_code': '#2629ae'},\n",
       " {'group_id': 217.0, 'color_code': '#3568b0'},\n",
       " {'group_id': 210.0, 'color_code': '#7b7d34'},\n",
       " {'group_id': 47.0, 'color_code': '#fc2e9b'},\n",
       " {'group_id': 207.0, 'color_code': '#1f81f0'},\n",
       " {'group_id': 150.0, 'color_code': '#f364e2'},\n",
       " {'group_id': 191.0, 'color_code': '#0318ab'},\n",
       " {'group_id': 20.0, 'color_code': '#e74a28'},\n",
       " {'group_id': 123.0, 'color_code': '#ffd7fe'},\n",
       " {'group_id': 267.0, 'color_code': '#27f7a2'},\n",
       " {'group_id': 208.0, 'color_code': '#e70f1c'},\n",
       " {'group_id': 37.0, 'color_code': '#39bb93'},\n",
       " {'group_id': 189.0, 'color_code': '#8a424c'},\n",
       " {'group_id': 175.0, 'color_code': '#9d6bba'},\n",
       " {'group_id': 70.0, 'color_code': '#748e8b'},\n",
       " {'group_id': 157.0, 'color_code': '#090a37'},\n",
       " {'group_id': 118.0, 'color_code': '#ac8c3a'},\n",
       " {'group_id': 183.0, 'color_code': '#4d2849'},\n",
       " {'group_id': 238.0, 'color_code': '#333574'},\n",
       " {'group_id': 213.0, 'color_code': '#d15746'},\n",
       " {'group_id': 212.0, 'color_code': '#4d2b21'},\n",
       " {'group_id': 113.0, 'color_code': '#74d6ff'},\n",
       " {'group_id': 260.0, 'color_code': '#d0a997'},\n",
       " {'group_id': 124.0, 'color_code': '#9e60e1'},\n",
       " {'group_id': 42.0, 'color_code': '#7a3b1b'},\n",
       " {'group_id': 268.0, 'color_code': '#56d81a'},\n",
       " {'group_id': 235.0, 'color_code': '#4282f0'},\n",
       " {'group_id': 71.0, 'color_code': '#9cb83c'},\n",
       " {'group_id': 155.0, 'color_code': '#bb95e5'},\n",
       " {'group_id': 7.0, 'color_code': '#e87287'},\n",
       " {'group_id': 151.0, 'color_code': '#e24651'},\n",
       " {'group_id': 132.0, 'color_code': '#554c58'},\n",
       " {'group_id': 43.0, 'color_code': '#9decae'},\n",
       " {'group_id': 248.0, 'color_code': '#19c419'},\n",
       " {'group_id': 46.0, 'color_code': '#59817b'},\n",
       " {'group_id': 255.0, 'color_code': '#dc3447'},\n",
       " {'group_id': 79.0, 'color_code': '#b51edd'},\n",
       " {'group_id': 30.0, 'color_code': '#096a21'},\n",
       " {'group_id': 231.0, 'color_code': '#e53c4b'},\n",
       " {'group_id': 50.0, 'color_code': '#ac2fc1'},\n",
       " {'group_id': 241.0, 'color_code': '#6d08fd'},\n",
       " {'group_id': 34.0, 'color_code': '#efcd89'},\n",
       " {'group_id': 229.0, 'color_code': '#f70089'},\n",
       " {'group_id': 119.0, 'color_code': '#670558'},\n",
       " {'group_id': 176.0, 'color_code': '#122471'},\n",
       " {'group_id': 149.0, 'color_code': '#4928ff'},\n",
       " {'group_id': 76.0, 'color_code': '#16c06d'},\n",
       " {'group_id': 202.0, 'color_code': '#105482'},\n",
       " {'group_id': 112.0, 'color_code': '#09af6b'},\n",
       " {'group_id': 205.0, 'color_code': '#c5b494'},\n",
       " {'group_id': 143.0, 'color_code': '#583b20'},\n",
       " {'group_id': 122.0, 'color_code': '#b15f7d'},\n",
       " {'group_id': 237.0, 'color_code': '#fa66f1'},\n",
       " {'group_id': 185.0, 'color_code': '#34975c'},\n",
       " {'group_id': 263.0, 'color_code': '#d75fa9'},\n",
       " {'group_id': 78.0, 'color_code': '#3e00ad'},\n",
       " {'group_id': 243.0, 'color_code': '#068a2d'},\n",
       " {'group_id': 261.0, 'color_code': '#433e41'},\n",
       " {'group_id': 257.0, 'color_code': '#0d7a91'},\n",
       " {'group_id': 226.0, 'color_code': '#f7126a'},\n",
       " {'group_id': 62.0, 'color_code': '#07e43a'},\n",
       " {'group_id': 148.0, 'color_code': '#9cf054'},\n",
       " {'group_id': 164.0, 'color_code': '#40c55e'},\n",
       " {'group_id': 158.0, 'color_code': '#25da6f'},\n",
       " {'group_id': 105.0, 'color_code': '#f402a9'},\n",
       " {'group_id': 269.0, 'color_code': '#06050a'},\n",
       " {'group_id': 225.0, 'color_code': '#a39659'},\n",
       " {'group_id': 209.0, 'color_code': '#c2f0fe'},\n",
       " {'group_id': 201.0, 'color_code': '#5891e8'},\n",
       " {'group_id': 98.0, 'color_code': '#e28e42'},\n",
       " {'group_id': 173.0, 'color_code': '#f05fe2'},\n",
       " {'group_id': 181.0, 'color_code': '#5d5432'},\n",
       " {'group_id': 211.0, 'color_code': '#0bae9e'},\n",
       " {'group_id': 222.0, 'color_code': '#11850d'},\n",
       " {'group_id': 116.0, 'color_code': '#4a155d'},\n",
       " {'group_id': 206.0, 'color_code': '#651acb'},\n",
       " {'group_id': 54.0, 'color_code': '#b6b0a8'},\n",
       " {'group_id': 142.0, 'color_code': '#475c5a'},\n",
       " {'group_id': 172.0, 'color_code': '#fa243e'},\n",
       " {'group_id': 265.0, 'color_code': '#64924b'},\n",
       " {'group_id': 252.0, 'color_code': '#6f3e37'},\n",
       " {'group_id': 53.0, 'color_code': '#339538'},\n",
       " {'group_id': 234.0, 'color_code': '#cb7c88'},\n",
       " {'group_id': 26.0, 'color_code': '#b55390'},\n",
       " {'group_id': 166.0, 'color_code': '#4e14b1'},\n",
       " {'group_id': 224.0, 'color_code': '#1561c4'},\n",
       " {'group_id': 273.0, 'color_code': '#0f020e'},\n",
       " {'group_id': 219.0, 'color_code': '#6c6f1d'},\n",
       " {'group_id': 39.0, 'color_code': '#0cb604'},\n",
       " {'group_id': 162.0, 'color_code': '#6c176c'},\n",
       " {'group_id': 136.0, 'color_code': '#24459a'},\n",
       " {'group_id': 73.0, 'color_code': '#b3bdf5'},\n",
       " {'group_id': 244.0, 'color_code': '#a07575'},\n",
       " {'group_id': 220.0, 'color_code': '#55cfc9'},\n",
       " {'group_id': 102.0, 'color_code': '#7d547a'},\n",
       " {'group_id': 236.0, 'color_code': '#d1505f'},\n",
       " {'group_id': 227.0, 'color_code': '#f4811c'},\n",
       " {'group_id': 133.0, 'color_code': '#e06e7b'},\n",
       " {'group_id': 246.0, 'color_code': '#8a35ce'},\n",
       " {'group_id': 63.0, 'color_code': '#7d61ee'},\n",
       " {'group_id': 192.0, 'color_code': '#0f3d72'},\n",
       " {'group_id': 140.0, 'color_code': '#cbde1a'},\n",
       " {'group_id': 247.0, 'color_code': '#9ecde9'},\n",
       " {'group_id': 153.0, 'color_code': '#054f18'},\n",
       " {'group_id': 184.0, 'color_code': '#d7f133'},\n",
       " {'group_id': 200.0, 'color_code': '#a22478'},\n",
       " {'group_id': 74.0, 'color_code': '#fddcc1'},\n",
       " {'group_id': 48.0, 'color_code': '#a0b9f9'},\n",
       " {'group_id': 35.0, 'color_code': '#1d6f04'},\n",
       " {'group_id': 182.0, 'color_code': '#8afac5'},\n",
       " {'group_id': 160.0, 'color_code': '#041268'},\n",
       " {'group_id': 159.0, 'color_code': '#6f5538'},\n",
       " {'group_id': 161.0, 'color_code': '#443aa0'},\n",
       " {'group_id': 194.0, 'color_code': '#25760a'},\n",
       " {'group_id': 93.0, 'color_code': '#d20ebd'},\n",
       " {'group_id': 107.0, 'color_code': '#bbf3f9'},\n",
       " {'group_id': 245.0, 'color_code': '#c172cd'},\n",
       " {'group_id': 270.0, 'color_code': '#d9b9c6'},\n",
       " {'group_id': 83.0, 'color_code': '#e5c175'},\n",
       " {'group_id': 111.0, 'color_code': '#bdc36b'},\n",
       " {'group_id': 190.0, 'color_code': '#2b3b5d'},\n",
       " {'group_id': 84.0, 'color_code': '#36e361'},\n",
       " {'group_id': 249.0, 'color_code': '#aaa624'},\n",
       " {'group_id': 96.0, 'color_code': '#638370'},\n",
       " {'group_id': 25.0, 'color_code': '#36d192'},\n",
       " {'group_id': 271.0, 'color_code': '#e22083'},\n",
       " {'group_id': 104.0, 'color_code': '#d5f275'},\n",
       " {'group_id': 258.0, 'color_code': '#bcc46b'},\n",
       " {'group_id': 174.0, 'color_code': '#5f3b64'},\n",
       " {'group_id': 80.0, 'color_code': '#6ca810'},\n",
       " {'group_id': 204.0, 'color_code': '#41c160'},\n",
       " {'group_id': 262.0, 'color_code': '#77b0a0'},\n",
       " {'group_id': 31.0, 'color_code': '#f60dce'},\n",
       " {'group_id': 170.0, 'color_code': '#cb8ef2'},\n",
       " {'group_id': 14.0, 'color_code': '#15c0b0'},\n",
       " {'group_id': 57.0, 'color_code': '#1df186'},\n",
       " {'group_id': 91.0, 'color_code': '#ccfbbc'},\n",
       " {'group_id': 108.0, 'color_code': '#419225'},\n",
       " {'group_id': 253.0, 'color_code': '#1d0cc5'},\n",
       " {'group_id': 58.0, 'color_code': '#d39d9a'},\n",
       " {'group_id': 135.0, 'color_code': '#16dea4'},\n",
       " {'group_id': 75.0, 'color_code': '#76d8ec'},\n",
       " {'group_id': 264.0, 'color_code': '#807324'},\n",
       " {'group_id': 230.0, 'color_code': '#8e3e51'},\n",
       " {'group_id': 239.0, 'color_code': '#ce68d4'},\n",
       " {'group_id': 221.0, 'color_code': '#f5d82f'},\n",
       " {'group_id': 187.0, 'color_code': '#c65536'},\n",
       " {'group_id': 233.0, 'color_code': '#21aa64'},\n",
       " {'group_id': 254.0, 'color_code': '#9a0ecc'},\n",
       " {'group_id': 129.0, 'color_code': '#29fe2b'},\n",
       " {'group_id': 186.0, 'color_code': '#9b85fa'},\n",
       " {'group_id': 137.0, 'color_code': '#a93650'},\n",
       " {'group_id': 218.0, 'color_code': '#a95d9a'},\n",
       " {'group_id': 145.0, 'color_code': '#0aabd4'},\n",
       " {'group_id': 114.0, 'color_code': '#f3c40a'},\n",
       " {'group_id': 195.0, 'color_code': '#9ec1d4'},\n",
       " {'group_id': 61.0, 'color_code': '#c3f1db'},\n",
       " {'group_id': 203.0, 'color_code': '#fd820a'},\n",
       " {'group_id': 6.0, 'color_code': '#51c8f5'},\n",
       " {'group_id': 138.0, 'color_code': '#410330'},\n",
       " {'group_id': 67.0, 'color_code': '#e2a3a4'},\n",
       " {'group_id': 106.0, 'color_code': '#deda03'},\n",
       " {'group_id': 266.0, 'color_code': '#96bf8a'}]"
      ]
     },
     "execution_count": 23,
     "metadata": {},
     "output_type": "execute_result"
    }
   ],
   "source": [
    "\n",
    "#Will assign all NaN's same color for now. That's okay.\n",
    "\n",
    "\n",
    "import random\n",
    " \n",
    "def colors(n):\n",
    "    if(n == 0):\n",
    "        n = 600\n",
    "    r = int(random.random() * 256)\n",
    "    g = int(random.random() * 256)\n",
    "    b = int(random.random() * 256)\n",
    "    \n",
    "    step = 256 / n\n",
    "#     print(n,r,g,b,step)\n",
    "\n",
    "    r += step\n",
    "    g += step\n",
    "    b += step\n",
    "    r = int(r) % 256\n",
    "    g = int(g) % 256\n",
    "    b = int(b) % 256\n",
    "    \n",
    "    colorstr = str(r)+\",\"+str(b)+\",\" + str(g)\n",
    "    return '#%02x%02x%02x' % (r, g, b)\n",
    "\n",
    "color_dict = []\n",
    "color_dictionary = {}\n",
    "for groupid in unique_community_ids:\n",
    "    #generate a random color\n",
    "    color = colors(groupid)\n",
    "    if(groupid == 1000):        \n",
    "        color_dict.append({'group_id': 1000, 'color_code': color})\n",
    "        color_dictionary['island'] = color\n",
    "    else:        \n",
    "        color_dict.append({'group_id':groupid , 'color_code': color})\n",
    "        color_dictionary[str(int(groupid))] = color\n",
    "    \n",
    "color_dict"
   ]
  },
  {
   "cell_type": "code",
   "execution_count": 24,
   "metadata": {},
   "outputs": [
    {
     "data": {
      "text/markdown": [
       "<br><span style=\"color:#816139\">Sample</span>."
      ],
      "text/plain": [
       "<IPython.core.display.Markdown object>"
      ]
     },
     "metadata": {},
     "output_type": "display_data"
    },
    {
     "data": {
      "text/markdown": [
       "<br><span style=\"color:#273900\">Sample</span>."
      ],
      "text/plain": [
       "<IPython.core.display.Markdown object>"
      ]
     },
     "metadata": {},
     "output_type": "display_data"
    },
    {
     "data": {
      "text/markdown": [
       "<br><span style=\"color:#f644de\">Sample</span>."
      ],
      "text/plain": [
       "<IPython.core.display.Markdown object>"
      ]
     },
     "metadata": {},
     "output_type": "display_data"
    },
    {
     "data": {
      "text/markdown": [
       "<br><span style=\"color:#4a6838\">Sample</span>."
      ],
      "text/plain": [
       "<IPython.core.display.Markdown object>"
      ]
     },
     "metadata": {},
     "output_type": "display_data"
    },
    {
     "data": {
      "text/markdown": [
       "<br><span style=\"color:#6deeff\">Sample</span>."
      ],
      "text/plain": [
       "<IPython.core.display.Markdown object>"
      ]
     },
     "metadata": {},
     "output_type": "display_data"
    },
    {
     "data": {
      "text/markdown": [
       "<br><span style=\"color:#fd77a8\">Sample</span>."
      ],
      "text/plain": [
       "<IPython.core.display.Markdown object>"
      ]
     },
     "metadata": {},
     "output_type": "display_data"
    },
    {
     "data": {
      "text/markdown": [
       "<br><span style=\"color:#8064fa\">Sample</span>."
      ],
      "text/plain": [
       "<IPython.core.display.Markdown object>"
      ]
     },
     "metadata": {},
     "output_type": "display_data"
    },
    {
     "data": {
      "text/markdown": [
       "<br><span style=\"color:#dcc06b\">Sample</span>."
      ],
      "text/plain": [
       "<IPython.core.display.Markdown object>"
      ]
     },
     "metadata": {},
     "output_type": "display_data"
    },
    {
     "data": {
      "text/markdown": [
       "<br><span style=\"color:#82f9ac\">Sample</span>."
      ],
      "text/plain": [
       "<IPython.core.display.Markdown object>"
      ]
     },
     "metadata": {},
     "output_type": "display_data"
    },
    {
     "data": {
      "text/markdown": [
       "<br><span style=\"color:#d90903\">Sample</span>."
      ],
      "text/plain": [
       "<IPython.core.display.Markdown object>"
      ]
     },
     "metadata": {},
     "output_type": "display_data"
    },
    {
     "data": {
      "text/markdown": [
       "<br><span style=\"color:#dbeba1\">Sample</span>."
      ],
      "text/plain": [
       "<IPython.core.display.Markdown object>"
      ]
     },
     "metadata": {},
     "output_type": "display_data"
    },
    {
     "data": {
      "text/markdown": [
       "<br><span style=\"color:#477dd9\">Sample</span>."
      ],
      "text/plain": [
       "<IPython.core.display.Markdown object>"
      ]
     },
     "metadata": {},
     "output_type": "display_data"
    },
    {
     "data": {
      "text/markdown": [
       "<br><span style=\"color:#a4dbc4\">Sample</span>."
      ],
      "text/plain": [
       "<IPython.core.display.Markdown object>"
      ]
     },
     "metadata": {},
     "output_type": "display_data"
    },
    {
     "data": {
      "text/markdown": [
       "<br><span style=\"color:#b761d7\">Sample</span>."
      ],
      "text/plain": [
       "<IPython.core.display.Markdown object>"
      ]
     },
     "metadata": {},
     "output_type": "display_data"
    },
    {
     "data": {
      "text/markdown": [
       "<br><span style=\"color:#43adc0\">Sample</span>."
      ],
      "text/plain": [
       "<IPython.core.display.Markdown object>"
      ]
     },
     "metadata": {},
     "output_type": "display_data"
    },
    {
     "data": {
      "text/markdown": [
       "<br><span style=\"color:#227623\">Sample</span>."
      ],
      "text/plain": [
       "<IPython.core.display.Markdown object>"
      ]
     },
     "metadata": {},
     "output_type": "display_data"
    },
    {
     "data": {
      "text/markdown": [
       "<br><span style=\"color:#9febf9\">Sample</span>."
      ],
      "text/plain": [
       "<IPython.core.display.Markdown object>"
      ]
     },
     "metadata": {},
     "output_type": "display_data"
    },
    {
     "data": {
      "text/markdown": [
       "<br><span style=\"color:#f2e13c\">Sample</span>."
      ],
      "text/plain": [
       "<IPython.core.display.Markdown object>"
      ]
     },
     "metadata": {},
     "output_type": "display_data"
    },
    {
     "data": {
      "text/markdown": [
       "<br><span style=\"color:#55d03d\">Sample</span>."
      ],
      "text/plain": [
       "<IPython.core.display.Markdown object>"
      ]
     },
     "metadata": {},
     "output_type": "display_data"
    },
    {
     "data": {
      "text/markdown": [
       "<br><span style=\"color:#94289c\">Sample</span>."
      ],
      "text/plain": [
       "<IPython.core.display.Markdown object>"
      ]
     },
     "metadata": {},
     "output_type": "display_data"
    },
    {
     "data": {
      "text/markdown": [
       "<br><span style=\"color:#d568dd\">Sample</span>."
      ],
      "text/plain": [
       "<IPython.core.display.Markdown object>"
      ]
     },
     "metadata": {},
     "output_type": "display_data"
    },
    {
     "data": {
      "text/markdown": [
       "<br><span style=\"color:#8ffbb7\">Sample</span>."
      ],
      "text/plain": [
       "<IPython.core.display.Markdown object>"
      ]
     },
     "metadata": {},
     "output_type": "display_data"
    },
    {
     "data": {
      "text/markdown": [
       "<br><span style=\"color:#eb50dd\">Sample</span>."
      ],
      "text/plain": [
       "<IPython.core.display.Markdown object>"
      ]
     },
     "metadata": {},
     "output_type": "display_data"
    },
    {
     "data": {
      "text/markdown": [
       "<br><span style=\"color:#bf010d\">Sample</span>."
      ],
      "text/plain": [
       "<IPython.core.display.Markdown object>"
      ]
     },
     "metadata": {},
     "output_type": "display_data"
    },
    {
     "data": {
      "text/markdown": [
       "<br><span style=\"color:#8e6ccd\">Sample</span>."
      ],
      "text/plain": [
       "<IPython.core.display.Markdown object>"
      ]
     },
     "metadata": {},
     "output_type": "display_data"
    },
    {
     "data": {
      "text/markdown": [
       "<br><span style=\"color:#e8a718\">Sample</span>."
      ],
      "text/plain": [
       "<IPython.core.display.Markdown object>"
      ]
     },
     "metadata": {},
     "output_type": "display_data"
    },
    {
     "data": {
      "text/markdown": [
       "<br><span style=\"color:#5bd30e\">Sample</span>."
      ],
      "text/plain": [
       "<IPython.core.display.Markdown object>"
      ]
     },
     "metadata": {},
     "output_type": "display_data"
    },
    {
     "data": {
      "text/markdown": [
       "<br><span style=\"color:#4c8b06\">Sample</span>."
      ],
      "text/plain": [
       "<IPython.core.display.Markdown object>"
      ]
     },
     "metadata": {},
     "output_type": "display_data"
    },
    {
     "data": {
      "text/markdown": [
       "<br><span style=\"color:#cc5c11\">Sample</span>."
      ],
      "text/plain": [
       "<IPython.core.display.Markdown object>"
      ]
     },
     "metadata": {},
     "output_type": "display_data"
    },
    {
     "data": {
      "text/markdown": [
       "<br><span style=\"color:#bc4876\">Sample</span>."
      ],
      "text/plain": [
       "<IPython.core.display.Markdown object>"
      ]
     },
     "metadata": {},
     "output_type": "display_data"
    },
    {
     "data": {
      "text/markdown": [
       "<br><span style=\"color:#45c594\">Sample</span>."
      ],
      "text/plain": [
       "<IPython.core.display.Markdown object>"
      ]
     },
     "metadata": {},
     "output_type": "display_data"
    },
    {
     "data": {
      "text/markdown": [
       "<br><span style=\"color:#a3711f\">Sample</span>."
      ],
      "text/plain": [
       "<IPython.core.display.Markdown object>"
      ]
     },
     "metadata": {},
     "output_type": "display_data"
    },
    {
     "data": {
      "text/markdown": [
       "<br><span style=\"color:#b099e8\">Sample</span>."
      ],
      "text/plain": [
       "<IPython.core.display.Markdown object>"
      ]
     },
     "metadata": {},
     "output_type": "display_data"
    },
    {
     "data": {
      "text/markdown": [
       "<br><span style=\"color:#dc78d5\">Sample</span>."
      ],
      "text/plain": [
       "<IPython.core.display.Markdown object>"
      ]
     },
     "metadata": {},
     "output_type": "display_data"
    },
    {
     "data": {
      "text/markdown": [
       "<br><span style=\"color:#60697e\">Sample</span>."
      ],
      "text/plain": [
       "<IPython.core.display.Markdown object>"
      ]
     },
     "metadata": {},
     "output_type": "display_data"
    },
    {
     "data": {
      "text/markdown": [
       "<br><span style=\"color:#8b849c\">Sample</span>."
      ],
      "text/plain": [
       "<IPython.core.display.Markdown object>"
      ]
     },
     "metadata": {},
     "output_type": "display_data"
    },
    {
     "data": {
      "text/markdown": [
       "<br><span style=\"color:#733884\">Sample</span>."
      ],
      "text/plain": [
       "<IPython.core.display.Markdown object>"
      ]
     },
     "metadata": {},
     "output_type": "display_data"
    },
    {
     "data": {
      "text/markdown": [
       "<br><span style=\"color:#158b55\">Sample</span>."
      ],
      "text/plain": [
       "<IPython.core.display.Markdown object>"
      ]
     },
     "metadata": {},
     "output_type": "display_data"
    },
    {
     "data": {
      "text/markdown": [
       "<br><span style=\"color:#fdaebe\">Sample</span>."
      ],
      "text/plain": [
       "<IPython.core.display.Markdown object>"
      ]
     },
     "metadata": {},
     "output_type": "display_data"
    },
    {
     "data": {
      "text/markdown": [
       "<br><span style=\"color:#2a22e5\">Sample</span>."
      ],
      "text/plain": [
       "<IPython.core.display.Markdown object>"
      ]
     },
     "metadata": {},
     "output_type": "display_data"
    },
    {
     "data": {
      "text/markdown": [
       "<br><span style=\"color:#17ab6c\">Sample</span>."
      ],
      "text/plain": [
       "<IPython.core.display.Markdown object>"
      ]
     },
     "metadata": {},
     "output_type": "display_data"
    },
    {
     "data": {
      "text/markdown": [
       "<br><span style=\"color:#ceb7e1\">Sample</span>."
      ],
      "text/plain": [
       "<IPython.core.display.Markdown object>"
      ]
     },
     "metadata": {},
     "output_type": "display_data"
    },
    {
     "data": {
      "text/markdown": [
       "<br><span style=\"color:#305af2\">Sample</span>."
      ],
      "text/plain": [
       "<IPython.core.display.Markdown object>"
      ]
     },
     "metadata": {},
     "output_type": "display_data"
    },
    {
     "data": {
      "text/markdown": [
       "<br><span style=\"color:#991650\">Sample</span>."
      ],
      "text/plain": [
       "<IPython.core.display.Markdown object>"
      ]
     },
     "metadata": {},
     "output_type": "display_data"
    },
    {
     "data": {
      "text/markdown": [
       "<br><span style=\"color:#ad0a36\">Sample</span>."
      ],
      "text/plain": [
       "<IPython.core.display.Markdown object>"
      ]
     },
     "metadata": {},
     "output_type": "display_data"
    },
    {
     "data": {
      "text/markdown": [
       "<br><span style=\"color:#d34fe7\">Sample</span>."
      ],
      "text/plain": [
       "<IPython.core.display.Markdown object>"
      ]
     },
     "metadata": {},
     "output_type": "display_data"
    },
    {
     "data": {
      "text/markdown": [
       "<br><span style=\"color:#dbe0b6\">Sample</span>."
      ],
      "text/plain": [
       "<IPython.core.display.Markdown object>"
      ]
     },
     "metadata": {},
     "output_type": "display_data"
    },
    {
     "data": {
      "text/markdown": [
       "<br><span style=\"color:#494f77\">Sample</span>."
      ],
      "text/plain": [
       "<IPython.core.display.Markdown object>"
      ]
     },
     "metadata": {},
     "output_type": "display_data"
    },
    {
     "data": {
      "text/markdown": [
       "<br><span style=\"color:#9c8543\">Sample</span>."
      ],
      "text/plain": [
       "<IPython.core.display.Markdown object>"
      ]
     },
     "metadata": {},
     "output_type": "display_data"
    },
    {
     "data": {
      "text/markdown": [
       "<br><span style=\"color:#32d439\">Sample</span>."
      ],
      "text/plain": [
       "<IPython.core.display.Markdown object>"
      ]
     },
     "metadata": {},
     "output_type": "display_data"
    },
    {
     "data": {
      "text/markdown": [
       "<br><span style=\"color:#02b3b5\">Sample</span>."
      ],
      "text/plain": [
       "<IPython.core.display.Markdown object>"
      ]
     },
     "metadata": {},
     "output_type": "display_data"
    },
    {
     "data": {
      "text/markdown": [
       "<br><span style=\"color:#a25999\">Sample</span>."
      ],
      "text/plain": [
       "<IPython.core.display.Markdown object>"
      ]
     },
     "metadata": {},
     "output_type": "display_data"
    },
    {
     "data": {
      "text/markdown": [
       "<br><span style=\"color:#8eea3e\">Sample</span>."
      ],
      "text/plain": [
       "<IPython.core.display.Markdown object>"
      ]
     },
     "metadata": {},
     "output_type": "display_data"
    },
    {
     "data": {
      "text/markdown": [
       "<br><span style=\"color:#bf343c\">Sample</span>."
      ],
      "text/plain": [
       "<IPython.core.display.Markdown object>"
      ]
     },
     "metadata": {},
     "output_type": "display_data"
    },
    {
     "data": {
      "text/markdown": [
       "<br><span style=\"color:#4be180\">Sample</span>."
      ],
      "text/plain": [
       "<IPython.core.display.Markdown object>"
      ]
     },
     "metadata": {},
     "output_type": "display_data"
    },
    {
     "data": {
      "text/markdown": [
       "<br><span style=\"color:#034a4c\">Sample</span>."
      ],
      "text/plain": [
       "<IPython.core.display.Markdown object>"
      ]
     },
     "metadata": {},
     "output_type": "display_data"
    },
    {
     "data": {
      "text/markdown": [
       "<br><span style=\"color:#b7b231\">Sample</span>."
      ],
      "text/plain": [
       "<IPython.core.display.Markdown object>"
      ]
     },
     "metadata": {},
     "output_type": "display_data"
    },
    {
     "data": {
      "text/markdown": [
       "<br><span style=\"color:#afc186\">Sample</span>."
      ],
      "text/plain": [
       "<IPython.core.display.Markdown object>"
      ]
     },
     "metadata": {},
     "output_type": "display_data"
    },
    {
     "data": {
      "text/markdown": [
       "<br><span style=\"color:#690bc7\">Sample</span>."
      ],
      "text/plain": [
       "<IPython.core.display.Markdown object>"
      ]
     },
     "metadata": {},
     "output_type": "display_data"
    },
    {
     "data": {
      "text/markdown": [
       "<br><span style=\"color:#a3214a\">Sample</span>."
      ],
      "text/plain": [
       "<IPython.core.display.Markdown object>"
      ]
     },
     "metadata": {},
     "output_type": "display_data"
    },
    {
     "data": {
      "text/markdown": [
       "<br><span style=\"color:#51bd8f\">Sample</span>."
      ],
      "text/plain": [
       "<IPython.core.display.Markdown object>"
      ]
     },
     "metadata": {},
     "output_type": "display_data"
    },
    {
     "data": {
      "text/markdown": [
       "<br><span style=\"color:#b1d60b\">Sample</span>."
      ],
      "text/plain": [
       "<IPython.core.display.Markdown object>"
      ]
     },
     "metadata": {},
     "output_type": "display_data"
    },
    {
     "data": {
      "text/markdown": [
       "<br><span style=\"color:#34b91f\">Sample</span>."
      ],
      "text/plain": [
       "<IPython.core.display.Markdown object>"
      ]
     },
     "metadata": {},
     "output_type": "display_data"
    },
    {
     "data": {
      "text/markdown": [
       "<br><span style=\"color:#422222\">Sample</span>."
      ],
      "text/plain": [
       "<IPython.core.display.Markdown object>"
      ]
     },
     "metadata": {},
     "output_type": "display_data"
    },
    {
     "data": {
      "text/markdown": [
       "<br><span style=\"color:#5318f1\">Sample</span>."
      ],
      "text/plain": [
       "<IPython.core.display.Markdown object>"
      ]
     },
     "metadata": {},
     "output_type": "display_data"
    },
    {
     "data": {
      "text/markdown": [
       "<br><span style=\"color:#302b44\">Sample</span>."
      ],
      "text/plain": [
       "<IPython.core.display.Markdown object>"
      ]
     },
     "metadata": {},
     "output_type": "display_data"
    },
    {
     "data": {
      "text/markdown": [
       "<br><span style=\"color:#6e80ad\">Sample</span>."
      ],
      "text/plain": [
       "<IPython.core.display.Markdown object>"
      ]
     },
     "metadata": {},
     "output_type": "display_data"
    },
    {
     "data": {
      "text/markdown": [
       "<br><span style=\"color:#7a3cbd\">Sample</span>."
      ],
      "text/plain": [
       "<IPython.core.display.Markdown object>"
      ]
     },
     "metadata": {},
     "output_type": "display_data"
    },
    {
     "data": {
      "text/markdown": [
       "<br><span style=\"color:#139751\">Sample</span>."
      ],
      "text/plain": [
       "<IPython.core.display.Markdown object>"
      ]
     },
     "metadata": {},
     "output_type": "display_data"
    },
    {
     "data": {
      "text/markdown": [
       "<br><span style=\"color:#1d957a\">Sample</span>."
      ],
      "text/plain": [
       "<IPython.core.display.Markdown object>"
      ]
     },
     "metadata": {},
     "output_type": "display_data"
    },
    {
     "data": {
      "text/markdown": [
       "<br><span style=\"color:#2890b1\">Sample</span>."
      ],
      "text/plain": [
       "<IPython.core.display.Markdown object>"
      ]
     },
     "metadata": {},
     "output_type": "display_data"
    },
    {
     "data": {
      "text/markdown": [
       "<br><span style=\"color:#79227f\">Sample</span>."
      ],
      "text/plain": [
       "<IPython.core.display.Markdown object>"
      ]
     },
     "metadata": {},
     "output_type": "display_data"
    },
    {
     "data": {
      "text/markdown": [
       "<br><span style=\"color:#bb6d13\">Sample</span>."
      ],
      "text/plain": [
       "<IPython.core.display.Markdown object>"
      ]
     },
     "metadata": {},
     "output_type": "display_data"
    },
    {
     "data": {
      "text/markdown": [
       "<br><span style=\"color:#2bcb82\">Sample</span>."
      ],
      "text/plain": [
       "<IPython.core.display.Markdown object>"
      ]
     },
     "metadata": {},
     "output_type": "display_data"
    },
    {
     "data": {
      "text/markdown": [
       "<br><span style=\"color:#8232be\">Sample</span>."
      ],
      "text/plain": [
       "<IPython.core.display.Markdown object>"
      ]
     },
     "metadata": {},
     "output_type": "display_data"
    },
    {
     "data": {
      "text/markdown": [
       "<br><span style=\"color:#50f181\">Sample</span>."
      ],
      "text/plain": [
       "<IPython.core.display.Markdown object>"
      ]
     },
     "metadata": {},
     "output_type": "display_data"
    },
    {
     "data": {
      "text/markdown": [
       "<br><span style=\"color:#f58dc6\">Sample</span>."
      ],
      "text/plain": [
       "<IPython.core.display.Markdown object>"
      ]
     },
     "metadata": {},
     "output_type": "display_data"
    },
    {
     "data": {
      "text/markdown": [
       "<br><span style=\"color:#245bed\">Sample</span>."
      ],
      "text/plain": [
       "<IPython.core.display.Markdown object>"
      ]
     },
     "metadata": {},
     "output_type": "display_data"
    },
    {
     "data": {
      "text/markdown": [
       "<br><span style=\"color:#1b4fb8\">Sample</span>."
      ],
      "text/plain": [
       "<IPython.core.display.Markdown object>"
      ]
     },
     "metadata": {},
     "output_type": "display_data"
    },
    {
     "data": {
      "text/markdown": [
       "<br><span style=\"color:#9b92af\">Sample</span>."
      ],
      "text/plain": [
       "<IPython.core.display.Markdown object>"
      ]
     },
     "metadata": {},
     "output_type": "display_data"
    },
    {
     "data": {
      "text/markdown": [
       "<br><span style=\"color:#8ead11\">Sample</span>."
      ],
      "text/plain": [
       "<IPython.core.display.Markdown object>"
      ]
     },
     "metadata": {},
     "output_type": "display_data"
    },
    {
     "data": {
      "text/markdown": [
       "<br><span style=\"color:#bae796\">Sample</span>."
      ],
      "text/plain": [
       "<IPython.core.display.Markdown object>"
      ]
     },
     "metadata": {},
     "output_type": "display_data"
    },
    {
     "data": {
      "text/markdown": [
       "<br><span style=\"color:#ee7671\">Sample</span>."
      ],
      "text/plain": [
       "<IPython.core.display.Markdown object>"
      ]
     },
     "metadata": {},
     "output_type": "display_data"
    },
    {
     "data": {
      "text/markdown": [
       "<br><span style=\"color:#8f81c3\">Sample</span>."
      ],
      "text/plain": [
       "<IPython.core.display.Markdown object>"
      ]
     },
     "metadata": {},
     "output_type": "display_data"
    },
    {
     "data": {
      "text/markdown": [
       "<br><span style=\"color:#de8ef7\">Sample</span>."
      ],
      "text/plain": [
       "<IPython.core.display.Markdown object>"
      ]
     },
     "metadata": {},
     "output_type": "display_data"
    },
    {
     "data": {
      "text/markdown": [
       "<br><span style=\"color:#51e14f\">Sample</span>."
      ],
      "text/plain": [
       "<IPython.core.display.Markdown object>"
      ]
     },
     "metadata": {},
     "output_type": "display_data"
    },
    {
     "data": {
      "text/markdown": [
       "<br><span style=\"color:#a59155\">Sample</span>."
      ],
      "text/plain": [
       "<IPython.core.display.Markdown object>"
      ]
     },
     "metadata": {},
     "output_type": "display_data"
    },
    {
     "data": {
      "text/markdown": [
       "<br><span style=\"color:#4b6faa\">Sample</span>."
      ],
      "text/plain": [
       "<IPython.core.display.Markdown object>"
      ]
     },
     "metadata": {},
     "output_type": "display_data"
    },
    {
     "data": {
      "text/markdown": [
       "<br><span style=\"color:#ec689d\">Sample</span>."
      ],
      "text/plain": [
       "<IPython.core.display.Markdown object>"
      ]
     },
     "metadata": {},
     "output_type": "display_data"
    },
    {
     "data": {
      "text/markdown": [
       "<br><span style=\"color:#50b0da\">Sample</span>."
      ],
      "text/plain": [
       "<IPython.core.display.Markdown object>"
      ]
     },
     "metadata": {},
     "output_type": "display_data"
    },
    {
     "data": {
      "text/markdown": [
       "<br><span style=\"color:#7c2f0e\">Sample</span>."
      ],
      "text/plain": [
       "<IPython.core.display.Markdown object>"
      ]
     },
     "metadata": {},
     "output_type": "display_data"
    },
    {
     "data": {
      "text/markdown": [
       "<br><span style=\"color:#8191e7\">Sample</span>."
      ],
      "text/plain": [
       "<IPython.core.display.Markdown object>"
      ]
     },
     "metadata": {},
     "output_type": "display_data"
    },
    {
     "data": {
      "text/markdown": [
       "<br><span style=\"color:#77f186\">Sample</span>."
      ],
      "text/plain": [
       "<IPython.core.display.Markdown object>"
      ]
     },
     "metadata": {},
     "output_type": "display_data"
    },
    {
     "data": {
      "text/markdown": [
       "<br><span style=\"color:#c31679\">Sample</span>."
      ],
      "text/plain": [
       "<IPython.core.display.Markdown object>"
      ]
     },
     "metadata": {},
     "output_type": "display_data"
    },
    {
     "data": {
      "text/markdown": [
       "<br><span style=\"color:#56f388\">Sample</span>."
      ],
      "text/plain": [
       "<IPython.core.display.Markdown object>"
      ]
     },
     "metadata": {},
     "output_type": "display_data"
    },
    {
     "data": {
      "text/markdown": [
       "<br><span style=\"color:#a66f4f\">Sample</span>."
      ],
      "text/plain": [
       "<IPython.core.display.Markdown object>"
      ]
     },
     "metadata": {},
     "output_type": "display_data"
    },
    {
     "data": {
      "text/markdown": [
       "<br><span style=\"color:#d7c25a\">Sample</span>."
      ],
      "text/plain": [
       "<IPython.core.display.Markdown object>"
      ]
     },
     "metadata": {},
     "output_type": "display_data"
    },
    {
     "data": {
      "text/markdown": [
       "<br><span style=\"color:#abf507\">Sample</span>."
      ],
      "text/plain": [
       "<IPython.core.display.Markdown object>"
      ]
     },
     "metadata": {},
     "output_type": "display_data"
    },
    {
     "data": {
      "text/markdown": [
       "<br><span style=\"color:#3234e1\">Sample</span>."
      ],
      "text/plain": [
       "<IPython.core.display.Markdown object>"
      ]
     },
     "metadata": {},
     "output_type": "display_data"
    },
    {
     "data": {
      "text/markdown": [
       "<br><span style=\"color:#9c7198\">Sample</span>."
      ],
      "text/plain": [
       "<IPython.core.display.Markdown object>"
      ]
     },
     "metadata": {},
     "output_type": "display_data"
    },
    {
     "data": {
      "text/markdown": [
       "<br><span style=\"color:#c3e16b\">Sample</span>."
      ],
      "text/plain": [
       "<IPython.core.display.Markdown object>"
      ]
     },
     "metadata": {},
     "output_type": "display_data"
    },
    {
     "data": {
      "text/markdown": [
       "<br><span style=\"color:#986b64\">Sample</span>."
      ],
      "text/plain": [
       "<IPython.core.display.Markdown object>"
      ]
     },
     "metadata": {},
     "output_type": "display_data"
    },
    {
     "data": {
      "text/markdown": [
       "<br><span style=\"color:#77cf8f\">Sample</span>."
      ],
      "text/plain": [
       "<IPython.core.display.Markdown object>"
      ]
     },
     "metadata": {},
     "output_type": "display_data"
    },
    {
     "data": {
      "text/markdown": [
       "<br><span style=\"color:#97462c\">Sample</span>."
      ],
      "text/plain": [
       "<IPython.core.display.Markdown object>"
      ]
     },
     "metadata": {},
     "output_type": "display_data"
    },
    {
     "data": {
      "text/markdown": [
       "<br><span style=\"color:#1ced00\">Sample</span>."
      ],
      "text/plain": [
       "<IPython.core.display.Markdown object>"
      ]
     },
     "metadata": {},
     "output_type": "display_data"
    },
    {
     "data": {
      "text/markdown": [
       "<br><span style=\"color:#ecebc4\">Sample</span>."
      ],
      "text/plain": [
       "<IPython.core.display.Markdown object>"
      ]
     },
     "metadata": {},
     "output_type": "display_data"
    },
    {
     "data": {
      "text/markdown": [
       "<br><span style=\"color:#568fd5\">Sample</span>."
      ],
      "text/plain": [
       "<IPython.core.display.Markdown object>"
      ]
     },
     "metadata": {},
     "output_type": "display_data"
    },
    {
     "data": {
      "text/markdown": [
       "<br><span style=\"color:#ee8e6c\">Sample</span>."
      ],
      "text/plain": [
       "<IPython.core.display.Markdown object>"
      ]
     },
     "metadata": {},
     "output_type": "display_data"
    },
    {
     "data": {
      "text/markdown": [
       "<br><span style=\"color:#699392\">Sample</span>."
      ],
      "text/plain": [
       "<IPython.core.display.Markdown object>"
      ]
     },
     "metadata": {},
     "output_type": "display_data"
    },
    {
     "data": {
      "text/markdown": [
       "<br><span style=\"color:#e5da9b\">Sample</span>."
      ],
      "text/plain": [
       "<IPython.core.display.Markdown object>"
      ]
     },
     "metadata": {},
     "output_type": "display_data"
    },
    {
     "data": {
      "text/markdown": [
       "<br><span style=\"color:#a7b825\">Sample</span>."
      ],
      "text/plain": [
       "<IPython.core.display.Markdown object>"
      ]
     },
     "metadata": {},
     "output_type": "display_data"
    },
    {
     "data": {
      "text/markdown": [
       "<br><span style=\"color:#f7a78c\">Sample</span>."
      ],
      "text/plain": [
       "<IPython.core.display.Markdown object>"
      ]
     },
     "metadata": {},
     "output_type": "display_data"
    },
    {
     "data": {
      "text/markdown": [
       "<br><span style=\"color:#4bec8a\">Sample</span>."
      ],
      "text/plain": [
       "<IPython.core.display.Markdown object>"
      ]
     },
     "metadata": {},
     "output_type": "display_data"
    },
    {
     "data": {
      "text/markdown": [
       "<br><span style=\"color:#2629ae\">Sample</span>."
      ],
      "text/plain": [
       "<IPython.core.display.Markdown object>"
      ]
     },
     "metadata": {},
     "output_type": "display_data"
    },
    {
     "data": {
      "text/markdown": [
       "<br><span style=\"color:#3568b0\">Sample</span>."
      ],
      "text/plain": [
       "<IPython.core.display.Markdown object>"
      ]
     },
     "metadata": {},
     "output_type": "display_data"
    },
    {
     "data": {
      "text/markdown": [
       "<br><span style=\"color:#7b7d34\">Sample</span>."
      ],
      "text/plain": [
       "<IPython.core.display.Markdown object>"
      ]
     },
     "metadata": {},
     "output_type": "display_data"
    },
    {
     "data": {
      "text/markdown": [
       "<br><span style=\"color:#fc2e9b\">Sample</span>."
      ],
      "text/plain": [
       "<IPython.core.display.Markdown object>"
      ]
     },
     "metadata": {},
     "output_type": "display_data"
    },
    {
     "data": {
      "text/markdown": [
       "<br><span style=\"color:#1f81f0\">Sample</span>."
      ],
      "text/plain": [
       "<IPython.core.display.Markdown object>"
      ]
     },
     "metadata": {},
     "output_type": "display_data"
    },
    {
     "data": {
      "text/markdown": [
       "<br><span style=\"color:#f364e2\">Sample</span>."
      ],
      "text/plain": [
       "<IPython.core.display.Markdown object>"
      ]
     },
     "metadata": {},
     "output_type": "display_data"
    },
    {
     "data": {
      "text/markdown": [
       "<br><span style=\"color:#0318ab\">Sample</span>."
      ],
      "text/plain": [
       "<IPython.core.display.Markdown object>"
      ]
     },
     "metadata": {},
     "output_type": "display_data"
    },
    {
     "data": {
      "text/markdown": [
       "<br><span style=\"color:#e74a28\">Sample</span>."
      ],
      "text/plain": [
       "<IPython.core.display.Markdown object>"
      ]
     },
     "metadata": {},
     "output_type": "display_data"
    },
    {
     "data": {
      "text/markdown": [
       "<br><span style=\"color:#ffd7fe\">Sample</span>."
      ],
      "text/plain": [
       "<IPython.core.display.Markdown object>"
      ]
     },
     "metadata": {},
     "output_type": "display_data"
    },
    {
     "data": {
      "text/markdown": [
       "<br><span style=\"color:#27f7a2\">Sample</span>."
      ],
      "text/plain": [
       "<IPython.core.display.Markdown object>"
      ]
     },
     "metadata": {},
     "output_type": "display_data"
    },
    {
     "data": {
      "text/markdown": [
       "<br><span style=\"color:#e70f1c\">Sample</span>."
      ],
      "text/plain": [
       "<IPython.core.display.Markdown object>"
      ]
     },
     "metadata": {},
     "output_type": "display_data"
    },
    {
     "data": {
      "text/markdown": [
       "<br><span style=\"color:#39bb93\">Sample</span>."
      ],
      "text/plain": [
       "<IPython.core.display.Markdown object>"
      ]
     },
     "metadata": {},
     "output_type": "display_data"
    },
    {
     "data": {
      "text/markdown": [
       "<br><span style=\"color:#8a424c\">Sample</span>."
      ],
      "text/plain": [
       "<IPython.core.display.Markdown object>"
      ]
     },
     "metadata": {},
     "output_type": "display_data"
    },
    {
     "data": {
      "text/markdown": [
       "<br><span style=\"color:#9d6bba\">Sample</span>."
      ],
      "text/plain": [
       "<IPython.core.display.Markdown object>"
      ]
     },
     "metadata": {},
     "output_type": "display_data"
    },
    {
     "data": {
      "text/markdown": [
       "<br><span style=\"color:#748e8b\">Sample</span>."
      ],
      "text/plain": [
       "<IPython.core.display.Markdown object>"
      ]
     },
     "metadata": {},
     "output_type": "display_data"
    },
    {
     "data": {
      "text/markdown": [
       "<br><span style=\"color:#090a37\">Sample</span>."
      ],
      "text/plain": [
       "<IPython.core.display.Markdown object>"
      ]
     },
     "metadata": {},
     "output_type": "display_data"
    },
    {
     "data": {
      "text/markdown": [
       "<br><span style=\"color:#ac8c3a\">Sample</span>."
      ],
      "text/plain": [
       "<IPython.core.display.Markdown object>"
      ]
     },
     "metadata": {},
     "output_type": "display_data"
    },
    {
     "data": {
      "text/markdown": [
       "<br><span style=\"color:#4d2849\">Sample</span>."
      ],
      "text/plain": [
       "<IPython.core.display.Markdown object>"
      ]
     },
     "metadata": {},
     "output_type": "display_data"
    },
    {
     "data": {
      "text/markdown": [
       "<br><span style=\"color:#333574\">Sample</span>."
      ],
      "text/plain": [
       "<IPython.core.display.Markdown object>"
      ]
     },
     "metadata": {},
     "output_type": "display_data"
    },
    {
     "data": {
      "text/markdown": [
       "<br><span style=\"color:#d15746\">Sample</span>."
      ],
      "text/plain": [
       "<IPython.core.display.Markdown object>"
      ]
     },
     "metadata": {},
     "output_type": "display_data"
    },
    {
     "data": {
      "text/markdown": [
       "<br><span style=\"color:#4d2b21\">Sample</span>."
      ],
      "text/plain": [
       "<IPython.core.display.Markdown object>"
      ]
     },
     "metadata": {},
     "output_type": "display_data"
    },
    {
     "data": {
      "text/markdown": [
       "<br><span style=\"color:#74d6ff\">Sample</span>."
      ],
      "text/plain": [
       "<IPython.core.display.Markdown object>"
      ]
     },
     "metadata": {},
     "output_type": "display_data"
    },
    {
     "data": {
      "text/markdown": [
       "<br><span style=\"color:#d0a997\">Sample</span>."
      ],
      "text/plain": [
       "<IPython.core.display.Markdown object>"
      ]
     },
     "metadata": {},
     "output_type": "display_data"
    },
    {
     "data": {
      "text/markdown": [
       "<br><span style=\"color:#9e60e1\">Sample</span>."
      ],
      "text/plain": [
       "<IPython.core.display.Markdown object>"
      ]
     },
     "metadata": {},
     "output_type": "display_data"
    },
    {
     "data": {
      "text/markdown": [
       "<br><span style=\"color:#7a3b1b\">Sample</span>."
      ],
      "text/plain": [
       "<IPython.core.display.Markdown object>"
      ]
     },
     "metadata": {},
     "output_type": "display_data"
    },
    {
     "data": {
      "text/markdown": [
       "<br><span style=\"color:#56d81a\">Sample</span>."
      ],
      "text/plain": [
       "<IPython.core.display.Markdown object>"
      ]
     },
     "metadata": {},
     "output_type": "display_data"
    },
    {
     "data": {
      "text/markdown": [
       "<br><span style=\"color:#4282f0\">Sample</span>."
      ],
      "text/plain": [
       "<IPython.core.display.Markdown object>"
      ]
     },
     "metadata": {},
     "output_type": "display_data"
    },
    {
     "data": {
      "text/markdown": [
       "<br><span style=\"color:#9cb83c\">Sample</span>."
      ],
      "text/plain": [
       "<IPython.core.display.Markdown object>"
      ]
     },
     "metadata": {},
     "output_type": "display_data"
    },
    {
     "data": {
      "text/markdown": [
       "<br><span style=\"color:#bb95e5\">Sample</span>."
      ],
      "text/plain": [
       "<IPython.core.display.Markdown object>"
      ]
     },
     "metadata": {},
     "output_type": "display_data"
    },
    {
     "data": {
      "text/markdown": [
       "<br><span style=\"color:#e87287\">Sample</span>."
      ],
      "text/plain": [
       "<IPython.core.display.Markdown object>"
      ]
     },
     "metadata": {},
     "output_type": "display_data"
    },
    {
     "data": {
      "text/markdown": [
       "<br><span style=\"color:#e24651\">Sample</span>."
      ],
      "text/plain": [
       "<IPython.core.display.Markdown object>"
      ]
     },
     "metadata": {},
     "output_type": "display_data"
    },
    {
     "data": {
      "text/markdown": [
       "<br><span style=\"color:#554c58\">Sample</span>."
      ],
      "text/plain": [
       "<IPython.core.display.Markdown object>"
      ]
     },
     "metadata": {},
     "output_type": "display_data"
    },
    {
     "data": {
      "text/markdown": [
       "<br><span style=\"color:#9decae\">Sample</span>."
      ],
      "text/plain": [
       "<IPython.core.display.Markdown object>"
      ]
     },
     "metadata": {},
     "output_type": "display_data"
    },
    {
     "data": {
      "text/markdown": [
       "<br><span style=\"color:#19c419\">Sample</span>."
      ],
      "text/plain": [
       "<IPython.core.display.Markdown object>"
      ]
     },
     "metadata": {},
     "output_type": "display_data"
    },
    {
     "data": {
      "text/markdown": [
       "<br><span style=\"color:#59817b\">Sample</span>."
      ],
      "text/plain": [
       "<IPython.core.display.Markdown object>"
      ]
     },
     "metadata": {},
     "output_type": "display_data"
    },
    {
     "data": {
      "text/markdown": [
       "<br><span style=\"color:#dc3447\">Sample</span>."
      ],
      "text/plain": [
       "<IPython.core.display.Markdown object>"
      ]
     },
     "metadata": {},
     "output_type": "display_data"
    },
    {
     "data": {
      "text/markdown": [
       "<br><span style=\"color:#b51edd\">Sample</span>."
      ],
      "text/plain": [
       "<IPython.core.display.Markdown object>"
      ]
     },
     "metadata": {},
     "output_type": "display_data"
    },
    {
     "data": {
      "text/markdown": [
       "<br><span style=\"color:#096a21\">Sample</span>."
      ],
      "text/plain": [
       "<IPython.core.display.Markdown object>"
      ]
     },
     "metadata": {},
     "output_type": "display_data"
    },
    {
     "data": {
      "text/markdown": [
       "<br><span style=\"color:#e53c4b\">Sample</span>."
      ],
      "text/plain": [
       "<IPython.core.display.Markdown object>"
      ]
     },
     "metadata": {},
     "output_type": "display_data"
    },
    {
     "data": {
      "text/markdown": [
       "<br><span style=\"color:#ac2fc1\">Sample</span>."
      ],
      "text/plain": [
       "<IPython.core.display.Markdown object>"
      ]
     },
     "metadata": {},
     "output_type": "display_data"
    },
    {
     "data": {
      "text/markdown": [
       "<br><span style=\"color:#6d08fd\">Sample</span>."
      ],
      "text/plain": [
       "<IPython.core.display.Markdown object>"
      ]
     },
     "metadata": {},
     "output_type": "display_data"
    },
    {
     "data": {
      "text/markdown": [
       "<br><span style=\"color:#efcd89\">Sample</span>."
      ],
      "text/plain": [
       "<IPython.core.display.Markdown object>"
      ]
     },
     "metadata": {},
     "output_type": "display_data"
    },
    {
     "data": {
      "text/markdown": [
       "<br><span style=\"color:#f70089\">Sample</span>."
      ],
      "text/plain": [
       "<IPython.core.display.Markdown object>"
      ]
     },
     "metadata": {},
     "output_type": "display_data"
    },
    {
     "data": {
      "text/markdown": [
       "<br><span style=\"color:#670558\">Sample</span>."
      ],
      "text/plain": [
       "<IPython.core.display.Markdown object>"
      ]
     },
     "metadata": {},
     "output_type": "display_data"
    },
    {
     "data": {
      "text/markdown": [
       "<br><span style=\"color:#122471\">Sample</span>."
      ],
      "text/plain": [
       "<IPython.core.display.Markdown object>"
      ]
     },
     "metadata": {},
     "output_type": "display_data"
    },
    {
     "data": {
      "text/markdown": [
       "<br><span style=\"color:#4928ff\">Sample</span>."
      ],
      "text/plain": [
       "<IPython.core.display.Markdown object>"
      ]
     },
     "metadata": {},
     "output_type": "display_data"
    },
    {
     "data": {
      "text/markdown": [
       "<br><span style=\"color:#16c06d\">Sample</span>."
      ],
      "text/plain": [
       "<IPython.core.display.Markdown object>"
      ]
     },
     "metadata": {},
     "output_type": "display_data"
    },
    {
     "data": {
      "text/markdown": [
       "<br><span style=\"color:#105482\">Sample</span>."
      ],
      "text/plain": [
       "<IPython.core.display.Markdown object>"
      ]
     },
     "metadata": {},
     "output_type": "display_data"
    },
    {
     "data": {
      "text/markdown": [
       "<br><span style=\"color:#09af6b\">Sample</span>."
      ],
      "text/plain": [
       "<IPython.core.display.Markdown object>"
      ]
     },
     "metadata": {},
     "output_type": "display_data"
    },
    {
     "data": {
      "text/markdown": [
       "<br><span style=\"color:#c5b494\">Sample</span>."
      ],
      "text/plain": [
       "<IPython.core.display.Markdown object>"
      ]
     },
     "metadata": {},
     "output_type": "display_data"
    },
    {
     "data": {
      "text/markdown": [
       "<br><span style=\"color:#583b20\">Sample</span>."
      ],
      "text/plain": [
       "<IPython.core.display.Markdown object>"
      ]
     },
     "metadata": {},
     "output_type": "display_data"
    },
    {
     "data": {
      "text/markdown": [
       "<br><span style=\"color:#b15f7d\">Sample</span>."
      ],
      "text/plain": [
       "<IPython.core.display.Markdown object>"
      ]
     },
     "metadata": {},
     "output_type": "display_data"
    },
    {
     "data": {
      "text/markdown": [
       "<br><span style=\"color:#fa66f1\">Sample</span>."
      ],
      "text/plain": [
       "<IPython.core.display.Markdown object>"
      ]
     },
     "metadata": {},
     "output_type": "display_data"
    },
    {
     "data": {
      "text/markdown": [
       "<br><span style=\"color:#34975c\">Sample</span>."
      ],
      "text/plain": [
       "<IPython.core.display.Markdown object>"
      ]
     },
     "metadata": {},
     "output_type": "display_data"
    },
    {
     "data": {
      "text/markdown": [
       "<br><span style=\"color:#d75fa9\">Sample</span>."
      ],
      "text/plain": [
       "<IPython.core.display.Markdown object>"
      ]
     },
     "metadata": {},
     "output_type": "display_data"
    },
    {
     "data": {
      "text/markdown": [
       "<br><span style=\"color:#3e00ad\">Sample</span>."
      ],
      "text/plain": [
       "<IPython.core.display.Markdown object>"
      ]
     },
     "metadata": {},
     "output_type": "display_data"
    },
    {
     "data": {
      "text/markdown": [
       "<br><span style=\"color:#068a2d\">Sample</span>."
      ],
      "text/plain": [
       "<IPython.core.display.Markdown object>"
      ]
     },
     "metadata": {},
     "output_type": "display_data"
    },
    {
     "data": {
      "text/markdown": [
       "<br><span style=\"color:#433e41\">Sample</span>."
      ],
      "text/plain": [
       "<IPython.core.display.Markdown object>"
      ]
     },
     "metadata": {},
     "output_type": "display_data"
    },
    {
     "data": {
      "text/markdown": [
       "<br><span style=\"color:#0d7a91\">Sample</span>."
      ],
      "text/plain": [
       "<IPython.core.display.Markdown object>"
      ]
     },
     "metadata": {},
     "output_type": "display_data"
    },
    {
     "data": {
      "text/markdown": [
       "<br><span style=\"color:#f7126a\">Sample</span>."
      ],
      "text/plain": [
       "<IPython.core.display.Markdown object>"
      ]
     },
     "metadata": {},
     "output_type": "display_data"
    },
    {
     "data": {
      "text/markdown": [
       "<br><span style=\"color:#07e43a\">Sample</span>."
      ],
      "text/plain": [
       "<IPython.core.display.Markdown object>"
      ]
     },
     "metadata": {},
     "output_type": "display_data"
    },
    {
     "data": {
      "text/markdown": [
       "<br><span style=\"color:#9cf054\">Sample</span>."
      ],
      "text/plain": [
       "<IPython.core.display.Markdown object>"
      ]
     },
     "metadata": {},
     "output_type": "display_data"
    },
    {
     "data": {
      "text/markdown": [
       "<br><span style=\"color:#40c55e\">Sample</span>."
      ],
      "text/plain": [
       "<IPython.core.display.Markdown object>"
      ]
     },
     "metadata": {},
     "output_type": "display_data"
    },
    {
     "data": {
      "text/markdown": [
       "<br><span style=\"color:#25da6f\">Sample</span>."
      ],
      "text/plain": [
       "<IPython.core.display.Markdown object>"
      ]
     },
     "metadata": {},
     "output_type": "display_data"
    },
    {
     "data": {
      "text/markdown": [
       "<br><span style=\"color:#f402a9\">Sample</span>."
      ],
      "text/plain": [
       "<IPython.core.display.Markdown object>"
      ]
     },
     "metadata": {},
     "output_type": "display_data"
    },
    {
     "data": {
      "text/markdown": [
       "<br><span style=\"color:#06050a\">Sample</span>."
      ],
      "text/plain": [
       "<IPython.core.display.Markdown object>"
      ]
     },
     "metadata": {},
     "output_type": "display_data"
    },
    {
     "data": {
      "text/markdown": [
       "<br><span style=\"color:#a39659\">Sample</span>."
      ],
      "text/plain": [
       "<IPython.core.display.Markdown object>"
      ]
     },
     "metadata": {},
     "output_type": "display_data"
    },
    {
     "data": {
      "text/markdown": [
       "<br><span style=\"color:#c2f0fe\">Sample</span>."
      ],
      "text/plain": [
       "<IPython.core.display.Markdown object>"
      ]
     },
     "metadata": {},
     "output_type": "display_data"
    },
    {
     "data": {
      "text/markdown": [
       "<br><span style=\"color:#5891e8\">Sample</span>."
      ],
      "text/plain": [
       "<IPython.core.display.Markdown object>"
      ]
     },
     "metadata": {},
     "output_type": "display_data"
    },
    {
     "data": {
      "text/markdown": [
       "<br><span style=\"color:#e28e42\">Sample</span>."
      ],
      "text/plain": [
       "<IPython.core.display.Markdown object>"
      ]
     },
     "metadata": {},
     "output_type": "display_data"
    },
    {
     "data": {
      "text/markdown": [
       "<br><span style=\"color:#f05fe2\">Sample</span>."
      ],
      "text/plain": [
       "<IPython.core.display.Markdown object>"
      ]
     },
     "metadata": {},
     "output_type": "display_data"
    },
    {
     "data": {
      "text/markdown": [
       "<br><span style=\"color:#5d5432\">Sample</span>."
      ],
      "text/plain": [
       "<IPython.core.display.Markdown object>"
      ]
     },
     "metadata": {},
     "output_type": "display_data"
    },
    {
     "data": {
      "text/markdown": [
       "<br><span style=\"color:#0bae9e\">Sample</span>."
      ],
      "text/plain": [
       "<IPython.core.display.Markdown object>"
      ]
     },
     "metadata": {},
     "output_type": "display_data"
    },
    {
     "data": {
      "text/markdown": [
       "<br><span style=\"color:#11850d\">Sample</span>."
      ],
      "text/plain": [
       "<IPython.core.display.Markdown object>"
      ]
     },
     "metadata": {},
     "output_type": "display_data"
    },
    {
     "data": {
      "text/markdown": [
       "<br><span style=\"color:#4a155d\">Sample</span>."
      ],
      "text/plain": [
       "<IPython.core.display.Markdown object>"
      ]
     },
     "metadata": {},
     "output_type": "display_data"
    },
    {
     "data": {
      "text/markdown": [
       "<br><span style=\"color:#651acb\">Sample</span>."
      ],
      "text/plain": [
       "<IPython.core.display.Markdown object>"
      ]
     },
     "metadata": {},
     "output_type": "display_data"
    },
    {
     "data": {
      "text/markdown": [
       "<br><span style=\"color:#b6b0a8\">Sample</span>."
      ],
      "text/plain": [
       "<IPython.core.display.Markdown object>"
      ]
     },
     "metadata": {},
     "output_type": "display_data"
    },
    {
     "data": {
      "text/markdown": [
       "<br><span style=\"color:#475c5a\">Sample</span>."
      ],
      "text/plain": [
       "<IPython.core.display.Markdown object>"
      ]
     },
     "metadata": {},
     "output_type": "display_data"
    },
    {
     "data": {
      "text/markdown": [
       "<br><span style=\"color:#fa243e\">Sample</span>."
      ],
      "text/plain": [
       "<IPython.core.display.Markdown object>"
      ]
     },
     "metadata": {},
     "output_type": "display_data"
    },
    {
     "data": {
      "text/markdown": [
       "<br><span style=\"color:#64924b\">Sample</span>."
      ],
      "text/plain": [
       "<IPython.core.display.Markdown object>"
      ]
     },
     "metadata": {},
     "output_type": "display_data"
    },
    {
     "data": {
      "text/markdown": [
       "<br><span style=\"color:#6f3e37\">Sample</span>."
      ],
      "text/plain": [
       "<IPython.core.display.Markdown object>"
      ]
     },
     "metadata": {},
     "output_type": "display_data"
    },
    {
     "data": {
      "text/markdown": [
       "<br><span style=\"color:#339538\">Sample</span>."
      ],
      "text/plain": [
       "<IPython.core.display.Markdown object>"
      ]
     },
     "metadata": {},
     "output_type": "display_data"
    },
    {
     "data": {
      "text/markdown": [
       "<br><span style=\"color:#cb7c88\">Sample</span>."
      ],
      "text/plain": [
       "<IPython.core.display.Markdown object>"
      ]
     },
     "metadata": {},
     "output_type": "display_data"
    },
    {
     "data": {
      "text/markdown": [
       "<br><span style=\"color:#b55390\">Sample</span>."
      ],
      "text/plain": [
       "<IPython.core.display.Markdown object>"
      ]
     },
     "metadata": {},
     "output_type": "display_data"
    },
    {
     "data": {
      "text/markdown": [
       "<br><span style=\"color:#4e14b1\">Sample</span>."
      ],
      "text/plain": [
       "<IPython.core.display.Markdown object>"
      ]
     },
     "metadata": {},
     "output_type": "display_data"
    },
    {
     "data": {
      "text/markdown": [
       "<br><span style=\"color:#1561c4\">Sample</span>."
      ],
      "text/plain": [
       "<IPython.core.display.Markdown object>"
      ]
     },
     "metadata": {},
     "output_type": "display_data"
    },
    {
     "data": {
      "text/markdown": [
       "<br><span style=\"color:#0f020e\">Sample</span>."
      ],
      "text/plain": [
       "<IPython.core.display.Markdown object>"
      ]
     },
     "metadata": {},
     "output_type": "display_data"
    },
    {
     "data": {
      "text/markdown": [
       "<br><span style=\"color:#6c6f1d\">Sample</span>."
      ],
      "text/plain": [
       "<IPython.core.display.Markdown object>"
      ]
     },
     "metadata": {},
     "output_type": "display_data"
    },
    {
     "data": {
      "text/markdown": [
       "<br><span style=\"color:#0cb604\">Sample</span>."
      ],
      "text/plain": [
       "<IPython.core.display.Markdown object>"
      ]
     },
     "metadata": {},
     "output_type": "display_data"
    },
    {
     "data": {
      "text/markdown": [
       "<br><span style=\"color:#6c176c\">Sample</span>."
      ],
      "text/plain": [
       "<IPython.core.display.Markdown object>"
      ]
     },
     "metadata": {},
     "output_type": "display_data"
    },
    {
     "data": {
      "text/markdown": [
       "<br><span style=\"color:#24459a\">Sample</span>."
      ],
      "text/plain": [
       "<IPython.core.display.Markdown object>"
      ]
     },
     "metadata": {},
     "output_type": "display_data"
    },
    {
     "data": {
      "text/markdown": [
       "<br><span style=\"color:#b3bdf5\">Sample</span>."
      ],
      "text/plain": [
       "<IPython.core.display.Markdown object>"
      ]
     },
     "metadata": {},
     "output_type": "display_data"
    },
    {
     "data": {
      "text/markdown": [
       "<br><span style=\"color:#a07575\">Sample</span>."
      ],
      "text/plain": [
       "<IPython.core.display.Markdown object>"
      ]
     },
     "metadata": {},
     "output_type": "display_data"
    },
    {
     "data": {
      "text/markdown": [
       "<br><span style=\"color:#55cfc9\">Sample</span>."
      ],
      "text/plain": [
       "<IPython.core.display.Markdown object>"
      ]
     },
     "metadata": {},
     "output_type": "display_data"
    },
    {
     "data": {
      "text/markdown": [
       "<br><span style=\"color:#7d547a\">Sample</span>."
      ],
      "text/plain": [
       "<IPython.core.display.Markdown object>"
      ]
     },
     "metadata": {},
     "output_type": "display_data"
    },
    {
     "data": {
      "text/markdown": [
       "<br><span style=\"color:#d1505f\">Sample</span>."
      ],
      "text/plain": [
       "<IPython.core.display.Markdown object>"
      ]
     },
     "metadata": {},
     "output_type": "display_data"
    },
    {
     "data": {
      "text/markdown": [
       "<br><span style=\"color:#f4811c\">Sample</span>."
      ],
      "text/plain": [
       "<IPython.core.display.Markdown object>"
      ]
     },
     "metadata": {},
     "output_type": "display_data"
    },
    {
     "data": {
      "text/markdown": [
       "<br><span style=\"color:#e06e7b\">Sample</span>."
      ],
      "text/plain": [
       "<IPython.core.display.Markdown object>"
      ]
     },
     "metadata": {},
     "output_type": "display_data"
    },
    {
     "data": {
      "text/markdown": [
       "<br><span style=\"color:#8a35ce\">Sample</span>."
      ],
      "text/plain": [
       "<IPython.core.display.Markdown object>"
      ]
     },
     "metadata": {},
     "output_type": "display_data"
    },
    {
     "data": {
      "text/markdown": [
       "<br><span style=\"color:#7d61ee\">Sample</span>."
      ],
      "text/plain": [
       "<IPython.core.display.Markdown object>"
      ]
     },
     "metadata": {},
     "output_type": "display_data"
    },
    {
     "data": {
      "text/markdown": [
       "<br><span style=\"color:#0f3d72\">Sample</span>."
      ],
      "text/plain": [
       "<IPython.core.display.Markdown object>"
      ]
     },
     "metadata": {},
     "output_type": "display_data"
    },
    {
     "data": {
      "text/markdown": [
       "<br><span style=\"color:#cbde1a\">Sample</span>."
      ],
      "text/plain": [
       "<IPython.core.display.Markdown object>"
      ]
     },
     "metadata": {},
     "output_type": "display_data"
    },
    {
     "data": {
      "text/markdown": [
       "<br><span style=\"color:#9ecde9\">Sample</span>."
      ],
      "text/plain": [
       "<IPython.core.display.Markdown object>"
      ]
     },
     "metadata": {},
     "output_type": "display_data"
    },
    {
     "data": {
      "text/markdown": [
       "<br><span style=\"color:#054f18\">Sample</span>."
      ],
      "text/plain": [
       "<IPython.core.display.Markdown object>"
      ]
     },
     "metadata": {},
     "output_type": "display_data"
    },
    {
     "data": {
      "text/markdown": [
       "<br><span style=\"color:#d7f133\">Sample</span>."
      ],
      "text/plain": [
       "<IPython.core.display.Markdown object>"
      ]
     },
     "metadata": {},
     "output_type": "display_data"
    },
    {
     "data": {
      "text/markdown": [
       "<br><span style=\"color:#a22478\">Sample</span>."
      ],
      "text/plain": [
       "<IPython.core.display.Markdown object>"
      ]
     },
     "metadata": {},
     "output_type": "display_data"
    },
    {
     "data": {
      "text/markdown": [
       "<br><span style=\"color:#fddcc1\">Sample</span>."
      ],
      "text/plain": [
       "<IPython.core.display.Markdown object>"
      ]
     },
     "metadata": {},
     "output_type": "display_data"
    },
    {
     "data": {
      "text/markdown": [
       "<br><span style=\"color:#a0b9f9\">Sample</span>."
      ],
      "text/plain": [
       "<IPython.core.display.Markdown object>"
      ]
     },
     "metadata": {},
     "output_type": "display_data"
    },
    {
     "data": {
      "text/markdown": [
       "<br><span style=\"color:#1d6f04\">Sample</span>."
      ],
      "text/plain": [
       "<IPython.core.display.Markdown object>"
      ]
     },
     "metadata": {},
     "output_type": "display_data"
    },
    {
     "data": {
      "text/markdown": [
       "<br><span style=\"color:#8afac5\">Sample</span>."
      ],
      "text/plain": [
       "<IPython.core.display.Markdown object>"
      ]
     },
     "metadata": {},
     "output_type": "display_data"
    },
    {
     "data": {
      "text/markdown": [
       "<br><span style=\"color:#041268\">Sample</span>."
      ],
      "text/plain": [
       "<IPython.core.display.Markdown object>"
      ]
     },
     "metadata": {},
     "output_type": "display_data"
    },
    {
     "data": {
      "text/markdown": [
       "<br><span style=\"color:#6f5538\">Sample</span>."
      ],
      "text/plain": [
       "<IPython.core.display.Markdown object>"
      ]
     },
     "metadata": {},
     "output_type": "display_data"
    },
    {
     "data": {
      "text/markdown": [
       "<br><span style=\"color:#443aa0\">Sample</span>."
      ],
      "text/plain": [
       "<IPython.core.display.Markdown object>"
      ]
     },
     "metadata": {},
     "output_type": "display_data"
    },
    {
     "data": {
      "text/markdown": [
       "<br><span style=\"color:#25760a\">Sample</span>."
      ],
      "text/plain": [
       "<IPython.core.display.Markdown object>"
      ]
     },
     "metadata": {},
     "output_type": "display_data"
    },
    {
     "data": {
      "text/markdown": [
       "<br><span style=\"color:#d20ebd\">Sample</span>."
      ],
      "text/plain": [
       "<IPython.core.display.Markdown object>"
      ]
     },
     "metadata": {},
     "output_type": "display_data"
    },
    {
     "data": {
      "text/markdown": [
       "<br><span style=\"color:#bbf3f9\">Sample</span>."
      ],
      "text/plain": [
       "<IPython.core.display.Markdown object>"
      ]
     },
     "metadata": {},
     "output_type": "display_data"
    },
    {
     "data": {
      "text/markdown": [
       "<br><span style=\"color:#c172cd\">Sample</span>."
      ],
      "text/plain": [
       "<IPython.core.display.Markdown object>"
      ]
     },
     "metadata": {},
     "output_type": "display_data"
    },
    {
     "data": {
      "text/markdown": [
       "<br><span style=\"color:#d9b9c6\">Sample</span>."
      ],
      "text/plain": [
       "<IPython.core.display.Markdown object>"
      ]
     },
     "metadata": {},
     "output_type": "display_data"
    },
    {
     "data": {
      "text/markdown": [
       "<br><span style=\"color:#e5c175\">Sample</span>."
      ],
      "text/plain": [
       "<IPython.core.display.Markdown object>"
      ]
     },
     "metadata": {},
     "output_type": "display_data"
    },
    {
     "data": {
      "text/markdown": [
       "<br><span style=\"color:#bdc36b\">Sample</span>."
      ],
      "text/plain": [
       "<IPython.core.display.Markdown object>"
      ]
     },
     "metadata": {},
     "output_type": "display_data"
    },
    {
     "data": {
      "text/markdown": [
       "<br><span style=\"color:#2b3b5d\">Sample</span>."
      ],
      "text/plain": [
       "<IPython.core.display.Markdown object>"
      ]
     },
     "metadata": {},
     "output_type": "display_data"
    },
    {
     "data": {
      "text/markdown": [
       "<br><span style=\"color:#36e361\">Sample</span>."
      ],
      "text/plain": [
       "<IPython.core.display.Markdown object>"
      ]
     },
     "metadata": {},
     "output_type": "display_data"
    },
    {
     "data": {
      "text/markdown": [
       "<br><span style=\"color:#aaa624\">Sample</span>."
      ],
      "text/plain": [
       "<IPython.core.display.Markdown object>"
      ]
     },
     "metadata": {},
     "output_type": "display_data"
    },
    {
     "data": {
      "text/markdown": [
       "<br><span style=\"color:#638370\">Sample</span>."
      ],
      "text/plain": [
       "<IPython.core.display.Markdown object>"
      ]
     },
     "metadata": {},
     "output_type": "display_data"
    },
    {
     "data": {
      "text/markdown": [
       "<br><span style=\"color:#36d192\">Sample</span>."
      ],
      "text/plain": [
       "<IPython.core.display.Markdown object>"
      ]
     },
     "metadata": {},
     "output_type": "display_data"
    },
    {
     "data": {
      "text/markdown": [
       "<br><span style=\"color:#e22083\">Sample</span>."
      ],
      "text/plain": [
       "<IPython.core.display.Markdown object>"
      ]
     },
     "metadata": {},
     "output_type": "display_data"
    },
    {
     "data": {
      "text/markdown": [
       "<br><span style=\"color:#d5f275\">Sample</span>."
      ],
      "text/plain": [
       "<IPython.core.display.Markdown object>"
      ]
     },
     "metadata": {},
     "output_type": "display_data"
    },
    {
     "data": {
      "text/markdown": [
       "<br><span style=\"color:#bcc46b\">Sample</span>."
      ],
      "text/plain": [
       "<IPython.core.display.Markdown object>"
      ]
     },
     "metadata": {},
     "output_type": "display_data"
    },
    {
     "data": {
      "text/markdown": [
       "<br><span style=\"color:#5f3b64\">Sample</span>."
      ],
      "text/plain": [
       "<IPython.core.display.Markdown object>"
      ]
     },
     "metadata": {},
     "output_type": "display_data"
    },
    {
     "data": {
      "text/markdown": [
       "<br><span style=\"color:#6ca810\">Sample</span>."
      ],
      "text/plain": [
       "<IPython.core.display.Markdown object>"
      ]
     },
     "metadata": {},
     "output_type": "display_data"
    },
    {
     "data": {
      "text/markdown": [
       "<br><span style=\"color:#41c160\">Sample</span>."
      ],
      "text/plain": [
       "<IPython.core.display.Markdown object>"
      ]
     },
     "metadata": {},
     "output_type": "display_data"
    },
    {
     "data": {
      "text/markdown": [
       "<br><span style=\"color:#77b0a0\">Sample</span>."
      ],
      "text/plain": [
       "<IPython.core.display.Markdown object>"
      ]
     },
     "metadata": {},
     "output_type": "display_data"
    },
    {
     "data": {
      "text/markdown": [
       "<br><span style=\"color:#f60dce\">Sample</span>."
      ],
      "text/plain": [
       "<IPython.core.display.Markdown object>"
      ]
     },
     "metadata": {},
     "output_type": "display_data"
    },
    {
     "data": {
      "text/markdown": [
       "<br><span style=\"color:#cb8ef2\">Sample</span>."
      ],
      "text/plain": [
       "<IPython.core.display.Markdown object>"
      ]
     },
     "metadata": {},
     "output_type": "display_data"
    },
    {
     "data": {
      "text/markdown": [
       "<br><span style=\"color:#15c0b0\">Sample</span>."
      ],
      "text/plain": [
       "<IPython.core.display.Markdown object>"
      ]
     },
     "metadata": {},
     "output_type": "display_data"
    },
    {
     "data": {
      "text/markdown": [
       "<br><span style=\"color:#1df186\">Sample</span>."
      ],
      "text/plain": [
       "<IPython.core.display.Markdown object>"
      ]
     },
     "metadata": {},
     "output_type": "display_data"
    },
    {
     "data": {
      "text/markdown": [
       "<br><span style=\"color:#ccfbbc\">Sample</span>."
      ],
      "text/plain": [
       "<IPython.core.display.Markdown object>"
      ]
     },
     "metadata": {},
     "output_type": "display_data"
    },
    {
     "data": {
      "text/markdown": [
       "<br><span style=\"color:#419225\">Sample</span>."
      ],
      "text/plain": [
       "<IPython.core.display.Markdown object>"
      ]
     },
     "metadata": {},
     "output_type": "display_data"
    },
    {
     "data": {
      "text/markdown": [
       "<br><span style=\"color:#1d0cc5\">Sample</span>."
      ],
      "text/plain": [
       "<IPython.core.display.Markdown object>"
      ]
     },
     "metadata": {},
     "output_type": "display_data"
    },
    {
     "data": {
      "text/markdown": [
       "<br><span style=\"color:#d39d9a\">Sample</span>."
      ],
      "text/plain": [
       "<IPython.core.display.Markdown object>"
      ]
     },
     "metadata": {},
     "output_type": "display_data"
    },
    {
     "data": {
      "text/markdown": [
       "<br><span style=\"color:#16dea4\">Sample</span>."
      ],
      "text/plain": [
       "<IPython.core.display.Markdown object>"
      ]
     },
     "metadata": {},
     "output_type": "display_data"
    },
    {
     "data": {
      "text/markdown": [
       "<br><span style=\"color:#76d8ec\">Sample</span>."
      ],
      "text/plain": [
       "<IPython.core.display.Markdown object>"
      ]
     },
     "metadata": {},
     "output_type": "display_data"
    },
    {
     "data": {
      "text/markdown": [
       "<br><span style=\"color:#807324\">Sample</span>."
      ],
      "text/plain": [
       "<IPython.core.display.Markdown object>"
      ]
     },
     "metadata": {},
     "output_type": "display_data"
    },
    {
     "data": {
      "text/markdown": [
       "<br><span style=\"color:#8e3e51\">Sample</span>."
      ],
      "text/plain": [
       "<IPython.core.display.Markdown object>"
      ]
     },
     "metadata": {},
     "output_type": "display_data"
    },
    {
     "data": {
      "text/markdown": [
       "<br><span style=\"color:#ce68d4\">Sample</span>."
      ],
      "text/plain": [
       "<IPython.core.display.Markdown object>"
      ]
     },
     "metadata": {},
     "output_type": "display_data"
    },
    {
     "data": {
      "text/markdown": [
       "<br><span style=\"color:#f5d82f\">Sample</span>."
      ],
      "text/plain": [
       "<IPython.core.display.Markdown object>"
      ]
     },
     "metadata": {},
     "output_type": "display_data"
    },
    {
     "data": {
      "text/markdown": [
       "<br><span style=\"color:#c65536\">Sample</span>."
      ],
      "text/plain": [
       "<IPython.core.display.Markdown object>"
      ]
     },
     "metadata": {},
     "output_type": "display_data"
    },
    {
     "data": {
      "text/markdown": [
       "<br><span style=\"color:#21aa64\">Sample</span>."
      ],
      "text/plain": [
       "<IPython.core.display.Markdown object>"
      ]
     },
     "metadata": {},
     "output_type": "display_data"
    },
    {
     "data": {
      "text/markdown": [
       "<br><span style=\"color:#9a0ecc\">Sample</span>."
      ],
      "text/plain": [
       "<IPython.core.display.Markdown object>"
      ]
     },
     "metadata": {},
     "output_type": "display_data"
    },
    {
     "data": {
      "text/markdown": [
       "<br><span style=\"color:#29fe2b\">Sample</span>."
      ],
      "text/plain": [
       "<IPython.core.display.Markdown object>"
      ]
     },
     "metadata": {},
     "output_type": "display_data"
    },
    {
     "data": {
      "text/markdown": [
       "<br><span style=\"color:#9b85fa\">Sample</span>."
      ],
      "text/plain": [
       "<IPython.core.display.Markdown object>"
      ]
     },
     "metadata": {},
     "output_type": "display_data"
    },
    {
     "data": {
      "text/markdown": [
       "<br><span style=\"color:#a93650\">Sample</span>."
      ],
      "text/plain": [
       "<IPython.core.display.Markdown object>"
      ]
     },
     "metadata": {},
     "output_type": "display_data"
    },
    {
     "data": {
      "text/markdown": [
       "<br><span style=\"color:#a95d9a\">Sample</span>."
      ],
      "text/plain": [
       "<IPython.core.display.Markdown object>"
      ]
     },
     "metadata": {},
     "output_type": "display_data"
    },
    {
     "data": {
      "text/markdown": [
       "<br><span style=\"color:#0aabd4\">Sample</span>."
      ],
      "text/plain": [
       "<IPython.core.display.Markdown object>"
      ]
     },
     "metadata": {},
     "output_type": "display_data"
    },
    {
     "data": {
      "text/markdown": [
       "<br><span style=\"color:#f3c40a\">Sample</span>."
      ],
      "text/plain": [
       "<IPython.core.display.Markdown object>"
      ]
     },
     "metadata": {},
     "output_type": "display_data"
    },
    {
     "data": {
      "text/markdown": [
       "<br><span style=\"color:#9ec1d4\">Sample</span>."
      ],
      "text/plain": [
       "<IPython.core.display.Markdown object>"
      ]
     },
     "metadata": {},
     "output_type": "display_data"
    },
    {
     "data": {
      "text/markdown": [
       "<br><span style=\"color:#c3f1db\">Sample</span>."
      ],
      "text/plain": [
       "<IPython.core.display.Markdown object>"
      ]
     },
     "metadata": {},
     "output_type": "display_data"
    },
    {
     "data": {
      "text/markdown": [
       "<br><span style=\"color:#fd820a\">Sample</span>."
      ],
      "text/plain": [
       "<IPython.core.display.Markdown object>"
      ]
     },
     "metadata": {},
     "output_type": "display_data"
    },
    {
     "data": {
      "text/markdown": [
       "<br><span style=\"color:#51c8f5\">Sample</span>."
      ],
      "text/plain": [
       "<IPython.core.display.Markdown object>"
      ]
     },
     "metadata": {},
     "output_type": "display_data"
    },
    {
     "data": {
      "text/markdown": [
       "<br><span style=\"color:#410330\">Sample</span>."
      ],
      "text/plain": [
       "<IPython.core.display.Markdown object>"
      ]
     },
     "metadata": {},
     "output_type": "display_data"
    },
    {
     "data": {
      "text/markdown": [
       "<br><span style=\"color:#e2a3a4\">Sample</span>."
      ],
      "text/plain": [
       "<IPython.core.display.Markdown object>"
      ]
     },
     "metadata": {},
     "output_type": "display_data"
    },
    {
     "data": {
      "text/markdown": [
       "<br><span style=\"color:#deda03\">Sample</span>."
      ],
      "text/plain": [
       "<IPython.core.display.Markdown object>"
      ]
     },
     "metadata": {},
     "output_type": "display_data"
    },
    {
     "data": {
      "text/markdown": [
       "<br><span style=\"color:#96bf8a\">Sample</span>."
      ],
      "text/plain": [
       "<IPython.core.display.Markdown object>"
      ]
     },
     "metadata": {},
     "output_type": "display_data"
    }
   ],
   "source": [
    "from IPython.display import Markdown\n",
    "for color in color_dict:\n",
    "    display (Markdown('<br><span style=\"color:' +color['color_code']+ '\">Sample</span>.'))\n",
    "    \n"
   ]
  },
  {
   "cell_type": "code",
   "execution_count": 25,
   "metadata": {},
   "outputs": [
    {
     "name": "stdout",
     "output_type": "stream",
     "text": [
      "(2723, 189)\n"
     ]
    },
    {
     "data": {
      "text/html": [
       "<div>\n",
       "<style scoped>\n",
       "    .dataframe tbody tr th:only-of-type {\n",
       "        vertical-align: middle;\n",
       "    }\n",
       "\n",
       "    .dataframe tbody tr th {\n",
       "        vertical-align: top;\n",
       "    }\n",
       "\n",
       "    .dataframe thead th {\n",
       "        text-align: right;\n",
       "    }\n",
       "</style>\n",
       "<table border=\"1\" class=\"dataframe\">\n",
       "  <thead>\n",
       "    <tr style=\"text-align: right;\">\n",
       "      <th></th>\n",
       "      <th>EntryID</th>\n",
       "      <th>LemmaID</th>\n",
       "      <th>Code</th>\n",
       "      <th>Batch</th>\n",
       "      <th>List</th>\n",
       "      <th>Item</th>\n",
       "      <th>YouTube Video</th>\n",
       "      <th>VimeoVideoHTML</th>\n",
       "      <th>VimeoVideo</th>\n",
       "      <th>SubtLexUSLog10WF</th>\n",
       "      <th>...</th>\n",
       "      <th>Parameter.Neighborhood.Density.2.0</th>\n",
       "      <th>Neighborhood Density 2.0</th>\n",
       "      <th>SignBankAnnotationID</th>\n",
       "      <th>SignBankEnglishTranslations</th>\n",
       "      <th>SignBankLemmaID</th>\n",
       "      <th>SignBankReferenceID</th>\n",
       "      <th>bglm_aoa</th>\n",
       "      <th>empirical_aoa</th>\n",
       "      <th>group_id</th>\n",
       "      <th>color_code</th>\n",
       "    </tr>\n",
       "  </thead>\n",
       "  <tbody>\n",
       "    <tr>\n",
       "      <th>0</th>\n",
       "      <td>1_dollar</td>\n",
       "      <td>1_dollar</td>\n",
       "      <td>C_02_025</td>\n",
       "      <td>C</td>\n",
       "      <td>2.0</td>\n",
       "      <td>25.0</td>\n",
       "      <td>&lt;iframe width=\"280\" height=\"158\" src=\"https://...</td>\n",
       "      <td>&lt;iframe src=https://player.vimeo.com/video/345...</td>\n",
       "      <td>https://player.vimeo.com/video/345587917</td>\n",
       "      <td>NaN</td>\n",
       "      <td>...</td>\n",
       "      <td>383</td>\n",
       "      <td>0</td>\n",
       "      <td>DOLLAR</td>\n",
       "      <td>bill, cash, dollar, money</td>\n",
       "      <td>1_DOLLAR</td>\n",
       "      <td>1268.0</td>\n",
       "      <td>NaN</td>\n",
       "      <td>NaN</td>\n",
       "      <td>1000.0</td>\n",
       "      <td>#816139</td>\n",
       "    </tr>\n",
       "    <tr>\n",
       "      <th>1</th>\n",
       "      <td>5_dollars</td>\n",
       "      <td>5_dollars</td>\n",
       "      <td>B_01_062</td>\n",
       "      <td>B</td>\n",
       "      <td>1.0</td>\n",
       "      <td>62.0</td>\n",
       "      <td>&lt;iframe width=\"280\" height=\"158\" src=\"https://...</td>\n",
       "      <td>&lt;iframe src=https://player.vimeo.com/video/344...</td>\n",
       "      <td>https://player.vimeo.com/video/344399314</td>\n",
       "      <td>NaN</td>\n",
       "      <td>...</td>\n",
       "      <td>190</td>\n",
       "      <td>4</td>\n",
       "      <td>FIVE-DOLLARS</td>\n",
       "      <td>dollar, five dollars, money</td>\n",
       "      <td>5_DOLLAR</td>\n",
       "      <td>2436.0</td>\n",
       "      <td>NaN</td>\n",
       "      <td>NaN</td>\n",
       "      <td>0.0</td>\n",
       "      <td>#273900</td>\n",
       "    </tr>\n",
       "    <tr>\n",
       "      <th>2</th>\n",
       "      <td>8_hour</td>\n",
       "      <td>8_hour</td>\n",
       "      <td>C_02_055</td>\n",
       "      <td>C</td>\n",
       "      <td>2.0</td>\n",
       "      <td>55.0</td>\n",
       "      <td>&lt;iframe width=\"280\" height=\"158\" src=\"https://...</td>\n",
       "      <td>&lt;iframe src=\"https://player.vimeo.com/video/34...</td>\n",
       "      <td>https://player.vimeo.com/video/345588916</td>\n",
       "      <td>NaN</td>\n",
       "      <td>...</td>\n",
       "      <td>129</td>\n",
       "      <td>0</td>\n",
       "      <td>EIGHT-HOURSneut</td>\n",
       "      <td>eight hours, 8 hours, hour, time</td>\n",
       "      <td>NUMBER-HOURS</td>\n",
       "      <td>2437.0</td>\n",
       "      <td>NaN</td>\n",
       "      <td>NaN</td>\n",
       "      <td>1000.0</td>\n",
       "      <td>#816139</td>\n",
       "    </tr>\n",
       "    <tr>\n",
       "      <th>3</th>\n",
       "      <td>9_oclock</td>\n",
       "      <td>9_oclock</td>\n",
       "      <td>C_02_080</td>\n",
       "      <td>C</td>\n",
       "      <td>2.0</td>\n",
       "      <td>80.0</td>\n",
       "      <td>&lt;iframe width=\"280\" height=\"158\" src=\"https://...</td>\n",
       "      <td>&lt;iframe src=https://player.vimeo.com/video/345...</td>\n",
       "      <td>https://player.vimeo.com/video/345589804</td>\n",
       "      <td>NaN</td>\n",
       "      <td>...</td>\n",
       "      <td>48</td>\n",
       "      <td>4</td>\n",
       "      <td>OCLOCK-NINE</td>\n",
       "      <td>9:00, 9 o'clock, nine o'clock, o'clock, time</td>\n",
       "      <td>OCLOCK-NUMBER</td>\n",
       "      <td>2857.0</td>\n",
       "      <td>NaN</td>\n",
       "      <td>NaN</td>\n",
       "      <td>130.0</td>\n",
       "      <td>#f644de</td>\n",
       "    </tr>\n",
       "    <tr>\n",
       "      <th>4</th>\n",
       "      <td>a-line_bob</td>\n",
       "      <td>a-line_bob</td>\n",
       "      <td>K_03_127</td>\n",
       "      <td>K</td>\n",
       "      <td>NaN</td>\n",
       "      <td>NaN</td>\n",
       "      <td>NaN</td>\n",
       "      <td>&lt;iframe src=https://player.vimeo.com/video/342...</td>\n",
       "      <td>https://player.vimeo.com/video/342308099</td>\n",
       "      <td>NaN</td>\n",
       "      <td>...</td>\n",
       "      <td>158</td>\n",
       "      <td>4</td>\n",
       "      <td>NaN</td>\n",
       "      <td>NaN</td>\n",
       "      <td>NaN</td>\n",
       "      <td>NaN</td>\n",
       "      <td>NaN</td>\n",
       "      <td>NaN</td>\n",
       "      <td>169.0</td>\n",
       "      <td>#4a6838</td>\n",
       "    </tr>\n",
       "  </tbody>\n",
       "</table>\n",
       "<p>5 rows × 189 columns</p>\n",
       "</div>"
      ],
      "text/plain": [
       "      EntryID     LemmaID      Code Batch  List  Item  \\\n",
       "0    1_dollar    1_dollar  C_02_025     C   2.0  25.0   \n",
       "1   5_dollars   5_dollars  B_01_062     B   1.0  62.0   \n",
       "2      8_hour      8_hour  C_02_055     C   2.0  55.0   \n",
       "3    9_oclock    9_oclock  C_02_080     C   2.0  80.0   \n",
       "4  a-line_bob  a-line_bob  K_03_127     K   NaN   NaN   \n",
       "\n",
       "                                       YouTube Video  \\\n",
       "0  <iframe width=\"280\" height=\"158\" src=\"https://...   \n",
       "1  <iframe width=\"280\" height=\"158\" src=\"https://...   \n",
       "2  <iframe width=\"280\" height=\"158\" src=\"https://...   \n",
       "3  <iframe width=\"280\" height=\"158\" src=\"https://...   \n",
       "4                                                NaN   \n",
       "\n",
       "                                      VimeoVideoHTML  \\\n",
       "0  <iframe src=https://player.vimeo.com/video/345...   \n",
       "1  <iframe src=https://player.vimeo.com/video/344...   \n",
       "2  <iframe src=\"https://player.vimeo.com/video/34...   \n",
       "3  <iframe src=https://player.vimeo.com/video/345...   \n",
       "4  <iframe src=https://player.vimeo.com/video/342...   \n",
       "\n",
       "                                 VimeoVideo  SubtLexUSLog10WF  ...  \\\n",
       "0  https://player.vimeo.com/video/345587917               NaN  ...   \n",
       "1  https://player.vimeo.com/video/344399314               NaN  ...   \n",
       "2  https://player.vimeo.com/video/345588916               NaN  ...   \n",
       "3  https://player.vimeo.com/video/345589804               NaN  ...   \n",
       "4  https://player.vimeo.com/video/342308099               NaN  ...   \n",
       "\n",
       "   Parameter.Neighborhood.Density.2.0  Neighborhood Density 2.0  \\\n",
       "0                                 383                         0   \n",
       "1                                 190                         4   \n",
       "2                                 129                         0   \n",
       "3                                  48                         4   \n",
       "4                                 158                         4   \n",
       "\n",
       "   SignBankAnnotationID                   SignBankEnglishTranslations  \\\n",
       "0                DOLLAR                     bill, cash, dollar, money   \n",
       "1          FIVE-DOLLARS                   dollar, five dollars, money   \n",
       "2       EIGHT-HOURSneut              eight hours, 8 hours, hour, time   \n",
       "3           OCLOCK-NINE  9:00, 9 o'clock, nine o'clock, o'clock, time   \n",
       "4                   NaN                                           NaN   \n",
       "\n",
       "   SignBankLemmaID  SignBankReferenceID  bglm_aoa  empirical_aoa  group_id  \\\n",
       "0         1_DOLLAR               1268.0       NaN            NaN    1000.0   \n",
       "1         5_DOLLAR               2436.0       NaN            NaN       0.0   \n",
       "2     NUMBER-HOURS               2437.0       NaN            NaN    1000.0   \n",
       "3    OCLOCK-NUMBER               2857.0       NaN            NaN     130.0   \n",
       "4              NaN                  NaN       NaN            NaN     169.0   \n",
       "\n",
       "   color_code  \n",
       "0     #816139  \n",
       "1     #273900  \n",
       "2     #816139  \n",
       "3     #f644de  \n",
       "4     #4a6838  \n",
       "\n",
       "[5 rows x 189 columns]"
      ]
     },
     "execution_count": 25,
     "metadata": {},
     "output_type": "execute_result"
    }
   ],
   "source": [
    "color_df = pd.DataFrame(color_dict)\n",
    "df_merged_with_color = pd.merge(df_merged, color_df,how='left', on=['group_id'])\n",
    "print(df_merged_with_color.shape)\n",
    "df_merged_with_color.head()\n"
   ]
  },
  {
   "cell_type": "code",
   "execution_count": 26,
   "metadata": {},
   "outputs": [
    {
     "data": {
      "text/plain": [
       "(2723, 189)"
      ]
     },
     "execution_count": 26,
     "metadata": {},
     "output_type": "execute_result"
    }
   ],
   "source": [
    "df_merged_with_color.shape"
   ]
  },
  {
   "cell_type": "code",
   "execution_count": 27,
   "metadata": {},
   "outputs": [
    {
     "name": "stdout",
     "output_type": "stream",
     "text": [
      "(2723, 5)\n"
     ]
    },
    {
     "data": {
      "text/html": [
       "<div>\n",
       "<style scoped>\n",
       "    .dataframe tbody tr th:only-of-type {\n",
       "        vertical-align: middle;\n",
       "    }\n",
       "\n",
       "    .dataframe tbody tr th {\n",
       "        vertical-align: top;\n",
       "    }\n",
       "\n",
       "    .dataframe thead th {\n",
       "        text-align: right;\n",
       "    }\n",
       "</style>\n",
       "<table border=\"1\" class=\"dataframe\">\n",
       "  <thead>\n",
       "    <tr style=\"text-align: right;\">\n",
       "      <th></th>\n",
       "      <th>EntryID</th>\n",
       "      <th>Code</th>\n",
       "      <th>group_id</th>\n",
       "      <th>color_code</th>\n",
       "      <th>SignFrequency(Z)</th>\n",
       "    </tr>\n",
       "  </thead>\n",
       "  <tbody>\n",
       "    <tr>\n",
       "      <th>0</th>\n",
       "      <td>1_dollar</td>\n",
       "      <td>C_02_025</td>\n",
       "      <td>1000.0</td>\n",
       "      <td>#816139</td>\n",
       "      <td>-0.728</td>\n",
       "    </tr>\n",
       "    <tr>\n",
       "      <th>1</th>\n",
       "      <td>5_dollars</td>\n",
       "      <td>B_01_062</td>\n",
       "      <td>0.0</td>\n",
       "      <td>#273900</td>\n",
       "      <td>0.302</td>\n",
       "    </tr>\n",
       "    <tr>\n",
       "      <th>2</th>\n",
       "      <td>8_hour</td>\n",
       "      <td>C_02_055</td>\n",
       "      <td>1000.0</td>\n",
       "      <td>#816139</td>\n",
       "      <td>-0.025</td>\n",
       "    </tr>\n",
       "    <tr>\n",
       "      <th>3</th>\n",
       "      <td>9_oclock</td>\n",
       "      <td>C_02_080</td>\n",
       "      <td>130.0</td>\n",
       "      <td>#f644de</td>\n",
       "      <td>-0.122</td>\n",
       "    </tr>\n",
       "    <tr>\n",
       "      <th>4</th>\n",
       "      <td>a-line_bob</td>\n",
       "      <td>K_03_127</td>\n",
       "      <td>169.0</td>\n",
       "      <td>#4a6838</td>\n",
       "      <td>0.030</td>\n",
       "    </tr>\n",
       "    <tr>\n",
       "      <th>5</th>\n",
       "      <td>a_little_bit</td>\n",
       "      <td>H_03_025</td>\n",
       "      <td>117.0</td>\n",
       "      <td>#6deeff</td>\n",
       "      <td>-0.762</td>\n",
       "    </tr>\n",
       "    <tr>\n",
       "      <th>6</th>\n",
       "      <td>abbreviate</td>\n",
       "      <td>G_01_040</td>\n",
       "      <td>242.0</td>\n",
       "      <td>#fd77a8</td>\n",
       "      <td>0.669</td>\n",
       "    </tr>\n",
       "    <tr>\n",
       "      <th>7</th>\n",
       "      <td>about_1</td>\n",
       "      <td>B_02_072</td>\n",
       "      <td>128.0</td>\n",
       "      <td>#8064fa</td>\n",
       "      <td>0.523</td>\n",
       "    </tr>\n",
       "    <tr>\n",
       "      <th>8</th>\n",
       "      <td>about_2</td>\n",
       "      <td>B_02_003</td>\n",
       "      <td>1000.0</td>\n",
       "      <td>#816139</td>\n",
       "      <td>-0.762</td>\n",
       "    </tr>\n",
       "    <tr>\n",
       "      <th>9</th>\n",
       "      <td>absolutely_nothing</td>\n",
       "      <td>J_01_027</td>\n",
       "      <td>52.0</td>\n",
       "      <td>#dcc06b</td>\n",
       "      <td>-0.686</td>\n",
       "    </tr>\n",
       "    <tr>\n",
       "      <th>10</th>\n",
       "      <td>accent</td>\n",
       "      <td>E_01_073</td>\n",
       "      <td>1000.0</td>\n",
       "      <td>#816139</td>\n",
       "      <td>-0.681</td>\n",
       "    </tr>\n",
       "    <tr>\n",
       "      <th>11</th>\n",
       "      <td>accept</td>\n",
       "      <td>H_02_042</td>\n",
       "      <td>1000.0</td>\n",
       "      <td>#816139</td>\n",
       "      <td>0.812</td>\n",
       "    </tr>\n",
       "    <tr>\n",
       "      <th>12</th>\n",
       "      <td>access</td>\n",
       "      <td>H_02_086</td>\n",
       "      <td>199.0</td>\n",
       "      <td>#82f9ac</td>\n",
       "      <td>0.527</td>\n",
       "    </tr>\n",
       "    <tr>\n",
       "      <th>13</th>\n",
       "      <td>accident</td>\n",
       "      <td>B_02_059</td>\n",
       "      <td>125.0</td>\n",
       "      <td>#d90903</td>\n",
       "      <td>-0.326</td>\n",
       "    </tr>\n",
       "    <tr>\n",
       "      <th>14</th>\n",
       "      <td>accomplish</td>\n",
       "      <td>C_02_085</td>\n",
       "      <td>167.0</td>\n",
       "      <td>#dbeba1</td>\n",
       "      <td>0.078</td>\n",
       "    </tr>\n",
       "    <tr>\n",
       "      <th>15</th>\n",
       "      <td>accordion</td>\n",
       "      <td>F_02_048</td>\n",
       "      <td>41.0</td>\n",
       "      <td>#477dd9</td>\n",
       "      <td>-1.423</td>\n",
       "    </tr>\n",
       "    <tr>\n",
       "      <th>16</th>\n",
       "      <td>accountant</td>\n",
       "      <td>A_03_044</td>\n",
       "      <td>87.0</td>\n",
       "      <td>#a4dbc4</td>\n",
       "      <td>-0.381</td>\n",
       "    </tr>\n",
       "    <tr>\n",
       "      <th>17</th>\n",
       "      <td>acquire</td>\n",
       "      <td>H_01_034</td>\n",
       "      <td>168.0</td>\n",
       "      <td>#b761d7</td>\n",
       "      <td>0.676</td>\n",
       "    </tr>\n",
       "    <tr>\n",
       "      <th>18</th>\n",
       "      <td>act</td>\n",
       "      <td>B_02_038</td>\n",
       "      <td>60.0</td>\n",
       "      <td>#43adc0</td>\n",
       "      <td>-0.214</td>\n",
       "    </tr>\n",
       "    <tr>\n",
       "      <th>19</th>\n",
       "      <td>action</td>\n",
       "      <td>C_01_026</td>\n",
       "      <td>2.0</td>\n",
       "      <td>#227623</td>\n",
       "      <td>-0.017</td>\n",
       "    </tr>\n",
       "  </tbody>\n",
       "</table>\n",
       "</div>"
      ],
      "text/plain": [
       "               EntryID      Code  group_id color_code  SignFrequency(Z)\n",
       "0             1_dollar  C_02_025    1000.0    #816139            -0.728\n",
       "1            5_dollars  B_01_062       0.0    #273900             0.302\n",
       "2               8_hour  C_02_055    1000.0    #816139            -0.025\n",
       "3             9_oclock  C_02_080     130.0    #f644de            -0.122\n",
       "4           a-line_bob  K_03_127     169.0    #4a6838             0.030\n",
       "5         a_little_bit  H_03_025     117.0    #6deeff            -0.762\n",
       "6           abbreviate  G_01_040     242.0    #fd77a8             0.669\n",
       "7              about_1  B_02_072     128.0    #8064fa             0.523\n",
       "8              about_2  B_02_003    1000.0    #816139            -0.762\n",
       "9   absolutely_nothing  J_01_027      52.0    #dcc06b            -0.686\n",
       "10              accent  E_01_073    1000.0    #816139            -0.681\n",
       "11              accept  H_02_042    1000.0    #816139             0.812\n",
       "12              access  H_02_086     199.0    #82f9ac             0.527\n",
       "13            accident  B_02_059     125.0    #d90903            -0.326\n",
       "14          accomplish  C_02_085     167.0    #dbeba1             0.078\n",
       "15           accordion  F_02_048      41.0    #477dd9            -1.423\n",
       "16          accountant  A_03_044      87.0    #a4dbc4            -0.381\n",
       "17             acquire  H_01_034     168.0    #b761d7             0.676\n",
       "18                 act  B_02_038      60.0    #43adc0            -0.214\n",
       "19              action  C_01_026       2.0    #227623            -0.017"
      ]
     },
     "execution_count": 27,
     "metadata": {},
     "output_type": "execute_result"
    }
   ],
   "source": [
    "#Need only 5 columns for now for the graph file\n",
    "df_node_graph_json_data = df_merged_with_color[[\"EntryID\", \"Code\", \"group_id\", \"color_code\", \"SignFrequency(Z)\"]]\n",
    "print(df_node_graph_json_data.shape)\n",
    "df_node_graph_json_data.head(20)\n"
   ]
  },
  {
   "cell_type": "code",
   "execution_count": 28,
   "metadata": {},
   "outputs": [
    {
     "data": {
      "text/html": [
       "<div>\n",
       "<style scoped>\n",
       "    .dataframe tbody tr th:only-of-type {\n",
       "        vertical-align: middle;\n",
       "    }\n",
       "\n",
       "    .dataframe tbody tr th {\n",
       "        vertical-align: top;\n",
       "    }\n",
       "\n",
       "    .dataframe thead th {\n",
       "        text-align: right;\n",
       "    }\n",
       "</style>\n",
       "<table border=\"1\" class=\"dataframe\">\n",
       "  <thead>\n",
       "    <tr style=\"text-align: right;\">\n",
       "      <th></th>\n",
       "      <th>target</th>\n",
       "      <th>source</th>\n",
       "      <th>num_matched_features</th>\n",
       "      <th>matched_features</th>\n",
       "      <th>num_missed_features</th>\n",
       "      <th>missed_features</th>\n",
       "    </tr>\n",
       "  </thead>\n",
       "  <tbody>\n",
       "    <tr>\n",
       "      <th>0</th>\n",
       "      <td>A_01_002</td>\n",
       "      <td>B_01_062</td>\n",
       "      <td>13</td>\n",
       "      <td>SelectedFingers.2.0, Flexion.2.0, FlexionChang...</td>\n",
       "      <td>0</td>\n",
       "      <td>NaN</td>\n",
       "    </tr>\n",
       "    <tr>\n",
       "      <th>1</th>\n",
       "      <td>A_01_002</td>\n",
       "      <td>C_03_023</td>\n",
       "      <td>12</td>\n",
       "      <td>SelectedFingers.2.0, FlexionChange.2.0, Spread...</td>\n",
       "      <td>1</td>\n",
       "      <td>Flexion.2.0</td>\n",
       "    </tr>\n",
       "    <tr>\n",
       "      <th>2</th>\n",
       "      <td>A_01_002</td>\n",
       "      <td>F_02_088</td>\n",
       "      <td>12</td>\n",
       "      <td>Flexion.2.0, FlexionChange.2.0, Spread.2.0, Sp...</td>\n",
       "      <td>1</td>\n",
       "      <td>SelectedFingers.2.0</td>\n",
       "    </tr>\n",
       "    <tr>\n",
       "      <th>3</th>\n",
       "      <td>A_01_002</td>\n",
       "      <td>H_03_004</td>\n",
       "      <td>12</td>\n",
       "      <td>SelectedFingers.2.0, Flexion.2.0, FlexionChang...</td>\n",
       "      <td>1</td>\n",
       "      <td>ThumbPosition.2.0</td>\n",
       "    </tr>\n",
       "    <tr>\n",
       "      <th>4</th>\n",
       "      <td>A_01_002</td>\n",
       "      <td>J_03_046</td>\n",
       "      <td>13</td>\n",
       "      <td>SelectedFingers.2.0, Flexion.2.0, FlexionChang...</td>\n",
       "      <td>0</td>\n",
       "      <td>NaN</td>\n",
       "    </tr>\n",
       "  </tbody>\n",
       "</table>\n",
       "</div>"
      ],
      "text/plain": [
       "     target    source  num_matched_features  \\\n",
       "0  A_01_002  B_01_062                    13   \n",
       "1  A_01_002  C_03_023                    12   \n",
       "2  A_01_002  F_02_088                    12   \n",
       "3  A_01_002  H_03_004                    12   \n",
       "4  A_01_002  J_03_046                    13   \n",
       "\n",
       "                                    matched_features  num_missed_features  \\\n",
       "0  SelectedFingers.2.0, Flexion.2.0, FlexionChang...                    0   \n",
       "1  SelectedFingers.2.0, FlexionChange.2.0, Spread...                    1   \n",
       "2  Flexion.2.0, FlexionChange.2.0, Spread.2.0, Sp...                    1   \n",
       "3  SelectedFingers.2.0, Flexion.2.0, FlexionChang...                    1   \n",
       "4  SelectedFingers.2.0, Flexion.2.0, FlexionChang...                    0   \n",
       "\n",
       "       missed_features  \n",
       "0                  NaN  \n",
       "1          Flexion.2.0  \n",
       "2  SelectedFingers.2.0  \n",
       "3    ThumbPosition.2.0  \n",
       "4                  NaN  "
      ]
     },
     "execution_count": 28,
     "metadata": {},
     "output_type": "execute_result"
    }
   ],
   "source": [
    "edges_df.head()"
   ]
  },
  {
   "cell_type": "code",
   "execution_count": 29,
   "metadata": {},
   "outputs": [
    {
     "data": {
      "text/html": [
       "<div>\n",
       "<style scoped>\n",
       "    .dataframe tbody tr th:only-of-type {\n",
       "        vertical-align: middle;\n",
       "    }\n",
       "\n",
       "    .dataframe tbody tr th {\n",
       "        vertical-align: top;\n",
       "    }\n",
       "\n",
       "    .dataframe thead th {\n",
       "        text-align: right;\n",
       "    }\n",
       "</style>\n",
       "<table border=\"1\" class=\"dataframe\">\n",
       "  <thead>\n",
       "    <tr style=\"text-align: right;\">\n",
       "      <th></th>\n",
       "      <th>target</th>\n",
       "      <th>source</th>\n",
       "    </tr>\n",
       "  </thead>\n",
       "  <tbody>\n",
       "    <tr>\n",
       "      <th>0</th>\n",
       "      <td>A_01_002</td>\n",
       "      <td>B_01_062</td>\n",
       "    </tr>\n",
       "    <tr>\n",
       "      <th>1</th>\n",
       "      <td>A_01_002</td>\n",
       "      <td>C_03_023</td>\n",
       "    </tr>\n",
       "    <tr>\n",
       "      <th>2</th>\n",
       "      <td>A_01_002</td>\n",
       "      <td>F_02_088</td>\n",
       "    </tr>\n",
       "    <tr>\n",
       "      <th>3</th>\n",
       "      <td>A_01_002</td>\n",
       "      <td>H_03_004</td>\n",
       "    </tr>\n",
       "    <tr>\n",
       "      <th>4</th>\n",
       "      <td>A_01_002</td>\n",
       "      <td>J_03_046</td>\n",
       "    </tr>\n",
       "  </tbody>\n",
       "</table>\n",
       "</div>"
      ],
      "text/plain": [
       "     target    source\n",
       "0  A_01_002  B_01_062\n",
       "1  A_01_002  C_03_023\n",
       "2  A_01_002  F_02_088\n",
       "3  A_01_002  H_03_004\n",
       "4  A_01_002  J_03_046"
      ]
     },
     "execution_count": 29,
     "metadata": {},
     "output_type": "execute_result"
    }
   ],
   "source": [
    "not_need_edge_cols = ['num_matched_features', 'matched_features', 'num_missed_features', 'missed_features']\n",
    "links_df = edges_df.drop(columns=not_need_edge_cols)\n",
    "links_df.head()"
   ]
  },
  {
   "cell_type": "code",
   "execution_count": 30,
   "metadata": {},
   "outputs": [
    {
     "data": {
      "text/plain": [
       "{'target': 'A_01_002', 'source': 'B_01_062'}"
      ]
     },
     "execution_count": 30,
     "metadata": {},
     "output_type": "execute_result"
    }
   ],
   "source": [
    "edges_json_str = links_df.to_json(orient=\"records\")\n",
    "edges_json = json.loads(edges_json_str)\n",
    "edges_json[0]"
   ]
  },
  {
   "cell_type": "code",
   "execution_count": 31,
   "metadata": {},
   "outputs": [],
   "source": [
    "cols_not_in_sign_pane = [\"LemmaID\", \"SignFrequency(SD)\",\"SignFrequency(Z)\",\"SignFrequency(N)\",\"SignFrequency(M-Native)\",\"SignFrequency(SD-Native)\",\"SignFreq(Z-native)\",\"SignFrequency(N-Native)\",\"PercentUnknown(Native)\",\"PercentGlossAgreement(Native)\",\"SignFrequency(M-Nonnative)\",\"SignFrequency(SD-Nonnative)\",\"SignFreq(Z-Nonnative)\",\"SignFrequency(N-Nonnative)\",\"PercentUnknown(Nonnative)\",\"PercentGlossAgreement(Nonnative)\",\"Iconicity(SD)\",\"Iconicity(Z)\",\"Iconicity(N)\",\"Iconicity_ID\",\"D.Iconicity(SD) all\",\"D.Iconicity(Z) all\",\"D.Iconicity(N) all\",\"D.Iconicity(M) native\",\"D.Iconicity(SD) native\",\"D.Iconicity(Z) native\",\"D.Iconicity(N) native\",\"Transparency SD\",\"Transparency Z\",\"SignOnset(ms)\",\"SignOffset(ms)\",\"SignType 1.0\",\"MajorLocation 1.0\",\"MinorLocation 1.0\",\"SelectedFingers 1.0\",\"Compound 1.0\",\"Flexion 1.0\",\"Initialized 1.0\",\"Movement 1.0\",\"MinimalNeighborhoodDensity\",\"MaximalNeighborhoodDensity\",\"Parameter-BasedNeighborhoodDensity\",\"SignTypeFrequency\",\"MajorLocationFrequency\",\"MinorLocationFrequency\",\"SelectedFingersFrequency\",\"FlexionFrequency\",\"MovementFrequency\",\"HandshapeFrequency\",\"Batch\",\"Item\",\"List\",\"Source\",\"InCDI\",\"CDI_A\",\"CDI_B\",\"CDI_C\",\"CDIGloss\",\"CDI Semantic Category\",\"CDIDuplicate\",\"GlossConfirmation\",\"CDIComment\",\"In Frequency Rating Survey (FRS)?\",\"FRS_A\",\"FRS_B\",\"FRS_C\",\"FRS-Low Frequency item?\",\"InPPVT\",\"InEOWPVT\",\"PPVTTargetFoil\",\"PPVTPictureSource\",\"FingerspelledLoanSign 1.0\",\"Repeat.1\",\"BatesPicture\",\"BatesPicture: URL\",\"ASLVocabPicture\",\"ASLVocabPicture: URL\",\"Possible Picture?\",\"Possible Picture Comments\",\"ASLVocab Picture Google Drive\",\"ArtistInstructions\",\"IssuesWithItemsAndGlosses\",\"Brittany-Freq Comments\",\"PPVT with Pictures\",\"PPVT-Age Group\",\"PPVT-Expressive\",\"PPVT-Receptive\",\"Entry ID\",\"Bizarre Sign or Problematic Video\",\"InUconnPPVT\",\"CheckCompleteCoding\",\"Video File\",\"Video File: URL\",\"IconicityTypeShannon\",\"IconicityTypeClaire\",\"IconicityTypeLindsay\",\"IconicityTypeRotceh\",\"In ASL-LEX 2.0\",\"DraftIconicityID\",\"DraftIconicityM\",\"RightWristX\",\"RightWristcentroidY\",\"DistanceRightWristCentroid2Nose\",\"IconicityType\",\"ChelseaCoded\",\"HandshapeManualCorrections\",\"FormerKnackGloss\",\"CodingSignBank\",\"InZed\",\"Checked Vimeo\"]"
   ]
  },
  {
   "cell_type": "code",
   "execution_count": 32,
   "metadata": {},
   "outputs": [],
   "source": [
    "#Remove cols in sign pane\n",
    "#Keep column for filters and vimeo video\n",
    "cols_in_sign_data_pane = [\"EntryID\",\"SignFrequency(M)\",\"PercentUnknown\",\"PercentGlossAgreement\",\"DominantTranslation\",\"SubtLexUSLog10WF\",\"Iconicity(M)\",\"Transparency M\",\"H index\",\"LexicalClass\",\"SignLength(ms)\",\"ClipLength(ms)\",\"Complexity\",\"Initialized.2.0\",\"FingerspelledLoanSign.2.0\",\"Compound.2.0\",\"NumberOfMorphemes.2.0\",\"Handshape.2.0\",\"MarkedHandshape.2.0\",\"SelectedFingers.2.0\",\"Flexion.2.0\",\"FlexionChange.2.0\",\"Spread.2.0\",\"SpreadChange.2.0\",\"ThumbPosition.2.0\",\"ThumbContact.2.0\",\"SignType.2.0\",\"Movement.2.0\",\"RepeatedMovement.2.0\",\"MajorLocation.2.0\",\"MinorLocation.2.0\",\"SecondMinorLocation.2.0\",\"Contact.2.0\",\"NonDominantHandshape.2.0\",\"UlnarRotation.2.0\",\"HandshapeM2.2.0\",\"MarkedHandshapeM2.2.0\",\"SelectedFingersM2.2.0\",\"FlexionM2.2.0\",\"FlexionChangeM2.2.0\",\"SpreadM2.2.0\",\"SpreadChangeM2.2.0\",\"ThumbPositionM2.2.0\",\"ThumbContactM2.2.0\",\"SignTypeM2.2.0\",\"MovementM2.2.0\",\"RepeatedMovementM2.2.0\",\"MajorLocationM2.2.0\",\"MinorLocationM2.2.0\",\"SecondMinorLocationM2.2.0\",\"ContactM2.2.0\",\"NonDominantHandshapeM2.2.0\",\"UlnarRotationM2.2.0\",\"HandshapeM3.2.0\",\"MarkedHandshapeM3.2.0\",\"SelectedFingersM3.2.0\",\"FlexionM3.2.0\",\"FlexionChangeM3.2.0\",\"SpreadM3.2.0\",\"SpreadChangeM3.2.0\",\"ThumbPositionM3.2.0\",\"ThumbContactM3.2.0\",\"SignTypeM3.2.0\",\"MovementM3.2.0\",\"RepeatedMovementM3.2.0\",\"MajorLocationM3.2.0\",\"MinorLocationM3.2.0\",\"SecondMinorLocationM3.2.0\",\"ContactM3.2.0\",\"NonDominantHandshapeM3.2.0\",\"UlnarRotationM3.2.0\",\"HandshapeM4.2.0\",\"MarkedHandshapeM4.2.0\",\"SelectedFingersM4.2.0\",\"FlexionM4.2.0\",\"FlexionChangeM4.2.0\",\"SpreadM4.2.0\",\"SpreadChangeM4.2.0\",\"ThumbPositionM4.2.0\",\"ThumbContactM4.2.0\",\"SignTypeM4.2.0\",\"MovementM4.2.0\",\"RepeatedMovementM4.2.0\",\"MajorLocationM4.2.0\",\"MinorLocationM4.2.0\",\"SecondMinorLocationM4.2.0\",\"ContactM4.2.0\",\"NonDominantHandshapeM4.2.0\",\"UlnarRotationM4.2.0\",\"HandshapeM5.2.0\",\"MarkedHandshapeM5.2.0\",\"SelectedFingersM5.2.0\",\"FlexionM5.2.0\",\"FlexionChangeM5.2.0\",\"SpreadM5.2.0\",\"SpreadChangeM5.2.0\",\"ThumbPositionM5.2.0\",\"ThumbContactM5.2.0\",\"SignTypeM5.2.0\",\"MovementM5.2.0\",\"RepeatedMovementM5.2.0\",\"MajorLocationM5.2.0\",\"MinorLocationM5.2.0\",\"SecondMinorLocationM5.2.0\",\"ContactM5.2.0\",\"NonDominantHandshapeM5.2.0\",\"UlnarRotationM5.2.0\",\"HandshapeM6.2.0\",\"MarkedHandshapeM6.2.0\",\"SelectedFingersM6.2.0\",\"FlexionM6.2.0\",\"FlexionChangeM6.2.0\",\"SpreadM6.2.0\",\"SpreadChangeM6.2.0\",\"ThumbPositionM6.2.0\",\"ThumbContactM6.2.0\",\"SignTypeM6.2.0\",\"MovementM6.2.0\",\"RepeatedMovementM6.2.0\",\"MajorLocationM6.2.0\",\"MinorLocationM6.2.0\",\"SecondMinorLocationM6.2.0\",\"ContactM6.2.0\",\"NonDominantHandshapeM6.2.0\",\"UlnarRotationM6.2.0\",\"bglm_aoa\",\"Neighborhood Density 2.0\",\"Parameter.Neighborhood.Density.2.0\",\"SignType.2.0Frequency\",\"MajorLocation.2.0Frequency\",\"MinorLocation.2.0Frequency\",\"SecondMinorLocation.2.0Frequency\",\"Movement.2.0Frequency\",\"SelectedFingers.2.0Frequency\",\"Flexion.2.0Frequency\",\"FlexionChange.2.0Frequency\",\"RepeatedMovement.2.0Frequency\",\"Contact.2.0Frequency\",\"Spread.2.0Frequency\",\"SpreadChange.2.0Frequency\",\"ThumbContact.2.0Frequency\",\"ThumbPosition.2.0Frequency\",\"UlnarRotation.2.0Frequency\",\"PhonotacticProbability\",\"SignBankID\",\"SignBankLemmaID\",\"SignBankAnnotationID\",\"SignBankSemanticField\",\"SignBankEnglishTranslations\",\"D.Iconicity(M) all\", \"empirical_aoa\"]"
   ]
  },
  {
   "cell_type": "code",
   "execution_count": 33,
   "metadata": {},
   "outputs": [
    {
     "data": {
      "text/plain": [
       "array(['EntryID', 'LemmaID', 'Code', 'Batch', 'List', 'Item',\n",
       "       'YouTube Video', 'VimeoVideoHTML', 'VimeoVideo',\n",
       "       'SubtLexUSLog10WF', 'SignFrequency(M)', 'SignFrequency(SD)',\n",
       "       'SignFrequency(Z)', 'SignFrequency(N)', 'SignFrequency(M-Native)',\n",
       "       'SignFrequency(SD-Native)', 'SignFreq(Z-native)',\n",
       "       'SignFrequency(N-Native)', 'SignFrequency(M-Nonnative)',\n",
       "       'SignFrequency(SD-Nonnative)', 'SignFrequency(N-Nonnative)',\n",
       "       'SignFreq(Z-Nonnative)', 'DominantTranslation',\n",
       "       'NondominantTranslation', 'PercentUnknown',\n",
       "       'PercentGlossAgreement', 'PercentUnknown(Native)',\n",
       "       'PercentGlossAgreement(Native)', 'PercentUnknown(Nonnative)',\n",
       "       'PercentGlossAgreement(Nonnative)', 'Iconicity(M)',\n",
       "       'Iconicity(SD)', 'Iconicity(Z)', 'Iconicity(N)', 'Iconicity_ID',\n",
       "       'IconicityType', 'D.Iconicity(M) all', 'D.Iconicity(SD) all',\n",
       "       'D.Iconicity(N) all', 'D.Iconicity(Z) all',\n",
       "       'D.Iconicity(M) native', 'D.Iconicity(SD) native',\n",
       "       'D.Iconicity(Z) native', 'D.Iconicity(N) native', 'H statistic',\n",
       "       'GuessAccuracy', 'Transparency(M)', 'Transparency SD',\n",
       "       'Transparency Z', 'LexicalClass', 'SignOnset(ms)',\n",
       "       'SignOffset(ms)', 'SignDuration(ms)', 'ClipDuration(ms)', 'InCDI',\n",
       "       'CDI Semantic Category', 'Initialized.2.0',\n",
       "       'FingerspelledLoanSign.2.0', 'Compound.2.0',\n",
       "       'NumberOfMorphemes.2.0', 'Handshape.2.0', 'SelectedFingers.2.0',\n",
       "       'Flexion.2.0', 'FlexionChange.2.0', 'Spread.2.0',\n",
       "       'SpreadChange.2.0', 'ThumbPosition.2.0', 'ThumbContact.2.0',\n",
       "       'SignType.2.0', 'Movement.2.0', 'RepeatedMovement.2.0',\n",
       "       'MajorLocation.2.0', 'MinorLocation.2.0',\n",
       "       'SecondMinorLocation.2.0', 'Contact.2.0',\n",
       "       'NonDominantHandshape.2.0', 'UlnarRotation.2.0', 'HandshapeM2.2.0',\n",
       "       'SelectedFingersM2.2.0', 'FlexionM2.2.0', 'FlexionChangeM2.2.0',\n",
       "       'SpreadM2.2.0', 'SpreadChangeM2.2.0', 'ThumbPositionM2.2.0',\n",
       "       'ThumbContactM2.2.0', 'SignTypeM2.2.0', 'MovementM2.2.0',\n",
       "       'RepeatedMovementM2.2.0', 'MajorLocationM2.2.0',\n",
       "       'MinorLocationM2.2.0', 'SecondMinorLocationM2.2.0',\n",
       "       'ContactM2.2.0', 'NonDominantHandshapeM2.2.0',\n",
       "       'UlnarRotationM2.2.0', 'HandshapeM3.2.0', 'SelectedFingersM3.2.0',\n",
       "       'FlexionM3.2.0', 'FlexionChangeM3.2.0', 'SpreadM3.2.0',\n",
       "       'SpreadChangeM3.2.0', 'ThumbPositionM3.2.0', 'ThumbContactM3.2.0',\n",
       "       'SignTypeM3.2.0', 'MovementM3.2.0', 'RepeatedMovementM3.2.0',\n",
       "       'MajorLocationM3.2.0', 'MinorLocationM3.2.0',\n",
       "       'SecondMinorLocationM3.2.0', 'ContactM3.2.0',\n",
       "       'NonDominantHandshapeM3.2.0', 'UlnarRotationM3.2.0',\n",
       "       'HandshapeM4.2.0', 'SelectedFingersM4.2.0', 'FlexionM4.2.0',\n",
       "       'FlexionChangeM4.2.0', 'SpreadM4.2.0', 'SpreadChangeM4.2.0',\n",
       "       'ThumbPositionM4.2.0', 'ThumbContactM4.2.0', 'SignTypeM4.2.0',\n",
       "       'MovementM4.2.0', 'RepeatedMovementM4.2.0', 'MajorLocationM4.2.0',\n",
       "       'MinorLocationM4.2.0', 'SecondMinorLocationM4.2.0',\n",
       "       'ContactM4.2.0', 'NonDominantHandshapeM4.2.0',\n",
       "       'UlnarRotationM4.2.0', 'HandshapeM5.2.0', 'SelectedFingersM5.2.0',\n",
       "       'FlexionM5.2.0', 'FlexionChangeM5.2.0', 'SpreadM5.2.0',\n",
       "       'SpreadChangeM5.2.0', 'ThumbPositionM5.2.0', 'ThumbContactM5.2.0',\n",
       "       'SignTypeM5.2.0', 'MovementM5.2.0', 'RepeatedMovementM5.2.0',\n",
       "       'MajorLocationM5.2.0', 'MinorLocationM5.2.0',\n",
       "       'SecondMinorLocationM5.2.0', 'ContactM5.2.0',\n",
       "       'NonDominantHandshapeM5.2.0', 'UlnarRotationM5.2.0',\n",
       "       'HandshapeM6.2.0', 'SelectedFingersM6.2.0', 'FlexionM6.2.0',\n",
       "       'FlexionChangeM6.2.0', 'SpreadM6.2.0', 'SpreadChangeM6.2.0',\n",
       "       'ThumbPositionM6.2.0', 'ThumbContactM6.2.0', 'SignTypeM6.2.0',\n",
       "       'MovementM6.2.0', 'RepeatedMovementM6.2.0', 'MajorLocationM6.2.0',\n",
       "       'MinorLocationM6.2.0', 'SecondMinorLocationM6.2.0',\n",
       "       'ContactM6.2.0', 'NonDominantHandshapeM6.2.0',\n",
       "       'UlnarRotationM6.2.0', 'SignType.2.0Frequency',\n",
       "       'MajorLocation.2.0Frequency', 'MinorLocation.2.0Frequency',\n",
       "       'SecondMinorLocation.2.0Frequency', 'Movement.2.0Frequency',\n",
       "       'SelectedFingers.2.0Frequency', 'Flexion.2.0Frequency',\n",
       "       'FlexionChange.2.0Frequency', 'RepeatedMovement.2.0Frequency',\n",
       "       'Contact.2.0Frequency', 'Spread.2.0Frequency',\n",
       "       'SpreadChange.2.0Frequency', 'ThumbContact.2.0Frequency',\n",
       "       'ThumbPosition.2.0Frequency', 'UlnarRotation.2.0Frequency',\n",
       "       'Phonological Complexity', 'PhonotacticProbability',\n",
       "       'Parameter.Neighborhood.Density.2.0', 'Neighborhood Density 2.0',\n",
       "       'SignBankAnnotationID', 'SignBankEnglishTranslations',\n",
       "       'SignBankLemmaID', 'SignBankReferenceID', 'bglm_aoa',\n",
       "       'empirical_aoa', 'group_id', 'color_code'], dtype=object)"
      ]
     },
     "execution_count": 33,
     "metadata": {},
     "output_type": "execute_result"
    }
   ],
   "source": [
    "df_merged_with_color.columns.values"
   ]
  },
  {
   "cell_type": "code",
   "execution_count": null,
   "metadata": {},
   "outputs": [],
   "source": []
  },
  {
   "cell_type": "code",
   "execution_count": 34,
   "metadata": {},
   "outputs": [
    {
     "name": "stdout",
     "output_type": "stream",
     "text": [
      "189\n",
      "droppingLemmaID\n",
      "droppingSignFrequency(SD)\n",
      "droppingSignFrequency(Z)\n",
      "droppingSignFrequency(N)\n",
      "droppingSignFrequency(M-Native)\n",
      "droppingSignFrequency(SD-Native)\n",
      "droppingSignFreq(Z-native)\n",
      "droppingSignFrequency(N-Native)\n",
      "droppingPercentUnknown(Native)\n",
      "droppingPercentGlossAgreement(Native)\n",
      "droppingSignFrequency(M-Nonnative)\n",
      "droppingSignFrequency(SD-Nonnative)\n",
      "droppingSignFreq(Z-Nonnative)\n",
      "droppingSignFrequency(N-Nonnative)\n",
      "droppingPercentUnknown(Nonnative)\n",
      "droppingPercentGlossAgreement(Nonnative)\n",
      "droppingIconicity(SD)\n",
      "droppingIconicity(Z)\n",
      "droppingIconicity(N)\n",
      "droppingIconicity_ID\n",
      "droppingD.Iconicity(SD) all\n",
      "droppingD.Iconicity(Z) all\n",
      "droppingD.Iconicity(N) all\n",
      "droppingD.Iconicity(M) native\n",
      "droppingD.Iconicity(SD) native\n",
      "droppingD.Iconicity(Z) native\n",
      "droppingD.Iconicity(N) native\n",
      "droppingTransparency SD\n",
      "droppingTransparency Z\n",
      "droppingSignOnset(ms)\n",
      "droppingSignOffset(ms)\n",
      "droppingBatch\n",
      "droppingItem\n",
      "droppingList\n",
      "droppingInCDI\n",
      "droppingCDI Semantic Category\n",
      "droppingIconicityType\n"
     ]
    },
    {
     "data": {
      "text/plain": [
       "152"
      ]
     },
     "execution_count": 34,
     "metadata": {},
     "output_type": "execute_result"
    }
   ],
   "source": [
    "#### Get rid of morpheme columbs\n",
    "print(len(df_merged_with_color.columns.values))\n",
    "# df_sign = df_sign[['YouTube Video','Code','SignBankEnglishTranslations', \"VimeoVideo\"]]\n",
    "# df_sign = df_sign.rename(columns={\"VimeoVideo\": \"video\"}, errors=\"raise\")\n",
    "# df_sign.head()\n",
    "# df_default = pd.merge(df_default, df_sign,how='left', on=['Code'])\n",
    "\n",
    "test_df = df_merged_with_color\n",
    "# filtered = test_df.filter(regex='M..2.0|Video')\n",
    "for col in cols_not_in_sign_pane:\n",
    "    if col in test_df.columns:\n",
    "        print(\"dropping\" + col)\n",
    "        test_df = test_df[test_df.columns.drop(col)]\n",
    "\n",
    "no_morphemes_df = test_df\n",
    "len(no_morphemes_df.columns.values)\n",
    "# no_morphemes_df.columns.values"
   ]
  },
  {
   "cell_type": "code",
   "execution_count": 35,
   "metadata": {},
   "outputs": [
    {
     "name": "stdout",
     "output_type": "stream",
     "text": [
      "This column is not present: Transparency M\n",
      "This column is not present: H index\n",
      "This column is not present: SignLength(ms)\n",
      "This column is not present: ClipLength(ms)\n",
      "This column is not present: Complexity\n",
      "This column is not present: MarkedHandshape.2.0\n",
      "This column is not present: MarkedHandshapeM2.2.0\n",
      "This column is not present: MarkedHandshapeM3.2.0\n",
      "This column is not present: MarkedHandshapeM4.2.0\n",
      "This column is not present: MarkedHandshapeM5.2.0\n",
      "This column is not present: MarkedHandshapeM6.2.0\n",
      "This column is not present: SignBankID\n",
      "This column is not present: SignBankSemanticField\n"
     ]
    }
   ],
   "source": [
    "for col in cols_in_sign_data_pane:\n",
    "    if col not in test_df.columns:\n",
    "        print(\"This column is not present: \" + col)"
   ]
  },
  {
   "cell_type": "code",
   "execution_count": 36,
   "metadata": {},
   "outputs": [
    {
     "name": "stdout",
     "output_type": "stream",
     "text": [
      "['SubtLexUSLog10WF' 'SignFrequency(M)' 'PercentUnknown'\n",
      " 'PercentGlossAgreement' 'Iconicity(M)' 'D.Iconicity(M) all' 'H statistic'\n",
      " 'GuessAccuracy' 'Transparency(M)' 'SignDuration(ms)' 'ClipDuration(ms)'\n",
      " 'Initialized.2.0' 'FingerspelledLoanSign.2.0' 'Compound.2.0'\n",
      " 'NumberOfMorphemes.2.0' 'FlexionChange.2.0' 'Spread.2.0'\n",
      " 'SpreadChange.2.0' 'ThumbContact.2.0' 'RepeatedMovement.2.0'\n",
      " 'Contact.2.0' 'UlnarRotation.2.0' 'FlexionChangeM2.2.0' 'SpreadM2.2.0'\n",
      " 'SpreadChangeM2.2.0' 'ThumbContactM2.2.0' 'RepeatedMovementM2.2.0'\n",
      " 'ContactM2.2.0' 'UlnarRotationM2.2.0' 'FlexionChangeM3.2.0'\n",
      " 'SpreadM3.2.0' 'SpreadChangeM3.2.0' 'ThumbContactM3.2.0'\n",
      " 'RepeatedMovementM3.2.0' 'ContactM3.2.0' 'UlnarRotationM3.2.0'\n",
      " 'FlexionChangeM4.2.0' 'SpreadM4.2.0' 'SpreadChangeM4.2.0'\n",
      " 'ThumbContactM4.2.0' 'RepeatedMovementM4.2.0' 'ContactM4.2.0'\n",
      " 'NonDominantHandshapeM4.2.0' 'UlnarRotationM4.2.0' 'FlexionChangeM5.2.0'\n",
      " 'SpreadM5.2.0' 'SpreadChangeM5.2.0' 'ThumbContactM5.2.0' 'SignTypeM5.2.0'\n",
      " 'MovementM5.2.0' 'RepeatedMovementM5.2.0' 'MajorLocationM5.2.0'\n",
      " 'MinorLocationM5.2.0' 'SecondMinorLocationM5.2.0' 'ContactM5.2.0'\n",
      " 'NonDominantHandshapeM5.2.0' 'UlnarRotationM5.2.0' 'FlexionChangeM6.2.0'\n",
      " 'SpreadM6.2.0' 'SpreadChangeM6.2.0' 'ThumbContactM6.2.0' 'SignTypeM6.2.0'\n",
      " 'MovementM6.2.0' 'RepeatedMovementM6.2.0' 'MajorLocationM6.2.0'\n",
      " 'MinorLocationM6.2.0' 'SecondMinorLocationM6.2.0' 'ContactM6.2.0'\n",
      " 'NonDominantHandshapeM6.2.0' 'UlnarRotationM6.2.0'\n",
      " 'SignType.2.0Frequency' 'MajorLocation.2.0Frequency'\n",
      " 'MinorLocation.2.0Frequency' 'SecondMinorLocation.2.0Frequency'\n",
      " 'Movement.2.0Frequency' 'SelectedFingers.2.0Frequency'\n",
      " 'Flexion.2.0Frequency' 'FlexionChange.2.0Frequency'\n",
      " 'RepeatedMovement.2.0Frequency' 'Contact.2.0Frequency'\n",
      " 'Spread.2.0Frequency' 'SpreadChange.2.0Frequency'\n",
      " 'ThumbContact.2.0Frequency' 'ThumbPosition.2.0Frequency'\n",
      " 'UlnarRotation.2.0Frequency' 'Phonological Complexity'\n",
      " 'PhonotacticProbability' 'Parameter.Neighborhood.Density.2.0'\n",
      " 'Neighborhood Density 2.0' 'SignBankReferenceID' 'bglm_aoa'\n",
      " 'empirical_aoa' 'group_id']\n",
      "['EntryID', 'Code', 'NondominantTranslation', 'LexicalClass', 'Handshape.2.0', 'SelectedFingers.2.0', 'Flexion.2.0', 'ThumbPosition.2.0', 'SignType.2.0', 'Movement.2.0', 'MajorLocation.2.0', 'MinorLocation.2.0', 'SecondMinorLocation.2.0', 'NonDominantHandshape.2.0', 'HandshapeM2.2.0', 'SelectedFingersM2.2.0', 'FlexionM2.2.0', 'ThumbPositionM2.2.0', 'SignTypeM2.2.0', 'MovementM2.2.0', 'MajorLocationM2.2.0', 'MinorLocationM2.2.0', 'SecondMinorLocationM2.2.0', 'NonDominantHandshapeM2.2.0', 'HandshapeM3.2.0', 'SelectedFingersM3.2.0', 'FlexionM3.2.0', 'ThumbPositionM3.2.0', 'SignTypeM3.2.0', 'MovementM3.2.0', 'MajorLocationM3.2.0', 'MinorLocationM3.2.0', 'SecondMinorLocationM3.2.0', 'NonDominantHandshapeM3.2.0', 'HandshapeM4.2.0', 'SelectedFingersM4.2.0', 'FlexionM4.2.0', 'ThumbPositionM4.2.0', 'SignTypeM4.2.0', 'MovementM4.2.0', 'MajorLocationM4.2.0', 'MinorLocationM4.2.0', 'SecondMinorLocationM4.2.0', 'HandshapeM5.2.0', 'SelectedFingersM5.2.0', 'FlexionM5.2.0', 'ThumbPositionM5.2.0', 'HandshapeM6.2.0', 'SelectedFingersM6.2.0', 'FlexionM6.2.0', 'ThumbPositionM6.2.0', 'color_code']\n"
     ]
    }
   ],
   "source": [
    "### Add sign constraint range values\n",
    "numerical_attr = no_morphemes_df.select_dtypes(include=['float', 'int']).columns.values\n",
    "categorical_attr = []\n",
    "for column in no_morphemes_df.columns.values:\n",
    "    if column not in numerical_attr and column not in ['YouTube Video', 'VimeoVideoHTML', 'VimeoVideo', 'DominantTranslation', 'SignBankAnnotationID', 'SignBankEnglishTranslations', 'SignBankLemmaID', 'SignBankSemanticField']:\n",
    "        categorical_attr.append(column)   \n",
    "print(numerical_attr)\n",
    "print(categorical_attr)"
   ]
  },
  {
   "cell_type": "code",
   "execution_count": 37,
   "metadata": {
    "scrolled": true
   },
   "outputs": [
    {
     "name": "stdout",
     "output_type": "stream",
     "text": [
      "[0.301 5.268 5.268 ... 3.039 2.161 2.843]\n",
      "[3.034 5.12  4.267 ... 3.533 3.958 4.333]\n",
      "[0.   0.   0.   ... 0.   0.04 0.  ]\n",
      "[0.63  0.409 0.75  0.75  0.259 0.519 0.6   0.625 1.    0.963 0.467 1.\n",
      " 0.63  0.852 0.852 0.88  1.    1.    0.92  0.579 0.8   0.692 1.    0.417\n",
      " 0.824 0.786 0.913 0.5   0.6   0.893 0.926 0.233 0.486 0.906 0.963 0.903\n",
      " 0.786 0.792 0.652 0.692 0.636 0.643 0.6   0.8   1.    0.8   0.52  1.\n",
      " 1.    0.565 1.    0.964 0.714 0.792 0.654 1.    0.92  0.423 0.679 0.852\n",
      " 0.55  0.933 0.44  1.    0.462 0.968 0.407 0.84  1.    0.818 0.667 0.3\n",
      " 0.48  0.655 0.889 1.    1.    0.5   0.969 1.    0.852 0.333 1.    0.435\n",
      " 1.    0.926 1.    0.419 0.667 1.    0.444 0.5   0.783 0.76  0.606 0.444\n",
      " 0.667 0.844 0.556 0.967 1.    1.    0.423 0.964 0.556 1.    0.967 1.\n",
      " 0.85  0.964 0.227 0.96  0.75  0.708 0.615 0.815 0.464 0.96  1.    0.926\n",
      " 0.667 0.708 1.    0.767 1.    0.679 0.519 1.    0.933 0.615 0.889 1.\n",
      " 0.64  0.514 0.696 0.519 0.474 0.667 0.813 1.    1.    1.    0.621 0.931\n",
      " 1.    0.607 0.852 0.862 0.69  0.923 1.    0.9   0.63  0.966 0.462 0.519\n",
      " 0.481 0.667 1.    1.    0.63  1.    0.68  0.621 0.448 0.933 1.    0.962\n",
      " 0.8   0.72  0.308 0.667 0.5   1.    0.526 0.889 0.92  0.92  0.652 0.741\n",
      " 0.935 0.767 0.8   0.96  1.    0.474 0.8   0.5   0.679 0.462 0.56  0.35\n",
      " 0.44  0.96  0.542 0.714 1.    0.6   0.714 0.885 0.68  1.    1.    0.483\n",
      " 0.4   1.    0.963 0.769 0.591 0.667 0.733 0.938 1.    0.943 0.731 0.714\n",
      " 1.    1.    0.731 0.667 0.867 0.923 0.3   0.741 0.406 0.696 1.    0.966\n",
      " 1.    0.621 0.818 0.923 0.348 0.52  0.852 0.625 0.667 0.962 0.929 0.846\n",
      " 0.393 0.92  0.692 0.593 0.821 0.586 0.4   0.889 0.679 0.645 0.636 0.905\n",
      " 1.    0.63  0.633 0.567 0.923 0.444 0.667 0.818 0.609 0.778 0.625 0.63\n",
      " 0.655 0.833 0.962 0.522 0.885 1.    0.607 0.421 0.667 1.    0.875 0.917\n",
      " 0.542 0.667 0.423 0.429 0.68  1.    0.933 0.8   0.609 1.    0.962 0.44\n",
      " 0.52  0.222 0.63  0.857 0.563 0.63  0.667 1.    0.96  0.7   0.8   0.92\n",
      " 0.933 0.556 0.905 1.    0.76  0.688 0.462 0.826 1.    0.815 1.    0.55\n",
      " 0.615 0.88  0.926 0.321 0.724 0.963 0.926 0.852 0.913 0.885 0.522 1.\n",
      " 0.72  0.37  0.967 0.56  0.6   0.538 0.833 0.963 0.815 0.7   0.429 0.92\n",
      " 0.81  0.833 0.862 0.938 1.    0.967 0.5   0.844 0.667 1.    0.8   1.\n",
      " 0.963 0.655 0.629 0.957 0.632 0.931 0.917 0.5   0.963 0.5   1.    1.\n",
      " 0.4   1.    0.333 1.    0.966 0.778 0.943 1.    1.    0.444 0.967 0.957\n",
      " 0.5   0.654 0.833 0.842 0.806 0.267 0.7   0.769 0.968 1.    1.    0.84\n",
      " 0.815 0.407 0.952 0.484 0.654 0.4   0.808 0.833 0.686 1.    0.963 0.632\n",
      " 0.5   0.577 0.375 0.963 0.864 1.    1.    0.583 0.964 0.44  0.848 0.5\n",
      " 0.542 0.846 0.87  0.555 0.714 0.92  0.931 0.44  0.852 1.    0.448 0.964\n",
      " 0.5   0.88  0.964 1.    0.7   0.474 0.815 0.92  0.607 1.    0.964 0.778\n",
      " 0.742 0.929 0.6   0.9   0.8   0.5   1.    1.    1.    0.682 0.769 0.971\n",
      " 0.938 0.84  0.643 0.926 0.958 1.    0.92  0.852 0.889 0.867 0.857 0.68\n",
      " 0.905 0.333 0.433 0.593 0.536 0.846 0.538 0.633 0.724 0.5   0.52  0.714\n",
      " 0.6   0.893 0.821 0.966 0.806 0.6   0.25  0.409 0.52  0.333 1.    0.815\n",
      " 0.735 0.519 0.667 0.519 1.    0.607 0.643 0.421 0.885 0.833 0.444 1.\n",
      " 0.48  0.778 0.615 1.    0.75  0.758 0.88  1.    0.583 0.619 0.885 0.304\n",
      " 1.    0.448 0.4   0.556 0.741 0.645 0.967 0.462 0.25  0.71  0.417 0.625\n",
      " 0.833 0.968 0.75  1.    0.625 0.367 1.    0.857 0.963 0.593 0.63  1.\n",
      " 0.84  0.967 0.304 0.833 0.65  0.5   0.821 0.65  0.667 0.357 0.735 0.72\n",
      " 0.526 0.538 1.    0.741 0.519 0.767 0.267 0.5   0.84  0.667 0.567 1.\n",
      " 0.962 0.767 0.839 0.808 0.536 0.543 0.5   0.857 0.917 0.704 0.267 0.96\n",
      " 0.407 0.615 0.615 0.844 0.63  0.741 0.889 0.871 0.435 1.    0.481 0.897\n",
      " 0.76  0.37  0.84  0.778 0.333 0.962 0.731 0.481 0.963 1.    0.767 0.783\n",
      " 1.    0.815 1.    0.348 0.964 0.867 0.774 1.    1.    0.345 0.967 0.657\n",
      " 0.96  0.913 0.963 1.    1.    0.962 0.25  0.765 1.    0.36  0.345 0.84\n",
      " 0.429 0.71  0.793 0.742 1.    0.654 0.677 0.96  1.    0.929 0.958 0.96\n",
      " 1.    0.967 0.471 0.481 1.    0.5   1.    0.783 0.417 0.867 1.    0.95\n",
      " 1.    0.962 0.514 0.375 0.556]\n",
      "[1.074 5.481 2.654 ... 2.1   4.667 3.742]\n",
      "[2.1  3.1  2.53 3.23 1.36 1.9  4.07 1.77 1.55 1.48 2.17 1.55 1.39 3.2\n",
      " 2.26 3.03 2.52 2.03 5.04 2.9  2.2  3.52 2.16 1.81 1.9  1.2  4.1  2.45\n",
      " 1.45 2.7  2.77 1.23 1.73 5.93 3.45 1.96 5.1  1.42 2.26 3.36 1.94 6.33\n",
      " 2.62 3.42 1.39 4.03 4.26 4.32 3.83 6.33 4.9  4.52 1.23 3.18 5.94 3.07\n",
      " 3.61 3.81 1.29 1.89 2.27 5.73 2.31 2.19 5.42 4.04 1.23 1.71 3.36 1.85\n",
      " 5.13 1.4  5.39 5.87 1.42 5.19 3.93 1.28 1.19 3.32 3.45 4.97 4.4  2.47\n",
      " 1.35 5.39 3.71 2.27 5.63 2.72 1.68 1.97 1.9  5.08 6.1  3.87 5.42 5.7\n",
      " 2.   4.81 5.58 1.58 2.03 1.94 4.46 3.13 5.81 2.79 4.13 1.55 1.04 5.71\n",
      " 1.94 2.65 1.42 1.46 1.94 5.97 3.19 1.26 3.75 1.16 3.63 4.54 4.73 2.13\n",
      " 2.2  6.36 3.81 1.81 1.27 3.83 4.93 1.65 1.58 5.89 2.33 6.35 1.42 2.9\n",
      " 3.57 3.42 3.29 2.08 2.57 1.1  1.68 3.45 2.32 1.19 4.38 1.37 2.6  1.36\n",
      " 1.24 3.23 1.55 3.87 1.15 3.17 1.77 1.19 1.3  4.58 2.17 4.13 2.36 3.\n",
      " 4.92 4.23 4.54 4.26 4.69 4.55 2.23 2.72 4.9  1.45 1.5  5.47 5.13 2.07\n",
      " 2.03 1.84 4.   3.07 1.65 4.39 2.15 1.92 3.62 3.68 2.85 4.69 3.39 3.89\n",
      " 4.63 1.77 1.23 1.27 2.46 3.52 1.57 4.27 5.08 1.77 3.77 5.85 5.63 6.42\n",
      " 6.13 4.74 1.81 1.4  4.58 3.1  5.48 2.9  1.94 1.81 1.62 3.23 5.71 2.55\n",
      " 1.54 3.55 1.42 6.1  1.73 2.03 2.26 2.29 3.84 4.   1.96 3.55 1.97 2.39\n",
      " 3.73 1.2  5.04 2.23 2.23 1.71 1.67 4.32 1.48 5.16 1.1  1.87 1.66 3.93\n",
      " 3.54 4.92 2.56 3.16 4.71 4.48 6.94 3.9  3.79 5.48 2.4  2.63 5.04 2.32\n",
      " 3.5  5.85 2.79 6.47 1.97 2.74 1.69 1.42 6.13 6.29 2.65 1.33 3.1  1.87\n",
      " 1.77 5.68 1.97 2.73 1.61 2.   3.3  1.81 1.13 1.96 1.89 3.56 3.83 3.6\n",
      " 1.21 1.19 1.85 1.65 4.03 2.1  1.45 1.73 6.77 6.7  1.48 3.9  2.13 3.\n",
      " 1.53 1.9  6.07 1.52 4.83 1.93 1.68 1.19 2.1  2.17 2.77 1.47 3.61 1.89\n",
      " 2.48 1.57 1.77 2.47 2.07 2.43 3.61 2.64 3.   4.03 5.68 5.77 2.97 4.44\n",
      " 2.19 6.15 1.94 1.55 1.35 1.66 1.4  1.65 1.73 2.73 6.07 1.36 1.35 1.72\n",
      " 4.32 2.73 1.33 1.48 1.32 1.77 2.31 2.31 1.69 3.5  1.37 1.9  2.58 1.39\n",
      " 2.63 2.63 1.9  3.61 2.63 1.15 1.28 3.07 4.07 1.43 4.97 5.61 5.43 3.08\n",
      " 3.6  3.16 1.46 1.65 5.94 2.16 6.   2.77 1.36 1.26 1.71 1.87 3.13 1.32\n",
      " 1.5  1.13 4.   1.6  1.77 1.23 6.48 4.9  5.39 6.23 5.07 5.36 3.9  4.69\n",
      " 1.71 2.4  1.7  4.9  1.9  4.1  5.48 1.84 2.13 5.45 5.77 2.29 5.   4.42\n",
      " 5.08 1.81 2.77 2.2  1.13 3.71 1.13 4.03 1.46 1.58 1.48 1.36 1.6  1.54\n",
      " 1.58 2.84 3.19 3.53 1.52 3.73 5.46 1.39 2.   2.8  4.64 1.65 5.68 2.15\n",
      " 1.92 2.26 2.27 1.52 1.33 2.69 5.42 1.45 1.04 1.74 2.   1.5  1.81 2.4\n",
      " 5.04 1.74 1.13 2.5  5.4  2.05 1.33 1.89 2.13 3.73 2.48 6.   5.17 4.92\n",
      " 3.39 4.8  1.4  2.04 2.47 1.73 1.65 4.42 4.57 2.74 3.62 2.63 5.19 1.45\n",
      " 4.93 1.74 1.33 1.58 4.33 4.36 1.42 1.26 2.25 3.48 2.16 2.3  1.23 3.32\n",
      " 2.31 2.7  1.52 1.23 1.45 1.93 5.32 5.04 4.63 3.13 6.13 4.81 1.29 1.55\n",
      " 5.42 2.   1.94 4.62 3.9  4.81 2.97 1.46 1.63 2.81 1.39 1.31 2.61 1.58\n",
      " 3.5  3.55 3.92 1.93 1.6  2.73 6.5  2.77 1.19 3.26 3.36 6.1  1.45 1.47\n",
      " 2.43 2.05 3.07 3.81 1.67 4.46 2.13 1.23 2.14 5.04 2.61 3.16 1.67 4.61\n",
      " 4.16 4.29 1.73 1.57 1.24 2.23 5.94 2.1  4.07 4.84 1.77 2.83 1.65 5.92\n",
      " 3.55 1.58 5.6  3.46 2.62 2.16 3.16 2.1  2.16 5.   4.8  2.92 1.5  4.32\n",
      " 5.03 1.33 1.14 1.21 1.77 1.32 1.48 1.81 2.19 1.5  3.07 2.65 1.73 2.94\n",
      " 1.67 1.43 2.47 1.92 2.42 2.12 1.55 3.   1.71 5.62 2.67 2.   2.63 2.2\n",
      " 1.71 2.1  4.39 2.08 1.66 5.73 3.23 4.42 1.94 3.55 5.26 4.17 1.48 2.83\n",
      " 1.68 1.77 1.77 1.94 1.65 4.73 4.29 1.54 1.27 1.57 1.48 3.31 1.62 2.61\n",
      " 1.5  6.   2.48 4.26 1.45 4.54 4.36 4.84 3.14 1.33 4.08 5.71 1.83 1.9\n",
      " 1.77 2.   4.52 3.7  2.77 3.58 5.35 2.23 4.8  3.65 2.47 1.26 2.93 6.47\n",
      " 2.08 1.39 1.69 1.62 2.7  1.77 1.71 4.58 1.87 4.9  1.7  1.42 1.39 3.46\n",
      " 4.47 4.65 1.73 1.1  6.   2.58 1.97 2.1  4.77 2.23 5.13 4.62 1.23 5.55\n",
      " 4.45 1.65 1.6  3.26 1.5  2.16 3.58 1.16 2.1  5.58 1.67 1.45 1.74 3.16\n",
      " 1.23 1.73 4.64 1.6  3.13 5.84 2.71 2.55 3.85 3.42 4.97 3.61 3.19 1.32\n",
      " 2.16 1.28 3.74 4.17 3.68 1.65 2.07 2.   4.1  5.   1.23 4.41 3.63 1.81\n",
      " 2.87 4.74 3.9  1.67 3.   2.74 6.03 4.35 3.24 1.87 1.71 4.37 2.5  2.26\n",
      " 2.42 5.19 1.85 5.5  4.52 2.87 3.08 4.23 2.81 2.   2.97 1.5  4.81 4.97\n",
      " 5.32 2.7  5.48 2.8  2.26 2.71 1.46 1.52 1.27 1.89 2.46 1.5  3.73 4.93\n",
      " 4.69 4.19 5.26 4.61 1.97 5.08 2.19 6.77 6.67 3.13 4.77 3.23 4.26 1.83\n",
      " 2.55 1.52 2.27 2.48 1.55 1.93 5.45 2.97 2.65 4.36 5.39 3.72 2.3  3.5\n",
      " 1.4  4.93 2.5  2.13 1.17 2.32 1.52 2.29 2.13 5.18 6.35 5.   2.62 1.63\n",
      " 1.46 3.77 2.42 1.53 2.   2.42 1.73 2.27 3.03 3.   1.52 4.43 5.36 1.33\n",
      " 4.61 3.03 3.61 3.12 2.57 4.9  3.89 4.44 3.73 2.31 3.61 4.93 2.87 3.52\n",
      " 5.03 4.23 2.   2.   6.7  1.23 6.31 6.07 3.13 1.6  3.48 1.15 5.84 1.62\n",
      " 1.7  1.85 5.5  3.27 1.57 2.   4.23 2.3  3.97 3.   4.5  6.13 2.97 1.19\n",
      " 6.1  3.16 6.   2.85 1.89 3.37 1.26 2.12 6.35 3.93 2.07 2.97 2.61 2.04\n",
      " 1.42 2.68 6.32 3.08 1.87 1.35 1.5  3.2  5.03 1.27 6.43 1.16 1.8  4.07\n",
      " 1.5  1.93 4.53 1.33 2.37 1.31 1.45 4.58 1.28 1.13 3.87 3.8  6.71 2.97\n",
      " 2.23 5.92 2.74 2.07 2.9  5.23 4.57 2.37 2.97 2.07 2.03 3.6  1.93 1.32\n",
      " 5.03 4.77 2.47 3.81 1.43 2.27 1.19 2.55 2.46 4.46 1.89 1.87 4.19 1.23\n",
      " 1.37 1.55 1.53 1.84 2.65 4.79 4.26 1.47 1.54 1.65 2.19 3.12 4.16 1.46\n",
      " 6.19 2.37 3.44 3.07 3.61 1.73 3.19 3.33 2.32 1.55 4.23 1.83 5.94 6.19\n",
      " 1.32 1.37 1.89 2.48 1.27 1.89 6.27 1.54 5.62 6.31 4.   2.5 ]\n",
      "[2.16 2.8  1.69 2.77 2.87 2.23 2.55 2.16 2.56 1.28 2.08 1.75 2.25 2.46\n",
      " 2.69 2.46 2.03 2.27 2.04 1.66 2.53 2.51 0.63 2.43 2.8  2.45 2.25 2.63\n",
      " 2.73 1.56 2.35 2.52 2.22 2.7  2.51 0.78 2.25 1.73 2.22 2.88 2.7  2.51\n",
      " 2.6  2.93 2.33 2.6  1.68 1.87 1.48 2.38 2.7  2.13 0.44 2.51 2.65 2.55\n",
      " 2.01 2.18 1.59 2.28 2.72 0.68 1.61 2.37 2.63 2.65 2.76 2.65 2.25 2.08\n",
      " 1.7  2.09 2.63 1.   2.38 2.53 2.51 2.16 2.77 2.65 2.65 1.96 2.3  1.98\n",
      " 2.23 1.79 1.82 2.01 2.06 2.32 2.02 2.65 2.16 2.39 2.25 2.62 1.51 0.1\n",
      " 2.06 2.43 2.25 2.52 1.76 2.87 1.84 2.79 2.28 1.76 1.61 2.72 2.42 1.56\n",
      " 0.   1.69 2.25 2.27 1.81 1.06 2.31 1.19 1.31 2.06 2.6  2.41 2.8  1.19\n",
      " 2.51 2.15 2.69 2.33 1.16 1.78 2.69 2.86 2.65 2.44 2.6  1.82 2.41 1.92\n",
      " 2.42 2.43 1.59 2.7  2.45 2.23 2.86 2.63 2.63 2.53 2.8  2.87 2.45 2.65\n",
      " 2.63 1.68 2.63 2.93 0.   1.81 2.46 2.7  2.29 2.43 1.98 2.23 1.73 1.81\n",
      " 2.16 1.37 2.87 1.31 2.52 1.86 2.16 2.63 2.13 2.65 2.29 1.62 1.59 1.99\n",
      " 1.79 1.79 2.51 2.63 2.63 0.4  2.35 1.28 2.49 2.2  0.81 1.26 2.36 2.63\n",
      " 1.51 2.8  2.62 2.31 2.33 2.43 2.65 2.77 2.79 2.41 1.77 1.26 2.16 2.73\n",
      " 2.87 2.3  2.55 2.55 2.25 2.63 2.77 1.88 2.31 1.7  2.13 1.92 1.87 1.64\n",
      " 2.31 2.38 1.78 2.63 2.63 2.63 0.78 2.41 2.53 2.77 2.56 2.93 2.69 2.69\n",
      " 1.08 2.73 2.62 0.21 1.56 1.93 2.86 2.8  2.41 2.22 2.72 2.09 1.85 2.73\n",
      " 2.73 2.03 2.58 1.37 2.32 2.51 3.   2.87 2.33 2.26 2.65 2.8  1.26 1.51\n",
      " 1.81 1.   1.9  2.48 1.78 1.91 2.23 2.36 1.85 2.42 2.7  1.89 2.46 2.69\n",
      " 2.27 3.   1.3  2.53 2.03 2.94 1.77 2.8  2.08 2.79 2.65 2.22 2.51 1.68\n",
      " 2.45 2.53 1.21 2.63 2.3  1.51 1.88 2.31 2.8  1.47 2.55 1.7  2.65 2.48\n",
      " 2.32 1.75 2.08 2.69 1.54 2.77 2.93 2.16 2.77 2.79 2.04 2.01 2.7  0.71\n",
      " 2.53 2.77 1.85 0.94 2.62 2.16 2.06 2.48 2.77 1.83 2.46 1.82 1.73 2.77\n",
      " 2.06 2.65 2.27 2.25 2.08 1.66 1.93 2.58 0.83 1.41 2.46 2.1  2.79 2.18\n",
      " 2.76 2.76 1.98 2.58 1.68 0.85 2.63 2.29 1.89 2.48 2.63 2.48 2.36 2.72\n",
      " 2.44 1.54 2.11 1.5  1.82 2.48 2.13 1.78 0.85 1.76 1.77 2.39 1.76 2.27\n",
      " 2.53 2.23 0.59 2.06 2.73 0.39 2.15 2.41 2.73 2.7  2.73 2.48 2.58 1.73\n",
      " 0.34 2.87 0.41 1.77 2.76 2.76 2.8  2.35 2.18 1.95 2.28 2.05 2.7  2.43\n",
      " 2.55 2.01 2.65 2.7  2.58 2.63 2.94 2.69 2.94 2.04 1.26 2.5  2.7  2.53\n",
      " 2.79 2.52 2.43 2.29 2.77 2.08 1.36 2.8  2.13 2.23]\n",
      "[0.263 0.    0.4   0.    0.    0.    0.    0.    0.    0.    0.    0.\n",
      " 0.    0.    0.05  0.    0.    0.    0.    0.65  0.    0.    0.789 0.\n",
      " 0.    0.526 0.1   0.    0.    0.632 0.    0.    0.    0.105 0.    0.\n",
      " 0.    0.053 0.2   0.105 0.    0.    0.1   0.    0.    0.    0.    0.1\n",
      " 0.5   0.    0.    0.    0.842 0.    0.    0.    0.    0.    0.737 0.\n",
      " 0.    0.421 0.    0.    0.    0.    0.05  0.    0.    0.    0.    0.\n",
      " 0.    0.737 0.    0.    0.    0.05  0.    0.05  0.    0.316 0.    0.474\n",
      " 0.211 0.    0.105 0.421 0.    0.05  0.15  0.    0.    0.1   0.    0.\n",
      " 0.6   1.    0.    0.    0.    0.    0.    0.105 0.    0.1   0.25  0.\n",
      " 0.    0.    0.4   0.    1.    0.579 0.    0.    0.    0.6   0.    0.368\n",
      " 0.737 0.    0.    0.053 0.158 0.    0.    0.    0.1   0.    0.    0.\n",
      " 0.    0.    0.    0.    0.    0.    0.    0.85  0.    0.    0.    0.1\n",
      " 0.    0.    0.    0.    0.    0.    0.053 0.    0.053 0.    0.158 0.\n",
      " 0.    0.    1.    0.    0.    0.    0.    0.    0.    0.    0.    0.\n",
      " 0.    0.5   0.    0.526 0.    0.    0.    0.105 0.    0.    0.    0.4\n",
      " 0.    0.    0.    0.263 0.    0.053 0.    0.    0.    0.421 0.    0.\n",
      " 0.    0.65  0.2   0.    0.    0.    0.    0.    0.    0.    0.    0.\n",
      " 0.    0.    0.55  0.    0.    0.158 0.    0.    0.    0.    0.05  0.\n",
      " 0.    0.    0.    0.421 0.    0.35  0.    0.    0.316 0.053 0.    0.\n",
      " 0.    0.    0.    0.053 0.35  0.05  0.    0.    0.    0.    0.05  0.\n",
      " 0.    0.    0.    0.6   0.    0.    0.    0.    0.    0.35  0.    0.\n",
      " 0.    0.    0.    0.7   0.    0.    0.    0.    0.368 0.    0.    0.053\n",
      " 0.65  0.    0.421 0.737 0.35  0.    0.    0.053 0.    0.    0.    0.25\n",
      " 0.    0.    0.    0.    0.    0.1   0.263 0.    0.    0.    0.    0.\n",
      " 0.    0.05  0.    0.    0.05  0.    0.    0.    0.55  0.    0.    0.\n",
      " 0.    0.    0.    0.    0.    0.    0.    0.    0.05  0.    0.    0.05\n",
      " 0.    0.    0.    0.45  0.    0.    0.    0.    0.    1.    0.    0.053\n",
      " 0.    0.    0.    0.5   0.    0.158 0.    0.    0.    0.421 0.158 0.\n",
      " 0.    0.    0.211 0.15  0.    0.053 0.45  0.    0.75  0.    0.    0.\n",
      " 0.    0.    0.    0.    0.    0.    0.    0.737 0.    0.    0.    0.\n",
      " 0.158 0.053 0.    0.    0.    0.05  0.211 0.    0.421 0.105 0.    0.5\n",
      " 0.6   0.    0.1   0.    0.    0.    0.    0.    0.85  0.35  0.    0.95\n",
      " 0.421 0.    0.    0.    0.    0.    0.    0.    0.895 0.    0.    0.\n",
      " 0.    0.    0.    0.    0.    0.2   0.    0.    0.    0.    0.    0.\n",
      " 0.    0.    0.    0.158 0.    0.    0.    0.25  0.    0.05  0.    0.05\n",
      " 0.05  0.    0.    0.    0.05  0.    0.316 0.    0.    0.684]\n",
      "[4.32 2.84 3.8  3.68 3.68 4.42 3.   3.79 3.05 4.05 3.4  4.26 3.3  2.9\n",
      " 2.35 3.95 3.74 3.35 2.8  4.3  3.9  3.53 6.16 4.   3.95 4.21 3.35 3.32\n",
      " 3.95 4.74 3.5  3.58 3.25 3.11 2.9  3.85 3.05 5.16 3.6  3.47 3.4  2.9\n",
      " 3.9  2.2  3.68 2.85 3.9  3.5  4.   3.4  3.15 3.79 5.16 4.11 2.4  3.84\n",
      " 4.39 3.35 4.42 3.1  3.8  6.53 4.   3.8  3.53 3.3  2.45 2.8  3.3  4.37\n",
      " 3.5  3.84 3.58 4.11 4.05 4.21 2.55 3.3  2.85 3.2  3.2  5.   4.26 4.58\n",
      " 4.05 4.16 3.47 4.74 2.9  3.2  4.55 2.05 3.9  3.5  3.   3.05 3.95 5.75\n",
      " 4.53 3.05 3.45 3.79 4.63 3.47 2.95 2.85 3.15 3.9  4.45 2.45 3.05 4.11\n",
      " 5.84 4.74 3.25 3.55 4.   5.1  2.95 4.53 5.42 3.84 3.84 4.26 2.95 5.47\n",
      " 3.58 3.7  3.2  4.37 4.4  4.25 3.4  2.25 3.26 2.75 3.2  4.1  3.74 4.55\n",
      " 3.6  3.68 4.84 2.85 3.32 3.25 2.6  3.74 3.4  3.68 3.79 3.74 4.05 3.35\n",
      " 3.79 4.15 2.8  1.9  6.58 5.   3.25 2.63 3.2  3.5  3.32 3.84 3.25 3.79\n",
      " 4.21 4.5  2.79 4.84 3.68 3.35 3.1  3.58 3.79 2.45 3.2  4.7  4.53 3.25\n",
      " 4.3  4.42 3.42 4.   3.   5.2  3.26 5.21 2.9  4.11 4.68 4.5  2.2  3.05\n",
      " 3.1  3.47 3.   4.26 3.   3.11 2.45 2.3  2.5  3.53 3.6  4.1  4.   3.84\n",
      " 3.26 3.2  3.47 3.95 3.75 3.16 3.   4.   4.   4.05 4.16 4.4  4.1  3.85\n",
      " 3.42 3.26 4.32 3.58 2.74 3.75 4.85 4.37 3.4  2.95 3.55 2.6  2.4  3.35\n",
      " 5.   3.63 4.   4.7  5.16 3.9  3.1  2.74 3.68 3.85 2.65 4.55 3.74 3.26\n",
      " 3.05 3.3  3.84 5.35 3.1  4.05 2.35 3.84 3.21 4.05 3.9  3.05 5.05 3.4\n",
      " 4.53 5.42 4.7  3.95 3.45 4.05 3.84 3.68 4.1  3.5  3.63 4.15 3.35 2.5\n",
      " 3.5  2.3  4.95 3.58 4.15 2.74 4.2  3.84 3.68 2.9  2.95 4.   4.25 3.8\n",
      " 3.58 3.63 5.6  3.11 3.79 3.85 3.63 3.68 3.32 5.58 3.68 3.74 3.74 4.15\n",
      " 2.95 4.26 3.42 2.6  3.7  3.26 2.55 4.65 3.9  2.45 4.   4.37 2.65 5.35\n",
      " 3.53 2.74 3.6  3.84 3.1  4.   4.11 3.9  3.26 3.74 3.4  4.53 4.53 3.45\n",
      " 3.95 3.15 3.53 4.15 3.1  3.79 4.6  4.05 5.3  4.58 2.2  4.05 3.4  4.45\n",
      " 2.7  3.05 3.58 2.2  3.25 5.21 3.55 4.05 3.5  2.75 3.16 2.95 3.9  2.95\n",
      " 3.6  3.95 4.37 4.35 4.37 3.79 3.9  4.   6.3  3.6  3.85 2.95 4.42 4.37\n",
      " 3.95 4.47 4.86 3.65 3.16 6.   4.16 3.37 3.16 3.   3.63 3.95 3.05 3.85\n",
      " 5.53 3.68 5.11 4.42 2.91 2.5  4.   3.35 4.2  3.55 3.45 4.4  3.5  4.53\n",
      " 3.74 4.63 3.32 3.   4.   3.21 2.84 2.95 3.16 4.   5.4  4.47 3.9  3.25\n",
      " 2.75 3.45 3.42 3.35 3.3  3.5  4.32 4.   3.65 5.  ]\n",
      "[634. 334. 734. ... 901. 534. 801.]\n",
      "[1668. 1468. 2035. ... 2002. 1835. 2002.]\n",
      "[0 1 1 ... 1 0 0]\n",
      "[0 0 0 ... 1 0 0]\n",
      "[0 0 0 ... 0 0 0]\n",
      "[1 1 1 ... 3 1 1]\n",
      "[1. 0. 0. ... 0. 1. 1.]\n",
      "[0. 1. 0. ... 1. 1. 0.]\n",
      "[0. 0. 0. ... 1. 0. 0.]\n",
      "[0. 0. 1. ... 0. 1. 1.]\n",
      "[1 0 0 ... 0 0 0]\n",
      "[1 0 1 ... 0 1 0]\n",
      "[0 1 0 ... 0 0 0]\n",
      "[0. 0. 0. 0. 0. 0. 0. 0. 0. 0. 0. 0. 0. 0. 0. 0. 1. 1. 0. 0. 0. 0. 1. 0.\n",
      " 0. 0. 1. 0. 0. 0. 0. 0. 0. 0. 0. 0. 0. 0. 0. 0. 0. 0. 0. 0. 0. 0. 0. 0.\n",
      " 0. 0. 0. 0. 0. 0. 0. 0. 0. 1. 0. 0. 1. 0. 0. 0. 0. 1. 0. 1. 1. 0. 0. 0.\n",
      " 1. 0. 0. 0. 0. 0. 1. 0. 0. 0. 0. 0. 0. 0. 0. 0. 1. 0. 0. 0. 0. 0. 0. 1.\n",
      " 0. 1. 0. 1. 0. 0. 0. 0. 1. 0. 0. 0. 0. 1. 1. 0. 0. 0. 0. 0. 0. 0. 0. 0.\n",
      " 0. 0. 0. 1. 0. 0. 0. 0. 0. 0. 0. 0. 0. 0. 0. 1. 0. 0. 0. 0. 1. 0. 0. 0.\n",
      " 0. 0. 0. 0. 0. 0. 0. 0. 0. 0. 0. 0. 0. 0. 1. 0. 0. 0. 0. 0. 1. 0. 0. 0.\n",
      " 0. 0. 1. 0. 0. 0. 0. 0. 0. 0. 0. 0. 0. 0. 0. 0. 0. 0. 0. 1. 1. 1. 0. 0.\n",
      " 0. 1. 0. 0. 0. 0. 0. 0. 0. 0. 0. 0. 1. 0. 0. 0. 0. 0. 0.]\n",
      "[0. 0. 0. 0. 0. 1. 0. 0. 0. 0. 0. 0. 1. 1. 1. 1. 0. 0. 0. 0. 0. 1. 1. 1.\n",
      " 0. 0. 0. 0. 1. 0. 0. 1. 0. 0. 0. 0. 0. 1. 0. 1. 0. 0. 1. 0. 0. 0. 0. 0.\n",
      " 0. 0. 1. 1. 0. 0. 1. 0. 1. 1. 1. 1. 1. 0. 0. 0. 0. 0. 0. 0. 0. 0. 0. 0.\n",
      " 1. 1. 0. 0. 0. 0. 0. 0. 1. 0. 0. 0. 0. 1. 0. 0. 1. 0. 0. 0. 1. 0. 1. 0.\n",
      " 0. 0. 0. 0. 0. 0. 0. 0. 0. 1. 1. 0. 1. 0. 1. 0. 0. 0. 0. 1. 1. 0. 1. 1.\n",
      " 1. 0. 0. 0. 0. 0. 0. 0. 1. 0. 0. 1. 0. 0. 1. 0. 0. 0. 0. 1. 1. 1. 0. 0.\n",
      " 0. 0. 0. 0. 1. 1. 1. 0.]\n",
      "[0. 0. 0. 0. 0. 0. 0. 0. 0. 0. 0. 0. 0. 0. 0. 0. 1. 0. 0. 1. 0. 0. 0. 0.\n",
      " 0. 0. 0. 0. 0. 0. 0. 0. 0. 0. 0. 0. 0. 0. 0. 0. 0. 0. 0. 0. 0. 0. 0. 0.\n",
      " 1. 0. 0. 0. 0. 0. 0. 0. 0. 0. 0. 0. 0. 1. 0. 0. 0. 0. 0. 0. 0. 0. 0. 0.\n",
      " 0. 0. 0. 0. 1. 0. 0. 0. 0. 0. 0. 0. 0. 0. 0. 0. 0. 0. 0. 0. 0. 0. 0. 0.\n",
      " 0. 0. 0. 0. 0. 0. 0. 0. 0. 0. 0. 0. 0. 0. 0. 0. 0. 0. 0. 0. 1. 0. 0. 0.\n",
      " 0. 0. 0. 0. 0. 0. 0. 0. 0. 0. 0. 0. 0. 0. 0. 0. 0. 0. 0. 1. 0. 0. 0. 0.\n",
      " 0. 0. 0. 1. 0. 0. 0. 0. 0.]\n",
      "[1. 0. 0. 0. 0. 0. 1. 0. 0. 1. 0. 0. 0. 0. 0. 0. 0. 0. 1. 0. 0. 0. 0. 0.\n",
      " 1. 0. 0. 0. 1. 0. 0. 1. 0. 1. 0. 0. 1. 0. 0. 0. 0. 0. 0. 0. 0. 0. 1. 0.\n",
      " 0. 0. 0. 0. 0. 0. 0. 1. 1. 0. 1. 0. 0. 1. 0. 0. 0. 0. 0. 1. 0. 0. 1. 0.\n",
      " 0. 1. 1. 1. 0. 0. 1. 0. 0. 0. 0. 0. 0. 1. 0. 0. 0. 0. 0. 0. 0. 0. 0. 1.\n",
      " 0. 1. 0. 0. 0. 1. 0. 1. 0. 1. 1. 0. 0. 0. 0. 0. 0. 0. 0. 1. 1. 1. 0. 1.\n",
      " 0. 0. 0. 0. 1. 0. 0. 0. 1. 0. 0. 0. 0. 0. 0. 0. 0. 0. 1. 0. 0. 0. 0. 1.\n",
      " 1. 1. 0. 1. 1. 0. 1. 0. 0. 0. 1. 1. 0. 1. 1. 0. 1. 0. 0. 0. 1. 0. 0. 0.\n",
      " 0. 0. 0. 0. 1. 0. 0. 0. 0. 0. 1. 0. 1. 0. 0. 0. 1. 0. 1. 0. 0. 0. 1. 0.\n",
      " 0. 1. 1. 0. 0. 0. 1. 1. 0. 0. 1. 0. 0. 0. 1. 0. 0. 0. 0. 0. 1. 1. 1. 0.\n",
      " 0. 0. 0. 0. 0. 0. 0. 1. 1. 0. 0. 0. 0. 0. 0. 0. 0. 1. 0. 1. 1. 0. 0. 0.\n",
      " 1. 1.]\n",
      "[1. 0. 0. 1. 0. 1. 1. 0. 0. 0. 0. 0. 0. 0. 1. 0. 0. 0. 1. 0. 0. 0. 1. 1.\n",
      " 0. 0. 0. 0. 0. 0. 0. 1. 0. 0. 0.]\n",
      "[0. 0. 0. 0. 0. 0. 1. 1. 0. 1. 0. 1. 1. 1. 1. 1. 1. 1. 0. 0. 1. 0. 1. 1.\n",
      " 0. 1. 0. 1. 0. 1. 0. 0. 1. 1. 1. 0. 0. 0. 0. 0. 0. 0. 0. 1. 1. 1. 0. 1.\n",
      " 1. 0. 0. 0. 1. 0. 0. 1. 1. 0. 0. 0. 0. 0. 0. 0. 0. 0. 0. 0. 0. 1. 1. 0.\n",
      " 0. 0. 0. 0. 0. 0. 0. 0. 0. 0. 0. 1. 1. 0. 1. 1. 0. 0. 0. 0. 1. 0. 1. 1.\n",
      " 1. 1. 1. 1. 1. 1. 0. 0. 0. 1. 1. 1. 0. 1. 1. 0. 0. 1. 1. 0. 1. 1. 1. 0.\n",
      " 0. 0. 0. 0. 1. 1. 1. 0. 1. 0. 0. 1. 0. 0. 0. 1. 0. 1. 0. 0. 0. 0. 1. 1.\n",
      " 0. 1. 1. 0. 0. 1. 0. 0. 1. 0. 0. 0. 0. 1. 0. 1. 0. 0. 1. 1. 1. 0. 0. 0.\n",
      " 1. 0. 1. 0. 1. 0. 0. 0. 1. 0. 0. 0. 0. 1. 1. 0. 1. 0. 0. 1. 1. 1. 1. 0.\n",
      " 0. 0. 0. 1. 1. 0. 1. 0. 1. 1. 0. 1. 0. 1. 1. 1. 0. 1. 1. 0. 0. 1. 0. 0.\n",
      " 0. 0. 1. 1. 0. 1. 0. 1. 1.]\n",
      "[0. 0. 0. 1. 0. 0. 0. 0. 0. 1. 0. 0. 0. 0. 0. 0. 0. 0. 0. 1. 0. 0. 0. 0.\n",
      " 0. 1. 0. 0. 0. 0. 0. 1. 0. 0. 0. 0. 0. 0. 0. 0. 0. 1. 0. 0. 0. 0. 0. 0.\n",
      " 0. 0. 0. 0. 0. 0. 0. 0. 0. 0. 0. 0. 0. 0. 0. 1. 0. 0. 0. 0. 0. 0. 0. 0.\n",
      " 0. 0. 0. 0. 0. 0. 0. 0. 0. 0. 0. 0. 0. 0. 0. 0. 0. 0. 0. 0. 0. 0. 0. 0.\n",
      " 0. 0. 0. 0. 0. 0. 0. 0. 0. 0. 0. 0. 0. 0. 0. 0. 0. 0. 0. 0. 0. 0. 0. 0.\n",
      " 0. 0. 0. 0. 0. 0. 0. 0. 0. 0. 0. 0. 0. 0. 0. 0. 0. 0. 0. 0. 0. 0. 0. 0.\n",
      " 0. 0. 0. 0. 0. 0. 0. 0. 0. 0. 0. 0. 0. 0. 0. 0. 1. 0. 0. 0. 0. 0. 0. 0.\n",
      " 0. 0. 0. 0. 0. 0. 0. 0. 1. 0. 0. 0. 0. 0. 0. 0. 0. 0. 0. 0. 0. 0. 0. 0.\n",
      " 0. 0. 0. 0. 0. 0. 0. 0. 0. 0. 0. 0. 0. 0. 0. 0. 0. 0. 0. 0. 0. 0. 1. 0.\n",
      " 0. 0. 0. 0. 0. 0. 0. 0. 0. 0.]\n",
      "[0. 0. 0. 0. 1. 0. 0. 0. 0. 0. 1. 0. 0. 0. 0. 0. 0. 0. 0. 0. 0.]\n",
      "[0. 0. 0. 1. 0. 0. 0. 0. 1. 1. 1. 1. 1. 1. 0. 0. 0. 0. 0. 1. 1. 1. 1. 0.\n",
      " 0. 0.]\n",
      "[0. 0. 0. 0. 0. 0. 0. 0. 0. 0. 0. 0. 0. 0. 0. 0. 0. 0. 0.]\n",
      "[0. 0. 0. 1. 0. 1. 1. 0. 1. 0. 0. 0. 0. 0. 0. 0. 0. 0. 1. 1. 0. 1. 0. 0.\n",
      " 0. 0. 0. 0. 1. 1. 0. 0. 1.]\n",
      "[0. 0. 0. 0. 0. 0. 1. 0.]\n",
      "[0. 1. 1. 0. 1. 1. 1. 1. 0. 0. 0. 1. 0. 1. 0. 0. 0. 1. 1. 1. 0. 0.]\n",
      "[0. 0. 0. 0. 0. 0. 0. 0. 0. 0. 0. 0. 0. 0. 0. 0. 0. 0. 0. 0. 0. 0.]\n",
      "[0. 0. 0. 0. 0. 0. 0.]\n",
      "[0. 1. 1. 1.]\n",
      "[0. 0. 0.]\n",
      "[0. 1. 0. 1. 0. 0. 0. 1. 1.]\n",
      "[0.]\n",
      "[1. 0. 1. 1.]\n",
      "[5.]\n",
      "[]\n",
      "[]\n",
      "[0. 0.]\n",
      "[]\n",
      "[0. 1. 0.]\n",
      "[]\n",
      "[]\n",
      "[]\n",
      "[]\n",
      "[]\n",
      "[]\n",
      "[]\n",
      "[]\n",
      "[]\n",
      "[]\n",
      "[0.]\n",
      "[]\n",
      "[0.]\n",
      "[]\n",
      "[]\n",
      "[]\n",
      "[]\n",
      "[]\n",
      "[]\n",
      "[]\n",
      "[]\n",
      "[]\n",
      "[0.175 0.392 0.175 ... 0.392 0.345 0.175]\n",
      "[0.25  0.363 0.25  ... 0.363 0.363 0.25 ]\n",
      "[0.019 0.363 0.015 ... 0.363 0.363 0.019]\n",
      "[0.155 0.    0.025 ... 0.426 0.426 0.155]\n",
      "[0.457 0.153 0.076 ... 0.034 0.457 0.457]\n",
      "[0.449 0.449 0.045 ... 0.261 0.261 0.261]\n",
      "[0.225 0.409 0.225 ... 0.409 0.067 0.409]\n",
      "[0.209 0.791 0.791 ... 0.    0.209 0.209]\n",
      "[0.446 0.554 0.554 ... 0.554 0.554 0.554]\n",
      "[0.622 0.378 0.622 ... 0.378 0.622 0.378]\n",
      "[0.602 0.398 0.    ... 0.    0.    0.   ]\n",
      "[0.    0.878 0.    ... 0.    0.    0.   ]\n",
      "[0.684 0.684 0.316 ... 0.684 0.316 0.316]\n",
      "[0.657 0.657 0.657 ... 0.343 0.657 0.657]\n",
      "[0.836 0.164 0.836 ... 0.836 0.836 0.836]\n",
      "[2. 1. 4. ... 3. 1. 2.]\n",
      "[-0.02   0.281 -0.396 ... -0.072  0.129 -0.283]\n",
      "[383 190 129 ... 137 524 368]\n",
      "[0 4 0 ... 3 0 0]\n",
      "[1268. 2436. 2437. ...   94. 3114.  329.]\n",
      "[61. 48. 26. 44. 41. 41. 29. 56. 25. 40. 33. 39. 22. 42. 35. 19. 27. 25.\n",
      " 40. 34. 47. 54. 30. 36. 22. 41. 50. 26. 44. 23. 39. 30. 47. 48. 41. 31.\n",
      " 42. 28. 36. 23. 32. 29. 29. 41. 28. 25. 21. 31. 40. 32. 46. 32. 32. 31.\n",
      " 27. 34. 33. 40. 28. 29. 32. 28. 36. 56. 33. 30. 27. 40. 40. 22. 29. 31.\n",
      " 36. 35. 28. 37. 24. 32. 34. 24. 46. 28. 26. 44. 41. 50. 27. 40. 29. 46.\n",
      " 48. 26. 32. 29. 26. 37. 39. 29. 23. 32. 56. 27. 23. 38. 49. 59. 38. 26.\n",
      " 40. 24. 52. 26. 26. 37. 39. 37. 36. 47. 42. 28. 31. 26. 39. 48. 34. 26.\n",
      " 55. 36. 36. 25. 31. 48. 35. 32. 26. 30. 27. 34. 37. 32. 21. 28. 41. 33.\n",
      " 25. 60. 27. 37. 19. 28. 26. 46. 46. 55. 26. 52. 29. 28. 36. 34. 20. 35.\n",
      " 38. 29. 31. 41. 23. 32. 41. 25. 31. 33. 26. 32. 40. 28. 29. 32. 31. 30.\n",
      " 27. 45. 41. 31. 33. 43. 34. 33. 29. 30. 28. 29. 31. 30. 31. 46. 41. 28.\n",
      " 26. 26. 28. 30. 27. 41. 24. 32. 31. 37. 28. 35. 22. 58. 35. 31. 37. 45.\n",
      " 44. 31. 27. 27. 27. 30. 39. 52. 27. 29. 42. 25. 25. 46. 25. 30. 29. 53.\n",
      " 27. 29. 40. 28. 25. 33. 24. 49. 33. 41. 29. 41. 34. 28. 29. 29. 37. 34.\n",
      " 43. 35. 33. 25. 41. 34. 34. 38. 45. 43. 34. 49. 40. 48. 35. 30. 24. 54.\n",
      " 27. 41. 28. 28. 34. 29. 51. 36. 31. 35. 40. 27. 36. 34. 26. 42. 14. 35.\n",
      " 55. 39. 27. 27. 52. 27. 42. 21. 33. 20. 30. 27. 27. 34. 38. 23. 40. 32.\n",
      " 36. 39. 36. 55. 45. 32. 31. 27. 38. 37. 28. 32. 44. 43. 35. 33. 37. 35.\n",
      " 35. 40. 28. 24. 28. 33. 54. 31. 25. 49. 29. 29. 39. 31. 39. 31. 34. 55.\n",
      " 50. 42. 38. 28. 28. 33. 29. 24. 34. 26. 37. 58. 31. 37. 49. 33. 43. 30.\n",
      " 28. 41. 39. 30. 67. 22. 29. 27. 40. 41. 46. 40. 31. 45. 35. 31. 29. 27.\n",
      " 45. 39. 35. 33. 39. 45. 26. 27. 30. 32. 29. 28. 29. 30. 23. 42. 33. 46.\n",
      " 44. 42. 29. 30. 51. 31. 42. 25. 50. 44. 22. 32. 37. 31. 28. 29. 28. 61.\n",
      " 33. 25. 46. 33. 39. 31. 25. 33. 31. 28. 32. 30. 31. 29. 34. 28. 35. 38.\n",
      " 30. 27. 38. 29. 40. 30. 27. 46. 41. 27. 28. 29. 33. 56. 40. 38. 40. 35.\n",
      " 43. 37. 29. 33. 26. 26. 38. 42. 47. 50. 49. 41. 31. 29. 53. 28. 42. 30.\n",
      " 32. 51. 41. 27. 42. 34. 39. 22. 35. 33. 27. 30. 22. 35. 41. 29. 30. 32.\n",
      " 44. 40. 39. 26. 47. 30. 26. 27. 27. 31. 32. 28. 31. 45. 24. 51. 57. 29.\n",
      " 31. 46. 46. 54. 25. 38. 31. 29. 39. 35. 31. 30. 31. 33. 33. 37. 28. 39.\n",
      " 31. 57. 27. 24. 49. 26. 26. 56. 45. 29. 39.]\n",
      "[35. 35. 23. 28. 35. 35. 19. 36. 14. 23. 14. 23. 14. 35. 28. 14. 19. 15.\n",
      " 35. 23. 35. 43. 28. 33. 15. 39. 23. 15. 31. 16. 28. 31. 35. 35. 23. 28.\n",
      " 28. 23. 28. 14. 21. 28. 19. 19. 28. 15. 15. 28. 31. 28. 36. 23. 23. 23.\n",
      " 21. 18. 26. 19. 28. 16. 19. 19. 34. 21. 20. 26. 23. 28. 28. 15. 28. 24.\n",
      " 34. 28. 22. 28. 14. 28. 28. 14. 34. 22. 23. 35. 28. 35. 14. 23. 22. 28.\n",
      " 35. 18. 28. 19. 28. 24. 34. 23. 14. 19. 35. 14. 18. 28. 35. 31. 22. 26.\n",
      " 18. 15. 49. 23. 18. 21. 28. 19. 32. 35. 35. 23. 23. 15. 33. 35. 29. 15.\n",
      " 36. 28. 28. 14. 23. 35. 28. 28. 23. 28. 18. 23. 27. 28. 14. 18. 19. 28.\n",
      " 16. 35. 16. 28. 14. 23. 18. 28. 28. 35. 16. 43. 26. 18. 34. 28. 14. 28.\n",
      " 21. 19. 28. 23. 16. 14. 28. 15. 19. 28. 14. 23. 24. 21. 26. 28. 22. 28.\n",
      " 28. 35. 23. 28. 23. 28. 19. 28. 28. 22. 19. 22. 30. 28. 19. 23. 28. 26.\n",
      " 14. 14. 23. 15. 19. 35. 16. 28. 16. 32. 23. 21. 14. 33. 28. 19. 23. 21.\n",
      " 35. 28. 23. 14. 14. 28. 19. 35. 28. 28. 35. 18. 14. 34. 14. 30. 28. 35.\n",
      " 19. 19. 28. 18. 14. 31. 14. 35. 28. 35. 19. 27. 32. 22. 28. 28. 23. 19.\n",
      " 28. 26. 19. 14. 34. 28. 28. 28. 35. 21. 28. 33. 35. 35. 28. 28. 14. 35.\n",
      " 26. 31. 18. 24. 23. 28. 35. 28. 23. 28. 35. 15. 23. 28. 20. 30.  9. 32.\n",
      " 43. 34. 16. 18. 43. 28. 19. 14. 30. 14. 16. 16. 16. 30. 33. 16. 28. 22.\n",
      " 28. 35. 28. 35. 35. 19. 18. 19. 28. 28. 23. 28. 35. 28. 26. 28. 28. 28.\n",
      " 28. 33. 19. 15. 18. 28. 35. 26. 15. 35. 18. 28. 28. 19. 35. 27. 28. 34.\n",
      " 23. 35. 28. 28. 23. 32. 19. 19. 28. 16. 23. 35. 23. 28. 21. 28. 28. 23.\n",
      " 19. 30. 35. 28. 35. 14. 28. 28. 28. 28. 21. 34. 28. 33. 14. 28. 28. 28.\n",
      " 35. 31. 28. 28. 28. 23. 26. 28. 23. 28. 19. 28. 23. 28. 14. 19. 23. 23.\n",
      " 34. 35. 23. 28. 19. 23. 34. 18. 34. 35. 15. 28. 28. 28. 19. 23. 15. 31.\n",
      " 28. 18. 39. 19. 34. 16. 23. 26. 23. 28. 21. 22. 28. 23. 28. 23. 28. 28.\n",
      " 16. 19. 35. 23. 35. 16. 28. 31. 26. 23. 28. 21. 28. 16. 19. 35. 23. 28.\n",
      " 39. 28. 18. 28. 27. 18. 19. 28. 34. 36. 21. 35. 28. 19. 34. 28. 43. 19.\n",
      " 19. 35. 23. 28. 23. 28. 23. 15. 28. 28. 21. 19. 14. 16. 23. 28. 28. 29.\n",
      " 35. 35. 34. 15. 33. 19. 21. 23. 19. 19. 26. 19. 14. 35. 14. 28. 60. 22.\n",
      " 28. 43. 28. 58. 26. 29. 28. 16. 28. 28. 28. 14. 29. 28. 28. 23. 19. 34.\n",
      " 28. 45. 28. 19. 36. 16. 28. 47. 21. 28. 28.]\n",
      "[1000.    0. 1000. ...    9. 1000. 1000.]\n",
      "{'ClipDuration(ms)': {'max': 3737, 'min': 701},\n",
      " 'Compound.2.0': {'max': 1, 'min': 0},\n",
      " 'Contact.2.0': {'max': 1, 'min': 0},\n",
      " 'Contact.2.0Frequency': {'max': 1, 'min': 0},\n",
      " 'ContactM2.2.0': {'max': 1, 'min': 0},\n",
      " 'ContactM3.2.0': {'max': 1, 'min': 0},\n",
      " 'ContactM4.2.0': {'max': 1, 'min': 0},\n",
      " 'ContactM5.2.0': {},\n",
      " 'ContactM6.2.0': {},\n",
      " 'D.Iconicity(M) all': {'max': 7, 'min': 1},\n",
      " 'FingerspelledLoanSign.2.0': {'max': 1, 'min': 0},\n",
      " 'Flexion.2.0': ['Flat',\n",
      "                 'Crossed',\n",
      "                 'FullyClosed',\n",
      "                 'FullyOpen',\n",
      "                 'Curved',\n",
      "                 'Stacked',\n",
      "                 'Bent'],\n",
      " 'Flexion.2.0Frequency': {'max': 1, 'min': 0},\n",
      " 'FlexionChange.2.0': {'max': 1, 'min': 0},\n",
      " 'FlexionChange.2.0Frequency': {'max': 1, 'min': 0},\n",
      " 'FlexionChangeM2.2.0': {'max': 1, 'min': 0},\n",
      " 'FlexionChangeM3.2.0': {'max': 1, 'min': 0},\n",
      " 'FlexionChangeM4.2.0': {'max': 0, 'min': 0},\n",
      " 'FlexionChangeM5.2.0': {},\n",
      " 'FlexionChangeM6.2.0': {},\n",
      " 'FlexionM2.2.0': ['Flat',\n",
      "                   'FullyClosed',\n",
      "                   'FullyOpen',\n",
      "                   'Curved',\n",
      "                   'Stacked',\n",
      "                   'Bent'],\n",
      " 'FlexionM3.2.0': ['Flat',\n",
      "                   'Crossed',\n",
      "                   'FullyClosed',\n",
      "                   'FullyOpen',\n",
      "                   'Curved',\n",
      "                   'Bent'],\n",
      " 'FlexionM4.2.0': ['FullyOpen', 'Stacked', 'Bent', 'Curved'],\n",
      " 'FlexionM5.2.0': ['FullyOpen', 'Bent', 'Curved'],\n",
      " 'FlexionM6.2.0': ['Crossed'],\n",
      " 'GuessAccuracy': {'max': 1, 'min': 0},\n",
      " 'H statistic': {'max': 3, 'min': 0},\n",
      " 'Handshape.2.0': ['flat_4',\n",
      "                   'curved_1',\n",
      "                   'flat_h',\n",
      "                   'w',\n",
      "                   'closed_b',\n",
      "                   'd',\n",
      "                   'bent_l',\n",
      "                   'flat_1',\n",
      "                   'flat_v',\n",
      "                   'y',\n",
      "                   'flatspread_5',\n",
      "                   'open_b',\n",
      "                   'g',\n",
      "                   'closed_e',\n",
      "                   'curved_4',\n",
      "                   'h',\n",
      "                   'flat_o',\n",
      "                   'bent_1',\n",
      "                   'curved_h',\n",
      "                   'curved_v',\n",
      "                   'stacked_5',\n",
      "                   'flat_m',\n",
      "                   'i',\n",
      "                   '7',\n",
      "                   'o',\n",
      "                   't',\n",
      "                   'k',\n",
      "                   'v',\n",
      "                   'e',\n",
      "                   'r',\n",
      "                   '1',\n",
      "                   'curved_5',\n",
      "                   '3',\n",
      "                   'spread_e',\n",
      "                   'f',\n",
      "                   'flat_n',\n",
      "                   '8',\n",
      "                   'p',\n",
      "                   'flat_ily',\n",
      "                   'flat_horns',\n",
      "                   '4',\n",
      "                   'goody_goody',\n",
      "                   'spread_open_e',\n",
      "                   'c',\n",
      "                   'curved_l',\n",
      "                   'ily',\n",
      "                   '5',\n",
      "                   'open_e',\n",
      "                   'l',\n",
      "                   'horns',\n",
      "                   'flat_b',\n",
      "                   'bent_v',\n",
      "                   'open_f',\n",
      "                   'a',\n",
      "                   's',\n",
      "                   'open_8',\n",
      "                   'baby_o',\n",
      "                   'open_h'],\n",
      " 'HandshapeM2.2.0': ['flat_4',\n",
      "                     'flat_h',\n",
      "                     'curved_1',\n",
      "                     'w',\n",
      "                     'closed_b',\n",
      "                     'bent_l',\n",
      "                     'flat_v',\n",
      "                     'y',\n",
      "                     'flatspread_5',\n",
      "                     'open_b',\n",
      "                     'g',\n",
      "                     'h',\n",
      "                     'flat_o',\n",
      "                     'bent_1',\n",
      "                     'curved_v',\n",
      "                     'stacked_5',\n",
      "                     'i',\n",
      "                     'o',\n",
      "                     'v',\n",
      "                     'e',\n",
      "                     '1',\n",
      "                     'curved_5',\n",
      "                     '3',\n",
      "                     'f',\n",
      "                     '8',\n",
      "                     'p',\n",
      "                     'c',\n",
      "                     'curved_l',\n",
      "                     '5',\n",
      "                     'l',\n",
      "                     'horns',\n",
      "                     'flat_b',\n",
      "                     'bent_v',\n",
      "                     'a',\n",
      "                     's',\n",
      "                     'open_8',\n",
      "                     'baby_o',\n",
      "                     'open_h'],\n",
      " 'HandshapeM3.2.0': ['flat_4',\n",
      "                     'closed_b',\n",
      "                     'y',\n",
      "                     'open_b',\n",
      "                     'curved_v',\n",
      "                     'o',\n",
      "                     'v',\n",
      "                     'e',\n",
      "                     'r',\n",
      "                     '1',\n",
      "                     'f',\n",
      "                     'n',\n",
      "                     'c',\n",
      "                     '5',\n",
      "                     'l',\n",
      "                     'flat_b',\n",
      "                     'a',\n",
      "                     's',\n",
      "                     'baby_o'],\n",
      " 'HandshapeM4.2.0': ['p', 'c', '5', 'a', 'bent_1', 'baby_o', 'i'],\n",
      " 'HandshapeM5.2.0': ['e', 'curved_v', 'l'],\n",
      " 'HandshapeM6.2.0': ['r'],\n",
      " 'Iconicity(M)': {'max': 7, 'min': 1},\n",
      " 'Initialized.2.0': {'max': 1, 'min': 0},\n",
      " 'LexicalClass': ['Verb',\n",
      "                  'Adjective',\n",
      "                  'Number',\n",
      "                  'Name',\n",
      "                  'Adverb',\n",
      "                  'Noun',\n",
      "                  'Minor'],\n",
      " 'MajorLocation.2.0': ['Head', 'Body', 'Hand', 'Other', 'Neutral', 'Arm'],\n",
      " 'MajorLocation.2.0Frequency': {'max': 1, 'min': 0},\n",
      " 'MajorLocationM2.2.0': ['Body', 'Head', 'Hand', 'Neutral', 'Arm'],\n",
      " 'MajorLocationM3.2.0': ['Neutral', 'Body', 'Hand', 'Head'],\n",
      " 'MajorLocationM4.2.0': ['Head', 'Hand', 'Body'],\n",
      " 'MajorLocationM5.2.0': {},\n",
      " 'MajorLocationM6.2.0': {},\n",
      " 'MinorLocation.2.0': ['CheekNose',\n",
      "                       'ForearmBack',\n",
      "                       'FingerFront',\n",
      "                       'ForearmUlnar',\n",
      "                       'HeadAway',\n",
      "                       'Hips',\n",
      "                       'BodyAway',\n",
      "                       'ElbowBack',\n",
      "                       'Shoulder',\n",
      "                       'HandAway',\n",
      "                       'UpperArm',\n",
      "                       'FingerBack',\n",
      "                       'Forehead',\n",
      "                       'TorsoTop',\n",
      "                       'FingerTip',\n",
      "                       'TorsoMid',\n",
      "                       'Heel',\n",
      "                       'Other',\n",
      "                       'WristFront',\n",
      "                       'Neutral',\n",
      "                       'UnderChin',\n",
      "                       'Palm',\n",
      "                       'HeadTop',\n",
      "                       'ForearmFront',\n",
      "                       'Neck',\n",
      "                       'Mouth',\n",
      "                       'UpperLip',\n",
      "                       'PalmBack',\n",
      "                       'Eye',\n",
      "                       'Chin',\n",
      "                       'FingerRadial',\n",
      "                       'TorsoBottom',\n",
      "                       'WristBack',\n",
      "                       'Waist',\n",
      "                       'Clavicle',\n",
      "                       'FingerUlnar',\n",
      "                       'ArmAway'],\n",
      " 'MinorLocation.2.0Frequency': {'max': 1, 'min': 0},\n",
      " 'MinorLocationM2.2.0': ['CheekNose',\n",
      "                         'ForearmBack',\n",
      "                         'FingerFront',\n",
      "                         'HeadAway',\n",
      "                         'Hips',\n",
      "                         'ElbowFront',\n",
      "                         'BodyAway',\n",
      "                         'HandAway',\n",
      "                         'FingerBack',\n",
      "                         'Forehead',\n",
      "                         'TorsoTop',\n",
      "                         'FingerTip',\n",
      "                         'TorsoMid',\n",
      "                         'Other',\n",
      "                         'Neutral',\n",
      "                         'UnderChin',\n",
      "                         'Palm',\n",
      "                         'Mouth',\n",
      "                         'PalmBack',\n",
      "                         'FingerRadial',\n",
      "                         'Clavicle',\n",
      "                         'FingerUlnar'],\n",
      " 'MinorLocationM3.2.0': ['Forehead',\n",
      "                         'TorsoTop',\n",
      "                         'FingerRadial',\n",
      "                         'Palm',\n",
      "                         'HeadAway',\n",
      "                         'Hips',\n",
      "                         'Clavicle',\n",
      "                         'Neutral'],\n",
      " 'MinorLocationM4.2.0': ['TorsoTop', 'HeadAway', 'FingerRadial'],\n",
      " 'MinorLocationM5.2.0': {},\n",
      " 'MinorLocationM6.2.0': {},\n",
      " 'Movement.2.0': ['X-shaped',\n",
      "                  'None',\n",
      "                  'BackAndForth',\n",
      "                  'Straight',\n",
      "                  'Curved',\n",
      "                  'Other',\n",
      "                  'Circular',\n",
      "                  'Z-shaped'],\n",
      " 'Movement.2.0Frequency': {'max': 1, 'min': 0},\n",
      " 'MovementM2.2.0': ['None',\n",
      "                    'BackAndForth',\n",
      "                    'Straight',\n",
      "                    'Curved',\n",
      "                    'Other',\n",
      "                    'Circular'],\n",
      " 'MovementM3.2.0': ['Straight', 'Circular', 'None', 'Other'],\n",
      " 'MovementM4.2.0': ['Straight', 'None'],\n",
      " 'MovementM5.2.0': {},\n",
      " 'MovementM6.2.0': {},\n",
      " 'Neighborhood Density 2.0': {'max': 50, 'min': 0},\n",
      " 'NonDominantHandshape.2.0': ['S',\n",
      "                              'flat_4',\n",
      "                              'flat_h',\n",
      "                              'curved_1',\n",
      "                              'w',\n",
      "                              'closed_b',\n",
      "                              'd',\n",
      "                              'bent_l',\n",
      "                              'flat_1',\n",
      "                              'flat_v',\n",
      "                              'y',\n",
      "                              'flatspread_5',\n",
      "                              'open_b',\n",
      "                              'g',\n",
      "                              'O',\n",
      "                              'curved_4',\n",
      "                              'h',\n",
      "                              'flat_o',\n",
      "                              'bent_1',\n",
      "                              'curved_v',\n",
      "                              'Lax',\n",
      "                              'flat_m',\n",
      "                              'i',\n",
      "                              'stacked_5',\n",
      "                              'SymmetryViolation',\n",
      "                              'o',\n",
      "                              'v',\n",
      "                              'e',\n",
      "                              'r',\n",
      "                              '1',\n",
      "                              'C',\n",
      "                              'curved_5',\n",
      "                              '3',\n",
      "                              'A',\n",
      "                              'f',\n",
      "                              '8',\n",
      "                              'B',\n",
      "                              'p',\n",
      "                              'flat_horns',\n",
      "                              'DominanceViolation',\n",
      "                              '4',\n",
      "                              'spread_open_e',\n",
      "                              'c',\n",
      "                              'curved_l',\n",
      "                              'ily',\n",
      "                              '5',\n",
      "                              'open_e',\n",
      "                              'l',\n",
      "                              'horns',\n",
      "                              'flat_b',\n",
      "                              'bent_v',\n",
      "                              'open_f',\n",
      "                              'a',\n",
      "                              's',\n",
      "                              'open_8',\n",
      "                              'baby_o',\n",
      "                              'open_h'],\n",
      " 'NonDominantHandshapeM2.2.0': ['S',\n",
      "                                'flat_4',\n",
      "                                'curved_1',\n",
      "                                'closed_b',\n",
      "                                'bent_l',\n",
      "                                'flatspread_5',\n",
      "                                'open_b',\n",
      "                                'O',\n",
      "                                'h',\n",
      "                                'flat_o',\n",
      "                                'bent_1',\n",
      "                                'i',\n",
      "                                'o',\n",
      "                                '1',\n",
      "                                'C',\n",
      "                                'curved_5',\n",
      "                                'A',\n",
      "                                'f',\n",
      "                                'B',\n",
      "                                'p',\n",
      "                                'c',\n",
      "                                'curved_l',\n",
      "                                '5',\n",
      "                                'l',\n",
      "                                'horns',\n",
      "                                'flat_b',\n",
      "                                'a',\n",
      "                                's',\n",
      "                                'open_8',\n",
      "                                'baby_o'],\n",
      " 'NonDominantHandshapeM3.2.0': ['open_b', '5', 'l', 'flat_b', 'baby_o', 'B'],\n",
      " 'NonDominantHandshapeM4.2.0': {'max': 5, 'min': 5},\n",
      " 'NonDominantHandshapeM5.2.0': {},\n",
      " 'NonDominantHandshapeM6.2.0': {},\n",
      " 'NondominantTranslation': ['card, check, vlog',\n",
      "                            'breakfast',\n",
      "                            'since, ski, sleigh, sliding',\n",
      "                            'adjust, braid',\n",
      "                            'all eyes, listen to, night owl, stay up, watched',\n",
      "                            'broom',\n",
      "                            'cut, end, slice',\n",
      "                            'capitol, state',\n",
      "                            'badge, general, register, registration tanktop',\n",
      "                            'sausage',\n",
      "                            'crowd crossing',\n",
      "                            'reservation, reserve',\n",
      "                            'delve into, fall in love, fascinated, into it',\n",
      "                            'spoon',\n",
      "                            'mercy, pity, poor, poor thing, poor you',\n",
      "                            'cuckoo, insane, loco, mentally ill, mindless, '\n",
      "                            'psycho, wacko',\n",
      "                            'decision, definitely, determine',\n",
      "                            'constant, constantly, go on, ongoing, keep going, '\n",
      "                            'lasting, persist',\n",
      "                            'like',\n",
      "                            'nail clipper',\n",
      "                            'a lot, balloon, big and round, bountiful, bunch, '\n",
      "                            'large amount, more than enough, overloaded, '\n",
      "                            'plenty',\n",
      "                            'flip, paddle, walk',\n",
      "                            'signing fluently, storytelling, talk a lot',\n",
      "                            'deplete, gone, sold out',\n",
      "                            'infer, intercept, interfere, intervene, '\n",
      "                            'intervention',\n",
      "                            'sheet',\n",
      "                            'doctor, f/m',\n",
      "                            'skeleton',\n",
      "                            'maintenance, plumber',\n",
      "                            'sugar',\n",
      "                            'clean, cream, lotion, polish, read braile',\n",
      "                            'handcuff',\n",
      "                            'back there, other, out, over there',\n",
      "                            'fan',\n",
      "                            'food',\n",
      "                            'cochlear implant, crop, meet, put together, '\n",
      "                            'shrink, straps, trim',\n",
      "                            \"don't touch\",\n",
      "                            'none',\n",
      "                            'discount, let go, release',\n",
      "                            'CL-drum, CL-pop-pin, chime the bell',\n",
      "                            'toy, try hard',\n",
      "                            'begin',\n",
      "                            'sink, turn faucet on/off',\n",
      "                            'go right, them, there, these',\n",
      "                            'shave, sign name',\n",
      "                            'roman, rose queen, seatbelt',\n",
      "                            'drum, knock, shopping',\n",
      "                            'belt strap, diaper, farmer pants, overalls',\n",
      "                            'clarinet, flute, saxophone, trumpet',\n",
      "                            'ambassador, empire, name sign beginning with E',\n",
      "                            'eyelash, eyeliner',\n",
      "                            'forgot',\n",
      "                            'caught, pregnant',\n",
      "                            'cheer, hurrah, victory',\n",
      "                            'invite, materials',\n",
      "                            'adjust, alternative, change',\n",
      "                            'egypt, german, turkey',\n",
      "                            'go, go fast, leave immediately, run off, go by '\n",
      "                            'quickly, sprint, take off, train gone, train zoom',\n",
      "                            'cloudy, decorate, decoration',\n",
      "                            'boost, escalate, forward, hill, incline, '\n",
      "                            'inflation, slope, soaring, super, thriving, uphil',\n",
      "                            'feel noise, hands on, keep control, put out '\n",
      "                            'feelers, rumbling, shaking, surfing, take care '\n",
      "                            'of, tremble, vibrate',\n",
      "                            'name',\n",
      "                            'fast, immediately, instantly, quick, snap, '\n",
      "                            'suddenly',\n",
      "                            'assemble, blend, breadown, organize, plan',\n",
      "                            'slack',\n",
      "                            'acting, scissors',\n",
      "                            'clean, erase, scrub',\n",
      "                            'sex',\n",
      "                            'korea, werewolf',\n",
      "                            'thinking',\n",
      "                            'child, drop down, reduce, shrink, small',\n",
      "                            'racoon',\n",
      "                            'big plate, leather, plate, tortilla, tubing',\n",
      "                            'dancing',\n",
      "                            'transmission',\n",
      "                            'earthquake, lawnmower, work out',\n",
      "                            'middle school',\n",
      "                            'dimwit, feeble minded, goof, gullible, idiot, '\n",
      "                            'klutz, moron, nincompoop, nitwit, not good, '\n",
      "                            'peabrain',\n",
      "                            'awful, terrible, tragic',\n",
      "                            'carrot, bite off',\n",
      "                            'pasta',\n",
      "                            'blanket, cheerleader, goalie',\n",
      "                            'heart beating, medal, nametag, patch',\n",
      "                            'indelible, scarred',\n",
      "                            'outdoor, outside',\n",
      "                            'ride, skateboard, surfer',\n",
      "                            \"can't, incapable, inefficient, inept, lousy, no \"\n",
      "                            'good',\n",
      "                            'buzzer, clicker, lighter, stopwatch',\n",
      "                            'passport, patent, seal, stab, stamp, will',\n",
      "                            'desperate, devastated, disappoint, '\n",
      "                            'disappointment, sad',\n",
      "                            'bag, garbage',\n",
      "                            'keep apart, mentor, monitor, walk away, walk '\n",
      "                            'behind, walk by',\n",
      "                            'jump, leap, trip',\n",
      "                            'a little, that closer, tiny',\n",
      "                            'sensitive, typical',\n",
      "                            'blunt, sober',\n",
      "                            'ambulance, blowing, brewing, broiler, flames, '\n",
      "                            'smoke',\n",
      "                            'hear',\n",
      "                            'lesson learned, listen, pay attention, perceive',\n",
      "                            'CL-shave, electric shaver, shave frequently, '\n",
      "                            'shaving machine',\n",
      "                            'fall, squat',\n",
      "                            'latino, mexican',\n",
      "                            'country person, foreign',\n",
      "                            'backpack, medals',\n",
      "                            'sound',\n",
      "                            'bootstrap, hard worker, motivate, ready, ready to '\n",
      "                            'work, roll up sleeves, step up, take action, work '\n",
      "                            'hard',\n",
      "                            'sword, whip',\n",
      "                            'collapse, die, laid back, sidelined',\n",
      "                            'call to mind, make sense, mind related, remember',\n",
      "                            'erase',\n",
      "                            'bloom, erupt, fountain, geiser, grow, plant, '\n",
      "                            'sprout, volcano',\n",
      "                            'blow up, close up, enlarge, expand, open a '\n",
      "                            'webpage, open up, vlog open',\n",
      "                            'run, run campaign, running',\n",
      "                            'clueless',\n",
      "                            'collect, cream, gather, income, run out',\n",
      "                            'bath, wash',\n",
      "                            'belt strap, diaper, overalls, uniform',\n",
      "                            'decided, excellent, fail class, good, grade F, '\n",
      "                            'ok, perfect',\n",
      "                            'shave',\n",
      "                            \"accident, mistake, what's the matter, why not\",\n",
      "                            'magnify, telescope',\n",
      "                            'ostrich, stuff in bag',\n",
      "                            'soaked',\n",
      "                            'evaluation, experience, experiment',\n",
      "                            'highlight, scratch, underline',\n",
      "                            'bib, CL-shirt',\n",
      "                            'eye turn, spotted',\n",
      "                            'sour',\n",
      "                            'brush teeth, shave, trim',\n",
      "                            'free, rescue, safe, save',\n",
      "                            'plant, spend, sprinkle',\n",
      "                            'camp, diverse, etcetra',\n",
      "                            'throw dart, throw, throw seeds, give input',\n",
      "                            'ignorant',\n",
      "                            'brush, frosting, lick, lick paint, paint, paste, '\n",
      "                            'spread',\n",
      "                            'behead, cut off, gesture-gone, had enough',\n",
      "                            'close, start, turn, turn key',\n",
      "                            'around the corner, directions, go, over there, '\n",
      "                            'them, they, those, turn right',\n",
      "                            'buldozer, career, carpentry, down payments, '\n",
      "                            'evict, investment, pay, push away, save, '\n",
      "                            'transaction',\n",
      "                            'drip, leak, run, screening, strain',\n",
      "                            'screw',\n",
      "                            'cart, stroller, mow',\n",
      "                            'angry, blow mind, lost mind, mad, piss off, '\n",
      "                            'tantrum, very mad',\n",
      "                            'close blinds, open blinds, open curtains, shades, '\n",
      "                            'shutters',\n",
      "                            'trackpad',\n",
      "                            'hood',\n",
      "                            'holy',\n",
      "                            'cool, far out, alternate, awesome, different '\n",
      "                            'situation, later, likeable, novel, rare, '\n",
      "                            'secondary',\n",
      "                            'dissect, operate',\n",
      "                            'carve, dictionary, look up, sculpt',\n",
      "                            'surfboard',\n",
      "                            'brace, watch, wristwatch',\n",
      "                            'medical',\n",
      "                            'calculate, math, multiply',\n",
      "                            'deafness',\n",
      "                            'milk',\n",
      "                            'language',\n",
      "                            'lemon, lunch',\n",
      "                            'german',\n",
      "                            'CL-lick-wall, honest, integrity, truth',\n",
      "                            'crab',\n",
      "                            'fun, have fun, postage',\n",
      "                            'posh, snotty, sophisticated, stuck up',\n",
      "                            'counseling',\n",
      "                            'cherry, cherry tomato, strawberry',\n",
      "                            'snail, worm',\n",
      "                            'arrange, blend, integrate, organize',\n",
      "                            'module',\n",
      "                            'shine',\n",
      "                            'snarl',\n",
      "                            'shame, sharp',\n",
      "                            'incarcerate, prison',\n",
      "                            'kalamazoo',\n",
      "                            'awful, hate, horrible, repulsive, terrible, yucky',\n",
      "                            'accuse, blame, transport, trip',\n",
      "                            'buzzing, crowd, environment, floating, flock, '\n",
      "                            'influential, mingle, smoky, swarm',\n",
      "                            'make up, mexican, muslim, peach',\n",
      "                            'worry',\n",
      "                            'go up, lunge, skip, trip',\n",
      "                            'giant, huge, long, long word, measure, wide',\n",
      "                            'dream, envision, imagine',\n",
      "                            'bright, light, obvious',\n",
      "                            'one, one dollar',\n",
      "                            'beans, hang in closet, hangers, peas',\n",
      "                            'act, actor, play, show',\n",
      "                            'insult, make a point, nailed it, offend, pop in '\n",
      "                            'mind, remember, talk back',\n",
      "                            'emotional',\n",
      "                            'baguette, bar, burrito, CL-long-object, log, pipe',\n",
      "                            'goose, speak, talk',\n",
      "                            'again, frequent, seldom',\n",
      "                            'jealous, joint',\n",
      "                            'motion, pack, scrapping',\n",
      "                            'defend, resistance, resistant',\n",
      "                            'focus on self, self aware, self centered',\n",
      "                            'awe, gasp, surprised',\n",
      "                            'consider, contemplate, meditate, muddle over, '\n",
      "                            'ponder, ruminate',\n",
      "                            'bedtime, scan, sleep, tuck in',\n",
      "                            'pray, request',\n",
      "                            'dessert',\n",
      "                            'eggnog, CL-vase, shape, underwear',\n",
      "                            'dissolve, melt, quiet, resolve, solution',\n",
      "                            'gorilla, hoodie',\n",
      "                            'bigot, greedy, self centered, self involved, '\n",
      "                            'selfish, show off',\n",
      "                            'blow, CL-tusks, old, tusk, wharf',\n",
      "                            'amazed, awesome, mad, wow',\n",
      "                            'barette, bobby pin',\n",
      "                            'coconut, make a cocktail, shake a bottle',\n",
      "                            'favorite, frequent, go to, patron, patronage, '\n",
      "                            'single out',\n",
      "                            'honey, maple, syrup',\n",
      "                            'circus, climbing, fair, ferris wheel',\n",
      "                            'beat me, frustrated, I got beaten',\n",
      "                            'print',\n",
      "                            'drapes',\n",
      "                            'camel, curvy, dunes',\n",
      "                            \"2 o'clock, Vancouver, vanilla, vibrator, vinegar\",\n",
      "                            \"be in the wrong and know it, eat one's words, \"\n",
      "                            'moped, orange throat, proven wrong, removed, '\n",
      "                            'speechless, suppress, swallow, take back, '\n",
      "                            'unexpected',\n",
      "                            'memory',\n",
      "                            'dig, dredge, packed, plow, rake, wreck',\n",
      "                            'flip, roll, rumbling, sign',\n",
      "                            'awesome, dislike each other, fluent, hate, '\n",
      "                            'miserable, phenomenal, talented',\n",
      "                            'sun, crazy, dizzy, hot day, spotlight, sunlight, '\n",
      "                            'sunshine, woozy',\n",
      "                            'pager, texting, videogame, which',\n",
      "                            'animal on leash, cone, hang, hang up, hangover, '\n",
      "                            'lynch',\n",
      "                            'pump, stab',\n",
      "                            'insect',\n",
      "                            'poop, reek, smell bad, stink',\n",
      "                            'city, columns, pillars, skyscrapers, tall '\n",
      "                            'building',\n",
      "                            'peanut butter and jelly',\n",
      "                            'brick, check, coupon',\n",
      "                            'bride, bridesmaid, churn, merry-go-round, '\n",
      "                            'protest, pump, ring bell',\n",
      "                            'doubt, unsure, pager',\n",
      "                            'curtain, frame',\n",
      "                            'roast marshmallows',\n",
      "                            'chills, fur, spooked',\n",
      "                            'person walks alone, roam, walk alone, walk '\n",
      "                            'around, walk away, walking, wander',\n",
      "                            'planet',\n",
      "                            'joke, just kidding, kidding',\n",
      "                            'dentist, sign name',\n",
      "                            'favor, prefer, preference, taste',\n",
      "                            'strength, dominant, well known',\n",
      "                            'baffle, brainwashed, dumbfounded, mind turned, '\n",
      "                            'perplexed, shock',\n",
      "                            'plumber, plumbing, repair, tool, wrench',\n",
      "                            'we will see',\n",
      "                            'frugal, gold digger, greedy, no money',\n",
      "                            'minimize, reduce, shrink, zoom, zoom in',\n",
      "                            'annihilate, crash, damage, demolish, destroy, '\n",
      "                            'evade, overtake (sports), rout, smashed, wipe out',\n",
      "                            'ride, swing, wheelchair',\n",
      "                            'locker, neighbor, neighborhood, number, partner, '\n",
      "                            'relatives, village',\n",
      "                            'decline, deep, depression, downfall, downsize, '\n",
      "                            'dwindle, intensive, kill, profound, recession',\n",
      "                            'forget',\n",
      "                            'hold, hold date',\n",
      "                            'eager, motivation, passion ',\n",
      "                            'inclusion, wholesome, within',\n",
      "                            'except, unique, useless',\n",
      "                            'doctor, earphones',\n",
      "                            'consistent, continue, persevere, sustain',\n",
      "                            'club, establish, establishment, found, '\n",
      "                            'foundation, founded, founder',\n",
      "                            'court, judge',\n",
      "                            'chewing gum',\n",
      "                            'hat off',\n",
      "                            'bend over, conquer, overcome',\n",
      "                            'cued speech',\n",
      "                            'brief, knife, sharp',\n",
      "                            'long chat, talk dirty, thick',\n",
      "                            'bad person, naughty, taboo, tsk',\n",
      "                            'keep going, move on, procedure, progress',\n",
      "                            'architect',\n",
      "                            'nurse',\n",
      "                            'blog, maximize, open, pull up, surprise',\n",
      "                            'video, videotape',\n",
      "                            'cute, honey, puny, sugar',\n",
      "                            'radar, tune out',\n",
      "                            'timber',\n",
      "                            'fan, five minutes, propeller, wheels',\n",
      "                            'exact, exactly, perfection, precisely',\n",
      "                            'diminish, dwindle, endanger, endangered, less, '\n",
      "                            'shrink in number, shrinking',\n",
      "                            'boring, brainwash, seasons, strategize, think '\n",
      "                            'movie script',\n",
      "                            'letter, stamp',\n",
      "                            'done, finish',\n",
      "                            'cover, overhead, roof, tunnel',\n",
      "                            'install',\n",
      "                            'memories, common sense, memory',\n",
      "                            'handsome, neat',\n",
      "                            'mining, dig, excavate, chip, coalmine, hoeing, '\n",
      "                            'scratching',\n",
      "                            'absolutely',\n",
      "                            'islam, muslim',\n",
      "                            'unique',\n",
      "                            'fire chief, firefighter',\n",
      "                            'credit, fraternity, Maine, Pitssburgh, point, '\n",
      "                            'profit, score',\n",
      "                            'fall, flip, gymnastics, trampoline, tumble',\n",
      "                            'cross',\n",
      "                            'big nose, parrot, witch nose',\n",
      "                            'theme, title, topic',\n",
      "                            'servant, server, service',\n",
      "                            'defeat, defeated, overcome',\n",
      "                            'care, careful, caretaker, counselor, supervisor, '\n",
      "                            'take care of',\n",
      "                            'brilliant, clever, intelligent',\n",
      "                            'preppy',\n",
      "                            'doze off, fall asleep',\n",
      "                            'ship',\n",
      "                            'boy scout, hi, philosophy, sailor, salute, theory',\n",
      "                            'evil',\n",
      "                            'doorknob, turn heat up',\n",
      "                            'drink alcohol, iphone, smoke pipe',\n",
      "                            'ants, cut, germ, nail polish, paste, peel, '\n",
      "                            'sharpen, shave, shred',\n",
      "                            'outside',\n",
      "                            'embarrased, flustered',\n",
      "                            'argument, crash, explode, explosion, fight, hit, '\n",
      "                            'volcano',\n",
      "                            'powerful',\n",
      "                            'eternity',\n",
      "                            'screwdriver',\n",
      "                            'eye glistening, eye shining, eye glowing, face '\n",
      "                            'glimmering, face glowing, face shining, glitters '\n",
      "                            'on face, glow, radiant, shine, shiny',\n",
      "                            'above, at least, at most, maximum',\n",
      "                            'baby',\n",
      "                            'course, list',\n",
      "                            'ponder, pops up',\n",
      "                            'afford, billing, debt, due',\n",
      "                            'rest all day, stumped, watch',\n",
      "                            'status quo, stay',\n",
      "                            'embarrassed, gasp, shut up, speechless, cut '\n",
      "                            'throat',\n",
      "                            'analyze, fascinating, study, third',\n",
      "                            'commotion',\n",
      "                            'ambassador, Harvard, seatbelt',\n",
      "                            'decision, meaning, purpose',\n",
      "                            'sure, true',\n",
      "                            'courage, courageous, driving, health, recover, '\n",
      "                            'strong',\n",
      "                            'kayak, kayaking, oar, paddling, rafting, row, '\n",
      "                            'rowing, rowing a boat',\n",
      "                            'behead, butcher, butchered, chop hair, drunk, '\n",
      "                            'enough, headmaster, hippie, short, slaughter',\n",
      "                            'basket, pot, vase, vessel',\n",
      "                            'liability, responsible',\n",
      "                            'enlarge',\n",
      "                            'chopsticks, cutting',\n",
      "                            'bad, chide, naughty, shame, shame on you, tsk',\n",
      "                            'expell, kick, soccer',\n",
      "                            'bring, deliver, give, load, transport',\n",
      "                            'cupboard, look through closet, pull apart, read '\n",
      "                            'intensely, take away',\n",
      "                            'dumb, ignorant',\n",
      "                            'beer',\n",
      "                            'shock',\n",
      "                            'neglect',\n",
      "                            'copy, copy machine, photocopy, xerox',\n",
      "                            'blast off, launch',\n",
      "                            'CL-open-grenade, throw grenade, throw',\n",
      "                            'CL-horns, Gallaudet bison, horns, ram, viking',\n",
      "                            'chicken',\n",
      "                            'deep thoughts, engrossed, fall in love, forgot, '\n",
      "                            'immersion, inside mind, involved, really into, '\n",
      "                            'thinking deep',\n",
      "                            'animal paw, proximalization, scratch, switch',\n",
      "                            'cradling, hammock, leaf falling, rock, rocking, '\n",
      "                            'skateboard, stingray, sway, water, '\n",
      "                            'CL-bent-surface',\n",
      "                            'click, press button, pump gas, remote, splash '\n",
      "                            'soda, staple, timer',\n",
      "                            'California',\n",
      "                            'early, nude, sensitive, shiny',\n",
      "                            'surprise',\n",
      "                            \"end of discussion, pinterest, that's it\",\n",
      "                            'poison, skeleton',\n",
      "                            'candy, pickle, protein, vegetable',\n",
      "                            'blow into, flute, music instrument, pan flute',\n",
      "                            'foreign',\n",
      "                            'boombox, booming music, flash, good sound, lights '\n",
      "                            'on/off, loud noise, music blasting',\n",
      "                            'commitment',\n",
      "                            'syllabus',\n",
      "                            'bag, elbow, garbage, trash',\n",
      "                            'chew tobacco, smirk',\n",
      "                            'cold sweat',\n",
      "                            'knife, sharpen, short',\n",
      "                            'mentally exhausted',\n",
      "                            'party, toy',\n",
      "                            'cent',\n",
      "                            'crowd leaving, rush, stream, traffic',\n",
      "                            'bedsheet, blanket, snowing',\n",
      "                            'eat corn, distracted, letter, seal envelope',\n",
      "                            'grean peas',\n",
      "                            'launch',\n",
      "                            'fruit, marijuana, neat',\n",
      "                            'command',\n",
      "                            'marionette, pick up',\n",
      "                            'hang',\n",
      "                            'charge, connection',\n",
      "                            'alert, awakening, convertible, eager, eyes wide '\n",
      "                            'open, overwhelmed, perked up, very interested, '\n",
      "                            'want',\n",
      "                            'gasp, gawk, look, look at, sight, watch',\n",
      "                            'cream',\n",
      "                            'halloween',\n",
      "                            'help',\n",
      "                            'freedom',\n",
      "                            'lollipop, metal, rubber, sneaker',\n",
      "                            'microscope, spyglass',\n",
      "                            'earmuffs, earphones, headset, microphone',\n",
      "                            'denial',\n",
      "                            'conceal, mask, mislead, slide over, vague',\n",
      "                            'blow away, bubbles, inflate',\n",
      "                            'donut, regional',\n",
      "                            'Brazil',\n",
      "                            'assign, charger, file, outlet',\n",
      "                            'blow balloon, bullhorn',\n",
      "                            'hooked',\n",
      "                            'infatuation',\n",
      "                            'basketball',\n",
      "                            'friend, good friend, possum',\n",
      "                            'clown, grapefruit, strawberry',\n",
      "                            'brainwashed, curling hair, curly, in process, '\n",
      "                            'mindless, running, wired',\n",
      "                            'rollerskating, skate, skateboarding, skating, '\n",
      "                            'sledding',\n",
      "                            'charger, electrical, electronic',\n",
      "                            'few',\n",
      "                            'amputate, lynch',\n",
      "                            'curly hair, dreads, long hair, orthodox, rabbi',\n",
      "                            'pole, tall cup',\n",
      "                            'comeback, one up, talk back, zap',\n",
      "                            'headache, hypothesis',\n",
      "                            'referee, umpire',\n",
      "                            'blouse, sweater, t-shirt, top (clothes)',\n",
      "                            'sailboat, sailing',\n",
      "                            'certainly, really, true',\n",
      "                            'autism, bend, broke, door opens inward, self '\n",
      "                            'centered, turn inside',\n",
      "                            'attractive, transexual',\n",
      "                            'fantasize, hair coloring',\n",
      "                            'excel, not listening, risk, traumatic',\n",
      "                            'cigar, hookah, raisin, rooster',\n",
      "                            'rollerblades, skate',\n",
      "                            'skip',\n",
      "                            'halloween, mask',\n",
      "                            'infection, inning, introvert',\n",
      "                            'seek out',\n",
      "                            'better, chief, healthier, rather, younger',\n",
      "                            'brainstorm, dream, envision, picture, vision, '\n",
      "                            'visualize',\n",
      "                            'fast, quick',\n",
      "                            'CL-people-laying, laying, passed out, sushi',\n",
      "                            'beautician, beauty',\n",
      "                            'competition, competitive, contest, race, sport',\n",
      "                            'disc golfing, ringing, shaking, space, toast',\n",
      "                            'know nothing',\n",
      "                            'that',\n",
      "                            'bologna, bullshit, hotdog',\n",
      "                            'blank',\n",
      "                            'no answer, signal, trigger',\n",
      "                            'alright',\n",
      "                            'bow, greeting',\n",
      "                            'back out, get off',\n",
      "                            'cramp, dry rag, grieve, squeeze, twist',\n",
      "                            'chips, potato chip',\n",
      "                            'cart, drainer, push something, shake a tray, '\n",
      "                            'shuffle, wheelchair',\n",
      "                            'billiards',\n",
      "                            'line up, stuck in long line',\n",
      "                            'deviant, irrelevant, off topic, random',\n",
      "                            'hammer, carpentry, sculpture, CL-build',\n",
      "                            'hunger, wish',\n",
      "                            'background',\n",
      "                            'duh, dunce, goofy, idiot, ignorant, moron, '\n",
      "                            'nitwit, peabrain, squareheaded',\n",
      "                            'garbage, silver, steel, stone, trash',\n",
      "                            'equal, floor',\n",
      "                            'cleft chin, cut, light, lollipop, pink',\n",
      "                            'can do',\n",
      "                            'pasta, picnic, rumor, CL-mustache',\n",
      "                            'order, organize, plan, redirect, sequence',\n",
      "                            'bee, bee sting, bug bite, sting, stung',\n",
      "                            'attach, blanket, CL-hang-wet-cloth, packed, put '\n",
      "                            'on trousers, stockings',\n",
      "                            'bumps, kiss feet, shrimp, snow peas',\n",
      "                            'prnoun, there, they',\n",
      "                            'breakup',\n",
      "                            'believable, husband',\n",
      "                            'ideas, imaginary, imagination, spew ideas',\n",
      "                            'beard, earphones, microphone',\n",
      "                            'chase, drill, fight, hand crank, persuade, screw',\n",
      "                            'click, copy-and-paste, counselor, drag, mark with '\n",
      "                            'same answer, scratch, select all, test',\n",
      "                            'promise, swear',\n",
      "                            'bride',\n",
      "                            'stupid',\n",
      "                            'curtains, fence',\n",
      "                            'assume, estimate, miss',\n",
      "                            'conceptualize',\n",
      "                            'even, fair',\n",
      "                            'just',\n",
      "                            'questionmark, spray, unsure',\n",
      "                            'dwell',\n",
      "                            'bus, car, cylinder, limo, long, missile, sub, '\n",
      "                            'trailer, vehicle',\n",
      "                            'easy, insignificant, minimize, minor, nothing',\n",
      "                            'cartoon, comedy, comic, false, funny, humor, rat',\n",
      "                            'fit, precise',\n",
      "                            'blouse, sweatshirt, t-shirt, shirt, top, woman',\n",
      "                            'plant',\n",
      "                            'bear, endure, patience, suffer, suffering, '\n",
      "                            'tolerance, tolerate',\n",
      "                            'drain',\n",
      "                            'baseball, hit, slug, swing',\n",
      "                            'amazed, astonished, awesome, eye opening, '\n",
      "                            'shocking, surprised, wow',\n",
      "                            'gamble, roll dice',\n",
      "                            'learner',\n",
      "                            'coincidence, happenstance, hit, hit a person, hit '\n",
      "                            'jackpot, luck out, randomly, strike, sudden hit, '\n",
      "                            'suddenly',\n",
      "                            'naked, rude',\n",
      "                            'brush, comb, do hair',\n",
      "                            'niece',\n",
      "                            'Ash Day, indelible',\n",
      "                            'morning-to-noon, put things on roof, sunrise',\n",
      "                            'breeze blowing on face',\n",
      "                            'angry, fired up, furious, infuriated, riled up, '\n",
      "                            'something is bothering me',\n",
      "                            'garbage, trash',\n",
      "                            'eager, excited, thrilled',\n",
      "                            'bargain, deflate, deflate ego, degrade, downhill, '\n",
      "                            'flat tire, funds depleted, intimidated, low self '\n",
      "                            'esteem, reduce',\n",
      "                            'ambiguous, awkward, back out, backtrack, clumsy, '\n",
      "                            'confused, cover up, newbie, not ready, '\n",
      "                            'overwhelmed, uncertainty, unfamiliar, vague',\n",
      "                            'attendance, sandals, slippers',\n",
      "                            'eager, enthusiasm, incentive',\n",
      "                            'sick',\n",
      "                            'CL-flip, court adjourned',\n",
      "                            'bakery, oven',\n",
      "                            'CL-person-hop, do different things, itinerant, '\n",
      "                            'jump, place to place, skip line, travel',\n",
      "                            'bed ridden',\n",
      "                            'indelible, keep in mind, learn lesson, never '\n",
      "                            'again, put in mind, remember that',\n",
      "                            'bath, buildings, crowd, diversity, dust eruption, '\n",
      "                            'explosion, flood, packed, steam',\n",
      "                            \"none, blow, don't have, zero, nothing, whistle\",\n",
      "                            'factory',\n",
      "                            'beard, chin, cute, food, william willard',\n",
      "                            'psychology, shrink',\n",
      "                            'talk on video, video conferencing, webcam',\n",
      "                            'comment, message, narrate, say, talk',\n",
      "                            'confirmation, mosquito',\n",
      "                            'bottle, chimney, CL-tall-object, column, post, '\n",
      "                            'shaft, tall glass, tube',\n",
      "                            'heel, heel size',\n",
      "                            'macdonalds, Montana',\n",
      "                            'eek, freak out, hair up, peacock, porcupine, '\n",
      "                            'spikes',\n",
      "                            'broom, CL-hoe, dig, often, plow, rake, scrape, '\n",
      "                            'soap, sweep',\n",
      "                            'disaster, mess up, pour, throw someone off, toss',\n",
      "                            'noun',\n",
      "                            'convenient',\n",
      "                            \"care, don't waste, groceries, precious, selfish, \"\n",
      "                            'stingy, handsome',\n",
      "                            'balance, imbalance, stumble, topple, tremble, '\n",
      "                            'uneven, unstable, wobbly',\n",
      "                            'fire, inspire',\n",
      "                            'bathing suit, bikini, swimming top'],\n",
      " 'NumberOfMorphemes.2.0': {'max': 6, 'min': 1},\n",
      " 'Parameter.Neighborhood.Density.2.0': {'max': 563, 'min': 1},\n",
      " 'PercentGlossAgreement': {'max': 1, 'min': 0},\n",
      " 'PercentUnknown': {'max': 1, 'min': 0},\n",
      " 'Phonological Complexity': {'max': 6, 'min': 0},\n",
      " 'PhonotacticProbability': {'max': 1, 'min': -2},\n",
      " 'RepeatedMovement.2.0': {'max': 1, 'min': 0},\n",
      " 'RepeatedMovement.2.0Frequency': {'max': 1, 'min': 0},\n",
      " 'RepeatedMovementM2.2.0': {'max': 1, 'min': 0},\n",
      " 'RepeatedMovementM3.2.0': {'max': 1, 'min': 0},\n",
      " 'RepeatedMovementM4.2.0': {'max': 0, 'min': 0},\n",
      " 'RepeatedMovementM5.2.0': {},\n",
      " 'RepeatedMovementM6.2.0': {},\n",
      " 'SecondMinorLocation.2.0': ['CheekNose',\n",
      "                             'ForearmBack',\n",
      "                             'FingerFront',\n",
      "                             'ForearmUlnar',\n",
      "                             'HeadAway',\n",
      "                             'Hips',\n",
      "                             'BodyAway',\n",
      "                             'ElbowBack',\n",
      "                             'HandAway',\n",
      "                             'Shoulder',\n",
      "                             'FingerBack',\n",
      "                             'UpperArm',\n",
      "                             'Forehead',\n",
      "                             'FingerTip',\n",
      "                             'TorsoTop',\n",
      "                             'TorsoMid',\n",
      "                             'Heel',\n",
      "                             'Other',\n",
      "                             'Neutral',\n",
      "                             'ForearmRadial',\n",
      "                             'UnderChin',\n",
      "                             'Palm',\n",
      "                             'HeadTop',\n",
      "                             'ForearmFront',\n",
      "                             'Neck',\n",
      "                             'Mouth',\n",
      "                             'UpperLip',\n",
      "                             'PalmBack',\n",
      "                             'Eye',\n",
      "                             'OtherAway',\n",
      "                             'Chin',\n",
      "                             'FingerRadial',\n",
      "                             'TorsoBottom',\n",
      "                             'Waist',\n",
      "                             'Clavicle',\n",
      "                             'FingerUlnar',\n",
      "                             'ArmAway'],\n",
      " 'SecondMinorLocation.2.0Frequency': {'max': 1, 'min': 0},\n",
      " 'SecondMinorLocationM2.2.0': ['TorsoTop',\n",
      "                               'FingerRadial',\n",
      "                               'TorsoBottom',\n",
      "                               'Palm',\n",
      "                               'FingerFront',\n",
      "                               'Away',\n",
      "                               'HeadAway',\n",
      "                               'Waist',\n",
      "                               'Other',\n",
      "                               'BodyAway',\n",
      "                               'Neutral',\n",
      "                               'HandAway',\n",
      "                               'FingerBack'],\n",
      " 'SecondMinorLocationM3.2.0': ['Forehead', 'Neutral', 'HandAway', 'TorsoTop'],\n",
      " 'SecondMinorLocationM4.2.0': ['HandAway'],\n",
      " 'SecondMinorLocationM5.2.0': {},\n",
      " 'SecondMinorLocationM6.2.0': {},\n",
      " 'SelectedFingers.2.0': ['p',\n",
      "                         't',\n",
      "                         'm',\n",
      "                         'imr',\n",
      "                         'mr',\n",
      "                         'imp',\n",
      "                         'im',\n",
      "                         'mrp',\n",
      "                         'r',\n",
      "                         'ip',\n",
      "                         'imrp',\n",
      "                         'i'],\n",
      " 'SelectedFingers.2.0Frequency': {'max': 1, 'min': 0},\n",
      " 'SelectedFingersM2.2.0': ['p', 't', 'im', 'ip', 'i', 'imrp', 'm'],\n",
      " 'SelectedFingersM3.2.0': ['p', 't', 'im', 'imrp', 'i'],\n",
      " 'SelectedFingersM4.2.0': ['p', 't', 'im', 'imrp', 'i'],\n",
      " 'SelectedFingersM5.2.0': ['im', 'imrp', 'i'],\n",
      " 'SelectedFingersM6.2.0': ['im'],\n",
      " 'SignBankReferenceID': {'max': 3370, 'min': 0},\n",
      " 'SignDuration(ms)': {'max': 2603, 'min': 200},\n",
      " 'SignFrequency(M)': {'max': 7, 'min': 1},\n",
      " 'SignType.2.0': ['SymmetryViolation',\n",
      "                  'DominanceViolation',\n",
      "                  'SymmetricalOrAlternating',\n",
      "                  'OneHanded',\n",
      "                  'AsymmetricalDifferentHandshape',\n",
      "                  'AsymmetricalSameHandshape'],\n",
      " 'SignType.2.0Frequency': {'max': 1, 'min': 0},\n",
      " 'SignTypeM2.2.0': ['OneHanded',\n",
      "                    'AsymmetricalDifferentHandshape',\n",
      "                    'AsymmetricalSameHandshape',\n",
      "                    'SymmetricalOrAlternating'],\n",
      " 'SignTypeM3.2.0': ['OneHanded',\n",
      "                    'AsymmetricalDifferentHandshape',\n",
      "                    'AsymmetricalSameHandshape',\n",
      "                    'SymmetricalOrAlternating'],\n",
      " 'SignTypeM4.2.0': ['OneHanded',\n",
      "                    'AsymmetricalSameHandshape',\n",
      "                    'SymmetricalOrAlternating'],\n",
      " 'SignTypeM5.2.0': {},\n",
      " 'SignTypeM6.2.0': {},\n",
      " 'Spread.2.0': {'max': 1, 'min': 0},\n",
      " 'Spread.2.0Frequency': {'max': 1, 'min': 0},\n",
      " 'SpreadChange.2.0': {'max': 1, 'min': 0},\n",
      " 'SpreadChange.2.0Frequency': {'max': 1, 'min': 0},\n",
      " 'SpreadChangeM2.2.0': {'max': 1, 'min': 0},\n",
      " 'SpreadChangeM3.2.0': {'max': 0, 'min': 0},\n",
      " 'SpreadChangeM4.2.0': {'max': 0, 'min': 0},\n",
      " 'SpreadChangeM5.2.0': {},\n",
      " 'SpreadChangeM6.2.0': {},\n",
      " 'SpreadM2.2.0': {'max': 1, 'min': 0},\n",
      " 'SpreadM3.2.0': {'max': 1, 'min': 0},\n",
      " 'SpreadM4.2.0': {'max': 1, 'min': 0},\n",
      " 'SpreadM5.2.0': {'max': 0, 'min': 0},\n",
      " 'SpreadM6.2.0': {'max': 0, 'min': 0},\n",
      " 'SubtLexUSLog10WF': {'max': 7, 'min': 0},\n",
      " 'ThumbContact.2.0': {'max': 1, 'min': 0},\n",
      " 'ThumbContact.2.0Frequency': {'max': 1, 'min': 0},\n",
      " 'ThumbContactM2.2.0': {'max': 1, 'min': 0},\n",
      " 'ThumbContactM3.2.0': {'max': 1, 'min': 0},\n",
      " 'ThumbContactM4.2.0': {'max': 1, 'min': 0},\n",
      " 'ThumbContactM5.2.0': {'max': 1, 'min': 0},\n",
      " 'ThumbContactM6.2.0': {'max': 0, 'min': 0},\n",
      " 'ThumbPosition.2.0': ['Closed', 'Open'],\n",
      " 'ThumbPosition.2.0Frequency': {'max': 1, 'min': 0},\n",
      " 'ThumbPositionM2.2.0': ['Closed', 'Open'],\n",
      " 'ThumbPositionM3.2.0': ['Closed', 'Open'],\n",
      " 'ThumbPositionM4.2.0': ['Closed', 'Open'],\n",
      " 'ThumbPositionM5.2.0': ['Closed', 'Open'],\n",
      " 'ThumbPositionM6.2.0': ['Closed', 'Open'],\n",
      " 'Transparency(M)': {'max': 7, 'min': 1},\n",
      " 'UlnarRotation.2.0': {'max': 1, 'min': 0},\n",
      " 'UlnarRotation.2.0Frequency': {'max': 1, 'min': 0},\n",
      " 'UlnarRotationM2.2.0': {'max': 1, 'min': 0},\n",
      " 'UlnarRotationM3.2.0': {'max': 0, 'min': 0},\n",
      " 'UlnarRotationM4.2.0': {},\n",
      " 'UlnarRotationM5.2.0': {},\n",
      " 'UlnarRotationM6.2.0': {},\n",
      " 'bglm_aoa': {'max': 67, 'min': 14},\n",
      " 'color_code': ['#ec689d',\n",
      "                '#a39659',\n",
      "                '#9c8543',\n",
      "                '#9ec1d4',\n",
      "                '#0d7a91',\n",
      "                '#ac8c3a',\n",
      "                '#cc5c11',\n",
      "                '#ee8e6c',\n",
      "                '#17ab6c',\n",
      "                '#ffd7fe',\n",
      "                '#02b3b5',\n",
      "                '#ad0a36',\n",
      "                '#5318f1',\n",
      "                '#fa243e',\n",
      "                '#25760a',\n",
      "                '#e70f1c',\n",
      "                '#e53c4b',\n",
      "                '#0f3d72',\n",
      "                '#8ffbb7',\n",
      "                '#9c7198',\n",
      "                '#77f186',\n",
      "                '#f4811c',\n",
      "                '#bb6d13',\n",
      "                '#4a155d',\n",
      "                '#b3bdf5',\n",
      "                '#5891e8',\n",
      "                '#dc3447',\n",
      "                '#158b55',\n",
      "                '#9febf9',\n",
      "                '#0318ab',\n",
      "                '#dbeba1',\n",
      "                '#43adc0',\n",
      "                '#d7f133',\n",
      "                '#a66f4f',\n",
      "                '#8a424c',\n",
      "                '#bf010d',\n",
      "                '#fdaebe',\n",
      "                '#e06e7b',\n",
      "                '#6d08fd',\n",
      "                '#56d81a',\n",
      "                '#59817b',\n",
      "                '#748e8b',\n",
      "                '#273900',\n",
      "                '#6f3e37',\n",
      "                '#2a22e5',\n",
      "                '#afc186',\n",
      "                '#16dea4',\n",
      "                '#339538',\n",
      "                '#a0b9f9',\n",
      "                '#807324',\n",
      "                '#9ecde9',\n",
      "                '#638370',\n",
      "                '#f7126a',\n",
      "                '#e8a718',\n",
      "                '#f364e2',\n",
      "                '#74d6ff',\n",
      "                '#1d6f04',\n",
      "                '#9cf054',\n",
      "                '#a93650',\n",
      "                '#7d547a',\n",
      "                '#d75fa9',\n",
      "                '#ccfbbc',\n",
      "                '#333574',\n",
      "                '#3234e1',\n",
      "                '#d20ebd',\n",
      "                '#670558',\n",
      "                '#11850d',\n",
      "                '#abf507',\n",
      "                '#305af2',\n",
      "                '#bb95e5',\n",
      "                '#b15f7d',\n",
      "                '#deda03',\n",
      "                '#4be180',\n",
      "                '#8f81c3',\n",
      "                '#bae796',\n",
      "                '#dbe0b6',\n",
      "                '#c31679',\n",
      "                '#1561c4',\n",
      "                '#24459a',\n",
      "                '#3568b0',\n",
      "                '#443aa0',\n",
      "                '#d0a997',\n",
      "                '#eb50dd',\n",
      "                '#245bed',\n",
      "                '#21aa64',\n",
      "                '#f3c40a',\n",
      "                '#4a6838',\n",
      "                '#de8ef7',\n",
      "                '#a3214a',\n",
      "                '#06050a',\n",
      "                '#dc78d5',\n",
      "                '#fa66f1',\n",
      "                '#5d5432',\n",
      "                '#c3f1db',\n",
      "                '#19c419',\n",
      "                '#475c5a',\n",
      "                '#7d61ee',\n",
      "                '#494f77',\n",
      "                '#1ced00',\n",
      "                '#090a37',\n",
      "                '#c5b494',\n",
      "                '#5f3b64',\n",
      "                '#8064fa',\n",
      "                '#ceb7e1',\n",
      "                '#36e361',\n",
      "                '#d39d9a',\n",
      "                '#0aabd4',\n",
      "                '#068a2d',\n",
      "                '#f58dc6',\n",
      "                '#4d2b21',\n",
      "                '#6ca810',\n",
      "                '#8191e7',\n",
      "                '#64924b',\n",
      "                '#55d03d',\n",
      "                '#1f81f0',\n",
      "                '#f644de',\n",
      "                '#b7b231',\n",
      "                '#34b91f',\n",
      "                '#4c8b06',\n",
      "                '#733884',\n",
      "                '#f60dce',\n",
      "                '#fd77a8',\n",
      "                '#139751',\n",
      "                '#b6b0a8',\n",
      "                '#9decae',\n",
      "                '#77b0a0',\n",
      "                '#f05fe2',\n",
      "                '#cb8ef2',\n",
      "                '#e24651',\n",
      "                '#efcd89',\n",
      "                '#e5c175',\n",
      "                '#c65536',\n",
      "                '#60697e',\n",
      "                '#2b3b5d',\n",
      "                '#4b6faa',\n",
      "                '#cbde1a',\n",
      "                '#56f388',\n",
      "                '#f7a78c',\n",
      "                '#a22478',\n",
      "                '#34975c',\n",
      "                '#29fe2b',\n",
      "                '#96bf8a',\n",
      "                '#e28e42',\n",
      "                '#4bec8a',\n",
      "                '#6e80ad',\n",
      "                '#1d0cc5',\n",
      "                '#2bcb82',\n",
      "                '#c3e16b',\n",
      "                '#8afac5',\n",
      "                '#8232be',\n",
      "                '#b1d60b',\n",
      "                '#55cfc9',\n",
      "                '#15c0b0',\n",
      "                '#105482',\n",
      "                '#8e3e51',\n",
      "                '#77cf8f',\n",
      "                '#1b4fb8',\n",
      "                '#ecebc4',\n",
      "                '#ce68d4',\n",
      "                '#a07575',\n",
      "                '#b761d7',\n",
      "                '#3e00ad',\n",
      "                '#9d6bba',\n",
      "                '#2890b1',\n",
      "                '#302b44',\n",
      "                '#8eea3e',\n",
      "                '#0cb604',\n",
      "                '#f2e13c',\n",
      "                '#09af6b',\n",
      "                '#6f5538',\n",
      "                '#fd820a',\n",
      "                '#fddcc1',\n",
      "                '#096a21',\n",
      "                '#e2a3a4',\n",
      "                '#9e60e1',\n",
      "                '#51bd8f',\n",
      "                '#a95d9a',\n",
      "                '#bc4876',\n",
      "                '#ee7671',\n",
      "                '#c172cd',\n",
      "                '#d7c25a',\n",
      "                '#034a4c',\n",
      "                '#8b849c',\n",
      "                '#aaa624',\n",
      "                '#79227f',\n",
      "                '#07e43a',\n",
      "                '#e22083',\n",
      "                '#51e14f',\n",
      "                '#0f020e',\n",
      "                '#c2f0fe',\n",
      "                '#7c2f0e',\n",
      "                '#1df186',\n",
      "                '#d1505f',\n",
      "                '#d568dd',\n",
      "                '#50f181',\n",
      "                '#25da6f',\n",
      "                '#5bd30e',\n",
      "                '#82f9ac',\n",
      "                '#568fd5',\n",
      "                '#4928ff',\n",
      "                '#d34fe7',\n",
      "                '#40c55e',\n",
      "                '#27f7a2',\n",
      "                '#ac2fc1',\n",
      "                '#a59155',\n",
      "                '#50b0da',\n",
      "                '#9a0ecc',\n",
      "                '#7a3cbd',\n",
      "                '#b55390',\n",
      "                '#477dd9',\n",
      "                '#054f18',\n",
      "                '#36d192',\n",
      "                '#8a35ce',\n",
      "                '#419225',\n",
      "                '#a7b825',\n",
      "                '#2629ae',\n",
      "                '#4e14b1',\n",
      "                '#f5d82f',\n",
      "                '#041268',\n",
      "                '#410330',\n",
      "                '#fc2e9b',\n",
      "                '#433e41',\n",
      "                '#d5f275',\n",
      "                '#690bc7',\n",
      "                '#986b64',\n",
      "                '#d15746',\n",
      "                '#6c6f1d',\n",
      "                '#583b20',\n",
      "                '#816139',\n",
      "                '#97462c',\n",
      "                '#227623',\n",
      "                '#94289c',\n",
      "                '#a3711f',\n",
      "                '#dcc06b',\n",
      "                '#f70089',\n",
      "                '#4d2849',\n",
      "                '#6c176c',\n",
      "                '#0bae9e',\n",
      "                '#554c58',\n",
      "                '#bcc46b',\n",
      "                '#a25999',\n",
      "                '#9b85fa',\n",
      "                '#d90903',\n",
      "                '#32d439',\n",
      "                '#9cb83c',\n",
      "                '#7b7d34',\n",
      "                '#651acb',\n",
      "                '#bdc36b',\n",
      "                '#8e6ccd',\n",
      "                '#122471',\n",
      "                '#bbf3f9',\n",
      "                '#f402a9',\n",
      "                '#422222',\n",
      "                '#991650',\n",
      "                '#d9b9c6',\n",
      "                '#e5da9b',\n",
      "                '#41c160',\n",
      "                '#cb7c88',\n",
      "                '#9b92af',\n",
      "                '#16c06d',\n",
      "                '#a4dbc4',\n",
      "                '#8ead11',\n",
      "                '#e87287',\n",
      "                '#51c8f5',\n",
      "                '#39bb93',\n",
      "                '#b099e8',\n",
      "                '#699392',\n",
      "                '#45c594',\n",
      "                '#1d957a',\n",
      "                '#6deeff',\n",
      "                '#e74a28',\n",
      "                '#7a3b1b',\n",
      "                '#4282f0',\n",
      "                '#76d8ec',\n",
      "                '#bf343c',\n",
      "                '#b51edd'],\n",
      " 'empirical_aoa': {'max': 60, 'min': 9},\n",
      " 'group_id': {'max': 1000, 'min': 0}}\n"
     ]
    }
   ],
   "source": [
    "import math \n",
    "import pprint\n",
    "\n",
    "constraints = {}\n",
    "for attr in categorical_attr:\n",
    "    if attr not in ['EntryID', 'LemmaID', 'Code', 'Iconicity_ID']:\n",
    "        columnsData = no_morphemes_df.loc[ : , attr ].dropna()\n",
    "        values_set = set(columnsData.values)\n",
    "        constraints[attr] = [*values_set, ]\n",
    "        \n",
    "for attr in numerical_attr:    \n",
    "    #drop nan values \n",
    "    columnsData = no_morphemes_df.loc[ : , attr ].dropna()\n",
    "    print(columnsData.values)\n",
    "    constraints[attr] = {}  \n",
    "    #print(math.floor(min(list(columnsData))), math.ceil(max(list(columnsData))), attr)\n",
    "    if len(columnsData.values) > 0:\n",
    "        constraints[attr]['min'] = math.floor(min(columnsData.values))\n",
    "        constraints[attr]['max'] = math.ceil(max(columnsData.values))\n",
    "\n",
    "pprint.pprint(constraints)"
   ]
  },
  {
   "cell_type": "code",
   "execution_count": 38,
   "metadata": {},
   "outputs": [
    {
     "data": {
      "text/plain": [
       "Index(['EntryID', 'Code', 'YouTube Video', 'VimeoVideoHTML', 'VimeoVideo',\n",
       "       'SubtLexUSLog10WF', 'SignFrequency(M)', 'DominantTranslation',\n",
       "       'NondominantTranslation', 'PercentUnknown',\n",
       "       ...\n",
       "       'Parameter.Neighborhood.Density.2.0', 'Neighborhood Density 2.0',\n",
       "       'SignBankAnnotationID', 'SignBankEnglishTranslations',\n",
       "       'SignBankLemmaID', 'SignBankReferenceID', 'bglm_aoa', 'empirical_aoa',\n",
       "       'group_id', 'color_code'],\n",
       "      dtype='object', length=152)"
      ]
     },
     "execution_count": 38,
     "metadata": {},
     "output_type": "execute_result"
    }
   ],
   "source": [
    "no_morphemes_df.columns"
   ]
  },
  {
   "cell_type": "code",
   "execution_count": 39,
   "metadata": {},
   "outputs": [
    {
     "data": {
      "text/plain": [
       "{'EntryID': '1_dollar',\n",
       " 'Code': 'C_02_025',\n",
       " 'group_id': 1000.0,\n",
       " 'color_code': '#816139',\n",
       " 'SignFrequency(Z)': -0.728}"
      ]
     },
     "execution_count": 39,
     "metadata": {},
     "output_type": "execute_result"
    }
   ],
   "source": [
    "nodes_json_str = df_node_graph_json_data.to_json(orient=\"records\")\n",
    "nodes_json = json.loads(nodes_json_str)\n",
    "nodes_json[0]\n"
   ]
  },
  {
   "cell_type": "code",
   "execution_count": 40,
   "metadata": {},
   "outputs": [],
   "source": [
    "# write all the data frames to respective json files\n",
    "\n",
    "graph = {\n",
    "    \"nodes\" : nodes_json,\n",
    "    \"links\": edges_json\n",
    "}\n",
    "\n",
    "with open(\"../data/generated-data/graph.json\", 'w') as file:\n",
    "    json.dump(graph, file)\n",
    "    \n",
    "    \n",
    "with open('../data/generated-data/constraints.json', 'w') as fp:\n",
    "    json.dump(constraints, fp)\n",
    "    \n",
    "no_morphemes_df.reset_index().to_json('../data/generated-data/sign_props.json', orient='records')\n"
   ]
  },
  {
   "cell_type": "code",
   "execution_count": 41,
   "metadata": {},
   "outputs": [
    {
     "data": {
      "image/png": "[encoded data removed]",
      "text/plain": [
       "<Figure size 2160x2160 with 1 Axes>"
      ]
     },
     "metadata": {},
     "output_type": "display_data"
    }
   ],
   "source": [
    "#drawing only nodes with edges\n",
    "fig = plt.figure()\n",
    "fig.set_figheight(30)\n",
    "fig.set_figwidth(30)\n",
    "size = float(len(set(partition.values())))\n",
    "pos = nx.spring_layout(G)\n",
    "count = 0.\n",
    "for com in set(partition.values()) :\n",
    "    count = count + 1.\n",
    "    list_nodes = [nodes for nodes in partition.keys()\n",
    "                                if partition[nodes] == com]\n",
    "    nx.draw_networkx_nodes(G, pos, list_nodes, node_size = 20,\n",
    "                                node_color = randomcolor.RandomColor().generate()[0])\n",
    "\n",
    "\n",
    "nx.draw_networkx_edges(G, pos, alpha=0.5)\n",
    "plt.show()"
   ]
  },
  {
   "cell_type": "code",
   "execution_count": 42,
   "metadata": {},
   "outputs": [
    {
     "data": {
      "text/plain": [
       "{'island': '#816139',\n",
       " '0': '#273900',\n",
       " '130': '#f644de',\n",
       " '169': '#4a6838',\n",
       " '117': '#6deeff',\n",
       " '242': '#fd77a8',\n",
       " '128': '#8064fa',\n",
       " '52': '#dcc06b',\n",
       " '199': '#82f9ac',\n",
       " '125': '#d90903',\n",
       " '167': '#dbeba1',\n",
       " '41': '#477dd9',\n",
       " '87': '#a4dbc4',\n",
       " '168': '#b761d7',\n",
       " '60': '#43adc0',\n",
       " '2': '#227623',\n",
       " '12': '#9febf9',\n",
       " '177': '#f2e13c',\n",
       " '256': '#55d03d',\n",
       " '103': '#94289c',\n",
       " '86': '#d568dd',\n",
       " '127': '#8ffbb7',\n",
       " '10': '#eb50dd',\n",
       " '4': '#bf010d',\n",
       " '9': '#8e6ccd',\n",
       " '64': '#e8a718',\n",
       " '178': '#5bd30e',\n",
       " '17': '#4c8b06',\n",
       " '77': '#cc5c11',\n",
       " '197': '#bc4876',\n",
       " '55': '#45c594',\n",
       " '146': '#a3711f',\n",
       " '139': '#b099e8',\n",
       " '97': '#dc78d5',\n",
       " '89': '#60697e',\n",
       " '101': '#8b849c',\n",
       " '92': '#733884',\n",
       " '13': '#158b55',\n",
       " '24': '#fdaebe',\n",
       " '180': '#2a22e5',\n",
       " '141': '#17ab6c',\n",
       " '81': '#ceb7e1',\n",
       " '154': '#305af2',\n",
       " '59': '#991650',\n",
       " '38': '#ad0a36',\n",
       " '171': '#d34fe7',\n",
       " '29': '#dbe0b6',\n",
       " '21': '#494f77',\n",
       " '1': '#9c8543',\n",
       " '45': '#32d439',\n",
       " '51': '#02b3b5',\n",
       " '193': '#a25999',\n",
       " '100': '#8eea3e',\n",
       " '152': '#bf343c',\n",
       " '82': '#4be180',\n",
       " '121': '#034a4c',\n",
       " '196': '#b7b231',\n",
       " '232': '#afc186',\n",
       " '94': '#690bc7',\n",
       " '33': '#a3214a',\n",
       " '251': '#51bd8f',\n",
       " '109': '#b1d60b',\n",
       " '120': '#34b91f',\n",
       " '69': '#422222',\n",
       " '115': '#5318f1',\n",
       " '215': '#302b44',\n",
       " '216': '#6e80ad',\n",
       " '188': '#7a3cbd',\n",
       " '259': '#139751',\n",
       " '36': '#1d957a',\n",
       " '147': '#2890b1',\n",
       " '88': '#79227f',\n",
       " '27': '#bb6d13',\n",
       " '274': '#2bcb82',\n",
       " '44': '#8232be',\n",
       " '99': '#50f181',\n",
       " '250': '#f58dc6',\n",
       " '198': '#245bed',\n",
       " '95': '#1b4fb8',\n",
       " '16': '#9b92af',\n",
       " '240': '#8ead11',\n",
       " '49': '#bae796',\n",
       " '156': '#ee7671',\n",
       " '144': '#8f81c3',\n",
       " '65': '#de8ef7',\n",
       " '228': '#51e14f',\n",
       " '22': '#a59155',\n",
       " '165': '#4b6faa',\n",
       " '214': '#ec689d',\n",
       " '28': '#50b0da',\n",
       " '85': '#7c2f0e',\n",
       " '66': '#8191e7',\n",
       " '110': '#77f186',\n",
       " '131': '#c31679',\n",
       " '32': '#56f388',\n",
       " '56': '#a66f4f',\n",
       " '18': '#d7c25a',\n",
       " '5': '#abf507',\n",
       " '272': '#3234e1',\n",
       " '11': '#9c7198',\n",
       " '90': '#c3e16b',\n",
       " '19': '#986b64',\n",
       " '15': '#77cf8f',\n",
       " '126': '#97462c',\n",
       " '72': '#1ced00',\n",
       " '163': '#ecebc4',\n",
       " '8': '#568fd5',\n",
       " '134': '#ee8e6c',\n",
       " '23': '#699392',\n",
       " '68': '#e5da9b',\n",
       " '3': '#a7b825',\n",
       " '223': '#f7a78c',\n",
       " '40': '#4bec8a',\n",
       " '179': '#2629ae',\n",
       " '217': '#3568b0',\n",
       " '210': '#7b7d34',\n",
       " '47': '#fc2e9b',\n",
       " '207': '#1f81f0',\n",
       " '150': '#f364e2',\n",
       " '191': '#0318ab',\n",
       " '20': '#e74a28',\n",
       " '123': '#ffd7fe',\n",
       " '267': '#27f7a2',\n",
       " '208': '#e70f1c',\n",
       " '37': '#39bb93',\n",
       " '189': '#8a424c',\n",
       " '175': '#9d6bba',\n",
       " '70': '#748e8b',\n",
       " '157': '#090a37',\n",
       " '118': '#ac8c3a',\n",
       " '183': '#4d2849',\n",
       " '238': '#333574',\n",
       " '213': '#d15746',\n",
       " '212': '#4d2b21',\n",
       " '113': '#74d6ff',\n",
       " '260': '#d0a997',\n",
       " '124': '#9e60e1',\n",
       " '42': '#7a3b1b',\n",
       " '268': '#56d81a',\n",
       " '235': '#4282f0',\n",
       " '71': '#9cb83c',\n",
       " '155': '#bb95e5',\n",
       " '7': '#e87287',\n",
       " '151': '#e24651',\n",
       " '132': '#554c58',\n",
       " '43': '#9decae',\n",
       " '248': '#19c419',\n",
       " '46': '#59817b',\n",
       " '255': '#dc3447',\n",
       " '79': '#b51edd',\n",
       " '30': '#096a21',\n",
       " '231': '#e53c4b',\n",
       " '50': '#ac2fc1',\n",
       " '241': '#6d08fd',\n",
       " '34': '#efcd89',\n",
       " '229': '#f70089',\n",
       " '119': '#670558',\n",
       " '176': '#122471',\n",
       " '149': '#4928ff',\n",
       " '76': '#16c06d',\n",
       " '202': '#105482',\n",
       " '112': '#09af6b',\n",
       " '205': '#c5b494',\n",
       " '143': '#583b20',\n",
       " '122': '#b15f7d',\n",
       " '237': '#fa66f1',\n",
       " '185': '#34975c',\n",
       " '263': '#d75fa9',\n",
       " '78': '#3e00ad',\n",
       " '243': '#068a2d',\n",
       " '261': '#433e41',\n",
       " '257': '#0d7a91',\n",
       " '226': '#f7126a',\n",
       " '62': '#07e43a',\n",
       " '148': '#9cf054',\n",
       " '164': '#40c55e',\n",
       " '158': '#25da6f',\n",
       " '105': '#f402a9',\n",
       " '269': '#06050a',\n",
       " '225': '#a39659',\n",
       " '209': '#c2f0fe',\n",
       " '201': '#5891e8',\n",
       " '98': '#e28e42',\n",
       " '173': '#f05fe2',\n",
       " '181': '#5d5432',\n",
       " '211': '#0bae9e',\n",
       " '222': '#11850d',\n",
       " '116': '#4a155d',\n",
       " '206': '#651acb',\n",
       " '54': '#b6b0a8',\n",
       " '142': '#475c5a',\n",
       " '172': '#fa243e',\n",
       " '265': '#64924b',\n",
       " '252': '#6f3e37',\n",
       " '53': '#339538',\n",
       " '234': '#cb7c88',\n",
       " '26': '#b55390',\n",
       " '166': '#4e14b1',\n",
       " '224': '#1561c4',\n",
       " '273': '#0f020e',\n",
       " '219': '#6c6f1d',\n",
       " '39': '#0cb604',\n",
       " '162': '#6c176c',\n",
       " '136': '#24459a',\n",
       " '73': '#b3bdf5',\n",
       " '244': '#a07575',\n",
       " '220': '#55cfc9',\n",
       " '102': '#7d547a',\n",
       " '236': '#d1505f',\n",
       " '227': '#f4811c',\n",
       " '133': '#e06e7b',\n",
       " '246': '#8a35ce',\n",
       " '63': '#7d61ee',\n",
       " '192': '#0f3d72',\n",
       " '140': '#cbde1a',\n",
       " '247': '#9ecde9',\n",
       " '153': '#054f18',\n",
       " '184': '#d7f133',\n",
       " '200': '#a22478',\n",
       " '74': '#fddcc1',\n",
       " '48': '#a0b9f9',\n",
       " '35': '#1d6f04',\n",
       " '182': '#8afac5',\n",
       " '160': '#041268',\n",
       " '159': '#6f5538',\n",
       " '161': '#443aa0',\n",
       " '194': '#25760a',\n",
       " '93': '#d20ebd',\n",
       " '107': '#bbf3f9',\n",
       " '245': '#c172cd',\n",
       " '270': '#d9b9c6',\n",
       " '83': '#e5c175',\n",
       " '111': '#bdc36b',\n",
       " '190': '#2b3b5d',\n",
       " '84': '#36e361',\n",
       " '249': '#aaa624',\n",
       " '96': '#638370',\n",
       " '25': '#36d192',\n",
       " '271': '#e22083',\n",
       " '104': '#d5f275',\n",
       " '258': '#bcc46b',\n",
       " '174': '#5f3b64',\n",
       " '80': '#6ca810',\n",
       " '204': '#41c160',\n",
       " '262': '#77b0a0',\n",
       " '31': '#f60dce',\n",
       " '170': '#cb8ef2',\n",
       " '14': '#15c0b0',\n",
       " '57': '#1df186',\n",
       " '91': '#ccfbbc',\n",
       " '108': '#419225',\n",
       " '253': '#1d0cc5',\n",
       " '58': '#d39d9a',\n",
       " '135': '#16dea4',\n",
       " '75': '#76d8ec',\n",
       " '264': '#807324',\n",
       " '230': '#8e3e51',\n",
       " '239': '#ce68d4',\n",
       " '221': '#f5d82f',\n",
       " '187': '#c65536',\n",
       " '233': '#21aa64',\n",
       " '254': '#9a0ecc',\n",
       " '129': '#29fe2b',\n",
       " '186': '#9b85fa',\n",
       " '137': '#a93650',\n",
       " '218': '#a95d9a',\n",
       " '145': '#0aabd4',\n",
       " '114': '#f3c40a',\n",
       " '195': '#9ec1d4',\n",
       " '61': '#c3f1db',\n",
       " '203': '#fd820a',\n",
       " '6': '#51c8f5',\n",
       " '138': '#410330',\n",
       " '67': '#e2a3a4',\n",
       " '106': '#deda03',\n",
       " '266': '#96bf8a'}"
      ]
     },
     "execution_count": 42,
     "metadata": {},
     "output_type": "execute_result"
    }
   ],
   "source": [
    "## Code to change color in json\n",
    "color_dictionary\n"
   ]
  },
  {
   "cell_type": "code",
   "execution_count": 68,
   "metadata": {
    "scrolled": true
   },
   "outputs": [],
   "source": [
    "###Only if you need to edit the graph json files\n",
    "\n",
    "# def filter_dict(d, filter_string):\n",
    "# #     print(filter_string)\n",
    "#     for key, val in d.items():\n",
    "#         if filter_string != key:\n",
    "#             continue\n",
    "#         return key, val\n",
    "\n",
    "# with open('../../visualization/data/graph.json') as graph_json_file:\n",
    "#     data = json.load(graph_json_file)\n",
    "#     for node in data['nodes']:\n",
    "#         if(node['group_id'] == \"\"):\n",
    "#             node['group_id']= \"island\"    \n",
    "# #             print(node)\n",
    "    \n",
    "#     for node in data['nodes']:\n",
    "#         key,val = filter_dict(color_dictionary, str(node['group_id']))\n",
    "#         node['color_code'] = val\n",
    "#         print(node)\n"
   ]
  },
  {
   "cell_type": "code",
   "execution_count": 69,
   "metadata": {},
   "outputs": [],
   "source": [
    "#Resave as JSON\n",
    "\n",
    "# graph = {\n",
    "#     \"nodes\" : data['nodes'],\n",
    "#     \"links\": data['links']\n",
    "# }\n",
    "\n",
    "# with open(\"../generated-data/graph.json\", 'w') as file:\n",
    "#     json.dump(graph, file)"
   ]
  },
  {
   "cell_type": "code",
   "execution_count": 1,
   "metadata": {},
   "outputs": [],
   "source": [
    "import pandas as pd"
   ]
  },
  {
   "cell_type": "code",
   "execution_count": 3,
   "metadata": {},
   "outputs": [],
   "source": [
    "signs_latest_csv = pd.read_csv('../signdata-07-08-2020.csv')"
   ]
  },
  {
   "cell_type": "code",
   "execution_count": 9,
   "metadata": {},
   "outputs": [
    {
     "data": {
      "text/plain": [
       "2.166"
      ]
     },
     "execution_count": 9,
     "metadata": {},
     "output_type": "execute_result"
    }
   ],
   "source": [
    "signs_latest_csv['Iconicity(Z)'].max()"
   ]
  },
  {
   "cell_type": "code",
   "execution_count": null,
   "metadata": {},
   "outputs": [],
   "source": []
  }
 ],
 "metadata": {
  "kernelspec": {
   "display_name": "Python 3",
   "language": "python",
   "name": "python3"
  },
  "language_info": {
   "codemirror_mode": {
    "name": "ipython",
    "version": 3
   },
   "file_extension": ".py",
   "mimetype": "text/x-python",
   "name": "python",
   "nbconvert_exporter": "python",
   "pygments_lexer": "ipython3",
   "version": "3.7.3"
  }
 },
 "nbformat": 4,
 "nbformat_minor": 2
}
