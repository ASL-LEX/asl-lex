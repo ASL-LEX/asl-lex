{
 "cells": [
  {
   "cell_type": "markdown",
   "metadata": {},
   "source": [
    "## This notebook assumes you have the following packages installed in your conda environment."
   ]
  },
  {
   "cell_type": "code",
   "execution_count": 1,
   "metadata": {},
   "outputs": [],
   "source": [
    "import pandas as pd\n",
    "import json\n",
    "import community\n",
    "import networkx as nx\n",
    "import matplotlib.pyplot as plt\n",
    "import pandas as pd\n",
    "import random\n",
    "import numpy as np\n",
    "import randomcolor"
   ]
  },
  {
   "cell_type": "code",
   "execution_count": 2,
   "metadata": {},
   "outputs": [
    {
     "data": {
      "text/plain": [
       "(2723, 193)"
      ]
     },
     "execution_count": 2,
     "metadata": {},
     "output_type": "execute_result"
    }
   ],
   "source": [
    "df_default = pd.read_csv('../data/generated-data/default-nd.csv')\n",
    "df_default.shape\n"
   ]
  },
  {
   "cell_type": "code",
   "execution_count": 3,
   "metadata": {},
   "outputs": [
    {
     "data": {
      "text/html": [
       "<div>\n",
       "<style scoped>\n",
       "    .dataframe tbody tr th:only-of-type {\n",
       "        vertical-align: middle;\n",
       "    }\n",
       "\n",
       "    .dataframe tbody tr th {\n",
       "        vertical-align: top;\n",
       "    }\n",
       "\n",
       "    .dataframe thead th {\n",
       "        text-align: right;\n",
       "    }\n",
       "</style>\n",
       "<table border=\"1\" class=\"dataframe\">\n",
       "  <thead>\n",
       "    <tr style=\"text-align: right;\">\n",
       "      <th></th>\n",
       "      <th>EntryID</th>\n",
       "      <th>LemmaID</th>\n",
       "      <th>Code</th>\n",
       "      <th>Batch</th>\n",
       "      <th>List</th>\n",
       "      <th>Item</th>\n",
       "      <th>YouTube Video</th>\n",
       "      <th>VimeoVideoHTML</th>\n",
       "      <th>VimeoVideo</th>\n",
       "      <th>SignFrequency(M)</th>\n",
       "      <th>...</th>\n",
       "      <th>Iconicity(SD)</th>\n",
       "      <th>Iconicity(N)</th>\n",
       "      <th>Parameter.Neighborhood.Density.2.0</th>\n",
       "      <th>Neighborhood Density 2.0</th>\n",
       "      <th>SignBankAnnotationID</th>\n",
       "      <th>SignBankEnglishTranslations</th>\n",
       "      <th>SignBankLemmaID</th>\n",
       "      <th>SignBankSemanticField</th>\n",
       "      <th>SignBankID</th>\n",
       "      <th>Neighborhood Density</th>\n",
       "    </tr>\n",
       "  </thead>\n",
       "  <tbody>\n",
       "    <tr>\n",
       "      <th>0</th>\n",
       "      <td>1_dollar</td>\n",
       "      <td>1_dollar</td>\n",
       "      <td>C_02_025</td>\n",
       "      <td>C</td>\n",
       "      <td>2.0</td>\n",
       "      <td>25.0</td>\n",
       "      <td>&lt;iframe width=\"280\" height=\"158\" src=\"https://...</td>\n",
       "      <td>&lt;iframe src=https://player.vimeo.com/video/345...</td>\n",
       "      <td>https://player.vimeo.com/video/345587917</td>\n",
       "      <td>3.034</td>\n",
       "      <td>...</td>\n",
       "      <td>0.267</td>\n",
       "      <td>27.0</td>\n",
       "      <td>383</td>\n",
       "      <td>0</td>\n",
       "      <td>DOLLAR</td>\n",
       "      <td>bill, cash, dollar, money</td>\n",
       "      <td>1_DOLLAR</td>\n",
       "      <td>None</td>\n",
       "      <td>1268.0</td>\n",
       "      <td>0</td>\n",
       "    </tr>\n",
       "    <tr>\n",
       "      <th>1</th>\n",
       "      <td>5_dollars</td>\n",
       "      <td>5_dollars</td>\n",
       "      <td>B_01_062</td>\n",
       "      <td>B</td>\n",
       "      <td>1.0</td>\n",
       "      <td>62.0</td>\n",
       "      <td>&lt;iframe width=\"280\" height=\"158\" src=\"https://...</td>\n",
       "      <td>&lt;iframe src=https://player.vimeo.com/video/344...</td>\n",
       "      <td>https://player.vimeo.com/video/344399314</td>\n",
       "      <td>5.120</td>\n",
       "      <td>...</td>\n",
       "      <td>1.503</td>\n",
       "      <td>27.0</td>\n",
       "      <td>190</td>\n",
       "      <td>4</td>\n",
       "      <td>FIVE-DOLLARS</td>\n",
       "      <td>dollar, five dollars, money</td>\n",
       "      <td>5_DOLLAR</td>\n",
       "      <td>Number</td>\n",
       "      <td>2436.0</td>\n",
       "      <td>5</td>\n",
       "    </tr>\n",
       "    <tr>\n",
       "      <th>2</th>\n",
       "      <td>8_hour</td>\n",
       "      <td>8_hour</td>\n",
       "      <td>C_02_055</td>\n",
       "      <td>C</td>\n",
       "      <td>2.0</td>\n",
       "      <td>55.0</td>\n",
       "      <td>&lt;iframe width=\"280\" height=\"158\" src=\"https://...</td>\n",
       "      <td>&lt;iframe src=https://player.vimeo.com/video/345...</td>\n",
       "      <td>https://player.vimeo.com/video/345588916</td>\n",
       "      <td>4.267</td>\n",
       "      <td>...</td>\n",
       "      <td>1.623</td>\n",
       "      <td>26.0</td>\n",
       "      <td>129</td>\n",
       "      <td>0</td>\n",
       "      <td>EIGHT-HOURSneut</td>\n",
       "      <td>eight hours, 8 hours, hour, time</td>\n",
       "      <td>NUMBER-HOURS</td>\n",
       "      <td>Number</td>\n",
       "      <td>2437.0</td>\n",
       "      <td>0</td>\n",
       "    </tr>\n",
       "    <tr>\n",
       "      <th>3</th>\n",
       "      <td>9_oclock</td>\n",
       "      <td>9_oclock</td>\n",
       "      <td>C_02_080</td>\n",
       "      <td>C</td>\n",
       "      <td>2.0</td>\n",
       "      <td>80.0</td>\n",
       "      <td>&lt;iframe width=\"280\" height=\"158\" src=\"https://...</td>\n",
       "      <td>&lt;iframe src=https://player.vimeo.com/video/345...</td>\n",
       "      <td>https://player.vimeo.com/video/345589804</td>\n",
       "      <td>4.133</td>\n",
       "      <td>...</td>\n",
       "      <td>1.430</td>\n",
       "      <td>27.0</td>\n",
       "      <td>48</td>\n",
       "      <td>4</td>\n",
       "      <td>OCLOCK-NINE</td>\n",
       "      <td>9:00, 9 o'clock, nine o'clock, o'clock, time</td>\n",
       "      <td>OCLOCK-NUMBER</td>\n",
       "      <td>None</td>\n",
       "      <td>2857.0</td>\n",
       "      <td>2</td>\n",
       "    </tr>\n",
       "    <tr>\n",
       "      <th>4</th>\n",
       "      <td>a-line_bob</td>\n",
       "      <td>a-line_bob</td>\n",
       "      <td>K_03_127</td>\n",
       "      <td>NaN</td>\n",
       "      <td>NaN</td>\n",
       "      <td>NaN</td>\n",
       "      <td>NaN</td>\n",
       "      <td>&lt;iframe src=https://player.vimeo.com/video/342...</td>\n",
       "      <td>https://player.vimeo.com/video/342308099</td>\n",
       "      <td>4.273</td>\n",
       "      <td>...</td>\n",
       "      <td>1.925</td>\n",
       "      <td>26.0</td>\n",
       "      <td>158</td>\n",
       "      <td>4</td>\n",
       "      <td>NaN</td>\n",
       "      <td>NaN</td>\n",
       "      <td>NaN</td>\n",
       "      <td>NaN</td>\n",
       "      <td>NaN</td>\n",
       "      <td>3</td>\n",
       "    </tr>\n",
       "    <tr>\n",
       "      <th>...</th>\n",
       "      <td>...</td>\n",
       "      <td>...</td>\n",
       "      <td>...</td>\n",
       "      <td>...</td>\n",
       "      <td>...</td>\n",
       "      <td>...</td>\n",
       "      <td>...</td>\n",
       "      <td>...</td>\n",
       "      <td>...</td>\n",
       "      <td>...</td>\n",
       "      <td>...</td>\n",
       "      <td>...</td>\n",
       "      <td>...</td>\n",
       "      <td>...</td>\n",
       "      <td>...</td>\n",
       "      <td>...</td>\n",
       "      <td>...</td>\n",
       "      <td>...</td>\n",
       "      <td>...</td>\n",
       "      <td>...</td>\n",
       "      <td>...</td>\n",
       "    </tr>\n",
       "    <tr>\n",
       "      <th>2718</th>\n",
       "      <td>zero</td>\n",
       "      <td>zero</td>\n",
       "      <td>D_03_036</td>\n",
       "      <td>D</td>\n",
       "      <td>3.0</td>\n",
       "      <td>36.0</td>\n",
       "      <td>&lt;iframe width=\"280\" height=\"158\" src=\"https://...</td>\n",
       "      <td>&lt;iframe src=https://player.vimeo.com/video/345...</td>\n",
       "      <td>https://player.vimeo.com/video/345983725</td>\n",
       "      <td>4.192</td>\n",
       "      <td>...</td>\n",
       "      <td>1.161</td>\n",
       "      <td>23.0</td>\n",
       "      <td>482</td>\n",
       "      <td>5</td>\n",
       "      <td>ZERO</td>\n",
       "      <td>0, none, number, zero, zilch</td>\n",
       "      <td>ZERO</td>\n",
       "      <td>Number</td>\n",
       "      <td>1478.0</td>\n",
       "      <td>6</td>\n",
       "    </tr>\n",
       "    <tr>\n",
       "      <th>2719</th>\n",
       "      <td>zipper</td>\n",
       "      <td>zipper</td>\n",
       "      <td>D_01_034</td>\n",
       "      <td>D</td>\n",
       "      <td>1.0</td>\n",
       "      <td>34.0</td>\n",
       "      <td>&lt;iframe width=\"280\" height=\"158\" src=\"https://...</td>\n",
       "      <td>&lt;iframe src=https://player.vimeo.com/video/345...</td>\n",
       "      <td>https://player.vimeo.com/video/345804301</td>\n",
       "      <td>3.148</td>\n",
       "      <td>...</td>\n",
       "      <td>1.029</td>\n",
       "      <td>33.0</td>\n",
       "      <td>165</td>\n",
       "      <td>0</td>\n",
       "      <td>ZIPPER</td>\n",
       "      <td>coat, jacket, zipper</td>\n",
       "      <td>ZIPPER</td>\n",
       "      <td>None</td>\n",
       "      <td>94.0</td>\n",
       "      <td>0</td>\n",
       "    </tr>\n",
       "    <tr>\n",
       "      <th>2720</th>\n",
       "      <td>zoo</td>\n",
       "      <td>zoo</td>\n",
       "      <td>E_03_042</td>\n",
       "      <td>E3</td>\n",
       "      <td>3.0</td>\n",
       "      <td>42.0</td>\n",
       "      <td>&lt;iframe width=\"280\" height=\"158\" src=\"https://...</td>\n",
       "      <td>&lt;iframe src=https://player.vimeo.com/video/346...</td>\n",
       "      <td>https://player.vimeo.com/video/346067693</td>\n",
       "      <td>3.533</td>\n",
       "      <td>...</td>\n",
       "      <td>1.729</td>\n",
       "      <td>30.0</td>\n",
       "      <td>137</td>\n",
       "      <td>3</td>\n",
       "      <td>NaN</td>\n",
       "      <td>NaN</td>\n",
       "      <td>NaN</td>\n",
       "      <td>NaN</td>\n",
       "      <td>NaN</td>\n",
       "      <td>3</td>\n",
       "    </tr>\n",
       "    <tr>\n",
       "      <th>2721</th>\n",
       "      <td>zoom_in</td>\n",
       "      <td>zoom_in</td>\n",
       "      <td>B_02_056</td>\n",
       "      <td>B</td>\n",
       "      <td>2.0</td>\n",
       "      <td>56.0</td>\n",
       "      <td>&lt;iframe width=\"280\" height=\"158\" src=\"https://...</td>\n",
       "      <td>&lt;iframe src=https://player.vimeo.com/video/345...</td>\n",
       "      <td>https://player.vimeo.com/video/345555455</td>\n",
       "      <td>3.958</td>\n",
       "      <td>...</td>\n",
       "      <td>2.187</td>\n",
       "      <td>30.0</td>\n",
       "      <td>524</td>\n",
       "      <td>0</td>\n",
       "      <td>ZOOM-IN</td>\n",
       "      <td>computer screen, enlarge, expand, make bigger,...</td>\n",
       "      <td>ZOOM-IN</td>\n",
       "      <td>Event</td>\n",
       "      <td>3114.0</td>\n",
       "      <td>0</td>\n",
       "    </tr>\n",
       "    <tr>\n",
       "      <th>2722</th>\n",
       "      <td>zoom_off</td>\n",
       "      <td>zoom_off</td>\n",
       "      <td>D_01_057</td>\n",
       "      <td>D</td>\n",
       "      <td>1.0</td>\n",
       "      <td>57.0</td>\n",
       "      <td>&lt;iframe width=\"280\" height=\"158\" src=\"https://...</td>\n",
       "      <td>&lt;iframe src=https://player.vimeo.com/video/345...</td>\n",
       "      <td>https://player.vimeo.com/video/345805379</td>\n",
       "      <td>4.333</td>\n",
       "      <td>...</td>\n",
       "      <td>1.914</td>\n",
       "      <td>31.0</td>\n",
       "      <td>368</td>\n",
       "      <td>0</td>\n",
       "      <td>ZOOM-OFF</td>\n",
       "      <td>leave, sprint, take off, zoom off, ZOOM-OFF, l...</td>\n",
       "      <td>ZOOM-OFF</td>\n",
       "      <td>None</td>\n",
       "      <td>329.0</td>\n",
       "      <td>0</td>\n",
       "    </tr>\n",
       "  </tbody>\n",
       "</table>\n",
       "<p>2723 rows × 193 columns</p>\n",
       "</div>"
      ],
      "text/plain": [
       "         EntryID     LemmaID      Code Batch  List  Item  \\\n",
       "0       1_dollar    1_dollar  C_02_025     C   2.0  25.0   \n",
       "1      5_dollars   5_dollars  B_01_062     B   1.0  62.0   \n",
       "2         8_hour      8_hour  C_02_055     C   2.0  55.0   \n",
       "3       9_oclock    9_oclock  C_02_080     C   2.0  80.0   \n",
       "4     a-line_bob  a-line_bob  K_03_127   NaN   NaN   NaN   \n",
       "...          ...         ...       ...   ...   ...   ...   \n",
       "2718        zero        zero  D_03_036     D   3.0  36.0   \n",
       "2719      zipper      zipper  D_01_034     D   1.0  34.0   \n",
       "2720         zoo         zoo  E_03_042    E3   3.0  42.0   \n",
       "2721     zoom_in     zoom_in  B_02_056     B   2.0  56.0   \n",
       "2722    zoom_off    zoom_off  D_01_057     D   1.0  57.0   \n",
       "\n",
       "                                          YouTube Video  \\\n",
       "0     <iframe width=\"280\" height=\"158\" src=\"https://...   \n",
       "1     <iframe width=\"280\" height=\"158\" src=\"https://...   \n",
       "2     <iframe width=\"280\" height=\"158\" src=\"https://...   \n",
       "3     <iframe width=\"280\" height=\"158\" src=\"https://...   \n",
       "4                                                   NaN   \n",
       "...                                                 ...   \n",
       "2718  <iframe width=\"280\" height=\"158\" src=\"https://...   \n",
       "2719  <iframe width=\"280\" height=\"158\" src=\"https://...   \n",
       "2720  <iframe width=\"280\" height=\"158\" src=\"https://...   \n",
       "2721  <iframe width=\"280\" height=\"158\" src=\"https://...   \n",
       "2722  <iframe width=\"280\" height=\"158\" src=\"https://...   \n",
       "\n",
       "                                         VimeoVideoHTML  \\\n",
       "0     <iframe src=https://player.vimeo.com/video/345...   \n",
       "1     <iframe src=https://player.vimeo.com/video/344...   \n",
       "2     <iframe src=https://player.vimeo.com/video/345...   \n",
       "3     <iframe src=https://player.vimeo.com/video/345...   \n",
       "4     <iframe src=https://player.vimeo.com/video/342...   \n",
       "...                                                 ...   \n",
       "2718  <iframe src=https://player.vimeo.com/video/345...   \n",
       "2719  <iframe src=https://player.vimeo.com/video/345...   \n",
       "2720  <iframe src=https://player.vimeo.com/video/346...   \n",
       "2721  <iframe src=https://player.vimeo.com/video/345...   \n",
       "2722  <iframe src=https://player.vimeo.com/video/345...   \n",
       "\n",
       "                                    VimeoVideo  SignFrequency(M)  ...  \\\n",
       "0     https://player.vimeo.com/video/345587917             3.034  ...   \n",
       "1     https://player.vimeo.com/video/344399314             5.120  ...   \n",
       "2     https://player.vimeo.com/video/345588916             4.267  ...   \n",
       "3     https://player.vimeo.com/video/345589804             4.133  ...   \n",
       "4     https://player.vimeo.com/video/342308099             4.273  ...   \n",
       "...                                        ...               ...  ...   \n",
       "2718  https://player.vimeo.com/video/345983725             4.192  ...   \n",
       "2719  https://player.vimeo.com/video/345804301             3.148  ...   \n",
       "2720  https://player.vimeo.com/video/346067693             3.533  ...   \n",
       "2721  https://player.vimeo.com/video/345555455             3.958  ...   \n",
       "2722  https://player.vimeo.com/video/345805379             4.333  ...   \n",
       "\n",
       "      Iconicity(SD)  Iconicity(N)  Parameter.Neighborhood.Density.2.0  \\\n",
       "0             0.267          27.0                                 383   \n",
       "1             1.503          27.0                                 190   \n",
       "2             1.623          26.0                                 129   \n",
       "3             1.430          27.0                                  48   \n",
       "4             1.925          26.0                                 158   \n",
       "...             ...           ...                                 ...   \n",
       "2718          1.161          23.0                                 482   \n",
       "2719          1.029          33.0                                 165   \n",
       "2720          1.729          30.0                                 137   \n",
       "2721          2.187          30.0                                 524   \n",
       "2722          1.914          31.0                                 368   \n",
       "\n",
       "      Neighborhood Density 2.0  SignBankAnnotationID  \\\n",
       "0                            0                DOLLAR   \n",
       "1                            4          FIVE-DOLLARS   \n",
       "2                            0       EIGHT-HOURSneut   \n",
       "3                            4           OCLOCK-NINE   \n",
       "4                            4                   NaN   \n",
       "...                        ...                   ...   \n",
       "2718                         5                  ZERO   \n",
       "2719                         0                ZIPPER   \n",
       "2720                         3                   NaN   \n",
       "2721                         0               ZOOM-IN   \n",
       "2722                         0              ZOOM-OFF   \n",
       "\n",
       "                            SignBankEnglishTranslations  SignBankLemmaID  \\\n",
       "0                             bill, cash, dollar, money         1_DOLLAR   \n",
       "1                           dollar, five dollars, money         5_DOLLAR   \n",
       "2                      eight hours, 8 hours, hour, time     NUMBER-HOURS   \n",
       "3          9:00, 9 o'clock, nine o'clock, o'clock, time    OCLOCK-NUMBER   \n",
       "4                                                   NaN              NaN   \n",
       "...                                                 ...              ...   \n",
       "2718                       0, none, number, zero, zilch             ZERO   \n",
       "2719                               coat, jacket, zipper           ZIPPER   \n",
       "2720                                                NaN              NaN   \n",
       "2721  computer screen, enlarge, expand, make bigger,...          ZOOM-IN   \n",
       "2722  leave, sprint, take off, zoom off, ZOOM-OFF, l...         ZOOM-OFF   \n",
       "\n",
       "      SignBankSemanticField  SignBankID  Neighborhood Density  \n",
       "0                      None      1268.0                     0  \n",
       "1                    Number      2436.0                     5  \n",
       "2                    Number      2437.0                     0  \n",
       "3                      None      2857.0                     2  \n",
       "4                       NaN         NaN                     3  \n",
       "...                     ...         ...                   ...  \n",
       "2718                 Number      1478.0                     6  \n",
       "2719                   None        94.0                     0  \n",
       "2720                    NaN         NaN                     3  \n",
       "2721                  Event      3114.0                     0  \n",
       "2722                   None       329.0                     0  \n",
       "\n",
       "[2723 rows x 193 columns]"
      ]
     },
     "execution_count": 3,
     "metadata": {},
     "output_type": "execute_result"
    }
   ],
   "source": [
    "df_default"
   ]
  },
  {
   "cell_type": "code",
   "execution_count": 4,
   "metadata": {},
   "outputs": [
    {
     "data": {
      "text/plain": [
       "(2723, 192)"
      ]
     },
     "execution_count": 4,
     "metadata": {},
     "output_type": "execute_result"
    }
   ],
   "source": [
    "df_sign = pd.read_csv('../data/signdata.csv')\n",
    "df_sign.shape"
   ]
  },
  {
   "cell_type": "code",
   "execution_count": 5,
   "metadata": {},
   "outputs": [
    {
     "data": {
      "text/html": [
       "<div>\n",
       "<style scoped>\n",
       "    .dataframe tbody tr th:only-of-type {\n",
       "        vertical-align: middle;\n",
       "    }\n",
       "\n",
       "    .dataframe tbody tr th {\n",
       "        vertical-align: top;\n",
       "    }\n",
       "\n",
       "    .dataframe thead th {\n",
       "        text-align: right;\n",
       "    }\n",
       "</style>\n",
       "<table border=\"1\" class=\"dataframe\">\n",
       "  <thead>\n",
       "    <tr style=\"text-align: right;\">\n",
       "      <th></th>\n",
       "      <th>EntryID</th>\n",
       "      <th>LemmaID</th>\n",
       "      <th>Code</th>\n",
       "      <th>Batch</th>\n",
       "      <th>List</th>\n",
       "      <th>Item</th>\n",
       "      <th>YouTube Video</th>\n",
       "      <th>VimeoVideoHTML</th>\n",
       "      <th>VimeoVideo</th>\n",
       "      <th>SignFrequency(M)</th>\n",
       "      <th>...</th>\n",
       "      <th>Iconicity(M)</th>\n",
       "      <th>Iconicity(SD)</th>\n",
       "      <th>Iconicity(N)</th>\n",
       "      <th>Parameter.Neighborhood.Density.2.0</th>\n",
       "      <th>Neighborhood Density 2.0</th>\n",
       "      <th>SignBankAnnotationID</th>\n",
       "      <th>SignBankEnglishTranslations</th>\n",
       "      <th>SignBankLemmaID</th>\n",
       "      <th>SignBankSemanticField</th>\n",
       "      <th>SignBankID</th>\n",
       "    </tr>\n",
       "  </thead>\n",
       "  <tbody>\n",
       "    <tr>\n",
       "      <th>0</th>\n",
       "      <td>1_dollar</td>\n",
       "      <td>1_dollar</td>\n",
       "      <td>C_02_025</td>\n",
       "      <td>C</td>\n",
       "      <td>2.0</td>\n",
       "      <td>25.0</td>\n",
       "      <td>&lt;iframe width=\"280\" height=\"158\" src=\"https://...</td>\n",
       "      <td>&lt;iframe src=https://player.vimeo.com/video/345...</td>\n",
       "      <td>https://player.vimeo.com/video/345587917</td>\n",
       "      <td>3.034</td>\n",
       "      <td>...</td>\n",
       "      <td>1.074</td>\n",
       "      <td>0.267</td>\n",
       "      <td>27.0</td>\n",
       "      <td>383</td>\n",
       "      <td>0</td>\n",
       "      <td>DOLLAR</td>\n",
       "      <td>bill, cash, dollar, money</td>\n",
       "      <td>1_DOLLAR</td>\n",
       "      <td>None</td>\n",
       "      <td>1268.0</td>\n",
       "    </tr>\n",
       "    <tr>\n",
       "      <th>1</th>\n",
       "      <td>5_dollars</td>\n",
       "      <td>5_dollars</td>\n",
       "      <td>B_01_062</td>\n",
       "      <td>B</td>\n",
       "      <td>1.0</td>\n",
       "      <td>62.0</td>\n",
       "      <td>&lt;iframe width=\"280\" height=\"158\" src=\"https://...</td>\n",
       "      <td>&lt;iframe src=https://player.vimeo.com/video/344...</td>\n",
       "      <td>https://player.vimeo.com/video/344399314</td>\n",
       "      <td>5.120</td>\n",
       "      <td>...</td>\n",
       "      <td>5.481</td>\n",
       "      <td>1.503</td>\n",
       "      <td>27.0</td>\n",
       "      <td>190</td>\n",
       "      <td>4</td>\n",
       "      <td>FIVE-DOLLARS</td>\n",
       "      <td>dollar, five dollars, money</td>\n",
       "      <td>5_DOLLAR</td>\n",
       "      <td>Number</td>\n",
       "      <td>2436.0</td>\n",
       "    </tr>\n",
       "    <tr>\n",
       "      <th>2</th>\n",
       "      <td>8_hour</td>\n",
       "      <td>8_hour</td>\n",
       "      <td>C_02_055</td>\n",
       "      <td>C</td>\n",
       "      <td>2.0</td>\n",
       "      <td>55.0</td>\n",
       "      <td>&lt;iframe width=\"280\" height=\"158\" src=\"https://...</td>\n",
       "      <td>&lt;iframe src=https://player.vimeo.com/video/345...</td>\n",
       "      <td>https://player.vimeo.com/video/345588916</td>\n",
       "      <td>4.267</td>\n",
       "      <td>...</td>\n",
       "      <td>2.654</td>\n",
       "      <td>1.623</td>\n",
       "      <td>26.0</td>\n",
       "      <td>129</td>\n",
       "      <td>0</td>\n",
       "      <td>EIGHT-HOURSneut</td>\n",
       "      <td>eight hours, 8 hours, hour, time</td>\n",
       "      <td>NUMBER-HOURS</td>\n",
       "      <td>Number</td>\n",
       "      <td>2437.0</td>\n",
       "    </tr>\n",
       "    <tr>\n",
       "      <th>3</th>\n",
       "      <td>9_oclock</td>\n",
       "      <td>9_oclock</td>\n",
       "      <td>C_02_080</td>\n",
       "      <td>C</td>\n",
       "      <td>2.0</td>\n",
       "      <td>80.0</td>\n",
       "      <td>&lt;iframe width=\"280\" height=\"158\" src=\"https://...</td>\n",
       "      <td>&lt;iframe src=https://player.vimeo.com/video/345...</td>\n",
       "      <td>https://player.vimeo.com/video/345589804</td>\n",
       "      <td>4.133</td>\n",
       "      <td>...</td>\n",
       "      <td>2.741</td>\n",
       "      <td>1.430</td>\n",
       "      <td>27.0</td>\n",
       "      <td>48</td>\n",
       "      <td>4</td>\n",
       "      <td>OCLOCK-NINE</td>\n",
       "      <td>9:00, 9 o'clock, nine o'clock, o'clock, time</td>\n",
       "      <td>OCLOCK-NUMBER</td>\n",
       "      <td>None</td>\n",
       "      <td>2857.0</td>\n",
       "    </tr>\n",
       "    <tr>\n",
       "      <th>4</th>\n",
       "      <td>a-line_bob</td>\n",
       "      <td>a-line_bob</td>\n",
       "      <td>K_03_127</td>\n",
       "      <td>NaN</td>\n",
       "      <td>NaN</td>\n",
       "      <td>NaN</td>\n",
       "      <td>NaN</td>\n",
       "      <td>&lt;iframe src=https://player.vimeo.com/video/342...</td>\n",
       "      <td>https://player.vimeo.com/video/342308099</td>\n",
       "      <td>4.273</td>\n",
       "      <td>...</td>\n",
       "      <td>3.769</td>\n",
       "      <td>1.925</td>\n",
       "      <td>26.0</td>\n",
       "      <td>158</td>\n",
       "      <td>4</td>\n",
       "      <td>NaN</td>\n",
       "      <td>NaN</td>\n",
       "      <td>NaN</td>\n",
       "      <td>NaN</td>\n",
       "      <td>NaN</td>\n",
       "    </tr>\n",
       "    <tr>\n",
       "      <th>...</th>\n",
       "      <td>...</td>\n",
       "      <td>...</td>\n",
       "      <td>...</td>\n",
       "      <td>...</td>\n",
       "      <td>...</td>\n",
       "      <td>...</td>\n",
       "      <td>...</td>\n",
       "      <td>...</td>\n",
       "      <td>...</td>\n",
       "      <td>...</td>\n",
       "      <td>...</td>\n",
       "      <td>...</td>\n",
       "      <td>...</td>\n",
       "      <td>...</td>\n",
       "      <td>...</td>\n",
       "      <td>...</td>\n",
       "      <td>...</td>\n",
       "      <td>...</td>\n",
       "      <td>...</td>\n",
       "      <td>...</td>\n",
       "      <td>...</td>\n",
       "    </tr>\n",
       "    <tr>\n",
       "      <th>2718</th>\n",
       "      <td>zero</td>\n",
       "      <td>zero</td>\n",
       "      <td>D_03_036</td>\n",
       "      <td>D</td>\n",
       "      <td>3.0</td>\n",
       "      <td>36.0</td>\n",
       "      <td>&lt;iframe width=\"280\" height=\"158\" src=\"https://...</td>\n",
       "      <td>&lt;iframe src=https://player.vimeo.com/video/345...</td>\n",
       "      <td>https://player.vimeo.com/video/345983725</td>\n",
       "      <td>4.192</td>\n",
       "      <td>...</td>\n",
       "      <td>6.565</td>\n",
       "      <td>1.161</td>\n",
       "      <td>23.0</td>\n",
       "      <td>482</td>\n",
       "      <td>5</td>\n",
       "      <td>ZERO</td>\n",
       "      <td>0, none, number, zero, zilch</td>\n",
       "      <td>ZERO</td>\n",
       "      <td>Number</td>\n",
       "      <td>1478.0</td>\n",
       "    </tr>\n",
       "    <tr>\n",
       "      <th>2719</th>\n",
       "      <td>zipper</td>\n",
       "      <td>zipper</td>\n",
       "      <td>D_01_034</td>\n",
       "      <td>D</td>\n",
       "      <td>1.0</td>\n",
       "      <td>34.0</td>\n",
       "      <td>&lt;iframe width=\"280\" height=\"158\" src=\"https://...</td>\n",
       "      <td>&lt;iframe src=https://player.vimeo.com/video/345...</td>\n",
       "      <td>https://player.vimeo.com/video/345804301</td>\n",
       "      <td>3.148</td>\n",
       "      <td>...</td>\n",
       "      <td>6.394</td>\n",
       "      <td>1.029</td>\n",
       "      <td>33.0</td>\n",
       "      <td>165</td>\n",
       "      <td>0</td>\n",
       "      <td>ZIPPER</td>\n",
       "      <td>coat, jacket, zipper</td>\n",
       "      <td>ZIPPER</td>\n",
       "      <td>None</td>\n",
       "      <td>94.0</td>\n",
       "    </tr>\n",
       "    <tr>\n",
       "      <th>2720</th>\n",
       "      <td>zoo</td>\n",
       "      <td>zoo</td>\n",
       "      <td>E_03_042</td>\n",
       "      <td>E3</td>\n",
       "      <td>3.0</td>\n",
       "      <td>42.0</td>\n",
       "      <td>&lt;iframe width=\"280\" height=\"158\" src=\"https://...</td>\n",
       "      <td>&lt;iframe src=https://player.vimeo.com/video/346...</td>\n",
       "      <td>https://player.vimeo.com/video/346067693</td>\n",
       "      <td>3.533</td>\n",
       "      <td>...</td>\n",
       "      <td>2.100</td>\n",
       "      <td>1.729</td>\n",
       "      <td>30.0</td>\n",
       "      <td>137</td>\n",
       "      <td>3</td>\n",
       "      <td>NaN</td>\n",
       "      <td>NaN</td>\n",
       "      <td>NaN</td>\n",
       "      <td>NaN</td>\n",
       "      <td>NaN</td>\n",
       "    </tr>\n",
       "    <tr>\n",
       "      <th>2721</th>\n",
       "      <td>zoom_in</td>\n",
       "      <td>zoom_in</td>\n",
       "      <td>B_02_056</td>\n",
       "      <td>B</td>\n",
       "      <td>2.0</td>\n",
       "      <td>56.0</td>\n",
       "      <td>&lt;iframe width=\"280\" height=\"158\" src=\"https://...</td>\n",
       "      <td>&lt;iframe src=https://player.vimeo.com/video/345...</td>\n",
       "      <td>https://player.vimeo.com/video/345555455</td>\n",
       "      <td>3.958</td>\n",
       "      <td>...</td>\n",
       "      <td>4.667</td>\n",
       "      <td>2.187</td>\n",
       "      <td>30.0</td>\n",
       "      <td>524</td>\n",
       "      <td>0</td>\n",
       "      <td>ZOOM-IN</td>\n",
       "      <td>computer screen, enlarge, expand, make bigger,...</td>\n",
       "      <td>ZOOM-IN</td>\n",
       "      <td>Event</td>\n",
       "      <td>3114.0</td>\n",
       "    </tr>\n",
       "    <tr>\n",
       "      <th>2722</th>\n",
       "      <td>zoom_off</td>\n",
       "      <td>zoom_off</td>\n",
       "      <td>D_01_057</td>\n",
       "      <td>D</td>\n",
       "      <td>1.0</td>\n",
       "      <td>57.0</td>\n",
       "      <td>&lt;iframe width=\"280\" height=\"158\" src=\"https://...</td>\n",
       "      <td>&lt;iframe src=https://player.vimeo.com/video/345...</td>\n",
       "      <td>https://player.vimeo.com/video/345805379</td>\n",
       "      <td>4.333</td>\n",
       "      <td>...</td>\n",
       "      <td>3.742</td>\n",
       "      <td>1.914</td>\n",
       "      <td>31.0</td>\n",
       "      <td>368</td>\n",
       "      <td>0</td>\n",
       "      <td>ZOOM-OFF</td>\n",
       "      <td>leave, sprint, take off, zoom off, ZOOM-OFF, l...</td>\n",
       "      <td>ZOOM-OFF</td>\n",
       "      <td>None</td>\n",
       "      <td>329.0</td>\n",
       "    </tr>\n",
       "  </tbody>\n",
       "</table>\n",
       "<p>2723 rows × 192 columns</p>\n",
       "</div>"
      ],
      "text/plain": [
       "         EntryID     LemmaID      Code Batch  List  Item  \\\n",
       "0       1_dollar    1_dollar  C_02_025     C   2.0  25.0   \n",
       "1      5_dollars   5_dollars  B_01_062     B   1.0  62.0   \n",
       "2         8_hour      8_hour  C_02_055     C   2.0  55.0   \n",
       "3       9_oclock    9_oclock  C_02_080     C   2.0  80.0   \n",
       "4     a-line_bob  a-line_bob  K_03_127   NaN   NaN   NaN   \n",
       "...          ...         ...       ...   ...   ...   ...   \n",
       "2718        zero        zero  D_03_036     D   3.0  36.0   \n",
       "2719      zipper      zipper  D_01_034     D   1.0  34.0   \n",
       "2720         zoo         zoo  E_03_042    E3   3.0  42.0   \n",
       "2721     zoom_in     zoom_in  B_02_056     B   2.0  56.0   \n",
       "2722    zoom_off    zoom_off  D_01_057     D   1.0  57.0   \n",
       "\n",
       "                                          YouTube Video  \\\n",
       "0     <iframe width=\"280\" height=\"158\" src=\"https://...   \n",
       "1     <iframe width=\"280\" height=\"158\" src=\"https://...   \n",
       "2     <iframe width=\"280\" height=\"158\" src=\"https://...   \n",
       "3     <iframe width=\"280\" height=\"158\" src=\"https://...   \n",
       "4                                                   NaN   \n",
       "...                                                 ...   \n",
       "2718  <iframe width=\"280\" height=\"158\" src=\"https://...   \n",
       "2719  <iframe width=\"280\" height=\"158\" src=\"https://...   \n",
       "2720  <iframe width=\"280\" height=\"158\" src=\"https://...   \n",
       "2721  <iframe width=\"280\" height=\"158\" src=\"https://...   \n",
       "2722  <iframe width=\"280\" height=\"158\" src=\"https://...   \n",
       "\n",
       "                                         VimeoVideoHTML  \\\n",
       "0     <iframe src=https://player.vimeo.com/video/345...   \n",
       "1     <iframe src=https://player.vimeo.com/video/344...   \n",
       "2     <iframe src=https://player.vimeo.com/video/345...   \n",
       "3     <iframe src=https://player.vimeo.com/video/345...   \n",
       "4     <iframe src=https://player.vimeo.com/video/342...   \n",
       "...                                                 ...   \n",
       "2718  <iframe src=https://player.vimeo.com/video/345...   \n",
       "2719  <iframe src=https://player.vimeo.com/video/345...   \n",
       "2720  <iframe src=https://player.vimeo.com/video/346...   \n",
       "2721  <iframe src=https://player.vimeo.com/video/345...   \n",
       "2722  <iframe src=https://player.vimeo.com/video/345...   \n",
       "\n",
       "                                    VimeoVideo  SignFrequency(M)  ...  \\\n",
       "0     https://player.vimeo.com/video/345587917             3.034  ...   \n",
       "1     https://player.vimeo.com/video/344399314             5.120  ...   \n",
       "2     https://player.vimeo.com/video/345588916             4.267  ...   \n",
       "3     https://player.vimeo.com/video/345589804             4.133  ...   \n",
       "4     https://player.vimeo.com/video/342308099             4.273  ...   \n",
       "...                                        ...               ...  ...   \n",
       "2718  https://player.vimeo.com/video/345983725             4.192  ...   \n",
       "2719  https://player.vimeo.com/video/345804301             3.148  ...   \n",
       "2720  https://player.vimeo.com/video/346067693             3.533  ...   \n",
       "2721  https://player.vimeo.com/video/345555455             3.958  ...   \n",
       "2722  https://player.vimeo.com/video/345805379             4.333  ...   \n",
       "\n",
       "      Iconicity(M)  Iconicity(SD)  Iconicity(N)  \\\n",
       "0            1.074          0.267          27.0   \n",
       "1            5.481          1.503          27.0   \n",
       "2            2.654          1.623          26.0   \n",
       "3            2.741          1.430          27.0   \n",
       "4            3.769          1.925          26.0   \n",
       "...            ...            ...           ...   \n",
       "2718         6.565          1.161          23.0   \n",
       "2719         6.394          1.029          33.0   \n",
       "2720         2.100          1.729          30.0   \n",
       "2721         4.667          2.187          30.0   \n",
       "2722         3.742          1.914          31.0   \n",
       "\n",
       "      Parameter.Neighborhood.Density.2.0  Neighborhood Density 2.0  \\\n",
       "0                                    383                         0   \n",
       "1                                    190                         4   \n",
       "2                                    129                         0   \n",
       "3                                     48                         4   \n",
       "4                                    158                         4   \n",
       "...                                  ...                       ...   \n",
       "2718                                 482                         5   \n",
       "2719                                 165                         0   \n",
       "2720                                 137                         3   \n",
       "2721                                 524                         0   \n",
       "2722                                 368                         0   \n",
       "\n",
       "      SignBankAnnotationID                        SignBankEnglishTranslations  \\\n",
       "0                   DOLLAR                          bill, cash, dollar, money   \n",
       "1             FIVE-DOLLARS                        dollar, five dollars, money   \n",
       "2          EIGHT-HOURSneut                   eight hours, 8 hours, hour, time   \n",
       "3              OCLOCK-NINE       9:00, 9 o'clock, nine o'clock, o'clock, time   \n",
       "4                      NaN                                                NaN   \n",
       "...                    ...                                                ...   \n",
       "2718                  ZERO                       0, none, number, zero, zilch   \n",
       "2719                ZIPPER                               coat, jacket, zipper   \n",
       "2720                   NaN                                                NaN   \n",
       "2721               ZOOM-IN  computer screen, enlarge, expand, make bigger,...   \n",
       "2722              ZOOM-OFF  leave, sprint, take off, zoom off, ZOOM-OFF, l...   \n",
       "\n",
       "      SignBankLemmaID  SignBankSemanticField  SignBankID  \n",
       "0            1_DOLLAR                   None      1268.0  \n",
       "1            5_DOLLAR                 Number      2436.0  \n",
       "2        NUMBER-HOURS                 Number      2437.0  \n",
       "3       OCLOCK-NUMBER                   None      2857.0  \n",
       "4                 NaN                    NaN         NaN  \n",
       "...               ...                    ...         ...  \n",
       "2718             ZERO                 Number      1478.0  \n",
       "2719           ZIPPER                   None        94.0  \n",
       "2720              NaN                    NaN         NaN  \n",
       "2721          ZOOM-IN                  Event      3114.0  \n",
       "2722         ZOOM-OFF                   None       329.0  \n",
       "\n",
       "[2723 rows x 192 columns]"
      ]
     },
     "execution_count": 5,
     "metadata": {},
     "output_type": "execute_result"
    }
   ],
   "source": [
    "df_sign"
   ]
  },
  {
   "cell_type": "code",
   "execution_count": 6,
   "metadata": {},
   "outputs": [
    {
     "data": {
      "text/plain": [
       "cry out, shout, scream, yell                                                    4\n",
       "canine, dog, puppy                                                              4\n",
       "helicopter                                                                      3\n",
       "chaos, chaotic, disrupt, hectic, mess, messed up, mess up, messy, thrown off    3\n",
       "especially, except, special, unique                                             3\n",
       "                                                                               ..\n",
       "fish                                                                            1\n",
       "bloody nose, have a cold, runny nose, runny-nose                                1\n",
       "Australia, continent, country, geography                                        1\n",
       "arrangement, configuration, constitution, construction, structure               1\n",
       "animal, donkey                                                                  1\n",
       "Name: SignBankEnglishTranslations, Length: 1803, dtype: int64"
      ]
     },
     "execution_count": 6,
     "metadata": {},
     "output_type": "execute_result"
    }
   ],
   "source": [
    "df_sign['SignBankEnglishTranslations'].value_counts()"
   ]
  },
  {
   "cell_type": "code",
   "execution_count": 7,
   "metadata": {},
   "outputs": [
    {
     "data": {
      "text/plain": [
       "array(['C_02_025', 'B_01_062', 'C_02_055', ..., 'E_03_042', 'B_02_056',\n",
       "       'D_01_057'], dtype=object)"
      ]
     },
     "execution_count": 7,
     "metadata": {},
     "output_type": "execute_result"
    }
   ],
   "source": [
    "df_default[\"Code\"].values"
   ]
  },
  {
   "cell_type": "markdown",
   "metadata": {},
   "source": [
    "## Community Analysis"
   ]
  },
  {
   "cell_type": "code",
   "execution_count": 15,
   "metadata": {
    "scrolled": true
   },
   "outputs": [
    {
     "data": {
      "text/html": [
       "<div>\n",
       "<style scoped>\n",
       "    .dataframe tbody tr th:only-of-type {\n",
       "        vertical-align: middle;\n",
       "    }\n",
       "\n",
       "    .dataframe tbody tr th {\n",
       "        vertical-align: top;\n",
       "    }\n",
       "\n",
       "    .dataframe thead th {\n",
       "        text-align: right;\n",
       "    }\n",
       "</style>\n",
       "<table border=\"1\" class=\"dataframe\">\n",
       "  <thead>\n",
       "    <tr style=\"text-align: right;\">\n",
       "      <th></th>\n",
       "      <th>target</th>\n",
       "      <th>source</th>\n",
       "      <th>num_matched_features</th>\n",
       "      <th>matched_features</th>\n",
       "      <th>num_missed_features</th>\n",
       "      <th>missed_features</th>\n",
       "    </tr>\n",
       "  </thead>\n",
       "  <tbody>\n",
       "    <tr>\n",
       "      <th>0</th>\n",
       "      <td>A_01_002</td>\n",
       "      <td>B_01_062</td>\n",
       "      <td>13</td>\n",
       "      <td>SelectedFingers.2.0, Flexion.2.0, FlexionChang...</td>\n",
       "      <td>0</td>\n",
       "      <td>NaN</td>\n",
       "    </tr>\n",
       "    <tr>\n",
       "      <th>1</th>\n",
       "      <td>A_01_002</td>\n",
       "      <td>C_03_023</td>\n",
       "      <td>12</td>\n",
       "      <td>SelectedFingers.2.0, FlexionChange.2.0, Spread...</td>\n",
       "      <td>1</td>\n",
       "      <td>Flexion.2.0</td>\n",
       "    </tr>\n",
       "    <tr>\n",
       "      <th>2</th>\n",
       "      <td>A_01_002</td>\n",
       "      <td>F_02_088</td>\n",
       "      <td>12</td>\n",
       "      <td>Flexion.2.0, FlexionChange.2.0, Spread.2.0, Sp...</td>\n",
       "      <td>1</td>\n",
       "      <td>SelectedFingers.2.0</td>\n",
       "    </tr>\n",
       "    <tr>\n",
       "      <th>3</th>\n",
       "      <td>A_01_002</td>\n",
       "      <td>H_03_004</td>\n",
       "      <td>12</td>\n",
       "      <td>SelectedFingers.2.0, Flexion.2.0, FlexionChang...</td>\n",
       "      <td>1</td>\n",
       "      <td>ThumbPosition.2.0</td>\n",
       "    </tr>\n",
       "    <tr>\n",
       "      <th>4</th>\n",
       "      <td>A_01_002</td>\n",
       "      <td>J_03_046</td>\n",
       "      <td>13</td>\n",
       "      <td>SelectedFingers.2.0, Flexion.2.0, FlexionChang...</td>\n",
       "      <td>0</td>\n",
       "      <td>NaN</td>\n",
       "    </tr>\n",
       "  </tbody>\n",
       "</table>\n",
       "</div>"
      ],
      "text/plain": [
       "     target    source  num_matched_features  \\\n",
       "0  A_01_002  B_01_062                    13   \n",
       "1  A_01_002  C_03_023                    12   \n",
       "2  A_01_002  F_02_088                    12   \n",
       "3  A_01_002  H_03_004                    12   \n",
       "4  A_01_002  J_03_046                    13   \n",
       "\n",
       "                                    matched_features  num_missed_features  \\\n",
       "0  SelectedFingers.2.0, Flexion.2.0, FlexionChang...                    0   \n",
       "1  SelectedFingers.2.0, FlexionChange.2.0, Spread...                    1   \n",
       "2  Flexion.2.0, FlexionChange.2.0, Spread.2.0, Sp...                    1   \n",
       "3  SelectedFingers.2.0, Flexion.2.0, FlexionChang...                    1   \n",
       "4  SelectedFingers.2.0, Flexion.2.0, FlexionChang...                    0   \n",
       "\n",
       "       missed_features  \n",
       "0                  NaN  \n",
       "1          Flexion.2.0  \n",
       "2  SelectedFingers.2.0  \n",
       "3    ThumbPosition.2.0  \n",
       "4                  NaN  "
      ]
     },
     "execution_count": 15,
     "metadata": {},
     "output_type": "execute_result"
    }
   ],
   "source": [
    "edges_df = pd.read_csv('../data/generated-data/default-neighbors.csv') \n",
    "edges_df = edges_df.rename(columns={\"neighbor\": \"source\"})\n",
    "edges_df.head()\n"
   ]
  },
  {
   "cell_type": "code",
   "execution_count": 16,
   "metadata": {},
   "outputs": [
    {
     "data": {
      "text/plain": [
       "(13238, 6)"
      ]
     },
     "execution_count": 16,
     "metadata": {},
     "output_type": "execute_result"
    }
   ],
   "source": [
    "edges_df.shape"
   ]
  },
  {
   "cell_type": "code",
   "execution_count": 17,
   "metadata": {},
   "outputs": [
    {
     "data": {
      "image/png": "[encoded data removed]",
      "text/plain": [
       "<Figure size 432x288 with 1 Axes>"
      ]
     },
     "metadata": {},
     "output_type": "display_data"
    }
   ],
   "source": [
    "g = nx.from_pandas_edgelist(edges_df, source='source', target='target') \n",
    "nx.draw(g)"
   ]
  },
  {
   "cell_type": "code",
   "execution_count": 20,
   "metadata": {},
   "outputs": [],
   "source": [
    "#first compute the best partition\n",
    "# from community import greedy_modularity_communities\n",
    "import community\n",
    "G = g\n",
    "\n",
    "#Two methods for community analysis\n",
    "# c = greedy_modularity_communities(G)\n",
    "partition = community.best_partition(G)"
   ]
  },
  {
   "cell_type": "code",
   "execution_count": 21,
   "metadata": {},
   "outputs": [
    {
     "data": {
      "image/png": "[encoded data removed]",
      "text/plain": [
       "<Figure size 432x288 with 1 Axes>"
      ]
     },
     "metadata": {},
     "output_type": "display_data"
    }
   ],
   "source": [
    "values = [partition.get(node) for node in G.nodes()]\n",
    "\n",
    "nx.draw_spring(G, cmap = plt.get_cmap('jet'), node_color = values, node_size=60, with_labels=False)"
   ]
  },
  {
   "cell_type": "code",
   "execution_count": null,
   "metadata": {},
   "outputs": [],
   "source": []
  },
  {
   "cell_type": "code",
   "execution_count": 23,
   "metadata": {},
   "outputs": [],
   "source": [
    "# num_nodes = 0\n",
    "# for community in c:\n",
    "#     num_nodes += len(community)\n",
    "# print(num_nodes)"
   ]
  },
  {
   "cell_type": "code",
   "execution_count": 24,
   "metadata": {},
   "outputs": [
    {
     "data": {
      "text/plain": [
       "1921"
      ]
     },
     "execution_count": 24,
     "metadata": {},
     "output_type": "execute_result"
    }
   ],
   "source": [
    "len(partition)"
   ]
  },
  {
   "cell_type": "code",
   "execution_count": 25,
   "metadata": {},
   "outputs": [
    {
     "name": "stdout",
     "output_type": "stream",
     "text": [
      "1921\n"
     ]
    },
    {
     "data": {
      "text/html": [
       "<div>\n",
       "<style scoped>\n",
       "    .dataframe tbody tr th:only-of-type {\n",
       "        vertical-align: middle;\n",
       "    }\n",
       "\n",
       "    .dataframe tbody tr th {\n",
       "        vertical-align: top;\n",
       "    }\n",
       "\n",
       "    .dataframe thead th {\n",
       "        text-align: right;\n",
       "    }\n",
       "</style>\n",
       "<table border=\"1\" class=\"dataframe\">\n",
       "  <thead>\n",
       "    <tr style=\"text-align: right;\">\n",
       "      <th></th>\n",
       "      <th>Code</th>\n",
       "      <th>group_id</th>\n",
       "    </tr>\n",
       "  </thead>\n",
       "  <tbody>\n",
       "    <tr>\n",
       "      <th>0</th>\n",
       "      <td>B_01_062</td>\n",
       "      <td>0</td>\n",
       "    </tr>\n",
       "    <tr>\n",
       "      <th>1</th>\n",
       "      <td>A_01_002</td>\n",
       "      <td>0</td>\n",
       "    </tr>\n",
       "    <tr>\n",
       "      <th>2</th>\n",
       "      <td>C_03_023</td>\n",
       "      <td>0</td>\n",
       "    </tr>\n",
       "    <tr>\n",
       "      <th>3</th>\n",
       "      <td>F_02_088</td>\n",
       "      <td>0</td>\n",
       "    </tr>\n",
       "    <tr>\n",
       "      <th>4</th>\n",
       "      <td>H_03_004</td>\n",
       "      <td>0</td>\n",
       "    </tr>\n",
       "  </tbody>\n",
       "</table>\n",
       "</div>"
      ],
      "text/plain": [
       "       Code  group_id\n",
       "0  B_01_062         0\n",
       "1  A_01_002         0\n",
       "2  C_03_023         0\n",
       "3  F_02_088         0\n",
       "4  H_03_004         0"
      ]
     },
     "execution_count": 25,
     "metadata": {},
     "output_type": "execute_result"
    }
   ],
   "source": [
    "#Noes only connected by edges. Does not include standalone nodes.\n",
    "\n",
    "list = partition.items()\n",
    "print(len(list))\n",
    "df_with_groupids = pd.DataFrame(list, columns=['Code', 'group_id'])\n",
    "df_with_groupids.head()"
   ]
  },
  {
   "cell_type": "code",
   "execution_count": 26,
   "metadata": {},
   "outputs": [
    {
     "name": "stdout",
     "output_type": "stream",
     "text": [
      "1921\n",
      "(13238, 6)\n",
      "(13238, 6)\n"
     ]
    },
    {
     "data": {
      "text/html": [
       "<div>\n",
       "<style scoped>\n",
       "    .dataframe tbody tr th:only-of-type {\n",
       "        vertical-align: middle;\n",
       "    }\n",
       "\n",
       "    .dataframe tbody tr th {\n",
       "        vertical-align: top;\n",
       "    }\n",
       "\n",
       "    .dataframe thead th {\n",
       "        text-align: right;\n",
       "    }\n",
       "</style>\n",
       "<table border=\"1\" class=\"dataframe\">\n",
       "  <thead>\n",
       "    <tr style=\"text-align: right;\">\n",
       "      <th></th>\n",
       "      <th>target</th>\n",
       "      <th>source</th>\n",
       "      <th>num_matched_features</th>\n",
       "      <th>matched_features</th>\n",
       "      <th>num_missed_features</th>\n",
       "      <th>missed_features</th>\n",
       "    </tr>\n",
       "  </thead>\n",
       "  <tbody>\n",
       "    <tr>\n",
       "      <th>0</th>\n",
       "      <td>A_01_002</td>\n",
       "      <td>B_01_062</td>\n",
       "      <td>13</td>\n",
       "      <td>SelectedFingers.2.0, Flexion.2.0, FlexionChang...</td>\n",
       "      <td>0</td>\n",
       "      <td>NaN</td>\n",
       "    </tr>\n",
       "    <tr>\n",
       "      <th>1</th>\n",
       "      <td>A_01_002</td>\n",
       "      <td>C_03_023</td>\n",
       "      <td>12</td>\n",
       "      <td>SelectedFingers.2.0, FlexionChange.2.0, Spread...</td>\n",
       "      <td>1</td>\n",
       "      <td>Flexion.2.0</td>\n",
       "    </tr>\n",
       "    <tr>\n",
       "      <th>2</th>\n",
       "      <td>A_01_002</td>\n",
       "      <td>F_02_088</td>\n",
       "      <td>12</td>\n",
       "      <td>Flexion.2.0, FlexionChange.2.0, Spread.2.0, Sp...</td>\n",
       "      <td>1</td>\n",
       "      <td>SelectedFingers.2.0</td>\n",
       "    </tr>\n",
       "    <tr>\n",
       "      <th>3</th>\n",
       "      <td>A_01_002</td>\n",
       "      <td>H_03_004</td>\n",
       "      <td>12</td>\n",
       "      <td>SelectedFingers.2.0, Flexion.2.0, FlexionChang...</td>\n",
       "      <td>1</td>\n",
       "      <td>ThumbPosition.2.0</td>\n",
       "    </tr>\n",
       "    <tr>\n",
       "      <th>4</th>\n",
       "      <td>A_01_002</td>\n",
       "      <td>J_03_046</td>\n",
       "      <td>13</td>\n",
       "      <td>SelectedFingers.2.0, Flexion.2.0, FlexionChang...</td>\n",
       "      <td>0</td>\n",
       "      <td>NaN</td>\n",
       "    </tr>\n",
       "  </tbody>\n",
       "</table>\n",
       "</div>"
      ],
      "text/plain": [
       "     target    source  num_matched_features  \\\n",
       "0  A_01_002  B_01_062                    13   \n",
       "1  A_01_002  C_03_023                    12   \n",
       "2  A_01_002  F_02_088                    12   \n",
       "3  A_01_002  H_03_004                    12   \n",
       "4  A_01_002  J_03_046                    13   \n",
       "\n",
       "                                    matched_features  num_missed_features  \\\n",
       "0  SelectedFingers.2.0, Flexion.2.0, FlexionChang...                    0   \n",
       "1  SelectedFingers.2.0, FlexionChange.2.0, Spread...                    1   \n",
       "2  Flexion.2.0, FlexionChange.2.0, Spread.2.0, Sp...                    1   \n",
       "3  SelectedFingers.2.0, Flexion.2.0, FlexionChang...                    1   \n",
       "4  SelectedFingers.2.0, Flexion.2.0, FlexionChang...                    0   \n",
       "\n",
       "       missed_features  \n",
       "0                  NaN  \n",
       "1          Flexion.2.0  \n",
       "2  SelectedFingers.2.0  \n",
       "3    ThumbPosition.2.0  \n",
       "4                  NaN  "
      ]
     },
     "execution_count": 26,
     "metadata": {},
     "output_type": "execute_result"
    }
   ],
   "source": [
    "# get edges only where source and target nodes belong to a valid community for now. This is to assign them group ids.\n",
    "nodes_in_communities = df_with_groupids['Code'].unique()\n",
    "edges_for_community_nodes_df = edges_df.loc[edges_df['source'].isin(nodes_in_communities) & edges_df['target'].isin(nodes_in_communities)]\n",
    "print(len(edges_for_community_nodes_df['source'].unique()))\n",
    "print(edges_df.shape)\n",
    "print(edges_for_community_nodes_df.shape)\n",
    "edges_for_community_nodes_df.head()"
   ]
  },
  {
   "cell_type": "code",
   "execution_count": 27,
   "metadata": {},
   "outputs": [
    {
     "name": "stdout",
     "output_type": "stream",
     "text": [
      "(2723, 194)\n"
     ]
    },
    {
     "data": {
      "text/html": [
       "<div>\n",
       "<style scoped>\n",
       "    .dataframe tbody tr th:only-of-type {\n",
       "        vertical-align: middle;\n",
       "    }\n",
       "\n",
       "    .dataframe tbody tr th {\n",
       "        vertical-align: top;\n",
       "    }\n",
       "\n",
       "    .dataframe thead th {\n",
       "        text-align: right;\n",
       "    }\n",
       "</style>\n",
       "<table border=\"1\" class=\"dataframe\">\n",
       "  <thead>\n",
       "    <tr style=\"text-align: right;\">\n",
       "      <th></th>\n",
       "      <th>EntryID</th>\n",
       "      <th>LemmaID</th>\n",
       "      <th>Code</th>\n",
       "      <th>Batch</th>\n",
       "      <th>List</th>\n",
       "      <th>Item</th>\n",
       "      <th>YouTube Video</th>\n",
       "      <th>VimeoVideoHTML</th>\n",
       "      <th>VimeoVideo</th>\n",
       "      <th>SignFrequency(M)</th>\n",
       "      <th>...</th>\n",
       "      <th>Iconicity(N)</th>\n",
       "      <th>Parameter.Neighborhood.Density.2.0</th>\n",
       "      <th>Neighborhood Density 2.0</th>\n",
       "      <th>SignBankAnnotationID</th>\n",
       "      <th>SignBankEnglishTranslations</th>\n",
       "      <th>SignBankLemmaID</th>\n",
       "      <th>SignBankSemanticField</th>\n",
       "      <th>SignBankID</th>\n",
       "      <th>Neighborhood Density</th>\n",
       "      <th>group_id</th>\n",
       "    </tr>\n",
       "  </thead>\n",
       "  <tbody>\n",
       "    <tr>\n",
       "      <th>0</th>\n",
       "      <td>1_dollar</td>\n",
       "      <td>1_dollar</td>\n",
       "      <td>C_02_025</td>\n",
       "      <td>C</td>\n",
       "      <td>2.0</td>\n",
       "      <td>25.0</td>\n",
       "      <td>&lt;iframe width=\"280\" height=\"158\" src=\"https://...</td>\n",
       "      <td>&lt;iframe src=https://player.vimeo.com/video/345...</td>\n",
       "      <td>https://player.vimeo.com/video/345587917</td>\n",
       "      <td>3.034</td>\n",
       "      <td>...</td>\n",
       "      <td>27.0</td>\n",
       "      <td>383</td>\n",
       "      <td>0</td>\n",
       "      <td>DOLLAR</td>\n",
       "      <td>bill, cash, dollar, money</td>\n",
       "      <td>1_DOLLAR</td>\n",
       "      <td>None</td>\n",
       "      <td>1268.0</td>\n",
       "      <td>0</td>\n",
       "      <td>NaN</td>\n",
       "    </tr>\n",
       "    <tr>\n",
       "      <th>1</th>\n",
       "      <td>5_dollars</td>\n",
       "      <td>5_dollars</td>\n",
       "      <td>B_01_062</td>\n",
       "      <td>B</td>\n",
       "      <td>1.0</td>\n",
       "      <td>62.0</td>\n",
       "      <td>&lt;iframe width=\"280\" height=\"158\" src=\"https://...</td>\n",
       "      <td>&lt;iframe src=https://player.vimeo.com/video/344...</td>\n",
       "      <td>https://player.vimeo.com/video/344399314</td>\n",
       "      <td>5.120</td>\n",
       "      <td>...</td>\n",
       "      <td>27.0</td>\n",
       "      <td>190</td>\n",
       "      <td>4</td>\n",
       "      <td>FIVE-DOLLARS</td>\n",
       "      <td>dollar, five dollars, money</td>\n",
       "      <td>5_DOLLAR</td>\n",
       "      <td>Number</td>\n",
       "      <td>2436.0</td>\n",
       "      <td>5</td>\n",
       "      <td>0.0</td>\n",
       "    </tr>\n",
       "    <tr>\n",
       "      <th>2</th>\n",
       "      <td>8_hour</td>\n",
       "      <td>8_hour</td>\n",
       "      <td>C_02_055</td>\n",
       "      <td>C</td>\n",
       "      <td>2.0</td>\n",
       "      <td>55.0</td>\n",
       "      <td>&lt;iframe width=\"280\" height=\"158\" src=\"https://...</td>\n",
       "      <td>&lt;iframe src=https://player.vimeo.com/video/345...</td>\n",
       "      <td>https://player.vimeo.com/video/345588916</td>\n",
       "      <td>4.267</td>\n",
       "      <td>...</td>\n",
       "      <td>26.0</td>\n",
       "      <td>129</td>\n",
       "      <td>0</td>\n",
       "      <td>EIGHT-HOURSneut</td>\n",
       "      <td>eight hours, 8 hours, hour, time</td>\n",
       "      <td>NUMBER-HOURS</td>\n",
       "      <td>Number</td>\n",
       "      <td>2437.0</td>\n",
       "      <td>0</td>\n",
       "      <td>NaN</td>\n",
       "    </tr>\n",
       "    <tr>\n",
       "      <th>3</th>\n",
       "      <td>9_oclock</td>\n",
       "      <td>9_oclock</td>\n",
       "      <td>C_02_080</td>\n",
       "      <td>C</td>\n",
       "      <td>2.0</td>\n",
       "      <td>80.0</td>\n",
       "      <td>&lt;iframe width=\"280\" height=\"158\" src=\"https://...</td>\n",
       "      <td>&lt;iframe src=https://player.vimeo.com/video/345...</td>\n",
       "      <td>https://player.vimeo.com/video/345589804</td>\n",
       "      <td>4.133</td>\n",
       "      <td>...</td>\n",
       "      <td>27.0</td>\n",
       "      <td>48</td>\n",
       "      <td>4</td>\n",
       "      <td>OCLOCK-NINE</td>\n",
       "      <td>9:00, 9 o'clock, nine o'clock, o'clock, time</td>\n",
       "      <td>OCLOCK-NUMBER</td>\n",
       "      <td>None</td>\n",
       "      <td>2857.0</td>\n",
       "      <td>2</td>\n",
       "      <td>130.0</td>\n",
       "    </tr>\n",
       "    <tr>\n",
       "      <th>4</th>\n",
       "      <td>a-line_bob</td>\n",
       "      <td>a-line_bob</td>\n",
       "      <td>K_03_127</td>\n",
       "      <td>NaN</td>\n",
       "      <td>NaN</td>\n",
       "      <td>NaN</td>\n",
       "      <td>NaN</td>\n",
       "      <td>&lt;iframe src=https://player.vimeo.com/video/342...</td>\n",
       "      <td>https://player.vimeo.com/video/342308099</td>\n",
       "      <td>4.273</td>\n",
       "      <td>...</td>\n",
       "      <td>26.0</td>\n",
       "      <td>158</td>\n",
       "      <td>4</td>\n",
       "      <td>NaN</td>\n",
       "      <td>NaN</td>\n",
       "      <td>NaN</td>\n",
       "      <td>NaN</td>\n",
       "      <td>NaN</td>\n",
       "      <td>3</td>\n",
       "      <td>168.0</td>\n",
       "    </tr>\n",
       "    <tr>\n",
       "      <th>5</th>\n",
       "      <td>a_little_bit</td>\n",
       "      <td>a_little_bit</td>\n",
       "      <td>H_03_025</td>\n",
       "      <td>H</td>\n",
       "      <td>3.0</td>\n",
       "      <td>25.0</td>\n",
       "      <td>&lt;iframe width=\"280\" height=\"158\" src=\"https://...</td>\n",
       "      <td>&lt;iframe src=https://player.vimeo.com/video/346...</td>\n",
       "      <td>https://player.vimeo.com/video/346887448</td>\n",
       "      <td>2.963</td>\n",
       "      <td>...</td>\n",
       "      <td>24.0</td>\n",
       "      <td>144</td>\n",
       "      <td>3</td>\n",
       "      <td>A-LITTLE-BIT</td>\n",
       "      <td>a little bit, little, few, minimal, scarce</td>\n",
       "      <td>A-LITTLE-BIT</td>\n",
       "      <td>Attribute</td>\n",
       "      <td>0.0</td>\n",
       "      <td>3</td>\n",
       "      <td>117.0</td>\n",
       "    </tr>\n",
       "    <tr>\n",
       "      <th>6</th>\n",
       "      <td>abbreviate</td>\n",
       "      <td>abbreviate</td>\n",
       "      <td>G_01_040</td>\n",
       "      <td>G1</td>\n",
       "      <td>1.0</td>\n",
       "      <td>40.0</td>\n",
       "      <td>&lt;iframe width=\"280\" height=\"158\" src=\"https://...</td>\n",
       "      <td>&lt;iframe src=https://player.vimeo.com/video/346...</td>\n",
       "      <td>https://player.vimeo.com/video/346610443</td>\n",
       "      <td>5.444</td>\n",
       "      <td>...</td>\n",
       "      <td>27.0</td>\n",
       "      <td>368</td>\n",
       "      <td>1</td>\n",
       "      <td>SHORT</td>\n",
       "      <td>brief, for a short time, quick, short, shortly</td>\n",
       "      <td>SHORT</td>\n",
       "      <td>Attribute</td>\n",
       "      <td>252.0</td>\n",
       "      <td>1</td>\n",
       "      <td>240.0</td>\n",
       "    </tr>\n",
       "    <tr>\n",
       "      <th>7</th>\n",
       "      <td>about_1</td>\n",
       "      <td>about</td>\n",
       "      <td>B_02_072</td>\n",
       "      <td>B</td>\n",
       "      <td>2.0</td>\n",
       "      <td>72.0</td>\n",
       "      <td>&lt;iframe width=\"280\" height=\"158\" src=\"https://...</td>\n",
       "      <td>&lt;iframe src=https://player.vimeo.com/video/345...</td>\n",
       "      <td>https://player.vimeo.com/video/345555837</td>\n",
       "      <td>5.480</td>\n",
       "      <td>...</td>\n",
       "      <td>30.0</td>\n",
       "      <td>129</td>\n",
       "      <td>2</td>\n",
       "      <td>ABOUTix</td>\n",
       "      <td>about, regarding, with reference to</td>\n",
       "      <td>ABOUT</td>\n",
       "      <td>Locative</td>\n",
       "      <td>2043.0</td>\n",
       "      <td>1</td>\n",
       "      <td>128.0</td>\n",
       "    </tr>\n",
       "    <tr>\n",
       "      <th>8</th>\n",
       "      <td>about_2</td>\n",
       "      <td>about</td>\n",
       "      <td>B_02_003</td>\n",
       "      <td>B</td>\n",
       "      <td>2.0</td>\n",
       "      <td>3.0</td>\n",
       "      <td>&lt;iframe width=\"280\" height=\"158\" src=\"https://...</td>\n",
       "      <td>&lt;iframe src=https://player.vimeo.com/video/345...</td>\n",
       "      <td>https://player.vimeo.com/video/345536316</td>\n",
       "      <td>3.522</td>\n",
       "      <td>...</td>\n",
       "      <td>30.0</td>\n",
       "      <td>129</td>\n",
       "      <td>0</td>\n",
       "      <td>ABOUTb</td>\n",
       "      <td>about, regarding, with reference to</td>\n",
       "      <td>ABOUT</td>\n",
       "      <td>Locative</td>\n",
       "      <td>2042.0</td>\n",
       "      <td>0</td>\n",
       "      <td>NaN</td>\n",
       "    </tr>\n",
       "    <tr>\n",
       "      <th>9</th>\n",
       "      <td>absolutely_nothing</td>\n",
       "      <td>absolutely_nothing</td>\n",
       "      <td>J_01_027</td>\n",
       "      <td>J</td>\n",
       "      <td>1.0</td>\n",
       "      <td>27.0</td>\n",
       "      <td>&lt;iframe width=\"280\" height=\"158\" src=\"https://...</td>\n",
       "      <td>&lt;iframe src=https://player.vimeo.com/video/346...</td>\n",
       "      <td>https://player.vimeo.com/video/346914407</td>\n",
       "      <td>2.957</td>\n",
       "      <td>...</td>\n",
       "      <td>24.0</td>\n",
       "      <td>232</td>\n",
       "      <td>3</td>\n",
       "      <td>ABSOLUTELY-NOTHING</td>\n",
       "      <td>absolutely nothing, all out, depleted, empty, ...</td>\n",
       "      <td>ABSOLUTELY-NOTHING</td>\n",
       "      <td>Attribute</td>\n",
       "      <td>2044.0</td>\n",
       "      <td>4</td>\n",
       "      <td>52.0</td>\n",
       "    </tr>\n",
       "    <tr>\n",
       "      <th>10</th>\n",
       "      <td>accent</td>\n",
       "      <td>accent</td>\n",
       "      <td>E_01_073</td>\n",
       "      <td>E1</td>\n",
       "      <td>1.0</td>\n",
       "      <td>73.0</td>\n",
       "      <td>&lt;iframe width=\"280\" height=\"158\" src=\"https://...</td>\n",
       "      <td>&lt;iframe src=https://player.vimeo.com/video/346...</td>\n",
       "      <td>https://player.vimeo.com/video/346053390</td>\n",
       "      <td>3.094</td>\n",
       "      <td>...</td>\n",
       "      <td>24.0</td>\n",
       "      <td>106</td>\n",
       "      <td>1</td>\n",
       "      <td>ACCENT</td>\n",
       "      <td>accent, dialect, language, regional language</td>\n",
       "      <td>ACCENT</td>\n",
       "      <td>Attribute</td>\n",
       "      <td>584.0</td>\n",
       "      <td>0</td>\n",
       "      <td>NaN</td>\n",
       "    </tr>\n",
       "    <tr>\n",
       "      <th>11</th>\n",
       "      <td>accept</td>\n",
       "      <td>accept</td>\n",
       "      <td>H_02_042</td>\n",
       "      <td>H</td>\n",
       "      <td>2.0</td>\n",
       "      <td>42.0</td>\n",
       "      <td>&lt;iframe width=\"280\" height=\"158\" src=\"https://...</td>\n",
       "      <td>&lt;iframe src=https://player.vimeo.com/video/346...</td>\n",
       "      <td>https://player.vimeo.com/video/346802940</td>\n",
       "      <td>5.500</td>\n",
       "      <td>...</td>\n",
       "      <td>23.0</td>\n",
       "      <td>140</td>\n",
       "      <td>1</td>\n",
       "      <td>ACCEPT</td>\n",
       "      <td>accept, adopt, agree to, embrace, own, passive...</td>\n",
       "      <td>ACCEPT</td>\n",
       "      <td>Event</td>\n",
       "      <td>2045.0</td>\n",
       "      <td>0</td>\n",
       "      <td>NaN</td>\n",
       "    </tr>\n",
       "    <tr>\n",
       "      <th>12</th>\n",
       "      <td>access</td>\n",
       "      <td>access</td>\n",
       "      <td>H_02_086</td>\n",
       "      <td>H</td>\n",
       "      <td>2.0</td>\n",
       "      <td>86.0</td>\n",
       "      <td>&lt;iframe width=\"280\" height=\"158\" src=\"https://...</td>\n",
       "      <td>&lt;iframe src=https://player.vimeo.com/video/346...</td>\n",
       "      <td>https://player.vimeo.com/video/346883874</td>\n",
       "      <td>5.036</td>\n",
       "      <td>...</td>\n",
       "      <td>23.0</td>\n",
       "      <td>459</td>\n",
       "      <td>6</td>\n",
       "      <td>ACCESS</td>\n",
       "      <td>access, accessible, accessibility, admission, ...</td>\n",
       "      <td>ACCESS</td>\n",
       "      <td>-</td>\n",
       "      <td>2046.0</td>\n",
       "      <td>1</td>\n",
       "      <td>198.0</td>\n",
       "    </tr>\n",
       "    <tr>\n",
       "      <th>13</th>\n",
       "      <td>accident</td>\n",
       "      <td>accident</td>\n",
       "      <td>B_02_059</td>\n",
       "      <td>B</td>\n",
       "      <td>2.0</td>\n",
       "      <td>59.0</td>\n",
       "      <td>&lt;iframe width=\"280\" height=\"158\" src=\"https://...</td>\n",
       "      <td>&lt;iframe src=https://player.vimeo.com/video/345...</td>\n",
       "      <td>https://player.vimeo.com/video/345555544</td>\n",
       "      <td>4.120</td>\n",
       "      <td>...</td>\n",
       "      <td>30.0</td>\n",
       "      <td>512</td>\n",
       "      <td>1</td>\n",
       "      <td>ACCIDENT</td>\n",
       "      <td>accident, collide, crash, hit, oops, vehicle, ...</td>\n",
       "      <td>ACCIDENT</td>\n",
       "      <td>Event</td>\n",
       "      <td>2047.0</td>\n",
       "      <td>1</td>\n",
       "      <td>125.0</td>\n",
       "    </tr>\n",
       "    <tr>\n",
       "      <th>14</th>\n",
       "      <td>accomplish</td>\n",
       "      <td>accomplish</td>\n",
       "      <td>C_02_085</td>\n",
       "      <td>C</td>\n",
       "      <td>2.0</td>\n",
       "      <td>85.0</td>\n",
       "      <td>&lt;iframe width=\"280\" height=\"158\" src=\"https://...</td>\n",
       "      <td>&lt;iframe src=https://player.vimeo.com/video/345...</td>\n",
       "      <td>https://player.vimeo.com/video/345590018</td>\n",
       "      <td>4.467</td>\n",
       "      <td>...</td>\n",
       "      <td>27.0</td>\n",
       "      <td>469</td>\n",
       "      <td>0</td>\n",
       "      <td>SUCCEED</td>\n",
       "      <td>accomplish, at last, effective, finally, pah, ...</td>\n",
       "      <td>ACCOMPLISH</td>\n",
       "      <td>None</td>\n",
       "      <td>453.0</td>\n",
       "      <td>1</td>\n",
       "      <td>166.0</td>\n",
       "    </tr>\n",
       "    <tr>\n",
       "      <th>15</th>\n",
       "      <td>accordion</td>\n",
       "      <td>accordion</td>\n",
       "      <td>F_02_048</td>\n",
       "      <td>F2</td>\n",
       "      <td>2.0</td>\n",
       "      <td>48.0</td>\n",
       "      <td>&lt;iframe width=\"280\" height=\"158\" src=\"https://...</td>\n",
       "      <td>&lt;iframe src=https://player.vimeo.com/video/346...</td>\n",
       "      <td>https://player.vimeo.com/video/346495091</td>\n",
       "      <td>1.737</td>\n",
       "      <td>...</td>\n",
       "      <td>31.0</td>\n",
       "      <td>524</td>\n",
       "      <td>7</td>\n",
       "      <td>ACCORDION</td>\n",
       "      <td>accordion, musical instrument</td>\n",
       "      <td>ACCORDION</td>\n",
       "      <td>None</td>\n",
       "      <td>3331.0</td>\n",
       "      <td>10</td>\n",
       "      <td>41.0</td>\n",
       "    </tr>\n",
       "    <tr>\n",
       "      <th>16</th>\n",
       "      <td>accountant</td>\n",
       "      <td>accountant</td>\n",
       "      <td>A_03_044</td>\n",
       "      <td>A</td>\n",
       "      <td>3.0</td>\n",
       "      <td>44.0</td>\n",
       "      <td>&lt;iframe width=\"280\" height=\"158\" src=\"https://...</td>\n",
       "      <td>&lt;iframe src=https://player.vimeo.com/video/344...</td>\n",
       "      <td>https://player.vimeo.com/video/344228699</td>\n",
       "      <td>3.240</td>\n",
       "      <td>...</td>\n",
       "      <td>21.0</td>\n",
       "      <td>397</td>\n",
       "      <td>6</td>\n",
       "      <td>ACCOUNTANT</td>\n",
       "      <td>accountant, count, money, person</td>\n",
       "      <td>ACCOUNTANT</td>\n",
       "      <td>People</td>\n",
       "      <td>2439.0</td>\n",
       "      <td>6</td>\n",
       "      <td>87.0</td>\n",
       "    </tr>\n",
       "    <tr>\n",
       "      <th>17</th>\n",
       "      <td>acquire</td>\n",
       "      <td>acquire</td>\n",
       "      <td>H_01_034</td>\n",
       "      <td>H</td>\n",
       "      <td>1.0</td>\n",
       "      <td>34.0</td>\n",
       "      <td>&lt;iframe width=\"280\" height=\"158\" src=\"https://...</td>\n",
       "      <td>&lt;iframe src=https://player.vimeo.com/video/346...</td>\n",
       "      <td>https://player.vimeo.com/video/346791147</td>\n",
       "      <td>5.250</td>\n",
       "      <td>...</td>\n",
       "      <td>20.0</td>\n",
       "      <td>449</td>\n",
       "      <td>3</td>\n",
       "      <td>ACQUIRE</td>\n",
       "      <td>acquire, acquisition, pick up</td>\n",
       "      <td>ACQUIRE</td>\n",
       "      <td>Event</td>\n",
       "      <td>2048.0</td>\n",
       "      <td>3</td>\n",
       "      <td>167.0</td>\n",
       "    </tr>\n",
       "    <tr>\n",
       "      <th>18</th>\n",
       "      <td>act</td>\n",
       "      <td>act</td>\n",
       "      <td>B_02_038</td>\n",
       "      <td>B</td>\n",
       "      <td>2.0</td>\n",
       "      <td>38.0</td>\n",
       "      <td>&lt;iframe width=\"280\" height=\"158\" src=\"https://...</td>\n",
       "      <td>&lt;iframe src=https://player.vimeo.com/video/345...</td>\n",
       "      <td>https://player.vimeo.com/video/345537677</td>\n",
       "      <td>4.280</td>\n",
       "      <td>...</td>\n",
       "      <td>30.0</td>\n",
       "      <td>58</td>\n",
       "      <td>8</td>\n",
       "      <td>ACT</td>\n",
       "      <td>act, drama, perform, performance, put on a pla...</td>\n",
       "      <td>ACT</td>\n",
       "      <td>Event</td>\n",
       "      <td>5.0</td>\n",
       "      <td>2</td>\n",
       "      <td>60.0</td>\n",
       "    </tr>\n",
       "    <tr>\n",
       "      <th>19</th>\n",
       "      <td>action</td>\n",
       "      <td>action</td>\n",
       "      <td>C_01_026</td>\n",
       "      <td>C</td>\n",
       "      <td>1.0</td>\n",
       "      <td>26.0</td>\n",
       "      <td>&lt;iframe width=\"280\" height=\"158\" src=\"https://...</td>\n",
       "      <td>&lt;iframe src=https://player.vimeo.com/video/345...</td>\n",
       "      <td>https://player.vimeo.com/video/345577398</td>\n",
       "      <td>4.533</td>\n",
       "      <td>...</td>\n",
       "      <td>30.0</td>\n",
       "      <td>126</td>\n",
       "      <td>2</td>\n",
       "      <td>ACTION</td>\n",
       "      <td>act, action, activity, behavior, do, event</td>\n",
       "      <td>ACTION</td>\n",
       "      <td>None</td>\n",
       "      <td>2440.0</td>\n",
       "      <td>5</td>\n",
       "      <td>2.0</td>\n",
       "    </tr>\n",
       "  </tbody>\n",
       "</table>\n",
       "<p>20 rows × 194 columns</p>\n",
       "</div>"
      ],
      "text/plain": [
       "               EntryID             LemmaID      Code Batch  List  Item  \\\n",
       "0             1_dollar            1_dollar  C_02_025     C   2.0  25.0   \n",
       "1            5_dollars           5_dollars  B_01_062     B   1.0  62.0   \n",
       "2               8_hour              8_hour  C_02_055     C   2.0  55.0   \n",
       "3             9_oclock            9_oclock  C_02_080     C   2.0  80.0   \n",
       "4           a-line_bob          a-line_bob  K_03_127   NaN   NaN   NaN   \n",
       "5         a_little_bit        a_little_bit  H_03_025     H   3.0  25.0   \n",
       "6           abbreviate          abbreviate  G_01_040    G1   1.0  40.0   \n",
       "7              about_1               about  B_02_072     B   2.0  72.0   \n",
       "8              about_2               about  B_02_003     B   2.0   3.0   \n",
       "9   absolutely_nothing  absolutely_nothing  J_01_027     J   1.0  27.0   \n",
       "10              accent              accent  E_01_073    E1   1.0  73.0   \n",
       "11              accept              accept  H_02_042     H   2.0  42.0   \n",
       "12              access              access  H_02_086     H   2.0  86.0   \n",
       "13            accident            accident  B_02_059     B   2.0  59.0   \n",
       "14          accomplish          accomplish  C_02_085     C   2.0  85.0   \n",
       "15           accordion           accordion  F_02_048    F2   2.0  48.0   \n",
       "16          accountant          accountant  A_03_044     A   3.0  44.0   \n",
       "17             acquire             acquire  H_01_034     H   1.0  34.0   \n",
       "18                 act                 act  B_02_038     B   2.0  38.0   \n",
       "19              action              action  C_01_026     C   1.0  26.0   \n",
       "\n",
       "                                        YouTube Video  \\\n",
       "0   <iframe width=\"280\" height=\"158\" src=\"https://...   \n",
       "1   <iframe width=\"280\" height=\"158\" src=\"https://...   \n",
       "2   <iframe width=\"280\" height=\"158\" src=\"https://...   \n",
       "3   <iframe width=\"280\" height=\"158\" src=\"https://...   \n",
       "4                                                 NaN   \n",
       "5   <iframe width=\"280\" height=\"158\" src=\"https://...   \n",
       "6   <iframe width=\"280\" height=\"158\" src=\"https://...   \n",
       "7   <iframe width=\"280\" height=\"158\" src=\"https://...   \n",
       "8   <iframe width=\"280\" height=\"158\" src=\"https://...   \n",
       "9   <iframe width=\"280\" height=\"158\" src=\"https://...   \n",
       "10  <iframe width=\"280\" height=\"158\" src=\"https://...   \n",
       "11  <iframe width=\"280\" height=\"158\" src=\"https://...   \n",
       "12  <iframe width=\"280\" height=\"158\" src=\"https://...   \n",
       "13  <iframe width=\"280\" height=\"158\" src=\"https://...   \n",
       "14  <iframe width=\"280\" height=\"158\" src=\"https://...   \n",
       "15  <iframe width=\"280\" height=\"158\" src=\"https://...   \n",
       "16  <iframe width=\"280\" height=\"158\" src=\"https://...   \n",
       "17  <iframe width=\"280\" height=\"158\" src=\"https://...   \n",
       "18  <iframe width=\"280\" height=\"158\" src=\"https://...   \n",
       "19  <iframe width=\"280\" height=\"158\" src=\"https://...   \n",
       "\n",
       "                                       VimeoVideoHTML  \\\n",
       "0   <iframe src=https://player.vimeo.com/video/345...   \n",
       "1   <iframe src=https://player.vimeo.com/video/344...   \n",
       "2   <iframe src=https://player.vimeo.com/video/345...   \n",
       "3   <iframe src=https://player.vimeo.com/video/345...   \n",
       "4   <iframe src=https://player.vimeo.com/video/342...   \n",
       "5   <iframe src=https://player.vimeo.com/video/346...   \n",
       "6   <iframe src=https://player.vimeo.com/video/346...   \n",
       "7   <iframe src=https://player.vimeo.com/video/345...   \n",
       "8   <iframe src=https://player.vimeo.com/video/345...   \n",
       "9   <iframe src=https://player.vimeo.com/video/346...   \n",
       "10  <iframe src=https://player.vimeo.com/video/346...   \n",
       "11  <iframe src=https://player.vimeo.com/video/346...   \n",
       "12  <iframe src=https://player.vimeo.com/video/346...   \n",
       "13  <iframe src=https://player.vimeo.com/video/345...   \n",
       "14  <iframe src=https://player.vimeo.com/video/345...   \n",
       "15  <iframe src=https://player.vimeo.com/video/346...   \n",
       "16  <iframe src=https://player.vimeo.com/video/344...   \n",
       "17  <iframe src=https://player.vimeo.com/video/346...   \n",
       "18  <iframe src=https://player.vimeo.com/video/345...   \n",
       "19  <iframe src=https://player.vimeo.com/video/345...   \n",
       "\n",
       "                                  VimeoVideo  SignFrequency(M)  ...  \\\n",
       "0   https://player.vimeo.com/video/345587917             3.034  ...   \n",
       "1   https://player.vimeo.com/video/344399314             5.120  ...   \n",
       "2   https://player.vimeo.com/video/345588916             4.267  ...   \n",
       "3   https://player.vimeo.com/video/345589804             4.133  ...   \n",
       "4   https://player.vimeo.com/video/342308099             4.273  ...   \n",
       "5   https://player.vimeo.com/video/346887448             2.963  ...   \n",
       "6   https://player.vimeo.com/video/346610443             5.444  ...   \n",
       "7   https://player.vimeo.com/video/345555837             5.480  ...   \n",
       "8   https://player.vimeo.com/video/345536316             3.522  ...   \n",
       "9   https://player.vimeo.com/video/346914407             2.957  ...   \n",
       "10  https://player.vimeo.com/video/346053390             3.094  ...   \n",
       "11  https://player.vimeo.com/video/346802940             5.500  ...   \n",
       "12  https://player.vimeo.com/video/346883874             5.036  ...   \n",
       "13  https://player.vimeo.com/video/345555544             4.120  ...   \n",
       "14  https://player.vimeo.com/video/345590018             4.467  ...   \n",
       "15  https://player.vimeo.com/video/346495091             1.737  ...   \n",
       "16  https://player.vimeo.com/video/344228699             3.240  ...   \n",
       "17  https://player.vimeo.com/video/346791147             5.250  ...   \n",
       "18  https://player.vimeo.com/video/345537677             4.280  ...   \n",
       "19  https://player.vimeo.com/video/345577398             4.533  ...   \n",
       "\n",
       "    Iconicity(N)  Parameter.Neighborhood.Density.2.0  \\\n",
       "0           27.0                                 383   \n",
       "1           27.0                                 190   \n",
       "2           26.0                                 129   \n",
       "3           27.0                                  48   \n",
       "4           26.0                                 158   \n",
       "5           24.0                                 144   \n",
       "6           27.0                                 368   \n",
       "7           30.0                                 129   \n",
       "8           30.0                                 129   \n",
       "9           24.0                                 232   \n",
       "10          24.0                                 106   \n",
       "11          23.0                                 140   \n",
       "12          23.0                                 459   \n",
       "13          30.0                                 512   \n",
       "14          27.0                                 469   \n",
       "15          31.0                                 524   \n",
       "16          21.0                                 397   \n",
       "17          20.0                                 449   \n",
       "18          30.0                                  58   \n",
       "19          30.0                                 126   \n",
       "\n",
       "    Neighborhood Density 2.0  SignBankAnnotationID  \\\n",
       "0                          0                DOLLAR   \n",
       "1                          4          FIVE-DOLLARS   \n",
       "2                          0       EIGHT-HOURSneut   \n",
       "3                          4           OCLOCK-NINE   \n",
       "4                          4                   NaN   \n",
       "5                          3          A-LITTLE-BIT   \n",
       "6                          1                 SHORT   \n",
       "7                          2               ABOUTix   \n",
       "8                          0                ABOUTb   \n",
       "9                          3    ABSOLUTELY-NOTHING   \n",
       "10                         1                ACCENT   \n",
       "11                         1                ACCEPT   \n",
       "12                         6                ACCESS   \n",
       "13                         1              ACCIDENT   \n",
       "14                         0               SUCCEED   \n",
       "15                         7             ACCORDION   \n",
       "16                         6            ACCOUNTANT   \n",
       "17                         3               ACQUIRE   \n",
       "18                         8                   ACT   \n",
       "19                         2                ACTION   \n",
       "\n",
       "                          SignBankEnglishTranslations     SignBankLemmaID  \\\n",
       "0                           bill, cash, dollar, money            1_DOLLAR   \n",
       "1                         dollar, five dollars, money            5_DOLLAR   \n",
       "2                    eight hours, 8 hours, hour, time        NUMBER-HOURS   \n",
       "3        9:00, 9 o'clock, nine o'clock, o'clock, time       OCLOCK-NUMBER   \n",
       "4                                                 NaN                 NaN   \n",
       "5          a little bit, little, few, minimal, scarce        A-LITTLE-BIT   \n",
       "6      brief, for a short time, quick, short, shortly               SHORT   \n",
       "7                 about, regarding, with reference to               ABOUT   \n",
       "8                 about, regarding, with reference to               ABOUT   \n",
       "9   absolutely nothing, all out, depleted, empty, ...  ABSOLUTELY-NOTHING   \n",
       "10       accent, dialect, language, regional language              ACCENT   \n",
       "11  accept, adopt, agree to, embrace, own, passive...              ACCEPT   \n",
       "12  access, accessible, accessibility, admission, ...              ACCESS   \n",
       "13  accident, collide, crash, hit, oops, vehicle, ...            ACCIDENT   \n",
       "14  accomplish, at last, effective, finally, pah, ...          ACCOMPLISH   \n",
       "15                      accordion, musical instrument           ACCORDION   \n",
       "16                   accountant, count, money, person          ACCOUNTANT   \n",
       "17                      acquire, acquisition, pick up             ACQUIRE   \n",
       "18  act, drama, perform, performance, put on a pla...                 ACT   \n",
       "19         act, action, activity, behavior, do, event              ACTION   \n",
       "\n",
       "    SignBankSemanticField  SignBankID  Neighborhood Density  group_id  \n",
       "0                    None      1268.0                     0       NaN  \n",
       "1                  Number      2436.0                     5       0.0  \n",
       "2                  Number      2437.0                     0       NaN  \n",
       "3                    None      2857.0                     2     130.0  \n",
       "4                     NaN         NaN                     3     168.0  \n",
       "5               Attribute         0.0                     3     117.0  \n",
       "6               Attribute       252.0                     1     240.0  \n",
       "7                Locative      2043.0                     1     128.0  \n",
       "8                Locative      2042.0                     0       NaN  \n",
       "9               Attribute      2044.0                     4      52.0  \n",
       "10              Attribute       584.0                     0       NaN  \n",
       "11                  Event      2045.0                     0       NaN  \n",
       "12                      -      2046.0                     1     198.0  \n",
       "13                  Event      2047.0                     1     125.0  \n",
       "14                   None       453.0                     1     166.0  \n",
       "15                   None      3331.0                    10      41.0  \n",
       "16                 People      2439.0                     6      87.0  \n",
       "17                  Event      2048.0                     3     167.0  \n",
       "18                  Event         5.0                     2      60.0  \n",
       "19                   None      2440.0                     5       2.0  \n",
       "\n",
       "[20 rows x 194 columns]"
      ]
     },
     "execution_count": 27,
     "metadata": {},
     "output_type": "execute_result"
    }
   ],
   "source": [
    "\n",
    "df_merged = pd.merge(df_default, df_with_groupids,how='left', on=['Code'])\n",
    "print(df_merged.shape)\n",
    "# print(df_merged.columns.values)\n",
    "df_merged.head(20)"
   ]
  },
  {
   "cell_type": "code",
   "execution_count": 28,
   "metadata": {},
   "outputs": [
    {
     "name": "stdout",
     "output_type": "stream",
     "text": [
      "0       1000.0\n",
      "1          0.0\n",
      "2       1000.0\n",
      "3        130.0\n",
      "4        168.0\n",
      "         ...  \n",
      "2718      17.0\n",
      "2719    1000.0\n",
      "2720       9.0\n",
      "2721    1000.0\n",
      "2722    1000.0\n",
      "Name: group_id, Length: 2723, dtype: float64\n"
     ]
    },
    {
     "data": {
      "text/plain": [
       "array([1000.,    0.,  130.,  168.,  117.,  240.,  128.,   52.,  198.,\n",
       "        125.,  166.,   41.,   87.,  167.,   60.,    2.,   12.,  176.,\n",
       "        254.,  103.,   86.,  127.,   10.,    4.,    9.,   64.,  177.,\n",
       "         17.,   77.,  196.,   55.,  146.,  139.,   97.,   89.,  101.,\n",
       "         92.,   13.,   24.,  179.,  141.,   81.,  154.,   59.,   38.,\n",
       "        170.,   29.,   21.,    1.,   45.,   51.,  192.,  100.,  152.,\n",
       "         82.,  121.,  195.,  231.,   94.,   33.,  249.,  109.,  120.,\n",
       "         69.,  115.,  214.,  215.,  187.,  257.,   36.,  147.,   88.,\n",
       "         27.,  272.,   44.,   99.,  248.,  197.,   95.,   16.,  238.,\n",
       "         49.,  155.,  144.,   65.,  227.,   22.,  164.,  213.,   28.,\n",
       "         85.,   66.,  110.,  131.,   68.,   32.,   56.,   18.,    5.,\n",
       "        270.,   11.,   90.,   19.,   15.,  126.,   72.,  162.,    8.,\n",
       "        134.,   23.,    3.,  222.,   40.,  178.,  216.,  209.,   47.,\n",
       "        206.,  150.,  190.,   20.,  123.,  265.,  207.,   37.,  188.,\n",
       "        174.,   70.,  156.,  118.,  182.,  236.,  212.,  211.,  113.,\n",
       "        258.,  124.,   42.,  266.,   71.,    7.,  151.,  132.,   43.,\n",
       "        246.,   46.,  253.,   79.,   30.,  230.,   50.,  239.,   34.,\n",
       "        228.,  119.,  175.,  149.,   76.,  201.,  112.,  204.,  143.,\n",
       "        122.,  235.,  184.,  261.,   78.,  241.,  259.,  255.,  225.,\n",
       "         62.,  148.,  163.,  157.,  105.,  267.,  224.,  208.,  200.,\n",
       "         98.,  172.,  180.,  210.,  221.,  116.,  205.,   54.,  142.,\n",
       "        171.,  263.,  250.,   53.,  233.,   26.,  165.,  223.,  271.,\n",
       "        218.,   39.,  161.,  136.,   73.,  242.,  219.,  102.,  234.,\n",
       "        226.,  133.,  244.,   63.,  191.,  140.,  245.,  153.,  183.,\n",
       "        199.,   74.,   48.,   35.,  181.,  159.,  158.,  160.,  193.,\n",
       "         93.,  107.,  243.,  268.,   83.,  111.,  189.,   84.,  247.,\n",
       "         96.,   25.,  269.,  104.,  256.,  173.,   80.,  203.,  260.,\n",
       "         31.,  169.,   14.,   57.,   91.,  108.,  251.,   58.,  135.,\n",
       "         75.,  262.,  229.,  237.,  220.,  186.,  232.,  252.,  129.,\n",
       "        185.,  137.,  217.,  145.,  114.,  194.,   61.,  202.,    6.,\n",
       "        138.,   67.,  106.,  264.])"
      ]
     },
     "execution_count": 28,
     "metadata": {},
     "output_type": "execute_result"
    }
   ],
   "source": [
    "values = {'group_id': 1000}\n",
    "df_merged = df_merged.fillna(value=values)\n",
    "\n",
    "print(df_merged['group_id'])\n",
    "unique_community_ids = df_merged['group_id'].unique()\n",
    "unique_community_ids"
   ]
  },
  {
   "cell_type": "code",
   "execution_count": 29,
   "metadata": {},
   "outputs": [
    {
     "data": {
      "text/plain": [
       "[{'group_id': 1000, 'color_code': '#5147c2'},\n",
       " {'group_id': 0.0, 'color_code': '#df76d6'},\n",
       " {'group_id': 130.0, 'color_code': '#f1afa4'},\n",
       " {'group_id': 168.0, 'color_code': '#45fd0d'},\n",
       " {'group_id': 117.0, 'color_code': '#4cc145'},\n",
       " {'group_id': 240.0, 'color_code': '#e096e4'},\n",
       " {'group_id': 128.0, 'color_code': '#e38dbe'},\n",
       " {'group_id': 52.0, 'color_code': '#b1693e'},\n",
       " {'group_id': 198.0, 'color_code': '#dd76df'},\n",
       " {'group_id': 125.0, 'color_code': '#7a1961'},\n",
       " {'group_id': 166.0, 'color_code': '#9f704e'},\n",
       " {'group_id': 41.0, 'color_code': '#ccea64'},\n",
       " {'group_id': 87.0, 'color_code': '#307e90'},\n",
       " {'group_id': 167.0, 'color_code': '#aa106d'},\n",
       " {'group_id': 60.0, 'color_code': '#d90c42'},\n",
       " {'group_id': 2.0, 'color_code': '#b1a0d1'},\n",
       " {'group_id': 12.0, 'color_code': '#631093'},\n",
       " {'group_id': 176.0, 'color_code': '#4edac3'},\n",
       " {'group_id': 254.0, 'color_code': '#951235'},\n",
       " {'group_id': 103.0, 'color_code': '#7929a0'},\n",
       " {'group_id': 86.0, 'color_code': '#a72e4b'},\n",
       " {'group_id': 127.0, 'color_code': '#55a616'},\n",
       " {'group_id': 10.0, 'color_code': '#0ad0ef'},\n",
       " {'group_id': 4.0, 'color_code': '#955871'},\n",
       " {'group_id': 9.0, 'color_code': '#964616'},\n",
       " {'group_id': 64.0, 'color_code': '#97f2c3'},\n",
       " {'group_id': 177.0, 'color_code': '#8fa8ca'},\n",
       " {'group_id': 17.0, 'color_code': '#d0ab15'},\n",
       " {'group_id': 77.0, 'color_code': '#3fa299'},\n",
       " {'group_id': 196.0, 'color_code': '#bd445d'},\n",
       " {'group_id': 55.0, 'color_code': '#b335da'},\n",
       " {'group_id': 146.0, 'color_code': '#34ccc2'},\n",
       " {'group_id': 139.0, 'color_code': '#fbb6ee'},\n",
       " {'group_id': 97.0, 'color_code': '#6e6480'},\n",
       " {'group_id': 89.0, 'color_code': '#2a3b67'},\n",
       " {'group_id': 101.0, 'color_code': '#cec018'},\n",
       " {'group_id': 92.0, 'color_code': '#c99d5a'},\n",
       " {'group_id': 13.0, 'color_code': '#ebe8f4'},\n",
       " {'group_id': 24.0, 'color_code': '#9b044f'},\n",
       " {'group_id': 179.0, 'color_code': '#dd04ef'},\n",
       " {'group_id': 141.0, 'color_code': '#226ece'},\n",
       " {'group_id': 81.0, 'color_code': '#171942'},\n",
       " {'group_id': 154.0, 'color_code': '#6e138c'},\n",
       " {'group_id': 59.0, 'color_code': '#13c6a5'},\n",
       " {'group_id': 38.0, 'color_code': '#987dbf'},\n",
       " {'group_id': 170.0, 'color_code': '#c0ab33'},\n",
       " {'group_id': 29.0, 'color_code': '#8d55f3'},\n",
       " {'group_id': 21.0, 'color_code': '#970082'},\n",
       " {'group_id': 1.0, 'color_code': '#488fb1'},\n",
       " {'group_id': 45.0, 'color_code': '#84fc44'},\n",
       " {'group_id': 51.0, 'color_code': '#ff4b2f'},\n",
       " {'group_id': 192.0, 'color_code': '#d4b948'},\n",
       " {'group_id': 100.0, 'color_code': '#6f156f'},\n",
       " {'group_id': 152.0, 'color_code': '#e15f82'},\n",
       " {'group_id': 82.0, 'color_code': '#edbe9c'},\n",
       " {'group_id': 121.0, 'color_code': '#29486a'},\n",
       " {'group_id': 195.0, 'color_code': '#a4e06f'},\n",
       " {'group_id': 231.0, 'color_code': '#7a62e9'},\n",
       " {'group_id': 94.0, 'color_code': '#45a508'},\n",
       " {'group_id': 33.0, 'color_code': '#7cb795'},\n",
       " {'group_id': 249.0, 'color_code': '#f6ab6f'},\n",
       " {'group_id': 109.0, 'color_code': '#13559f'},\n",
       " {'group_id': 120.0, 'color_code': '#630dc7'},\n",
       " {'group_id': 69.0, 'color_code': '#b73d1d'},\n",
       " {'group_id': 115.0, 'color_code': '#2cecee'},\n",
       " {'group_id': 214.0, 'color_code': '#133741'},\n",
       " {'group_id': 215.0, 'color_code': '#4e5f3c'},\n",
       " {'group_id': 187.0, 'color_code': '#e9be95'},\n",
       " {'group_id': 257.0, 'color_code': '#bb10be'},\n",
       " {'group_id': 36.0, 'color_code': '#052c47'},\n",
       " {'group_id': 147.0, 'color_code': '#97d74d'},\n",
       " {'group_id': 88.0, 'color_code': '#ae8768'},\n",
       " {'group_id': 27.0, 'color_code': '#1630a6'},\n",
       " {'group_id': 272.0, 'color_code': '#a21edd'},\n",
       " {'group_id': 44.0, 'color_code': '#6c237a'},\n",
       " {'group_id': 99.0, 'color_code': '#d72011'},\n",
       " {'group_id': 248.0, 'color_code': '#b4c70e'},\n",
       " {'group_id': 197.0, 'color_code': '#ece616'},\n",
       " {'group_id': 95.0, 'color_code': '#d88535'},\n",
       " {'group_id': 16.0, 'color_code': '#1a829b'},\n",
       " {'group_id': 238.0, 'color_code': '#2ad386'},\n",
       " {'group_id': 49.0, 'color_code': '#5130c1'},\n",
       " {'group_id': 155.0, 'color_code': '#f847df'},\n",
       " {'group_id': 144.0, 'color_code': '#b1502f'},\n",
       " {'group_id': 65.0, 'color_code': '#847127'},\n",
       " {'group_id': 227.0, 'color_code': '#d10785'},\n",
       " {'group_id': 22.0, 'color_code': '#5e0d3e'},\n",
       " {'group_id': 164.0, 'color_code': '#dc327c'},\n",
       " {'group_id': 213.0, 'color_code': '#dbeaf7'},\n",
       " {'group_id': 28.0, 'color_code': '#491678'},\n",
       " {'group_id': 85.0, 'color_code': '#69eccc'},\n",
       " {'group_id': 66.0, 'color_code': '#fd7ff1'},\n",
       " {'group_id': 110.0, 'color_code': '#cc9a62'},\n",
       " {'group_id': 131.0, 'color_code': '#080b9f'},\n",
       " {'group_id': 68.0, 'color_code': '#a6818f'},\n",
       " {'group_id': 32.0, 'color_code': '#3dc46b'},\n",
       " {'group_id': 56.0, 'color_code': '#9ab37c'},\n",
       " {'group_id': 18.0, 'color_code': '#2aa611'},\n",
       " {'group_id': 5.0, 'color_code': '#e0d29e'},\n",
       " {'group_id': 270.0, 'color_code': '#daaea5'},\n",
       " {'group_id': 11.0, 'color_code': '#428da6'},\n",
       " {'group_id': 90.0, 'color_code': '#7bdb78'},\n",
       " {'group_id': 19.0, 'color_code': '#315157'},\n",
       " {'group_id': 15.0, 'color_code': '#d07ea3'},\n",
       " {'group_id': 126.0, 'color_code': '#0bbcee'},\n",
       " {'group_id': 72.0, 'color_code': '#3bb861'},\n",
       " {'group_id': 162.0, 'color_code': '#2fbdc5'},\n",
       " {'group_id': 8.0, 'color_code': '#204ce8'},\n",
       " {'group_id': 134.0, 'color_code': '#96fb8f'},\n",
       " {'group_id': 23.0, 'color_code': '#6b90cc'},\n",
       " {'group_id': 3.0, 'color_code': '#3a42cc'},\n",
       " {'group_id': 222.0, 'color_code': '#8b40d8'},\n",
       " {'group_id': 40.0, 'color_code': '#84d315'},\n",
       " {'group_id': 178.0, 'color_code': '#fd88b3'},\n",
       " {'group_id': 216.0, 'color_code': '#60cd60'},\n",
       " {'group_id': 209.0, 'color_code': '#dfc159'},\n",
       " {'group_id': 47.0, 'color_code': '#d05e97'},\n",
       " {'group_id': 206.0, 'color_code': '#01ee68'},\n",
       " {'group_id': 150.0, 'color_code': '#600b0a'},\n",
       " {'group_id': 190.0, 'color_code': '#486d54'},\n",
       " {'group_id': 20.0, 'color_code': '#93e6d9'},\n",
       " {'group_id': 123.0, 'color_code': '#c555cf'},\n",
       " {'group_id': 265.0, 'color_code': '#30a002'},\n",
       " {'group_id': 207.0, 'color_code': '#c14c6d'},\n",
       " {'group_id': 37.0, 'color_code': '#ab4ce8'},\n",
       " {'group_id': 188.0, 'color_code': '#7e95dd'},\n",
       " {'group_id': 174.0, 'color_code': '#d0dd8a'},\n",
       " {'group_id': 70.0, 'color_code': '#2c0b9f'},\n",
       " {'group_id': 156.0, 'color_code': '#207e13'},\n",
       " {'group_id': 118.0, 'color_code': '#37eefa'},\n",
       " {'group_id': 182.0, 'color_code': '#0a3253'},\n",
       " {'group_id': 236.0, 'color_code': '#4fd443'},\n",
       " {'group_id': 212.0, 'color_code': '#b2817a'},\n",
       " {'group_id': 211.0, 'color_code': '#c7cb83'},\n",
       " {'group_id': 113.0, 'color_code': '#e80816'},\n",
       " {'group_id': 258.0, 'color_code': '#41d839'},\n",
       " {'group_id': 124.0, 'color_code': '#6fa273'},\n",
       " {'group_id': 42.0, 'color_code': '#c208db'},\n",
       " {'group_id': 266.0, 'color_code': '#14e1c5'},\n",
       " {'group_id': 71.0, 'color_code': '#7bf3b0'},\n",
       " {'group_id': 7.0, 'color_code': '#c56f0a'},\n",
       " {'group_id': 151.0, 'color_code': '#1688ac'},\n",
       " {'group_id': 132.0, 'color_code': '#2da4d5'},\n",
       " {'group_id': 43.0, 'color_code': '#c241ed'},\n",
       " {'group_id': 246.0, 'color_code': '#f44818'},\n",
       " {'group_id': 46.0, 'color_code': '#577993'},\n",
       " {'group_id': 253.0, 'color_code': '#383ca5'},\n",
       " {'group_id': 79.0, 'color_code': '#950966'},\n",
       " {'group_id': 30.0, 'color_code': '#4f149c'},\n",
       " {'group_id': 230.0, 'color_code': '#a37876'},\n",
       " {'group_id': 50.0, 'color_code': '#929dba'},\n",
       " {'group_id': 239.0, 'color_code': '#4eb052'},\n",
       " {'group_id': 34.0, 'color_code': '#8ec53c'},\n",
       " {'group_id': 228.0, 'color_code': '#5be6d9'},\n",
       " {'group_id': 119.0, 'color_code': '#8f5550'},\n",
       " {'group_id': 175.0, 'color_code': '#66fca9'},\n",
       " {'group_id': 149.0, 'color_code': '#2ea95c'},\n",
       " {'group_id': 76.0, 'color_code': '#8314a7'},\n",
       " {'group_id': 201.0, 'color_code': '#51edf4'},\n",
       " {'group_id': 112.0, 'color_code': '#2bc36d'},\n",
       " {'group_id': 204.0, 'color_code': '#9a174b'},\n",
       " {'group_id': 143.0, 'color_code': '#a02878'},\n",
       " {'group_id': 122.0, 'color_code': '#47cf3e'},\n",
       " {'group_id': 235.0, 'color_code': '#aba557'},\n",
       " {'group_id': 184.0, 'color_code': '#aace4a'},\n",
       " {'group_id': 261.0, 'color_code': '#c50221'},\n",
       " {'group_id': 78.0, 'color_code': '#681ffc'},\n",
       " {'group_id': 241.0, 'color_code': '#138caa'},\n",
       " {'group_id': 259.0, 'color_code': '#d8a98a'},\n",
       " {'group_id': 255.0, 'color_code': '#101078'},\n",
       " {'group_id': 225.0, 'color_code': '#6557ed'},\n",
       " {'group_id': 62.0, 'color_code': '#46bd72'},\n",
       " {'group_id': 148.0, 'color_code': '#ef3c73'},\n",
       " {'group_id': 163.0, 'color_code': '#44499f'},\n",
       " {'group_id': 157.0, 'color_code': '#b89173'},\n",
       " {'group_id': 105.0, 'color_code': '#738bbe'},\n",
       " {'group_id': 267.0, 'color_code': '#e5c936'},\n",
       " {'group_id': 224.0, 'color_code': '#f05657'},\n",
       " {'group_id': 208.0, 'color_code': '#b9e347'},\n",
       " {'group_id': 200.0, 'color_code': '#20f487'},\n",
       " {'group_id': 98.0, 'color_code': '#de4463'},\n",
       " {'group_id': 172.0, 'color_code': '#41d914'},\n",
       " {'group_id': 180.0, 'color_code': '#4496c5'},\n",
       " {'group_id': 210.0, 'color_code': '#9f56ee'},\n",
       " {'group_id': 221.0, 'color_code': '#4e665a'},\n",
       " {'group_id': 116.0, 'color_code': '#c4731d'},\n",
       " {'group_id': 205.0, 'color_code': '#90f62c'},\n",
       " {'group_id': 54.0, 'color_code': '#194f27'},\n",
       " {'group_id': 142.0, 'color_code': '#b85f0b'},\n",
       " {'group_id': 171.0, 'color_code': '#651251'},\n",
       " {'group_id': 263.0, 'color_code': '#f87922'},\n",
       " {'group_id': 250.0, 'color_code': '#289f5c'},\n",
       " {'group_id': 53.0, 'color_code': '#766bdd'},\n",
       " {'group_id': 233.0, 'color_code': '#6b50f8'},\n",
       " {'group_id': 26.0, 'color_code': '#d2a400'},\n",
       " {'group_id': 165.0, 'color_code': '#20a306'},\n",
       " {'group_id': 223.0, 'color_code': '#c60960'},\n",
       " {'group_id': 271.0, 'color_code': '#f759ed'},\n",
       " {'group_id': 218.0, 'color_code': '#88c2ab'},\n",
       " {'group_id': 39.0, 'color_code': '#d5f0a0'},\n",
       " {'group_id': 161.0, 'color_code': '#8ea943'},\n",
       " {'group_id': 136.0, 'color_code': '#dede7f'},\n",
       " {'group_id': 73.0, 'color_code': '#7f2c70'},\n",
       " {'group_id': 242.0, 'color_code': '#d3d8a6'},\n",
       " {'group_id': 219.0, 'color_code': '#58d729'},\n",
       " {'group_id': 102.0, 'color_code': '#30dcc0'},\n",
       " {'group_id': 234.0, 'color_code': '#4b7eb6'},\n",
       " {'group_id': 226.0, 'color_code': '#1bf7f4'},\n",
       " {'group_id': 133.0, 'color_code': '#0ebaac'},\n",
       " {'group_id': 244.0, 'color_code': '#7fbfd2'},\n",
       " {'group_id': 63.0, 'color_code': '#eb9bb1'},\n",
       " {'group_id': 191.0, 'color_code': '#c63e59'},\n",
       " {'group_id': 140.0, 'color_code': '#ea4b4c'},\n",
       " {'group_id': 245.0, 'color_code': '#acc8e7'},\n",
       " {'group_id': 153.0, 'color_code': '#8240df'},\n",
       " {'group_id': 183.0, 'color_code': '#07b70d'},\n",
       " {'group_id': 199.0, 'color_code': '#ee5e33'},\n",
       " {'group_id': 74.0, 'color_code': '#687a3f'},\n",
       " {'group_id': 48.0, 'color_code': '#3656e9'},\n",
       " {'group_id': 35.0, 'color_code': '#878717'},\n",
       " {'group_id': 181.0, 'color_code': '#beea86'},\n",
       " {'group_id': 159.0, 'color_code': '#0b8aef'},\n",
       " {'group_id': 158.0, 'color_code': '#a26588'},\n",
       " {'group_id': 160.0, 'color_code': '#b84e48'},\n",
       " {'group_id': 193.0, 'color_code': '#0942db'},\n",
       " {'group_id': 93.0, 'color_code': '#85f8bf'},\n",
       " {'group_id': 107.0, 'color_code': '#8353b4'},\n",
       " {'group_id': 243.0, 'color_code': '#d816d7'},\n",
       " {'group_id': 268.0, 'color_code': '#c7cf70'},\n",
       " {'group_id': 83.0, 'color_code': '#894bb8'},\n",
       " {'group_id': 111.0, 'color_code': '#0cee02'},\n",
       " {'group_id': 189.0, 'color_code': '#ccc608'},\n",
       " {'group_id': 84.0, 'color_code': '#2b6a1c'},\n",
       " {'group_id': 247.0, 'color_code': '#99c6b5'},\n",
       " {'group_id': 96.0, 'color_code': '#2880ab'},\n",
       " {'group_id': 25.0, 'color_code': '#2c673b'},\n",
       " {'group_id': 269.0, 'color_code': '#b93748'},\n",
       " {'group_id': 104.0, 'color_code': '#ee278d'},\n",
       " {'group_id': 256.0, 'color_code': '#6c28ac'},\n",
       " {'group_id': 173.0, 'color_code': '#a6ecf6'},\n",
       " {'group_id': 80.0, 'color_code': '#0ed196'},\n",
       " {'group_id': 203.0, 'color_code': '#ab33d8'},\n",
       " {'group_id': 260.0, 'color_code': '#cde0f7'},\n",
       " {'group_id': 31.0, 'color_code': '#a47828'},\n",
       " {'group_id': 169.0, 'color_code': '#300761'},\n",
       " {'group_id': 14.0, 'color_code': '#37fc16'},\n",
       " {'group_id': 57.0, 'color_code': '#060fa4'},\n",
       " {'group_id': 91.0, 'color_code': '#9abbe6'},\n",
       " {'group_id': 108.0, 'color_code': '#f410e0'},\n",
       " {'group_id': 251.0, 'color_code': '#63670b'},\n",
       " {'group_id': 58.0, 'color_code': '#6d7575'},\n",
       " {'group_id': 135.0, 'color_code': '#d6bb47'},\n",
       " {'group_id': 75.0, 'color_code': '#bd0cae'},\n",
       " {'group_id': 262.0, 'color_code': '#d08288'},\n",
       " {'group_id': 229.0, 'color_code': '#f1f578'},\n",
       " {'group_id': 237.0, 'color_code': '#a011c4'},\n",
       " {'group_id': 220.0, 'color_code': '#a8b53d'},\n",
       " {'group_id': 186.0, 'color_code': '#75ec60'},\n",
       " {'group_id': 232.0, 'color_code': '#b23da9'},\n",
       " {'group_id': 252.0, 'color_code': '#00be01'},\n",
       " {'group_id': 129.0, 'color_code': '#1bd934'},\n",
       " {'group_id': 185.0, 'color_code': '#ce1064'},\n",
       " {'group_id': 137.0, 'color_code': '#84a02f'},\n",
       " {'group_id': 217.0, 'color_code': '#85d23b'},\n",
       " {'group_id': 145.0, 'color_code': '#10e6f0'},\n",
       " {'group_id': 114.0, 'color_code': '#247089'},\n",
       " {'group_id': 194.0, 'color_code': '#56f9c8'},\n",
       " {'group_id': 61.0, 'color_code': '#f8d286'},\n",
       " {'group_id': 202.0, 'color_code': '#f712d4'},\n",
       " {'group_id': 6.0, 'color_code': '#e54c79'},\n",
       " {'group_id': 138.0, 'color_code': '#234691'},\n",
       " {'group_id': 67.0, 'color_code': '#e29100'},\n",
       " {'group_id': 106.0, 'color_code': '#21fd46'},\n",
       " {'group_id': 264.0, 'color_code': '#8a39d7'}]"
      ]
     },
     "execution_count": 29,
     "metadata": {},
     "output_type": "execute_result"
    }
   ],
   "source": [
    "\n",
    "#Will assign all NaN's same color for now. That's okay.\n",
    "\n",
    "\n",
    "import random\n",
    " \n",
    "def colors(n):\n",
    "    if(n == 0):\n",
    "        n = 600\n",
    "    r = int(random.random() * 256)\n",
    "    g = int(random.random() * 256)\n",
    "    b = int(random.random() * 256)\n",
    "    \n",
    "    step = 256 / n\n",
    "#     print(n,r,g,b,step)\n",
    "\n",
    "    r += step\n",
    "    g += step\n",
    "    b += step\n",
    "    r = int(r) % 256\n",
    "    g = int(g) % 256\n",
    "    b = int(b) % 256\n",
    "    \n",
    "    colorstr = str(r)+\",\"+str(b)+\",\" + str(g)\n",
    "    return '#%02x%02x%02x' % (r, g, b)\n",
    "\n",
    "color_dict = []\n",
    "color_dictionary = {}\n",
    "for groupid in unique_community_ids:\n",
    "    #generate a random color\n",
    "    color = colors(groupid)\n",
    "    if(groupid == 1000):        \n",
    "        color_dict.append({'group_id': 1000, 'color_code': color})\n",
    "        color_dictionary['island'] = color\n",
    "    else:        \n",
    "        color_dict.append({'group_id':groupid , 'color_code': color})\n",
    "        color_dictionary[str(int(groupid))] = color\n",
    "    \n",
    "color_dict"
   ]
  },
  {
   "cell_type": "code",
   "execution_count": 30,
   "metadata": {},
   "outputs": [
    {
     "data": {
      "text/markdown": [
       "<br><span style=\"color:#5147c2\">Sample</span>."
      ],
      "text/plain": [
       "<IPython.core.display.Markdown object>"
      ]
     },
     "metadata": {},
     "output_type": "display_data"
    },
    {
     "data": {
      "text/markdown": [
       "<br><span style=\"color:#df76d6\">Sample</span>."
      ],
      "text/plain": [
       "<IPython.core.display.Markdown object>"
      ]
     },
     "metadata": {},
     "output_type": "display_data"
    },
    {
     "data": {
      "text/markdown": [
       "<br><span style=\"color:#f1afa4\">Sample</span>."
      ],
      "text/plain": [
       "<IPython.core.display.Markdown object>"
      ]
     },
     "metadata": {},
     "output_type": "display_data"
    },
    {
     "data": {
      "text/markdown": [
       "<br><span style=\"color:#45fd0d\">Sample</span>."
      ],
      "text/plain": [
       "<IPython.core.display.Markdown object>"
      ]
     },
     "metadata": {},
     "output_type": "display_data"
    },
    {
     "data": {
      "text/markdown": [
       "<br><span style=\"color:#4cc145\">Sample</span>."
      ],
      "text/plain": [
       "<IPython.core.display.Markdown object>"
      ]
     },
     "metadata": {},
     "output_type": "display_data"
    },
    {
     "data": {
      "text/markdown": [
       "<br><span style=\"color:#e096e4\">Sample</span>."
      ],
      "text/plain": [
       "<IPython.core.display.Markdown object>"
      ]
     },
     "metadata": {},
     "output_type": "display_data"
    },
    {
     "data": {
      "text/markdown": [
       "<br><span style=\"color:#e38dbe\">Sample</span>."
      ],
      "text/plain": [
       "<IPython.core.display.Markdown object>"
      ]
     },
     "metadata": {},
     "output_type": "display_data"
    },
    {
     "data": {
      "text/markdown": [
       "<br><span style=\"color:#b1693e\">Sample</span>."
      ],
      "text/plain": [
       "<IPython.core.display.Markdown object>"
      ]
     },
     "metadata": {},
     "output_type": "display_data"
    },
    {
     "data": {
      "text/markdown": [
       "<br><span style=\"color:#dd76df\">Sample</span>."
      ],
      "text/plain": [
       "<IPython.core.display.Markdown object>"
      ]
     },
     "metadata": {},
     "output_type": "display_data"
    },
    {
     "data": {
      "text/markdown": [
       "<br><span style=\"color:#7a1961\">Sample</span>."
      ],
      "text/plain": [
       "<IPython.core.display.Markdown object>"
      ]
     },
     "metadata": {},
     "output_type": "display_data"
    },
    {
     "data": {
      "text/markdown": [
       "<br><span style=\"color:#9f704e\">Sample</span>."
      ],
      "text/plain": [
       "<IPython.core.display.Markdown object>"
      ]
     },
     "metadata": {},
     "output_type": "display_data"
    },
    {
     "data": {
      "text/markdown": [
       "<br><span style=\"color:#ccea64\">Sample</span>."
      ],
      "text/plain": [
       "<IPython.core.display.Markdown object>"
      ]
     },
     "metadata": {},
     "output_type": "display_data"
    },
    {
     "data": {
      "text/markdown": [
       "<br><span style=\"color:#307e90\">Sample</span>."
      ],
      "text/plain": [
       "<IPython.core.display.Markdown object>"
      ]
     },
     "metadata": {},
     "output_type": "display_data"
    },
    {
     "data": {
      "text/markdown": [
       "<br><span style=\"color:#aa106d\">Sample</span>."
      ],
      "text/plain": [
       "<IPython.core.display.Markdown object>"
      ]
     },
     "metadata": {},
     "output_type": "display_data"
    },
    {
     "data": {
      "text/markdown": [
       "<br><span style=\"color:#d90c42\">Sample</span>."
      ],
      "text/plain": [
       "<IPython.core.display.Markdown object>"
      ]
     },
     "metadata": {},
     "output_type": "display_data"
    },
    {
     "data": {
      "text/markdown": [
       "<br><span style=\"color:#b1a0d1\">Sample</span>."
      ],
      "text/plain": [
       "<IPython.core.display.Markdown object>"
      ]
     },
     "metadata": {},
     "output_type": "display_data"
    },
    {
     "data": {
      "text/markdown": [
       "<br><span style=\"color:#631093\">Sample</span>."
      ],
      "text/plain": [
       "<IPython.core.display.Markdown object>"
      ]
     },
     "metadata": {},
     "output_type": "display_data"
    },
    {
     "data": {
      "text/markdown": [
       "<br><span style=\"color:#4edac3\">Sample</span>."
      ],
      "text/plain": [
       "<IPython.core.display.Markdown object>"
      ]
     },
     "metadata": {},
     "output_type": "display_data"
    },
    {
     "data": {
      "text/markdown": [
       "<br><span style=\"color:#951235\">Sample</span>."
      ],
      "text/plain": [
       "<IPython.core.display.Markdown object>"
      ]
     },
     "metadata": {},
     "output_type": "display_data"
    },
    {
     "data": {
      "text/markdown": [
       "<br><span style=\"color:#7929a0\">Sample</span>."
      ],
      "text/plain": [
       "<IPython.core.display.Markdown object>"
      ]
     },
     "metadata": {},
     "output_type": "display_data"
    },
    {
     "data": {
      "text/markdown": [
       "<br><span style=\"color:#a72e4b\">Sample</span>."
      ],
      "text/plain": [
       "<IPython.core.display.Markdown object>"
      ]
     },
     "metadata": {},
     "output_type": "display_data"
    },
    {
     "data": {
      "text/markdown": [
       "<br><span style=\"color:#55a616\">Sample</span>."
      ],
      "text/plain": [
       "<IPython.core.display.Markdown object>"
      ]
     },
     "metadata": {},
     "output_type": "display_data"
    },
    {
     "data": {
      "text/markdown": [
       "<br><span style=\"color:#0ad0ef\">Sample</span>."
      ],
      "text/plain": [
       "<IPython.core.display.Markdown object>"
      ]
     },
     "metadata": {},
     "output_type": "display_data"
    },
    {
     "data": {
      "text/markdown": [
       "<br><span style=\"color:#955871\">Sample</span>."
      ],
      "text/plain": [
       "<IPython.core.display.Markdown object>"
      ]
     },
     "metadata": {},
     "output_type": "display_data"
    },
    {
     "data": {
      "text/markdown": [
       "<br><span style=\"color:#964616\">Sample</span>."
      ],
      "text/plain": [
       "<IPython.core.display.Markdown object>"
      ]
     },
     "metadata": {},
     "output_type": "display_data"
    },
    {
     "data": {
      "text/markdown": [
       "<br><span style=\"color:#97f2c3\">Sample</span>."
      ],
      "text/plain": [
       "<IPython.core.display.Markdown object>"
      ]
     },
     "metadata": {},
     "output_type": "display_data"
    },
    {
     "data": {
      "text/markdown": [
       "<br><span style=\"color:#8fa8ca\">Sample</span>."
      ],
      "text/plain": [
       "<IPython.core.display.Markdown object>"
      ]
     },
     "metadata": {},
     "output_type": "display_data"
    },
    {
     "data": {
      "text/markdown": [
       "<br><span style=\"color:#d0ab15\">Sample</span>."
      ],
      "text/plain": [
       "<IPython.core.display.Markdown object>"
      ]
     },
     "metadata": {},
     "output_type": "display_data"
    },
    {
     "data": {
      "text/markdown": [
       "<br><span style=\"color:#3fa299\">Sample</span>."
      ],
      "text/plain": [
       "<IPython.core.display.Markdown object>"
      ]
     },
     "metadata": {},
     "output_type": "display_data"
    },
    {
     "data": {
      "text/markdown": [
       "<br><span style=\"color:#bd445d\">Sample</span>."
      ],
      "text/plain": [
       "<IPython.core.display.Markdown object>"
      ]
     },
     "metadata": {},
     "output_type": "display_data"
    },
    {
     "data": {
      "text/markdown": [
       "<br><span style=\"color:#b335da\">Sample</span>."
      ],
      "text/plain": [
       "<IPython.core.display.Markdown object>"
      ]
     },
     "metadata": {},
     "output_type": "display_data"
    },
    {
     "data": {
      "text/markdown": [
       "<br><span style=\"color:#34ccc2\">Sample</span>."
      ],
      "text/plain": [
       "<IPython.core.display.Markdown object>"
      ]
     },
     "metadata": {},
     "output_type": "display_data"
    },
    {
     "data": {
      "text/markdown": [
       "<br><span style=\"color:#fbb6ee\">Sample</span>."
      ],
      "text/plain": [
       "<IPython.core.display.Markdown object>"
      ]
     },
     "metadata": {},
     "output_type": "display_data"
    },
    {
     "data": {
      "text/markdown": [
       "<br><span style=\"color:#6e6480\">Sample</span>."
      ],
      "text/plain": [
       "<IPython.core.display.Markdown object>"
      ]
     },
     "metadata": {},
     "output_type": "display_data"
    },
    {
     "data": {
      "text/markdown": [
       "<br><span style=\"color:#2a3b67\">Sample</span>."
      ],
      "text/plain": [
       "<IPython.core.display.Markdown object>"
      ]
     },
     "metadata": {},
     "output_type": "display_data"
    },
    {
     "data": {
      "text/markdown": [
       "<br><span style=\"color:#cec018\">Sample</span>."
      ],
      "text/plain": [
       "<IPython.core.display.Markdown object>"
      ]
     },
     "metadata": {},
     "output_type": "display_data"
    },
    {
     "data": {
      "text/markdown": [
       "<br><span style=\"color:#c99d5a\">Sample</span>."
      ],
      "text/plain": [
       "<IPython.core.display.Markdown object>"
      ]
     },
     "metadata": {},
     "output_type": "display_data"
    },
    {
     "data": {
      "text/markdown": [
       "<br><span style=\"color:#ebe8f4\">Sample</span>."
      ],
      "text/plain": [
       "<IPython.core.display.Markdown object>"
      ]
     },
     "metadata": {},
     "output_type": "display_data"
    },
    {
     "data": {
      "text/markdown": [
       "<br><span style=\"color:#9b044f\">Sample</span>."
      ],
      "text/plain": [
       "<IPython.core.display.Markdown object>"
      ]
     },
     "metadata": {},
     "output_type": "display_data"
    },
    {
     "data": {
      "text/markdown": [
       "<br><span style=\"color:#dd04ef\">Sample</span>."
      ],
      "text/plain": [
       "<IPython.core.display.Markdown object>"
      ]
     },
     "metadata": {},
     "output_type": "display_data"
    },
    {
     "data": {
      "text/markdown": [
       "<br><span style=\"color:#226ece\">Sample</span>."
      ],
      "text/plain": [
       "<IPython.core.display.Markdown object>"
      ]
     },
     "metadata": {},
     "output_type": "display_data"
    },
    {
     "data": {
      "text/markdown": [
       "<br><span style=\"color:#171942\">Sample</span>."
      ],
      "text/plain": [
       "<IPython.core.display.Markdown object>"
      ]
     },
     "metadata": {},
     "output_type": "display_data"
    },
    {
     "data": {
      "text/markdown": [
       "<br><span style=\"color:#6e138c\">Sample</span>."
      ],
      "text/plain": [
       "<IPython.core.display.Markdown object>"
      ]
     },
     "metadata": {},
     "output_type": "display_data"
    },
    {
     "data": {
      "text/markdown": [
       "<br><span style=\"color:#13c6a5\">Sample</span>."
      ],
      "text/plain": [
       "<IPython.core.display.Markdown object>"
      ]
     },
     "metadata": {},
     "output_type": "display_data"
    },
    {
     "data": {
      "text/markdown": [
       "<br><span style=\"color:#987dbf\">Sample</span>."
      ],
      "text/plain": [
       "<IPython.core.display.Markdown object>"
      ]
     },
     "metadata": {},
     "output_type": "display_data"
    },
    {
     "data": {
      "text/markdown": [
       "<br><span style=\"color:#c0ab33\">Sample</span>."
      ],
      "text/plain": [
       "<IPython.core.display.Markdown object>"
      ]
     },
     "metadata": {},
     "output_type": "display_data"
    },
    {
     "data": {
      "text/markdown": [
       "<br><span style=\"color:#8d55f3\">Sample</span>."
      ],
      "text/plain": [
       "<IPython.core.display.Markdown object>"
      ]
     },
     "metadata": {},
     "output_type": "display_data"
    },
    {
     "data": {
      "text/markdown": [
       "<br><span style=\"color:#970082\">Sample</span>."
      ],
      "text/plain": [
       "<IPython.core.display.Markdown object>"
      ]
     },
     "metadata": {},
     "output_type": "display_data"
    },
    {
     "data": {
      "text/markdown": [
       "<br><span style=\"color:#488fb1\">Sample</span>."
      ],
      "text/plain": [
       "<IPython.core.display.Markdown object>"
      ]
     },
     "metadata": {},
     "output_type": "display_data"
    },
    {
     "data": {
      "text/markdown": [
       "<br><span style=\"color:#84fc44\">Sample</span>."
      ],
      "text/plain": [
       "<IPython.core.display.Markdown object>"
      ]
     },
     "metadata": {},
     "output_type": "display_data"
    },
    {
     "data": {
      "text/markdown": [
       "<br><span style=\"color:#ff4b2f\">Sample</span>."
      ],
      "text/plain": [
       "<IPython.core.display.Markdown object>"
      ]
     },
     "metadata": {},
     "output_type": "display_data"
    },
    {
     "data": {
      "text/markdown": [
       "<br><span style=\"color:#d4b948\">Sample</span>."
      ],
      "text/plain": [
       "<IPython.core.display.Markdown object>"
      ]
     },
     "metadata": {},
     "output_type": "display_data"
    },
    {
     "data": {
      "text/markdown": [
       "<br><span style=\"color:#6f156f\">Sample</span>."
      ],
      "text/plain": [
       "<IPython.core.display.Markdown object>"
      ]
     },
     "metadata": {},
     "output_type": "display_data"
    },
    {
     "data": {
      "text/markdown": [
       "<br><span style=\"color:#e15f82\">Sample</span>."
      ],
      "text/plain": [
       "<IPython.core.display.Markdown object>"
      ]
     },
     "metadata": {},
     "output_type": "display_data"
    },
    {
     "data": {
      "text/markdown": [
       "<br><span style=\"color:#edbe9c\">Sample</span>."
      ],
      "text/plain": [
       "<IPython.core.display.Markdown object>"
      ]
     },
     "metadata": {},
     "output_type": "display_data"
    },
    {
     "data": {
      "text/markdown": [
       "<br><span style=\"color:#29486a\">Sample</span>."
      ],
      "text/plain": [
       "<IPython.core.display.Markdown object>"
      ]
     },
     "metadata": {},
     "output_type": "display_data"
    },
    {
     "data": {
      "text/markdown": [
       "<br><span style=\"color:#a4e06f\">Sample</span>."
      ],
      "text/plain": [
       "<IPython.core.display.Markdown object>"
      ]
     },
     "metadata": {},
     "output_type": "display_data"
    },
    {
     "data": {
      "text/markdown": [
       "<br><span style=\"color:#7a62e9\">Sample</span>."
      ],
      "text/plain": [
       "<IPython.core.display.Markdown object>"
      ]
     },
     "metadata": {},
     "output_type": "display_data"
    },
    {
     "data": {
      "text/markdown": [
       "<br><span style=\"color:#45a508\">Sample</span>."
      ],
      "text/plain": [
       "<IPython.core.display.Markdown object>"
      ]
     },
     "metadata": {},
     "output_type": "display_data"
    },
    {
     "data": {
      "text/markdown": [
       "<br><span style=\"color:#7cb795\">Sample</span>."
      ],
      "text/plain": [
       "<IPython.core.display.Markdown object>"
      ]
     },
     "metadata": {},
     "output_type": "display_data"
    },
    {
     "data": {
      "text/markdown": [
       "<br><span style=\"color:#f6ab6f\">Sample</span>."
      ],
      "text/plain": [
       "<IPython.core.display.Markdown object>"
      ]
     },
     "metadata": {},
     "output_type": "display_data"
    },
    {
     "data": {
      "text/markdown": [
       "<br><span style=\"color:#13559f\">Sample</span>."
      ],
      "text/plain": [
       "<IPython.core.display.Markdown object>"
      ]
     },
     "metadata": {},
     "output_type": "display_data"
    },
    {
     "data": {
      "text/markdown": [
       "<br><span style=\"color:#630dc7\">Sample</span>."
      ],
      "text/plain": [
       "<IPython.core.display.Markdown object>"
      ]
     },
     "metadata": {},
     "output_type": "display_data"
    },
    {
     "data": {
      "text/markdown": [
       "<br><span style=\"color:#b73d1d\">Sample</span>."
      ],
      "text/plain": [
       "<IPython.core.display.Markdown object>"
      ]
     },
     "metadata": {},
     "output_type": "display_data"
    },
    {
     "data": {
      "text/markdown": [
       "<br><span style=\"color:#2cecee\">Sample</span>."
      ],
      "text/plain": [
       "<IPython.core.display.Markdown object>"
      ]
     },
     "metadata": {},
     "output_type": "display_data"
    },
    {
     "data": {
      "text/markdown": [
       "<br><span style=\"color:#133741\">Sample</span>."
      ],
      "text/plain": [
       "<IPython.core.display.Markdown object>"
      ]
     },
     "metadata": {},
     "output_type": "display_data"
    },
    {
     "data": {
      "text/markdown": [
       "<br><span style=\"color:#4e5f3c\">Sample</span>."
      ],
      "text/plain": [
       "<IPython.core.display.Markdown object>"
      ]
     },
     "metadata": {},
     "output_type": "display_data"
    },
    {
     "data": {
      "text/markdown": [
       "<br><span style=\"color:#e9be95\">Sample</span>."
      ],
      "text/plain": [
       "<IPython.core.display.Markdown object>"
      ]
     },
     "metadata": {},
     "output_type": "display_data"
    },
    {
     "data": {
      "text/markdown": [
       "<br><span style=\"color:#bb10be\">Sample</span>."
      ],
      "text/plain": [
       "<IPython.core.display.Markdown object>"
      ]
     },
     "metadata": {},
     "output_type": "display_data"
    },
    {
     "data": {
      "text/markdown": [
       "<br><span style=\"color:#052c47\">Sample</span>."
      ],
      "text/plain": [
       "<IPython.core.display.Markdown object>"
      ]
     },
     "metadata": {},
     "output_type": "display_data"
    },
    {
     "data": {
      "text/markdown": [
       "<br><span style=\"color:#97d74d\">Sample</span>."
      ],
      "text/plain": [
       "<IPython.core.display.Markdown object>"
      ]
     },
     "metadata": {},
     "output_type": "display_data"
    },
    {
     "data": {
      "text/markdown": [
       "<br><span style=\"color:#ae8768\">Sample</span>."
      ],
      "text/plain": [
       "<IPython.core.display.Markdown object>"
      ]
     },
     "metadata": {},
     "output_type": "display_data"
    },
    {
     "data": {
      "text/markdown": [
       "<br><span style=\"color:#1630a6\">Sample</span>."
      ],
      "text/plain": [
       "<IPython.core.display.Markdown object>"
      ]
     },
     "metadata": {},
     "output_type": "display_data"
    },
    {
     "data": {
      "text/markdown": [
       "<br><span style=\"color:#a21edd\">Sample</span>."
      ],
      "text/plain": [
       "<IPython.core.display.Markdown object>"
      ]
     },
     "metadata": {},
     "output_type": "display_data"
    },
    {
     "data": {
      "text/markdown": [
       "<br><span style=\"color:#6c237a\">Sample</span>."
      ],
      "text/plain": [
       "<IPython.core.display.Markdown object>"
      ]
     },
     "metadata": {},
     "output_type": "display_data"
    },
    {
     "data": {
      "text/markdown": [
       "<br><span style=\"color:#d72011\">Sample</span>."
      ],
      "text/plain": [
       "<IPython.core.display.Markdown object>"
      ]
     },
     "metadata": {},
     "output_type": "display_data"
    },
    {
     "data": {
      "text/markdown": [
       "<br><span style=\"color:#b4c70e\">Sample</span>."
      ],
      "text/plain": [
       "<IPython.core.display.Markdown object>"
      ]
     },
     "metadata": {},
     "output_type": "display_data"
    },
    {
     "data": {
      "text/markdown": [
       "<br><span style=\"color:#ece616\">Sample</span>."
      ],
      "text/plain": [
       "<IPython.core.display.Markdown object>"
      ]
     },
     "metadata": {},
     "output_type": "display_data"
    },
    {
     "data": {
      "text/markdown": [
       "<br><span style=\"color:#d88535\">Sample</span>."
      ],
      "text/plain": [
       "<IPython.core.display.Markdown object>"
      ]
     },
     "metadata": {},
     "output_type": "display_data"
    },
    {
     "data": {
      "text/markdown": [
       "<br><span style=\"color:#1a829b\">Sample</span>."
      ],
      "text/plain": [
       "<IPython.core.display.Markdown object>"
      ]
     },
     "metadata": {},
     "output_type": "display_data"
    },
    {
     "data": {
      "text/markdown": [
       "<br><span style=\"color:#2ad386\">Sample</span>."
      ],
      "text/plain": [
       "<IPython.core.display.Markdown object>"
      ]
     },
     "metadata": {},
     "output_type": "display_data"
    },
    {
     "data": {
      "text/markdown": [
       "<br><span style=\"color:#5130c1\">Sample</span>."
      ],
      "text/plain": [
       "<IPython.core.display.Markdown object>"
      ]
     },
     "metadata": {},
     "output_type": "display_data"
    },
    {
     "data": {
      "text/markdown": [
       "<br><span style=\"color:#f847df\">Sample</span>."
      ],
      "text/plain": [
       "<IPython.core.display.Markdown object>"
      ]
     },
     "metadata": {},
     "output_type": "display_data"
    },
    {
     "data": {
      "text/markdown": [
       "<br><span style=\"color:#b1502f\">Sample</span>."
      ],
      "text/plain": [
       "<IPython.core.display.Markdown object>"
      ]
     },
     "metadata": {},
     "output_type": "display_data"
    },
    {
     "data": {
      "text/markdown": [
       "<br><span style=\"color:#847127\">Sample</span>."
      ],
      "text/plain": [
       "<IPython.core.display.Markdown object>"
      ]
     },
     "metadata": {},
     "output_type": "display_data"
    },
    {
     "data": {
      "text/markdown": [
       "<br><span style=\"color:#d10785\">Sample</span>."
      ],
      "text/plain": [
       "<IPython.core.display.Markdown object>"
      ]
     },
     "metadata": {},
     "output_type": "display_data"
    },
    {
     "data": {
      "text/markdown": [
       "<br><span style=\"color:#5e0d3e\">Sample</span>."
      ],
      "text/plain": [
       "<IPython.core.display.Markdown object>"
      ]
     },
     "metadata": {},
     "output_type": "display_data"
    },
    {
     "data": {
      "text/markdown": [
       "<br><span style=\"color:#dc327c\">Sample</span>."
      ],
      "text/plain": [
       "<IPython.core.display.Markdown object>"
      ]
     },
     "metadata": {},
     "output_type": "display_data"
    },
    {
     "data": {
      "text/markdown": [
       "<br><span style=\"color:#dbeaf7\">Sample</span>."
      ],
      "text/plain": [
       "<IPython.core.display.Markdown object>"
      ]
     },
     "metadata": {},
     "output_type": "display_data"
    },
    {
     "data": {
      "text/markdown": [
       "<br><span style=\"color:#491678\">Sample</span>."
      ],
      "text/plain": [
       "<IPython.core.display.Markdown object>"
      ]
     },
     "metadata": {},
     "output_type": "display_data"
    },
    {
     "data": {
      "text/markdown": [
       "<br><span style=\"color:#69eccc\">Sample</span>."
      ],
      "text/plain": [
       "<IPython.core.display.Markdown object>"
      ]
     },
     "metadata": {},
     "output_type": "display_data"
    },
    {
     "data": {
      "text/markdown": [
       "<br><span style=\"color:#fd7ff1\">Sample</span>."
      ],
      "text/plain": [
       "<IPython.core.display.Markdown object>"
      ]
     },
     "metadata": {},
     "output_type": "display_data"
    },
    {
     "data": {
      "text/markdown": [
       "<br><span style=\"color:#cc9a62\">Sample</span>."
      ],
      "text/plain": [
       "<IPython.core.display.Markdown object>"
      ]
     },
     "metadata": {},
     "output_type": "display_data"
    },
    {
     "data": {
      "text/markdown": [
       "<br><span style=\"color:#080b9f\">Sample</span>."
      ],
      "text/plain": [
       "<IPython.core.display.Markdown object>"
      ]
     },
     "metadata": {},
     "output_type": "display_data"
    },
    {
     "data": {
      "text/markdown": [
       "<br><span style=\"color:#a6818f\">Sample</span>."
      ],
      "text/plain": [
       "<IPython.core.display.Markdown object>"
      ]
     },
     "metadata": {},
     "output_type": "display_data"
    },
    {
     "data": {
      "text/markdown": [
       "<br><span style=\"color:#3dc46b\">Sample</span>."
      ],
      "text/plain": [
       "<IPython.core.display.Markdown object>"
      ]
     },
     "metadata": {},
     "output_type": "display_data"
    },
    {
     "data": {
      "text/markdown": [
       "<br><span style=\"color:#9ab37c\">Sample</span>."
      ],
      "text/plain": [
       "<IPython.core.display.Markdown object>"
      ]
     },
     "metadata": {},
     "output_type": "display_data"
    },
    {
     "data": {
      "text/markdown": [
       "<br><span style=\"color:#2aa611\">Sample</span>."
      ],
      "text/plain": [
       "<IPython.core.display.Markdown object>"
      ]
     },
     "metadata": {},
     "output_type": "display_data"
    },
    {
     "data": {
      "text/markdown": [
       "<br><span style=\"color:#e0d29e\">Sample</span>."
      ],
      "text/plain": [
       "<IPython.core.display.Markdown object>"
      ]
     },
     "metadata": {},
     "output_type": "display_data"
    },
    {
     "data": {
      "text/markdown": [
       "<br><span style=\"color:#daaea5\">Sample</span>."
      ],
      "text/plain": [
       "<IPython.core.display.Markdown object>"
      ]
     },
     "metadata": {},
     "output_type": "display_data"
    },
    {
     "data": {
      "text/markdown": [
       "<br><span style=\"color:#428da6\">Sample</span>."
      ],
      "text/plain": [
       "<IPython.core.display.Markdown object>"
      ]
     },
     "metadata": {},
     "output_type": "display_data"
    },
    {
     "data": {
      "text/markdown": [
       "<br><span style=\"color:#7bdb78\">Sample</span>."
      ],
      "text/plain": [
       "<IPython.core.display.Markdown object>"
      ]
     },
     "metadata": {},
     "output_type": "display_data"
    },
    {
     "data": {
      "text/markdown": [
       "<br><span style=\"color:#315157\">Sample</span>."
      ],
      "text/plain": [
       "<IPython.core.display.Markdown object>"
      ]
     },
     "metadata": {},
     "output_type": "display_data"
    },
    {
     "data": {
      "text/markdown": [
       "<br><span style=\"color:#d07ea3\">Sample</span>."
      ],
      "text/plain": [
       "<IPython.core.display.Markdown object>"
      ]
     },
     "metadata": {},
     "output_type": "display_data"
    },
    {
     "data": {
      "text/markdown": [
       "<br><span style=\"color:#0bbcee\">Sample</span>."
      ],
      "text/plain": [
       "<IPython.core.display.Markdown object>"
      ]
     },
     "metadata": {},
     "output_type": "display_data"
    },
    {
     "data": {
      "text/markdown": [
       "<br><span style=\"color:#3bb861\">Sample</span>."
      ],
      "text/plain": [
       "<IPython.core.display.Markdown object>"
      ]
     },
     "metadata": {},
     "output_type": "display_data"
    },
    {
     "data": {
      "text/markdown": [
       "<br><span style=\"color:#2fbdc5\">Sample</span>."
      ],
      "text/plain": [
       "<IPython.core.display.Markdown object>"
      ]
     },
     "metadata": {},
     "output_type": "display_data"
    },
    {
     "data": {
      "text/markdown": [
       "<br><span style=\"color:#204ce8\">Sample</span>."
      ],
      "text/plain": [
       "<IPython.core.display.Markdown object>"
      ]
     },
     "metadata": {},
     "output_type": "display_data"
    },
    {
     "data": {
      "text/markdown": [
       "<br><span style=\"color:#96fb8f\">Sample</span>."
      ],
      "text/plain": [
       "<IPython.core.display.Markdown object>"
      ]
     },
     "metadata": {},
     "output_type": "display_data"
    },
    {
     "data": {
      "text/markdown": [
       "<br><span style=\"color:#6b90cc\">Sample</span>."
      ],
      "text/plain": [
       "<IPython.core.display.Markdown object>"
      ]
     },
     "metadata": {},
     "output_type": "display_data"
    },
    {
     "data": {
      "text/markdown": [
       "<br><span style=\"color:#3a42cc\">Sample</span>."
      ],
      "text/plain": [
       "<IPython.core.display.Markdown object>"
      ]
     },
     "metadata": {},
     "output_type": "display_data"
    },
    {
     "data": {
      "text/markdown": [
       "<br><span style=\"color:#8b40d8\">Sample</span>."
      ],
      "text/plain": [
       "<IPython.core.display.Markdown object>"
      ]
     },
     "metadata": {},
     "output_type": "display_data"
    },
    {
     "data": {
      "text/markdown": [
       "<br><span style=\"color:#84d315\">Sample</span>."
      ],
      "text/plain": [
       "<IPython.core.display.Markdown object>"
      ]
     },
     "metadata": {},
     "output_type": "display_data"
    },
    {
     "data": {
      "text/markdown": [
       "<br><span style=\"color:#fd88b3\">Sample</span>."
      ],
      "text/plain": [
       "<IPython.core.display.Markdown object>"
      ]
     },
     "metadata": {},
     "output_type": "display_data"
    },
    {
     "data": {
      "text/markdown": [
       "<br><span style=\"color:#60cd60\">Sample</span>."
      ],
      "text/plain": [
       "<IPython.core.display.Markdown object>"
      ]
     },
     "metadata": {},
     "output_type": "display_data"
    },
    {
     "data": {
      "text/markdown": [
       "<br><span style=\"color:#dfc159\">Sample</span>."
      ],
      "text/plain": [
       "<IPython.core.display.Markdown object>"
      ]
     },
     "metadata": {},
     "output_type": "display_data"
    },
    {
     "data": {
      "text/markdown": [
       "<br><span style=\"color:#d05e97\">Sample</span>."
      ],
      "text/plain": [
       "<IPython.core.display.Markdown object>"
      ]
     },
     "metadata": {},
     "output_type": "display_data"
    },
    {
     "data": {
      "text/markdown": [
       "<br><span style=\"color:#01ee68\">Sample</span>."
      ],
      "text/plain": [
       "<IPython.core.display.Markdown object>"
      ]
     },
     "metadata": {},
     "output_type": "display_data"
    },
    {
     "data": {
      "text/markdown": [
       "<br><span style=\"color:#600b0a\">Sample</span>."
      ],
      "text/plain": [
       "<IPython.core.display.Markdown object>"
      ]
     },
     "metadata": {},
     "output_type": "display_data"
    },
    {
     "data": {
      "text/markdown": [
       "<br><span style=\"color:#486d54\">Sample</span>."
      ],
      "text/plain": [
       "<IPython.core.display.Markdown object>"
      ]
     },
     "metadata": {},
     "output_type": "display_data"
    },
    {
     "data": {
      "text/markdown": [
       "<br><span style=\"color:#93e6d9\">Sample</span>."
      ],
      "text/plain": [
       "<IPython.core.display.Markdown object>"
      ]
     },
     "metadata": {},
     "output_type": "display_data"
    },
    {
     "data": {
      "text/markdown": [
       "<br><span style=\"color:#c555cf\">Sample</span>."
      ],
      "text/plain": [
       "<IPython.core.display.Markdown object>"
      ]
     },
     "metadata": {},
     "output_type": "display_data"
    },
    {
     "data": {
      "text/markdown": [
       "<br><span style=\"color:#30a002\">Sample</span>."
      ],
      "text/plain": [
       "<IPython.core.display.Markdown object>"
      ]
     },
     "metadata": {},
     "output_type": "display_data"
    },
    {
     "data": {
      "text/markdown": [
       "<br><span style=\"color:#c14c6d\">Sample</span>."
      ],
      "text/plain": [
       "<IPython.core.display.Markdown object>"
      ]
     },
     "metadata": {},
     "output_type": "display_data"
    },
    {
     "data": {
      "text/markdown": [
       "<br><span style=\"color:#ab4ce8\">Sample</span>."
      ],
      "text/plain": [
       "<IPython.core.display.Markdown object>"
      ]
     },
     "metadata": {},
     "output_type": "display_data"
    },
    {
     "data": {
      "text/markdown": [
       "<br><span style=\"color:#7e95dd\">Sample</span>."
      ],
      "text/plain": [
       "<IPython.core.display.Markdown object>"
      ]
     },
     "metadata": {},
     "output_type": "display_data"
    },
    {
     "data": {
      "text/markdown": [
       "<br><span style=\"color:#d0dd8a\">Sample</span>."
      ],
      "text/plain": [
       "<IPython.core.display.Markdown object>"
      ]
     },
     "metadata": {},
     "output_type": "display_data"
    },
    {
     "data": {
      "text/markdown": [
       "<br><span style=\"color:#2c0b9f\">Sample</span>."
      ],
      "text/plain": [
       "<IPython.core.display.Markdown object>"
      ]
     },
     "metadata": {},
     "output_type": "display_data"
    },
    {
     "data": {
      "text/markdown": [
       "<br><span style=\"color:#207e13\">Sample</span>."
      ],
      "text/plain": [
       "<IPython.core.display.Markdown object>"
      ]
     },
     "metadata": {},
     "output_type": "display_data"
    },
    {
     "data": {
      "text/markdown": [
       "<br><span style=\"color:#37eefa\">Sample</span>."
      ],
      "text/plain": [
       "<IPython.core.display.Markdown object>"
      ]
     },
     "metadata": {},
     "output_type": "display_data"
    },
    {
     "data": {
      "text/markdown": [
       "<br><span style=\"color:#0a3253\">Sample</span>."
      ],
      "text/plain": [
       "<IPython.core.display.Markdown object>"
      ]
     },
     "metadata": {},
     "output_type": "display_data"
    },
    {
     "data": {
      "text/markdown": [
       "<br><span style=\"color:#4fd443\">Sample</span>."
      ],
      "text/plain": [
       "<IPython.core.display.Markdown object>"
      ]
     },
     "metadata": {},
     "output_type": "display_data"
    },
    {
     "data": {
      "text/markdown": [
       "<br><span style=\"color:#b2817a\">Sample</span>."
      ],
      "text/plain": [
       "<IPython.core.display.Markdown object>"
      ]
     },
     "metadata": {},
     "output_type": "display_data"
    },
    {
     "data": {
      "text/markdown": [
       "<br><span style=\"color:#c7cb83\">Sample</span>."
      ],
      "text/plain": [
       "<IPython.core.display.Markdown object>"
      ]
     },
     "metadata": {},
     "output_type": "display_data"
    },
    {
     "data": {
      "text/markdown": [
       "<br><span style=\"color:#e80816\">Sample</span>."
      ],
      "text/plain": [
       "<IPython.core.display.Markdown object>"
      ]
     },
     "metadata": {},
     "output_type": "display_data"
    },
    {
     "data": {
      "text/markdown": [
       "<br><span style=\"color:#41d839\">Sample</span>."
      ],
      "text/plain": [
       "<IPython.core.display.Markdown object>"
      ]
     },
     "metadata": {},
     "output_type": "display_data"
    },
    {
     "data": {
      "text/markdown": [
       "<br><span style=\"color:#6fa273\">Sample</span>."
      ],
      "text/plain": [
       "<IPython.core.display.Markdown object>"
      ]
     },
     "metadata": {},
     "output_type": "display_data"
    },
    {
     "data": {
      "text/markdown": [
       "<br><span style=\"color:#c208db\">Sample</span>."
      ],
      "text/plain": [
       "<IPython.core.display.Markdown object>"
      ]
     },
     "metadata": {},
     "output_type": "display_data"
    },
    {
     "data": {
      "text/markdown": [
       "<br><span style=\"color:#14e1c5\">Sample</span>."
      ],
      "text/plain": [
       "<IPython.core.display.Markdown object>"
      ]
     },
     "metadata": {},
     "output_type": "display_data"
    },
    {
     "data": {
      "text/markdown": [
       "<br><span style=\"color:#7bf3b0\">Sample</span>."
      ],
      "text/plain": [
       "<IPython.core.display.Markdown object>"
      ]
     },
     "metadata": {},
     "output_type": "display_data"
    },
    {
     "data": {
      "text/markdown": [
       "<br><span style=\"color:#c56f0a\">Sample</span>."
      ],
      "text/plain": [
       "<IPython.core.display.Markdown object>"
      ]
     },
     "metadata": {},
     "output_type": "display_data"
    },
    {
     "data": {
      "text/markdown": [
       "<br><span style=\"color:#1688ac\">Sample</span>."
      ],
      "text/plain": [
       "<IPython.core.display.Markdown object>"
      ]
     },
     "metadata": {},
     "output_type": "display_data"
    },
    {
     "data": {
      "text/markdown": [
       "<br><span style=\"color:#2da4d5\">Sample</span>."
      ],
      "text/plain": [
       "<IPython.core.display.Markdown object>"
      ]
     },
     "metadata": {},
     "output_type": "display_data"
    },
    {
     "data": {
      "text/markdown": [
       "<br><span style=\"color:#c241ed\">Sample</span>."
      ],
      "text/plain": [
       "<IPython.core.display.Markdown object>"
      ]
     },
     "metadata": {},
     "output_type": "display_data"
    },
    {
     "data": {
      "text/markdown": [
       "<br><span style=\"color:#f44818\">Sample</span>."
      ],
      "text/plain": [
       "<IPython.core.display.Markdown object>"
      ]
     },
     "metadata": {},
     "output_type": "display_data"
    },
    {
     "data": {
      "text/markdown": [
       "<br><span style=\"color:#577993\">Sample</span>."
      ],
      "text/plain": [
       "<IPython.core.display.Markdown object>"
      ]
     },
     "metadata": {},
     "output_type": "display_data"
    },
    {
     "data": {
      "text/markdown": [
       "<br><span style=\"color:#383ca5\">Sample</span>."
      ],
      "text/plain": [
       "<IPython.core.display.Markdown object>"
      ]
     },
     "metadata": {},
     "output_type": "display_data"
    },
    {
     "data": {
      "text/markdown": [
       "<br><span style=\"color:#950966\">Sample</span>."
      ],
      "text/plain": [
       "<IPython.core.display.Markdown object>"
      ]
     },
     "metadata": {},
     "output_type": "display_data"
    },
    {
     "data": {
      "text/markdown": [
       "<br><span style=\"color:#4f149c\">Sample</span>."
      ],
      "text/plain": [
       "<IPython.core.display.Markdown object>"
      ]
     },
     "metadata": {},
     "output_type": "display_data"
    },
    {
     "data": {
      "text/markdown": [
       "<br><span style=\"color:#a37876\">Sample</span>."
      ],
      "text/plain": [
       "<IPython.core.display.Markdown object>"
      ]
     },
     "metadata": {},
     "output_type": "display_data"
    },
    {
     "data": {
      "text/markdown": [
       "<br><span style=\"color:#929dba\">Sample</span>."
      ],
      "text/plain": [
       "<IPython.core.display.Markdown object>"
      ]
     },
     "metadata": {},
     "output_type": "display_data"
    },
    {
     "data": {
      "text/markdown": [
       "<br><span style=\"color:#4eb052\">Sample</span>."
      ],
      "text/plain": [
       "<IPython.core.display.Markdown object>"
      ]
     },
     "metadata": {},
     "output_type": "display_data"
    },
    {
     "data": {
      "text/markdown": [
       "<br><span style=\"color:#8ec53c\">Sample</span>."
      ],
      "text/plain": [
       "<IPython.core.display.Markdown object>"
      ]
     },
     "metadata": {},
     "output_type": "display_data"
    },
    {
     "data": {
      "text/markdown": [
       "<br><span style=\"color:#5be6d9\">Sample</span>."
      ],
      "text/plain": [
       "<IPython.core.display.Markdown object>"
      ]
     },
     "metadata": {},
     "output_type": "display_data"
    },
    {
     "data": {
      "text/markdown": [
       "<br><span style=\"color:#8f5550\">Sample</span>."
      ],
      "text/plain": [
       "<IPython.core.display.Markdown object>"
      ]
     },
     "metadata": {},
     "output_type": "display_data"
    },
    {
     "data": {
      "text/markdown": [
       "<br><span style=\"color:#66fca9\">Sample</span>."
      ],
      "text/plain": [
       "<IPython.core.display.Markdown object>"
      ]
     },
     "metadata": {},
     "output_type": "display_data"
    },
    {
     "data": {
      "text/markdown": [
       "<br><span style=\"color:#2ea95c\">Sample</span>."
      ],
      "text/plain": [
       "<IPython.core.display.Markdown object>"
      ]
     },
     "metadata": {},
     "output_type": "display_data"
    },
    {
     "data": {
      "text/markdown": [
       "<br><span style=\"color:#8314a7\">Sample</span>."
      ],
      "text/plain": [
       "<IPython.core.display.Markdown object>"
      ]
     },
     "metadata": {},
     "output_type": "display_data"
    },
    {
     "data": {
      "text/markdown": [
       "<br><span style=\"color:#51edf4\">Sample</span>."
      ],
      "text/plain": [
       "<IPython.core.display.Markdown object>"
      ]
     },
     "metadata": {},
     "output_type": "display_data"
    },
    {
     "data": {
      "text/markdown": [
       "<br><span style=\"color:#2bc36d\">Sample</span>."
      ],
      "text/plain": [
       "<IPython.core.display.Markdown object>"
      ]
     },
     "metadata": {},
     "output_type": "display_data"
    },
    {
     "data": {
      "text/markdown": [
       "<br><span style=\"color:#9a174b\">Sample</span>."
      ],
      "text/plain": [
       "<IPython.core.display.Markdown object>"
      ]
     },
     "metadata": {},
     "output_type": "display_data"
    },
    {
     "data": {
      "text/markdown": [
       "<br><span style=\"color:#a02878\">Sample</span>."
      ],
      "text/plain": [
       "<IPython.core.display.Markdown object>"
      ]
     },
     "metadata": {},
     "output_type": "display_data"
    },
    {
     "data": {
      "text/markdown": [
       "<br><span style=\"color:#47cf3e\">Sample</span>."
      ],
      "text/plain": [
       "<IPython.core.display.Markdown object>"
      ]
     },
     "metadata": {},
     "output_type": "display_data"
    },
    {
     "data": {
      "text/markdown": [
       "<br><span style=\"color:#aba557\">Sample</span>."
      ],
      "text/plain": [
       "<IPython.core.display.Markdown object>"
      ]
     },
     "metadata": {},
     "output_type": "display_data"
    },
    {
     "data": {
      "text/markdown": [
       "<br><span style=\"color:#aace4a\">Sample</span>."
      ],
      "text/plain": [
       "<IPython.core.display.Markdown object>"
      ]
     },
     "metadata": {},
     "output_type": "display_data"
    },
    {
     "data": {
      "text/markdown": [
       "<br><span style=\"color:#c50221\">Sample</span>."
      ],
      "text/plain": [
       "<IPython.core.display.Markdown object>"
      ]
     },
     "metadata": {},
     "output_type": "display_data"
    },
    {
     "data": {
      "text/markdown": [
       "<br><span style=\"color:#681ffc\">Sample</span>."
      ],
      "text/plain": [
       "<IPython.core.display.Markdown object>"
      ]
     },
     "metadata": {},
     "output_type": "display_data"
    },
    {
     "data": {
      "text/markdown": [
       "<br><span style=\"color:#138caa\">Sample</span>."
      ],
      "text/plain": [
       "<IPython.core.display.Markdown object>"
      ]
     },
     "metadata": {},
     "output_type": "display_data"
    },
    {
     "data": {
      "text/markdown": [
       "<br><span style=\"color:#d8a98a\">Sample</span>."
      ],
      "text/plain": [
       "<IPython.core.display.Markdown object>"
      ]
     },
     "metadata": {},
     "output_type": "display_data"
    },
    {
     "data": {
      "text/markdown": [
       "<br><span style=\"color:#101078\">Sample</span>."
      ],
      "text/plain": [
       "<IPython.core.display.Markdown object>"
      ]
     },
     "metadata": {},
     "output_type": "display_data"
    },
    {
     "data": {
      "text/markdown": [
       "<br><span style=\"color:#6557ed\">Sample</span>."
      ],
      "text/plain": [
       "<IPython.core.display.Markdown object>"
      ]
     },
     "metadata": {},
     "output_type": "display_data"
    },
    {
     "data": {
      "text/markdown": [
       "<br><span style=\"color:#46bd72\">Sample</span>."
      ],
      "text/plain": [
       "<IPython.core.display.Markdown object>"
      ]
     },
     "metadata": {},
     "output_type": "display_data"
    },
    {
     "data": {
      "text/markdown": [
       "<br><span style=\"color:#ef3c73\">Sample</span>."
      ],
      "text/plain": [
       "<IPython.core.display.Markdown object>"
      ]
     },
     "metadata": {},
     "output_type": "display_data"
    },
    {
     "data": {
      "text/markdown": [
       "<br><span style=\"color:#44499f\">Sample</span>."
      ],
      "text/plain": [
       "<IPython.core.display.Markdown object>"
      ]
     },
     "metadata": {},
     "output_type": "display_data"
    },
    {
     "data": {
      "text/markdown": [
       "<br><span style=\"color:#b89173\">Sample</span>."
      ],
      "text/plain": [
       "<IPython.core.display.Markdown object>"
      ]
     },
     "metadata": {},
     "output_type": "display_data"
    },
    {
     "data": {
      "text/markdown": [
       "<br><span style=\"color:#738bbe\">Sample</span>."
      ],
      "text/plain": [
       "<IPython.core.display.Markdown object>"
      ]
     },
     "metadata": {},
     "output_type": "display_data"
    },
    {
     "data": {
      "text/markdown": [
       "<br><span style=\"color:#e5c936\">Sample</span>."
      ],
      "text/plain": [
       "<IPython.core.display.Markdown object>"
      ]
     },
     "metadata": {},
     "output_type": "display_data"
    },
    {
     "data": {
      "text/markdown": [
       "<br><span style=\"color:#f05657\">Sample</span>."
      ],
      "text/plain": [
       "<IPython.core.display.Markdown object>"
      ]
     },
     "metadata": {},
     "output_type": "display_data"
    },
    {
     "data": {
      "text/markdown": [
       "<br><span style=\"color:#b9e347\">Sample</span>."
      ],
      "text/plain": [
       "<IPython.core.display.Markdown object>"
      ]
     },
     "metadata": {},
     "output_type": "display_data"
    },
    {
     "data": {
      "text/markdown": [
       "<br><span style=\"color:#20f487\">Sample</span>."
      ],
      "text/plain": [
       "<IPython.core.display.Markdown object>"
      ]
     },
     "metadata": {},
     "output_type": "display_data"
    },
    {
     "data": {
      "text/markdown": [
       "<br><span style=\"color:#de4463\">Sample</span>."
      ],
      "text/plain": [
       "<IPython.core.display.Markdown object>"
      ]
     },
     "metadata": {},
     "output_type": "display_data"
    },
    {
     "data": {
      "text/markdown": [
       "<br><span style=\"color:#41d914\">Sample</span>."
      ],
      "text/plain": [
       "<IPython.core.display.Markdown object>"
      ]
     },
     "metadata": {},
     "output_type": "display_data"
    },
    {
     "data": {
      "text/markdown": [
       "<br><span style=\"color:#4496c5\">Sample</span>."
      ],
      "text/plain": [
       "<IPython.core.display.Markdown object>"
      ]
     },
     "metadata": {},
     "output_type": "display_data"
    },
    {
     "data": {
      "text/markdown": [
       "<br><span style=\"color:#9f56ee\">Sample</span>."
      ],
      "text/plain": [
       "<IPython.core.display.Markdown object>"
      ]
     },
     "metadata": {},
     "output_type": "display_data"
    },
    {
     "data": {
      "text/markdown": [
       "<br><span style=\"color:#4e665a\">Sample</span>."
      ],
      "text/plain": [
       "<IPython.core.display.Markdown object>"
      ]
     },
     "metadata": {},
     "output_type": "display_data"
    },
    {
     "data": {
      "text/markdown": [
       "<br><span style=\"color:#c4731d\">Sample</span>."
      ],
      "text/plain": [
       "<IPython.core.display.Markdown object>"
      ]
     },
     "metadata": {},
     "output_type": "display_data"
    },
    {
     "data": {
      "text/markdown": [
       "<br><span style=\"color:#90f62c\">Sample</span>."
      ],
      "text/plain": [
       "<IPython.core.display.Markdown object>"
      ]
     },
     "metadata": {},
     "output_type": "display_data"
    },
    {
     "data": {
      "text/markdown": [
       "<br><span style=\"color:#194f27\">Sample</span>."
      ],
      "text/plain": [
       "<IPython.core.display.Markdown object>"
      ]
     },
     "metadata": {},
     "output_type": "display_data"
    },
    {
     "data": {
      "text/markdown": [
       "<br><span style=\"color:#b85f0b\">Sample</span>."
      ],
      "text/plain": [
       "<IPython.core.display.Markdown object>"
      ]
     },
     "metadata": {},
     "output_type": "display_data"
    },
    {
     "data": {
      "text/markdown": [
       "<br><span style=\"color:#651251\">Sample</span>."
      ],
      "text/plain": [
       "<IPython.core.display.Markdown object>"
      ]
     },
     "metadata": {},
     "output_type": "display_data"
    },
    {
     "data": {
      "text/markdown": [
       "<br><span style=\"color:#f87922\">Sample</span>."
      ],
      "text/plain": [
       "<IPython.core.display.Markdown object>"
      ]
     },
     "metadata": {},
     "output_type": "display_data"
    },
    {
     "data": {
      "text/markdown": [
       "<br><span style=\"color:#289f5c\">Sample</span>."
      ],
      "text/plain": [
       "<IPython.core.display.Markdown object>"
      ]
     },
     "metadata": {},
     "output_type": "display_data"
    },
    {
     "data": {
      "text/markdown": [
       "<br><span style=\"color:#766bdd\">Sample</span>."
      ],
      "text/plain": [
       "<IPython.core.display.Markdown object>"
      ]
     },
     "metadata": {},
     "output_type": "display_data"
    },
    {
     "data": {
      "text/markdown": [
       "<br><span style=\"color:#6b50f8\">Sample</span>."
      ],
      "text/plain": [
       "<IPython.core.display.Markdown object>"
      ]
     },
     "metadata": {},
     "output_type": "display_data"
    },
    {
     "data": {
      "text/markdown": [
       "<br><span style=\"color:#d2a400\">Sample</span>."
      ],
      "text/plain": [
       "<IPython.core.display.Markdown object>"
      ]
     },
     "metadata": {},
     "output_type": "display_data"
    },
    {
     "data": {
      "text/markdown": [
       "<br><span style=\"color:#20a306\">Sample</span>."
      ],
      "text/plain": [
       "<IPython.core.display.Markdown object>"
      ]
     },
     "metadata": {},
     "output_type": "display_data"
    },
    {
     "data": {
      "text/markdown": [
       "<br><span style=\"color:#c60960\">Sample</span>."
      ],
      "text/plain": [
       "<IPython.core.display.Markdown object>"
      ]
     },
     "metadata": {},
     "output_type": "display_data"
    },
    {
     "data": {
      "text/markdown": [
       "<br><span style=\"color:#f759ed\">Sample</span>."
      ],
      "text/plain": [
       "<IPython.core.display.Markdown object>"
      ]
     },
     "metadata": {},
     "output_type": "display_data"
    },
    {
     "data": {
      "text/markdown": [
       "<br><span style=\"color:#88c2ab\">Sample</span>."
      ],
      "text/plain": [
       "<IPython.core.display.Markdown object>"
      ]
     },
     "metadata": {},
     "output_type": "display_data"
    },
    {
     "data": {
      "text/markdown": [
       "<br><span style=\"color:#d5f0a0\">Sample</span>."
      ],
      "text/plain": [
       "<IPython.core.display.Markdown object>"
      ]
     },
     "metadata": {},
     "output_type": "display_data"
    },
    {
     "data": {
      "text/markdown": [
       "<br><span style=\"color:#8ea943\">Sample</span>."
      ],
      "text/plain": [
       "<IPython.core.display.Markdown object>"
      ]
     },
     "metadata": {},
     "output_type": "display_data"
    },
    {
     "data": {
      "text/markdown": [
       "<br><span style=\"color:#dede7f\">Sample</span>."
      ],
      "text/plain": [
       "<IPython.core.display.Markdown object>"
      ]
     },
     "metadata": {},
     "output_type": "display_data"
    },
    {
     "data": {
      "text/markdown": [
       "<br><span style=\"color:#7f2c70\">Sample</span>."
      ],
      "text/plain": [
       "<IPython.core.display.Markdown object>"
      ]
     },
     "metadata": {},
     "output_type": "display_data"
    },
    {
     "data": {
      "text/markdown": [
       "<br><span style=\"color:#d3d8a6\">Sample</span>."
      ],
      "text/plain": [
       "<IPython.core.display.Markdown object>"
      ]
     },
     "metadata": {},
     "output_type": "display_data"
    },
    {
     "data": {
      "text/markdown": [
       "<br><span style=\"color:#58d729\">Sample</span>."
      ],
      "text/plain": [
       "<IPython.core.display.Markdown object>"
      ]
     },
     "metadata": {},
     "output_type": "display_data"
    },
    {
     "data": {
      "text/markdown": [
       "<br><span style=\"color:#30dcc0\">Sample</span>."
      ],
      "text/plain": [
       "<IPython.core.display.Markdown object>"
      ]
     },
     "metadata": {},
     "output_type": "display_data"
    },
    {
     "data": {
      "text/markdown": [
       "<br><span style=\"color:#4b7eb6\">Sample</span>."
      ],
      "text/plain": [
       "<IPython.core.display.Markdown object>"
      ]
     },
     "metadata": {},
     "output_type": "display_data"
    },
    {
     "data": {
      "text/markdown": [
       "<br><span style=\"color:#1bf7f4\">Sample</span>."
      ],
      "text/plain": [
       "<IPython.core.display.Markdown object>"
      ]
     },
     "metadata": {},
     "output_type": "display_data"
    },
    {
     "data": {
      "text/markdown": [
       "<br><span style=\"color:#0ebaac\">Sample</span>."
      ],
      "text/plain": [
       "<IPython.core.display.Markdown object>"
      ]
     },
     "metadata": {},
     "output_type": "display_data"
    },
    {
     "data": {
      "text/markdown": [
       "<br><span style=\"color:#7fbfd2\">Sample</span>."
      ],
      "text/plain": [
       "<IPython.core.display.Markdown object>"
      ]
     },
     "metadata": {},
     "output_type": "display_data"
    },
    {
     "data": {
      "text/markdown": [
       "<br><span style=\"color:#eb9bb1\">Sample</span>."
      ],
      "text/plain": [
       "<IPython.core.display.Markdown object>"
      ]
     },
     "metadata": {},
     "output_type": "display_data"
    },
    {
     "data": {
      "text/markdown": [
       "<br><span style=\"color:#c63e59\">Sample</span>."
      ],
      "text/plain": [
       "<IPython.core.display.Markdown object>"
      ]
     },
     "metadata": {},
     "output_type": "display_data"
    },
    {
     "data": {
      "text/markdown": [
       "<br><span style=\"color:#ea4b4c\">Sample</span>."
      ],
      "text/plain": [
       "<IPython.core.display.Markdown object>"
      ]
     },
     "metadata": {},
     "output_type": "display_data"
    },
    {
     "data": {
      "text/markdown": [
       "<br><span style=\"color:#acc8e7\">Sample</span>."
      ],
      "text/plain": [
       "<IPython.core.display.Markdown object>"
      ]
     },
     "metadata": {},
     "output_type": "display_data"
    },
    {
     "data": {
      "text/markdown": [
       "<br><span style=\"color:#8240df\">Sample</span>."
      ],
      "text/plain": [
       "<IPython.core.display.Markdown object>"
      ]
     },
     "metadata": {},
     "output_type": "display_data"
    },
    {
     "data": {
      "text/markdown": [
       "<br><span style=\"color:#07b70d\">Sample</span>."
      ],
      "text/plain": [
       "<IPython.core.display.Markdown object>"
      ]
     },
     "metadata": {},
     "output_type": "display_data"
    },
    {
     "data": {
      "text/markdown": [
       "<br><span style=\"color:#ee5e33\">Sample</span>."
      ],
      "text/plain": [
       "<IPython.core.display.Markdown object>"
      ]
     },
     "metadata": {},
     "output_type": "display_data"
    },
    {
     "data": {
      "text/markdown": [
       "<br><span style=\"color:#687a3f\">Sample</span>."
      ],
      "text/plain": [
       "<IPython.core.display.Markdown object>"
      ]
     },
     "metadata": {},
     "output_type": "display_data"
    },
    {
     "data": {
      "text/markdown": [
       "<br><span style=\"color:#3656e9\">Sample</span>."
      ],
      "text/plain": [
       "<IPython.core.display.Markdown object>"
      ]
     },
     "metadata": {},
     "output_type": "display_data"
    },
    {
     "data": {
      "text/markdown": [
       "<br><span style=\"color:#878717\">Sample</span>."
      ],
      "text/plain": [
       "<IPython.core.display.Markdown object>"
      ]
     },
     "metadata": {},
     "output_type": "display_data"
    },
    {
     "data": {
      "text/markdown": [
       "<br><span style=\"color:#beea86\">Sample</span>."
      ],
      "text/plain": [
       "<IPython.core.display.Markdown object>"
      ]
     },
     "metadata": {},
     "output_type": "display_data"
    },
    {
     "data": {
      "text/markdown": [
       "<br><span style=\"color:#0b8aef\">Sample</span>."
      ],
      "text/plain": [
       "<IPython.core.display.Markdown object>"
      ]
     },
     "metadata": {},
     "output_type": "display_data"
    },
    {
     "data": {
      "text/markdown": [
       "<br><span style=\"color:#a26588\">Sample</span>."
      ],
      "text/plain": [
       "<IPython.core.display.Markdown object>"
      ]
     },
     "metadata": {},
     "output_type": "display_data"
    },
    {
     "data": {
      "text/markdown": [
       "<br><span style=\"color:#b84e48\">Sample</span>."
      ],
      "text/plain": [
       "<IPython.core.display.Markdown object>"
      ]
     },
     "metadata": {},
     "output_type": "display_data"
    },
    {
     "data": {
      "text/markdown": [
       "<br><span style=\"color:#0942db\">Sample</span>."
      ],
      "text/plain": [
       "<IPython.core.display.Markdown object>"
      ]
     },
     "metadata": {},
     "output_type": "display_data"
    },
    {
     "data": {
      "text/markdown": [
       "<br><span style=\"color:#85f8bf\">Sample</span>."
      ],
      "text/plain": [
       "<IPython.core.display.Markdown object>"
      ]
     },
     "metadata": {},
     "output_type": "display_data"
    },
    {
     "data": {
      "text/markdown": [
       "<br><span style=\"color:#8353b4\">Sample</span>."
      ],
      "text/plain": [
       "<IPython.core.display.Markdown object>"
      ]
     },
     "metadata": {},
     "output_type": "display_data"
    },
    {
     "data": {
      "text/markdown": [
       "<br><span style=\"color:#d816d7\">Sample</span>."
      ],
      "text/plain": [
       "<IPython.core.display.Markdown object>"
      ]
     },
     "metadata": {},
     "output_type": "display_data"
    },
    {
     "data": {
      "text/markdown": [
       "<br><span style=\"color:#c7cf70\">Sample</span>."
      ],
      "text/plain": [
       "<IPython.core.display.Markdown object>"
      ]
     },
     "metadata": {},
     "output_type": "display_data"
    },
    {
     "data": {
      "text/markdown": [
       "<br><span style=\"color:#894bb8\">Sample</span>."
      ],
      "text/plain": [
       "<IPython.core.display.Markdown object>"
      ]
     },
     "metadata": {},
     "output_type": "display_data"
    },
    {
     "data": {
      "text/markdown": [
       "<br><span style=\"color:#0cee02\">Sample</span>."
      ],
      "text/plain": [
       "<IPython.core.display.Markdown object>"
      ]
     },
     "metadata": {},
     "output_type": "display_data"
    },
    {
     "data": {
      "text/markdown": [
       "<br><span style=\"color:#ccc608\">Sample</span>."
      ],
      "text/plain": [
       "<IPython.core.display.Markdown object>"
      ]
     },
     "metadata": {},
     "output_type": "display_data"
    },
    {
     "data": {
      "text/markdown": [
       "<br><span style=\"color:#2b6a1c\">Sample</span>."
      ],
      "text/plain": [
       "<IPython.core.display.Markdown object>"
      ]
     },
     "metadata": {},
     "output_type": "display_data"
    },
    {
     "data": {
      "text/markdown": [
       "<br><span style=\"color:#99c6b5\">Sample</span>."
      ],
      "text/plain": [
       "<IPython.core.display.Markdown object>"
      ]
     },
     "metadata": {},
     "output_type": "display_data"
    },
    {
     "data": {
      "text/markdown": [
       "<br><span style=\"color:#2880ab\">Sample</span>."
      ],
      "text/plain": [
       "<IPython.core.display.Markdown object>"
      ]
     },
     "metadata": {},
     "output_type": "display_data"
    },
    {
     "data": {
      "text/markdown": [
       "<br><span style=\"color:#2c673b\">Sample</span>."
      ],
      "text/plain": [
       "<IPython.core.display.Markdown object>"
      ]
     },
     "metadata": {},
     "output_type": "display_data"
    },
    {
     "data": {
      "text/markdown": [
       "<br><span style=\"color:#b93748\">Sample</span>."
      ],
      "text/plain": [
       "<IPython.core.display.Markdown object>"
      ]
     },
     "metadata": {},
     "output_type": "display_data"
    },
    {
     "data": {
      "text/markdown": [
       "<br><span style=\"color:#ee278d\">Sample</span>."
      ],
      "text/plain": [
       "<IPython.core.display.Markdown object>"
      ]
     },
     "metadata": {},
     "output_type": "display_data"
    },
    {
     "data": {
      "text/markdown": [
       "<br><span style=\"color:#6c28ac\">Sample</span>."
      ],
      "text/plain": [
       "<IPython.core.display.Markdown object>"
      ]
     },
     "metadata": {},
     "output_type": "display_data"
    },
    {
     "data": {
      "text/markdown": [
       "<br><span style=\"color:#a6ecf6\">Sample</span>."
      ],
      "text/plain": [
       "<IPython.core.display.Markdown object>"
      ]
     },
     "metadata": {},
     "output_type": "display_data"
    },
    {
     "data": {
      "text/markdown": [
       "<br><span style=\"color:#0ed196\">Sample</span>."
      ],
      "text/plain": [
       "<IPython.core.display.Markdown object>"
      ]
     },
     "metadata": {},
     "output_type": "display_data"
    },
    {
     "data": {
      "text/markdown": [
       "<br><span style=\"color:#ab33d8\">Sample</span>."
      ],
      "text/plain": [
       "<IPython.core.display.Markdown object>"
      ]
     },
     "metadata": {},
     "output_type": "display_data"
    },
    {
     "data": {
      "text/markdown": [
       "<br><span style=\"color:#cde0f7\">Sample</span>."
      ],
      "text/plain": [
       "<IPython.core.display.Markdown object>"
      ]
     },
     "metadata": {},
     "output_type": "display_data"
    },
    {
     "data": {
      "text/markdown": [
       "<br><span style=\"color:#a47828\">Sample</span>."
      ],
      "text/plain": [
       "<IPython.core.display.Markdown object>"
      ]
     },
     "metadata": {},
     "output_type": "display_data"
    },
    {
     "data": {
      "text/markdown": [
       "<br><span style=\"color:#300761\">Sample</span>."
      ],
      "text/plain": [
       "<IPython.core.display.Markdown object>"
      ]
     },
     "metadata": {},
     "output_type": "display_data"
    },
    {
     "data": {
      "text/markdown": [
       "<br><span style=\"color:#37fc16\">Sample</span>."
      ],
      "text/plain": [
       "<IPython.core.display.Markdown object>"
      ]
     },
     "metadata": {},
     "output_type": "display_data"
    },
    {
     "data": {
      "text/markdown": [
       "<br><span style=\"color:#060fa4\">Sample</span>."
      ],
      "text/plain": [
       "<IPython.core.display.Markdown object>"
      ]
     },
     "metadata": {},
     "output_type": "display_data"
    },
    {
     "data": {
      "text/markdown": [
       "<br><span style=\"color:#9abbe6\">Sample</span>."
      ],
      "text/plain": [
       "<IPython.core.display.Markdown object>"
      ]
     },
     "metadata": {},
     "output_type": "display_data"
    },
    {
     "data": {
      "text/markdown": [
       "<br><span style=\"color:#f410e0\">Sample</span>."
      ],
      "text/plain": [
       "<IPython.core.display.Markdown object>"
      ]
     },
     "metadata": {},
     "output_type": "display_data"
    },
    {
     "data": {
      "text/markdown": [
       "<br><span style=\"color:#63670b\">Sample</span>."
      ],
      "text/plain": [
       "<IPython.core.display.Markdown object>"
      ]
     },
     "metadata": {},
     "output_type": "display_data"
    },
    {
     "data": {
      "text/markdown": [
       "<br><span style=\"color:#6d7575\">Sample</span>."
      ],
      "text/plain": [
       "<IPython.core.display.Markdown object>"
      ]
     },
     "metadata": {},
     "output_type": "display_data"
    },
    {
     "data": {
      "text/markdown": [
       "<br><span style=\"color:#d6bb47\">Sample</span>."
      ],
      "text/plain": [
       "<IPython.core.display.Markdown object>"
      ]
     },
     "metadata": {},
     "output_type": "display_data"
    },
    {
     "data": {
      "text/markdown": [
       "<br><span style=\"color:#bd0cae\">Sample</span>."
      ],
      "text/plain": [
       "<IPython.core.display.Markdown object>"
      ]
     },
     "metadata": {},
     "output_type": "display_data"
    },
    {
     "data": {
      "text/markdown": [
       "<br><span style=\"color:#d08288\">Sample</span>."
      ],
      "text/plain": [
       "<IPython.core.display.Markdown object>"
      ]
     },
     "metadata": {},
     "output_type": "display_data"
    },
    {
     "data": {
      "text/markdown": [
       "<br><span style=\"color:#f1f578\">Sample</span>."
      ],
      "text/plain": [
       "<IPython.core.display.Markdown object>"
      ]
     },
     "metadata": {},
     "output_type": "display_data"
    },
    {
     "data": {
      "text/markdown": [
       "<br><span style=\"color:#a011c4\">Sample</span>."
      ],
      "text/plain": [
       "<IPython.core.display.Markdown object>"
      ]
     },
     "metadata": {},
     "output_type": "display_data"
    },
    {
     "data": {
      "text/markdown": [
       "<br><span style=\"color:#a8b53d\">Sample</span>."
      ],
      "text/plain": [
       "<IPython.core.display.Markdown object>"
      ]
     },
     "metadata": {},
     "output_type": "display_data"
    },
    {
     "data": {
      "text/markdown": [
       "<br><span style=\"color:#75ec60\">Sample</span>."
      ],
      "text/plain": [
       "<IPython.core.display.Markdown object>"
      ]
     },
     "metadata": {},
     "output_type": "display_data"
    },
    {
     "data": {
      "text/markdown": [
       "<br><span style=\"color:#b23da9\">Sample</span>."
      ],
      "text/plain": [
       "<IPython.core.display.Markdown object>"
      ]
     },
     "metadata": {},
     "output_type": "display_data"
    },
    {
     "data": {
      "text/markdown": [
       "<br><span style=\"color:#00be01\">Sample</span>."
      ],
      "text/plain": [
       "<IPython.core.display.Markdown object>"
      ]
     },
     "metadata": {},
     "output_type": "display_data"
    },
    {
     "data": {
      "text/markdown": [
       "<br><span style=\"color:#1bd934\">Sample</span>."
      ],
      "text/plain": [
       "<IPython.core.display.Markdown object>"
      ]
     },
     "metadata": {},
     "output_type": "display_data"
    },
    {
     "data": {
      "text/markdown": [
       "<br><span style=\"color:#ce1064\">Sample</span>."
      ],
      "text/plain": [
       "<IPython.core.display.Markdown object>"
      ]
     },
     "metadata": {},
     "output_type": "display_data"
    },
    {
     "data": {
      "text/markdown": [
       "<br><span style=\"color:#84a02f\">Sample</span>."
      ],
      "text/plain": [
       "<IPython.core.display.Markdown object>"
      ]
     },
     "metadata": {},
     "output_type": "display_data"
    },
    {
     "data": {
      "text/markdown": [
       "<br><span style=\"color:#85d23b\">Sample</span>."
      ],
      "text/plain": [
       "<IPython.core.display.Markdown object>"
      ]
     },
     "metadata": {},
     "output_type": "display_data"
    },
    {
     "data": {
      "text/markdown": [
       "<br><span style=\"color:#10e6f0\">Sample</span>."
      ],
      "text/plain": [
       "<IPython.core.display.Markdown object>"
      ]
     },
     "metadata": {},
     "output_type": "display_data"
    },
    {
     "data": {
      "text/markdown": [
       "<br><span style=\"color:#247089\">Sample</span>."
      ],
      "text/plain": [
       "<IPython.core.display.Markdown object>"
      ]
     },
     "metadata": {},
     "output_type": "display_data"
    },
    {
     "data": {
      "text/markdown": [
       "<br><span style=\"color:#56f9c8\">Sample</span>."
      ],
      "text/plain": [
       "<IPython.core.display.Markdown object>"
      ]
     },
     "metadata": {},
     "output_type": "display_data"
    },
    {
     "data": {
      "text/markdown": [
       "<br><span style=\"color:#f8d286\">Sample</span>."
      ],
      "text/plain": [
       "<IPython.core.display.Markdown object>"
      ]
     },
     "metadata": {},
     "output_type": "display_data"
    },
    {
     "data": {
      "text/markdown": [
       "<br><span style=\"color:#f712d4\">Sample</span>."
      ],
      "text/plain": [
       "<IPython.core.display.Markdown object>"
      ]
     },
     "metadata": {},
     "output_type": "display_data"
    },
    {
     "data": {
      "text/markdown": [
       "<br><span style=\"color:#e54c79\">Sample</span>."
      ],
      "text/plain": [
       "<IPython.core.display.Markdown object>"
      ]
     },
     "metadata": {},
     "output_type": "display_data"
    },
    {
     "data": {
      "text/markdown": [
       "<br><span style=\"color:#234691\">Sample</span>."
      ],
      "text/plain": [
       "<IPython.core.display.Markdown object>"
      ]
     },
     "metadata": {},
     "output_type": "display_data"
    },
    {
     "data": {
      "text/markdown": [
       "<br><span style=\"color:#e29100\">Sample</span>."
      ],
      "text/plain": [
       "<IPython.core.display.Markdown object>"
      ]
     },
     "metadata": {},
     "output_type": "display_data"
    },
    {
     "data": {
      "text/markdown": [
       "<br><span style=\"color:#21fd46\">Sample</span>."
      ],
      "text/plain": [
       "<IPython.core.display.Markdown object>"
      ]
     },
     "metadata": {},
     "output_type": "display_data"
    },
    {
     "data": {
      "text/markdown": [
       "<br><span style=\"color:#8a39d7\">Sample</span>."
      ],
      "text/plain": [
       "<IPython.core.display.Markdown object>"
      ]
     },
     "metadata": {},
     "output_type": "display_data"
    }
   ],
   "source": [
    "from IPython.display import Markdown\n",
    "for color in color_dict:\n",
    "    display (Markdown('<br><span style=\"color:' +color['color_code']+ '\">Sample</span>.'))\n",
    "    \n"
   ]
  },
  {
   "cell_type": "code",
   "execution_count": 31,
   "metadata": {},
   "outputs": [
    {
     "name": "stdout",
     "output_type": "stream",
     "text": [
      "(2723, 195)\n"
     ]
    },
    {
     "data": {
      "text/html": [
       "<div>\n",
       "<style scoped>\n",
       "    .dataframe tbody tr th:only-of-type {\n",
       "        vertical-align: middle;\n",
       "    }\n",
       "\n",
       "    .dataframe tbody tr th {\n",
       "        vertical-align: top;\n",
       "    }\n",
       "\n",
       "    .dataframe thead th {\n",
       "        text-align: right;\n",
       "    }\n",
       "</style>\n",
       "<table border=\"1\" class=\"dataframe\">\n",
       "  <thead>\n",
       "    <tr style=\"text-align: right;\">\n",
       "      <th></th>\n",
       "      <th>EntryID</th>\n",
       "      <th>LemmaID</th>\n",
       "      <th>Code</th>\n",
       "      <th>Batch</th>\n",
       "      <th>List</th>\n",
       "      <th>Item</th>\n",
       "      <th>YouTube Video</th>\n",
       "      <th>VimeoVideoHTML</th>\n",
       "      <th>VimeoVideo</th>\n",
       "      <th>SignFrequency(M)</th>\n",
       "      <th>...</th>\n",
       "      <th>Parameter.Neighborhood.Density.2.0</th>\n",
       "      <th>Neighborhood Density 2.0</th>\n",
       "      <th>SignBankAnnotationID</th>\n",
       "      <th>SignBankEnglishTranslations</th>\n",
       "      <th>SignBankLemmaID</th>\n",
       "      <th>SignBankSemanticField</th>\n",
       "      <th>SignBankID</th>\n",
       "      <th>Neighborhood Density</th>\n",
       "      <th>group_id</th>\n",
       "      <th>color_code</th>\n",
       "    </tr>\n",
       "  </thead>\n",
       "  <tbody>\n",
       "    <tr>\n",
       "      <th>0</th>\n",
       "      <td>1_dollar</td>\n",
       "      <td>1_dollar</td>\n",
       "      <td>C_02_025</td>\n",
       "      <td>C</td>\n",
       "      <td>2.0</td>\n",
       "      <td>25.0</td>\n",
       "      <td>&lt;iframe width=\"280\" height=\"158\" src=\"https://...</td>\n",
       "      <td>&lt;iframe src=https://player.vimeo.com/video/345...</td>\n",
       "      <td>https://player.vimeo.com/video/345587917</td>\n",
       "      <td>3.034</td>\n",
       "      <td>...</td>\n",
       "      <td>383</td>\n",
       "      <td>0</td>\n",
       "      <td>DOLLAR</td>\n",
       "      <td>bill, cash, dollar, money</td>\n",
       "      <td>1_DOLLAR</td>\n",
       "      <td>None</td>\n",
       "      <td>1268.0</td>\n",
       "      <td>0</td>\n",
       "      <td>1000.0</td>\n",
       "      <td>#5147c2</td>\n",
       "    </tr>\n",
       "    <tr>\n",
       "      <th>1</th>\n",
       "      <td>5_dollars</td>\n",
       "      <td>5_dollars</td>\n",
       "      <td>B_01_062</td>\n",
       "      <td>B</td>\n",
       "      <td>1.0</td>\n",
       "      <td>62.0</td>\n",
       "      <td>&lt;iframe width=\"280\" height=\"158\" src=\"https://...</td>\n",
       "      <td>&lt;iframe src=https://player.vimeo.com/video/344...</td>\n",
       "      <td>https://player.vimeo.com/video/344399314</td>\n",
       "      <td>5.120</td>\n",
       "      <td>...</td>\n",
       "      <td>190</td>\n",
       "      <td>4</td>\n",
       "      <td>FIVE-DOLLARS</td>\n",
       "      <td>dollar, five dollars, money</td>\n",
       "      <td>5_DOLLAR</td>\n",
       "      <td>Number</td>\n",
       "      <td>2436.0</td>\n",
       "      <td>5</td>\n",
       "      <td>0.0</td>\n",
       "      <td>#df76d6</td>\n",
       "    </tr>\n",
       "    <tr>\n",
       "      <th>2</th>\n",
       "      <td>8_hour</td>\n",
       "      <td>8_hour</td>\n",
       "      <td>C_02_055</td>\n",
       "      <td>C</td>\n",
       "      <td>2.0</td>\n",
       "      <td>55.0</td>\n",
       "      <td>&lt;iframe width=\"280\" height=\"158\" src=\"https://...</td>\n",
       "      <td>&lt;iframe src=https://player.vimeo.com/video/345...</td>\n",
       "      <td>https://player.vimeo.com/video/345588916</td>\n",
       "      <td>4.267</td>\n",
       "      <td>...</td>\n",
       "      <td>129</td>\n",
       "      <td>0</td>\n",
       "      <td>EIGHT-HOURSneut</td>\n",
       "      <td>eight hours, 8 hours, hour, time</td>\n",
       "      <td>NUMBER-HOURS</td>\n",
       "      <td>Number</td>\n",
       "      <td>2437.0</td>\n",
       "      <td>0</td>\n",
       "      <td>1000.0</td>\n",
       "      <td>#5147c2</td>\n",
       "    </tr>\n",
       "    <tr>\n",
       "      <th>3</th>\n",
       "      <td>9_oclock</td>\n",
       "      <td>9_oclock</td>\n",
       "      <td>C_02_080</td>\n",
       "      <td>C</td>\n",
       "      <td>2.0</td>\n",
       "      <td>80.0</td>\n",
       "      <td>&lt;iframe width=\"280\" height=\"158\" src=\"https://...</td>\n",
       "      <td>&lt;iframe src=https://player.vimeo.com/video/345...</td>\n",
       "      <td>https://player.vimeo.com/video/345589804</td>\n",
       "      <td>4.133</td>\n",
       "      <td>...</td>\n",
       "      <td>48</td>\n",
       "      <td>4</td>\n",
       "      <td>OCLOCK-NINE</td>\n",
       "      <td>9:00, 9 o'clock, nine o'clock, o'clock, time</td>\n",
       "      <td>OCLOCK-NUMBER</td>\n",
       "      <td>None</td>\n",
       "      <td>2857.0</td>\n",
       "      <td>2</td>\n",
       "      <td>130.0</td>\n",
       "      <td>#f1afa4</td>\n",
       "    </tr>\n",
       "    <tr>\n",
       "      <th>4</th>\n",
       "      <td>a-line_bob</td>\n",
       "      <td>a-line_bob</td>\n",
       "      <td>K_03_127</td>\n",
       "      <td>NaN</td>\n",
       "      <td>NaN</td>\n",
       "      <td>NaN</td>\n",
       "      <td>NaN</td>\n",
       "      <td>&lt;iframe src=https://player.vimeo.com/video/342...</td>\n",
       "      <td>https://player.vimeo.com/video/342308099</td>\n",
       "      <td>4.273</td>\n",
       "      <td>...</td>\n",
       "      <td>158</td>\n",
       "      <td>4</td>\n",
       "      <td>NaN</td>\n",
       "      <td>NaN</td>\n",
       "      <td>NaN</td>\n",
       "      <td>NaN</td>\n",
       "      <td>NaN</td>\n",
       "      <td>3</td>\n",
       "      <td>168.0</td>\n",
       "      <td>#45fd0d</td>\n",
       "    </tr>\n",
       "  </tbody>\n",
       "</table>\n",
       "<p>5 rows × 195 columns</p>\n",
       "</div>"
      ],
      "text/plain": [
       "      EntryID     LemmaID      Code Batch  List  Item  \\\n",
       "0    1_dollar    1_dollar  C_02_025     C   2.0  25.0   \n",
       "1   5_dollars   5_dollars  B_01_062     B   1.0  62.0   \n",
       "2      8_hour      8_hour  C_02_055     C   2.0  55.0   \n",
       "3    9_oclock    9_oclock  C_02_080     C   2.0  80.0   \n",
       "4  a-line_bob  a-line_bob  K_03_127   NaN   NaN   NaN   \n",
       "\n",
       "                                       YouTube Video  \\\n",
       "0  <iframe width=\"280\" height=\"158\" src=\"https://...   \n",
       "1  <iframe width=\"280\" height=\"158\" src=\"https://...   \n",
       "2  <iframe width=\"280\" height=\"158\" src=\"https://...   \n",
       "3  <iframe width=\"280\" height=\"158\" src=\"https://...   \n",
       "4                                                NaN   \n",
       "\n",
       "                                      VimeoVideoHTML  \\\n",
       "0  <iframe src=https://player.vimeo.com/video/345...   \n",
       "1  <iframe src=https://player.vimeo.com/video/344...   \n",
       "2  <iframe src=https://player.vimeo.com/video/345...   \n",
       "3  <iframe src=https://player.vimeo.com/video/345...   \n",
       "4  <iframe src=https://player.vimeo.com/video/342...   \n",
       "\n",
       "                                 VimeoVideo  SignFrequency(M)  ...  \\\n",
       "0  https://player.vimeo.com/video/345587917             3.034  ...   \n",
       "1  https://player.vimeo.com/video/344399314             5.120  ...   \n",
       "2  https://player.vimeo.com/video/345588916             4.267  ...   \n",
       "3  https://player.vimeo.com/video/345589804             4.133  ...   \n",
       "4  https://player.vimeo.com/video/342308099             4.273  ...   \n",
       "\n",
       "   Parameter.Neighborhood.Density.2.0  Neighborhood Density 2.0  \\\n",
       "0                                 383                         0   \n",
       "1                                 190                         4   \n",
       "2                                 129                         0   \n",
       "3                                  48                         4   \n",
       "4                                 158                         4   \n",
       "\n",
       "   SignBankAnnotationID                   SignBankEnglishTranslations  \\\n",
       "0                DOLLAR                     bill, cash, dollar, money   \n",
       "1          FIVE-DOLLARS                   dollar, five dollars, money   \n",
       "2       EIGHT-HOURSneut              eight hours, 8 hours, hour, time   \n",
       "3           OCLOCK-NINE  9:00, 9 o'clock, nine o'clock, o'clock, time   \n",
       "4                   NaN                                           NaN   \n",
       "\n",
       "   SignBankLemmaID  SignBankSemanticField  SignBankID  Neighborhood Density  \\\n",
       "0         1_DOLLAR                   None      1268.0                     0   \n",
       "1         5_DOLLAR                 Number      2436.0                     5   \n",
       "2     NUMBER-HOURS                 Number      2437.0                     0   \n",
       "3    OCLOCK-NUMBER                   None      2857.0                     2   \n",
       "4              NaN                    NaN         NaN                     3   \n",
       "\n",
       "   group_id  color_code  \n",
       "0    1000.0     #5147c2  \n",
       "1       0.0     #df76d6  \n",
       "2    1000.0     #5147c2  \n",
       "3     130.0     #f1afa4  \n",
       "4     168.0     #45fd0d  \n",
       "\n",
       "[5 rows x 195 columns]"
      ]
     },
     "execution_count": 31,
     "metadata": {},
     "output_type": "execute_result"
    }
   ],
   "source": [
    "color_df = pd.DataFrame(color_dict)\n",
    "df_merged_with_color = pd.merge(df_merged, color_df,how='left', on=['group_id'])\n",
    "print(df_merged_with_color.shape)\n",
    "df_merged_with_color.head()\n"
   ]
  },
  {
   "cell_type": "code",
   "execution_count": 32,
   "metadata": {},
   "outputs": [
    {
     "data": {
      "text/plain": [
       "(2723, 195)"
      ]
     },
     "execution_count": 32,
     "metadata": {},
     "output_type": "execute_result"
    }
   ],
   "source": [
    "df_merged_with_color.shape"
   ]
  },
  {
   "cell_type": "code",
   "execution_count": 33,
   "metadata": {},
   "outputs": [
    {
     "name": "stdout",
     "output_type": "stream",
     "text": [
      "(2723, 5)\n"
     ]
    },
    {
     "data": {
      "text/html": [
       "<div>\n",
       "<style scoped>\n",
       "    .dataframe tbody tr th:only-of-type {\n",
       "        vertical-align: middle;\n",
       "    }\n",
       "\n",
       "    .dataframe tbody tr th {\n",
       "        vertical-align: top;\n",
       "    }\n",
       "\n",
       "    .dataframe thead th {\n",
       "        text-align: right;\n",
       "    }\n",
       "</style>\n",
       "<table border=\"1\" class=\"dataframe\">\n",
       "  <thead>\n",
       "    <tr style=\"text-align: right;\">\n",
       "      <th></th>\n",
       "      <th>EntryID</th>\n",
       "      <th>Code</th>\n",
       "      <th>group_id</th>\n",
       "      <th>color_code</th>\n",
       "      <th>SignFrequency(Z)</th>\n",
       "    </tr>\n",
       "  </thead>\n",
       "  <tbody>\n",
       "    <tr>\n",
       "      <th>0</th>\n",
       "      <td>1_dollar</td>\n",
       "      <td>C_02_025</td>\n",
       "      <td>1000.0</td>\n",
       "      <td>#5147c2</td>\n",
       "      <td>-0.728</td>\n",
       "    </tr>\n",
       "    <tr>\n",
       "      <th>1</th>\n",
       "      <td>5_dollars</td>\n",
       "      <td>B_01_062</td>\n",
       "      <td>0.0</td>\n",
       "      <td>#df76d6</td>\n",
       "      <td>0.302</td>\n",
       "    </tr>\n",
       "    <tr>\n",
       "      <th>2</th>\n",
       "      <td>8_hour</td>\n",
       "      <td>C_02_055</td>\n",
       "      <td>1000.0</td>\n",
       "      <td>#5147c2</td>\n",
       "      <td>-0.025</td>\n",
       "    </tr>\n",
       "    <tr>\n",
       "      <th>3</th>\n",
       "      <td>9_oclock</td>\n",
       "      <td>C_02_080</td>\n",
       "      <td>130.0</td>\n",
       "      <td>#f1afa4</td>\n",
       "      <td>-0.122</td>\n",
       "    </tr>\n",
       "    <tr>\n",
       "      <th>4</th>\n",
       "      <td>a-line_bob</td>\n",
       "      <td>K_03_127</td>\n",
       "      <td>168.0</td>\n",
       "      <td>#45fd0d</td>\n",
       "      <td>0.030</td>\n",
       "    </tr>\n",
       "    <tr>\n",
       "      <th>5</th>\n",
       "      <td>a_little_bit</td>\n",
       "      <td>H_03_025</td>\n",
       "      <td>117.0</td>\n",
       "      <td>#4cc145</td>\n",
       "      <td>-0.762</td>\n",
       "    </tr>\n",
       "    <tr>\n",
       "      <th>6</th>\n",
       "      <td>abbreviate</td>\n",
       "      <td>G_01_040</td>\n",
       "      <td>240.0</td>\n",
       "      <td>#e096e4</td>\n",
       "      <td>0.669</td>\n",
       "    </tr>\n",
       "    <tr>\n",
       "      <th>7</th>\n",
       "      <td>about_1</td>\n",
       "      <td>B_02_072</td>\n",
       "      <td>128.0</td>\n",
       "      <td>#e38dbe</td>\n",
       "      <td>0.523</td>\n",
       "    </tr>\n",
       "    <tr>\n",
       "      <th>8</th>\n",
       "      <td>about_2</td>\n",
       "      <td>B_02_003</td>\n",
       "      <td>1000.0</td>\n",
       "      <td>#5147c2</td>\n",
       "      <td>-0.762</td>\n",
       "    </tr>\n",
       "    <tr>\n",
       "      <th>9</th>\n",
       "      <td>absolutely_nothing</td>\n",
       "      <td>J_01_027</td>\n",
       "      <td>52.0</td>\n",
       "      <td>#b1693e</td>\n",
       "      <td>-0.686</td>\n",
       "    </tr>\n",
       "    <tr>\n",
       "      <th>10</th>\n",
       "      <td>accent</td>\n",
       "      <td>E_01_073</td>\n",
       "      <td>1000.0</td>\n",
       "      <td>#5147c2</td>\n",
       "      <td>-0.681</td>\n",
       "    </tr>\n",
       "    <tr>\n",
       "      <th>11</th>\n",
       "      <td>accept</td>\n",
       "      <td>H_02_042</td>\n",
       "      <td>1000.0</td>\n",
       "      <td>#5147c2</td>\n",
       "      <td>0.812</td>\n",
       "    </tr>\n",
       "    <tr>\n",
       "      <th>12</th>\n",
       "      <td>access</td>\n",
       "      <td>H_02_086</td>\n",
       "      <td>198.0</td>\n",
       "      <td>#dd76df</td>\n",
       "      <td>0.527</td>\n",
       "    </tr>\n",
       "    <tr>\n",
       "      <th>13</th>\n",
       "      <td>accident</td>\n",
       "      <td>B_02_059</td>\n",
       "      <td>125.0</td>\n",
       "      <td>#7a1961</td>\n",
       "      <td>-0.326</td>\n",
       "    </tr>\n",
       "    <tr>\n",
       "      <th>14</th>\n",
       "      <td>accomplish</td>\n",
       "      <td>C_02_085</td>\n",
       "      <td>166.0</td>\n",
       "      <td>#9f704e</td>\n",
       "      <td>0.078</td>\n",
       "    </tr>\n",
       "    <tr>\n",
       "      <th>15</th>\n",
       "      <td>accordion</td>\n",
       "      <td>F_02_048</td>\n",
       "      <td>41.0</td>\n",
       "      <td>#ccea64</td>\n",
       "      <td>-1.423</td>\n",
       "    </tr>\n",
       "    <tr>\n",
       "      <th>16</th>\n",
       "      <td>accountant</td>\n",
       "      <td>A_03_044</td>\n",
       "      <td>87.0</td>\n",
       "      <td>#307e90</td>\n",
       "      <td>-0.381</td>\n",
       "    </tr>\n",
       "    <tr>\n",
       "      <th>17</th>\n",
       "      <td>acquire</td>\n",
       "      <td>H_01_034</td>\n",
       "      <td>167.0</td>\n",
       "      <td>#aa106d</td>\n",
       "      <td>0.676</td>\n",
       "    </tr>\n",
       "    <tr>\n",
       "      <th>18</th>\n",
       "      <td>act</td>\n",
       "      <td>B_02_038</td>\n",
       "      <td>60.0</td>\n",
       "      <td>#d90c42</td>\n",
       "      <td>-0.214</td>\n",
       "    </tr>\n",
       "    <tr>\n",
       "      <th>19</th>\n",
       "      <td>action</td>\n",
       "      <td>C_01_026</td>\n",
       "      <td>2.0</td>\n",
       "      <td>#b1a0d1</td>\n",
       "      <td>-0.017</td>\n",
       "    </tr>\n",
       "  </tbody>\n",
       "</table>\n",
       "</div>"
      ],
      "text/plain": [
       "               EntryID      Code  group_id color_code  SignFrequency(Z)\n",
       "0             1_dollar  C_02_025    1000.0    #5147c2            -0.728\n",
       "1            5_dollars  B_01_062       0.0    #df76d6             0.302\n",
       "2               8_hour  C_02_055    1000.0    #5147c2            -0.025\n",
       "3             9_oclock  C_02_080     130.0    #f1afa4            -0.122\n",
       "4           a-line_bob  K_03_127     168.0    #45fd0d             0.030\n",
       "5         a_little_bit  H_03_025     117.0    #4cc145            -0.762\n",
       "6           abbreviate  G_01_040     240.0    #e096e4             0.669\n",
       "7              about_1  B_02_072     128.0    #e38dbe             0.523\n",
       "8              about_2  B_02_003    1000.0    #5147c2            -0.762\n",
       "9   absolutely_nothing  J_01_027      52.0    #b1693e            -0.686\n",
       "10              accent  E_01_073    1000.0    #5147c2            -0.681\n",
       "11              accept  H_02_042    1000.0    #5147c2             0.812\n",
       "12              access  H_02_086     198.0    #dd76df             0.527\n",
       "13            accident  B_02_059     125.0    #7a1961            -0.326\n",
       "14          accomplish  C_02_085     166.0    #9f704e             0.078\n",
       "15           accordion  F_02_048      41.0    #ccea64            -1.423\n",
       "16          accountant  A_03_044      87.0    #307e90            -0.381\n",
       "17             acquire  H_01_034     167.0    #aa106d             0.676\n",
       "18                 act  B_02_038      60.0    #d90c42            -0.214\n",
       "19              action  C_01_026       2.0    #b1a0d1            -0.017"
      ]
     },
     "execution_count": 33,
     "metadata": {},
     "output_type": "execute_result"
    }
   ],
   "source": [
    "#Need only 5 columns for now for the graph file\n",
    "df_node_graph_json_data = df_merged_with_color[[\"EntryID\", \"Code\", \"group_id\", \"color_code\", \"SignFrequency(Z)\"]]\n",
    "print(df_node_graph_json_data.shape)\n",
    "df_node_graph_json_data.head(20)\n"
   ]
  },
  {
   "cell_type": "code",
   "execution_count": 34,
   "metadata": {},
   "outputs": [
    {
     "data": {
      "text/html": [
       "<div>\n",
       "<style scoped>\n",
       "    .dataframe tbody tr th:only-of-type {\n",
       "        vertical-align: middle;\n",
       "    }\n",
       "\n",
       "    .dataframe tbody tr th {\n",
       "        vertical-align: top;\n",
       "    }\n",
       "\n",
       "    .dataframe thead th {\n",
       "        text-align: right;\n",
       "    }\n",
       "</style>\n",
       "<table border=\"1\" class=\"dataframe\">\n",
       "  <thead>\n",
       "    <tr style=\"text-align: right;\">\n",
       "      <th></th>\n",
       "      <th>target</th>\n",
       "      <th>source</th>\n",
       "      <th>num_matched_features</th>\n",
       "      <th>matched_features</th>\n",
       "      <th>num_missed_features</th>\n",
       "      <th>missed_features</th>\n",
       "    </tr>\n",
       "  </thead>\n",
       "  <tbody>\n",
       "    <tr>\n",
       "      <th>0</th>\n",
       "      <td>A_01_002</td>\n",
       "      <td>B_01_062</td>\n",
       "      <td>13</td>\n",
       "      <td>SelectedFingers.2.0, Flexion.2.0, FlexionChang...</td>\n",
       "      <td>0</td>\n",
       "      <td>NaN</td>\n",
       "    </tr>\n",
       "    <tr>\n",
       "      <th>1</th>\n",
       "      <td>A_01_002</td>\n",
       "      <td>C_03_023</td>\n",
       "      <td>12</td>\n",
       "      <td>SelectedFingers.2.0, FlexionChange.2.0, Spread...</td>\n",
       "      <td>1</td>\n",
       "      <td>Flexion.2.0</td>\n",
       "    </tr>\n",
       "    <tr>\n",
       "      <th>2</th>\n",
       "      <td>A_01_002</td>\n",
       "      <td>F_02_088</td>\n",
       "      <td>12</td>\n",
       "      <td>Flexion.2.0, FlexionChange.2.0, Spread.2.0, Sp...</td>\n",
       "      <td>1</td>\n",
       "      <td>SelectedFingers.2.0</td>\n",
       "    </tr>\n",
       "    <tr>\n",
       "      <th>3</th>\n",
       "      <td>A_01_002</td>\n",
       "      <td>H_03_004</td>\n",
       "      <td>12</td>\n",
       "      <td>SelectedFingers.2.0, Flexion.2.0, FlexionChang...</td>\n",
       "      <td>1</td>\n",
       "      <td>ThumbPosition.2.0</td>\n",
       "    </tr>\n",
       "    <tr>\n",
       "      <th>4</th>\n",
       "      <td>A_01_002</td>\n",
       "      <td>J_03_046</td>\n",
       "      <td>13</td>\n",
       "      <td>SelectedFingers.2.0, Flexion.2.0, FlexionChang...</td>\n",
       "      <td>0</td>\n",
       "      <td>NaN</td>\n",
       "    </tr>\n",
       "  </tbody>\n",
       "</table>\n",
       "</div>"
      ],
      "text/plain": [
       "     target    source  num_matched_features  \\\n",
       "0  A_01_002  B_01_062                    13   \n",
       "1  A_01_002  C_03_023                    12   \n",
       "2  A_01_002  F_02_088                    12   \n",
       "3  A_01_002  H_03_004                    12   \n",
       "4  A_01_002  J_03_046                    13   \n",
       "\n",
       "                                    matched_features  num_missed_features  \\\n",
       "0  SelectedFingers.2.0, Flexion.2.0, FlexionChang...                    0   \n",
       "1  SelectedFingers.2.0, FlexionChange.2.0, Spread...                    1   \n",
       "2  Flexion.2.0, FlexionChange.2.0, Spread.2.0, Sp...                    1   \n",
       "3  SelectedFingers.2.0, Flexion.2.0, FlexionChang...                    1   \n",
       "4  SelectedFingers.2.0, Flexion.2.0, FlexionChang...                    0   \n",
       "\n",
       "       missed_features  \n",
       "0                  NaN  \n",
       "1          Flexion.2.0  \n",
       "2  SelectedFingers.2.0  \n",
       "3    ThumbPosition.2.0  \n",
       "4                  NaN  "
      ]
     },
     "execution_count": 34,
     "metadata": {},
     "output_type": "execute_result"
    }
   ],
   "source": [
    "edges_df.head()"
   ]
  },
  {
   "cell_type": "code",
   "execution_count": 35,
   "metadata": {},
   "outputs": [
    {
     "data": {
      "text/html": [
       "<div>\n",
       "<style scoped>\n",
       "    .dataframe tbody tr th:only-of-type {\n",
       "        vertical-align: middle;\n",
       "    }\n",
       "\n",
       "    .dataframe tbody tr th {\n",
       "        vertical-align: top;\n",
       "    }\n",
       "\n",
       "    .dataframe thead th {\n",
       "        text-align: right;\n",
       "    }\n",
       "</style>\n",
       "<table border=\"1\" class=\"dataframe\">\n",
       "  <thead>\n",
       "    <tr style=\"text-align: right;\">\n",
       "      <th></th>\n",
       "      <th>target</th>\n",
       "      <th>source</th>\n",
       "    </tr>\n",
       "  </thead>\n",
       "  <tbody>\n",
       "    <tr>\n",
       "      <th>0</th>\n",
       "      <td>A_01_002</td>\n",
       "      <td>B_01_062</td>\n",
       "    </tr>\n",
       "    <tr>\n",
       "      <th>1</th>\n",
       "      <td>A_01_002</td>\n",
       "      <td>C_03_023</td>\n",
       "    </tr>\n",
       "    <tr>\n",
       "      <th>2</th>\n",
       "      <td>A_01_002</td>\n",
       "      <td>F_02_088</td>\n",
       "    </tr>\n",
       "    <tr>\n",
       "      <th>3</th>\n",
       "      <td>A_01_002</td>\n",
       "      <td>H_03_004</td>\n",
       "    </tr>\n",
       "    <tr>\n",
       "      <th>4</th>\n",
       "      <td>A_01_002</td>\n",
       "      <td>J_03_046</td>\n",
       "    </tr>\n",
       "  </tbody>\n",
       "</table>\n",
       "</div>"
      ],
      "text/plain": [
       "     target    source\n",
       "0  A_01_002  B_01_062\n",
       "1  A_01_002  C_03_023\n",
       "2  A_01_002  F_02_088\n",
       "3  A_01_002  H_03_004\n",
       "4  A_01_002  J_03_046"
      ]
     },
     "execution_count": 35,
     "metadata": {},
     "output_type": "execute_result"
    }
   ],
   "source": [
    "not_need_edge_cols = ['num_matched_features', 'matched_features', 'num_missed_features', 'missed_features']\n",
    "links_df = edges_df.drop(columns=not_need_edge_cols)\n",
    "links_df.head()"
   ]
  },
  {
   "cell_type": "code",
   "execution_count": 36,
   "metadata": {},
   "outputs": [
    {
     "data": {
      "text/plain": [
       "{'target': 'A_01_002', 'source': 'B_01_062'}"
      ]
     },
     "execution_count": 36,
     "metadata": {},
     "output_type": "execute_result"
    }
   ],
   "source": [
    "edges_json_str = links_df.to_json(orient=\"records\")\n",
    "edges_json = json.loads(edges_json_str)\n",
    "edges_json[0]"
   ]
  },
  {
   "cell_type": "code",
   "execution_count": 52,
   "metadata": {},
   "outputs": [],
   "source": [
    "cols_not_in_sign_pane = [\"LemmaID\", \"SignFrequency(SD)\",\"SignFrequency(Z)\",\"SignFrequency(N)\",\"SignFrequency(M-Native)\",\"SignFrequency(SD-Native)\",\"SignFreq(Z-native)\",\"SignFrequency(N-Native)\",\"PercentUnknown(Native)\",\"PercentGlossAgreement(Native)\",\"SignFrequency(M-Nonnative)\",\"SignFrequency(SD-Nonnative)\",\"SignFreq(Z-Nonnative)\",\"SignFrequency(N-Nonnative)\",\"PercentUnknown(Nonnative)\",\"PercentGlossAgreement(Nonnative)\",\"Iconicity(SD)\",\"Iconicity(Z)\",\"Iconicity(N)\",\"Iconicity_ID\",\"D.Iconicity(SD) all\",\"D.Iconicity(Z) all\",\"D.Iconicity(N) all\",\"D.Iconicity(M) native\",\"D.Iconicity(SD) native\",\"D.Iconicity(Z) native\",\"D.Iconicity(N) native\",\"Transparency SD\",\"Transparency Z\",\"SignOnset(ms)\",\"SignOffset(ms)\",\"SignType 1.0\",\"MajorLocation 1.0\",\"MinorLocation 1.0\",\"SelectedFingers 1.0\",\"Compound 1.0\",\"Flexion 1.0\",\"Initialized 1.0\",\"Movement 1.0\",\"MinimalNeighborhoodDensity\",\"MaximalNeighborhoodDensity\",\"Parameter-BasedNeighborhoodDensity\",\"SignTypeFrequency\",\"MajorLocationFrequency\",\"MinorLocationFrequency\",\"SelectedFingersFrequency\",\"FlexionFrequency\",\"MovementFrequency\",\"HandshapeFrequency\",\"Batch\",\"Item\",\"List\",\"Source\",\"InCDI\",\"CDI_A\",\"CDI_B\",\"CDI_C\",\"CDIGloss\",\"CDI Semantic Category\",\"CDIDuplicate\",\"GlossConfirmation\",\"CDIComment\",\"In Frequency Rating Survey (FRS)?\",\"FRS_A\",\"FRS_B\",\"FRS_C\",\"FRS-Low Frequency item?\",\"InPPVT\",\"InEOWPVT\",\"PPVTTargetFoil\",\"PPVTPictureSource\",\"FingerspelledLoanSign 1.0\",\"Repeat.1\",\"BatesPicture\",\"BatesPicture: URL\",\"ASLVocabPicture\",\"ASLVocabPicture: URL\",\"Possible Picture?\",\"Possible Picture Comments\",\"ASLVocab Picture Google Drive\",\"ArtistInstructions\",\"IssuesWithItemsAndGlosses\",\"Brittany-Freq Comments\",\"PPVT with Pictures\",\"PPVT-Age Group\",\"PPVT-Expressive\",\"PPVT-Receptive\",\"Entry ID\",\"Bizarre Sign or Problematic Video\",\"InUconnPPVT\",\"CheckCompleteCoding\",\"Video File\",\"Video File: URL\",\"IconicityTypeShannon\",\"IconicityTypeClaire\",\"IconicityTypeLindsay\",\"IconicityTypeRotceh\",\"In ASL-LEX 2.0\",\"DraftIconicityID\",\"DraftIconicityM\",\"RightWristX\",\"RightWristcentroidY\",\"DistanceRightWristCentroid2Nose\",\"IconicityType\",\"ChelseaCoded\",\"HandshapeManualCorrections\",\"FormerKnackGloss\",\"CodingSignBank\",\"InZed\",\"Checked Vimeo\"]"
   ]
  },
  {
   "cell_type": "code",
   "execution_count": 53,
   "metadata": {},
   "outputs": [],
   "source": [
    "#Remove cols in sign pane\n",
    "#Keep column for filters and vimeo video\n",
    "cols_in_sign_data_pane = [\"EntryID\",\"SignFrequency(M)\",\"PercentUnknown\",\"PercentGlossAgreement\",\"DominantTranslation\",\"SubtLexUSLog10WF\",\"Iconicity(M)\",\"Transparency M\",\"H index\",\"LexicalClass\",\"SignLength(ms)\",\"ClipLength(ms)\",\"Complexity\",\"Initialized.2.0\",\"FingerspelledLoanSign.2.0\",\"Compound.2.0\",\"NumberOfMorphemes.2.0\",\"Handshape.2.0\",\"MarkedHandshape.2.0\",\"SelectedFingers.2.0\",\"Flexion.2.0\",\"FlexionChange.2.0\",\"Spread.2.0\",\"SpreadChange.2.0\",\"ThumbPosition.2.0\",\"ThumbContact.2.0\",\"SignType.2.0\",\"Movement.2.0\",\"RepeatedMovement.2.0\",\"MajorLocation.2.0\",\"MinorLocation.2.0\",\"SecondMinorLocation.2.0\",\"Contact.2.0\",\"NonDominantHandshape.2.0\",\"UlnarRotation.2.0\",\"HandshapeM2.2.0\",\"MarkedHandshapeM2.2.0\",\"SelectedFingersM2.2.0\",\"FlexionM2.2.0\",\"FlexionChangeM2.2.0\",\"SpreadM2.2.0\",\"SpreadChangeM2.2.0\",\"ThumbPositionM2.2.0\",\"ThumbContactM2.2.0\",\"SignTypeM2.2.0\",\"MovementM2.2.0\",\"RepeatedMovementM2.2.0\",\"MajorLocationM2.2.0\",\"MinorLocationM2.2.0\",\"SecondMinorLocationM2.2.0\",\"ContactM2.2.0\",\"NonDominantHandshapeM2.2.0\",\"UlnarRotationM2.2.0\",\"HandshapeM3.2.0\",\"MarkedHandshapeM3.2.0\",\"SelectedFingersM3.2.0\",\"FlexionM3.2.0\",\"FlexionChangeM3.2.0\",\"SpreadM3.2.0\",\"SpreadChangeM3.2.0\",\"ThumbPositionM3.2.0\",\"ThumbContactM3.2.0\",\"SignTypeM3.2.0\",\"MovementM3.2.0\",\"RepeatedMovementM3.2.0\",\"MajorLocationM3.2.0\",\"MinorLocationM3.2.0\",\"SecondMinorLocationM3.2.0\",\"ContactM3.2.0\",\"NonDominantHandshapeM3.2.0\",\"UlnarRotationM3.2.0\",\"HandshapeM4.2.0\",\"MarkedHandshapeM4.2.0\",\"SelectedFingersM4.2.0\",\"FlexionM4.2.0\",\"FlexionChangeM4.2.0\",\"SpreadM4.2.0\",\"SpreadChangeM4.2.0\",\"ThumbPositionM4.2.0\",\"ThumbContactM4.2.0\",\"SignTypeM4.2.0\",\"MovementM4.2.0\",\"RepeatedMovementM4.2.0\",\"MajorLocationM4.2.0\",\"MinorLocationM4.2.0\",\"SecondMinorLocationM4.2.0\",\"ContactM4.2.0\",\"NonDominantHandshapeM4.2.0\",\"UlnarRotationM4.2.0\",\"HandshapeM5.2.0\",\"MarkedHandshapeM5.2.0\",\"SelectedFingersM5.2.0\",\"FlexionM5.2.0\",\"FlexionChangeM5.2.0\",\"SpreadM5.2.0\",\"SpreadChangeM5.2.0\",\"ThumbPositionM5.2.0\",\"ThumbContactM5.2.0\",\"SignTypeM5.2.0\",\"MovementM5.2.0\",\"RepeatedMovementM5.2.0\",\"MajorLocationM5.2.0\",\"MinorLocationM5.2.0\",\"SecondMinorLocationM5.2.0\",\"ContactM5.2.0\",\"NonDominantHandshapeM5.2.0\",\"UlnarRotationM5.2.0\",\"HandshapeM6.2.0\",\"MarkedHandshapeM6.2.0\",\"SelectedFingersM6.2.0\",\"FlexionM6.2.0\",\"FlexionChangeM6.2.0\",\"SpreadM6.2.0\",\"SpreadChangeM6.2.0\",\"ThumbPositionM6.2.0\",\"ThumbContactM6.2.0\",\"SignTypeM6.2.0\",\"MovementM6.2.0\",\"RepeatedMovementM6.2.0\",\"MajorLocationM6.2.0\",\"MinorLocationM6.2.0\",\"SecondMinorLocationM6.2.0\",\"ContactM6.2.0\",\"NonDominantHandshapeM6.2.0\",\"UlnarRotationM6.2.0\",\"bglm_aoa\",\"Neighborhood Density 2.0\",\"Parameter.Neighborhood.Density.2.0\",\"SignType.2.0Frequency\",\"MajorLocation.2.0Frequency\",\"MinorLocation.2.0Frequency\",\"SecondMinorLocation.2.0Frequency\",\"Movement.2.0Frequency\",\"SelectedFingers.2.0Frequency\",\"Flexion.2.0Frequency\",\"FlexionChange.2.0Frequency\",\"RepeatedMovement.2.0Frequency\",\"Contact.2.0Frequency\",\"Spread.2.0Frequency\",\"SpreadChange.2.0Frequency\",\"ThumbContact.2.0Frequency\",\"ThumbPosition.2.0Frequency\",\"UlnarRotation.2.0Frequency\",\"PhonotacticProbability\",\"SignBankID\",\"SignBankLemmaID\",\"SignBankAnnotationID\",\"SignBankSemanticField\",\"SignBankEnglishTranslations\",\"D.Iconicity(M) all\", \"empirical_aoa\"]"
   ]
  },
  {
   "cell_type": "code",
   "execution_count": 54,
   "metadata": {},
   "outputs": [
    {
     "data": {
      "text/plain": [
       "array(['EntryID', 'LemmaID', 'Code', 'Batch', 'List', 'Item',\n",
       "       'YouTube Video', 'VimeoVideoHTML', 'VimeoVideo',\n",
       "       'SignFrequency(M)', 'SignFrequency(SD)', 'SignFrequency(Z)',\n",
       "       'SignFrequency(N)', 'PercentUnknown', 'SignFrequency(M-Native)',\n",
       "       'SignFrequency(SD-Native)', 'SignFreq(Z-native)',\n",
       "       'SignFrequency(N-Native)', 'PercentUnknown(Native)',\n",
       "       'PercentGlossAgreement', 'PercentGlossAgreement(Native)',\n",
       "       'Iconicity_ID', 'SubtLexUSLog10WF', 'LexicalClass',\n",
       "       'SignOnset(ms)', 'SignOffset(ms)', 'SignLength(ms)',\n",
       "       'ClipLength(ms)', 'InCDI', 'CDI Semantic Category',\n",
       "       'D.Iconicity(M) all', 'D.Iconicity(SD) all', 'D.Iconicity(N) all',\n",
       "       'D.Iconicity(Z) all', 'D.Iconicity(M) native',\n",
       "       'D.Iconicity(SD) native', 'D.Iconicity(N) native',\n",
       "       'D.Iconicity(Z) native', 'Complexity', 'IconicityType',\n",
       "       'Initialized.2.0', 'FingerspelledLoanSign.2.0', 'Compound.2.0',\n",
       "       'NumberOfMorphemes.2.0', 'Handshape.2.0', 'MarkedHandshape.2.0',\n",
       "       'SelectedFingers.2.0', 'Flexion.2.0', 'FlexionChange.2.0',\n",
       "       'Spread.2.0', 'SpreadChange.2.0', 'ThumbPosition.2.0',\n",
       "       'ThumbContact.2.0', 'SignType.2.0', 'Movement.2.0',\n",
       "       'RepeatedMovement.2.0', 'MajorLocation.2.0', 'MinorLocation.2.0',\n",
       "       'SecondMinorLocation.2.0', 'Contact.2.0',\n",
       "       'NonDominantHandshape.2.0', 'UlnarRotation.2.0', 'HandshapeM2.2.0',\n",
       "       'MarkedHandshapeM2.2.0', 'SelectedFingersM2.2.0', 'FlexionM2.2.0',\n",
       "       'FlexionChangeM2.2.0', 'SpreadM2.2.0', 'SpreadChangeM2.2.0',\n",
       "       'ThumbPositionM2.2.0', 'ThumbContactM2.2.0', 'SignTypeM2.2.0',\n",
       "       'MovementM2.2.0', 'RepeatedMovementM2.2.0', 'MajorLocationM2.2.0',\n",
       "       'MinorLocationM2.2.0', 'SecondMinorLocationM2.2.0',\n",
       "       'ContactM2.2.0', 'NonDominantHandshapeM2.2.0',\n",
       "       'UlnarRotationM2.2.0', 'HandshapeM3.2.0', 'MarkedHandshapeM3.2.0',\n",
       "       'SelectedFingersM3.2.0', 'FlexionM3.2.0', 'FlexionChangeM3.2.0',\n",
       "       'SpreadM3.2.0', 'SpreadChangeM3.2.0', 'ThumbPositionM3.2.0',\n",
       "       'ThumbContactM3.2.0', 'SignTypeM3.2.0', 'MovementM3.2.0',\n",
       "       'RepeatedMovementM3.2.0', 'MajorLocationM3.2.0',\n",
       "       'MinorLocationM3.2.0', 'SecondMinorLocationM3.2.0',\n",
       "       'ContactM3.2.0', 'NonDominantHandshapeM3.2.0',\n",
       "       'UlnarRotationM3.2.0', 'HandshapeM4.2.0', 'MarkedHandshapeM4.2.0',\n",
       "       'SelectedFingersM4.2.0', 'FlexionM4.2.0', 'FlexionChangeM4.2.0',\n",
       "       'SpreadM4.2.0', 'SpreadChangeM4.2.0', 'ThumbPositionM4.2.0',\n",
       "       'ThumbContactM4.2.0', 'SignTypeM4.2.0', 'MovementM4.2.0',\n",
       "       'RepeatedMovementM4.2.0', 'MajorLocationM4.2.0',\n",
       "       'MinorLocationM4.2.0', 'SecondMinorLocationM4.2.0',\n",
       "       'ContactM4.2.0', 'NonDominantHandshapeM4.2.0',\n",
       "       'UlnarRotationM4.2.0', 'HandshapeM5.2.0', 'MarkedHandshapeM5.2.0',\n",
       "       'SelectedFingersM5.2.0', 'FlexionM5.2.0', 'FlexionChangeM5.2.0',\n",
       "       'SpreadM5.2.0', 'SpreadChangeM5.2.0', 'ThumbPositionM5.2.0',\n",
       "       'ThumbContactM5.2.0', 'SignTypeM5.2.0', 'MovementM5.2.0',\n",
       "       'RepeatedMovementM5.2.0', 'MajorLocationM5.2.0',\n",
       "       'MinorLocationM5.2.0', 'SecondMinorLocationM5.2.0',\n",
       "       'ContactM5.2.0', 'NonDominantHandshapeM5.2.0',\n",
       "       'UlnarRotationM5.2.0', 'HandshapeM6.2.0', 'MarkedHandshapeM6.2.0',\n",
       "       'SelectedFingersM6.2.0', 'FlexionM6.2.0', 'FlexionChangeM6.2.0',\n",
       "       'SpreadM6.2.0', 'SpreadChangeM6.2.0', 'ThumbPositionM6.2.0',\n",
       "       'ThumbContactM6.2.0', 'SignTypeM6.2.0', 'MovementM6.2.0',\n",
       "       'RepeatedMovementM6.2.0', 'MajorLocationM6.2.0',\n",
       "       'MinorLocationM6.2.0', 'SecondMinorLocationM6.2.0',\n",
       "       'ContactM6.2.0', 'NonDominantHandshapeM6.2.0',\n",
       "       'UlnarRotationM6.2.0', 'bglm_aoa', 'empirical_aoa',\n",
       "       'SignFrequency(M-Nonnative)', 'SignFrequency(SD-Nonnative)',\n",
       "       'SignFreq(Z-Nonnative)', 'SignFrequency(N-Nonnative)',\n",
       "       'PercentGlossAgreement(Nonnative)', 'PercentUnknown(Nonnative)',\n",
       "       'DominantTranslation', 'Transparency M', 'Transparency SD',\n",
       "       'Transparency Z', 'H index', 'SignType.2.0Frequency',\n",
       "       'MajorLocation.2.0Frequency', 'MinorLocation.2.0Frequency',\n",
       "       'SecondMinorLocation.2.0Frequency', 'Movement.2.0Frequency',\n",
       "       'SelectedFingers.2.0Frequency', 'Flexion.2.0Frequency',\n",
       "       'FlexionChange.2.0Frequency', 'RepeatedMovement.2.0Frequency',\n",
       "       'Contact.2.0Frequency', 'Spread.2.0Frequency',\n",
       "       'SpreadChange.2.0Frequency', 'ThumbContact.2.0Frequency',\n",
       "       'ThumbPosition.2.0Frequency', 'UlnarRotation.2.0Frequency',\n",
       "       'PhonotacticProbability', 'Iconicity(Z)', 'Iconicity(M)',\n",
       "       'Iconicity(SD)', 'Iconicity(N)',\n",
       "       'Parameter.Neighborhood.Density.2.0', 'Neighborhood Density 2.0',\n",
       "       'SignBankAnnotationID', 'SignBankEnglishTranslations',\n",
       "       'SignBankLemmaID', 'SignBankSemanticField', 'SignBankID',\n",
       "       'Neighborhood Density', 'group_id', 'color_code'], dtype=object)"
      ]
     },
     "execution_count": 54,
     "metadata": {},
     "output_type": "execute_result"
    }
   ],
   "source": [
    "df_merged_with_color.columns.values"
   ]
  },
  {
   "cell_type": "code",
   "execution_count": null,
   "metadata": {},
   "outputs": [],
   "source": []
  },
  {
   "cell_type": "code",
   "execution_count": 55,
   "metadata": {},
   "outputs": [
    {
     "name": "stdout",
     "output_type": "stream",
     "text": [
      "195\n",
      "droppingLemmaID\n",
      "droppingSignFrequency(SD)\n",
      "droppingSignFrequency(Z)\n",
      "droppingSignFrequency(N)\n",
      "droppingSignFrequency(M-Native)\n",
      "droppingSignFrequency(SD-Native)\n",
      "droppingSignFreq(Z-native)\n",
      "droppingSignFrequency(N-Native)\n",
      "droppingPercentUnknown(Native)\n",
      "droppingPercentGlossAgreement(Native)\n",
      "droppingSignFrequency(M-Nonnative)\n",
      "droppingSignFrequency(SD-Nonnative)\n",
      "droppingSignFreq(Z-Nonnative)\n",
      "droppingSignFrequency(N-Nonnative)\n",
      "droppingPercentUnknown(Nonnative)\n",
      "droppingPercentGlossAgreement(Nonnative)\n",
      "droppingIconicity(SD)\n",
      "droppingIconicity(Z)\n",
      "droppingIconicity(N)\n",
      "droppingIconicity_ID\n",
      "droppingD.Iconicity(SD) all\n",
      "droppingD.Iconicity(Z) all\n",
      "droppingD.Iconicity(N) all\n",
      "droppingD.Iconicity(M) native\n",
      "droppingD.Iconicity(SD) native\n",
      "droppingD.Iconicity(Z) native\n",
      "droppingD.Iconicity(N) native\n",
      "droppingTransparency SD\n",
      "droppingTransparency Z\n",
      "droppingSignOnset(ms)\n",
      "droppingSignOffset(ms)\n",
      "droppingBatch\n",
      "droppingItem\n",
      "droppingList\n",
      "droppingInCDI\n",
      "droppingCDI Semantic Category\n",
      "droppingIconicityType\n"
     ]
    },
    {
     "data": {
      "text/plain": [
       "158"
      ]
     },
     "execution_count": 55,
     "metadata": {},
     "output_type": "execute_result"
    }
   ],
   "source": [
    "#### Get rid of morpheme columbs\n",
    "print(len(df_merged_with_color.columns.values))\n",
    "# df_sign = df_sign[['YouTube Video','Code','SignBankEnglishTranslations', \"VimeoVideo\"]]\n",
    "# df_sign = df_sign.rename(columns={\"VimeoVideo\": \"video\"}, errors=\"raise\")\n",
    "# df_sign.head()\n",
    "# df_default = pd.merge(df_default, df_sign,how='left', on=['Code'])\n",
    "\n",
    "test_df = df_merged_with_color\n",
    "# filtered = test_df.filter(regex='M..2.0|Video')\n",
    "for col in cols_not_in_sign_pane:\n",
    "    if col in test_df.columns:\n",
    "        print(\"dropping\" + col)\n",
    "        test_df = test_df[test_df.columns.drop(col)]\n",
    "\n",
    "no_morphemes_df = test_df\n",
    "len(no_morphemes_df.columns.values)\n",
    "# no_morphemes_df.columns.values"
   ]
  },
  {
   "cell_type": "code",
   "execution_count": 56,
   "metadata": {},
   "outputs": [],
   "source": [
    "for col in cols_in_sign_data_pane:\n",
    "    if col not in test_df.columns:\n",
    "        print(\"This column is not present: \" + col)"
   ]
  },
  {
   "cell_type": "code",
   "execution_count": 57,
   "metadata": {},
   "outputs": [
    {
     "name": "stdout",
     "output_type": "stream",
     "text": [
      "['SignFrequency(M)' 'PercentUnknown' 'PercentGlossAgreement'\n",
      " 'SubtLexUSLog10WF' 'SignLength(ms)' 'ClipLength(ms)' 'D.Iconicity(M) all'\n",
      " 'Complexity' 'Initialized.2.0' 'FingerspelledLoanSign.2.0' 'Compound.2.0'\n",
      " 'NumberOfMorphemes.2.0' 'MarkedHandshape.2.0' 'FlexionChange.2.0'\n",
      " 'Spread.2.0' 'SpreadChange.2.0' 'ThumbContact.2.0' 'RepeatedMovement.2.0'\n",
      " 'Contact.2.0' 'UlnarRotation.2.0' 'MarkedHandshapeM2.2.0'\n",
      " 'FlexionChangeM2.2.0' 'SpreadM2.2.0' 'SpreadChangeM2.2.0'\n",
      " 'ThumbContactM2.2.0' 'RepeatedMovementM2.2.0' 'ContactM2.2.0'\n",
      " 'UlnarRotationM2.2.0' 'MarkedHandshapeM3.2.0' 'FlexionChangeM3.2.0'\n",
      " 'SpreadM3.2.0' 'SpreadChangeM3.2.0' 'ThumbContactM3.2.0'\n",
      " 'RepeatedMovementM3.2.0' 'ContactM3.2.0' 'UlnarRotationM3.2.0'\n",
      " 'MarkedHandshapeM4.2.0' 'FlexionChangeM4.2.0' 'SpreadM4.2.0'\n",
      " 'SpreadChangeM4.2.0' 'ThumbContactM4.2.0' 'RepeatedMovementM4.2.0'\n",
      " 'ContactM4.2.0' 'NonDominantHandshapeM4.2.0' 'UlnarRotationM4.2.0'\n",
      " 'MarkedHandshapeM5.2.0' 'FlexionChangeM5.2.0' 'SpreadM5.2.0'\n",
      " 'SpreadChangeM5.2.0' 'ThumbContactM5.2.0' 'SignTypeM5.2.0'\n",
      " 'MovementM5.2.0' 'RepeatedMovementM5.2.0' 'MajorLocationM5.2.0'\n",
      " 'MinorLocationM5.2.0' 'SecondMinorLocationM5.2.0' 'ContactM5.2.0'\n",
      " 'NonDominantHandshapeM5.2.0' 'UlnarRotationM5.2.0'\n",
      " 'MarkedHandshapeM6.2.0' 'FlexionChangeM6.2.0' 'SpreadM6.2.0'\n",
      " 'SpreadChangeM6.2.0' 'ThumbContactM6.2.0' 'SignTypeM6.2.0'\n",
      " 'MovementM6.2.0' 'RepeatedMovementM6.2.0' 'MajorLocationM6.2.0'\n",
      " 'MinorLocationM6.2.0' 'SecondMinorLocationM6.2.0' 'ContactM6.2.0'\n",
      " 'NonDominantHandshapeM6.2.0' 'UlnarRotationM6.2.0' 'bglm_aoa'\n",
      " 'empirical_aoa' 'Transparency M' 'H index' 'SignType.2.0Frequency'\n",
      " 'MajorLocation.2.0Frequency' 'MinorLocation.2.0Frequency'\n",
      " 'SecondMinorLocation.2.0Frequency' 'Movement.2.0Frequency'\n",
      " 'SelectedFingers.2.0Frequency' 'Flexion.2.0Frequency'\n",
      " 'FlexionChange.2.0Frequency' 'RepeatedMovement.2.0Frequency'\n",
      " 'Contact.2.0Frequency' 'Spread.2.0Frequency' 'SpreadChange.2.0Frequency'\n",
      " 'ThumbContact.2.0Frequency' 'ThumbPosition.2.0Frequency'\n",
      " 'UlnarRotation.2.0Frequency' 'PhonotacticProbability' 'Iconicity(M)'\n",
      " 'Parameter.Neighborhood.Density.2.0' 'Neighborhood Density 2.0'\n",
      " 'SignBankID' 'Neighborhood Density' 'group_id']\n",
      "['EntryID', 'Code', 'LexicalClass', 'Handshape.2.0', 'SelectedFingers.2.0', 'Flexion.2.0', 'ThumbPosition.2.0', 'SignType.2.0', 'Movement.2.0', 'MajorLocation.2.0', 'MinorLocation.2.0', 'SecondMinorLocation.2.0', 'NonDominantHandshape.2.0', 'HandshapeM2.2.0', 'SelectedFingersM2.2.0', 'FlexionM2.2.0', 'ThumbPositionM2.2.0', 'SignTypeM2.2.0', 'MovementM2.2.0', 'MajorLocationM2.2.0', 'MinorLocationM2.2.0', 'SecondMinorLocationM2.2.0', 'NonDominantHandshapeM2.2.0', 'HandshapeM3.2.0', 'SelectedFingersM3.2.0', 'FlexionM3.2.0', 'ThumbPositionM3.2.0', 'SignTypeM3.2.0', 'MovementM3.2.0', 'MajorLocationM3.2.0', 'MinorLocationM3.2.0', 'SecondMinorLocationM3.2.0', 'NonDominantHandshapeM3.2.0', 'HandshapeM4.2.0', 'SelectedFingersM4.2.0', 'FlexionM4.2.0', 'ThumbPositionM4.2.0', 'SignTypeM4.2.0', 'MovementM4.2.0', 'MajorLocationM4.2.0', 'MinorLocationM4.2.0', 'SecondMinorLocationM4.2.0', 'HandshapeM5.2.0', 'SelectedFingersM5.2.0', 'FlexionM5.2.0', 'ThumbPositionM5.2.0', 'HandshapeM6.2.0', 'SelectedFingersM6.2.0', 'FlexionM6.2.0', 'ThumbPositionM6.2.0', 'color_code']\n"
     ]
    }
   ],
   "source": [
    "### Add sign constraint range values\n",
    "numerical_attr = no_morphemes_df.select_dtypes(include=['float', 'int']).columns.values\n",
    "categorical_attr = []\n",
    "for column in no_morphemes_df.columns.values:\n",
    "    if column not in numerical_attr and column not in ['YouTube Video', 'VimeoVideoHTML', 'VimeoVideo', 'DominantTranslation', 'SignBankAnnotationID', 'SignBankEnglishTranslations', 'SignBankLemmaID', 'SignBankSemanticField']:\n",
    "        categorical_attr.append(column)   \n",
    "print(numerical_attr)\n",
    "print(categorical_attr)"
   ]
  },
  {
   "cell_type": "code",
   "execution_count": 58,
   "metadata": {
    "scrolled": true
   },
   "outputs": [
    {
     "name": "stdout",
     "output_type": "stream",
     "text": [
      "[3.034 5.12  4.267 ... 3.533 3.958 4.333]\n",
      "[0.   0.   0.   ... 0.   0.04 0.  ]\n",
      "[0.63  0.409 0.75  0.75  0.259 0.519 0.6   0.625 1.    0.963 0.467 1.\n",
      " 0.63  0.852 0.852 0.88  1.    1.    0.92  0.579 0.8   0.692 1.    0.417\n",
      " 0.824 0.786 0.913 0.5   0.6   0.893 0.926 0.233 0.486 0.906 0.963 0.903\n",
      " 0.786 0.792 0.652 0.692 0.636 0.643 0.6   0.8   1.    0.8   0.52  1.\n",
      " 1.    0.565 1.    0.964 0.714 0.792 0.654 1.    0.92  0.423 0.679 0.852\n",
      " 0.55  0.933 0.44  1.    0.462 0.968 0.407 0.84  1.    0.818 0.667 0.3\n",
      " 0.48  0.655 0.889 1.    1.    0.5   0.969 1.    0.852 0.333 1.    0.435\n",
      " 1.    0.926 1.    0.419 0.667 1.    0.444 0.5   0.783 0.76  0.606 0.444\n",
      " 0.667 0.844 0.556 0.967 1.    1.    0.423 0.964 0.556 1.    0.967 1.\n",
      " 0.85  0.964 0.227 0.96  0.75  0.708 0.615 0.815 0.464 0.96  1.    0.926\n",
      " 0.667 0.708 1.    0.767 1.    0.679 0.519 1.    0.933 0.615 0.889 1.\n",
      " 0.64  0.514 0.696 0.519 0.474 0.667 0.813 1.    1.    1.    0.621 0.931\n",
      " 1.    0.607 0.852 0.862 0.69  0.923 1.    0.9   0.63  0.966 0.462 0.519\n",
      " 0.481 0.667 1.    1.    0.63  1.    0.68  0.621 0.448 0.933 1.    0.962\n",
      " 0.8   0.72  0.308 0.667 0.5   1.    0.526 0.889 0.92  0.92  0.652 0.741\n",
      " 0.935 0.767 0.8   0.96  1.    0.474 0.8   0.5   0.679 0.462 0.56  0.35\n",
      " 0.44  0.96  0.542 0.714 1.    0.6   0.714 0.885 0.68  1.    1.    0.483\n",
      " 0.4   1.    0.963 0.769 0.591 0.667 0.733 0.938 1.    0.943 0.731 0.714\n",
      " 1.    1.    0.731 0.667 0.867 0.923 0.3   0.741 0.406 0.696 1.    0.966\n",
      " 1.    0.621 0.818 0.923 0.348 0.52  0.852 0.625 0.667 0.962 0.929 0.846\n",
      " 0.393 0.92  0.692 0.593 0.821 0.586 0.4   0.889 0.679 0.645 0.636 0.905\n",
      " 1.    0.63  0.633 0.567 0.923 0.444 0.667 0.818 0.609 0.778 0.625 0.63\n",
      " 0.655 0.833 0.962 0.522 0.885 1.    0.607 0.421 0.667 1.    0.875 0.917\n",
      " 0.542 0.667 0.423 0.429 0.68  1.    0.933 0.8   0.609 1.    0.962 0.44\n",
      " 0.52  0.222 0.63  0.857 0.563 0.63  0.667 1.    0.96  0.7   0.8   0.92\n",
      " 0.933 0.556 0.905 1.    0.76  0.688 0.462 0.826 1.    0.815 1.    0.55\n",
      " 0.615 0.88  0.926 0.321 0.724 0.963 0.926 0.852 0.913 0.885 0.522 1.\n",
      " 0.72  0.37  0.967 0.56  0.6   0.538 0.833 0.963 0.815 0.7   0.429 0.92\n",
      " 0.81  0.833 0.862 0.938 1.    0.967 0.5   0.844 0.667 1.    0.8   1.\n",
      " 0.963 0.655 0.629 0.957 0.632 0.931 0.917 0.5   0.963 0.5   1.    1.\n",
      " 0.4   1.    0.333 1.    0.966 0.778 0.943 1.    1.    0.444 0.967 0.957\n",
      " 0.5   0.654 0.833 0.842 0.806 0.267 0.7   0.769 0.968 1.    1.    0.84\n",
      " 0.815 0.407 0.952 0.484 0.654 0.4   0.808 0.833 0.686 1.    0.963 0.632\n",
      " 0.5   0.577 0.375 0.963 0.864 1.    1.    0.583 0.964 0.44  0.848 0.5\n",
      " 0.542 0.846 0.87  0.555 0.714 0.92  0.931 0.44  0.852 1.    0.448 0.964\n",
      " 0.5   0.88  0.964 1.    0.7   0.474 0.815 0.92  0.607 1.    0.964 0.778\n",
      " 0.742 0.929 0.6   0.9   0.8   0.5   1.    1.    1.    0.682 0.769 0.971\n",
      " 0.938 0.84  0.643 0.926 0.958 1.    0.92  0.852 0.889 0.867 0.857 0.68\n",
      " 0.905 0.333 0.433 0.593 0.536 0.846 0.538 0.633 0.724 0.5   0.52  0.714\n",
      " 0.6   0.893 0.821 0.966 0.806 0.6   0.25  0.409 0.52  0.333 1.    0.815\n",
      " 0.735 0.519 0.667 0.519 1.    0.607 0.643 0.421 0.885 0.833 0.444 1.\n",
      " 0.48  0.778 0.615 1.    0.75  0.758 0.88  1.    0.583 0.619 0.885 0.304\n",
      " 1.    0.448 0.4   0.556 0.741 0.645 0.967 0.462 0.25  0.71  0.417 0.625\n",
      " 0.833 0.968 0.75  1.    0.625 0.367 1.    0.857 0.963 0.593 0.63  1.\n",
      " 0.84  0.967 0.304 0.833 0.65  0.5   0.821 0.65  0.667 0.357 0.735 0.72\n",
      " 0.526 0.538 1.    0.741 0.519 0.767 0.267 0.5   0.84  0.667 0.567 1.\n",
      " 0.962 0.767 0.839 0.808 0.536 0.543 0.5   0.857 0.917 0.704 0.267 0.96\n",
      " 0.407 0.615 0.615 0.844 0.63  0.741 0.889 0.871 0.435 1.    0.481 0.897\n",
      " 0.76  0.37  0.84  0.778 0.333 0.962 0.731 0.481 0.963 1.    0.767 0.783\n",
      " 1.    0.815 1.    0.348 0.964 0.867 0.774 1.    1.    0.345 0.967 0.657\n",
      " 0.96  0.913 0.963 1.    1.    0.962 0.25  0.765 1.    0.36  0.345 0.84\n",
      " 0.429 0.71  0.793 0.742 1.    0.654 0.677 0.96  1.    0.929 0.958 0.96\n",
      " 1.    0.967 0.471 0.481 1.    0.5   1.    0.783 0.417 0.867 1.    0.95\n",
      " 1.    0.962 0.514 0.375 0.556]\n",
      "[0.301 5.268 5.268 ... 3.039 2.161 2.843]\n",
      "[634. 334. 734. ... 901. 534. 801.]\n",
      "[1668. 1468. 2035. ... 2002. 1835. 2002.]\n",
      "[2.1  3.1  2.53 3.23 1.36 1.9  4.07 1.77 1.55 1.48 2.17 1.55 1.39 3.2\n",
      " 2.26 3.03 2.52 2.03 5.04 2.9  2.2  3.52 2.16 1.81 1.9  1.2  4.1  2.45\n",
      " 1.45 2.7  2.77 1.23 1.73 5.93 3.45 1.96 5.1  1.42 2.26 3.36 1.94 6.33\n",
      " 2.62 3.42 1.39 4.03 4.26 4.32 3.83 6.33 4.9  4.52 1.23 3.18 5.94 3.07\n",
      " 3.61 3.81 1.29 1.89 2.27 5.73 2.31 2.19 5.42 4.04 1.23 1.71 3.36 1.85\n",
      " 5.13 1.4  5.39 5.87 1.42 5.19 3.93 1.28 1.19 3.32 3.45 4.97 4.4  2.47\n",
      " 1.35 5.39 3.71 2.27 5.63 2.72 1.68 1.97 1.9  5.08 6.1  3.87 5.42 5.7\n",
      " 2.   4.81 5.58 1.58 2.03 1.94 4.46 3.13 5.81 2.79 4.13 1.55 1.04 5.71\n",
      " 1.94 2.65 1.42 1.46 1.94 5.97 3.19 1.26 3.75 1.16 3.63 4.54 4.73 2.13\n",
      " 2.2  6.36 3.81 1.81 1.27 3.83 4.93 1.65 1.58 5.89 2.33 6.35 1.42 2.9\n",
      " 3.57 3.42 3.29 2.08 2.57 1.1  1.68 3.45 2.32 1.19 4.38 1.37 2.6  1.36\n",
      " 1.24 3.23 1.55 3.87 1.15 3.17 1.77 1.19 1.3  4.58 2.17 4.13 2.36 3.\n",
      " 4.92 4.23 4.54 4.26 4.69 4.55 2.23 2.72 4.9  1.45 1.5  5.47 5.13 2.07\n",
      " 2.03 1.84 4.   3.07 1.65 4.39 2.15 1.92 3.62 3.68 2.85 4.69 3.39 3.89\n",
      " 4.63 1.77 1.23 1.27 2.46 3.52 1.57 4.27 5.08 1.77 3.77 5.85 5.63 6.42\n",
      " 6.13 4.74 1.81 1.4  4.58 3.1  5.48 2.9  1.94 1.81 1.62 3.23 5.71 2.55\n",
      " 1.54 3.55 1.42 6.1  1.73 2.03 2.26 2.29 3.84 4.   1.96 3.55 1.97 2.39\n",
      " 3.73 1.2  5.04 2.23 2.23 1.71 1.67 4.32 1.48 5.16 1.1  1.87 1.66 3.93\n",
      " 3.54 4.92 2.56 3.16 4.71 4.48 6.94 3.9  3.79 5.48 2.4  2.63 5.04 2.32\n",
      " 3.5  5.85 2.79 6.47 1.97 2.74 1.69 1.42 6.13 6.29 2.65 1.33 3.1  1.87\n",
      " 1.77 5.68 1.97 2.73 1.61 2.   3.3  1.81 1.13 1.96 1.89 3.56 3.83 3.6\n",
      " 1.21 1.19 1.85 1.65 4.03 2.1  1.45 1.73 6.77 6.7  1.48 3.9  2.13 3.\n",
      " 1.53 1.9  6.07 1.52 4.83 1.93 1.68 1.19 2.1  2.17 2.77 1.47 3.61 1.89\n",
      " 2.48 1.57 1.77 2.47 2.07 2.43 3.61 2.64 3.   4.03 5.68 5.77 2.97 4.44\n",
      " 2.19 6.15 1.94 1.55 1.35 1.66 1.4  1.65 1.73 2.73 6.07 1.36 1.35 1.72\n",
      " 4.32 2.73 1.33 1.48 1.32 1.77 2.31 2.31 1.69 3.5  1.37 1.9  2.58 1.39\n",
      " 2.63 2.63 1.9  3.61 2.63 1.15 1.28 3.07 4.07 1.43 4.97 5.61 5.43 3.08\n",
      " 3.6  3.16 1.46 1.65 5.94 2.16 6.   2.77 1.36 1.26 1.71 1.87 3.13 1.32\n",
      " 1.5  1.13 4.   1.6  1.77 1.23 6.48 4.9  5.39 6.23 5.07 5.36 3.9  4.69\n",
      " 1.71 2.4  1.7  4.9  1.9  4.1  5.48 1.84 2.13 5.45 5.77 2.29 5.   4.42\n",
      " 5.08 1.81 2.77 2.2  1.13 3.71 1.13 4.03 1.46 1.58 1.48 1.36 1.6  1.54\n",
      " 1.58 2.84 3.19 3.53 1.52 3.73 5.46 1.39 2.   2.8  4.64 1.65 5.68 2.15\n",
      " 1.92 2.26 2.27 1.52 1.33 2.69 5.42 1.45 1.04 1.74 2.   1.5  1.81 2.4\n",
      " 5.04 1.74 1.13 2.5  5.4  2.05 1.33 1.89 2.13 3.73 2.48 6.   5.17 4.92\n",
      " 3.39 4.8  1.4  2.04 2.47 1.73 1.65 4.42 4.57 2.74 3.62 2.63 5.19 1.45\n",
      " 4.93 1.74 1.33 1.58 4.33 4.36 1.42 1.26 2.25 3.48 2.16 2.3  1.23 3.32\n",
      " 2.31 2.7  1.52 1.23 1.45 1.93 5.32 5.04 4.63 3.13 6.13 4.81 1.29 1.55\n",
      " 5.42 2.   1.94 4.62 3.9  4.81 2.97 1.46 1.63 2.81 1.39 1.31 2.61 1.58\n",
      " 3.5  3.55 3.92 1.93 1.6  2.73 6.5  2.77 1.19 3.26 3.36 6.1  1.45 1.47\n",
      " 2.43 2.05 3.07 3.81 1.67 4.46 2.13 1.23 2.14 5.04 2.61 3.16 1.67 4.61\n",
      " 4.16 4.29 1.73 1.57 1.24 2.23 5.94 2.1  4.07 4.84 1.77 2.83 1.65 5.92\n",
      " 3.55 1.58 5.6  3.46 2.62 2.16 3.16 2.1  2.16 5.   4.8  2.92 1.5  4.32\n",
      " 5.03 1.33 1.14 1.21 1.77 1.32 1.48 1.81 2.19 1.5  3.07 2.65 1.73 2.94\n",
      " 1.67 1.43 2.47 1.92 2.42 2.12 1.55 3.   1.71 5.62 2.67 2.   2.63 2.2\n",
      " 1.71 2.1  4.39 2.08 1.66 5.73 3.23 4.42 1.94 3.55 5.26 4.17 1.48 2.83\n",
      " 1.68 1.77 1.77 1.94 1.65 4.73 4.29 1.54 1.27 1.57 1.48 3.31 1.62 2.61\n",
      " 1.5  6.   2.48 4.26 1.45 4.54 4.36 4.84 3.14 1.33 4.08 5.71 1.83 1.9\n",
      " 1.77 2.   4.52 3.7  2.77 3.58 5.35 2.23 4.8  3.65 2.47 1.26 2.93 6.47\n",
      " 2.08 1.39 1.69 1.62 2.7  1.77 1.71 4.58 1.87 4.9  1.7  1.42 1.39 3.46\n",
      " 4.47 4.65 1.73 1.1  6.   2.58 1.97 2.1  4.77 2.23 5.13 4.62 1.23 5.55\n",
      " 4.45 1.65 1.6  3.26 1.5  2.16 3.58 1.16 2.1  5.58 1.67 1.45 1.74 3.16\n",
      " 1.23 1.73 4.64 1.6  3.13 5.84 2.71 2.55 3.85 3.42 4.97 3.61 3.19 1.32\n",
      " 2.16 1.28 3.74 4.17 3.68 1.65 2.07 2.   4.1  5.   1.23 4.41 3.63 1.81\n",
      " 2.87 4.74 3.9  1.67 3.   2.74 6.03 4.35 3.24 1.87 1.71 4.37 2.5  2.26\n",
      " 2.42 5.19 1.85 5.5  4.52 2.87 3.08 4.23 2.81 2.   2.97 1.5  4.81 4.97\n",
      " 5.32 2.7  5.48 2.8  2.26 2.71 1.46 1.52 1.27 1.89 2.46 1.5  3.73 4.93\n",
      " 4.69 4.19 5.26 4.61 1.97 5.08 2.19 6.77 6.67 3.13 4.77 3.23 4.26 1.83\n",
      " 2.55 1.52 2.27 2.48 1.55 1.93 5.45 2.97 2.65 4.36 5.39 3.72 2.3  3.5\n",
      " 1.4  4.93 2.5  2.13 1.17 2.32 1.52 2.29 2.13 5.18 6.35 5.   2.62 1.63\n",
      " 1.46 3.77 2.42 1.53 2.   2.42 1.73 2.27 3.03 3.   1.52 4.43 5.36 1.33\n",
      " 4.61 3.03 3.61 3.12 2.57 4.9  3.89 4.44 3.73 2.31 3.61 4.93 2.87 3.52\n",
      " 5.03 4.23 2.   2.   6.7  1.23 6.31 6.07 3.13 1.6  3.48 1.15 5.84 1.62\n",
      " 1.7  1.85 5.5  3.27 1.57 2.   4.23 2.3  3.97 3.   4.5  6.13 2.97 1.19\n",
      " 6.1  3.16 6.   2.85 1.89 3.37 1.26 2.12 6.35 3.93 2.07 2.97 2.61 2.04\n",
      " 1.42 2.68 6.32 3.08 1.87 1.35 1.5  3.2  5.03 1.27 6.43 1.16 1.8  4.07\n",
      " 1.5  1.93 4.53 1.33 2.37 1.31 1.45 4.58 1.28 1.13 3.87 3.8  6.71 2.97\n",
      " 2.23 5.92 2.74 2.07 2.9  5.23 4.57 2.37 2.97 2.07 2.03 3.6  1.93 1.32\n",
      " 5.03 4.77 2.47 3.81 1.43 2.27 1.19 2.55 2.46 4.46 1.89 1.87 4.19 1.23\n",
      " 1.37 1.55 1.53 1.84 2.65 4.79 4.26 1.47 1.54 1.65 2.19 3.12 4.16 1.46\n",
      " 6.19 2.37 3.44 3.07 3.61 1.73 3.19 3.33 2.32 1.55 4.23 1.83 5.94 6.19\n",
      " 1.32 1.37 1.89 2.48 1.27 1.89 6.27 1.54 5.62 6.31 4.   2.5 ]\n",
      "[2. 1. 4. ... 3. 1. 2.]\n",
      "[0 1 1 ... 1 0 0]\n",
      "[0 0 0 ... 1 0 0]\n",
      "[0 0 0 ... 0 0 0]\n",
      "[1 1 1 ... 3 1 1]\n",
      "[0 0 0 ... 0 0 0]\n",
      "[1. 0. 0. ... 0. 1. 1.]\n",
      "[0. 1. 0. ... 1. 1. 0.]\n",
      "[0. 0. 0. ... 1. 0. 0.]\n",
      "[0. 0. 1. ... 0. 1. 1.]\n",
      "[1 0 0 ... 0 0 0]\n",
      "[1 0 1 ... 0 1 0]\n",
      "[0 1 0 ... 0 0 0]\n",
      "[1. 1. 1. 0. 0. 0. 1. 1. 1. 1. 0. 0. 1. 0. 1. 0. 0. 1. 0. 0. 0. 1. 0. 1.\n",
      " 0. 1. 1. 1. 0. 0. 1. 0. 0. 1. 0. 1. 0. 0. 0. 0. 1. 1. 0. 0. 0. 1. 0. 1.\n",
      " 0. 0. 1. 1. 0. 1. 1. 0. 1. 1. 1. 0. 1. 1. 1. 1. 1. 1. 1. 0. 1. 0. 0. 0.\n",
      " 0. 1. 1. 0. 0. 0. 0. 1. 0. 1. 0. 1. 1. 0. 1. 1. 1. 1. 1. 1. 1. 1. 0. 0.\n",
      " 1. 1. 0. 0. 0. 0. 0. 0. 1. 0. 1. 1. 1. 0. 1. 0. 0. 1. 0. 0. 1. 1. 1. 0.\n",
      " 0. 1. 1. 1. 1. 0. 0. 1. 0. 1. 0. 0. 1. 1. 0. 1. 1. 1. 0. 1. 0. 0. 0. 1.\n",
      " 1. 0. 1. 1. 1. 1. 0. 1. 0. 1. 0. 1. 0. 1. 0. 1. 1. 0. 0. 1. 1. 1. 1. 1.\n",
      " 0. 0. 0. 1. 1. 1. 1. 1. 1. 0. 1. 1. 1. 0. 1. 0. 1. 0. 0. 0. 1. 1. 1. 1.\n",
      " 1. 1. 1. 0. 0. 0. 1. 0. 0. 0. 0. 0. 0. 0. 0. 1. 1. 1. 1. 1. 0. 1. 0. 1.\n",
      " 1. 1. 0. 0. 1. 1. 1. 1. 1. 1. 0. 1. 1. 1. 0. 1. 0. 0. 0. 1. 1. 0. 0. 0.\n",
      " 1. 1. 0. 1. 1. 1. 1. 1. 1. 0. 0. 0. 0. 1. 0. 0. 0. 0. 0.]\n",
      "[0. 0. 0. 0. 0. 0. 0. 0. 0. 0. 0. 0. 0. 0. 0. 0. 1. 1. 0. 0. 0. 0. 1. 0.\n",
      " 0. 0. 1. 0. 0. 0. 0. 0. 0. 0. 0. 0. 0. 0. 0. 0. 0. 0. 0. 0. 0. 0. 0. 0.\n",
      " 0. 0. 0. 0. 0. 0. 0. 0. 0. 1. 0. 0. 1. 0. 0. 0. 0. 1. 0. 1. 1. 0. 0. 0.\n",
      " 1. 0. 0. 0. 0. 0. 1. 0. 0. 0. 0. 0. 0. 0. 0. 0. 1. 0. 0. 0. 0. 0. 0. 1.\n",
      " 0. 1. 0. 1. 0. 0. 0. 0. 1. 0. 0. 0. 0. 1. 1. 0. 0. 0. 0. 0. 0. 0. 0. 0.\n",
      " 0. 0. 0. 1. 0. 0. 0. 0. 0. 0. 0. 0. 0. 0. 0. 1. 0. 0. 0. 0. 1. 0. 0. 0.\n",
      " 0. 0. 0. 0. 0. 0. 0. 0. 0. 0. 0. 0. 0. 0. 1. 0. 0. 0. 0. 0. 1. 0. 0. 0.\n",
      " 0. 0. 1. 0. 0. 0. 0. 0. 0. 0. 0. 0. 0. 0. 0. 0. 0. 0. 0. 1. 1. 1. 0. 0.\n",
      " 0. 1. 0. 0. 0. 0. 0. 0. 0. 0. 0. 0. 1. 0. 0. 0. 0. 0. 0.]\n",
      "[0. 0. 0. 0. 0. 1. 0. 0. 0. 0. 0. 0. 1. 1. 1. 1. 0. 0. 0. 0. 0. 1. 1. 1.\n",
      " 0. 0. 0. 0. 1. 0. 0. 1. 0. 0. 0. 0. 0. 1. 0. 1. 0. 0. 1. 0. 0. 0. 0. 0.\n",
      " 0. 0. 1. 1. 0. 0. 1. 0. 1. 1. 1. 1. 1. 0. 0. 0. 0. 0. 0. 0. 0. 0. 0. 0.\n",
      " 1. 1. 0. 0. 0. 0. 0. 0. 1. 0. 0. 0. 0. 1. 0. 0. 1. 0. 0. 0. 1. 0. 1. 0.\n",
      " 0. 0. 0. 0. 0. 0. 0. 0. 0. 1. 1. 0. 1. 0. 1. 0. 0. 0. 0. 1. 1. 0. 1. 1.\n",
      " 1. 0. 0. 0. 0. 0. 0. 0. 1. 0. 0. 1. 0. 0. 1. 0. 0. 0. 0. 1. 1. 1. 0. 0.\n",
      " 0. 0. 0. 0. 1. 1. 1. 0.]\n",
      "[0. 0. 0. 0. 0. 0. 0. 0. 0. 0. 0. 0. 0. 0. 0. 0. 1. 0. 0. 1. 0. 0. 0. 0.\n",
      " 0. 0. 0. 0. 0. 0. 0. 0. 0. 0. 0. 0. 0. 0. 0. 0. 0. 0. 0. 0. 0. 0. 0. 0.\n",
      " 1. 0. 0. 0. 0. 0. 0. 0. 0. 0. 0. 0. 0. 1. 0. 0. 0. 0. 0. 0. 0. 0. 0. 0.\n",
      " 0. 0. 0. 0. 1. 0. 0. 0. 0. 0. 0. 0. 0. 0. 0. 0. 0. 0. 0. 0. 0. 0. 0. 0.\n",
      " 0. 0. 0. 0. 0. 0. 0. 0. 0. 0. 0. 0. 0. 0. 0. 0. 0. 0. 0. 0. 1. 0. 0. 0.\n",
      " 0. 0. 0. 0. 0. 0. 0. 0. 0. 0. 0. 0. 0. 0. 0. 0. 0. 0. 0. 1. 0. 0. 0. 0.\n",
      " 0. 0. 0. 1. 0. 0. 0. 0. 0.]\n",
      "[1. 0. 0. 0. 0. 0. 1. 0. 0. 1. 0. 0. 0. 0. 0. 0. 0. 0. 1. 0. 0. 0. 0. 0.\n",
      " 1. 0. 0. 0. 1. 0. 0. 1. 0. 1. 0. 0. 1. 0. 0. 0. 0. 0. 0. 0. 0. 0. 1. 0.\n",
      " 0. 0. 0. 0. 0. 0. 0. 1. 1. 0. 1. 0. 0. 1. 0. 0. 0. 0. 0. 1. 0. 0. 1. 0.\n",
      " 0. 1. 1. 1. 0. 0. 1. 0. 0. 0. 0. 0. 0. 1. 0. 0. 0. 0. 0. 0. 0. 0. 0. 1.\n",
      " 0. 1. 0. 0. 0. 1. 0. 1. 0. 1. 1. 0. 0. 0. 0. 0. 0. 0. 0. 1. 1. 1. 0. 1.\n",
      " 0. 0. 0. 0. 1. 0. 0. 0. 1. 0. 0. 0. 0. 0. 0. 0. 0. 0. 1. 0. 0. 0. 0. 1.\n",
      " 1. 1. 0. 1. 1. 0. 1. 0. 0. 0. 1. 1. 0. 1. 1. 0. 1. 0. 0. 0. 1. 0. 0. 0.\n",
      " 0. 0. 0. 0. 1. 0. 0. 0. 0. 0. 1. 0. 1. 0. 0. 0. 1. 0. 1. 0. 0. 0. 1. 0.\n",
      " 0. 1. 1. 0. 0. 0. 1. 1. 0. 0. 1. 0. 0. 0. 1. 0. 0. 0. 0. 0. 1. 1. 1. 0.\n",
      " 0. 0. 0. 0. 0. 0. 0. 1. 1. 0. 0. 0. 0. 0. 0. 0. 0. 1. 0. 1. 1. 0. 0. 0.\n",
      " 1. 1.]\n",
      "[1. 0. 0. 1. 0. 1. 1. 0. 0. 0. 0. 0. 0. 0. 1. 0. 0. 0. 1. 0. 0. 0. 1. 1.\n",
      " 0. 0. 0. 0. 0. 0. 0. 1. 0. 0. 0.]\n",
      "[0. 0. 0. 0. 0. 0. 1. 1. 0. 1. 0. 1. 1. 1. 1. 1. 1. 1. 0. 0. 1. 0. 1. 1.\n",
      " 0. 1. 0. 1. 0. 1. 0. 0. 1. 1. 1. 0. 0. 0. 0. 0. 0. 0. 0. 1. 1. 1. 0. 1.\n",
      " 1. 0. 0. 0. 1. 0. 0. 1. 1. 0. 0. 0. 0. 0. 0. 0. 0. 0. 0. 0. 0. 1. 1. 0.\n",
      " 0. 0. 0. 0. 0. 0. 0. 0. 0. 0. 0. 1. 1. 0. 1. 1. 0. 0. 0. 0. 1. 0. 1. 1.\n",
      " 1. 1. 1. 1. 1. 1. 0. 0. 0. 1. 1. 1. 0. 1. 1. 0. 0. 1. 1. 0. 1. 1. 1. 0.\n",
      " 0. 0. 0. 0. 1. 1. 1. 0. 1. 0. 0. 1. 0. 0. 0. 1. 0. 1. 0. 0. 0. 0. 1. 1.\n",
      " 0. 1. 1. 0. 0. 1. 0. 0. 1. 0. 0. 0. 0. 1. 0. 1. 0. 0. 1. 1. 1. 0. 0. 0.\n",
      " 1. 0. 1. 0. 1. 0. 0. 0. 1. 0. 0. 0. 0. 1. 1. 0. 1. 0. 0. 1. 1. 1. 1. 0.\n",
      " 0. 0. 0. 1. 1. 0. 1. 0. 1. 1. 0. 1. 0. 1. 1. 1. 0. 1. 1. 0. 0. 1. 0. 0.\n",
      " 0. 0. 1. 1. 0. 1. 0. 1. 1.]\n",
      "[0. 0. 0. 1. 0. 0. 0. 0. 0. 1. 0. 0. 0. 0. 0. 0. 0. 0. 0. 1. 0. 0. 0. 0.\n",
      " 0. 1. 0. 0. 0. 0. 0. 1. 0. 0. 0. 0. 0. 0. 0. 0. 0. 1. 0. 0. 0. 0. 0. 0.\n",
      " 0. 0. 0. 0. 0. 0. 0. 0. 0. 0. 0. 0. 0. 0. 0. 1. 0. 0. 0. 0. 0. 0. 0. 0.\n",
      " 0. 0. 0. 0. 0. 0. 0. 0. 0. 0. 0. 0. 0. 0. 0. 0. 0. 0. 0. 0. 0. 0. 0. 0.\n",
      " 0. 0. 0. 0. 0. 0. 0. 0. 0. 0. 0. 0. 0. 0. 0. 0. 0. 0. 0. 0. 0. 0. 0. 0.\n",
      " 0. 0. 0. 0. 0. 0. 0. 0. 0. 0. 0. 0. 0. 0. 0. 0. 0. 0. 0. 0. 0. 0. 0. 0.\n",
      " 0. 0. 0. 0. 0. 0. 0. 0. 0. 0. 0. 0. 0. 0. 0. 0. 1. 0. 0. 0. 0. 0. 0. 0.\n",
      " 0. 0. 0. 0. 0. 0. 0. 0. 1. 0. 0. 0. 0. 0. 0. 0. 0. 0. 0. 0. 0. 0. 0. 0.\n",
      " 0. 0. 0. 0. 0. 0. 0. 0. 0. 0. 0. 0. 0. 0. 0. 0. 0. 0. 0. 0. 0. 0. 1. 0.\n",
      " 0. 0. 0. 0. 0. 0. 0. 0. 0. 0.]\n",
      "[0. 1. 1. 0. 0. 1. 1. 1. 0. 0. 0. 1. 1. 1. 0. 0. 0. 1. 1. 1. 1. 0. 1. 1.\n",
      " 1. 0. 0. 0. 0. 0. 1. 1. 1. 0.]\n",
      "[0. 0. 0. 0. 1. 0. 0. 0. 0. 0. 1. 0. 0. 0. 0. 0. 0. 0. 0. 0. 0.]\n",
      "[0. 0. 0. 1. 0. 0. 0. 0. 1. 1. 1. 1. 1. 1. 0. 0. 0. 0. 0. 1. 1. 1. 1. 0.\n",
      " 0. 0.]\n",
      "[0. 0. 0. 0. 0. 0. 0. 0. 0. 0. 0. 0. 0. 0. 0. 0. 0. 0. 0.]\n",
      "[0. 0. 0. 1. 0. 1. 1. 0. 1. 0. 0. 0. 0. 0. 0. 0. 0. 0. 1. 1. 0. 1. 0. 0.\n",
      " 0. 0. 0. 0. 1. 1. 0. 0. 1.]\n",
      "[0. 0. 0. 0. 0. 0. 1. 0.]\n",
      "[0. 1. 1. 0. 1. 1. 1. 1. 0. 0. 0. 1. 0. 1. 0. 0. 0. 1. 1. 1. 0. 0.]\n",
      "[0. 0. 0. 0. 0. 0. 0. 0. 0. 0. 0. 0. 0. 0. 0. 0. 0. 0. 0. 0. 0. 0.]\n",
      "[1. 1. 0. 1. 0. 0. 0. 0. 0. 1.]\n",
      "[0. 0. 0. 0. 0. 0. 0.]\n",
      "[0. 1. 1. 1.]\n",
      "[0. 0. 0.]\n",
      "[0. 1. 0. 1. 0. 0. 0. 1. 1.]\n",
      "[0.]\n",
      "[1. 0. 1. 1.]\n",
      "[5.]\n",
      "[]\n",
      "[0. 1. 1.]\n",
      "[]\n",
      "[0. 0.]\n",
      "[]\n",
      "[0. 1. 0.]\n",
      "[]\n",
      "[]\n",
      "[]\n",
      "[]\n",
      "[]\n",
      "[]\n",
      "[]\n",
      "[]\n",
      "[]\n",
      "[1.]\n",
      "[]\n",
      "[0.]\n",
      "[]\n",
      "[0.]\n",
      "[]\n",
      "[]\n",
      "[]\n",
      "[]\n",
      "[]\n",
      "[]\n",
      "[]\n",
      "[]\n",
      "[]\n",
      "[61. 48. 26. 44. 41. 41. 29. 56. 25. 40. 33. 39. 22. 42. 35. 19. 27. 25.\n",
      " 40. 34. 47. 54. 30. 36. 22. 41. 50. 26. 44. 23. 39. 30. 47. 48. 41. 31.\n",
      " 42. 28. 36. 23. 32. 29. 29. 41. 28. 25. 21. 31. 40. 32. 46. 32. 32. 31.\n",
      " 27. 34. 33. 40. 28. 29. 32. 28. 36. 56. 33. 30. 27. 40. 40. 22. 29. 31.\n",
      " 36. 35. 28. 37. 24. 32. 34. 24. 46. 28. 26. 44. 41. 50. 27. 40. 29. 46.\n",
      " 48. 26. 32. 29. 26. 37. 39. 29. 23. 32. 56. 27. 23. 38. 49. 59. 38. 26.\n",
      " 40. 24. 52. 26. 26. 37. 39. 37. 36. 47. 42. 28. 31. 26. 39. 48. 34. 26.\n",
      " 55. 36. 36. 25. 31. 48. 35. 32. 26. 30. 27. 34. 37. 32. 21. 28. 41. 33.\n",
      " 25. 60. 27. 37. 19. 28. 26. 46. 46. 55. 26. 52. 29. 28. 36. 34. 20. 35.\n",
      " 38. 29. 31. 41. 23. 32. 41. 25. 31. 33. 26. 32. 40. 28. 29. 32. 31. 30.\n",
      " 27. 45. 41. 31. 33. 43. 34. 33. 29. 30. 28. 29. 31. 30. 31. 46. 41. 28.\n",
      " 26. 26. 28. 30. 27. 41. 24. 32. 31. 37. 28. 35. 22. 58. 35. 31. 37. 45.\n",
      " 44. 31. 27. 27. 27. 30. 39. 52. 27. 29. 42. 25. 25. 46. 25. 30. 29. 53.\n",
      " 27. 29. 40. 28. 25. 33. 24. 49. 33. 41. 29. 41. 34. 28. 29. 29. 37. 34.\n",
      " 43. 35. 33. 25. 41. 34. 34. 38. 45. 43. 34. 49. 40. 48. 35. 30. 24. 54.\n",
      " 27. 41. 28. 28. 34. 29. 51. 36. 31. 35. 40. 27. 36. 34. 26. 42. 14. 35.\n",
      " 55. 39. 27. 27. 52. 27. 42. 21. 33. 20. 30. 27. 27. 34. 38. 23. 40. 32.\n",
      " 36. 39. 36. 55. 45. 32. 31. 27. 38. 37. 28. 32. 44. 43. 35. 33. 37. 35.\n",
      " 35. 40. 28. 24. 28. 33. 54. 31. 25. 49. 29. 29. 39. 31. 39. 31. 34. 55.\n",
      " 50. 42. 38. 28. 28. 33. 29. 24. 34. 26. 37. 58. 31. 37. 49. 33. 43. 30.\n",
      " 28. 41. 39. 30. 67. 22. 29. 27. 40. 41. 46. 40. 31. 45. 35. 31. 29. 27.\n",
      " 45. 39. 35. 33. 39. 45. 26. 27. 30. 32. 29. 28. 29. 30. 23. 42. 33. 46.\n",
      " 44. 42. 29. 30. 51. 31. 42. 25. 50. 44. 22. 32. 37. 31. 28. 29. 28. 61.\n",
      " 33. 25. 46. 33. 39. 31. 25. 33. 31. 28. 32. 30. 31. 29. 34. 28. 35. 38.\n",
      " 30. 27. 38. 29. 40. 30. 27. 46. 41. 27. 28. 29. 33. 56. 40. 38. 40. 35.\n",
      " 43. 37. 29. 33. 26. 26. 38. 42. 47. 50. 49. 41. 31. 29. 53. 28. 42. 30.\n",
      " 32. 51. 41. 27. 42. 34. 39. 22. 35. 33. 27. 30. 22. 35. 41. 29. 30. 32.\n",
      " 44. 40. 39. 26. 47. 30. 26. 27. 27. 31. 32. 28. 31. 45. 24. 51. 57. 29.\n",
      " 31. 46. 46. 54. 25. 38. 31. 29. 39. 35. 31. 30. 31. 33. 33. 37. 28. 39.\n",
      " 31. 57. 27. 24. 49. 26. 26. 56. 45. 29. 39.]\n",
      "[35. 35. 23. 28. 35. 35. 19. 36. 14. 23. 14. 23. 14. 35. 28. 14. 19. 15.\n",
      " 35. 23. 35. 43. 28. 33. 15. 39. 23. 15. 31. 16. 28. 31. 35. 35. 23. 28.\n",
      " 28. 23. 28. 14. 21. 28. 19. 19. 28. 15. 15. 28. 31. 28. 36. 23. 23. 23.\n",
      " 21. 18. 26. 19. 28. 16. 19. 19. 34. 21. 20. 26. 23. 28. 28. 15. 28. 24.\n",
      " 34. 28. 22. 28. 14. 28. 28. 14. 34. 22. 23. 35. 28. 35. 14. 23. 22. 28.\n",
      " 35. 18. 28. 19. 28. 24. 34. 23. 14. 19. 35. 14. 18. 28. 35. 31. 22. 26.\n",
      " 18. 15. 49. 23. 18. 21. 28. 19. 32. 35. 35. 23. 23. 15. 33. 35. 29. 15.\n",
      " 36. 28. 28. 14. 23. 35. 28. 28. 23. 28. 18. 23. 27. 28. 14. 18. 19. 28.\n",
      " 16. 35. 16. 28. 14. 23. 18. 28. 28. 35. 16. 43. 26. 18. 34. 28. 14. 28.\n",
      " 21. 19. 28. 23. 16. 14. 28. 15. 19. 28. 14. 23. 24. 21. 26. 28. 22. 28.\n",
      " 28. 35. 23. 28. 23. 28. 19. 28. 28. 22. 19. 22. 30. 28. 19. 23. 28. 26.\n",
      " 14. 14. 23. 15. 19. 35. 16. 28. 16. 32. 23. 21. 14. 33. 28. 19. 23. 21.\n",
      " 35. 28. 23. 14. 14. 28. 19. 35. 28. 28. 35. 18. 14. 34. 14. 30. 28. 35.\n",
      " 19. 19. 28. 18. 14. 31. 14. 35. 28. 35. 19. 27. 32. 22. 28. 28. 23. 19.\n",
      " 28. 26. 19. 14. 34. 28. 28. 28. 35. 21. 28. 33. 35. 35. 28. 28. 14. 35.\n",
      " 26. 31. 18. 24. 23. 28. 35. 28. 23. 28. 35. 15. 23. 28. 20. 30.  9. 32.\n",
      " 43. 34. 16. 18. 43. 28. 19. 14. 30. 14. 16. 16. 16. 30. 33. 16. 28. 22.\n",
      " 28. 35. 28. 35. 35. 19. 18. 19. 28. 28. 23. 28. 35. 28. 26. 28. 28. 28.\n",
      " 28. 33. 19. 15. 18. 28. 35. 26. 15. 35. 18. 28. 28. 19. 35. 27. 28. 34.\n",
      " 23. 35. 28. 28. 23. 32. 19. 19. 28. 16. 23. 35. 23. 28. 21. 28. 28. 23.\n",
      " 19. 30. 35. 28. 35. 14. 28. 28. 28. 28. 21. 34. 28. 33. 14. 28. 28. 28.\n",
      " 35. 31. 28. 28. 28. 23. 26. 28. 23. 28. 19. 28. 23. 28. 14. 19. 23. 23.\n",
      " 34. 35. 23. 28. 19. 23. 34. 18. 34. 35. 15. 28. 28. 28. 19. 23. 15. 31.\n",
      " 28. 18. 39. 19. 34. 16. 23. 26. 23. 28. 21. 22. 28. 23. 28. 23. 28. 28.\n",
      " 16. 19. 35. 23. 35. 16. 28. 31. 26. 23. 28. 21. 28. 16. 19. 35. 23. 28.\n",
      " 39. 28. 18. 28. 27. 18. 19. 28. 34. 36. 21. 35. 28. 19. 34. 28. 43. 19.\n",
      " 19. 35. 23. 28. 23. 28. 23. 15. 28. 28. 21. 19. 14. 16. 23. 28. 28. 29.\n",
      " 35. 35. 34. 15. 33. 19. 21. 23. 19. 19. 26. 19. 14. 35. 14. 28. 60. 22.\n",
      " 28. 43. 28. 58. 26. 29. 28. 16. 28. 28. 28. 14. 29. 28. 28. 23. 19. 34.\n",
      " 28. 45. 28. 19. 36. 16. 28. 47. 21. 28. 28.]\n",
      "[4.32 2.84 3.8  3.68 3.68 4.42 3.   3.79 3.05 4.05 3.4  4.26 3.3  2.9\n",
      " 2.35 3.95 3.74 3.35 2.8  4.3  3.9  3.53 6.16 4.   3.95 4.21 3.35 3.32\n",
      " 3.95 4.74 3.5  3.58 3.25 3.11 2.9  3.85 3.05 5.16 3.6  3.47 3.4  2.9\n",
      " 3.9  2.2  3.68 2.85 3.9  3.5  4.   3.4  3.15 3.79 5.16 4.11 2.4  3.84\n",
      " 4.39 3.35 4.42 3.1  3.8  6.53 4.   3.8  3.53 3.3  2.45 2.8  3.3  4.37\n",
      " 3.5  3.84 3.58 4.11 4.05 4.21 2.55 3.3  2.85 3.2  3.2  5.   4.26 4.58\n",
      " 4.05 4.16 3.47 4.74 2.9  3.2  4.55 2.05 3.9  3.5  3.   3.05 3.95 5.75\n",
      " 4.53 3.05 3.45 3.79 4.63 3.47 2.95 2.85 3.15 3.9  4.45 2.45 3.05 4.11\n",
      " 5.84 4.74 3.25 3.55 4.   5.1  2.95 4.53 5.42 3.84 3.84 4.26 2.95 5.47\n",
      " 3.58 3.7  3.2  4.37 4.4  4.25 3.4  2.25 3.26 2.75 3.2  4.1  3.74 4.55\n",
      " 3.6  3.68 4.84 2.85 3.32 3.25 2.6  3.74 3.4  3.68 3.79 3.74 4.05 3.35\n",
      " 3.79 4.15 2.8  1.9  6.58 5.   3.25 2.63 3.2  3.5  3.32 3.84 3.25 3.79\n",
      " 4.21 4.5  2.79 4.84 3.68 3.35 3.1  3.58 3.79 2.45 3.2  4.7  4.53 3.25\n",
      " 4.3  4.42 3.42 4.   3.   5.2  3.26 5.21 2.9  4.11 4.68 4.5  2.2  3.05\n",
      " 3.1  3.47 3.   4.26 3.   3.11 2.45 2.3  2.5  3.53 3.6  4.1  4.   3.84\n",
      " 3.26 3.2  3.47 3.95 3.75 3.16 3.   4.   4.   4.05 4.16 4.4  4.1  3.85\n",
      " 3.42 3.26 4.32 3.58 2.74 3.75 4.85 4.37 3.4  2.95 3.55 2.6  2.4  3.35\n",
      " 5.   3.63 4.   4.7  5.16 3.9  3.1  2.74 3.68 3.85 2.65 4.55 3.74 3.26\n",
      " 3.05 3.3  3.84 5.35 3.1  4.05 2.35 3.84 3.21 4.05 3.9  3.05 5.05 3.4\n",
      " 4.53 5.42 4.7  3.95 3.45 4.05 3.84 3.68 4.1  3.5  3.63 4.15 3.35 2.5\n",
      " 3.5  2.3  4.95 3.58 4.15 2.74 4.2  3.84 3.68 2.9  2.95 4.   4.25 3.8\n",
      " 3.58 3.63 5.6  3.11 3.79 3.85 3.63 3.68 3.32 5.58 3.68 3.74 3.74 4.15\n",
      " 2.95 4.26 3.42 2.6  3.7  3.26 2.55 4.65 3.9  2.45 4.   4.37 2.65 5.35\n",
      " 3.53 2.74 3.6  3.84 3.1  4.   4.11 3.9  3.26 3.74 3.4  4.53 4.53 3.45\n",
      " 3.95 3.15 3.53 4.15 3.1  3.79 4.6  4.05 5.3  4.58 2.2  4.05 3.4  4.45\n",
      " 2.7  3.05 3.58 2.2  3.25 5.21 3.55 4.05 3.5  2.75 3.16 2.95 3.9  2.95\n",
      " 3.6  3.95 4.37 4.35 4.37 3.79 3.9  4.   6.3  3.6  3.85 2.95 4.42 4.37\n",
      " 3.95 4.47 4.86 3.65 3.16 6.   4.16 3.37 3.16 3.   3.63 3.95 3.05 3.85\n",
      " 5.53 3.68 5.11 4.42 2.91 2.5  4.   3.35 4.2  3.55 3.45 4.4  3.5  4.53\n",
      " 3.74 4.63 3.32 3.   4.   3.21 2.84 2.95 3.16 4.   5.4  4.47 3.9  3.25\n",
      " 2.75 3.45 3.42 3.35 3.3  3.5  4.32 4.   3.65 5.  ]\n",
      "[2.16 2.8  1.69 2.77 2.87 2.23 2.55 2.16 2.56 1.28 2.08 1.75 2.25 2.46\n",
      " 2.69 2.46 2.03 2.27 2.04 1.66 2.53 2.51 0.63 2.43 2.8  2.45 2.25 2.63\n",
      " 2.73 1.56 2.35 2.52 2.22 2.7  2.51 0.78 2.25 1.73 2.22 2.88 2.7  2.51\n",
      " 2.6  2.93 2.33 2.6  1.68 1.87 1.48 2.38 2.7  2.13 0.44 2.51 2.65 2.55\n",
      " 2.01 2.18 1.59 2.28 2.72 0.68 1.61 2.37 2.63 2.65 2.76 2.65 2.25 2.08\n",
      " 1.7  2.09 2.63 1.   2.38 2.53 2.51 2.16 2.77 2.65 2.65 1.96 2.3  1.98\n",
      " 2.23 1.79 1.82 2.01 2.06 2.32 2.02 2.65 2.16 2.39 2.25 2.62 1.51 0.1\n",
      " 2.06 2.43 2.25 2.52 1.76 2.87 1.84 2.79 2.28 1.76 1.61 2.72 2.42 1.56\n",
      " 0.   1.69 2.25 2.27 1.81 1.06 2.31 1.19 1.31 2.06 2.6  2.41 2.8  1.19\n",
      " 2.51 2.15 2.69 2.33 1.16 1.78 2.69 2.86 2.65 2.44 2.6  1.82 2.41 1.92\n",
      " 2.42 2.43 1.59 2.7  2.45 2.23 2.86 2.63 2.63 2.53 2.8  2.87 2.45 2.65\n",
      " 2.63 1.68 2.63 2.93 0.   1.81 2.46 2.7  2.29 2.43 1.98 2.23 1.73 1.81\n",
      " 2.16 1.37 2.87 1.31 2.52 1.86 2.16 2.63 2.13 2.65 2.29 1.62 1.59 1.99\n",
      " 1.79 1.79 2.51 2.63 2.63 0.4  2.35 1.28 2.49 2.2  0.81 1.26 2.36 2.63\n",
      " 1.51 2.8  2.62 2.31 2.33 2.43 2.65 2.77 2.79 2.41 1.77 1.26 2.16 2.73\n",
      " 2.87 2.3  2.55 2.55 2.25 2.63 2.77 1.88 2.31 1.7  2.13 1.92 1.87 1.64\n",
      " 2.31 2.38 1.78 2.63 2.63 2.63 0.78 2.41 2.53 2.77 2.56 2.93 2.69 2.69\n",
      " 1.08 2.73 2.62 0.21 1.56 1.93 2.86 2.8  2.41 2.22 2.72 2.09 1.85 2.73\n",
      " 2.73 2.03 2.58 1.37 2.32 2.51 3.   2.87 2.33 2.26 2.65 2.8  1.26 1.51\n",
      " 1.81 1.   1.9  2.48 1.78 1.91 2.23 2.36 1.85 2.42 2.7  1.89 2.46 2.69\n",
      " 2.27 3.   1.3  2.53 2.03 2.94 1.77 2.8  2.08 2.79 2.65 2.22 2.51 1.68\n",
      " 2.45 2.53 1.21 2.63 2.3  1.51 1.88 2.31 2.8  1.47 2.55 1.7  2.65 2.48\n",
      " 2.32 1.75 2.08 2.69 1.54 2.77 2.93 2.16 2.77 2.79 2.04 2.01 2.7  0.71\n",
      " 2.53 2.77 1.85 0.94 2.62 2.16 2.06 2.48 2.77 1.83 2.46 1.82 1.73 2.77\n",
      " 2.06 2.65 2.27 2.25 2.08 1.66 1.93 2.58 0.83 1.41 2.46 2.1  2.79 2.18\n",
      " 2.76 2.76 1.98 2.58 1.68 0.85 2.63 2.29 1.89 2.48 2.63 2.48 2.36 2.72\n",
      " 2.44 1.54 2.11 1.5  1.82 2.48 2.13 1.78 0.85 1.76 1.77 2.39 1.76 2.27\n",
      " 2.53 2.23 0.59 2.06 2.73 0.39 2.15 2.41 2.73 2.7  2.73 2.48 2.58 1.73\n",
      " 0.34 2.87 0.41 1.77 2.76 2.76 2.8  2.35 2.18 1.95 2.28 2.05 2.7  2.43\n",
      " 2.55 2.01 2.65 2.7  2.58 2.63 2.94 2.69 2.94 2.04 1.26 2.5  2.7  2.53\n",
      " 2.79 2.52 2.43 2.29 2.77 2.08 1.36 2.8  2.13 2.23]\n",
      "[0.175 0.392 0.175 ... 0.392 0.345 0.175]\n",
      "[0.25  0.363 0.25  ... 0.363 0.363 0.25 ]\n",
      "[0.019 0.363 0.015 ... 0.363 0.363 0.019]\n",
      "[0.155 0.    0.025 ... 0.426 0.426 0.155]\n",
      "[0.457 0.153 0.076 ... 0.034 0.457 0.457]\n",
      "[0.449 0.449 0.045 ... 0.261 0.261 0.261]\n",
      "[0.225 0.409 0.225 ... 0.409 0.067 0.409]\n",
      "[0.209 0.791 0.791 ... 0.    0.209 0.209]\n",
      "[0.446 0.554 0.554 ... 0.554 0.554 0.554]\n",
      "[0.622 0.378 0.622 ... 0.378 0.622 0.378]\n",
      "[0.602 0.398 0.    ... 0.    0.    0.   ]\n",
      "[0.    0.878 0.    ... 0.    0.    0.   ]\n",
      "[0.684 0.684 0.316 ... 0.684 0.316 0.316]\n",
      "[0.657 0.657 0.657 ... 0.343 0.657 0.657]\n",
      "[0.836 0.164 0.836 ... 0.836 0.836 0.836]\n",
      "[5.787 6.633 4.588 ... 5.043 5.477 4.678]\n",
      "[1.074 5.481 2.654 ... 2.1   4.667 3.742]\n",
      "[383 190 129 ... 137 524 368]\n",
      "[0 4 0 ... 3 0 0]\n",
      "[1268. 2436. 2437. ...   94. 3114.  329.]\n",
      "[0 5 0 ... 3 0 0]\n",
      "[1000.    0. 1000. ...    9. 1000. 1000.]\n",
      "{'ClipLength(ms)': {'max': 3737, 'min': 701},\n",
      " 'Complexity': {'max': 6, 'min': 0},\n",
      " 'Compound.2.0': {'max': 1, 'min': 0},\n",
      " 'Contact.2.0': {'max': 1, 'min': 0},\n",
      " 'Contact.2.0Frequency': {'max': 1, 'min': 0},\n",
      " 'ContactM2.2.0': {'max': 1, 'min': 0},\n",
      " 'ContactM3.2.0': {'max': 1, 'min': 0},\n",
      " 'ContactM4.2.0': {'max': 1, 'min': 0},\n",
      " 'ContactM5.2.0': {},\n",
      " 'ContactM6.2.0': {},\n",
      " 'D.Iconicity(M) all': {'max': 7, 'min': 1},\n",
      " 'FingerspelledLoanSign.2.0': {'max': 1, 'min': 0},\n",
      " 'Flexion.2.0': ['FullyOpen',\n",
      "                 'Bent',\n",
      "                 'Flat',\n",
      "                 'Crossed',\n",
      "                 'Curved',\n",
      "                 'FullyClosed',\n",
      "                 'Stacked'],\n",
      " 'Flexion.2.0Frequency': {'max': 1, 'min': 0},\n",
      " 'FlexionChange.2.0': {'max': 1, 'min': 0},\n",
      " 'FlexionChange.2.0Frequency': {'max': 1, 'min': 0},\n",
      " 'FlexionChangeM2.2.0': {'max': 1, 'min': 0},\n",
      " 'FlexionChangeM3.2.0': {'max': 1, 'min': 0},\n",
      " 'FlexionChangeM4.2.0': {'max': 0, 'min': 0},\n",
      " 'FlexionChangeM5.2.0': {},\n",
      " 'FlexionChangeM6.2.0': {},\n",
      " 'FlexionM2.2.0': ['FullyOpen',\n",
      "                   'Bent',\n",
      "                   'Flat',\n",
      "                   'Curved',\n",
      "                   'FullyClosed',\n",
      "                   'Stacked'],\n",
      " 'FlexionM3.2.0': ['FullyOpen',\n",
      "                   'Bent',\n",
      "                   'Flat',\n",
      "                   'Crossed',\n",
      "                   'Curved',\n",
      "                   'FullyClosed'],\n",
      " 'FlexionM4.2.0': ['Stacked', 'FullyOpen', 'Bent', 'Curved'],\n",
      " 'FlexionM5.2.0': ['Curved', 'FullyOpen', 'Bent'],\n",
      " 'FlexionM6.2.0': ['Crossed'],\n",
      " 'H index': {'max': 3, 'min': 0},\n",
      " 'Handshape.2.0': ['open_e',\n",
      "                   'flat_n',\n",
      "                   'e',\n",
      "                   'y',\n",
      "                   'curved_v',\n",
      "                   'flat_v',\n",
      "                   'horns',\n",
      "                   'flat_horns',\n",
      "                   'k',\n",
      "                   'closed_b',\n",
      "                   '4',\n",
      "                   'stacked_5',\n",
      "                   'spread_e',\n",
      "                   'flat_ily',\n",
      "                   't',\n",
      "                   'curved_5',\n",
      "                   'curved_l',\n",
      "                   'trip',\n",
      "                   'd',\n",
      "                   '3',\n",
      "                   '7',\n",
      "                   'flat_o',\n",
      "                   'flatspread_5',\n",
      "                   'curved_1',\n",
      "                   'curved_h',\n",
      "                   '5',\n",
      "                   'o',\n",
      "                   'open_b',\n",
      "                   'r',\n",
      "                   'c',\n",
      "                   'flat_h',\n",
      "                   'open_f',\n",
      "                   'flat_m',\n",
      "                   'spread_open_e',\n",
      "                   'f',\n",
      "                   'ily',\n",
      "                   'h',\n",
      "                   'flat_1',\n",
      "                   '8',\n",
      "                   'l',\n",
      "                   'closed_e',\n",
      "                   'goody_goody',\n",
      "                   'flat_4',\n",
      "                   'v',\n",
      "                   'p',\n",
      "                   'bent_v',\n",
      "                   'a',\n",
      "                   'w',\n",
      "                   'open_8',\n",
      "                   '1',\n",
      "                   'g',\n",
      "                   'bent_l',\n",
      "                   's',\n",
      "                   'open_h',\n",
      "                   'bent_1',\n",
      "                   'baby_o',\n",
      "                   'i',\n",
      "                   'curved_4',\n",
      "                   'flat_b'],\n",
      " 'HandshapeM2.2.0': ['e',\n",
      "                     'y',\n",
      "                     'curved_v',\n",
      "                     'horns',\n",
      "                     'flat_v',\n",
      "                     'closed_b',\n",
      "                     'stacked_5',\n",
      "                     'curved_l',\n",
      "                     'curved_5',\n",
      "                     '3',\n",
      "                     'flat_o',\n",
      "                     'flatspread_5',\n",
      "                     'curved_1',\n",
      "                     '5',\n",
      "                     'o',\n",
      "                     'open_b',\n",
      "                     'c',\n",
      "                     'flat_h',\n",
      "                     'f',\n",
      "                     'h',\n",
      "                     '8',\n",
      "                     'l',\n",
      "                     'w',\n",
      "                     'flat_4',\n",
      "                     'p',\n",
      "                     'v',\n",
      "                     'bent_v',\n",
      "                     'a',\n",
      "                     'open_8',\n",
      "                     '1',\n",
      "                     'g',\n",
      "                     'bent_l',\n",
      "                     's',\n",
      "                     'open_h',\n",
      "                     'bent_1',\n",
      "                     'baby_o',\n",
      "                     'i',\n",
      "                     'flat_b'],\n",
      " 'HandshapeM3.2.0': ['e',\n",
      "                     'y',\n",
      "                     'curved_v',\n",
      "                     'closed_b',\n",
      "                     'n',\n",
      "                     '5',\n",
      "                     'o',\n",
      "                     'r',\n",
      "                     'open_b',\n",
      "                     'c',\n",
      "                     'f',\n",
      "                     'l',\n",
      "                     'flat_4',\n",
      "                     'v',\n",
      "                     'a',\n",
      "                     '1',\n",
      "                     's',\n",
      "                     'baby_o',\n",
      "                     'flat_b'],\n",
      " 'HandshapeM4.2.0': ['5', 'c', 'bent_1', 'baby_o', 'i', 'p', 'a'],\n",
      " 'HandshapeM5.2.0': ['curved_v', 'e', 'l'],\n",
      " 'HandshapeM6.2.0': ['r'],\n",
      " 'Iconicity(M)': {'max': 7, 'min': 1},\n",
      " 'Initialized.2.0': {'max': 1, 'min': 0},\n",
      " 'LexicalClass': ['Adjective',\n",
      "                  'Name',\n",
      "                  'Verb',\n",
      "                  'Minor',\n",
      "                  'Noun',\n",
      "                  'Adverb',\n",
      "                  'Number'],\n",
      " 'MajorLocation.2.0': ['Body', 'Hand', 'Arm', 'Head', 'Other', 'Neutral'],\n",
      " 'MajorLocation.2.0Frequency': {'max': 1, 'min': 0},\n",
      " 'MajorLocationM2.2.0': ['Body', 'Hand', 'Arm', 'Head', 'Neutral'],\n",
      " 'MajorLocationM3.2.0': ['Body', 'Head', 'Neutral', 'Hand'],\n",
      " 'MajorLocationM4.2.0': ['Body', 'Head', 'Hand'],\n",
      " 'MajorLocationM5.2.0': {},\n",
      " 'MajorLocationM6.2.0': {},\n",
      " 'MarkedHandshape.2.0': {'max': 1, 'min': 0},\n",
      " 'MarkedHandshapeM2.2.0': {'max': 1, 'min': 0},\n",
      " 'MarkedHandshapeM3.2.0': {'max': 1, 'min': 0},\n",
      " 'MarkedHandshapeM4.2.0': {'max': 1, 'min': 0},\n",
      " 'MarkedHandshapeM5.2.0': {'max': 1, 'min': 0},\n",
      " 'MarkedHandshapeM6.2.0': {'max': 1, 'min': 1},\n",
      " 'MinorLocation.2.0': ['TorsoTop',\n",
      "                       'FingerFront',\n",
      "                       'BodyAway',\n",
      "                       'Clavicle',\n",
      "                       'CheekNose',\n",
      "                       'Forehead',\n",
      "                       'Chin',\n",
      "                       'FingerUlnar',\n",
      "                       'UnderChin',\n",
      "                       'FingerBack',\n",
      "                       'FingerRadial',\n",
      "                       'ForearmUlnar',\n",
      "                       'ElbowBack',\n",
      "                       'Hips',\n",
      "                       'ForearmBack',\n",
      "                       'ForearmFront',\n",
      "                       'HandAway',\n",
      "                       'FingerTip',\n",
      "                       'TorsoBottom',\n",
      "                       'Mouth',\n",
      "                       'Shoulder',\n",
      "                       'HeadTop',\n",
      "                       'Palm',\n",
      "                       'Eye',\n",
      "                       'UpperArm',\n",
      "                       'UpperLip',\n",
      "                       'HeadAway',\n",
      "                       'Heel',\n",
      "                       'WristBack',\n",
      "                       'Waist',\n",
      "                       'TorsoMid',\n",
      "                       'WristFront',\n",
      "                       'ArmAway',\n",
      "                       'PalmBack',\n",
      "                       'Neck',\n",
      "                       'Other',\n",
      "                       'Neutral'],\n",
      " 'MinorLocation.2.0Frequency': {'max': 1, 'min': 0},\n",
      " 'MinorLocationM2.2.0': ['TorsoTop',\n",
      "                         'FingerFront',\n",
      "                         'BodyAway',\n",
      "                         'Clavicle',\n",
      "                         'CheekNose',\n",
      "                         'Forehead',\n",
      "                         'FingerUlnar',\n",
      "                         'UnderChin',\n",
      "                         'FingerBack',\n",
      "                         'FingerRadial',\n",
      "                         'Hips',\n",
      "                         'ForearmBack',\n",
      "                         'HandAway',\n",
      "                         'FingerTip',\n",
      "                         'ElbowFront',\n",
      "                         'Mouth',\n",
      "                         'Palm',\n",
      "                         'HeadAway',\n",
      "                         'TorsoMid',\n",
      "                         'PalmBack',\n",
      "                         'Other',\n",
      "                         'Neutral'],\n",
      " 'MinorLocationM3.2.0': ['TorsoTop',\n",
      "                         'HeadAway',\n",
      "                         'FingerRadial',\n",
      "                         'Clavicle',\n",
      "                         'Hips',\n",
      "                         'Palm',\n",
      "                         'Forehead',\n",
      "                         'Neutral'],\n",
      " 'MinorLocationM4.2.0': ['FingerRadial', 'TorsoTop', 'HeadAway'],\n",
      " 'MinorLocationM5.2.0': {},\n",
      " 'MinorLocationM6.2.0': {},\n",
      " 'Movement.2.0': ['Z-shaped',\n",
      "                  'Straight',\n",
      "                  'Curved',\n",
      "                  'None',\n",
      "                  'X-shaped',\n",
      "                  'Other',\n",
      "                  'BackAndForth',\n",
      "                  'Circular'],\n",
      " 'Movement.2.0Frequency': {'max': 1, 'min': 0},\n",
      " 'MovementM2.2.0': ['Straight',\n",
      "                    'Curved',\n",
      "                    'None',\n",
      "                    'Other',\n",
      "                    'BackAndForth',\n",
      "                    'Circular'],\n",
      " 'MovementM3.2.0': ['Circular', 'Other', 'None', 'Straight'],\n",
      " 'MovementM4.2.0': ['None', 'Straight'],\n",
      " 'MovementM5.2.0': {},\n",
      " 'MovementM6.2.0': {},\n",
      " 'Neighborhood Density': {'max': 47, 'min': 0},\n",
      " 'Neighborhood Density 2.0': {'max': 50, 'min': 0},\n",
      " 'NonDominantHandshape.2.0': ['open_e',\n",
      "                              'e',\n",
      "                              'y',\n",
      "                              'curved_v',\n",
      "                              'DominanceConditionViolation',\n",
      "                              'flat_v',\n",
      "                              'horns',\n",
      "                              'Lax',\n",
      "                              'flat_horns',\n",
      "                              'B',\n",
      "                              'closed_b',\n",
      "                              'O',\n",
      "                              '4',\n",
      "                              'stacked_5',\n",
      "                              'curved_5',\n",
      "                              'curved_l',\n",
      "                              '3',\n",
      "                              'flat_o',\n",
      "                              'flatspread_5',\n",
      "                              'curved_1',\n",
      "                              'A',\n",
      "                              '5',\n",
      "                              'o',\n",
      "                              'open_b',\n",
      "                              'r',\n",
      "                              'c',\n",
      "                              'flat_h',\n",
      "                              'flat_m',\n",
      "                              'spread_open_e',\n",
      "                              'f',\n",
      "                              'SymmetryViolation',\n",
      "                              'ily',\n",
      "                              'h',\n",
      "                              '8',\n",
      "                              'l',\n",
      "                              'flat_1',\n",
      "                              'w',\n",
      "                              'C',\n",
      "                              'v',\n",
      "                              'p',\n",
      "                              'bent_v',\n",
      "                              'a',\n",
      "                              'flat_4',\n",
      "                              'open_8',\n",
      "                              '1',\n",
      "                              'curved_b',\n",
      "                              'g',\n",
      "                              'bent_l',\n",
      "                              's',\n",
      "                              'open_h',\n",
      "                              'bent_1',\n",
      "                              'S',\n",
      "                              'baby_o',\n",
      "                              'i',\n",
      "                              'curved_4',\n",
      "                              'flat_b'],\n",
      " 'NonDominantHandshapeM2.2.0': ['horns',\n",
      "                                'B',\n",
      "                                'closed_b',\n",
      "                                'O',\n",
      "                                'curved_l',\n",
      "                                'curved_5',\n",
      "                                'flat_o',\n",
      "                                'flatspread_5',\n",
      "                                'A',\n",
      "                                'curved_1',\n",
      "                                '5',\n",
      "                                'o',\n",
      "                                'open_b',\n",
      "                                'c',\n",
      "                                'f',\n",
      "                                'h',\n",
      "                                'l',\n",
      "                                'C',\n",
      "                                'p',\n",
      "                                'flat_4',\n",
      "                                'a',\n",
      "                                'open_8',\n",
      "                                '1',\n",
      "                                'bent_l',\n",
      "                                's',\n",
      "                                'bent_1',\n",
      "                                'S',\n",
      "                                'baby_o',\n",
      "                                'i',\n",
      "                                'flat_b'],\n",
      " 'NonDominantHandshapeM3.2.0': ['5', 'open_b', 'baby_o', 'l', 'flat_b', 'B'],\n",
      " 'NonDominantHandshapeM4.2.0': {'max': 5, 'min': 5},\n",
      " 'NonDominantHandshapeM5.2.0': {},\n",
      " 'NonDominantHandshapeM6.2.0': {},\n",
      " 'NumberOfMorphemes.2.0': {'max': 6, 'min': 1},\n",
      " 'Parameter.Neighborhood.Density.2.0': {'max': 563, 'min': 1},\n",
      " 'PercentGlossAgreement': {'max': 1, 'min': 0},\n",
      " 'PercentUnknown': {'max': 1, 'min': 0},\n",
      " 'PhonotacticProbability': {'max': 9, 'min': 2},\n",
      " 'RepeatedMovement.2.0': {'max': 1, 'min': 0},\n",
      " 'RepeatedMovement.2.0Frequency': {'max': 1, 'min': 0},\n",
      " 'RepeatedMovementM2.2.0': {'max': 1, 'min': 0},\n",
      " 'RepeatedMovementM3.2.0': {'max': 1, 'min': 0},\n",
      " 'RepeatedMovementM4.2.0': {'max': 0, 'min': 0},\n",
      " 'RepeatedMovementM5.2.0': {},\n",
      " 'RepeatedMovementM6.2.0': {},\n",
      " 'SecondMinorLocation.2.0': ['TorsoTop',\n",
      "                             'OtherAway',\n",
      "                             'FingerFront',\n",
      "                             'BodyAway',\n",
      "                             'ForearmRadial',\n",
      "                             'Clavicle',\n",
      "                             'CheekNose',\n",
      "                             'Forehead',\n",
      "                             'Chin',\n",
      "                             'FingerUlnar',\n",
      "                             'UnderChin',\n",
      "                             'FingerBack',\n",
      "                             'FingerRadial',\n",
      "                             'ForearmUlnar',\n",
      "                             'Hips',\n",
      "                             'ForearmBack',\n",
      "                             'ForearmFront',\n",
      "                             'HandAway',\n",
      "                             'FingerTip',\n",
      "                             'TorsoBottom',\n",
      "                             'Mouth',\n",
      "                             'Shoulder',\n",
      "                             'HeadTop',\n",
      "                             'Palm',\n",
      "                             'Neutral',\n",
      "                             'Eye',\n",
      "                             'UpperArm',\n",
      "                             'UpperLip',\n",
      "                             'HeadAway',\n",
      "                             'Heel',\n",
      "                             'Waist',\n",
      "                             'TorsoMid',\n",
      "                             'ArmAway',\n",
      "                             'PalmBack',\n",
      "                             'Neck',\n",
      "                             'Other',\n",
      "                             'ElbowBack'],\n",
      " 'SecondMinorLocation.2.0Frequency': {'max': 1, 'min': 0},\n",
      " 'SecondMinorLocationM2.2.0': ['TorsoTop',\n",
      "                               'HandAway',\n",
      "                               'FingerFront',\n",
      "                               'BodyAway',\n",
      "                               'FingerBack',\n",
      "                               'HeadAway',\n",
      "                               'FingerRadial',\n",
      "                               'TorsoBottom',\n",
      "                               'Other',\n",
      "                               'Waist',\n",
      "                               'Palm',\n",
      "                               'Away',\n",
      "                               'Neutral'],\n",
      " 'SecondMinorLocationM3.2.0': ['Forehead', 'HandAway', 'TorsoTop', 'Neutral'],\n",
      " 'SecondMinorLocationM4.2.0': ['HandAway'],\n",
      " 'SecondMinorLocationM5.2.0': {},\n",
      " 'SecondMinorLocationM6.2.0': {},\n",
      " 'SelectedFingers.2.0': ['imr',\n",
      "                         'imrp',\n",
      "                         'imp',\n",
      "                         'r',\n",
      "                         't',\n",
      "                         'mrp',\n",
      "                         'i',\n",
      "                         'mr',\n",
      "                         'im',\n",
      "                         'p',\n",
      "                         'm',\n",
      "                         'ip'],\n",
      " 'SelectedFingers.2.0Frequency': {'max': 1, 'min': 0},\n",
      " 'SelectedFingersM2.2.0': ['imrp', 't', 'i', 'im', 'p', 'm', 'ip'],\n",
      " 'SelectedFingersM3.2.0': ['imrp', 't', 'i', 'im', 'p'],\n",
      " 'SelectedFingersM4.2.0': ['imrp', 't', 'i', 'im', 'p'],\n",
      " 'SelectedFingersM5.2.0': ['im', 'imrp', 'i'],\n",
      " 'SelectedFingersM6.2.0': ['im'],\n",
      " 'SignBankID': {'max': 3370, 'min': 0},\n",
      " 'SignFrequency(M)': {'max': 7, 'min': 1},\n",
      " 'SignLength(ms)': {'max': 2603, 'min': 33},\n",
      " 'SignType.2.0': ['AsymmetricalSameHandshape',\n",
      "                  'SymmetricalOrAlternating',\n",
      "                  'SymmetryViolation',\n",
      "                  'OneHanded',\n",
      "                  'AsymmetricalDifferentHandshape',\n",
      "                  'DominanceViolation'],\n",
      " 'SignType.2.0Frequency': {'max': 1, 'min': 0},\n",
      " 'SignTypeM2.2.0': ['SymmetricalOrAlternating',\n",
      "                    'OneHanded',\n",
      "                    'AsymmetricalDifferentHandshape',\n",
      "                    'AsymmetricalSameHandshape'],\n",
      " 'SignTypeM3.2.0': ['SymmetricalOrAlternating',\n",
      "                    'OneHanded',\n",
      "                    'AsymmetricalDifferentHandshape',\n",
      "                    'AsymmetricalSameHandshape'],\n",
      " 'SignTypeM4.2.0': ['SymmetricalOrAlternating',\n",
      "                    'OneHanded',\n",
      "                    'AsymmetricalSameHandshape'],\n",
      " 'SignTypeM5.2.0': {},\n",
      " 'SignTypeM6.2.0': {},\n",
      " 'Spread.2.0': {'max': 1, 'min': 0},\n",
      " 'Spread.2.0Frequency': {'max': 1, 'min': 0},\n",
      " 'SpreadChange.2.0': {'max': 1, 'min': 0},\n",
      " 'SpreadChange.2.0Frequency': {'max': 1, 'min': 0},\n",
      " 'SpreadChangeM2.2.0': {'max': 1, 'min': 0},\n",
      " 'SpreadChangeM3.2.0': {'max': 0, 'min': 0},\n",
      " 'SpreadChangeM4.2.0': {'max': 0, 'min': 0},\n",
      " 'SpreadChangeM5.2.0': {},\n",
      " 'SpreadChangeM6.2.0': {},\n",
      " 'SpreadM2.2.0': {'max': 1, 'min': 0},\n",
      " 'SpreadM3.2.0': {'max': 1, 'min': 0},\n",
      " 'SpreadM4.2.0': {'max': 1, 'min': 0},\n",
      " 'SpreadM5.2.0': {'max': 0, 'min': 0},\n",
      " 'SpreadM6.2.0': {'max': 0, 'min': 0},\n",
      " 'SubtLexUSLog10WF': {'max': 7, 'min': 0},\n",
      " 'ThumbContact.2.0': {'max': 1, 'min': 0},\n",
      " 'ThumbContact.2.0Frequency': {'max': 1, 'min': 0},\n",
      " 'ThumbContactM2.2.0': {'max': 1, 'min': 0},\n",
      " 'ThumbContactM3.2.0': {'max': 1, 'min': 0},\n",
      " 'ThumbContactM4.2.0': {'max': 1, 'min': 0},\n",
      " 'ThumbContactM5.2.0': {'max': 1, 'min': 0},\n",
      " 'ThumbContactM6.2.0': {'max': 0, 'min': 0},\n",
      " 'ThumbPosition.2.0': ['Closed', 'Open'],\n",
      " 'ThumbPosition.2.0Frequency': {'max': 1, 'min': 0},\n",
      " 'ThumbPositionM2.2.0': ['Closed', 'Open'],\n",
      " 'ThumbPositionM3.2.0': ['Closed', 'Open'],\n",
      " 'ThumbPositionM4.2.0': ['Closed', 'Open'],\n",
      " 'ThumbPositionM5.2.0': ['Closed', 'Open'],\n",
      " 'ThumbPositionM6.2.0': ['Closed', 'Open'],\n",
      " 'Transparency M': {'max': 7, 'min': 1},\n",
      " 'UlnarRotation.2.0': {'max': 1, 'min': 0},\n",
      " 'UlnarRotation.2.0Frequency': {'max': 1, 'min': 0},\n",
      " 'UlnarRotationM2.2.0': {'max': 1, 'min': 0},\n",
      " 'UlnarRotationM3.2.0': {'max': 0, 'min': 0},\n",
      " 'UlnarRotationM4.2.0': {},\n",
      " 'UlnarRotationM5.2.0': {},\n",
      " 'UlnarRotationM6.2.0': {},\n",
      " 'bglm_aoa': {'max': 67, 'min': 14},\n",
      " 'color_code': ['#8d55f3',\n",
      "                '#e0d29e',\n",
      "                '#ef3c73',\n",
      "                '#b9e347',\n",
      "                '#060fa4',\n",
      "                '#9a174b',\n",
      "                '#1a829b',\n",
      "                '#4edac3',\n",
      "                '#47cf3e',\n",
      "                '#f712d4',\n",
      "                '#e5c936',\n",
      "                '#4cc145',\n",
      "                '#d05e97',\n",
      "                '#133741',\n",
      "                '#651251',\n",
      "                '#30dcc0',\n",
      "                '#46bd72',\n",
      "                '#d90c42',\n",
      "                '#07b70d',\n",
      "                '#dede7f',\n",
      "                '#3a42cc',\n",
      "                '#766bdd',\n",
      "                '#56f9c8',\n",
      "                '#1688ac',\n",
      "                '#0cee02',\n",
      "                '#a02878',\n",
      "                '#20f487',\n",
      "                '#5e0d3e',\n",
      "                '#428da6',\n",
      "                '#970082',\n",
      "                '#60cd60',\n",
      "                '#c208db',\n",
      "                '#f6ab6f',\n",
      "                '#99c6b5',\n",
      "                '#929dba',\n",
      "                '#75ec60',\n",
      "                '#e096e4',\n",
      "                '#6c237a',\n",
      "                '#0bbcee',\n",
      "                '#df76d6',\n",
      "                '#e9be95',\n",
      "                '#6d7575',\n",
      "                '#97f2c3',\n",
      "                '#488fb1',\n",
      "                '#ccc608',\n",
      "                '#7a1961',\n",
      "                '#b335da',\n",
      "                '#d88535',\n",
      "                '#20a306',\n",
      "                '#7e95dd',\n",
      "                '#2880ab',\n",
      "                '#d6bb47',\n",
      "                '#d07ea3',\n",
      "                '#577993',\n",
      "                '#d72011',\n",
      "                '#b1a0d1',\n",
      "                '#1bd934',\n",
      "                '#247089',\n",
      "                '#8b40d8',\n",
      "                '#2da4d5',\n",
      "                '#ece616',\n",
      "                '#f1f578',\n",
      "                '#58d729',\n",
      "                '#edbe9c',\n",
      "                '#a6818f',\n",
      "                '#738bbe',\n",
      "                '#234691',\n",
      "                '#631093',\n",
      "                '#f05657',\n",
      "                '#55a616',\n",
      "                '#93e6d9',\n",
      "                '#e38dbe',\n",
      "                '#c241ed',\n",
      "                '#bd0cae',\n",
      "                '#0ad0ef',\n",
      "                '#6fa273',\n",
      "                '#964616',\n",
      "                '#0ebaac',\n",
      "                '#f8d286',\n",
      "                '#894bb8',\n",
      "                '#37eefa',\n",
      "                '#90f62c',\n",
      "                '#45fd0d',\n",
      "                '#dc327c',\n",
      "                '#dfc159',\n",
      "                '#f44818',\n",
      "                '#1630a6',\n",
      "                '#85d23b',\n",
      "                '#44499f',\n",
      "                '#45a508',\n",
      "                '#8ec53c',\n",
      "                '#fd7ff1',\n",
      "                '#ebe8f4',\n",
      "                '#daaea5',\n",
      "                '#2b6a1c',\n",
      "                '#e29100',\n",
      "                '#9ab37c',\n",
      "                '#7bdb78',\n",
      "                '#9b044f',\n",
      "                '#d0dd8a',\n",
      "                '#2cecee',\n",
      "                '#6557ed',\n",
      "                '#c63e59',\n",
      "                '#6c28ac',\n",
      "                '#beea86',\n",
      "                '#cc9a62',\n",
      "                '#0a3253',\n",
      "                '#3fa299',\n",
      "                '#307e90',\n",
      "                '#a4e06f',\n",
      "                '#d10785',\n",
      "                '#8f5550',\n",
      "                '#aa106d',\n",
      "                '#951235',\n",
      "                '#dd76df',\n",
      "                '#9f704e',\n",
      "                '#315157',\n",
      "                '#7bf3b0',\n",
      "                '#c14c6d',\n",
      "                '#4e665a',\n",
      "                '#9abbe6',\n",
      "                '#c7cf70',\n",
      "                '#34ccc2',\n",
      "                '#6b50f8',\n",
      "                '#b93748',\n",
      "                '#955871',\n",
      "                '#b84e48',\n",
      "                '#d2a400',\n",
      "                '#d0ab15',\n",
      "                '#8ea943',\n",
      "                '#7929a0',\n",
      "                '#c99d5a',\n",
      "                '#b4c70e',\n",
      "                '#a47828',\n",
      "                '#cde0f7',\n",
      "                '#c56f0a',\n",
      "                '#5be6d9',\n",
      "                '#30a002',\n",
      "                '#289f5c',\n",
      "                '#f759ed',\n",
      "                '#f87922',\n",
      "                '#eb9bb1',\n",
      "                '#de4463',\n",
      "                '#aace4a',\n",
      "                '#13c6a5',\n",
      "                '#51edf4',\n",
      "                '#4b7eb6',\n",
      "                '#dd04ef',\n",
      "                '#171942',\n",
      "                '#383ca5',\n",
      "                '#052c47',\n",
      "                '#a72e4b',\n",
      "                '#8353b4',\n",
      "                '#e15f82',\n",
      "                '#226ece',\n",
      "                '#d816d7',\n",
      "                '#c4731d',\n",
      "                '#6f156f',\n",
      "                '#6b90cc',\n",
      "                '#600b0a',\n",
      "                '#66fca9',\n",
      "                '#8240df',\n",
      "                '#9f56ee',\n",
      "                '#21fd46',\n",
      "                '#0b8aef',\n",
      "                '#a26588',\n",
      "                '#ccea64',\n",
      "                '#69eccc',\n",
      "                '#13559f',\n",
      "                '#29486a',\n",
      "                '#41d914',\n",
      "                '#ab33d8',\n",
      "                '#84fc44',\n",
      "                '#d4b948',\n",
      "                '#ff4b2f',\n",
      "                '#ce1064',\n",
      "                '#0942db',\n",
      "                '#01ee68',\n",
      "                '#204ce8',\n",
      "                '#d3d8a6',\n",
      "                '#dbeaf7',\n",
      "                '#7f2c70',\n",
      "                '#f847df',\n",
      "                '#2ea95c',\n",
      "                '#950966',\n",
      "                '#b73d1d',\n",
      "                '#bb10be',\n",
      "                '#a21edd',\n",
      "                '#b89173',\n",
      "                '#486d54',\n",
      "                '#ab4ce8',\n",
      "                '#1bf7f4',\n",
      "                '#a6ecf6',\n",
      "                '#987dbf',\n",
      "                '#c7cb83',\n",
      "                '#f410e0',\n",
      "                '#97d74d',\n",
      "                '#7a62e9',\n",
      "                '#2bc36d',\n",
      "                '#2a3b67',\n",
      "                '#8fa8ca',\n",
      "                '#b1693e',\n",
      "                '#ea4b4c',\n",
      "                '#878717',\n",
      "                '#f1afa4',\n",
      "                '#0ed196',\n",
      "                '#e54c79',\n",
      "                '#6e6480',\n",
      "                '#84a02f',\n",
      "                '#4eb052',\n",
      "                '#b23da9',\n",
      "                '#8a39d7',\n",
      "                '#37fc16',\n",
      "                '#fd88b3',\n",
      "                '#2ad386',\n",
      "                '#aba557',\n",
      "                '#cec018',\n",
      "                '#4e5f3c',\n",
      "                '#138caa',\n",
      "                '#300761',\n",
      "                '#a8b53d',\n",
      "                '#63670b',\n",
      "                '#3656e9',\n",
      "                '#b1502f',\n",
      "                '#96fb8f',\n",
      "                '#00be01',\n",
      "                '#2c673b',\n",
      "                '#14e1c5',\n",
      "                '#080b9f',\n",
      "                '#a37876',\n",
      "                '#c0ab33',\n",
      "                '#681ffc',\n",
      "                '#bd445d',\n",
      "                '#8314a7',\n",
      "                '#4496c5',\n",
      "                '#c555cf',\n",
      "                '#3dc46b',\n",
      "                '#41d839',\n",
      "                '#630dc7',\n",
      "                '#207e13',\n",
      "                '#7fbfd2',\n",
      "                '#a011c4',\n",
      "                '#7cb795',\n",
      "                '#b85f0b',\n",
      "                '#3bb861',\n",
      "                '#ee278d',\n",
      "                '#2fbdc5',\n",
      "                '#c50221',\n",
      "                '#6e138c',\n",
      "                '#5130c1',\n",
      "                '#2c0b9f',\n",
      "                '#194f27',\n",
      "                '#4f149c',\n",
      "                '#84d315',\n",
      "                '#d8a98a',\n",
      "                '#687a3f',\n",
      "                '#d08288',\n",
      "                '#2aa611',\n",
      "                '#85f8bf',\n",
      "                '#5147c2',\n",
      "                '#ee5e33',\n",
      "                '#acc8e7',\n",
      "                '#101078',\n",
      "                '#d5f0a0',\n",
      "                '#10e6f0',\n",
      "                '#491678',\n",
      "                '#fbb6ee',\n",
      "                '#4fd443',\n",
      "                '#e80816',\n",
      "                '#b2817a',\n",
      "                '#88c2ab',\n",
      "                '#c60960',\n",
      "                '#847127',\n",
      "                '#ae8768'],\n",
      " 'empirical_aoa': {'max': 60, 'min': 9},\n",
      " 'group_id': {'max': 1000, 'min': 0}}\n"
     ]
    }
   ],
   "source": [
    "import math \n",
    "import pprint\n",
    "\n",
    "constraints = {}\n",
    "for attr in categorical_attr:\n",
    "    if attr not in ['EntryID', 'LemmaID', 'Code', 'Iconicity_ID']:\n",
    "        columnsData = no_morphemes_df.loc[ : , attr ].dropna()\n",
    "        values_set = set(columnsData.values)\n",
    "        constraints[attr] = [*values_set, ]\n",
    "        \n",
    "for attr in numerical_attr:    \n",
    "    #drop nan values \n",
    "    columnsData = no_morphemes_df.loc[ : , attr ].dropna()\n",
    "    print(columnsData.values)\n",
    "    constraints[attr] = {}  \n",
    "    #print(math.floor(min(list(columnsData))), math.ceil(max(list(columnsData))), attr)\n",
    "    if len(columnsData.values) > 0:\n",
    "        constraints[attr]['min'] = math.floor(min(columnsData.values))\n",
    "        constraints[attr]['max'] = math.ceil(max(columnsData.values))\n",
    "\n",
    "pprint.pprint(constraints)"
   ]
  },
  {
   "cell_type": "code",
   "execution_count": 59,
   "metadata": {},
   "outputs": [
    {
     "data": {
      "text/plain": [
       "Index(['EntryID', 'Code', 'YouTube Video', 'VimeoVideoHTML', 'VimeoVideo',\n",
       "       'SignFrequency(M)', 'PercentUnknown', 'PercentGlossAgreement',\n",
       "       'SubtLexUSLog10WF', 'LexicalClass',\n",
       "       ...\n",
       "       'Parameter.Neighborhood.Density.2.0', 'Neighborhood Density 2.0',\n",
       "       'SignBankAnnotationID', 'SignBankEnglishTranslations',\n",
       "       'SignBankLemmaID', 'SignBankSemanticField', 'SignBankID',\n",
       "       'Neighborhood Density', 'group_id', 'color_code'],\n",
       "      dtype='object', length=158)"
      ]
     },
     "execution_count": 59,
     "metadata": {},
     "output_type": "execute_result"
    }
   ],
   "source": [
    "no_morphemes_df.columns"
   ]
  },
  {
   "cell_type": "code",
   "execution_count": 60,
   "metadata": {},
   "outputs": [
    {
     "data": {
      "text/plain": [
       "{'EntryID': '1_dollar',\n",
       " 'Code': 'C_02_025',\n",
       " 'group_id': 1000.0,\n",
       " 'color_code': '#5147c2',\n",
       " 'SignFrequency(Z)': -0.728}"
      ]
     },
     "execution_count": 60,
     "metadata": {},
     "output_type": "execute_result"
    }
   ],
   "source": [
    "nodes_json_str = df_node_graph_json_data.to_json(orient=\"records\")\n",
    "nodes_json = json.loads(nodes_json_str)\n",
    "nodes_json[0]\n"
   ]
  },
  {
   "cell_type": "code",
   "execution_count": 61,
   "metadata": {},
   "outputs": [],
   "source": [
    "# write all the data frames to respective json files\n",
    "\n",
    "graph = {\n",
    "    \"nodes\" : nodes_json,\n",
    "    \"links\": edges_json\n",
    "}\n",
    "\n",
    "with open(\"../data/generated-data/graph.json\", 'w') as file:\n",
    "    json.dump(graph, file)\n",
    "    \n",
    "    \n",
    "with open('../data/generated-data/constraints.json', 'w') as fp:\n",
    "    json.dump(constraints, fp)\n",
    "    \n",
    "no_morphemes_df.reset_index().to_json('../data/generated-data/sign_props.json', orient='records')\n"
   ]
  },
  {
   "cell_type": "code",
   "execution_count": 62,
   "metadata": {},
   "outputs": [
    {
     "data": {
      "image/png": "[encoded data removed]",
      "text/plain": [
       "<Figure size 2160x2160 with 1 Axes>"
      ]
     },
     "metadata": {},
     "output_type": "display_data"
    }
   ],
   "source": [
    "#drawing only nodes with edges\n",
    "fig = plt.figure()\n",
    "fig.set_figheight(30)\n",
    "fig.set_figwidth(30)\n",
    "size = float(len(set(partition.values())))\n",
    "pos = nx.spring_layout(G)\n",
    "count = 0.\n",
    "for com in set(partition.values()) :\n",
    "    count = count + 1.\n",
    "    list_nodes = [nodes for nodes in partition.keys()\n",
    "                                if partition[nodes] == com]\n",
    "    nx.draw_networkx_nodes(G, pos, list_nodes, node_size = 20,\n",
    "                                node_color = randomcolor.RandomColor().generate()[0])\n",
    "\n",
    "\n",
    "nx.draw_networkx_edges(G, pos, alpha=0.5)\n",
    "plt.show()"
   ]
  },
  {
   "cell_type": "code",
   "execution_count": 63,
   "metadata": {},
   "outputs": [
    {
     "data": {
      "text/plain": [
       "{'island': '#5147c2',\n",
       " '0': '#df76d6',\n",
       " '130': '#f1afa4',\n",
       " '168': '#45fd0d',\n",
       " '117': '#4cc145',\n",
       " '240': '#e096e4',\n",
       " '128': '#e38dbe',\n",
       " '52': '#b1693e',\n",
       " '198': '#dd76df',\n",
       " '125': '#7a1961',\n",
       " '166': '#9f704e',\n",
       " '41': '#ccea64',\n",
       " '87': '#307e90',\n",
       " '167': '#aa106d',\n",
       " '60': '#d90c42',\n",
       " '2': '#b1a0d1',\n",
       " '12': '#631093',\n",
       " '176': '#4edac3',\n",
       " '254': '#951235',\n",
       " '103': '#7929a0',\n",
       " '86': '#a72e4b',\n",
       " '127': '#55a616',\n",
       " '10': '#0ad0ef',\n",
       " '4': '#955871',\n",
       " '9': '#964616',\n",
       " '64': '#97f2c3',\n",
       " '177': '#8fa8ca',\n",
       " '17': '#d0ab15',\n",
       " '77': '#3fa299',\n",
       " '196': '#bd445d',\n",
       " '55': '#b335da',\n",
       " '146': '#34ccc2',\n",
       " '139': '#fbb6ee',\n",
       " '97': '#6e6480',\n",
       " '89': '#2a3b67',\n",
       " '101': '#cec018',\n",
       " '92': '#c99d5a',\n",
       " '13': '#ebe8f4',\n",
       " '24': '#9b044f',\n",
       " '179': '#dd04ef',\n",
       " '141': '#226ece',\n",
       " '81': '#171942',\n",
       " '154': '#6e138c',\n",
       " '59': '#13c6a5',\n",
       " '38': '#987dbf',\n",
       " '170': '#c0ab33',\n",
       " '29': '#8d55f3',\n",
       " '21': '#970082',\n",
       " '1': '#488fb1',\n",
       " '45': '#84fc44',\n",
       " '51': '#ff4b2f',\n",
       " '192': '#d4b948',\n",
       " '100': '#6f156f',\n",
       " '152': '#e15f82',\n",
       " '82': '#edbe9c',\n",
       " '121': '#29486a',\n",
       " '195': '#a4e06f',\n",
       " '231': '#7a62e9',\n",
       " '94': '#45a508',\n",
       " '33': '#7cb795',\n",
       " '249': '#f6ab6f',\n",
       " '109': '#13559f',\n",
       " '120': '#630dc7',\n",
       " '69': '#b73d1d',\n",
       " '115': '#2cecee',\n",
       " '214': '#133741',\n",
       " '215': '#4e5f3c',\n",
       " '187': '#e9be95',\n",
       " '257': '#bb10be',\n",
       " '36': '#052c47',\n",
       " '147': '#97d74d',\n",
       " '88': '#ae8768',\n",
       " '27': '#1630a6',\n",
       " '272': '#a21edd',\n",
       " '44': '#6c237a',\n",
       " '99': '#d72011',\n",
       " '248': '#b4c70e',\n",
       " '197': '#ece616',\n",
       " '95': '#d88535',\n",
       " '16': '#1a829b',\n",
       " '238': '#2ad386',\n",
       " '49': '#5130c1',\n",
       " '155': '#f847df',\n",
       " '144': '#b1502f',\n",
       " '65': '#847127',\n",
       " '227': '#d10785',\n",
       " '22': '#5e0d3e',\n",
       " '164': '#dc327c',\n",
       " '213': '#dbeaf7',\n",
       " '28': '#491678',\n",
       " '85': '#69eccc',\n",
       " '66': '#fd7ff1',\n",
       " '110': '#cc9a62',\n",
       " '131': '#080b9f',\n",
       " '68': '#a6818f',\n",
       " '32': '#3dc46b',\n",
       " '56': '#9ab37c',\n",
       " '18': '#2aa611',\n",
       " '5': '#e0d29e',\n",
       " '270': '#daaea5',\n",
       " '11': '#428da6',\n",
       " '90': '#7bdb78',\n",
       " '19': '#315157',\n",
       " '15': '#d07ea3',\n",
       " '126': '#0bbcee',\n",
       " '72': '#3bb861',\n",
       " '162': '#2fbdc5',\n",
       " '8': '#204ce8',\n",
       " '134': '#96fb8f',\n",
       " '23': '#6b90cc',\n",
       " '3': '#3a42cc',\n",
       " '222': '#8b40d8',\n",
       " '40': '#84d315',\n",
       " '178': '#fd88b3',\n",
       " '216': '#60cd60',\n",
       " '209': '#dfc159',\n",
       " '47': '#d05e97',\n",
       " '206': '#01ee68',\n",
       " '150': '#600b0a',\n",
       " '190': '#486d54',\n",
       " '20': '#93e6d9',\n",
       " '123': '#c555cf',\n",
       " '265': '#30a002',\n",
       " '207': '#c14c6d',\n",
       " '37': '#ab4ce8',\n",
       " '188': '#7e95dd',\n",
       " '174': '#d0dd8a',\n",
       " '70': '#2c0b9f',\n",
       " '156': '#207e13',\n",
       " '118': '#37eefa',\n",
       " '182': '#0a3253',\n",
       " '236': '#4fd443',\n",
       " '212': '#b2817a',\n",
       " '211': '#c7cb83',\n",
       " '113': '#e80816',\n",
       " '258': '#41d839',\n",
       " '124': '#6fa273',\n",
       " '42': '#c208db',\n",
       " '266': '#14e1c5',\n",
       " '71': '#7bf3b0',\n",
       " '7': '#c56f0a',\n",
       " '151': '#1688ac',\n",
       " '132': '#2da4d5',\n",
       " '43': '#c241ed',\n",
       " '246': '#f44818',\n",
       " '46': '#577993',\n",
       " '253': '#383ca5',\n",
       " '79': '#950966',\n",
       " '30': '#4f149c',\n",
       " '230': '#a37876',\n",
       " '50': '#929dba',\n",
       " '239': '#4eb052',\n",
       " '34': '#8ec53c',\n",
       " '228': '#5be6d9',\n",
       " '119': '#8f5550',\n",
       " '175': '#66fca9',\n",
       " '149': '#2ea95c',\n",
       " '76': '#8314a7',\n",
       " '201': '#51edf4',\n",
       " '112': '#2bc36d',\n",
       " '204': '#9a174b',\n",
       " '143': '#a02878',\n",
       " '122': '#47cf3e',\n",
       " '235': '#aba557',\n",
       " '184': '#aace4a',\n",
       " '261': '#c50221',\n",
       " '78': '#681ffc',\n",
       " '241': '#138caa',\n",
       " '259': '#d8a98a',\n",
       " '255': '#101078',\n",
       " '225': '#6557ed',\n",
       " '62': '#46bd72',\n",
       " '148': '#ef3c73',\n",
       " '163': '#44499f',\n",
       " '157': '#b89173',\n",
       " '105': '#738bbe',\n",
       " '267': '#e5c936',\n",
       " '224': '#f05657',\n",
       " '208': '#b9e347',\n",
       " '200': '#20f487',\n",
       " '98': '#de4463',\n",
       " '172': '#41d914',\n",
       " '180': '#4496c5',\n",
       " '210': '#9f56ee',\n",
       " '221': '#4e665a',\n",
       " '116': '#c4731d',\n",
       " '205': '#90f62c',\n",
       " '54': '#194f27',\n",
       " '142': '#b85f0b',\n",
       " '171': '#651251',\n",
       " '263': '#f87922',\n",
       " '250': '#289f5c',\n",
       " '53': '#766bdd',\n",
       " '233': '#6b50f8',\n",
       " '26': '#d2a400',\n",
       " '165': '#20a306',\n",
       " '223': '#c60960',\n",
       " '271': '#f759ed',\n",
       " '218': '#88c2ab',\n",
       " '39': '#d5f0a0',\n",
       " '161': '#8ea943',\n",
       " '136': '#dede7f',\n",
       " '73': '#7f2c70',\n",
       " '242': '#d3d8a6',\n",
       " '219': '#58d729',\n",
       " '102': '#30dcc0',\n",
       " '234': '#4b7eb6',\n",
       " '226': '#1bf7f4',\n",
       " '133': '#0ebaac',\n",
       " '244': '#7fbfd2',\n",
       " '63': '#eb9bb1',\n",
       " '191': '#c63e59',\n",
       " '140': '#ea4b4c',\n",
       " '245': '#acc8e7',\n",
       " '153': '#8240df',\n",
       " '183': '#07b70d',\n",
       " '199': '#ee5e33',\n",
       " '74': '#687a3f',\n",
       " '48': '#3656e9',\n",
       " '35': '#878717',\n",
       " '181': '#beea86',\n",
       " '159': '#0b8aef',\n",
       " '158': '#a26588',\n",
       " '160': '#b84e48',\n",
       " '193': '#0942db',\n",
       " '93': '#85f8bf',\n",
       " '107': '#8353b4',\n",
       " '243': '#d816d7',\n",
       " '268': '#c7cf70',\n",
       " '83': '#894bb8',\n",
       " '111': '#0cee02',\n",
       " '189': '#ccc608',\n",
       " '84': '#2b6a1c',\n",
       " '247': '#99c6b5',\n",
       " '96': '#2880ab',\n",
       " '25': '#2c673b',\n",
       " '269': '#b93748',\n",
       " '104': '#ee278d',\n",
       " '256': '#6c28ac',\n",
       " '173': '#a6ecf6',\n",
       " '80': '#0ed196',\n",
       " '203': '#ab33d8',\n",
       " '260': '#cde0f7',\n",
       " '31': '#a47828',\n",
       " '169': '#300761',\n",
       " '14': '#37fc16',\n",
       " '57': '#060fa4',\n",
       " '91': '#9abbe6',\n",
       " '108': '#f410e0',\n",
       " '251': '#63670b',\n",
       " '58': '#6d7575',\n",
       " '135': '#d6bb47',\n",
       " '75': '#bd0cae',\n",
       " '262': '#d08288',\n",
       " '229': '#f1f578',\n",
       " '237': '#a011c4',\n",
       " '220': '#a8b53d',\n",
       " '186': '#75ec60',\n",
       " '232': '#b23da9',\n",
       " '252': '#00be01',\n",
       " '129': '#1bd934',\n",
       " '185': '#ce1064',\n",
       " '137': '#84a02f',\n",
       " '217': '#85d23b',\n",
       " '145': '#10e6f0',\n",
       " '114': '#247089',\n",
       " '194': '#56f9c8',\n",
       " '61': '#f8d286',\n",
       " '202': '#f712d4',\n",
       " '6': '#e54c79',\n",
       " '138': '#234691',\n",
       " '67': '#e29100',\n",
       " '106': '#21fd46',\n",
       " '264': '#8a39d7'}"
      ]
     },
     "execution_count": 63,
     "metadata": {},
     "output_type": "execute_result"
    }
   ],
   "source": [
    "## Code to change color in json\n",
    "color_dictionary\n"
   ]
  },
  {
   "cell_type": "code",
   "execution_count": 64,
   "metadata": {
    "scrolled": true
   },
   "outputs": [],
   "source": [
    "###Only if you need to edit the graph json files\n",
    "\n",
    "# def filter_dict(d, filter_string):\n",
    "# #     print(filter_string)\n",
    "#     for key, val in d.items():\n",
    "#         if filter_string != key:\n",
    "#             continue\n",
    "#         return key, val\n",
    "\n",
    "# with open('../../visualization/data/graph.json') as graph_json_file:\n",
    "#     data = json.load(graph_json_file)\n",
    "#     for node in data['nodes']:\n",
    "#         if(node['group_id'] == \"\"):\n",
    "#             node['group_id']= \"island\"    \n",
    "# #             print(node)\n",
    "    \n",
    "#     for node in data['nodes']:\n",
    "#         key,val = filter_dict(color_dictionary, str(node['group_id']))\n",
    "#         node['color_code'] = val\n",
    "#         print(node)\n"
   ]
  },
  {
   "cell_type": "code",
   "execution_count": 65,
   "metadata": {},
   "outputs": [],
   "source": [
    "#Resave as JSON\n",
    "\n",
    "# graph = {\n",
    "#     \"nodes\" : data['nodes'],\n",
    "#     \"links\": data['links']\n",
    "# }\n",
    "\n",
    "# with open(\"../generated-data/graph.json\", 'w') as file:\n",
    "#     json.dump(graph, file)"
   ]
  },
  {
   "cell_type": "code",
   "execution_count": null,
   "metadata": {},
   "outputs": [],
   "source": []
  },
  {
   "cell_type": "code",
   "execution_count": null,
   "metadata": {},
   "outputs": [],
   "source": []
  },
  {
   "cell_type": "code",
   "execution_count": null,
   "metadata": {},
   "outputs": [],
   "source": []
  },
  {
   "cell_type": "code",
   "execution_count": null,
   "metadata": {},
   "outputs": [],
   "source": []
  }
 ],
 "metadata": {
  "kernelspec": {
   "display_name": "Python 3",
   "language": "python",
   "name": "python3"
  },
  "language_info": {
   "codemirror_mode": {
    "name": "ipython",
    "version": 3
   },
   "file_extension": ".py",
   "mimetype": "text/x-python",
   "name": "python",
   "nbconvert_exporter": "python",
   "pygments_lexer": "ipython3",
   "version": "3.7.3"
  }
 },
 "nbformat": 4,
 "nbformat_minor": 2
}
