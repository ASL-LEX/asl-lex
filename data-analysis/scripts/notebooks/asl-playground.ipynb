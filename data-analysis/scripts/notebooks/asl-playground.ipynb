{
 "cells": [
  {
   "cell_type": "markdown",
   "metadata": {},
   "source": [
    "## This notebook assumes you have the following packages installed in your conda environment."
   ]
  },
  {
   "cell_type": "code",
   "execution_count": 79,
   "metadata": {},
   "outputs": [],
   "source": [
    "import pandas as pd\n",
    "import json\n",
    "import community\n",
    "import networkx as nx\n",
    "import matplotlib.pyplot as plt\n",
    "import pandas as pd\n",
    "import random\n",
    "import numpy as np\n",
    "import randomcolor"
   ]
  },
  {
   "cell_type": "code",
   "execution_count": 80,
   "metadata": {},
   "outputs": [
    {
     "data": {
      "text/plain": [
       "(2723, 191)"
      ]
     },
     "execution_count": 80,
     "metadata": {},
     "output_type": "execute_result"
    }
   ],
   "source": [
    "df_default = pd.read_csv('../data/signdata.csv')\n",
    "df_default.shape\n"
   ]
  },
  {
   "cell_type": "code",
   "execution_count": 81,
   "metadata": {},
   "outputs": [
    {
     "data": {
      "text/html": [
       "<div>\n",
       "<style scoped>\n",
       "    .dataframe tbody tr th:only-of-type {\n",
       "        vertical-align: middle;\n",
       "    }\n",
       "\n",
       "    .dataframe tbody tr th {\n",
       "        vertical-align: top;\n",
       "    }\n",
       "\n",
       "    .dataframe thead th {\n",
       "        text-align: right;\n",
       "    }\n",
       "</style>\n",
       "<table border=\"1\" class=\"dataframe\">\n",
       "  <thead>\n",
       "    <tr style=\"text-align: right;\">\n",
       "      <th></th>\n",
       "      <th>EntryID</th>\n",
       "      <th>LemmaID</th>\n",
       "      <th>Code</th>\n",
       "      <th>YouTube Video</th>\n",
       "      <th>VimeoVideo</th>\n",
       "    </tr>\n",
       "  </thead>\n",
       "  <tbody>\n",
       "    <tr>\n",
       "      <th>0</th>\n",
       "      <td>1_dollar</td>\n",
       "      <td>1_dollar</td>\n",
       "      <td>C_02_025</td>\n",
       "      <td>&lt;iframe width=\"280\" height=\"158\" src=\"https://...</td>\n",
       "      <td>https://player.vimeo.com/video/345587917</td>\n",
       "    </tr>\n",
       "    <tr>\n",
       "      <th>1</th>\n",
       "      <td>5_dollars</td>\n",
       "      <td>5_dollars</td>\n",
       "      <td>B_01_062</td>\n",
       "      <td>&lt;iframe width=\"280\" height=\"158\" src=\"https://...</td>\n",
       "      <td>https://player.vimeo.com/video/344399314</td>\n",
       "    </tr>\n",
       "    <tr>\n",
       "      <th>2</th>\n",
       "      <td>8_hour</td>\n",
       "      <td>8_hour</td>\n",
       "      <td>C_02_055</td>\n",
       "      <td>&lt;iframe width=\"280\" height=\"158\" src=\"https://...</td>\n",
       "      <td>https://player.vimeo.com/video/345588916</td>\n",
       "    </tr>\n",
       "    <tr>\n",
       "      <th>3</th>\n",
       "      <td>9_oclock</td>\n",
       "      <td>9_oclock</td>\n",
       "      <td>C_02_080</td>\n",
       "      <td>&lt;iframe width=\"280\" height=\"158\" src=\"https://...</td>\n",
       "      <td>https://player.vimeo.com/video/345589804</td>\n",
       "    </tr>\n",
       "    <tr>\n",
       "      <th>4</th>\n",
       "      <td>a-line_bob</td>\n",
       "      <td>a-line_bob</td>\n",
       "      <td>K_03_127</td>\n",
       "      <td>NaN</td>\n",
       "      <td>https://player.vimeo.com/video/342308099</td>\n",
       "    </tr>\n",
       "    <tr>\n",
       "      <th>...</th>\n",
       "      <td>...</td>\n",
       "      <td>...</td>\n",
       "      <td>...</td>\n",
       "      <td>...</td>\n",
       "      <td>...</td>\n",
       "    </tr>\n",
       "    <tr>\n",
       "      <th>2718</th>\n",
       "      <td>zero</td>\n",
       "      <td>zero</td>\n",
       "      <td>D_03_036</td>\n",
       "      <td>&lt;iframe width=\"280\" height=\"158\" src=\"https://...</td>\n",
       "      <td>https://player.vimeo.com/video/345983725</td>\n",
       "    </tr>\n",
       "    <tr>\n",
       "      <th>2719</th>\n",
       "      <td>zipper</td>\n",
       "      <td>zipper</td>\n",
       "      <td>D_01_034</td>\n",
       "      <td>&lt;iframe width=\"280\" height=\"158\" src=\"https://...</td>\n",
       "      <td>https://player.vimeo.com/video/345804301</td>\n",
       "    </tr>\n",
       "    <tr>\n",
       "      <th>2720</th>\n",
       "      <td>zoo</td>\n",
       "      <td>zoo</td>\n",
       "      <td>E_03_042</td>\n",
       "      <td>&lt;iframe width=\"280\" height=\"158\" src=\"https://...</td>\n",
       "      <td>https://player.vimeo.com/video/346067693</td>\n",
       "    </tr>\n",
       "    <tr>\n",
       "      <th>2721</th>\n",
       "      <td>zoom_in</td>\n",
       "      <td>zoom_in</td>\n",
       "      <td>B_02_056</td>\n",
       "      <td>&lt;iframe width=\"280\" height=\"158\" src=\"https://...</td>\n",
       "      <td>https://player.vimeo.com/video/345555455</td>\n",
       "    </tr>\n",
       "    <tr>\n",
       "      <th>2722</th>\n",
       "      <td>zoom_off</td>\n",
       "      <td>zoom_off</td>\n",
       "      <td>D_01_057</td>\n",
       "      <td>&lt;iframe width=\"280\" height=\"158\" src=\"https://...</td>\n",
       "      <td>https://player.vimeo.com/video/345805379</td>\n",
       "    </tr>\n",
       "  </tbody>\n",
       "</table>\n",
       "<p>2723 rows × 5 columns</p>\n",
       "</div>"
      ],
      "text/plain": [
       "         EntryID     LemmaID      Code  \\\n",
       "0       1_dollar    1_dollar  C_02_025   \n",
       "1      5_dollars   5_dollars  B_01_062   \n",
       "2         8_hour      8_hour  C_02_055   \n",
       "3       9_oclock    9_oclock  C_02_080   \n",
       "4     a-line_bob  a-line_bob  K_03_127   \n",
       "...          ...         ...       ...   \n",
       "2718        zero        zero  D_03_036   \n",
       "2719      zipper      zipper  D_01_034   \n",
       "2720         zoo         zoo  E_03_042   \n",
       "2721     zoom_in     zoom_in  B_02_056   \n",
       "2722    zoom_off    zoom_off  D_01_057   \n",
       "\n",
       "                                          YouTube Video  \\\n",
       "0     <iframe width=\"280\" height=\"158\" src=\"https://...   \n",
       "1     <iframe width=\"280\" height=\"158\" src=\"https://...   \n",
       "2     <iframe width=\"280\" height=\"158\" src=\"https://...   \n",
       "3     <iframe width=\"280\" height=\"158\" src=\"https://...   \n",
       "4                                                   NaN   \n",
       "...                                                 ...   \n",
       "2718  <iframe width=\"280\" height=\"158\" src=\"https://...   \n",
       "2719  <iframe width=\"280\" height=\"158\" src=\"https://...   \n",
       "2720  <iframe width=\"280\" height=\"158\" src=\"https://...   \n",
       "2721  <iframe width=\"280\" height=\"158\" src=\"https://...   \n",
       "2722  <iframe width=\"280\" height=\"158\" src=\"https://...   \n",
       "\n",
       "                                    VimeoVideo  \n",
       "0     https://player.vimeo.com/video/345587917  \n",
       "1     https://player.vimeo.com/video/344399314  \n",
       "2     https://player.vimeo.com/video/345588916  \n",
       "3     https://player.vimeo.com/video/345589804  \n",
       "4     https://player.vimeo.com/video/342308099  \n",
       "...                                        ...  \n",
       "2718  https://player.vimeo.com/video/345983725  \n",
       "2719  https://player.vimeo.com/video/345804301  \n",
       "2720  https://player.vimeo.com/video/346067693  \n",
       "2721  https://player.vimeo.com/video/345555455  \n",
       "2722  https://player.vimeo.com/video/345805379  \n",
       "\n",
       "[2723 rows x 5 columns]"
      ]
     },
     "execution_count": 81,
     "metadata": {},
     "output_type": "execute_result"
    }
   ],
   "source": [
    "df_subset = df_default[['EntryID', 'LemmaID','Code','YouTube Video', 'VimeoVideo']]\n",
    "df_subset"
   ]
  },
  {
   "cell_type": "code",
   "execution_count": 82,
   "metadata": {},
   "outputs": [],
   "source": [
    "df_subset.to_csv('signdata_with_urls.csv')"
   ]
  },
  {
   "cell_type": "code",
   "execution_count": 83,
   "metadata": {},
   "outputs": [
    {
     "data": {
      "text/plain": [
       "array(['C_02_025', 'B_01_062', 'C_02_055', ..., 'E_03_042', 'B_02_056',\n",
       "       'D_01_057'], dtype=object)"
      ]
     },
     "execution_count": 83,
     "metadata": {},
     "output_type": "execute_result"
    }
   ],
   "source": [
    "df_default[\"Code\"].values"
   ]
  },
  {
   "cell_type": "markdown",
   "metadata": {},
   "source": [
    "## Community Analysis"
   ]
  },
  {
   "cell_type": "code",
   "execution_count": 84,
   "metadata": {
    "scrolled": true
   },
   "outputs": [
    {
     "data": {
      "text/html": [
       "<div>\n",
       "<style scoped>\n",
       "    .dataframe tbody tr th:only-of-type {\n",
       "        vertical-align: middle;\n",
       "    }\n",
       "\n",
       "    .dataframe tbody tr th {\n",
       "        vertical-align: top;\n",
       "    }\n",
       "\n",
       "    .dataframe thead th {\n",
       "        text-align: right;\n",
       "    }\n",
       "</style>\n",
       "<table border=\"1\" class=\"dataframe\">\n",
       "  <thead>\n",
       "    <tr style=\"text-align: right;\">\n",
       "      <th></th>\n",
       "      <th>target</th>\n",
       "      <th>source</th>\n",
       "      <th>num_matched_features</th>\n",
       "      <th>matched_features</th>\n",
       "      <th>num_missed_features</th>\n",
       "      <th>missed_features</th>\n",
       "    </tr>\n",
       "  </thead>\n",
       "  <tbody>\n",
       "    <tr>\n",
       "      <th>0</th>\n",
       "      <td>A_01_002</td>\n",
       "      <td>B_01_062</td>\n",
       "      <td>12</td>\n",
       "      <td>SignType.2.0, MinorLocation.2.0, Movement.2.0,...</td>\n",
       "      <td>1</td>\n",
       "      <td>RepeatedMovement.2.0</td>\n",
       "    </tr>\n",
       "    <tr>\n",
       "      <th>1</th>\n",
       "      <td>A_01_002</td>\n",
       "      <td>C_03_023</td>\n",
       "      <td>12</td>\n",
       "      <td>SignType.2.0, MinorLocation.2.0, Movement.2.0,...</td>\n",
       "      <td>1</td>\n",
       "      <td>Flexion.2.0</td>\n",
       "    </tr>\n",
       "    <tr>\n",
       "      <th>2</th>\n",
       "      <td>A_01_002</td>\n",
       "      <td>G_01_038</td>\n",
       "      <td>12</td>\n",
       "      <td>SignType.2.0, MinorLocation.2.0, Contact.2.0, ...</td>\n",
       "      <td>1</td>\n",
       "      <td>Movement.2.0</td>\n",
       "    </tr>\n",
       "    <tr>\n",
       "      <th>3</th>\n",
       "      <td>A_01_002</td>\n",
       "      <td>J_03_046</td>\n",
       "      <td>12</td>\n",
       "      <td>SignType.2.0, MinorLocation.2.0, Movement.2.0,...</td>\n",
       "      <td>1</td>\n",
       "      <td>RepeatedMovement.2.0</td>\n",
       "    </tr>\n",
       "    <tr>\n",
       "      <th>4</th>\n",
       "      <td>A_01_003</td>\n",
       "      <td>D_02_047</td>\n",
       "      <td>14</td>\n",
       "      <td>SignType.2.0, MinorLocation.2.0, Movement.2.0,...</td>\n",
       "      <td>0</td>\n",
       "      <td>NaN</td>\n",
       "    </tr>\n",
       "  </tbody>\n",
       "</table>\n",
       "</div>"
      ],
      "text/plain": [
       "     target    source  num_matched_features  \\\n",
       "0  A_01_002  B_01_062                    12   \n",
       "1  A_01_002  C_03_023                    12   \n",
       "2  A_01_002  G_01_038                    12   \n",
       "3  A_01_002  J_03_046                    12   \n",
       "4  A_01_003  D_02_047                    14   \n",
       "\n",
       "                                    matched_features  num_missed_features  \\\n",
       "0  SignType.2.0, MinorLocation.2.0, Movement.2.0,...                    1   \n",
       "1  SignType.2.0, MinorLocation.2.0, Movement.2.0,...                    1   \n",
       "2  SignType.2.0, MinorLocation.2.0, Contact.2.0, ...                    1   \n",
       "3  SignType.2.0, MinorLocation.2.0, Movement.2.0,...                    1   \n",
       "4  SignType.2.0, MinorLocation.2.0, Movement.2.0,...                    0   \n",
       "\n",
       "        missed_features  \n",
       "0  RepeatedMovement.2.0  \n",
       "1           Flexion.2.0  \n",
       "2          Movement.2.0  \n",
       "3  RepeatedMovement.2.0  \n",
       "4                   NaN  "
      ]
     },
     "execution_count": 84,
     "metadata": {},
     "output_type": "execute_result"
    }
   ],
   "source": [
    "edges_df = pd.read_csv('../data/generated-data/default-neighbors.csv') \n",
    "edges_df = edges_df.rename(columns={\"neighbor\": \"source\"})\n",
    "edges_df.head()\n"
   ]
  },
  {
   "cell_type": "code",
   "execution_count": 85,
   "metadata": {},
   "outputs": [
    {
     "data": {
      "text/plain": [
       "(13556, 6)"
      ]
     },
     "execution_count": 85,
     "metadata": {},
     "output_type": "execute_result"
    }
   ],
   "source": [
    "edges_df.shape"
   ]
  },
  {
   "cell_type": "code",
   "execution_count": 86,
   "metadata": {},
   "outputs": [
    {
     "data": {
      "image/png": "[encoded data removed]",
      "text/plain": [
       "<Figure size 432x288 with 1 Axes>"
      ]
     },
     "metadata": {},
     "output_type": "display_data"
    }
   ],
   "source": [
    "g = nx.from_pandas_edgelist(edges_df, source='source', target='target') \n",
    "nx.draw(g)"
   ]
  },
  {
   "cell_type": "code",
   "execution_count": 87,
   "metadata": {},
   "outputs": [],
   "source": [
    "#first compute the best partition\n",
    "# from community import greedy_modularity_communities\n",
    "import community\n",
    "G = g\n",
    "\n",
    "#Two methods for community analysis\n",
    "# c = greedy_modularity_communities(G)\n",
    "partition = community.best_partition(G)"
   ]
  },
  {
   "cell_type": "code",
   "execution_count": 88,
   "metadata": {},
   "outputs": [
    {
     "data": {
      "image/png": "[encoded data removed]",
      "text/plain": [
       "<Figure size 432x288 with 1 Axes>"
      ]
     },
     "metadata": {},
     "output_type": "display_data"
    }
   ],
   "source": [
    "values = [partition.get(node) for node in G.nodes()]\n",
    "\n",
    "nx.draw_spring(G, cmap = plt.get_cmap('jet'), node_color = values, node_size=60, with_labels=False)"
   ]
  },
  {
   "cell_type": "code",
   "execution_count": null,
   "metadata": {},
   "outputs": [],
   "source": []
  },
  {
   "cell_type": "code",
   "execution_count": 89,
   "metadata": {},
   "outputs": [],
   "source": [
    "# num_nodes = 0\n",
    "# for community in c:\n",
    "#     num_nodes += len(community)\n",
    "# print(num_nodes)"
   ]
  },
  {
   "cell_type": "code",
   "execution_count": 90,
   "metadata": {},
   "outputs": [
    {
     "data": {
      "text/plain": [
       "2068"
      ]
     },
     "execution_count": 90,
     "metadata": {},
     "output_type": "execute_result"
    }
   ],
   "source": [
    "len(partition)"
   ]
  },
  {
   "cell_type": "code",
   "execution_count": 91,
   "metadata": {},
   "outputs": [
    {
     "name": "stdout",
     "output_type": "stream",
     "text": [
      "2068\n"
     ]
    },
    {
     "data": {
      "text/html": [
       "<div>\n",
       "<style scoped>\n",
       "    .dataframe tbody tr th:only-of-type {\n",
       "        vertical-align: middle;\n",
       "    }\n",
       "\n",
       "    .dataframe tbody tr th {\n",
       "        vertical-align: top;\n",
       "    }\n",
       "\n",
       "    .dataframe thead th {\n",
       "        text-align: right;\n",
       "    }\n",
       "</style>\n",
       "<table border=\"1\" class=\"dataframe\">\n",
       "  <thead>\n",
       "    <tr style=\"text-align: right;\">\n",
       "      <th></th>\n",
       "      <th>Code</th>\n",
       "      <th>group_id</th>\n",
       "    </tr>\n",
       "  </thead>\n",
       "  <tbody>\n",
       "    <tr>\n",
       "      <th>0</th>\n",
       "      <td>B_01_062</td>\n",
       "      <td>0</td>\n",
       "    </tr>\n",
       "    <tr>\n",
       "      <th>1</th>\n",
       "      <td>A_01_002</td>\n",
       "      <td>0</td>\n",
       "    </tr>\n",
       "    <tr>\n",
       "      <th>2</th>\n",
       "      <td>C_03_023</td>\n",
       "      <td>0</td>\n",
       "    </tr>\n",
       "    <tr>\n",
       "      <th>3</th>\n",
       "      <td>G_01_038</td>\n",
       "      <td>0</td>\n",
       "    </tr>\n",
       "    <tr>\n",
       "      <th>4</th>\n",
       "      <td>J_03_046</td>\n",
       "      <td>0</td>\n",
       "    </tr>\n",
       "  </tbody>\n",
       "</table>\n",
       "</div>"
      ],
      "text/plain": [
       "       Code  group_id\n",
       "0  B_01_062         0\n",
       "1  A_01_002         0\n",
       "2  C_03_023         0\n",
       "3  G_01_038         0\n",
       "4  J_03_046         0"
      ]
     },
     "execution_count": 91,
     "metadata": {},
     "output_type": "execute_result"
    }
   ],
   "source": [
    "#Noes only connected by edges. Does not include standalone nodes.\n",
    "\n",
    "list = partition.items()\n",
    "print(len(list))\n",
    "df_with_groupids = pd.DataFrame(list, columns=['Code', 'group_id'])\n",
    "df_with_groupids.head()"
   ]
  },
  {
   "cell_type": "code",
   "execution_count": 92,
   "metadata": {},
   "outputs": [
    {
     "name": "stdout",
     "output_type": "stream",
     "text": [
      "2068\n",
      "(13556, 6)\n",
      "(13556, 6)\n"
     ]
    },
    {
     "data": {
      "text/html": [
       "<div>\n",
       "<style scoped>\n",
       "    .dataframe tbody tr th:only-of-type {\n",
       "        vertical-align: middle;\n",
       "    }\n",
       "\n",
       "    .dataframe tbody tr th {\n",
       "        vertical-align: top;\n",
       "    }\n",
       "\n",
       "    .dataframe thead th {\n",
       "        text-align: right;\n",
       "    }\n",
       "</style>\n",
       "<table border=\"1\" class=\"dataframe\">\n",
       "  <thead>\n",
       "    <tr style=\"text-align: right;\">\n",
       "      <th></th>\n",
       "      <th>target</th>\n",
       "      <th>source</th>\n",
       "      <th>num_matched_features</th>\n",
       "      <th>matched_features</th>\n",
       "      <th>num_missed_features</th>\n",
       "      <th>missed_features</th>\n",
       "    </tr>\n",
       "  </thead>\n",
       "  <tbody>\n",
       "    <tr>\n",
       "      <th>0</th>\n",
       "      <td>A_01_002</td>\n",
       "      <td>B_01_062</td>\n",
       "      <td>12</td>\n",
       "      <td>SignType.2.0, MinorLocation.2.0, Movement.2.0,...</td>\n",
       "      <td>1</td>\n",
       "      <td>RepeatedMovement.2.0</td>\n",
       "    </tr>\n",
       "    <tr>\n",
       "      <th>1</th>\n",
       "      <td>A_01_002</td>\n",
       "      <td>C_03_023</td>\n",
       "      <td>12</td>\n",
       "      <td>SignType.2.0, MinorLocation.2.0, Movement.2.0,...</td>\n",
       "      <td>1</td>\n",
       "      <td>Flexion.2.0</td>\n",
       "    </tr>\n",
       "    <tr>\n",
       "      <th>2</th>\n",
       "      <td>A_01_002</td>\n",
       "      <td>G_01_038</td>\n",
       "      <td>12</td>\n",
       "      <td>SignType.2.0, MinorLocation.2.0, Contact.2.0, ...</td>\n",
       "      <td>1</td>\n",
       "      <td>Movement.2.0</td>\n",
       "    </tr>\n",
       "    <tr>\n",
       "      <th>3</th>\n",
       "      <td>A_01_002</td>\n",
       "      <td>J_03_046</td>\n",
       "      <td>12</td>\n",
       "      <td>SignType.2.0, MinorLocation.2.0, Movement.2.0,...</td>\n",
       "      <td>1</td>\n",
       "      <td>RepeatedMovement.2.0</td>\n",
       "    </tr>\n",
       "    <tr>\n",
       "      <th>4</th>\n",
       "      <td>A_01_003</td>\n",
       "      <td>D_02_047</td>\n",
       "      <td>14</td>\n",
       "      <td>SignType.2.0, MinorLocation.2.0, Movement.2.0,...</td>\n",
       "      <td>0</td>\n",
       "      <td>NaN</td>\n",
       "    </tr>\n",
       "  </tbody>\n",
       "</table>\n",
       "</div>"
      ],
      "text/plain": [
       "     target    source  num_matched_features  \\\n",
       "0  A_01_002  B_01_062                    12   \n",
       "1  A_01_002  C_03_023                    12   \n",
       "2  A_01_002  G_01_038                    12   \n",
       "3  A_01_002  J_03_046                    12   \n",
       "4  A_01_003  D_02_047                    14   \n",
       "\n",
       "                                    matched_features  num_missed_features  \\\n",
       "0  SignType.2.0, MinorLocation.2.0, Movement.2.0,...                    1   \n",
       "1  SignType.2.0, MinorLocation.2.0, Movement.2.0,...                    1   \n",
       "2  SignType.2.0, MinorLocation.2.0, Contact.2.0, ...                    1   \n",
       "3  SignType.2.0, MinorLocation.2.0, Movement.2.0,...                    1   \n",
       "4  SignType.2.0, MinorLocation.2.0, Movement.2.0,...                    0   \n",
       "\n",
       "        missed_features  \n",
       "0  RepeatedMovement.2.0  \n",
       "1           Flexion.2.0  \n",
       "2          Movement.2.0  \n",
       "3  RepeatedMovement.2.0  \n",
       "4                   NaN  "
      ]
     },
     "execution_count": 92,
     "metadata": {},
     "output_type": "execute_result"
    }
   ],
   "source": [
    "# get edges only where source and target nodes belong to a valid community for now. This is to assign them group ids.\n",
    "nodes_in_communities = df_with_groupids['Code'].unique()\n",
    "edges_for_community_nodes_df = edges_df.loc[edges_df['source'].isin(nodes_in_communities) & edges_df['target'].isin(nodes_in_communities)]\n",
    "print(len(edges_for_community_nodes_df['source'].unique()))\n",
    "print(edges_df.shape)\n",
    "print(edges_for_community_nodes_df.shape)\n",
    "edges_for_community_nodes_df.head()"
   ]
  },
  {
   "cell_type": "code",
   "execution_count": 93,
   "metadata": {},
   "outputs": [
    {
     "name": "stdout",
     "output_type": "stream",
     "text": [
      "(2723, 192)\n"
     ]
    },
    {
     "data": {
      "text/html": [
       "<div>\n",
       "<style scoped>\n",
       "    .dataframe tbody tr th:only-of-type {\n",
       "        vertical-align: middle;\n",
       "    }\n",
       "\n",
       "    .dataframe tbody tr th {\n",
       "        vertical-align: top;\n",
       "    }\n",
       "\n",
       "    .dataframe thead th {\n",
       "        text-align: right;\n",
       "    }\n",
       "</style>\n",
       "<table border=\"1\" class=\"dataframe\">\n",
       "  <thead>\n",
       "    <tr style=\"text-align: right;\">\n",
       "      <th></th>\n",
       "      <th>EntryID</th>\n",
       "      <th>LemmaID</th>\n",
       "      <th>Code</th>\n",
       "      <th>Batch</th>\n",
       "      <th>List</th>\n",
       "      <th>Item</th>\n",
       "      <th>YouTube Video</th>\n",
       "      <th>VimeoVideoHTML</th>\n",
       "      <th>VimeoVideo</th>\n",
       "      <th>SubtLexUSLog10WF</th>\n",
       "      <th>...</th>\n",
       "      <th>SignBankEnglishTranslations</th>\n",
       "      <th>SignBankLemmaID</th>\n",
       "      <th>SignBankReferenceID</th>\n",
       "      <th>bglm_aoa</th>\n",
       "      <th>empirical_aoa</th>\n",
       "      <th>HandshapeImage - 100x100</th>\n",
       "      <th>HandshapeImage: URL</th>\n",
       "      <th>Complexity</th>\n",
       "      <th>Parameter.Neighborhood.Density.2.0.1</th>\n",
       "      <th>group_id</th>\n",
       "    </tr>\n",
       "  </thead>\n",
       "  <tbody>\n",
       "    <tr>\n",
       "      <th>0</th>\n",
       "      <td>1_dollar</td>\n",
       "      <td>1_dollar</td>\n",
       "      <td>C_02_025</td>\n",
       "      <td>C</td>\n",
       "      <td>2.0</td>\n",
       "      <td>25.0</td>\n",
       "      <td>&lt;iframe width=\"280\" height=\"158\" src=\"https://...</td>\n",
       "      <td>&lt;iframe src=https://player.vimeo.com/video/345...</td>\n",
       "      <td>https://player.vimeo.com/video/345587917</td>\n",
       "      <td>NaN</td>\n",
       "      <td>...</td>\n",
       "      <td>bill, cash, dollar, money</td>\n",
       "      <td>1_DOLLAR</td>\n",
       "      <td>1268.0</td>\n",
       "      <td>NaN</td>\n",
       "      <td>NaN</td>\n",
       "      <td>NaN</td>\n",
       "      <td>NaN</td>\n",
       "      <td>2.0</td>\n",
       "      <td>383</td>\n",
       "      <td>NaN</td>\n",
       "    </tr>\n",
       "    <tr>\n",
       "      <th>1</th>\n",
       "      <td>5_dollars</td>\n",
       "      <td>5_dollars</td>\n",
       "      <td>B_01_062</td>\n",
       "      <td>B</td>\n",
       "      <td>1.0</td>\n",
       "      <td>62.0</td>\n",
       "      <td>&lt;iframe width=\"280\" height=\"158\" src=\"https://...</td>\n",
       "      <td>&lt;iframe src=https://player.vimeo.com/video/344...</td>\n",
       "      <td>https://player.vimeo.com/video/344399314</td>\n",
       "      <td>NaN</td>\n",
       "      <td>...</td>\n",
       "      <td>dollar, five dollars, money</td>\n",
       "      <td>5_DOLLAR</td>\n",
       "      <td>2436.0</td>\n",
       "      <td>NaN</td>\n",
       "      <td>NaN</td>\n",
       "      <td>NaN</td>\n",
       "      <td>NaN</td>\n",
       "      <td>1.0</td>\n",
       "      <td>190</td>\n",
       "      <td>0.0</td>\n",
       "    </tr>\n",
       "    <tr>\n",
       "      <th>2</th>\n",
       "      <td>8_hour</td>\n",
       "      <td>8_hour</td>\n",
       "      <td>C_02_055</td>\n",
       "      <td>C</td>\n",
       "      <td>2.0</td>\n",
       "      <td>55.0</td>\n",
       "      <td>&lt;iframe width=\"280\" height=\"158\" src=\"https://...</td>\n",
       "      <td>&lt;iframe src=\"https://player.vimeo.com/video/34...</td>\n",
       "      <td>https://player.vimeo.com/video/345588916</td>\n",
       "      <td>NaN</td>\n",
       "      <td>...</td>\n",
       "      <td>eight hours, 8 hours, hour, time</td>\n",
       "      <td>NUMBER-HOURS</td>\n",
       "      <td>2437.0</td>\n",
       "      <td>NaN</td>\n",
       "      <td>NaN</td>\n",
       "      <td>NaN</td>\n",
       "      <td>NaN</td>\n",
       "      <td>4.0</td>\n",
       "      <td>129</td>\n",
       "      <td>NaN</td>\n",
       "    </tr>\n",
       "    <tr>\n",
       "      <th>3</th>\n",
       "      <td>9_oclock</td>\n",
       "      <td>9_oclock</td>\n",
       "      <td>C_02_080</td>\n",
       "      <td>C</td>\n",
       "      <td>2.0</td>\n",
       "      <td>80.0</td>\n",
       "      <td>&lt;iframe width=\"280\" height=\"158\" src=\"https://...</td>\n",
       "      <td>&lt;iframe src=https://player.vimeo.com/video/345...</td>\n",
       "      <td>https://player.vimeo.com/video/345589804</td>\n",
       "      <td>NaN</td>\n",
       "      <td>...</td>\n",
       "      <td>9:00, 9 o'clock, nine o'clock, o'clock, time</td>\n",
       "      <td>OCLOCK-NUMBER</td>\n",
       "      <td>2857.0</td>\n",
       "      <td>NaN</td>\n",
       "      <td>NaN</td>\n",
       "      <td>NaN</td>\n",
       "      <td>NaN</td>\n",
       "      <td>1.0</td>\n",
       "      <td>48</td>\n",
       "      <td>141.0</td>\n",
       "    </tr>\n",
       "    <tr>\n",
       "      <th>4</th>\n",
       "      <td>a-line_bob</td>\n",
       "      <td>a-line_bob</td>\n",
       "      <td>K_03_127</td>\n",
       "      <td>K</td>\n",
       "      <td>NaN</td>\n",
       "      <td>NaN</td>\n",
       "      <td>NaN</td>\n",
       "      <td>&lt;iframe src=https://player.vimeo.com/video/342...</td>\n",
       "      <td>https://player.vimeo.com/video/342308099</td>\n",
       "      <td>NaN</td>\n",
       "      <td>...</td>\n",
       "      <td>NaN</td>\n",
       "      <td>NaN</td>\n",
       "      <td>NaN</td>\n",
       "      <td>NaN</td>\n",
       "      <td>NaN</td>\n",
       "      <td>NaN</td>\n",
       "      <td>NaN</td>\n",
       "      <td>2.0</td>\n",
       "      <td>158</td>\n",
       "      <td>92.0</td>\n",
       "    </tr>\n",
       "    <tr>\n",
       "      <th>5</th>\n",
       "      <td>a_little_bit</td>\n",
       "      <td>a_little_bit</td>\n",
       "      <td>H_03_025</td>\n",
       "      <td>H</td>\n",
       "      <td>3.0</td>\n",
       "      <td>25.0</td>\n",
       "      <td>&lt;iframe width=\"280\" height=\"158\" src=\"https://...</td>\n",
       "      <td>&lt;iframe src=https://player.vimeo.com/video/346...</td>\n",
       "      <td>https://player.vimeo.com/video/346887448</td>\n",
       "      <td>NaN</td>\n",
       "      <td>...</td>\n",
       "      <td>a little bit, little, few, minimal, scarce</td>\n",
       "      <td>A-LITTLE-BIT</td>\n",
       "      <td>0.0</td>\n",
       "      <td>NaN</td>\n",
       "      <td>NaN</td>\n",
       "      <td>NaN</td>\n",
       "      <td>NaN</td>\n",
       "      <td>2.0</td>\n",
       "      <td>144</td>\n",
       "      <td>39.0</td>\n",
       "    </tr>\n",
       "    <tr>\n",
       "      <th>6</th>\n",
       "      <td>abbreviate</td>\n",
       "      <td>abbreviate</td>\n",
       "      <td>G_01_040</td>\n",
       "      <td>G</td>\n",
       "      <td>1.0</td>\n",
       "      <td>40.0</td>\n",
       "      <td>&lt;iframe width=\"280\" height=\"158\" src=\"https://...</td>\n",
       "      <td>&lt;iframe src=https://player.vimeo.com/video/346...</td>\n",
       "      <td>https://player.vimeo.com/video/346610443</td>\n",
       "      <td>0.301</td>\n",
       "      <td>...</td>\n",
       "      <td>brief, for a short time, quick, short, shortly</td>\n",
       "      <td>SHORT</td>\n",
       "      <td>252.0</td>\n",
       "      <td>NaN</td>\n",
       "      <td>NaN</td>\n",
       "      <td>NaN</td>\n",
       "      <td>NaN</td>\n",
       "      <td>2.0</td>\n",
       "      <td>368</td>\n",
       "      <td>8.0</td>\n",
       "    </tr>\n",
       "    <tr>\n",
       "      <th>7</th>\n",
       "      <td>about_1</td>\n",
       "      <td>about</td>\n",
       "      <td>B_02_072</td>\n",
       "      <td>B</td>\n",
       "      <td>2.0</td>\n",
       "      <td>72.0</td>\n",
       "      <td>&lt;iframe width=\"280\" height=\"158\" src=\"https://...</td>\n",
       "      <td>&lt;iframe src=https://player.vimeo.com/video/345...</td>\n",
       "      <td>https://player.vimeo.com/video/345555837</td>\n",
       "      <td>5.268</td>\n",
       "      <td>...</td>\n",
       "      <td>about, regarding, with reference to</td>\n",
       "      <td>ABOUT</td>\n",
       "      <td>2043.0</td>\n",
       "      <td>NaN</td>\n",
       "      <td>NaN</td>\n",
       "      <td>NaN</td>\n",
       "      <td>NaN</td>\n",
       "      <td>2.0</td>\n",
       "      <td>129</td>\n",
       "      <td>110.0</td>\n",
       "    </tr>\n",
       "    <tr>\n",
       "      <th>8</th>\n",
       "      <td>about_2</td>\n",
       "      <td>about</td>\n",
       "      <td>B_02_003</td>\n",
       "      <td>B</td>\n",
       "      <td>2.0</td>\n",
       "      <td>3.0</td>\n",
       "      <td>&lt;iframe width=\"280\" height=\"158\" src=\"https://...</td>\n",
       "      <td>&lt;iframe src=https://player.vimeo.com/video/345...</td>\n",
       "      <td>https://player.vimeo.com/video/345536316</td>\n",
       "      <td>5.268</td>\n",
       "      <td>...</td>\n",
       "      <td>about, regarding, with reference to</td>\n",
       "      <td>ABOUT</td>\n",
       "      <td>2042.0</td>\n",
       "      <td>61.0</td>\n",
       "      <td>35.0</td>\n",
       "      <td>NaN</td>\n",
       "      <td>NaN</td>\n",
       "      <td>3.0</td>\n",
       "      <td>129</td>\n",
       "      <td>NaN</td>\n",
       "    </tr>\n",
       "    <tr>\n",
       "      <th>9</th>\n",
       "      <td>absolutely_nothing</td>\n",
       "      <td>absolutely_nothing</td>\n",
       "      <td>J_01_027</td>\n",
       "      <td>J</td>\n",
       "      <td>1.0</td>\n",
       "      <td>27.0</td>\n",
       "      <td>&lt;iframe width=\"280\" height=\"158\" src=\"https://...</td>\n",
       "      <td>&lt;iframe src=https://player.vimeo.com/video/346...</td>\n",
       "      <td>https://player.vimeo.com/video/346914407</td>\n",
       "      <td>NaN</td>\n",
       "      <td>...</td>\n",
       "      <td>absolutely nothing, all out, depleted, empty, ...</td>\n",
       "      <td>ABSOLUTELY-NOTHING</td>\n",
       "      <td>2044.0</td>\n",
       "      <td>NaN</td>\n",
       "      <td>NaN</td>\n",
       "      <td>NaN</td>\n",
       "      <td>NaN</td>\n",
       "      <td>1.0</td>\n",
       "      <td>232</td>\n",
       "      <td>186.0</td>\n",
       "    </tr>\n",
       "    <tr>\n",
       "      <th>10</th>\n",
       "      <td>accent</td>\n",
       "      <td>accent</td>\n",
       "      <td>E_01_073</td>\n",
       "      <td>E</td>\n",
       "      <td>1.0</td>\n",
       "      <td>73.0</td>\n",
       "      <td>&lt;iframe width=\"280\" height=\"158\" src=\"https://...</td>\n",
       "      <td>&lt;iframe src=https://player.vimeo.com/video/346...</td>\n",
       "      <td>https://player.vimeo.com/video/346053390</td>\n",
       "      <td>2.794</td>\n",
       "      <td>...</td>\n",
       "      <td>accent, dialect, language, regional language</td>\n",
       "      <td>ACCENT</td>\n",
       "      <td>584.0</td>\n",
       "      <td>NaN</td>\n",
       "      <td>NaN</td>\n",
       "      <td>NaN</td>\n",
       "      <td>NaN</td>\n",
       "      <td>1.0</td>\n",
       "      <td>106</td>\n",
       "      <td>9.0</td>\n",
       "    </tr>\n",
       "    <tr>\n",
       "      <th>11</th>\n",
       "      <td>accept</td>\n",
       "      <td>accept</td>\n",
       "      <td>H_02_042</td>\n",
       "      <td>H</td>\n",
       "      <td>2.0</td>\n",
       "      <td>42.0</td>\n",
       "      <td>&lt;iframe width=\"280\" height=\"158\" src=\"https://...</td>\n",
       "      <td>&lt;iframe src=https://player.vimeo.com/video/346...</td>\n",
       "      <td>https://player.vimeo.com/video/346802940</td>\n",
       "      <td>3.430</td>\n",
       "      <td>...</td>\n",
       "      <td>accept, adopt, agree to, embrace, own, passive...</td>\n",
       "      <td>ACCEPT</td>\n",
       "      <td>2045.0</td>\n",
       "      <td>NaN</td>\n",
       "      <td>NaN</td>\n",
       "      <td>NaN</td>\n",
       "      <td>NaN</td>\n",
       "      <td>1.0</td>\n",
       "      <td>140</td>\n",
       "      <td>217.0</td>\n",
       "    </tr>\n",
       "    <tr>\n",
       "      <th>12</th>\n",
       "      <td>access</td>\n",
       "      <td>access</td>\n",
       "      <td>H_02_086</td>\n",
       "      <td>H</td>\n",
       "      <td>2.0</td>\n",
       "      <td>86.0</td>\n",
       "      <td>&lt;iframe width=\"280\" height=\"158\" src=\"https://...</td>\n",
       "      <td>&lt;iframe src=https://player.vimeo.com/video/346...</td>\n",
       "      <td>https://player.vimeo.com/video/346883874</td>\n",
       "      <td>3.208</td>\n",
       "      <td>...</td>\n",
       "      <td>access, accessible, accessibility, admission, ...</td>\n",
       "      <td>ACCESS</td>\n",
       "      <td>2046.0</td>\n",
       "      <td>NaN</td>\n",
       "      <td>NaN</td>\n",
       "      <td>NaN</td>\n",
       "      <td>NaN</td>\n",
       "      <td>2.0</td>\n",
       "      <td>459</td>\n",
       "      <td>5.0</td>\n",
       "    </tr>\n",
       "    <tr>\n",
       "      <th>13</th>\n",
       "      <td>accident</td>\n",
       "      <td>accident</td>\n",
       "      <td>B_02_059</td>\n",
       "      <td>B</td>\n",
       "      <td>2.0</td>\n",
       "      <td>59.0</td>\n",
       "      <td>&lt;iframe width=\"280\" height=\"158\" src=\"https://...</td>\n",
       "      <td>&lt;iframe src=https://player.vimeo.com/video/345...</td>\n",
       "      <td>https://player.vimeo.com/video/345555544</td>\n",
       "      <td>3.618</td>\n",
       "      <td>...</td>\n",
       "      <td>accident, collide, crash, hit, oops, vehicle, ...</td>\n",
       "      <td>ACCIDENT</td>\n",
       "      <td>2047.0</td>\n",
       "      <td>NaN</td>\n",
       "      <td>NaN</td>\n",
       "      <td>NaN</td>\n",
       "      <td>NaN</td>\n",
       "      <td>1.0</td>\n",
       "      <td>512</td>\n",
       "      <td>108.0</td>\n",
       "    </tr>\n",
       "    <tr>\n",
       "      <th>14</th>\n",
       "      <td>accomplish</td>\n",
       "      <td>accomplish</td>\n",
       "      <td>C_02_085</td>\n",
       "      <td>C</td>\n",
       "      <td>2.0</td>\n",
       "      <td>85.0</td>\n",
       "      <td>&lt;iframe width=\"280\" height=\"158\" src=\"https://...</td>\n",
       "      <td>&lt;iframe src=https://player.vimeo.com/video/345...</td>\n",
       "      <td>https://player.vimeo.com/video/345590018</td>\n",
       "      <td>2.476</td>\n",
       "      <td>...</td>\n",
       "      <td>accomplish, at last, effective, finally, pah, ...</td>\n",
       "      <td>ACCOMPLISH</td>\n",
       "      <td>453.0</td>\n",
       "      <td>NaN</td>\n",
       "      <td>NaN</td>\n",
       "      <td>NaN</td>\n",
       "      <td>NaN</td>\n",
       "      <td>1.0</td>\n",
       "      <td>469</td>\n",
       "      <td>NaN</td>\n",
       "    </tr>\n",
       "    <tr>\n",
       "      <th>15</th>\n",
       "      <td>accordion</td>\n",
       "      <td>accordion</td>\n",
       "      <td>F_02_048</td>\n",
       "      <td>F</td>\n",
       "      <td>2.0</td>\n",
       "      <td>48.0</td>\n",
       "      <td>&lt;iframe width=\"280\" height=\"158\" src=\"https://...</td>\n",
       "      <td>&lt;iframe src=https://player.vimeo.com/video/346...</td>\n",
       "      <td>https://player.vimeo.com/video/346495091</td>\n",
       "      <td>1.833</td>\n",
       "      <td>...</td>\n",
       "      <td>accordion, musical instrument</td>\n",
       "      <td>ACCORDION</td>\n",
       "      <td>3331.0</td>\n",
       "      <td>NaN</td>\n",
       "      <td>NaN</td>\n",
       "      <td>NaN</td>\n",
       "      <td>NaN</td>\n",
       "      <td>1.0</td>\n",
       "      <td>524</td>\n",
       "      <td>43.0</td>\n",
       "    </tr>\n",
       "    <tr>\n",
       "      <th>16</th>\n",
       "      <td>accountant</td>\n",
       "      <td>accountant</td>\n",
       "      <td>A_03_044</td>\n",
       "      <td>A</td>\n",
       "      <td>3.0</td>\n",
       "      <td>44.0</td>\n",
       "      <td>&lt;iframe width=\"280\" height=\"158\" src=\"https://...</td>\n",
       "      <td>&lt;iframe src=https://player.vimeo.com/video/344...</td>\n",
       "      <td>https://player.vimeo.com/video/344228699</td>\n",
       "      <td>2.500</td>\n",
       "      <td>...</td>\n",
       "      <td>accountant, count, money, person</td>\n",
       "      <td>ACCOUNTANT</td>\n",
       "      <td>2439.0</td>\n",
       "      <td>NaN</td>\n",
       "      <td>NaN</td>\n",
       "      <td>NaN</td>\n",
       "      <td>NaN</td>\n",
       "      <td>1.0</td>\n",
       "      <td>397</td>\n",
       "      <td>79.0</td>\n",
       "    </tr>\n",
       "    <tr>\n",
       "      <th>17</th>\n",
       "      <td>acquire</td>\n",
       "      <td>acquire</td>\n",
       "      <td>H_01_034</td>\n",
       "      <td>H</td>\n",
       "      <td>1.0</td>\n",
       "      <td>34.0</td>\n",
       "      <td>&lt;iframe width=\"280\" height=\"158\" src=\"https://...</td>\n",
       "      <td>&lt;iframe src=https://player.vimeo.com/video/346...</td>\n",
       "      <td>https://player.vimeo.com/video/346791147</td>\n",
       "      <td>2.134</td>\n",
       "      <td>...</td>\n",
       "      <td>acquire, acquisition, pick up</td>\n",
       "      <td>ACQUIRE</td>\n",
       "      <td>2048.0</td>\n",
       "      <td>NaN</td>\n",
       "      <td>NaN</td>\n",
       "      <td>NaN</td>\n",
       "      <td>NaN</td>\n",
       "      <td>2.0</td>\n",
       "      <td>449</td>\n",
       "      <td>117.0</td>\n",
       "    </tr>\n",
       "    <tr>\n",
       "      <th>18</th>\n",
       "      <td>act</td>\n",
       "      <td>act</td>\n",
       "      <td>B_02_038</td>\n",
       "      <td>B</td>\n",
       "      <td>2.0</td>\n",
       "      <td>38.0</td>\n",
       "      <td>&lt;iframe width=\"280\" height=\"158\" src=\"https://...</td>\n",
       "      <td>&lt;iframe src=https://player.vimeo.com/video/345...</td>\n",
       "      <td>https://player.vimeo.com/video/345537677</td>\n",
       "      <td>3.746</td>\n",
       "      <td>...</td>\n",
       "      <td>act, drama, perform, performance, put on a pla...</td>\n",
       "      <td>ACT</td>\n",
       "      <td>5.0</td>\n",
       "      <td>NaN</td>\n",
       "      <td>NaN</td>\n",
       "      <td>NaN</td>\n",
       "      <td>NaN</td>\n",
       "      <td>3.0</td>\n",
       "      <td>58</td>\n",
       "      <td>11.0</td>\n",
       "    </tr>\n",
       "    <tr>\n",
       "      <th>19</th>\n",
       "      <td>action</td>\n",
       "      <td>action</td>\n",
       "      <td>C_01_026</td>\n",
       "      <td>C</td>\n",
       "      <td>1.0</td>\n",
       "      <td>26.0</td>\n",
       "      <td>&lt;iframe width=\"280\" height=\"158\" src=\"https://...</td>\n",
       "      <td>&lt;iframe src=https://player.vimeo.com/video/345...</td>\n",
       "      <td>https://player.vimeo.com/video/345577398</td>\n",
       "      <td>3.494</td>\n",
       "      <td>...</td>\n",
       "      <td>act, action, activity, behavior, do, event</td>\n",
       "      <td>ACTION</td>\n",
       "      <td>2440.0</td>\n",
       "      <td>NaN</td>\n",
       "      <td>NaN</td>\n",
       "      <td>NaN</td>\n",
       "      <td>NaN</td>\n",
       "      <td>2.0</td>\n",
       "      <td>126</td>\n",
       "      <td>2.0</td>\n",
       "    </tr>\n",
       "  </tbody>\n",
       "</table>\n",
       "<p>20 rows × 192 columns</p>\n",
       "</div>"
      ],
      "text/plain": [
       "               EntryID             LemmaID      Code Batch  List  Item  \\\n",
       "0             1_dollar            1_dollar  C_02_025     C   2.0  25.0   \n",
       "1            5_dollars           5_dollars  B_01_062     B   1.0  62.0   \n",
       "2               8_hour              8_hour  C_02_055     C   2.0  55.0   \n",
       "3             9_oclock            9_oclock  C_02_080     C   2.0  80.0   \n",
       "4           a-line_bob          a-line_bob  K_03_127     K   NaN   NaN   \n",
       "5         a_little_bit        a_little_bit  H_03_025     H   3.0  25.0   \n",
       "6           abbreviate          abbreviate  G_01_040     G   1.0  40.0   \n",
       "7              about_1               about  B_02_072     B   2.0  72.0   \n",
       "8              about_2               about  B_02_003     B   2.0   3.0   \n",
       "9   absolutely_nothing  absolutely_nothing  J_01_027     J   1.0  27.0   \n",
       "10              accent              accent  E_01_073     E   1.0  73.0   \n",
       "11              accept              accept  H_02_042     H   2.0  42.0   \n",
       "12              access              access  H_02_086     H   2.0  86.0   \n",
       "13            accident            accident  B_02_059     B   2.0  59.0   \n",
       "14          accomplish          accomplish  C_02_085     C   2.0  85.0   \n",
       "15           accordion           accordion  F_02_048     F   2.0  48.0   \n",
       "16          accountant          accountant  A_03_044     A   3.0  44.0   \n",
       "17             acquire             acquire  H_01_034     H   1.0  34.0   \n",
       "18                 act                 act  B_02_038     B   2.0  38.0   \n",
       "19              action              action  C_01_026     C   1.0  26.0   \n",
       "\n",
       "                                        YouTube Video  \\\n",
       "0   <iframe width=\"280\" height=\"158\" src=\"https://...   \n",
       "1   <iframe width=\"280\" height=\"158\" src=\"https://...   \n",
       "2   <iframe width=\"280\" height=\"158\" src=\"https://...   \n",
       "3   <iframe width=\"280\" height=\"158\" src=\"https://...   \n",
       "4                                                 NaN   \n",
       "5   <iframe width=\"280\" height=\"158\" src=\"https://...   \n",
       "6   <iframe width=\"280\" height=\"158\" src=\"https://...   \n",
       "7   <iframe width=\"280\" height=\"158\" src=\"https://...   \n",
       "8   <iframe width=\"280\" height=\"158\" src=\"https://...   \n",
       "9   <iframe width=\"280\" height=\"158\" src=\"https://...   \n",
       "10  <iframe width=\"280\" height=\"158\" src=\"https://...   \n",
       "11  <iframe width=\"280\" height=\"158\" src=\"https://...   \n",
       "12  <iframe width=\"280\" height=\"158\" src=\"https://...   \n",
       "13  <iframe width=\"280\" height=\"158\" src=\"https://...   \n",
       "14  <iframe width=\"280\" height=\"158\" src=\"https://...   \n",
       "15  <iframe width=\"280\" height=\"158\" src=\"https://...   \n",
       "16  <iframe width=\"280\" height=\"158\" src=\"https://...   \n",
       "17  <iframe width=\"280\" height=\"158\" src=\"https://...   \n",
       "18  <iframe width=\"280\" height=\"158\" src=\"https://...   \n",
       "19  <iframe width=\"280\" height=\"158\" src=\"https://...   \n",
       "\n",
       "                                       VimeoVideoHTML  \\\n",
       "0   <iframe src=https://player.vimeo.com/video/345...   \n",
       "1   <iframe src=https://player.vimeo.com/video/344...   \n",
       "2   <iframe src=\"https://player.vimeo.com/video/34...   \n",
       "3   <iframe src=https://player.vimeo.com/video/345...   \n",
       "4   <iframe src=https://player.vimeo.com/video/342...   \n",
       "5   <iframe src=https://player.vimeo.com/video/346...   \n",
       "6   <iframe src=https://player.vimeo.com/video/346...   \n",
       "7   <iframe src=https://player.vimeo.com/video/345...   \n",
       "8   <iframe src=https://player.vimeo.com/video/345...   \n",
       "9   <iframe src=https://player.vimeo.com/video/346...   \n",
       "10  <iframe src=https://player.vimeo.com/video/346...   \n",
       "11  <iframe src=https://player.vimeo.com/video/346...   \n",
       "12  <iframe src=https://player.vimeo.com/video/346...   \n",
       "13  <iframe src=https://player.vimeo.com/video/345...   \n",
       "14  <iframe src=https://player.vimeo.com/video/345...   \n",
       "15  <iframe src=https://player.vimeo.com/video/346...   \n",
       "16  <iframe src=https://player.vimeo.com/video/344...   \n",
       "17  <iframe src=https://player.vimeo.com/video/346...   \n",
       "18  <iframe src=https://player.vimeo.com/video/345...   \n",
       "19  <iframe src=https://player.vimeo.com/video/345...   \n",
       "\n",
       "                                  VimeoVideo  SubtLexUSLog10WF  ...  \\\n",
       "0   https://player.vimeo.com/video/345587917               NaN  ...   \n",
       "1   https://player.vimeo.com/video/344399314               NaN  ...   \n",
       "2   https://player.vimeo.com/video/345588916               NaN  ...   \n",
       "3   https://player.vimeo.com/video/345589804               NaN  ...   \n",
       "4   https://player.vimeo.com/video/342308099               NaN  ...   \n",
       "5   https://player.vimeo.com/video/346887448               NaN  ...   \n",
       "6   https://player.vimeo.com/video/346610443             0.301  ...   \n",
       "7   https://player.vimeo.com/video/345555837             5.268  ...   \n",
       "8   https://player.vimeo.com/video/345536316             5.268  ...   \n",
       "9   https://player.vimeo.com/video/346914407               NaN  ...   \n",
       "10  https://player.vimeo.com/video/346053390             2.794  ...   \n",
       "11  https://player.vimeo.com/video/346802940             3.430  ...   \n",
       "12  https://player.vimeo.com/video/346883874             3.208  ...   \n",
       "13  https://player.vimeo.com/video/345555544             3.618  ...   \n",
       "14  https://player.vimeo.com/video/345590018             2.476  ...   \n",
       "15  https://player.vimeo.com/video/346495091             1.833  ...   \n",
       "16  https://player.vimeo.com/video/344228699             2.500  ...   \n",
       "17  https://player.vimeo.com/video/346791147             2.134  ...   \n",
       "18  https://player.vimeo.com/video/345537677             3.746  ...   \n",
       "19  https://player.vimeo.com/video/345577398             3.494  ...   \n",
       "\n",
       "                          SignBankEnglishTranslations     SignBankLemmaID  \\\n",
       "0                           bill, cash, dollar, money            1_DOLLAR   \n",
       "1                         dollar, five dollars, money            5_DOLLAR   \n",
       "2                    eight hours, 8 hours, hour, time        NUMBER-HOURS   \n",
       "3        9:00, 9 o'clock, nine o'clock, o'clock, time       OCLOCK-NUMBER   \n",
       "4                                                 NaN                 NaN   \n",
       "5          a little bit, little, few, minimal, scarce        A-LITTLE-BIT   \n",
       "6      brief, for a short time, quick, short, shortly               SHORT   \n",
       "7                 about, regarding, with reference to               ABOUT   \n",
       "8                 about, regarding, with reference to               ABOUT   \n",
       "9   absolutely nothing, all out, depleted, empty, ...  ABSOLUTELY-NOTHING   \n",
       "10       accent, dialect, language, regional language              ACCENT   \n",
       "11  accept, adopt, agree to, embrace, own, passive...              ACCEPT   \n",
       "12  access, accessible, accessibility, admission, ...              ACCESS   \n",
       "13  accident, collide, crash, hit, oops, vehicle, ...            ACCIDENT   \n",
       "14  accomplish, at last, effective, finally, pah, ...          ACCOMPLISH   \n",
       "15                      accordion, musical instrument           ACCORDION   \n",
       "16                   accountant, count, money, person          ACCOUNTANT   \n",
       "17                      acquire, acquisition, pick up             ACQUIRE   \n",
       "18  act, drama, perform, performance, put on a pla...                 ACT   \n",
       "19         act, action, activity, behavior, do, event              ACTION   \n",
       "\n",
       "    SignBankReferenceID  bglm_aoa  empirical_aoa  HandshapeImage - 100x100  \\\n",
       "0                1268.0       NaN            NaN                       NaN   \n",
       "1                2436.0       NaN            NaN                       NaN   \n",
       "2                2437.0       NaN            NaN                       NaN   \n",
       "3                2857.0       NaN            NaN                       NaN   \n",
       "4                   NaN       NaN            NaN                       NaN   \n",
       "5                   0.0       NaN            NaN                       NaN   \n",
       "6                 252.0       NaN            NaN                       NaN   \n",
       "7                2043.0       NaN            NaN                       NaN   \n",
       "8                2042.0      61.0           35.0                       NaN   \n",
       "9                2044.0       NaN            NaN                       NaN   \n",
       "10                584.0       NaN            NaN                       NaN   \n",
       "11               2045.0       NaN            NaN                       NaN   \n",
       "12               2046.0       NaN            NaN                       NaN   \n",
       "13               2047.0       NaN            NaN                       NaN   \n",
       "14                453.0       NaN            NaN                       NaN   \n",
       "15               3331.0       NaN            NaN                       NaN   \n",
       "16               2439.0       NaN            NaN                       NaN   \n",
       "17               2048.0       NaN            NaN                       NaN   \n",
       "18                  5.0       NaN            NaN                       NaN   \n",
       "19               2440.0       NaN            NaN                       NaN   \n",
       "\n",
       "    HandshapeImage: URL  Complexity  Parameter.Neighborhood.Density.2.0.1  \\\n",
       "0                   NaN         2.0                                   383   \n",
       "1                   NaN         1.0                                   190   \n",
       "2                   NaN         4.0                                   129   \n",
       "3                   NaN         1.0                                    48   \n",
       "4                   NaN         2.0                                   158   \n",
       "5                   NaN         2.0                                   144   \n",
       "6                   NaN         2.0                                   368   \n",
       "7                   NaN         2.0                                   129   \n",
       "8                   NaN         3.0                                   129   \n",
       "9                   NaN         1.0                                   232   \n",
       "10                  NaN         1.0                                   106   \n",
       "11                  NaN         1.0                                   140   \n",
       "12                  NaN         2.0                                   459   \n",
       "13                  NaN         1.0                                   512   \n",
       "14                  NaN         1.0                                   469   \n",
       "15                  NaN         1.0                                   524   \n",
       "16                  NaN         1.0                                   397   \n",
       "17                  NaN         2.0                                   449   \n",
       "18                  NaN         3.0                                    58   \n",
       "19                  NaN         2.0                                   126   \n",
       "\n",
       "    group_id  \n",
       "0        NaN  \n",
       "1        0.0  \n",
       "2        NaN  \n",
       "3      141.0  \n",
       "4       92.0  \n",
       "5       39.0  \n",
       "6        8.0  \n",
       "7      110.0  \n",
       "8        NaN  \n",
       "9      186.0  \n",
       "10       9.0  \n",
       "11     217.0  \n",
       "12       5.0  \n",
       "13     108.0  \n",
       "14       NaN  \n",
       "15      43.0  \n",
       "16      79.0  \n",
       "17     117.0  \n",
       "18      11.0  \n",
       "19       2.0  \n",
       "\n",
       "[20 rows x 192 columns]"
      ]
     },
     "execution_count": 93,
     "metadata": {},
     "output_type": "execute_result"
    }
   ],
   "source": [
    "\n",
    "df_merged = pd.merge(df_default, df_with_groupids,how='left', on=['Code'])\n",
    "print(df_merged.shape)\n",
    "# print(df_merged.columns.values)\n",
    "df_merged.head(20)"
   ]
  },
  {
   "cell_type": "code",
   "execution_count": 94,
   "metadata": {},
   "outputs": [
    {
     "name": "stdout",
     "output_type": "stream",
     "text": [
      "0       1000.0\n",
      "1          0.0\n",
      "2       1000.0\n",
      "3        141.0\n",
      "4         92.0\n",
      "         ...  \n",
      "2718      16.0\n",
      "2719    1000.0\n",
      "2720      10.0\n",
      "2721    1000.0\n",
      "2722    1000.0\n",
      "Name: group_id, Length: 2723, dtype: float64\n"
     ]
    },
    {
     "data": {
      "text/plain": [
       "array([1000.,    0.,  141.,   92.,   39.,    8.,  110.,  186.,    9.,\n",
       "        217.,    5.,  108.,   43.,   79.,  117.,   11.,    2.,    4.,\n",
       "         41.,   95.,   78.,   16.,  109.,   10.,   63.,  119.,   26.,\n",
       "        173.,   87.,   27.,   13.,   45.,  135.,   57.,   69.,  204.,\n",
       "         22.,    1.,  162.,   31.,   90.,  131.,   83.,  164.,   35.,\n",
       "        214.,   66.,   38.,  174.,  156.,   98.,   52.,   29.,  124.,\n",
       "         46.,   89.,  213.,  201.,   50.,  137.,   76.,   23.,  152.,\n",
       "         30.,   91.,  168.,  114.,  126.,  207.,   65.,   20.,  100.,\n",
       "        196.,   36.,  219.,   40.,   85.,   18.,   15.,   34.,  149.,\n",
       "         19.,   80.,   68.,   64.,  115.,   25.,   96.,   94.,    3.,\n",
       "          7.,   93.,  148.,  177.,  113.,  172.,  128.,   21.,  106.,\n",
       "        146.,   17.,  105.,   48.,  129.,  133.,  107.,  158.,  145.,\n",
       "        157.,   44.,   12.,  194.,   67.,   62.,  136.,   42.,  130.,\n",
       "        112.,  144.,  206.,  211.,  216.,   73.,   32.,  190.,  191.,\n",
       "         51.,  101.,  127.,  187.,  147.,  151.,   77.,  170.,  102.,\n",
       "        121.,  197.,  154.,   72.,   47.,  218.,   59.,   97.,  202.,\n",
       "         86.,  184.,  171.,  200.,   88.,  150.,  182.,  104.,   70.,\n",
       "        167.,  203.,   53.,  120.,   58.,  193.,  142.,  169.,  183.,\n",
       "        180.,  140.,  179.,  181.,  195.,  185.,   24.,  160.,  210.,\n",
       "         61.,  159.,   14.,   84.,  134.,  153.,  209.,   71.,   49.,\n",
       "         37.,  139.,  138.,  208.,  161.,   82.,   75.,  212.,   28.,\n",
       "        220.,  188.,   74.,  123.,   99.,  198.,  166.,  163.,  143.,\n",
       "         54.,  176.,  125.,   81.,  199.,  215.,   55.,  116.,    6.,\n",
       "        189.,  192.,  132.,  111.,  155.,  122.,  118.,   33.,  178.,\n",
       "         56.,  103.,  165.,   60.,  175.,  205.])"
      ]
     },
     "execution_count": 94,
     "metadata": {},
     "output_type": "execute_result"
    }
   ],
   "source": [
    "values = {'group_id': 1000}\n",
    "df_merged = df_merged.fillna(value=values)\n",
    "\n",
    "print(df_merged['group_id'])\n",
    "unique_community_ids = df_merged['group_id'].unique()\n",
    "unique_community_ids"
   ]
  },
  {
   "cell_type": "code",
   "execution_count": 95,
   "metadata": {},
   "outputs": [
    {
     "data": {
      "text/plain": [
       "[{'group_id': 1000, 'color_code': '#cbed9a'},\n",
       " {'group_id': 0.0, 'color_code': '#9da52c'},\n",
       " {'group_id': 141.0, 'color_code': '#910f49'},\n",
       " {'group_id': 92.0, 'color_code': '#13d097'},\n",
       " {'group_id': 39.0, 'color_code': '#42427d'},\n",
       " {'group_id': 8.0, 'color_code': '#d585b9'},\n",
       " {'group_id': 110.0, 'color_code': '#bda715'},\n",
       " {'group_id': 186.0, 'color_code': '#a512e3'},\n",
       " {'group_id': 9.0, 'color_code': '#18a4d8'},\n",
       " {'group_id': 217.0, 'color_code': '#1c4774'},\n",
       " {'group_id': 5.0, 'color_code': '#638e13'},\n",
       " {'group_id': 108.0, 'color_code': '#2db252'},\n",
       " {'group_id': 43.0, 'color_code': '#fcde03'},\n",
       " {'group_id': 79.0, 'color_code': '#fe3169'},\n",
       " {'group_id': 117.0, 'color_code': '#fe5969'},\n",
       " {'group_id': 11.0, 'color_code': '#c414a0'},\n",
       " {'group_id': 2.0, 'color_code': '#a9a30b'},\n",
       " {'group_id': 4.0, 'color_code': '#e30710'},\n",
       " {'group_id': 41.0, 'color_code': '#1dafb7'},\n",
       " {'group_id': 95.0, 'color_code': '#6c1b3c'},\n",
       " {'group_id': 78.0, 'color_code': '#0c8e74'},\n",
       " {'group_id': 16.0, 'color_code': '#f7b60f'},\n",
       " {'group_id': 109.0, 'color_code': '#f6e2cb'},\n",
       " {'group_id': 10.0, 'color_code': '#cfd954'},\n",
       " {'group_id': 63.0, 'color_code': '#be55fc'},\n",
       " {'group_id': 119.0, 'color_code': '#31d6cc'},\n",
       " {'group_id': 26.0, 'color_code': '#0e79b9'},\n",
       " {'group_id': 173.0, 'color_code': '#782c49'},\n",
       " {'group_id': 87.0, 'color_code': '#b94c28'},\n",
       " {'group_id': 27.0, 'color_code': '#5f5e88'},\n",
       " {'group_id': 13.0, 'color_code': '#bd467d'},\n",
       " {'group_id': 45.0, 'color_code': '#62a1f4'},\n",
       " {'group_id': 135.0, 'color_code': '#2a5567'},\n",
       " {'group_id': 57.0, 'color_code': '#273cad'},\n",
       " {'group_id': 69.0, 'color_code': '#c99db2'},\n",
       " {'group_id': 204.0, 'color_code': '#c12f0e'},\n",
       " {'group_id': 22.0, 'color_code': '#e35561'},\n",
       " {'group_id': 1.0, 'color_code': '#f9eba0'},\n",
       " {'group_id': 162.0, 'color_code': '#529c83'},\n",
       " {'group_id': 31.0, 'color_code': '#cbd756'},\n",
       " {'group_id': 90.0, 'color_code': '#1e997d'},\n",
       " {'group_id': 131.0, 'color_code': '#a770c9'},\n",
       " {'group_id': 83.0, 'color_code': '#93c197'},\n",
       " {'group_id': 164.0, 'color_code': '#ea7c15'},\n",
       " {'group_id': 35.0, 'color_code': '#d5ed36'},\n",
       " {'group_id': 214.0, 'color_code': '#796107'},\n",
       " {'group_id': 66.0, 'color_code': '#4d44dd'},\n",
       " {'group_id': 38.0, 'color_code': '#392077'},\n",
       " {'group_id': 174.0, 'color_code': '#4f42e6'},\n",
       " {'group_id': 156.0, 'color_code': '#852224'},\n",
       " {'group_id': 98.0, 'color_code': '#7e4166'},\n",
       " {'group_id': 52.0, 'color_code': '#c513bf'},\n",
       " {'group_id': 29.0, 'color_code': '#e3a472'},\n",
       " {'group_id': 124.0, 'color_code': '#9abb28'},\n",
       " {'group_id': 46.0, 'color_code': '#e2e525'},\n",
       " {'group_id': 89.0, 'color_code': '#dfdf6c'},\n",
       " {'group_id': 213.0, 'color_code': '#f57483'},\n",
       " {'group_id': 201.0, 'color_code': '#8d9793'},\n",
       " {'group_id': 50.0, 'color_code': '#d0c1a2'},\n",
       " {'group_id': 137.0, 'color_code': '#17c03d'},\n",
       " {'group_id': 76.0, 'color_code': '#dbd993'},\n",
       " {'group_id': 23.0, 'color_code': '#b76008'},\n",
       " {'group_id': 152.0, 'color_code': '#835bc7'},\n",
       " {'group_id': 30.0, 'color_code': '#7dcae9'},\n",
       " {'group_id': 91.0, 'color_code': '#da539e'},\n",
       " {'group_id': 168.0, 'color_code': '#d0e354'},\n",
       " {'group_id': 114.0, 'color_code': '#80d0d4'},\n",
       " {'group_id': 126.0, 'color_code': '#483696'},\n",
       " {'group_id': 207.0, 'color_code': '#e24644'},\n",
       " {'group_id': 65.0, 'color_code': '#76acf6'},\n",
       " {'group_id': 20.0, 'color_code': '#d0394b'},\n",
       " {'group_id': 100.0, 'color_code': '#e427a6'},\n",
       " {'group_id': 196.0, 'color_code': '#bc4463'},\n",
       " {'group_id': 36.0, 'color_code': '#e303a2'},\n",
       " {'group_id': 219.0, 'color_code': '#920309'},\n",
       " {'group_id': 40.0, 'color_code': '#0839ea'},\n",
       " {'group_id': 85.0, 'color_code': '#2c36a1'},\n",
       " {'group_id': 18.0, 'color_code': '#f18380'},\n",
       " {'group_id': 15.0, 'color_code': '#1805bc'},\n",
       " {'group_id': 34.0, 'color_code': '#c4f325'},\n",
       " {'group_id': 149.0, 'color_code': '#457672'},\n",
       " {'group_id': 19.0, 'color_code': '#6ee536'},\n",
       " {'group_id': 80.0, 'color_code': '#f56da4'},\n",
       " {'group_id': 68.0, 'color_code': '#0b95aa'},\n",
       " {'group_id': 64.0, 'color_code': '#02c6e5'},\n",
       " {'group_id': 115.0, 'color_code': '#67ce2f'},\n",
       " {'group_id': 25.0, 'color_code': '#44bc19'},\n",
       " {'group_id': 96.0, 'color_code': '#358941'},\n",
       " {'group_id': 94.0, 'color_code': '#bf8007'},\n",
       " {'group_id': 3.0, 'color_code': '#8a9e27'},\n",
       " {'group_id': 7.0, 'color_code': '#c8c975'},\n",
       " {'group_id': 93.0, 'color_code': '#374b78'},\n",
       " {'group_id': 148.0, 'color_code': '#41f117'},\n",
       " {'group_id': 177.0, 'color_code': '#f2766d'},\n",
       " {'group_id': 113.0, 'color_code': '#331240'},\n",
       " {'group_id': 172.0, 'color_code': '#89d7a9'},\n",
       " {'group_id': 128.0, 'color_code': '#fc8694'},\n",
       " {'group_id': 21.0, 'color_code': '#938b50'},\n",
       " {'group_id': 106.0, 'color_code': '#e3f55f'},\n",
       " {'group_id': 146.0, 'color_code': '#209654'},\n",
       " {'group_id': 17.0, 'color_code': '#1a962a'},\n",
       " {'group_id': 105.0, 'color_code': '#859331'},\n",
       " {'group_id': 48.0, 'color_code': '#3096a3'},\n",
       " {'group_id': 129.0, 'color_code': '#a21ec3'},\n",
       " {'group_id': 133.0, 'color_code': '#87edb6'},\n",
       " {'group_id': 107.0, 'color_code': '#6a80dd'},\n",
       " {'group_id': 158.0, 'color_code': '#78e480'},\n",
       " {'group_id': 145.0, 'color_code': '#b8d4c9'},\n",
       " {'group_id': 157.0, 'color_code': '#6c2379'},\n",
       " {'group_id': 44.0, 'color_code': '#05b69c'},\n",
       " {'group_id': 12.0, 'color_code': '#60d743'},\n",
       " {'group_id': 194.0, 'color_code': '#a9f244'},\n",
       " {'group_id': 67.0, 'color_code': '#e5aa85'},\n",
       " {'group_id': 62.0, 'color_code': '#bcd4ee'},\n",
       " {'group_id': 136.0, 'color_code': '#11c9fd'},\n",
       " {'group_id': 42.0, 'color_code': '#466cd9'},\n",
       " {'group_id': 130.0, 'color_code': '#578451'},\n",
       " {'group_id': 112.0, 'color_code': '#b0e103'},\n",
       " {'group_id': 144.0, 'color_code': '#971097'},\n",
       " {'group_id': 206.0, 'color_code': '#2eb8aa'},\n",
       " {'group_id': 211.0, 'color_code': '#f832a1'},\n",
       " {'group_id': 216.0, 'color_code': '#d5237c'},\n",
       " {'group_id': 73.0, 'color_code': '#6a1c7d'},\n",
       " {'group_id': 32.0, 'color_code': '#187350'},\n",
       " {'group_id': 190.0, 'color_code': '#4dfddc'},\n",
       " {'group_id': 191.0, 'color_code': '#d541f8'},\n",
       " {'group_id': 51.0, 'color_code': '#71f0bd'},\n",
       " {'group_id': 101.0, 'color_code': '#bb1c85'},\n",
       " {'group_id': 127.0, 'color_code': '#fa69ab'},\n",
       " {'group_id': 187.0, 'color_code': '#646fcf'},\n",
       " {'group_id': 147.0, 'color_code': '#7b81bf'},\n",
       " {'group_id': 151.0, 'color_code': '#9fc24e'},\n",
       " {'group_id': 77.0, 'color_code': '#41d51e'},\n",
       " {'group_id': 170.0, 'color_code': '#32f74f'},\n",
       " {'group_id': 102.0, 'color_code': '#4f6b09'},\n",
       " {'group_id': 121.0, 'color_code': '#ad1f15'},\n",
       " {'group_id': 197.0, 'color_code': '#3666f4'},\n",
       " {'group_id': 154.0, 'color_code': '#d2d182'},\n",
       " {'group_id': 72.0, 'color_code': '#966b14'},\n",
       " {'group_id': 47.0, 'color_code': '#a37543'},\n",
       " {'group_id': 218.0, 'color_code': '#9ef2c1'},\n",
       " {'group_id': 59.0, 'color_code': '#3a74dc'},\n",
       " {'group_id': 97.0, 'color_code': '#8350bb'},\n",
       " {'group_id': 202.0, 'color_code': '#ccf118'},\n",
       " {'group_id': 86.0, 'color_code': '#cbc051'},\n",
       " {'group_id': 184.0, 'color_code': '#d3722e'},\n",
       " {'group_id': 171.0, 'color_code': '#d1da5c'},\n",
       " {'group_id': 200.0, 'color_code': '#4ca8d8'},\n",
       " {'group_id': 88.0, 'color_code': '#a1ef93'},\n",
       " {'group_id': 150.0, 'color_code': '#95c925'},\n",
       " {'group_id': 182.0, 'color_code': '#36acad'},\n",
       " {'group_id': 104.0, 'color_code': '#a354e0'},\n",
       " {'group_id': 70.0, 'color_code': '#1d4551'},\n",
       " {'group_id': 167.0, 'color_code': '#7dc3f9'},\n",
       " {'group_id': 203.0, 'color_code': '#e9dcfe'},\n",
       " {'group_id': 53.0, 'color_code': '#7fbda8'},\n",
       " {'group_id': 120.0, 'color_code': '#fba3b9'},\n",
       " {'group_id': 58.0, 'color_code': '#503ced'},\n",
       " {'group_id': 193.0, 'color_code': '#038759'},\n",
       " {'group_id': 142.0, 'color_code': '#3efc7e'},\n",
       " {'group_id': 169.0, 'color_code': '#06b371'},\n",
       " {'group_id': 183.0, 'color_code': '#cededd'},\n",
       " {'group_id': 180.0, 'color_code': '#b9eaca'},\n",
       " {'group_id': 140.0, 'color_code': '#d4bd6d'},\n",
       " {'group_id': 179.0, 'color_code': '#fa8adc'},\n",
       " {'group_id': 181.0, 'color_code': '#7b88b0'},\n",
       " {'group_id': 195.0, 'color_code': '#37766d'},\n",
       " {'group_id': 185.0, 'color_code': '#2ace21'},\n",
       " {'group_id': 24.0, 'color_code': '#71b6b3'},\n",
       " {'group_id': 160.0, 'color_code': '#8dc626'},\n",
       " {'group_id': 210.0, 'color_code': '#aee831'},\n",
       " {'group_id': 61.0, 'color_code': '#7067c1'},\n",
       " {'group_id': 159.0, 'color_code': '#a41f34'},\n",
       " {'group_id': 14.0, 'color_code': '#e9dfe3'},\n",
       " {'group_id': 84.0, 'color_code': '#274a4a'},\n",
       " {'group_id': 134.0, 'color_code': '#cbb84b'},\n",
       " {'group_id': 153.0, 'color_code': '#78f643'},\n",
       " {'group_id': 209.0, 'color_code': '#422adb'},\n",
       " {'group_id': 71.0, 'color_code': '#bf8124'},\n",
       " {'group_id': 49.0, 'color_code': '#5d6545'},\n",
       " {'group_id': 37.0, 'color_code': '#280b02'},\n",
       " {'group_id': 139.0, 'color_code': '#d94ae8'},\n",
       " {'group_id': 138.0, 'color_code': '#85d646'},\n",
       " {'group_id': 208.0, 'color_code': '#1bdc35'},\n",
       " {'group_id': 161.0, 'color_code': '#bddcfe'},\n",
       " {'group_id': 82.0, 'color_code': '#951d66'},\n",
       " {'group_id': 75.0, 'color_code': '#d51e73'},\n",
       " {'group_id': 212.0, 'color_code': '#803a39'},\n",
       " {'group_id': 28.0, 'color_code': '#6a1041'},\n",
       " {'group_id': 220.0, 'color_code': '#82890b'},\n",
       " {'group_id': 188.0, 'color_code': '#9b6e10'},\n",
       " {'group_id': 74.0, 'color_code': '#31c5e9'},\n",
       " {'group_id': 123.0, 'color_code': '#7100ce'},\n",
       " {'group_id': 99.0, 'color_code': '#7d8c23'},\n",
       " {'group_id': 198.0, 'color_code': '#1c8c69'},\n",
       " {'group_id': 166.0, 'color_code': '#87f0ba'},\n",
       " {'group_id': 163.0, 'color_code': '#3971bd'},\n",
       " {'group_id': 143.0, 'color_code': '#3c0405'},\n",
       " {'group_id': 54.0, 'color_code': '#cb28e5'},\n",
       " {'group_id': 176.0, 'color_code': '#282d76'},\n",
       " {'group_id': 125.0, 'color_code': '#161a9c'},\n",
       " {'group_id': 81.0, 'color_code': '#d9789e'},\n",
       " {'group_id': 199.0, 'color_code': '#8d9af4'},\n",
       " {'group_id': 215.0, 'color_code': '#acf80c'},\n",
       " {'group_id': 55.0, 'color_code': '#91332f'},\n",
       " {'group_id': 116.0, 'color_code': '#17d31b'},\n",
       " {'group_id': 6.0, 'color_code': '#076671'},\n",
       " {'group_id': 189.0, 'color_code': '#ca1a12'},\n",
       " {'group_id': 192.0, 'color_code': '#73d499'},\n",
       " {'group_id': 132.0, 'color_code': '#4ec1f0'},\n",
       " {'group_id': 111.0, 'color_code': '#b7b35c'},\n",
       " {'group_id': 155.0, 'color_code': '#e1a0c5'},\n",
       " {'group_id': 122.0, 'color_code': '#2c93f3'},\n",
       " {'group_id': 118.0, 'color_code': '#de001e'},\n",
       " {'group_id': 33.0, 'color_code': '#0c4a13'},\n",
       " {'group_id': 178.0, 'color_code': '#cb700c'},\n",
       " {'group_id': 56.0, 'color_code': '#e9ff99'},\n",
       " {'group_id': 103.0, 'color_code': '#50ec61'},\n",
       " {'group_id': 165.0, 'color_code': '#a80bd4'},\n",
       " {'group_id': 60.0, 'color_code': '#37ce78'},\n",
       " {'group_id': 175.0, 'color_code': '#38603e'},\n",
       " {'group_id': 205.0, 'color_code': '#4263ce'}]"
      ]
     },
     "execution_count": 95,
     "metadata": {},
     "output_type": "execute_result"
    }
   ],
   "source": [
    "\n",
    "#Will assign all NaN's same color for now. That's okay.\n",
    "\n",
    "\n",
    "import random\n",
    " \n",
    "def colors(n):\n",
    "    if(n == 0):\n",
    "        n = 600\n",
    "    r = int(random.random() * 256)\n",
    "    g = int(random.random() * 256)\n",
    "    b = int(random.random() * 256)\n",
    "    \n",
    "    step = 256 / n\n",
    "#     print(n,r,g,b,step)\n",
    "\n",
    "    r += step\n",
    "    g += step\n",
    "    b += step\n",
    "    r = int(r) % 256\n",
    "    g = int(g) % 256\n",
    "    b = int(b) % 256\n",
    "    \n",
    "    colorstr = str(r)+\",\"+str(b)+\",\" + str(g)\n",
    "    return '#%02x%02x%02x' % (r, g, b)\n",
    "\n",
    "color_dict = []\n",
    "color_dictionary = {}\n",
    "for groupid in unique_community_ids:\n",
    "    #generate a random color\n",
    "    color = colors(groupid)\n",
    "    if(groupid == 1000):        \n",
    "        color_dict.append({'group_id': 1000, 'color_code': color})\n",
    "        color_dictionary['island'] = color\n",
    "    else:        \n",
    "        color_dict.append({'group_id':groupid , 'color_code': color})\n",
    "        color_dictionary[str(int(groupid))] = color\n",
    "    \n",
    "color_dict"
   ]
  },
  {
   "cell_type": "code",
   "execution_count": 96,
   "metadata": {},
   "outputs": [
    {
     "data": {
      "text/markdown": [
       "<br><span style=\"color:#cbed9a\">Sample</span>."
      ],
      "text/plain": [
       "<IPython.core.display.Markdown object>"
      ]
     },
     "metadata": {},
     "output_type": "display_data"
    },
    {
     "data": {
      "text/markdown": [
       "<br><span style=\"color:#9da52c\">Sample</span>."
      ],
      "text/plain": [
       "<IPython.core.display.Markdown object>"
      ]
     },
     "metadata": {},
     "output_type": "display_data"
    },
    {
     "data": {
      "text/markdown": [
       "<br><span style=\"color:#910f49\">Sample</span>."
      ],
      "text/plain": [
       "<IPython.core.display.Markdown object>"
      ]
     },
     "metadata": {},
     "output_type": "display_data"
    },
    {
     "data": {
      "text/markdown": [
       "<br><span style=\"color:#13d097\">Sample</span>."
      ],
      "text/plain": [
       "<IPython.core.display.Markdown object>"
      ]
     },
     "metadata": {},
     "output_type": "display_data"
    },
    {
     "data": {
      "text/markdown": [
       "<br><span style=\"color:#42427d\">Sample</span>."
      ],
      "text/plain": [
       "<IPython.core.display.Markdown object>"
      ]
     },
     "metadata": {},
     "output_type": "display_data"
    },
    {
     "data": {
      "text/markdown": [
       "<br><span style=\"color:#d585b9\">Sample</span>."
      ],
      "text/plain": [
       "<IPython.core.display.Markdown object>"
      ]
     },
     "metadata": {},
     "output_type": "display_data"
    },
    {
     "data": {
      "text/markdown": [
       "<br><span style=\"color:#bda715\">Sample</span>."
      ],
      "text/plain": [
       "<IPython.core.display.Markdown object>"
      ]
     },
     "metadata": {},
     "output_type": "display_data"
    },
    {
     "data": {
      "text/markdown": [
       "<br><span style=\"color:#a512e3\">Sample</span>."
      ],
      "text/plain": [
       "<IPython.core.display.Markdown object>"
      ]
     },
     "metadata": {},
     "output_type": "display_data"
    },
    {
     "data": {
      "text/markdown": [
       "<br><span style=\"color:#18a4d8\">Sample</span>."
      ],
      "text/plain": [
       "<IPython.core.display.Markdown object>"
      ]
     },
     "metadata": {},
     "output_type": "display_data"
    },
    {
     "data": {
      "text/markdown": [
       "<br><span style=\"color:#1c4774\">Sample</span>."
      ],
      "text/plain": [
       "<IPython.core.display.Markdown object>"
      ]
     },
     "metadata": {},
     "output_type": "display_data"
    },
    {
     "data": {
      "text/markdown": [
       "<br><span style=\"color:#638e13\">Sample</span>."
      ],
      "text/plain": [
       "<IPython.core.display.Markdown object>"
      ]
     },
     "metadata": {},
     "output_type": "display_data"
    },
    {
     "data": {
      "text/markdown": [
       "<br><span style=\"color:#2db252\">Sample</span>."
      ],
      "text/plain": [
       "<IPython.core.display.Markdown object>"
      ]
     },
     "metadata": {},
     "output_type": "display_data"
    },
    {
     "data": {
      "text/markdown": [
       "<br><span style=\"color:#fcde03\">Sample</span>."
      ],
      "text/plain": [
       "<IPython.core.display.Markdown object>"
      ]
     },
     "metadata": {},
     "output_type": "display_data"
    },
    {
     "data": {
      "text/markdown": [
       "<br><span style=\"color:#fe3169\">Sample</span>."
      ],
      "text/plain": [
       "<IPython.core.display.Markdown object>"
      ]
     },
     "metadata": {},
     "output_type": "display_data"
    },
    {
     "data": {
      "text/markdown": [
       "<br><span style=\"color:#fe5969\">Sample</span>."
      ],
      "text/plain": [
       "<IPython.core.display.Markdown object>"
      ]
     },
     "metadata": {},
     "output_type": "display_data"
    },
    {
     "data": {
      "text/markdown": [
       "<br><span style=\"color:#c414a0\">Sample</span>."
      ],
      "text/plain": [
       "<IPython.core.display.Markdown object>"
      ]
     },
     "metadata": {},
     "output_type": "display_data"
    },
    {
     "data": {
      "text/markdown": [
       "<br><span style=\"color:#a9a30b\">Sample</span>."
      ],
      "text/plain": [
       "<IPython.core.display.Markdown object>"
      ]
     },
     "metadata": {},
     "output_type": "display_data"
    },
    {
     "data": {
      "text/markdown": [
       "<br><span style=\"color:#e30710\">Sample</span>."
      ],
      "text/plain": [
       "<IPython.core.display.Markdown object>"
      ]
     },
     "metadata": {},
     "output_type": "display_data"
    },
    {
     "data": {
      "text/markdown": [
       "<br><span style=\"color:#1dafb7\">Sample</span>."
      ],
      "text/plain": [
       "<IPython.core.display.Markdown object>"
      ]
     },
     "metadata": {},
     "output_type": "display_data"
    },
    {
     "data": {
      "text/markdown": [
       "<br><span style=\"color:#6c1b3c\">Sample</span>."
      ],
      "text/plain": [
       "<IPython.core.display.Markdown object>"
      ]
     },
     "metadata": {},
     "output_type": "display_data"
    },
    {
     "data": {
      "text/markdown": [
       "<br><span style=\"color:#0c8e74\">Sample</span>."
      ],
      "text/plain": [
       "<IPython.core.display.Markdown object>"
      ]
     },
     "metadata": {},
     "output_type": "display_data"
    },
    {
     "data": {
      "text/markdown": [
       "<br><span style=\"color:#f7b60f\">Sample</span>."
      ],
      "text/plain": [
       "<IPython.core.display.Markdown object>"
      ]
     },
     "metadata": {},
     "output_type": "display_data"
    },
    {
     "data": {
      "text/markdown": [
       "<br><span style=\"color:#f6e2cb\">Sample</span>."
      ],
      "text/plain": [
       "<IPython.core.display.Markdown object>"
      ]
     },
     "metadata": {},
     "output_type": "display_data"
    },
    {
     "data": {
      "text/markdown": [
       "<br><span style=\"color:#cfd954\">Sample</span>."
      ],
      "text/plain": [
       "<IPython.core.display.Markdown object>"
      ]
     },
     "metadata": {},
     "output_type": "display_data"
    },
    {
     "data": {
      "text/markdown": [
       "<br><span style=\"color:#be55fc\">Sample</span>."
      ],
      "text/plain": [
       "<IPython.core.display.Markdown object>"
      ]
     },
     "metadata": {},
     "output_type": "display_data"
    },
    {
     "data": {
      "text/markdown": [
       "<br><span style=\"color:#31d6cc\">Sample</span>."
      ],
      "text/plain": [
       "<IPython.core.display.Markdown object>"
      ]
     },
     "metadata": {},
     "output_type": "display_data"
    },
    {
     "data": {
      "text/markdown": [
       "<br><span style=\"color:#0e79b9\">Sample</span>."
      ],
      "text/plain": [
       "<IPython.core.display.Markdown object>"
      ]
     },
     "metadata": {},
     "output_type": "display_data"
    },
    {
     "data": {
      "text/markdown": [
       "<br><span style=\"color:#782c49\">Sample</span>."
      ],
      "text/plain": [
       "<IPython.core.display.Markdown object>"
      ]
     },
     "metadata": {},
     "output_type": "display_data"
    },
    {
     "data": {
      "text/markdown": [
       "<br><span style=\"color:#b94c28\">Sample</span>."
      ],
      "text/plain": [
       "<IPython.core.display.Markdown object>"
      ]
     },
     "metadata": {},
     "output_type": "display_data"
    },
    {
     "data": {
      "text/markdown": [
       "<br><span style=\"color:#5f5e88\">Sample</span>."
      ],
      "text/plain": [
       "<IPython.core.display.Markdown object>"
      ]
     },
     "metadata": {},
     "output_type": "display_data"
    },
    {
     "data": {
      "text/markdown": [
       "<br><span style=\"color:#bd467d\">Sample</span>."
      ],
      "text/plain": [
       "<IPython.core.display.Markdown object>"
      ]
     },
     "metadata": {},
     "output_type": "display_data"
    },
    {
     "data": {
      "text/markdown": [
       "<br><span style=\"color:#62a1f4\">Sample</span>."
      ],
      "text/plain": [
       "<IPython.core.display.Markdown object>"
      ]
     },
     "metadata": {},
     "output_type": "display_data"
    },
    {
     "data": {
      "text/markdown": [
       "<br><span style=\"color:#2a5567\">Sample</span>."
      ],
      "text/plain": [
       "<IPython.core.display.Markdown object>"
      ]
     },
     "metadata": {},
     "output_type": "display_data"
    },
    {
     "data": {
      "text/markdown": [
       "<br><span style=\"color:#273cad\">Sample</span>."
      ],
      "text/plain": [
       "<IPython.core.display.Markdown object>"
      ]
     },
     "metadata": {},
     "output_type": "display_data"
    },
    {
     "data": {
      "text/markdown": [
       "<br><span style=\"color:#c99db2\">Sample</span>."
      ],
      "text/plain": [
       "<IPython.core.display.Markdown object>"
      ]
     },
     "metadata": {},
     "output_type": "display_data"
    },
    {
     "data": {
      "text/markdown": [
       "<br><span style=\"color:#c12f0e\">Sample</span>."
      ],
      "text/plain": [
       "<IPython.core.display.Markdown object>"
      ]
     },
     "metadata": {},
     "output_type": "display_data"
    },
    {
     "data": {
      "text/markdown": [
       "<br><span style=\"color:#e35561\">Sample</span>."
      ],
      "text/plain": [
       "<IPython.core.display.Markdown object>"
      ]
     },
     "metadata": {},
     "output_type": "display_data"
    },
    {
     "data": {
      "text/markdown": [
       "<br><span style=\"color:#f9eba0\">Sample</span>."
      ],
      "text/plain": [
       "<IPython.core.display.Markdown object>"
      ]
     },
     "metadata": {},
     "output_type": "display_data"
    },
    {
     "data": {
      "text/markdown": [
       "<br><span style=\"color:#529c83\">Sample</span>."
      ],
      "text/plain": [
       "<IPython.core.display.Markdown object>"
      ]
     },
     "metadata": {},
     "output_type": "display_data"
    },
    {
     "data": {
      "text/markdown": [
       "<br><span style=\"color:#cbd756\">Sample</span>."
      ],
      "text/plain": [
       "<IPython.core.display.Markdown object>"
      ]
     },
     "metadata": {},
     "output_type": "display_data"
    },
    {
     "data": {
      "text/markdown": [
       "<br><span style=\"color:#1e997d\">Sample</span>."
      ],
      "text/plain": [
       "<IPython.core.display.Markdown object>"
      ]
     },
     "metadata": {},
     "output_type": "display_data"
    },
    {
     "data": {
      "text/markdown": [
       "<br><span style=\"color:#a770c9\">Sample</span>."
      ],
      "text/plain": [
       "<IPython.core.display.Markdown object>"
      ]
     },
     "metadata": {},
     "output_type": "display_data"
    },
    {
     "data": {
      "text/markdown": [
       "<br><span style=\"color:#93c197\">Sample</span>."
      ],
      "text/plain": [
       "<IPython.core.display.Markdown object>"
      ]
     },
     "metadata": {},
     "output_type": "display_data"
    },
    {
     "data": {
      "text/markdown": [
       "<br><span style=\"color:#ea7c15\">Sample</span>."
      ],
      "text/plain": [
       "<IPython.core.display.Markdown object>"
      ]
     },
     "metadata": {},
     "output_type": "display_data"
    },
    {
     "data": {
      "text/markdown": [
       "<br><span style=\"color:#d5ed36\">Sample</span>."
      ],
      "text/plain": [
       "<IPython.core.display.Markdown object>"
      ]
     },
     "metadata": {},
     "output_type": "display_data"
    },
    {
     "data": {
      "text/markdown": [
       "<br><span style=\"color:#796107\">Sample</span>."
      ],
      "text/plain": [
       "<IPython.core.display.Markdown object>"
      ]
     },
     "metadata": {},
     "output_type": "display_data"
    },
    {
     "data": {
      "text/markdown": [
       "<br><span style=\"color:#4d44dd\">Sample</span>."
      ],
      "text/plain": [
       "<IPython.core.display.Markdown object>"
      ]
     },
     "metadata": {},
     "output_type": "display_data"
    },
    {
     "data": {
      "text/markdown": [
       "<br><span style=\"color:#392077\">Sample</span>."
      ],
      "text/plain": [
       "<IPython.core.display.Markdown object>"
      ]
     },
     "metadata": {},
     "output_type": "display_data"
    },
    {
     "data": {
      "text/markdown": [
       "<br><span style=\"color:#4f42e6\">Sample</span>."
      ],
      "text/plain": [
       "<IPython.core.display.Markdown object>"
      ]
     },
     "metadata": {},
     "output_type": "display_data"
    },
    {
     "data": {
      "text/markdown": [
       "<br><span style=\"color:#852224\">Sample</span>."
      ],
      "text/plain": [
       "<IPython.core.display.Markdown object>"
      ]
     },
     "metadata": {},
     "output_type": "display_data"
    },
    {
     "data": {
      "text/markdown": [
       "<br><span style=\"color:#7e4166\">Sample</span>."
      ],
      "text/plain": [
       "<IPython.core.display.Markdown object>"
      ]
     },
     "metadata": {},
     "output_type": "display_data"
    },
    {
     "data": {
      "text/markdown": [
       "<br><span style=\"color:#c513bf\">Sample</span>."
      ],
      "text/plain": [
       "<IPython.core.display.Markdown object>"
      ]
     },
     "metadata": {},
     "output_type": "display_data"
    },
    {
     "data": {
      "text/markdown": [
       "<br><span style=\"color:#e3a472\">Sample</span>."
      ],
      "text/plain": [
       "<IPython.core.display.Markdown object>"
      ]
     },
     "metadata": {},
     "output_type": "display_data"
    },
    {
     "data": {
      "text/markdown": [
       "<br><span style=\"color:#9abb28\">Sample</span>."
      ],
      "text/plain": [
       "<IPython.core.display.Markdown object>"
      ]
     },
     "metadata": {},
     "output_type": "display_data"
    },
    {
     "data": {
      "text/markdown": [
       "<br><span style=\"color:#e2e525\">Sample</span>."
      ],
      "text/plain": [
       "<IPython.core.display.Markdown object>"
      ]
     },
     "metadata": {},
     "output_type": "display_data"
    },
    {
     "data": {
      "text/markdown": [
       "<br><span style=\"color:#dfdf6c\">Sample</span>."
      ],
      "text/plain": [
       "<IPython.core.display.Markdown object>"
      ]
     },
     "metadata": {},
     "output_type": "display_data"
    },
    {
     "data": {
      "text/markdown": [
       "<br><span style=\"color:#f57483\">Sample</span>."
      ],
      "text/plain": [
       "<IPython.core.display.Markdown object>"
      ]
     },
     "metadata": {},
     "output_type": "display_data"
    },
    {
     "data": {
      "text/markdown": [
       "<br><span style=\"color:#8d9793\">Sample</span>."
      ],
      "text/plain": [
       "<IPython.core.display.Markdown object>"
      ]
     },
     "metadata": {},
     "output_type": "display_data"
    },
    {
     "data": {
      "text/markdown": [
       "<br><span style=\"color:#d0c1a2\">Sample</span>."
      ],
      "text/plain": [
       "<IPython.core.display.Markdown object>"
      ]
     },
     "metadata": {},
     "output_type": "display_data"
    },
    {
     "data": {
      "text/markdown": [
       "<br><span style=\"color:#17c03d\">Sample</span>."
      ],
      "text/plain": [
       "<IPython.core.display.Markdown object>"
      ]
     },
     "metadata": {},
     "output_type": "display_data"
    },
    {
     "data": {
      "text/markdown": [
       "<br><span style=\"color:#dbd993\">Sample</span>."
      ],
      "text/plain": [
       "<IPython.core.display.Markdown object>"
      ]
     },
     "metadata": {},
     "output_type": "display_data"
    },
    {
     "data": {
      "text/markdown": [
       "<br><span style=\"color:#b76008\">Sample</span>."
      ],
      "text/plain": [
       "<IPython.core.display.Markdown object>"
      ]
     },
     "metadata": {},
     "output_type": "display_data"
    },
    {
     "data": {
      "text/markdown": [
       "<br><span style=\"color:#835bc7\">Sample</span>."
      ],
      "text/plain": [
       "<IPython.core.display.Markdown object>"
      ]
     },
     "metadata": {},
     "output_type": "display_data"
    },
    {
     "data": {
      "text/markdown": [
       "<br><span style=\"color:#7dcae9\">Sample</span>."
      ],
      "text/plain": [
       "<IPython.core.display.Markdown object>"
      ]
     },
     "metadata": {},
     "output_type": "display_data"
    },
    {
     "data": {
      "text/markdown": [
       "<br><span style=\"color:#da539e\">Sample</span>."
      ],
      "text/plain": [
       "<IPython.core.display.Markdown object>"
      ]
     },
     "metadata": {},
     "output_type": "display_data"
    },
    {
     "data": {
      "text/markdown": [
       "<br><span style=\"color:#d0e354\">Sample</span>."
      ],
      "text/plain": [
       "<IPython.core.display.Markdown object>"
      ]
     },
     "metadata": {},
     "output_type": "display_data"
    },
    {
     "data": {
      "text/markdown": [
       "<br><span style=\"color:#80d0d4\">Sample</span>."
      ],
      "text/plain": [
       "<IPython.core.display.Markdown object>"
      ]
     },
     "metadata": {},
     "output_type": "display_data"
    },
    {
     "data": {
      "text/markdown": [
       "<br><span style=\"color:#483696\">Sample</span>."
      ],
      "text/plain": [
       "<IPython.core.display.Markdown object>"
      ]
     },
     "metadata": {},
     "output_type": "display_data"
    },
    {
     "data": {
      "text/markdown": [
       "<br><span style=\"color:#e24644\">Sample</span>."
      ],
      "text/plain": [
       "<IPython.core.display.Markdown object>"
      ]
     },
     "metadata": {},
     "output_type": "display_data"
    },
    {
     "data": {
      "text/markdown": [
       "<br><span style=\"color:#76acf6\">Sample</span>."
      ],
      "text/plain": [
       "<IPython.core.display.Markdown object>"
      ]
     },
     "metadata": {},
     "output_type": "display_data"
    },
    {
     "data": {
      "text/markdown": [
       "<br><span style=\"color:#d0394b\">Sample</span>."
      ],
      "text/plain": [
       "<IPython.core.display.Markdown object>"
      ]
     },
     "metadata": {},
     "output_type": "display_data"
    },
    {
     "data": {
      "text/markdown": [
       "<br><span style=\"color:#e427a6\">Sample</span>."
      ],
      "text/plain": [
       "<IPython.core.display.Markdown object>"
      ]
     },
     "metadata": {},
     "output_type": "display_data"
    },
    {
     "data": {
      "text/markdown": [
       "<br><span style=\"color:#bc4463\">Sample</span>."
      ],
      "text/plain": [
       "<IPython.core.display.Markdown object>"
      ]
     },
     "metadata": {},
     "output_type": "display_data"
    },
    {
     "data": {
      "text/markdown": [
       "<br><span style=\"color:#e303a2\">Sample</span>."
      ],
      "text/plain": [
       "<IPython.core.display.Markdown object>"
      ]
     },
     "metadata": {},
     "output_type": "display_data"
    },
    {
     "data": {
      "text/markdown": [
       "<br><span style=\"color:#920309\">Sample</span>."
      ],
      "text/plain": [
       "<IPython.core.display.Markdown object>"
      ]
     },
     "metadata": {},
     "output_type": "display_data"
    },
    {
     "data": {
      "text/markdown": [
       "<br><span style=\"color:#0839ea\">Sample</span>."
      ],
      "text/plain": [
       "<IPython.core.display.Markdown object>"
      ]
     },
     "metadata": {},
     "output_type": "display_data"
    },
    {
     "data": {
      "text/markdown": [
       "<br><span style=\"color:#2c36a1\">Sample</span>."
      ],
      "text/plain": [
       "<IPython.core.display.Markdown object>"
      ]
     },
     "metadata": {},
     "output_type": "display_data"
    },
    {
     "data": {
      "text/markdown": [
       "<br><span style=\"color:#f18380\">Sample</span>."
      ],
      "text/plain": [
       "<IPython.core.display.Markdown object>"
      ]
     },
     "metadata": {},
     "output_type": "display_data"
    },
    {
     "data": {
      "text/markdown": [
       "<br><span style=\"color:#1805bc\">Sample</span>."
      ],
      "text/plain": [
       "<IPython.core.display.Markdown object>"
      ]
     },
     "metadata": {},
     "output_type": "display_data"
    },
    {
     "data": {
      "text/markdown": [
       "<br><span style=\"color:#c4f325\">Sample</span>."
      ],
      "text/plain": [
       "<IPython.core.display.Markdown object>"
      ]
     },
     "metadata": {},
     "output_type": "display_data"
    },
    {
     "data": {
      "text/markdown": [
       "<br><span style=\"color:#457672\">Sample</span>."
      ],
      "text/plain": [
       "<IPython.core.display.Markdown object>"
      ]
     },
     "metadata": {},
     "output_type": "display_data"
    },
    {
     "data": {
      "text/markdown": [
       "<br><span style=\"color:#6ee536\">Sample</span>."
      ],
      "text/plain": [
       "<IPython.core.display.Markdown object>"
      ]
     },
     "metadata": {},
     "output_type": "display_data"
    },
    {
     "data": {
      "text/markdown": [
       "<br><span style=\"color:#f56da4\">Sample</span>."
      ],
      "text/plain": [
       "<IPython.core.display.Markdown object>"
      ]
     },
     "metadata": {},
     "output_type": "display_data"
    },
    {
     "data": {
      "text/markdown": [
       "<br><span style=\"color:#0b95aa\">Sample</span>."
      ],
      "text/plain": [
       "<IPython.core.display.Markdown object>"
      ]
     },
     "metadata": {},
     "output_type": "display_data"
    },
    {
     "data": {
      "text/markdown": [
       "<br><span style=\"color:#02c6e5\">Sample</span>."
      ],
      "text/plain": [
       "<IPython.core.display.Markdown object>"
      ]
     },
     "metadata": {},
     "output_type": "display_data"
    },
    {
     "data": {
      "text/markdown": [
       "<br><span style=\"color:#67ce2f\">Sample</span>."
      ],
      "text/plain": [
       "<IPython.core.display.Markdown object>"
      ]
     },
     "metadata": {},
     "output_type": "display_data"
    },
    {
     "data": {
      "text/markdown": [
       "<br><span style=\"color:#44bc19\">Sample</span>."
      ],
      "text/plain": [
       "<IPython.core.display.Markdown object>"
      ]
     },
     "metadata": {},
     "output_type": "display_data"
    },
    {
     "data": {
      "text/markdown": [
       "<br><span style=\"color:#358941\">Sample</span>."
      ],
      "text/plain": [
       "<IPython.core.display.Markdown object>"
      ]
     },
     "metadata": {},
     "output_type": "display_data"
    },
    {
     "data": {
      "text/markdown": [
       "<br><span style=\"color:#bf8007\">Sample</span>."
      ],
      "text/plain": [
       "<IPython.core.display.Markdown object>"
      ]
     },
     "metadata": {},
     "output_type": "display_data"
    },
    {
     "data": {
      "text/markdown": [
       "<br><span style=\"color:#8a9e27\">Sample</span>."
      ],
      "text/plain": [
       "<IPython.core.display.Markdown object>"
      ]
     },
     "metadata": {},
     "output_type": "display_data"
    },
    {
     "data": {
      "text/markdown": [
       "<br><span style=\"color:#c8c975\">Sample</span>."
      ],
      "text/plain": [
       "<IPython.core.display.Markdown object>"
      ]
     },
     "metadata": {},
     "output_type": "display_data"
    },
    {
     "data": {
      "text/markdown": [
       "<br><span style=\"color:#374b78\">Sample</span>."
      ],
      "text/plain": [
       "<IPython.core.display.Markdown object>"
      ]
     },
     "metadata": {},
     "output_type": "display_data"
    },
    {
     "data": {
      "text/markdown": [
       "<br><span style=\"color:#41f117\">Sample</span>."
      ],
      "text/plain": [
       "<IPython.core.display.Markdown object>"
      ]
     },
     "metadata": {},
     "output_type": "display_data"
    },
    {
     "data": {
      "text/markdown": [
       "<br><span style=\"color:#f2766d\">Sample</span>."
      ],
      "text/plain": [
       "<IPython.core.display.Markdown object>"
      ]
     },
     "metadata": {},
     "output_type": "display_data"
    },
    {
     "data": {
      "text/markdown": [
       "<br><span style=\"color:#331240\">Sample</span>."
      ],
      "text/plain": [
       "<IPython.core.display.Markdown object>"
      ]
     },
     "metadata": {},
     "output_type": "display_data"
    },
    {
     "data": {
      "text/markdown": [
       "<br><span style=\"color:#89d7a9\">Sample</span>."
      ],
      "text/plain": [
       "<IPython.core.display.Markdown object>"
      ]
     },
     "metadata": {},
     "output_type": "display_data"
    },
    {
     "data": {
      "text/markdown": [
       "<br><span style=\"color:#fc8694\">Sample</span>."
      ],
      "text/plain": [
       "<IPython.core.display.Markdown object>"
      ]
     },
     "metadata": {},
     "output_type": "display_data"
    },
    {
     "data": {
      "text/markdown": [
       "<br><span style=\"color:#938b50\">Sample</span>."
      ],
      "text/plain": [
       "<IPython.core.display.Markdown object>"
      ]
     },
     "metadata": {},
     "output_type": "display_data"
    },
    {
     "data": {
      "text/markdown": [
       "<br><span style=\"color:#e3f55f\">Sample</span>."
      ],
      "text/plain": [
       "<IPython.core.display.Markdown object>"
      ]
     },
     "metadata": {},
     "output_type": "display_data"
    },
    {
     "data": {
      "text/markdown": [
       "<br><span style=\"color:#209654\">Sample</span>."
      ],
      "text/plain": [
       "<IPython.core.display.Markdown object>"
      ]
     },
     "metadata": {},
     "output_type": "display_data"
    },
    {
     "data": {
      "text/markdown": [
       "<br><span style=\"color:#1a962a\">Sample</span>."
      ],
      "text/plain": [
       "<IPython.core.display.Markdown object>"
      ]
     },
     "metadata": {},
     "output_type": "display_data"
    },
    {
     "data": {
      "text/markdown": [
       "<br><span style=\"color:#859331\">Sample</span>."
      ],
      "text/plain": [
       "<IPython.core.display.Markdown object>"
      ]
     },
     "metadata": {},
     "output_type": "display_data"
    },
    {
     "data": {
      "text/markdown": [
       "<br><span style=\"color:#3096a3\">Sample</span>."
      ],
      "text/plain": [
       "<IPython.core.display.Markdown object>"
      ]
     },
     "metadata": {},
     "output_type": "display_data"
    },
    {
     "data": {
      "text/markdown": [
       "<br><span style=\"color:#a21ec3\">Sample</span>."
      ],
      "text/plain": [
       "<IPython.core.display.Markdown object>"
      ]
     },
     "metadata": {},
     "output_type": "display_data"
    },
    {
     "data": {
      "text/markdown": [
       "<br><span style=\"color:#87edb6\">Sample</span>."
      ],
      "text/plain": [
       "<IPython.core.display.Markdown object>"
      ]
     },
     "metadata": {},
     "output_type": "display_data"
    },
    {
     "data": {
      "text/markdown": [
       "<br><span style=\"color:#6a80dd\">Sample</span>."
      ],
      "text/plain": [
       "<IPython.core.display.Markdown object>"
      ]
     },
     "metadata": {},
     "output_type": "display_data"
    },
    {
     "data": {
      "text/markdown": [
       "<br><span style=\"color:#78e480\">Sample</span>."
      ],
      "text/plain": [
       "<IPython.core.display.Markdown object>"
      ]
     },
     "metadata": {},
     "output_type": "display_data"
    },
    {
     "data": {
      "text/markdown": [
       "<br><span style=\"color:#b8d4c9\">Sample</span>."
      ],
      "text/plain": [
       "<IPython.core.display.Markdown object>"
      ]
     },
     "metadata": {},
     "output_type": "display_data"
    },
    {
     "data": {
      "text/markdown": [
       "<br><span style=\"color:#6c2379\">Sample</span>."
      ],
      "text/plain": [
       "<IPython.core.display.Markdown object>"
      ]
     },
     "metadata": {},
     "output_type": "display_data"
    },
    {
     "data": {
      "text/markdown": [
       "<br><span style=\"color:#05b69c\">Sample</span>."
      ],
      "text/plain": [
       "<IPython.core.display.Markdown object>"
      ]
     },
     "metadata": {},
     "output_type": "display_data"
    },
    {
     "data": {
      "text/markdown": [
       "<br><span style=\"color:#60d743\">Sample</span>."
      ],
      "text/plain": [
       "<IPython.core.display.Markdown object>"
      ]
     },
     "metadata": {},
     "output_type": "display_data"
    },
    {
     "data": {
      "text/markdown": [
       "<br><span style=\"color:#a9f244\">Sample</span>."
      ],
      "text/plain": [
       "<IPython.core.display.Markdown object>"
      ]
     },
     "metadata": {},
     "output_type": "display_data"
    },
    {
     "data": {
      "text/markdown": [
       "<br><span style=\"color:#e5aa85\">Sample</span>."
      ],
      "text/plain": [
       "<IPython.core.display.Markdown object>"
      ]
     },
     "metadata": {},
     "output_type": "display_data"
    },
    {
     "data": {
      "text/markdown": [
       "<br><span style=\"color:#bcd4ee\">Sample</span>."
      ],
      "text/plain": [
       "<IPython.core.display.Markdown object>"
      ]
     },
     "metadata": {},
     "output_type": "display_data"
    },
    {
     "data": {
      "text/markdown": [
       "<br><span style=\"color:#11c9fd\">Sample</span>."
      ],
      "text/plain": [
       "<IPython.core.display.Markdown object>"
      ]
     },
     "metadata": {},
     "output_type": "display_data"
    },
    {
     "data": {
      "text/markdown": [
       "<br><span style=\"color:#466cd9\">Sample</span>."
      ],
      "text/plain": [
       "<IPython.core.display.Markdown object>"
      ]
     },
     "metadata": {},
     "output_type": "display_data"
    },
    {
     "data": {
      "text/markdown": [
       "<br><span style=\"color:#578451\">Sample</span>."
      ],
      "text/plain": [
       "<IPython.core.display.Markdown object>"
      ]
     },
     "metadata": {},
     "output_type": "display_data"
    },
    {
     "data": {
      "text/markdown": [
       "<br><span style=\"color:#b0e103\">Sample</span>."
      ],
      "text/plain": [
       "<IPython.core.display.Markdown object>"
      ]
     },
     "metadata": {},
     "output_type": "display_data"
    },
    {
     "data": {
      "text/markdown": [
       "<br><span style=\"color:#971097\">Sample</span>."
      ],
      "text/plain": [
       "<IPython.core.display.Markdown object>"
      ]
     },
     "metadata": {},
     "output_type": "display_data"
    },
    {
     "data": {
      "text/markdown": [
       "<br><span style=\"color:#2eb8aa\">Sample</span>."
      ],
      "text/plain": [
       "<IPython.core.display.Markdown object>"
      ]
     },
     "metadata": {},
     "output_type": "display_data"
    },
    {
     "data": {
      "text/markdown": [
       "<br><span style=\"color:#f832a1\">Sample</span>."
      ],
      "text/plain": [
       "<IPython.core.display.Markdown object>"
      ]
     },
     "metadata": {},
     "output_type": "display_data"
    },
    {
     "data": {
      "text/markdown": [
       "<br><span style=\"color:#d5237c\">Sample</span>."
      ],
      "text/plain": [
       "<IPython.core.display.Markdown object>"
      ]
     },
     "metadata": {},
     "output_type": "display_data"
    },
    {
     "data": {
      "text/markdown": [
       "<br><span style=\"color:#6a1c7d\">Sample</span>."
      ],
      "text/plain": [
       "<IPython.core.display.Markdown object>"
      ]
     },
     "metadata": {},
     "output_type": "display_data"
    },
    {
     "data": {
      "text/markdown": [
       "<br><span style=\"color:#187350\">Sample</span>."
      ],
      "text/plain": [
       "<IPython.core.display.Markdown object>"
      ]
     },
     "metadata": {},
     "output_type": "display_data"
    },
    {
     "data": {
      "text/markdown": [
       "<br><span style=\"color:#4dfddc\">Sample</span>."
      ],
      "text/plain": [
       "<IPython.core.display.Markdown object>"
      ]
     },
     "metadata": {},
     "output_type": "display_data"
    },
    {
     "data": {
      "text/markdown": [
       "<br><span style=\"color:#d541f8\">Sample</span>."
      ],
      "text/plain": [
       "<IPython.core.display.Markdown object>"
      ]
     },
     "metadata": {},
     "output_type": "display_data"
    },
    {
     "data": {
      "text/markdown": [
       "<br><span style=\"color:#71f0bd\">Sample</span>."
      ],
      "text/plain": [
       "<IPython.core.display.Markdown object>"
      ]
     },
     "metadata": {},
     "output_type": "display_data"
    },
    {
     "data": {
      "text/markdown": [
       "<br><span style=\"color:#bb1c85\">Sample</span>."
      ],
      "text/plain": [
       "<IPython.core.display.Markdown object>"
      ]
     },
     "metadata": {},
     "output_type": "display_data"
    },
    {
     "data": {
      "text/markdown": [
       "<br><span style=\"color:#fa69ab\">Sample</span>."
      ],
      "text/plain": [
       "<IPython.core.display.Markdown object>"
      ]
     },
     "metadata": {},
     "output_type": "display_data"
    },
    {
     "data": {
      "text/markdown": [
       "<br><span style=\"color:#646fcf\">Sample</span>."
      ],
      "text/plain": [
       "<IPython.core.display.Markdown object>"
      ]
     },
     "metadata": {},
     "output_type": "display_data"
    },
    {
     "data": {
      "text/markdown": [
       "<br><span style=\"color:#7b81bf\">Sample</span>."
      ],
      "text/plain": [
       "<IPython.core.display.Markdown object>"
      ]
     },
     "metadata": {},
     "output_type": "display_data"
    },
    {
     "data": {
      "text/markdown": [
       "<br><span style=\"color:#9fc24e\">Sample</span>."
      ],
      "text/plain": [
       "<IPython.core.display.Markdown object>"
      ]
     },
     "metadata": {},
     "output_type": "display_data"
    },
    {
     "data": {
      "text/markdown": [
       "<br><span style=\"color:#41d51e\">Sample</span>."
      ],
      "text/plain": [
       "<IPython.core.display.Markdown object>"
      ]
     },
     "metadata": {},
     "output_type": "display_data"
    },
    {
     "data": {
      "text/markdown": [
       "<br><span style=\"color:#32f74f\">Sample</span>."
      ],
      "text/plain": [
       "<IPython.core.display.Markdown object>"
      ]
     },
     "metadata": {},
     "output_type": "display_data"
    },
    {
     "data": {
      "text/markdown": [
       "<br><span style=\"color:#4f6b09\">Sample</span>."
      ],
      "text/plain": [
       "<IPython.core.display.Markdown object>"
      ]
     },
     "metadata": {},
     "output_type": "display_data"
    },
    {
     "data": {
      "text/markdown": [
       "<br><span style=\"color:#ad1f15\">Sample</span>."
      ],
      "text/plain": [
       "<IPython.core.display.Markdown object>"
      ]
     },
     "metadata": {},
     "output_type": "display_data"
    },
    {
     "data": {
      "text/markdown": [
       "<br><span style=\"color:#3666f4\">Sample</span>."
      ],
      "text/plain": [
       "<IPython.core.display.Markdown object>"
      ]
     },
     "metadata": {},
     "output_type": "display_data"
    },
    {
     "data": {
      "text/markdown": [
       "<br><span style=\"color:#d2d182\">Sample</span>."
      ],
      "text/plain": [
       "<IPython.core.display.Markdown object>"
      ]
     },
     "metadata": {},
     "output_type": "display_data"
    },
    {
     "data": {
      "text/markdown": [
       "<br><span style=\"color:#966b14\">Sample</span>."
      ],
      "text/plain": [
       "<IPython.core.display.Markdown object>"
      ]
     },
     "metadata": {},
     "output_type": "display_data"
    },
    {
     "data": {
      "text/markdown": [
       "<br><span style=\"color:#a37543\">Sample</span>."
      ],
      "text/plain": [
       "<IPython.core.display.Markdown object>"
      ]
     },
     "metadata": {},
     "output_type": "display_data"
    },
    {
     "data": {
      "text/markdown": [
       "<br><span style=\"color:#9ef2c1\">Sample</span>."
      ],
      "text/plain": [
       "<IPython.core.display.Markdown object>"
      ]
     },
     "metadata": {},
     "output_type": "display_data"
    },
    {
     "data": {
      "text/markdown": [
       "<br><span style=\"color:#3a74dc\">Sample</span>."
      ],
      "text/plain": [
       "<IPython.core.display.Markdown object>"
      ]
     },
     "metadata": {},
     "output_type": "display_data"
    },
    {
     "data": {
      "text/markdown": [
       "<br><span style=\"color:#8350bb\">Sample</span>."
      ],
      "text/plain": [
       "<IPython.core.display.Markdown object>"
      ]
     },
     "metadata": {},
     "output_type": "display_data"
    },
    {
     "data": {
      "text/markdown": [
       "<br><span style=\"color:#ccf118\">Sample</span>."
      ],
      "text/plain": [
       "<IPython.core.display.Markdown object>"
      ]
     },
     "metadata": {},
     "output_type": "display_data"
    },
    {
     "data": {
      "text/markdown": [
       "<br><span style=\"color:#cbc051\">Sample</span>."
      ],
      "text/plain": [
       "<IPython.core.display.Markdown object>"
      ]
     },
     "metadata": {},
     "output_type": "display_data"
    },
    {
     "data": {
      "text/markdown": [
       "<br><span style=\"color:#d3722e\">Sample</span>."
      ],
      "text/plain": [
       "<IPython.core.display.Markdown object>"
      ]
     },
     "metadata": {},
     "output_type": "display_data"
    },
    {
     "data": {
      "text/markdown": [
       "<br><span style=\"color:#d1da5c\">Sample</span>."
      ],
      "text/plain": [
       "<IPython.core.display.Markdown object>"
      ]
     },
     "metadata": {},
     "output_type": "display_data"
    },
    {
     "data": {
      "text/markdown": [
       "<br><span style=\"color:#4ca8d8\">Sample</span>."
      ],
      "text/plain": [
       "<IPython.core.display.Markdown object>"
      ]
     },
     "metadata": {},
     "output_type": "display_data"
    },
    {
     "data": {
      "text/markdown": [
       "<br><span style=\"color:#a1ef93\">Sample</span>."
      ],
      "text/plain": [
       "<IPython.core.display.Markdown object>"
      ]
     },
     "metadata": {},
     "output_type": "display_data"
    },
    {
     "data": {
      "text/markdown": [
       "<br><span style=\"color:#95c925\">Sample</span>."
      ],
      "text/plain": [
       "<IPython.core.display.Markdown object>"
      ]
     },
     "metadata": {},
     "output_type": "display_data"
    },
    {
     "data": {
      "text/markdown": [
       "<br><span style=\"color:#36acad\">Sample</span>."
      ],
      "text/plain": [
       "<IPython.core.display.Markdown object>"
      ]
     },
     "metadata": {},
     "output_type": "display_data"
    },
    {
     "data": {
      "text/markdown": [
       "<br><span style=\"color:#a354e0\">Sample</span>."
      ],
      "text/plain": [
       "<IPython.core.display.Markdown object>"
      ]
     },
     "metadata": {},
     "output_type": "display_data"
    },
    {
     "data": {
      "text/markdown": [
       "<br><span style=\"color:#1d4551\">Sample</span>."
      ],
      "text/plain": [
       "<IPython.core.display.Markdown object>"
      ]
     },
     "metadata": {},
     "output_type": "display_data"
    },
    {
     "data": {
      "text/markdown": [
       "<br><span style=\"color:#7dc3f9\">Sample</span>."
      ],
      "text/plain": [
       "<IPython.core.display.Markdown object>"
      ]
     },
     "metadata": {},
     "output_type": "display_data"
    },
    {
     "data": {
      "text/markdown": [
       "<br><span style=\"color:#e9dcfe\">Sample</span>."
      ],
      "text/plain": [
       "<IPython.core.display.Markdown object>"
      ]
     },
     "metadata": {},
     "output_type": "display_data"
    },
    {
     "data": {
      "text/markdown": [
       "<br><span style=\"color:#7fbda8\">Sample</span>."
      ],
      "text/plain": [
       "<IPython.core.display.Markdown object>"
      ]
     },
     "metadata": {},
     "output_type": "display_data"
    },
    {
     "data": {
      "text/markdown": [
       "<br><span style=\"color:#fba3b9\">Sample</span>."
      ],
      "text/plain": [
       "<IPython.core.display.Markdown object>"
      ]
     },
     "metadata": {},
     "output_type": "display_data"
    },
    {
     "data": {
      "text/markdown": [
       "<br><span style=\"color:#503ced\">Sample</span>."
      ],
      "text/plain": [
       "<IPython.core.display.Markdown object>"
      ]
     },
     "metadata": {},
     "output_type": "display_data"
    },
    {
     "data": {
      "text/markdown": [
       "<br><span style=\"color:#038759\">Sample</span>."
      ],
      "text/plain": [
       "<IPython.core.display.Markdown object>"
      ]
     },
     "metadata": {},
     "output_type": "display_data"
    },
    {
     "data": {
      "text/markdown": [
       "<br><span style=\"color:#3efc7e\">Sample</span>."
      ],
      "text/plain": [
       "<IPython.core.display.Markdown object>"
      ]
     },
     "metadata": {},
     "output_type": "display_data"
    },
    {
     "data": {
      "text/markdown": [
       "<br><span style=\"color:#06b371\">Sample</span>."
      ],
      "text/plain": [
       "<IPython.core.display.Markdown object>"
      ]
     },
     "metadata": {},
     "output_type": "display_data"
    },
    {
     "data": {
      "text/markdown": [
       "<br><span style=\"color:#cededd\">Sample</span>."
      ],
      "text/plain": [
       "<IPython.core.display.Markdown object>"
      ]
     },
     "metadata": {},
     "output_type": "display_data"
    },
    {
     "data": {
      "text/markdown": [
       "<br><span style=\"color:#b9eaca\">Sample</span>."
      ],
      "text/plain": [
       "<IPython.core.display.Markdown object>"
      ]
     },
     "metadata": {},
     "output_type": "display_data"
    },
    {
     "data": {
      "text/markdown": [
       "<br><span style=\"color:#d4bd6d\">Sample</span>."
      ],
      "text/plain": [
       "<IPython.core.display.Markdown object>"
      ]
     },
     "metadata": {},
     "output_type": "display_data"
    },
    {
     "data": {
      "text/markdown": [
       "<br><span style=\"color:#fa8adc\">Sample</span>."
      ],
      "text/plain": [
       "<IPython.core.display.Markdown object>"
      ]
     },
     "metadata": {},
     "output_type": "display_data"
    },
    {
     "data": {
      "text/markdown": [
       "<br><span style=\"color:#7b88b0\">Sample</span>."
      ],
      "text/plain": [
       "<IPython.core.display.Markdown object>"
      ]
     },
     "metadata": {},
     "output_type": "display_data"
    },
    {
     "data": {
      "text/markdown": [
       "<br><span style=\"color:#37766d\">Sample</span>."
      ],
      "text/plain": [
       "<IPython.core.display.Markdown object>"
      ]
     },
     "metadata": {},
     "output_type": "display_data"
    },
    {
     "data": {
      "text/markdown": [
       "<br><span style=\"color:#2ace21\">Sample</span>."
      ],
      "text/plain": [
       "<IPython.core.display.Markdown object>"
      ]
     },
     "metadata": {},
     "output_type": "display_data"
    },
    {
     "data": {
      "text/markdown": [
       "<br><span style=\"color:#71b6b3\">Sample</span>."
      ],
      "text/plain": [
       "<IPython.core.display.Markdown object>"
      ]
     },
     "metadata": {},
     "output_type": "display_data"
    },
    {
     "data": {
      "text/markdown": [
       "<br><span style=\"color:#8dc626\">Sample</span>."
      ],
      "text/plain": [
       "<IPython.core.display.Markdown object>"
      ]
     },
     "metadata": {},
     "output_type": "display_data"
    },
    {
     "data": {
      "text/markdown": [
       "<br><span style=\"color:#aee831\">Sample</span>."
      ],
      "text/plain": [
       "<IPython.core.display.Markdown object>"
      ]
     },
     "metadata": {},
     "output_type": "display_data"
    },
    {
     "data": {
      "text/markdown": [
       "<br><span style=\"color:#7067c1\">Sample</span>."
      ],
      "text/plain": [
       "<IPython.core.display.Markdown object>"
      ]
     },
     "metadata": {},
     "output_type": "display_data"
    },
    {
     "data": {
      "text/markdown": [
       "<br><span style=\"color:#a41f34\">Sample</span>."
      ],
      "text/plain": [
       "<IPython.core.display.Markdown object>"
      ]
     },
     "metadata": {},
     "output_type": "display_data"
    },
    {
     "data": {
      "text/markdown": [
       "<br><span style=\"color:#e9dfe3\">Sample</span>."
      ],
      "text/plain": [
       "<IPython.core.display.Markdown object>"
      ]
     },
     "metadata": {},
     "output_type": "display_data"
    },
    {
     "data": {
      "text/markdown": [
       "<br><span style=\"color:#274a4a\">Sample</span>."
      ],
      "text/plain": [
       "<IPython.core.display.Markdown object>"
      ]
     },
     "metadata": {},
     "output_type": "display_data"
    },
    {
     "data": {
      "text/markdown": [
       "<br><span style=\"color:#cbb84b\">Sample</span>."
      ],
      "text/plain": [
       "<IPython.core.display.Markdown object>"
      ]
     },
     "metadata": {},
     "output_type": "display_data"
    },
    {
     "data": {
      "text/markdown": [
       "<br><span style=\"color:#78f643\">Sample</span>."
      ],
      "text/plain": [
       "<IPython.core.display.Markdown object>"
      ]
     },
     "metadata": {},
     "output_type": "display_data"
    },
    {
     "data": {
      "text/markdown": [
       "<br><span style=\"color:#422adb\">Sample</span>."
      ],
      "text/plain": [
       "<IPython.core.display.Markdown object>"
      ]
     },
     "metadata": {},
     "output_type": "display_data"
    },
    {
     "data": {
      "text/markdown": [
       "<br><span style=\"color:#bf8124\">Sample</span>."
      ],
      "text/plain": [
       "<IPython.core.display.Markdown object>"
      ]
     },
     "metadata": {},
     "output_type": "display_data"
    },
    {
     "data": {
      "text/markdown": [
       "<br><span style=\"color:#5d6545\">Sample</span>."
      ],
      "text/plain": [
       "<IPython.core.display.Markdown object>"
      ]
     },
     "metadata": {},
     "output_type": "display_data"
    },
    {
     "data": {
      "text/markdown": [
       "<br><span style=\"color:#280b02\">Sample</span>."
      ],
      "text/plain": [
       "<IPython.core.display.Markdown object>"
      ]
     },
     "metadata": {},
     "output_type": "display_data"
    },
    {
     "data": {
      "text/markdown": [
       "<br><span style=\"color:#d94ae8\">Sample</span>."
      ],
      "text/plain": [
       "<IPython.core.display.Markdown object>"
      ]
     },
     "metadata": {},
     "output_type": "display_data"
    },
    {
     "data": {
      "text/markdown": [
       "<br><span style=\"color:#85d646\">Sample</span>."
      ],
      "text/plain": [
       "<IPython.core.display.Markdown object>"
      ]
     },
     "metadata": {},
     "output_type": "display_data"
    },
    {
     "data": {
      "text/markdown": [
       "<br><span style=\"color:#1bdc35\">Sample</span>."
      ],
      "text/plain": [
       "<IPython.core.display.Markdown object>"
      ]
     },
     "metadata": {},
     "output_type": "display_data"
    },
    {
     "data": {
      "text/markdown": [
       "<br><span style=\"color:#bddcfe\">Sample</span>."
      ],
      "text/plain": [
       "<IPython.core.display.Markdown object>"
      ]
     },
     "metadata": {},
     "output_type": "display_data"
    },
    {
     "data": {
      "text/markdown": [
       "<br><span style=\"color:#951d66\">Sample</span>."
      ],
      "text/plain": [
       "<IPython.core.display.Markdown object>"
      ]
     },
     "metadata": {},
     "output_type": "display_data"
    },
    {
     "data": {
      "text/markdown": [
       "<br><span style=\"color:#d51e73\">Sample</span>."
      ],
      "text/plain": [
       "<IPython.core.display.Markdown object>"
      ]
     },
     "metadata": {},
     "output_type": "display_data"
    },
    {
     "data": {
      "text/markdown": [
       "<br><span style=\"color:#803a39\">Sample</span>."
      ],
      "text/plain": [
       "<IPython.core.display.Markdown object>"
      ]
     },
     "metadata": {},
     "output_type": "display_data"
    },
    {
     "data": {
      "text/markdown": [
       "<br><span style=\"color:#6a1041\">Sample</span>."
      ],
      "text/plain": [
       "<IPython.core.display.Markdown object>"
      ]
     },
     "metadata": {},
     "output_type": "display_data"
    },
    {
     "data": {
      "text/markdown": [
       "<br><span style=\"color:#82890b\">Sample</span>."
      ],
      "text/plain": [
       "<IPython.core.display.Markdown object>"
      ]
     },
     "metadata": {},
     "output_type": "display_data"
    },
    {
     "data": {
      "text/markdown": [
       "<br><span style=\"color:#9b6e10\">Sample</span>."
      ],
      "text/plain": [
       "<IPython.core.display.Markdown object>"
      ]
     },
     "metadata": {},
     "output_type": "display_data"
    },
    {
     "data": {
      "text/markdown": [
       "<br><span style=\"color:#31c5e9\">Sample</span>."
      ],
      "text/plain": [
       "<IPython.core.display.Markdown object>"
      ]
     },
     "metadata": {},
     "output_type": "display_data"
    },
    {
     "data": {
      "text/markdown": [
       "<br><span style=\"color:#7100ce\">Sample</span>."
      ],
      "text/plain": [
       "<IPython.core.display.Markdown object>"
      ]
     },
     "metadata": {},
     "output_type": "display_data"
    },
    {
     "data": {
      "text/markdown": [
       "<br><span style=\"color:#7d8c23\">Sample</span>."
      ],
      "text/plain": [
       "<IPython.core.display.Markdown object>"
      ]
     },
     "metadata": {},
     "output_type": "display_data"
    },
    {
     "data": {
      "text/markdown": [
       "<br><span style=\"color:#1c8c69\">Sample</span>."
      ],
      "text/plain": [
       "<IPython.core.display.Markdown object>"
      ]
     },
     "metadata": {},
     "output_type": "display_data"
    },
    {
     "data": {
      "text/markdown": [
       "<br><span style=\"color:#87f0ba\">Sample</span>."
      ],
      "text/plain": [
       "<IPython.core.display.Markdown object>"
      ]
     },
     "metadata": {},
     "output_type": "display_data"
    },
    {
     "data": {
      "text/markdown": [
       "<br><span style=\"color:#3971bd\">Sample</span>."
      ],
      "text/plain": [
       "<IPython.core.display.Markdown object>"
      ]
     },
     "metadata": {},
     "output_type": "display_data"
    },
    {
     "data": {
      "text/markdown": [
       "<br><span style=\"color:#3c0405\">Sample</span>."
      ],
      "text/plain": [
       "<IPython.core.display.Markdown object>"
      ]
     },
     "metadata": {},
     "output_type": "display_data"
    },
    {
     "data": {
      "text/markdown": [
       "<br><span style=\"color:#cb28e5\">Sample</span>."
      ],
      "text/plain": [
       "<IPython.core.display.Markdown object>"
      ]
     },
     "metadata": {},
     "output_type": "display_data"
    },
    {
     "data": {
      "text/markdown": [
       "<br><span style=\"color:#282d76\">Sample</span>."
      ],
      "text/plain": [
       "<IPython.core.display.Markdown object>"
      ]
     },
     "metadata": {},
     "output_type": "display_data"
    },
    {
     "data": {
      "text/markdown": [
       "<br><span style=\"color:#161a9c\">Sample</span>."
      ],
      "text/plain": [
       "<IPython.core.display.Markdown object>"
      ]
     },
     "metadata": {},
     "output_type": "display_data"
    },
    {
     "data": {
      "text/markdown": [
       "<br><span style=\"color:#d9789e\">Sample</span>."
      ],
      "text/plain": [
       "<IPython.core.display.Markdown object>"
      ]
     },
     "metadata": {},
     "output_type": "display_data"
    },
    {
     "data": {
      "text/markdown": [
       "<br><span style=\"color:#8d9af4\">Sample</span>."
      ],
      "text/plain": [
       "<IPython.core.display.Markdown object>"
      ]
     },
     "metadata": {},
     "output_type": "display_data"
    },
    {
     "data": {
      "text/markdown": [
       "<br><span style=\"color:#acf80c\">Sample</span>."
      ],
      "text/plain": [
       "<IPython.core.display.Markdown object>"
      ]
     },
     "metadata": {},
     "output_type": "display_data"
    },
    {
     "data": {
      "text/markdown": [
       "<br><span style=\"color:#91332f\">Sample</span>."
      ],
      "text/plain": [
       "<IPython.core.display.Markdown object>"
      ]
     },
     "metadata": {},
     "output_type": "display_data"
    },
    {
     "data": {
      "text/markdown": [
       "<br><span style=\"color:#17d31b\">Sample</span>."
      ],
      "text/plain": [
       "<IPython.core.display.Markdown object>"
      ]
     },
     "metadata": {},
     "output_type": "display_data"
    },
    {
     "data": {
      "text/markdown": [
       "<br><span style=\"color:#076671\">Sample</span>."
      ],
      "text/plain": [
       "<IPython.core.display.Markdown object>"
      ]
     },
     "metadata": {},
     "output_type": "display_data"
    },
    {
     "data": {
      "text/markdown": [
       "<br><span style=\"color:#ca1a12\">Sample</span>."
      ],
      "text/plain": [
       "<IPython.core.display.Markdown object>"
      ]
     },
     "metadata": {},
     "output_type": "display_data"
    },
    {
     "data": {
      "text/markdown": [
       "<br><span style=\"color:#73d499\">Sample</span>."
      ],
      "text/plain": [
       "<IPython.core.display.Markdown object>"
      ]
     },
     "metadata": {},
     "output_type": "display_data"
    },
    {
     "data": {
      "text/markdown": [
       "<br><span style=\"color:#4ec1f0\">Sample</span>."
      ],
      "text/plain": [
       "<IPython.core.display.Markdown object>"
      ]
     },
     "metadata": {},
     "output_type": "display_data"
    },
    {
     "data": {
      "text/markdown": [
       "<br><span style=\"color:#b7b35c\">Sample</span>."
      ],
      "text/plain": [
       "<IPython.core.display.Markdown object>"
      ]
     },
     "metadata": {},
     "output_type": "display_data"
    },
    {
     "data": {
      "text/markdown": [
       "<br><span style=\"color:#e1a0c5\">Sample</span>."
      ],
      "text/plain": [
       "<IPython.core.display.Markdown object>"
      ]
     },
     "metadata": {},
     "output_type": "display_data"
    },
    {
     "data": {
      "text/markdown": [
       "<br><span style=\"color:#2c93f3\">Sample</span>."
      ],
      "text/plain": [
       "<IPython.core.display.Markdown object>"
      ]
     },
     "metadata": {},
     "output_type": "display_data"
    },
    {
     "data": {
      "text/markdown": [
       "<br><span style=\"color:#de001e\">Sample</span>."
      ],
      "text/plain": [
       "<IPython.core.display.Markdown object>"
      ]
     },
     "metadata": {},
     "output_type": "display_data"
    },
    {
     "data": {
      "text/markdown": [
       "<br><span style=\"color:#0c4a13\">Sample</span>."
      ],
      "text/plain": [
       "<IPython.core.display.Markdown object>"
      ]
     },
     "metadata": {},
     "output_type": "display_data"
    },
    {
     "data": {
      "text/markdown": [
       "<br><span style=\"color:#cb700c\">Sample</span>."
      ],
      "text/plain": [
       "<IPython.core.display.Markdown object>"
      ]
     },
     "metadata": {},
     "output_type": "display_data"
    },
    {
     "data": {
      "text/markdown": [
       "<br><span style=\"color:#e9ff99\">Sample</span>."
      ],
      "text/plain": [
       "<IPython.core.display.Markdown object>"
      ]
     },
     "metadata": {},
     "output_type": "display_data"
    },
    {
     "data": {
      "text/markdown": [
       "<br><span style=\"color:#50ec61\">Sample</span>."
      ],
      "text/plain": [
       "<IPython.core.display.Markdown object>"
      ]
     },
     "metadata": {},
     "output_type": "display_data"
    },
    {
     "data": {
      "text/markdown": [
       "<br><span style=\"color:#a80bd4\">Sample</span>."
      ],
      "text/plain": [
       "<IPython.core.display.Markdown object>"
      ]
     },
     "metadata": {},
     "output_type": "display_data"
    },
    {
     "data": {
      "text/markdown": [
       "<br><span style=\"color:#37ce78\">Sample</span>."
      ],
      "text/plain": [
       "<IPython.core.display.Markdown object>"
      ]
     },
     "metadata": {},
     "output_type": "display_data"
    },
    {
     "data": {
      "text/markdown": [
       "<br><span style=\"color:#38603e\">Sample</span>."
      ],
      "text/plain": [
       "<IPython.core.display.Markdown object>"
      ]
     },
     "metadata": {},
     "output_type": "display_data"
    },
    {
     "data": {
      "text/markdown": [
       "<br><span style=\"color:#4263ce\">Sample</span>."
      ],
      "text/plain": [
       "<IPython.core.display.Markdown object>"
      ]
     },
     "metadata": {},
     "output_type": "display_data"
    }
   ],
   "source": [
    "from IPython.display import Markdown\n",
    "for color in color_dict:\n",
    "    display (Markdown('<br><span style=\"color:' +color['color_code']+ '\">Sample</span>.'))\n",
    "    \n"
   ]
  },
  {
   "cell_type": "code",
   "execution_count": 97,
   "metadata": {},
   "outputs": [
    {
     "name": "stdout",
     "output_type": "stream",
     "text": [
      "(2723, 193)\n"
     ]
    },
    {
     "data": {
      "text/html": [
       "<div>\n",
       "<style scoped>\n",
       "    .dataframe tbody tr th:only-of-type {\n",
       "        vertical-align: middle;\n",
       "    }\n",
       "\n",
       "    .dataframe tbody tr th {\n",
       "        vertical-align: top;\n",
       "    }\n",
       "\n",
       "    .dataframe thead th {\n",
       "        text-align: right;\n",
       "    }\n",
       "</style>\n",
       "<table border=\"1\" class=\"dataframe\">\n",
       "  <thead>\n",
       "    <tr style=\"text-align: right;\">\n",
       "      <th></th>\n",
       "      <th>EntryID</th>\n",
       "      <th>LemmaID</th>\n",
       "      <th>Code</th>\n",
       "      <th>Batch</th>\n",
       "      <th>List</th>\n",
       "      <th>Item</th>\n",
       "      <th>YouTube Video</th>\n",
       "      <th>VimeoVideoHTML</th>\n",
       "      <th>VimeoVideo</th>\n",
       "      <th>SubtLexUSLog10WF</th>\n",
       "      <th>...</th>\n",
       "      <th>SignBankLemmaID</th>\n",
       "      <th>SignBankReferenceID</th>\n",
       "      <th>bglm_aoa</th>\n",
       "      <th>empirical_aoa</th>\n",
       "      <th>HandshapeImage - 100x100</th>\n",
       "      <th>HandshapeImage: URL</th>\n",
       "      <th>Complexity</th>\n",
       "      <th>Parameter.Neighborhood.Density.2.0.1</th>\n",
       "      <th>group_id</th>\n",
       "      <th>color_code</th>\n",
       "    </tr>\n",
       "  </thead>\n",
       "  <tbody>\n",
       "    <tr>\n",
       "      <th>0</th>\n",
       "      <td>1_dollar</td>\n",
       "      <td>1_dollar</td>\n",
       "      <td>C_02_025</td>\n",
       "      <td>C</td>\n",
       "      <td>2.0</td>\n",
       "      <td>25.0</td>\n",
       "      <td>&lt;iframe width=\"280\" height=\"158\" src=\"https://...</td>\n",
       "      <td>&lt;iframe src=https://player.vimeo.com/video/345...</td>\n",
       "      <td>https://player.vimeo.com/video/345587917</td>\n",
       "      <td>NaN</td>\n",
       "      <td>...</td>\n",
       "      <td>1_DOLLAR</td>\n",
       "      <td>1268.0</td>\n",
       "      <td>NaN</td>\n",
       "      <td>NaN</td>\n",
       "      <td>NaN</td>\n",
       "      <td>NaN</td>\n",
       "      <td>2.0</td>\n",
       "      <td>383</td>\n",
       "      <td>1000.0</td>\n",
       "      <td>#cbed9a</td>\n",
       "    </tr>\n",
       "    <tr>\n",
       "      <th>1</th>\n",
       "      <td>5_dollars</td>\n",
       "      <td>5_dollars</td>\n",
       "      <td>B_01_062</td>\n",
       "      <td>B</td>\n",
       "      <td>1.0</td>\n",
       "      <td>62.0</td>\n",
       "      <td>&lt;iframe width=\"280\" height=\"158\" src=\"https://...</td>\n",
       "      <td>&lt;iframe src=https://player.vimeo.com/video/344...</td>\n",
       "      <td>https://player.vimeo.com/video/344399314</td>\n",
       "      <td>NaN</td>\n",
       "      <td>...</td>\n",
       "      <td>5_DOLLAR</td>\n",
       "      <td>2436.0</td>\n",
       "      <td>NaN</td>\n",
       "      <td>NaN</td>\n",
       "      <td>NaN</td>\n",
       "      <td>NaN</td>\n",
       "      <td>1.0</td>\n",
       "      <td>190</td>\n",
       "      <td>0.0</td>\n",
       "      <td>#9da52c</td>\n",
       "    </tr>\n",
       "    <tr>\n",
       "      <th>2</th>\n",
       "      <td>8_hour</td>\n",
       "      <td>8_hour</td>\n",
       "      <td>C_02_055</td>\n",
       "      <td>C</td>\n",
       "      <td>2.0</td>\n",
       "      <td>55.0</td>\n",
       "      <td>&lt;iframe width=\"280\" height=\"158\" src=\"https://...</td>\n",
       "      <td>&lt;iframe src=\"https://player.vimeo.com/video/34...</td>\n",
       "      <td>https://player.vimeo.com/video/345588916</td>\n",
       "      <td>NaN</td>\n",
       "      <td>...</td>\n",
       "      <td>NUMBER-HOURS</td>\n",
       "      <td>2437.0</td>\n",
       "      <td>NaN</td>\n",
       "      <td>NaN</td>\n",
       "      <td>NaN</td>\n",
       "      <td>NaN</td>\n",
       "      <td>4.0</td>\n",
       "      <td>129</td>\n",
       "      <td>1000.0</td>\n",
       "      <td>#cbed9a</td>\n",
       "    </tr>\n",
       "    <tr>\n",
       "      <th>3</th>\n",
       "      <td>9_oclock</td>\n",
       "      <td>9_oclock</td>\n",
       "      <td>C_02_080</td>\n",
       "      <td>C</td>\n",
       "      <td>2.0</td>\n",
       "      <td>80.0</td>\n",
       "      <td>&lt;iframe width=\"280\" height=\"158\" src=\"https://...</td>\n",
       "      <td>&lt;iframe src=https://player.vimeo.com/video/345...</td>\n",
       "      <td>https://player.vimeo.com/video/345589804</td>\n",
       "      <td>NaN</td>\n",
       "      <td>...</td>\n",
       "      <td>OCLOCK-NUMBER</td>\n",
       "      <td>2857.0</td>\n",
       "      <td>NaN</td>\n",
       "      <td>NaN</td>\n",
       "      <td>NaN</td>\n",
       "      <td>NaN</td>\n",
       "      <td>1.0</td>\n",
       "      <td>48</td>\n",
       "      <td>141.0</td>\n",
       "      <td>#910f49</td>\n",
       "    </tr>\n",
       "    <tr>\n",
       "      <th>4</th>\n",
       "      <td>a-line_bob</td>\n",
       "      <td>a-line_bob</td>\n",
       "      <td>K_03_127</td>\n",
       "      <td>K</td>\n",
       "      <td>NaN</td>\n",
       "      <td>NaN</td>\n",
       "      <td>NaN</td>\n",
       "      <td>&lt;iframe src=https://player.vimeo.com/video/342...</td>\n",
       "      <td>https://player.vimeo.com/video/342308099</td>\n",
       "      <td>NaN</td>\n",
       "      <td>...</td>\n",
       "      <td>NaN</td>\n",
       "      <td>NaN</td>\n",
       "      <td>NaN</td>\n",
       "      <td>NaN</td>\n",
       "      <td>NaN</td>\n",
       "      <td>NaN</td>\n",
       "      <td>2.0</td>\n",
       "      <td>158</td>\n",
       "      <td>92.0</td>\n",
       "      <td>#13d097</td>\n",
       "    </tr>\n",
       "  </tbody>\n",
       "</table>\n",
       "<p>5 rows × 193 columns</p>\n",
       "</div>"
      ],
      "text/plain": [
       "      EntryID     LemmaID      Code Batch  List  Item  \\\n",
       "0    1_dollar    1_dollar  C_02_025     C   2.0  25.0   \n",
       "1   5_dollars   5_dollars  B_01_062     B   1.0  62.0   \n",
       "2      8_hour      8_hour  C_02_055     C   2.0  55.0   \n",
       "3    9_oclock    9_oclock  C_02_080     C   2.0  80.0   \n",
       "4  a-line_bob  a-line_bob  K_03_127     K   NaN   NaN   \n",
       "\n",
       "                                       YouTube Video  \\\n",
       "0  <iframe width=\"280\" height=\"158\" src=\"https://...   \n",
       "1  <iframe width=\"280\" height=\"158\" src=\"https://...   \n",
       "2  <iframe width=\"280\" height=\"158\" src=\"https://...   \n",
       "3  <iframe width=\"280\" height=\"158\" src=\"https://...   \n",
       "4                                                NaN   \n",
       "\n",
       "                                      VimeoVideoHTML  \\\n",
       "0  <iframe src=https://player.vimeo.com/video/345...   \n",
       "1  <iframe src=https://player.vimeo.com/video/344...   \n",
       "2  <iframe src=\"https://player.vimeo.com/video/34...   \n",
       "3  <iframe src=https://player.vimeo.com/video/345...   \n",
       "4  <iframe src=https://player.vimeo.com/video/342...   \n",
       "\n",
       "                                 VimeoVideo  SubtLexUSLog10WF  ...  \\\n",
       "0  https://player.vimeo.com/video/345587917               NaN  ...   \n",
       "1  https://player.vimeo.com/video/344399314               NaN  ...   \n",
       "2  https://player.vimeo.com/video/345588916               NaN  ...   \n",
       "3  https://player.vimeo.com/video/345589804               NaN  ...   \n",
       "4  https://player.vimeo.com/video/342308099               NaN  ...   \n",
       "\n",
       "   SignBankLemmaID  SignBankReferenceID  bglm_aoa  empirical_aoa  \\\n",
       "0         1_DOLLAR               1268.0       NaN            NaN   \n",
       "1         5_DOLLAR               2436.0       NaN            NaN   \n",
       "2     NUMBER-HOURS               2437.0       NaN            NaN   \n",
       "3    OCLOCK-NUMBER               2857.0       NaN            NaN   \n",
       "4              NaN                  NaN       NaN            NaN   \n",
       "\n",
       "   HandshapeImage - 100x100  HandshapeImage: URL  Complexity  \\\n",
       "0                       NaN                  NaN         2.0   \n",
       "1                       NaN                  NaN         1.0   \n",
       "2                       NaN                  NaN         4.0   \n",
       "3                       NaN                  NaN         1.0   \n",
       "4                       NaN                  NaN         2.0   \n",
       "\n",
       "   Parameter.Neighborhood.Density.2.0.1  group_id  color_code  \n",
       "0                                   383    1000.0     #cbed9a  \n",
       "1                                   190       0.0     #9da52c  \n",
       "2                                   129    1000.0     #cbed9a  \n",
       "3                                    48     141.0     #910f49  \n",
       "4                                   158      92.0     #13d097  \n",
       "\n",
       "[5 rows x 193 columns]"
      ]
     },
     "execution_count": 97,
     "metadata": {},
     "output_type": "execute_result"
    }
   ],
   "source": [
    "color_df = pd.DataFrame(color_dict)\n",
    "df_merged_with_color = pd.merge(df_merged, color_df,how='left', on=['group_id'])\n",
    "print(df_merged_with_color.shape)\n",
    "df_merged_with_color.head()\n"
   ]
  },
  {
   "cell_type": "code",
   "execution_count": 98,
   "metadata": {},
   "outputs": [
    {
     "data": {
      "text/plain": [
       "(2723, 193)"
      ]
     },
     "execution_count": 98,
     "metadata": {},
     "output_type": "execute_result"
    }
   ],
   "source": [
    "df_merged_with_color.shape"
   ]
  },
  {
   "cell_type": "code",
   "execution_count": 99,
   "metadata": {},
   "outputs": [
    {
     "name": "stdout",
     "output_type": "stream",
     "text": [
      "(2723, 5)\n"
     ]
    },
    {
     "data": {
      "text/html": [
       "<div>\n",
       "<style scoped>\n",
       "    .dataframe tbody tr th:only-of-type {\n",
       "        vertical-align: middle;\n",
       "    }\n",
       "\n",
       "    .dataframe tbody tr th {\n",
       "        vertical-align: top;\n",
       "    }\n",
       "\n",
       "    .dataframe thead th {\n",
       "        text-align: right;\n",
       "    }\n",
       "</style>\n",
       "<table border=\"1\" class=\"dataframe\">\n",
       "  <thead>\n",
       "    <tr style=\"text-align: right;\">\n",
       "      <th></th>\n",
       "      <th>EntryID</th>\n",
       "      <th>Code</th>\n",
       "      <th>group_id</th>\n",
       "      <th>color_code</th>\n",
       "      <th>SignFrequency(Z)</th>\n",
       "    </tr>\n",
       "  </thead>\n",
       "  <tbody>\n",
       "    <tr>\n",
       "      <th>0</th>\n",
       "      <td>1_dollar</td>\n",
       "      <td>C_02_025</td>\n",
       "      <td>1000.0</td>\n",
       "      <td>#cbed9a</td>\n",
       "      <td>-0.728</td>\n",
       "    </tr>\n",
       "    <tr>\n",
       "      <th>1</th>\n",
       "      <td>5_dollars</td>\n",
       "      <td>B_01_062</td>\n",
       "      <td>0.0</td>\n",
       "      <td>#9da52c</td>\n",
       "      <td>0.302</td>\n",
       "    </tr>\n",
       "    <tr>\n",
       "      <th>2</th>\n",
       "      <td>8_hour</td>\n",
       "      <td>C_02_055</td>\n",
       "      <td>1000.0</td>\n",
       "      <td>#cbed9a</td>\n",
       "      <td>-0.025</td>\n",
       "    </tr>\n",
       "    <tr>\n",
       "      <th>3</th>\n",
       "      <td>9_oclock</td>\n",
       "      <td>C_02_080</td>\n",
       "      <td>141.0</td>\n",
       "      <td>#910f49</td>\n",
       "      <td>-0.122</td>\n",
       "    </tr>\n",
       "    <tr>\n",
       "      <th>4</th>\n",
       "      <td>a-line_bob</td>\n",
       "      <td>K_03_127</td>\n",
       "      <td>92.0</td>\n",
       "      <td>#13d097</td>\n",
       "      <td>0.030</td>\n",
       "    </tr>\n",
       "    <tr>\n",
       "      <th>5</th>\n",
       "      <td>a_little_bit</td>\n",
       "      <td>H_03_025</td>\n",
       "      <td>39.0</td>\n",
       "      <td>#42427d</td>\n",
       "      <td>-0.762</td>\n",
       "    </tr>\n",
       "    <tr>\n",
       "      <th>6</th>\n",
       "      <td>abbreviate</td>\n",
       "      <td>G_01_040</td>\n",
       "      <td>8.0</td>\n",
       "      <td>#d585b9</td>\n",
       "      <td>0.669</td>\n",
       "    </tr>\n",
       "    <tr>\n",
       "      <th>7</th>\n",
       "      <td>about_1</td>\n",
       "      <td>B_02_072</td>\n",
       "      <td>110.0</td>\n",
       "      <td>#bda715</td>\n",
       "      <td>0.523</td>\n",
       "    </tr>\n",
       "    <tr>\n",
       "      <th>8</th>\n",
       "      <td>about_2</td>\n",
       "      <td>B_02_003</td>\n",
       "      <td>1000.0</td>\n",
       "      <td>#cbed9a</td>\n",
       "      <td>-0.762</td>\n",
       "    </tr>\n",
       "    <tr>\n",
       "      <th>9</th>\n",
       "      <td>absolutely_nothing</td>\n",
       "      <td>J_01_027</td>\n",
       "      <td>186.0</td>\n",
       "      <td>#a512e3</td>\n",
       "      <td>-0.686</td>\n",
       "    </tr>\n",
       "    <tr>\n",
       "      <th>10</th>\n",
       "      <td>accent</td>\n",
       "      <td>E_01_073</td>\n",
       "      <td>9.0</td>\n",
       "      <td>#18a4d8</td>\n",
       "      <td>-0.681</td>\n",
       "    </tr>\n",
       "    <tr>\n",
       "      <th>11</th>\n",
       "      <td>accept</td>\n",
       "      <td>H_02_042</td>\n",
       "      <td>217.0</td>\n",
       "      <td>#1c4774</td>\n",
       "      <td>0.812</td>\n",
       "    </tr>\n",
       "    <tr>\n",
       "      <th>12</th>\n",
       "      <td>access</td>\n",
       "      <td>H_02_086</td>\n",
       "      <td>5.0</td>\n",
       "      <td>#638e13</td>\n",
       "      <td>0.527</td>\n",
       "    </tr>\n",
       "    <tr>\n",
       "      <th>13</th>\n",
       "      <td>accident</td>\n",
       "      <td>B_02_059</td>\n",
       "      <td>108.0</td>\n",
       "      <td>#2db252</td>\n",
       "      <td>-0.326</td>\n",
       "    </tr>\n",
       "    <tr>\n",
       "      <th>14</th>\n",
       "      <td>accomplish</td>\n",
       "      <td>C_02_085</td>\n",
       "      <td>1000.0</td>\n",
       "      <td>#cbed9a</td>\n",
       "      <td>0.078</td>\n",
       "    </tr>\n",
       "    <tr>\n",
       "      <th>15</th>\n",
       "      <td>accordion</td>\n",
       "      <td>F_02_048</td>\n",
       "      <td>43.0</td>\n",
       "      <td>#fcde03</td>\n",
       "      <td>-1.423</td>\n",
       "    </tr>\n",
       "    <tr>\n",
       "      <th>16</th>\n",
       "      <td>accountant</td>\n",
       "      <td>A_03_044</td>\n",
       "      <td>79.0</td>\n",
       "      <td>#fe3169</td>\n",
       "      <td>-0.381</td>\n",
       "    </tr>\n",
       "    <tr>\n",
       "      <th>17</th>\n",
       "      <td>acquire</td>\n",
       "      <td>H_01_034</td>\n",
       "      <td>117.0</td>\n",
       "      <td>#fe5969</td>\n",
       "      <td>0.676</td>\n",
       "    </tr>\n",
       "    <tr>\n",
       "      <th>18</th>\n",
       "      <td>act</td>\n",
       "      <td>B_02_038</td>\n",
       "      <td>11.0</td>\n",
       "      <td>#c414a0</td>\n",
       "      <td>-0.214</td>\n",
       "    </tr>\n",
       "    <tr>\n",
       "      <th>19</th>\n",
       "      <td>action</td>\n",
       "      <td>C_01_026</td>\n",
       "      <td>2.0</td>\n",
       "      <td>#a9a30b</td>\n",
       "      <td>-0.017</td>\n",
       "    </tr>\n",
       "  </tbody>\n",
       "</table>\n",
       "</div>"
      ],
      "text/plain": [
       "               EntryID      Code  group_id color_code  SignFrequency(Z)\n",
       "0             1_dollar  C_02_025    1000.0    #cbed9a            -0.728\n",
       "1            5_dollars  B_01_062       0.0    #9da52c             0.302\n",
       "2               8_hour  C_02_055    1000.0    #cbed9a            -0.025\n",
       "3             9_oclock  C_02_080     141.0    #910f49            -0.122\n",
       "4           a-line_bob  K_03_127      92.0    #13d097             0.030\n",
       "5         a_little_bit  H_03_025      39.0    #42427d            -0.762\n",
       "6           abbreviate  G_01_040       8.0    #d585b9             0.669\n",
       "7              about_1  B_02_072     110.0    #bda715             0.523\n",
       "8              about_2  B_02_003    1000.0    #cbed9a            -0.762\n",
       "9   absolutely_nothing  J_01_027     186.0    #a512e3            -0.686\n",
       "10              accent  E_01_073       9.0    #18a4d8            -0.681\n",
       "11              accept  H_02_042     217.0    #1c4774             0.812\n",
       "12              access  H_02_086       5.0    #638e13             0.527\n",
       "13            accident  B_02_059     108.0    #2db252            -0.326\n",
       "14          accomplish  C_02_085    1000.0    #cbed9a             0.078\n",
       "15           accordion  F_02_048      43.0    #fcde03            -1.423\n",
       "16          accountant  A_03_044      79.0    #fe3169            -0.381\n",
       "17             acquire  H_01_034     117.0    #fe5969             0.676\n",
       "18                 act  B_02_038      11.0    #c414a0            -0.214\n",
       "19              action  C_01_026       2.0    #a9a30b            -0.017"
      ]
     },
     "execution_count": 99,
     "metadata": {},
     "output_type": "execute_result"
    }
   ],
   "source": [
    "#Need only 5 columns for now for the graph file\n",
    "df_node_graph_json_data = df_merged_with_color[[\"EntryID\", \"Code\", \"group_id\", \"color_code\", \"SignFrequency(Z)\"]]\n",
    "print(df_node_graph_json_data.shape)\n",
    "df_node_graph_json_data.head(20)\n"
   ]
  },
  {
   "cell_type": "code",
   "execution_count": 100,
   "metadata": {},
   "outputs": [
    {
     "data": {
      "text/html": [
       "<div>\n",
       "<style scoped>\n",
       "    .dataframe tbody tr th:only-of-type {\n",
       "        vertical-align: middle;\n",
       "    }\n",
       "\n",
       "    .dataframe tbody tr th {\n",
       "        vertical-align: top;\n",
       "    }\n",
       "\n",
       "    .dataframe thead th {\n",
       "        text-align: right;\n",
       "    }\n",
       "</style>\n",
       "<table border=\"1\" class=\"dataframe\">\n",
       "  <thead>\n",
       "    <tr style=\"text-align: right;\">\n",
       "      <th></th>\n",
       "      <th>target</th>\n",
       "      <th>source</th>\n",
       "      <th>num_matched_features</th>\n",
       "      <th>matched_features</th>\n",
       "      <th>num_missed_features</th>\n",
       "      <th>missed_features</th>\n",
       "    </tr>\n",
       "  </thead>\n",
       "  <tbody>\n",
       "    <tr>\n",
       "      <th>0</th>\n",
       "      <td>A_01_002</td>\n",
       "      <td>B_01_062</td>\n",
       "      <td>12</td>\n",
       "      <td>SignType.2.0, MinorLocation.2.0, Movement.2.0,...</td>\n",
       "      <td>1</td>\n",
       "      <td>RepeatedMovement.2.0</td>\n",
       "    </tr>\n",
       "    <tr>\n",
       "      <th>1</th>\n",
       "      <td>A_01_002</td>\n",
       "      <td>C_03_023</td>\n",
       "      <td>12</td>\n",
       "      <td>SignType.2.0, MinorLocation.2.0, Movement.2.0,...</td>\n",
       "      <td>1</td>\n",
       "      <td>Flexion.2.0</td>\n",
       "    </tr>\n",
       "    <tr>\n",
       "      <th>2</th>\n",
       "      <td>A_01_002</td>\n",
       "      <td>G_01_038</td>\n",
       "      <td>12</td>\n",
       "      <td>SignType.2.0, MinorLocation.2.0, Contact.2.0, ...</td>\n",
       "      <td>1</td>\n",
       "      <td>Movement.2.0</td>\n",
       "    </tr>\n",
       "    <tr>\n",
       "      <th>3</th>\n",
       "      <td>A_01_002</td>\n",
       "      <td>J_03_046</td>\n",
       "      <td>12</td>\n",
       "      <td>SignType.2.0, MinorLocation.2.0, Movement.2.0,...</td>\n",
       "      <td>1</td>\n",
       "      <td>RepeatedMovement.2.0</td>\n",
       "    </tr>\n",
       "    <tr>\n",
       "      <th>4</th>\n",
       "      <td>A_01_003</td>\n",
       "      <td>D_02_047</td>\n",
       "      <td>14</td>\n",
       "      <td>SignType.2.0, MinorLocation.2.0, Movement.2.0,...</td>\n",
       "      <td>0</td>\n",
       "      <td>NaN</td>\n",
       "    </tr>\n",
       "  </tbody>\n",
       "</table>\n",
       "</div>"
      ],
      "text/plain": [
       "     target    source  num_matched_features  \\\n",
       "0  A_01_002  B_01_062                    12   \n",
       "1  A_01_002  C_03_023                    12   \n",
       "2  A_01_002  G_01_038                    12   \n",
       "3  A_01_002  J_03_046                    12   \n",
       "4  A_01_003  D_02_047                    14   \n",
       "\n",
       "                                    matched_features  num_missed_features  \\\n",
       "0  SignType.2.0, MinorLocation.2.0, Movement.2.0,...                    1   \n",
       "1  SignType.2.0, MinorLocation.2.0, Movement.2.0,...                    1   \n",
       "2  SignType.2.0, MinorLocation.2.0, Contact.2.0, ...                    1   \n",
       "3  SignType.2.0, MinorLocation.2.0, Movement.2.0,...                    1   \n",
       "4  SignType.2.0, MinorLocation.2.0, Movement.2.0,...                    0   \n",
       "\n",
       "        missed_features  \n",
       "0  RepeatedMovement.2.0  \n",
       "1           Flexion.2.0  \n",
       "2          Movement.2.0  \n",
       "3  RepeatedMovement.2.0  \n",
       "4                   NaN  "
      ]
     },
     "execution_count": 100,
     "metadata": {},
     "output_type": "execute_result"
    }
   ],
   "source": [
    "edges_df.head()"
   ]
  },
  {
   "cell_type": "code",
   "execution_count": 101,
   "metadata": {},
   "outputs": [
    {
     "data": {
      "text/html": [
       "<div>\n",
       "<style scoped>\n",
       "    .dataframe tbody tr th:only-of-type {\n",
       "        vertical-align: middle;\n",
       "    }\n",
       "\n",
       "    .dataframe tbody tr th {\n",
       "        vertical-align: top;\n",
       "    }\n",
       "\n",
       "    .dataframe thead th {\n",
       "        text-align: right;\n",
       "    }\n",
       "</style>\n",
       "<table border=\"1\" class=\"dataframe\">\n",
       "  <thead>\n",
       "    <tr style=\"text-align: right;\">\n",
       "      <th></th>\n",
       "      <th>target</th>\n",
       "      <th>source</th>\n",
       "    </tr>\n",
       "  </thead>\n",
       "  <tbody>\n",
       "    <tr>\n",
       "      <th>0</th>\n",
       "      <td>A_01_002</td>\n",
       "      <td>B_01_062</td>\n",
       "    </tr>\n",
       "    <tr>\n",
       "      <th>1</th>\n",
       "      <td>A_01_002</td>\n",
       "      <td>C_03_023</td>\n",
       "    </tr>\n",
       "    <tr>\n",
       "      <th>2</th>\n",
       "      <td>A_01_002</td>\n",
       "      <td>G_01_038</td>\n",
       "    </tr>\n",
       "    <tr>\n",
       "      <th>3</th>\n",
       "      <td>A_01_002</td>\n",
       "      <td>J_03_046</td>\n",
       "    </tr>\n",
       "    <tr>\n",
       "      <th>4</th>\n",
       "      <td>A_01_003</td>\n",
       "      <td>D_02_047</td>\n",
       "    </tr>\n",
       "  </tbody>\n",
       "</table>\n",
       "</div>"
      ],
      "text/plain": [
       "     target    source\n",
       "0  A_01_002  B_01_062\n",
       "1  A_01_002  C_03_023\n",
       "2  A_01_002  G_01_038\n",
       "3  A_01_002  J_03_046\n",
       "4  A_01_003  D_02_047"
      ]
     },
     "execution_count": 101,
     "metadata": {},
     "output_type": "execute_result"
    }
   ],
   "source": [
    "not_need_edge_cols = ['num_matched_features', 'matched_features', 'num_missed_features', 'missed_features']\n",
    "links_df = edges_df.drop(columns=not_need_edge_cols)\n",
    "links_df.head()"
   ]
  },
  {
   "cell_type": "code",
   "execution_count": 102,
   "metadata": {},
   "outputs": [
    {
     "data": {
      "text/plain": [
       "{'target': 'A_01_002', 'source': 'B_01_062'}"
      ]
     },
     "execution_count": 102,
     "metadata": {},
     "output_type": "execute_result"
    }
   ],
   "source": [
    "edges_json_str = links_df.to_json(orient=\"records\")\n",
    "edges_json = json.loads(edges_json_str)\n",
    "edges_json[0]"
   ]
  },
  {
   "cell_type": "code",
   "execution_count": 103,
   "metadata": {},
   "outputs": [],
   "source": [
    "# cols_not_in_sign_pane = [\"LemmaID\", \"SignFrequency(SD)\",\"SignFrequency(Z)\",\"SignFrequency(N)\",\"SignFrequency(M-Native)\",\"SignFrequency(SD-Native)\",\"SignFreq(Z-native)\",\"SignFrequency(N-Native)\",\"PercentUnknown(Native)\",\"PercentGlossAgreement(Native)\",\"SignFrequency(M-Nonnative)\",\"SignFrequency(SD-Nonnative)\",\"SignFreq(Z-Nonnative)\",\"SignFrequency(N-Nonnative)\",\"PercentUnknown(Nonnative)\",\"PercentGlossAgreement(Nonnative)\",\"Iconicity(SD)\",\"Iconicity(Z)\",\"Iconicity(N)\",\"Iconicity_ID\",\"D.Iconicity(SD) all\",\"D.Iconicity(Z) all\",\"D.Iconicity(N) all\",\"D.Iconicity(M) native\",\"D.Iconicity(SD) native\",\"D.Iconicity(Z) native\",\"D.Iconicity(N) native\",\"Transparency SD\",\"Transparency Z\",\"SignOnset(ms)\",\"SignOffset(ms)\",\"SignType 1.0\",\"MajorLocation 1.0\",\"MinorLocation 1.0\",\"SelectedFingers 1.0\",\"Compound 1.0\",\"Flexion 1.0\",\"Initialized 1.0\",\"Movement 1.0\",\"MinimalNeighborhoodDensity\",\"MaximalNeighborhoodDensity\",\"Parameter-BasedNeighborhoodDensity\",\"SignTypeFrequency\",\"MajorLocationFrequency\",\"MinorLocationFrequency\",\"SelectedFingersFrequency\",\"FlexionFrequency\",\"MovementFrequency\",\"HandshapeFrequency\",\"Batch\",\"Item\",\"List\",\"Source\",\"InCDI\",\"CDI_A\",\"CDI_B\",\"CDI_C\",\"CDIGloss\",\"CDI Semantic Category\",\"CDIDuplicate\",\"GlossConfirmation\",\"CDIComment\",\"In Frequency Rating Survey (FRS)?\",\"FRS_A\",\"FRS_B\",\"FRS_C\",\"FRS-Low Frequency item?\",\"InPPVT\",\"InEOWPVT\",\"PPVTTargetFoil\",\"PPVTPictureSource\",\"FingerspelledLoanSign 1.0\",\"Repeat.1\",\"BatesPicture\",\"BatesPicture: URL\",\"ASLVocabPicture\",\"ASLVocabPicture: URL\",\"Possible Picture?\",\"Possible Picture Comments\",\"ASLVocab Picture Google Drive\",\"ArtistInstructions\",\"IssuesWithItemsAndGlosses\",\"Brittany-Freq Comments\",\"PPVT with Pictures\",\"PPVT-Age Group\",\"PPVT-Expressive\",\"PPVT-Receptive\",\"Entry ID\",\"Bizarre Sign or Problematic Video\",\"InUconnPPVT\",\"CheckCompleteCoding\",\"Video File\",\"Video File: URL\",\"IconicityTypeShannon\",\"IconicityTypeClaire\",\"IconicityTypeLindsay\",\"IconicityTypeRotceh\",\"In ASL-LEX 2.0\",\"DraftIconicityID\",\"DraftIconicityM\",\"RightWristX\",\"RightWristcentroidY\",\"DistanceRightWristCentroid2Nose\",\"IconicityType\",\"ChelseaCoded\",\"HandshapeManualCorrections\",\"FormerKnackGloss\",\"CodingSignBank\",\"InZed\",\"Checked Vimeo\"]"
   ]
  },
  {
   "cell_type": "code",
   "execution_count": 104,
   "metadata": {},
   "outputs": [],
   "source": [
    "#Remove cols in sign pane\n",
    "#Keep column for filters and vimeo video\n",
    "cols_in_sign_data_pane = [\"EntryID\",\"LemmaID\",\"Code\",\"Batch\",\"List\",\"Item\",\"YouTube Video\",\"VimeoVideoHTML\",\"VimeoVideo\",\"SubtLexUSLog10WF\",\"SignFrequency(M)\",\"SignFrequency(SD)\",\"SignFrequency(Z)\",\"SignFrequency(N)\",\"SignFrequency(M-Native)\",\"SignFrequency(SD-Native)\",\"SignFreq(Z-native)\",\"SignFrequency(N-Native)\",\"SignFrequency(M-Nonnative)\",\"SignFrequency(SD-Nonnative)\",\"SignFrequency(N-Nonnative)\",\"SignFreq(Z-Nonnative)\",\"GuessAccuracy\",\"DominantTranslation\",\"PercentUnknown\",\"PercentGlossAgreement\",\"PercentUnknown(Native)\",\"PercentGlossAgreement(Native)\",\"PercentUnknown(Nonnative)\",\"PercentGlossAgreement(Nonnative)\",\"Iconicity(M)\",\"Iconicity(SD)\",\"Iconicity(Z)\",\"Iconicity(N)\",\"Iconicity_ID\",\"IconicityType\",\"D.Iconicity(M) all\",\"D.Iconicity(SD) all\",\"D.Iconicity(N) all\",\"D.Iconicity(Z) all\",\"D.Iconicity(M) native\",\"D.Iconicity(SD) native\",\"D.Iconicity(Z) native\",\"D.Iconicity(N) native\",\"H statistic\",\"Transparency(M)\",\"Transparency SD\",\"Transparency Z\",\"LexicalClass\",\"SignOnset(ms)\",\"SignOffset(ms)\",\"SignDuration(ms)\",\"ClipDuration(ms)\",\"InCDI\",\"CDI Semantic Category\",\"Initialized.2.0\",\"FingerspelledLoanSign.2.0\",\"Compound.2.0\",\"NumberOfMorphemes.2.0\",\"Handshape.2.0\",\"MarkedHandshape.2.0\",\"SelectedFingers.2.0\",\"Flexion.2.0\",\"FlexionChange.2.0\",\"Spread.2.0\",\"SpreadChange.2.0\",\"ThumbPosition.2.0\",\"ThumbContact.2.0\",\"SignType.2.0\",\"Movement.2.0\",\"RepeatedMovement.2.0\",\"MajorLocation.2.0\",\"MinorLocation.2.0\",\"SecondMinorLocation.2.0\",\"Contact.2.0\",\"NonDominantHandshape.2.0\",\"UlnarRotation.2.0\",\"HandshapeM2.2.0\",\"MarkedHandshapeM2.2.0\",\"SelectedFingersM2.2.0\",\"FlexionM2.2.0\",\"FlexionChangeM2.2.0\",\"SpreadM2.2.0\",\"SpreadChangeM2.2.0\",\"ThumbPositionM2.2.0\",\"ThumbContactM2.2.0\",\"SignTypeM2.2.0\",\"MovementM2.2.0\",\"RepeatedMovementM2.2.0\",\"MajorLocationM2.2.0\",\"MinorLocationM2.2.0\",\"SecondMinorLocationM2.2.0\",\"ContactM2.2.0\",\"NonDominantHandshapeM2.2.0\",\"UlnarRotationM2.2.0\",\"HandshapeM3.2.0\",\"MarkedHandshapeM3.2.0\",\"SelectedFingersM3.2.0\",\"FlexionM3.2.0\",\"FlexionChangeM3.2.0\",\"SpreadM3.2.0\",\"SpreadChangeM3.2.0\",\"ThumbPositionM3.2.0\",\"ThumbContactM3.2.0\",\"SignTypeM3.2.0\",\"MovementM3.2.0\",\"RepeatedMovementM3.2.0\",\"MajorLocationM3.2.0\",\"MinorLocationM3.2.0\",\"SecondMinorLocationM3.2.0\",\"ContactM3.2.0\",\"NonDominantHandshapeM3.2.0\",\"UlnarRotationM3.2.0\",\"HandshapeM4.2.0\",\"MarkedHandshapeM4.2.0\",\"SelectedFingersM4.2.0\",\"FlexionM4.2.0\",\"FlexionChangeM4.2.0\",\"SpreadM4.2.0\",\"SpreadChangeM4.2.0\",\"ThumbPositionM4.2.0\",\"ThumbContactM4.2.0\",\"SignTypeM4.2.0\",\"MovementM4.2.0\",\"RepeatedMovementM4.2.0\",\"MajorLocationM4.2.0\",\"MinorLocationM4.2.0\",\"SecondMinorLocationM4.2.0\",\"ContactM4.2.0\",\"NonDominantHandshapeM4.2.0\",\"UlnarRotationM4.2.0\",\"HandshapeM5.2.0\",\"MarkedHandshapeM5.2.0\",\"SelectedFingersM5.2.0\",\"FlexionM5.2.0\",\"FlexionChangeM5.2.0\",\"SpreadM5.2.0\",\"SpreadChangeM5.2.0\",\"ThumbPositionM5.2.0\",\"ThumbContactM5.2.0\",\"SignTypeM5.2.0\",\"MovementM5.2.0\",\"RepeatedMovementM5.2.0\",\"MajorLocationM5.2.0\",\"MinorLocationM5.2.0\",\"SecondMinorLocationM5.2.0\",\"ContactM5.2.0\",\"NonDominantHandshapeM5.2.0\",\"UlnarRotationM5.2.0\",\"HandshapeM6.2.0\",\"MarkedHandshapeM6.2.0\",\"SelectedFingersM6.2.0\",\"FlexionM6.2.0\",\"FlexionChangeM6.2.0\",\"SpreadM6.2.0\",\"SpreadChangeM6.2.0\",\"ThumbPositionM6.2.0\",\"ThumbContactM6.2.0\",\"SignTypeM6.2.0\",\"MovementM6.2.0\",\"RepeatedMovementM6.2.0\",\"MajorLocationM6.2.0\",\"MinorLocationM6.2.0\",\"SecondMinorLocationM6.2.0\",\"ContactM6.2.0\",\"NonDominantHandshapeM6.2.0\",\"UlnarRotationM6.2.0\",\"SignType.2.0Frequency\",\"MajorLocation.2.0Frequency\",\"MinorLocation.2.0Frequency\",\"SecondMinorLocation.2.0Frequency\",\"Movement.2.0Frequency\",\"SelectedFingers.2.0Frequency\",\"Flexion.2.0Frequency\",\"FlexionChange.2.0Frequency\",\"RepeatedMovement.2.0Frequency\",\"Contact.2.0Frequency\",\"Spread.2.0Frequency\",\"SpreadChange.2.0Frequency\",\"ThumbContact.2.0Frequency\",\"ThumbPosition.2.0Frequency\",\"UlnarRotation.2.0Frequency\",\"Phonological Complexity\",\"PhonotacticProbability\",\"Parameter.Neighborhood.Density.2.0\",\"Neighborhood Density 2.0\",\"SignBankAnnotationID\",\"SignBankEnglishTranslations\",\"SignBankLemmaID\",\"SignBankSemanticField\",\"SignBankReferenceID\",\"bglm_aoa\",\"empirical_aoa\"]\n",
    "# [\"EntryID\",\"SignFrequency(M)\",\"PercentUnknown\",\"PercentGlossAgreement\",\"DominantTranslation\",\"SubtLexUSLog10WF\",\"Iconicity(M)\",\"Transparency M\",\"H index\",\"LexicalClass\",\"SignLength(ms)\",\"ClipLength(ms)\",\"Complexity\",\"Initialized.2.0\",\"FingerspelledLoanSign.2.0\",\"Compound.2.0\",\"NumberOfMorphemes.2.0\",\"Handshape.2.0\",\"MarkedHandshape.2.0\",\"SelectedFingers.2.0\",\"Flexion.2.0\",\"FlexionChange.2.0\",\"Spread.2.0\",\"SpreadChange.2.0\",\"ThumbPosition.2.0\",\"ThumbContact.2.0\",\"SignType.2.0\",\"Movement.2.0\",\"RepeatedMovement.2.0\",\"MajorLocation.2.0\",\"MinorLocation.2.0\",\"SecondMinorLocation.2.0\",\"Contact.2.0\",\"NonDominantHandshape.2.0\",\"UlnarRotation.2.0\",\"HandshapeM2.2.0\",\"MarkedHandshapeM2.2.0\",\"SelectedFingersM2.2.0\",\"FlexionM2.2.0\",\"FlexionChangeM2.2.0\",\"SpreadM2.2.0\",\"SpreadChangeM2.2.0\",\"ThumbPositionM2.2.0\",\"ThumbContactM2.2.0\",\"SignTypeM2.2.0\",\"MovementM2.2.0\",\"RepeatedMovementM2.2.0\",\"MajorLocationM2.2.0\",\"MinorLocationM2.2.0\",\"SecondMinorLocationM2.2.0\",\"ContactM2.2.0\",\"NonDominantHandshapeM2.2.0\",\"UlnarRotationM2.2.0\",\"HandshapeM3.2.0\",\"MarkedHandshapeM3.2.0\",\"SelectedFingersM3.2.0\",\"FlexionM3.2.0\",\"FlexionChangeM3.2.0\",\"SpreadM3.2.0\",\"SpreadChangeM3.2.0\",\"ThumbPositionM3.2.0\",\"ThumbContactM3.2.0\",\"SignTypeM3.2.0\",\"MovementM3.2.0\",\"RepeatedMovementM3.2.0\",\"MajorLocationM3.2.0\",\"MinorLocationM3.2.0\",\"SecondMinorLocationM3.2.0\",\"ContactM3.2.0\",\"NonDominantHandshapeM3.2.0\",\"UlnarRotationM3.2.0\",\"HandshapeM4.2.0\",\"MarkedHandshapeM4.2.0\",\"SelectedFingersM4.2.0\",\"FlexionM4.2.0\",\"FlexionChangeM4.2.0\",\"SpreadM4.2.0\",\"SpreadChangeM4.2.0\",\"ThumbPositionM4.2.0\",\"ThumbContactM4.2.0\",\"SignTypeM4.2.0\",\"MovementM4.2.0\",\"RepeatedMovementM4.2.0\",\"MajorLocationM4.2.0\",\"MinorLocationM4.2.0\",\"SecondMinorLocationM4.2.0\",\"ContactM4.2.0\",\"NonDominantHandshapeM4.2.0\",\"UlnarRotationM4.2.0\",\"HandshapeM5.2.0\",\"MarkedHandshapeM5.2.0\",\"SelectedFingersM5.2.0\",\"FlexionM5.2.0\",\"FlexionChangeM5.2.0\",\"SpreadM5.2.0\",\"SpreadChangeM5.2.0\",\"ThumbPositionM5.2.0\",\"ThumbContactM5.2.0\",\"SignTypeM5.2.0\",\"MovementM5.2.0\",\"RepeatedMovementM5.2.0\",\"MajorLocationM5.2.0\",\"MinorLocationM5.2.0\",\"SecondMinorLocationM5.2.0\",\"ContactM5.2.0\",\"NonDominantHandshapeM5.2.0\",\"UlnarRotationM5.2.0\",\"HandshapeM6.2.0\",\"MarkedHandshapeM6.2.0\",\"SelectedFingersM6.2.0\",\"FlexionM6.2.0\",\"FlexionChangeM6.2.0\",\"SpreadM6.2.0\",\"SpreadChangeM6.2.0\",\"ThumbPositionM6.2.0\",\"ThumbContactM6.2.0\",\"SignTypeM6.2.0\",\"MovementM6.2.0\",\"RepeatedMovementM6.2.0\",\"MajorLocationM6.2.0\",\"MinorLocationM6.2.0\",\"SecondMinorLocationM6.2.0\",\"ContactM6.2.0\",\"NonDominantHandshapeM6.2.0\",\"UlnarRotationM6.2.0\",\"bglm_aoa\",\"Neighborhood Density 2.0\",\"Parameter.Neighborhood.Density.2.0\",\"SignType.2.0Frequency\",\"MajorLocation.2.0Frequency\",\"MinorLocation.2.0Frequency\",\"SecondMinorLocation.2.0Frequency\",\"Movement.2.0Frequency\",\"SelectedFingers.2.0Frequency\",\"Flexion.2.0Frequency\",\"FlexionChange.2.0Frequency\",\"RepeatedMovement.2.0Frequency\",\"Contact.2.0Frequency\",\"Spread.2.0Frequency\",\"SpreadChange.2.0Frequency\",\"ThumbContact.2.0Frequency\",\"ThumbPosition.2.0Frequency\",\"UlnarRotation.2.0Frequency\",\"PhonotacticProbability\",\"SignBankID\",\"SignBankLemmaID\",\"SignBankAnnotationID\",\"SignBankSemanticField\",\"SignBankEnglishTranslations\",\"D.Iconicity(M) all\", \"empirical_aoa\"]"
   ]
  },
  {
   "cell_type": "code",
   "execution_count": 105,
   "metadata": {},
   "outputs": [],
   "source": [
    "# df_merged_with_color.columns.values"
   ]
  },
  {
   "cell_type": "code",
   "execution_count": 106,
   "metadata": {},
   "outputs": [],
   "source": [
    "# df_merged_with_color[[\"EntryID\",\"SignFrequency(M)\",\"PercentUnknown\"]]"
   ]
  },
  {
   "cell_type": "code",
   "execution_count": 107,
   "metadata": {},
   "outputs": [
    {
     "data": {
      "text/plain": [
       "['EntryID',\n",
       " 'LemmaID',\n",
       " 'Code',\n",
       " 'Batch',\n",
       " 'List',\n",
       " 'Item',\n",
       " 'YouTube Video',\n",
       " 'VimeoVideoHTML',\n",
       " 'VimeoVideo',\n",
       " 'SubtLexUSLog10WF',\n",
       " 'SignFrequency(M)',\n",
       " 'SignFrequency(SD)',\n",
       " 'SignFrequency(Z)',\n",
       " 'SignFrequency(N)',\n",
       " 'SignFrequency(M-Native)',\n",
       " 'SignFrequency(SD-Native)',\n",
       " 'SignFreq(Z-native)',\n",
       " 'SignFrequency(N-Native)',\n",
       " 'SignFrequency(M-Nonnative)',\n",
       " 'SignFrequency(SD-Nonnative)',\n",
       " 'SignFrequency(N-Nonnative)',\n",
       " 'SignFreq(Z-Nonnative)',\n",
       " 'DominantTranslation',\n",
       " 'NondominantTranslation',\n",
       " 'PercentUnknown',\n",
       " 'PercentGlossAgreement',\n",
       " 'PercentUnknown(Native)',\n",
       " 'PercentGlossAgreement(Native)',\n",
       " 'PercentUnknown(Nonnative)',\n",
       " 'PercentGlossAgreement(Nonnative)',\n",
       " 'Iconicity(M)',\n",
       " 'Iconicity(SD)',\n",
       " 'Iconicity(Z)',\n",
       " 'Iconicity(N)',\n",
       " 'Iconicity_ID',\n",
       " 'IconicityType',\n",
       " 'D.Iconicity(M) all',\n",
       " 'D.Iconicity(SD) all',\n",
       " 'D.Iconicity(N) all',\n",
       " 'D.Iconicity(Z) all',\n",
       " 'D.Iconicity(M) native',\n",
       " 'D.Iconicity(SD) native',\n",
       " 'D.Iconicity(Z) native',\n",
       " 'D.Iconicity(N) native',\n",
       " 'H statistic',\n",
       " 'GuessAccuracy',\n",
       " 'Transparency(M)',\n",
       " 'Transparency SD',\n",
       " 'Transparency Z',\n",
       " 'LexicalClass',\n",
       " 'SignOnset(ms)',\n",
       " 'SignOffset(ms)',\n",
       " 'SignDuration(ms)',\n",
       " 'ClipDuration(ms)',\n",
       " 'InCDI',\n",
       " 'CDI Semantic Category',\n",
       " 'Initialized.2.0',\n",
       " 'FingerspelledLoanSign.2.0',\n",
       " 'Compound.2.0',\n",
       " 'NumberOfMorphemes.2.0',\n",
       " 'Handshape.2.0',\n",
       " 'SelectedFingers.2.0',\n",
       " 'Flexion.2.0',\n",
       " 'FlexionChange.2.0',\n",
       " 'Spread.2.0',\n",
       " 'SpreadChange.2.0',\n",
       " 'ThumbPosition.2.0',\n",
       " 'ThumbContact.2.0',\n",
       " 'SignType.2.0',\n",
       " 'Movement.2.0',\n",
       " 'RepeatedMovement.2.0',\n",
       " 'MajorLocation.2.0',\n",
       " 'MinorLocation.2.0',\n",
       " 'SecondMinorLocation.2.0',\n",
       " 'Contact.2.0',\n",
       " 'NonDominantHandshape.2.0',\n",
       " 'UlnarRotation.2.0',\n",
       " 'HandshapeM2.2.0',\n",
       " 'SelectedFingersM2.2.0',\n",
       " 'FlexionM2.2.0',\n",
       " 'FlexionChangeM2.2.0',\n",
       " 'SpreadM2.2.0',\n",
       " 'SpreadChangeM2.2.0',\n",
       " 'ThumbPositionM2.2.0',\n",
       " 'ThumbContactM2.2.0',\n",
       " 'SignTypeM2.2.0',\n",
       " 'MovementM2.2.0',\n",
       " 'RepeatedMovementM2.2.0',\n",
       " 'MajorLocationM2.2.0',\n",
       " 'MinorLocationM2.2.0',\n",
       " 'SecondMinorLocationM2.2.0',\n",
       " 'ContactM2.2.0',\n",
       " 'NonDominantHandshapeM2.2.0',\n",
       " 'UlnarRotationM2.2.0',\n",
       " 'HandshapeM3.2.0',\n",
       " 'SelectedFingersM3.2.0',\n",
       " 'FlexionM3.2.0',\n",
       " 'FlexionChangeM3.2.0',\n",
       " 'SpreadM3.2.0',\n",
       " 'SpreadChangeM3.2.0',\n",
       " 'ThumbPositionM3.2.0',\n",
       " 'ThumbContactM3.2.0',\n",
       " 'SignTypeM3.2.0',\n",
       " 'MovementM3.2.0',\n",
       " 'RepeatedMovementM3.2.0',\n",
       " 'MajorLocationM3.2.0',\n",
       " 'MinorLocationM3.2.0',\n",
       " 'SecondMinorLocationM3.2.0',\n",
       " 'ContactM3.2.0',\n",
       " 'NonDominantHandshapeM3.2.0',\n",
       " 'UlnarRotationM3.2.0',\n",
       " 'HandshapeM4.2.0',\n",
       " 'SelectedFingersM4.2.0',\n",
       " 'FlexionM4.2.0',\n",
       " 'FlexionChangeM4.2.0',\n",
       " 'SpreadM4.2.0',\n",
       " 'SpreadChangeM4.2.0',\n",
       " 'ThumbPositionM4.2.0',\n",
       " 'ThumbContactM4.2.0',\n",
       " 'SignTypeM4.2.0',\n",
       " 'MovementM4.2.0',\n",
       " 'RepeatedMovementM4.2.0',\n",
       " 'MajorLocationM4.2.0',\n",
       " 'MinorLocationM4.2.0',\n",
       " 'SecondMinorLocationM4.2.0',\n",
       " 'ContactM4.2.0',\n",
       " 'NonDominantHandshapeM4.2.0',\n",
       " 'UlnarRotationM4.2.0',\n",
       " 'HandshapeM5.2.0',\n",
       " 'SelectedFingersM5.2.0',\n",
       " 'FlexionM5.2.0',\n",
       " 'FlexionChangeM5.2.0',\n",
       " 'SpreadM5.2.0',\n",
       " 'SpreadChangeM5.2.0',\n",
       " 'ThumbPositionM5.2.0',\n",
       " 'ThumbContactM5.2.0',\n",
       " 'SignTypeM5.2.0',\n",
       " 'MovementM5.2.0',\n",
       " 'RepeatedMovementM5.2.0',\n",
       " 'MajorLocationM5.2.0',\n",
       " 'MinorLocationM5.2.0',\n",
       " 'SecondMinorLocationM5.2.0',\n",
       " 'ContactM5.2.0',\n",
       " 'NonDominantHandshapeM5.2.0',\n",
       " 'UlnarRotationM5.2.0',\n",
       " 'HandshapeM6.2.0',\n",
       " 'SelectedFingersM6.2.0',\n",
       " 'FlexionM6.2.0',\n",
       " 'FlexionChangeM6.2.0',\n",
       " 'SpreadM6.2.0',\n",
       " 'SpreadChangeM6.2.0',\n",
       " 'ThumbPositionM6.2.0',\n",
       " 'ThumbContactM6.2.0',\n",
       " 'SignTypeM6.2.0',\n",
       " 'MovementM6.2.0',\n",
       " 'RepeatedMovementM6.2.0',\n",
       " 'MajorLocationM6.2.0',\n",
       " 'MinorLocationM6.2.0',\n",
       " 'SecondMinorLocationM6.2.0',\n",
       " 'ContactM6.2.0',\n",
       " 'NonDominantHandshapeM6.2.0',\n",
       " 'UlnarRotationM6.2.0',\n",
       " 'SignType.2.0Frequency',\n",
       " 'MajorLocation.2.0Frequency',\n",
       " 'MinorLocation.2.0Frequency',\n",
       " 'SecondMinorLocation.2.0Frequency',\n",
       " 'Movement.2.0Frequency',\n",
       " 'SelectedFingers.2.0Frequency',\n",
       " 'Flexion.2.0Frequency',\n",
       " 'FlexionChange.2.0Frequency',\n",
       " 'RepeatedMovement.2.0Frequency',\n",
       " 'Contact.2.0Frequency',\n",
       " 'Spread.2.0Frequency',\n",
       " 'SpreadChange.2.0Frequency',\n",
       " 'ThumbContact.2.0Frequency',\n",
       " 'ThumbPosition.2.0Frequency',\n",
       " 'UlnarRotation.2.0Frequency',\n",
       " 'Phonological Complexity',\n",
       " 'PhonotacticProbability',\n",
       " 'Parameter.Neighborhood.Density.2.0',\n",
       " 'Neighborhood Density 2.0',\n",
       " 'SignBankAnnotationID',\n",
       " 'SignBankEnglishTranslations',\n",
       " 'SignBankLemmaID',\n",
       " 'SignBankReferenceID',\n",
       " 'bglm_aoa',\n",
       " 'empirical_aoa',\n",
       " 'HandshapeImage - 100x100',\n",
       " 'HandshapeImage: URL',\n",
       " 'Complexity',\n",
       " 'Parameter.Neighborhood.Density.2.0.1',\n",
       " 'group_id',\n",
       " 'color_code']"
      ]
     },
     "execution_count": 107,
     "metadata": {},
     "output_type": "execute_result"
    }
   ],
   "source": [
    "df_merged_with_color.columns.tolist()"
   ]
  },
  {
   "cell_type": "code",
   "execution_count": 108,
   "metadata": {},
   "outputs": [
    {
     "name": "stdout",
     "output_type": "stream",
     "text": [
      "193\n",
      "dropping NondominantTranslation\n",
      "dropping HandshapeImage - 100x100\n",
      "dropping HandshapeImage: URL\n",
      "dropping Complexity\n",
      "dropping Parameter.Neighborhood.Density.2.0.1\n",
      "dropping group_id\n",
      "dropping color_code\n"
     ]
    },
    {
     "data": {
      "text/plain": [
       "186"
      ]
     },
     "execution_count": 108,
     "metadata": {},
     "output_type": "execute_result"
    }
   ],
   "source": [
    "#### Get rid of morpheme columbs\n",
    "print(len(df_merged_with_color.columns.values))\n",
    "# df_sign = df_sign[['YouTube Video','Code','SignBankEnglishTranslations', \"VimeoVideo\"]]\n",
    "# df_sign = df_sign.rename(columns={\"VimeoVideo\": \"video\"}, errors=\"raise\")\n",
    "# df_sign.head()\n",
    "# df_default = pd.merge(df_default, df_sign,how='left', on=['Code'])\n",
    "\n",
    "test_df = df_merged_with_color\n",
    "# filtered = test_df.filter(regex='M..2.0|Video')\n",
    "for col in test_df.columns:\n",
    "    if col not in cols_in_sign_data_pane:\n",
    "#         if col in test_df.columns:\n",
    "        print(\"dropping \" + col)\n",
    "        test_df = test_df[test_df.columns.drop(col)]\n",
    "\n",
    "no_morphemes_df = test_df\n",
    "len(no_morphemes_df.columns.values)\n",
    "# no_morphemes_df.columns.values"
   ]
  },
  {
   "cell_type": "code",
   "execution_count": 109,
   "metadata": {},
   "outputs": [
    {
     "name": "stdout",
     "output_type": "stream",
     "text": [
      "This column is not present: MarkedHandshape.2.0\n",
      "This column is not present: MarkedHandshapeM2.2.0\n",
      "This column is not present: MarkedHandshapeM3.2.0\n",
      "This column is not present: MarkedHandshapeM4.2.0\n",
      "This column is not present: MarkedHandshapeM5.2.0\n",
      "This column is not present: MarkedHandshapeM6.2.0\n",
      "This column is not present: SignBankSemanticField\n"
     ]
    }
   ],
   "source": [
    "for col in cols_in_sign_data_pane:\n",
    "    if col not in test_df.columns:\n",
    "        print(\"This column is not present: \" + col)"
   ]
  },
  {
   "cell_type": "code",
   "execution_count": 110,
   "metadata": {},
   "outputs": [
    {
     "name": "stdout",
     "output_type": "stream",
     "text": [
      "['List' 'Item' 'SubtLexUSLog10WF' 'SignFrequency(M)' 'SignFrequency(SD)'\n",
      " 'SignFrequency(Z)' 'SignFrequency(N)' 'SignFrequency(M-Native)'\n",
      " 'SignFrequency(SD-Native)' 'SignFreq(Z-native)' 'SignFrequency(N-Native)'\n",
      " 'SignFrequency(M-Nonnative)' 'SignFrequency(SD-Nonnative)'\n",
      " 'SignFrequency(N-Nonnative)' 'SignFreq(Z-Nonnative)' 'PercentUnknown'\n",
      " 'PercentGlossAgreement' 'PercentUnknown(Native)'\n",
      " 'PercentGlossAgreement(Native)' 'PercentUnknown(Nonnative)'\n",
      " 'PercentGlossAgreement(Nonnative)' 'Iconicity(M)' 'Iconicity(SD)'\n",
      " 'Iconicity(Z)' 'Iconicity(N)' 'D.Iconicity(M) all' 'D.Iconicity(SD) all'\n",
      " 'D.Iconicity(N) all' 'D.Iconicity(Z) all' 'D.Iconicity(M) native'\n",
      " 'D.Iconicity(SD) native' 'D.Iconicity(Z) native' 'D.Iconicity(N) native'\n",
      " 'H statistic' 'GuessAccuracy' 'Transparency(M)' 'Transparency SD'\n",
      " 'Transparency Z' 'SignOnset(ms)' 'SignOffset(ms)' 'SignDuration(ms)'\n",
      " 'ClipDuration(ms)' 'Initialized.2.0' 'FingerspelledLoanSign.2.0'\n",
      " 'Compound.2.0' 'NumberOfMorphemes.2.0' 'FlexionChange.2.0' 'Spread.2.0'\n",
      " 'SpreadChange.2.0' 'ThumbContact.2.0' 'RepeatedMovement.2.0'\n",
      " 'Contact.2.0' 'UlnarRotation.2.0' 'FlexionChangeM2.2.0' 'SpreadM2.2.0'\n",
      " 'SpreadChangeM2.2.0' 'ThumbContactM2.2.0' 'RepeatedMovementM2.2.0'\n",
      " 'ContactM2.2.0' 'UlnarRotationM2.2.0' 'FlexionChangeM3.2.0'\n",
      " 'SpreadM3.2.0' 'SpreadChangeM3.2.0' 'ThumbContactM3.2.0'\n",
      " 'RepeatedMovementM3.2.0' 'ContactM3.2.0' 'UlnarRotationM3.2.0'\n",
      " 'FlexionChangeM4.2.0' 'SpreadM4.2.0' 'SpreadChangeM4.2.0'\n",
      " 'ThumbContactM4.2.0' 'RepeatedMovementM4.2.0' 'ContactM4.2.0'\n",
      " 'NonDominantHandshapeM4.2.0' 'UlnarRotationM4.2.0' 'FlexionChangeM5.2.0'\n",
      " 'SpreadM5.2.0' 'SpreadChangeM5.2.0' 'ThumbContactM5.2.0' 'SignTypeM5.2.0'\n",
      " 'MovementM5.2.0' 'RepeatedMovementM5.2.0' 'MajorLocationM5.2.0'\n",
      " 'MinorLocationM5.2.0' 'SecondMinorLocationM5.2.0' 'ContactM5.2.0'\n",
      " 'NonDominantHandshapeM5.2.0' 'UlnarRotationM5.2.0' 'FlexionChangeM6.2.0'\n",
      " 'SpreadM6.2.0' 'SpreadChangeM6.2.0' 'ThumbContactM6.2.0' 'SignTypeM6.2.0'\n",
      " 'MovementM6.2.0' 'RepeatedMovementM6.2.0' 'MajorLocationM6.2.0'\n",
      " 'MinorLocationM6.2.0' 'SecondMinorLocationM6.2.0' 'ContactM6.2.0'\n",
      " 'NonDominantHandshapeM6.2.0' 'UlnarRotationM6.2.0'\n",
      " 'SignType.2.0Frequency' 'MajorLocation.2.0Frequency'\n",
      " 'MinorLocation.2.0Frequency' 'SecondMinorLocation.2.0Frequency'\n",
      " 'Movement.2.0Frequency' 'SelectedFingers.2.0Frequency'\n",
      " 'Flexion.2.0Frequency' 'FlexionChange.2.0Frequency'\n",
      " 'RepeatedMovement.2.0Frequency' 'Contact.2.0Frequency'\n",
      " 'Spread.2.0Frequency' 'SpreadChange.2.0Frequency'\n",
      " 'ThumbContact.2.0Frequency' 'ThumbPosition.2.0Frequency'\n",
      " 'UlnarRotation.2.0Frequency' 'Phonological Complexity'\n",
      " 'PhonotacticProbability' 'Parameter.Neighborhood.Density.2.0'\n",
      " 'Neighborhood Density 2.0' 'SignBankReferenceID' 'bglm_aoa'\n",
      " 'empirical_aoa']\n",
      "['EntryID', 'LemmaID', 'Code', 'Batch', 'Iconicity_ID', 'IconicityType', 'LexicalClass', 'InCDI', 'CDI Semantic Category', 'Handshape.2.0', 'SelectedFingers.2.0', 'Flexion.2.0', 'ThumbPosition.2.0', 'SignType.2.0', 'Movement.2.0', 'MajorLocation.2.0', 'MinorLocation.2.0', 'SecondMinorLocation.2.0', 'NonDominantHandshape.2.0', 'HandshapeM2.2.0', 'SelectedFingersM2.2.0', 'FlexionM2.2.0', 'ThumbPositionM2.2.0', 'SignTypeM2.2.0', 'MovementM2.2.0', 'MajorLocationM2.2.0', 'MinorLocationM2.2.0', 'SecondMinorLocationM2.2.0', 'NonDominantHandshapeM2.2.0', 'HandshapeM3.2.0', 'SelectedFingersM3.2.0', 'FlexionM3.2.0', 'ThumbPositionM3.2.0', 'SignTypeM3.2.0', 'MovementM3.2.0', 'MajorLocationM3.2.0', 'MinorLocationM3.2.0', 'SecondMinorLocationM3.2.0', 'NonDominantHandshapeM3.2.0', 'HandshapeM4.2.0', 'SelectedFingersM4.2.0', 'FlexionM4.2.0', 'ThumbPositionM4.2.0', 'SignTypeM4.2.0', 'MovementM4.2.0', 'MajorLocationM4.2.0', 'MinorLocationM4.2.0', 'SecondMinorLocationM4.2.0', 'HandshapeM5.2.0', 'SelectedFingersM5.2.0', 'FlexionM5.2.0', 'ThumbPositionM5.2.0', 'HandshapeM6.2.0', 'SelectedFingersM6.2.0', 'FlexionM6.2.0', 'ThumbPositionM6.2.0']\n"
     ]
    }
   ],
   "source": [
    "### Add sign constraint range values\n",
    "numerical_attr = no_morphemes_df.select_dtypes(include=['float', 'int']).columns.values\n",
    "categorical_attr = []\n",
    "for column in no_morphemes_df.columns.values:\n",
    "    if column not in numerical_attr and column not in ['YouTube Video', 'VimeoVideoHTML', 'VimeoVideo', 'DominantTranslation', 'SignBankAnnotationID', 'SignBankEnglishTranslations', 'SignBankLemmaID', 'SignBankSemanticField']:\n",
    "        categorical_attr.append(column)   \n",
    "print(numerical_attr)\n",
    "print(categorical_attr)"
   ]
  },
  {
   "cell_type": "code",
   "execution_count": 111,
   "metadata": {
    "scrolled": true
   },
   "outputs": [
    {
     "name": "stdout",
     "output_type": "stream",
     "text": [
      "{'min': 1, 'max': 7}\n"
     ]
    }
   ],
   "source": [
    "import math \n",
    "import pprint\n",
    "\n",
    "constraints = {}\n",
    "for attr in categorical_attr:\n",
    "    if attr not in ['EntryID', 'LemmaID', 'Code', 'Iconicity_ID']:\n",
    "        columnsData = no_morphemes_df.loc[ : , attr ].dropna()\n",
    "        values_set = set(columnsData.values)\n",
    "        constraints[attr] = [*values_set, ]\n",
    "        \n",
    "for attr in numerical_attr:    \n",
    "    #drop nan values \n",
    "    columnsData = no_morphemes_df.loc[ : , attr ].dropna()\n",
    "#     print(columnsData.values)\n",
    "    constraints[attr] = {}  \n",
    "    #print(math.floor(min(list(columnsData))), math.ceil(max(list(columnsData))), attr)\n",
    "    if len(columnsData.values) > 0:\n",
    "        constraints[attr]['min'] = math.floor(min(columnsData.values))\n",
    "        constraints[attr]['max'] = math.ceil(max(columnsData.values))\n",
    "\n",
    "print(constraints[\"Transparency(M)\"])"
   ]
  },
  {
   "cell_type": "code",
   "execution_count": 112,
   "metadata": {},
   "outputs": [
    {
     "data": {
      "text/plain": [
       "Index(['EntryID', 'LemmaID', 'Code', 'Batch', 'List', 'Item', 'YouTube Video',\n",
       "       'VimeoVideoHTML', 'VimeoVideo', 'SubtLexUSLog10WF',\n",
       "       ...\n",
       "       'Phonological Complexity', 'PhonotacticProbability',\n",
       "       'Parameter.Neighborhood.Density.2.0', 'Neighborhood Density 2.0',\n",
       "       'SignBankAnnotationID', 'SignBankEnglishTranslations',\n",
       "       'SignBankLemmaID', 'SignBankReferenceID', 'bglm_aoa', 'empirical_aoa'],\n",
       "      dtype='object', length=186)"
      ]
     },
     "execution_count": 112,
     "metadata": {},
     "output_type": "execute_result"
    }
   ],
   "source": [
    "no_morphemes_df.columns"
   ]
  },
  {
   "cell_type": "code",
   "execution_count": 113,
   "metadata": {},
   "outputs": [
    {
     "data": {
      "text/plain": [
       "{'EntryID': '1_dollar',\n",
       " 'Code': 'C_02_025',\n",
       " 'group_id': 1000.0,\n",
       " 'color_code': '#cbed9a',\n",
       " 'SignFrequency(Z)': -0.728}"
      ]
     },
     "execution_count": 113,
     "metadata": {},
     "output_type": "execute_result"
    }
   ],
   "source": [
    "nodes_json_str = df_node_graph_json_data.to_json(orient=\"records\")\n",
    "nodes_json = json.loads(nodes_json_str)\n",
    "nodes_json[0]\n"
   ]
  },
  {
   "cell_type": "code",
   "execution_count": 114,
   "metadata": {},
   "outputs": [],
   "source": [
    "# write all the data frames to respective json files\n",
    "\n",
    "graph = {\n",
    "    \"nodes\" : nodes_json,\n",
    "    \"links\": edges_json\n",
    "}\n",
    "\n",
    "with open(\"../data/generated-data/graph.json\", 'w') as file:\n",
    "    json.dump(graph, file)\n",
    "    \n",
    "    \n",
    "with open('../data/generated-data/constraints.json', 'w') as fp:\n",
    "    json.dump(constraints, fp)\n",
    "    \n",
    "no_morphemes_df.reset_index().to_json('../data/generated-data/sign_props.json', orient='records')\n"
   ]
  },
  {
   "cell_type": "code",
   "execution_count": 78,
   "metadata": {},
   "outputs": [
    {
     "data": {
      "image/png": "[encoded data removed]",
      "text/plain": [
       "<Figure size 2160x2160 with 1 Axes>"
      ]
     },
     "metadata": {},
     "output_type": "display_data"
    }
   ],
   "source": [
    "#drawing only nodes with edges\n",
    "fig = plt.figure()\n",
    "fig.set_figheight(30)\n",
    "fig.set_figwidth(30)\n",
    "size = float(len(set(partition.values())))\n",
    "pos = nx.spring_layout(G)\n",
    "count = 0.\n",
    "for com in set(partition.values()) :\n",
    "    count = count + 1.\n",
    "    list_nodes = [nodes for nodes in partition.keys()\n",
    "                                if partition[nodes] == com]\n",
    "    nx.draw_networkx_nodes(G, pos, list_nodes, node_size = 20,\n",
    "                                node_color = randomcolor.RandomColor().generate()[0])\n",
    "\n",
    "\n",
    "nx.draw_networkx_edges(G, pos, alpha=0.5)\n",
    "plt.show()"
   ]
  },
  {
   "cell_type": "code",
   "execution_count": 39,
   "metadata": {},
   "outputs": [
    {
     "data": {
      "text/plain": [
       "{'island': '#3cab42',\n",
       " '0': '#08eafe',\n",
       " '127': '#8e81eb',\n",
       " '168': '#52ec50',\n",
       " '116': '#9fdffe',\n",
       " '8': '#2e5561',\n",
       " '125': '#069dcb',\n",
       " '223': '#cb100a',\n",
       " '5': '#93092e',\n",
       " '122': '#b10af3',\n",
       " '44': '#d6e72d',\n",
       " '85': '#e3ff70',\n",
       " '167': '#f3493c',\n",
       " '61': '#10f5f5',\n",
       " '2': '#b81b6e',\n",
       " '4': '#10f051',\n",
       " '261': '#4bd974',\n",
       " '101': '#fce58e',\n",
       " '84': '#f1f43a',\n",
       " '17': '#c229b2',\n",
       " '124': '#58c640',\n",
       " '10': '#57d1b3',\n",
       " '66': '#139e15',\n",
       " '76': '#83e1d0',\n",
       " '141': '#89e991',\n",
       " '56': '#2f7ddf',\n",
       " '93': '#c62ed5',\n",
       " '112': '#59b816',\n",
       " '99': '#4f41f7',\n",
       " '229': '#27895c',\n",
       " '13': '#8ad1f5',\n",
       " '46': '#dbc7af',\n",
       " '9': '#c184b1',\n",
       " '26': '#1d0082',\n",
       " '57': '#beed7a',\n",
       " '172': '#6e254f',\n",
       " '11': '#70290a',\n",
       " '142': '#7808ed',\n",
       " '157': '#39f8af',\n",
       " '60': '#bfe2d5',\n",
       " '41': '#bac23a',\n",
       " '244': '#4558b6',\n",
       " '23': '#a8a9fa',\n",
       " '1': '#c69cb7',\n",
       " '201': '#bca291',\n",
       " '53': '#f51e65',\n",
       " '30': '#613cce',\n",
       " '96': '#022d63',\n",
       " '154': '#6a3fd2',\n",
       " '80': '#d98c99',\n",
       " '255': '#8e2233',\n",
       " '114': '#5619d1',\n",
       " '43': '#639ca2',\n",
       " '196': '#4b8b10',\n",
       " '88': '#d09d28',\n",
       " '200': '#00a06f',\n",
       " '34': '#9fc12e',\n",
       " '256': '#73a16d',\n",
       " '108': '#b7e3af',\n",
       " '119': '#66a51c',\n",
       " '69': '#a3f8b5',\n",
       " '38': '#0628bb',\n",
       " '211': '#03b716',\n",
       " '186': '#2f8112',\n",
       " '105': '#60f969',\n",
       " '54': '#a12072',\n",
       " '37': '#ccf718',\n",
       " '147': '#8190cd',\n",
       " '28': '#2cac22',\n",
       " '47': '#5ce245',\n",
       " '95': '#cde37a',\n",
       " '254': '#294fe3',\n",
       " '133': '#da8e46',\n",
       " '176': '#678256',\n",
       " '241': '#44454e',\n",
       " '51': '#88cd83',\n",
       " '15': '#bc1291',\n",
       " '159': '#34164b',\n",
       " '169': '#6800e8',\n",
       " '67': '#030624',\n",
       " '89': '#0fa47b',\n",
       " '24': '#4922d4',\n",
       " '182': '#2198ad',\n",
       " '210': '#242438',\n",
       " '29': '#483204',\n",
       " '82': '#1b7afd',\n",
       " '97': '#f8e191',\n",
       " '205': '#c131e0',\n",
       " '132': '#c430bf',\n",
       " '148': '#4977f9',\n",
       " '102': '#1e696a',\n",
       " '68': '#c2466b',\n",
       " '98': '#431dd6',\n",
       " '109': '#893f2e',\n",
       " '235': '#6c34ce',\n",
       " '91': '#720b56',\n",
       " '79': '#feb6a0',\n",
       " '128': '#ef486d',\n",
       " '19': '#b62887',\n",
       " '16': '#24573e',\n",
       " '33': '#672e28',\n",
       " '178': '#98f0d4',\n",
       " '20': '#c27c15',\n",
       " '72': '#7f2fa9',\n",
       " '165': '#76b699',\n",
       " '135': '#f18b7e',\n",
       " '25': '#8cc620',\n",
       " '103': '#7d9478',\n",
       " '110': '#d35401',\n",
       " '3': '#642990',\n",
       " '7': '#2ecb03',\n",
       " '100': '#569e1a',\n",
       " '42': '#8b4f64',\n",
       " '177': '#0f1561',\n",
       " '213': '#0b52e6',\n",
       " '131': '#04bf8c',\n",
       " '209': '#8f335c',\n",
       " '151': '#06158e',\n",
       " '189': '#e3782a',\n",
       " '22': '#261a0a',\n",
       " '120': '#b6c245',\n",
       " '188': '#c1b2c1',\n",
       " '224': '#bf0afe',\n",
       " '39': '#c1d85d',\n",
       " '174': '#d6802c',\n",
       " '70': '#0869f9',\n",
       " '18': '#f88814',\n",
       " '160': '#e2b273',\n",
       " '117': '#c6b37b',\n",
       " '180': '#8e1df3',\n",
       " '238': '#159267',\n",
       " '49': '#b198d4',\n",
       " '152': '#7cec65',\n",
       " '155': '#df7d7e',\n",
       " '139': '#802dd2',\n",
       " '162': '#fbc143',\n",
       " '121': '#c0b1aa',\n",
       " '190': '#b09bec',\n",
       " '187': '#c7bf70',\n",
       " '45': '#fe0101',\n",
       " '12': '#b585f8',\n",
       " '266': '#c83847',\n",
       " '233': '#51852d',\n",
       " '71': '#1a0938',\n",
       " '158': '#84ef86',\n",
       " '153': '#ece3a0',\n",
       " '129': '#2ef3e3',\n",
       " '171': '#f7a72b',\n",
       " '247': '#30a31e',\n",
       " '251': '#5e01eb',\n",
       " '260': '#5acf7f',\n",
       " '77': '#c767fa',\n",
       " '31': '#30ef5d',\n",
       " '230': '#94053d',\n",
       " '52': '#74709a',\n",
       " '150': '#97ab34',\n",
       " '35': '#539b67',\n",
       " '226': '#4b04ac',\n",
       " '118': '#114aba',\n",
       " '175': '#f96cd8',\n",
       " '181': '#bfcb63',\n",
       " '149': '#513bba',\n",
       " '83': '#492582',\n",
       " '207': '#f64593',\n",
       " '199': '#688945',\n",
       " '111': '#e498cb',\n",
       " '144': '#0e6f3b',\n",
       " '236': '#fb63b4',\n",
       " '184': '#7f950f',\n",
       " '263': '#c19dad',\n",
       " '75': '#84f0ae',\n",
       " '48': '#13addb',\n",
       " '246': '#68ad10',\n",
       " '123': '#da5ded',\n",
       " '262': '#ef532a',\n",
       " '221': '#9d086a',\n",
       " '63': '#f6016e',\n",
       " '104': '#3cc8a8',\n",
       " '242': '#7c337e',\n",
       " '92': '#62c45b',\n",
       " '220': '#e8b32a',\n",
       " '208': '#2e52b9',\n",
       " '198': '#9c5f2f',\n",
       " '240': '#688649',\n",
       " '94': '#50fe38',\n",
       " '179': '#d35fc1',\n",
       " '218': '#cb8ae2',\n",
       " '115': '#9b44a0',\n",
       " '73': '#bed223',\n",
       " '204': '#ccd7d4',\n",
       " '243': '#bd739a',\n",
       " '55': '#d46cb7',\n",
       " '143': '#e87912',\n",
       " '173': '#56af45',\n",
       " '232': '#301fdd',\n",
       " '62': '#993d77',\n",
       " '166': '#4f389e',\n",
       " '206': '#303d76',\n",
       " '191': '#9de3ac',\n",
       " '219': '#396e93',\n",
       " '268': '#06b6fd',\n",
       " '216': '#31d95f',\n",
       " '130': '#957e80',\n",
       " '225': '#3e9475',\n",
       " '164': '#352503',\n",
       " '215': '#40f6dd',\n",
       " '248': '#d2a9c9',\n",
       " '217': '#186ecf',\n",
       " '234': '#a6c713',\n",
       " '222': '#fdb624',\n",
       " '134': '#84f453',\n",
       " '193': '#ad7e4b',\n",
       " '250': '#075555',\n",
       " '65': '#eb1de3',\n",
       " '192': '#46d79c',\n",
       " '14': '#2c1bdc',\n",
       " '140': '#6bfae2',\n",
       " '156': '#f248a5',\n",
       " '183': '#2cc2e9',\n",
       " '249': '#d63e3e',\n",
       " '74': '#b015ac',\n",
       " '50': '#59bc87',\n",
       " '36': '#8bc2dc',\n",
       " '163': '#6e992c',\n",
       " '161': '#0f5719',\n",
       " '21': '#674d03',\n",
       " '194': '#bdce61',\n",
       " '87': '#8b134b',\n",
       " '81': '#077bee',\n",
       " '253': '#e020aa',\n",
       " '90': '#9abcae',\n",
       " '27': '#162844',\n",
       " '267': '#923ce3',\n",
       " '40': '#07d7f9',\n",
       " '227': '#2edad5',\n",
       " '78': '#0126e1',\n",
       " '146': '#918013',\n",
       " '106': '#cf5c62',\n",
       " '237': '#2bc3b2',\n",
       " '203': '#cf0461',\n",
       " '197': '#8f44a2',\n",
       " '170': '#665a19',\n",
       " '58': '#328e78',\n",
       " '86': '#07b594',\n",
       " '107': '#ad236d',\n",
       " '239': '#c45bbe',\n",
       " '258': '#21dc07',\n",
       " '59': '#9b7549',\n",
       " '136': '#7e31fd',\n",
       " '6': '#2867aa',\n",
       " '264': '#8a5213',\n",
       " '228': '#1779e3',\n",
       " '252': '#1b5ae8',\n",
       " '231': '#f66ea9',\n",
       " '259': '#5ef899',\n",
       " '257': '#e4c9d0',\n",
       " '126': '#ba3826',\n",
       " '185': '#7b99ee',\n",
       " '145': '#441d97',\n",
       " '137': '#410a59',\n",
       " '32': '#4a205e',\n",
       " '214': '#51b9df',\n",
       " '113': '#7fc0d0',\n",
       " '195': '#1a3ed0',\n",
       " '202': '#1726b6',\n",
       " '64': '#5d5fff',\n",
       " '212': '#03815e',\n",
       " '245': '#d60bc8',\n",
       " '138': '#10aeb1',\n",
       " '265': '#a0c37d'}"
      ]
     },
     "execution_count": 39,
     "metadata": {},
     "output_type": "execute_result"
    }
   ],
   "source": [
    "## Code to change color in json\n",
    "color_dictionary\n"
   ]
  },
  {
   "cell_type": "code",
   "execution_count": 40,
   "metadata": {
    "scrolled": true
   },
   "outputs": [],
   "source": [
    "###Only if you need to edit the graph json files\n",
    "\n",
    "# def filter_dict(d, filter_string):\n",
    "# #     print(filter_string)\n",
    "#     for key, val in d.items():\n",
    "#         if filter_string != key:\n",
    "#             continue\n",
    "#         return key, val\n",
    "\n",
    "# with open('../../visualization/data/graph.json') as graph_json_file:\n",
    "#     data = json.load(graph_json_file)\n",
    "#     for node in data['nodes']:\n",
    "#         if(node['group_id'] == \"\"):\n",
    "#             node['group_id']= \"island\"    \n",
    "# #             print(node)\n",
    "    \n",
    "#     for node in data['nodes']:\n",
    "#         key,val = filter_dict(color_dictionary, str(node['group_id']))\n",
    "#         node['color_code'] = val\n",
    "#         print(node)\n"
   ]
  },
  {
   "cell_type": "code",
   "execution_count": 41,
   "metadata": {},
   "outputs": [],
   "source": [
    "#Resave as JSON\n",
    "\n",
    "# graph = {\n",
    "#     \"nodes\" : data['nodes'],\n",
    "#     \"links\": data['links']\n",
    "# }\n",
    "\n",
    "# with open(\"../generated-data/graph.json\", 'w') as file:\n",
    "#     json.dump(graph, file)"
   ]
  },
  {
   "cell_type": "code",
   "execution_count": 42,
   "metadata": {},
   "outputs": [],
   "source": [
    "import pandas as pd"
   ]
  },
  {
   "cell_type": "code",
   "execution_count": 3,
   "metadata": {},
   "outputs": [],
   "source": [
    "signs_latest_csv = pd.read_csv('../signdata-07-08-2020.csv')"
   ]
  },
  {
   "cell_type": "code",
   "execution_count": 9,
   "metadata": {},
   "outputs": [
    {
     "data": {
      "text/plain": [
       "2.166"
      ]
     },
     "execution_count": 9,
     "metadata": {},
     "output_type": "execute_result"
    }
   ],
   "source": [
    "signs_latest_csv['Iconicity(Z)'].max()"
   ]
  },
  {
   "cell_type": "code",
   "execution_count": null,
   "metadata": {},
   "outputs": [],
   "source": []
  }
 ],
 "metadata": {
  "kernelspec": {
   "display_name": "Python 3",
   "language": "python",
   "name": "python3"
  },
  "language_info": {
   "codemirror_mode": {
    "name": "ipython",
    "version": 3
   },
   "file_extension": ".py",
   "mimetype": "text/x-python",
   "name": "python",
   "nbconvert_exporter": "python",
   "pygments_lexer": "ipython3",
   "version": "3.7.3"
  }
 },
 "nbformat": 4,
 "nbformat_minor": 2
}
